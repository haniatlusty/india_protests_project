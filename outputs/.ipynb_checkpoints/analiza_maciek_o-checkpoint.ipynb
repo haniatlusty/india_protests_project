{
 "cells": [
  {
   "cell_type": "code",
   "execution_count": 1,
   "id": "6f18312f-5dee-4a37-b39c-99efca81be2f",
   "metadata": {},
   "outputs": [],
   "source": [
    "using StatsKit, Dates, Statistics;"
   ]
  },
  {
   "cell_type": "code",
   "execution_count": 47,
   "id": "281419a0-2f7b-4a8e-850c-9e7cd97e7954",
   "metadata": {},
   "outputs": [
    {
     "data": {
      "text/html": [
       "<div class=\"data-frame\"><p>107,690 rows × 10 columns (omitted printing of 4 columns)</p><table class=\"data-frame\"><thead><tr><th></th><th>event_date</th><th>year</th><th>time_precision</th><th>event_type</th><th>sub_event_type</th><th>admin1</th></tr><tr><th></th><th title=\"String31\">String31</th><th title=\"Int64\">Int64</th><th title=\"Int64\">Int64</th><th title=\"String31\">String31</th><th title=\"String63\">String63</th><th title=\"String63\">String63</th></tr></thead><tbody><tr><th>1</th><td>18 March 2022</td><td>2022</td><td>1</td><td>Riots</td><td>Mob violence</td><td>Uttar Pradesh</td></tr><tr><th>2</th><td>18 March 2022</td><td>2022</td><td>1</td><td>Protests</td><td>Peaceful protest</td><td>Maharashtra</td></tr><tr><th>3</th><td>18 March 2022</td><td>2022</td><td>1</td><td>Protests</td><td>Peaceful protest</td><td>Punjab</td></tr><tr><th>4</th><td>18 March 2022</td><td>2022</td><td>1</td><td>Protests</td><td>Peaceful protest</td><td>Madhya Pradesh</td></tr><tr><th>5</th><td>18 March 2022</td><td>2022</td><td>1</td><td>Riots</td><td>Mob violence</td><td>Madhya Pradesh</td></tr><tr><th>6</th><td>18 March 2022</td><td>2022</td><td>1</td><td>Riots</td><td>Mob violence</td><td>Madhya Pradesh</td></tr><tr><th>7</th><td>18 March 2022</td><td>2022</td><td>2</td><td>Protests</td><td>Peaceful protest</td><td>Telangana</td></tr><tr><th>8</th><td>18 March 2022</td><td>2022</td><td>2</td><td>Protests</td><td>Peaceful protest</td><td>Telangana</td></tr><tr><th>9</th><td>18 March 2022</td><td>2022</td><td>2</td><td>Protests</td><td>Peaceful protest</td><td>Telangana</td></tr><tr><th>10</th><td>18 March 2022</td><td>2022</td><td>2</td><td>Protests</td><td>Peaceful protest</td><td>Telangana</td></tr><tr><th>11</th><td>18 March 2022</td><td>2022</td><td>2</td><td>Protests</td><td>Peaceful protest</td><td>Telangana</td></tr><tr><th>12</th><td>18 March 2022</td><td>2022</td><td>1</td><td>Riots</td><td>Violent demonstration</td><td>Kerala</td></tr><tr><th>13</th><td>18 March 2022</td><td>2022</td><td>1</td><td>Protests</td><td>Peaceful protest</td><td>Karnataka</td></tr><tr><th>14</th><td>18 March 2022</td><td>2022</td><td>1</td><td>Protests</td><td>Peaceful protest</td><td>Kerala</td></tr><tr><th>15</th><td>18 March 2022</td><td>2022</td><td>1</td><td>Protests</td><td>Peaceful protest</td><td>Tamil Nadu</td></tr><tr><th>16</th><td>18 March 2022</td><td>2022</td><td>1</td><td>Riots</td><td>Mob violence</td><td>West Bengal</td></tr><tr><th>17</th><td>18 March 2022</td><td>2022</td><td>1</td><td>Riots</td><td>Mob violence</td><td>West Bengal</td></tr><tr><th>18</th><td>17 March 2022</td><td>2022</td><td>1</td><td>Protests</td><td>Peaceful protest</td><td>Jammu and Kashmir</td></tr><tr><th>19</th><td>17 March 2022</td><td>2022</td><td>1</td><td>Protests</td><td>Peaceful protest</td><td>Jammu and Kashmir</td></tr><tr><th>20</th><td>17 March 2022</td><td>2022</td><td>1</td><td>Riots</td><td>Mob violence</td><td>Madhya Pradesh</td></tr><tr><th>21</th><td>17 March 2022</td><td>2022</td><td>1</td><td>Riots</td><td>Mob violence</td><td>Jammu and Kashmir</td></tr><tr><th>22</th><td>17 March 2022</td><td>2022</td><td>1</td><td>Protests</td><td>Peaceful protest</td><td>Jammu and Kashmir</td></tr><tr><th>23</th><td>17 March 2022</td><td>2022</td><td>1</td><td>Protests</td><td>Peaceful protest</td><td>Jammu and Kashmir</td></tr><tr><th>24</th><td>17 March 2022</td><td>2022</td><td>1</td><td>Protests</td><td>Protest with intervention</td><td>Jammu and Kashmir</td></tr><tr><th>25</th><td>17 March 2022</td><td>2022</td><td>1</td><td>Protests</td><td>Peaceful protest</td><td>Telangana</td></tr><tr><th>26</th><td>17 March 2022</td><td>2022</td><td>1</td><td>Protests</td><td>Peaceful protest</td><td>Andhra Pradesh</td></tr><tr><th>27</th><td>17 March 2022</td><td>2022</td><td>1</td><td>Riots</td><td>Mob violence</td><td>Punjab</td></tr><tr><th>28</th><td>17 March 2022</td><td>2022</td><td>1</td><td>Protests</td><td>Peaceful protest</td><td>Delhi</td></tr><tr><th>29</th><td>17 March 2022</td><td>2022</td><td>1</td><td>Protests</td><td>Peaceful protest</td><td>Jammu and Kashmir</td></tr><tr><th>30</th><td>17 March 2022</td><td>2022</td><td>1</td><td>Protests</td><td>Protest with intervention</td><td>Kerala</td></tr><tr><th>&vellip;</th><td>&vellip;</td><td>&vellip;</td><td>&vellip;</td><td>&vellip;</td><td>&vellip;</td><td>&vellip;</td></tr></tbody></table></div>"
      ],
      "text/latex": [
       "\\begin{tabular}{r|ccccccc}\n",
       "\t& event\\_date & year & time\\_precision & event\\_type & sub\\_event\\_type & admin1 & \\\\\n",
       "\t\\hline\n",
       "\t& String31 & Int64 & Int64 & String31 & String63 & String63 & \\\\\n",
       "\t\\hline\n",
       "\t1 & 18 March 2022 & 2022 & 1 & Riots & Mob violence & Uttar Pradesh & $\\dots$ \\\\\n",
       "\t2 & 18 March 2022 & 2022 & 1 & Protests & Peaceful protest & Maharashtra & $\\dots$ \\\\\n",
       "\t3 & 18 March 2022 & 2022 & 1 & Protests & Peaceful protest & Punjab & $\\dots$ \\\\\n",
       "\t4 & 18 March 2022 & 2022 & 1 & Protests & Peaceful protest & Madhya Pradesh & $\\dots$ \\\\\n",
       "\t5 & 18 March 2022 & 2022 & 1 & Riots & Mob violence & Madhya Pradesh & $\\dots$ \\\\\n",
       "\t6 & 18 March 2022 & 2022 & 1 & Riots & Mob violence & Madhya Pradesh & $\\dots$ \\\\\n",
       "\t7 & 18 March 2022 & 2022 & 2 & Protests & Peaceful protest & Telangana & $\\dots$ \\\\\n",
       "\t8 & 18 March 2022 & 2022 & 2 & Protests & Peaceful protest & Telangana & $\\dots$ \\\\\n",
       "\t9 & 18 March 2022 & 2022 & 2 & Protests & Peaceful protest & Telangana & $\\dots$ \\\\\n",
       "\t10 & 18 March 2022 & 2022 & 2 & Protests & Peaceful protest & Telangana & $\\dots$ \\\\\n",
       "\t11 & 18 March 2022 & 2022 & 2 & Protests & Peaceful protest & Telangana & $\\dots$ \\\\\n",
       "\t12 & 18 March 2022 & 2022 & 1 & Riots & Violent demonstration & Kerala & $\\dots$ \\\\\n",
       "\t13 & 18 March 2022 & 2022 & 1 & Protests & Peaceful protest & Karnataka & $\\dots$ \\\\\n",
       "\t14 & 18 March 2022 & 2022 & 1 & Protests & Peaceful protest & Kerala & $\\dots$ \\\\\n",
       "\t15 & 18 March 2022 & 2022 & 1 & Protests & Peaceful protest & Tamil Nadu & $\\dots$ \\\\\n",
       "\t16 & 18 March 2022 & 2022 & 1 & Riots & Mob violence & West Bengal & $\\dots$ \\\\\n",
       "\t17 & 18 March 2022 & 2022 & 1 & Riots & Mob violence & West Bengal & $\\dots$ \\\\\n",
       "\t18 & 17 March 2022 & 2022 & 1 & Protests & Peaceful protest & Jammu and Kashmir & $\\dots$ \\\\\n",
       "\t19 & 17 March 2022 & 2022 & 1 & Protests & Peaceful protest & Jammu and Kashmir & $\\dots$ \\\\\n",
       "\t20 & 17 March 2022 & 2022 & 1 & Riots & Mob violence & Madhya Pradesh & $\\dots$ \\\\\n",
       "\t21 & 17 March 2022 & 2022 & 1 & Riots & Mob violence & Jammu and Kashmir & $\\dots$ \\\\\n",
       "\t22 & 17 March 2022 & 2022 & 1 & Protests & Peaceful protest & Jammu and Kashmir & $\\dots$ \\\\\n",
       "\t23 & 17 March 2022 & 2022 & 1 & Protests & Peaceful protest & Jammu and Kashmir & $\\dots$ \\\\\n",
       "\t24 & 17 March 2022 & 2022 & 1 & Protests & Protest with intervention & Jammu and Kashmir & $\\dots$ \\\\\n",
       "\t25 & 17 March 2022 & 2022 & 1 & Protests & Peaceful protest & Telangana & $\\dots$ \\\\\n",
       "\t26 & 17 March 2022 & 2022 & 1 & Protests & Peaceful protest & Andhra Pradesh & $\\dots$ \\\\\n",
       "\t27 & 17 March 2022 & 2022 & 1 & Riots & Mob violence & Punjab & $\\dots$ \\\\\n",
       "\t28 & 17 March 2022 & 2022 & 1 & Protests & Peaceful protest & Delhi & $\\dots$ \\\\\n",
       "\t29 & 17 March 2022 & 2022 & 1 & Protests & Peaceful protest & Jammu and Kashmir & $\\dots$ \\\\\n",
       "\t30 & 17 March 2022 & 2022 & 1 & Protests & Protest with intervention & Kerala & $\\dots$ \\\\\n",
       "\t$\\dots$ & $\\dots$ & $\\dots$ & $\\dots$ & $\\dots$ & $\\dots$ & $\\dots$ &  \\\\\n",
       "\\end{tabular}\n"
      ],
      "text/plain": [
       "\u001b[1m107690×10 DataFrame\u001b[0m\n",
       "\u001b[1m    Row \u001b[0m│\u001b[1m event_date      \u001b[0m\u001b[1m year  \u001b[0m\u001b[1m time_precision \u001b[0m\u001b[1m event_type \u001b[0m\u001b[1m sub_event_type  \u001b[0m ⋯\n",
       "\u001b[1m        \u001b[0m│\u001b[90m String31        \u001b[0m\u001b[90m Int64 \u001b[0m\u001b[90m Int64          \u001b[0m\u001b[90m String31   \u001b[0m\u001b[90m String63        \u001b[0m ⋯\n",
       "────────┼───────────────────────────────────────────────────────────────────────\n",
       "      1 │ 18 March 2022     2022               1  Riots       Mob violence     ⋯\n",
       "      2 │ 18 March 2022     2022               1  Protests    Peaceful protest\n",
       "      3 │ 18 March 2022     2022               1  Protests    Peaceful protest\n",
       "      4 │ 18 March 2022     2022               1  Protests    Peaceful protest\n",
       "      5 │ 18 March 2022     2022               1  Riots       Mob violence     ⋯\n",
       "      6 │ 18 March 2022     2022               1  Riots       Mob violence\n",
       "      7 │ 18 March 2022     2022               2  Protests    Peaceful protest\n",
       "      8 │ 18 March 2022     2022               2  Protests    Peaceful protest\n",
       "      9 │ 18 March 2022     2022               2  Protests    Peaceful protest ⋯\n",
       "     10 │ 18 March 2022     2022               2  Protests    Peaceful protest\n",
       "     11 │ 18 March 2022     2022               2  Protests    Peaceful protest\n",
       "   ⋮    │        ⋮           ⋮          ⋮             ⋮                 ⋮      ⋱\n",
       " 107681 │ 01 January 2016   2016               1  Protests    Peaceful protest\n",
       " 107682 │ 01 January 2016   2016               1  Riots       Mob violence     ⋯\n",
       " 107683 │ 01 January 2016   2016               1  Protests    Peaceful protest\n",
       " 107684 │ 01 January 2016   2016               1  Protests    Peaceful protest\n",
       " 107685 │ 01 January 2016   2016               1  Protests    Peaceful protest\n",
       " 107686 │ 01 January 2016   2016               1  Protests    Peaceful protest ⋯\n",
       " 107687 │ 01 January 2016   2016               1  Battles     Armed clash\n",
       " 107688 │ 01 January 2016   2016               1  Protests    Peaceful protest\n",
       " 107689 │ 01 January 2016   2016               1  Battles     Armed clash\n",
       " 107690 │ 01 January 2016   2016               1  Protests    Peaceful protest ⋯\n",
       "\u001b[36m                                               6 columns and 107669 rows omitted\u001b[0m"
      ]
     },
     "execution_count": 47,
     "metadata": {},
     "output_type": "execute_result"
    }
   ],
   "source": [
    "df = CSV.read(\n",
    "\t\t\"../data/2016-2022.csv\", \n",
    "\t\tselect = [\"year\", \"event_type\", \"sub_event_type\", \"longitude\", \"latitude\", \"fatalities\", \"location\", \"event_date\", \"admin1\", \"time_precision\"], \n",
    "\t\tDataFrame\n",
    "    )"
   ]
  },
  {
   "cell_type": "code",
   "execution_count": 3,
   "id": "eaa7ce1f-6736-4148-964d-a9d5ff31c623",
   "metadata": {},
   "outputs": [
    {
     "data": {
      "text/plain": [
       "date_conversion! (generic function with 1 method)"
      ]
     },
     "execution_count": 3,
     "metadata": {},
     "output_type": "execute_result"
    }
   ],
   "source": [
    "function date_conversion!(df::DataFrame, kind::String)\n",
    "\tdates = df.event_date\n",
    "    dates = Dates.Date.(dates, dateformat\"d U y\")\n",
    "\tif kind == \"month\"\n",
    "\t\tmonths = Dates.monthname.(dates)\n",
    "    \tdf[!,\"month\"] = months\n",
    "\telseif kind == \"day_of_week\"\n",
    "\t\tdays_of_week = Dates.dayname.(dates)\n",
    "    \tdf[!,\"DayOfWeek\"] = days_of_week\n",
    "\telseif kind == \"day\"\n",
    "\t\tdays = Dates.day.(dates)\n",
    "    \tdf[!,\"day\"] = days\n",
    "\telse\n",
    "\t\tthrow(ArgumentError(kind, \"kind must be either \\\"month\\\", \\\"day_of_week\\\", or \\\"dat\\\". \"))\n",
    "\tend\n",
    "\treturn df \n",
    "end\n"
   ]
  },
  {
   "cell_type": "code",
   "execution_count": 26,
   "id": "65311176-4bae-4252-a075-250c2a5e691f",
   "metadata": {},
   "outputs": [],
   "source": [
    "function filter_data(data::DataFrame, param::Symbol, value)\n",
    "\tdf = subset(data, param => x -> x .== value)\n",
    "\treturn df\n",
    "end;"
   ]
  },
  {
   "cell_type": "code",
   "execution_count": 27,
   "id": "c1940622-5198-4d49-be66-0803544237ba",
   "metadata": {},
   "outputs": [],
   "source": [
    "df_2019 = filter_data(df,:year, 2019);"
   ]
  },
  {
   "cell_type": "code",
   "execution_count": 28,
   "id": "5c72bdda-5eab-4c9e-bd61-24aa9342a8d6",
   "metadata": {},
   "outputs": [],
   "source": [
    "date_conversion!(df_2019,\"month\");"
   ]
  },
  {
   "cell_type": "code",
   "execution_count": 29,
   "id": "201859ee-d47b-424e-ab11-d8d1a91b47e2",
   "metadata": {},
   "outputs": [],
   "source": [
    "date_conversion!(df_2019,\"day\");"
   ]
  },
  {
   "cell_type": "code",
   "execution_count": 30,
   "id": "6f41832c-bd44-42cb-a9e7-591af32afabd",
   "metadata": {},
   "outputs": [
    {
     "data": {
      "text/plain": [
       "srednia (generic function with 1 method)"
      ]
     },
     "execution_count": 30,
     "metadata": {},
     "output_type": "execute_result"
    }
   ],
   "source": [
    "function srednia(data,month)\n",
    "    data = filter_data(data,:month,month)\n",
    "    data = groupby(data, :day)\n",
    "    data = combine(data, nrow)\n",
    "    suma = sum(data.nrow)\n",
    "    \n",
    "    srednia = suma/nrow(data)\n",
    "    return srednia\n",
    "    \n",
    "end"
   ]
  },
  {
   "cell_type": "code",
   "execution_count": 31,
   "id": "47d0c07b-0ce8-44fa-8762-cccf3509ae12",
   "metadata": {},
   "outputs": [
    {
     "data": {
      "text/plain": [
       "62.86666666666667"
      ]
     },
     "execution_count": 31,
     "metadata": {},
     "output_type": "execute_result"
    }
   ],
   "source": [
    "mean_April = srednia(df_2019,\"April\") #2019"
   ]
  },
  {
   "cell_type": "code",
   "execution_count": 32,
   "id": "e5d7a415-69ac-42c2-af12-72750c58d42a",
   "metadata": {},
   "outputs": [
    {
     "data": {
      "text/plain": [
       "66.16129032258064"
      ]
     },
     "execution_count": 32,
     "metadata": {},
     "output_type": "execute_result"
    }
   ],
   "source": [
    "mean_May = srednia(df_2019,\"May\") #2019"
   ]
  },
  {
   "cell_type": "code",
   "execution_count": 21,
   "id": "a67518a9-09d9-4ce7-895d-eabb51e98651",
   "metadata": {},
   "outputs": [
    {
     "data": {
      "text/plain": [
       "63.3"
      ]
     },
     "execution_count": 21,
     "metadata": {},
     "output_type": "execute_result"
    }
   ],
   "source": [
    "mean_June = srednia(df_2019,\"June\") #2019"
   ]
  },
  {
   "cell_type": "markdown",
   "id": "c60db630-793f-4c91-bb95-8304ac34fce9",
   "metadata": {},
   "source": [
    "Średnia z trzech miesięcy:"
   ]
  },
  {
   "cell_type": "code",
   "execution_count": 22,
   "id": "7c06ed6f-25dc-44c8-8454-34d83503ae24",
   "metadata": {},
   "outputs": [
    {
     "data": {
      "text/plain": [
       "64.10931899641577"
      ]
     },
     "execution_count": 22,
     "metadata": {},
     "output_type": "execute_result"
    }
   ],
   "source": [
    "mean_basic = (mean_April+mean_May+mean_June)/3"
   ]
  },
  {
   "cell_type": "code",
   "execution_count": 23,
   "id": "8ce2fe89-dc4c-4f45-895f-bf60f7c790c7",
   "metadata": {},
   "outputs": [
    {
     "data": {
      "text/plain": [
       "1.7902190332460892"
      ]
     },
     "execution_count": 23,
     "metadata": {},
     "output_type": "execute_result"
    }
   ],
   "source": [
    "#odchylenie przecietne\n",
    "odchylenieprzecietne = stdm([mean_April,mean_May, mean_June], mean_basic) "
   ]
  },
  {
   "cell_type": "code",
   "execution_count": 24,
   "id": "eb54c4eb-f34b-405c-92f8-e70193c6521e",
   "metadata": {},
   "outputs": [
    {
     "data": {
      "text/plain": [
       "3.204884186996562"
      ]
     },
     "execution_count": 24,
     "metadata": {},
     "output_type": "execute_result"
    }
   ],
   "source": [
    "odchylenieprzecietne^2"
   ]
  },
  {
   "cell_type": "markdown",
   "id": "dc4755cf-6d5c-4fbf-9578-1664b9f53f40",
   "metadata": {},
   "source": [
    "| admin1 | ilosc protestow | <-- na przestrzeni lat 2020/2021 (włącznie)\n"
   ]
  },
  {
   "cell_type": "code",
   "execution_count": 95,
   "id": "3ac506af-498f-4a07-a7e5-34c267419e35",
   "metadata": {},
   "outputs": [],
   "source": [
    "df_agri = df[(df.year .== 2020) .| (df.year .==2021),:];"
   ]
  },
  {
   "cell_type": "code",
   "execution_count": 96,
   "id": "49f29fe0-81b1-4fb8-8125-54ea7289e07f",
   "metadata": {},
   "outputs": [],
   "source": [
    "df_agri_col = groupby(df_agri, :admin1);"
   ]
  },
  {
   "cell_type": "code",
   "execution_count": 97,
   "id": "823b4c10-e886-4e3f-9a01-9d7de31404f4",
   "metadata": {},
   "outputs": [
    {
     "data": {
      "text/html": [
       "<div class=\"data-frame\"><p>35 rows × 2 columns</p><table class=\"data-frame\"><thead><tr><th></th><th>admin1</th><th>num_of_protests</th></tr><tr><th></th><th title=\"String63\">String63</th><th title=\"Int64\">Int64</th></tr></thead><tbody><tr><th>1</th><td>Uttar Pradesh</td><td>1605</td></tr><tr><th>2</th><td>Maharashtra</td><td>1371</td></tr><tr><th>3</th><td>Punjab</td><td>4220</td></tr><tr><th>4</th><td>Madhya Pradesh</td><td>511</td></tr><tr><th>5</th><td>Telangana</td><td>1215</td></tr><tr><th>6</th><td>Kerala</td><td>939</td></tr><tr><th>7</th><td>Karnataka</td><td>1232</td></tr><tr><th>8</th><td>Tamil Nadu</td><td>2255</td></tr><tr><th>9</th><td>West Bengal</td><td>1912</td></tr><tr><th>10</th><td>Jammu and Kashmir</td><td>5386</td></tr><tr><th>11</th><td>Andhra Pradesh</td><td>1364</td></tr><tr><th>12</th><td>Delhi</td><td>883</td></tr><tr><th>13</th><td>Assam</td><td>2599</td></tr><tr><th>14</th><td>Goa</td><td>179</td></tr><tr><th>15</th><td>Jharkhand</td><td>1089</td></tr><tr><th>16</th><td>Himachal Pradesh</td><td>353</td></tr><tr><th>17</th><td>Chandigarh</td><td>366</td></tr><tr><th>18</th><td>Chhattisgarh</td><td>539</td></tr><tr><th>19</th><td>Odisha</td><td>866</td></tr><tr><th>20</th><td>Rajasthan</td><td>540</td></tr><tr><th>21</th><td>Puducherry</td><td>153</td></tr><tr><th>22</th><td>Gujarat</td><td>426</td></tr><tr><th>23</th><td>Bihar</td><td>802</td></tr><tr><th>24</th><td>Tripura</td><td>729</td></tr><tr><th>25</th><td>Arunachal Pradesh</td><td>198</td></tr><tr><th>26</th><td>Mizoram</td><td>36</td></tr><tr><th>27</th><td>Haryana</td><td>1433</td></tr><tr><th>28</th><td>Manipur</td><td>657</td></tr><tr><th>29</th><td>Meghalaya</td><td>222</td></tr><tr><th>30</th><td>Uttarakhand</td><td>562</td></tr><tr><th>&vellip;</th><td>&vellip;</td><td>&vellip;</td></tr></tbody></table></div>"
      ],
      "text/latex": [
       "\\begin{tabular}{r|cc}\n",
       "\t& admin1 & num\\_of\\_protests\\\\\n",
       "\t\\hline\n",
       "\t& String63 & Int64\\\\\n",
       "\t\\hline\n",
       "\t1 & Uttar Pradesh & 1605 \\\\\n",
       "\t2 & Maharashtra & 1371 \\\\\n",
       "\t3 & Punjab & 4220 \\\\\n",
       "\t4 & Madhya Pradesh & 511 \\\\\n",
       "\t5 & Telangana & 1215 \\\\\n",
       "\t6 & Kerala & 939 \\\\\n",
       "\t7 & Karnataka & 1232 \\\\\n",
       "\t8 & Tamil Nadu & 2255 \\\\\n",
       "\t9 & West Bengal & 1912 \\\\\n",
       "\t10 & Jammu and Kashmir & 5386 \\\\\n",
       "\t11 & Andhra Pradesh & 1364 \\\\\n",
       "\t12 & Delhi & 883 \\\\\n",
       "\t13 & Assam & 2599 \\\\\n",
       "\t14 & Goa & 179 \\\\\n",
       "\t15 & Jharkhand & 1089 \\\\\n",
       "\t16 & Himachal Pradesh & 353 \\\\\n",
       "\t17 & Chandigarh & 366 \\\\\n",
       "\t18 & Chhattisgarh & 539 \\\\\n",
       "\t19 & Odisha & 866 \\\\\n",
       "\t20 & Rajasthan & 540 \\\\\n",
       "\t21 & Puducherry & 153 \\\\\n",
       "\t22 & Gujarat & 426 \\\\\n",
       "\t23 & Bihar & 802 \\\\\n",
       "\t24 & Tripura & 729 \\\\\n",
       "\t25 & Arunachal Pradesh & 198 \\\\\n",
       "\t26 & Mizoram & 36 \\\\\n",
       "\t27 & Haryana & 1433 \\\\\n",
       "\t28 & Manipur & 657 \\\\\n",
       "\t29 & Meghalaya & 222 \\\\\n",
       "\t30 & Uttarakhand & 562 \\\\\n",
       "\t$\\dots$ & $\\dots$ & $\\dots$ \\\\\n",
       "\\end{tabular}\n"
      ],
      "text/plain": [
       "\u001b[1m35×2 DataFrame\u001b[0m\n",
       "\u001b[1m Row \u001b[0m│\u001b[1m admin1                      \u001b[0m\u001b[1m num_of_protests \u001b[0m\n",
       "\u001b[1m     \u001b[0m│\u001b[90m String63                    \u001b[0m\u001b[90m Int64           \u001b[0m\n",
       "─────┼──────────────────────────────────────────────\n",
       "   1 │ Uttar Pradesh                           1605\n",
       "   2 │ Maharashtra                             1371\n",
       "   3 │ Punjab                                  4220\n",
       "   4 │ Madhya Pradesh                           511\n",
       "   5 │ Telangana                               1215\n",
       "   6 │ Kerala                                   939\n",
       "   7 │ Karnataka                               1232\n",
       "   8 │ Tamil Nadu                              2255\n",
       "   9 │ West Bengal                             1912\n",
       "  10 │ Jammu and Kashmir                       5386\n",
       "  11 │ Andhra Pradesh                          1364\n",
       "  ⋮  │              ⋮                      ⋮\n",
       "  26 │ Mizoram                                   36\n",
       "  27 │ Haryana                                 1433\n",
       "  28 │ Manipur                                  657\n",
       "  29 │ Meghalaya                                222\n",
       "  30 │ Uttarakhand                              562\n",
       "  31 │ Ladakh                                    72\n",
       "  32 │ Nagaland                                 159\n",
       "  33 │ Sikkim                                    20\n",
       "  34 │ Lakshadweep                                5\n",
       "  35 │ Andaman and Nicobar Islands               27\n",
       "\u001b[36m                                     14 rows omitted\u001b[0m"
      ]
     },
     "execution_count": 97,
     "metadata": {},
     "output_type": "execute_result"
    }
   ],
   "source": [
    "df_agri_col = combine(df_agri_col, nrow .=> :num_of_protests) "
   ]
  },
  {
   "cell_type": "code",
   "execution_count": null,
   "id": "a974e299-41fb-40f1-898b-7e0fccafa050",
   "metadata": {},
   "outputs": [],
   "source": [
    "#Te stany musimy usunąć z naszego df ->\n",
    "#Telangana, Jammu and Kashmir, Delhi, Goa, Jharkhand,Chandigarh, Chhattisgarh, Puducherry, Arunachal Pradesh, \n",
    "#Mizoram Manipur Meghalaya Uttarakhand Ladakh\tNagaland Sikkim Lakshadweep, Andaman and Nicobar Islands"
   ]
  },
  {
   "cell_type": "code",
   "execution_count": 98,
   "id": "b95b517d-1059-40a4-b7b4-123d02e36aa8",
   "metadata": {},
   "outputs": [],
   "source": [
    "wrong_cities = [\"Telangana\", \"Jammu and Kashmir\", \"Delhi\", \"Goa\", \"Arunachal Pradesh\",\"Jharkhand\",\"Chandigarh\", \"Chhattisgarh\", \"Puducherry\", \"Arunachal\",\"Pradesh\", \"Mizoram\", \"Manipur\", \"Meghalaya\", \"Uttarakhand\" ,\"Ladakh\",\"Nagaland\", \"Sikkim\", \"Lakshadweep\", \"Andaman and Nicobar Islands\"];"
   ]
  },
  {
   "cell_type": "code",
   "execution_count": 99,
   "id": "d0e0534a-2dff-4b30-ae04-d8fdce951fee",
   "metadata": {},
   "outputs": [],
   "source": [
    "for city in wrong_cities\n",
    "    df_agri_col = df_agri_col[df_agri_col.admin1 .!= city,:]\n",
    "end"
   ]
  },
  {
   "cell_type": "code",
   "execution_count": 100,
   "id": "9d3e6c65-f006-4343-ace1-f4921094e7fc",
   "metadata": {},
   "outputs": [
    {
     "data": {
      "text/html": [
       "<div class=\"data-frame\"><p>17 rows × 2 columns</p><table class=\"data-frame\"><thead><tr><th></th><th>admin1</th><th>num_of_protests</th></tr><tr><th></th><th title=\"String63\">String63</th><th title=\"Int64\">Int64</th></tr></thead><tbody><tr><th>1</th><td>Uttar Pradesh</td><td>1605</td></tr><tr><th>2</th><td>Maharashtra</td><td>1371</td></tr><tr><th>3</th><td>Punjab</td><td>4220</td></tr><tr><th>4</th><td>Madhya Pradesh</td><td>511</td></tr><tr><th>5</th><td>Kerala</td><td>939</td></tr><tr><th>6</th><td>Karnataka</td><td>1232</td></tr><tr><th>7</th><td>Tamil Nadu</td><td>2255</td></tr><tr><th>8</th><td>West Bengal</td><td>1912</td></tr><tr><th>9</th><td>Andhra Pradesh</td><td>1364</td></tr><tr><th>10</th><td>Assam</td><td>2599</td></tr><tr><th>11</th><td>Himachal Pradesh</td><td>353</td></tr><tr><th>12</th><td>Odisha</td><td>866</td></tr><tr><th>13</th><td>Rajasthan</td><td>540</td></tr><tr><th>14</th><td>Gujarat</td><td>426</td></tr><tr><th>15</th><td>Bihar</td><td>802</td></tr><tr><th>16</th><td>Tripura</td><td>729</td></tr><tr><th>17</th><td>Haryana</td><td>1433</td></tr></tbody></table></div>"
      ],
      "text/latex": [
       "\\begin{tabular}{r|cc}\n",
       "\t& admin1 & num\\_of\\_protests\\\\\n",
       "\t\\hline\n",
       "\t& String63 & Int64\\\\\n",
       "\t\\hline\n",
       "\t1 & Uttar Pradesh & 1605 \\\\\n",
       "\t2 & Maharashtra & 1371 \\\\\n",
       "\t3 & Punjab & 4220 \\\\\n",
       "\t4 & Madhya Pradesh & 511 \\\\\n",
       "\t5 & Kerala & 939 \\\\\n",
       "\t6 & Karnataka & 1232 \\\\\n",
       "\t7 & Tamil Nadu & 2255 \\\\\n",
       "\t8 & West Bengal & 1912 \\\\\n",
       "\t9 & Andhra Pradesh & 1364 \\\\\n",
       "\t10 & Assam & 2599 \\\\\n",
       "\t11 & Himachal Pradesh & 353 \\\\\n",
       "\t12 & Odisha & 866 \\\\\n",
       "\t13 & Rajasthan & 540 \\\\\n",
       "\t14 & Gujarat & 426 \\\\\n",
       "\t15 & Bihar & 802 \\\\\n",
       "\t16 & Tripura & 729 \\\\\n",
       "\t17 & Haryana & 1433 \\\\\n",
       "\\end{tabular}\n"
      ],
      "text/plain": [
       "\u001b[1m17×2 DataFrame\u001b[0m\n",
       "\u001b[1m Row \u001b[0m│\u001b[1m admin1           \u001b[0m\u001b[1m num_of_protests \u001b[0m\n",
       "\u001b[1m     \u001b[0m│\u001b[90m String63         \u001b[0m\u001b[90m Int64           \u001b[0m\n",
       "─────┼───────────────────────────────────\n",
       "   1 │ Uttar Pradesh                1605\n",
       "   2 │ Maharashtra                  1371\n",
       "   3 │ Punjab                       4220\n",
       "   4 │ Madhya Pradesh                511\n",
       "   5 │ Kerala                        939\n",
       "   6 │ Karnataka                    1232\n",
       "   7 │ Tamil Nadu                   2255\n",
       "   8 │ West Bengal                  1912\n",
       "   9 │ Andhra Pradesh               1364\n",
       "  10 │ Assam                        2599\n",
       "  11 │ Himachal Pradesh              353\n",
       "  12 │ Odisha                        866\n",
       "  13 │ Rajasthan                     540\n",
       "  14 │ Gujarat                       426\n",
       "  15 │ Bihar                         802\n",
       "  16 │ Tripura                       729\n",
       "  17 │ Haryana                      1433"
      ]
     },
     "execution_count": 100,
     "metadata": {},
     "output_type": "execute_result"
    }
   ],
   "source": [
    "df_agri_col"
   ]
  },
  {
   "cell_type": "code",
   "execution_count": 115,
   "id": "8f6d1b6d-6ad0-4778-90ce-5223e428c00c",
   "metadata": {},
   "outputs": [],
   "source": [
    "df_agri_col = sort(df_agri_col, :admin1);"
   ]
  },
  {
   "cell_type": "code",
   "execution_count": 114,
   "id": "bd13f8b7-a839-4adc-a14b-9d4feaf3d51b",
   "metadata": {},
   "outputs": [],
   "source": [
    "Nitrogen = [1.55,1.76, missing, 1.71, 1.04, 2.34, 2.05, 1.66, 1.27, 1.40, 1.57, 1.67, missing, 1.34, 1.76, 1.25, 1.67];"
   ]
  },
  {
   "cell_type": "code",
   "execution_count": 113,
   "id": "f26eeca5-7247-419f-9e92-cb6f4db75114",
   "metadata": {},
   "outputs": [],
   "source": [
    "df_agri_col[!,\"Nitrogen\"] = Nitrogen;"
   ]
  },
  {
   "cell_type": "code",
   "execution_count": 112,
   "id": "a7950de6-9d5a-4b5d-8de3-cbea86c4a412",
   "metadata": {},
   "outputs": [],
   "source": [
    "Phosphorus = [1.57,2.13,missing, 1.64,1.20,1.93,1.90,2.35,1.84,1.16,1.54,1.93,missing, 2.11,1.69,1.32,2.05];"
   ]
  },
  {
   "cell_type": "code",
   "execution_count": 111,
   "id": "d4141a68-b548-468e-a8ae-72bc0bd1017f",
   "metadata": {},
   "outputs": [],
   "source": [
    "df_agri_col[!,\"Phosphorus\"] = Phosphorus;"
   ]
  },
  {
   "cell_type": "code",
   "execution_count": 110,
   "id": "0bf32725-a07f-4cd8-af84-6b0f293f1358",
   "metadata": {},
   "outputs": [],
   "source": [
    "Potassium = [2.52,2.14,missing, 2.60,2.05,1.63,2.54,1.98,2.48, 2.66,1.93,2.40,missing, 2.40,1.70, 2.21,2.04];"
   ]
  },
  {
   "cell_type": "code",
   "execution_count": 109,
   "id": "c7eb4eb0-1c1b-43e7-8bf3-c83f2f7f40ab",
   "metadata": {},
   "outputs": [],
   "source": [
    "df_agri_col[!,\"Potassium\"] = Potassium;"
   ]
  },
  {
   "cell_type": "code",
   "execution_count": 108,
   "id": "4df99f62-7324-4aa1-99d8-9f6ddc12d40c",
   "metadata": {},
   "outputs": [
    {
     "data": {
      "text/html": [
       "<div class=\"data-frame\"><p>17 rows × 5 columns</p><table class=\"data-frame\"><thead><tr><th></th><th>admin1</th><th>num_of_protests</th><th>Nitrogen</th><th>Phosphorus</th><th>Potassium</th></tr><tr><th></th><th title=\"String63\">String63</th><th title=\"Int64\">Int64</th><th title=\"Union{Missing, Float64}\">Float64?</th><th title=\"Union{Missing, Float64}\">Float64?</th><th title=\"Union{Missing, Float64}\">Float64?</th></tr></thead><tbody><tr><th>1</th><td>Andhra Pradesh</td><td>1364</td><td>1.55</td><td>1.57</td><td>2.52</td></tr><tr><th>2</th><td>Assam</td><td>2599</td><td>1.76</td><td>2.13</td><td>2.14</td></tr><tr><th>3</th><td>Bihar</td><td>802</td><td><em>missing</em></td><td><em>missing</em></td><td><em>missing</em></td></tr><tr><th>4</th><td>Gujarat</td><td>426</td><td>1.71</td><td>1.64</td><td>2.6</td></tr><tr><th>5</th><td>Haryana</td><td>1433</td><td>1.04</td><td>1.2</td><td>2.05</td></tr><tr><th>6</th><td>Himachal Pradesh</td><td>353</td><td>2.34</td><td>1.93</td><td>1.63</td></tr><tr><th>7</th><td>Karnataka</td><td>1232</td><td>2.05</td><td>1.9</td><td>2.54</td></tr><tr><th>8</th><td>Kerala</td><td>939</td><td>1.66</td><td>2.35</td><td>1.98</td></tr><tr><th>9</th><td>Madhya Pradesh</td><td>511</td><td>1.27</td><td>1.84</td><td>2.48</td></tr><tr><th>10</th><td>Maharashtra</td><td>1371</td><td>1.4</td><td>1.16</td><td>2.66</td></tr><tr><th>11</th><td>Odisha</td><td>866</td><td>1.57</td><td>1.54</td><td>1.93</td></tr><tr><th>12</th><td>Punjab</td><td>4220</td><td>1.67</td><td>1.93</td><td>2.4</td></tr><tr><th>13</th><td>Rajasthan</td><td>540</td><td><em>missing</em></td><td><em>missing</em></td><td><em>missing</em></td></tr><tr><th>14</th><td>Tamil Nadu</td><td>2255</td><td>1.34</td><td>2.11</td><td>2.4</td></tr><tr><th>15</th><td>Tripura</td><td>729</td><td>1.76</td><td>1.69</td><td>1.7</td></tr><tr><th>16</th><td>Uttar Pradesh</td><td>1605</td><td>1.25</td><td>1.32</td><td>2.21</td></tr><tr><th>17</th><td>West Bengal</td><td>1912</td><td>1.67</td><td>2.05</td><td>2.04</td></tr></tbody></table></div>"
      ],
      "text/latex": [
       "\\begin{tabular}{r|ccccc}\n",
       "\t& admin1 & num\\_of\\_protests & Nitrogen & Phosphorus & Potassium\\\\\n",
       "\t\\hline\n",
       "\t& String63 & Int64 & Float64? & Float64? & Float64?\\\\\n",
       "\t\\hline\n",
       "\t1 & Andhra Pradesh & 1364 & 1.55 & 1.57 & 2.52 \\\\\n",
       "\t2 & Assam & 2599 & 1.76 & 2.13 & 2.14 \\\\\n",
       "\t3 & Bihar & 802 & \\emph{missing} & \\emph{missing} & \\emph{missing} \\\\\n",
       "\t4 & Gujarat & 426 & 1.71 & 1.64 & 2.6 \\\\\n",
       "\t5 & Haryana & 1433 & 1.04 & 1.2 & 2.05 \\\\\n",
       "\t6 & Himachal Pradesh & 353 & 2.34 & 1.93 & 1.63 \\\\\n",
       "\t7 & Karnataka & 1232 & 2.05 & 1.9 & 2.54 \\\\\n",
       "\t8 & Kerala & 939 & 1.66 & 2.35 & 1.98 \\\\\n",
       "\t9 & Madhya Pradesh & 511 & 1.27 & 1.84 & 2.48 \\\\\n",
       "\t10 & Maharashtra & 1371 & 1.4 & 1.16 & 2.66 \\\\\n",
       "\t11 & Odisha & 866 & 1.57 & 1.54 & 1.93 \\\\\n",
       "\t12 & Punjab & 4220 & 1.67 & 1.93 & 2.4 \\\\\n",
       "\t13 & Rajasthan & 540 & \\emph{missing} & \\emph{missing} & \\emph{missing} \\\\\n",
       "\t14 & Tamil Nadu & 2255 & 1.34 & 2.11 & 2.4 \\\\\n",
       "\t15 & Tripura & 729 & 1.76 & 1.69 & 1.7 \\\\\n",
       "\t16 & Uttar Pradesh & 1605 & 1.25 & 1.32 & 2.21 \\\\\n",
       "\t17 & West Bengal & 1912 & 1.67 & 2.05 & 2.04 \\\\\n",
       "\\end{tabular}\n"
      ],
      "text/plain": [
       "\u001b[1m17×5 DataFrame\u001b[0m\n",
       "\u001b[1m Row \u001b[0m│\u001b[1m admin1           \u001b[0m\u001b[1m num_of_protests \u001b[0m\u001b[1m Nitrogen   \u001b[0m\u001b[1m Phosphorus \u001b[0m\u001b[1m Potassium  \u001b[0m\n",
       "\u001b[1m     \u001b[0m│\u001b[90m String63         \u001b[0m\u001b[90m Int64           \u001b[0m\u001b[90m Float64?   \u001b[0m\u001b[90m Float64?   \u001b[0m\u001b[90m Float64?   \u001b[0m\n",
       "─────┼───────────────────────────────────────────────────────────────────────\n",
       "   1 │ Andhra Pradesh               1364        1.55        1.57        2.52\n",
       "   2 │ Assam                        2599        1.76        2.13        2.14\n",
       "   3 │ Bihar                         802 \u001b[90m missing    \u001b[0m\u001b[90m missing    \u001b[0m\u001b[90m missing    \u001b[0m\n",
       "   4 │ Gujarat                       426        1.71        1.64        2.6\n",
       "   5 │ Haryana                      1433        1.04        1.2         2.05\n",
       "   6 │ Himachal Pradesh              353        2.34        1.93        1.63\n",
       "   7 │ Karnataka                    1232        2.05        1.9         2.54\n",
       "   8 │ Kerala                        939        1.66        2.35        1.98\n",
       "   9 │ Madhya Pradesh                511        1.27        1.84        2.48\n",
       "  10 │ Maharashtra                  1371        1.4         1.16        2.66\n",
       "  11 │ Odisha                        866        1.57        1.54        1.93\n",
       "  12 │ Punjab                       4220        1.67        1.93        2.4\n",
       "  13 │ Rajasthan                     540 \u001b[90m missing    \u001b[0m\u001b[90m missing    \u001b[0m\u001b[90m missing    \u001b[0m\n",
       "  14 │ Tamil Nadu                   2255        1.34        2.11        2.4\n",
       "  15 │ Tripura                       729        1.76        1.69        1.7\n",
       "  16 │ Uttar Pradesh                1605        1.25        1.32        2.21\n",
       "  17 │ West Bengal                  1912        1.67        2.05        2.04"
      ]
     },
     "execution_count": 108,
     "metadata": {},
     "output_type": "execute_result"
    }
   ],
   "source": [
    "df_agri_col"
   ]
  },
  {
   "cell_type": "code",
   "execution_count": null,
   "id": "233b9f97-3997-477c-bd8b-c3e3cfdd3321",
   "metadata": {},
   "outputs": [],
   "source": []
  },
  {
   "cell_type": "code",
   "execution_count": null,
   "id": "af41462c-f802-41e5-a30a-c37c39f198f4",
   "metadata": {},
   "outputs": [],
   "source": []
  }
 ],
 "metadata": {
  "kernelspec": {
   "display_name": "Julia 1.7.2",
   "language": "julia",
   "name": "julia-1.7"
  },
  "language_info": {
   "file_extension": ".jl",
   "mimetype": "application/julia",
   "name": "julia",
   "version": "1.7.2"
  }
 },
 "nbformat": 4,
 "nbformat_minor": 5
}
