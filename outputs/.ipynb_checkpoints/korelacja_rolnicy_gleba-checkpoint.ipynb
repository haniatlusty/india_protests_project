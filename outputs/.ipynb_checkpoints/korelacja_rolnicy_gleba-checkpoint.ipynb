{
 "cells": [
  {
   "cell_type": "code",
   "execution_count": 1,
   "metadata": {},
   "outputs": [
    {
     "data": {
      "application/vnd.webio.node+json": {
       "children": [],
       "instanceArgs": {
        "namespace": "html",
        "tag": "div"
       },
       "nodeType": "DOM",
       "props": {},
       "type": "node"
      },
      "text/html": [
       "<div style=\"padding: 1em; background-color: #f8d6da; border: 1px solid #f5c6cb; font-weight: bold;\">\n",
       "<p>The WebIO Jupyter extension was not detected. See the\n",
       "<a href=\"https://juliagizmos.github.io/WebIO.jl/latest/providers/ijulia/\" target=\"_blank\">\n",
       "    WebIO Jupyter integration documentation\n",
       "</a>\n",
       "for more information.\n",
       "</div>\n"
      ],
      "text/plain": [
       "WebIO._IJuliaInit()"
      ]
     },
     "metadata": {},
     "output_type": "display_data"
    }
   ],
   "source": [
    "using StatsKit, Dates, Statistics, PlotlyJS;"
   ]
  },
  {
   "cell_type": "code",
   "execution_count": 2,
   "metadata": {},
   "outputs": [
    {
     "data": {
      "text/html": [
       "<div class=\"data-frame\"><p>107,690 rows × 11 columns (omitted printing of 5 columns)</p><table class=\"data-frame\"><thead><tr><th></th><th>event_date</th><th>year</th><th>event_type</th><th>sub_event_type</th><th>interaction</th><th>admin1</th></tr><tr><th></th><th title=\"String31\">String31</th><th title=\"Int64\">Int64</th><th title=\"String31\">String31</th><th title=\"String\">String</th><th title=\"Int64\">Int64</th><th title=\"String\">String</th></tr></thead><tbody><tr><th>1</th><td>18 March 2022</td><td>2022</td><td>Riots</td><td>Mob violence</td><td>55</td><td>Uttar Pradesh</td></tr><tr><th>2</th><td>18 March 2022</td><td>2022</td><td>Protests</td><td>Peaceful protest</td><td>60</td><td>Maharashtra</td></tr><tr><th>3</th><td>18 March 2022</td><td>2022</td><td>Protests</td><td>Peaceful protest</td><td>60</td><td>Punjab</td></tr><tr><th>4</th><td>18 March 2022</td><td>2022</td><td>Protests</td><td>Peaceful protest</td><td>60</td><td>Madhya Pradesh</td></tr><tr><th>5</th><td>18 March 2022</td><td>2022</td><td>Riots</td><td>Mob violence</td><td>57</td><td>Madhya Pradesh</td></tr><tr><th>6</th><td>18 March 2022</td><td>2022</td><td>Riots</td><td>Mob violence</td><td>57</td><td>Madhya Pradesh</td></tr><tr><th>7</th><td>18 March 2022</td><td>2022</td><td>Protests</td><td>Peaceful protest</td><td>60</td><td>Telangana</td></tr><tr><th>8</th><td>18 March 2022</td><td>2022</td><td>Protests</td><td>Peaceful protest</td><td>60</td><td>Telangana</td></tr><tr><th>9</th><td>18 March 2022</td><td>2022</td><td>Protests</td><td>Peaceful protest</td><td>60</td><td>Telangana</td></tr><tr><th>10</th><td>18 March 2022</td><td>2022</td><td>Protests</td><td>Peaceful protest</td><td>60</td><td>Telangana</td></tr><tr><th>11</th><td>18 March 2022</td><td>2022</td><td>Protests</td><td>Peaceful protest</td><td>60</td><td>Telangana</td></tr><tr><th>12</th><td>18 March 2022</td><td>2022</td><td>Riots</td><td>Violent demonstration</td><td>15</td><td>Kerala</td></tr><tr><th>13</th><td>18 March 2022</td><td>2022</td><td>Protests</td><td>Peaceful protest</td><td>60</td><td>Karnataka</td></tr><tr><th>14</th><td>18 March 2022</td><td>2022</td><td>Protests</td><td>Peaceful protest</td><td>60</td><td>Kerala</td></tr><tr><th>15</th><td>18 March 2022</td><td>2022</td><td>Protests</td><td>Peaceful protest</td><td>60</td><td>Tamil Nadu</td></tr><tr><th>16</th><td>18 March 2022</td><td>2022</td><td>Riots</td><td>Mob violence</td><td>15</td><td>West Bengal</td></tr><tr><th>17</th><td>18 March 2022</td><td>2022</td><td>Riots</td><td>Mob violence</td><td>50</td><td>West Bengal</td></tr><tr><th>18</th><td>17 March 2022</td><td>2022</td><td>Protests</td><td>Peaceful protest</td><td>60</td><td>Jammu and Kashmir</td></tr><tr><th>19</th><td>17 March 2022</td><td>2022</td><td>Protests</td><td>Peaceful protest</td><td>60</td><td>Jammu and Kashmir</td></tr><tr><th>20</th><td>17 March 2022</td><td>2022</td><td>Riots</td><td>Mob violence</td><td>55</td><td>Madhya Pradesh</td></tr><tr><th>21</th><td>17 March 2022</td><td>2022</td><td>Riots</td><td>Mob violence</td><td>57</td><td>Jammu and Kashmir</td></tr><tr><th>22</th><td>17 March 2022</td><td>2022</td><td>Protests</td><td>Peaceful protest</td><td>60</td><td>Jammu and Kashmir</td></tr><tr><th>23</th><td>17 March 2022</td><td>2022</td><td>Protests</td><td>Peaceful protest</td><td>60</td><td>Jammu and Kashmir</td></tr><tr><th>24</th><td>17 March 2022</td><td>2022</td><td>Protests</td><td>Protest with intervention</td><td>16</td><td>Jammu and Kashmir</td></tr><tr><th>25</th><td>17 March 2022</td><td>2022</td><td>Protests</td><td>Peaceful protest</td><td>60</td><td>Telangana</td></tr><tr><th>26</th><td>17 March 2022</td><td>2022</td><td>Protests</td><td>Peaceful protest</td><td>60</td><td>Andhra Pradesh</td></tr><tr><th>27</th><td>17 March 2022</td><td>2022</td><td>Riots</td><td>Mob violence</td><td>55</td><td>Punjab</td></tr><tr><th>28</th><td>17 March 2022</td><td>2022</td><td>Protests</td><td>Peaceful protest</td><td>60</td><td>Delhi</td></tr><tr><th>29</th><td>17 March 2022</td><td>2022</td><td>Protests</td><td>Peaceful protest</td><td>60</td><td>Jammu and Kashmir</td></tr><tr><th>30</th><td>17 March 2022</td><td>2022</td><td>Protests</td><td>Protest with intervention</td><td>16</td><td>Kerala</td></tr><tr><th>&vellip;</th><td>&vellip;</td><td>&vellip;</td><td>&vellip;</td><td>&vellip;</td><td>&vellip;</td><td>&vellip;</td></tr></tbody></table></div>"
      ],
      "text/latex": [
       "\\begin{tabular}{r|ccccccc}\n",
       "\t& event\\_date & year & event\\_type & sub\\_event\\_type & interaction & admin1 & \\\\\n",
       "\t\\hline\n",
       "\t& String31 & Int64 & String31 & String & Int64 & String & \\\\\n",
       "\t\\hline\n",
       "\t1 & 18 March 2022 & 2022 & Riots & Mob violence & 55 & Uttar Pradesh & $\\dots$ \\\\\n",
       "\t2 & 18 March 2022 & 2022 & Protests & Peaceful protest & 60 & Maharashtra & $\\dots$ \\\\\n",
       "\t3 & 18 March 2022 & 2022 & Protests & Peaceful protest & 60 & Punjab & $\\dots$ \\\\\n",
       "\t4 & 18 March 2022 & 2022 & Protests & Peaceful protest & 60 & Madhya Pradesh & $\\dots$ \\\\\n",
       "\t5 & 18 March 2022 & 2022 & Riots & Mob violence & 57 & Madhya Pradesh & $\\dots$ \\\\\n",
       "\t6 & 18 March 2022 & 2022 & Riots & Mob violence & 57 & Madhya Pradesh & $\\dots$ \\\\\n",
       "\t7 & 18 March 2022 & 2022 & Protests & Peaceful protest & 60 & Telangana & $\\dots$ \\\\\n",
       "\t8 & 18 March 2022 & 2022 & Protests & Peaceful protest & 60 & Telangana & $\\dots$ \\\\\n",
       "\t9 & 18 March 2022 & 2022 & Protests & Peaceful protest & 60 & Telangana & $\\dots$ \\\\\n",
       "\t10 & 18 March 2022 & 2022 & Protests & Peaceful protest & 60 & Telangana & $\\dots$ \\\\\n",
       "\t11 & 18 March 2022 & 2022 & Protests & Peaceful protest & 60 & Telangana & $\\dots$ \\\\\n",
       "\t12 & 18 March 2022 & 2022 & Riots & Violent demonstration & 15 & Kerala & $\\dots$ \\\\\n",
       "\t13 & 18 March 2022 & 2022 & Protests & Peaceful protest & 60 & Karnataka & $\\dots$ \\\\\n",
       "\t14 & 18 March 2022 & 2022 & Protests & Peaceful protest & 60 & Kerala & $\\dots$ \\\\\n",
       "\t15 & 18 March 2022 & 2022 & Protests & Peaceful protest & 60 & Tamil Nadu & $\\dots$ \\\\\n",
       "\t16 & 18 March 2022 & 2022 & Riots & Mob violence & 15 & West Bengal & $\\dots$ \\\\\n",
       "\t17 & 18 March 2022 & 2022 & Riots & Mob violence & 50 & West Bengal & $\\dots$ \\\\\n",
       "\t18 & 17 March 2022 & 2022 & Protests & Peaceful protest & 60 & Jammu and Kashmir & $\\dots$ \\\\\n",
       "\t19 & 17 March 2022 & 2022 & Protests & Peaceful protest & 60 & Jammu and Kashmir & $\\dots$ \\\\\n",
       "\t20 & 17 March 2022 & 2022 & Riots & Mob violence & 55 & Madhya Pradesh & $\\dots$ \\\\\n",
       "\t21 & 17 March 2022 & 2022 & Riots & Mob violence & 57 & Jammu and Kashmir & $\\dots$ \\\\\n",
       "\t22 & 17 March 2022 & 2022 & Protests & Peaceful protest & 60 & Jammu and Kashmir & $\\dots$ \\\\\n",
       "\t23 & 17 March 2022 & 2022 & Protests & Peaceful protest & 60 & Jammu and Kashmir & $\\dots$ \\\\\n",
       "\t24 & 17 March 2022 & 2022 & Protests & Protest with intervention & 16 & Jammu and Kashmir & $\\dots$ \\\\\n",
       "\t25 & 17 March 2022 & 2022 & Protests & Peaceful protest & 60 & Telangana & $\\dots$ \\\\\n",
       "\t26 & 17 March 2022 & 2022 & Protests & Peaceful protest & 60 & Andhra Pradesh & $\\dots$ \\\\\n",
       "\t27 & 17 March 2022 & 2022 & Riots & Mob violence & 55 & Punjab & $\\dots$ \\\\\n",
       "\t28 & 17 March 2022 & 2022 & Protests & Peaceful protest & 60 & Delhi & $\\dots$ \\\\\n",
       "\t29 & 17 March 2022 & 2022 & Protests & Peaceful protest & 60 & Jammu and Kashmir & $\\dots$ \\\\\n",
       "\t30 & 17 March 2022 & 2022 & Protests & Protest with intervention & 16 & Kerala & $\\dots$ \\\\\n",
       "\t$\\dots$ & $\\dots$ & $\\dots$ & $\\dots$ & $\\dots$ & $\\dots$ & $\\dots$ &  \\\\\n",
       "\\end{tabular}\n"
      ],
      "text/plain": [
       "\u001b[1m107690×11 DataFrame\u001b[0m\n",
       "\u001b[1m    Row \u001b[0m│\u001b[1m event_date      \u001b[0m\u001b[1m year  \u001b[0m\u001b[1m event_type \u001b[0m\u001b[1m sub_event_type        \u001b[0m\u001b[1m interacti\u001b[0m ⋯\n",
       "\u001b[1m        \u001b[0m│\u001b[90m String31        \u001b[0m\u001b[90m Int64 \u001b[0m\u001b[90m String31   \u001b[0m\u001b[90m String                \u001b[0m\u001b[90m Int64    \u001b[0m ⋯\n",
       "────────┼───────────────────────────────────────────────────────────────────────\n",
       "      1 │ 18 March 2022     2022  Riots       Mob violence                     ⋯\n",
       "      2 │ 18 March 2022     2022  Protests    Peaceful protest\n",
       "      3 │ 18 March 2022     2022  Protests    Peaceful protest\n",
       "      4 │ 18 March 2022     2022  Protests    Peaceful protest\n",
       "      5 │ 18 March 2022     2022  Riots       Mob violence                     ⋯\n",
       "      6 │ 18 March 2022     2022  Riots       Mob violence\n",
       "      7 │ 18 March 2022     2022  Protests    Peaceful protest\n",
       "      8 │ 18 March 2022     2022  Protests    Peaceful protest\n",
       "      9 │ 18 March 2022     2022  Protests    Peaceful protest                 ⋯\n",
       "     10 │ 18 March 2022     2022  Protests    Peaceful protest\n",
       "     11 │ 18 March 2022     2022  Protests    Peaceful protest\n",
       "   ⋮    │        ⋮           ⋮        ⋮                 ⋮                 ⋮    ⋱\n",
       " 107681 │ 01 January 2016   2016  Protests    Peaceful protest\n",
       " 107682 │ 01 January 2016   2016  Riots       Mob violence                     ⋯\n",
       " 107683 │ 01 January 2016   2016  Protests    Peaceful protest\n",
       " 107684 │ 01 January 2016   2016  Protests    Peaceful protest\n",
       " 107685 │ 01 January 2016   2016  Protests    Peaceful protest\n",
       " 107686 │ 01 January 2016   2016  Protests    Peaceful protest                 ⋯\n",
       " 107687 │ 01 January 2016   2016  Battles     Armed clash\n",
       " 107688 │ 01 January 2016   2016  Protests    Peaceful protest\n",
       " 107689 │ 01 January 2016   2016  Battles     Armed clash\n",
       " 107690 │ 01 January 2016   2016  Protests    Peaceful protest                 ⋯\n",
       "\u001b[36m                                               7 columns and 107669 rows omitted\u001b[0m"
      ]
     },
     "execution_count": 2,
     "metadata": {},
     "output_type": "execute_result"
    }
   ],
   "source": [
    "dataset = CSV.read(\"../data/2016-2022.csv\", select = [:year,:event_date,:event_type, :sub_event_type, :interaction, :admin1, :location, :latitude, :longitude, :fatalities, :notes], DataFrame)"
   ]
  },
  {
   "cell_type": "code",
   "execution_count": 3,
   "metadata": {},
   "outputs": [],
   "source": [
    "df = select(dataset, [:event_date, :year, :event_type, :interaction, :admin1, :notes]);"
   ]
  },
  {
   "cell_type": "code",
   "execution_count": 4,
   "metadata": {},
   "outputs": [
    {
     "data": {
      "text/plain": [
       "farmers_filter (generic function with 1 method)"
      ]
     },
     "execution_count": 4,
     "metadata": {},
     "output_type": "execute_result"
    }
   ],
   "source": [
    "function farmers_filter(data::String)\n",
    "\tkeywords = [\n",
    "\t\t\"farm\",\n",
    "\t\t\"agricult\",\n",
    "\t\t\"plantat\",\n",
    "\t\t\"dairy\",\n",
    "\t\t\"harvest\",\n",
    "\t\t#\"cultiv\",\n",
    "\t\t#\"crop\"\n",
    "\t]\n",
    "\tany(occursin.(keywords,lowercase(data)))\n",
    "end"
   ]
  },
  {
   "cell_type": "code",
   "execution_count": 5,
   "metadata": {},
   "outputs": [
    {
     "data": {
      "text/plain": [
       "refilter (generic function with 1 method)"
      ]
     },
     "execution_count": 5,
     "metadata": {},
     "output_type": "execute_result"
    }
   ],
   "source": [
    "function refilter(df::DataFrame)\n",
    "\tout = filter(:notes => farmers_filter, df) |> d -> filter(:year => yr -> yr in [2020, 2021], d) |> d -> filter(:event_type => event -> event == \"Protests\", d)\n",
    "end"
   ]
  },
  {
   "cell_type": "code",
   "execution_count": 7,
   "metadata": {},
   "outputs": [],
   "source": [
    "df_farmers = refilter(df)\n",
    "\n",
    "df_agri = groupby(df_farmers, :admin1)\n",
    "df_agri_col = combine(df_farmers, nrow .=> :num_of_protests);"
   ]
  },
  {
   "cell_type": "code",
   "execution_count": 8,
   "metadata": {},
   "outputs": [
    {
     "ename": "LoadError",
     "evalue": "MethodError: no method matching groupby(::GroupedDataFrame{DataFrame}, ::Symbol)\n\u001b[0mClosest candidates are:\n\u001b[0m  groupby(\u001b[91m::AbstractDataFrame\u001b[39m, ::Any; sort, skipmissing) at C:\\Users\\macie\\.julia\\packages\\DataFrames\\MA4YO\\src\\groupeddataframe\\groupeddataframe.jl:211",
     "output_type": "error",
     "traceback": [
      "MethodError: no method matching groupby(::GroupedDataFrame{DataFrame}, ::Symbol)\n\u001b[0mClosest candidates are:\n\u001b[0m  groupby(\u001b[91m::AbstractDataFrame\u001b[39m, ::Any; sort, skipmissing) at C:\\Users\\macie\\.julia\\packages\\DataFrames\\MA4YO\\src\\groupeddataframe\\groupeddataframe.jl:211",
      "",
      "Stacktrace:",
      " [1] top-level scope",
      "   @ In[8]:1",
      " [2] eval",
      "   @ .\\boot.jl:373 [inlined]",
      " [3] include_string(mapexpr::typeof(REPL.softscope), mod::Module, code::String, filename::String)",
      "   @ Base .\\loading.jl:1196"
     ]
    }
   ],
   "source": [
    "df_agri_col = groupby(df_agri, :admin1);"
   ]
  },
  {
   "cell_type": "code",
   "execution_count": 9,
   "metadata": {},
   "outputs": [
    {
     "data": {
      "text/html": [
       "<div class=\"data-frame\"><p>6,716 rows × 6 columns</p><table class=\"data-frame\"><thead><tr><th></th><th>event_date</th><th>year</th><th>event_type</th><th>interaction</th><th>admin1</th><th>notes</th></tr><tr><th></th><th title=\"String31\">String31</th><th title=\"Int64\">Int64</th><th title=\"String31\">String31</th><th title=\"Int64\">Int64</th><th title=\"String\">String</th><th title=\"String\">String</th></tr></thead><tbody><tr><th>1</th><td>31 December 2021</td><td>2021</td><td>Protests</td><td>60</td><td>Punjab</td><td>On 31 December 2021, BKU farmers staged a protest, in Bathinda (Bathinda district, Punjab), demanding compensation for the cotton crop damage and debt waiver for marginal and small farmers. [size=no report]</td></tr><tr><th>2</th><td>31 December 2021</td><td>2021</td><td>Protests</td><td>60</td><td>Punjab</td><td>On 31 December 2021, BKU farmers staged a protest, in Mansa (Mansa district, Punjab), demanding compensation for the cotton crop damage and debt waiver for marginal and small farmers. [size=no report]</td></tr><tr><th>3</th><td>31 December 2021</td><td>2021</td><td>Protests</td><td>60</td><td>Andhra Pradesh</td><td>On 31 December 2021, farmers staged a protest outside the police station in Komarada (Vizianagaram district, Andhra Pradesh) demanding steps by authorities to drive away wild elephants from their areas. [size=no report]</td></tr><tr><th>4</th><td>30 December 2021</td><td>2021</td><td>Protests</td><td>60</td><td>Karnataka</td><td>On 30 December 2021, farmers held a protest near the DC office in Mysuru (Mysuru district, Karnataka) demanding a CPI probe into Nandini ghee adulteration racket. [size=no report]</td></tr><tr><th>5</th><td>29 December 2021</td><td>2021</td><td>Protests</td><td>60</td><td>Punjab</td><td>On 29 December 2021, BKU farmers staged a protest, at the Deputy Commissioner office, in Ludhiana (Ludhiana East, Ludhiana district, Punjab), demanding crop damage compensation and loan waivers. [size=no report]</td></tr><tr><th>6</th><td>29 December 2021</td><td>2021</td><td>Protests</td><td>60</td><td>Punjab</td><td>On 29 December 2021, BKU farmers supported teachers and members of the Government Colleges Guest Faculty Assistant Professors&apos; Association, in Jalandhar (Jalandhar-I, Jalandhar district, Punjab), demanding regularisation of services. [size=no report]</td></tr><tr><th>7</th><td>29 December 2021</td><td>2021</td><td>Protests</td><td>60</td><td>Punjab</td><td>On 29 December 2021, BKU farmers staged a protest, at the Deputy Commissioner office, in Barnala (Barnala district, Punjab), demanding crop damage compensation and loan waivers. [size=no report]</td></tr><tr><th>8</th><td>29 December 2021</td><td>2021</td><td>Protests</td><td>60</td><td>Punjab</td><td>On 29 December 2021, BKU farmers staged a protest, at the Deputy Commissioner office, in Sangrur (Sangrur district, Punjab), demanding crop damage compensation and loan waivers. [size=no report]</td></tr><tr><th>9</th><td>29 December 2021</td><td>2021</td><td>Protests</td><td>16</td><td>Uttar Pradesh</td><td>On 29 December 2021, farmers staged a protest and locked up stray cattle in a village in Shahjahanpur district (Shahjahanpur district, UP), over crop damage. Police arrested around 10 protesters. [size=no report]</td></tr><tr><th>10</th><td>28 December 2021</td><td>2021</td><td>Protests</td><td>60</td><td>Jammu and Kashmir</td><td>On 28 December 2021, farmers along with an INC leader held a protest at Ranbir Singh Pura town (Jammu district, J&amp;K) against the irrigation department over lack of cleaning of a canal leading to overflow of water on the road. [size=no report]</td></tr><tr><th>11</th><td>28 December 2021</td><td>2021</td><td>Protests</td><td>60</td><td>Punjab</td><td>On 28 December 2021, KMSC and BKU farmers staged a protest in Jalandhar (Jalandhar-I, Jalandhar district, Punjab), demanding loan waivers for farmers as promised by the INC in their 2017 electoral manifesto, compensation for crop damage and aid for kin of those who lost their lives in the farmers agitation. [size=no report]</td></tr><tr><th>12</th><td>28 December 2021</td><td>2021</td><td>Protests</td><td>60</td><td>Punjab</td><td>On 28 December 2021, farmers and farm labourers staged a protest, in Maur Mandi (Talwandi Sabo, Bathinda district, Punjab), demanding compensation for cotton crop damage due to pink bollworm attack. [size=no report]</td></tr><tr><th>13</th><td>27 December 2021</td><td>2021</td><td>Protests</td><td>60</td><td>Punjab</td><td>On 27 December 2021, SKM farmers supported around 200 teachers of various colleges and staged a protest, in Jalandhar (Jalandhar-I, Jalandhar district, Punjab), demanding better wages, implementation of new pay commission and regularisation of services. [size=around 200]</td></tr><tr><th>14</th><td>27 December 2021</td><td>2021</td><td>Protests</td><td>60</td><td>Uttar Pradesh</td><td>On 27 December 2021, around 500 farmers staged a protest and held a Mahapanchayat, at Ranhera village (Gautam Buddha Nagar district, UP), demanding better compensation of land for building an airport. [size=around 500]</td></tr><tr><th>15</th><td>27 December 2021</td><td>2021</td><td>Protests</td><td>60</td><td>Jammu and Kashmir</td><td>On 27 December 2021, mission statehood members held a protest at Jammu city (J&amp;K) to demand restoration of statehood to J&amp;K and against the conversion of agricultural land into commercial land. [size=no report]</td></tr><tr><th>16</th><td>27 December 2021</td><td>2021</td><td>Protests</td><td>60</td><td>Uttar Pradesh</td><td>On 27 December 2021, farmers staged a protest, in Noida (Gautam Buddha Nagar district, UP), demanding regularisation of development work, and allotment of reserved Abadi land. [size=no report]</td></tr><tr><th>17</th><td>24 December 2021</td><td>2021</td><td>Protests</td><td>60</td><td>Punjab</td><td>On 24 December 2021, BKU farmers staged a protest, at the Feroz Gandhi Market in Ludhiana (Ludhiana East, Ludhiana district, Punjab), demanding subsidies for farmers. [size=no report]</td></tr><tr><th>18</th><td>24 December 2021</td><td>2021</td><td>Protests</td><td>60</td><td>Tamil Nadu</td><td>On 24 December 2021, members of Tamil Nadu Vivasaya Sangam led by farmers held a protest march in Dharmapuri (Dharmapuri district, Tamil Nadu) against the government to acquire additional lands for the establishment of SIPCOT industrial estate. [size=no report]</td></tr><tr><th>19</th><td>24 December 2021</td><td>2021</td><td>Protests</td><td>60</td><td>Tripura</td><td>On 24 December 2021, thousands of people under the aegis of CPI(M) and Kisan Morcha (SKM) took out a protest rally in Agartala city (Mohanpur, West Tripura district, Tripura), against various difficulties faced by farmers in the state. [size=thousands]</td></tr><tr><th>20</th><td>23 December 2021</td><td>2021</td><td>Protests</td><td>60</td><td>Jammu and Kashmir</td><td>On 23 December 2021, farmers held a protest at Chak Avtara village in Bishnah tehsil (Kathua district, J&amp;K) against the authorities over not being compensated for road construction over their land. [size=no report]</td></tr><tr><th>21</th><td>23 December 2021</td><td>2021</td><td>Protests</td><td>60</td><td>Punjab</td><td>On 23 December 2021, SKM farmers staged a protest and blocked the railway track, in Jalandhar (Jalandhar-I, Jalandhar district, Punjab), demanding loan waivers for farmers as promised by the INC in their 2017 electoral manifesto, compensation for crop damage and aid for kin of those who lost their lives in the farmers agitation. [size=no report]</td></tr><tr><th>22</th><td>23 December 2021</td><td>2021</td><td>Protests</td><td>60</td><td>Punjab</td><td>On 23 December 2021, BKU farmers staged a protest, at the DC office, in Ludhiana (Ludhiana East, Ludhiana district, Punjab), demanding loan waivers for farmers as promised by the INC in their 2017 electoral manifesto. [size=no report]</td></tr><tr><th>23</th><td>23 December 2021</td><td>2021</td><td>Protests</td><td>60</td><td>Punjab</td><td>On 23 December 2021, BKU and KMSC farmers staged protests and blocked railroads across Punjab, coded as Chandigarh, demanding loan waivers for farmers as promised by the INC in their 2017 electoral manifesto, compensation for crop damage and aid for kin of those who lost their lives in the farmers agitation. [size=no report]</td></tr><tr><th>24</th><td>22 December 2021</td><td>2021</td><td>Protests</td><td>60</td><td>Punjab</td><td>On 22 December 2021, scores of BKU farmers staged a protest, at the DC office in Mansa (Mansa district, Punjab), demanding loan waivers for farmers as promised by the INC in their 2017 electoral manifesto and compensation for damaged cotton crop. [size=scores]</td></tr><tr><th>25</th><td>22 December 2021</td><td>2021</td><td>Protests</td><td>60</td><td>Tamil Nadu</td><td>On 22 December 2021, around 100 members of the Tamil Nadu Sugarcane Farmers Association held a &apos;waiting&apos; protest on the National Cooperative Sugar Mills premises at Alanganallur (Madurai district, Tamil Nadu) demanding for immediate start of cane crushing. [size=around 100]</td></tr><tr><th>26</th><td>22 December 2021</td><td>2021</td><td>Protests</td><td>60</td><td>Haryana</td><td>On 22 December 2021, farmers associated with BKU staged a protest and started a sit-in at the Ramayan toll plaza (Hansi, Hisar district, Haryana), demanding toll waiver for farmers. [size=no report]</td></tr><tr><th>27</th><td>21 December 2021</td><td>2021</td><td>Protests</td><td>60</td><td>Punjab</td><td>On 21 December 2021, BKU farmers staged a protest, at the DC office, in Ludhiana (Ludhiana East, Ludhiana district, Punjab), demanding loan waivers for farmers as promised by the INC in their 2017 electoral manifesto. [size=no report]</td></tr><tr><th>28</th><td>21 December 2021</td><td>2021</td><td>Protests</td><td>60</td><td>Punjab</td><td>On 21 December 2021, BKU farmers staged a protest, at the DC office, in Moga (Moga district, Punjab), demanding loan waivers for farmers as promised by the INC in their 2017 electoral manifesto. [size=no report]</td></tr><tr><th>29</th><td>21 December 2021</td><td>2021</td><td>Protests</td><td>60</td><td>Punjab</td><td>On 21 December 2021, BKU farmers staged a protest, at the DC office in Mansa (Mansa district, Punjab), demanding loan waivers for farmers as promised by the INC in their 2017 electoral manifesto. [size=no report]</td></tr><tr><th>30</th><td>21 December 2021</td><td>2021</td><td>Protests</td><td>60</td><td>Punjab</td><td>On 21 December 2021, BKU farmers staged a protest, at the DC office in Patiala (Patiala district, Punjab), demanding loan waivers for farmers as promised by the INC in their 2017 electoral manifesto. [size=no report]</td></tr><tr><th>&vellip;</th><td>&vellip;</td><td>&vellip;</td><td>&vellip;</td><td>&vellip;</td><td>&vellip;</td><td>&vellip;</td></tr></tbody></table></div>"
      ],
      "text/latex": [
       "\\begin{tabular}{r|cccccc}\n",
       "\t& event\\_date & year & event\\_type & interaction & admin1 & notes\\\\\n",
       "\t\\hline\n",
       "\t& String31 & Int64 & String31 & Int64 & String & String\\\\\n",
       "\t\\hline\n",
       "\t1 & 31 December 2021 & 2021 & Protests & 60 & Punjab & On 31 December 2021, BKU farmers staged a protest, in Bathinda (Bathinda district, Punjab), demanding compensation for the cotton crop damage and debt waiver for marginal and small farmers. [size=no report] \\\\\n",
       "\t2 & 31 December 2021 & 2021 & Protests & 60 & Punjab & On 31 December 2021, BKU farmers staged a protest, in Mansa (Mansa district, Punjab), demanding compensation for the cotton crop damage and debt waiver for marginal and small farmers. [size=no report] \\\\\n",
       "\t3 & 31 December 2021 & 2021 & Protests & 60 & Andhra Pradesh & On 31 December 2021, farmers staged a protest outside the police station in Komarada (Vizianagaram district, Andhra Pradesh) demanding steps by authorities to drive away wild elephants from their areas. [size=no report] \\\\\n",
       "\t4 & 30 December 2021 & 2021 & Protests & 60 & Karnataka & On 30 December 2021, farmers held a protest near the DC office in Mysuru (Mysuru district, Karnataka) demanding a CPI probe into Nandini ghee adulteration racket. [size=no report] \\\\\n",
       "\t5 & 29 December 2021 & 2021 & Protests & 60 & Punjab & On 29 December 2021, BKU farmers staged a protest, at the Deputy Commissioner office, in Ludhiana (Ludhiana East, Ludhiana district, Punjab), demanding crop damage compensation and loan waivers. [size=no report] \\\\\n",
       "\t6 & 29 December 2021 & 2021 & Protests & 60 & Punjab & On 29 December 2021, BKU farmers supported teachers and members of the Government Colleges Guest Faculty Assistant Professors' Association, in Jalandhar (Jalandhar-I, Jalandhar district, Punjab), demanding regularisation of services. [size=no report] \\\\\n",
       "\t7 & 29 December 2021 & 2021 & Protests & 60 & Punjab & On 29 December 2021, BKU farmers staged a protest, at the Deputy Commissioner office, in Barnala (Barnala district, Punjab), demanding crop damage compensation and loan waivers. [size=no report] \\\\\n",
       "\t8 & 29 December 2021 & 2021 & Protests & 60 & Punjab & On 29 December 2021, BKU farmers staged a protest, at the Deputy Commissioner office, in Sangrur (Sangrur district, Punjab), demanding crop damage compensation and loan waivers. [size=no report] \\\\\n",
       "\t9 & 29 December 2021 & 2021 & Protests & 16 & Uttar Pradesh & On 29 December 2021, farmers staged a protest and locked up stray cattle in a village in Shahjahanpur district (Shahjahanpur district, UP), over crop damage. Police arrested around 10 protesters. [size=no report] \\\\\n",
       "\t10 & 28 December 2021 & 2021 & Protests & 60 & Jammu and Kashmir & On 28 December 2021, farmers along with an INC leader held a protest at Ranbir Singh Pura town (Jammu district, J\\&K) against the irrigation department over lack of cleaning of a canal leading to overflow of water on the road. [size=no report] \\\\\n",
       "\t11 & 28 December 2021 & 2021 & Protests & 60 & Punjab & On 28 December 2021, KMSC and BKU farmers staged a protest in Jalandhar (Jalandhar-I, Jalandhar district, Punjab), demanding loan waivers for farmers as promised by the INC in their 2017 electoral manifesto, compensation for crop damage and aid for kin of those who lost their lives in the farmers agitation. [size=no report] \\\\\n",
       "\t12 & 28 December 2021 & 2021 & Protests & 60 & Punjab & On 28 December 2021, farmers and farm labourers staged a protest, in Maur Mandi (Talwandi Sabo, Bathinda district, Punjab), demanding compensation for cotton crop damage due to pink bollworm attack. [size=no report] \\\\\n",
       "\t13 & 27 December 2021 & 2021 & Protests & 60 & Punjab & On 27 December 2021, SKM farmers supported around 200 teachers of various colleges and staged a protest, in Jalandhar (Jalandhar-I, Jalandhar district, Punjab), demanding better wages, implementation of new pay commission and regularisation of services. [size=around 200] \\\\\n",
       "\t14 & 27 December 2021 & 2021 & Protests & 60 & Uttar Pradesh & On 27 December 2021, around 500 farmers staged a protest and held a Mahapanchayat, at Ranhera village (Gautam Buddha Nagar district, UP), demanding better compensation of land for building an airport. [size=around 500] \\\\\n",
       "\t15 & 27 December 2021 & 2021 & Protests & 60 & Jammu and Kashmir & On 27 December 2021, mission statehood members held a protest at Jammu city (J\\&K) to demand restoration of statehood to J\\&K and against the conversion of agricultural land into commercial land. [size=no report] \\\\\n",
       "\t16 & 27 December 2021 & 2021 & Protests & 60 & Uttar Pradesh & On 27 December 2021, farmers staged a protest, in Noida (Gautam Buddha Nagar district, UP), demanding regularisation of development work, and allotment of reserved Abadi land. [size=no report] \\\\\n",
       "\t17 & 24 December 2021 & 2021 & Protests & 60 & Punjab & On 24 December 2021, BKU farmers staged a protest, at the Feroz Gandhi Market in Ludhiana (Ludhiana East, Ludhiana district, Punjab), demanding subsidies for farmers. [size=no report] \\\\\n",
       "\t18 & 24 December 2021 & 2021 & Protests & 60 & Tamil Nadu & On 24 December 2021, members of Tamil Nadu Vivasaya Sangam led by farmers held a protest march in Dharmapuri (Dharmapuri district, Tamil Nadu) against the government to acquire additional lands for the establishment of SIPCOT industrial estate. [size=no report] \\\\\n",
       "\t19 & 24 December 2021 & 2021 & Protests & 60 & Tripura & On 24 December 2021, thousands of people under the aegis of CPI(M) and Kisan Morcha (SKM) took out a protest rally in Agartala city (Mohanpur, West Tripura district, Tripura), against various difficulties faced by farmers in the state. [size=thousands] \\\\\n",
       "\t20 & 23 December 2021 & 2021 & Protests & 60 & Jammu and Kashmir & On 23 December 2021, farmers held a protest at Chak Avtara village in Bishnah tehsil (Kathua district, J\\&K) against the authorities over not being compensated for road construction over their land. [size=no report] \\\\\n",
       "\t21 & 23 December 2021 & 2021 & Protests & 60 & Punjab & On 23 December 2021, SKM farmers staged a protest and blocked the railway track, in Jalandhar (Jalandhar-I, Jalandhar district, Punjab), demanding loan waivers for farmers as promised by the INC in their 2017 electoral manifesto, compensation for crop damage and aid for kin of those who lost their lives in the farmers agitation. [size=no report] \\\\\n",
       "\t22 & 23 December 2021 & 2021 & Protests & 60 & Punjab & On 23 December 2021, BKU farmers staged a protest, at the DC office, in Ludhiana (Ludhiana East, Ludhiana district, Punjab), demanding loan waivers for farmers as promised by the INC in their 2017 electoral manifesto. [size=no report] \\\\\n",
       "\t23 & 23 December 2021 & 2021 & Protests & 60 & Punjab & On 23 December 2021, BKU and KMSC farmers staged protests and blocked railroads across Punjab, coded as Chandigarh, demanding loan waivers for farmers as promised by the INC in their 2017 electoral manifesto, compensation for crop damage and aid for kin of those who lost their lives in the farmers agitation. [size=no report] \\\\\n",
       "\t24 & 22 December 2021 & 2021 & Protests & 60 & Punjab & On 22 December 2021, scores of BKU farmers staged a protest, at the DC office in Mansa (Mansa district, Punjab), demanding loan waivers for farmers as promised by the INC in their 2017 electoral manifesto and compensation for damaged cotton crop. [size=scores] \\\\\n",
       "\t25 & 22 December 2021 & 2021 & Protests & 60 & Tamil Nadu & On 22 December 2021, around 100 members of the Tamil Nadu Sugarcane Farmers Association held a 'waiting' protest on the National Cooperative Sugar Mills premises at Alanganallur (Madurai district, Tamil Nadu) demanding for immediate start of cane crushing. [size=around 100] \\\\\n",
       "\t26 & 22 December 2021 & 2021 & Protests & 60 & Haryana & On 22 December 2021, farmers associated with BKU staged a protest and started a sit-in at the Ramayan toll plaza (Hansi, Hisar district, Haryana), demanding toll waiver for farmers. [size=no report] \\\\\n",
       "\t27 & 21 December 2021 & 2021 & Protests & 60 & Punjab & On 21 December 2021, BKU farmers staged a protest, at the DC office, in Ludhiana (Ludhiana East, Ludhiana district, Punjab), demanding loan waivers for farmers as promised by the INC in their 2017 electoral manifesto. [size=no report] \\\\\n",
       "\t28 & 21 December 2021 & 2021 & Protests & 60 & Punjab & On 21 December 2021, BKU farmers staged a protest, at the DC office, in Moga (Moga district, Punjab), demanding loan waivers for farmers as promised by the INC in their 2017 electoral manifesto. [size=no report] \\\\\n",
       "\t29 & 21 December 2021 & 2021 & Protests & 60 & Punjab & On 21 December 2021, BKU farmers staged a protest, at the DC office in Mansa (Mansa district, Punjab), demanding loan waivers for farmers as promised by the INC in their 2017 electoral manifesto. [size=no report] \\\\\n",
       "\t30 & 21 December 2021 & 2021 & Protests & 60 & Punjab & On 21 December 2021, BKU farmers staged a protest, at the DC office in Patiala (Patiala district, Punjab), demanding loan waivers for farmers as promised by the INC in their 2017 electoral manifesto. [size=no report] \\\\\n",
       "\t$\\dots$ & $\\dots$ & $\\dots$ & $\\dots$ & $\\dots$ & $\\dots$ & $\\dots$ \\\\\n",
       "\\end{tabular}\n"
      ],
      "text/plain": [
       "\u001b[1m6716×6 DataFrame\u001b[0m\n",
       "\u001b[1m  Row \u001b[0m│\u001b[1m event_date       \u001b[0m\u001b[1m year  \u001b[0m\u001b[1m event_type \u001b[0m\u001b[1m interaction \u001b[0m\u001b[1m admin1            \u001b[0m\u001b[1m n\u001b[0m ⋯\n",
       "\u001b[1m      \u001b[0m│\u001b[90m String31         \u001b[0m\u001b[90m Int64 \u001b[0m\u001b[90m String31   \u001b[0m\u001b[90m Int64       \u001b[0m\u001b[90m String            \u001b[0m\u001b[90m S\u001b[0m ⋯\n",
       "──────┼─────────────────────────────────────────────────────────────────────────\n",
       "    1 │ 31 December 2021   2021  Protests             60  Punjab             O ⋯\n",
       "    2 │ 31 December 2021   2021  Protests             60  Punjab             O\n",
       "    3 │ 31 December 2021   2021  Protests             60  Andhra Pradesh     O\n",
       "    4 │ 30 December 2021   2021  Protests             60  Karnataka          O\n",
       "    5 │ 29 December 2021   2021  Protests             60  Punjab             O ⋯\n",
       "    6 │ 29 December 2021   2021  Protests             60  Punjab             O\n",
       "    7 │ 29 December 2021   2021  Protests             60  Punjab             O\n",
       "    8 │ 29 December 2021   2021  Protests             60  Punjab             O\n",
       "    9 │ 29 December 2021   2021  Protests             16  Uttar Pradesh      O ⋯\n",
       "   10 │ 28 December 2021   2021  Protests             60  Jammu and Kashmir  O\n",
       "   11 │ 28 December 2021   2021  Protests             60  Punjab             O\n",
       "  ⋮   │        ⋮            ⋮        ⋮            ⋮               ⋮            ⋱\n",
       " 6707 │ 06 January 2020    2020  Protests             60  Punjab             O\n",
       " 6708 │ 06 January 2020    2020  Protests             60  Punjab             O ⋯\n",
       " 6709 │ 06 January 2020    2020  Protests             60  Andhra Pradesh     O\n",
       " 6710 │ 05 January 2020    2020  Protests             60  Karnataka          O\n",
       " 6711 │ 04 January 2020    2020  Protests             60  Andhra Pradesh     O\n",
       " 6712 │ 04 January 2020    2020  Protests             60  Andhra Pradesh     O ⋯\n",
       " 6713 │ 03 January 2020    2020  Protests             60  Punjab             O\n",
       " 6714 │ 02 January 2020    2020  Protests             16  Karnataka          O\n",
       " 6715 │ 02 January 2020    2020  Protests             60  Karnataka          O\n",
       " 6716 │ 01 January 2020    2020  Protests             60  Andhra Pradesh     O ⋯\n",
       "\u001b[36m                                                  1 column and 6695 rows omitted\u001b[0m"
      ]
     },
     "execution_count": 9,
     "metadata": {},
     "output_type": "execute_result"
    }
   ],
   "source": [
    "df_agri = df[(df.year .== 2020) .| (df.year .==2021),:];\n",
    "df_farmers = refilter(df_agri)"
   ]
  },
  {
   "cell_type": "code",
   "execution_count": 10,
   "metadata": {},
   "outputs": [
    {
     "data": {
      "text/html": [
       "<div class=\"data-frame\"><p>33 rows × 2 columns</p><table class=\"data-frame\"><thead><tr><th></th><th>admin1</th><th>num_of_protests</th></tr><tr><th></th><th title=\"String\">String</th><th title=\"Int64\">Int64</th></tr></thead><tbody><tr><th>1</th><td>Uttar Pradesh</td><td>362</td></tr><tr><th>2</th><td>Maharashtra</td><td>312</td></tr><tr><th>3</th><td>Punjab</td><td>1904</td></tr><tr><th>4</th><td>Madhya Pradesh</td><td>87</td></tr><tr><th>5</th><td>Telangana</td><td>248</td></tr><tr><th>6</th><td>Kerala</td><td>50</td></tr><tr><th>7</th><td>Karnataka</td><td>296</td></tr><tr><th>8</th><td>Tamil Nadu</td><td>470</td></tr><tr><th>9</th><td>West Bengal</td><td>104</td></tr><tr><th>10</th><td>Jammu and Kashmir</td><td>237</td></tr><tr><th>11</th><td>Andhra Pradesh</td><td>176</td></tr><tr><th>12</th><td>Delhi</td><td>337</td></tr><tr><th>13</th><td>Assam</td><td>102</td></tr><tr><th>14</th><td>Goa</td><td>15</td></tr><tr><th>15</th><td>Jharkhand</td><td>235</td></tr><tr><th>16</th><td>Himachal Pradesh</td><td>96</td></tr><tr><th>17</th><td>Chandigarh</td><td>63</td></tr><tr><th>18</th><td>Chhattisgarh</td><td>58</td></tr><tr><th>19</th><td>Odisha</td><td>175</td></tr><tr><th>20</th><td>Rajasthan</td><td>100</td></tr><tr><th>21</th><td>Puducherry</td><td>18</td></tr><tr><th>22</th><td>Gujarat</td><td>42</td></tr><tr><th>23</th><td>Bihar</td><td>159</td></tr><tr><th>24</th><td>Tripura</td><td>41</td></tr><tr><th>25</th><td>Arunachal Pradesh</td><td>6</td></tr><tr><th>26</th><td>Mizoram</td><td>1</td></tr><tr><th>27</th><td>Haryana</td><td>867</td></tr><tr><th>28</th><td>Manipur</td><td>17</td></tr><tr><th>29</th><td>Meghalaya</td><td>4</td></tr><tr><th>30</th><td>Uttarakhand</td><td>128</td></tr><tr><th>&vellip;</th><td>&vellip;</td><td>&vellip;</td></tr></tbody></table></div>"
      ],
      "text/latex": [
       "\\begin{tabular}{r|cc}\n",
       "\t& admin1 & num\\_of\\_protests\\\\\n",
       "\t\\hline\n",
       "\t& String & Int64\\\\\n",
       "\t\\hline\n",
       "\t1 & Uttar Pradesh & 362 \\\\\n",
       "\t2 & Maharashtra & 312 \\\\\n",
       "\t3 & Punjab & 1904 \\\\\n",
       "\t4 & Madhya Pradesh & 87 \\\\\n",
       "\t5 & Telangana & 248 \\\\\n",
       "\t6 & Kerala & 50 \\\\\n",
       "\t7 & Karnataka & 296 \\\\\n",
       "\t8 & Tamil Nadu & 470 \\\\\n",
       "\t9 & West Bengal & 104 \\\\\n",
       "\t10 & Jammu and Kashmir & 237 \\\\\n",
       "\t11 & Andhra Pradesh & 176 \\\\\n",
       "\t12 & Delhi & 337 \\\\\n",
       "\t13 & Assam & 102 \\\\\n",
       "\t14 & Goa & 15 \\\\\n",
       "\t15 & Jharkhand & 235 \\\\\n",
       "\t16 & Himachal Pradesh & 96 \\\\\n",
       "\t17 & Chandigarh & 63 \\\\\n",
       "\t18 & Chhattisgarh & 58 \\\\\n",
       "\t19 & Odisha & 175 \\\\\n",
       "\t20 & Rajasthan & 100 \\\\\n",
       "\t21 & Puducherry & 18 \\\\\n",
       "\t22 & Gujarat & 42 \\\\\n",
       "\t23 & Bihar & 159 \\\\\n",
       "\t24 & Tripura & 41 \\\\\n",
       "\t25 & Arunachal Pradesh & 6 \\\\\n",
       "\t26 & Mizoram & 1 \\\\\n",
       "\t27 & Haryana & 867 \\\\\n",
       "\t28 & Manipur & 17 \\\\\n",
       "\t29 & Meghalaya & 4 \\\\\n",
       "\t30 & Uttarakhand & 128 \\\\\n",
       "\t$\\dots$ & $\\dots$ & $\\dots$ \\\\\n",
       "\\end{tabular}\n"
      ],
      "text/plain": [
       "\u001b[1m33×2 DataFrame\u001b[0m\n",
       "\u001b[1m Row \u001b[0m│\u001b[1m admin1                      \u001b[0m\u001b[1m num_of_protests \u001b[0m\n",
       "\u001b[1m     \u001b[0m│\u001b[90m String                      \u001b[0m\u001b[90m Int64           \u001b[0m\n",
       "─────┼──────────────────────────────────────────────\n",
       "   1 │ Uttar Pradesh                            362\n",
       "   2 │ Maharashtra                              312\n",
       "   3 │ Punjab                                  1904\n",
       "   4 │ Madhya Pradesh                            87\n",
       "   5 │ Telangana                                248\n",
       "   6 │ Kerala                                    50\n",
       "   7 │ Karnataka                                296\n",
       "   8 │ Tamil Nadu                               470\n",
       "   9 │ West Bengal                              104\n",
       "  10 │ Jammu and Kashmir                        237\n",
       "  11 │ Andhra Pradesh                           176\n",
       "  ⋮  │              ⋮                      ⋮\n",
       "  24 │ Tripura                                   41\n",
       "  25 │ Arunachal Pradesh                          6\n",
       "  26 │ Mizoram                                    1\n",
       "  27 │ Haryana                                  867\n",
       "  28 │ Manipur                                   17\n",
       "  29 │ Meghalaya                                  4\n",
       "  30 │ Uttarakhand                              128\n",
       "  31 │ Nagaland                                   2\n",
       "  32 │ Sikkim                                     1\n",
       "  33 │ Andaman and Nicobar Islands                3\n",
       "\u001b[36m                                     12 rows omitted\u001b[0m"
      ]
     },
     "execution_count": 10,
     "metadata": {},
     "output_type": "execute_result"
    }
   ],
   "source": [
    "\n",
    "df_agri_col = groupby(df_farmers, :admin1);\n",
    "\n",
    "df_agri_col = combine(df_agri_col, nrow .=> :num_of_protests) \n"
   ]
  },
  {
   "cell_type": "code",
   "execution_count": 11,
   "metadata": {},
   "outputs": [],
   "source": [
    "wrong_cities = [\"Telangana\", \"Jammu and Kashmir\", \"Delhi\", \"Goa\", \"Arunachal Pradesh\",\"Jharkhand\",\"Chandigarh\", \"Chhattisgarh\", \"Puducherry\", \"Arunachal\",\"Pradesh\", \"Mizoram\", \"Manipur\", \"Meghalaya\", \"Uttarakhand\" ,\"Ladakh\",\"Nagaland\", \"Sikkim\", \"Lakshadweep\", \"Andaman and Nicobar Islands\"];"
   ]
  },
  {
   "cell_type": "code",
   "execution_count": 12,
   "metadata": {},
   "outputs": [],
   "source": [
    "for city in wrong_cities\n",
    "    df_agri_col = df_agri_col[df_agri_col.admin1 .!= city,:]\n",
    "end"
   ]
  },
  {
   "cell_type": "code",
   "execution_count": 13,
   "metadata": {},
   "outputs": [
    {
     "data": {
      "text/html": [
       "<div class=\"data-frame\"><p>17 rows × 2 columns</p><table class=\"data-frame\"><thead><tr><th></th><th>admin1</th><th>num_of_protests</th></tr><tr><th></th><th title=\"String\">String</th><th title=\"Int64\">Int64</th></tr></thead><tbody><tr><th>1</th><td>Uttar Pradesh</td><td>362</td></tr><tr><th>2</th><td>Maharashtra</td><td>312</td></tr><tr><th>3</th><td>Punjab</td><td>1904</td></tr><tr><th>4</th><td>Madhya Pradesh</td><td>87</td></tr><tr><th>5</th><td>Kerala</td><td>50</td></tr><tr><th>6</th><td>Karnataka</td><td>296</td></tr><tr><th>7</th><td>Tamil Nadu</td><td>470</td></tr><tr><th>8</th><td>West Bengal</td><td>104</td></tr><tr><th>9</th><td>Andhra Pradesh</td><td>176</td></tr><tr><th>10</th><td>Assam</td><td>102</td></tr><tr><th>11</th><td>Himachal Pradesh</td><td>96</td></tr><tr><th>12</th><td>Odisha</td><td>175</td></tr><tr><th>13</th><td>Rajasthan</td><td>100</td></tr><tr><th>14</th><td>Gujarat</td><td>42</td></tr><tr><th>15</th><td>Bihar</td><td>159</td></tr><tr><th>16</th><td>Tripura</td><td>41</td></tr><tr><th>17</th><td>Haryana</td><td>867</td></tr></tbody></table></div>"
      ],
      "text/latex": [
       "\\begin{tabular}{r|cc}\n",
       "\t& admin1 & num\\_of\\_protests\\\\\n",
       "\t\\hline\n",
       "\t& String & Int64\\\\\n",
       "\t\\hline\n",
       "\t1 & Uttar Pradesh & 362 \\\\\n",
       "\t2 & Maharashtra & 312 \\\\\n",
       "\t3 & Punjab & 1904 \\\\\n",
       "\t4 & Madhya Pradesh & 87 \\\\\n",
       "\t5 & Kerala & 50 \\\\\n",
       "\t6 & Karnataka & 296 \\\\\n",
       "\t7 & Tamil Nadu & 470 \\\\\n",
       "\t8 & West Bengal & 104 \\\\\n",
       "\t9 & Andhra Pradesh & 176 \\\\\n",
       "\t10 & Assam & 102 \\\\\n",
       "\t11 & Himachal Pradesh & 96 \\\\\n",
       "\t12 & Odisha & 175 \\\\\n",
       "\t13 & Rajasthan & 100 \\\\\n",
       "\t14 & Gujarat & 42 \\\\\n",
       "\t15 & Bihar & 159 \\\\\n",
       "\t16 & Tripura & 41 \\\\\n",
       "\t17 & Haryana & 867 \\\\\n",
       "\\end{tabular}\n"
      ],
      "text/plain": [
       "\u001b[1m17×2 DataFrame\u001b[0m\n",
       "\u001b[1m Row \u001b[0m│\u001b[1m admin1           \u001b[0m\u001b[1m num_of_protests \u001b[0m\n",
       "\u001b[1m     \u001b[0m│\u001b[90m String           \u001b[0m\u001b[90m Int64           \u001b[0m\n",
       "─────┼───────────────────────────────────\n",
       "   1 │ Uttar Pradesh                 362\n",
       "   2 │ Maharashtra                   312\n",
       "   3 │ Punjab                       1904\n",
       "   4 │ Madhya Pradesh                 87\n",
       "   5 │ Kerala                         50\n",
       "   6 │ Karnataka                     296\n",
       "   7 │ Tamil Nadu                    470\n",
       "   8 │ West Bengal                   104\n",
       "   9 │ Andhra Pradesh                176\n",
       "  10 │ Assam                         102\n",
       "  11 │ Himachal Pradesh               96\n",
       "  12 │ Odisha                        175\n",
       "  13 │ Rajasthan                     100\n",
       "  14 │ Gujarat                        42\n",
       "  15 │ Bihar                         159\n",
       "  16 │ Tripura                        41\n",
       "  17 │ Haryana                       867"
      ]
     },
     "execution_count": 13,
     "metadata": {},
     "output_type": "execute_result"
    }
   ],
   "source": [
    "df_agri_col"
   ]
  },
  {
   "cell_type": "code",
   "execution_count": 14,
   "metadata": {},
   "outputs": [
    {
     "data": {
      "text/html": [
       "<div class=\"data-frame\"><p>17 rows × 2 columns</p><table class=\"data-frame\"><thead><tr><th></th><th>admin1</th><th>num_of_protests</th></tr><tr><th></th><th title=\"String\">String</th><th title=\"Int64\">Int64</th></tr></thead><tbody><tr><th>1</th><td>Andhra Pradesh</td><td>176</td></tr><tr><th>2</th><td>Assam</td><td>102</td></tr><tr><th>3</th><td>Bihar</td><td>159</td></tr><tr><th>4</th><td>Gujarat</td><td>42</td></tr><tr><th>5</th><td>Haryana</td><td>867</td></tr><tr><th>6</th><td>Himachal Pradesh</td><td>96</td></tr><tr><th>7</th><td>Karnataka</td><td>296</td></tr><tr><th>8</th><td>Kerala</td><td>50</td></tr><tr><th>9</th><td>Madhya Pradesh</td><td>87</td></tr><tr><th>10</th><td>Maharashtra</td><td>312</td></tr><tr><th>11</th><td>Odisha</td><td>175</td></tr><tr><th>12</th><td>Punjab</td><td>1904</td></tr><tr><th>13</th><td>Rajasthan</td><td>100</td></tr><tr><th>14</th><td>Tamil Nadu</td><td>470</td></tr><tr><th>15</th><td>Tripura</td><td>41</td></tr><tr><th>16</th><td>Uttar Pradesh</td><td>362</td></tr><tr><th>17</th><td>West Bengal</td><td>104</td></tr></tbody></table></div>"
      ],
      "text/latex": [
       "\\begin{tabular}{r|cc}\n",
       "\t& admin1 & num\\_of\\_protests\\\\\n",
       "\t\\hline\n",
       "\t& String & Int64\\\\\n",
       "\t\\hline\n",
       "\t1 & Andhra Pradesh & 176 \\\\\n",
       "\t2 & Assam & 102 \\\\\n",
       "\t3 & Bihar & 159 \\\\\n",
       "\t4 & Gujarat & 42 \\\\\n",
       "\t5 & Haryana & 867 \\\\\n",
       "\t6 & Himachal Pradesh & 96 \\\\\n",
       "\t7 & Karnataka & 296 \\\\\n",
       "\t8 & Kerala & 50 \\\\\n",
       "\t9 & Madhya Pradesh & 87 \\\\\n",
       "\t10 & Maharashtra & 312 \\\\\n",
       "\t11 & Odisha & 175 \\\\\n",
       "\t12 & Punjab & 1904 \\\\\n",
       "\t13 & Rajasthan & 100 \\\\\n",
       "\t14 & Tamil Nadu & 470 \\\\\n",
       "\t15 & Tripura & 41 \\\\\n",
       "\t16 & Uttar Pradesh & 362 \\\\\n",
       "\t17 & West Bengal & 104 \\\\\n",
       "\\end{tabular}\n"
      ],
      "text/plain": [
       "\u001b[1m17×2 DataFrame\u001b[0m\n",
       "\u001b[1m Row \u001b[0m│\u001b[1m admin1           \u001b[0m\u001b[1m num_of_protests \u001b[0m\n",
       "\u001b[1m     \u001b[0m│\u001b[90m String           \u001b[0m\u001b[90m Int64           \u001b[0m\n",
       "─────┼───────────────────────────────────\n",
       "   1 │ Andhra Pradesh                176\n",
       "   2 │ Assam                         102\n",
       "   3 │ Bihar                         159\n",
       "   4 │ Gujarat                        42\n",
       "   5 │ Haryana                       867\n",
       "   6 │ Himachal Pradesh               96\n",
       "   7 │ Karnataka                     296\n",
       "   8 │ Kerala                         50\n",
       "   9 │ Madhya Pradesh                 87\n",
       "  10 │ Maharashtra                   312\n",
       "  11 │ Odisha                        175\n",
       "  12 │ Punjab                       1904\n",
       "  13 │ Rajasthan                     100\n",
       "  14 │ Tamil Nadu                    470\n",
       "  15 │ Tripura                        41\n",
       "  16 │ Uttar Pradesh                 362\n",
       "  17 │ West Bengal                   104"
      ]
     },
     "execution_count": 14,
     "metadata": {},
     "output_type": "execute_result"
    }
   ],
   "source": [
    "df_agri_col = sort(df_agri_col, :admin1)"
   ]
  },
  {
   "cell_type": "code",
   "execution_count": 15,
   "metadata": {},
   "outputs": [],
   "source": [
    "df_agri_col[!,\"Nitrogen\"] = [1.55,1.76, missing, 1.71, 1.04, 2.34, 2.05, 1.66, 1.27, 1.40, 1.57, 1.67, missing, 1.34, 1.76, 1.25, 1.67];"
   ]
  },
  {
   "cell_type": "code",
   "execution_count": 16,
   "metadata": {},
   "outputs": [],
   "source": [
    "df_agri_col[!,\"Phosphorus\"] = [1.57,2.13,missing, 1.64,1.20,1.93,1.90,2.35,1.84,1.16,1.54,1.93,missing, 2.11,1.69,1.32,2.05];"
   ]
  },
  {
   "cell_type": "code",
   "execution_count": 17,
   "metadata": {},
   "outputs": [],
   "source": [
    "df_agri_col[!,\"Potassium\"] = [2.52,2.14,missing, 2.60,2.05,1.63,2.54,1.98,2.48, 2.66,1.93,2.40,missing, 2.40,1.70, 2.21,2.04];"
   ]
  },
  {
   "cell_type": "code",
   "execution_count": 18,
   "metadata": {},
   "outputs": [
    {
     "data": {
      "text/html": [
       "<div class=\"data-frame\"><p>17 rows × 5 columns</p><table class=\"data-frame\"><thead><tr><th></th><th>admin1</th><th>num_of_protests</th><th>Nitrogen</th><th>Phosphorus</th><th>Potassium</th></tr><tr><th></th><th title=\"String\">String</th><th title=\"Int64\">Int64</th><th title=\"Union{Missing, Float64}\">Float64?</th><th title=\"Union{Missing, Float64}\">Float64?</th><th title=\"Union{Missing, Float64}\">Float64?</th></tr></thead><tbody><tr><th>1</th><td>Andhra Pradesh</td><td>176</td><td>1.55</td><td>1.57</td><td>2.52</td></tr><tr><th>2</th><td>Assam</td><td>102</td><td>1.76</td><td>2.13</td><td>2.14</td></tr><tr><th>3</th><td>Bihar</td><td>159</td><td><em>missing</em></td><td><em>missing</em></td><td><em>missing</em></td></tr><tr><th>4</th><td>Gujarat</td><td>42</td><td>1.71</td><td>1.64</td><td>2.6</td></tr><tr><th>5</th><td>Haryana</td><td>867</td><td>1.04</td><td>1.2</td><td>2.05</td></tr><tr><th>6</th><td>Himachal Pradesh</td><td>96</td><td>2.34</td><td>1.93</td><td>1.63</td></tr><tr><th>7</th><td>Karnataka</td><td>296</td><td>2.05</td><td>1.9</td><td>2.54</td></tr><tr><th>8</th><td>Kerala</td><td>50</td><td>1.66</td><td>2.35</td><td>1.98</td></tr><tr><th>9</th><td>Madhya Pradesh</td><td>87</td><td>1.27</td><td>1.84</td><td>2.48</td></tr><tr><th>10</th><td>Maharashtra</td><td>312</td><td>1.4</td><td>1.16</td><td>2.66</td></tr><tr><th>11</th><td>Odisha</td><td>175</td><td>1.57</td><td>1.54</td><td>1.93</td></tr><tr><th>12</th><td>Punjab</td><td>1904</td><td>1.67</td><td>1.93</td><td>2.4</td></tr><tr><th>13</th><td>Rajasthan</td><td>100</td><td><em>missing</em></td><td><em>missing</em></td><td><em>missing</em></td></tr><tr><th>14</th><td>Tamil Nadu</td><td>470</td><td>1.34</td><td>2.11</td><td>2.4</td></tr><tr><th>15</th><td>Tripura</td><td>41</td><td>1.76</td><td>1.69</td><td>1.7</td></tr><tr><th>16</th><td>Uttar Pradesh</td><td>362</td><td>1.25</td><td>1.32</td><td>2.21</td></tr><tr><th>17</th><td>West Bengal</td><td>104</td><td>1.67</td><td>2.05</td><td>2.04</td></tr></tbody></table></div>"
      ],
      "text/latex": [
       "\\begin{tabular}{r|ccccc}\n",
       "\t& admin1 & num\\_of\\_protests & Nitrogen & Phosphorus & Potassium\\\\\n",
       "\t\\hline\n",
       "\t& String & Int64 & Float64? & Float64? & Float64?\\\\\n",
       "\t\\hline\n",
       "\t1 & Andhra Pradesh & 176 & 1.55 & 1.57 & 2.52 \\\\\n",
       "\t2 & Assam & 102 & 1.76 & 2.13 & 2.14 \\\\\n",
       "\t3 & Bihar & 159 & \\emph{missing} & \\emph{missing} & \\emph{missing} \\\\\n",
       "\t4 & Gujarat & 42 & 1.71 & 1.64 & 2.6 \\\\\n",
       "\t5 & Haryana & 867 & 1.04 & 1.2 & 2.05 \\\\\n",
       "\t6 & Himachal Pradesh & 96 & 2.34 & 1.93 & 1.63 \\\\\n",
       "\t7 & Karnataka & 296 & 2.05 & 1.9 & 2.54 \\\\\n",
       "\t8 & Kerala & 50 & 1.66 & 2.35 & 1.98 \\\\\n",
       "\t9 & Madhya Pradesh & 87 & 1.27 & 1.84 & 2.48 \\\\\n",
       "\t10 & Maharashtra & 312 & 1.4 & 1.16 & 2.66 \\\\\n",
       "\t11 & Odisha & 175 & 1.57 & 1.54 & 1.93 \\\\\n",
       "\t12 & Punjab & 1904 & 1.67 & 1.93 & 2.4 \\\\\n",
       "\t13 & Rajasthan & 100 & \\emph{missing} & \\emph{missing} & \\emph{missing} \\\\\n",
       "\t14 & Tamil Nadu & 470 & 1.34 & 2.11 & 2.4 \\\\\n",
       "\t15 & Tripura & 41 & 1.76 & 1.69 & 1.7 \\\\\n",
       "\t16 & Uttar Pradesh & 362 & 1.25 & 1.32 & 2.21 \\\\\n",
       "\t17 & West Bengal & 104 & 1.67 & 2.05 & 2.04 \\\\\n",
       "\\end{tabular}\n"
      ],
      "text/plain": [
       "\u001b[1m17×5 DataFrame\u001b[0m\n",
       "\u001b[1m Row \u001b[0m│\u001b[1m admin1           \u001b[0m\u001b[1m num_of_protests \u001b[0m\u001b[1m Nitrogen   \u001b[0m\u001b[1m Phosphorus \u001b[0m\u001b[1m Potassium  \u001b[0m\n",
       "\u001b[1m     \u001b[0m│\u001b[90m String           \u001b[0m\u001b[90m Int64           \u001b[0m\u001b[90m Float64?   \u001b[0m\u001b[90m Float64?   \u001b[0m\u001b[90m Float64?   \u001b[0m\n",
       "─────┼───────────────────────────────────────────────────────────────────────\n",
       "   1 │ Andhra Pradesh                176        1.55        1.57        2.52\n",
       "   2 │ Assam                         102        1.76        2.13        2.14\n",
       "   3 │ Bihar                         159 \u001b[90m missing    \u001b[0m\u001b[90m missing    \u001b[0m\u001b[90m missing    \u001b[0m\n",
       "   4 │ Gujarat                        42        1.71        1.64        2.6\n",
       "   5 │ Haryana                       867        1.04        1.2         2.05\n",
       "   6 │ Himachal Pradesh               96        2.34        1.93        1.63\n",
       "   7 │ Karnataka                     296        2.05        1.9         2.54\n",
       "   8 │ Kerala                         50        1.66        2.35        1.98\n",
       "   9 │ Madhya Pradesh                 87        1.27        1.84        2.48\n",
       "  10 │ Maharashtra                   312        1.4         1.16        2.66\n",
       "  11 │ Odisha                        175        1.57        1.54        1.93\n",
       "  12 │ Punjab                       1904        1.67        1.93        2.4\n",
       "  13 │ Rajasthan                     100 \u001b[90m missing    \u001b[0m\u001b[90m missing    \u001b[0m\u001b[90m missing    \u001b[0m\n",
       "  14 │ Tamil Nadu                    470        1.34        2.11        2.4\n",
       "  15 │ Tripura                        41        1.76        1.69        1.7\n",
       "  16 │ Uttar Pradesh                 362        1.25        1.32        2.21\n",
       "  17 │ West Bengal                   104        1.67        2.05        2.04"
      ]
     },
     "execution_count": 18,
     "metadata": {},
     "output_type": "execute_result"
    }
   ],
   "source": [
    "df_agri_col"
   ]
  },
  {
   "cell_type": "code",
   "execution_count": 19,
   "metadata": {},
   "outputs": [
    {
     "data": {
      "text/html": [
       "<div class=\"data-frame\"><p>15 rows × 5 columns</p><table class=\"data-frame\"><thead><tr><th></th><th>admin1</th><th>num_of_protests</th><th>Nitrogen</th><th>Phosphorus</th><th>Potassium</th></tr><tr><th></th><th title=\"String\">String</th><th title=\"Int64\">Int64</th><th title=\"Float64\">Float64</th><th title=\"Float64\">Float64</th><th title=\"Float64\">Float64</th></tr></thead><tbody><tr><th>1</th><td>Andhra Pradesh</td><td>176</td><td>1.55</td><td>1.57</td><td>2.52</td></tr><tr><th>2</th><td>Assam</td><td>102</td><td>1.76</td><td>2.13</td><td>2.14</td></tr><tr><th>3</th><td>Gujarat</td><td>42</td><td>1.71</td><td>1.64</td><td>2.6</td></tr><tr><th>4</th><td>Haryana</td><td>867</td><td>1.04</td><td>1.2</td><td>2.05</td></tr><tr><th>5</th><td>Himachal Pradesh</td><td>96</td><td>2.34</td><td>1.93</td><td>1.63</td></tr><tr><th>6</th><td>Karnataka</td><td>296</td><td>2.05</td><td>1.9</td><td>2.54</td></tr><tr><th>7</th><td>Kerala</td><td>50</td><td>1.66</td><td>2.35</td><td>1.98</td></tr><tr><th>8</th><td>Madhya Pradesh</td><td>87</td><td>1.27</td><td>1.84</td><td>2.48</td></tr><tr><th>9</th><td>Maharashtra</td><td>312</td><td>1.4</td><td>1.16</td><td>2.66</td></tr><tr><th>10</th><td>Odisha</td><td>175</td><td>1.57</td><td>1.54</td><td>1.93</td></tr><tr><th>11</th><td>Punjab</td><td>1904</td><td>1.67</td><td>1.93</td><td>2.4</td></tr><tr><th>12</th><td>Tamil Nadu</td><td>470</td><td>1.34</td><td>2.11</td><td>2.4</td></tr><tr><th>13</th><td>Tripura</td><td>41</td><td>1.76</td><td>1.69</td><td>1.7</td></tr><tr><th>14</th><td>Uttar Pradesh</td><td>362</td><td>1.25</td><td>1.32</td><td>2.21</td></tr><tr><th>15</th><td>West Bengal</td><td>104</td><td>1.67</td><td>2.05</td><td>2.04</td></tr></tbody></table></div>"
      ],
      "text/latex": [
       "\\begin{tabular}{r|ccccc}\n",
       "\t& admin1 & num\\_of\\_protests & Nitrogen & Phosphorus & Potassium\\\\\n",
       "\t\\hline\n",
       "\t& String & Int64 & Float64 & Float64 & Float64\\\\\n",
       "\t\\hline\n",
       "\t1 & Andhra Pradesh & 176 & 1.55 & 1.57 & 2.52 \\\\\n",
       "\t2 & Assam & 102 & 1.76 & 2.13 & 2.14 \\\\\n",
       "\t3 & Gujarat & 42 & 1.71 & 1.64 & 2.6 \\\\\n",
       "\t4 & Haryana & 867 & 1.04 & 1.2 & 2.05 \\\\\n",
       "\t5 & Himachal Pradesh & 96 & 2.34 & 1.93 & 1.63 \\\\\n",
       "\t6 & Karnataka & 296 & 2.05 & 1.9 & 2.54 \\\\\n",
       "\t7 & Kerala & 50 & 1.66 & 2.35 & 1.98 \\\\\n",
       "\t8 & Madhya Pradesh & 87 & 1.27 & 1.84 & 2.48 \\\\\n",
       "\t9 & Maharashtra & 312 & 1.4 & 1.16 & 2.66 \\\\\n",
       "\t10 & Odisha & 175 & 1.57 & 1.54 & 1.93 \\\\\n",
       "\t11 & Punjab & 1904 & 1.67 & 1.93 & 2.4 \\\\\n",
       "\t12 & Tamil Nadu & 470 & 1.34 & 2.11 & 2.4 \\\\\n",
       "\t13 & Tripura & 41 & 1.76 & 1.69 & 1.7 \\\\\n",
       "\t14 & Uttar Pradesh & 362 & 1.25 & 1.32 & 2.21 \\\\\n",
       "\t15 & West Bengal & 104 & 1.67 & 2.05 & 2.04 \\\\\n",
       "\\end{tabular}\n"
      ],
      "text/plain": [
       "\u001b[1m15×5 DataFrame\u001b[0m\n",
       "\u001b[1m Row \u001b[0m│\u001b[1m admin1           \u001b[0m\u001b[1m num_of_protests \u001b[0m\u001b[1m Nitrogen \u001b[0m\u001b[1m Phosphorus \u001b[0m\u001b[1m Potassium \u001b[0m\n",
       "\u001b[1m     \u001b[0m│\u001b[90m String           \u001b[0m\u001b[90m Int64           \u001b[0m\u001b[90m Float64  \u001b[0m\u001b[90m Float64    \u001b[0m\u001b[90m Float64   \u001b[0m\n",
       "─────┼────────────────────────────────────────────────────────────────────\n",
       "   1 │ Andhra Pradesh                176      1.55        1.57       2.52\n",
       "   2 │ Assam                         102      1.76        2.13       2.14\n",
       "   3 │ Gujarat                        42      1.71        1.64       2.6\n",
       "   4 │ Haryana                       867      1.04        1.2        2.05\n",
       "   5 │ Himachal Pradesh               96      2.34        1.93       1.63\n",
       "   6 │ Karnataka                     296      2.05        1.9        2.54\n",
       "   7 │ Kerala                         50      1.66        2.35       1.98\n",
       "   8 │ Madhya Pradesh                 87      1.27        1.84       2.48\n",
       "   9 │ Maharashtra                   312      1.4         1.16       2.66\n",
       "  10 │ Odisha                        175      1.57        1.54       1.93\n",
       "  11 │ Punjab                       1904      1.67        1.93       2.4\n",
       "  12 │ Tamil Nadu                    470      1.34        2.11       2.4\n",
       "  13 │ Tripura                        41      1.76        1.69       1.7\n",
       "  14 │ Uttar Pradesh                 362      1.25        1.32       2.21\n",
       "  15 │ West Bengal                   104      1.67        2.05       2.04"
      ]
     },
     "execution_count": 19,
     "metadata": {},
     "output_type": "execute_result"
    }
   ],
   "source": [
    "agri_col_cleansed = dropmissing(df_agri_col)"
   ]
  },
  {
   "cell_type": "code",
   "execution_count": 20,
   "metadata": {},
   "outputs": [
    {
     "data": {
      "application/vnd.plotly.v1+json": {
       "config": {
        "editable": false,
        "responsive": true,
        "scrollZoom": true,
        "showLink": false,
        "staticPlot": false
       },
       "data": [
        {
         "mode": "markers",
         "type": "scatter",
         "x": [
          1.55,
          1.76,
          1.71,
          1.04,
          2.34,
          2.05,
          1.66,
          1.27,
          1.4,
          1.57,
          1.67,
          1.34,
          1.76,
          1.25,
          1.67
         ],
         "y": [
          176,
          102,
          42,
          867,
          96,
          296,
          50,
          87,
          312,
          175,
          1904,
          470,
          41,
          362,
          104
         ]
        }
       ],
       "frames": [],
       "layout": {
        "margin": {
         "b": 50,
         "l": 50,
         "r": 50,
         "t": 60
        },
        "template": {
         "data": {
          "bar": [
           {
            "error_x": {
             "color": "#2a3f5f"
            },
            "error_y": {
             "color": "#2a3f5f"
            },
            "marker": {
             "line": {
              "color": "#E5ECF6",
              "width": 0.5
             }
            },
            "type": "bar"
           }
          ],
          "barpolar": [
           {
            "marker": {
             "line": {
              "color": "#E5ECF6",
              "width": 0.5
             }
            },
            "type": "barpolar"
           }
          ],
          "carpet": [
           {
            "aaxis": {
             "endlinecolor": "#2a3f5f",
             "gridcolor": "white",
             "linecolor": "white",
             "minorgridcolor": "white",
             "startlinecolor": "#2a3f5f"
            },
            "baxis": {
             "endlinecolor": "#2a3f5f",
             "gridcolor": "white",
             "linecolor": "white",
             "minorgridcolor": "white",
             "startlinecolor": "#2a3f5f"
            },
            "type": "carpet"
           }
          ],
          "choropleth": [
           {
            "colorbar": {
             "outlinewidth": 0,
             "ticks": ""
            },
            "type": "choropleth"
           }
          ],
          "contour": [
           {
            "colorbar": {
             "outlinewidth": 0,
             "ticks": ""
            },
            "colorscale": [
             [
              0,
              "#0d0887"
             ],
             [
              0.1111111111111111,
              "#46039f"
             ],
             [
              0.2222222222222222,
              "#7201a8"
             ],
             [
              0.3333333333333333,
              "#9c179e"
             ],
             [
              0.4444444444444444,
              "#bd3786"
             ],
             [
              0.5555555555555556,
              "#d8576b"
             ],
             [
              0.6666666666666666,
              "#ed7953"
             ],
             [
              0.7777777777777778,
              "#fb9f3a"
             ],
             [
              0.8888888888888888,
              "#fdca26"
             ],
             [
              1,
              "#f0f921"
             ]
            ],
            "type": "contour"
           }
          ],
          "contourcarpet": [
           {
            "colorbar": {
             "outlinewidth": 0,
             "ticks": ""
            },
            "type": "contourcarpet"
           }
          ],
          "heatmap": [
           {
            "colorbar": {
             "outlinewidth": 0,
             "ticks": ""
            },
            "colorscale": [
             [
              0,
              "#0d0887"
             ],
             [
              0.1111111111111111,
              "#46039f"
             ],
             [
              0.2222222222222222,
              "#7201a8"
             ],
             [
              0.3333333333333333,
              "#9c179e"
             ],
             [
              0.4444444444444444,
              "#bd3786"
             ],
             [
              0.5555555555555556,
              "#d8576b"
             ],
             [
              0.6666666666666666,
              "#ed7953"
             ],
             [
              0.7777777777777778,
              "#fb9f3a"
             ],
             [
              0.8888888888888888,
              "#fdca26"
             ],
             [
              1,
              "#f0f921"
             ]
            ],
            "type": "heatmap"
           }
          ],
          "heatmapgl": [
           {
            "colorbar": {
             "outlinewidth": 0,
             "ticks": ""
            },
            "colorscale": [
             [
              0,
              "#0d0887"
             ],
             [
              0.1111111111111111,
              "#46039f"
             ],
             [
              0.2222222222222222,
              "#7201a8"
             ],
             [
              0.3333333333333333,
              "#9c179e"
             ],
             [
              0.4444444444444444,
              "#bd3786"
             ],
             [
              0.5555555555555556,
              "#d8576b"
             ],
             [
              0.6666666666666666,
              "#ed7953"
             ],
             [
              0.7777777777777778,
              "#fb9f3a"
             ],
             [
              0.8888888888888888,
              "#fdca26"
             ],
             [
              1,
              "#f0f921"
             ]
            ],
            "type": "heatmapgl"
           }
          ],
          "histogram": [
           {
            "marker": {
             "colorbar": {
              "outlinewidth": 0,
              "ticks": ""
             }
            },
            "type": "histogram"
           }
          ],
          "histogram2d": [
           {
            "colorbar": {
             "outlinewidth": 0,
             "ticks": ""
            },
            "colorscale": [
             [
              0,
              "#0d0887"
             ],
             [
              0.1111111111111111,
              "#46039f"
             ],
             [
              0.2222222222222222,
              "#7201a8"
             ],
             [
              0.3333333333333333,
              "#9c179e"
             ],
             [
              0.4444444444444444,
              "#bd3786"
             ],
             [
              0.5555555555555556,
              "#d8576b"
             ],
             [
              0.6666666666666666,
              "#ed7953"
             ],
             [
              0.7777777777777778,
              "#fb9f3a"
             ],
             [
              0.8888888888888888,
              "#fdca26"
             ],
             [
              1,
              "#f0f921"
             ]
            ],
            "type": "histogram2d"
           }
          ],
          "histogram2dcontour": [
           {
            "colorbar": {
             "outlinewidth": 0,
             "ticks": ""
            },
            "colorscale": [
             [
              0,
              "#0d0887"
             ],
             [
              0.1111111111111111,
              "#46039f"
             ],
             [
              0.2222222222222222,
              "#7201a8"
             ],
             [
              0.3333333333333333,
              "#9c179e"
             ],
             [
              0.4444444444444444,
              "#bd3786"
             ],
             [
              0.5555555555555556,
              "#d8576b"
             ],
             [
              0.6666666666666666,
              "#ed7953"
             ],
             [
              0.7777777777777778,
              "#fb9f3a"
             ],
             [
              0.8888888888888888,
              "#fdca26"
             ],
             [
              1,
              "#f0f921"
             ]
            ],
            "type": "histogram2dcontour"
           }
          ],
          "mesh3d": [
           {
            "colorbar": {
             "outlinewidth": 0,
             "ticks": ""
            },
            "type": "mesh3d"
           }
          ],
          "parcoords": [
           {
            "line": {
             "colorbar": {
              "outlinewidth": 0,
              "ticks": ""
             }
            },
            "type": "parcoords"
           }
          ],
          "pie": [
           {
            "automargin": true,
            "type": "pie"
           }
          ],
          "scatter": [
           {
            "marker": {
             "colorbar": {
              "outlinewidth": 0,
              "ticks": ""
             }
            },
            "type": "scatter"
           }
          ],
          "scatter3d": [
           {
            "line": {
             "colorbar": {
              "outlinewidth": 0,
              "ticks": ""
             }
            },
            "marker": {
             "colorbar": {
              "outlinewidth": 0,
              "ticks": ""
             }
            },
            "type": "scatter3d"
           }
          ],
          "scattercarpet": [
           {
            "marker": {
             "colorbar": {
              "outlinewidth": 0,
              "ticks": ""
             }
            },
            "type": "scattercarpet"
           }
          ],
          "scattergeo": [
           {
            "marker": {
             "colorbar": {
              "outlinewidth": 0,
              "ticks": ""
             }
            },
            "type": "scattergeo"
           }
          ],
          "scattergl": [
           {
            "marker": {
             "colorbar": {
              "outlinewidth": 0,
              "ticks": ""
             }
            },
            "type": "scattergl"
           }
          ],
          "scattermapbox": [
           {
            "marker": {
             "colorbar": {
              "outlinewidth": 0,
              "ticks": ""
             }
            },
            "type": "scattermapbox"
           }
          ],
          "scatterpolar": [
           {
            "marker": {
             "colorbar": {
              "outlinewidth": 0,
              "ticks": ""
             }
            },
            "type": "scatterpolar"
           }
          ],
          "scatterpolargl": [
           {
            "marker": {
             "colorbar": {
              "outlinewidth": 0,
              "ticks": ""
             }
            },
            "type": "scatterpolargl"
           }
          ],
          "scatterternary": [
           {
            "marker": {
             "colorbar": {
              "outlinewidth": 0,
              "ticks": ""
             }
            },
            "type": "scatterternary"
           }
          ],
          "surface": [
           {
            "colorbar": {
             "outlinewidth": 0,
             "ticks": ""
            },
            "colorscale": [
             [
              0,
              "#0d0887"
             ],
             [
              0.1111111111111111,
              "#46039f"
             ],
             [
              0.2222222222222222,
              "#7201a8"
             ],
             [
              0.3333333333333333,
              "#9c179e"
             ],
             [
              0.4444444444444444,
              "#bd3786"
             ],
             [
              0.5555555555555556,
              "#d8576b"
             ],
             [
              0.6666666666666666,
              "#ed7953"
             ],
             [
              0.7777777777777778,
              "#fb9f3a"
             ],
             [
              0.8888888888888888,
              "#fdca26"
             ],
             [
              1,
              "#f0f921"
             ]
            ],
            "type": "surface"
           }
          ],
          "table": [
           {
            "cells": {
             "fill": {
              "color": "#EBF0F8"
             },
             "line": {
              "color": "white"
             }
            },
            "header": {
             "fill": {
              "color": "#C8D4E3"
             },
             "line": {
              "color": "white"
             }
            },
            "type": "table"
           }
          ]
         },
         "layout": {
          "annotationdefaults": {
           "arrowcolor": "#2a3f5f",
           "arrowhead": 0,
           "arrowwidth": 1
          },
          "autotypenumbers": "strict",
          "coloraxis": {
           "colorbar": {
            "outlinewidth": 0,
            "ticks": ""
           }
          },
          "colorscale": {
           "diverging": [
            [
             0,
             "#8e0152"
            ],
            [
             0.1,
             "#c51b7d"
            ],
            [
             0.2,
             "#de77ae"
            ],
            [
             0.3,
             "#f1b6da"
            ],
            [
             0.4,
             "#fde0ef"
            ],
            [
             0.5,
             "#f7f7f7"
            ],
            [
             0.6,
             "#e6f5d0"
            ],
            [
             0.7,
             "#b8e186"
            ],
            [
             0.8,
             "#7fbc41"
            ],
            [
             0.9,
             "#4d9221"
            ],
            [
             1,
             "#276419"
            ]
           ],
           "sequential": [
            [
             0,
             "#0d0887"
            ],
            [
             0.1111111111111111,
             "#46039f"
            ],
            [
             0.2222222222222222,
             "#7201a8"
            ],
            [
             0.3333333333333333,
             "#9c179e"
            ],
            [
             0.4444444444444444,
             "#bd3786"
            ],
            [
             0.5555555555555556,
             "#d8576b"
            ],
            [
             0.6666666666666666,
             "#ed7953"
            ],
            [
             0.7777777777777778,
             "#fb9f3a"
            ],
            [
             0.8888888888888888,
             "#fdca26"
            ],
            [
             1,
             "#f0f921"
            ]
           ],
           "sequentialminus": [
            [
             0,
             "#0d0887"
            ],
            [
             0.1111111111111111,
             "#46039f"
            ],
            [
             0.2222222222222222,
             "#7201a8"
            ],
            [
             0.3333333333333333,
             "#9c179e"
            ],
            [
             0.4444444444444444,
             "#bd3786"
            ],
            [
             0.5555555555555556,
             "#d8576b"
            ],
            [
             0.6666666666666666,
             "#ed7953"
            ],
            [
             0.7777777777777778,
             "#fb9f3a"
            ],
            [
             0.8888888888888888,
             "#fdca26"
            ],
            [
             1,
             "#f0f921"
            ]
           ]
          },
          "colorway": [
           "#636efa",
           "#EF553B",
           "#00cc96",
           "#ab63fa",
           "#FFA15A",
           "#19d3f3",
           "#FF6692",
           "#B6E880",
           "#FF97FF",
           "#FECB52"
          ],
          "font": {
           "color": "#2a3f5f"
          },
          "geo": {
           "bgcolor": "white",
           "lakecolor": "white",
           "landcolor": "#E5ECF6",
           "showlakes": true,
           "showland": true,
           "subunitcolor": "white"
          },
          "hoverlabel": {
           "align": "left"
          },
          "hovermode": "closest",
          "mapbox": {
           "style": "light"
          },
          "paper_bgcolor": "white",
          "plot_bgcolor": "#E5ECF6",
          "polar": {
           "angularaxis": {
            "gridcolor": "white",
            "linecolor": "white",
            "ticks": ""
           },
           "bgcolor": "#E5ECF6",
           "radialaxis": {
            "gridcolor": "white",
            "linecolor": "white",
            "ticks": ""
           }
          },
          "scene": {
           "xaxis": {
            "backgroundcolor": "#E5ECF6",
            "gridcolor": "white",
            "gridwidth": 2,
            "linecolor": "white",
            "showbackground": true,
            "ticks": "",
            "zerolinecolor": "white"
           },
           "yaxis": {
            "backgroundcolor": "#E5ECF6",
            "gridcolor": "white",
            "gridwidth": 2,
            "linecolor": "white",
            "showbackground": true,
            "ticks": "",
            "zerolinecolor": "white"
           },
           "zaxis": {
            "backgroundcolor": "#E5ECF6",
            "gridcolor": "white",
            "gridwidth": 2,
            "linecolor": "white",
            "showbackground": true,
            "ticks": "",
            "zerolinecolor": "white"
           }
          },
          "shapedefaults": {
           "line": {
            "color": "#2a3f5f"
           }
          },
          "ternary": {
           "aaxis": {
            "gridcolor": "white",
            "linecolor": "white",
            "ticks": ""
           },
           "baxis": {
            "gridcolor": "white",
            "linecolor": "white",
            "ticks": ""
           },
           "bgcolor": "#E5ECF6",
           "caxis": {
            "gridcolor": "white",
            "linecolor": "white",
            "ticks": ""
           }
          },
          "title": {
           "x": 0.05
          },
          "xaxis": {
           "automargin": true,
           "gridcolor": "white",
           "linecolor": "white",
           "ticks": "",
           "title": {
            "standoff": 15
           },
           "zerolinecolor": "white",
           "zerolinewidth": 2
          },
          "yaxis": {
           "automargin": true,
           "gridcolor": "white",
           "linecolor": "white",
           "ticks": "",
           "title": {
            "standoff": 15
           },
           "zerolinecolor": "white",
           "zerolinewidth": 2
          }
         }
        }
       }
      },
      "text/html": [
       "<div\n",
       "    class=\"webio-mountpoint\"\n",
       "    data-webio-mountpoint=\"8906100758404072014\"\n",
       ">\n",
       "    <script>\n",
       "    (function(){\n",
       "    // Some integrations (namely, IJulia/Jupyter) use an alternate render pathway than\n",
       "    // just putting the html on the page. If WebIO isn't defined, then it's pretty likely\n",
       "    // that we're in one of those situations and the integration just isn't installed\n",
       "    // correctly.\n",
       "    if (typeof window.WebIO === \"undefined\") {\n",
       "        document\n",
       "            .querySelector('[data-webio-mountpoint=\"8906100758404072014\"]')\n",
       "            .innerHTML = (\n",
       "                '<div style=\"padding: 1em; background-color: #f8d6da; border: 1px solid #f5c6cb; font-weight: bold;\">' +\n",
       "                '<p><strong>WebIO not detected.</strong></p>' +\n",
       "                '<p>Please read ' +\n",
       "                '<a href=\"https://juliagizmos.github.io/WebIO.jl/latest/troubleshooting/not-detected/\" target=\"_blank\">the troubleshooting guide</a> ' +\n",
       "                'for more information on how to resolve this issue.</p>' +\n",
       "                '<p><a href=\"https://juliagizmos.github.io/WebIO.jl/latest/troubleshooting/not-detected/\" target=\"_blank\">https://juliagizmos.github.io/WebIO.jl/latest/troubleshooting/not-detected/</a></p>' +\n",
       "                '</div>'\n",
       "            );\n",
       "        return;\n",
       "    }\n",
       "    WebIO.mount(\n",
       "        document.querySelector('[data-webio-mountpoint=\"8906100758404072014\"]'),\n",
       "        {\"props\":{},\"nodeType\":\"Scope\",\"type\":\"node\",\"instanceArgs\":{\"imports\":{\"data\":[{\"name\":\"Plotly\",\"type\":\"js\",\"url\":\"\\/assetserver\\/3e2d063fcbfbf8797e7181829eb6f798910493eb-plotly.min.js\"},{\"name\":null,\"type\":\"js\",\"url\":\"\\/assetserver\\/588989ae0bd9d28bf0e53faaf41e2532b763e757-plotly_webio.bundle.js\"}],\"type\":\"async_block\"},\"id\":\"5138147129872797431\",\"handlers\":{\"_toImage\":[\"(function (options){return this.Plotly.toImage(this.plotElem,options).then((function (data){return WebIO.setval({\\\"name\\\":\\\"image\\\",\\\"scope\\\":\\\"5138147129872797431\\\",\\\"id\\\":\\\"1506658005667715547\\\",\\\"type\\\":\\\"observable\\\"},data)}))})\"],\"__get_gd_contents\":[\"(function (prop){prop==\\\"data\\\" ? (WebIO.setval({\\\"name\\\":\\\"__gd_contents\\\",\\\"scope\\\":\\\"5138147129872797431\\\",\\\"id\\\":\\\"5162086541791066700\\\",\\\"type\\\":\\\"observable\\\"},this.plotElem.data)) : undefined; return prop==\\\"layout\\\" ? (WebIO.setval({\\\"name\\\":\\\"__gd_contents\\\",\\\"scope\\\":\\\"5138147129872797431\\\",\\\"id\\\":\\\"5162086541791066700\\\",\\\"type\\\":\\\"observable\\\"},this.plotElem.layout)) : undefined})\"],\"_downloadImage\":[\"(function (options){return this.Plotly.downloadImage(this.plotElem,options)})\"],\"_commands\":[\"(function (args){var fn=args.shift(); var elem=this.plotElem; var Plotly=this.Plotly; args.unshift(elem); return Plotly[fn].apply(this,args)})\"]},\"systemjs_options\":null,\"mount_callbacks\":[\"function () {\\n    var handler = ((function (Plotly,PlotlyWebIO){PlotlyWebIO.init(WebIO); var gd=this.dom.querySelector(\\\"#plot-d4f0d429-0f31-4334-9892-c139befd5220\\\"); this.plotElem=gd; this.Plotly=Plotly; (window.Blink!==undefined) ? (gd.style.width=\\\"100%\\\", gd.style.height=\\\"100vh\\\", gd.style.marginLeft=\\\"0%\\\", gd.style.marginTop=\\\"0vh\\\") : undefined; window.onresize=(function (){return Plotly.Plots.resize(gd)}); Plotly.newPlot(gd,[{\\\"mode\\\":\\\"markers\\\",\\\"y\\\":[176,102,42,867,96,296,50,87,312,175,1904,470,41,362,104],\\\"type\\\":\\\"scatter\\\",\\\"x\\\":[1.55,1.76,1.71,1.04,2.34,2.05,1.66,1.27,1.4,1.57,1.67,1.34,1.76,1.25,1.67]}],{\\\"template\\\":{\\\"layout\\\":{\\\"coloraxis\\\":{\\\"colorbar\\\":{\\\"ticks\\\":\\\"\\\",\\\"outlinewidth\\\":0}},\\\"xaxis\\\":{\\\"gridcolor\\\":\\\"white\\\",\\\"zerolinewidth\\\":2,\\\"title\\\":{\\\"standoff\\\":15},\\\"ticks\\\":\\\"\\\",\\\"zerolinecolor\\\":\\\"white\\\",\\\"automargin\\\":true,\\\"linecolor\\\":\\\"white\\\"},\\\"hovermode\\\":\\\"closest\\\",\\\"paper_bgcolor\\\":\\\"white\\\",\\\"geo\\\":{\\\"showlakes\\\":true,\\\"showland\\\":true,\\\"landcolor\\\":\\\"#E5ECF6\\\",\\\"bgcolor\\\":\\\"white\\\",\\\"subunitcolor\\\":\\\"white\\\",\\\"lakecolor\\\":\\\"white\\\"},\\\"colorscale\\\":{\\\"sequential\\\":[[0.0,\\\"#0d0887\\\"],[0.1111111111111111,\\\"#46039f\\\"],[0.2222222222222222,\\\"#7201a8\\\"],[0.3333333333333333,\\\"#9c179e\\\"],[0.4444444444444444,\\\"#bd3786\\\"],[0.5555555555555556,\\\"#d8576b\\\"],[0.6666666666666666,\\\"#ed7953\\\"],[0.7777777777777778,\\\"#fb9f3a\\\"],[0.8888888888888888,\\\"#fdca26\\\"],[1.0,\\\"#f0f921\\\"]],\\\"diverging\\\":[[0,\\\"#8e0152\\\"],[0.1,\\\"#c51b7d\\\"],[0.2,\\\"#de77ae\\\"],[0.3,\\\"#f1b6da\\\"],[0.4,\\\"#fde0ef\\\"],[0.5,\\\"#f7f7f7\\\"],[0.6,\\\"#e6f5d0\\\"],[0.7,\\\"#b8e186\\\"],[0.8,\\\"#7fbc41\\\"],[0.9,\\\"#4d9221\\\"],[1,\\\"#276419\\\"]],\\\"sequentialminus\\\":[[0.0,\\\"#0d0887\\\"],[0.1111111111111111,\\\"#46039f\\\"],[0.2222222222222222,\\\"#7201a8\\\"],[0.3333333333333333,\\\"#9c179e\\\"],[0.4444444444444444,\\\"#bd3786\\\"],[0.5555555555555556,\\\"#d8576b\\\"],[0.6666666666666666,\\\"#ed7953\\\"],[0.7777777777777778,\\\"#fb9f3a\\\"],[0.8888888888888888,\\\"#fdca26\\\"],[1.0,\\\"#f0f921\\\"]]},\\\"yaxis\\\":{\\\"gridcolor\\\":\\\"white\\\",\\\"zerolinewidth\\\":2,\\\"title\\\":{\\\"standoff\\\":15},\\\"ticks\\\":\\\"\\\",\\\"zerolinecolor\\\":\\\"white\\\",\\\"automargin\\\":true,\\\"linecolor\\\":\\\"white\\\"},\\\"shapedefaults\\\":{\\\"line\\\":{\\\"color\\\":\\\"#2a3f5f\\\"}},\\\"hoverlabel\\\":{\\\"align\\\":\\\"left\\\"},\\\"mapbox\\\":{\\\"style\\\":\\\"light\\\"},\\\"polar\\\":{\\\"angularaxis\\\":{\\\"gridcolor\\\":\\\"white\\\",\\\"ticks\\\":\\\"\\\",\\\"linecolor\\\":\\\"white\\\"},\\\"bgcolor\\\":\\\"#E5ECF6\\\",\\\"radialaxis\\\":{\\\"gridcolor\\\":\\\"white\\\",\\\"ticks\\\":\\\"\\\",\\\"linecolor\\\":\\\"white\\\"}},\\\"autotypenumbers\\\":\\\"strict\\\",\\\"font\\\":{\\\"color\\\":\\\"#2a3f5f\\\"},\\\"ternary\\\":{\\\"baxis\\\":{\\\"gridcolor\\\":\\\"white\\\",\\\"ticks\\\":\\\"\\\",\\\"linecolor\\\":\\\"white\\\"},\\\"bgcolor\\\":\\\"#E5ECF6\\\",\\\"caxis\\\":{\\\"gridcolor\\\":\\\"white\\\",\\\"ticks\\\":\\\"\\\",\\\"linecolor\\\":\\\"white\\\"},\\\"aaxis\\\":{\\\"gridcolor\\\":\\\"white\\\",\\\"ticks\\\":\\\"\\\",\\\"linecolor\\\":\\\"white\\\"}},\\\"annotationdefaults\\\":{\\\"arrowhead\\\":0,\\\"arrowwidth\\\":1,\\\"arrowcolor\\\":\\\"#2a3f5f\\\"},\\\"plot_bgcolor\\\":\\\"#E5ECF6\\\",\\\"title\\\":{\\\"x\\\":0.05},\\\"scene\\\":{\\\"xaxis\\\":{\\\"gridcolor\\\":\\\"white\\\",\\\"gridwidth\\\":2,\\\"backgroundcolor\\\":\\\"#E5ECF6\\\",\\\"ticks\\\":\\\"\\\",\\\"showbackground\\\":true,\\\"zerolinecolor\\\":\\\"white\\\",\\\"linecolor\\\":\\\"white\\\"},\\\"zaxis\\\":{\\\"gridcolor\\\":\\\"white\\\",\\\"gridwidth\\\":2,\\\"backgroundcolor\\\":\\\"#E5ECF6\\\",\\\"ticks\\\":\\\"\\\",\\\"showbackground\\\":true,\\\"zerolinecolor\\\":\\\"white\\\",\\\"linecolor\\\":\\\"white\\\"},\\\"yaxis\\\":{\\\"gridcolor\\\":\\\"white\\\",\\\"gridwidth\\\":2,\\\"backgroundcolor\\\":\\\"#E5ECF6\\\",\\\"ticks\\\":\\\"\\\",\\\"showbackground\\\":true,\\\"zerolinecolor\\\":\\\"white\\\",\\\"linecolor\\\":\\\"white\\\"}},\\\"colorway\\\":[\\\"#636efa\\\",\\\"#EF553B\\\",\\\"#00cc96\\\",\\\"#ab63fa\\\",\\\"#FFA15A\\\",\\\"#19d3f3\\\",\\\"#FF6692\\\",\\\"#B6E880\\\",\\\"#FF97FF\\\",\\\"#FECB52\\\"]},\\\"data\\\":{\\\"barpolar\\\":[{\\\"type\\\":\\\"barpolar\\\",\\\"marker\\\":{\\\"line\\\":{\\\"color\\\":\\\"#E5ECF6\\\",\\\"width\\\":0.5}}}],\\\"carpet\\\":[{\\\"aaxis\\\":{\\\"gridcolor\\\":\\\"white\\\",\\\"endlinecolor\\\":\\\"#2a3f5f\\\",\\\"minorgridcolor\\\":\\\"white\\\",\\\"startlinecolor\\\":\\\"#2a3f5f\\\",\\\"linecolor\\\":\\\"white\\\"},\\\"type\\\":\\\"carpet\\\",\\\"baxis\\\":{\\\"gridcolor\\\":\\\"white\\\",\\\"endlinecolor\\\":\\\"#2a3f5f\\\",\\\"minorgridcolor\\\":\\\"white\\\",\\\"startlinecolor\\\":\\\"#2a3f5f\\\",\\\"linecolor\\\":\\\"white\\\"}}],\\\"scatterpolar\\\":[{\\\"type\\\":\\\"scatterpolar\\\",\\\"marker\\\":{\\\"colorbar\\\":{\\\"ticks\\\":\\\"\\\",\\\"outlinewidth\\\":0}}}],\\\"parcoords\\\":[{\\\"line\\\":{\\\"colorbar\\\":{\\\"ticks\\\":\\\"\\\",\\\"outlinewidth\\\":0}},\\\"type\\\":\\\"parcoords\\\"}],\\\"scatter\\\":[{\\\"type\\\":\\\"scatter\\\",\\\"marker\\\":{\\\"colorbar\\\":{\\\"ticks\\\":\\\"\\\",\\\"outlinewidth\\\":0}}}],\\\"histogram2dcontour\\\":[{\\\"colorbar\\\":{\\\"ticks\\\":\\\"\\\",\\\"outlinewidth\\\":0},\\\"type\\\":\\\"histogram2dcontour\\\",\\\"colorscale\\\":[[0.0,\\\"#0d0887\\\"],[0.1111111111111111,\\\"#46039f\\\"],[0.2222222222222222,\\\"#7201a8\\\"],[0.3333333333333333,\\\"#9c179e\\\"],[0.4444444444444444,\\\"#bd3786\\\"],[0.5555555555555556,\\\"#d8576b\\\"],[0.6666666666666666,\\\"#ed7953\\\"],[0.7777777777777778,\\\"#fb9f3a\\\"],[0.8888888888888888,\\\"#fdca26\\\"],[1.0,\\\"#f0f921\\\"]]}],\\\"contour\\\":[{\\\"colorbar\\\":{\\\"ticks\\\":\\\"\\\",\\\"outlinewidth\\\":0},\\\"type\\\":\\\"contour\\\",\\\"colorscale\\\":[[0.0,\\\"#0d0887\\\"],[0.1111111111111111,\\\"#46039f\\\"],[0.2222222222222222,\\\"#7201a8\\\"],[0.3333333333333333,\\\"#9c179e\\\"],[0.4444444444444444,\\\"#bd3786\\\"],[0.5555555555555556,\\\"#d8576b\\\"],[0.6666666666666666,\\\"#ed7953\\\"],[0.7777777777777778,\\\"#fb9f3a\\\"],[0.8888888888888888,\\\"#fdca26\\\"],[1.0,\\\"#f0f921\\\"]]}],\\\"scattercarpet\\\":[{\\\"type\\\":\\\"scattercarpet\\\",\\\"marker\\\":{\\\"colorbar\\\":{\\\"ticks\\\":\\\"\\\",\\\"outlinewidth\\\":0}}}],\\\"mesh3d\\\":[{\\\"colorbar\\\":{\\\"ticks\\\":\\\"\\\",\\\"outlinewidth\\\":0},\\\"type\\\":\\\"mesh3d\\\"}],\\\"surface\\\":[{\\\"colorbar\\\":{\\\"ticks\\\":\\\"\\\",\\\"outlinewidth\\\":0},\\\"type\\\":\\\"surface\\\",\\\"colorscale\\\":[[0.0,\\\"#0d0887\\\"],[0.1111111111111111,\\\"#46039f\\\"],[0.2222222222222222,\\\"#7201a8\\\"],[0.3333333333333333,\\\"#9c179e\\\"],[0.4444444444444444,\\\"#bd3786\\\"],[0.5555555555555556,\\\"#d8576b\\\"],[0.6666666666666666,\\\"#ed7953\\\"],[0.7777777777777778,\\\"#fb9f3a\\\"],[0.8888888888888888,\\\"#fdca26\\\"],[1.0,\\\"#f0f921\\\"]]}],\\\"scattermapbox\\\":[{\\\"type\\\":\\\"scattermapbox\\\",\\\"marker\\\":{\\\"colorbar\\\":{\\\"ticks\\\":\\\"\\\",\\\"outlinewidth\\\":0}}}],\\\"scattergeo\\\":[{\\\"type\\\":\\\"scattergeo\\\",\\\"marker\\\":{\\\"colorbar\\\":{\\\"ticks\\\":\\\"\\\",\\\"outlinewidth\\\":0}}}],\\\"histogram\\\":[{\\\"type\\\":\\\"histogram\\\",\\\"marker\\\":{\\\"colorbar\\\":{\\\"ticks\\\":\\\"\\\",\\\"outlinewidth\\\":0}}}],\\\"pie\\\":[{\\\"type\\\":\\\"pie\\\",\\\"automargin\\\":true}],\\\"choropleth\\\":[{\\\"colorbar\\\":{\\\"ticks\\\":\\\"\\\",\\\"outlinewidth\\\":0},\\\"type\\\":\\\"choropleth\\\"}],\\\"heatmapgl\\\":[{\\\"colorbar\\\":{\\\"ticks\\\":\\\"\\\",\\\"outlinewidth\\\":0},\\\"type\\\":\\\"heatmapgl\\\",\\\"colorscale\\\":[[0.0,\\\"#0d0887\\\"],[0.1111111111111111,\\\"#46039f\\\"],[0.2222222222222222,\\\"#7201a8\\\"],[0.3333333333333333,\\\"#9c179e\\\"],[0.4444444444444444,\\\"#bd3786\\\"],[0.5555555555555556,\\\"#d8576b\\\"],[0.6666666666666666,\\\"#ed7953\\\"],[0.7777777777777778,\\\"#fb9f3a\\\"],[0.8888888888888888,\\\"#fdca26\\\"],[1.0,\\\"#f0f921\\\"]]}],\\\"bar\\\":[{\\\"type\\\":\\\"bar\\\",\\\"error_y\\\":{\\\"color\\\":\\\"#2a3f5f\\\"},\\\"error_x\\\":{\\\"color\\\":\\\"#2a3f5f\\\"},\\\"marker\\\":{\\\"line\\\":{\\\"color\\\":\\\"#E5ECF6\\\",\\\"width\\\":0.5}}}],\\\"heatmap\\\":[{\\\"colorbar\\\":{\\\"ticks\\\":\\\"\\\",\\\"outlinewidth\\\":0},\\\"type\\\":\\\"heatmap\\\",\\\"colorscale\\\":[[0.0,\\\"#0d0887\\\"],[0.1111111111111111,\\\"#46039f\\\"],[0.2222222222222222,\\\"#7201a8\\\"],[0.3333333333333333,\\\"#9c179e\\\"],[0.4444444444444444,\\\"#bd3786\\\"],[0.5555555555555556,\\\"#d8576b\\\"],[0.6666666666666666,\\\"#ed7953\\\"],[0.7777777777777778,\\\"#fb9f3a\\\"],[0.8888888888888888,\\\"#fdca26\\\"],[1.0,\\\"#f0f921\\\"]]}],\\\"contourcarpet\\\":[{\\\"colorbar\\\":{\\\"ticks\\\":\\\"\\\",\\\"outlinewidth\\\":0},\\\"type\\\":\\\"contourcarpet\\\"}],\\\"table\\\":[{\\\"type\\\":\\\"table\\\",\\\"header\\\":{\\\"line\\\":{\\\"color\\\":\\\"white\\\"},\\\"fill\\\":{\\\"color\\\":\\\"#C8D4E3\\\"}},\\\"cells\\\":{\\\"line\\\":{\\\"color\\\":\\\"white\\\"},\\\"fill\\\":{\\\"color\\\":\\\"#EBF0F8\\\"}}}],\\\"scatter3d\\\":[{\\\"line\\\":{\\\"colorbar\\\":{\\\"ticks\\\":\\\"\\\",\\\"outlinewidth\\\":0}},\\\"type\\\":\\\"scatter3d\\\",\\\"marker\\\":{\\\"colorbar\\\":{\\\"ticks\\\":\\\"\\\",\\\"outlinewidth\\\":0}}}],\\\"scattergl\\\":[{\\\"type\\\":\\\"scattergl\\\",\\\"marker\\\":{\\\"colorbar\\\":{\\\"ticks\\\":\\\"\\\",\\\"outlinewidth\\\":0}}}],\\\"histogram2d\\\":[{\\\"colorbar\\\":{\\\"ticks\\\":\\\"\\\",\\\"outlinewidth\\\":0},\\\"type\\\":\\\"histogram2d\\\",\\\"colorscale\\\":[[0.0,\\\"#0d0887\\\"],[0.1111111111111111,\\\"#46039f\\\"],[0.2222222222222222,\\\"#7201a8\\\"],[0.3333333333333333,\\\"#9c179e\\\"],[0.4444444444444444,\\\"#bd3786\\\"],[0.5555555555555556,\\\"#d8576b\\\"],[0.6666666666666666,\\\"#ed7953\\\"],[0.7777777777777778,\\\"#fb9f3a\\\"],[0.8888888888888888,\\\"#fdca26\\\"],[1.0,\\\"#f0f921\\\"]]}],\\\"scatterternary\\\":[{\\\"type\\\":\\\"scatterternary\\\",\\\"marker\\\":{\\\"colorbar\\\":{\\\"ticks\\\":\\\"\\\",\\\"outlinewidth\\\":0}}}],\\\"scatterpolargl\\\":[{\\\"type\\\":\\\"scatterpolargl\\\",\\\"marker\\\":{\\\"colorbar\\\":{\\\"ticks\\\":\\\"\\\",\\\"outlinewidth\\\":0}}}]}},\\\"margin\\\":{\\\"l\\\":50,\\\"b\\\":50,\\\"r\\\":50,\\\"t\\\":60}},{\\\"showLink\\\":false,\\\"editable\\\":false,\\\"responsive\\\":true,\\\"staticPlot\\\":false,\\\"scrollZoom\\\":true}); gd.on(\\\"plotly_hover\\\",(function (data){var filtered_data=WebIO.PlotlyCommands.filterEventData(gd,data,\\\"hover\\\"); return !(filtered_data.isnil) ? (WebIO.setval({\\\"name\\\":\\\"hover\\\",\\\"scope\\\":\\\"5138147129872797431\\\",\\\"id\\\":\\\"17340541528740675248\\\",\\\"type\\\":\\\"observable\\\"},filtered_data.out)) : undefined})); gd.on(\\\"plotly_unhover\\\",(function (){return WebIO.setval({\\\"name\\\":\\\"hover\\\",\\\"scope\\\":\\\"5138147129872797431\\\",\\\"id\\\":\\\"17340541528740675248\\\",\\\"type\\\":\\\"observable\\\"},{})})); gd.on(\\\"plotly_selected\\\",(function (data){var filtered_data=WebIO.PlotlyCommands.filterEventData(gd,data,\\\"selected\\\"); return !(filtered_data.isnil) ? (WebIO.setval({\\\"name\\\":\\\"selected\\\",\\\"scope\\\":\\\"5138147129872797431\\\",\\\"id\\\":\\\"16255288994310252188\\\",\\\"type\\\":\\\"observable\\\"},filtered_data.out)) : undefined})); gd.on(\\\"plotly_deselect\\\",(function (){return WebIO.setval({\\\"name\\\":\\\"selected\\\",\\\"scope\\\":\\\"5138147129872797431\\\",\\\"id\\\":\\\"16255288994310252188\\\",\\\"type\\\":\\\"observable\\\"},{})})); gd.on(\\\"plotly_relayout\\\",(function (data){var filtered_data=WebIO.PlotlyCommands.filterEventData(gd,data,\\\"relayout\\\"); return !(filtered_data.isnil) ? (WebIO.setval({\\\"name\\\":\\\"relayout\\\",\\\"scope\\\":\\\"5138147129872797431\\\",\\\"id\\\":\\\"15838270954839660119\\\",\\\"type\\\":\\\"observable\\\"},filtered_data.out)) : undefined})); return gd.on(\\\"plotly_click\\\",(function (data){var filtered_data=WebIO.PlotlyCommands.filterEventData(gd,data,\\\"click\\\"); return !(filtered_data.isnil) ? (WebIO.setval({\\\"name\\\":\\\"click\\\",\\\"scope\\\":\\\"5138147129872797431\\\",\\\"id\\\":\\\"2589944211724030568\\\",\\\"type\\\":\\\"observable\\\"},filtered_data.out)) : undefined}))}));\\n    (WebIO.importBlock({\\\"data\\\":[{\\\"name\\\":\\\"Plotly\\\",\\\"type\\\":\\\"js\\\",\\\"url\\\":\\\"\\/assetserver\\/3e2d063fcbfbf8797e7181829eb6f798910493eb-plotly.min.js\\\"},{\\\"name\\\":null,\\\"type\\\":\\\"js\\\",\\\"url\\\":\\\"\\/assetserver\\/588989ae0bd9d28bf0e53faaf41e2532b763e757-plotly_webio.bundle.js\\\"}],\\\"type\\\":\\\"async_block\\\"})).then((imports) => handler.apply(this, imports));\\n}\\n\"],\"observables\":{\"_toImage\":{\"sync\":false,\"id\":\"2782789224804259201\",\"value\":{}},\"hover\":{\"sync\":false,\"id\":\"17340541528740675248\",\"value\":{}},\"selected\":{\"sync\":false,\"id\":\"16255288994310252188\",\"value\":{}},\"__gd_contents\":{\"sync\":false,\"id\":\"5162086541791066700\",\"value\":{}},\"click\":{\"sync\":false,\"id\":\"2589944211724030568\",\"value\":{}},\"image\":{\"sync\":true,\"id\":\"1506658005667715547\",\"value\":\"\"},\"__get_gd_contents\":{\"sync\":false,\"id\":\"8783483797154545935\",\"value\":\"\"},\"_downloadImage\":{\"sync\":false,\"id\":\"960722725996561450\",\"value\":{}},\"relayout\":{\"sync\":false,\"id\":\"15838270954839660119\",\"value\":{}},\"_commands\":{\"sync\":false,\"id\":\"17653388321113246984\",\"value\":[]}}},\"children\":[{\"props\":{\"id\":\"plot-d4f0d429-0f31-4334-9892-c139befd5220\"},\"nodeType\":\"DOM\",\"type\":\"node\",\"instanceArgs\":{\"namespace\":\"html\",\"tag\":\"div\"},\"children\":[]}]},\n",
       "        window,\n",
       "    );\n",
       "    })()\n",
       "    </script>\n",
       "</div>\n"
      ],
      "text/plain": [
       "data: [\n",
       "  \"scatter with fields mode, type, x, and y\"\n",
       "]\n",
       "\n",
       "layout: \"layout with fields margin and template\"\n",
       "\n"
      ]
     },
     "execution_count": 20,
     "metadata": {},
     "output_type": "execute_result"
    }
   ],
   "source": [
    "plot(scatter(agri_col_cleansed, x=:Nitrogen, y=:num_of_protests, mode=\"markers\"))"
   ]
  },
  {
   "cell_type": "code",
   "execution_count": 21,
   "metadata": {},
   "outputs": [
    {
     "data": {
      "application/vnd.plotly.v1+json": {
       "config": {
        "editable": false,
        "responsive": true,
        "scrollZoom": true,
        "showLink": false,
        "staticPlot": false
       },
       "data": [
        {
         "mode": "markers",
         "type": "scatter",
         "x": [
          1.57,
          2.13,
          1.64,
          1.2,
          1.93,
          1.9,
          2.35,
          1.84,
          1.16,
          1.54,
          1.93,
          2.11,
          1.69,
          1.32,
          2.05
         ],
         "y": [
          176,
          102,
          42,
          867,
          96,
          296,
          50,
          87,
          312,
          175,
          1904,
          470,
          41,
          362,
          104
         ]
        }
       ],
       "frames": [],
       "layout": {
        "margin": {
         "b": 50,
         "l": 50,
         "r": 50,
         "t": 60
        },
        "template": {
         "data": {
          "bar": [
           {
            "error_x": {
             "color": "#2a3f5f"
            },
            "error_y": {
             "color": "#2a3f5f"
            },
            "marker": {
             "line": {
              "color": "#E5ECF6",
              "width": 0.5
             }
            },
            "type": "bar"
           }
          ],
          "barpolar": [
           {
            "marker": {
             "line": {
              "color": "#E5ECF6",
              "width": 0.5
             }
            },
            "type": "barpolar"
           }
          ],
          "carpet": [
           {
            "aaxis": {
             "endlinecolor": "#2a3f5f",
             "gridcolor": "white",
             "linecolor": "white",
             "minorgridcolor": "white",
             "startlinecolor": "#2a3f5f"
            },
            "baxis": {
             "endlinecolor": "#2a3f5f",
             "gridcolor": "white",
             "linecolor": "white",
             "minorgridcolor": "white",
             "startlinecolor": "#2a3f5f"
            },
            "type": "carpet"
           }
          ],
          "choropleth": [
           {
            "colorbar": {
             "outlinewidth": 0,
             "ticks": ""
            },
            "type": "choropleth"
           }
          ],
          "contour": [
           {
            "colorbar": {
             "outlinewidth": 0,
             "ticks": ""
            },
            "colorscale": [
             [
              0,
              "#0d0887"
             ],
             [
              0.1111111111111111,
              "#46039f"
             ],
             [
              0.2222222222222222,
              "#7201a8"
             ],
             [
              0.3333333333333333,
              "#9c179e"
             ],
             [
              0.4444444444444444,
              "#bd3786"
             ],
             [
              0.5555555555555556,
              "#d8576b"
             ],
             [
              0.6666666666666666,
              "#ed7953"
             ],
             [
              0.7777777777777778,
              "#fb9f3a"
             ],
             [
              0.8888888888888888,
              "#fdca26"
             ],
             [
              1,
              "#f0f921"
             ]
            ],
            "type": "contour"
           }
          ],
          "contourcarpet": [
           {
            "colorbar": {
             "outlinewidth": 0,
             "ticks": ""
            },
            "type": "contourcarpet"
           }
          ],
          "heatmap": [
           {
            "colorbar": {
             "outlinewidth": 0,
             "ticks": ""
            },
            "colorscale": [
             [
              0,
              "#0d0887"
             ],
             [
              0.1111111111111111,
              "#46039f"
             ],
             [
              0.2222222222222222,
              "#7201a8"
             ],
             [
              0.3333333333333333,
              "#9c179e"
             ],
             [
              0.4444444444444444,
              "#bd3786"
             ],
             [
              0.5555555555555556,
              "#d8576b"
             ],
             [
              0.6666666666666666,
              "#ed7953"
             ],
             [
              0.7777777777777778,
              "#fb9f3a"
             ],
             [
              0.8888888888888888,
              "#fdca26"
             ],
             [
              1,
              "#f0f921"
             ]
            ],
            "type": "heatmap"
           }
          ],
          "heatmapgl": [
           {
            "colorbar": {
             "outlinewidth": 0,
             "ticks": ""
            },
            "colorscale": [
             [
              0,
              "#0d0887"
             ],
             [
              0.1111111111111111,
              "#46039f"
             ],
             [
              0.2222222222222222,
              "#7201a8"
             ],
             [
              0.3333333333333333,
              "#9c179e"
             ],
             [
              0.4444444444444444,
              "#bd3786"
             ],
             [
              0.5555555555555556,
              "#d8576b"
             ],
             [
              0.6666666666666666,
              "#ed7953"
             ],
             [
              0.7777777777777778,
              "#fb9f3a"
             ],
             [
              0.8888888888888888,
              "#fdca26"
             ],
             [
              1,
              "#f0f921"
             ]
            ],
            "type": "heatmapgl"
           }
          ],
          "histogram": [
           {
            "marker": {
             "colorbar": {
              "outlinewidth": 0,
              "ticks": ""
             }
            },
            "type": "histogram"
           }
          ],
          "histogram2d": [
           {
            "colorbar": {
             "outlinewidth": 0,
             "ticks": ""
            },
            "colorscale": [
             [
              0,
              "#0d0887"
             ],
             [
              0.1111111111111111,
              "#46039f"
             ],
             [
              0.2222222222222222,
              "#7201a8"
             ],
             [
              0.3333333333333333,
              "#9c179e"
             ],
             [
              0.4444444444444444,
              "#bd3786"
             ],
             [
              0.5555555555555556,
              "#d8576b"
             ],
             [
              0.6666666666666666,
              "#ed7953"
             ],
             [
              0.7777777777777778,
              "#fb9f3a"
             ],
             [
              0.8888888888888888,
              "#fdca26"
             ],
             [
              1,
              "#f0f921"
             ]
            ],
            "type": "histogram2d"
           }
          ],
          "histogram2dcontour": [
           {
            "colorbar": {
             "outlinewidth": 0,
             "ticks": ""
            },
            "colorscale": [
             [
              0,
              "#0d0887"
             ],
             [
              0.1111111111111111,
              "#46039f"
             ],
             [
              0.2222222222222222,
              "#7201a8"
             ],
             [
              0.3333333333333333,
              "#9c179e"
             ],
             [
              0.4444444444444444,
              "#bd3786"
             ],
             [
              0.5555555555555556,
              "#d8576b"
             ],
             [
              0.6666666666666666,
              "#ed7953"
             ],
             [
              0.7777777777777778,
              "#fb9f3a"
             ],
             [
              0.8888888888888888,
              "#fdca26"
             ],
             [
              1,
              "#f0f921"
             ]
            ],
            "type": "histogram2dcontour"
           }
          ],
          "mesh3d": [
           {
            "colorbar": {
             "outlinewidth": 0,
             "ticks": ""
            },
            "type": "mesh3d"
           }
          ],
          "parcoords": [
           {
            "line": {
             "colorbar": {
              "outlinewidth": 0,
              "ticks": ""
             }
            },
            "type": "parcoords"
           }
          ],
          "pie": [
           {
            "automargin": true,
            "type": "pie"
           }
          ],
          "scatter": [
           {
            "marker": {
             "colorbar": {
              "outlinewidth": 0,
              "ticks": ""
             }
            },
            "type": "scatter"
           }
          ],
          "scatter3d": [
           {
            "line": {
             "colorbar": {
              "outlinewidth": 0,
              "ticks": ""
             }
            },
            "marker": {
             "colorbar": {
              "outlinewidth": 0,
              "ticks": ""
             }
            },
            "type": "scatter3d"
           }
          ],
          "scattercarpet": [
           {
            "marker": {
             "colorbar": {
              "outlinewidth": 0,
              "ticks": ""
             }
            },
            "type": "scattercarpet"
           }
          ],
          "scattergeo": [
           {
            "marker": {
             "colorbar": {
              "outlinewidth": 0,
              "ticks": ""
             }
            },
            "type": "scattergeo"
           }
          ],
          "scattergl": [
           {
            "marker": {
             "colorbar": {
              "outlinewidth": 0,
              "ticks": ""
             }
            },
            "type": "scattergl"
           }
          ],
          "scattermapbox": [
           {
            "marker": {
             "colorbar": {
              "outlinewidth": 0,
              "ticks": ""
             }
            },
            "type": "scattermapbox"
           }
          ],
          "scatterpolar": [
           {
            "marker": {
             "colorbar": {
              "outlinewidth": 0,
              "ticks": ""
             }
            },
            "type": "scatterpolar"
           }
          ],
          "scatterpolargl": [
           {
            "marker": {
             "colorbar": {
              "outlinewidth": 0,
              "ticks": ""
             }
            },
            "type": "scatterpolargl"
           }
          ],
          "scatterternary": [
           {
            "marker": {
             "colorbar": {
              "outlinewidth": 0,
              "ticks": ""
             }
            },
            "type": "scatterternary"
           }
          ],
          "surface": [
           {
            "colorbar": {
             "outlinewidth": 0,
             "ticks": ""
            },
            "colorscale": [
             [
              0,
              "#0d0887"
             ],
             [
              0.1111111111111111,
              "#46039f"
             ],
             [
              0.2222222222222222,
              "#7201a8"
             ],
             [
              0.3333333333333333,
              "#9c179e"
             ],
             [
              0.4444444444444444,
              "#bd3786"
             ],
             [
              0.5555555555555556,
              "#d8576b"
             ],
             [
              0.6666666666666666,
              "#ed7953"
             ],
             [
              0.7777777777777778,
              "#fb9f3a"
             ],
             [
              0.8888888888888888,
              "#fdca26"
             ],
             [
              1,
              "#f0f921"
             ]
            ],
            "type": "surface"
           }
          ],
          "table": [
           {
            "cells": {
             "fill": {
              "color": "#EBF0F8"
             },
             "line": {
              "color": "white"
             }
            },
            "header": {
             "fill": {
              "color": "#C8D4E3"
             },
             "line": {
              "color": "white"
             }
            },
            "type": "table"
           }
          ]
         },
         "layout": {
          "annotationdefaults": {
           "arrowcolor": "#2a3f5f",
           "arrowhead": 0,
           "arrowwidth": 1
          },
          "autotypenumbers": "strict",
          "coloraxis": {
           "colorbar": {
            "outlinewidth": 0,
            "ticks": ""
           }
          },
          "colorscale": {
           "diverging": [
            [
             0,
             "#8e0152"
            ],
            [
             0.1,
             "#c51b7d"
            ],
            [
             0.2,
             "#de77ae"
            ],
            [
             0.3,
             "#f1b6da"
            ],
            [
             0.4,
             "#fde0ef"
            ],
            [
             0.5,
             "#f7f7f7"
            ],
            [
             0.6,
             "#e6f5d0"
            ],
            [
             0.7,
             "#b8e186"
            ],
            [
             0.8,
             "#7fbc41"
            ],
            [
             0.9,
             "#4d9221"
            ],
            [
             1,
             "#276419"
            ]
           ],
           "sequential": [
            [
             0,
             "#0d0887"
            ],
            [
             0.1111111111111111,
             "#46039f"
            ],
            [
             0.2222222222222222,
             "#7201a8"
            ],
            [
             0.3333333333333333,
             "#9c179e"
            ],
            [
             0.4444444444444444,
             "#bd3786"
            ],
            [
             0.5555555555555556,
             "#d8576b"
            ],
            [
             0.6666666666666666,
             "#ed7953"
            ],
            [
             0.7777777777777778,
             "#fb9f3a"
            ],
            [
             0.8888888888888888,
             "#fdca26"
            ],
            [
             1,
             "#f0f921"
            ]
           ],
           "sequentialminus": [
            [
             0,
             "#0d0887"
            ],
            [
             0.1111111111111111,
             "#46039f"
            ],
            [
             0.2222222222222222,
             "#7201a8"
            ],
            [
             0.3333333333333333,
             "#9c179e"
            ],
            [
             0.4444444444444444,
             "#bd3786"
            ],
            [
             0.5555555555555556,
             "#d8576b"
            ],
            [
             0.6666666666666666,
             "#ed7953"
            ],
            [
             0.7777777777777778,
             "#fb9f3a"
            ],
            [
             0.8888888888888888,
             "#fdca26"
            ],
            [
             1,
             "#f0f921"
            ]
           ]
          },
          "colorway": [
           "#636efa",
           "#EF553B",
           "#00cc96",
           "#ab63fa",
           "#FFA15A",
           "#19d3f3",
           "#FF6692",
           "#B6E880",
           "#FF97FF",
           "#FECB52"
          ],
          "font": {
           "color": "#2a3f5f"
          },
          "geo": {
           "bgcolor": "white",
           "lakecolor": "white",
           "landcolor": "#E5ECF6",
           "showlakes": true,
           "showland": true,
           "subunitcolor": "white"
          },
          "hoverlabel": {
           "align": "left"
          },
          "hovermode": "closest",
          "mapbox": {
           "style": "light"
          },
          "paper_bgcolor": "white",
          "plot_bgcolor": "#E5ECF6",
          "polar": {
           "angularaxis": {
            "gridcolor": "white",
            "linecolor": "white",
            "ticks": ""
           },
           "bgcolor": "#E5ECF6",
           "radialaxis": {
            "gridcolor": "white",
            "linecolor": "white",
            "ticks": ""
           }
          },
          "scene": {
           "xaxis": {
            "backgroundcolor": "#E5ECF6",
            "gridcolor": "white",
            "gridwidth": 2,
            "linecolor": "white",
            "showbackground": true,
            "ticks": "",
            "zerolinecolor": "white"
           },
           "yaxis": {
            "backgroundcolor": "#E5ECF6",
            "gridcolor": "white",
            "gridwidth": 2,
            "linecolor": "white",
            "showbackground": true,
            "ticks": "",
            "zerolinecolor": "white"
           },
           "zaxis": {
            "backgroundcolor": "#E5ECF6",
            "gridcolor": "white",
            "gridwidth": 2,
            "linecolor": "white",
            "showbackground": true,
            "ticks": "",
            "zerolinecolor": "white"
           }
          },
          "shapedefaults": {
           "line": {
            "color": "#2a3f5f"
           }
          },
          "ternary": {
           "aaxis": {
            "gridcolor": "white",
            "linecolor": "white",
            "ticks": ""
           },
           "baxis": {
            "gridcolor": "white",
            "linecolor": "white",
            "ticks": ""
           },
           "bgcolor": "#E5ECF6",
           "caxis": {
            "gridcolor": "white",
            "linecolor": "white",
            "ticks": ""
           }
          },
          "title": {
           "x": 0.05
          },
          "xaxis": {
           "automargin": true,
           "gridcolor": "white",
           "linecolor": "white",
           "ticks": "",
           "title": {
            "standoff": 15
           },
           "zerolinecolor": "white",
           "zerolinewidth": 2
          },
          "yaxis": {
           "automargin": true,
           "gridcolor": "white",
           "linecolor": "white",
           "ticks": "",
           "title": {
            "standoff": 15
           },
           "zerolinecolor": "white",
           "zerolinewidth": 2
          }
         }
        }
       }
      },
      "text/html": [
       "<div\n",
       "    class=\"webio-mountpoint\"\n",
       "    data-webio-mountpoint=\"13627060658165785453\"\n",
       ">\n",
       "    <script>\n",
       "    (function(){\n",
       "    // Some integrations (namely, IJulia/Jupyter) use an alternate render pathway than\n",
       "    // just putting the html on the page. If WebIO isn't defined, then it's pretty likely\n",
       "    // that we're in one of those situations and the integration just isn't installed\n",
       "    // correctly.\n",
       "    if (typeof window.WebIO === \"undefined\") {\n",
       "        document\n",
       "            .querySelector('[data-webio-mountpoint=\"13627060658165785453\"]')\n",
       "            .innerHTML = (\n",
       "                '<div style=\"padding: 1em; background-color: #f8d6da; border: 1px solid #f5c6cb; font-weight: bold;\">' +\n",
       "                '<p><strong>WebIO not detected.</strong></p>' +\n",
       "                '<p>Please read ' +\n",
       "                '<a href=\"https://juliagizmos.github.io/WebIO.jl/latest/troubleshooting/not-detected/\" target=\"_blank\">the troubleshooting guide</a> ' +\n",
       "                'for more information on how to resolve this issue.</p>' +\n",
       "                '<p><a href=\"https://juliagizmos.github.io/WebIO.jl/latest/troubleshooting/not-detected/\" target=\"_blank\">https://juliagizmos.github.io/WebIO.jl/latest/troubleshooting/not-detected/</a></p>' +\n",
       "                '</div>'\n",
       "            );\n",
       "        return;\n",
       "    }\n",
       "    WebIO.mount(\n",
       "        document.querySelector('[data-webio-mountpoint=\"13627060658165785453\"]'),\n",
       "        {\"props\":{},\"nodeType\":\"Scope\",\"type\":\"node\",\"instanceArgs\":{\"imports\":{\"data\":[{\"name\":\"Plotly\",\"type\":\"js\",\"url\":\"\\/assetserver\\/3e2d063fcbfbf8797e7181829eb6f798910493eb-plotly.min.js\"},{\"name\":null,\"type\":\"js\",\"url\":\"\\/assetserver\\/588989ae0bd9d28bf0e53faaf41e2532b763e757-plotly_webio.bundle.js\"}],\"type\":\"async_block\"},\"id\":\"15116654115121370629\",\"handlers\":{\"_toImage\":[\"(function (options){return this.Plotly.toImage(this.plotElem,options).then((function (data){return WebIO.setval({\\\"name\\\":\\\"image\\\",\\\"scope\\\":\\\"15116654115121370629\\\",\\\"id\\\":\\\"17602943100641992030\\\",\\\"type\\\":\\\"observable\\\"},data)}))})\"],\"__get_gd_contents\":[\"(function (prop){prop==\\\"data\\\" ? (WebIO.setval({\\\"name\\\":\\\"__gd_contents\\\",\\\"scope\\\":\\\"15116654115121370629\\\",\\\"id\\\":\\\"2906267197532022745\\\",\\\"type\\\":\\\"observable\\\"},this.plotElem.data)) : undefined; return prop==\\\"layout\\\" ? (WebIO.setval({\\\"name\\\":\\\"__gd_contents\\\",\\\"scope\\\":\\\"15116654115121370629\\\",\\\"id\\\":\\\"2906267197532022745\\\",\\\"type\\\":\\\"observable\\\"},this.plotElem.layout)) : undefined})\"],\"_downloadImage\":[\"(function (options){return this.Plotly.downloadImage(this.plotElem,options)})\"],\"_commands\":[\"(function (args){var fn=args.shift(); var elem=this.plotElem; var Plotly=this.Plotly; args.unshift(elem); return Plotly[fn].apply(this,args)})\"]},\"systemjs_options\":null,\"mount_callbacks\":[\"function () {\\n    var handler = ((function (Plotly,PlotlyWebIO){PlotlyWebIO.init(WebIO); var gd=this.dom.querySelector(\\\"#plot-e0c8d73a-d23c-43b4-94c4-1934311a2f6f\\\"); this.plotElem=gd; this.Plotly=Plotly; (window.Blink!==undefined) ? (gd.style.width=\\\"100%\\\", gd.style.height=\\\"100vh\\\", gd.style.marginLeft=\\\"0%\\\", gd.style.marginTop=\\\"0vh\\\") : undefined; window.onresize=(function (){return Plotly.Plots.resize(gd)}); Plotly.newPlot(gd,[{\\\"mode\\\":\\\"markers\\\",\\\"y\\\":[176,102,42,867,96,296,50,87,312,175,1904,470,41,362,104],\\\"type\\\":\\\"scatter\\\",\\\"x\\\":[1.57,2.13,1.64,1.2,1.93,1.9,2.35,1.84,1.16,1.54,1.93,2.11,1.69,1.32,2.05]}],{\\\"template\\\":{\\\"layout\\\":{\\\"coloraxis\\\":{\\\"colorbar\\\":{\\\"ticks\\\":\\\"\\\",\\\"outlinewidth\\\":0}},\\\"xaxis\\\":{\\\"gridcolor\\\":\\\"white\\\",\\\"zerolinewidth\\\":2,\\\"title\\\":{\\\"standoff\\\":15},\\\"ticks\\\":\\\"\\\",\\\"zerolinecolor\\\":\\\"white\\\",\\\"automargin\\\":true,\\\"linecolor\\\":\\\"white\\\"},\\\"hovermode\\\":\\\"closest\\\",\\\"paper_bgcolor\\\":\\\"white\\\",\\\"geo\\\":{\\\"showlakes\\\":true,\\\"showland\\\":true,\\\"landcolor\\\":\\\"#E5ECF6\\\",\\\"bgcolor\\\":\\\"white\\\",\\\"subunitcolor\\\":\\\"white\\\",\\\"lakecolor\\\":\\\"white\\\"},\\\"colorscale\\\":{\\\"sequential\\\":[[0.0,\\\"#0d0887\\\"],[0.1111111111111111,\\\"#46039f\\\"],[0.2222222222222222,\\\"#7201a8\\\"],[0.3333333333333333,\\\"#9c179e\\\"],[0.4444444444444444,\\\"#bd3786\\\"],[0.5555555555555556,\\\"#d8576b\\\"],[0.6666666666666666,\\\"#ed7953\\\"],[0.7777777777777778,\\\"#fb9f3a\\\"],[0.8888888888888888,\\\"#fdca26\\\"],[1.0,\\\"#f0f921\\\"]],\\\"diverging\\\":[[0,\\\"#8e0152\\\"],[0.1,\\\"#c51b7d\\\"],[0.2,\\\"#de77ae\\\"],[0.3,\\\"#f1b6da\\\"],[0.4,\\\"#fde0ef\\\"],[0.5,\\\"#f7f7f7\\\"],[0.6,\\\"#e6f5d0\\\"],[0.7,\\\"#b8e186\\\"],[0.8,\\\"#7fbc41\\\"],[0.9,\\\"#4d9221\\\"],[1,\\\"#276419\\\"]],\\\"sequentialminus\\\":[[0.0,\\\"#0d0887\\\"],[0.1111111111111111,\\\"#46039f\\\"],[0.2222222222222222,\\\"#7201a8\\\"],[0.3333333333333333,\\\"#9c179e\\\"],[0.4444444444444444,\\\"#bd3786\\\"],[0.5555555555555556,\\\"#d8576b\\\"],[0.6666666666666666,\\\"#ed7953\\\"],[0.7777777777777778,\\\"#fb9f3a\\\"],[0.8888888888888888,\\\"#fdca26\\\"],[1.0,\\\"#f0f921\\\"]]},\\\"yaxis\\\":{\\\"gridcolor\\\":\\\"white\\\",\\\"zerolinewidth\\\":2,\\\"title\\\":{\\\"standoff\\\":15},\\\"ticks\\\":\\\"\\\",\\\"zerolinecolor\\\":\\\"white\\\",\\\"automargin\\\":true,\\\"linecolor\\\":\\\"white\\\"},\\\"shapedefaults\\\":{\\\"line\\\":{\\\"color\\\":\\\"#2a3f5f\\\"}},\\\"hoverlabel\\\":{\\\"align\\\":\\\"left\\\"},\\\"mapbox\\\":{\\\"style\\\":\\\"light\\\"},\\\"polar\\\":{\\\"angularaxis\\\":{\\\"gridcolor\\\":\\\"white\\\",\\\"ticks\\\":\\\"\\\",\\\"linecolor\\\":\\\"white\\\"},\\\"bgcolor\\\":\\\"#E5ECF6\\\",\\\"radialaxis\\\":{\\\"gridcolor\\\":\\\"white\\\",\\\"ticks\\\":\\\"\\\",\\\"linecolor\\\":\\\"white\\\"}},\\\"autotypenumbers\\\":\\\"strict\\\",\\\"font\\\":{\\\"color\\\":\\\"#2a3f5f\\\"},\\\"ternary\\\":{\\\"baxis\\\":{\\\"gridcolor\\\":\\\"white\\\",\\\"ticks\\\":\\\"\\\",\\\"linecolor\\\":\\\"white\\\"},\\\"bgcolor\\\":\\\"#E5ECF6\\\",\\\"caxis\\\":{\\\"gridcolor\\\":\\\"white\\\",\\\"ticks\\\":\\\"\\\",\\\"linecolor\\\":\\\"white\\\"},\\\"aaxis\\\":{\\\"gridcolor\\\":\\\"white\\\",\\\"ticks\\\":\\\"\\\",\\\"linecolor\\\":\\\"white\\\"}},\\\"annotationdefaults\\\":{\\\"arrowhead\\\":0,\\\"arrowwidth\\\":1,\\\"arrowcolor\\\":\\\"#2a3f5f\\\"},\\\"plot_bgcolor\\\":\\\"#E5ECF6\\\",\\\"title\\\":{\\\"x\\\":0.05},\\\"scene\\\":{\\\"xaxis\\\":{\\\"gridcolor\\\":\\\"white\\\",\\\"gridwidth\\\":2,\\\"backgroundcolor\\\":\\\"#E5ECF6\\\",\\\"ticks\\\":\\\"\\\",\\\"showbackground\\\":true,\\\"zerolinecolor\\\":\\\"white\\\",\\\"linecolor\\\":\\\"white\\\"},\\\"zaxis\\\":{\\\"gridcolor\\\":\\\"white\\\",\\\"gridwidth\\\":2,\\\"backgroundcolor\\\":\\\"#E5ECF6\\\",\\\"ticks\\\":\\\"\\\",\\\"showbackground\\\":true,\\\"zerolinecolor\\\":\\\"white\\\",\\\"linecolor\\\":\\\"white\\\"},\\\"yaxis\\\":{\\\"gridcolor\\\":\\\"white\\\",\\\"gridwidth\\\":2,\\\"backgroundcolor\\\":\\\"#E5ECF6\\\",\\\"ticks\\\":\\\"\\\",\\\"showbackground\\\":true,\\\"zerolinecolor\\\":\\\"white\\\",\\\"linecolor\\\":\\\"white\\\"}},\\\"colorway\\\":[\\\"#636efa\\\",\\\"#EF553B\\\",\\\"#00cc96\\\",\\\"#ab63fa\\\",\\\"#FFA15A\\\",\\\"#19d3f3\\\",\\\"#FF6692\\\",\\\"#B6E880\\\",\\\"#FF97FF\\\",\\\"#FECB52\\\"]},\\\"data\\\":{\\\"barpolar\\\":[{\\\"type\\\":\\\"barpolar\\\",\\\"marker\\\":{\\\"line\\\":{\\\"color\\\":\\\"#E5ECF6\\\",\\\"width\\\":0.5}}}],\\\"carpet\\\":[{\\\"aaxis\\\":{\\\"gridcolor\\\":\\\"white\\\",\\\"endlinecolor\\\":\\\"#2a3f5f\\\",\\\"minorgridcolor\\\":\\\"white\\\",\\\"startlinecolor\\\":\\\"#2a3f5f\\\",\\\"linecolor\\\":\\\"white\\\"},\\\"type\\\":\\\"carpet\\\",\\\"baxis\\\":{\\\"gridcolor\\\":\\\"white\\\",\\\"endlinecolor\\\":\\\"#2a3f5f\\\",\\\"minorgridcolor\\\":\\\"white\\\",\\\"startlinecolor\\\":\\\"#2a3f5f\\\",\\\"linecolor\\\":\\\"white\\\"}}],\\\"scatterpolar\\\":[{\\\"type\\\":\\\"scatterpolar\\\",\\\"marker\\\":{\\\"colorbar\\\":{\\\"ticks\\\":\\\"\\\",\\\"outlinewidth\\\":0}}}],\\\"parcoords\\\":[{\\\"line\\\":{\\\"colorbar\\\":{\\\"ticks\\\":\\\"\\\",\\\"outlinewidth\\\":0}},\\\"type\\\":\\\"parcoords\\\"}],\\\"scatter\\\":[{\\\"type\\\":\\\"scatter\\\",\\\"marker\\\":{\\\"colorbar\\\":{\\\"ticks\\\":\\\"\\\",\\\"outlinewidth\\\":0}}}],\\\"histogram2dcontour\\\":[{\\\"colorbar\\\":{\\\"ticks\\\":\\\"\\\",\\\"outlinewidth\\\":0},\\\"type\\\":\\\"histogram2dcontour\\\",\\\"colorscale\\\":[[0.0,\\\"#0d0887\\\"],[0.1111111111111111,\\\"#46039f\\\"],[0.2222222222222222,\\\"#7201a8\\\"],[0.3333333333333333,\\\"#9c179e\\\"],[0.4444444444444444,\\\"#bd3786\\\"],[0.5555555555555556,\\\"#d8576b\\\"],[0.6666666666666666,\\\"#ed7953\\\"],[0.7777777777777778,\\\"#fb9f3a\\\"],[0.8888888888888888,\\\"#fdca26\\\"],[1.0,\\\"#f0f921\\\"]]}],\\\"contour\\\":[{\\\"colorbar\\\":{\\\"ticks\\\":\\\"\\\",\\\"outlinewidth\\\":0},\\\"type\\\":\\\"contour\\\",\\\"colorscale\\\":[[0.0,\\\"#0d0887\\\"],[0.1111111111111111,\\\"#46039f\\\"],[0.2222222222222222,\\\"#7201a8\\\"],[0.3333333333333333,\\\"#9c179e\\\"],[0.4444444444444444,\\\"#bd3786\\\"],[0.5555555555555556,\\\"#d8576b\\\"],[0.6666666666666666,\\\"#ed7953\\\"],[0.7777777777777778,\\\"#fb9f3a\\\"],[0.8888888888888888,\\\"#fdca26\\\"],[1.0,\\\"#f0f921\\\"]]}],\\\"scattercarpet\\\":[{\\\"type\\\":\\\"scattercarpet\\\",\\\"marker\\\":{\\\"colorbar\\\":{\\\"ticks\\\":\\\"\\\",\\\"outlinewidth\\\":0}}}],\\\"mesh3d\\\":[{\\\"colorbar\\\":{\\\"ticks\\\":\\\"\\\",\\\"outlinewidth\\\":0},\\\"type\\\":\\\"mesh3d\\\"}],\\\"surface\\\":[{\\\"colorbar\\\":{\\\"ticks\\\":\\\"\\\",\\\"outlinewidth\\\":0},\\\"type\\\":\\\"surface\\\",\\\"colorscale\\\":[[0.0,\\\"#0d0887\\\"],[0.1111111111111111,\\\"#46039f\\\"],[0.2222222222222222,\\\"#7201a8\\\"],[0.3333333333333333,\\\"#9c179e\\\"],[0.4444444444444444,\\\"#bd3786\\\"],[0.5555555555555556,\\\"#d8576b\\\"],[0.6666666666666666,\\\"#ed7953\\\"],[0.7777777777777778,\\\"#fb9f3a\\\"],[0.8888888888888888,\\\"#fdca26\\\"],[1.0,\\\"#f0f921\\\"]]}],\\\"scattermapbox\\\":[{\\\"type\\\":\\\"scattermapbox\\\",\\\"marker\\\":{\\\"colorbar\\\":{\\\"ticks\\\":\\\"\\\",\\\"outlinewidth\\\":0}}}],\\\"scattergeo\\\":[{\\\"type\\\":\\\"scattergeo\\\",\\\"marker\\\":{\\\"colorbar\\\":{\\\"ticks\\\":\\\"\\\",\\\"outlinewidth\\\":0}}}],\\\"histogram\\\":[{\\\"type\\\":\\\"histogram\\\",\\\"marker\\\":{\\\"colorbar\\\":{\\\"ticks\\\":\\\"\\\",\\\"outlinewidth\\\":0}}}],\\\"pie\\\":[{\\\"type\\\":\\\"pie\\\",\\\"automargin\\\":true}],\\\"choropleth\\\":[{\\\"colorbar\\\":{\\\"ticks\\\":\\\"\\\",\\\"outlinewidth\\\":0},\\\"type\\\":\\\"choropleth\\\"}],\\\"heatmapgl\\\":[{\\\"colorbar\\\":{\\\"ticks\\\":\\\"\\\",\\\"outlinewidth\\\":0},\\\"type\\\":\\\"heatmapgl\\\",\\\"colorscale\\\":[[0.0,\\\"#0d0887\\\"],[0.1111111111111111,\\\"#46039f\\\"],[0.2222222222222222,\\\"#7201a8\\\"],[0.3333333333333333,\\\"#9c179e\\\"],[0.4444444444444444,\\\"#bd3786\\\"],[0.5555555555555556,\\\"#d8576b\\\"],[0.6666666666666666,\\\"#ed7953\\\"],[0.7777777777777778,\\\"#fb9f3a\\\"],[0.8888888888888888,\\\"#fdca26\\\"],[1.0,\\\"#f0f921\\\"]]}],\\\"bar\\\":[{\\\"type\\\":\\\"bar\\\",\\\"error_y\\\":{\\\"color\\\":\\\"#2a3f5f\\\"},\\\"error_x\\\":{\\\"color\\\":\\\"#2a3f5f\\\"},\\\"marker\\\":{\\\"line\\\":{\\\"color\\\":\\\"#E5ECF6\\\",\\\"width\\\":0.5}}}],\\\"heatmap\\\":[{\\\"colorbar\\\":{\\\"ticks\\\":\\\"\\\",\\\"outlinewidth\\\":0},\\\"type\\\":\\\"heatmap\\\",\\\"colorscale\\\":[[0.0,\\\"#0d0887\\\"],[0.1111111111111111,\\\"#46039f\\\"],[0.2222222222222222,\\\"#7201a8\\\"],[0.3333333333333333,\\\"#9c179e\\\"],[0.4444444444444444,\\\"#bd3786\\\"],[0.5555555555555556,\\\"#d8576b\\\"],[0.6666666666666666,\\\"#ed7953\\\"],[0.7777777777777778,\\\"#fb9f3a\\\"],[0.8888888888888888,\\\"#fdca26\\\"],[1.0,\\\"#f0f921\\\"]]}],\\\"contourcarpet\\\":[{\\\"colorbar\\\":{\\\"ticks\\\":\\\"\\\",\\\"outlinewidth\\\":0},\\\"type\\\":\\\"contourcarpet\\\"}],\\\"table\\\":[{\\\"type\\\":\\\"table\\\",\\\"header\\\":{\\\"line\\\":{\\\"color\\\":\\\"white\\\"},\\\"fill\\\":{\\\"color\\\":\\\"#C8D4E3\\\"}},\\\"cells\\\":{\\\"line\\\":{\\\"color\\\":\\\"white\\\"},\\\"fill\\\":{\\\"color\\\":\\\"#EBF0F8\\\"}}}],\\\"scatter3d\\\":[{\\\"line\\\":{\\\"colorbar\\\":{\\\"ticks\\\":\\\"\\\",\\\"outlinewidth\\\":0}},\\\"type\\\":\\\"scatter3d\\\",\\\"marker\\\":{\\\"colorbar\\\":{\\\"ticks\\\":\\\"\\\",\\\"outlinewidth\\\":0}}}],\\\"scattergl\\\":[{\\\"type\\\":\\\"scattergl\\\",\\\"marker\\\":{\\\"colorbar\\\":{\\\"ticks\\\":\\\"\\\",\\\"outlinewidth\\\":0}}}],\\\"histogram2d\\\":[{\\\"colorbar\\\":{\\\"ticks\\\":\\\"\\\",\\\"outlinewidth\\\":0},\\\"type\\\":\\\"histogram2d\\\",\\\"colorscale\\\":[[0.0,\\\"#0d0887\\\"],[0.1111111111111111,\\\"#46039f\\\"],[0.2222222222222222,\\\"#7201a8\\\"],[0.3333333333333333,\\\"#9c179e\\\"],[0.4444444444444444,\\\"#bd3786\\\"],[0.5555555555555556,\\\"#d8576b\\\"],[0.6666666666666666,\\\"#ed7953\\\"],[0.7777777777777778,\\\"#fb9f3a\\\"],[0.8888888888888888,\\\"#fdca26\\\"],[1.0,\\\"#f0f921\\\"]]}],\\\"scatterternary\\\":[{\\\"type\\\":\\\"scatterternary\\\",\\\"marker\\\":{\\\"colorbar\\\":{\\\"ticks\\\":\\\"\\\",\\\"outlinewidth\\\":0}}}],\\\"scatterpolargl\\\":[{\\\"type\\\":\\\"scatterpolargl\\\",\\\"marker\\\":{\\\"colorbar\\\":{\\\"ticks\\\":\\\"\\\",\\\"outlinewidth\\\":0}}}]}},\\\"margin\\\":{\\\"l\\\":50,\\\"b\\\":50,\\\"r\\\":50,\\\"t\\\":60}},{\\\"showLink\\\":false,\\\"editable\\\":false,\\\"responsive\\\":true,\\\"staticPlot\\\":false,\\\"scrollZoom\\\":true}); gd.on(\\\"plotly_hover\\\",(function (data){var filtered_data=WebIO.PlotlyCommands.filterEventData(gd,data,\\\"hover\\\"); return !(filtered_data.isnil) ? (WebIO.setval({\\\"name\\\":\\\"hover\\\",\\\"scope\\\":\\\"15116654115121370629\\\",\\\"id\\\":\\\"1731971358134261633\\\",\\\"type\\\":\\\"observable\\\"},filtered_data.out)) : undefined})); gd.on(\\\"plotly_unhover\\\",(function (){return WebIO.setval({\\\"name\\\":\\\"hover\\\",\\\"scope\\\":\\\"15116654115121370629\\\",\\\"id\\\":\\\"1731971358134261633\\\",\\\"type\\\":\\\"observable\\\"},{})})); gd.on(\\\"plotly_selected\\\",(function (data){var filtered_data=WebIO.PlotlyCommands.filterEventData(gd,data,\\\"selected\\\"); return !(filtered_data.isnil) ? (WebIO.setval({\\\"name\\\":\\\"selected\\\",\\\"scope\\\":\\\"15116654115121370629\\\",\\\"id\\\":\\\"16104185354727469381\\\",\\\"type\\\":\\\"observable\\\"},filtered_data.out)) : undefined})); gd.on(\\\"plotly_deselect\\\",(function (){return WebIO.setval({\\\"name\\\":\\\"selected\\\",\\\"scope\\\":\\\"15116654115121370629\\\",\\\"id\\\":\\\"16104185354727469381\\\",\\\"type\\\":\\\"observable\\\"},{})})); gd.on(\\\"plotly_relayout\\\",(function (data){var filtered_data=WebIO.PlotlyCommands.filterEventData(gd,data,\\\"relayout\\\"); return !(filtered_data.isnil) ? (WebIO.setval({\\\"name\\\":\\\"relayout\\\",\\\"scope\\\":\\\"15116654115121370629\\\",\\\"id\\\":\\\"10383255247690304748\\\",\\\"type\\\":\\\"observable\\\"},filtered_data.out)) : undefined})); return gd.on(\\\"plotly_click\\\",(function (data){var filtered_data=WebIO.PlotlyCommands.filterEventData(gd,data,\\\"click\\\"); return !(filtered_data.isnil) ? (WebIO.setval({\\\"name\\\":\\\"click\\\",\\\"scope\\\":\\\"15116654115121370629\\\",\\\"id\\\":\\\"16030407501699087459\\\",\\\"type\\\":\\\"observable\\\"},filtered_data.out)) : undefined}))}));\\n    (WebIO.importBlock({\\\"data\\\":[{\\\"name\\\":\\\"Plotly\\\",\\\"type\\\":\\\"js\\\",\\\"url\\\":\\\"\\/assetserver\\/3e2d063fcbfbf8797e7181829eb6f798910493eb-plotly.min.js\\\"},{\\\"name\\\":null,\\\"type\\\":\\\"js\\\",\\\"url\\\":\\\"\\/assetserver\\/588989ae0bd9d28bf0e53faaf41e2532b763e757-plotly_webio.bundle.js\\\"}],\\\"type\\\":\\\"async_block\\\"})).then((imports) => handler.apply(this, imports));\\n}\\n\"],\"observables\":{\"_toImage\":{\"sync\":false,\"id\":\"10122823141002633370\",\"value\":{}},\"hover\":{\"sync\":false,\"id\":\"1731971358134261633\",\"value\":{}},\"selected\":{\"sync\":false,\"id\":\"16104185354727469381\",\"value\":{}},\"__gd_contents\":{\"sync\":false,\"id\":\"2906267197532022745\",\"value\":{}},\"click\":{\"sync\":false,\"id\":\"16030407501699087459\",\"value\":{}},\"image\":{\"sync\":true,\"id\":\"17602943100641992030\",\"value\":\"\"},\"__get_gd_contents\":{\"sync\":false,\"id\":\"14168849783608682196\",\"value\":\"\"},\"_downloadImage\":{\"sync\":false,\"id\":\"12439515747638442671\",\"value\":{}},\"relayout\":{\"sync\":false,\"id\":\"10383255247690304748\",\"value\":{}},\"_commands\":{\"sync\":false,\"id\":\"17841205415066159474\",\"value\":[]}}},\"children\":[{\"props\":{\"id\":\"plot-e0c8d73a-d23c-43b4-94c4-1934311a2f6f\"},\"nodeType\":\"DOM\",\"type\":\"node\",\"instanceArgs\":{\"namespace\":\"html\",\"tag\":\"div\"},\"children\":[]}]},\n",
       "        window,\n",
       "    );\n",
       "    })()\n",
       "    </script>\n",
       "</div>\n"
      ],
      "text/plain": [
       "data: [\n",
       "  \"scatter with fields mode, type, x, and y\"\n",
       "]\n",
       "\n",
       "layout: \"layout with fields margin and template\"\n",
       "\n"
      ]
     },
     "execution_count": 21,
     "metadata": {},
     "output_type": "execute_result"
    }
   ],
   "source": [
    "plot(scatter(agri_col_cleansed, x=:Phosphorus, y=:num_of_protests, mode=\"markers\"))"
   ]
  },
  {
   "cell_type": "code",
   "execution_count": 22,
   "metadata": {},
   "outputs": [
    {
     "data": {
      "application/vnd.plotly.v1+json": {
       "config": {
        "editable": false,
        "responsive": true,
        "scrollZoom": true,
        "showLink": false,
        "staticPlot": false
       },
       "data": [
        {
         "mode": "markers",
         "type": "scatter",
         "x": [
          2.52,
          2.14,
          2.6,
          2.05,
          1.63,
          2.54,
          1.98,
          2.48,
          2.66,
          1.93,
          2.4,
          2.4,
          1.7,
          2.21,
          2.04
         ],
         "y": [
          176,
          102,
          42,
          867,
          96,
          296,
          50,
          87,
          312,
          175,
          1904,
          470,
          41,
          362,
          104
         ]
        }
       ],
       "frames": [],
       "layout": {
        "margin": {
         "b": 50,
         "l": 50,
         "r": 50,
         "t": 60
        },
        "template": {
         "data": {
          "bar": [
           {
            "error_x": {
             "color": "#2a3f5f"
            },
            "error_y": {
             "color": "#2a3f5f"
            },
            "marker": {
             "line": {
              "color": "#E5ECF6",
              "width": 0.5
             }
            },
            "type": "bar"
           }
          ],
          "barpolar": [
           {
            "marker": {
             "line": {
              "color": "#E5ECF6",
              "width": 0.5
             }
            },
            "type": "barpolar"
           }
          ],
          "carpet": [
           {
            "aaxis": {
             "endlinecolor": "#2a3f5f",
             "gridcolor": "white",
             "linecolor": "white",
             "minorgridcolor": "white",
             "startlinecolor": "#2a3f5f"
            },
            "baxis": {
             "endlinecolor": "#2a3f5f",
             "gridcolor": "white",
             "linecolor": "white",
             "minorgridcolor": "white",
             "startlinecolor": "#2a3f5f"
            },
            "type": "carpet"
           }
          ],
          "choropleth": [
           {
            "colorbar": {
             "outlinewidth": 0,
             "ticks": ""
            },
            "type": "choropleth"
           }
          ],
          "contour": [
           {
            "colorbar": {
             "outlinewidth": 0,
             "ticks": ""
            },
            "colorscale": [
             [
              0,
              "#0d0887"
             ],
             [
              0.1111111111111111,
              "#46039f"
             ],
             [
              0.2222222222222222,
              "#7201a8"
             ],
             [
              0.3333333333333333,
              "#9c179e"
             ],
             [
              0.4444444444444444,
              "#bd3786"
             ],
             [
              0.5555555555555556,
              "#d8576b"
             ],
             [
              0.6666666666666666,
              "#ed7953"
             ],
             [
              0.7777777777777778,
              "#fb9f3a"
             ],
             [
              0.8888888888888888,
              "#fdca26"
             ],
             [
              1,
              "#f0f921"
             ]
            ],
            "type": "contour"
           }
          ],
          "contourcarpet": [
           {
            "colorbar": {
             "outlinewidth": 0,
             "ticks": ""
            },
            "type": "contourcarpet"
           }
          ],
          "heatmap": [
           {
            "colorbar": {
             "outlinewidth": 0,
             "ticks": ""
            },
            "colorscale": [
             [
              0,
              "#0d0887"
             ],
             [
              0.1111111111111111,
              "#46039f"
             ],
             [
              0.2222222222222222,
              "#7201a8"
             ],
             [
              0.3333333333333333,
              "#9c179e"
             ],
             [
              0.4444444444444444,
              "#bd3786"
             ],
             [
              0.5555555555555556,
              "#d8576b"
             ],
             [
              0.6666666666666666,
              "#ed7953"
             ],
             [
              0.7777777777777778,
              "#fb9f3a"
             ],
             [
              0.8888888888888888,
              "#fdca26"
             ],
             [
              1,
              "#f0f921"
             ]
            ],
            "type": "heatmap"
           }
          ],
          "heatmapgl": [
           {
            "colorbar": {
             "outlinewidth": 0,
             "ticks": ""
            },
            "colorscale": [
             [
              0,
              "#0d0887"
             ],
             [
              0.1111111111111111,
              "#46039f"
             ],
             [
              0.2222222222222222,
              "#7201a8"
             ],
             [
              0.3333333333333333,
              "#9c179e"
             ],
             [
              0.4444444444444444,
              "#bd3786"
             ],
             [
              0.5555555555555556,
              "#d8576b"
             ],
             [
              0.6666666666666666,
              "#ed7953"
             ],
             [
              0.7777777777777778,
              "#fb9f3a"
             ],
             [
              0.8888888888888888,
              "#fdca26"
             ],
             [
              1,
              "#f0f921"
             ]
            ],
            "type": "heatmapgl"
           }
          ],
          "histogram": [
           {
            "marker": {
             "colorbar": {
              "outlinewidth": 0,
              "ticks": ""
             }
            },
            "type": "histogram"
           }
          ],
          "histogram2d": [
           {
            "colorbar": {
             "outlinewidth": 0,
             "ticks": ""
            },
            "colorscale": [
             [
              0,
              "#0d0887"
             ],
             [
              0.1111111111111111,
              "#46039f"
             ],
             [
              0.2222222222222222,
              "#7201a8"
             ],
             [
              0.3333333333333333,
              "#9c179e"
             ],
             [
              0.4444444444444444,
              "#bd3786"
             ],
             [
              0.5555555555555556,
              "#d8576b"
             ],
             [
              0.6666666666666666,
              "#ed7953"
             ],
             [
              0.7777777777777778,
              "#fb9f3a"
             ],
             [
              0.8888888888888888,
              "#fdca26"
             ],
             [
              1,
              "#f0f921"
             ]
            ],
            "type": "histogram2d"
           }
          ],
          "histogram2dcontour": [
           {
            "colorbar": {
             "outlinewidth": 0,
             "ticks": ""
            },
            "colorscale": [
             [
              0,
              "#0d0887"
             ],
             [
              0.1111111111111111,
              "#46039f"
             ],
             [
              0.2222222222222222,
              "#7201a8"
             ],
             [
              0.3333333333333333,
              "#9c179e"
             ],
             [
              0.4444444444444444,
              "#bd3786"
             ],
             [
              0.5555555555555556,
              "#d8576b"
             ],
             [
              0.6666666666666666,
              "#ed7953"
             ],
             [
              0.7777777777777778,
              "#fb9f3a"
             ],
             [
              0.8888888888888888,
              "#fdca26"
             ],
             [
              1,
              "#f0f921"
             ]
            ],
            "type": "histogram2dcontour"
           }
          ],
          "mesh3d": [
           {
            "colorbar": {
             "outlinewidth": 0,
             "ticks": ""
            },
            "type": "mesh3d"
           }
          ],
          "parcoords": [
           {
            "line": {
             "colorbar": {
              "outlinewidth": 0,
              "ticks": ""
             }
            },
            "type": "parcoords"
           }
          ],
          "pie": [
           {
            "automargin": true,
            "type": "pie"
           }
          ],
          "scatter": [
           {
            "marker": {
             "colorbar": {
              "outlinewidth": 0,
              "ticks": ""
             }
            },
            "type": "scatter"
           }
          ],
          "scatter3d": [
           {
            "line": {
             "colorbar": {
              "outlinewidth": 0,
              "ticks": ""
             }
            },
            "marker": {
             "colorbar": {
              "outlinewidth": 0,
              "ticks": ""
             }
            },
            "type": "scatter3d"
           }
          ],
          "scattercarpet": [
           {
            "marker": {
             "colorbar": {
              "outlinewidth": 0,
              "ticks": ""
             }
            },
            "type": "scattercarpet"
           }
          ],
          "scattergeo": [
           {
            "marker": {
             "colorbar": {
              "outlinewidth": 0,
              "ticks": ""
             }
            },
            "type": "scattergeo"
           }
          ],
          "scattergl": [
           {
            "marker": {
             "colorbar": {
              "outlinewidth": 0,
              "ticks": ""
             }
            },
            "type": "scattergl"
           }
          ],
          "scattermapbox": [
           {
            "marker": {
             "colorbar": {
              "outlinewidth": 0,
              "ticks": ""
             }
            },
            "type": "scattermapbox"
           }
          ],
          "scatterpolar": [
           {
            "marker": {
             "colorbar": {
              "outlinewidth": 0,
              "ticks": ""
             }
            },
            "type": "scatterpolar"
           }
          ],
          "scatterpolargl": [
           {
            "marker": {
             "colorbar": {
              "outlinewidth": 0,
              "ticks": ""
             }
            },
            "type": "scatterpolargl"
           }
          ],
          "scatterternary": [
           {
            "marker": {
             "colorbar": {
              "outlinewidth": 0,
              "ticks": ""
             }
            },
            "type": "scatterternary"
           }
          ],
          "surface": [
           {
            "colorbar": {
             "outlinewidth": 0,
             "ticks": ""
            },
            "colorscale": [
             [
              0,
              "#0d0887"
             ],
             [
              0.1111111111111111,
              "#46039f"
             ],
             [
              0.2222222222222222,
              "#7201a8"
             ],
             [
              0.3333333333333333,
              "#9c179e"
             ],
             [
              0.4444444444444444,
              "#bd3786"
             ],
             [
              0.5555555555555556,
              "#d8576b"
             ],
             [
              0.6666666666666666,
              "#ed7953"
             ],
             [
              0.7777777777777778,
              "#fb9f3a"
             ],
             [
              0.8888888888888888,
              "#fdca26"
             ],
             [
              1,
              "#f0f921"
             ]
            ],
            "type": "surface"
           }
          ],
          "table": [
           {
            "cells": {
             "fill": {
              "color": "#EBF0F8"
             },
             "line": {
              "color": "white"
             }
            },
            "header": {
             "fill": {
              "color": "#C8D4E3"
             },
             "line": {
              "color": "white"
             }
            },
            "type": "table"
           }
          ]
         },
         "layout": {
          "annotationdefaults": {
           "arrowcolor": "#2a3f5f",
           "arrowhead": 0,
           "arrowwidth": 1
          },
          "autotypenumbers": "strict",
          "coloraxis": {
           "colorbar": {
            "outlinewidth": 0,
            "ticks": ""
           }
          },
          "colorscale": {
           "diverging": [
            [
             0,
             "#8e0152"
            ],
            [
             0.1,
             "#c51b7d"
            ],
            [
             0.2,
             "#de77ae"
            ],
            [
             0.3,
             "#f1b6da"
            ],
            [
             0.4,
             "#fde0ef"
            ],
            [
             0.5,
             "#f7f7f7"
            ],
            [
             0.6,
             "#e6f5d0"
            ],
            [
             0.7,
             "#b8e186"
            ],
            [
             0.8,
             "#7fbc41"
            ],
            [
             0.9,
             "#4d9221"
            ],
            [
             1,
             "#276419"
            ]
           ],
           "sequential": [
            [
             0,
             "#0d0887"
            ],
            [
             0.1111111111111111,
             "#46039f"
            ],
            [
             0.2222222222222222,
             "#7201a8"
            ],
            [
             0.3333333333333333,
             "#9c179e"
            ],
            [
             0.4444444444444444,
             "#bd3786"
            ],
            [
             0.5555555555555556,
             "#d8576b"
            ],
            [
             0.6666666666666666,
             "#ed7953"
            ],
            [
             0.7777777777777778,
             "#fb9f3a"
            ],
            [
             0.8888888888888888,
             "#fdca26"
            ],
            [
             1,
             "#f0f921"
            ]
           ],
           "sequentialminus": [
            [
             0,
             "#0d0887"
            ],
            [
             0.1111111111111111,
             "#46039f"
            ],
            [
             0.2222222222222222,
             "#7201a8"
            ],
            [
             0.3333333333333333,
             "#9c179e"
            ],
            [
             0.4444444444444444,
             "#bd3786"
            ],
            [
             0.5555555555555556,
             "#d8576b"
            ],
            [
             0.6666666666666666,
             "#ed7953"
            ],
            [
             0.7777777777777778,
             "#fb9f3a"
            ],
            [
             0.8888888888888888,
             "#fdca26"
            ],
            [
             1,
             "#f0f921"
            ]
           ]
          },
          "colorway": [
           "#636efa",
           "#EF553B",
           "#00cc96",
           "#ab63fa",
           "#FFA15A",
           "#19d3f3",
           "#FF6692",
           "#B6E880",
           "#FF97FF",
           "#FECB52"
          ],
          "font": {
           "color": "#2a3f5f"
          },
          "geo": {
           "bgcolor": "white",
           "lakecolor": "white",
           "landcolor": "#E5ECF6",
           "showlakes": true,
           "showland": true,
           "subunitcolor": "white"
          },
          "hoverlabel": {
           "align": "left"
          },
          "hovermode": "closest",
          "mapbox": {
           "style": "light"
          },
          "paper_bgcolor": "white",
          "plot_bgcolor": "#E5ECF6",
          "polar": {
           "angularaxis": {
            "gridcolor": "white",
            "linecolor": "white",
            "ticks": ""
           },
           "bgcolor": "#E5ECF6",
           "radialaxis": {
            "gridcolor": "white",
            "linecolor": "white",
            "ticks": ""
           }
          },
          "scene": {
           "xaxis": {
            "backgroundcolor": "#E5ECF6",
            "gridcolor": "white",
            "gridwidth": 2,
            "linecolor": "white",
            "showbackground": true,
            "ticks": "",
            "zerolinecolor": "white"
           },
           "yaxis": {
            "backgroundcolor": "#E5ECF6",
            "gridcolor": "white",
            "gridwidth": 2,
            "linecolor": "white",
            "showbackground": true,
            "ticks": "",
            "zerolinecolor": "white"
           },
           "zaxis": {
            "backgroundcolor": "#E5ECF6",
            "gridcolor": "white",
            "gridwidth": 2,
            "linecolor": "white",
            "showbackground": true,
            "ticks": "",
            "zerolinecolor": "white"
           }
          },
          "shapedefaults": {
           "line": {
            "color": "#2a3f5f"
           }
          },
          "ternary": {
           "aaxis": {
            "gridcolor": "white",
            "linecolor": "white",
            "ticks": ""
           },
           "baxis": {
            "gridcolor": "white",
            "linecolor": "white",
            "ticks": ""
           },
           "bgcolor": "#E5ECF6",
           "caxis": {
            "gridcolor": "white",
            "linecolor": "white",
            "ticks": ""
           }
          },
          "title": {
           "x": 0.05
          },
          "xaxis": {
           "automargin": true,
           "gridcolor": "white",
           "linecolor": "white",
           "ticks": "",
           "title": {
            "standoff": 15
           },
           "zerolinecolor": "white",
           "zerolinewidth": 2
          },
          "yaxis": {
           "automargin": true,
           "gridcolor": "white",
           "linecolor": "white",
           "ticks": "",
           "title": {
            "standoff": 15
           },
           "zerolinecolor": "white",
           "zerolinewidth": 2
          }
         }
        }
       }
      },
      "text/html": [
       "<div\n",
       "    class=\"webio-mountpoint\"\n",
       "    data-webio-mountpoint=\"1502752167210815376\"\n",
       ">\n",
       "    <script>\n",
       "    (function(){\n",
       "    // Some integrations (namely, IJulia/Jupyter) use an alternate render pathway than\n",
       "    // just putting the html on the page. If WebIO isn't defined, then it's pretty likely\n",
       "    // that we're in one of those situations and the integration just isn't installed\n",
       "    // correctly.\n",
       "    if (typeof window.WebIO === \"undefined\") {\n",
       "        document\n",
       "            .querySelector('[data-webio-mountpoint=\"1502752167210815376\"]')\n",
       "            .innerHTML = (\n",
       "                '<div style=\"padding: 1em; background-color: #f8d6da; border: 1px solid #f5c6cb; font-weight: bold;\">' +\n",
       "                '<p><strong>WebIO not detected.</strong></p>' +\n",
       "                '<p>Please read ' +\n",
       "                '<a href=\"https://juliagizmos.github.io/WebIO.jl/latest/troubleshooting/not-detected/\" target=\"_blank\">the troubleshooting guide</a> ' +\n",
       "                'for more information on how to resolve this issue.</p>' +\n",
       "                '<p><a href=\"https://juliagizmos.github.io/WebIO.jl/latest/troubleshooting/not-detected/\" target=\"_blank\">https://juliagizmos.github.io/WebIO.jl/latest/troubleshooting/not-detected/</a></p>' +\n",
       "                '</div>'\n",
       "            );\n",
       "        return;\n",
       "    }\n",
       "    WebIO.mount(\n",
       "        document.querySelector('[data-webio-mountpoint=\"1502752167210815376\"]'),\n",
       "        {\"props\":{},\"nodeType\":\"Scope\",\"type\":\"node\",\"instanceArgs\":{\"imports\":{\"data\":[{\"name\":\"Plotly\",\"type\":\"js\",\"url\":\"\\/assetserver\\/3e2d063fcbfbf8797e7181829eb6f798910493eb-plotly.min.js\"},{\"name\":null,\"type\":\"js\",\"url\":\"\\/assetserver\\/588989ae0bd9d28bf0e53faaf41e2532b763e757-plotly_webio.bundle.js\"}],\"type\":\"async_block\"},\"id\":\"6473737476843226163\",\"handlers\":{\"_toImage\":[\"(function (options){return this.Plotly.toImage(this.plotElem,options).then((function (data){return WebIO.setval({\\\"name\\\":\\\"image\\\",\\\"scope\\\":\\\"6473737476843226163\\\",\\\"id\\\":\\\"12999861875238090910\\\",\\\"type\\\":\\\"observable\\\"},data)}))})\"],\"__get_gd_contents\":[\"(function (prop){prop==\\\"data\\\" ? (WebIO.setval({\\\"name\\\":\\\"__gd_contents\\\",\\\"scope\\\":\\\"6473737476843226163\\\",\\\"id\\\":\\\"7265793843340969202\\\",\\\"type\\\":\\\"observable\\\"},this.plotElem.data)) : undefined; return prop==\\\"layout\\\" ? (WebIO.setval({\\\"name\\\":\\\"__gd_contents\\\",\\\"scope\\\":\\\"6473737476843226163\\\",\\\"id\\\":\\\"7265793843340969202\\\",\\\"type\\\":\\\"observable\\\"},this.plotElem.layout)) : undefined})\"],\"_downloadImage\":[\"(function (options){return this.Plotly.downloadImage(this.plotElem,options)})\"],\"_commands\":[\"(function (args){var fn=args.shift(); var elem=this.plotElem; var Plotly=this.Plotly; args.unshift(elem); return Plotly[fn].apply(this,args)})\"]},\"systemjs_options\":null,\"mount_callbacks\":[\"function () {\\n    var handler = ((function (Plotly,PlotlyWebIO){PlotlyWebIO.init(WebIO); var gd=this.dom.querySelector(\\\"#plot-38c38b37-23af-4cb4-8e87-115cdcd12255\\\"); this.plotElem=gd; this.Plotly=Plotly; (window.Blink!==undefined) ? (gd.style.width=\\\"100%\\\", gd.style.height=\\\"100vh\\\", gd.style.marginLeft=\\\"0%\\\", gd.style.marginTop=\\\"0vh\\\") : undefined; window.onresize=(function (){return Plotly.Plots.resize(gd)}); Plotly.newPlot(gd,[{\\\"mode\\\":\\\"markers\\\",\\\"y\\\":[176,102,42,867,96,296,50,87,312,175,1904,470,41,362,104],\\\"type\\\":\\\"scatter\\\",\\\"x\\\":[2.52,2.14,2.6,2.05,1.63,2.54,1.98,2.48,2.66,1.93,2.4,2.4,1.7,2.21,2.04]}],{\\\"template\\\":{\\\"layout\\\":{\\\"coloraxis\\\":{\\\"colorbar\\\":{\\\"ticks\\\":\\\"\\\",\\\"outlinewidth\\\":0}},\\\"xaxis\\\":{\\\"gridcolor\\\":\\\"white\\\",\\\"zerolinewidth\\\":2,\\\"title\\\":{\\\"standoff\\\":15},\\\"ticks\\\":\\\"\\\",\\\"zerolinecolor\\\":\\\"white\\\",\\\"automargin\\\":true,\\\"linecolor\\\":\\\"white\\\"},\\\"hovermode\\\":\\\"closest\\\",\\\"paper_bgcolor\\\":\\\"white\\\",\\\"geo\\\":{\\\"showlakes\\\":true,\\\"showland\\\":true,\\\"landcolor\\\":\\\"#E5ECF6\\\",\\\"bgcolor\\\":\\\"white\\\",\\\"subunitcolor\\\":\\\"white\\\",\\\"lakecolor\\\":\\\"white\\\"},\\\"colorscale\\\":{\\\"sequential\\\":[[0.0,\\\"#0d0887\\\"],[0.1111111111111111,\\\"#46039f\\\"],[0.2222222222222222,\\\"#7201a8\\\"],[0.3333333333333333,\\\"#9c179e\\\"],[0.4444444444444444,\\\"#bd3786\\\"],[0.5555555555555556,\\\"#d8576b\\\"],[0.6666666666666666,\\\"#ed7953\\\"],[0.7777777777777778,\\\"#fb9f3a\\\"],[0.8888888888888888,\\\"#fdca26\\\"],[1.0,\\\"#f0f921\\\"]],\\\"diverging\\\":[[0,\\\"#8e0152\\\"],[0.1,\\\"#c51b7d\\\"],[0.2,\\\"#de77ae\\\"],[0.3,\\\"#f1b6da\\\"],[0.4,\\\"#fde0ef\\\"],[0.5,\\\"#f7f7f7\\\"],[0.6,\\\"#e6f5d0\\\"],[0.7,\\\"#b8e186\\\"],[0.8,\\\"#7fbc41\\\"],[0.9,\\\"#4d9221\\\"],[1,\\\"#276419\\\"]],\\\"sequentialminus\\\":[[0.0,\\\"#0d0887\\\"],[0.1111111111111111,\\\"#46039f\\\"],[0.2222222222222222,\\\"#7201a8\\\"],[0.3333333333333333,\\\"#9c179e\\\"],[0.4444444444444444,\\\"#bd3786\\\"],[0.5555555555555556,\\\"#d8576b\\\"],[0.6666666666666666,\\\"#ed7953\\\"],[0.7777777777777778,\\\"#fb9f3a\\\"],[0.8888888888888888,\\\"#fdca26\\\"],[1.0,\\\"#f0f921\\\"]]},\\\"yaxis\\\":{\\\"gridcolor\\\":\\\"white\\\",\\\"zerolinewidth\\\":2,\\\"title\\\":{\\\"standoff\\\":15},\\\"ticks\\\":\\\"\\\",\\\"zerolinecolor\\\":\\\"white\\\",\\\"automargin\\\":true,\\\"linecolor\\\":\\\"white\\\"},\\\"shapedefaults\\\":{\\\"line\\\":{\\\"color\\\":\\\"#2a3f5f\\\"}},\\\"hoverlabel\\\":{\\\"align\\\":\\\"left\\\"},\\\"mapbox\\\":{\\\"style\\\":\\\"light\\\"},\\\"polar\\\":{\\\"angularaxis\\\":{\\\"gridcolor\\\":\\\"white\\\",\\\"ticks\\\":\\\"\\\",\\\"linecolor\\\":\\\"white\\\"},\\\"bgcolor\\\":\\\"#E5ECF6\\\",\\\"radialaxis\\\":{\\\"gridcolor\\\":\\\"white\\\",\\\"ticks\\\":\\\"\\\",\\\"linecolor\\\":\\\"white\\\"}},\\\"autotypenumbers\\\":\\\"strict\\\",\\\"font\\\":{\\\"color\\\":\\\"#2a3f5f\\\"},\\\"ternary\\\":{\\\"baxis\\\":{\\\"gridcolor\\\":\\\"white\\\",\\\"ticks\\\":\\\"\\\",\\\"linecolor\\\":\\\"white\\\"},\\\"bgcolor\\\":\\\"#E5ECF6\\\",\\\"caxis\\\":{\\\"gridcolor\\\":\\\"white\\\",\\\"ticks\\\":\\\"\\\",\\\"linecolor\\\":\\\"white\\\"},\\\"aaxis\\\":{\\\"gridcolor\\\":\\\"white\\\",\\\"ticks\\\":\\\"\\\",\\\"linecolor\\\":\\\"white\\\"}},\\\"annotationdefaults\\\":{\\\"arrowhead\\\":0,\\\"arrowwidth\\\":1,\\\"arrowcolor\\\":\\\"#2a3f5f\\\"},\\\"plot_bgcolor\\\":\\\"#E5ECF6\\\",\\\"title\\\":{\\\"x\\\":0.05},\\\"scene\\\":{\\\"xaxis\\\":{\\\"gridcolor\\\":\\\"white\\\",\\\"gridwidth\\\":2,\\\"backgroundcolor\\\":\\\"#E5ECF6\\\",\\\"ticks\\\":\\\"\\\",\\\"showbackground\\\":true,\\\"zerolinecolor\\\":\\\"white\\\",\\\"linecolor\\\":\\\"white\\\"},\\\"zaxis\\\":{\\\"gridcolor\\\":\\\"white\\\",\\\"gridwidth\\\":2,\\\"backgroundcolor\\\":\\\"#E5ECF6\\\",\\\"ticks\\\":\\\"\\\",\\\"showbackground\\\":true,\\\"zerolinecolor\\\":\\\"white\\\",\\\"linecolor\\\":\\\"white\\\"},\\\"yaxis\\\":{\\\"gridcolor\\\":\\\"white\\\",\\\"gridwidth\\\":2,\\\"backgroundcolor\\\":\\\"#E5ECF6\\\",\\\"ticks\\\":\\\"\\\",\\\"showbackground\\\":true,\\\"zerolinecolor\\\":\\\"white\\\",\\\"linecolor\\\":\\\"white\\\"}},\\\"colorway\\\":[\\\"#636efa\\\",\\\"#EF553B\\\",\\\"#00cc96\\\",\\\"#ab63fa\\\",\\\"#FFA15A\\\",\\\"#19d3f3\\\",\\\"#FF6692\\\",\\\"#B6E880\\\",\\\"#FF97FF\\\",\\\"#FECB52\\\"]},\\\"data\\\":{\\\"barpolar\\\":[{\\\"type\\\":\\\"barpolar\\\",\\\"marker\\\":{\\\"line\\\":{\\\"color\\\":\\\"#E5ECF6\\\",\\\"width\\\":0.5}}}],\\\"carpet\\\":[{\\\"aaxis\\\":{\\\"gridcolor\\\":\\\"white\\\",\\\"endlinecolor\\\":\\\"#2a3f5f\\\",\\\"minorgridcolor\\\":\\\"white\\\",\\\"startlinecolor\\\":\\\"#2a3f5f\\\",\\\"linecolor\\\":\\\"white\\\"},\\\"type\\\":\\\"carpet\\\",\\\"baxis\\\":{\\\"gridcolor\\\":\\\"white\\\",\\\"endlinecolor\\\":\\\"#2a3f5f\\\",\\\"minorgridcolor\\\":\\\"white\\\",\\\"startlinecolor\\\":\\\"#2a3f5f\\\",\\\"linecolor\\\":\\\"white\\\"}}],\\\"scatterpolar\\\":[{\\\"type\\\":\\\"scatterpolar\\\",\\\"marker\\\":{\\\"colorbar\\\":{\\\"ticks\\\":\\\"\\\",\\\"outlinewidth\\\":0}}}],\\\"parcoords\\\":[{\\\"line\\\":{\\\"colorbar\\\":{\\\"ticks\\\":\\\"\\\",\\\"outlinewidth\\\":0}},\\\"type\\\":\\\"parcoords\\\"}],\\\"scatter\\\":[{\\\"type\\\":\\\"scatter\\\",\\\"marker\\\":{\\\"colorbar\\\":{\\\"ticks\\\":\\\"\\\",\\\"outlinewidth\\\":0}}}],\\\"histogram2dcontour\\\":[{\\\"colorbar\\\":{\\\"ticks\\\":\\\"\\\",\\\"outlinewidth\\\":0},\\\"type\\\":\\\"histogram2dcontour\\\",\\\"colorscale\\\":[[0.0,\\\"#0d0887\\\"],[0.1111111111111111,\\\"#46039f\\\"],[0.2222222222222222,\\\"#7201a8\\\"],[0.3333333333333333,\\\"#9c179e\\\"],[0.4444444444444444,\\\"#bd3786\\\"],[0.5555555555555556,\\\"#d8576b\\\"],[0.6666666666666666,\\\"#ed7953\\\"],[0.7777777777777778,\\\"#fb9f3a\\\"],[0.8888888888888888,\\\"#fdca26\\\"],[1.0,\\\"#f0f921\\\"]]}],\\\"contour\\\":[{\\\"colorbar\\\":{\\\"ticks\\\":\\\"\\\",\\\"outlinewidth\\\":0},\\\"type\\\":\\\"contour\\\",\\\"colorscale\\\":[[0.0,\\\"#0d0887\\\"],[0.1111111111111111,\\\"#46039f\\\"],[0.2222222222222222,\\\"#7201a8\\\"],[0.3333333333333333,\\\"#9c179e\\\"],[0.4444444444444444,\\\"#bd3786\\\"],[0.5555555555555556,\\\"#d8576b\\\"],[0.6666666666666666,\\\"#ed7953\\\"],[0.7777777777777778,\\\"#fb9f3a\\\"],[0.8888888888888888,\\\"#fdca26\\\"],[1.0,\\\"#f0f921\\\"]]}],\\\"scattercarpet\\\":[{\\\"type\\\":\\\"scattercarpet\\\",\\\"marker\\\":{\\\"colorbar\\\":{\\\"ticks\\\":\\\"\\\",\\\"outlinewidth\\\":0}}}],\\\"mesh3d\\\":[{\\\"colorbar\\\":{\\\"ticks\\\":\\\"\\\",\\\"outlinewidth\\\":0},\\\"type\\\":\\\"mesh3d\\\"}],\\\"surface\\\":[{\\\"colorbar\\\":{\\\"ticks\\\":\\\"\\\",\\\"outlinewidth\\\":0},\\\"type\\\":\\\"surface\\\",\\\"colorscale\\\":[[0.0,\\\"#0d0887\\\"],[0.1111111111111111,\\\"#46039f\\\"],[0.2222222222222222,\\\"#7201a8\\\"],[0.3333333333333333,\\\"#9c179e\\\"],[0.4444444444444444,\\\"#bd3786\\\"],[0.5555555555555556,\\\"#d8576b\\\"],[0.6666666666666666,\\\"#ed7953\\\"],[0.7777777777777778,\\\"#fb9f3a\\\"],[0.8888888888888888,\\\"#fdca26\\\"],[1.0,\\\"#f0f921\\\"]]}],\\\"scattermapbox\\\":[{\\\"type\\\":\\\"scattermapbox\\\",\\\"marker\\\":{\\\"colorbar\\\":{\\\"ticks\\\":\\\"\\\",\\\"outlinewidth\\\":0}}}],\\\"scattergeo\\\":[{\\\"type\\\":\\\"scattergeo\\\",\\\"marker\\\":{\\\"colorbar\\\":{\\\"ticks\\\":\\\"\\\",\\\"outlinewidth\\\":0}}}],\\\"histogram\\\":[{\\\"type\\\":\\\"histogram\\\",\\\"marker\\\":{\\\"colorbar\\\":{\\\"ticks\\\":\\\"\\\",\\\"outlinewidth\\\":0}}}],\\\"pie\\\":[{\\\"type\\\":\\\"pie\\\",\\\"automargin\\\":true}],\\\"choropleth\\\":[{\\\"colorbar\\\":{\\\"ticks\\\":\\\"\\\",\\\"outlinewidth\\\":0},\\\"type\\\":\\\"choropleth\\\"}],\\\"heatmapgl\\\":[{\\\"colorbar\\\":{\\\"ticks\\\":\\\"\\\",\\\"outlinewidth\\\":0},\\\"type\\\":\\\"heatmapgl\\\",\\\"colorscale\\\":[[0.0,\\\"#0d0887\\\"],[0.1111111111111111,\\\"#46039f\\\"],[0.2222222222222222,\\\"#7201a8\\\"],[0.3333333333333333,\\\"#9c179e\\\"],[0.4444444444444444,\\\"#bd3786\\\"],[0.5555555555555556,\\\"#d8576b\\\"],[0.6666666666666666,\\\"#ed7953\\\"],[0.7777777777777778,\\\"#fb9f3a\\\"],[0.8888888888888888,\\\"#fdca26\\\"],[1.0,\\\"#f0f921\\\"]]}],\\\"bar\\\":[{\\\"type\\\":\\\"bar\\\",\\\"error_y\\\":{\\\"color\\\":\\\"#2a3f5f\\\"},\\\"error_x\\\":{\\\"color\\\":\\\"#2a3f5f\\\"},\\\"marker\\\":{\\\"line\\\":{\\\"color\\\":\\\"#E5ECF6\\\",\\\"width\\\":0.5}}}],\\\"heatmap\\\":[{\\\"colorbar\\\":{\\\"ticks\\\":\\\"\\\",\\\"outlinewidth\\\":0},\\\"type\\\":\\\"heatmap\\\",\\\"colorscale\\\":[[0.0,\\\"#0d0887\\\"],[0.1111111111111111,\\\"#46039f\\\"],[0.2222222222222222,\\\"#7201a8\\\"],[0.3333333333333333,\\\"#9c179e\\\"],[0.4444444444444444,\\\"#bd3786\\\"],[0.5555555555555556,\\\"#d8576b\\\"],[0.6666666666666666,\\\"#ed7953\\\"],[0.7777777777777778,\\\"#fb9f3a\\\"],[0.8888888888888888,\\\"#fdca26\\\"],[1.0,\\\"#f0f921\\\"]]}],\\\"contourcarpet\\\":[{\\\"colorbar\\\":{\\\"ticks\\\":\\\"\\\",\\\"outlinewidth\\\":0},\\\"type\\\":\\\"contourcarpet\\\"}],\\\"table\\\":[{\\\"type\\\":\\\"table\\\",\\\"header\\\":{\\\"line\\\":{\\\"color\\\":\\\"white\\\"},\\\"fill\\\":{\\\"color\\\":\\\"#C8D4E3\\\"}},\\\"cells\\\":{\\\"line\\\":{\\\"color\\\":\\\"white\\\"},\\\"fill\\\":{\\\"color\\\":\\\"#EBF0F8\\\"}}}],\\\"scatter3d\\\":[{\\\"line\\\":{\\\"colorbar\\\":{\\\"ticks\\\":\\\"\\\",\\\"outlinewidth\\\":0}},\\\"type\\\":\\\"scatter3d\\\",\\\"marker\\\":{\\\"colorbar\\\":{\\\"ticks\\\":\\\"\\\",\\\"outlinewidth\\\":0}}}],\\\"scattergl\\\":[{\\\"type\\\":\\\"scattergl\\\",\\\"marker\\\":{\\\"colorbar\\\":{\\\"ticks\\\":\\\"\\\",\\\"outlinewidth\\\":0}}}],\\\"histogram2d\\\":[{\\\"colorbar\\\":{\\\"ticks\\\":\\\"\\\",\\\"outlinewidth\\\":0},\\\"type\\\":\\\"histogram2d\\\",\\\"colorscale\\\":[[0.0,\\\"#0d0887\\\"],[0.1111111111111111,\\\"#46039f\\\"],[0.2222222222222222,\\\"#7201a8\\\"],[0.3333333333333333,\\\"#9c179e\\\"],[0.4444444444444444,\\\"#bd3786\\\"],[0.5555555555555556,\\\"#d8576b\\\"],[0.6666666666666666,\\\"#ed7953\\\"],[0.7777777777777778,\\\"#fb9f3a\\\"],[0.8888888888888888,\\\"#fdca26\\\"],[1.0,\\\"#f0f921\\\"]]}],\\\"scatterternary\\\":[{\\\"type\\\":\\\"scatterternary\\\",\\\"marker\\\":{\\\"colorbar\\\":{\\\"ticks\\\":\\\"\\\",\\\"outlinewidth\\\":0}}}],\\\"scatterpolargl\\\":[{\\\"type\\\":\\\"scatterpolargl\\\",\\\"marker\\\":{\\\"colorbar\\\":{\\\"ticks\\\":\\\"\\\",\\\"outlinewidth\\\":0}}}]}},\\\"margin\\\":{\\\"l\\\":50,\\\"b\\\":50,\\\"r\\\":50,\\\"t\\\":60}},{\\\"showLink\\\":false,\\\"editable\\\":false,\\\"responsive\\\":true,\\\"staticPlot\\\":false,\\\"scrollZoom\\\":true}); gd.on(\\\"plotly_hover\\\",(function (data){var filtered_data=WebIO.PlotlyCommands.filterEventData(gd,data,\\\"hover\\\"); return !(filtered_data.isnil) ? (WebIO.setval({\\\"name\\\":\\\"hover\\\",\\\"scope\\\":\\\"6473737476843226163\\\",\\\"id\\\":\\\"17329883983359796658\\\",\\\"type\\\":\\\"observable\\\"},filtered_data.out)) : undefined})); gd.on(\\\"plotly_unhover\\\",(function (){return WebIO.setval({\\\"name\\\":\\\"hover\\\",\\\"scope\\\":\\\"6473737476843226163\\\",\\\"id\\\":\\\"17329883983359796658\\\",\\\"type\\\":\\\"observable\\\"},{})})); gd.on(\\\"plotly_selected\\\",(function (data){var filtered_data=WebIO.PlotlyCommands.filterEventData(gd,data,\\\"selected\\\"); return !(filtered_data.isnil) ? (WebIO.setval({\\\"name\\\":\\\"selected\\\",\\\"scope\\\":\\\"6473737476843226163\\\",\\\"id\\\":\\\"13346643674534363053\\\",\\\"type\\\":\\\"observable\\\"},filtered_data.out)) : undefined})); gd.on(\\\"plotly_deselect\\\",(function (){return WebIO.setval({\\\"name\\\":\\\"selected\\\",\\\"scope\\\":\\\"6473737476843226163\\\",\\\"id\\\":\\\"13346643674534363053\\\",\\\"type\\\":\\\"observable\\\"},{})})); gd.on(\\\"plotly_relayout\\\",(function (data){var filtered_data=WebIO.PlotlyCommands.filterEventData(gd,data,\\\"relayout\\\"); return !(filtered_data.isnil) ? (WebIO.setval({\\\"name\\\":\\\"relayout\\\",\\\"scope\\\":\\\"6473737476843226163\\\",\\\"id\\\":\\\"6500062048826568085\\\",\\\"type\\\":\\\"observable\\\"},filtered_data.out)) : undefined})); return gd.on(\\\"plotly_click\\\",(function (data){var filtered_data=WebIO.PlotlyCommands.filterEventData(gd,data,\\\"click\\\"); return !(filtered_data.isnil) ? (WebIO.setval({\\\"name\\\":\\\"click\\\",\\\"scope\\\":\\\"6473737476843226163\\\",\\\"id\\\":\\\"729752820875877435\\\",\\\"type\\\":\\\"observable\\\"},filtered_data.out)) : undefined}))}));\\n    (WebIO.importBlock({\\\"data\\\":[{\\\"name\\\":\\\"Plotly\\\",\\\"type\\\":\\\"js\\\",\\\"url\\\":\\\"\\/assetserver\\/3e2d063fcbfbf8797e7181829eb6f798910493eb-plotly.min.js\\\"},{\\\"name\\\":null,\\\"type\\\":\\\"js\\\",\\\"url\\\":\\\"\\/assetserver\\/588989ae0bd9d28bf0e53faaf41e2532b763e757-plotly_webio.bundle.js\\\"}],\\\"type\\\":\\\"async_block\\\"})).then((imports) => handler.apply(this, imports));\\n}\\n\"],\"observables\":{\"_toImage\":{\"sync\":false,\"id\":\"10618338970622008145\",\"value\":{}},\"hover\":{\"sync\":false,\"id\":\"17329883983359796658\",\"value\":{}},\"selected\":{\"sync\":false,\"id\":\"13346643674534363053\",\"value\":{}},\"__gd_contents\":{\"sync\":false,\"id\":\"7265793843340969202\",\"value\":{}},\"click\":{\"sync\":false,\"id\":\"729752820875877435\",\"value\":{}},\"image\":{\"sync\":true,\"id\":\"12999861875238090910\",\"value\":\"\"},\"__get_gd_contents\":{\"sync\":false,\"id\":\"5208715003946264562\",\"value\":\"\"},\"_downloadImage\":{\"sync\":false,\"id\":\"4842340173721871535\",\"value\":{}},\"relayout\":{\"sync\":false,\"id\":\"6500062048826568085\",\"value\":{}},\"_commands\":{\"sync\":false,\"id\":\"17627769942200372645\",\"value\":[]}}},\"children\":[{\"props\":{\"id\":\"plot-38c38b37-23af-4cb4-8e87-115cdcd12255\"},\"nodeType\":\"DOM\",\"type\":\"node\",\"instanceArgs\":{\"namespace\":\"html\",\"tag\":\"div\"},\"children\":[]}]},\n",
       "        window,\n",
       "    );\n",
       "    })()\n",
       "    </script>\n",
       "</div>\n"
      ],
      "text/plain": [
       "data: [\n",
       "  \"scatter with fields mode, type, x, and y\"\n",
       "]\n",
       "\n",
       "layout: \"layout with fields margin and template\"\n",
       "\n"
      ]
     },
     "execution_count": 22,
     "metadata": {},
     "output_type": "execute_result"
    }
   ],
   "source": [
    "plot(scatter(agri_col_cleansed, x=:Potassium, y=:num_of_protests, mode=\"markers\"))"
   ]
  },
  {
   "cell_type": "code",
   "execution_count": 29,
   "metadata": {},
   "outputs": [
    {
     "data": {
      "text/plain": [
       "15-element Vector{Float64}:\n",
       " 2.52\n",
       " 2.14\n",
       " 2.6\n",
       " 2.05\n",
       " 1.63\n",
       " 2.54\n",
       " 1.98\n",
       " 2.48\n",
       " 2.66\n",
       " 1.93\n",
       " 2.4\n",
       " 2.4\n",
       " 1.7\n",
       " 2.21\n",
       " 2.04"
      ]
     },
     "execution_count": 29,
     "metadata": {},
     "output_type": "execute_result"
    }
   ],
   "source": [
    "x1 =agri_col_cleansed[!, \"Nitrogen\"]\n",
    "x2 =agri_col_cleansed[!, \"Phosphorus\"]\n",
    "x3 =agri_col_cleansed[!, \"Potassium\"]"
   ]
  },
  {
   "cell_type": "code",
   "execution_count": 26,
   "metadata": {},
   "outputs": [
    {
     "data": {
      "text/plain": [
       "15-element Vector{Int64}:\n",
       "  176\n",
       "  102\n",
       "   42\n",
       "  867\n",
       "   96\n",
       "  296\n",
       "   50\n",
       "   87\n",
       "  312\n",
       "  175\n",
       " 1904\n",
       "  470\n",
       "   41\n",
       "  362\n",
       "  104"
      ]
     },
     "execution_count": 26,
     "metadata": {},
     "output_type": "execute_result"
    }
   ],
   "source": [
    "y = agri_col_cleansed[!, \"num_of_protests\"]"
   ]
  },
  {
   "cell_type": "code",
   "execution_count": 30,
   "metadata": {},
   "outputs": [
    {
     "data": {
      "text/plain": [
       "-0.21614546221855174"
      ]
     },
     "execution_count": 30,
     "metadata": {},
     "output_type": "execute_result"
    }
   ],
   "source": [
    "cor(x1,y) ##niewielka tendencja do spadku protesstów wraz z natężeniem procentowego udziału azotu w glebie "
   ]
  },
  {
   "cell_type": "code",
   "execution_count": 31,
   "metadata": {},
   "outputs": [
    {
     "data": {
      "text/plain": [
       "-0.10336462949164442"
      ]
     },
     "execution_count": 31,
     "metadata": {},
     "output_type": "execute_result"
    }
   ],
   "source": [
    "cor(x2, y) ##bardzo mała tendencja spadkowa"
   ]
  },
  {
   "cell_type": "code",
   "execution_count": 32,
   "metadata": {},
   "outputs": [
    {
     "data": {
      "text/plain": [
       "0.19798412783079936"
      ]
     },
     "execution_count": 32,
     "metadata": {},
     "output_type": "execute_result"
    }
   ],
   "source": [
    "cor(x3,y)##niewielka tendencja wzrostowa"
   ]
  },
  {
   "cell_type": "code",
   "execution_count": 34,
   "metadata": {},
   "outputs": [
    {
     "data": {
      "text/plain": [
       "25-element Vector{Float64}:\n",
       "  0.0629815913342443\n",
       "  0.0007081079788924745\n",
       "  0.05428149497010156\n",
       " -0.14159950123767603\n",
       "  0.09761885411919573\n",
       "  0.02709239813369716\n",
       " -0.0908972216332212\n",
       "  0.14877164582189278\n",
       " -0.1030726970409455\n",
       " -0.025281126974142733\n",
       " -0.21652708148758987\n",
       " -0.18066561673527917\n",
       "  0.19798412783079936\n",
       " -0.17344960386130004\n",
       "  0.2531624566534366\n",
       "  0.4077187419751343\n",
       " -0.3132356886437155\n",
       "  0.21948069253630534\n",
       " -0.4310852827544646\n",
       " -0.28874725845765437\n",
       "  0.36916968284164176\n",
       " -0.07278994345016397\n",
       "  0.21747784847516208\n",
       "  0.050233161577099845\n",
       " -0.08173263867450886"
      ]
     },
     "execution_count": 34,
     "metadata": {},
     "output_type": "execute_result"
    }
   ],
   "source": [
    " a = crosscor(x3, y)"
   ]
  },
  {
   "cell_type": "code",
   "execution_count": 36,
   "metadata": {},
   "outputs": [
    {
     "data": {
      "application/vnd.plotly.v1+json": {
       "config": {
        "editable": false,
        "responsive": true,
        "scrollZoom": true,
        "showLink": false,
        "staticPlot": false
       },
       "data": [
        {
         "type": "scatter",
         "x": [
          1,
          2,
          3,
          4,
          5,
          6,
          7,
          8,
          9,
          10,
          11,
          12,
          13,
          14,
          15,
          16,
          17,
          18,
          19,
          20,
          21,
          22,
          23,
          24,
          25
         ],
         "y": [
          0.01715735801586168,
          0.06594889894720382,
          -0.08958293706223491,
          0.10549933246819267,
          -0.0725886429848269,
          0.1309376285317461,
          0.06735467454779248,
          -0.024856344167804575,
          -0.07350751863159852,
          -0.3009974743486206,
          0.1906393149908655,
          0.11191348897611675,
          -0.21614546221855171,
          0.06712900660189892,
          -0.25353491155209307,
          -0.2666494057002169,
          0.05135339984851061,
          0.2866827282890723,
          0.5882212226904272,
          -0.38283168784259725,
          -0.0691918629279739,
          0.15763646854857097,
          -0.12664957568689308,
          0.03658864476438512,
          -0.0026669427793676323
         ]
        }
       ],
       "frames": [],
       "layout": {
        "margin": {
         "b": 50,
         "l": 50,
         "r": 50,
         "t": 60
        },
        "template": {
         "data": {
          "bar": [
           {
            "error_x": {
             "color": "#2a3f5f"
            },
            "error_y": {
             "color": "#2a3f5f"
            },
            "marker": {
             "line": {
              "color": "#E5ECF6",
              "width": 0.5
             }
            },
            "type": "bar"
           }
          ],
          "barpolar": [
           {
            "marker": {
             "line": {
              "color": "#E5ECF6",
              "width": 0.5
             }
            },
            "type": "barpolar"
           }
          ],
          "carpet": [
           {
            "aaxis": {
             "endlinecolor": "#2a3f5f",
             "gridcolor": "white",
             "linecolor": "white",
             "minorgridcolor": "white",
             "startlinecolor": "#2a3f5f"
            },
            "baxis": {
             "endlinecolor": "#2a3f5f",
             "gridcolor": "white",
             "linecolor": "white",
             "minorgridcolor": "white",
             "startlinecolor": "#2a3f5f"
            },
            "type": "carpet"
           }
          ],
          "choropleth": [
           {
            "colorbar": {
             "outlinewidth": 0,
             "ticks": ""
            },
            "type": "choropleth"
           }
          ],
          "contour": [
           {
            "colorbar": {
             "outlinewidth": 0,
             "ticks": ""
            },
            "colorscale": [
             [
              0,
              "#0d0887"
             ],
             [
              0.1111111111111111,
              "#46039f"
             ],
             [
              0.2222222222222222,
              "#7201a8"
             ],
             [
              0.3333333333333333,
              "#9c179e"
             ],
             [
              0.4444444444444444,
              "#bd3786"
             ],
             [
              0.5555555555555556,
              "#d8576b"
             ],
             [
              0.6666666666666666,
              "#ed7953"
             ],
             [
              0.7777777777777778,
              "#fb9f3a"
             ],
             [
              0.8888888888888888,
              "#fdca26"
             ],
             [
              1,
              "#f0f921"
             ]
            ],
            "type": "contour"
           }
          ],
          "contourcarpet": [
           {
            "colorbar": {
             "outlinewidth": 0,
             "ticks": ""
            },
            "type": "contourcarpet"
           }
          ],
          "heatmap": [
           {
            "colorbar": {
             "outlinewidth": 0,
             "ticks": ""
            },
            "colorscale": [
             [
              0,
              "#0d0887"
             ],
             [
              0.1111111111111111,
              "#46039f"
             ],
             [
              0.2222222222222222,
              "#7201a8"
             ],
             [
              0.3333333333333333,
              "#9c179e"
             ],
             [
              0.4444444444444444,
              "#bd3786"
             ],
             [
              0.5555555555555556,
              "#d8576b"
             ],
             [
              0.6666666666666666,
              "#ed7953"
             ],
             [
              0.7777777777777778,
              "#fb9f3a"
             ],
             [
              0.8888888888888888,
              "#fdca26"
             ],
             [
              1,
              "#f0f921"
             ]
            ],
            "type": "heatmap"
           }
          ],
          "heatmapgl": [
           {
            "colorbar": {
             "outlinewidth": 0,
             "ticks": ""
            },
            "colorscale": [
             [
              0,
              "#0d0887"
             ],
             [
              0.1111111111111111,
              "#46039f"
             ],
             [
              0.2222222222222222,
              "#7201a8"
             ],
             [
              0.3333333333333333,
              "#9c179e"
             ],
             [
              0.4444444444444444,
              "#bd3786"
             ],
             [
              0.5555555555555556,
              "#d8576b"
             ],
             [
              0.6666666666666666,
              "#ed7953"
             ],
             [
              0.7777777777777778,
              "#fb9f3a"
             ],
             [
              0.8888888888888888,
              "#fdca26"
             ],
             [
              1,
              "#f0f921"
             ]
            ],
            "type": "heatmapgl"
           }
          ],
          "histogram": [
           {
            "marker": {
             "colorbar": {
              "outlinewidth": 0,
              "ticks": ""
             }
            },
            "type": "histogram"
           }
          ],
          "histogram2d": [
           {
            "colorbar": {
             "outlinewidth": 0,
             "ticks": ""
            },
            "colorscale": [
             [
              0,
              "#0d0887"
             ],
             [
              0.1111111111111111,
              "#46039f"
             ],
             [
              0.2222222222222222,
              "#7201a8"
             ],
             [
              0.3333333333333333,
              "#9c179e"
             ],
             [
              0.4444444444444444,
              "#bd3786"
             ],
             [
              0.5555555555555556,
              "#d8576b"
             ],
             [
              0.6666666666666666,
              "#ed7953"
             ],
             [
              0.7777777777777778,
              "#fb9f3a"
             ],
             [
              0.8888888888888888,
              "#fdca26"
             ],
             [
              1,
              "#f0f921"
             ]
            ],
            "type": "histogram2d"
           }
          ],
          "histogram2dcontour": [
           {
            "colorbar": {
             "outlinewidth": 0,
             "ticks": ""
            },
            "colorscale": [
             [
              0,
              "#0d0887"
             ],
             [
              0.1111111111111111,
              "#46039f"
             ],
             [
              0.2222222222222222,
              "#7201a8"
             ],
             [
              0.3333333333333333,
              "#9c179e"
             ],
             [
              0.4444444444444444,
              "#bd3786"
             ],
             [
              0.5555555555555556,
              "#d8576b"
             ],
             [
              0.6666666666666666,
              "#ed7953"
             ],
             [
              0.7777777777777778,
              "#fb9f3a"
             ],
             [
              0.8888888888888888,
              "#fdca26"
             ],
             [
              1,
              "#f0f921"
             ]
            ],
            "type": "histogram2dcontour"
           }
          ],
          "mesh3d": [
           {
            "colorbar": {
             "outlinewidth": 0,
             "ticks": ""
            },
            "type": "mesh3d"
           }
          ],
          "parcoords": [
           {
            "line": {
             "colorbar": {
              "outlinewidth": 0,
              "ticks": ""
             }
            },
            "type": "parcoords"
           }
          ],
          "pie": [
           {
            "automargin": true,
            "type": "pie"
           }
          ],
          "scatter": [
           {
            "marker": {
             "colorbar": {
              "outlinewidth": 0,
              "ticks": ""
             }
            },
            "type": "scatter"
           }
          ],
          "scatter3d": [
           {
            "line": {
             "colorbar": {
              "outlinewidth": 0,
              "ticks": ""
             }
            },
            "marker": {
             "colorbar": {
              "outlinewidth": 0,
              "ticks": ""
             }
            },
            "type": "scatter3d"
           }
          ],
          "scattercarpet": [
           {
            "marker": {
             "colorbar": {
              "outlinewidth": 0,
              "ticks": ""
             }
            },
            "type": "scattercarpet"
           }
          ],
          "scattergeo": [
           {
            "marker": {
             "colorbar": {
              "outlinewidth": 0,
              "ticks": ""
             }
            },
            "type": "scattergeo"
           }
          ],
          "scattergl": [
           {
            "marker": {
             "colorbar": {
              "outlinewidth": 0,
              "ticks": ""
             }
            },
            "type": "scattergl"
           }
          ],
          "scattermapbox": [
           {
            "marker": {
             "colorbar": {
              "outlinewidth": 0,
              "ticks": ""
             }
            },
            "type": "scattermapbox"
           }
          ],
          "scatterpolar": [
           {
            "marker": {
             "colorbar": {
              "outlinewidth": 0,
              "ticks": ""
             }
            },
            "type": "scatterpolar"
           }
          ],
          "scatterpolargl": [
           {
            "marker": {
             "colorbar": {
              "outlinewidth": 0,
              "ticks": ""
             }
            },
            "type": "scatterpolargl"
           }
          ],
          "scatterternary": [
           {
            "marker": {
             "colorbar": {
              "outlinewidth": 0,
              "ticks": ""
             }
            },
            "type": "scatterternary"
           }
          ],
          "surface": [
           {
            "colorbar": {
             "outlinewidth": 0,
             "ticks": ""
            },
            "colorscale": [
             [
              0,
              "#0d0887"
             ],
             [
              0.1111111111111111,
              "#46039f"
             ],
             [
              0.2222222222222222,
              "#7201a8"
             ],
             [
              0.3333333333333333,
              "#9c179e"
             ],
             [
              0.4444444444444444,
              "#bd3786"
             ],
             [
              0.5555555555555556,
              "#d8576b"
             ],
             [
              0.6666666666666666,
              "#ed7953"
             ],
             [
              0.7777777777777778,
              "#fb9f3a"
             ],
             [
              0.8888888888888888,
              "#fdca26"
             ],
             [
              1,
              "#f0f921"
             ]
            ],
            "type": "surface"
           }
          ],
          "table": [
           {
            "cells": {
             "fill": {
              "color": "#EBF0F8"
             },
             "line": {
              "color": "white"
             }
            },
            "header": {
             "fill": {
              "color": "#C8D4E3"
             },
             "line": {
              "color": "white"
             }
            },
            "type": "table"
           }
          ]
         },
         "layout": {
          "annotationdefaults": {
           "arrowcolor": "#2a3f5f",
           "arrowhead": 0,
           "arrowwidth": 1
          },
          "autotypenumbers": "strict",
          "coloraxis": {
           "colorbar": {
            "outlinewidth": 0,
            "ticks": ""
           }
          },
          "colorscale": {
           "diverging": [
            [
             0,
             "#8e0152"
            ],
            [
             0.1,
             "#c51b7d"
            ],
            [
             0.2,
             "#de77ae"
            ],
            [
             0.3,
             "#f1b6da"
            ],
            [
             0.4,
             "#fde0ef"
            ],
            [
             0.5,
             "#f7f7f7"
            ],
            [
             0.6,
             "#e6f5d0"
            ],
            [
             0.7,
             "#b8e186"
            ],
            [
             0.8,
             "#7fbc41"
            ],
            [
             0.9,
             "#4d9221"
            ],
            [
             1,
             "#276419"
            ]
           ],
           "sequential": [
            [
             0,
             "#0d0887"
            ],
            [
             0.1111111111111111,
             "#46039f"
            ],
            [
             0.2222222222222222,
             "#7201a8"
            ],
            [
             0.3333333333333333,
             "#9c179e"
            ],
            [
             0.4444444444444444,
             "#bd3786"
            ],
            [
             0.5555555555555556,
             "#d8576b"
            ],
            [
             0.6666666666666666,
             "#ed7953"
            ],
            [
             0.7777777777777778,
             "#fb9f3a"
            ],
            [
             0.8888888888888888,
             "#fdca26"
            ],
            [
             1,
             "#f0f921"
            ]
           ],
           "sequentialminus": [
            [
             0,
             "#0d0887"
            ],
            [
             0.1111111111111111,
             "#46039f"
            ],
            [
             0.2222222222222222,
             "#7201a8"
            ],
            [
             0.3333333333333333,
             "#9c179e"
            ],
            [
             0.4444444444444444,
             "#bd3786"
            ],
            [
             0.5555555555555556,
             "#d8576b"
            ],
            [
             0.6666666666666666,
             "#ed7953"
            ],
            [
             0.7777777777777778,
             "#fb9f3a"
            ],
            [
             0.8888888888888888,
             "#fdca26"
            ],
            [
             1,
             "#f0f921"
            ]
           ]
          },
          "colorway": [
           "#636efa",
           "#EF553B",
           "#00cc96",
           "#ab63fa",
           "#FFA15A",
           "#19d3f3",
           "#FF6692",
           "#B6E880",
           "#FF97FF",
           "#FECB52"
          ],
          "font": {
           "color": "#2a3f5f"
          },
          "geo": {
           "bgcolor": "white",
           "lakecolor": "white",
           "landcolor": "#E5ECF6",
           "showlakes": true,
           "showland": true,
           "subunitcolor": "white"
          },
          "hoverlabel": {
           "align": "left"
          },
          "hovermode": "closest",
          "mapbox": {
           "style": "light"
          },
          "paper_bgcolor": "white",
          "plot_bgcolor": "#E5ECF6",
          "polar": {
           "angularaxis": {
            "gridcolor": "white",
            "linecolor": "white",
            "ticks": ""
           },
           "bgcolor": "#E5ECF6",
           "radialaxis": {
            "gridcolor": "white",
            "linecolor": "white",
            "ticks": ""
           }
          },
          "scene": {
           "xaxis": {
            "backgroundcolor": "#E5ECF6",
            "gridcolor": "white",
            "gridwidth": 2,
            "linecolor": "white",
            "showbackground": true,
            "ticks": "",
            "zerolinecolor": "white"
           },
           "yaxis": {
            "backgroundcolor": "#E5ECF6",
            "gridcolor": "white",
            "gridwidth": 2,
            "linecolor": "white",
            "showbackground": true,
            "ticks": "",
            "zerolinecolor": "white"
           },
           "zaxis": {
            "backgroundcolor": "#E5ECF6",
            "gridcolor": "white",
            "gridwidth": 2,
            "linecolor": "white",
            "showbackground": true,
            "ticks": "",
            "zerolinecolor": "white"
           }
          },
          "shapedefaults": {
           "line": {
            "color": "#2a3f5f"
           }
          },
          "ternary": {
           "aaxis": {
            "gridcolor": "white",
            "linecolor": "white",
            "ticks": ""
           },
           "baxis": {
            "gridcolor": "white",
            "linecolor": "white",
            "ticks": ""
           },
           "bgcolor": "#E5ECF6",
           "caxis": {
            "gridcolor": "white",
            "linecolor": "white",
            "ticks": ""
           }
          },
          "title": {
           "x": 0.05
          },
          "xaxis": {
           "automargin": true,
           "gridcolor": "white",
           "linecolor": "white",
           "ticks": "",
           "title": {
            "standoff": 15
           },
           "zerolinecolor": "white",
           "zerolinewidth": 2
          },
          "yaxis": {
           "automargin": true,
           "gridcolor": "white",
           "linecolor": "white",
           "ticks": "",
           "title": {
            "standoff": 15
           },
           "zerolinecolor": "white",
           "zerolinewidth": 2
          }
         }
        }
       }
      },
      "text/html": [
       "<div\n",
       "    class=\"webio-mountpoint\"\n",
       "    data-webio-mountpoint=\"12089886253893989835\"\n",
       ">\n",
       "    <script>\n",
       "    (function(){\n",
       "    // Some integrations (namely, IJulia/Jupyter) use an alternate render pathway than\n",
       "    // just putting the html on the page. If WebIO isn't defined, then it's pretty likely\n",
       "    // that we're in one of those situations and the integration just isn't installed\n",
       "    // correctly.\n",
       "    if (typeof window.WebIO === \"undefined\") {\n",
       "        document\n",
       "            .querySelector('[data-webio-mountpoint=\"12089886253893989835\"]')\n",
       "            .innerHTML = (\n",
       "                '<div style=\"padding: 1em; background-color: #f8d6da; border: 1px solid #f5c6cb; font-weight: bold;\">' +\n",
       "                '<p><strong>WebIO not detected.</strong></p>' +\n",
       "                '<p>Please read ' +\n",
       "                '<a href=\"https://juliagizmos.github.io/WebIO.jl/latest/troubleshooting/not-detected/\" target=\"_blank\">the troubleshooting guide</a> ' +\n",
       "                'for more information on how to resolve this issue.</p>' +\n",
       "                '<p><a href=\"https://juliagizmos.github.io/WebIO.jl/latest/troubleshooting/not-detected/\" target=\"_blank\">https://juliagizmos.github.io/WebIO.jl/latest/troubleshooting/not-detected/</a></p>' +\n",
       "                '</div>'\n",
       "            );\n",
       "        return;\n",
       "    }\n",
       "    WebIO.mount(\n",
       "        document.querySelector('[data-webio-mountpoint=\"12089886253893989835\"]'),\n",
       "        {\"props\":{},\"nodeType\":\"Scope\",\"type\":\"node\",\"instanceArgs\":{\"imports\":{\"data\":[{\"name\":\"Plotly\",\"type\":\"js\",\"url\":\"\\/assetserver\\/3e2d063fcbfbf8797e7181829eb6f798910493eb-plotly.min.js\"},{\"name\":null,\"type\":\"js\",\"url\":\"\\/assetserver\\/588989ae0bd9d28bf0e53faaf41e2532b763e757-plotly_webio.bundle.js\"}],\"type\":\"async_block\"},\"id\":\"11053459704406635034\",\"handlers\":{\"_toImage\":[\"(function (options){return this.Plotly.toImage(this.plotElem,options).then((function (data){return WebIO.setval({\\\"name\\\":\\\"image\\\",\\\"scope\\\":\\\"11053459704406635034\\\",\\\"id\\\":\\\"5806435213141601712\\\",\\\"type\\\":\\\"observable\\\"},data)}))})\"],\"__get_gd_contents\":[\"(function (prop){prop==\\\"data\\\" ? (WebIO.setval({\\\"name\\\":\\\"__gd_contents\\\",\\\"scope\\\":\\\"11053459704406635034\\\",\\\"id\\\":\\\"4281667815285316715\\\",\\\"type\\\":\\\"observable\\\"},this.plotElem.data)) : undefined; return prop==\\\"layout\\\" ? (WebIO.setval({\\\"name\\\":\\\"__gd_contents\\\",\\\"scope\\\":\\\"11053459704406635034\\\",\\\"id\\\":\\\"4281667815285316715\\\",\\\"type\\\":\\\"observable\\\"},this.plotElem.layout)) : undefined})\"],\"_downloadImage\":[\"(function (options){return this.Plotly.downloadImage(this.plotElem,options)})\"],\"_commands\":[\"(function (args){var fn=args.shift(); var elem=this.plotElem; var Plotly=this.Plotly; args.unshift(elem); return Plotly[fn].apply(this,args)})\"]},\"systemjs_options\":null,\"mount_callbacks\":[\"function () {\\n    var handler = ((function (Plotly,PlotlyWebIO){PlotlyWebIO.init(WebIO); var gd=this.dom.querySelector(\\\"#plot-d8a4388d-26ca-4125-b2f7-88a5516a8508\\\"); this.plotElem=gd; this.Plotly=Plotly; (window.Blink!==undefined) ? (gd.style.width=\\\"100%\\\", gd.style.height=\\\"100vh\\\", gd.style.marginLeft=\\\"0%\\\", gd.style.marginTop=\\\"0vh\\\") : undefined; window.onresize=(function (){return Plotly.Plots.resize(gd)}); Plotly.newPlot(gd,[{\\\"y\\\":[0.01715735801586168,0.06594889894720382,-0.08958293706223491,0.10549933246819267,-0.0725886429848269,0.1309376285317461,0.06735467454779248,-0.024856344167804575,-0.07350751863159852,-0.3009974743486206,0.1906393149908655,0.11191348897611675,-0.21614546221855171,0.06712900660189892,-0.25353491155209307,-0.2666494057002169,0.05135339984851061,0.2866827282890723,0.5882212226904272,-0.38283168784259725,-0.0691918629279739,0.15763646854857097,-0.12664957568689308,0.03658864476438512,-0.0026669427793676323],\\\"type\\\":\\\"scatter\\\",\\\"x\\\":[1,2,3,4,5,6,7,8,9,10,11,12,13,14,15,16,17,18,19,20,21,22,23,24,25]}],{\\\"template\\\":{\\\"layout\\\":{\\\"coloraxis\\\":{\\\"colorbar\\\":{\\\"ticks\\\":\\\"\\\",\\\"outlinewidth\\\":0}},\\\"xaxis\\\":{\\\"gridcolor\\\":\\\"white\\\",\\\"zerolinewidth\\\":2,\\\"title\\\":{\\\"standoff\\\":15},\\\"ticks\\\":\\\"\\\",\\\"zerolinecolor\\\":\\\"white\\\",\\\"automargin\\\":true,\\\"linecolor\\\":\\\"white\\\"},\\\"hovermode\\\":\\\"closest\\\",\\\"paper_bgcolor\\\":\\\"white\\\",\\\"geo\\\":{\\\"showlakes\\\":true,\\\"showland\\\":true,\\\"landcolor\\\":\\\"#E5ECF6\\\",\\\"bgcolor\\\":\\\"white\\\",\\\"subunitcolor\\\":\\\"white\\\",\\\"lakecolor\\\":\\\"white\\\"},\\\"colorscale\\\":{\\\"sequential\\\":[[0.0,\\\"#0d0887\\\"],[0.1111111111111111,\\\"#46039f\\\"],[0.2222222222222222,\\\"#7201a8\\\"],[0.3333333333333333,\\\"#9c179e\\\"],[0.4444444444444444,\\\"#bd3786\\\"],[0.5555555555555556,\\\"#d8576b\\\"],[0.6666666666666666,\\\"#ed7953\\\"],[0.7777777777777778,\\\"#fb9f3a\\\"],[0.8888888888888888,\\\"#fdca26\\\"],[1.0,\\\"#f0f921\\\"]],\\\"diverging\\\":[[0,\\\"#8e0152\\\"],[0.1,\\\"#c51b7d\\\"],[0.2,\\\"#de77ae\\\"],[0.3,\\\"#f1b6da\\\"],[0.4,\\\"#fde0ef\\\"],[0.5,\\\"#f7f7f7\\\"],[0.6,\\\"#e6f5d0\\\"],[0.7,\\\"#b8e186\\\"],[0.8,\\\"#7fbc41\\\"],[0.9,\\\"#4d9221\\\"],[1,\\\"#276419\\\"]],\\\"sequentialminus\\\":[[0.0,\\\"#0d0887\\\"],[0.1111111111111111,\\\"#46039f\\\"],[0.2222222222222222,\\\"#7201a8\\\"],[0.3333333333333333,\\\"#9c179e\\\"],[0.4444444444444444,\\\"#bd3786\\\"],[0.5555555555555556,\\\"#d8576b\\\"],[0.6666666666666666,\\\"#ed7953\\\"],[0.7777777777777778,\\\"#fb9f3a\\\"],[0.8888888888888888,\\\"#fdca26\\\"],[1.0,\\\"#f0f921\\\"]]},\\\"yaxis\\\":{\\\"gridcolor\\\":\\\"white\\\",\\\"zerolinewidth\\\":2,\\\"title\\\":{\\\"standoff\\\":15},\\\"ticks\\\":\\\"\\\",\\\"zerolinecolor\\\":\\\"white\\\",\\\"automargin\\\":true,\\\"linecolor\\\":\\\"white\\\"},\\\"shapedefaults\\\":{\\\"line\\\":{\\\"color\\\":\\\"#2a3f5f\\\"}},\\\"hoverlabel\\\":{\\\"align\\\":\\\"left\\\"},\\\"mapbox\\\":{\\\"style\\\":\\\"light\\\"},\\\"polar\\\":{\\\"angularaxis\\\":{\\\"gridcolor\\\":\\\"white\\\",\\\"ticks\\\":\\\"\\\",\\\"linecolor\\\":\\\"white\\\"},\\\"bgcolor\\\":\\\"#E5ECF6\\\",\\\"radialaxis\\\":{\\\"gridcolor\\\":\\\"white\\\",\\\"ticks\\\":\\\"\\\",\\\"linecolor\\\":\\\"white\\\"}},\\\"autotypenumbers\\\":\\\"strict\\\",\\\"font\\\":{\\\"color\\\":\\\"#2a3f5f\\\"},\\\"ternary\\\":{\\\"baxis\\\":{\\\"gridcolor\\\":\\\"white\\\",\\\"ticks\\\":\\\"\\\",\\\"linecolor\\\":\\\"white\\\"},\\\"bgcolor\\\":\\\"#E5ECF6\\\",\\\"caxis\\\":{\\\"gridcolor\\\":\\\"white\\\",\\\"ticks\\\":\\\"\\\",\\\"linecolor\\\":\\\"white\\\"},\\\"aaxis\\\":{\\\"gridcolor\\\":\\\"white\\\",\\\"ticks\\\":\\\"\\\",\\\"linecolor\\\":\\\"white\\\"}},\\\"annotationdefaults\\\":{\\\"arrowhead\\\":0,\\\"arrowwidth\\\":1,\\\"arrowcolor\\\":\\\"#2a3f5f\\\"},\\\"plot_bgcolor\\\":\\\"#E5ECF6\\\",\\\"title\\\":{\\\"x\\\":0.05},\\\"scene\\\":{\\\"xaxis\\\":{\\\"gridcolor\\\":\\\"white\\\",\\\"gridwidth\\\":2,\\\"backgroundcolor\\\":\\\"#E5ECF6\\\",\\\"ticks\\\":\\\"\\\",\\\"showbackground\\\":true,\\\"zerolinecolor\\\":\\\"white\\\",\\\"linecolor\\\":\\\"white\\\"},\\\"zaxis\\\":{\\\"gridcolor\\\":\\\"white\\\",\\\"gridwidth\\\":2,\\\"backgroundcolor\\\":\\\"#E5ECF6\\\",\\\"ticks\\\":\\\"\\\",\\\"showbackground\\\":true,\\\"zerolinecolor\\\":\\\"white\\\",\\\"linecolor\\\":\\\"white\\\"},\\\"yaxis\\\":{\\\"gridcolor\\\":\\\"white\\\",\\\"gridwidth\\\":2,\\\"backgroundcolor\\\":\\\"#E5ECF6\\\",\\\"ticks\\\":\\\"\\\",\\\"showbackground\\\":true,\\\"zerolinecolor\\\":\\\"white\\\",\\\"linecolor\\\":\\\"white\\\"}},\\\"colorway\\\":[\\\"#636efa\\\",\\\"#EF553B\\\",\\\"#00cc96\\\",\\\"#ab63fa\\\",\\\"#FFA15A\\\",\\\"#19d3f3\\\",\\\"#FF6692\\\",\\\"#B6E880\\\",\\\"#FF97FF\\\",\\\"#FECB52\\\"]},\\\"data\\\":{\\\"barpolar\\\":[{\\\"type\\\":\\\"barpolar\\\",\\\"marker\\\":{\\\"line\\\":{\\\"color\\\":\\\"#E5ECF6\\\",\\\"width\\\":0.5}}}],\\\"carpet\\\":[{\\\"aaxis\\\":{\\\"gridcolor\\\":\\\"white\\\",\\\"endlinecolor\\\":\\\"#2a3f5f\\\",\\\"minorgridcolor\\\":\\\"white\\\",\\\"startlinecolor\\\":\\\"#2a3f5f\\\",\\\"linecolor\\\":\\\"white\\\"},\\\"type\\\":\\\"carpet\\\",\\\"baxis\\\":{\\\"gridcolor\\\":\\\"white\\\",\\\"endlinecolor\\\":\\\"#2a3f5f\\\",\\\"minorgridcolor\\\":\\\"white\\\",\\\"startlinecolor\\\":\\\"#2a3f5f\\\",\\\"linecolor\\\":\\\"white\\\"}}],\\\"scatterpolar\\\":[{\\\"type\\\":\\\"scatterpolar\\\",\\\"marker\\\":{\\\"colorbar\\\":{\\\"ticks\\\":\\\"\\\",\\\"outlinewidth\\\":0}}}],\\\"parcoords\\\":[{\\\"line\\\":{\\\"colorbar\\\":{\\\"ticks\\\":\\\"\\\",\\\"outlinewidth\\\":0}},\\\"type\\\":\\\"parcoords\\\"}],\\\"scatter\\\":[{\\\"type\\\":\\\"scatter\\\",\\\"marker\\\":{\\\"colorbar\\\":{\\\"ticks\\\":\\\"\\\",\\\"outlinewidth\\\":0}}}],\\\"histogram2dcontour\\\":[{\\\"colorbar\\\":{\\\"ticks\\\":\\\"\\\",\\\"outlinewidth\\\":0},\\\"type\\\":\\\"histogram2dcontour\\\",\\\"colorscale\\\":[[0.0,\\\"#0d0887\\\"],[0.1111111111111111,\\\"#46039f\\\"],[0.2222222222222222,\\\"#7201a8\\\"],[0.3333333333333333,\\\"#9c179e\\\"],[0.4444444444444444,\\\"#bd3786\\\"],[0.5555555555555556,\\\"#d8576b\\\"],[0.6666666666666666,\\\"#ed7953\\\"],[0.7777777777777778,\\\"#fb9f3a\\\"],[0.8888888888888888,\\\"#fdca26\\\"],[1.0,\\\"#f0f921\\\"]]}],\\\"contour\\\":[{\\\"colorbar\\\":{\\\"ticks\\\":\\\"\\\",\\\"outlinewidth\\\":0},\\\"type\\\":\\\"contour\\\",\\\"colorscale\\\":[[0.0,\\\"#0d0887\\\"],[0.1111111111111111,\\\"#46039f\\\"],[0.2222222222222222,\\\"#7201a8\\\"],[0.3333333333333333,\\\"#9c179e\\\"],[0.4444444444444444,\\\"#bd3786\\\"],[0.5555555555555556,\\\"#d8576b\\\"],[0.6666666666666666,\\\"#ed7953\\\"],[0.7777777777777778,\\\"#fb9f3a\\\"],[0.8888888888888888,\\\"#fdca26\\\"],[1.0,\\\"#f0f921\\\"]]}],\\\"scattercarpet\\\":[{\\\"type\\\":\\\"scattercarpet\\\",\\\"marker\\\":{\\\"colorbar\\\":{\\\"ticks\\\":\\\"\\\",\\\"outlinewidth\\\":0}}}],\\\"mesh3d\\\":[{\\\"colorbar\\\":{\\\"ticks\\\":\\\"\\\",\\\"outlinewidth\\\":0},\\\"type\\\":\\\"mesh3d\\\"}],\\\"surface\\\":[{\\\"colorbar\\\":{\\\"ticks\\\":\\\"\\\",\\\"outlinewidth\\\":0},\\\"type\\\":\\\"surface\\\",\\\"colorscale\\\":[[0.0,\\\"#0d0887\\\"],[0.1111111111111111,\\\"#46039f\\\"],[0.2222222222222222,\\\"#7201a8\\\"],[0.3333333333333333,\\\"#9c179e\\\"],[0.4444444444444444,\\\"#bd3786\\\"],[0.5555555555555556,\\\"#d8576b\\\"],[0.6666666666666666,\\\"#ed7953\\\"],[0.7777777777777778,\\\"#fb9f3a\\\"],[0.8888888888888888,\\\"#fdca26\\\"],[1.0,\\\"#f0f921\\\"]]}],\\\"scattermapbox\\\":[{\\\"type\\\":\\\"scattermapbox\\\",\\\"marker\\\":{\\\"colorbar\\\":{\\\"ticks\\\":\\\"\\\",\\\"outlinewidth\\\":0}}}],\\\"scattergeo\\\":[{\\\"type\\\":\\\"scattergeo\\\",\\\"marker\\\":{\\\"colorbar\\\":{\\\"ticks\\\":\\\"\\\",\\\"outlinewidth\\\":0}}}],\\\"histogram\\\":[{\\\"type\\\":\\\"histogram\\\",\\\"marker\\\":{\\\"colorbar\\\":{\\\"ticks\\\":\\\"\\\",\\\"outlinewidth\\\":0}}}],\\\"pie\\\":[{\\\"type\\\":\\\"pie\\\",\\\"automargin\\\":true}],\\\"choropleth\\\":[{\\\"colorbar\\\":{\\\"ticks\\\":\\\"\\\",\\\"outlinewidth\\\":0},\\\"type\\\":\\\"choropleth\\\"}],\\\"heatmapgl\\\":[{\\\"colorbar\\\":{\\\"ticks\\\":\\\"\\\",\\\"outlinewidth\\\":0},\\\"type\\\":\\\"heatmapgl\\\",\\\"colorscale\\\":[[0.0,\\\"#0d0887\\\"],[0.1111111111111111,\\\"#46039f\\\"],[0.2222222222222222,\\\"#7201a8\\\"],[0.3333333333333333,\\\"#9c179e\\\"],[0.4444444444444444,\\\"#bd3786\\\"],[0.5555555555555556,\\\"#d8576b\\\"],[0.6666666666666666,\\\"#ed7953\\\"],[0.7777777777777778,\\\"#fb9f3a\\\"],[0.8888888888888888,\\\"#fdca26\\\"],[1.0,\\\"#f0f921\\\"]]}],\\\"bar\\\":[{\\\"type\\\":\\\"bar\\\",\\\"error_y\\\":{\\\"color\\\":\\\"#2a3f5f\\\"},\\\"error_x\\\":{\\\"color\\\":\\\"#2a3f5f\\\"},\\\"marker\\\":{\\\"line\\\":{\\\"color\\\":\\\"#E5ECF6\\\",\\\"width\\\":0.5}}}],\\\"heatmap\\\":[{\\\"colorbar\\\":{\\\"ticks\\\":\\\"\\\",\\\"outlinewidth\\\":0},\\\"type\\\":\\\"heatmap\\\",\\\"colorscale\\\":[[0.0,\\\"#0d0887\\\"],[0.1111111111111111,\\\"#46039f\\\"],[0.2222222222222222,\\\"#7201a8\\\"],[0.3333333333333333,\\\"#9c179e\\\"],[0.4444444444444444,\\\"#bd3786\\\"],[0.5555555555555556,\\\"#d8576b\\\"],[0.6666666666666666,\\\"#ed7953\\\"],[0.7777777777777778,\\\"#fb9f3a\\\"],[0.8888888888888888,\\\"#fdca26\\\"],[1.0,\\\"#f0f921\\\"]]}],\\\"contourcarpet\\\":[{\\\"colorbar\\\":{\\\"ticks\\\":\\\"\\\",\\\"outlinewidth\\\":0},\\\"type\\\":\\\"contourcarpet\\\"}],\\\"table\\\":[{\\\"type\\\":\\\"table\\\",\\\"header\\\":{\\\"line\\\":{\\\"color\\\":\\\"white\\\"},\\\"fill\\\":{\\\"color\\\":\\\"#C8D4E3\\\"}},\\\"cells\\\":{\\\"line\\\":{\\\"color\\\":\\\"white\\\"},\\\"fill\\\":{\\\"color\\\":\\\"#EBF0F8\\\"}}}],\\\"scatter3d\\\":[{\\\"line\\\":{\\\"colorbar\\\":{\\\"ticks\\\":\\\"\\\",\\\"outlinewidth\\\":0}},\\\"type\\\":\\\"scatter3d\\\",\\\"marker\\\":{\\\"colorbar\\\":{\\\"ticks\\\":\\\"\\\",\\\"outlinewidth\\\":0}}}],\\\"scattergl\\\":[{\\\"type\\\":\\\"scattergl\\\",\\\"marker\\\":{\\\"colorbar\\\":{\\\"ticks\\\":\\\"\\\",\\\"outlinewidth\\\":0}}}],\\\"histogram2d\\\":[{\\\"colorbar\\\":{\\\"ticks\\\":\\\"\\\",\\\"outlinewidth\\\":0},\\\"type\\\":\\\"histogram2d\\\",\\\"colorscale\\\":[[0.0,\\\"#0d0887\\\"],[0.1111111111111111,\\\"#46039f\\\"],[0.2222222222222222,\\\"#7201a8\\\"],[0.3333333333333333,\\\"#9c179e\\\"],[0.4444444444444444,\\\"#bd3786\\\"],[0.5555555555555556,\\\"#d8576b\\\"],[0.6666666666666666,\\\"#ed7953\\\"],[0.7777777777777778,\\\"#fb9f3a\\\"],[0.8888888888888888,\\\"#fdca26\\\"],[1.0,\\\"#f0f921\\\"]]}],\\\"scatterternary\\\":[{\\\"type\\\":\\\"scatterternary\\\",\\\"marker\\\":{\\\"colorbar\\\":{\\\"ticks\\\":\\\"\\\",\\\"outlinewidth\\\":0}}}],\\\"scatterpolargl\\\":[{\\\"type\\\":\\\"scatterpolargl\\\",\\\"marker\\\":{\\\"colorbar\\\":{\\\"ticks\\\":\\\"\\\",\\\"outlinewidth\\\":0}}}]}},\\\"margin\\\":{\\\"l\\\":50,\\\"b\\\":50,\\\"r\\\":50,\\\"t\\\":60}},{\\\"showLink\\\":false,\\\"editable\\\":false,\\\"responsive\\\":true,\\\"staticPlot\\\":false,\\\"scrollZoom\\\":true}); gd.on(\\\"plotly_hover\\\",(function (data){var filtered_data=WebIO.PlotlyCommands.filterEventData(gd,data,\\\"hover\\\"); return !(filtered_data.isnil) ? (WebIO.setval({\\\"name\\\":\\\"hover\\\",\\\"scope\\\":\\\"11053459704406635034\\\",\\\"id\\\":\\\"4153348808194789529\\\",\\\"type\\\":\\\"observable\\\"},filtered_data.out)) : undefined})); gd.on(\\\"plotly_unhover\\\",(function (){return WebIO.setval({\\\"name\\\":\\\"hover\\\",\\\"scope\\\":\\\"11053459704406635034\\\",\\\"id\\\":\\\"4153348808194789529\\\",\\\"type\\\":\\\"observable\\\"},{})})); gd.on(\\\"plotly_selected\\\",(function (data){var filtered_data=WebIO.PlotlyCommands.filterEventData(gd,data,\\\"selected\\\"); return !(filtered_data.isnil) ? (WebIO.setval({\\\"name\\\":\\\"selected\\\",\\\"scope\\\":\\\"11053459704406635034\\\",\\\"id\\\":\\\"13750921625381954860\\\",\\\"type\\\":\\\"observable\\\"},filtered_data.out)) : undefined})); gd.on(\\\"plotly_deselect\\\",(function (){return WebIO.setval({\\\"name\\\":\\\"selected\\\",\\\"scope\\\":\\\"11053459704406635034\\\",\\\"id\\\":\\\"13750921625381954860\\\",\\\"type\\\":\\\"observable\\\"},{})})); gd.on(\\\"plotly_relayout\\\",(function (data){var filtered_data=WebIO.PlotlyCommands.filterEventData(gd,data,\\\"relayout\\\"); return !(filtered_data.isnil) ? (WebIO.setval({\\\"name\\\":\\\"relayout\\\",\\\"scope\\\":\\\"11053459704406635034\\\",\\\"id\\\":\\\"6982121518138503122\\\",\\\"type\\\":\\\"observable\\\"},filtered_data.out)) : undefined})); return gd.on(\\\"plotly_click\\\",(function (data){var filtered_data=WebIO.PlotlyCommands.filterEventData(gd,data,\\\"click\\\"); return !(filtered_data.isnil) ? (WebIO.setval({\\\"name\\\":\\\"click\\\",\\\"scope\\\":\\\"11053459704406635034\\\",\\\"id\\\":\\\"3387199098329907401\\\",\\\"type\\\":\\\"observable\\\"},filtered_data.out)) : undefined}))}));\\n    (WebIO.importBlock({\\\"data\\\":[{\\\"name\\\":\\\"Plotly\\\",\\\"type\\\":\\\"js\\\",\\\"url\\\":\\\"\\/assetserver\\/3e2d063fcbfbf8797e7181829eb6f798910493eb-plotly.min.js\\\"},{\\\"name\\\":null,\\\"type\\\":\\\"js\\\",\\\"url\\\":\\\"\\/assetserver\\/588989ae0bd9d28bf0e53faaf41e2532b763e757-plotly_webio.bundle.js\\\"}],\\\"type\\\":\\\"async_block\\\"})).then((imports) => handler.apply(this, imports));\\n}\\n\"],\"observables\":{\"_toImage\":{\"sync\":false,\"id\":\"2326524396153978278\",\"value\":{}},\"hover\":{\"sync\":false,\"id\":\"4153348808194789529\",\"value\":{}},\"selected\":{\"sync\":false,\"id\":\"13750921625381954860\",\"value\":{}},\"__gd_contents\":{\"sync\":false,\"id\":\"4281667815285316715\",\"value\":{}},\"click\":{\"sync\":false,\"id\":\"3387199098329907401\",\"value\":{}},\"image\":{\"sync\":true,\"id\":\"5806435213141601712\",\"value\":\"\"},\"__get_gd_contents\":{\"sync\":false,\"id\":\"703324291369545220\",\"value\":\"\"},\"_downloadImage\":{\"sync\":false,\"id\":\"1157347852831571108\",\"value\":{}},\"relayout\":{\"sync\":false,\"id\":\"6982121518138503122\",\"value\":{}},\"_commands\":{\"sync\":false,\"id\":\"4182597194044268590\",\"value\":[]}}},\"children\":[{\"props\":{\"id\":\"plot-d8a4388d-26ca-4125-b2f7-88a5516a8508\"},\"nodeType\":\"DOM\",\"type\":\"node\",\"instanceArgs\":{\"namespace\":\"html\",\"tag\":\"div\"},\"children\":[]}]},\n",
       "        window,\n",
       "    );\n",
       "    })()\n",
       "    </script>\n",
       "</div>\n"
      ],
      "text/plain": [
       "data: [\n",
       "  \"scatter with fields type, x, and y\"\n",
       "]\n",
       "\n",
       "layout: \"layout with fields margin and template\"\n",
       "\n"
      ]
     },
     "execution_count": 36,
     "metadata": {},
     "output_type": "execute_result"
    }
   ],
   "source": [
    "plot(a)\n",
    "plot(crosscor(x1, y))"
   ]
  },
  {
   "cell_type": "code",
   "execution_count": null,
   "metadata": {},
   "outputs": [],
   "source": []
  }
 ],
 "metadata": {
  "kernelspec": {
   "display_name": "Julia (multiple threads) 1.7.2",
   "language": "julia",
   "name": "julia-(multiple-threads)-1.7"
  },
  "language_info": {
   "file_extension": ".jl",
   "mimetype": "application/julia",
   "name": "julia",
   "version": "1.7.2"
  },
  "orig_nbformat": 4
 },
 "nbformat": 4,
 "nbformat_minor": 2
}
