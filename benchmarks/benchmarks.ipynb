{
 "cells": [
  {
   "cell_type": "code",
   "execution_count": 1,
   "id": "8a7d0cc3-7537-4289-b970-574d46e89cdc",
   "metadata": {},
   "outputs": [
    {
     "name": "stdout",
     "output_type": "stream",
     "text": [
      "  0.027 ns (0 allocations: 0 bytes)\n"
     ]
    }
   ],
   "source": [
    "using BenchmarkTools; @btime 0;"
   ]
  },
  {
   "cell_type": "code",
   "execution_count": 2,
   "id": "7d209bf1-8778-43e2-a677-87fb39a8c15f",
   "metadata": {},
   "outputs": [],
   "source": [
    "f1(a,b) = sqrt(a+b);"
   ]
  },
  {
   "cell_type": "code",
   "execution_count": 3,
   "id": "1ae4cfc1-cd30-45ac-a544-bab9abf32d6d",
   "metadata": {},
   "outputs": [],
   "source": [
    "f2(a,b) = (sqrt ∘ +)(a,b);"
   ]
  },
  {
   "cell_type": "code",
   "execution_count": 4,
   "id": "f09ef9ba-f12e-4ddc-8eab-1ecd2193378a",
   "metadata": {},
   "outputs": [],
   "source": [
    "f3(a,b) = (a,b) |> sum |> sqrt;"
   ]
  },
  {
   "cell_type": "code",
   "execution_count": 5,
   "id": "a7fe03e2-9b07-422a-96b1-5ead00e229f3",
   "metadata": {},
   "outputs": [],
   "source": [
    "#warmup\n",
    "a1 = 2;\n",
    "f1(a1,a1); \n",
    "f2(a1,a1);\n",
    "f3(a1,a1);"
   ]
  },
  {
   "cell_type": "code",
   "execution_count": 6,
   "id": "4092ea8c-841d-4e0e-a6d6-cbd16e38992b",
   "metadata": {},
   "outputs": [],
   "source": [
    "const a, b = 1e3*rand(10^6), 1e3*rand(10^6);"
   ]
  },
  {
   "cell_type": "code",
   "execution_count": 7,
   "id": "c14271c4-f24e-417e-aa60-062e34086f03",
   "metadata": {},
   "outputs": [
    {
     "name": "stdout",
     "output_type": "stream",
     "text": [
      "  5.518 ms (2 allocations: 7.63 MiB)\n",
      "  5.549 ms (2 allocations: 7.63 MiB)\n",
      "  5.523 ms (2 allocations: 7.63 MiB)\n"
     ]
    }
   ],
   "source": [
    "@btime f1.($a,$b);\n",
    "@btime f2.($a,$b);\n",
    "@btime f3.($a,$b);"
   ]
  },
  {
   "cell_type": "code",
   "execution_count": 8,
   "id": "6b576c89-acbc-4d4c-9eaa-8ed51cd9cd5c",
   "metadata": {},
   "outputs": [],
   "source": [
    "const x = [rand(2) for i in 1:1e6];"
   ]
  },
  {
   "cell_type": "code",
   "execution_count": 9,
   "id": "ff2cd329-5b8c-4115-9f52-4d5909232ee9",
   "metadata": {},
   "outputs": [],
   "source": [
    "function m1(x)\n",
    "    y1 = [i[1] for i in x]\n",
    "    y2 = [i[end]/10 for i in x]\n",
    "    return (y1,y2)\n",
    "end;"
   ]
  },
  {
   "cell_type": "code",
   "execution_count": 10,
   "id": "55bccb54-4653-4489-b47e-15975feadbfc",
   "metadata": {},
   "outputs": [],
   "source": [
    "function m2(x)\n",
    "    y1 = x[1]\n",
    "    y2 = x[end]/10\n",
    "    return (y1,y2)\n",
    "end;"
   ]
  },
  {
   "cell_type": "code",
   "execution_count": 11,
   "id": "b39a560c-e38a-4749-a9d5-cf1f836e23ae",
   "metadata": {},
   "outputs": [],
   "source": [
    "function m3(x)\n",
    "    y1 = first(x);\n",
    "    y2 = last(x)/10;\n",
    "    return(y1,y2)\n",
    "end;"
   ]
  },
  {
   "cell_type": "code",
   "execution_count": 12,
   "id": "4860a897-1833-44ff-88ec-94340c5c68d7",
   "metadata": {},
   "outputs": [],
   "source": [
    "m4(x) = (x[1], x[end]/10);"
   ]
  },
  {
   "cell_type": "code",
   "execution_count": 13,
   "id": "1bb212a7-8d6d-4be3-a0ea-f6314e17767f",
   "metadata": {},
   "outputs": [],
   "source": [
    "m5(x) = (first(x), last(x)/10);"
   ]
  },
  {
   "cell_type": "code",
   "execution_count": 14,
   "id": "7eb4b5b3-c70f-4778-aab5-2889ac5adc83",
   "metadata": {},
   "outputs": [],
   "source": [
    "# warmup\n",
    "c = [[2 1]];\n",
    "m1(c); m2.(c); m3.(c); m4.(c); m5.(c);"
   ]
  },
  {
   "cell_type": "code",
   "execution_count": 15,
   "id": "24ae44a0-e92a-4923-9d0e-3cc6b6ef8e54",
   "metadata": {},
   "outputs": [
    {
     "name": "stdout",
     "output_type": "stream",
     "text": [
      "  16.709 ms (4 allocations: 15.26 MiB)\n",
      "  8.905 ms (2 allocations: 15.26 MiB)\n",
      "  8.881 ms (2 allocations: 15.26 MiB)\n",
      "  8.902 ms (2 allocations: 15.26 MiB)\n",
      "  8.918 ms (2 allocations: 15.26 MiB)\n"
     ]
    }
   ],
   "source": [
    "@btime m1($x);\n",
    "@btime m2.($x);\n",
    "@btime m3.($x);\n",
    "@btime m4.($x);\n",
    "@btime m5.($x);"
   ]
  },
  {
   "cell_type": "code",
   "execution_count": 16,
   "id": "e279c87d-2758-49ab-94f0-8273a8ea6feb",
   "metadata": {},
   "outputs": [
    {
     "name": "stdout",
     "output_type": "stream",
     "text": [
      "  8.054 ms (2 allocations: 7.63 MiB)\n",
      "  8.149 ms (2 allocations: 7.63 MiB)\n"
     ]
    }
   ],
   "source": [
    "@btime first.($x);\n",
    "@btime $x .|> x -> x[1];"
   ]
  }
 ],
 "metadata": {
  "kernelspec": {
   "display_name": "Julia 1.7.2",
   "language": "julia",
   "name": "julia-1.7"
  },
  "language_info": {
   "file_extension": ".jl",
   "mimetype": "application/julia",
   "name": "julia",
   "version": "1.7.2"
  }
 },
 "nbformat": 4,
 "nbformat_minor": 5
}
