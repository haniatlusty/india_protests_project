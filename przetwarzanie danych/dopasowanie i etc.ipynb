{
 "cells": [
  {
   "cell_type": "code",
   "execution_count": 1,
   "id": "7d0df6a5-3268-4ee7-b6c5-5dee3f9d1e7f",
   "metadata": {},
   "outputs": [
    {
     "data": {
      "application/vnd.webio.node+json": {
       "children": [],
       "instanceArgs": {
        "namespace": "html",
        "tag": "div"
       },
       "nodeType": "DOM",
       "props": {},
       "type": "node"
      },
      "text/html": [
       "<div style=\"padding: 1em; background-color: #f8d6da; border: 1px solid #f5c6cb; font-weight: bold;\">\n",
       "<p>The WebIO Jupyter extension was not detected. See the\n",
       "<a href=\"https://juliagizmos.github.io/WebIO.jl/latest/providers/ijulia/\" target=\"_blank\">\n",
       "    WebIO Jupyter integration documentation\n",
       "</a>\n",
       "for more information.\n",
       "</div>\n"
      ],
      "text/plain": [
       "WebIO._IJuliaInit()"
      ]
     },
     "metadata": {
      "@webio": {
       "kernelId": "0fa57713-973c-4fa1-8826-109815f5e9b2"
      }
     },
     "output_type": "display_data"
    }
   ],
   "source": [
    "using StatsKit, Dates, PlotlyJS"
   ]
  },
  {
   "cell_type": "code",
   "execution_count": 2,
   "id": "53f0a467-7ea9-45a2-884e-248a21cb931f",
   "metadata": {},
   "outputs": [
    {
     "data": {
      "text/html": [
       "<div class=\"data-frame\"><p>107,690 rows × 10 columns (omitted printing of 4 columns)</p><table class=\"data-frame\"><thead><tr><th></th><th>event_date</th><th>year</th><th>event_type</th><th>sub_event_type</th><th>interaction</th><th>admin1</th></tr><tr><th></th><th title=\"String31\">String31</th><th title=\"Int64\">Int64</th><th title=\"String31\">String31</th><th title=\"String\">String</th><th title=\"Int64\">Int64</th><th title=\"String\">String</th></tr></thead><tbody><tr><th>1</th><td>18 March 2022</td><td>2022</td><td>Riots</td><td>Mob violence</td><td>55</td><td>Uttar Pradesh</td></tr><tr><th>2</th><td>18 March 2022</td><td>2022</td><td>Protests</td><td>Peaceful protest</td><td>60</td><td>Maharashtra</td></tr><tr><th>3</th><td>18 March 2022</td><td>2022</td><td>Protests</td><td>Peaceful protest</td><td>60</td><td>Punjab</td></tr><tr><th>4</th><td>18 March 2022</td><td>2022</td><td>Protests</td><td>Peaceful protest</td><td>60</td><td>Madhya Pradesh</td></tr><tr><th>5</th><td>18 March 2022</td><td>2022</td><td>Riots</td><td>Mob violence</td><td>57</td><td>Madhya Pradesh</td></tr><tr><th>6</th><td>18 March 2022</td><td>2022</td><td>Riots</td><td>Mob violence</td><td>57</td><td>Madhya Pradesh</td></tr><tr><th>7</th><td>18 March 2022</td><td>2022</td><td>Protests</td><td>Peaceful protest</td><td>60</td><td>Telangana</td></tr><tr><th>8</th><td>18 March 2022</td><td>2022</td><td>Protests</td><td>Peaceful protest</td><td>60</td><td>Telangana</td></tr><tr><th>9</th><td>18 March 2022</td><td>2022</td><td>Protests</td><td>Peaceful protest</td><td>60</td><td>Telangana</td></tr><tr><th>10</th><td>18 March 2022</td><td>2022</td><td>Protests</td><td>Peaceful protest</td><td>60</td><td>Telangana</td></tr><tr><th>11</th><td>18 March 2022</td><td>2022</td><td>Protests</td><td>Peaceful protest</td><td>60</td><td>Telangana</td></tr><tr><th>12</th><td>18 March 2022</td><td>2022</td><td>Riots</td><td>Violent demonstration</td><td>15</td><td>Kerala</td></tr><tr><th>13</th><td>18 March 2022</td><td>2022</td><td>Protests</td><td>Peaceful protest</td><td>60</td><td>Karnataka</td></tr><tr><th>14</th><td>18 March 2022</td><td>2022</td><td>Protests</td><td>Peaceful protest</td><td>60</td><td>Kerala</td></tr><tr><th>15</th><td>18 March 2022</td><td>2022</td><td>Protests</td><td>Peaceful protest</td><td>60</td><td>Tamil Nadu</td></tr><tr><th>16</th><td>18 March 2022</td><td>2022</td><td>Riots</td><td>Mob violence</td><td>15</td><td>West Bengal</td></tr><tr><th>17</th><td>18 March 2022</td><td>2022</td><td>Riots</td><td>Mob violence</td><td>50</td><td>West Bengal</td></tr><tr><th>18</th><td>17 March 2022</td><td>2022</td><td>Protests</td><td>Peaceful protest</td><td>60</td><td>Jammu and Kashmir</td></tr><tr><th>19</th><td>17 March 2022</td><td>2022</td><td>Protests</td><td>Peaceful protest</td><td>60</td><td>Jammu and Kashmir</td></tr><tr><th>20</th><td>17 March 2022</td><td>2022</td><td>Riots</td><td>Mob violence</td><td>55</td><td>Madhya Pradesh</td></tr><tr><th>21</th><td>17 March 2022</td><td>2022</td><td>Riots</td><td>Mob violence</td><td>57</td><td>Jammu and Kashmir</td></tr><tr><th>22</th><td>17 March 2022</td><td>2022</td><td>Protests</td><td>Peaceful protest</td><td>60</td><td>Jammu and Kashmir</td></tr><tr><th>23</th><td>17 March 2022</td><td>2022</td><td>Protests</td><td>Peaceful protest</td><td>60</td><td>Jammu and Kashmir</td></tr><tr><th>24</th><td>17 March 2022</td><td>2022</td><td>Protests</td><td>Protest with intervention</td><td>16</td><td>Jammu and Kashmir</td></tr><tr><th>25</th><td>17 March 2022</td><td>2022</td><td>Protests</td><td>Peaceful protest</td><td>60</td><td>Telangana</td></tr><tr><th>26</th><td>17 March 2022</td><td>2022</td><td>Protests</td><td>Peaceful protest</td><td>60</td><td>Andhra Pradesh</td></tr><tr><th>27</th><td>17 March 2022</td><td>2022</td><td>Riots</td><td>Mob violence</td><td>55</td><td>Punjab</td></tr><tr><th>28</th><td>17 March 2022</td><td>2022</td><td>Protests</td><td>Peaceful protest</td><td>60</td><td>Delhi</td></tr><tr><th>29</th><td>17 March 2022</td><td>2022</td><td>Protests</td><td>Peaceful protest</td><td>60</td><td>Jammu and Kashmir</td></tr><tr><th>30</th><td>17 March 2022</td><td>2022</td><td>Protests</td><td>Protest with intervention</td><td>16</td><td>Kerala</td></tr><tr><th>&vellip;</th><td>&vellip;</td><td>&vellip;</td><td>&vellip;</td><td>&vellip;</td><td>&vellip;</td><td>&vellip;</td></tr></tbody></table></div>"
      ],
      "text/latex": [
       "\\begin{tabular}{r|ccccccc}\n",
       "\t& event\\_date & year & event\\_type & sub\\_event\\_type & interaction & admin1 & \\\\\n",
       "\t\\hline\n",
       "\t& String31 & Int64 & String31 & String & Int64 & String & \\\\\n",
       "\t\\hline\n",
       "\t1 & 18 March 2022 & 2022 & Riots & Mob violence & 55 & Uttar Pradesh & $\\dots$ \\\\\n",
       "\t2 & 18 March 2022 & 2022 & Protests & Peaceful protest & 60 & Maharashtra & $\\dots$ \\\\\n",
       "\t3 & 18 March 2022 & 2022 & Protests & Peaceful protest & 60 & Punjab & $\\dots$ \\\\\n",
       "\t4 & 18 March 2022 & 2022 & Protests & Peaceful protest & 60 & Madhya Pradesh & $\\dots$ \\\\\n",
       "\t5 & 18 March 2022 & 2022 & Riots & Mob violence & 57 & Madhya Pradesh & $\\dots$ \\\\\n",
       "\t6 & 18 March 2022 & 2022 & Riots & Mob violence & 57 & Madhya Pradesh & $\\dots$ \\\\\n",
       "\t7 & 18 March 2022 & 2022 & Protests & Peaceful protest & 60 & Telangana & $\\dots$ \\\\\n",
       "\t8 & 18 March 2022 & 2022 & Protests & Peaceful protest & 60 & Telangana & $\\dots$ \\\\\n",
       "\t9 & 18 March 2022 & 2022 & Protests & Peaceful protest & 60 & Telangana & $\\dots$ \\\\\n",
       "\t10 & 18 March 2022 & 2022 & Protests & Peaceful protest & 60 & Telangana & $\\dots$ \\\\\n",
       "\t11 & 18 March 2022 & 2022 & Protests & Peaceful protest & 60 & Telangana & $\\dots$ \\\\\n",
       "\t12 & 18 March 2022 & 2022 & Riots & Violent demonstration & 15 & Kerala & $\\dots$ \\\\\n",
       "\t13 & 18 March 2022 & 2022 & Protests & Peaceful protest & 60 & Karnataka & $\\dots$ \\\\\n",
       "\t14 & 18 March 2022 & 2022 & Protests & Peaceful protest & 60 & Kerala & $\\dots$ \\\\\n",
       "\t15 & 18 March 2022 & 2022 & Protests & Peaceful protest & 60 & Tamil Nadu & $\\dots$ \\\\\n",
       "\t16 & 18 March 2022 & 2022 & Riots & Mob violence & 15 & West Bengal & $\\dots$ \\\\\n",
       "\t17 & 18 March 2022 & 2022 & Riots & Mob violence & 50 & West Bengal & $\\dots$ \\\\\n",
       "\t18 & 17 March 2022 & 2022 & Protests & Peaceful protest & 60 & Jammu and Kashmir & $\\dots$ \\\\\n",
       "\t19 & 17 March 2022 & 2022 & Protests & Peaceful protest & 60 & Jammu and Kashmir & $\\dots$ \\\\\n",
       "\t20 & 17 March 2022 & 2022 & Riots & Mob violence & 55 & Madhya Pradesh & $\\dots$ \\\\\n",
       "\t21 & 17 March 2022 & 2022 & Riots & Mob violence & 57 & Jammu and Kashmir & $\\dots$ \\\\\n",
       "\t22 & 17 March 2022 & 2022 & Protests & Peaceful protest & 60 & Jammu and Kashmir & $\\dots$ \\\\\n",
       "\t23 & 17 March 2022 & 2022 & Protests & Peaceful protest & 60 & Jammu and Kashmir & $\\dots$ \\\\\n",
       "\t24 & 17 March 2022 & 2022 & Protests & Protest with intervention & 16 & Jammu and Kashmir & $\\dots$ \\\\\n",
       "\t25 & 17 March 2022 & 2022 & Protests & Peaceful protest & 60 & Telangana & $\\dots$ \\\\\n",
       "\t26 & 17 March 2022 & 2022 & Protests & Peaceful protest & 60 & Andhra Pradesh & $\\dots$ \\\\\n",
       "\t27 & 17 March 2022 & 2022 & Riots & Mob violence & 55 & Punjab & $\\dots$ \\\\\n",
       "\t28 & 17 March 2022 & 2022 & Protests & Peaceful protest & 60 & Delhi & $\\dots$ \\\\\n",
       "\t29 & 17 March 2022 & 2022 & Protests & Peaceful protest & 60 & Jammu and Kashmir & $\\dots$ \\\\\n",
       "\t30 & 17 March 2022 & 2022 & Protests & Protest with intervention & 16 & Kerala & $\\dots$ \\\\\n",
       "\t$\\dots$ & $\\dots$ & $\\dots$ & $\\dots$ & $\\dots$ & $\\dots$ & $\\dots$ &  \\\\\n",
       "\\end{tabular}\n"
      ],
      "text/plain": [
       "\u001b[1m107690×10 DataFrame\u001b[0m\n",
       "\u001b[1m    Row \u001b[0m│\u001b[1m event_date      \u001b[0m\u001b[1m year  \u001b[0m\u001b[1m event_type \u001b[0m\u001b[1m sub_event_type        \u001b[0m\u001b[1m interacti\u001b[0m ⋯\n",
       "\u001b[1m        \u001b[0m│\u001b[90m String31        \u001b[0m\u001b[90m Int64 \u001b[0m\u001b[90m String31   \u001b[0m\u001b[90m String                \u001b[0m\u001b[90m Int64    \u001b[0m ⋯\n",
       "────────┼───────────────────────────────────────────────────────────────────────\n",
       "      1 │ 18 March 2022     2022  Riots       Mob violence                     ⋯\n",
       "      2 │ 18 March 2022     2022  Protests    Peaceful protest\n",
       "      3 │ 18 March 2022     2022  Protests    Peaceful protest\n",
       "      4 │ 18 March 2022     2022  Protests    Peaceful protest\n",
       "      5 │ 18 March 2022     2022  Riots       Mob violence                     ⋯\n",
       "      6 │ 18 March 2022     2022  Riots       Mob violence\n",
       "      7 │ 18 March 2022     2022  Protests    Peaceful protest\n",
       "      8 │ 18 March 2022     2022  Protests    Peaceful protest\n",
       "      9 │ 18 March 2022     2022  Protests    Peaceful protest                 ⋯\n",
       "     10 │ 18 March 2022     2022  Protests    Peaceful protest\n",
       "     11 │ 18 March 2022     2022  Protests    Peaceful protest\n",
       "   ⋮    │        ⋮           ⋮        ⋮                 ⋮                 ⋮    ⋱\n",
       " 107681 │ 01 January 2016   2016  Protests    Peaceful protest\n",
       " 107682 │ 01 January 2016   2016  Riots       Mob violence                     ⋯\n",
       " 107683 │ 01 January 2016   2016  Protests    Peaceful protest\n",
       " 107684 │ 01 January 2016   2016  Protests    Peaceful protest\n",
       " 107685 │ 01 January 2016   2016  Protests    Peaceful protest\n",
       " 107686 │ 01 January 2016   2016  Protests    Peaceful protest                 ⋯\n",
       " 107687 │ 01 January 2016   2016  Battles     Armed clash\n",
       " 107688 │ 01 January 2016   2016  Protests    Peaceful protest\n",
       " 107689 │ 01 January 2016   2016  Battles     Armed clash\n",
       " 107690 │ 01 January 2016   2016  Protests    Peaceful protest                 ⋯\n",
       "\u001b[36m                                               6 columns and 107669 rows omitted\u001b[0m"
      ]
     },
     "execution_count": 2,
     "metadata": {},
     "output_type": "execute_result"
    }
   ],
   "source": [
    "dataset = CSV.read(\"../data/2016-2022.csv\", select = [:year,:event_date,:event_type, :sub_event_type, :interaction, :admin1, :location, :latitude, :longitude, :fatalities], DataFrame)"
   ]
  },
  {
   "cell_type": "code",
   "execution_count": 3,
   "id": "6b42c0c8-b028-40e9-b7e4-cfc30cae4b0e",
   "metadata": {},
   "outputs": [
    {
     "data": {
      "text/plain": [
       "timeseries_gen (generic function with 4 methods)"
      ]
     },
     "execution_count": 3,
     "metadata": {},
     "output_type": "execute_result"
    }
   ],
   "source": [
    "function timeseries_gen(df::DataFrame, region::String, years::Tuple{Int,Int}, event_type::String = \"any\", fill::Bool=true, log_scale::Bool=false)\n",
    "\tdata = select(df, [:year, :event_date, :admin1, :event_type])\n",
    "\tdata = subset(data, :year => y -> y .> years[1]-1 .&& y .< years[2]+1, :admin1 => a -> a .== region)\n",
    "\tif event_type != \"any\"\n",
    "\t\tdata = subset(data, :event_type => e -> e .== event_type)\n",
    "\tend\n",
    "\tdata[!, :time_stamp] = Date.(data.event_date, \"d U y\")\n",
    "\tcount = sort(countmap(data[!,:time_stamp]))\n",
    "\tt = Dates.value.([keys(count)...].-Date(years[1],1,1))\n",
    "\tn = [values(count)...]\n",
    "\tif fill\n",
    "\t\tl = Int(Dates.value(Date(years[2]+1,1,1)-Day(1)-Date(years[1],1,1)))\n",
    "\t\tfor i in 1:l\n",
    "\t\t\tif t[i] != i-1\n",
    "\t\t\t\tinsert!(t,i,i-1)\n",
    "\t\t\t\tinsert!(n,i,0)\n",
    "\t\t\tend\n",
    "\t\tend\n",
    "\tend\n",
    "\tif log_scale\n",
    "\t\tn = [val == 0 ? 0 : log(val) for val in n]\n",
    "\tend\n",
    "\tts    = DataFrame(t = t, n = n)\n",
    "end"
   ]
  },
  {
   "cell_type": "code",
   "execution_count": 4,
   "id": "542d2304-7f25-458c-882c-38f716763aa9",
   "metadata": {},
   "outputs": [
    {
     "data": {
      "text/html": [
       "<div class=\"data-frame\"><p>731 rows × 2 columns</p><table class=\"data-frame\"><thead><tr><th></th><th>t</th><th>n</th></tr><tr><th></th><th title=\"Int64\">Int64</th><th title=\"Real\">Real</th></tr></thead><tbody><tr><th>1</th><td>0</td><td>1.79176</td></tr><tr><th>2</th><td>1</td><td>1.94591</td></tr><tr><th>3</th><td>2</td><td>1.79176</td></tr><tr><th>4</th><td>3</td><td>1.94591</td></tr><tr><th>5</th><td>4</td><td>1.60944</td></tr><tr><th>6</th><td>5</td><td>1.60944</td></tr><tr><th>7</th><td>6</td><td>0.693147</td></tr><tr><th>8</th><td>7</td><td>1.79176</td></tr><tr><th>9</th><td>8</td><td>1.60944</td></tr><tr><th>10</th><td>9</td><td>1.94591</td></tr><tr><th>11</th><td>10</td><td>1.38629</td></tr><tr><th>12</th><td>11</td><td>1.09861</td></tr><tr><th>13</th><td>12</td><td>0.693147</td></tr><tr><th>14</th><td>13</td><td>0.0</td></tr><tr><th>15</th><td>14</td><td>0.0</td></tr><tr><th>16</th><td>15</td><td>0.0</td></tr><tr><th>17</th><td>16</td><td>0.693147</td></tr><tr><th>18</th><td>17</td><td>2.07944</td></tr><tr><th>19</th><td>18</td><td>1.60944</td></tr><tr><th>20</th><td>19</td><td>2.07944</td></tr><tr><th>21</th><td>20</td><td>1.79176</td></tr><tr><th>22</th><td>21</td><td>1.94591</td></tr><tr><th>23</th><td>22</td><td>1.09861</td></tr><tr><th>24</th><td>23</td><td>1.38629</td></tr><tr><th>25</th><td>24</td><td>2.07944</td></tr><tr><th>26</th><td>25</td><td>0.0</td></tr><tr><th>27</th><td>26</td><td>1.38629</td></tr><tr><th>28</th><td>27</td><td>0.693147</td></tr><tr><th>29</th><td>28</td><td>1.94591</td></tr><tr><th>30</th><td>29</td><td>0.693147</td></tr><tr><th>&vellip;</th><td>&vellip;</td><td>&vellip;</td></tr></tbody></table></div>"
      ],
      "text/latex": [
       "\\begin{tabular}{r|cc}\n",
       "\t& t & n\\\\\n",
       "\t\\hline\n",
       "\t& Int64 & Real\\\\\n",
       "\t\\hline\n",
       "\t1 & 0 & 1.79176 \\\\\n",
       "\t2 & 1 & 1.94591 \\\\\n",
       "\t3 & 2 & 1.79176 \\\\\n",
       "\t4 & 3 & 1.94591 \\\\\n",
       "\t5 & 4 & 1.60944 \\\\\n",
       "\t6 & 5 & 1.60944 \\\\\n",
       "\t7 & 6 & 0.693147 \\\\\n",
       "\t8 & 7 & 1.79176 \\\\\n",
       "\t9 & 8 & 1.60944 \\\\\n",
       "\t10 & 9 & 1.94591 \\\\\n",
       "\t11 & 10 & 1.38629 \\\\\n",
       "\t12 & 11 & 1.09861 \\\\\n",
       "\t13 & 12 & 0.693147 \\\\\n",
       "\t14 & 13 & 0.0 \\\\\n",
       "\t15 & 14 & 0.0 \\\\\n",
       "\t16 & 15 & 0.0 \\\\\n",
       "\t17 & 16 & 0.693147 \\\\\n",
       "\t18 & 17 & 2.07944 \\\\\n",
       "\t19 & 18 & 1.60944 \\\\\n",
       "\t20 & 19 & 2.07944 \\\\\n",
       "\t21 & 20 & 1.79176 \\\\\n",
       "\t22 & 21 & 1.94591 \\\\\n",
       "\t23 & 22 & 1.09861 \\\\\n",
       "\t24 & 23 & 1.38629 \\\\\n",
       "\t25 & 24 & 2.07944 \\\\\n",
       "\t26 & 25 & 0.0 \\\\\n",
       "\t27 & 26 & 1.38629 \\\\\n",
       "\t28 & 27 & 0.693147 \\\\\n",
       "\t29 & 28 & 1.94591 \\\\\n",
       "\t30 & 29 & 0.693147 \\\\\n",
       "\t$\\dots$ & $\\dots$ & $\\dots$ \\\\\n",
       "\\end{tabular}\n"
      ],
      "text/plain": [
       "\u001b[1m731×2 DataFrame\u001b[0m\n",
       "\u001b[1m Row \u001b[0m│\u001b[1m t     \u001b[0m\u001b[1m n        \u001b[0m\n",
       "\u001b[1m     \u001b[0m│\u001b[90m Int64 \u001b[0m\u001b[90m Real     \u001b[0m\n",
       "─────┼─────────────────\n",
       "   1 │     0  1.79176\n",
       "   2 │     1  1.94591\n",
       "   3 │     2  1.79176\n",
       "   4 │     3  1.94591\n",
       "   5 │     4  1.60944\n",
       "   6 │     5  1.60944\n",
       "   7 │     6  0.693147\n",
       "   8 │     7  1.79176\n",
       "   9 │     8  1.60944\n",
       "  10 │     9  1.94591\n",
       "  11 │    10  1.38629\n",
       "  ⋮  │   ⋮       ⋮\n",
       " 722 │   721  1.94591\n",
       " 723 │   722  1.09861\n",
       " 724 │   723  1.09861\n",
       " 725 │   724  1.09861\n",
       " 726 │   725  1.38629\n",
       " 727 │   726  1.60944\n",
       " 728 │   727  1.09861\n",
       " 729 │   728  2.07944\n",
       " 730 │   729  1.38629\n",
       " 731 │   730  0.693147\n",
       "\u001b[36m       710 rows omitted\u001b[0m"
      ]
     },
     "execution_count": 4,
     "metadata": {},
     "output_type": "execute_result"
    }
   ],
   "source": [
    "ts = timeseries_gen(dataset, \"Punjab\", (2016,2017), \"Protests\", true, true)"
   ]
  },
  {
   "cell_type": "code",
   "execution_count": null,
   "id": "43add9c9-992b-4e36-a1c0-a3851ebb71cb",
   "metadata": {},
   "outputs": [
    {
     "data": {
      "application/vnd.plotly.v1+json": {
       "config": {
        "editable": false,
        "responsive": true,
        "scrollZoom": true,
        "showLink": false,
        "staticPlot": false
       },
       "data": [
        {
         "mode": "lines",
         "type": "scatter",
         "x": [
          0,
          1,
          2,
          3,
          4,
          5,
          6,
          7,
          8,
          9,
          10,
          11,
          12,
          13,
          14,
          15,
          16,
          17,
          18,
          19,
          20,
          21,
          22,
          23,
          24,
          25,
          26,
          27,
          28,
          29,
          30,
          31,
          32,
          33,
          34,
          35,
          36,
          37,
          38,
          39,
          40,
          41,
          42,
          43,
          44,
          45,
          46,
          47,
          48,
          49,
          50,
          51,
          52,
          53,
          54,
          55,
          56,
          57,
          58,
          59,
          60,
          61,
          62,
          63,
          64,
          65,
          66,
          67,
          68,
          69,
          70,
          71,
          72,
          73,
          74,
          75,
          76,
          77,
          78,
          79,
          80,
          81,
          82,
          83,
          84,
          85,
          86,
          87,
          88,
          89,
          90,
          91,
          92,
          93,
          94,
          95,
          96,
          97,
          98,
          99,
          100,
          101,
          102,
          103,
          104,
          105,
          106,
          107,
          108,
          109,
          110,
          111,
          112,
          113,
          114,
          115,
          116,
          117,
          118,
          119,
          120,
          121,
          122,
          123,
          124,
          125,
          126,
          127,
          128,
          129,
          130,
          131,
          132,
          133,
          134,
          135,
          136,
          137,
          138,
          139,
          140,
          141,
          142,
          143,
          144,
          145,
          146,
          147,
          148,
          149,
          150,
          151,
          152,
          153,
          154,
          155,
          156,
          157,
          158,
          159,
          160,
          161,
          162,
          163,
          164,
          165,
          166,
          167,
          168,
          169,
          170,
          171,
          172,
          173,
          174,
          175,
          176,
          177,
          178,
          179,
          180,
          181,
          182,
          183,
          184,
          185,
          186,
          187,
          188,
          189,
          190,
          191,
          192,
          193,
          194,
          195,
          196,
          197,
          198,
          199,
          200,
          201,
          202,
          203,
          204,
          205,
          206,
          207,
          208,
          209,
          210,
          211,
          212,
          213,
          214,
          215,
          216,
          217,
          218,
          219,
          220,
          221,
          222,
          223,
          224,
          225,
          226,
          227,
          228,
          229,
          230,
          231,
          232,
          233,
          234,
          235,
          236,
          237,
          238,
          239,
          240,
          241,
          242,
          243,
          244,
          245,
          246,
          247,
          248,
          249,
          250,
          251,
          252,
          253,
          254,
          255,
          256,
          257,
          258,
          259,
          260,
          261,
          262,
          263,
          264,
          265,
          266,
          267,
          268,
          269,
          270,
          271,
          272,
          273,
          274,
          275,
          276,
          277,
          278,
          279,
          280,
          281,
          282,
          283,
          284,
          285,
          286,
          287,
          288,
          289,
          290,
          291,
          292,
          293,
          294,
          295,
          296,
          297,
          298,
          299,
          300,
          301,
          302,
          303,
          304,
          305,
          306,
          307,
          308,
          309,
          310,
          311,
          312,
          313,
          314,
          315,
          316,
          317,
          318,
          319,
          320,
          321,
          322,
          323,
          324,
          325,
          326,
          327,
          328,
          329,
          330,
          331,
          332,
          333,
          334,
          335,
          336,
          337,
          338,
          339,
          340,
          341,
          342,
          343,
          344,
          345,
          346,
          347,
          348,
          349,
          350,
          351,
          352,
          353,
          354,
          355,
          356,
          357,
          358,
          359,
          360,
          361,
          362,
          363,
          364,
          365,
          366,
          367,
          368,
          369,
          370,
          371,
          372,
          373,
          374,
          375,
          376,
          377,
          378,
          379,
          380,
          381,
          382,
          383,
          384,
          385,
          386,
          387,
          388,
          389,
          390,
          391,
          392,
          393,
          394,
          395,
          396,
          397,
          398,
          399,
          400,
          401,
          402,
          403,
          404,
          405,
          406,
          407,
          408,
          409,
          410,
          411,
          412,
          413,
          414,
          415,
          416,
          417,
          418,
          419,
          420,
          421,
          422,
          423,
          424,
          425,
          426,
          427,
          428,
          429,
          430,
          431,
          432,
          433,
          434,
          435,
          436,
          437,
          438,
          439,
          440,
          441,
          442,
          443,
          444,
          445,
          446,
          447,
          448,
          449,
          450,
          451,
          452,
          453,
          454,
          455,
          456,
          457,
          458,
          459,
          460,
          461,
          462,
          463,
          464,
          465,
          466,
          467,
          468,
          469,
          470,
          471,
          472,
          473,
          474,
          475,
          476,
          477,
          478,
          479,
          480,
          481,
          482,
          483,
          484,
          485,
          486,
          487,
          488,
          489,
          490,
          491,
          492,
          493,
          494,
          495,
          496,
          497,
          498,
          499,
          500,
          501,
          502,
          503,
          504,
          505,
          506,
          507,
          508,
          509,
          510,
          511,
          512,
          513,
          514,
          515,
          516,
          517,
          518,
          519,
          520,
          521,
          522,
          523,
          524,
          525,
          526,
          527,
          528,
          529,
          530,
          531,
          532,
          533,
          534,
          535,
          536,
          537,
          538,
          539,
          540,
          541,
          542,
          543,
          544,
          545,
          546,
          547,
          548,
          549,
          550,
          551,
          552,
          553,
          554,
          555,
          556,
          557,
          558,
          559,
          560,
          561,
          562,
          563,
          564,
          565,
          566,
          567,
          568,
          569,
          570,
          571,
          572,
          573,
          574,
          575,
          576,
          577,
          578,
          579,
          580,
          581,
          582,
          583,
          584,
          585,
          586,
          587,
          588,
          589,
          590,
          591,
          592,
          593,
          594,
          595,
          596,
          597,
          598,
          599,
          600,
          601,
          602,
          603,
          604,
          605,
          606,
          607,
          608,
          609,
          610,
          611,
          612,
          613,
          614,
          615,
          616,
          617,
          618,
          619,
          620,
          621,
          622,
          623,
          624,
          625,
          626,
          627,
          628,
          629,
          630,
          631,
          632,
          633,
          634,
          635,
          636,
          637,
          638,
          639,
          640,
          641,
          642,
          643,
          644,
          645,
          646,
          647,
          648,
          649,
          650,
          651,
          652,
          653,
          654,
          655,
          656,
          657,
          658,
          659,
          660,
          661,
          662,
          663,
          664,
          665,
          666,
          667,
          668,
          669,
          670,
          671,
          672,
          673,
          674,
          675,
          676,
          677,
          678,
          679,
          680,
          681,
          682,
          683,
          684,
          685,
          686,
          687,
          688,
          689,
          690,
          691,
          692,
          693,
          694,
          695,
          696,
          697,
          698,
          699,
          700,
          701,
          702,
          703,
          704,
          705,
          706,
          707,
          708,
          709,
          710,
          711,
          712,
          713,
          714,
          715,
          716,
          717,
          718,
          719,
          720,
          721,
          722,
          723,
          724,
          725,
          726,
          727,
          728,
          729,
          730
         ],
         "y": [
          1.791759469228055,
          1.9459101490553132,
          1.791759469228055,
          1.9459101490553132,
          1.6094379124341003,
          1.6094379124341003,
          0.6931471805599453,
          1.791759469228055,
          1.6094379124341003,
          1.9459101490553132,
          1.3862943611198906,
          1.0986122886681098,
          0.6931471805599453,
          0,
          0,
          0,
          0.6931471805599453,
          2.0794415416798357,
          1.6094379124341003,
          2.0794415416798357,
          1.791759469228055,
          1.9459101490553132,
          1.0986122886681098,
          1.3862943611198906,
          2.0794415416798357,
          0,
          1.3862943611198906,
          0.6931471805599453,
          1.9459101490553132,
          0.6931471805599453,
          1.791759469228055,
          1.9459101490553132,
          2.0794415416798357,
          1.6094379124341003,
          1.3862943611198906,
          1.3862943611198906,
          0,
          0,
          1.6094379124341003,
          1.0986122886681098,
          2.0794415416798357,
          2.3978952727983707,
          1.791759469228055,
          0,
          1.9459101490553132,
          2.0794415416798357,
          2.1972245773362196,
          0.6931471805599453,
          2.1972245773362196,
          2.0794415416798357,
          1.0986122886681098,
          0.6931471805599453,
          1.791759469228055,
          0.6931471805599453,
          1.3862943611198906,
          1.9459101490553132,
          1.3862943611198906,
          0,
          1.0986122886681098,
          0,
          0.6931471805599453,
          0,
          1.0986122886681098,
          1.3862943611198906,
          1.0986122886681098,
          1.0986122886681098,
          0.6931471805599453,
          1.6094379124341003,
          0.6931471805599453,
          1.791759469228055,
          2.4849066497880004,
          0,
          0.6931471805599453,
          1.6094379124341003,
          0,
          2.1972245773362196,
          0.6931471805599453,
          1.791759469228055,
          0,
          1.0986122886681098,
          1.0986122886681098,
          0.6931471805599453,
          0,
          0,
          1.9459101490553132,
          2.3978952727983707,
          0.6931471805599453,
          1.3862943611198906,
          2.0794415416798357,
          0,
          1.791759469228055,
          1.0986122886681098,
          0.6931471805599453,
          1.791759469228055,
          1.9459101490553132,
          1.0986122886681098,
          1.6094379124341003,
          1.791759469228055,
          0.6931471805599453,
          1.3862943611198906,
          1.6094379124341003,
          2.302585092994046,
          1.0986122886681098,
          0.6931471805599453,
          0,
          0.6931471805599453,
          1.0986122886681098,
          0,
          1.0986122886681098,
          0,
          0.6931471805599453,
          0.6931471805599453,
          2.1972245773362196,
          2.0794415416798357,
          1.6094379124341003,
          1.791759469228055,
          1.791759469228055,
          1.9459101490553132,
          1.791759469228055,
          1.791759469228055,
          0.6931471805599453,
          1.3862943611198906,
          1.3862943611198906,
          2.3978952727983707,
          1.0986122886681098,
          1.791759469228055,
          1.6094379124341003,
          1.3862943611198906,
          1.3862943611198906,
          2.8903717578961645,
          1.6094379124341003,
          1.9459101490553132,
          1.6094379124341003,
          1.0986122886681098,
          1.3862943611198906,
          1.6094379124341003,
          2.3978952727983707,
          2.4849066497880004,
          1.9459101490553132,
          1.3862943611198906,
          0.6931471805599453,
          0,
          1.6094379124341003,
          0.6931471805599453,
          2.5649493574615367,
          2.9444389791664403,
          1.6094379124341003,
          1.9459101490553132,
          0,
          1.0986122886681098,
          2.1972245773362196,
          2.0794415416798357,
          1.9459101490553132,
          1.791759469228055,
          1.3862943611198906,
          1.3862943611198906,
          1.0986122886681098,
          1.791759469228055,
          2.5649493574615367,
          1.791759469228055,
          2.6390573296152584,
          2.0794415416798357,
          2.0794415416798357,
          2.302585092994046,
          2.3978952727983707,
          2.1972245773362196,
          1.0986122886681098,
          2.5649493574615367,
          2.0794415416798357,
          1.9459101490553132,
          1.3862943611198906,
          1.9459101490553132,
          2.0794415416798357,
          2.0794415416798357,
          1.791759469228055,
          1.9459101490553132,
          2.0794415416798357,
          1.6094379124341003,
          2.3978952727983707,
          2.0794415416798357,
          2.0794415416798357,
          0,
          1.6094379124341003,
          0,
          0.6931471805599453,
          0.6931471805599453,
          1.3862943611198906,
          1.3862943611198906,
          0,
          2.1972245773362196,
          1.3862943611198906,
          0,
          2.302585092994046,
          1.9459101490553132,
          0.6931471805599453,
          1.6094379124341003,
          0.6931471805599453,
          0,
          0.6931471805599453,
          0.6931471805599453,
          0,
          0.6931471805599453,
          1.0986122886681098,
          1.791759469228055,
          1.791759469228055,
          1.9459101490553132,
          1.3862943611198906,
          3.258096538021482,
          0,
          1.3862943611198906,
          1.6094379124341003,
          0,
          0,
          1.3862943611198906,
          1.0986122886681098,
          0,
          0.6931471805599453,
          1.6094379124341003,
          1.0986122886681098,
          0.6931471805599453,
          0.6931471805599453,
          1.6094379124341003,
          1.0986122886681098,
          2.302585092994046,
          0,
          0,
          0.6931471805599453,
          0,
          0,
          0.6931471805599453,
          1.0986122886681098,
          1.0986122886681098,
          1.0986122886681098,
          1.6094379124341003,
          2.0794415416798357,
          2.302585092994046,
          1.9459101490553132,
          0,
          1.791759469228055,
          1.791759469228055,
          1.6094379124341003,
          1.791759469228055,
          1.6094379124341003,
          1.0986122886681098,
          1.0986122886681098,
          1.9459101490553132,
          1.0986122886681098,
          1.9459101490553132,
          2.3978952727983707,
          2.70805020110221,
          2.6390573296152584,
          2.1972245773362196,
          1.791759469228055,
          2.1972245773362196,
          2.0794415416798357,
          2.302585092994046,
          2.5649493574615367,
          2.3978952727983707,
          1.791759469228055,
          1.3862943611198906,
          1.3862943611198906,
          1.3862943611198906,
          2.3978952727983707,
          2.1972245773362196,
          2.0794415416798357,
          1.6094379124341003,
          1.791759469228055,
          1.9459101490553132,
          1.9459101490553132,
          2.302585092994046,
          1.9459101490553132,
          1.9459101490553132,
          1.3862943611198906,
          1.3862943611198906,
          1.3862943611198906,
          1.6094379124341003,
          1.791759469228055,
          2.0794415416798357,
          3.1780538303479458,
          1.3862943611198906,
          1.3862943611198906,
          2.0794415416798357,
          1.0986122886681098,
          1.791759469228055,
          2.1972245773362196,
          1.0986122886681098,
          2.0794415416798357,
          0,
          0,
          0.6931471805599453,
          2.3978952727983707,
          2.0794415416798357,
          1.791759469228055,
          1.3862943611198906,
          1.3862943611198906,
          0,
          1.791759469228055,
          1.6094379124341003,
          2.5649493574615367,
          1.3862943611198906,
          1.791759469228055,
          0,
          0,
          0,
          0,
          1.791759469228055,
          1.0986122886681098,
          2.1972245773362196,
          2.0794415416798357,
          1.3862943611198906,
          1.6094379124341003,
          3.4657359027997265,
          1.3862943611198906,
          1.791759469228055,
          1.791759469228055,
          2.0794415416798357,
          2.6390573296152584,
          1.9459101490553132,
          1.6094379124341003,
          1.9459101490553132,
          1.9459101490553132,
          0.6931471805599453,
          2.0794415416798357,
          1.6094379124341003,
          1.6094379124341003,
          1.0986122886681098,
          2.0794415416798357,
          1.0986122886681098,
          2.3978952727983707,
          1.791759469228055,
          1.3862943611198906,
          1.6094379124341003,
          3.258096538021482,
          1.6094379124341003,
          1.6094379124341003,
          2.0794415416798357,
          0.6931471805599453,
          1.791759469228055,
          1.3862943611198906,
          1.9459101490553132,
          1.9459101490553132,
          1.791759469228055,
          2.0794415416798357,
          0,
          1.791759469228055,
          2.0794415416798357,
          2.1972245773362196,
          1.3862943611198906,
          1.9459101490553132,
          1.9459101490553132,
          1.791759469228055,
          1.3862943611198906,
          1.9459101490553132,
          2.4849066497880004,
          1.3862943611198906,
          1.791759469228055,
          1.791759469228055,
          1.9459101490553132,
          0.6931471805599453,
          2.0794415416798357,
          2.1972245773362196,
          1.0986122886681098,
          2.0794415416798357,
          1.791759469228055,
          0.6931471805599453,
          0,
          0,
          1.6094379124341003,
          2.0794415416798357,
          1.791759469228055,
          1.0986122886681098,
          1.791759469228055,
          1.3862943611198906,
          0.6931471805599453,
          1.0986122886681098,
          1.3862943611198906,
          0,
          1.6094379124341003,
          0.6931471805599453,
          0.6931471805599453,
          1.3862943611198906,
          0,
          1.0986122886681098,
          0.6931471805599453,
          0.6931471805599453,
          1.3862943611198906,
          0,
          1.791759469228055,
          1.791759469228055,
          1.0986122886681098,
          0,
          0,
          1.0986122886681098,
          1.0986122886681098,
          1.0986122886681098,
          1.6094379124341003,
          0,
          1.6094379124341003,
          1.0986122886681098,
          1.0986122886681098,
          1.0986122886681098,
          0.6931471805599453,
          0,
          0,
          1.0986122886681098,
          1.3862943611198906,
          1.3862943611198906,
          1.0986122886681098,
          0.6931471805599453,
          1.3862943611198906,
          1.6094379124341003,
          1.0986122886681098,
          1.6094379124341003,
          1.0986122886681098,
          2.0794415416798357,
          1.6094379124341003,
          1.791759469228055,
          2.1972245773362196,
          1.9459101490553132,
          2.0794415416798357,
          0,
          0.6931471805599453,
          1.3862943611198906,
          1.791759469228055,
          2.8903717578961645,
          2.302585092994046,
          2.4849066497880004,
          2.1972245773362196,
          1.0986122886681098,
          1.3862943611198906,
          0.6931471805599453,
          1.3862943611198906,
          0.6931471805599453,
          1.9459101490553132,
          0,
          0,
          0,
          0,
          1.0986122886681098,
          1.0986122886681098,
          2.1972245773362196,
          1.6094379124341003,
          0.6931471805599453,
          0.6931471805599453,
          1.6094379124341003,
          1.3862943611198906,
          0.6931471805599453,
          0.6931471805599453,
          1.0986122886681098,
          1.791759469228055,
          0,
          1.3862943611198906,
          1.9459101490553132,
          1.0986122886681098,
          0,
          1.9459101490553132,
          0.6931471805599453,
          0,
          1.0986122886681098,
          1.791759469228055,
          0,
          0,
          0.6931471805599453,
          1.3862943611198906,
          0.6931471805599453,
          1.0986122886681098,
          1.0986122886681098,
          1.9459101490553132,
          1.3862943611198906,
          1.3862943611198906,
          0.6931471805599453,
          1.0986122886681098,
          2.302585092994046,
          0,
          1.791759469228055,
          1.3862943611198906,
          2.0794415416798357,
          1.6094379124341003,
          1.3862943611198906,
          1.3862943611198906,
          2.0794415416798357,
          2.5649493574615367,
          1.6094379124341003,
          1.3862943611198906,
          1.0986122886681098,
          0,
          0.6931471805599453,
          1.3862943611198906,
          2.5649493574615367,
          1.9459101490553132,
          1.0986122886681098,
          1.3862943611198906,
          0.6931471805599453,
          1.791759469228055,
          1.0986122886681098,
          0.6931471805599453,
          0.6931471805599453,
          1.3862943611198906,
          0.6931471805599453,
          0,
          0,
          1.6094379124341003,
          1.0986122886681098,
          0.6931471805599453,
          0.6931471805599453,
          0.6931471805599453,
          0,
          1.0986122886681098,
          1.6094379124341003,
          1.0986122886681098,
          1.791759469228055,
          1.791759469228055,
          0,
          0,
          0,
          2.0794415416798357,
          0.6931471805599453,
          1.9459101490553132,
          1.0986122886681098,
          1.0986122886681098,
          1.6094379124341003,
          1.3862943611198906,
          1.3862943611198906,
          1.3862943611198906,
          1.9459101490553132,
          1.9459101490553132,
          1.0986122886681098,
          1.0986122886681098,
          2.6390573296152584,
          1.6094379124341003,
          1.3862943611198906,
          0.6931471805599453,
          2.4849066497880004,
          0,
          0.6931471805599453,
          0.6931471805599453,
          0,
          0.6931471805599453,
          2.6390573296152584,
          2.3978952727983707,
          0,
          0.6931471805599453,
          1.0986122886681098,
          1.0986122886681098,
          2.5649493574615367,
          1.3862943611198906,
          0,
          0.6931471805599453,
          1.3862943611198906,
          1.791759469228055,
          1.0986122886681098,
          1.6094379124341003,
          1.6094379124341003,
          1.791759469228055,
          0,
          0,
          1.9459101490553132,
          1.791759469228055,
          2.1972245773362196,
          0.6931471805599453,
          1.6094379124341003,
          1.3862943611198906,
          1.3862943611198906,
          1.3862943611198906,
          0,
          1.791759469228055,
          1.0986122886681098,
          0,
          0.6931471805599453,
          2.0794415416798357,
          2.1972245773362196,
          1.791759469228055,
          1.6094379124341003,
          0,
          1.3862943611198906,
          0,
          0,
          0,
          1.791759469228055,
          0,
          1.791759469228055,
          1.0986122886681098,
          1.0986122886681098,
          1.0986122886681098,
          1.0986122886681098,
          2.1972245773362196,
          2.302585092994046,
          2.1972245773362196,
          1.3862943611198906,
          1.0986122886681098,
          0,
          1.3862943611198906,
          0.6931471805599453,
          1.3862943611198906,
          1.6094379124341003,
          1.0986122886681098,
          1.0986122886681098,
          1.0986122886681098,
          1.9459101490553132,
          1.791759469228055,
          0,
          0,
          0,
          0,
          0,
          0,
          0,
          0,
          0,
          1.0986122886681098,
          0,
          1.0986122886681098,
          1.6094379124341003,
          0.6931471805599453,
          1.791759469228055,
          0.6931471805599453,
          1.0986122886681098,
          0,
          0.6931471805599453,
          0.6931471805599453,
          0.6931471805599453,
          0.6931471805599453,
          1.3862943611198906,
          1.3862943611198906,
          1.3862943611198906,
          0,
          1.3862943611198906,
          1.3862943611198906,
          1.0986122886681098,
          1.9459101490553132,
          1.0986122886681098,
          1.3862943611198906,
          1.3862943611198906,
          1.9459101490553132,
          0,
          0.6931471805599453,
          0.6931471805599453,
          1.0986122886681098,
          1.0986122886681098,
          0,
          1.0986122886681098,
          2.0794415416798357,
          1.3862943611198906,
          1.0986122886681098,
          1.0986122886681098,
          0.6931471805599453,
          1.3862943611198906,
          0,
          0,
          0.6931471805599453,
          1.791759469228055,
          1.3862943611198906,
          0,
          0.6931471805599453,
          1.0986122886681098,
          1.791759469228055,
          1.0986122886681098,
          0,
          0,
          1.0986122886681098,
          0,
          2.1972245773362196,
          2.1972245773362196,
          0.6931471805599453,
          0.6931471805599453,
          1.6094379124341003,
          0.6931471805599453,
          0.6931471805599453,
          2.1972245773362196,
          1.3862943611198906,
          1.0986122886681098,
          2.0794415416798357,
          0.6931471805599453,
          1.3862943611198906,
          1.0986122886681098,
          0.6931471805599453,
          0,
          2.772588722239781,
          1.0986122886681098,
          1.3862943611198906,
          1.0986122886681098,
          0,
          1.3862943611198906,
          0.6931471805599453,
          2.1972245773362196,
          0.6931471805599453,
          0,
          1.0986122886681098,
          0,
          0,
          1.0986122886681098,
          2.3978952727983707,
          1.3862943611198906,
          1.6094379124341003,
          0.6931471805599453,
          1.0986122886681098,
          2.0794415416798357,
          1.0986122886681098,
          1.3862943611198906,
          1.3862943611198906,
          0,
          1.0986122886681098,
          0,
          1.0986122886681098,
          1.791759469228055,
          0.6931471805599453,
          0.6931471805599453,
          3.258096538021482,
          0.6931471805599453,
          1.0986122886681098,
          0,
          1.6094379124341003,
          1.9459101490553132,
          0.6931471805599453,
          1.9459101490553132,
          0.6931471805599453,
          1.791759469228055,
          0,
          1.3862943611198906,
          2.1972245773362196,
          1.791759469228055,
          1.9459101490553132,
          1.0986122886681098,
          1.0986122886681098,
          1.0986122886681098,
          1.3862943611198906,
          1.6094379124341003,
          1.0986122886681098,
          2.0794415416798357,
          1.3862943611198906,
          0.6931471805599453
         ]
        }
       ],
       "frames": [],
       "layout": {
        "margin": {
         "b": 50,
         "l": 50,
         "r": 50,
         "t": 60
        },
        "template": {
         "data": {
          "bar": [
           {
            "error_x": {
             "color": "#2a3f5f"
            },
            "error_y": {
             "color": "#2a3f5f"
            },
            "marker": {
             "line": {
              "color": "#E5ECF6",
              "width": 0.5
             }
            },
            "type": "bar"
           }
          ],
          "barpolar": [
           {
            "marker": {
             "line": {
              "color": "#E5ECF6",
              "width": 0.5
             }
            },
            "type": "barpolar"
           }
          ],
          "carpet": [
           {
            "aaxis": {
             "endlinecolor": "#2a3f5f",
             "gridcolor": "white",
             "linecolor": "white",
             "minorgridcolor": "white",
             "startlinecolor": "#2a3f5f"
            },
            "baxis": {
             "endlinecolor": "#2a3f5f",
             "gridcolor": "white",
             "linecolor": "white",
             "minorgridcolor": "white",
             "startlinecolor": "#2a3f5f"
            },
            "type": "carpet"
           }
          ],
          "choropleth": [
           {
            "colorbar": {
             "outlinewidth": 0,
             "ticks": ""
            },
            "type": "choropleth"
           }
          ],
          "contour": [
           {
            "colorbar": {
             "outlinewidth": 0,
             "ticks": ""
            },
            "colorscale": [
             [
              0,
              "#0d0887"
             ],
             [
              0.1111111111111111,
              "#46039f"
             ],
             [
              0.2222222222222222,
              "#7201a8"
             ],
             [
              0.3333333333333333,
              "#9c179e"
             ],
             [
              0.4444444444444444,
              "#bd3786"
             ],
             [
              0.5555555555555556,
              "#d8576b"
             ],
             [
              0.6666666666666666,
              "#ed7953"
             ],
             [
              0.7777777777777778,
              "#fb9f3a"
             ],
             [
              0.8888888888888888,
              "#fdca26"
             ],
             [
              1,
              "#f0f921"
             ]
            ],
            "type": "contour"
           }
          ],
          "contourcarpet": [
           {
            "colorbar": {
             "outlinewidth": 0,
             "ticks": ""
            },
            "type": "contourcarpet"
           }
          ],
          "heatmap": [
           {
            "colorbar": {
             "outlinewidth": 0,
             "ticks": ""
            },
            "colorscale": [
             [
              0,
              "#0d0887"
             ],
             [
              0.1111111111111111,
              "#46039f"
             ],
             [
              0.2222222222222222,
              "#7201a8"
             ],
             [
              0.3333333333333333,
              "#9c179e"
             ],
             [
              0.4444444444444444,
              "#bd3786"
             ],
             [
              0.5555555555555556,
              "#d8576b"
             ],
             [
              0.6666666666666666,
              "#ed7953"
             ],
             [
              0.7777777777777778,
              "#fb9f3a"
             ],
             [
              0.8888888888888888,
              "#fdca26"
             ],
             [
              1,
              "#f0f921"
             ]
            ],
            "type": "heatmap"
           }
          ],
          "heatmapgl": [
           {
            "colorbar": {
             "outlinewidth": 0,
             "ticks": ""
            },
            "colorscale": [
             [
              0,
              "#0d0887"
             ],
             [
              0.1111111111111111,
              "#46039f"
             ],
             [
              0.2222222222222222,
              "#7201a8"
             ],
             [
              0.3333333333333333,
              "#9c179e"
             ],
             [
              0.4444444444444444,
              "#bd3786"
             ],
             [
              0.5555555555555556,
              "#d8576b"
             ],
             [
              0.6666666666666666,
              "#ed7953"
             ],
             [
              0.7777777777777778,
              "#fb9f3a"
             ],
             [
              0.8888888888888888,
              "#fdca26"
             ],
             [
              1,
              "#f0f921"
             ]
            ],
            "type": "heatmapgl"
           }
          ],
          "histogram": [
           {
            "marker": {
             "colorbar": {
              "outlinewidth": 0,
              "ticks": ""
             }
            },
            "type": "histogram"
           }
          ],
          "histogram2d": [
           {
            "colorbar": {
             "outlinewidth": 0,
             "ticks": ""
            },
            "colorscale": [
             [
              0,
              "#0d0887"
             ],
             [
              0.1111111111111111,
              "#46039f"
             ],
             [
              0.2222222222222222,
              "#7201a8"
             ],
             [
              0.3333333333333333,
              "#9c179e"
             ],
             [
              0.4444444444444444,
              "#bd3786"
             ],
             [
              0.5555555555555556,
              "#d8576b"
             ],
             [
              0.6666666666666666,
              "#ed7953"
             ],
             [
              0.7777777777777778,
              "#fb9f3a"
             ],
             [
              0.8888888888888888,
              "#fdca26"
             ],
             [
              1,
              "#f0f921"
             ]
            ],
            "type": "histogram2d"
           }
          ],
          "histogram2dcontour": [
           {
            "colorbar": {
             "outlinewidth": 0,
             "ticks": ""
            },
            "colorscale": [
             [
              0,
              "#0d0887"
             ],
             [
              0.1111111111111111,
              "#46039f"
             ],
             [
              0.2222222222222222,
              "#7201a8"
             ],
             [
              0.3333333333333333,
              "#9c179e"
             ],
             [
              0.4444444444444444,
              "#bd3786"
             ],
             [
              0.5555555555555556,
              "#d8576b"
             ],
             [
              0.6666666666666666,
              "#ed7953"
             ],
             [
              0.7777777777777778,
              "#fb9f3a"
             ],
             [
              0.8888888888888888,
              "#fdca26"
             ],
             [
              1,
              "#f0f921"
             ]
            ],
            "type": "histogram2dcontour"
           }
          ],
          "mesh3d": [
           {
            "colorbar": {
             "outlinewidth": 0,
             "ticks": ""
            },
            "type": "mesh3d"
           }
          ],
          "parcoords": [
           {
            "line": {
             "colorbar": {
              "outlinewidth": 0,
              "ticks": ""
             }
            },
            "type": "parcoords"
           }
          ],
          "pie": [
           {
            "automargin": true,
            "type": "pie"
           }
          ],
          "scatter": [
           {
            "marker": {
             "colorbar": {
              "outlinewidth": 0,
              "ticks": ""
             }
            },
            "type": "scatter"
           }
          ],
          "scatter3d": [
           {
            "line": {
             "colorbar": {
              "outlinewidth": 0,
              "ticks": ""
             }
            },
            "marker": {
             "colorbar": {
              "outlinewidth": 0,
              "ticks": ""
             }
            },
            "type": "scatter3d"
           }
          ],
          "scattercarpet": [
           {
            "marker": {
             "colorbar": {
              "outlinewidth": 0,
              "ticks": ""
             }
            },
            "type": "scattercarpet"
           }
          ],
          "scattergeo": [
           {
            "marker": {
             "colorbar": {
              "outlinewidth": 0,
              "ticks": ""
             }
            },
            "type": "scattergeo"
           }
          ],
          "scattergl": [
           {
            "marker": {
             "colorbar": {
              "outlinewidth": 0,
              "ticks": ""
             }
            },
            "type": "scattergl"
           }
          ],
          "scattermapbox": [
           {
            "marker": {
             "colorbar": {
              "outlinewidth": 0,
              "ticks": ""
             }
            },
            "type": "scattermapbox"
           }
          ],
          "scatterpolar": [
           {
            "marker": {
             "colorbar": {
              "outlinewidth": 0,
              "ticks": ""
             }
            },
            "type": "scatterpolar"
           }
          ],
          "scatterpolargl": [
           {
            "marker": {
             "colorbar": {
              "outlinewidth": 0,
              "ticks": ""
             }
            },
            "type": "scatterpolargl"
           }
          ],
          "scatterternary": [
           {
            "marker": {
             "colorbar": {
              "outlinewidth": 0,
              "ticks": ""
             }
            },
            "type": "scatterternary"
           }
          ],
          "surface": [
           {
            "colorbar": {
             "outlinewidth": 0,
             "ticks": ""
            },
            "colorscale": [
             [
              0,
              "#0d0887"
             ],
             [
              0.1111111111111111,
              "#46039f"
             ],
             [
              0.2222222222222222,
              "#7201a8"
             ],
             [
              0.3333333333333333,
              "#9c179e"
             ],
             [
              0.4444444444444444,
              "#bd3786"
             ],
             [
              0.5555555555555556,
              "#d8576b"
             ],
             [
              0.6666666666666666,
              "#ed7953"
             ],
             [
              0.7777777777777778,
              "#fb9f3a"
             ],
             [
              0.8888888888888888,
              "#fdca26"
             ],
             [
              1,
              "#f0f921"
             ]
            ],
            "type": "surface"
           }
          ],
          "table": [
           {
            "cells": {
             "fill": {
              "color": "#EBF0F8"
             },
             "line": {
              "color": "white"
             }
            },
            "header": {
             "fill": {
              "color": "#C8D4E3"
             },
             "line": {
              "color": "white"
             }
            },
            "type": "table"
           }
          ]
         },
         "layout": {
          "annotationdefaults": {
           "arrowcolor": "#2a3f5f",
           "arrowhead": 0,
           "arrowwidth": 1
          },
          "autotypenumbers": "strict",
          "coloraxis": {
           "colorbar": {
            "outlinewidth": 0,
            "ticks": ""
           }
          },
          "colorscale": {
           "diverging": [
            [
             0,
             "#8e0152"
            ],
            [
             0.1,
             "#c51b7d"
            ],
            [
             0.2,
             "#de77ae"
            ],
            [
             0.3,
             "#f1b6da"
            ],
            [
             0.4,
             "#fde0ef"
            ],
            [
             0.5,
             "#f7f7f7"
            ],
            [
             0.6,
             "#e6f5d0"
            ],
            [
             0.7,
             "#b8e186"
            ],
            [
             0.8,
             "#7fbc41"
            ],
            [
             0.9,
             "#4d9221"
            ],
            [
             1,
             "#276419"
            ]
           ],
           "sequential": [
            [
             0,
             "#0d0887"
            ],
            [
             0.1111111111111111,
             "#46039f"
            ],
            [
             0.2222222222222222,
             "#7201a8"
            ],
            [
             0.3333333333333333,
             "#9c179e"
            ],
            [
             0.4444444444444444,
             "#bd3786"
            ],
            [
             0.5555555555555556,
             "#d8576b"
            ],
            [
             0.6666666666666666,
             "#ed7953"
            ],
            [
             0.7777777777777778,
             "#fb9f3a"
            ],
            [
             0.8888888888888888,
             "#fdca26"
            ],
            [
             1,
             "#f0f921"
            ]
           ],
           "sequentialminus": [
            [
             0,
             "#0d0887"
            ],
            [
             0.1111111111111111,
             "#46039f"
            ],
            [
             0.2222222222222222,
             "#7201a8"
            ],
            [
             0.3333333333333333,
             "#9c179e"
            ],
            [
             0.4444444444444444,
             "#bd3786"
            ],
            [
             0.5555555555555556,
             "#d8576b"
            ],
            [
             0.6666666666666666,
             "#ed7953"
            ],
            [
             0.7777777777777778,
             "#fb9f3a"
            ],
            [
             0.8888888888888888,
             "#fdca26"
            ],
            [
             1,
             "#f0f921"
            ]
           ]
          },
          "colorway": [
           "#636efa",
           "#EF553B",
           "#00cc96",
           "#ab63fa",
           "#FFA15A",
           "#19d3f3",
           "#FF6692",
           "#B6E880",
           "#FF97FF",
           "#FECB52"
          ],
          "font": {
           "color": "#2a3f5f"
          },
          "geo": {
           "bgcolor": "white",
           "lakecolor": "white",
           "landcolor": "#E5ECF6",
           "showlakes": true,
           "showland": true,
           "subunitcolor": "white"
          },
          "hoverlabel": {
           "align": "left"
          },
          "hovermode": "closest",
          "mapbox": {
           "style": "light"
          },
          "paper_bgcolor": "white",
          "plot_bgcolor": "#E5ECF6",
          "polar": {
           "angularaxis": {
            "gridcolor": "white",
            "linecolor": "white",
            "ticks": ""
           },
           "bgcolor": "#E5ECF6",
           "radialaxis": {
            "gridcolor": "white",
            "linecolor": "white",
            "ticks": ""
           }
          },
          "scene": {
           "xaxis": {
            "backgroundcolor": "#E5ECF6",
            "gridcolor": "white",
            "gridwidth": 2,
            "linecolor": "white",
            "showbackground": true,
            "ticks": "",
            "zerolinecolor": "white"
           },
           "yaxis": {
            "backgroundcolor": "#E5ECF6",
            "gridcolor": "white",
            "gridwidth": 2,
            "linecolor": "white",
            "showbackground": true,
            "ticks": "",
            "zerolinecolor": "white"
           },
           "zaxis": {
            "backgroundcolor": "#E5ECF6",
            "gridcolor": "white",
            "gridwidth": 2,
            "linecolor": "white",
            "showbackground": true,
            "ticks": "",
            "zerolinecolor": "white"
           }
          },
          "shapedefaults": {
           "line": {
            "color": "#2a3f5f"
           }
          },
          "ternary": {
           "aaxis": {
            "gridcolor": "white",
            "linecolor": "white",
            "ticks": ""
           },
           "baxis": {
            "gridcolor": "white",
            "linecolor": "white",
            "ticks": ""
           },
           "bgcolor": "#E5ECF6",
           "caxis": {
            "gridcolor": "white",
            "linecolor": "white",
            "ticks": ""
           }
          },
          "title": {
           "x": 0.05
          },
          "xaxis": {
           "automargin": true,
           "gridcolor": "white",
           "linecolor": "white",
           "ticks": "",
           "title": {
            "standoff": 15
           },
           "zerolinecolor": "white",
           "zerolinewidth": 2
          },
          "yaxis": {
           "automargin": true,
           "gridcolor": "white",
           "linecolor": "white",
           "ticks": "",
           "title": {
            "standoff": 15
           },
           "zerolinecolor": "white",
           "zerolinewidth": 2
          }
         }
        }
       }
      },
      "text/html": [
       "<div\n",
       "    class=\"webio-mountpoint\"\n",
       "    data-webio-mountpoint=\"3415533046981178298\"\n",
       ">\n",
       "    <script>\n",
       "    (function(){\n",
       "    // Some integrations (namely, IJulia/Jupyter) use an alternate render pathway than\n",
       "    // just putting the html on the page. If WebIO isn't defined, then it's pretty likely\n",
       "    // that we're in one of those situations and the integration just isn't installed\n",
       "    // correctly.\n",
       "    if (typeof window.WebIO === \"undefined\") {\n",
       "        document\n",
       "            .querySelector('[data-webio-mountpoint=\"3415533046981178298\"]')\n",
       "            .innerHTML = (\n",
       "                '<div style=\"padding: 1em; background-color: #f8d6da; border: 1px solid #f5c6cb; font-weight: bold;\">' +\n",
       "                '<p><strong>WebIO not detected.</strong></p>' +\n",
       "                '<p>Please read ' +\n",
       "                '<a href=\"https://juliagizmos.github.io/WebIO.jl/latest/troubleshooting/not-detected/\" target=\"_blank\">the troubleshooting guide</a> ' +\n",
       "                'for more information on how to resolve this issue.</p>' +\n",
       "                '<p><a href=\"https://juliagizmos.github.io/WebIO.jl/latest/troubleshooting/not-detected/\" target=\"_blank\">https://juliagizmos.github.io/WebIO.jl/latest/troubleshooting/not-detected/</a></p>' +\n",
       "                '</div>'\n",
       "            );\n",
       "        return;\n",
       "    }\n",
       "    WebIO.mount(\n",
       "        document.querySelector('[data-webio-mountpoint=\"3415533046981178298\"]'),\n",
       "        {\"props\":{},\"nodeType\":\"Scope\",\"type\":\"node\",\"instanceArgs\":{\"imports\":{\"data\":[{\"name\":\"Plotly\",\"type\":\"js\",\"url\":\"\\/assetserver\\/acb1e1d038e0ba493bcf760a1f34955c02144315-plotly.min.js\"},{\"name\":null,\"type\":\"js\",\"url\":\"\\/assetserver\\/3ba71958ca898bd7f30960d378dc55db16df1d84-plotly_webio.bundle.js\"}],\"type\":\"async_block\"},\"id\":\"16824753707494488075\",\"handlers\":{\"_toImage\":[\"(function (options){return this.Plotly.toImage(this.plotElem,options).then((function (data){return WebIO.setval({\\\"name\\\":\\\"image\\\",\\\"scope\\\":\\\"16824753707494488075\\\",\\\"id\\\":\\\"5856236042244034500\\\",\\\"type\\\":\\\"observable\\\"},data)}))})\"],\"__get_gd_contents\":[\"(function (prop){prop==\\\"data\\\" ? (WebIO.setval({\\\"name\\\":\\\"__gd_contents\\\",\\\"scope\\\":\\\"16824753707494488075\\\",\\\"id\\\":\\\"12201062485639740844\\\",\\\"type\\\":\\\"observable\\\"},this.plotElem.data)) : undefined; return prop==\\\"layout\\\" ? (WebIO.setval({\\\"name\\\":\\\"__gd_contents\\\",\\\"scope\\\":\\\"16824753707494488075\\\",\\\"id\\\":\\\"12201062485639740844\\\",\\\"type\\\":\\\"observable\\\"},this.plotElem.layout)) : undefined})\"],\"_downloadImage\":[\"(function (options){return this.Plotly.downloadImage(this.plotElem,options)})\"],\"_commands\":[\"(function (args){var fn=args.shift(); var elem=this.plotElem; var Plotly=this.Plotly; args.unshift(elem); return Plotly[fn].apply(this,args)})\"]},\"systemjs_options\":null,\"mount_callbacks\":[\"function () {\\n    var handler = ((function (Plotly,PlotlyWebIO){PlotlyWebIO.init(WebIO); var gd=this.dom.querySelector(\\\"#plot-e72530af-4aaf-4ea5-869d-ae94121b56ac\\\"); this.plotElem=gd; this.Plotly=Plotly; (window.Blink!==undefined) ? (gd.style.width=\\\"100%\\\", gd.style.height=\\\"100vh\\\", gd.style.marginLeft=\\\"0%\\\", gd.style.marginTop=\\\"0vh\\\") : undefined; window.onresize=(function (){return Plotly.Plots.resize(gd)}); Plotly.newPlot(gd,[{\\\"mode\\\":\\\"lines\\\",\\\"y\\\":[1.791759469228055,1.9459101490553132,1.791759469228055,1.9459101490553132,1.6094379124341003,1.6094379124341003,0.6931471805599453,1.791759469228055,1.6094379124341003,1.9459101490553132,1.3862943611198906,1.0986122886681098,0.6931471805599453,0.0,0.0,0.0,0.6931471805599453,2.0794415416798357,1.6094379124341003,2.0794415416798357,1.791759469228055,1.9459101490553132,1.0986122886681098,1.3862943611198906,2.0794415416798357,0.0,1.3862943611198906,0.6931471805599453,1.9459101490553132,0.6931471805599453,1.791759469228055,1.9459101490553132,2.0794415416798357,1.6094379124341003,1.3862943611198906,1.3862943611198906,0.0,0.0,1.6094379124341003,1.0986122886681098,2.0794415416798357,2.3978952727983707,1.791759469228055,0,1.9459101490553132,2.0794415416798357,2.1972245773362196,0.6931471805599453,2.1972245773362196,2.0794415416798357,1.0986122886681098,0.6931471805599453,1.791759469228055,0.6931471805599453,1.3862943611198906,1.9459101490553132,1.3862943611198906,0.0,1.0986122886681098,0,0.6931471805599453,0.0,1.0986122886681098,1.3862943611198906,1.0986122886681098,1.0986122886681098,0.6931471805599453,1.6094379124341003,0.6931471805599453,1.791759469228055,2.4849066497880004,0.0,0.6931471805599453,1.6094379124341003,0.0,2.1972245773362196,0.6931471805599453,1.791759469228055,0.0,1.0986122886681098,1.0986122886681098,0.6931471805599453,0.0,0,1.9459101490553132,2.3978952727983707,0.6931471805599453,1.3862943611198906,2.0794415416798357,0.0,1.791759469228055,1.0986122886681098,0.6931471805599453,1.791759469228055,1.9459101490553132,1.0986122886681098,1.6094379124341003,1.791759469228055,0.6931471805599453,1.3862943611198906,1.6094379124341003,2.302585092994046,1.0986122886681098,0.6931471805599453,0.0,0.6931471805599453,1.0986122886681098,0.0,1.0986122886681098,0.0,0.6931471805599453,0.6931471805599453,2.1972245773362196,2.0794415416798357,1.6094379124341003,1.791759469228055,1.791759469228055,1.9459101490553132,1.791759469228055,1.791759469228055,0.6931471805599453,1.3862943611198906,1.3862943611198906,2.3978952727983707,1.0986122886681098,1.791759469228055,1.6094379124341003,1.3862943611198906,1.3862943611198906,2.8903717578961645,1.6094379124341003,1.9459101490553132,1.6094379124341003,1.0986122886681098,1.3862943611198906,1.6094379124341003,2.3978952727983707,2.4849066497880004,1.9459101490553132,1.3862943611198906,0.6931471805599453,0,1.6094379124341003,0.6931471805599453,2.5649493574615367,2.9444389791664403,1.6094379124341003,1.9459101490553132,0.0,1.0986122886681098,2.1972245773362196,2.0794415416798357,1.9459101490553132,1.791759469228055,1.3862943611198906,1.3862943611198906,1.0986122886681098,1.791759469228055,2.5649493574615367,1.791759469228055,2.6390573296152584,2.0794415416798357,2.0794415416798357,2.302585092994046,2.3978952727983707,2.1972245773362196,1.0986122886681098,2.5649493574615367,2.0794415416798357,1.9459101490553132,1.3862943611198906,1.9459101490553132,2.0794415416798357,2.0794415416798357,1.791759469228055,1.9459101490553132,2.0794415416798357,1.6094379124341003,2.3978952727983707,2.0794415416798357,2.0794415416798357,0,1.6094379124341003,0,0.6931471805599453,0.6931471805599453,1.3862943611198906,1.3862943611198906,0.0,2.1972245773362196,1.3862943611198906,0,2.302585092994046,1.9459101490553132,0.6931471805599453,1.6094379124341003,0.6931471805599453,0.0,0.6931471805599453,0.6931471805599453,0,0.6931471805599453,1.0986122886681098,1.791759469228055,1.791759469228055,1.9459101490553132,1.3862943611198906,3.258096538021482,0.0,1.3862943611198906,1.6094379124341003,0.0,0.0,1.3862943611198906,1.0986122886681098,0.0,0.6931471805599453,1.6094379124341003,1.0986122886681098,0.6931471805599453,0.6931471805599453,1.6094379124341003,1.0986122886681098,2.302585092994046,0.0,0,0.6931471805599453,0,0.0,0.6931471805599453,1.0986122886681098,1.0986122886681098,1.0986122886681098,1.6094379124341003,2.0794415416798357,2.302585092994046,1.9459101490553132,0.0,1.791759469228055,1.791759469228055,1.6094379124341003,1.791759469228055,1.6094379124341003,1.0986122886681098,1.0986122886681098,1.9459101490553132,1.0986122886681098,1.9459101490553132,2.3978952727983707,2.70805020110221,2.6390573296152584,2.1972245773362196,1.791759469228055,2.1972245773362196,2.0794415416798357,2.302585092994046,2.5649493574615367,2.3978952727983707,1.791759469228055,1.3862943611198906,1.3862943611198906,1.3862943611198906,2.3978952727983707,2.1972245773362196,2.0794415416798357,1.6094379124341003,1.791759469228055,1.9459101490553132,1.9459101490553132,2.302585092994046,1.9459101490553132,1.9459101490553132,1.3862943611198906,1.3862943611198906,1.3862943611198906,1.6094379124341003,1.791759469228055,2.0794415416798357,3.1780538303479458,1.3862943611198906,1.3862943611198906,2.0794415416798357,1.0986122886681098,1.791759469228055,2.1972245773362196,1.0986122886681098,2.0794415416798357,0.0,0.0,0.6931471805599453,2.3978952727983707,2.0794415416798357,1.791759469228055,1.3862943611198906,1.3862943611198906,0,1.791759469228055,1.6094379124341003,2.5649493574615367,1.3862943611198906,1.791759469228055,0,0,0,0,1.791759469228055,1.0986122886681098,2.1972245773362196,2.0794415416798357,1.3862943611198906,1.6094379124341003,3.4657359027997265,1.3862943611198906,1.791759469228055,1.791759469228055,2.0794415416798357,2.6390573296152584,1.9459101490553132,1.6094379124341003,1.9459101490553132,1.9459101490553132,0.6931471805599453,2.0794415416798357,1.6094379124341003,1.6094379124341003,1.0986122886681098,2.0794415416798357,1.0986122886681098,2.3978952727983707,1.791759469228055,1.3862943611198906,1.6094379124341003,3.258096538021482,1.6094379124341003,1.6094379124341003,2.0794415416798357,0.6931471805599453,1.791759469228055,1.3862943611198906,1.9459101490553132,1.9459101490553132,1.791759469228055,2.0794415416798357,0.0,1.791759469228055,2.0794415416798357,2.1972245773362196,1.3862943611198906,1.9459101490553132,1.9459101490553132,1.791759469228055,1.3862943611198906,1.9459101490553132,2.4849066497880004,1.3862943611198906,1.791759469228055,1.791759469228055,1.9459101490553132,0.6931471805599453,2.0794415416798357,2.1972245773362196,1.0986122886681098,2.0794415416798357,1.791759469228055,0.6931471805599453,0,0.0,1.6094379124341003,2.0794415416798357,1.791759469228055,1.0986122886681098,1.791759469228055,1.3862943611198906,0.6931471805599453,1.0986122886681098,1.3862943611198906,0.0,1.6094379124341003,0.6931471805599453,0.6931471805599453,1.3862943611198906,0.0,1.0986122886681098,0.6931471805599453,0.6931471805599453,1.3862943611198906,0.0,1.791759469228055,1.791759469228055,1.0986122886681098,0.0,0,1.0986122886681098,1.0986122886681098,1.0986122886681098,1.6094379124341003,0,1.6094379124341003,1.0986122886681098,1.0986122886681098,1.0986122886681098,0.6931471805599453,0.0,0.0,1.0986122886681098,1.3862943611198906,1.3862943611198906,1.0986122886681098,0.6931471805599453,1.3862943611198906,1.6094379124341003,1.0986122886681098,1.6094379124341003,1.0986122886681098,2.0794415416798357,1.6094379124341003,1.791759469228055,2.1972245773362196,1.9459101490553132,2.0794415416798357,0,0.6931471805599453,1.3862943611198906,1.791759469228055,2.8903717578961645,2.302585092994046,2.4849066497880004,2.1972245773362196,1.0986122886681098,1.3862943611198906,0.6931471805599453,1.3862943611198906,0.6931471805599453,1.9459101490553132,0,0,0,0,1.0986122886681098,1.0986122886681098,2.1972245773362196,1.6094379124341003,0.6931471805599453,0.6931471805599453,1.6094379124341003,1.3862943611198906,0.6931471805599453,0.6931471805599453,1.0986122886681098,1.791759469228055,0,1.3862943611198906,1.9459101490553132,1.0986122886681098,0.0,1.9459101490553132,0.6931471805599453,0.0,1.0986122886681098,1.791759469228055,0.0,0.0,0.6931471805599453,1.3862943611198906,0.6931471805599453,1.0986122886681098,1.0986122886681098,1.9459101490553132,1.3862943611198906,1.3862943611198906,0.6931471805599453,1.0986122886681098,2.302585092994046,0.0,1.791759469228055,1.3862943611198906,2.0794415416798357,1.6094379124341003,1.3862943611198906,1.3862943611198906,2.0794415416798357,2.5649493574615367,1.6094379124341003,1.3862943611198906,1.0986122886681098,0,0.6931471805599453,1.3862943611198906,2.5649493574615367,1.9459101490553132,1.0986122886681098,1.3862943611198906,0.6931471805599453,1.791759469228055,1.0986122886681098,0.6931471805599453,0.6931471805599453,1.3862943611198906,0.6931471805599453,0.0,0,1.6094379124341003,1.0986122886681098,0.6931471805599453,0.6931471805599453,0.6931471805599453,0.0,1.0986122886681098,1.6094379124341003,1.0986122886681098,1.791759469228055,1.791759469228055,0,0.0,0,2.0794415416798357,0.6931471805599453,1.9459101490553132,1.0986122886681098,1.0986122886681098,1.6094379124341003,1.3862943611198906,1.3862943611198906,1.3862943611198906,1.9459101490553132,1.9459101490553132,1.0986122886681098,1.0986122886681098,2.6390573296152584,1.6094379124341003,1.3862943611198906,0.6931471805599453,2.4849066497880004,0,0.6931471805599453,0.6931471805599453,0.0,0.6931471805599453,2.6390573296152584,2.3978952727983707,0,0.6931471805599453,1.0986122886681098,1.0986122886681098,2.5649493574615367,1.3862943611198906,0.0,0.6931471805599453,1.3862943611198906,1.791759469228055,1.0986122886681098,1.6094379124341003,1.6094379124341003,1.791759469228055,0.0,0,1.9459101490553132,1.791759469228055,2.1972245773362196,0.6931471805599453,1.6094379124341003,1.3862943611198906,1.3862943611198906,1.3862943611198906,0.0,1.791759469228055,1.0986122886681098,0.0,0.6931471805599453,2.0794415416798357,2.1972245773362196,1.791759469228055,1.6094379124341003,0.0,1.3862943611198906,0.0,0.0,0.0,1.791759469228055,0,1.791759469228055,1.0986122886681098,1.0986122886681098,1.0986122886681098,1.0986122886681098,2.1972245773362196,2.302585092994046,2.1972245773362196,1.3862943611198906,1.0986122886681098,0.0,1.3862943611198906,0.6931471805599453,1.3862943611198906,1.6094379124341003,1.0986122886681098,1.0986122886681098,1.0986122886681098,1.9459101490553132,1.791759469228055,0,0.0,0,0,0.0,0.0,0,0.0,0.0,1.0986122886681098,0,1.0986122886681098,1.6094379124341003,0.6931471805599453,1.791759469228055,0.6931471805599453,1.0986122886681098,0.0,0.6931471805599453,0.6931471805599453,0.6931471805599453,0.6931471805599453,1.3862943611198906,1.3862943611198906,1.3862943611198906,0,1.3862943611198906,1.3862943611198906,1.0986122886681098,1.9459101490553132,1.0986122886681098,1.3862943611198906,1.3862943611198906,1.9459101490553132,0,0.6931471805599453,0.6931471805599453,1.0986122886681098,1.0986122886681098,0,1.0986122886681098,2.0794415416798357,1.3862943611198906,1.0986122886681098,1.0986122886681098,0.6931471805599453,1.3862943611198906,0.0,0.0,0.6931471805599453,1.791759469228055,1.3862943611198906,0,0.6931471805599453,1.0986122886681098,1.791759469228055,1.0986122886681098,0,0,1.0986122886681098,0,2.1972245773362196,2.1972245773362196,0.6931471805599453,0.6931471805599453,1.6094379124341003,0.6931471805599453,0.6931471805599453,2.1972245773362196,1.3862943611198906,1.0986122886681098,2.0794415416798357,0.6931471805599453,1.3862943611198906,1.0986122886681098,0.6931471805599453,0,2.772588722239781,1.0986122886681098,1.3862943611198906,1.0986122886681098,0,1.3862943611198906,0.6931471805599453,2.1972245773362196,0.6931471805599453,0.0,1.0986122886681098,0.0,0,1.0986122886681098,2.3978952727983707,1.3862943611198906,1.6094379124341003,0.6931471805599453,1.0986122886681098,2.0794415416798357,1.0986122886681098,1.3862943611198906,1.3862943611198906,0.0,1.0986122886681098,0.0,1.0986122886681098,1.791759469228055,0.6931471805599453,0.6931471805599453,3.258096538021482,0.6931471805599453,1.0986122886681098,0,1.6094379124341003,1.9459101490553132,0.6931471805599453,1.9459101490553132,0.6931471805599453,1.791759469228055,0.0,1.3862943611198906,2.1972245773362196,1.791759469228055,1.9459101490553132,1.0986122886681098,1.0986122886681098,1.0986122886681098,1.3862943611198906,1.6094379124341003,1.0986122886681098,2.0794415416798357,1.3862943611198906,0.6931471805599453],\\\"type\\\":\\\"scatter\\\",\\\"x\\\":[0,1,2,3,4,5,6,7,8,9,10,11,12,13,14,15,16,17,18,19,20,21,22,23,24,25,26,27,28,29,30,31,32,33,34,35,36,37,38,39,40,41,42,43,44,45,46,47,48,49,50,51,52,53,54,55,56,57,58,59,60,61,62,63,64,65,66,67,68,69,70,71,72,73,74,75,76,77,78,79,80,81,82,83,84,85,86,87,88,89,90,91,92,93,94,95,96,97,98,99,100,101,102,103,104,105,106,107,108,109,110,111,112,113,114,115,116,117,118,119,120,121,122,123,124,125,126,127,128,129,130,131,132,133,134,135,136,137,138,139,140,141,142,143,144,145,146,147,148,149,150,151,152,153,154,155,156,157,158,159,160,161,162,163,164,165,166,167,168,169,170,171,172,173,174,175,176,177,178,179,180,181,182,183,184,185,186,187,188,189,190,191,192,193,194,195,196,197,198,199,200,201,202,203,204,205,206,207,208,209,210,211,212,213,214,215,216,217,218,219,220,221,222,223,224,225,226,227,228,229,230,231,232,233,234,235,236,237,238,239,240,241,242,243,244,245,246,247,248,249,250,251,252,253,254,255,256,257,258,259,260,261,262,263,264,265,266,267,268,269,270,271,272,273,274,275,276,277,278,279,280,281,282,283,284,285,286,287,288,289,290,291,292,293,294,295,296,297,298,299,300,301,302,303,304,305,306,307,308,309,310,311,312,313,314,315,316,317,318,319,320,321,322,323,324,325,326,327,328,329,330,331,332,333,334,335,336,337,338,339,340,341,342,343,344,345,346,347,348,349,350,351,352,353,354,355,356,357,358,359,360,361,362,363,364,365,366,367,368,369,370,371,372,373,374,375,376,377,378,379,380,381,382,383,384,385,386,387,388,389,390,391,392,393,394,395,396,397,398,399,400,401,402,403,404,405,406,407,408,409,410,411,412,413,414,415,416,417,418,419,420,421,422,423,424,425,426,427,428,429,430,431,432,433,434,435,436,437,438,439,440,441,442,443,444,445,446,447,448,449,450,451,452,453,454,455,456,457,458,459,460,461,462,463,464,465,466,467,468,469,470,471,472,473,474,475,476,477,478,479,480,481,482,483,484,485,486,487,488,489,490,491,492,493,494,495,496,497,498,499,500,501,502,503,504,505,506,507,508,509,510,511,512,513,514,515,516,517,518,519,520,521,522,523,524,525,526,527,528,529,530,531,532,533,534,535,536,537,538,539,540,541,542,543,544,545,546,547,548,549,550,551,552,553,554,555,556,557,558,559,560,561,562,563,564,565,566,567,568,569,570,571,572,573,574,575,576,577,578,579,580,581,582,583,584,585,586,587,588,589,590,591,592,593,594,595,596,597,598,599,600,601,602,603,604,605,606,607,608,609,610,611,612,613,614,615,616,617,618,619,620,621,622,623,624,625,626,627,628,629,630,631,632,633,634,635,636,637,638,639,640,641,642,643,644,645,646,647,648,649,650,651,652,653,654,655,656,657,658,659,660,661,662,663,664,665,666,667,668,669,670,671,672,673,674,675,676,677,678,679,680,681,682,683,684,685,686,687,688,689,690,691,692,693,694,695,696,697,698,699,700,701,702,703,704,705,706,707,708,709,710,711,712,713,714,715,716,717,718,719,720,721,722,723,724,725,726,727,728,729,730]}],{\\\"template\\\":{\\\"layout\\\":{\\\"coloraxis\\\":{\\\"colorbar\\\":{\\\"ticks\\\":\\\"\\\",\\\"outlinewidth\\\":0}},\\\"xaxis\\\":{\\\"gridcolor\\\":\\\"white\\\",\\\"zerolinewidth\\\":2,\\\"title\\\":{\\\"standoff\\\":15},\\\"ticks\\\":\\\"\\\",\\\"zerolinecolor\\\":\\\"white\\\",\\\"automargin\\\":true,\\\"linecolor\\\":\\\"white\\\"},\\\"hovermode\\\":\\\"closest\\\",\\\"paper_bgcolor\\\":\\\"white\\\",\\\"geo\\\":{\\\"showlakes\\\":true,\\\"showland\\\":true,\\\"landcolor\\\":\\\"#E5ECF6\\\",\\\"bgcolor\\\":\\\"white\\\",\\\"subunitcolor\\\":\\\"white\\\",\\\"lakecolor\\\":\\\"white\\\"},\\\"colorscale\\\":{\\\"sequential\\\":[[0.0,\\\"#0d0887\\\"],[0.1111111111111111,\\\"#46039f\\\"],[0.2222222222222222,\\\"#7201a8\\\"],[0.3333333333333333,\\\"#9c179e\\\"],[0.4444444444444444,\\\"#bd3786\\\"],[0.5555555555555556,\\\"#d8576b\\\"],[0.6666666666666666,\\\"#ed7953\\\"],[0.7777777777777778,\\\"#fb9f3a\\\"],[0.8888888888888888,\\\"#fdca26\\\"],[1.0,\\\"#f0f921\\\"]],\\\"diverging\\\":[[0,\\\"#8e0152\\\"],[0.1,\\\"#c51b7d\\\"],[0.2,\\\"#de77ae\\\"],[0.3,\\\"#f1b6da\\\"],[0.4,\\\"#fde0ef\\\"],[0.5,\\\"#f7f7f7\\\"],[0.6,\\\"#e6f5d0\\\"],[0.7,\\\"#b8e186\\\"],[0.8,\\\"#7fbc41\\\"],[0.9,\\\"#4d9221\\\"],[1,\\\"#276419\\\"]],\\\"sequentialminus\\\":[[0.0,\\\"#0d0887\\\"],[0.1111111111111111,\\\"#46039f\\\"],[0.2222222222222222,\\\"#7201a8\\\"],[0.3333333333333333,\\\"#9c179e\\\"],[0.4444444444444444,\\\"#bd3786\\\"],[0.5555555555555556,\\\"#d8576b\\\"],[0.6666666666666666,\\\"#ed7953\\\"],[0.7777777777777778,\\\"#fb9f3a\\\"],[0.8888888888888888,\\\"#fdca26\\\"],[1.0,\\\"#f0f921\\\"]]},\\\"yaxis\\\":{\\\"gridcolor\\\":\\\"white\\\",\\\"zerolinewidth\\\":2,\\\"title\\\":{\\\"standoff\\\":15},\\\"ticks\\\":\\\"\\\",\\\"zerolinecolor\\\":\\\"white\\\",\\\"automargin\\\":true,\\\"linecolor\\\":\\\"white\\\"},\\\"shapedefaults\\\":{\\\"line\\\":{\\\"color\\\":\\\"#2a3f5f\\\"}},\\\"hoverlabel\\\":{\\\"align\\\":\\\"left\\\"},\\\"mapbox\\\":{\\\"style\\\":\\\"light\\\"},\\\"polar\\\":{\\\"angularaxis\\\":{\\\"gridcolor\\\":\\\"white\\\",\\\"ticks\\\":\\\"\\\",\\\"linecolor\\\":\\\"white\\\"},\\\"bgcolor\\\":\\\"#E5ECF6\\\",\\\"radialaxis\\\":{\\\"gridcolor\\\":\\\"white\\\",\\\"ticks\\\":\\\"\\\",\\\"linecolor\\\":\\\"white\\\"}},\\\"autotypenumbers\\\":\\\"strict\\\",\\\"font\\\":{\\\"color\\\":\\\"#2a3f5f\\\"},\\\"ternary\\\":{\\\"baxis\\\":{\\\"gridcolor\\\":\\\"white\\\",\\\"ticks\\\":\\\"\\\",\\\"linecolor\\\":\\\"white\\\"},\\\"bgcolor\\\":\\\"#E5ECF6\\\",\\\"caxis\\\":{\\\"gridcolor\\\":\\\"white\\\",\\\"ticks\\\":\\\"\\\",\\\"linecolor\\\":\\\"white\\\"},\\\"aaxis\\\":{\\\"gridcolor\\\":\\\"white\\\",\\\"ticks\\\":\\\"\\\",\\\"linecolor\\\":\\\"white\\\"}},\\\"annotationdefaults\\\":{\\\"arrowhead\\\":0,\\\"arrowwidth\\\":1,\\\"arrowcolor\\\":\\\"#2a3f5f\\\"},\\\"plot_bgcolor\\\":\\\"#E5ECF6\\\",\\\"title\\\":{\\\"x\\\":0.05},\\\"scene\\\":{\\\"xaxis\\\":{\\\"gridcolor\\\":\\\"white\\\",\\\"gridwidth\\\":2,\\\"backgroundcolor\\\":\\\"#E5ECF6\\\",\\\"ticks\\\":\\\"\\\",\\\"showbackground\\\":true,\\\"zerolinecolor\\\":\\\"white\\\",\\\"linecolor\\\":\\\"white\\\"},\\\"zaxis\\\":{\\\"gridcolor\\\":\\\"white\\\",\\\"gridwidth\\\":2,\\\"backgroundcolor\\\":\\\"#E5ECF6\\\",\\\"ticks\\\":\\\"\\\",\\\"showbackground\\\":true,\\\"zerolinecolor\\\":\\\"white\\\",\\\"linecolor\\\":\\\"white\\\"},\\\"yaxis\\\":{\\\"gridcolor\\\":\\\"white\\\",\\\"gridwidth\\\":2,\\\"backgroundcolor\\\":\\\"#E5ECF6\\\",\\\"ticks\\\":\\\"\\\",\\\"showbackground\\\":true,\\\"zerolinecolor\\\":\\\"white\\\",\\\"linecolor\\\":\\\"white\\\"}},\\\"colorway\\\":[\\\"#636efa\\\",\\\"#EF553B\\\",\\\"#00cc96\\\",\\\"#ab63fa\\\",\\\"#FFA15A\\\",\\\"#19d3f3\\\",\\\"#FF6692\\\",\\\"#B6E880\\\",\\\"#FF97FF\\\",\\\"#FECB52\\\"]},\\\"data\\\":{\\\"barpolar\\\":[{\\\"type\\\":\\\"barpolar\\\",\\\"marker\\\":{\\\"line\\\":{\\\"color\\\":\\\"#E5ECF6\\\",\\\"width\\\":0.5}}}],\\\"carpet\\\":[{\\\"aaxis\\\":{\\\"gridcolor\\\":\\\"white\\\",\\\"endlinecolor\\\":\\\"#2a3f5f\\\",\\\"minorgridcolor\\\":\\\"white\\\",\\\"startlinecolor\\\":\\\"#2a3f5f\\\",\\\"linecolor\\\":\\\"white\\\"},\\\"type\\\":\\\"carpet\\\",\\\"baxis\\\":{\\\"gridcolor\\\":\\\"white\\\",\\\"endlinecolor\\\":\\\"#2a3f5f\\\",\\\"minorgridcolor\\\":\\\"white\\\",\\\"startlinecolor\\\":\\\"#2a3f5f\\\",\\\"linecolor\\\":\\\"white\\\"}}],\\\"scatterpolar\\\":[{\\\"type\\\":\\\"scatterpolar\\\",\\\"marker\\\":{\\\"colorbar\\\":{\\\"ticks\\\":\\\"\\\",\\\"outlinewidth\\\":0}}}],\\\"parcoords\\\":[{\\\"line\\\":{\\\"colorbar\\\":{\\\"ticks\\\":\\\"\\\",\\\"outlinewidth\\\":0}},\\\"type\\\":\\\"parcoords\\\"}],\\\"scatter\\\":[{\\\"type\\\":\\\"scatter\\\",\\\"marker\\\":{\\\"colorbar\\\":{\\\"ticks\\\":\\\"\\\",\\\"outlinewidth\\\":0}}}],\\\"histogram2dcontour\\\":[{\\\"colorbar\\\":{\\\"ticks\\\":\\\"\\\",\\\"outlinewidth\\\":0},\\\"type\\\":\\\"histogram2dcontour\\\",\\\"colorscale\\\":[[0.0,\\\"#0d0887\\\"],[0.1111111111111111,\\\"#46039f\\\"],[0.2222222222222222,\\\"#7201a8\\\"],[0.3333333333333333,\\\"#9c179e\\\"],[0.4444444444444444,\\\"#bd3786\\\"],[0.5555555555555556,\\\"#d8576b\\\"],[0.6666666666666666,\\\"#ed7953\\\"],[0.7777777777777778,\\\"#fb9f3a\\\"],[0.8888888888888888,\\\"#fdca26\\\"],[1.0,\\\"#f0f921\\\"]]}],\\\"contour\\\":[{\\\"colorbar\\\":{\\\"ticks\\\":\\\"\\\",\\\"outlinewidth\\\":0},\\\"type\\\":\\\"contour\\\",\\\"colorscale\\\":[[0.0,\\\"#0d0887\\\"],[0.1111111111111111,\\\"#46039f\\\"],[0.2222222222222222,\\\"#7201a8\\\"],[0.3333333333333333,\\\"#9c179e\\\"],[0.4444444444444444,\\\"#bd3786\\\"],[0.5555555555555556,\\\"#d8576b\\\"],[0.6666666666666666,\\\"#ed7953\\\"],[0.7777777777777778,\\\"#fb9f3a\\\"],[0.8888888888888888,\\\"#fdca26\\\"],[1.0,\\\"#f0f921\\\"]]}],\\\"scattercarpet\\\":[{\\\"type\\\":\\\"scattercarpet\\\",\\\"marker\\\":{\\\"colorbar\\\":{\\\"ticks\\\":\\\"\\\",\\\"outlinewidth\\\":0}}}],\\\"mesh3d\\\":[{\\\"colorbar\\\":{\\\"ticks\\\":\\\"\\\",\\\"outlinewidth\\\":0},\\\"type\\\":\\\"mesh3d\\\"}],\\\"surface\\\":[{\\\"colorbar\\\":{\\\"ticks\\\":\\\"\\\",\\\"outlinewidth\\\":0},\\\"type\\\":\\\"surface\\\",\\\"colorscale\\\":[[0.0,\\\"#0d0887\\\"],[0.1111111111111111,\\\"#46039f\\\"],[0.2222222222222222,\\\"#7201a8\\\"],[0.3333333333333333,\\\"#9c179e\\\"],[0.4444444444444444,\\\"#bd3786\\\"],[0.5555555555555556,\\\"#d8576b\\\"],[0.6666666666666666,\\\"#ed7953\\\"],[0.7777777777777778,\\\"#fb9f3a\\\"],[0.8888888888888888,\\\"#fdca26\\\"],[1.0,\\\"#f0f921\\\"]]}],\\\"scattermapbox\\\":[{\\\"type\\\":\\\"scattermapbox\\\",\\\"marker\\\":{\\\"colorbar\\\":{\\\"ticks\\\":\\\"\\\",\\\"outlinewidth\\\":0}}}],\\\"scattergeo\\\":[{\\\"type\\\":\\\"scattergeo\\\",\\\"marker\\\":{\\\"colorbar\\\":{\\\"ticks\\\":\\\"\\\",\\\"outlinewidth\\\":0}}}],\\\"histogram\\\":[{\\\"type\\\":\\\"histogram\\\",\\\"marker\\\":{\\\"colorbar\\\":{\\\"ticks\\\":\\\"\\\",\\\"outlinewidth\\\":0}}}],\\\"pie\\\":[{\\\"type\\\":\\\"pie\\\",\\\"automargin\\\":true}],\\\"choropleth\\\":[{\\\"colorbar\\\":{\\\"ticks\\\":\\\"\\\",\\\"outlinewidth\\\":0},\\\"type\\\":\\\"choropleth\\\"}],\\\"heatmapgl\\\":[{\\\"colorbar\\\":{\\\"ticks\\\":\\\"\\\",\\\"outlinewidth\\\":0},\\\"type\\\":\\\"heatmapgl\\\",\\\"colorscale\\\":[[0.0,\\\"#0d0887\\\"],[0.1111111111111111,\\\"#46039f\\\"],[0.2222222222222222,\\\"#7201a8\\\"],[0.3333333333333333,\\\"#9c179e\\\"],[0.4444444444444444,\\\"#bd3786\\\"],[0.5555555555555556,\\\"#d8576b\\\"],[0.6666666666666666,\\\"#ed7953\\\"],[0.7777777777777778,\\\"#fb9f3a\\\"],[0.8888888888888888,\\\"#fdca26\\\"],[1.0,\\\"#f0f921\\\"]]}],\\\"bar\\\":[{\\\"type\\\":\\\"bar\\\",\\\"error_y\\\":{\\\"color\\\":\\\"#2a3f5f\\\"},\\\"error_x\\\":{\\\"color\\\":\\\"#2a3f5f\\\"},\\\"marker\\\":{\\\"line\\\":{\\\"color\\\":\\\"#E5ECF6\\\",\\\"width\\\":0.5}}}],\\\"heatmap\\\":[{\\\"colorbar\\\":{\\\"ticks\\\":\\\"\\\",\\\"outlinewidth\\\":0},\\\"type\\\":\\\"heatmap\\\",\\\"colorscale\\\":[[0.0,\\\"#0d0887\\\"],[0.1111111111111111,\\\"#46039f\\\"],[0.2222222222222222,\\\"#7201a8\\\"],[0.3333333333333333,\\\"#9c179e\\\"],[0.4444444444444444,\\\"#bd3786\\\"],[0.5555555555555556,\\\"#d8576b\\\"],[0.6666666666666666,\\\"#ed7953\\\"],[0.7777777777777778,\\\"#fb9f3a\\\"],[0.8888888888888888,\\\"#fdca26\\\"],[1.0,\\\"#f0f921\\\"]]}],\\\"contourcarpet\\\":[{\\\"colorbar\\\":{\\\"ticks\\\":\\\"\\\",\\\"outlinewidth\\\":0},\\\"type\\\":\\\"contourcarpet\\\"}],\\\"table\\\":[{\\\"type\\\":\\\"table\\\",\\\"header\\\":{\\\"line\\\":{\\\"color\\\":\\\"white\\\"},\\\"fill\\\":{\\\"color\\\":\\\"#C8D4E3\\\"}},\\\"cells\\\":{\\\"line\\\":{\\\"color\\\":\\\"white\\\"},\\\"fill\\\":{\\\"color\\\":\\\"#EBF0F8\\\"}}}],\\\"scatter3d\\\":[{\\\"line\\\":{\\\"colorbar\\\":{\\\"ticks\\\":\\\"\\\",\\\"outlinewidth\\\":0}},\\\"type\\\":\\\"scatter3d\\\",\\\"marker\\\":{\\\"colorbar\\\":{\\\"ticks\\\":\\\"\\\",\\\"outlinewidth\\\":0}}}],\\\"scattergl\\\":[{\\\"type\\\":\\\"scattergl\\\",\\\"marker\\\":{\\\"colorbar\\\":{\\\"ticks\\\":\\\"\\\",\\\"outlinewidth\\\":0}}}],\\\"histogram2d\\\":[{\\\"colorbar\\\":{\\\"ticks\\\":\\\"\\\",\\\"outlinewidth\\\":0},\\\"type\\\":\\\"histogram2d\\\",\\\"colorscale\\\":[[0.0,\\\"#0d0887\\\"],[0.1111111111111111,\\\"#46039f\\\"],[0.2222222222222222,\\\"#7201a8\\\"],[0.3333333333333333,\\\"#9c179e\\\"],[0.4444444444444444,\\\"#bd3786\\\"],[0.5555555555555556,\\\"#d8576b\\\"],[0.6666666666666666,\\\"#ed7953\\\"],[0.7777777777777778,\\\"#fb9f3a\\\"],[0.8888888888888888,\\\"#fdca26\\\"],[1.0,\\\"#f0f921\\\"]]}],\\\"scatterternary\\\":[{\\\"type\\\":\\\"scatterternary\\\",\\\"marker\\\":{\\\"colorbar\\\":{\\\"ticks\\\":\\\"\\\",\\\"outlinewidth\\\":0}}}],\\\"scatterpolargl\\\":[{\\\"type\\\":\\\"scatterpolargl\\\",\\\"marker\\\":{\\\"colorbar\\\":{\\\"ticks\\\":\\\"\\\",\\\"outlinewidth\\\":0}}}]}},\\\"margin\\\":{\\\"l\\\":50,\\\"b\\\":50,\\\"r\\\":50,\\\"t\\\":60}},{\\\"showLink\\\":false,\\\"editable\\\":false,\\\"responsive\\\":true,\\\"staticPlot\\\":false,\\\"scrollZoom\\\":true}); gd.on(\\\"plotly_hover\\\",(function (data){var filtered_data=WebIO.PlotlyCommands.filterEventData(gd,data,\\\"hover\\\"); return !(filtered_data.isnil) ? (WebIO.setval({\\\"name\\\":\\\"hover\\\",\\\"scope\\\":\\\"16824753707494488075\\\",\\\"id\\\":\\\"8904731782288011826\\\",\\\"type\\\":\\\"observable\\\"},filtered_data.out)) : undefined})); gd.on(\\\"plotly_unhover\\\",(function (){return WebIO.setval({\\\"name\\\":\\\"hover\\\",\\\"scope\\\":\\\"16824753707494488075\\\",\\\"id\\\":\\\"8904731782288011826\\\",\\\"type\\\":\\\"observable\\\"},{})})); gd.on(\\\"plotly_selected\\\",(function (data){var filtered_data=WebIO.PlotlyCommands.filterEventData(gd,data,\\\"selected\\\"); return !(filtered_data.isnil) ? (WebIO.setval({\\\"name\\\":\\\"selected\\\",\\\"scope\\\":\\\"16824753707494488075\\\",\\\"id\\\":\\\"7053542617766097817\\\",\\\"type\\\":\\\"observable\\\"},filtered_data.out)) : undefined})); gd.on(\\\"plotly_deselect\\\",(function (){return WebIO.setval({\\\"name\\\":\\\"selected\\\",\\\"scope\\\":\\\"16824753707494488075\\\",\\\"id\\\":\\\"7053542617766097817\\\",\\\"type\\\":\\\"observable\\\"},{})})); gd.on(\\\"plotly_relayout\\\",(function (data){var filtered_data=WebIO.PlotlyCommands.filterEventData(gd,data,\\\"relayout\\\"); return !(filtered_data.isnil) ? (WebIO.setval({\\\"name\\\":\\\"relayout\\\",\\\"scope\\\":\\\"16824753707494488075\\\",\\\"id\\\":\\\"6668196369378108467\\\",\\\"type\\\":\\\"observable\\\"},filtered_data.out)) : undefined})); return gd.on(\\\"plotly_click\\\",(function (data){var filtered_data=WebIO.PlotlyCommands.filterEventData(gd,data,\\\"click\\\"); return !(filtered_data.isnil) ? (WebIO.setval({\\\"name\\\":\\\"click\\\",\\\"scope\\\":\\\"16824753707494488075\\\",\\\"id\\\":\\\"15307154364215091802\\\",\\\"type\\\":\\\"observable\\\"},filtered_data.out)) : undefined}))}));\\n    (WebIO.importBlock({\\\"data\\\":[{\\\"name\\\":\\\"Plotly\\\",\\\"type\\\":\\\"js\\\",\\\"url\\\":\\\"\\/assetserver\\/acb1e1d038e0ba493bcf760a1f34955c02144315-plotly.min.js\\\"},{\\\"name\\\":null,\\\"type\\\":\\\"js\\\",\\\"url\\\":\\\"\\/assetserver\\/3ba71958ca898bd7f30960d378dc55db16df1d84-plotly_webio.bundle.js\\\"}],\\\"type\\\":\\\"async_block\\\"})).then((imports) => handler.apply(this, imports));\\n}\\n\"],\"observables\":{\"_toImage\":{\"sync\":false,\"id\":\"18277711782981135497\",\"value\":{}},\"hover\":{\"sync\":false,\"id\":\"8904731782288011826\",\"value\":{}},\"selected\":{\"sync\":false,\"id\":\"7053542617766097817\",\"value\":{}},\"__gd_contents\":{\"sync\":false,\"id\":\"12201062485639740844\",\"value\":{}},\"click\":{\"sync\":false,\"id\":\"15307154364215091802\",\"value\":{}},\"image\":{\"sync\":true,\"id\":\"5856236042244034500\",\"value\":\"\"},\"__get_gd_contents\":{\"sync\":false,\"id\":\"13390306164150426834\",\"value\":\"\"},\"_downloadImage\":{\"sync\":false,\"id\":\"8488023203801201237\",\"value\":{}},\"relayout\":{\"sync\":false,\"id\":\"6668196369378108467\",\"value\":{}},\"_commands\":{\"sync\":false,\"id\":\"15675988308030753911\",\"value\":[]}}},\"children\":[{\"props\":{\"id\":\"plot-e72530af-4aaf-4ea5-869d-ae94121b56ac\"},\"nodeType\":\"DOM\",\"type\":\"node\",\"instanceArgs\":{\"namespace\":\"html\",\"tag\":\"div\"},\"children\":[]}]},\n",
       "        window,\n",
       "    );\n",
       "    })()\n",
       "    </script>\n",
       "</div>\n"
      ],
      "text/plain": [
       "data: [\n",
       "  \"scatter with fields mode, type, x, and y\"\n",
       "]\n",
       "\n",
       "layout: \"layout with fields margin and template\"\n",
       "\n"
      ]
     },
     "execution_count": 13,
     "metadata": {},
     "output_type": "execute_result"
    }
   ],
   "source": [
    "\n",
    "    data = scatter(;x = ts.t, y= ts.n,mode=\"lines\")\n",
    "    plot(data)\n"
   ]
  },
  {
   "cell_type": "code",
   "execution_count": 6,
   "id": "98998b51-f0de-486d-b207-85c26f661f19",
   "metadata": {},
   "outputs": [],
   "source": [
    "model = loess(ts.t, ts.n, span=0.1);"
   ]
  },
  {
   "cell_type": "code",
   "execution_count": 7,
   "id": "d9282755-c4df-46dc-a7ae-f630c9ed1a9c",
   "metadata": {},
   "outputs": [],
   "source": [
    "tp = range(extrema(ts.t)...; step = .1);"
   ]
  },
  {
   "cell_type": "code",
   "execution_count": 8,
   "id": "9f21b5b8-8504-4027-865c-2526b9bb5bf9",
   "metadata": {},
   "outputs": [],
   "source": [
    "np = Loess.predict(model, tp);"
   ]
  },
  {
   "cell_type": "code",
   "execution_count": null,
   "id": "8e8e900b-f2d7-4245-9133-df98b2c6a30d",
   "metadata": {},
   "outputs": [
    {
     "ename": "LoadError",
     "evalue": "LoadError: UndefVarError: @df not defined\nin expression starting at In[9]:2",
     "output_type": "error",
     "traceback": [
      "LoadError: UndefVarError: @df not defined\nin expression starting at In[9]:2",
      "",
      "Stacktrace:",
      " [1] top-level scope",
      "   @ :0",
      " [2] eval",
      "   @ .\\boot.jl:373 [inlined]",
      " [3] include_string(mapexpr::typeof(REPL.softscope), mod::Module, code::String, filename::String)",
      "   @ Base .\\loading.jl:1196"
     ]
    }
   ],
   "source": [
    "begin\n",
    "\tts |> @df plot(:t,:n,dpi=600)\n",
    "\tplot!(tp,np)\n",
    "end"
   ]
  },
  {
   "cell_type": "code",
   "execution_count": null,
   "id": "f54e97f2-7f29-4fe2-ac95-1698c13372a0",
   "metadata": {},
   "outputs": [
    {
     "data": {
      "text/plain": [
       "731-element Vector{Float64}:\n",
       "  0.14682806120932512\n",
       "  0.3392137300193834\n",
       "  0.22068389739284644\n",
       "  0.4079089432631533\n",
       "  0.10205051504971263\n",
       "  0.13031113360233593\n",
       " -0.7599410083323389\n",
       "  0.362556055996627\n",
       "  0.20200438328061288\n",
       "  0.5583285163055762\n",
       "  0.016694095289997657\n",
       " -0.2549072496564173\n",
       " -0.6456425448034363\n",
       "  ⋮\n",
       "  0.8885796810226716\n",
       "  0.4730767529347413\n",
       "  0.6172481756884378\n",
       " -0.23986249739299947\n",
       " -0.24955607465967033\n",
       " -0.2591287272406104\n",
       "  0.019190588901351502\n",
       "  0.23312464777072717\n",
       " -0.2866673037529679\n",
       "  0.6854620515351011\n",
       " -0.016118772335177445\n",
       " -0.717388486024286"
      ]
     },
     "execution_count": 10,
     "metadata": {},
     "output_type": "execute_result"
    }
   ],
   "source": [
    "dif = ts.n .- [np[1:10:end]...]"
   ]
  },
  {
   "cell_type": "code",
   "execution_count": null,
   "id": "5d12372f-5f11-4151-870a-2d2ab7053693",
   "metadata": {},
   "outputs": [
    {
     "data": {
      "application/vnd.plotly.v1+json": {
       "config": {
        "editable": false,
        "responsive": true,
        "scrollZoom": true,
        "showLink": false,
        "staticPlot": false
       },
       "data": [
        {
         "type": "scatter",
         "x": [
          0,
          1,
          2,
          3,
          4,
          5,
          6,
          7,
          8,
          9,
          10,
          11,
          12,
          13,
          14,
          15,
          16,
          17,
          18,
          19,
          20,
          21,
          22,
          23,
          24,
          25,
          26,
          27,
          28,
          29,
          30,
          31,
          32,
          33,
          34,
          35,
          36,
          37,
          38,
          39,
          40,
          41,
          42,
          43,
          44,
          45,
          46,
          47,
          48,
          49,
          50,
          51,
          52,
          53,
          54,
          55,
          56,
          57,
          58,
          59,
          60,
          61,
          62,
          63,
          64,
          65,
          66,
          67,
          68,
          69,
          70,
          71,
          72,
          73,
          74,
          75,
          76,
          77,
          78,
          79,
          80,
          81,
          82,
          83,
          84,
          85,
          86,
          87,
          88,
          89,
          90,
          91,
          92,
          93,
          94,
          95,
          96,
          97,
          98,
          99,
          100,
          101,
          102,
          103,
          104,
          105,
          106,
          107,
          108,
          109,
          110,
          111,
          112,
          113,
          114,
          115,
          116,
          117,
          118,
          119,
          120,
          121,
          122,
          123,
          124,
          125,
          126,
          127,
          128,
          129,
          130,
          131,
          132,
          133,
          134,
          135,
          136,
          137,
          138,
          139,
          140,
          141,
          142,
          143,
          144,
          145,
          146,
          147,
          148,
          149,
          150,
          151,
          152,
          153,
          154,
          155,
          156,
          157,
          158,
          159,
          160,
          161,
          162,
          163,
          164,
          165,
          166,
          167,
          168,
          169,
          170,
          171,
          172,
          173,
          174,
          175,
          176,
          177,
          178,
          179,
          180,
          181,
          182,
          183,
          184,
          185,
          186,
          187,
          188,
          189,
          190,
          191,
          192,
          193,
          194,
          195,
          196,
          197,
          198,
          199,
          200,
          201,
          202,
          203,
          204,
          205,
          206,
          207,
          208,
          209,
          210,
          211,
          212,
          213,
          214,
          215,
          216,
          217,
          218,
          219,
          220,
          221,
          222,
          223,
          224,
          225,
          226,
          227,
          228,
          229,
          230,
          231,
          232,
          233,
          234,
          235,
          236,
          237,
          238,
          239,
          240,
          241,
          242,
          243,
          244,
          245,
          246,
          247,
          248,
          249,
          250,
          251,
          252,
          253,
          254,
          255,
          256,
          257,
          258,
          259,
          260,
          261,
          262,
          263,
          264,
          265,
          266,
          267,
          268,
          269,
          270,
          271,
          272,
          273,
          274,
          275,
          276,
          277,
          278,
          279,
          280,
          281,
          282,
          283,
          284,
          285,
          286,
          287,
          288,
          289,
          290,
          291,
          292,
          293,
          294,
          295,
          296,
          297,
          298,
          299,
          300,
          301,
          302,
          303,
          304,
          305,
          306,
          307,
          308,
          309,
          310,
          311,
          312,
          313,
          314,
          315,
          316,
          317,
          318,
          319,
          320,
          321,
          322,
          323,
          324,
          325,
          326,
          327,
          328,
          329,
          330,
          331,
          332,
          333,
          334,
          335,
          336,
          337,
          338,
          339,
          340,
          341,
          342,
          343,
          344,
          345,
          346,
          347,
          348,
          349,
          350,
          351,
          352,
          353,
          354,
          355,
          356,
          357,
          358,
          359,
          360,
          361,
          362,
          363,
          364,
          365,
          366,
          367,
          368,
          369,
          370,
          371,
          372,
          373,
          374,
          375,
          376,
          377,
          378,
          379,
          380,
          381,
          382,
          383,
          384,
          385,
          386,
          387,
          388,
          389,
          390,
          391,
          392,
          393,
          394,
          395,
          396,
          397,
          398,
          399,
          400,
          401,
          402,
          403,
          404,
          405,
          406,
          407,
          408,
          409,
          410,
          411,
          412,
          413,
          414,
          415,
          416,
          417,
          418,
          419,
          420,
          421,
          422,
          423,
          424,
          425,
          426,
          427,
          428,
          429,
          430,
          431,
          432,
          433,
          434,
          435,
          436,
          437,
          438,
          439,
          440,
          441,
          442,
          443,
          444,
          445,
          446,
          447,
          448,
          449,
          450,
          451,
          452,
          453,
          454,
          455,
          456,
          457,
          458,
          459,
          460,
          461,
          462,
          463,
          464,
          465,
          466,
          467,
          468,
          469,
          470,
          471,
          472,
          473,
          474,
          475,
          476,
          477,
          478,
          479,
          480,
          481,
          482,
          483,
          484,
          485,
          486,
          487,
          488,
          489,
          490,
          491,
          492,
          493,
          494,
          495,
          496,
          497,
          498,
          499,
          500,
          501,
          502,
          503,
          504,
          505,
          506,
          507,
          508,
          509,
          510,
          511,
          512,
          513,
          514,
          515,
          516,
          517,
          518,
          519,
          520,
          521,
          522,
          523,
          524,
          525,
          526,
          527,
          528,
          529,
          530,
          531,
          532,
          533,
          534,
          535,
          536,
          537,
          538,
          539,
          540,
          541,
          542,
          543,
          544,
          545,
          546,
          547,
          548,
          549,
          550,
          551,
          552,
          553,
          554,
          555,
          556,
          557,
          558,
          559,
          560,
          561,
          562,
          563,
          564,
          565,
          566,
          567,
          568,
          569,
          570,
          571,
          572,
          573,
          574,
          575,
          576,
          577,
          578,
          579,
          580,
          581,
          582,
          583,
          584,
          585,
          586,
          587,
          588,
          589,
          590,
          591,
          592,
          593,
          594,
          595,
          596,
          597,
          598,
          599,
          600,
          601,
          602,
          603,
          604,
          605,
          606,
          607,
          608,
          609,
          610,
          611,
          612,
          613,
          614,
          615,
          616,
          617,
          618,
          619,
          620,
          621,
          622,
          623,
          624,
          625,
          626,
          627,
          628,
          629,
          630,
          631,
          632,
          633,
          634,
          635,
          636,
          637,
          638,
          639,
          640,
          641,
          642,
          643,
          644,
          645,
          646,
          647,
          648,
          649,
          650,
          651,
          652,
          653,
          654,
          655,
          656,
          657,
          658,
          659,
          660,
          661,
          662,
          663,
          664,
          665,
          666,
          667,
          668,
          669,
          670,
          671,
          672,
          673,
          674,
          675,
          676,
          677,
          678,
          679,
          680,
          681,
          682,
          683,
          684,
          685,
          686,
          687,
          688,
          689,
          690,
          691,
          692,
          693,
          694,
          695,
          696,
          697,
          698,
          699,
          700,
          701,
          702,
          703,
          704,
          705,
          706,
          707,
          708,
          709,
          710,
          711,
          712,
          713,
          714,
          715,
          716,
          717,
          718,
          719,
          720,
          721,
          722,
          723,
          724,
          725,
          726,
          727,
          728,
          729,
          730
         ],
         "y": [
          0.14682806120932512,
          0.3392137300193834,
          0.22068389739284644,
          0.4079089432631533,
          0.10205051504971263,
          0.13031113360233593,
          -0.7599410083323389,
          0.362556055996627,
          0.20200438328061288,
          0.5583285163055762,
          0.016694095289997657,
          -0.2549072496564173,
          -0.6456425448034363,
          -1.325895354510907,
          -1.3147365947258773,
          -1.3049647331230574,
          -0.6034786504172566,
          0.7895369212437839,
          0.3248026134395279,
          0.7984210914746468,
          0.512843879295289,
          0.6670992021265196,
          -0.18166344360341324,
          0.10257331378047296,
          0.7901019200125967,
          -1.296395784428471,
          0.08054214900621659,
          -0.6245748506102696,
          0.6149320294631797,
          -0.6532908422137508,
          0.4272636134527432,
          0.5623825052500628,
          0.6770280060810459,
          0.18820938574098633,
          -0.053785040349912494,
          -0.0626124475948886,
          -1.4566008363416998,
          -1.4628402180213755,
          0.1452136652605398,
          -0.3620533264182777,
          0.6242512529312434,
          0.9540092026538838,
          0.36024545455331736,
          -1.4182068754157475,
          0.5427565139927055,
          0.6916673108925757,
          0.8273454237263611,
          -0.6562835252613234,
          0.8680745243744676,
          0.7712161752774127,
          -0.1873194688091806,
          -0.5705774022731033,
          0.549326392679313,
          -0.5279735550437806,
          0.18669181409330204,
          0.7666717414837196,
          0.2267842097176913,
          -1.139689617075999,
          -0.019168844764660742,
          -1.0951310575697013,
          -0.379097775941042,
          -1.0508010505123768,
          0.06773778413953724,
          0.3747831597621556,
          0.10307484925047072,
          0.11798434579924422,
          -0.2738391091496456,
          0.6487359698556485,
          -0.26323554498498025,
          0.8357161775609223,
          1.5248685105744992,
          -0.9661635243814943,
          -0.28182153092444184,
          0.6229025721258363,
          -0.9998148594420656,
          1.18225508903895,
          -0.3385860879387256,
          0.7425271422311077,
          -1.0683363632016067,
          0.01004188023019803,
          -0.00951577792106506,
          -0.43230490392193077,
          -1.1420638802017877,
          -1.157492162622308,
          0.7752150876192747,
          1.2158632610824656,
          -0.4987803130605958,
          0.19115615636598315,
          0.8813963995082199,
          -1.2005463059324444,
          0.5935472733777132,
          -0.09777912025032598,
          -0.49894321720520274,
          0.6032502337107291,
          0.7599512588325119,
          -0.08336310651914203,
          0.433432242690899,
          0.6206517826284799,
          -0.4741127997476541,
          0.22296590395614335,
          0.44939772502198383,
          1.143516383702168,
          -0.06103821910710194,
          -0.4677091540586923,
          -1.1636554045995837,
          -0.47293330469447825,
          -0.0699724080811086,
          -1.1759241508531002,
          -0.08934117407259246,
          -1.2001998759664456,
          -0.5255302177380622,
          -0.5446472495214779,
          0.9400276781712757,
          0.7943763314404615,
          0.2953897590510104,
          0.44464798232953573,
          0.40679069030863,
          0.522591230563711,
          0.33023025579444254,
          0.29103672284979476,
          -0.8468764302826058,
          -0.18846181822668928,
          -0.21934498153775928,
          0.7618497071419892,
          -0.5599902026635297,
          0.11840525674217073,
          -0.0776330588228007,
          -0.30426481054783916,
          -0.3058737115846968,
          1.1980313092261161,
          -0.07746130277082375,
          0.27031934817164704,
          -0.05418312691417637,
          -0.5511204664127478,
          -0.24854718074065452,
          -0.010447028027601446,
          0.7904227600123463,
          0.8896653659615095,
          0.3574816129281817,
          -0.1954543819875798,
          -0.8826298823480337,
          -1.5736576928540873,
          0.03453289337920196,
          -0.8837813588455091,
          0.9822118959048352,
          1.3524542001507411,
          0.007668911582233706,
          0.33002570587009816,
          -1.6342755863201575,
          -0.5541656167133724,
          0.5215194481163994,
          0.3799717567960539,
          0.22246042239747532,
          0.04071155878597166,
          -0.39613478447027983,
          -0.42659087455528,
          -0.7469770469024002,
          -0.08606041585143731,
          0.6565214795571106,
          -0.14567379989433027,
          0.6743452826831517,
          0.09466101340278144,
          0.07596870961536295,
          0.2826870073902481,
          0.37113169984518457,
          0.17268034818453826,
          -0.921181319713438,
          0.5608622352143917,
          0.09334099871836443,
          -0.020169226029823628,
          -0.5517312265337035,
          0.03826247437586772,
          0.2073230964849926,
          0.24845914828747828,
          0.003639450882920503,
          0.20432186476692493,
          0.3884155952070425,
          -0.030533144014565083,
          0.8123761134888157,
          0.549382698766566,
          0.6045738267037222,
          -1.4203761921271614,
          0.24384602548768597,
          -1.3148542179821183,
          -0.574697803698273,
          -0.5288046744833509,
          0.2031764916786054,
          0.23561248400555335,
          -1.1195661794330292,
          1.1016521439079294,
          0.30773602082098583,
          -1.062805796155466,
          1.2497667239389356,
          0.8970896107307818,
          -0.3525072355483393,
          0.5628387180640666,
          -0.35646347607006723,
          -1.053874074142048,
          -0.3661983916826831,
          -0.3732744088888006,
          -1.0738731187175086,
          -0.38586733772069526,
          0.013558339652075091,
          0.7004922868208507,
          0.7001528877601324,
          0.8534836411201405,
          0.29845114015909546,
          2.1802463501289284,
          -1.068140454710274,
          0.3318466743757209,
          0.5728283855677592,
          -1.0195420622685132,
          -1.0013667907068509,
          0.40482264216705954,
          0.13578657599658106,
          -0.9456554304129811,
          -0.23620718459767898,
          0.6944560784382474,
          0.1949000295035711,
          -0.19975753843413957,
          -0.1902312670956089,
          0.7300574528412311,
          0.21811467214010305,
          1.4192002170452538,
          -0.893037412394861,
          -0.9044834103030297,
          -0.22475341913050972,
          -0.9409053095744611,
          -0.9664096788292398,
          -0.30545808350165116,
          0.06069187008473054,
          0.01906497165684118,
          -0.02724213048422075,
          0.43212256152234185,
          0.8491293167704572,
          1.0167010884191836,
          0.6013283932293498,
          -1.4037584614578527,
          0.32859869755184934,
          0.26866559906612686,
          0.027472541876819134,
          0.15408270969264648,
          -0.08403013557063299,
          -0.6496585471013847,
          -0.6981411979269074,
          0.10673402231173479,
          -0.7809506586041952,
          0.03502666348630634,
          0.4576298078984855,
          0.7405859966281834,
          0.653492983368321,
          0.1958970810206342,
          -0.2208468086700246,
          0.17792669906579084,
          0.05553452642742851,
          0.2757160562487284,
          0.5369777494046777,
          0.37059124474985605,
          -0.23406578569136238,
          -0.6368104523871951,
          -0.632269220610713,
          -0.6259528033357917,
          0.3941021320912794,
          0.2037463754189992,
          0.10052179683057627,
          -0.35253807241944,
          -0.15126430576223715,
          0.0234007275143433,
          0.045362428304931646,
          0.4252497630535137,
          0.09212338931576292,
          0.11655965721656414,
          -0.41804527731109453,
          -0.3959165316203255,
          -0.37351307320918203,
          -0.13121820565668907,
          0.07034514347012166,
          0.3773932695077622,
          1.4960604682775256,
          -0.27490693232815056,
          -0.253930192761173,
          0.46374096470529835,
          -0.4889550941035081,
          0.2322264235779301,
          0.6699299088903357,
          -0.3923777498705292,
          0.6234215405210519,
          -1.4189164208293898,
          -1.382438685603407,
          -0.65446507252519,
          1.0817914912951574,
          0.7918546846396879,
          0.5298552687750377,
          0.1389408433629986,
          0.1515178961075596,
          -1.224644040141925,
          0.5659034023327085,
          0.3804863290362561,
          1.3243522695907477,
          0.12546103481523452,
          0.509283469574108,
          -1.3080612645809566,
          -1.33824446853842,
          -1.369325243714594,
          -1.4001260897127366,
          0.36011738893783773,
          -0.3651227979769709,
          0.7030384411946999,
          0.5558807905402123,
          -0.1664925552786809,
          0.028329908434875373,
          1.8553704862879132,
          -0.25353103221084305,
          0.12396571450752036,
          0.09718527652061981,
          0.35855960882968807,
          0.8939222960265862,
          0.17679160674749572,
          -0.1829306598534146,
          0.13713874155344086,
          0.12168002053092208,
          -1.135997807945738,
          0.247245118031568,
          -0.22426588071325626,
          -0.21889396344932943,
          -0.7166518998087394,
          0.2788795899199801,
          -0.6860040707186943,
          0.63117105556017,
          0.04402278069153098,
          -0.3461812388905283,
          -0.11141572317785053,
          1.5489513868026514,
          -0.09697171713897879,
          -0.09441770817201722,
          0.3779543517776509,
          -1.0110972986103137,
          0.07968053261119823,
          -0.33333108753402496,
          0.2172407955898581,
          0.20841526949472944,
          0.046238371114455834,
          0.3282598743195151,
          -1.7559591235006522,
          0.03600849811861351,
          0.3246599218466817,
          0.44449197314511424,
          -0.3611931562183497,
          0.2066249897820962,
          0.21595397750086476,
          0.07264290810281704,
          -0.3211288400385106,
          0.25112145576190925,
          0.8031500723237701,
          -0.281647972819955,
          0.1398536818817655,
          0.15815709961520286,
          0.3315107974912175,
          -0.8984456579763976,
          0.5143435691043181,
          0.6593344018814142,
          -0.40714962144629396,
          0.6068622614449442,
          0.3529002579899445,
          -0.7080792312613592,
          -1.3630415654842256,
          -1.3236581911330079,
          0.3259554153669193,
          0.8362111203145781,
          0.5866959033902281,
          -0.07009017078023061,
          0.6588037738493526,
          0.2852613557402519,
          -0.379586293347865,
          0.05313195642436841,
          0.36407773516294983,
          -1.0028621691057538,
          0.6247612667679447,
          -0.2761553021594908,
          -0.2620484738648067,
          0.44403024143336756,
          -0.9299237772848244,
          0.18033056456690666,
          -0.21469412995920056,
          -0.20229771013946352,
          0.5018462400204755,
          -0.8749666053378888,
          0.9272400720973455,
          0.936063601799322,
          0.2501620675948857,
          -0.842783242851354,
          -0.8391879345449855,
          0.2590530209900499,
          0.25491587781502534,
          0.24864130292246267,
          0.749106386553215,
          -0.8745691076320412,
          0.7187440271507408,
          0.18871046328358954,
          0.166662434611609,
          0.14329152328056938,
          -0.28864514242371586,
          -1.0093673479389378,
          -1.0377342107760188,
          0.027070021559573387,
          0.2757781513284374,
          0.23733664714969982,
          -0.09553207019688403,
          -0.5458485904332443,
          0.10396900281346766,
          0.28091726129308214,
          -0.2753839670783509,
          0.1928146697332349,
          -0.35854445628083664,
          0.5837638772250187,
          0.0835363390697259,
          0.2425953589991825,
          0.6268032537260666,
          0.3641598721668329,
          0.49563289785344855,
          -1.5840903942533846,
          -0.8814577390265433,
          -0.16909807385087938,
          0.2566201243138271,
          1.3819127443281114,
          0.8233251588767352,
          1.0362766456421537,
          0.7817382335475505,
          -0.28049283547535464,
          0.04398897006354807,
          -0.6150158371059594,
          0.11392908332097651,
          -0.5428414565923118,
          0.7429065476782335,
          -1.168647987624599,
          -1.137695649440552,
          -1.110079090611137,
          -1.082081125098803,
          0.04218293323982669,
          0.06525326608505355,
          1.1865121989343712,
          0.6187005800658264,
          -0.2809319032894867,
          -0.26565866089971923,
          0.6632129745253507,
          0.44940854088281035,
          -0.23636887889850489,
          -0.23375801921625117,
          0.17159378408324288,
          0.8621759492034556,
          -0.9321058036241937,
          0.45165673924833716,
          1.0064553122390316,
          0.15488917308239303,
          -0.9495995465465892,
          0.9887124191393093,
          -0.2702060013651836,
          -0.9704029117641255,
          0.11971681127677458,
          0.8042720551599014,
          -0.996389947297867,
          -1.0102486984991639,
          -0.33581323605389646,
          0.33850997361129576,
          -0.37781234342566183,
          -0.0005247874742810854,
          -0.028820824235114006,
          0.7872198459620037,
          0.1929239978260453,
          0.1590203539764905,
          -0.5692074518756799,
          -0.19935622239690542,
          0.9696206030203935,
          -1.3649335798748665,
          0.397524793837545,
          -0.03533619554810152,
          0.6375009723569498,
          0.14858359592946813,
          -0.09139867342418406,
          -0.09792225828740952,
          0.5906095842199135,
          1.0804944504680878,
          0.13857876768669253,
          -0.06892965005772944,
          -0.3343648233248402,
          -1.4035310314386749,
          -0.6793071969864352,
          0.04801090307067435,
          1.2647693885718145,
          0.6847877174937886,
          -0.12319352909592896,
          0.20444385641838259,
          -0.44925778215134404,
          0.6870561547845442,
          0.03218291313967048,
          -0.3355508348031474,
          -0.30150178295532637,
          0.42224613709397174,
          -0.24217456884474775,
          -0.9127242785253316,
          -0.8916944098737455,
          0.7365907660260518,
          0.23520181408963725,
          -0.16295172933803503,
          -0.16662718335003834,
          -0.17254518416162445,
          -0.8736435462196499,
          0.2086296261489552,
          0.6945499165743285,
          0.15746909367100426,
          0.8198316609431779,
          0.7836976085748693,
          -1.0448201977373113,
          -1.0815488358122551,
          -1.1188675065366667,
          0.9239475984165693,
          -0.49357135990749545,
          0.727209148388533,
          -0.15179414419840764,
          -0.17605366427479563,
          0.3175316677440152,
          0.07801698430614201,
          0.06912622953451919,
          0.06093447638645544,
          0.6130685297889806,
          0.6119047832575626,
          -0.23581921880491774,
          -0.23262009339058531,
          1.3122765166311186,
          0.28791436170052487,
          0.07256572353265267,
          -0.6099187724012342,
          1.192830168512812,
          -1.2793427196553695,
          -0.5723980982693203,
          -0.5582238275056347,
          -1.2361732790456914,
          -0.5267638941640324,
          1.4328754285899101,
          1.2030800153610652,
          -1.1830687700048468,
          -0.4822475470840365,
          -0.07326087388591174,
          -0.06976111549800845,
          1.3942428255698691,
          0.2127001989308004,
          -1.176728480566723,
          -0.4929043567218959,
          0.190496170304417,
          0.5832521626637426,
          -0.12346300528835696,
          0.37368041060993673,
          0.3622419605159135,
          0.5349858144286235,
          -1.2658878838814096,
          -1.2692157978948493,
          0.6788812920378342,
          0.5275305261486762,
          0.9420156519085559,
          -0.5470380718392097,
          0.3842038885653778,
          0.17899918926962743,
          0.1973703068785777,
          0.215487707741987,
          -1.15345936492509,
          0.655175084576959,
          -0.022091486965817753,
          -1.109805560338259,
          -0.40602956855176064,
          0.9901801820471916,
          1.1129990908833227,
          0.7124655985089878,
          0.5300245535609083,
          -1.0843757691738887,
          0.2971372208812313,
          -1.0981746392599638,
          -1.111554378724815,
          -1.1240862677309746,
          0.653352218000006,
          -1.155272097127753,
          0.6210174728988758,
          -0.08526092950229214,
          -0.09684286358727578,
          -0.10627190666161579,
          -0.1071817209933077,
          0.9907921141022371,
          1.0964833632715472,
          1.0012934916628686,
          0.20953571755735156,
          -0.05872358794812027,
          -1.1294251193499654,
          0.284961777251999,
          -0.3805397974911121,
          0.3481423583959573,
          0.6065030149411654,
          0.13518768045333418,
          0.17583784332846664,
          0.2163135638850503,
          1.1045316115222101,
          0.9934434355378916,
          -0.755513321579161,
          -0.7162728403351746,
          -0.6792387480684852,
          -0.6429544907277887,
          -0.6148200145542205,
          -0.5945180062113651,
          -0.5760217543859198,
          -0.5700596288273313,
          -0.5662314739267589,
          0.5341119204357752,
          -0.5740585578384526,
          0.5035029255244947,
          0.991754460679158,
          0.04461628820740582,
          1.1099125464592516,
          -0.023228426517620915,
          0.34283170898320736,
          -0.7966003162435982,
          -0.14401662984206853,
          -0.1866754432708938,
          -0.23005477674758312,
          -0.26814584605727043,
          0.39194723868734704,
          0.359690451476691,
          0.3364446930645839,
          -1.072235706619665,
          0.29296041791291905,
          0.2825218068351849,
          -0.013885439457042015,
          0.829317880824429,
          -0.01719239905289993,
          0.2729998249477186,
          0.278036242948311,
          0.8452067438483788,
          -1.0921190455643455,
          -0.3876632981601461,
          -0.37530681772906094,
          0.04302894256099665,
          0.05864820939701443,
          -1.0236155550332398,
          0.09291740994372333,
          1.0935335612607857,
          0.4200859431920715,
          0.15066395842954716,
          0.16811765233481668,
          -0.2204211423237339,
          0.48540102841543,
          -0.8920224210597212,
          -0.8840263367838663,
          -0.18833509330594522,
          0.9075430385659051,
          0.4984154585080167,
          -0.8972883444832291,
          -0.21462901021305303,
          0.1795727155492216,
          0.8578620619941606,
          0.14628140486376784,
          -0.9707464515287825,
          -0.9907338732165103,
          0.08763315113949521,
          -1.030794735774335,
          1.146509560850714,
          1.1264967442907956,
          -0.3960229145894584,
          -0.41336005933730224,
          0.4859977315021542,
          -0.4430845851329196,
          -0.4524080607955644,
          1.0425964113991741,
          0.22715528490141046,
          -0.060589477701595174,
          0.9203565052888354,
          -0.46274165906283626,
          0.23695145579083787,
          -0.04418955787698775,
          -0.44238042184668036,
          -1.1272383734044402,
          1.6541542741519417,
          -0.011145615942308895,
          0.2854836852671161,
          0.006995552619360579,
          -1.082388610134802,
          0.31378029884957304,
          -0.3692761007870634,
          1.1434231595258786,
          -0.3518805623325837,
          -1.0390497015054092,
          0.06540622669353002,
          -1.0276876323084463,
          -1.0247727989097513,
          0.07388280201039055,
          1.372402344493277,
          0.35811843681926425,
          0.5764551724762697,
          -0.34557896061868776,
          0.052820595049379415,
          1.0253528240123386,
          0.035622701105725296,
          0.31244346778960863,
          0.301116345682638,
          -1.0968190921049654,
          -0.010054868891100854,
          -1.120748394340532,
          -0.0343308563535889,
          0.6470202182473253,
          -0.46347351270016846,
          -0.4753404970567364,
          2.0780817043128317,
          -0.4983640467637632,
          -0.10407895588156846,
          -1.2138362689816233,
          0.38455032304383385,
          0.7101546351047425,
          -0.5533377577301243,
          0.6888152093223476,
          -0.5744682415220429,
          0.5137330787484378,
          -1.2882927559568778,
          0.08775738192384819,
          0.8885796810226716,
          0.4730767529347413,
          0.6172481756884378,
          -0.23986249739299947,
          -0.24955607465967033,
          -0.2591287272406104,
          0.019190588901351502,
          0.23312464777072717,
          -0.2866673037529679,
          0.6854620515351011,
          -0.016118772335177445,
          -0.717388486024286
         ]
        }
       ],
       "frames": [],
       "layout": {
        "margin": {
         "b": 50,
         "l": 50,
         "r": 50,
         "t": 60
        },
        "template": {
         "data": {
          "bar": [
           {
            "error_x": {
             "color": "#2a3f5f"
            },
            "error_y": {
             "color": "#2a3f5f"
            },
            "marker": {
             "line": {
              "color": "#E5ECF6",
              "width": 0.5
             }
            },
            "type": "bar"
           }
          ],
          "barpolar": [
           {
            "marker": {
             "line": {
              "color": "#E5ECF6",
              "width": 0.5
             }
            },
            "type": "barpolar"
           }
          ],
          "carpet": [
           {
            "aaxis": {
             "endlinecolor": "#2a3f5f",
             "gridcolor": "white",
             "linecolor": "white",
             "minorgridcolor": "white",
             "startlinecolor": "#2a3f5f"
            },
            "baxis": {
             "endlinecolor": "#2a3f5f",
             "gridcolor": "white",
             "linecolor": "white",
             "minorgridcolor": "white",
             "startlinecolor": "#2a3f5f"
            },
            "type": "carpet"
           }
          ],
          "choropleth": [
           {
            "colorbar": {
             "outlinewidth": 0,
             "ticks": ""
            },
            "type": "choropleth"
           }
          ],
          "contour": [
           {
            "colorbar": {
             "outlinewidth": 0,
             "ticks": ""
            },
            "colorscale": [
             [
              0,
              "#0d0887"
             ],
             [
              0.1111111111111111,
              "#46039f"
             ],
             [
              0.2222222222222222,
              "#7201a8"
             ],
             [
              0.3333333333333333,
              "#9c179e"
             ],
             [
              0.4444444444444444,
              "#bd3786"
             ],
             [
              0.5555555555555556,
              "#d8576b"
             ],
             [
              0.6666666666666666,
              "#ed7953"
             ],
             [
              0.7777777777777778,
              "#fb9f3a"
             ],
             [
              0.8888888888888888,
              "#fdca26"
             ],
             [
              1,
              "#f0f921"
             ]
            ],
            "type": "contour"
           }
          ],
          "contourcarpet": [
           {
            "colorbar": {
             "outlinewidth": 0,
             "ticks": ""
            },
            "type": "contourcarpet"
           }
          ],
          "heatmap": [
           {
            "colorbar": {
             "outlinewidth": 0,
             "ticks": ""
            },
            "colorscale": [
             [
              0,
              "#0d0887"
             ],
             [
              0.1111111111111111,
              "#46039f"
             ],
             [
              0.2222222222222222,
              "#7201a8"
             ],
             [
              0.3333333333333333,
              "#9c179e"
             ],
             [
              0.4444444444444444,
              "#bd3786"
             ],
             [
              0.5555555555555556,
              "#d8576b"
             ],
             [
              0.6666666666666666,
              "#ed7953"
             ],
             [
              0.7777777777777778,
              "#fb9f3a"
             ],
             [
              0.8888888888888888,
              "#fdca26"
             ],
             [
              1,
              "#f0f921"
             ]
            ],
            "type": "heatmap"
           }
          ],
          "heatmapgl": [
           {
            "colorbar": {
             "outlinewidth": 0,
             "ticks": ""
            },
            "colorscale": [
             [
              0,
              "#0d0887"
             ],
             [
              0.1111111111111111,
              "#46039f"
             ],
             [
              0.2222222222222222,
              "#7201a8"
             ],
             [
              0.3333333333333333,
              "#9c179e"
             ],
             [
              0.4444444444444444,
              "#bd3786"
             ],
             [
              0.5555555555555556,
              "#d8576b"
             ],
             [
              0.6666666666666666,
              "#ed7953"
             ],
             [
              0.7777777777777778,
              "#fb9f3a"
             ],
             [
              0.8888888888888888,
              "#fdca26"
             ],
             [
              1,
              "#f0f921"
             ]
            ],
            "type": "heatmapgl"
           }
          ],
          "histogram": [
           {
            "marker": {
             "colorbar": {
              "outlinewidth": 0,
              "ticks": ""
             }
            },
            "type": "histogram"
           }
          ],
          "histogram2d": [
           {
            "colorbar": {
             "outlinewidth": 0,
             "ticks": ""
            },
            "colorscale": [
             [
              0,
              "#0d0887"
             ],
             [
              0.1111111111111111,
              "#46039f"
             ],
             [
              0.2222222222222222,
              "#7201a8"
             ],
             [
              0.3333333333333333,
              "#9c179e"
             ],
             [
              0.4444444444444444,
              "#bd3786"
             ],
             [
              0.5555555555555556,
              "#d8576b"
             ],
             [
              0.6666666666666666,
              "#ed7953"
             ],
             [
              0.7777777777777778,
              "#fb9f3a"
             ],
             [
              0.8888888888888888,
              "#fdca26"
             ],
             [
              1,
              "#f0f921"
             ]
            ],
            "type": "histogram2d"
           }
          ],
          "histogram2dcontour": [
           {
            "colorbar": {
             "outlinewidth": 0,
             "ticks": ""
            },
            "colorscale": [
             [
              0,
              "#0d0887"
             ],
             [
              0.1111111111111111,
              "#46039f"
             ],
             [
              0.2222222222222222,
              "#7201a8"
             ],
             [
              0.3333333333333333,
              "#9c179e"
             ],
             [
              0.4444444444444444,
              "#bd3786"
             ],
             [
              0.5555555555555556,
              "#d8576b"
             ],
             [
              0.6666666666666666,
              "#ed7953"
             ],
             [
              0.7777777777777778,
              "#fb9f3a"
             ],
             [
              0.8888888888888888,
              "#fdca26"
             ],
             [
              1,
              "#f0f921"
             ]
            ],
            "type": "histogram2dcontour"
           }
          ],
          "mesh3d": [
           {
            "colorbar": {
             "outlinewidth": 0,
             "ticks": ""
            },
            "type": "mesh3d"
           }
          ],
          "parcoords": [
           {
            "line": {
             "colorbar": {
              "outlinewidth": 0,
              "ticks": ""
             }
            },
            "type": "parcoords"
           }
          ],
          "pie": [
           {
            "automargin": true,
            "type": "pie"
           }
          ],
          "scatter": [
           {
            "marker": {
             "colorbar": {
              "outlinewidth": 0,
              "ticks": ""
             }
            },
            "type": "scatter"
           }
          ],
          "scatter3d": [
           {
            "line": {
             "colorbar": {
              "outlinewidth": 0,
              "ticks": ""
             }
            },
            "marker": {
             "colorbar": {
              "outlinewidth": 0,
              "ticks": ""
             }
            },
            "type": "scatter3d"
           }
          ],
          "scattercarpet": [
           {
            "marker": {
             "colorbar": {
              "outlinewidth": 0,
              "ticks": ""
             }
            },
            "type": "scattercarpet"
           }
          ],
          "scattergeo": [
           {
            "marker": {
             "colorbar": {
              "outlinewidth": 0,
              "ticks": ""
             }
            },
            "type": "scattergeo"
           }
          ],
          "scattergl": [
           {
            "marker": {
             "colorbar": {
              "outlinewidth": 0,
              "ticks": ""
             }
            },
            "type": "scattergl"
           }
          ],
          "scattermapbox": [
           {
            "marker": {
             "colorbar": {
              "outlinewidth": 0,
              "ticks": ""
             }
            },
            "type": "scattermapbox"
           }
          ],
          "scatterpolar": [
           {
            "marker": {
             "colorbar": {
              "outlinewidth": 0,
              "ticks": ""
             }
            },
            "type": "scatterpolar"
           }
          ],
          "scatterpolargl": [
           {
            "marker": {
             "colorbar": {
              "outlinewidth": 0,
              "ticks": ""
             }
            },
            "type": "scatterpolargl"
           }
          ],
          "scatterternary": [
           {
            "marker": {
             "colorbar": {
              "outlinewidth": 0,
              "ticks": ""
             }
            },
            "type": "scatterternary"
           }
          ],
          "surface": [
           {
            "colorbar": {
             "outlinewidth": 0,
             "ticks": ""
            },
            "colorscale": [
             [
              0,
              "#0d0887"
             ],
             [
              0.1111111111111111,
              "#46039f"
             ],
             [
              0.2222222222222222,
              "#7201a8"
             ],
             [
              0.3333333333333333,
              "#9c179e"
             ],
             [
              0.4444444444444444,
              "#bd3786"
             ],
             [
              0.5555555555555556,
              "#d8576b"
             ],
             [
              0.6666666666666666,
              "#ed7953"
             ],
             [
              0.7777777777777778,
              "#fb9f3a"
             ],
             [
              0.8888888888888888,
              "#fdca26"
             ],
             [
              1,
              "#f0f921"
             ]
            ],
            "type": "surface"
           }
          ],
          "table": [
           {
            "cells": {
             "fill": {
              "color": "#EBF0F8"
             },
             "line": {
              "color": "white"
             }
            },
            "header": {
             "fill": {
              "color": "#C8D4E3"
             },
             "line": {
              "color": "white"
             }
            },
            "type": "table"
           }
          ]
         },
         "layout": {
          "annotationdefaults": {
           "arrowcolor": "#2a3f5f",
           "arrowhead": 0,
           "arrowwidth": 1
          },
          "autotypenumbers": "strict",
          "coloraxis": {
           "colorbar": {
            "outlinewidth": 0,
            "ticks": ""
           }
          },
          "colorscale": {
           "diverging": [
            [
             0,
             "#8e0152"
            ],
            [
             0.1,
             "#c51b7d"
            ],
            [
             0.2,
             "#de77ae"
            ],
            [
             0.3,
             "#f1b6da"
            ],
            [
             0.4,
             "#fde0ef"
            ],
            [
             0.5,
             "#f7f7f7"
            ],
            [
             0.6,
             "#e6f5d0"
            ],
            [
             0.7,
             "#b8e186"
            ],
            [
             0.8,
             "#7fbc41"
            ],
            [
             0.9,
             "#4d9221"
            ],
            [
             1,
             "#276419"
            ]
           ],
           "sequential": [
            [
             0,
             "#0d0887"
            ],
            [
             0.1111111111111111,
             "#46039f"
            ],
            [
             0.2222222222222222,
             "#7201a8"
            ],
            [
             0.3333333333333333,
             "#9c179e"
            ],
            [
             0.4444444444444444,
             "#bd3786"
            ],
            [
             0.5555555555555556,
             "#d8576b"
            ],
            [
             0.6666666666666666,
             "#ed7953"
            ],
            [
             0.7777777777777778,
             "#fb9f3a"
            ],
            [
             0.8888888888888888,
             "#fdca26"
            ],
            [
             1,
             "#f0f921"
            ]
           ],
           "sequentialminus": [
            [
             0,
             "#0d0887"
            ],
            [
             0.1111111111111111,
             "#46039f"
            ],
            [
             0.2222222222222222,
             "#7201a8"
            ],
            [
             0.3333333333333333,
             "#9c179e"
            ],
            [
             0.4444444444444444,
             "#bd3786"
            ],
            [
             0.5555555555555556,
             "#d8576b"
            ],
            [
             0.6666666666666666,
             "#ed7953"
            ],
            [
             0.7777777777777778,
             "#fb9f3a"
            ],
            [
             0.8888888888888888,
             "#fdca26"
            ],
            [
             1,
             "#f0f921"
            ]
           ]
          },
          "colorway": [
           "#636efa",
           "#EF553B",
           "#00cc96",
           "#ab63fa",
           "#FFA15A",
           "#19d3f3",
           "#FF6692",
           "#B6E880",
           "#FF97FF",
           "#FECB52"
          ],
          "font": {
           "color": "#2a3f5f"
          },
          "geo": {
           "bgcolor": "white",
           "lakecolor": "white",
           "landcolor": "#E5ECF6",
           "showlakes": true,
           "showland": true,
           "subunitcolor": "white"
          },
          "hoverlabel": {
           "align": "left"
          },
          "hovermode": "closest",
          "mapbox": {
           "style": "light"
          },
          "paper_bgcolor": "white",
          "plot_bgcolor": "#E5ECF6",
          "polar": {
           "angularaxis": {
            "gridcolor": "white",
            "linecolor": "white",
            "ticks": ""
           },
           "bgcolor": "#E5ECF6",
           "radialaxis": {
            "gridcolor": "white",
            "linecolor": "white",
            "ticks": ""
           }
          },
          "scene": {
           "xaxis": {
            "backgroundcolor": "#E5ECF6",
            "gridcolor": "white",
            "gridwidth": 2,
            "linecolor": "white",
            "showbackground": true,
            "ticks": "",
            "zerolinecolor": "white"
           },
           "yaxis": {
            "backgroundcolor": "#E5ECF6",
            "gridcolor": "white",
            "gridwidth": 2,
            "linecolor": "white",
            "showbackground": true,
            "ticks": "",
            "zerolinecolor": "white"
           },
           "zaxis": {
            "backgroundcolor": "#E5ECF6",
            "gridcolor": "white",
            "gridwidth": 2,
            "linecolor": "white",
            "showbackground": true,
            "ticks": "",
            "zerolinecolor": "white"
           }
          },
          "shapedefaults": {
           "line": {
            "color": "#2a3f5f"
           }
          },
          "ternary": {
           "aaxis": {
            "gridcolor": "white",
            "linecolor": "white",
            "ticks": ""
           },
           "baxis": {
            "gridcolor": "white",
            "linecolor": "white",
            "ticks": ""
           },
           "bgcolor": "#E5ECF6",
           "caxis": {
            "gridcolor": "white",
            "linecolor": "white",
            "ticks": ""
           }
          },
          "title": {
           "x": 0.05
          },
          "xaxis": {
           "automargin": true,
           "gridcolor": "white",
           "linecolor": "white",
           "ticks": "",
           "title": {
            "standoff": 15
           },
           "zerolinecolor": "white",
           "zerolinewidth": 2
          },
          "yaxis": {
           "automargin": true,
           "gridcolor": "white",
           "linecolor": "white",
           "ticks": "",
           "title": {
            "standoff": 15
           },
           "zerolinecolor": "white",
           "zerolinewidth": 2
          }
         }
        }
       }
      },
      "text/html": [
       "<div\n",
       "    class=\"webio-mountpoint\"\n",
       "    data-webio-mountpoint=\"14677118670607171750\"\n",
       ">\n",
       "    <script>\n",
       "    (function(){\n",
       "    // Some integrations (namely, IJulia/Jupyter) use an alternate render pathway than\n",
       "    // just putting the html on the page. If WebIO isn't defined, then it's pretty likely\n",
       "    // that we're in one of those situations and the integration just isn't installed\n",
       "    // correctly.\n",
       "    if (typeof window.WebIO === \"undefined\") {\n",
       "        document\n",
       "            .querySelector('[data-webio-mountpoint=\"14677118670607171750\"]')\n",
       "            .innerHTML = (\n",
       "                '<div style=\"padding: 1em; background-color: #f8d6da; border: 1px solid #f5c6cb; font-weight: bold;\">' +\n",
       "                '<p><strong>WebIO not detected.</strong></p>' +\n",
       "                '<p>Please read ' +\n",
       "                '<a href=\"https://juliagizmos.github.io/WebIO.jl/latest/troubleshooting/not-detected/\" target=\"_blank\">the troubleshooting guide</a> ' +\n",
       "                'for more information on how to resolve this issue.</p>' +\n",
       "                '<p><a href=\"https://juliagizmos.github.io/WebIO.jl/latest/troubleshooting/not-detected/\" target=\"_blank\">https://juliagizmos.github.io/WebIO.jl/latest/troubleshooting/not-detected/</a></p>' +\n",
       "                '</div>'\n",
       "            );\n",
       "        return;\n",
       "    }\n",
       "    WebIO.mount(\n",
       "        document.querySelector('[data-webio-mountpoint=\"14677118670607171750\"]'),\n",
       "        {\"props\":{},\"nodeType\":\"Scope\",\"type\":\"node\",\"instanceArgs\":{\"imports\":{\"data\":[{\"name\":\"Plotly\",\"type\":\"js\",\"url\":\"\\/assetserver\\/acb1e1d038e0ba493bcf760a1f34955c02144315-plotly.min.js\"},{\"name\":null,\"type\":\"js\",\"url\":\"\\/assetserver\\/3ba71958ca898bd7f30960d378dc55db16df1d84-plotly_webio.bundle.js\"}],\"type\":\"async_block\"},\"id\":\"1655652785842784515\",\"handlers\":{\"_toImage\":[\"(function (options){return this.Plotly.toImage(this.plotElem,options).then((function (data){return WebIO.setval({\\\"name\\\":\\\"image\\\",\\\"scope\\\":\\\"1655652785842784515\\\",\\\"id\\\":\\\"15472486418271617812\\\",\\\"type\\\":\\\"observable\\\"},data)}))})\"],\"__get_gd_contents\":[\"(function (prop){prop==\\\"data\\\" ? (WebIO.setval({\\\"name\\\":\\\"__gd_contents\\\",\\\"scope\\\":\\\"1655652785842784515\\\",\\\"id\\\":\\\"3310173559108688904\\\",\\\"type\\\":\\\"observable\\\"},this.plotElem.data)) : undefined; return prop==\\\"layout\\\" ? (WebIO.setval({\\\"name\\\":\\\"__gd_contents\\\",\\\"scope\\\":\\\"1655652785842784515\\\",\\\"id\\\":\\\"3310173559108688904\\\",\\\"type\\\":\\\"observable\\\"},this.plotElem.layout)) : undefined})\"],\"_downloadImage\":[\"(function (options){return this.Plotly.downloadImage(this.plotElem,options)})\"],\"_commands\":[\"(function (args){var fn=args.shift(); var elem=this.plotElem; var Plotly=this.Plotly; args.unshift(elem); return Plotly[fn].apply(this,args)})\"]},\"systemjs_options\":null,\"mount_callbacks\":[\"function () {\\n    var handler = ((function (Plotly,PlotlyWebIO){PlotlyWebIO.init(WebIO); var gd=this.dom.querySelector(\\\"#plot-6d782748-db54-4169-81b7-bbcdda4aa047\\\"); this.plotElem=gd; this.Plotly=Plotly; (window.Blink!==undefined) ? (gd.style.width=\\\"100%\\\", gd.style.height=\\\"100vh\\\", gd.style.marginLeft=\\\"0%\\\", gd.style.marginTop=\\\"0vh\\\") : undefined; window.onresize=(function (){return Plotly.Plots.resize(gd)}); Plotly.newPlot(gd,[{\\\"y\\\":[0.14682806120932512,0.3392137300193834,0.22068389739284644,0.4079089432631533,0.10205051504971263,0.13031113360233593,-0.7599410083323389,0.362556055996627,0.20200438328061288,0.5583285163055762,0.016694095289997657,-0.2549072496564173,-0.6456425448034363,-1.325895354510907,-1.3147365947258773,-1.3049647331230574,-0.6034786504172566,0.7895369212437839,0.3248026134395279,0.7984210914746468,0.512843879295289,0.6670992021265196,-0.18166344360341324,0.10257331378047296,0.7901019200125967,-1.296395784428471,0.08054214900621659,-0.6245748506102696,0.6149320294631797,-0.6532908422137508,0.4272636134527432,0.5623825052500628,0.6770280060810459,0.18820938574098633,-0.053785040349912494,-0.0626124475948886,-1.4566008363416998,-1.4628402180213755,0.1452136652605398,-0.3620533264182777,0.6242512529312434,0.9540092026538838,0.36024545455331736,-1.4182068754157475,0.5427565139927055,0.6916673108925757,0.8273454237263611,-0.6562835252613234,0.8680745243744676,0.7712161752774127,-0.1873194688091806,-0.5705774022731033,0.549326392679313,-0.5279735550437806,0.18669181409330204,0.7666717414837196,0.2267842097176913,-1.139689617075999,-0.019168844764660742,-1.0951310575697013,-0.379097775941042,-1.0508010505123768,0.06773778413953724,0.3747831597621556,0.10307484925047072,0.11798434579924422,-0.2738391091496456,0.6487359698556485,-0.26323554498498025,0.8357161775609223,1.5248685105744992,-0.9661635243814943,-0.28182153092444184,0.6229025721258363,-0.9998148594420656,1.18225508903895,-0.3385860879387256,0.7425271422311077,-1.0683363632016067,0.01004188023019803,-0.00951577792106506,-0.43230490392193077,-1.1420638802017877,-1.157492162622308,0.7752150876192747,1.2158632610824656,-0.4987803130605958,0.19115615636598315,0.8813963995082199,-1.2005463059324444,0.5935472733777132,-0.09777912025032598,-0.49894321720520274,0.6032502337107291,0.7599512588325119,-0.08336310651914203,0.433432242690899,0.6206517826284799,-0.4741127997476541,0.22296590395614335,0.44939772502198383,1.143516383702168,-0.06103821910710194,-0.4677091540586923,-1.1636554045995837,-0.47293330469447825,-0.0699724080811086,-1.1759241508531002,-0.08934117407259246,-1.2001998759664456,-0.5255302177380622,-0.5446472495214779,0.9400276781712757,0.7943763314404615,0.2953897590510104,0.44464798232953573,0.40679069030863,0.522591230563711,0.33023025579444254,0.29103672284979476,-0.8468764302826058,-0.18846181822668928,-0.21934498153775928,0.7618497071419892,-0.5599902026635297,0.11840525674217073,-0.0776330588228007,-0.30426481054783916,-0.3058737115846968,1.1980313092261161,-0.07746130277082375,0.27031934817164704,-0.05418312691417637,-0.5511204664127478,-0.24854718074065452,-0.010447028027601446,0.7904227600123463,0.8896653659615095,0.3574816129281817,-0.1954543819875798,-0.8826298823480337,-1.5736576928540873,0.03453289337920196,-0.8837813588455091,0.9822118959048352,1.3524542001507411,0.007668911582233706,0.33002570587009816,-1.6342755863201575,-0.5541656167133724,0.5215194481163994,0.3799717567960539,0.22246042239747532,0.04071155878597166,-0.39613478447027983,-0.42659087455528,-0.7469770469024002,-0.08606041585143731,0.6565214795571106,-0.14567379989433027,0.6743452826831517,0.09466101340278144,0.07596870961536295,0.2826870073902481,0.37113169984518457,0.17268034818453826,-0.921181319713438,0.5608622352143917,0.09334099871836443,-0.020169226029823628,-0.5517312265337035,0.03826247437586772,0.2073230964849926,0.24845914828747828,0.003639450882920503,0.20432186476692493,0.3884155952070425,-0.030533144014565083,0.8123761134888157,0.549382698766566,0.6045738267037222,-1.4203761921271614,0.24384602548768597,-1.3148542179821183,-0.574697803698273,-0.5288046744833509,0.2031764916786054,0.23561248400555335,-1.1195661794330292,1.1016521439079294,0.30773602082098583,-1.062805796155466,1.2497667239389356,0.8970896107307818,-0.3525072355483393,0.5628387180640666,-0.35646347607006723,-1.053874074142048,-0.3661983916826831,-0.3732744088888006,-1.0738731187175086,-0.38586733772069526,0.013558339652075091,0.7004922868208507,0.7001528877601324,0.8534836411201405,0.29845114015909546,2.1802463501289284,-1.068140454710274,0.3318466743757209,0.5728283855677592,-1.0195420622685132,-1.0013667907068509,0.40482264216705954,0.13578657599658106,-0.9456554304129811,-0.23620718459767898,0.6944560784382474,0.1949000295035711,-0.19975753843413957,-0.1902312670956089,0.7300574528412311,0.21811467214010305,1.4192002170452538,-0.893037412394861,-0.9044834103030297,-0.22475341913050972,-0.9409053095744611,-0.9664096788292398,-0.30545808350165116,0.06069187008473054,0.01906497165684118,-0.02724213048422075,0.43212256152234185,0.8491293167704572,1.0167010884191836,0.6013283932293498,-1.4037584614578527,0.32859869755184934,0.26866559906612686,0.027472541876819134,0.15408270969264648,-0.08403013557063299,-0.6496585471013847,-0.6981411979269074,0.10673402231173479,-0.7809506586041952,0.03502666348630634,0.4576298078984855,0.7405859966281834,0.653492983368321,0.1958970810206342,-0.2208468086700246,0.17792669906579084,0.05553452642742851,0.2757160562487284,0.5369777494046777,0.37059124474985605,-0.23406578569136238,-0.6368104523871951,-0.632269220610713,-0.6259528033357917,0.3941021320912794,0.2037463754189992,0.10052179683057627,-0.35253807241944,-0.15126430576223715,0.0234007275143433,0.045362428304931646,0.4252497630535137,0.09212338931576292,0.11655965721656414,-0.41804527731109453,-0.3959165316203255,-0.37351307320918203,-0.13121820565668907,0.07034514347012166,0.3773932695077622,1.4960604682775256,-0.27490693232815056,-0.253930192761173,0.46374096470529835,-0.4889550941035081,0.2322264235779301,0.6699299088903357,-0.3923777498705292,0.6234215405210519,-1.4189164208293898,-1.382438685603407,-0.65446507252519,1.0817914912951574,0.7918546846396879,0.5298552687750377,0.1389408433629986,0.1515178961075596,-1.224644040141925,0.5659034023327085,0.3804863290362561,1.3243522695907477,0.12546103481523452,0.509283469574108,-1.3080612645809566,-1.33824446853842,-1.369325243714594,-1.4001260897127366,0.36011738893783773,-0.3651227979769709,0.7030384411946999,0.5558807905402123,-0.1664925552786809,0.028329908434875373,1.8553704862879132,-0.25353103221084305,0.12396571450752036,0.09718527652061981,0.35855960882968807,0.8939222960265862,0.17679160674749572,-0.1829306598534146,0.13713874155344086,0.12168002053092208,-1.135997807945738,0.247245118031568,-0.22426588071325626,-0.21889396344932943,-0.7166518998087394,0.2788795899199801,-0.6860040707186943,0.63117105556017,0.04402278069153098,-0.3461812388905283,-0.11141572317785053,1.5489513868026514,-0.09697171713897879,-0.09441770817201722,0.3779543517776509,-1.0110972986103137,0.07968053261119823,-0.33333108753402496,0.2172407955898581,0.20841526949472944,0.046238371114455834,0.3282598743195151,-1.7559591235006522,0.03600849811861351,0.3246599218466817,0.44449197314511424,-0.3611931562183497,0.2066249897820962,0.21595397750086476,0.07264290810281704,-0.3211288400385106,0.25112145576190925,0.8031500723237701,-0.281647972819955,0.1398536818817655,0.15815709961520286,0.3315107974912175,-0.8984456579763976,0.5143435691043181,0.6593344018814142,-0.40714962144629396,0.6068622614449442,0.3529002579899445,-0.7080792312613592,-1.3630415654842256,-1.3236581911330079,0.3259554153669193,0.8362111203145781,0.5866959033902281,-0.07009017078023061,0.6588037738493526,0.2852613557402519,-0.379586293347865,0.05313195642436841,0.36407773516294983,-1.0028621691057538,0.6247612667679447,-0.2761553021594908,-0.2620484738648067,0.44403024143336756,-0.9299237772848244,0.18033056456690666,-0.21469412995920056,-0.20229771013946352,0.5018462400204755,-0.8749666053378888,0.9272400720973455,0.936063601799322,0.2501620675948857,-0.842783242851354,-0.8391879345449855,0.2590530209900499,0.25491587781502534,0.24864130292246267,0.749106386553215,-0.8745691076320412,0.7187440271507408,0.18871046328358954,0.166662434611609,0.14329152328056938,-0.28864514242371586,-1.0093673479389378,-1.0377342107760188,0.027070021559573387,0.2757781513284374,0.23733664714969982,-0.09553207019688403,-0.5458485904332443,0.10396900281346766,0.28091726129308214,-0.2753839670783509,0.1928146697332349,-0.35854445628083664,0.5837638772250187,0.0835363390697259,0.2425953589991825,0.6268032537260666,0.3641598721668329,0.49563289785344855,-1.5840903942533846,-0.8814577390265433,-0.16909807385087938,0.2566201243138271,1.3819127443281114,0.8233251588767352,1.0362766456421537,0.7817382335475505,-0.28049283547535464,0.04398897006354807,-0.6150158371059594,0.11392908332097651,-0.5428414565923118,0.7429065476782335,-1.168647987624599,-1.137695649440552,-1.110079090611137,-1.082081125098803,0.04218293323982669,0.06525326608505355,1.1865121989343712,0.6187005800658264,-0.2809319032894867,-0.26565866089971923,0.6632129745253507,0.44940854088281035,-0.23636887889850489,-0.23375801921625117,0.17159378408324288,0.8621759492034556,-0.9321058036241937,0.45165673924833716,1.0064553122390316,0.15488917308239303,-0.9495995465465892,0.9887124191393093,-0.2702060013651836,-0.9704029117641255,0.11971681127677458,0.8042720551599014,-0.996389947297867,-1.0102486984991639,-0.33581323605389646,0.33850997361129576,-0.37781234342566183,-0.0005247874742810854,-0.028820824235114006,0.7872198459620037,0.1929239978260453,0.1590203539764905,-0.5692074518756799,-0.19935622239690542,0.9696206030203935,-1.3649335798748665,0.397524793837545,-0.03533619554810152,0.6375009723569498,0.14858359592946813,-0.09139867342418406,-0.09792225828740952,0.5906095842199135,1.0804944504680878,0.13857876768669253,-0.06892965005772944,-0.3343648233248402,-1.4035310314386749,-0.6793071969864352,0.04801090307067435,1.2647693885718145,0.6847877174937886,-0.12319352909592896,0.20444385641838259,-0.44925778215134404,0.6870561547845442,0.03218291313967048,-0.3355508348031474,-0.30150178295532637,0.42224613709397174,-0.24217456884474775,-0.9127242785253316,-0.8916944098737455,0.7365907660260518,0.23520181408963725,-0.16295172933803503,-0.16662718335003834,-0.17254518416162445,-0.8736435462196499,0.2086296261489552,0.6945499165743285,0.15746909367100426,0.8198316609431779,0.7836976085748693,-1.0448201977373113,-1.0815488358122551,-1.1188675065366667,0.9239475984165693,-0.49357135990749545,0.727209148388533,-0.15179414419840764,-0.17605366427479563,0.3175316677440152,0.07801698430614201,0.06912622953451919,0.06093447638645544,0.6130685297889806,0.6119047832575626,-0.23581921880491774,-0.23262009339058531,1.3122765166311186,0.28791436170052487,0.07256572353265267,-0.6099187724012342,1.192830168512812,-1.2793427196553695,-0.5723980982693203,-0.5582238275056347,-1.2361732790456914,-0.5267638941640324,1.4328754285899101,1.2030800153610652,-1.1830687700048468,-0.4822475470840365,-0.07326087388591174,-0.06976111549800845,1.3942428255698691,0.2127001989308004,-1.176728480566723,-0.4929043567218959,0.190496170304417,0.5832521626637426,-0.12346300528835696,0.37368041060993673,0.3622419605159135,0.5349858144286235,-1.2658878838814096,-1.2692157978948493,0.6788812920378342,0.5275305261486762,0.9420156519085559,-0.5470380718392097,0.3842038885653778,0.17899918926962743,0.1973703068785777,0.215487707741987,-1.15345936492509,0.655175084576959,-0.022091486965817753,-1.109805560338259,-0.40602956855176064,0.9901801820471916,1.1129990908833227,0.7124655985089878,0.5300245535609083,-1.0843757691738887,0.2971372208812313,-1.0981746392599638,-1.111554378724815,-1.1240862677309746,0.653352218000006,-1.155272097127753,0.6210174728988758,-0.08526092950229214,-0.09684286358727578,-0.10627190666161579,-0.1071817209933077,0.9907921141022371,1.0964833632715472,1.0012934916628686,0.20953571755735156,-0.05872358794812027,-1.1294251193499654,0.284961777251999,-0.3805397974911121,0.3481423583959573,0.6065030149411654,0.13518768045333418,0.17583784332846664,0.2163135638850503,1.1045316115222101,0.9934434355378916,-0.755513321579161,-0.7162728403351746,-0.6792387480684852,-0.6429544907277887,-0.6148200145542205,-0.5945180062113651,-0.5760217543859198,-0.5700596288273313,-0.5662314739267589,0.5341119204357752,-0.5740585578384526,0.5035029255244947,0.991754460679158,0.04461628820740582,1.1099125464592516,-0.023228426517620915,0.34283170898320736,-0.7966003162435982,-0.14401662984206853,-0.1866754432708938,-0.23005477674758312,-0.26814584605727043,0.39194723868734704,0.359690451476691,0.3364446930645839,-1.072235706619665,0.29296041791291905,0.2825218068351849,-0.013885439457042015,0.829317880824429,-0.01719239905289993,0.2729998249477186,0.278036242948311,0.8452067438483788,-1.0921190455643455,-0.3876632981601461,-0.37530681772906094,0.04302894256099665,0.05864820939701443,-1.0236155550332398,0.09291740994372333,1.0935335612607857,0.4200859431920715,0.15066395842954716,0.16811765233481668,-0.2204211423237339,0.48540102841543,-0.8920224210597212,-0.8840263367838663,-0.18833509330594522,0.9075430385659051,0.4984154585080167,-0.8972883444832291,-0.21462901021305303,0.1795727155492216,0.8578620619941606,0.14628140486376784,-0.9707464515287825,-0.9907338732165103,0.08763315113949521,-1.030794735774335,1.146509560850714,1.1264967442907956,-0.3960229145894584,-0.41336005933730224,0.4859977315021542,-0.4430845851329196,-0.4524080607955644,1.0425964113991741,0.22715528490141046,-0.060589477701595174,0.9203565052888354,-0.46274165906283626,0.23695145579083787,-0.04418955787698775,-0.44238042184668036,-1.1272383734044402,1.6541542741519417,-0.011145615942308895,0.2854836852671161,0.006995552619360579,-1.082388610134802,0.31378029884957304,-0.3692761007870634,1.1434231595258786,-0.3518805623325837,-1.0390497015054092,0.06540622669353002,-1.0276876323084463,-1.0247727989097513,0.07388280201039055,1.372402344493277,0.35811843681926425,0.5764551724762697,-0.34557896061868776,0.052820595049379415,1.0253528240123386,0.035622701105725296,0.31244346778960863,0.301116345682638,-1.0968190921049654,-0.010054868891100854,-1.120748394340532,-0.0343308563535889,0.6470202182473253,-0.46347351270016846,-0.4753404970567364,2.0780817043128317,-0.4983640467637632,-0.10407895588156846,-1.2138362689816233,0.38455032304383385,0.7101546351047425,-0.5533377577301243,0.6888152093223476,-0.5744682415220429,0.5137330787484378,-1.2882927559568778,0.08775738192384819,0.8885796810226716,0.4730767529347413,0.6172481756884378,-0.23986249739299947,-0.24955607465967033,-0.2591287272406104,0.019190588901351502,0.23312464777072717,-0.2866673037529679,0.6854620515351011,-0.016118772335177445,-0.717388486024286],\\\"type\\\":\\\"scatter\\\",\\\"x\\\":[0,1,2,3,4,5,6,7,8,9,10,11,12,13,14,15,16,17,18,19,20,21,22,23,24,25,26,27,28,29,30,31,32,33,34,35,36,37,38,39,40,41,42,43,44,45,46,47,48,49,50,51,52,53,54,55,56,57,58,59,60,61,62,63,64,65,66,67,68,69,70,71,72,73,74,75,76,77,78,79,80,81,82,83,84,85,86,87,88,89,90,91,92,93,94,95,96,97,98,99,100,101,102,103,104,105,106,107,108,109,110,111,112,113,114,115,116,117,118,119,120,121,122,123,124,125,126,127,128,129,130,131,132,133,134,135,136,137,138,139,140,141,142,143,144,145,146,147,148,149,150,151,152,153,154,155,156,157,158,159,160,161,162,163,164,165,166,167,168,169,170,171,172,173,174,175,176,177,178,179,180,181,182,183,184,185,186,187,188,189,190,191,192,193,194,195,196,197,198,199,200,201,202,203,204,205,206,207,208,209,210,211,212,213,214,215,216,217,218,219,220,221,222,223,224,225,226,227,228,229,230,231,232,233,234,235,236,237,238,239,240,241,242,243,244,245,246,247,248,249,250,251,252,253,254,255,256,257,258,259,260,261,262,263,264,265,266,267,268,269,270,271,272,273,274,275,276,277,278,279,280,281,282,283,284,285,286,287,288,289,290,291,292,293,294,295,296,297,298,299,300,301,302,303,304,305,306,307,308,309,310,311,312,313,314,315,316,317,318,319,320,321,322,323,324,325,326,327,328,329,330,331,332,333,334,335,336,337,338,339,340,341,342,343,344,345,346,347,348,349,350,351,352,353,354,355,356,357,358,359,360,361,362,363,364,365,366,367,368,369,370,371,372,373,374,375,376,377,378,379,380,381,382,383,384,385,386,387,388,389,390,391,392,393,394,395,396,397,398,399,400,401,402,403,404,405,406,407,408,409,410,411,412,413,414,415,416,417,418,419,420,421,422,423,424,425,426,427,428,429,430,431,432,433,434,435,436,437,438,439,440,441,442,443,444,445,446,447,448,449,450,451,452,453,454,455,456,457,458,459,460,461,462,463,464,465,466,467,468,469,470,471,472,473,474,475,476,477,478,479,480,481,482,483,484,485,486,487,488,489,490,491,492,493,494,495,496,497,498,499,500,501,502,503,504,505,506,507,508,509,510,511,512,513,514,515,516,517,518,519,520,521,522,523,524,525,526,527,528,529,530,531,532,533,534,535,536,537,538,539,540,541,542,543,544,545,546,547,548,549,550,551,552,553,554,555,556,557,558,559,560,561,562,563,564,565,566,567,568,569,570,571,572,573,574,575,576,577,578,579,580,581,582,583,584,585,586,587,588,589,590,591,592,593,594,595,596,597,598,599,600,601,602,603,604,605,606,607,608,609,610,611,612,613,614,615,616,617,618,619,620,621,622,623,624,625,626,627,628,629,630,631,632,633,634,635,636,637,638,639,640,641,642,643,644,645,646,647,648,649,650,651,652,653,654,655,656,657,658,659,660,661,662,663,664,665,666,667,668,669,670,671,672,673,674,675,676,677,678,679,680,681,682,683,684,685,686,687,688,689,690,691,692,693,694,695,696,697,698,699,700,701,702,703,704,705,706,707,708,709,710,711,712,713,714,715,716,717,718,719,720,721,722,723,724,725,726,727,728,729,730]}],{\\\"template\\\":{\\\"layout\\\":{\\\"coloraxis\\\":{\\\"colorbar\\\":{\\\"ticks\\\":\\\"\\\",\\\"outlinewidth\\\":0}},\\\"xaxis\\\":{\\\"gridcolor\\\":\\\"white\\\",\\\"zerolinewidth\\\":2,\\\"title\\\":{\\\"standoff\\\":15},\\\"ticks\\\":\\\"\\\",\\\"zerolinecolor\\\":\\\"white\\\",\\\"automargin\\\":true,\\\"linecolor\\\":\\\"white\\\"},\\\"hovermode\\\":\\\"closest\\\",\\\"paper_bgcolor\\\":\\\"white\\\",\\\"geo\\\":{\\\"showlakes\\\":true,\\\"showland\\\":true,\\\"landcolor\\\":\\\"#E5ECF6\\\",\\\"bgcolor\\\":\\\"white\\\",\\\"subunitcolor\\\":\\\"white\\\",\\\"lakecolor\\\":\\\"white\\\"},\\\"colorscale\\\":{\\\"sequential\\\":[[0.0,\\\"#0d0887\\\"],[0.1111111111111111,\\\"#46039f\\\"],[0.2222222222222222,\\\"#7201a8\\\"],[0.3333333333333333,\\\"#9c179e\\\"],[0.4444444444444444,\\\"#bd3786\\\"],[0.5555555555555556,\\\"#d8576b\\\"],[0.6666666666666666,\\\"#ed7953\\\"],[0.7777777777777778,\\\"#fb9f3a\\\"],[0.8888888888888888,\\\"#fdca26\\\"],[1.0,\\\"#f0f921\\\"]],\\\"diverging\\\":[[0,\\\"#8e0152\\\"],[0.1,\\\"#c51b7d\\\"],[0.2,\\\"#de77ae\\\"],[0.3,\\\"#f1b6da\\\"],[0.4,\\\"#fde0ef\\\"],[0.5,\\\"#f7f7f7\\\"],[0.6,\\\"#e6f5d0\\\"],[0.7,\\\"#b8e186\\\"],[0.8,\\\"#7fbc41\\\"],[0.9,\\\"#4d9221\\\"],[1,\\\"#276419\\\"]],\\\"sequentialminus\\\":[[0.0,\\\"#0d0887\\\"],[0.1111111111111111,\\\"#46039f\\\"],[0.2222222222222222,\\\"#7201a8\\\"],[0.3333333333333333,\\\"#9c179e\\\"],[0.4444444444444444,\\\"#bd3786\\\"],[0.5555555555555556,\\\"#d8576b\\\"],[0.6666666666666666,\\\"#ed7953\\\"],[0.7777777777777778,\\\"#fb9f3a\\\"],[0.8888888888888888,\\\"#fdca26\\\"],[1.0,\\\"#f0f921\\\"]]},\\\"yaxis\\\":{\\\"gridcolor\\\":\\\"white\\\",\\\"zerolinewidth\\\":2,\\\"title\\\":{\\\"standoff\\\":15},\\\"ticks\\\":\\\"\\\",\\\"zerolinecolor\\\":\\\"white\\\",\\\"automargin\\\":true,\\\"linecolor\\\":\\\"white\\\"},\\\"shapedefaults\\\":{\\\"line\\\":{\\\"color\\\":\\\"#2a3f5f\\\"}},\\\"hoverlabel\\\":{\\\"align\\\":\\\"left\\\"},\\\"mapbox\\\":{\\\"style\\\":\\\"light\\\"},\\\"polar\\\":{\\\"angularaxis\\\":{\\\"gridcolor\\\":\\\"white\\\",\\\"ticks\\\":\\\"\\\",\\\"linecolor\\\":\\\"white\\\"},\\\"bgcolor\\\":\\\"#E5ECF6\\\",\\\"radialaxis\\\":{\\\"gridcolor\\\":\\\"white\\\",\\\"ticks\\\":\\\"\\\",\\\"linecolor\\\":\\\"white\\\"}},\\\"autotypenumbers\\\":\\\"strict\\\",\\\"font\\\":{\\\"color\\\":\\\"#2a3f5f\\\"},\\\"ternary\\\":{\\\"baxis\\\":{\\\"gridcolor\\\":\\\"white\\\",\\\"ticks\\\":\\\"\\\",\\\"linecolor\\\":\\\"white\\\"},\\\"bgcolor\\\":\\\"#E5ECF6\\\",\\\"caxis\\\":{\\\"gridcolor\\\":\\\"white\\\",\\\"ticks\\\":\\\"\\\",\\\"linecolor\\\":\\\"white\\\"},\\\"aaxis\\\":{\\\"gridcolor\\\":\\\"white\\\",\\\"ticks\\\":\\\"\\\",\\\"linecolor\\\":\\\"white\\\"}},\\\"annotationdefaults\\\":{\\\"arrowhead\\\":0,\\\"arrowwidth\\\":1,\\\"arrowcolor\\\":\\\"#2a3f5f\\\"},\\\"plot_bgcolor\\\":\\\"#E5ECF6\\\",\\\"title\\\":{\\\"x\\\":0.05},\\\"scene\\\":{\\\"xaxis\\\":{\\\"gridcolor\\\":\\\"white\\\",\\\"gridwidth\\\":2,\\\"backgroundcolor\\\":\\\"#E5ECF6\\\",\\\"ticks\\\":\\\"\\\",\\\"showbackground\\\":true,\\\"zerolinecolor\\\":\\\"white\\\",\\\"linecolor\\\":\\\"white\\\"},\\\"zaxis\\\":{\\\"gridcolor\\\":\\\"white\\\",\\\"gridwidth\\\":2,\\\"backgroundcolor\\\":\\\"#E5ECF6\\\",\\\"ticks\\\":\\\"\\\",\\\"showbackground\\\":true,\\\"zerolinecolor\\\":\\\"white\\\",\\\"linecolor\\\":\\\"white\\\"},\\\"yaxis\\\":{\\\"gridcolor\\\":\\\"white\\\",\\\"gridwidth\\\":2,\\\"backgroundcolor\\\":\\\"#E5ECF6\\\",\\\"ticks\\\":\\\"\\\",\\\"showbackground\\\":true,\\\"zerolinecolor\\\":\\\"white\\\",\\\"linecolor\\\":\\\"white\\\"}},\\\"colorway\\\":[\\\"#636efa\\\",\\\"#EF553B\\\",\\\"#00cc96\\\",\\\"#ab63fa\\\",\\\"#FFA15A\\\",\\\"#19d3f3\\\",\\\"#FF6692\\\",\\\"#B6E880\\\",\\\"#FF97FF\\\",\\\"#FECB52\\\"]},\\\"data\\\":{\\\"barpolar\\\":[{\\\"type\\\":\\\"barpolar\\\",\\\"marker\\\":{\\\"line\\\":{\\\"color\\\":\\\"#E5ECF6\\\",\\\"width\\\":0.5}}}],\\\"carpet\\\":[{\\\"aaxis\\\":{\\\"gridcolor\\\":\\\"white\\\",\\\"endlinecolor\\\":\\\"#2a3f5f\\\",\\\"minorgridcolor\\\":\\\"white\\\",\\\"startlinecolor\\\":\\\"#2a3f5f\\\",\\\"linecolor\\\":\\\"white\\\"},\\\"type\\\":\\\"carpet\\\",\\\"baxis\\\":{\\\"gridcolor\\\":\\\"white\\\",\\\"endlinecolor\\\":\\\"#2a3f5f\\\",\\\"minorgridcolor\\\":\\\"white\\\",\\\"startlinecolor\\\":\\\"#2a3f5f\\\",\\\"linecolor\\\":\\\"white\\\"}}],\\\"scatterpolar\\\":[{\\\"type\\\":\\\"scatterpolar\\\",\\\"marker\\\":{\\\"colorbar\\\":{\\\"ticks\\\":\\\"\\\",\\\"outlinewidth\\\":0}}}],\\\"parcoords\\\":[{\\\"line\\\":{\\\"colorbar\\\":{\\\"ticks\\\":\\\"\\\",\\\"outlinewidth\\\":0}},\\\"type\\\":\\\"parcoords\\\"}],\\\"scatter\\\":[{\\\"type\\\":\\\"scatter\\\",\\\"marker\\\":{\\\"colorbar\\\":{\\\"ticks\\\":\\\"\\\",\\\"outlinewidth\\\":0}}}],\\\"histogram2dcontour\\\":[{\\\"colorbar\\\":{\\\"ticks\\\":\\\"\\\",\\\"outlinewidth\\\":0},\\\"type\\\":\\\"histogram2dcontour\\\",\\\"colorscale\\\":[[0.0,\\\"#0d0887\\\"],[0.1111111111111111,\\\"#46039f\\\"],[0.2222222222222222,\\\"#7201a8\\\"],[0.3333333333333333,\\\"#9c179e\\\"],[0.4444444444444444,\\\"#bd3786\\\"],[0.5555555555555556,\\\"#d8576b\\\"],[0.6666666666666666,\\\"#ed7953\\\"],[0.7777777777777778,\\\"#fb9f3a\\\"],[0.8888888888888888,\\\"#fdca26\\\"],[1.0,\\\"#f0f921\\\"]]}],\\\"contour\\\":[{\\\"colorbar\\\":{\\\"ticks\\\":\\\"\\\",\\\"outlinewidth\\\":0},\\\"type\\\":\\\"contour\\\",\\\"colorscale\\\":[[0.0,\\\"#0d0887\\\"],[0.1111111111111111,\\\"#46039f\\\"],[0.2222222222222222,\\\"#7201a8\\\"],[0.3333333333333333,\\\"#9c179e\\\"],[0.4444444444444444,\\\"#bd3786\\\"],[0.5555555555555556,\\\"#d8576b\\\"],[0.6666666666666666,\\\"#ed7953\\\"],[0.7777777777777778,\\\"#fb9f3a\\\"],[0.8888888888888888,\\\"#fdca26\\\"],[1.0,\\\"#f0f921\\\"]]}],\\\"scattercarpet\\\":[{\\\"type\\\":\\\"scattercarpet\\\",\\\"marker\\\":{\\\"colorbar\\\":{\\\"ticks\\\":\\\"\\\",\\\"outlinewidth\\\":0}}}],\\\"mesh3d\\\":[{\\\"colorbar\\\":{\\\"ticks\\\":\\\"\\\",\\\"outlinewidth\\\":0},\\\"type\\\":\\\"mesh3d\\\"}],\\\"surface\\\":[{\\\"colorbar\\\":{\\\"ticks\\\":\\\"\\\",\\\"outlinewidth\\\":0},\\\"type\\\":\\\"surface\\\",\\\"colorscale\\\":[[0.0,\\\"#0d0887\\\"],[0.1111111111111111,\\\"#46039f\\\"],[0.2222222222222222,\\\"#7201a8\\\"],[0.3333333333333333,\\\"#9c179e\\\"],[0.4444444444444444,\\\"#bd3786\\\"],[0.5555555555555556,\\\"#d8576b\\\"],[0.6666666666666666,\\\"#ed7953\\\"],[0.7777777777777778,\\\"#fb9f3a\\\"],[0.8888888888888888,\\\"#fdca26\\\"],[1.0,\\\"#f0f921\\\"]]}],\\\"scattermapbox\\\":[{\\\"type\\\":\\\"scattermapbox\\\",\\\"marker\\\":{\\\"colorbar\\\":{\\\"ticks\\\":\\\"\\\",\\\"outlinewidth\\\":0}}}],\\\"scattergeo\\\":[{\\\"type\\\":\\\"scattergeo\\\",\\\"marker\\\":{\\\"colorbar\\\":{\\\"ticks\\\":\\\"\\\",\\\"outlinewidth\\\":0}}}],\\\"histogram\\\":[{\\\"type\\\":\\\"histogram\\\",\\\"marker\\\":{\\\"colorbar\\\":{\\\"ticks\\\":\\\"\\\",\\\"outlinewidth\\\":0}}}],\\\"pie\\\":[{\\\"type\\\":\\\"pie\\\",\\\"automargin\\\":true}],\\\"choropleth\\\":[{\\\"colorbar\\\":{\\\"ticks\\\":\\\"\\\",\\\"outlinewidth\\\":0},\\\"type\\\":\\\"choropleth\\\"}],\\\"heatmapgl\\\":[{\\\"colorbar\\\":{\\\"ticks\\\":\\\"\\\",\\\"outlinewidth\\\":0},\\\"type\\\":\\\"heatmapgl\\\",\\\"colorscale\\\":[[0.0,\\\"#0d0887\\\"],[0.1111111111111111,\\\"#46039f\\\"],[0.2222222222222222,\\\"#7201a8\\\"],[0.3333333333333333,\\\"#9c179e\\\"],[0.4444444444444444,\\\"#bd3786\\\"],[0.5555555555555556,\\\"#d8576b\\\"],[0.6666666666666666,\\\"#ed7953\\\"],[0.7777777777777778,\\\"#fb9f3a\\\"],[0.8888888888888888,\\\"#fdca26\\\"],[1.0,\\\"#f0f921\\\"]]}],\\\"bar\\\":[{\\\"type\\\":\\\"bar\\\",\\\"error_y\\\":{\\\"color\\\":\\\"#2a3f5f\\\"},\\\"error_x\\\":{\\\"color\\\":\\\"#2a3f5f\\\"},\\\"marker\\\":{\\\"line\\\":{\\\"color\\\":\\\"#E5ECF6\\\",\\\"width\\\":0.5}}}],\\\"heatmap\\\":[{\\\"colorbar\\\":{\\\"ticks\\\":\\\"\\\",\\\"outlinewidth\\\":0},\\\"type\\\":\\\"heatmap\\\",\\\"colorscale\\\":[[0.0,\\\"#0d0887\\\"],[0.1111111111111111,\\\"#46039f\\\"],[0.2222222222222222,\\\"#7201a8\\\"],[0.3333333333333333,\\\"#9c179e\\\"],[0.4444444444444444,\\\"#bd3786\\\"],[0.5555555555555556,\\\"#d8576b\\\"],[0.6666666666666666,\\\"#ed7953\\\"],[0.7777777777777778,\\\"#fb9f3a\\\"],[0.8888888888888888,\\\"#fdca26\\\"],[1.0,\\\"#f0f921\\\"]]}],\\\"contourcarpet\\\":[{\\\"colorbar\\\":{\\\"ticks\\\":\\\"\\\",\\\"outlinewidth\\\":0},\\\"type\\\":\\\"contourcarpet\\\"}],\\\"table\\\":[{\\\"type\\\":\\\"table\\\",\\\"header\\\":{\\\"line\\\":{\\\"color\\\":\\\"white\\\"},\\\"fill\\\":{\\\"color\\\":\\\"#C8D4E3\\\"}},\\\"cells\\\":{\\\"line\\\":{\\\"color\\\":\\\"white\\\"},\\\"fill\\\":{\\\"color\\\":\\\"#EBF0F8\\\"}}}],\\\"scatter3d\\\":[{\\\"line\\\":{\\\"colorbar\\\":{\\\"ticks\\\":\\\"\\\",\\\"outlinewidth\\\":0}},\\\"type\\\":\\\"scatter3d\\\",\\\"marker\\\":{\\\"colorbar\\\":{\\\"ticks\\\":\\\"\\\",\\\"outlinewidth\\\":0}}}],\\\"scattergl\\\":[{\\\"type\\\":\\\"scattergl\\\",\\\"marker\\\":{\\\"colorbar\\\":{\\\"ticks\\\":\\\"\\\",\\\"outlinewidth\\\":0}}}],\\\"histogram2d\\\":[{\\\"colorbar\\\":{\\\"ticks\\\":\\\"\\\",\\\"outlinewidth\\\":0},\\\"type\\\":\\\"histogram2d\\\",\\\"colorscale\\\":[[0.0,\\\"#0d0887\\\"],[0.1111111111111111,\\\"#46039f\\\"],[0.2222222222222222,\\\"#7201a8\\\"],[0.3333333333333333,\\\"#9c179e\\\"],[0.4444444444444444,\\\"#bd3786\\\"],[0.5555555555555556,\\\"#d8576b\\\"],[0.6666666666666666,\\\"#ed7953\\\"],[0.7777777777777778,\\\"#fb9f3a\\\"],[0.8888888888888888,\\\"#fdca26\\\"],[1.0,\\\"#f0f921\\\"]]}],\\\"scatterternary\\\":[{\\\"type\\\":\\\"scatterternary\\\",\\\"marker\\\":{\\\"colorbar\\\":{\\\"ticks\\\":\\\"\\\",\\\"outlinewidth\\\":0}}}],\\\"scatterpolargl\\\":[{\\\"type\\\":\\\"scatterpolargl\\\",\\\"marker\\\":{\\\"colorbar\\\":{\\\"ticks\\\":\\\"\\\",\\\"outlinewidth\\\":0}}}]}},\\\"margin\\\":{\\\"l\\\":50,\\\"b\\\":50,\\\"r\\\":50,\\\"t\\\":60}},{\\\"showLink\\\":false,\\\"editable\\\":false,\\\"responsive\\\":true,\\\"staticPlot\\\":false,\\\"scrollZoom\\\":true}); gd.on(\\\"plotly_hover\\\",(function (data){var filtered_data=WebIO.PlotlyCommands.filterEventData(gd,data,\\\"hover\\\"); return !(filtered_data.isnil) ? (WebIO.setval({\\\"name\\\":\\\"hover\\\",\\\"scope\\\":\\\"1655652785842784515\\\",\\\"id\\\":\\\"11310176123789507075\\\",\\\"type\\\":\\\"observable\\\"},filtered_data.out)) : undefined})); gd.on(\\\"plotly_unhover\\\",(function (){return WebIO.setval({\\\"name\\\":\\\"hover\\\",\\\"scope\\\":\\\"1655652785842784515\\\",\\\"id\\\":\\\"11310176123789507075\\\",\\\"type\\\":\\\"observable\\\"},{})})); gd.on(\\\"plotly_selected\\\",(function (data){var filtered_data=WebIO.PlotlyCommands.filterEventData(gd,data,\\\"selected\\\"); return !(filtered_data.isnil) ? (WebIO.setval({\\\"name\\\":\\\"selected\\\",\\\"scope\\\":\\\"1655652785842784515\\\",\\\"id\\\":\\\"8184309807752239883\\\",\\\"type\\\":\\\"observable\\\"},filtered_data.out)) : undefined})); gd.on(\\\"plotly_deselect\\\",(function (){return WebIO.setval({\\\"name\\\":\\\"selected\\\",\\\"scope\\\":\\\"1655652785842784515\\\",\\\"id\\\":\\\"8184309807752239883\\\",\\\"type\\\":\\\"observable\\\"},{})})); gd.on(\\\"plotly_relayout\\\",(function (data){var filtered_data=WebIO.PlotlyCommands.filterEventData(gd,data,\\\"relayout\\\"); return !(filtered_data.isnil) ? (WebIO.setval({\\\"name\\\":\\\"relayout\\\",\\\"scope\\\":\\\"1655652785842784515\\\",\\\"id\\\":\\\"11461197632233070209\\\",\\\"type\\\":\\\"observable\\\"},filtered_data.out)) : undefined})); return gd.on(\\\"plotly_click\\\",(function (data){var filtered_data=WebIO.PlotlyCommands.filterEventData(gd,data,\\\"click\\\"); return !(filtered_data.isnil) ? (WebIO.setval({\\\"name\\\":\\\"click\\\",\\\"scope\\\":\\\"1655652785842784515\\\",\\\"id\\\":\\\"9651474461417929372\\\",\\\"type\\\":\\\"observable\\\"},filtered_data.out)) : undefined}))}));\\n    (WebIO.importBlock({\\\"data\\\":[{\\\"name\\\":\\\"Plotly\\\",\\\"type\\\":\\\"js\\\",\\\"url\\\":\\\"\\/assetserver\\/acb1e1d038e0ba493bcf760a1f34955c02144315-plotly.min.js\\\"},{\\\"name\\\":null,\\\"type\\\":\\\"js\\\",\\\"url\\\":\\\"\\/assetserver\\/3ba71958ca898bd7f30960d378dc55db16df1d84-plotly_webio.bundle.js\\\"}],\\\"type\\\":\\\"async_block\\\"})).then((imports) => handler.apply(this, imports));\\n}\\n\"],\"observables\":{\"_toImage\":{\"sync\":false,\"id\":\"14518292500250549196\",\"value\":{}},\"hover\":{\"sync\":false,\"id\":\"11310176123789507075\",\"value\":{}},\"selected\":{\"sync\":false,\"id\":\"8184309807752239883\",\"value\":{}},\"__gd_contents\":{\"sync\":false,\"id\":\"3310173559108688904\",\"value\":{}},\"click\":{\"sync\":false,\"id\":\"9651474461417929372\",\"value\":{}},\"image\":{\"sync\":true,\"id\":\"15472486418271617812\",\"value\":\"\"},\"__get_gd_contents\":{\"sync\":false,\"id\":\"14474341670393374868\",\"value\":\"\"},\"_downloadImage\":{\"sync\":false,\"id\":\"6432764999088445001\",\"value\":{}},\"relayout\":{\"sync\":false,\"id\":\"11461197632233070209\",\"value\":{}},\"_commands\":{\"sync\":false,\"id\":\"13147025371756454604\",\"value\":[]}}},\"children\":[{\"props\":{\"id\":\"plot-6d782748-db54-4169-81b7-bbcdda4aa047\"},\"nodeType\":\"DOM\",\"type\":\"node\",\"instanceArgs\":{\"namespace\":\"html\",\"tag\":\"div\"},\"children\":[]}]},\n",
       "        window,\n",
       "    );\n",
       "    })()\n",
       "    </script>\n",
       "</div>\n"
      ],
      "text/plain": [
       "data: [\n",
       "  \"scatter with fields type, x, and y\"\n",
       "]\n",
       "\n",
       "layout: \"layout with fields margin and template\"\n",
       "\n"
      ]
     },
     "execution_count": 11,
     "metadata": {},
     "output_type": "execute_result"
    }
   ],
   "source": [
    "plot(ts.t, dif)"
   ]
  },
  {
   "cell_type": "code",
   "execution_count": null,
   "id": "1b94146a-a5ce-4ab4-9112-42560ad3292b",
   "metadata": {},
   "outputs": [
    {
     "ename": "LoadError",
     "evalue": "MethodError: no method matching histogram(::Vector{Float64})\n\u001b[0mClosest candidates are:\n\u001b[0m  histogram(; kwargs...) at C:\\Users\\User\\.julia\\packages\\PlotlyBase\\xb3Du\\src\\api.jl:39\n\u001b[0m  histogram(\u001b[91m::AbstractDict\u001b[39m; kwargs...) at C:\\Users\\User\\.julia\\packages\\PlotlyBase\\xb3Du\\src\\api.jl:40\n\u001b[0m  histogram(\u001b[91m::AbstractDataFrame\u001b[39m; kwargs...) at C:\\Users\\User\\.julia\\packages\\PlotlyBase\\xb3Du\\src\\dataframes_api.jl:504",
     "output_type": "error",
     "traceback": [
      "MethodError: no method matching histogram(::Vector{Float64})\n\u001b[0mClosest candidates are:\n\u001b[0m  histogram(; kwargs...) at C:\\Users\\User\\.julia\\packages\\PlotlyBase\\xb3Du\\src\\api.jl:39\n\u001b[0m  histogram(\u001b[91m::AbstractDict\u001b[39m; kwargs...) at C:\\Users\\User\\.julia\\packages\\PlotlyBase\\xb3Du\\src\\api.jl:40\n\u001b[0m  histogram(\u001b[91m::AbstractDataFrame\u001b[39m; kwargs...) at C:\\Users\\User\\.julia\\packages\\PlotlyBase\\xb3Du\\src\\dataframes_api.jl:504",
      "",
      "Stacktrace:",
      " [1] top-level scope",
      "   @ In[12]:1",
      " [2] eval",
      "   @ .\\boot.jl:373 [inlined]",
      " [3] include_string(mapexpr::typeof(REPL.softscope), mod::Module, code::String, filename::String)",
      "   @ Base .\\loading.jl:1196"
     ]
    }
   ],
   "source": [
    "histogram(dif)"
   ]
  }
 ],
 "metadata": {
  "@webio": {
   "lastCommId": "267c6f6e-bb6a-4c27-bc65-16ce2e7ebce8",
   "lastKernelId": "0fa57713-973c-4fa1-8826-109815f5e9b2"
  },
  "kernelspec": {
   "display_name": "Julia (multiple threads) 1.7.2",
   "language": "julia",
   "name": "julia-(multiple-threads)-1.7"
  },
  "language_info": {
   "file_extension": ".jl",
   "mimetype": "application/julia",
   "name": "julia",
   "version": "1.7.2"
  }
 },
 "nbformat": 4,
 "nbformat_minor": 5
}
