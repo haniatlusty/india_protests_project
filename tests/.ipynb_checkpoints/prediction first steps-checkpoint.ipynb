{
 "cells": [
  {
   "cell_type": "code",
   "execution_count": 1,
   "id": "3c71165c-8942-4a4f-98f4-0502fd38e1ad",
   "metadata": {},
   "outputs": [],
   "source": [
    "using StatsKit, Query, Dates, VegaLite;"
   ]
  },
  {
   "cell_type": "code",
   "execution_count": 2,
   "id": "c29e7d3a-3d57-497e-be46-179fc0ec9528",
   "metadata": {},
   "outputs": [],
   "source": [
    "df = CSV.read(\"../data/2016-2022.csv\", DataFrame);"
   ]
  },
  {
   "cell_type": "markdown",
   "id": "1e4e86e2-8ba0-40e7-9c81-1f0be512b015",
   "metadata": {},
   "source": [
    "---"
   ]
  },
  {
   "cell_type": "markdown",
   "id": "528ad4e9-d5cf-4677-b8e8-019172552f70",
   "metadata": {},
   "source": [
    "## Segregowanie danych"
   ]
  },
  {
   "cell_type": "markdown",
   "id": "d7b68cb3-67c9-4110-9418-3b977327cb1c",
   "metadata": {},
   "source": [
    "---"
   ]
  },
  {
   "cell_type": "code",
   "execution_count": 3,
   "id": "1b4ee940-6ef2-4248-858c-18e0bff12d7d",
   "metadata": {},
   "outputs": [],
   "source": [
    "function year_data(data, year, location)\n",
    "    df_2016 = @from i in data begin\n",
    "        @where i.year == year\n",
    "        @where i.location == location\n",
    "        @select {i.event_date, i.event_type, i.sub_event_type}\n",
    "        @collect DataFrame\n",
    "    end\n",
    "end;"
   ]
  },
  {
   "cell_type": "code",
   "execution_count": 4,
   "id": "da2e9ea0-36d9-45fa-aa94-4b257924b989",
   "metadata": {},
   "outputs": [],
   "source": [
    "function plot_year_city(data, year, location, sub=false)\n",
    "    dt = year_data(data, year, location)                                                # wczytanie danych dla danego miasta i danego roku\n",
    "    dates = Dates.value.(Date.(dt.event_date, dateformat\"d U y\").-Date(year,1,1))       # przekształcenie dat na dni konkretnego roku\n",
    "    select!(dt, Not(:event_date)); insertcols!(dt, 1, :time => dates);                  # podmienie kolumny dat w df\n",
    "    sort!(dt)                                                                           # sortowanie df\n",
    "    n = [length(sub ? d.sub_event_type : d.event_type) for d in groupby(dt, :time)];    # ilość wydarzeń danego dnia\n",
    "    t = unique(dt.time);                                                                # odpowiadająca lista dni (w kolejności)\n",
    "    plot = @vlplot(\n",
    "        height=600,\n",
    "        width=1200,\n",
    "        :bar,\n",
    "        x=t,\n",
    "        y=n,\n",
    "        title = location*\" in \"*string(year)\n",
    "    )\n",
    "    return ((t, n), plot, isleapyear(year))\n",
    "end;"
   ]
  },
  {
   "cell_type": "code",
   "execution_count": 5,
   "id": "404f99c1-e7df-4c02-8876-67e2511f3181",
   "metadata": {},
   "outputs": [],
   "source": [
    "dat, plot, leap = plot_year_city(df, 2018, \"Imphal\");"
   ]
  },
  {
   "cell_type": "code",
   "execution_count": 6,
   "id": "919f3188-ee88-4302-9515-168202b5091a",
   "metadata": {},
   "outputs": [
    {
     "data": {
      "application/vnd.vegalite.v4+json": {
       "data": {
        "values": [
         {
          "x": 8,
          "y": 1
         },
         {
          "x": 10,
          "y": 1
         },
         {
          "x": 14,
          "y": 1
         },
         {
          "x": 15,
          "y": 2
         },
         {
          "x": 16,
          "y": 1
         },
         {
          "x": 18,
          "y": 1
         },
         {
          "x": 20,
          "y": 2
         },
         {
          "x": 22,
          "y": 1
         },
         {
          "x": 26,
          "y": 2
         },
         {
          "x": 27,
          "y": 2
         },
         {
          "x": 29,
          "y": 1
         },
         {
          "x": 30,
          "y": 2
         },
         {
          "x": 31,
          "y": 1
         },
         {
          "x": 35,
          "y": 3
         },
         {
          "x": 36,
          "y": 3
         },
         {
          "x": 37,
          "y": 1
         },
         {
          "x": 57,
          "y": 1
         },
         {
          "x": 58,
          "y": 1
         },
         {
          "x": 64,
          "y": 2
         },
         {
          "x": 65,
          "y": 1
         },
         {
          "x": 66,
          "y": 2
         },
         {
          "x": 70,
          "y": 2
         },
         {
          "x": 72,
          "y": 1
         },
         {
          "x": 78,
          "y": 1
         },
         {
          "x": 80,
          "y": 1
         },
         {
          "x": 81,
          "y": 1
         },
         {
          "x": 91,
          "y": 1
         },
         {
          "x": 94,
          "y": 1
         },
         {
          "x": 96,
          "y": 1
         },
         {
          "x": 97,
          "y": 2
         },
         {
          "x": 98,
          "y": 2
         },
         {
          "x": 99,
          "y": 2
         },
         {
          "x": 101,
          "y": 2
         },
         {
          "x": 102,
          "y": 3
         },
         {
          "x": 104,
          "y": 1
         },
         {
          "x": 105,
          "y": 2
         },
         {
          "x": 106,
          "y": 1
         },
         {
          "x": 108,
          "y": 1
         },
         {
          "x": 109,
          "y": 1
         },
         {
          "x": 110,
          "y": 2
         },
         {
          "x": 112,
          "y": 1
         },
         {
          "x": 113,
          "y": 2
         },
         {
          "x": 114,
          "y": 1
         },
         {
          "x": 115,
          "y": 2
         },
         {
          "x": 116,
          "y": 2
         },
         {
          "x": 117,
          "y": 1
         },
         {
          "x": 119,
          "y": 2
         },
         {
          "x": 121,
          "y": 3
         },
         {
          "x": 123,
          "y": 1
         },
         {
          "x": 124,
          "y": 1
         },
         {
          "x": 126,
          "y": 2
         },
         {
          "x": 127,
          "y": 1
         },
         {
          "x": 128,
          "y": 4
         },
         {
          "x": 129,
          "y": 3
         },
         {
          "x": 130,
          "y": 1
         },
         {
          "x": 131,
          "y": 1
         },
         {
          "x": 132,
          "y": 1
         },
         {
          "x": 133,
          "y": 2
         },
         {
          "x": 134,
          "y": 1
         },
         {
          "x": 136,
          "y": 2
         },
         {
          "x": 140,
          "y": 2
         },
         {
          "x": 141,
          "y": 1
         },
         {
          "x": 142,
          "y": 2
         },
         {
          "x": 144,
          "y": 1
         },
         {
          "x": 145,
          "y": 2
         },
         {
          "x": 149,
          "y": 2
         },
         {
          "x": 154,
          "y": 2
         },
         {
          "x": 155,
          "y": 2
         },
         {
          "x": 156,
          "y": 4
         },
         {
          "x": 158,
          "y": 1
         },
         {
          "x": 159,
          "y": 1
         },
         {
          "x": 160,
          "y": 2
         },
         {
          "x": 161,
          "y": 1
         },
         {
          "x": 162,
          "y": 1
         },
         {
          "x": 170,
          "y": 1
         },
         {
          "x": 171,
          "y": 1
         },
         {
          "x": 172,
          "y": 1
         },
         {
          "x": 173,
          "y": 2
         },
         {
          "x": 176,
          "y": 1
         },
         {
          "x": 179,
          "y": 1
         },
         {
          "x": 180,
          "y": 1
         },
         {
          "x": 181,
          "y": 1
         },
         {
          "x": 182,
          "y": 2
         },
         {
          "x": 184,
          "y": 3
         },
         {
          "x": 185,
          "y": 2
         },
         {
          "x": 186,
          "y": 1
         },
         {
          "x": 187,
          "y": 3
         },
         {
          "x": 188,
          "y": 1
         },
         {
          "x": 189,
          "y": 3
         },
         {
          "x": 191,
          "y": 1
         },
         {
          "x": 193,
          "y": 1
         },
         {
          "x": 194,
          "y": 1
         },
         {
          "x": 195,
          "y": 1
         },
         {
          "x": 196,
          "y": 3
         },
         {
          "x": 197,
          "y": 6
         },
         {
          "x": 198,
          "y": 2
         },
         {
          "x": 199,
          "y": 1
         },
         {
          "x": 200,
          "y": 1
         },
         {
          "x": 201,
          "y": 2
         },
         {
          "x": 203,
          "y": 3
         },
         {
          "x": 204,
          "y": 1
         },
         {
          "x": 207,
          "y": 2
         },
         {
          "x": 208,
          "y": 5
         },
         {
          "x": 209,
          "y": 2
         },
         {
          "x": 210,
          "y": 3
         },
         {
          "x": 211,
          "y": 3
         },
         {
          "x": 212,
          "y": 2
         },
         {
          "x": 213,
          "y": 1
         },
         {
          "x": 214,
          "y": 3
         },
         {
          "x": 215,
          "y": 1
         },
         {
          "x": 216,
          "y": 1
         },
         {
          "x": 217,
          "y": 2
         },
         {
          "x": 218,
          "y": 2
         },
         {
          "x": 219,
          "y": 3
         },
         {
          "x": 220,
          "y": 6
         },
         {
          "x": 221,
          "y": 2
         },
         {
          "x": 222,
          "y": 4
         },
         {
          "x": 223,
          "y": 1
         },
         {
          "x": 225,
          "y": 1
         },
         {
          "x": 227,
          "y": 1
         },
         {
          "x": 230,
          "y": 2
         },
         {
          "x": 232,
          "y": 7
         },
         {
          "x": 234,
          "y": 3
         },
         {
          "x": 235,
          "y": 3
         },
         {
          "x": 236,
          "y": 1
         },
         {
          "x": 237,
          "y": 3
         },
         {
          "x": 238,
          "y": 1
         },
         {
          "x": 241,
          "y": 2
         },
         {
          "x": 244,
          "y": 1
         },
         {
          "x": 245,
          "y": 1
         },
         {
          "x": 248,
          "y": 1
         },
         {
          "x": 249,
          "y": 2
         },
         {
          "x": 250,
          "y": 3
         },
         {
          "x": 252,
          "y": 1
         },
         {
          "x": 254,
          "y": 1
         },
         {
          "x": 259,
          "y": 1
         },
         {
          "x": 260,
          "y": 1
         },
         {
          "x": 262,
          "y": 2
         },
         {
          "x": 263,
          "y": 1
         },
         {
          "x": 266,
          "y": 4
         },
         {
          "x": 268,
          "y": 1
         },
         {
          "x": 269,
          "y": 2
         },
         {
          "x": 270,
          "y": 1
         },
         {
          "x": 271,
          "y": 1
         },
         {
          "x": 275,
          "y": 1
         },
         {
          "x": 276,
          "y": 1
         },
         {
          "x": 278,
          "y": 1
         },
         {
          "x": 279,
          "y": 1
         },
         {
          "x": 282,
          "y": 2
         },
         {
          "x": 291,
          "y": 1
         },
         {
          "x": 292,
          "y": 1
         },
         {
          "x": 296,
          "y": 1
         },
         {
          "x": 300,
          "y": 1
         },
         {
          "x": 303,
          "y": 1
         },
         {
          "x": 305,
          "y": 1
         },
         {
          "x": 306,
          "y": 1
         },
         {
          "x": 307,
          "y": 1
         },
         {
          "x": 310,
          "y": 1
         },
         {
          "x": 311,
          "y": 1
         },
         {
          "x": 314,
          "y": 1
         },
         {
          "x": 316,
          "y": 1
         },
         {
          "x": 319,
          "y": 1
         },
         {
          "x": 320,
          "y": 2
         },
         {
          "x": 331,
          "y": 1
         },
         {
          "x": 333,
          "y": 2
         },
         {
          "x": 335,
          "y": 1
         },
         {
          "x": 336,
          "y": 1
         },
         {
          "x": 337,
          "y": 1
         },
         {
          "x": 339,
          "y": 2
         },
         {
          "x": 341,
          "y": 2
         },
         {
          "x": 342,
          "y": 1
         },
         {
          "x": 345,
          "y": 2
         },
         {
          "x": 346,
          "y": 2
         },
         {
          "x": 348,
          "y": 1
         },
         {
          "x": 350,
          "y": 1
         },
         {
          "x": 354,
          "y": 1
         },
         {
          "x": 355,
          "y": 1
         },
         {
          "x": 356,
          "y": 1
         },
         {
          "x": 357,
          "y": 1
         },
         {
          "x": 359,
          "y": 1
         },
         {
          "x": 360,
          "y": 2
         },
         {
          "x": 362,
          "y": 2
         }
        ]
       },
       "encoding": {
        "x": {
         "field": "x",
         "title": null,
         "type": "quantitative"
        },
        "y": {
         "field": "y",
         "title": null,
         "type": "quantitative"
        }
       },
       "height": 600,
       "mark": "bar",
       "title": "Imphal in 2018",
       "width": 1200
      },
      "image/png": "[encoded data removed]",
      "image/svg+xml": [
       "<?xml version=\"1.0\" encoding=\"utf-8\"?>\n",
       "<!DOCTYPE svg PUBLIC \"-//W3C//DTD SVG 1.1//EN\" \"http://www.w3.org/Graphics/SVG/1.1/DTD/svg11.dtd\">\n",
       "<svg xmlns=\"http://www.w3.org/2000/svg\" xmlns:xlink=\"http://www.w3.org/1999/xlink\" version=\"1.1\" class=\"marks\" width=\"1231\" height=\"649\" viewBox=\"0 0 1231 649\"><rect width=\"1231\" height=\"649\" fill=\"white\"/><g fill=\"none\" stroke-miterlimit=\"10\" transform=\"translate(25,27)\"><g class=\"mark-group role-frame root\" role=\"graphics-object\" aria-roledescription=\"group mark container\"><g transform=\"translate(0,0)\"><path class=\"background\" aria-hidden=\"true\" d=\"M0.5,0.5h1200v600h-1200Z\" stroke=\"#ddd\"/><g><g class=\"mark-group role-axis\" aria-hidden=\"true\"><g transform=\"translate(0.5,600.5)\"><path class=\"background\" aria-hidden=\"true\" d=\"M0,0h0v0h0Z\" pointer-events=\"none\"/><g><g class=\"mark-rule role-axis-grid\" pointer-events=\"none\"><line transform=\"translate(0,-600)\" x2=\"0\" y2=\"600\" stroke=\"#ddd\" stroke-width=\"1\" opacity=\"1\"/><line transform=\"translate(30,-600)\" x2=\"0\" y2=\"600\" stroke=\"#ddd\" stroke-width=\"1\" opacity=\"1\"/><line transform=\"translate(60,-600)\" x2=\"0\" y2=\"600\" stroke=\"#ddd\" stroke-width=\"1\" opacity=\"1\"/><line transform=\"translate(90,-600)\" x2=\"0\" y2=\"600\" stroke=\"#ddd\" stroke-width=\"1\" opacity=\"1\"/><line transform=\"translate(120,-600)\" x2=\"0\" y2=\"600\" stroke=\"#ddd\" stroke-width=\"1\" opacity=\"1\"/><line transform=\"translate(150,-600)\" x2=\"0\" y2=\"600\" stroke=\"#ddd\" stroke-width=\"1\" opacity=\"1\"/><line transform=\"translate(180,-600)\" x2=\"0\" y2=\"600\" stroke=\"#ddd\" stroke-width=\"1\" opacity=\"1\"/><line transform=\"translate(210,-600)\" x2=\"0\" y2=\"600\" stroke=\"#ddd\" stroke-width=\"1\" opacity=\"1\"/><line transform=\"translate(240,-600)\" x2=\"0\" y2=\"600\" stroke=\"#ddd\" stroke-width=\"1\" opacity=\"1\"/><line transform=\"translate(270,-600)\" x2=\"0\" y2=\"600\" stroke=\"#ddd\" stroke-width=\"1\" opacity=\"1\"/><line transform=\"translate(300,-600)\" x2=\"0\" y2=\"600\" stroke=\"#ddd\" stroke-width=\"1\" opacity=\"1\"/><line transform=\"translate(330,-600)\" x2=\"0\" y2=\"600\" stroke=\"#ddd\" stroke-width=\"1\" opacity=\"1\"/><line transform=\"translate(360,-600)\" x2=\"0\" y2=\"600\" stroke=\"#ddd\" stroke-width=\"1\" opacity=\"1\"/><line transform=\"translate(390,-600)\" x2=\"0\" y2=\"600\" stroke=\"#ddd\" stroke-width=\"1\" opacity=\"1\"/><line transform=\"translate(420,-600)\" x2=\"0\" y2=\"600\" stroke=\"#ddd\" stroke-width=\"1\" opacity=\"1\"/><line transform=\"translate(450,-600)\" x2=\"0\" y2=\"600\" stroke=\"#ddd\" stroke-width=\"1\" opacity=\"1\"/><line transform=\"translate(480,-600)\" x2=\"0\" y2=\"600\" stroke=\"#ddd\" stroke-width=\"1\" opacity=\"1\"/><line transform=\"translate(510,-600)\" x2=\"0\" y2=\"600\" stroke=\"#ddd\" stroke-width=\"1\" opacity=\"1\"/><line transform=\"translate(540,-600)\" x2=\"0\" y2=\"600\" stroke=\"#ddd\" stroke-width=\"1\" opacity=\"1\"/><line transform=\"translate(570,-600)\" x2=\"0\" y2=\"600\" stroke=\"#ddd\" stroke-width=\"1\" opacity=\"1\"/><line transform=\"translate(600,-600)\" x2=\"0\" y2=\"600\" stroke=\"#ddd\" stroke-width=\"1\" opacity=\"1\"/><line transform=\"translate(630,-600)\" x2=\"0\" y2=\"600\" stroke=\"#ddd\" stroke-width=\"1\" opacity=\"1\"/><line transform=\"translate(660,-600)\" x2=\"0\" y2=\"600\" stroke=\"#ddd\" stroke-width=\"1\" opacity=\"1\"/><line transform=\"translate(690,-600)\" x2=\"0\" y2=\"600\" stroke=\"#ddd\" stroke-width=\"1\" opacity=\"1\"/><line transform=\"translate(720,-600)\" x2=\"0\" y2=\"600\" stroke=\"#ddd\" stroke-width=\"1\" opacity=\"1\"/><line transform=\"translate(750,-600)\" x2=\"0\" y2=\"600\" stroke=\"#ddd\" stroke-width=\"1\" opacity=\"1\"/><line transform=\"translate(780,-600)\" x2=\"0\" y2=\"600\" stroke=\"#ddd\" stroke-width=\"1\" opacity=\"1\"/><line transform=\"translate(810,-600)\" x2=\"0\" y2=\"600\" stroke=\"#ddd\" stroke-width=\"1\" opacity=\"1\"/><line transform=\"translate(840,-600)\" x2=\"0\" y2=\"600\" stroke=\"#ddd\" stroke-width=\"1\" opacity=\"1\"/><line transform=\"translate(870,-600)\" x2=\"0\" y2=\"600\" stroke=\"#ddd\" stroke-width=\"1\" opacity=\"1\"/><line transform=\"translate(900,-600)\" x2=\"0\" y2=\"600\" stroke=\"#ddd\" stroke-width=\"1\" opacity=\"1\"/><line transform=\"translate(930,-600)\" x2=\"0\" y2=\"600\" stroke=\"#ddd\" stroke-width=\"1\" opacity=\"1\"/><line transform=\"translate(960,-600)\" x2=\"0\" y2=\"600\" stroke=\"#ddd\" stroke-width=\"1\" opacity=\"1\"/><line transform=\"translate(990,-600)\" x2=\"0\" y2=\"600\" stroke=\"#ddd\" stroke-width=\"1\" opacity=\"1\"/><line transform=\"translate(1020,-600)\" x2=\"0\" y2=\"600\" stroke=\"#ddd\" stroke-width=\"1\" opacity=\"1\"/><line transform=\"translate(1050,-600)\" x2=\"0\" y2=\"600\" stroke=\"#ddd\" stroke-width=\"1\" opacity=\"1\"/><line transform=\"translate(1080,-600)\" x2=\"0\" y2=\"600\" stroke=\"#ddd\" stroke-width=\"1\" opacity=\"1\"/><line transform=\"translate(1110,-600)\" x2=\"0\" y2=\"600\" stroke=\"#ddd\" stroke-width=\"1\" opacity=\"1\"/><line transform=\"translate(1140,-600)\" x2=\"0\" y2=\"600\" stroke=\"#ddd\" stroke-width=\"1\" opacity=\"1\"/><line transform=\"translate(1170,-600)\" x2=\"0\" y2=\"600\" stroke=\"#ddd\" stroke-width=\"1\" opacity=\"1\"/><line transform=\"translate(1200,-600)\" x2=\"0\" y2=\"600\" stroke=\"#ddd\" stroke-width=\"1\" opacity=\"1\"/></g></g><path class=\"foreground\" aria-hidden=\"true\" d=\"\" pointer-events=\"none\" display=\"none\"/></g></g><g class=\"mark-group role-axis\" aria-hidden=\"true\"><g transform=\"translate(0.5,0.5)\"><path class=\"background\" aria-hidden=\"true\" d=\"M0,0h0v0h0Z\" pointer-events=\"none\"/><g><g class=\"mark-rule role-axis-grid\" pointer-events=\"none\"><line transform=\"translate(0,600)\" x2=\"1200\" y2=\"0\" stroke=\"#ddd\" stroke-width=\"1\" opacity=\"1\"/><line transform=\"translate(0,557)\" x2=\"1200\" y2=\"0\" stroke=\"#ddd\" stroke-width=\"1\" opacity=\"1\"/><line transform=\"translate(0,514)\" x2=\"1200\" y2=\"0\" stroke=\"#ddd\" stroke-width=\"1\" opacity=\"1\"/><line transform=\"translate(0,471)\" x2=\"1200\" y2=\"0\" stroke=\"#ddd\" stroke-width=\"1\" opacity=\"1\"/><line transform=\"translate(0,429)\" x2=\"1200\" y2=\"0\" stroke=\"#ddd\" stroke-width=\"1\" opacity=\"1\"/><line transform=\"translate(0,386)\" x2=\"1200\" y2=\"0\" stroke=\"#ddd\" stroke-width=\"1\" opacity=\"1\"/><line transform=\"translate(0,343)\" x2=\"1200\" y2=\"0\" stroke=\"#ddd\" stroke-width=\"1\" opacity=\"1\"/><line transform=\"translate(0,300)\" x2=\"1200\" y2=\"0\" stroke=\"#ddd\" stroke-width=\"1\" opacity=\"1\"/><line transform=\"translate(0,257)\" x2=\"1200\" y2=\"0\" stroke=\"#ddd\" stroke-width=\"1\" opacity=\"1\"/><line transform=\"translate(0,214)\" x2=\"1200\" y2=\"0\" stroke=\"#ddd\" stroke-width=\"1\" opacity=\"1\"/><line transform=\"translate(0,171)\" x2=\"1200\" y2=\"0\" stroke=\"#ddd\" stroke-width=\"1\" opacity=\"1\"/><line transform=\"translate(0,129)\" x2=\"1200\" y2=\"0\" stroke=\"#ddd\" stroke-width=\"1\" opacity=\"1\"/><line transform=\"translate(0,86)\" x2=\"1200\" y2=\"0\" stroke=\"#ddd\" stroke-width=\"1\" opacity=\"1\"/><line transform=\"translate(0,43)\" x2=\"1200\" y2=\"0\" stroke=\"#ddd\" stroke-width=\"1\" opacity=\"1\"/><line transform=\"translate(0,0)\" x2=\"1200\" y2=\"0\" stroke=\"#ddd\" stroke-width=\"1\" opacity=\"1\"/></g></g><path class=\"foreground\" aria-hidden=\"true\" d=\"\" pointer-events=\"none\" display=\"none\"/></g></g><g class=\"mark-group role-axis\" role=\"graphics-symbol\" aria-roledescription=\"axis\" aria-label=\"X-axis for a linear scale with values from 0 to 400\"><g transform=\"translate(0.5,600.5)\"><path class=\"background\" aria-hidden=\"true\" d=\"M0,0h0v0h0Z\" pointer-events=\"none\"/><g><g class=\"mark-rule role-axis-tick\" pointer-events=\"none\"><line transform=\"translate(0,0)\" x2=\"0\" y2=\"5\" stroke=\"#888\" stroke-width=\"1\" opacity=\"1\"/><line transform=\"translate(30,0)\" x2=\"0\" y2=\"5\" stroke=\"#888\" stroke-width=\"1\" opacity=\"1\"/><line transform=\"translate(60,0)\" x2=\"0\" y2=\"5\" stroke=\"#888\" stroke-width=\"1\" opacity=\"1\"/><line transform=\"translate(90,0)\" x2=\"0\" y2=\"5\" stroke=\"#888\" stroke-width=\"1\" opacity=\"1\"/><line transform=\"translate(120,0)\" x2=\"0\" y2=\"5\" stroke=\"#888\" stroke-width=\"1\" opacity=\"1\"/><line transform=\"translate(150,0)\" x2=\"0\" y2=\"5\" stroke=\"#888\" stroke-width=\"1\" opacity=\"1\"/><line transform=\"translate(180,0)\" x2=\"0\" y2=\"5\" stroke=\"#888\" stroke-width=\"1\" opacity=\"1\"/><line transform=\"translate(210,0)\" x2=\"0\" y2=\"5\" stroke=\"#888\" stroke-width=\"1\" opacity=\"1\"/><line transform=\"translate(240,0)\" x2=\"0\" y2=\"5\" stroke=\"#888\" stroke-width=\"1\" opacity=\"1\"/><line transform=\"translate(270,0)\" x2=\"0\" y2=\"5\" stroke=\"#888\" stroke-width=\"1\" opacity=\"1\"/><line transform=\"translate(300,0)\" x2=\"0\" y2=\"5\" stroke=\"#888\" stroke-width=\"1\" opacity=\"1\"/><line transform=\"translate(330,0)\" x2=\"0\" y2=\"5\" stroke=\"#888\" stroke-width=\"1\" opacity=\"1\"/><line transform=\"translate(360,0)\" x2=\"0\" y2=\"5\" stroke=\"#888\" stroke-width=\"1\" opacity=\"1\"/><line transform=\"translate(390,0)\" x2=\"0\" y2=\"5\" stroke=\"#888\" stroke-width=\"1\" opacity=\"1\"/><line transform=\"translate(420,0)\" x2=\"0\" y2=\"5\" stroke=\"#888\" stroke-width=\"1\" opacity=\"1\"/><line transform=\"translate(450,0)\" x2=\"0\" y2=\"5\" stroke=\"#888\" stroke-width=\"1\" opacity=\"1\"/><line transform=\"translate(480,0)\" x2=\"0\" y2=\"5\" stroke=\"#888\" stroke-width=\"1\" opacity=\"1\"/><line transform=\"translate(510,0)\" x2=\"0\" y2=\"5\" stroke=\"#888\" stroke-width=\"1\" opacity=\"1\"/><line transform=\"translate(540,0)\" x2=\"0\" y2=\"5\" stroke=\"#888\" stroke-width=\"1\" opacity=\"1\"/><line transform=\"translate(570,0)\" x2=\"0\" y2=\"5\" stroke=\"#888\" stroke-width=\"1\" opacity=\"1\"/><line transform=\"translate(600,0)\" x2=\"0\" y2=\"5\" stroke=\"#888\" stroke-width=\"1\" opacity=\"1\"/><line transform=\"translate(630,0)\" x2=\"0\" y2=\"5\" stroke=\"#888\" stroke-width=\"1\" opacity=\"1\"/><line transform=\"translate(660,0)\" x2=\"0\" y2=\"5\" stroke=\"#888\" stroke-width=\"1\" opacity=\"1\"/><line transform=\"translate(690,0)\" x2=\"0\" y2=\"5\" stroke=\"#888\" stroke-width=\"1\" opacity=\"1\"/><line transform=\"translate(720,0)\" x2=\"0\" y2=\"5\" stroke=\"#888\" stroke-width=\"1\" opacity=\"1\"/><line transform=\"translate(750,0)\" x2=\"0\" y2=\"5\" stroke=\"#888\" stroke-width=\"1\" opacity=\"1\"/><line transform=\"translate(780,0)\" x2=\"0\" y2=\"5\" stroke=\"#888\" stroke-width=\"1\" opacity=\"1\"/><line transform=\"translate(810,0)\" x2=\"0\" y2=\"5\" stroke=\"#888\" stroke-width=\"1\" opacity=\"1\"/><line transform=\"translate(840,0)\" x2=\"0\" y2=\"5\" stroke=\"#888\" stroke-width=\"1\" opacity=\"1\"/><line transform=\"translate(870,0)\" x2=\"0\" y2=\"5\" stroke=\"#888\" stroke-width=\"1\" opacity=\"1\"/><line transform=\"translate(900,0)\" x2=\"0\" y2=\"5\" stroke=\"#888\" stroke-width=\"1\" opacity=\"1\"/><line transform=\"translate(930,0)\" x2=\"0\" y2=\"5\" stroke=\"#888\" stroke-width=\"1\" opacity=\"1\"/><line transform=\"translate(960,0)\" x2=\"0\" y2=\"5\" stroke=\"#888\" stroke-width=\"1\" opacity=\"1\"/><line transform=\"translate(990,0)\" x2=\"0\" y2=\"5\" stroke=\"#888\" stroke-width=\"1\" opacity=\"1\"/><line transform=\"translate(1020,0)\" x2=\"0\" y2=\"5\" stroke=\"#888\" stroke-width=\"1\" opacity=\"1\"/><line transform=\"translate(1050,0)\" x2=\"0\" y2=\"5\" stroke=\"#888\" stroke-width=\"1\" opacity=\"1\"/><line transform=\"translate(1080,0)\" x2=\"0\" y2=\"5\" stroke=\"#888\" stroke-width=\"1\" opacity=\"1\"/><line transform=\"translate(1110,0)\" x2=\"0\" y2=\"5\" stroke=\"#888\" stroke-width=\"1\" opacity=\"1\"/><line transform=\"translate(1140,0)\" x2=\"0\" y2=\"5\" stroke=\"#888\" stroke-width=\"1\" opacity=\"1\"/><line transform=\"translate(1170,0)\" x2=\"0\" y2=\"5\" stroke=\"#888\" stroke-width=\"1\" opacity=\"1\"/><line transform=\"translate(1200,0)\" x2=\"0\" y2=\"5\" stroke=\"#888\" stroke-width=\"1\" opacity=\"1\"/></g><g class=\"mark-text role-axis-label\" pointer-events=\"none\"><text text-anchor=\"start\" transform=\"translate(0,15)\" font-family=\"sans-serif\" font-size=\"10px\" fill=\"#000\" opacity=\"1\">0</text><text text-anchor=\"middle\" transform=\"translate(30,15)\" font-family=\"sans-serif\" font-size=\"10px\" fill=\"#000\" opacity=\"1\">10</text><text text-anchor=\"middle\" transform=\"translate(60,15)\" font-family=\"sans-serif\" font-size=\"10px\" fill=\"#000\" opacity=\"1\">20</text><text text-anchor=\"middle\" transform=\"translate(90,15)\" font-family=\"sans-serif\" font-size=\"10px\" fill=\"#000\" opacity=\"1\">30</text><text text-anchor=\"middle\" transform=\"translate(120,15)\" font-family=\"sans-serif\" font-size=\"10px\" fill=\"#000\" opacity=\"1\">40</text><text text-anchor=\"middle\" transform=\"translate(150,15)\" font-family=\"sans-serif\" font-size=\"10px\" fill=\"#000\" opacity=\"1\">50</text><text text-anchor=\"middle\" transform=\"translate(180,15)\" font-family=\"sans-serif\" font-size=\"10px\" fill=\"#000\" opacity=\"1\">60</text><text text-anchor=\"middle\" transform=\"translate(210,15)\" font-family=\"sans-serif\" font-size=\"10px\" fill=\"#000\" opacity=\"1\">70</text><text text-anchor=\"middle\" transform=\"translate(240,15)\" font-family=\"sans-serif\" font-size=\"10px\" fill=\"#000\" opacity=\"1\">80</text><text text-anchor=\"middle\" transform=\"translate(270,15)\" font-family=\"sans-serif\" font-size=\"10px\" fill=\"#000\" opacity=\"1\">90</text><text text-anchor=\"middle\" transform=\"translate(300,15)\" font-family=\"sans-serif\" font-size=\"10px\" fill=\"#000\" opacity=\"1\">100</text><text text-anchor=\"middle\" transform=\"translate(330,15)\" font-family=\"sans-serif\" font-size=\"10px\" fill=\"#000\" opacity=\"1\">110</text><text text-anchor=\"middle\" transform=\"translate(360,15)\" font-family=\"sans-serif\" font-size=\"10px\" fill=\"#000\" opacity=\"1\">120</text><text text-anchor=\"middle\" transform=\"translate(390,15)\" font-family=\"sans-serif\" font-size=\"10px\" fill=\"#000\" opacity=\"1\">130</text><text text-anchor=\"middle\" transform=\"translate(420,15)\" font-family=\"sans-serif\" font-size=\"10px\" fill=\"#000\" opacity=\"1\">140</text><text text-anchor=\"middle\" transform=\"translate(450,15)\" font-family=\"sans-serif\" font-size=\"10px\" fill=\"#000\" opacity=\"1\">150</text><text text-anchor=\"middle\" transform=\"translate(480,15)\" font-family=\"sans-serif\" font-size=\"10px\" fill=\"#000\" opacity=\"1\">160</text><text text-anchor=\"middle\" transform=\"translate(510,15)\" font-family=\"sans-serif\" font-size=\"10px\" fill=\"#000\" opacity=\"1\">170</text><text text-anchor=\"middle\" transform=\"translate(540,15)\" font-family=\"sans-serif\" font-size=\"10px\" fill=\"#000\" opacity=\"1\">180</text><text text-anchor=\"middle\" transform=\"translate(570,15)\" font-family=\"sans-serif\" font-size=\"10px\" fill=\"#000\" opacity=\"1\">190</text><text text-anchor=\"middle\" transform=\"translate(600,15)\" font-family=\"sans-serif\" font-size=\"10px\" fill=\"#000\" opacity=\"1\">200</text><text text-anchor=\"middle\" transform=\"translate(630,15)\" font-family=\"sans-serif\" font-size=\"10px\" fill=\"#000\" opacity=\"1\">210</text><text text-anchor=\"middle\" transform=\"translate(660,15)\" font-family=\"sans-serif\" font-size=\"10px\" fill=\"#000\" opacity=\"1\">220</text><text text-anchor=\"middle\" transform=\"translate(690,15)\" font-family=\"sans-serif\" font-size=\"10px\" fill=\"#000\" opacity=\"1\">230</text><text text-anchor=\"middle\" transform=\"translate(720,15)\" font-family=\"sans-serif\" font-size=\"10px\" fill=\"#000\" opacity=\"1\">240</text><text text-anchor=\"middle\" transform=\"translate(750,15)\" font-family=\"sans-serif\" font-size=\"10px\" fill=\"#000\" opacity=\"1\">250</text><text text-anchor=\"middle\" transform=\"translate(780,15)\" font-family=\"sans-serif\" font-size=\"10px\" fill=\"#000\" opacity=\"1\">260</text><text text-anchor=\"middle\" transform=\"translate(810,15)\" font-family=\"sans-serif\" font-size=\"10px\" fill=\"#000\" opacity=\"1\">270</text><text text-anchor=\"middle\" transform=\"translate(840,15)\" font-family=\"sans-serif\" font-size=\"10px\" fill=\"#000\" opacity=\"1\">280</text><text text-anchor=\"middle\" transform=\"translate(870,15)\" font-family=\"sans-serif\" font-size=\"10px\" fill=\"#000\" opacity=\"1\">290</text><text text-anchor=\"middle\" transform=\"translate(900,15)\" font-family=\"sans-serif\" font-size=\"10px\" fill=\"#000\" opacity=\"1\">300</text><text text-anchor=\"middle\" transform=\"translate(930,15)\" font-family=\"sans-serif\" font-size=\"10px\" fill=\"#000\" opacity=\"1\">310</text><text text-anchor=\"middle\" transform=\"translate(960,15)\" font-family=\"sans-serif\" font-size=\"10px\" fill=\"#000\" opacity=\"1\">320</text><text text-anchor=\"middle\" transform=\"translate(990,15)\" font-family=\"sans-serif\" font-size=\"10px\" fill=\"#000\" opacity=\"1\">330</text><text text-anchor=\"middle\" transform=\"translate(1020,15)\" font-family=\"sans-serif\" font-size=\"10px\" fill=\"#000\" opacity=\"1\">340</text><text text-anchor=\"middle\" transform=\"translate(1050,15)\" font-family=\"sans-serif\" font-size=\"10px\" fill=\"#000\" opacity=\"1\">350</text><text text-anchor=\"middle\" transform=\"translate(1080,15)\" font-family=\"sans-serif\" font-size=\"10px\" fill=\"#000\" opacity=\"1\">360</text><text text-anchor=\"middle\" transform=\"translate(1110,15)\" font-family=\"sans-serif\" font-size=\"10px\" fill=\"#000\" opacity=\"1\">370</text><text text-anchor=\"middle\" transform=\"translate(1140,15)\" font-family=\"sans-serif\" font-size=\"10px\" fill=\"#000\" opacity=\"1\">380</text><text text-anchor=\"middle\" transform=\"translate(1170,15)\" font-family=\"sans-serif\" font-size=\"10px\" fill=\"#000\" opacity=\"1\">390</text><text text-anchor=\"end\" transform=\"translate(1200,15)\" font-family=\"sans-serif\" font-size=\"10px\" fill=\"#000\" opacity=\"1\">400</text></g><g class=\"mark-rule role-axis-domain\" pointer-events=\"none\"><line transform=\"translate(0,0)\" x2=\"1200\" y2=\"0\" stroke=\"#888\" stroke-width=\"1\" opacity=\"1\"/></g></g><path class=\"foreground\" aria-hidden=\"true\" d=\"\" pointer-events=\"none\" display=\"none\"/></g></g><g class=\"mark-group role-axis\" role=\"graphics-symbol\" aria-roledescription=\"axis\" aria-label=\"Y-axis for a linear scale with values from 0 to 7\"><g transform=\"translate(0.5,0.5)\"><path class=\"background\" aria-hidden=\"true\" d=\"M0,0h0v0h0Z\" pointer-events=\"none\"/><g><g class=\"mark-rule role-axis-tick\" pointer-events=\"none\"><line transform=\"translate(0,600)\" x2=\"-5\" y2=\"0\" stroke=\"#888\" stroke-width=\"1\" opacity=\"1\"/><line transform=\"translate(0,557)\" x2=\"-5\" y2=\"0\" stroke=\"#888\" stroke-width=\"1\" opacity=\"1\"/><line transform=\"translate(0,514)\" x2=\"-5\" y2=\"0\" stroke=\"#888\" stroke-width=\"1\" opacity=\"1\"/><line transform=\"translate(0,471)\" x2=\"-5\" y2=\"0\" stroke=\"#888\" stroke-width=\"1\" opacity=\"1\"/><line transform=\"translate(0,429)\" x2=\"-5\" y2=\"0\" stroke=\"#888\" stroke-width=\"1\" opacity=\"1\"/><line transform=\"translate(0,386)\" x2=\"-5\" y2=\"0\" stroke=\"#888\" stroke-width=\"1\" opacity=\"1\"/><line transform=\"translate(0,343)\" x2=\"-5\" y2=\"0\" stroke=\"#888\" stroke-width=\"1\" opacity=\"1\"/><line transform=\"translate(0,300)\" x2=\"-5\" y2=\"0\" stroke=\"#888\" stroke-width=\"1\" opacity=\"1\"/><line transform=\"translate(0,257)\" x2=\"-5\" y2=\"0\" stroke=\"#888\" stroke-width=\"1\" opacity=\"1\"/><line transform=\"translate(0,214)\" x2=\"-5\" y2=\"0\" stroke=\"#888\" stroke-width=\"1\" opacity=\"1\"/><line transform=\"translate(0,171)\" x2=\"-5\" y2=\"0\" stroke=\"#888\" stroke-width=\"1\" opacity=\"1\"/><line transform=\"translate(0,129)\" x2=\"-5\" y2=\"0\" stroke=\"#888\" stroke-width=\"1\" opacity=\"1\"/><line transform=\"translate(0,86)\" x2=\"-5\" y2=\"0\" stroke=\"#888\" stroke-width=\"1\" opacity=\"1\"/><line transform=\"translate(0,43)\" x2=\"-5\" y2=\"0\" stroke=\"#888\" stroke-width=\"1\" opacity=\"1\"/><line transform=\"translate(0,0)\" x2=\"-5\" y2=\"0\" stroke=\"#888\" stroke-width=\"1\" opacity=\"1\"/></g><g class=\"mark-text role-axis-label\" pointer-events=\"none\"><text text-anchor=\"end\" transform=\"translate(-7,603)\" font-family=\"sans-serif\" font-size=\"10px\" fill=\"#000\" opacity=\"1\">0.0</text><text text-anchor=\"end\" transform=\"translate(-7,560.1428571428571)\" font-family=\"sans-serif\" font-size=\"10px\" fill=\"#000\" opacity=\"1\">0.5</text><text text-anchor=\"end\" transform=\"translate(-7,517.2857142857143)\" font-family=\"sans-serif\" font-size=\"10px\" fill=\"#000\" opacity=\"1\">1.0</text><text text-anchor=\"end\" transform=\"translate(-7,474.42857142857144)\" font-family=\"sans-serif\" font-size=\"10px\" fill=\"#000\" opacity=\"1\">1.5</text><text text-anchor=\"end\" transform=\"translate(-7,431.57142857142856)\" font-family=\"sans-serif\" font-size=\"10px\" fill=\"#000\" opacity=\"1\">2.0</text><text text-anchor=\"end\" transform=\"translate(-7,388.71428571428567)\" font-family=\"sans-serif\" font-size=\"10px\" fill=\"#000\" opacity=\"1\">2.5</text><text text-anchor=\"end\" transform=\"translate(-7,345.85714285714283)\" font-family=\"sans-serif\" font-size=\"10px\" fill=\"#000\" opacity=\"1\">3.0</text><text text-anchor=\"end\" transform=\"translate(-7,303)\" font-family=\"sans-serif\" font-size=\"10px\" fill=\"#000\" opacity=\"1\">3.5</text><text text-anchor=\"end\" transform=\"translate(-7,260.14285714285717)\" font-family=\"sans-serif\" font-size=\"10px\" fill=\"#000\" opacity=\"1\">4.0</text><text text-anchor=\"end\" transform=\"translate(-7,217.28571428571425)\" font-family=\"sans-serif\" font-size=\"10px\" fill=\"#000\" opacity=\"1\">4.5</text><text text-anchor=\"end\" transform=\"translate(-7,174.42857142857142)\" font-family=\"sans-serif\" font-size=\"10px\" fill=\"#000\" opacity=\"1\">5.0</text><text text-anchor=\"end\" transform=\"translate(-7,131.57142857142858)\" font-family=\"sans-serif\" font-size=\"10px\" fill=\"#000\" opacity=\"1\">5.5</text><text text-anchor=\"end\" transform=\"translate(-7,88.71428571428574)\" font-family=\"sans-serif\" font-size=\"10px\" fill=\"#000\" opacity=\"1\">6.0</text><text text-anchor=\"end\" transform=\"translate(-7,45.85714285714284)\" font-family=\"sans-serif\" font-size=\"10px\" fill=\"#000\" opacity=\"1\">6.5</text><text text-anchor=\"end\" transform=\"translate(-7,3)\" font-family=\"sans-serif\" font-size=\"10px\" fill=\"#000\" opacity=\"1\">7.0</text></g><g class=\"mark-rule role-axis-domain\" pointer-events=\"none\"><line transform=\"translate(0,600)\" x2=\"0\" y2=\"-600\" stroke=\"#888\" stroke-width=\"1\" opacity=\"1\"/></g></g><path class=\"foreground\" aria-hidden=\"true\" d=\"\" pointer-events=\"none\" display=\"none\"/></g></g><g class=\"mark-rect role-mark marks\" role=\"graphics-object\" aria-roledescription=\"rect mark container\"><path aria-label=\"x: 8; y: 1\" role=\"graphics-symbol\" aria-roledescription=\"bar\" d=\"M21.5,514.2857142857143h5v85.71428571428567h-5Z\" fill=\"#4c78a8\"/><path aria-label=\"x: 10; y: 1\" role=\"graphics-symbol\" aria-roledescription=\"bar\" d=\"M27.5,514.2857142857143h5v85.71428571428567h-5Z\" fill=\"#4c78a8\"/><path aria-label=\"x: 14; y: 1\" role=\"graphics-symbol\" aria-roledescription=\"bar\" d=\"M39.50000000000001,514.2857142857143h5v85.71428571428567h-5Z\" fill=\"#4c78a8\"/><path aria-label=\"x: 15; y: 2\" role=\"graphics-symbol\" aria-roledescription=\"bar\" d=\"M42.5,428.57142857142856h5v171.42857142857144h-5Z\" fill=\"#4c78a8\"/><path aria-label=\"x: 16; y: 1\" role=\"graphics-symbol\" aria-roledescription=\"bar\" d=\"M45.5,514.2857142857143h5v85.71428571428567h-5Z\" fill=\"#4c78a8\"/><path aria-label=\"x: 18; y: 1\" role=\"graphics-symbol\" aria-roledescription=\"bar\" d=\"M51.5,514.2857142857143h5v85.71428571428567h-5Z\" fill=\"#4c78a8\"/><path aria-label=\"x: 20; y: 2\" role=\"graphics-symbol\" aria-roledescription=\"bar\" d=\"M57.5,428.57142857142856h5v171.42857142857144h-5Z\" fill=\"#4c78a8\"/><path aria-label=\"x: 22; y: 1\" role=\"graphics-symbol\" aria-roledescription=\"bar\" d=\"M63.5,514.2857142857143h5v85.71428571428567h-5Z\" fill=\"#4c78a8\"/><path aria-label=\"x: 26; y: 2\" role=\"graphics-symbol\" aria-roledescription=\"bar\" d=\"M75.5,428.57142857142856h5v171.42857142857144h-5Z\" fill=\"#4c78a8\"/><path aria-label=\"x: 27; y: 2\" role=\"graphics-symbol\" aria-roledescription=\"bar\" d=\"M78.5,428.57142857142856h5v171.42857142857144h-5Z\" fill=\"#4c78a8\"/><path aria-label=\"x: 29; y: 1\" role=\"graphics-symbol\" aria-roledescription=\"bar\" d=\"M84.5,514.2857142857143h5v85.71428571428567h-5Z\" fill=\"#4c78a8\"/><path aria-label=\"x: 30; y: 2\" role=\"graphics-symbol\" aria-roledescription=\"bar\" d=\"M87.5,428.57142857142856h5v171.42857142857144h-5Z\" fill=\"#4c78a8\"/><path aria-label=\"x: 31; y: 1\" role=\"graphics-symbol\" aria-roledescription=\"bar\" d=\"M90.5,514.2857142857143h5v85.71428571428567h-5Z\" fill=\"#4c78a8\"/><path aria-label=\"x: 35; y: 3\" role=\"graphics-symbol\" aria-roledescription=\"bar\" d=\"M102.5,342.85714285714283h5v257.14285714285717h-5Z\" fill=\"#4c78a8\"/><path aria-label=\"x: 36; y: 3\" role=\"graphics-symbol\" aria-roledescription=\"bar\" d=\"M105.5,342.85714285714283h5v257.14285714285717h-5Z\" fill=\"#4c78a8\"/><path aria-label=\"x: 37; y: 1\" role=\"graphics-symbol\" aria-roledescription=\"bar\" d=\"M108.5,514.2857142857143h5v85.71428571428567h-5Z\" fill=\"#4c78a8\"/><path aria-label=\"x: 57; y: 1\" role=\"graphics-symbol\" aria-roledescription=\"bar\" d=\"M168.49999999999997,514.2857142857143h5v85.71428571428567h-5Z\" fill=\"#4c78a8\"/><path aria-label=\"x: 58; y: 1\" role=\"graphics-symbol\" aria-roledescription=\"bar\" d=\"M171.5,514.2857142857143h5v85.71428571428567h-5Z\" fill=\"#4c78a8\"/><path aria-label=\"x: 64; y: 2\" role=\"graphics-symbol\" aria-roledescription=\"bar\" d=\"M189.5,428.57142857142856h5v171.42857142857144h-5Z\" fill=\"#4c78a8\"/><path aria-label=\"x: 65; y: 1\" role=\"graphics-symbol\" aria-roledescription=\"bar\" d=\"M192.5,514.2857142857143h5v85.71428571428567h-5Z\" fill=\"#4c78a8\"/><path aria-label=\"x: 66; y: 2\" role=\"graphics-symbol\" aria-roledescription=\"bar\" d=\"M195.5,428.57142857142856h5v171.42857142857144h-5Z\" fill=\"#4c78a8\"/><path aria-label=\"x: 70; y: 2\" role=\"graphics-symbol\" aria-roledescription=\"bar\" d=\"M207.5,428.57142857142856h5v171.42857142857144h-5Z\" fill=\"#4c78a8\"/><path aria-label=\"x: 72; y: 1\" role=\"graphics-symbol\" aria-roledescription=\"bar\" d=\"M213.5,514.2857142857143h5v85.71428571428567h-5Z\" fill=\"#4c78a8\"/><path aria-label=\"x: 78; y: 1\" role=\"graphics-symbol\" aria-roledescription=\"bar\" d=\"M231.5,514.2857142857143h5v85.71428571428567h-5Z\" fill=\"#4c78a8\"/><path aria-label=\"x: 80; y: 1\" role=\"graphics-symbol\" aria-roledescription=\"bar\" d=\"M237.5,514.2857142857143h5v85.71428571428567h-5Z\" fill=\"#4c78a8\"/><path aria-label=\"x: 81; y: 1\" role=\"graphics-symbol\" aria-roledescription=\"bar\" d=\"M240.50000000000003,514.2857142857143h5v85.71428571428567h-5Z\" fill=\"#4c78a8\"/><path aria-label=\"x: 91; y: 1\" role=\"graphics-symbol\" aria-roledescription=\"bar\" d=\"M270.5,514.2857142857143h5v85.71428571428567h-5Z\" fill=\"#4c78a8\"/><path aria-label=\"x: 94; y: 1\" role=\"graphics-symbol\" aria-roledescription=\"bar\" d=\"M279.5,514.2857142857143h5v85.71428571428567h-5Z\" fill=\"#4c78a8\"/><path aria-label=\"x: 96; y: 1\" role=\"graphics-symbol\" aria-roledescription=\"bar\" d=\"M285.5,514.2857142857143h5v85.71428571428567h-5Z\" fill=\"#4c78a8\"/><path aria-label=\"x: 97; y: 2\" role=\"graphics-symbol\" aria-roledescription=\"bar\" d=\"M288.5,428.57142857142856h5v171.42857142857144h-5Z\" fill=\"#4c78a8\"/><path aria-label=\"x: 98; y: 2\" role=\"graphics-symbol\" aria-roledescription=\"bar\" d=\"M291.5,428.57142857142856h5v171.42857142857144h-5Z\" fill=\"#4c78a8\"/><path aria-label=\"x: 99; y: 2\" role=\"graphics-symbol\" aria-roledescription=\"bar\" d=\"M294.5,428.57142857142856h5v171.42857142857144h-5Z\" fill=\"#4c78a8\"/><path aria-label=\"x: 101; y: 2\" role=\"graphics-symbol\" aria-roledescription=\"bar\" d=\"M300.5,428.57142857142856h5v171.42857142857144h-5Z\" fill=\"#4c78a8\"/><path aria-label=\"x: 102; y: 3\" role=\"graphics-symbol\" aria-roledescription=\"bar\" d=\"M303.5,342.85714285714283h5v257.14285714285717h-5Z\" fill=\"#4c78a8\"/><path aria-label=\"x: 104; y: 1\" role=\"graphics-symbol\" aria-roledescription=\"bar\" d=\"M309.5,514.2857142857143h5v85.71428571428567h-5Z\" fill=\"#4c78a8\"/><path aria-label=\"x: 105; y: 2\" role=\"graphics-symbol\" aria-roledescription=\"bar\" d=\"M312.5,428.57142857142856h5v171.42857142857144h-5Z\" fill=\"#4c78a8\"/><path aria-label=\"x: 106; y: 1\" role=\"graphics-symbol\" aria-roledescription=\"bar\" d=\"M315.5,514.2857142857143h5v85.71428571428567h-5Z\" fill=\"#4c78a8\"/><path aria-label=\"x: 108; y: 1\" role=\"graphics-symbol\" aria-roledescription=\"bar\" d=\"M321.5,514.2857142857143h5v85.71428571428567h-5Z\" fill=\"#4c78a8\"/><path aria-label=\"x: 109; y: 1\" role=\"graphics-symbol\" aria-roledescription=\"bar\" d=\"M324.5,514.2857142857143h5v85.71428571428567h-5Z\" fill=\"#4c78a8\"/><path aria-label=\"x: 110; y: 2\" role=\"graphics-symbol\" aria-roledescription=\"bar\" d=\"M327.5,428.57142857142856h5v171.42857142857144h-5Z\" fill=\"#4c78a8\"/><path aria-label=\"x: 112; y: 1\" role=\"graphics-symbol\" aria-roledescription=\"bar\" d=\"M333.50000000000006,514.2857142857143h5v85.71428571428567h-5Z\" fill=\"#4c78a8\"/><path aria-label=\"x: 113; y: 2\" role=\"graphics-symbol\" aria-roledescription=\"bar\" d=\"M336.49999999999994,428.57142857142856h5v171.42857142857144h-5Z\" fill=\"#4c78a8\"/><path aria-label=\"x: 114; y: 1\" role=\"graphics-symbol\" aria-roledescription=\"bar\" d=\"M339.49999999999994,514.2857142857143h5v85.71428571428567h-5Z\" fill=\"#4c78a8\"/><path aria-label=\"x: 115; y: 2\" role=\"graphics-symbol\" aria-roledescription=\"bar\" d=\"M342.5,428.57142857142856h5v171.42857142857144h-5Z\" fill=\"#4c78a8\"/><path aria-label=\"x: 116; y: 2\" role=\"graphics-symbol\" aria-roledescription=\"bar\" d=\"M345.5,428.57142857142856h5v171.42857142857144h-5Z\" fill=\"#4c78a8\"/><path aria-label=\"x: 117; y: 1\" role=\"graphics-symbol\" aria-roledescription=\"bar\" d=\"M348.5,514.2857142857143h5v85.71428571428567h-5Z\" fill=\"#4c78a8\"/><path aria-label=\"x: 119; y: 2\" role=\"graphics-symbol\" aria-roledescription=\"bar\" d=\"M354.5,428.57142857142856h5v171.42857142857144h-5Z\" fill=\"#4c78a8\"/><path aria-label=\"x: 121; y: 3\" role=\"graphics-symbol\" aria-roledescription=\"bar\" d=\"M360.5,342.85714285714283h5v257.14285714285717h-5Z\" fill=\"#4c78a8\"/><path aria-label=\"x: 123; y: 1\" role=\"graphics-symbol\" aria-roledescription=\"bar\" d=\"M366.5,514.2857142857143h5v85.71428571428567h-5Z\" fill=\"#4c78a8\"/><path aria-label=\"x: 124; y: 1\" role=\"graphics-symbol\" aria-roledescription=\"bar\" d=\"M369.5,514.2857142857143h5v85.71428571428567h-5Z\" fill=\"#4c78a8\"/><path aria-label=\"x: 126; y: 2\" role=\"graphics-symbol\" aria-roledescription=\"bar\" d=\"M375.5,428.57142857142856h5v171.42857142857144h-5Z\" fill=\"#4c78a8\"/><path aria-label=\"x: 127; y: 1\" role=\"graphics-symbol\" aria-roledescription=\"bar\" d=\"M378.5,514.2857142857143h5v85.71428571428567h-5Z\" fill=\"#4c78a8\"/><path aria-label=\"x: 128; y: 4\" role=\"graphics-symbol\" aria-roledescription=\"bar\" d=\"M381.5,257.14285714285717h5v342.85714285714283h-5Z\" fill=\"#4c78a8\"/><path aria-label=\"x: 129; y: 3\" role=\"graphics-symbol\" aria-roledescription=\"bar\" d=\"M384.5,342.85714285714283h5v257.14285714285717h-5Z\" fill=\"#4c78a8\"/><path aria-label=\"x: 130; y: 1\" role=\"graphics-symbol\" aria-roledescription=\"bar\" d=\"M387.5,514.2857142857143h5v85.71428571428567h-5Z\" fill=\"#4c78a8\"/><path aria-label=\"x: 131; y: 1\" role=\"graphics-symbol\" aria-roledescription=\"bar\" d=\"M390.5,514.2857142857143h5v85.71428571428567h-5Z\" fill=\"#4c78a8\"/><path aria-label=\"x: 132; y: 1\" role=\"graphics-symbol\" aria-roledescription=\"bar\" d=\"M393.5,514.2857142857143h5v85.71428571428567h-5Z\" fill=\"#4c78a8\"/><path aria-label=\"x: 133; y: 2\" role=\"graphics-symbol\" aria-roledescription=\"bar\" d=\"M396.5,428.57142857142856h5v171.42857142857144h-5Z\" fill=\"#4c78a8\"/><path aria-label=\"x: 134; y: 1\" role=\"graphics-symbol\" aria-roledescription=\"bar\" d=\"M399.5,514.2857142857143h5v85.71428571428567h-5Z\" fill=\"#4c78a8\"/><path aria-label=\"x: 136; y: 2\" role=\"graphics-symbol\" aria-roledescription=\"bar\" d=\"M405.50000000000006,428.57142857142856h5v171.42857142857144h-5Z\" fill=\"#4c78a8\"/><path aria-label=\"x: 140; y: 2\" role=\"graphics-symbol\" aria-roledescription=\"bar\" d=\"M417.5,428.57142857142856h5v171.42857142857144h-5Z\" fill=\"#4c78a8\"/><path aria-label=\"x: 141; y: 1\" role=\"graphics-symbol\" aria-roledescription=\"bar\" d=\"M420.5,514.2857142857143h5v85.71428571428567h-5Z\" fill=\"#4c78a8\"/><path aria-label=\"x: 142; y: 2\" role=\"graphics-symbol\" aria-roledescription=\"bar\" d=\"M423.5,428.57142857142856h5v171.42857142857144h-5Z\" fill=\"#4c78a8\"/><path aria-label=\"x: 144; y: 1\" role=\"graphics-symbol\" aria-roledescription=\"bar\" d=\"M429.5,514.2857142857143h5v85.71428571428567h-5Z\" fill=\"#4c78a8\"/><path aria-label=\"x: 145; y: 2\" role=\"graphics-symbol\" aria-roledescription=\"bar\" d=\"M432.5,428.57142857142856h5v171.42857142857144h-5Z\" fill=\"#4c78a8\"/><path aria-label=\"x: 149; y: 2\" role=\"graphics-symbol\" aria-roledescription=\"bar\" d=\"M444.5,428.57142857142856h5v171.42857142857144h-5Z\" fill=\"#4c78a8\"/><path aria-label=\"x: 154; y: 2\" role=\"graphics-symbol\" aria-roledescription=\"bar\" d=\"M459.5,428.57142857142856h5v171.42857142857144h-5Z\" fill=\"#4c78a8\"/><path aria-label=\"x: 155; y: 2\" role=\"graphics-symbol\" aria-roledescription=\"bar\" d=\"M462.5,428.57142857142856h5v171.42857142857144h-5Z\" fill=\"#4c78a8\"/><path aria-label=\"x: 156; y: 4\" role=\"graphics-symbol\" aria-roledescription=\"bar\" d=\"M465.5,257.14285714285717h5v342.85714285714283h-5Z\" fill=\"#4c78a8\"/><path aria-label=\"x: 158; y: 1\" role=\"graphics-symbol\" aria-roledescription=\"bar\" d=\"M471.5,514.2857142857143h5v85.71428571428567h-5Z\" fill=\"#4c78a8\"/><path aria-label=\"x: 159; y: 1\" role=\"graphics-symbol\" aria-roledescription=\"bar\" d=\"M474.5,514.2857142857143h5v85.71428571428567h-5Z\" fill=\"#4c78a8\"/><path aria-label=\"x: 160; y: 2\" role=\"graphics-symbol\" aria-roledescription=\"bar\" d=\"M477.5,428.57142857142856h5v171.42857142857144h-5Z\" fill=\"#4c78a8\"/><path aria-label=\"x: 161; y: 1\" role=\"graphics-symbol\" aria-roledescription=\"bar\" d=\"M480.50000000000006,514.2857142857143h5v85.71428571428567h-5Z\" fill=\"#4c78a8\"/><path aria-label=\"x: 162; y: 1\" role=\"graphics-symbol\" aria-roledescription=\"bar\" d=\"M483.50000000000006,514.2857142857143h5v85.71428571428567h-5Z\" fill=\"#4c78a8\"/><path aria-label=\"x: 170; y: 1\" role=\"graphics-symbol\" aria-roledescription=\"bar\" d=\"M507.5,514.2857142857143h5v85.71428571428567h-5Z\" fill=\"#4c78a8\"/><path aria-label=\"x: 171; y: 1\" role=\"graphics-symbol\" aria-roledescription=\"bar\" d=\"M510.5,514.2857142857143h5v85.71428571428567h-5Z\" fill=\"#4c78a8\"/><path aria-label=\"x: 172; y: 1\" role=\"graphics-symbol\" aria-roledescription=\"bar\" d=\"M513.5,514.2857142857143h5v85.71428571428567h-5Z\" fill=\"#4c78a8\"/><path aria-label=\"x: 173; y: 2\" role=\"graphics-symbol\" aria-roledescription=\"bar\" d=\"M516.5,428.57142857142856h5v171.42857142857144h-5Z\" fill=\"#4c78a8\"/><path aria-label=\"x: 176; y: 1\" role=\"graphics-symbol\" aria-roledescription=\"bar\" d=\"M525.5,514.2857142857143h5v85.71428571428567h-5Z\" fill=\"#4c78a8\"/><path aria-label=\"x: 179; y: 1\" role=\"graphics-symbol\" aria-roledescription=\"bar\" d=\"M534.5,514.2857142857143h5v85.71428571428567h-5Z\" fill=\"#4c78a8\"/><path aria-label=\"x: 180; y: 1\" role=\"graphics-symbol\" aria-roledescription=\"bar\" d=\"M537.5,514.2857142857143h5v85.71428571428567h-5Z\" fill=\"#4c78a8\"/><path aria-label=\"x: 181; y: 1\" role=\"graphics-symbol\" aria-roledescription=\"bar\" d=\"M540.5,514.2857142857143h5v85.71428571428567h-5Z\" fill=\"#4c78a8\"/><path aria-label=\"x: 182; y: 2\" role=\"graphics-symbol\" aria-roledescription=\"bar\" d=\"M543.5,428.57142857142856h5v171.42857142857144h-5Z\" fill=\"#4c78a8\"/><path aria-label=\"x: 184; y: 3\" role=\"graphics-symbol\" aria-roledescription=\"bar\" d=\"M549.5,342.85714285714283h5v257.14285714285717h-5Z\" fill=\"#4c78a8\"/><path aria-label=\"x: 185; y: 2\" role=\"graphics-symbol\" aria-roledescription=\"bar\" d=\"M552.5,428.57142857142856h5v171.42857142857144h-5Z\" fill=\"#4c78a8\"/><path aria-label=\"x: 186; y: 1\" role=\"graphics-symbol\" aria-roledescription=\"bar\" d=\"M555.5,514.2857142857143h5v85.71428571428567h-5Z\" fill=\"#4c78a8\"/><path aria-label=\"x: 187; y: 3\" role=\"graphics-symbol\" aria-roledescription=\"bar\" d=\"M558.5,342.85714285714283h5v257.14285714285717h-5Z\" fill=\"#4c78a8\"/><path aria-label=\"x: 188; y: 1\" role=\"graphics-symbol\" aria-roledescription=\"bar\" d=\"M561.5,514.2857142857143h5v85.71428571428567h-5Z\" fill=\"#4c78a8\"/><path aria-label=\"x: 189; y: 3\" role=\"graphics-symbol\" aria-roledescription=\"bar\" d=\"M564.5,342.85714285714283h5v257.14285714285717h-5Z\" fill=\"#4c78a8\"/><path aria-label=\"x: 191; y: 1\" role=\"graphics-symbol\" aria-roledescription=\"bar\" d=\"M570.5,514.2857142857143h5v85.71428571428567h-5Z\" fill=\"#4c78a8\"/><path aria-label=\"x: 193; y: 1\" role=\"graphics-symbol\" aria-roledescription=\"bar\" d=\"M576.5,514.2857142857143h5v85.71428571428567h-5Z\" fill=\"#4c78a8\"/><path aria-label=\"x: 194; y: 1\" role=\"graphics-symbol\" aria-roledescription=\"bar\" d=\"M579.5,514.2857142857143h5v85.71428571428567h-5Z\" fill=\"#4c78a8\"/><path aria-label=\"x: 195; y: 1\" role=\"graphics-symbol\" aria-roledescription=\"bar\" d=\"M582.5,514.2857142857143h5v85.71428571428567h-5Z\" fill=\"#4c78a8\"/><path aria-label=\"x: 196; y: 3\" role=\"graphics-symbol\" aria-roledescription=\"bar\" d=\"M585.5,342.85714285714283h5v257.14285714285717h-5Z\" fill=\"#4c78a8\"/><path aria-label=\"x: 197; y: 6\" role=\"graphics-symbol\" aria-roledescription=\"bar\" d=\"M588.5,85.71428571428574h5v514.2857142857142h-5Z\" fill=\"#4c78a8\"/><path aria-label=\"x: 198; y: 2\" role=\"graphics-symbol\" aria-roledescription=\"bar\" d=\"M591.5,428.57142857142856h5v171.42857142857144h-5Z\" fill=\"#4c78a8\"/><path aria-label=\"x: 199; y: 1\" role=\"graphics-symbol\" aria-roledescription=\"bar\" d=\"M594.5,514.2857142857143h5v85.71428571428567h-5Z\" fill=\"#4c78a8\"/><path aria-label=\"x: 200; y: 1\" role=\"graphics-symbol\" aria-roledescription=\"bar\" d=\"M597.5,514.2857142857143h5v85.71428571428567h-5Z\" fill=\"#4c78a8\"/><path aria-label=\"x: 201; y: 2\" role=\"graphics-symbol\" aria-roledescription=\"bar\" d=\"M600.4999999999999,428.57142857142856h5v171.42857142857144h-5Z\" fill=\"#4c78a8\"/><path aria-label=\"x: 203; y: 3\" role=\"graphics-symbol\" aria-roledescription=\"bar\" d=\"M606.4999999999999,342.85714285714283h5v257.14285714285717h-5Z\" fill=\"#4c78a8\"/><path aria-label=\"x: 204; y: 1\" role=\"graphics-symbol\" aria-roledescription=\"bar\" d=\"M609.5,514.2857142857143h5v85.71428571428567h-5Z\" fill=\"#4c78a8\"/><path aria-label=\"x: 207; y: 2\" role=\"graphics-symbol\" aria-roledescription=\"bar\" d=\"M618.5,428.57142857142856h5v171.42857142857144h-5Z\" fill=\"#4c78a8\"/><path aria-label=\"x: 208; y: 5\" role=\"graphics-symbol\" aria-roledescription=\"bar\" d=\"M621.5,171.42857142857142h5v428.57142857142856h-5Z\" fill=\"#4c78a8\"/><path aria-label=\"x: 209; y: 2\" role=\"graphics-symbol\" aria-roledescription=\"bar\" d=\"M624.5,428.57142857142856h5v171.42857142857144h-5Z\" fill=\"#4c78a8\"/><path aria-label=\"x: 210; y: 3\" role=\"graphics-symbol\" aria-roledescription=\"bar\" d=\"M627.5,342.85714285714283h5v257.14285714285717h-5Z\" fill=\"#4c78a8\"/><path aria-label=\"x: 211; y: 3\" role=\"graphics-symbol\" aria-roledescription=\"bar\" d=\"M630.5,342.85714285714283h5v257.14285714285717h-5Z\" fill=\"#4c78a8\"/><path aria-label=\"x: 212; y: 2\" role=\"graphics-symbol\" aria-roledescription=\"bar\" d=\"M633.5,428.57142857142856h5v171.42857142857144h-5Z\" fill=\"#4c78a8\"/><path aria-label=\"x: 213; y: 1\" role=\"graphics-symbol\" aria-roledescription=\"bar\" d=\"M636.5,514.2857142857143h5v85.71428571428567h-5Z\" fill=\"#4c78a8\"/><path aria-label=\"x: 214; y: 3\" role=\"graphics-symbol\" aria-roledescription=\"bar\" d=\"M639.5,342.85714285714283h5v257.14285714285717h-5Z\" fill=\"#4c78a8\"/><path aria-label=\"x: 215; y: 1\" role=\"graphics-symbol\" aria-roledescription=\"bar\" d=\"M642.5,514.2857142857143h5v85.71428571428567h-5Z\" fill=\"#4c78a8\"/><path aria-label=\"x: 216; y: 1\" role=\"graphics-symbol\" aria-roledescription=\"bar\" d=\"M645.5,514.2857142857143h5v85.71428571428567h-5Z\" fill=\"#4c78a8\"/><path aria-label=\"x: 217; y: 2\" role=\"graphics-symbol\" aria-roledescription=\"bar\" d=\"M648.5,428.57142857142856h5v171.42857142857144h-5Z\" fill=\"#4c78a8\"/><path aria-label=\"x: 218; y: 2\" role=\"graphics-symbol\" aria-roledescription=\"bar\" d=\"M651.5,428.57142857142856h5v171.42857142857144h-5Z\" fill=\"#4c78a8\"/><path aria-label=\"x: 219; y: 3\" role=\"graphics-symbol\" aria-roledescription=\"bar\" d=\"M654.5,342.85714285714283h5v257.14285714285717h-5Z\" fill=\"#4c78a8\"/><path aria-label=\"x: 220; y: 6\" role=\"graphics-symbol\" aria-roledescription=\"bar\" d=\"M657.5,85.71428571428574h5v514.2857142857142h-5Z\" fill=\"#4c78a8\"/><path aria-label=\"x: 221; y: 2\" role=\"graphics-symbol\" aria-roledescription=\"bar\" d=\"M660.5,428.57142857142856h5v171.42857142857144h-5Z\" fill=\"#4c78a8\"/><path aria-label=\"x: 222; y: 4\" role=\"graphics-symbol\" aria-roledescription=\"bar\" d=\"M663.5000000000001,257.14285714285717h5v342.85714285714283h-5Z\" fill=\"#4c78a8\"/><path aria-label=\"x: 223; y: 1\" role=\"graphics-symbol\" aria-roledescription=\"bar\" d=\"M666.5,514.2857142857143h5v85.71428571428567h-5Z\" fill=\"#4c78a8\"/><path aria-label=\"x: 225; y: 1\" role=\"graphics-symbol\" aria-roledescription=\"bar\" d=\"M672.5,514.2857142857143h5v85.71428571428567h-5Z\" fill=\"#4c78a8\"/><path aria-label=\"x: 227; y: 1\" role=\"graphics-symbol\" aria-roledescription=\"bar\" d=\"M678.5,514.2857142857143h5v85.71428571428567h-5Z\" fill=\"#4c78a8\"/><path aria-label=\"x: 230; y: 2\" role=\"graphics-symbol\" aria-roledescription=\"bar\" d=\"M687.5,428.57142857142856h5v171.42857142857144h-5Z\" fill=\"#4c78a8\"/><path aria-label=\"x: 232; y: 7\" role=\"graphics-symbol\" aria-roledescription=\"bar\" d=\"M693.5,0h5v600h-5Z\" fill=\"#4c78a8\"/><path aria-label=\"x: 234; y: 3\" role=\"graphics-symbol\" aria-roledescription=\"bar\" d=\"M699.5,342.85714285714283h5v257.14285714285717h-5Z\" fill=\"#4c78a8\"/><path aria-label=\"x: 235; y: 3\" role=\"graphics-symbol\" aria-roledescription=\"bar\" d=\"M702.5,342.85714285714283h5v257.14285714285717h-5Z\" fill=\"#4c78a8\"/><path aria-label=\"x: 236; y: 1\" role=\"graphics-symbol\" aria-roledescription=\"bar\" d=\"M705.5,514.2857142857143h5v85.71428571428567h-5Z\" fill=\"#4c78a8\"/><path aria-label=\"x: 237; y: 3\" role=\"graphics-symbol\" aria-roledescription=\"bar\" d=\"M708.5,342.85714285714283h5v257.14285714285717h-5Z\" fill=\"#4c78a8\"/><path aria-label=\"x: 238; y: 1\" role=\"graphics-symbol\" aria-roledescription=\"bar\" d=\"M711.5,514.2857142857143h5v85.71428571428567h-5Z\" fill=\"#4c78a8\"/><path aria-label=\"x: 241; y: 2\" role=\"graphics-symbol\" aria-roledescription=\"bar\" d=\"M720.5,428.57142857142856h5v171.42857142857144h-5Z\" fill=\"#4c78a8\"/><path aria-label=\"x: 244; y: 1\" role=\"graphics-symbol\" aria-roledescription=\"bar\" d=\"M729.5,514.2857142857143h5v85.71428571428567h-5Z\" fill=\"#4c78a8\"/><path aria-label=\"x: 245; y: 1\" role=\"graphics-symbol\" aria-roledescription=\"bar\" d=\"M732.5,514.2857142857143h5v85.71428571428567h-5Z\" fill=\"#4c78a8\"/><path aria-label=\"x: 248; y: 1\" role=\"graphics-symbol\" aria-roledescription=\"bar\" d=\"M741.5,514.2857142857143h5v85.71428571428567h-5Z\" fill=\"#4c78a8\"/><path aria-label=\"x: 249; y: 2\" role=\"graphics-symbol\" aria-roledescription=\"bar\" d=\"M744.5000000000001,428.57142857142856h5v171.42857142857144h-5Z\" fill=\"#4c78a8\"/><path aria-label=\"x: 250; y: 3\" role=\"graphics-symbol\" aria-roledescription=\"bar\" d=\"M747.5,342.85714285714283h5v257.14285714285717h-5Z\" fill=\"#4c78a8\"/><path aria-label=\"x: 252; y: 1\" role=\"graphics-symbol\" aria-roledescription=\"bar\" d=\"M753.5,514.2857142857143h5v85.71428571428567h-5Z\" fill=\"#4c78a8\"/><path aria-label=\"x: 254; y: 1\" role=\"graphics-symbol\" aria-roledescription=\"bar\" d=\"M759.5,514.2857142857143h5v85.71428571428567h-5Z\" fill=\"#4c78a8\"/><path aria-label=\"x: 259; y: 1\" role=\"graphics-symbol\" aria-roledescription=\"bar\" d=\"M774.5,514.2857142857143h5v85.71428571428567h-5Z\" fill=\"#4c78a8\"/><path aria-label=\"x: 260; y: 1\" role=\"graphics-symbol\" aria-roledescription=\"bar\" d=\"M777.5,514.2857142857143h5v85.71428571428567h-5Z\" fill=\"#4c78a8\"/><path aria-label=\"x: 262; y: 2\" role=\"graphics-symbol\" aria-roledescription=\"bar\" d=\"M783.5,428.57142857142856h5v171.42857142857144h-5Z\" fill=\"#4c78a8\"/><path aria-label=\"x: 263; y: 1\" role=\"graphics-symbol\" aria-roledescription=\"bar\" d=\"M786.5,514.2857142857143h5v85.71428571428567h-5Z\" fill=\"#4c78a8\"/><path aria-label=\"x: 266; y: 4\" role=\"graphics-symbol\" aria-roledescription=\"bar\" d=\"M795.5,257.14285714285717h5v342.85714285714283h-5Z\" fill=\"#4c78a8\"/><path aria-label=\"x: 268; y: 1\" role=\"graphics-symbol\" aria-roledescription=\"bar\" d=\"M801.5,514.2857142857143h5v85.71428571428567h-5Z\" fill=\"#4c78a8\"/><path aria-label=\"x: 269; y: 2\" role=\"graphics-symbol\" aria-roledescription=\"bar\" d=\"M804.5,428.57142857142856h5v171.42857142857144h-5Z\" fill=\"#4c78a8\"/><path aria-label=\"x: 270; y: 1\" role=\"graphics-symbol\" aria-roledescription=\"bar\" d=\"M807.5,514.2857142857143h5v85.71428571428567h-5Z\" fill=\"#4c78a8\"/><path aria-label=\"x: 271; y: 1\" role=\"graphics-symbol\" aria-roledescription=\"bar\" d=\"M810.5,514.2857142857143h5v85.71428571428567h-5Z\" fill=\"#4c78a8\"/><path aria-label=\"x: 275; y: 1\" role=\"graphics-symbol\" aria-roledescription=\"bar\" d=\"M822.5,514.2857142857143h5v85.71428571428567h-5Z\" fill=\"#4c78a8\"/><path aria-label=\"x: 276; y: 1\" role=\"graphics-symbol\" aria-roledescription=\"bar\" d=\"M825.4999999999999,514.2857142857143h5v85.71428571428567h-5Z\" fill=\"#4c78a8\"/><path aria-label=\"x: 278; y: 1\" role=\"graphics-symbol\" aria-roledescription=\"bar\" d=\"M831.4999999999999,514.2857142857143h5v85.71428571428567h-5Z\" fill=\"#4c78a8\"/><path aria-label=\"x: 279; y: 1\" role=\"graphics-symbol\" aria-roledescription=\"bar\" d=\"M834.5,514.2857142857143h5v85.71428571428567h-5Z\" fill=\"#4c78a8\"/><path aria-label=\"x: 282; y: 2\" role=\"graphics-symbol\" aria-roledescription=\"bar\" d=\"M843.5,428.57142857142856h5v171.42857142857144h-5Z\" fill=\"#4c78a8\"/><path aria-label=\"x: 291; y: 1\" role=\"graphics-symbol\" aria-roledescription=\"bar\" d=\"M870.5,514.2857142857143h5v85.71428571428567h-5Z\" fill=\"#4c78a8\"/><path aria-label=\"x: 292; y: 1\" role=\"graphics-symbol\" aria-roledescription=\"bar\" d=\"M873.5,514.2857142857143h5v85.71428571428567h-5Z\" fill=\"#4c78a8\"/><path aria-label=\"x: 296; y: 1\" role=\"graphics-symbol\" aria-roledescription=\"bar\" d=\"M885.5,514.2857142857143h5v85.71428571428567h-5Z\" fill=\"#4c78a8\"/><path aria-label=\"x: 300; y: 1\" role=\"graphics-symbol\" aria-roledescription=\"bar\" d=\"M897.5,514.2857142857143h5v85.71428571428567h-5Z\" fill=\"#4c78a8\"/><path aria-label=\"x: 303; y: 1\" role=\"graphics-symbol\" aria-roledescription=\"bar\" d=\"M906.4999999999999,514.2857142857143h5v85.71428571428567h-5Z\" fill=\"#4c78a8\"/><path aria-label=\"x: 305; y: 1\" role=\"graphics-symbol\" aria-roledescription=\"bar\" d=\"M912.5,514.2857142857143h5v85.71428571428567h-5Z\" fill=\"#4c78a8\"/><path aria-label=\"x: 306; y: 1\" role=\"graphics-symbol\" aria-roledescription=\"bar\" d=\"M915.5,514.2857142857143h5v85.71428571428567h-5Z\" fill=\"#4c78a8\"/><path aria-label=\"x: 307; y: 1\" role=\"graphics-symbol\" aria-roledescription=\"bar\" d=\"M918.5,514.2857142857143h5v85.71428571428567h-5Z\" fill=\"#4c78a8\"/><path aria-label=\"x: 310; y: 1\" role=\"graphics-symbol\" aria-roledescription=\"bar\" d=\"M927.5,514.2857142857143h5v85.71428571428567h-5Z\" fill=\"#4c78a8\"/><path aria-label=\"x: 311; y: 1\" role=\"graphics-symbol\" aria-roledescription=\"bar\" d=\"M930.5,514.2857142857143h5v85.71428571428567h-5Z\" fill=\"#4c78a8\"/><path aria-label=\"x: 314; y: 1\" role=\"graphics-symbol\" aria-roledescription=\"bar\" d=\"M939.5,514.2857142857143h5v85.71428571428567h-5Z\" fill=\"#4c78a8\"/><path aria-label=\"x: 316; y: 1\" role=\"graphics-symbol\" aria-roledescription=\"bar\" d=\"M945.5,514.2857142857143h5v85.71428571428567h-5Z\" fill=\"#4c78a8\"/><path aria-label=\"x: 319; y: 1\" role=\"graphics-symbol\" aria-roledescription=\"bar\" d=\"M954.5,514.2857142857143h5v85.71428571428567h-5Z\" fill=\"#4c78a8\"/><path aria-label=\"x: 320; y: 2\" role=\"graphics-symbol\" aria-roledescription=\"bar\" d=\"M957.5,428.57142857142856h5v171.42857142857144h-5Z\" fill=\"#4c78a8\"/><path aria-label=\"x: 331; y: 1\" role=\"graphics-symbol\" aria-roledescription=\"bar\" d=\"M990.5,514.2857142857143h5v85.71428571428567h-5Z\" fill=\"#4c78a8\"/><path aria-label=\"x: 333; y: 2\" role=\"graphics-symbol\" aria-roledescription=\"bar\" d=\"M996.5,428.57142857142856h5v171.42857142857144h-5Z\" fill=\"#4c78a8\"/><path aria-label=\"x: 335; y: 1\" role=\"graphics-symbol\" aria-roledescription=\"bar\" d=\"M1002.5,514.2857142857143h5v85.71428571428567h-5Z\" fill=\"#4c78a8\"/><path aria-label=\"x: 336; y: 1\" role=\"graphics-symbol\" aria-roledescription=\"bar\" d=\"M1005.5,514.2857142857143h5v85.71428571428567h-5Z\" fill=\"#4c78a8\"/><path aria-label=\"x: 337; y: 1\" role=\"graphics-symbol\" aria-roledescription=\"bar\" d=\"M1008.5,514.2857142857143h5v85.71428571428567h-5Z\" fill=\"#4c78a8\"/><path aria-label=\"x: 339; y: 2\" role=\"graphics-symbol\" aria-roledescription=\"bar\" d=\"M1014.5,428.57142857142856h5v171.42857142857144h-5Z\" fill=\"#4c78a8\"/><path aria-label=\"x: 341; y: 2\" role=\"graphics-symbol\" aria-roledescription=\"bar\" d=\"M1020.5,428.57142857142856h5v171.42857142857144h-5Z\" fill=\"#4c78a8\"/><path aria-label=\"x: 342; y: 1\" role=\"graphics-symbol\" aria-roledescription=\"bar\" d=\"M1023.5,514.2857142857143h5v85.71428571428567h-5Z\" fill=\"#4c78a8\"/><path aria-label=\"x: 345; y: 2\" role=\"graphics-symbol\" aria-roledescription=\"bar\" d=\"M1032.5,428.57142857142856h5v171.42857142857144h-5Z\" fill=\"#4c78a8\"/><path aria-label=\"x: 346; y: 2\" role=\"graphics-symbol\" aria-roledescription=\"bar\" d=\"M1035.5,428.57142857142856h5v171.42857142857144h-5Z\" fill=\"#4c78a8\"/><path aria-label=\"x: 348; y: 1\" role=\"graphics-symbol\" aria-roledescription=\"bar\" d=\"M1041.5,514.2857142857143h5v85.71428571428567h-5Z\" fill=\"#4c78a8\"/><path aria-label=\"x: 350; y: 1\" role=\"graphics-symbol\" aria-roledescription=\"bar\" d=\"M1047.5,514.2857142857143h5v85.71428571428567h-5Z\" fill=\"#4c78a8\"/><path aria-label=\"x: 354; y: 1\" role=\"graphics-symbol\" aria-roledescription=\"bar\" d=\"M1059.5,514.2857142857143h5v85.71428571428567h-5Z\" fill=\"#4c78a8\"/><path aria-label=\"x: 355; y: 1\" role=\"graphics-symbol\" aria-roledescription=\"bar\" d=\"M1062.5,514.2857142857143h5v85.71428571428567h-5Z\" fill=\"#4c78a8\"/><path aria-label=\"x: 356; y: 1\" role=\"graphics-symbol\" aria-roledescription=\"bar\" d=\"M1065.5,514.2857142857143h5v85.71428571428567h-5Z\" fill=\"#4c78a8\"/><path aria-label=\"x: 357; y: 1\" role=\"graphics-symbol\" aria-roledescription=\"bar\" d=\"M1068.5,514.2857142857143h5v85.71428571428567h-5Z\" fill=\"#4c78a8\"/><path aria-label=\"x: 359; y: 1\" role=\"graphics-symbol\" aria-roledescription=\"bar\" d=\"M1074.5,514.2857142857143h5v85.71428571428567h-5Z\" fill=\"#4c78a8\"/><path aria-label=\"x: 360; y: 2\" role=\"graphics-symbol\" aria-roledescription=\"bar\" d=\"M1077.5,428.57142857142856h5v171.42857142857144h-5Z\" fill=\"#4c78a8\"/><path aria-label=\"x: 362; y: 2\" role=\"graphics-symbol\" aria-roledescription=\"bar\" d=\"M1083.5,428.57142857142856h5v171.42857142857144h-5Z\" fill=\"#4c78a8\"/></g><g class=\"mark-group role-title\"><g transform=\"translate(600,-22)\"><path class=\"background\" aria-hidden=\"true\" d=\"M0,0h0v0h0Z\" pointer-events=\"none\"/><g><g class=\"mark-text role-title-text\" role=\"graphics-symbol\" aria-roledescription=\"title\" aria-label=\"Title text 'Imphal in 2018'\" pointer-events=\"none\"><text text-anchor=\"middle\" transform=\"translate(0,10)\" font-family=\"sans-serif\" font-size=\"13px\" font-weight=\"bold\" fill=\"#000\" opacity=\"1\">Imphal in 2018</text></g></g><path class=\"foreground\" aria-hidden=\"true\" d=\"\" pointer-events=\"none\" display=\"none\"/></g></g></g><path class=\"foreground\" aria-hidden=\"true\" d=\"\" display=\"none\"/></g></g></g></svg>\n"
      ],
      "text/plain": [
       "@vlplot(\n",
       "    height=600,\n",
       "    width=1200,\n",
       "    title=\"Imphal in 2018\",\n",
       "    mark=\"bar\",\n",
       "    encoding={\n",
       "        x={\n",
       "            field=\"x\",\n",
       "            title=nothing\n",
       "        },\n",
       "        y={\n",
       "            field=\"y\",\n",
       "            title=nothing\n",
       "        }\n",
       "    },\n",
       "    data={\n",
       "        values=...\n",
       "    }\n",
       ")"
      ]
     },
     "metadata": {},
     "output_type": "display_data"
    }
   ],
   "source": [
    "display(plot)"
   ]
  },
  {
   "cell_type": "markdown",
   "id": "027d8056-10a2-44b3-94d0-5c0daa55180e",
   "metadata": {},
   "source": [
    "---"
   ]
  },
  {
   "cell_type": "markdown",
   "id": "210f2d79-516c-423f-820d-8c347649c2e7",
   "metadata": {},
   "source": [
    "## Wstępne modelowanie predykcyjne"
   ]
  },
  {
   "cell_type": "markdown",
   "id": "3af3c616-a686-4a2a-876f-b6934b9dce68",
   "metadata": {},
   "source": [
    "---"
   ]
  },
  {
   "cell_type": "code",
   "execution_count": 7,
   "id": "b839da96-de24-4066-8f4a-a7527711a30a",
   "metadata": {},
   "outputs": [],
   "source": [
    "model_data = DataFrame(t=dat[1], n=dat[2]);"
   ]
  },
  {
   "cell_type": "code",
   "execution_count": 8,
   "id": "7429ee21-549e-4963-ab61-f21188bf56df",
   "metadata": {},
   "outputs": [],
   "source": [
    "md = DataFrame(t=Int64[], n=Int64[])\n",
    "for day in 1:(leap ? 366 : 365)\n",
    "    push!(md, day in model_data.t ? Matrix(model_data[in(day).(model_data.t), :]) : [day, 0])\n",
    "end;"
   ]
  },
  {
   "cell_type": "code",
   "execution_count": 9,
   "id": "6cad00a2-06a4-4136-a606-ad9344862bed",
   "metadata": {},
   "outputs": [
    {
     "data": {
      "text/html": [
       "<div class=\"data-frame\"><p>8 rows × 2 columns</p><table class=\"data-frame\"><thead><tr><th></th><th>n</th><th>nrow</th></tr><tr><th></th><th title=\"Int64\">Int64</th><th title=\"Int64\">Int64</th></tr></thead><tbody><tr><th>1</th><td>0</td><td>183</td></tr><tr><th>2</th><td>1</td><td>103</td></tr><tr><th>3</th><td>2</td><td>53</td></tr><tr><th>4</th><td>3</td><td>18</td></tr><tr><th>5</th><td>4</td><td>4</td></tr><tr><th>6</th><td>5</td><td>1</td></tr><tr><th>7</th><td>6</td><td>2</td></tr><tr><th>8</th><td>7</td><td>1</td></tr></tbody></table></div>"
      ],
      "text/latex": [
       "\\begin{tabular}{r|cc}\n",
       "\t& n & nrow\\\\\n",
       "\t\\hline\n",
       "\t& Int64 & Int64\\\\\n",
       "\t\\hline\n",
       "\t1 & 0 & 183 \\\\\n",
       "\t2 & 1 & 103 \\\\\n",
       "\t3 & 2 & 53 \\\\\n",
       "\t4 & 3 & 18 \\\\\n",
       "\t5 & 4 & 4 \\\\\n",
       "\t6 & 5 & 1 \\\\\n",
       "\t7 & 6 & 2 \\\\\n",
       "\t8 & 7 & 1 \\\\\n",
       "\\end{tabular}\n"
      ],
      "text/plain": [
       "\u001b[1m8×2 DataFrame\u001b[0m\n",
       "\u001b[1m Row \u001b[0m│\u001b[1m n     \u001b[0m\u001b[1m nrow  \u001b[0m\n",
       "\u001b[1m     \u001b[0m│\u001b[90m Int64 \u001b[0m\u001b[90m Int64 \u001b[0m\n",
       "─────┼──────────────\n",
       "   1 │     0    183\n",
       "   2 │     1    103\n",
       "   3 │     2     53\n",
       "   4 │     3     18\n",
       "   5 │     4      4\n",
       "   6 │     5      1\n",
       "   7 │     6      2\n",
       "   8 │     7      1"
      ]
     },
     "execution_count": 9,
     "metadata": {},
     "output_type": "execute_result"
    }
   ],
   "source": [
    "mod = combine(groupby(md, :n), nrow)"
   ]
  },
  {
   "cell_type": "code",
   "execution_count": 10,
   "id": "18794b69-ada5-45d7-b6e0-2dcf5fad808a",
   "metadata": {},
   "outputs": [],
   "source": [
    "sum(mod[!,2]) |> sum -> mod[!,2] ./= sum;"
   ]
  },
  {
   "cell_type": "code",
   "execution_count": 11,
   "id": "f679c8da-c0fa-402c-98d7-90b1e1506854",
   "metadata": {},
   "outputs": [
    {
     "data": {
      "application/vnd.vegalite.v4+json": {
       "data": {
        "values": [
         {
          "n": 0,
          "nrow": 0.5013698630136987
         },
         {
          "n": 1,
          "nrow": 0.2821917808219178
         },
         {
          "n": 2,
          "nrow": 0.14520547945205478
         },
         {
          "n": 3,
          "nrow": 0.049315068493150684
         },
         {
          "n": 4,
          "nrow": 0.010958904109589041
         },
         {
          "n": 5,
          "nrow": 0.0027397260273972603
         },
         {
          "n": 6,
          "nrow": 0.005479452054794521
         },
         {
          "n": 7,
          "nrow": 0.0027397260273972603
         }
        ]
       },
       "encoding": {
        "x": {
         "field": "n",
         "type": "quantitative"
        },
        "y": {
         "field": "nrow",
         "type": "quantitative"
        }
       },
       "height": 600,
       "mark": "bar",
       "title": "Poisson-styled reprezentation of data",
       "width": 1200
      },
      "image/png": "[encoded data removed]",
      "image/svg+xml": [
       "<?xml version=\"1.0\" encoding=\"utf-8\"?>\n",
       "<!DOCTYPE svg PUBLIC \"-//W3C//DTD SVG 1.1//EN\" \"http://www.w3.org/Graphics/SVG/1.1/DTD/svg11.dtd\">\n",
       "<svg xmlns=\"http://www.w3.org/2000/svg\" xmlns:xlink=\"http://www.w3.org/1999/xlink\" version=\"1.1\" class=\"marks\" width=\"1251\" height=\"664\" viewBox=\"0 0 1251 664\"><rect width=\"1251\" height=\"664\" fill=\"white\"/><g fill=\"none\" stroke-miterlimit=\"10\" transform=\"translate(45,27)\"><g class=\"mark-group role-frame root\" role=\"graphics-object\" aria-roledescription=\"group mark container\"><g transform=\"translate(0,0)\"><path class=\"background\" aria-hidden=\"true\" d=\"M0.5,0.5h1200v600h-1200Z\" stroke=\"#ddd\"/><g><g class=\"mark-group role-axis\" aria-hidden=\"true\"><g transform=\"translate(0.5,600.5)\"><path class=\"background\" aria-hidden=\"true\" d=\"M0,0h0v0h0Z\" pointer-events=\"none\"/><g><g class=\"mark-rule role-axis-grid\" pointer-events=\"none\"><line transform=\"translate(0,-600)\" x2=\"0\" y2=\"600\" stroke=\"#ddd\" stroke-width=\"1\" opacity=\"1\"/><line transform=\"translate(27,-600)\" x2=\"0\" y2=\"600\" stroke=\"#ddd\" stroke-width=\"1\" opacity=\"1\"/><line transform=\"translate(53,-600)\" x2=\"0\" y2=\"600\" stroke=\"#ddd\" stroke-width=\"1\" opacity=\"1\"/><line transform=\"translate(80,-600)\" x2=\"0\" y2=\"600\" stroke=\"#ddd\" stroke-width=\"1\" opacity=\"1\"/><line transform=\"translate(107,-600)\" x2=\"0\" y2=\"600\" stroke=\"#ddd\" stroke-width=\"1\" opacity=\"1\"/><line transform=\"translate(133,-600)\" x2=\"0\" y2=\"600\" stroke=\"#ddd\" stroke-width=\"1\" opacity=\"1\"/><line transform=\"translate(160,-600)\" x2=\"0\" y2=\"600\" stroke=\"#ddd\" stroke-width=\"1\" opacity=\"1\"/><line transform=\"translate(187,-600)\" x2=\"0\" y2=\"600\" stroke=\"#ddd\" stroke-width=\"1\" opacity=\"1\"/><line transform=\"translate(213,-600)\" x2=\"0\" y2=\"600\" stroke=\"#ddd\" stroke-width=\"1\" opacity=\"1\"/><line transform=\"translate(240,-600)\" x2=\"0\" y2=\"600\" stroke=\"#ddd\" stroke-width=\"1\" opacity=\"1\"/><line transform=\"translate(267,-600)\" x2=\"0\" y2=\"600\" stroke=\"#ddd\" stroke-width=\"1\" opacity=\"1\"/><line transform=\"translate(293,-600)\" x2=\"0\" y2=\"600\" stroke=\"#ddd\" stroke-width=\"1\" opacity=\"1\"/><line transform=\"translate(320,-600)\" x2=\"0\" y2=\"600\" stroke=\"#ddd\" stroke-width=\"1\" opacity=\"1\"/><line transform=\"translate(347,-600)\" x2=\"0\" y2=\"600\" stroke=\"#ddd\" stroke-width=\"1\" opacity=\"1\"/><line transform=\"translate(373,-600)\" x2=\"0\" y2=\"600\" stroke=\"#ddd\" stroke-width=\"1\" opacity=\"1\"/><line transform=\"translate(400,-600)\" x2=\"0\" y2=\"600\" stroke=\"#ddd\" stroke-width=\"1\" opacity=\"1\"/><line transform=\"translate(427,-600)\" x2=\"0\" y2=\"600\" stroke=\"#ddd\" stroke-width=\"1\" opacity=\"1\"/><line transform=\"translate(453,-600)\" x2=\"0\" y2=\"600\" stroke=\"#ddd\" stroke-width=\"1\" opacity=\"1\"/><line transform=\"translate(480,-600)\" x2=\"0\" y2=\"600\" stroke=\"#ddd\" stroke-width=\"1\" opacity=\"1\"/><line transform=\"translate(507,-600)\" x2=\"0\" y2=\"600\" stroke=\"#ddd\" stroke-width=\"1\" opacity=\"1\"/><line transform=\"translate(533,-600)\" x2=\"0\" y2=\"600\" stroke=\"#ddd\" stroke-width=\"1\" opacity=\"1\"/><line transform=\"translate(560,-600)\" x2=\"0\" y2=\"600\" stroke=\"#ddd\" stroke-width=\"1\" opacity=\"1\"/><line transform=\"translate(587,-600)\" x2=\"0\" y2=\"600\" stroke=\"#ddd\" stroke-width=\"1\" opacity=\"1\"/><line transform=\"translate(613,-600)\" x2=\"0\" y2=\"600\" stroke=\"#ddd\" stroke-width=\"1\" opacity=\"1\"/><line transform=\"translate(640,-600)\" x2=\"0\" y2=\"600\" stroke=\"#ddd\" stroke-width=\"1\" opacity=\"1\"/><line transform=\"translate(667,-600)\" x2=\"0\" y2=\"600\" stroke=\"#ddd\" stroke-width=\"1\" opacity=\"1\"/><line transform=\"translate(693,-600)\" x2=\"0\" y2=\"600\" stroke=\"#ddd\" stroke-width=\"1\" opacity=\"1\"/><line transform=\"translate(720,-600)\" x2=\"0\" y2=\"600\" stroke=\"#ddd\" stroke-width=\"1\" opacity=\"1\"/><line transform=\"translate(747,-600)\" x2=\"0\" y2=\"600\" stroke=\"#ddd\" stroke-width=\"1\" opacity=\"1\"/><line transform=\"translate(773,-600)\" x2=\"0\" y2=\"600\" stroke=\"#ddd\" stroke-width=\"1\" opacity=\"1\"/><line transform=\"translate(800,-600)\" x2=\"0\" y2=\"600\" stroke=\"#ddd\" stroke-width=\"1\" opacity=\"1\"/><line transform=\"translate(827,-600)\" x2=\"0\" y2=\"600\" stroke=\"#ddd\" stroke-width=\"1\" opacity=\"1\"/><line transform=\"translate(853,-600)\" x2=\"0\" y2=\"600\" stroke=\"#ddd\" stroke-width=\"1\" opacity=\"1\"/><line transform=\"translate(880,-600)\" x2=\"0\" y2=\"600\" stroke=\"#ddd\" stroke-width=\"1\" opacity=\"1\"/><line transform=\"translate(907,-600)\" x2=\"0\" y2=\"600\" stroke=\"#ddd\" stroke-width=\"1\" opacity=\"1\"/><line transform=\"translate(933,-600)\" x2=\"0\" y2=\"600\" stroke=\"#ddd\" stroke-width=\"1\" opacity=\"1\"/><line transform=\"translate(960,-600)\" x2=\"0\" y2=\"600\" stroke=\"#ddd\" stroke-width=\"1\" opacity=\"1\"/><line transform=\"translate(987,-600)\" x2=\"0\" y2=\"600\" stroke=\"#ddd\" stroke-width=\"1\" opacity=\"1\"/><line transform=\"translate(1013,-600)\" x2=\"0\" y2=\"600\" stroke=\"#ddd\" stroke-width=\"1\" opacity=\"1\"/><line transform=\"translate(1040,-600)\" x2=\"0\" y2=\"600\" stroke=\"#ddd\" stroke-width=\"1\" opacity=\"1\"/><line transform=\"translate(1067,-600)\" x2=\"0\" y2=\"600\" stroke=\"#ddd\" stroke-width=\"1\" opacity=\"1\"/><line transform=\"translate(1093,-600)\" x2=\"0\" y2=\"600\" stroke=\"#ddd\" stroke-width=\"1\" opacity=\"1\"/><line transform=\"translate(1120,-600)\" x2=\"0\" y2=\"600\" stroke=\"#ddd\" stroke-width=\"1\" opacity=\"1\"/><line transform=\"translate(1147,-600)\" x2=\"0\" y2=\"600\" stroke=\"#ddd\" stroke-width=\"1\" opacity=\"1\"/><line transform=\"translate(1173,-600)\" x2=\"0\" y2=\"600\" stroke=\"#ddd\" stroke-width=\"1\" opacity=\"1\"/><line transform=\"translate(1200,-600)\" x2=\"0\" y2=\"600\" stroke=\"#ddd\" stroke-width=\"1\" opacity=\"1\"/></g></g><path class=\"foreground\" aria-hidden=\"true\" d=\"\" pointer-events=\"none\" display=\"none\"/></g></g><g class=\"mark-group role-axis\" aria-hidden=\"true\"><g transform=\"translate(0.5,0.5)\"><path class=\"background\" aria-hidden=\"true\" d=\"M0,0h0v0h0Z\" pointer-events=\"none\"/><g><g class=\"mark-rule role-axis-grid\" pointer-events=\"none\"><line transform=\"translate(0,600)\" x2=\"1200\" y2=\"0\" stroke=\"#ddd\" stroke-width=\"1\" opacity=\"1\"/><line transform=\"translate(0,545)\" x2=\"1200\" y2=\"0\" stroke=\"#ddd\" stroke-width=\"1\" opacity=\"1\"/><line transform=\"translate(0,491)\" x2=\"1200\" y2=\"0\" stroke=\"#ddd\" stroke-width=\"1\" opacity=\"1\"/><line transform=\"translate(0,436)\" x2=\"1200\" y2=\"0\" stroke=\"#ddd\" stroke-width=\"1\" opacity=\"1\"/><line transform=\"translate(0,382)\" x2=\"1200\" y2=\"0\" stroke=\"#ddd\" stroke-width=\"1\" opacity=\"1\"/><line transform=\"translate(0,327)\" x2=\"1200\" y2=\"0\" stroke=\"#ddd\" stroke-width=\"1\" opacity=\"1\"/><line transform=\"translate(0,273)\" x2=\"1200\" y2=\"0\" stroke=\"#ddd\" stroke-width=\"1\" opacity=\"1\"/><line transform=\"translate(0,218)\" x2=\"1200\" y2=\"0\" stroke=\"#ddd\" stroke-width=\"1\" opacity=\"1\"/><line transform=\"translate(0,164)\" x2=\"1200\" y2=\"0\" stroke=\"#ddd\" stroke-width=\"1\" opacity=\"1\"/><line transform=\"translate(0,109)\" x2=\"1200\" y2=\"0\" stroke=\"#ddd\" stroke-width=\"1\" opacity=\"1\"/><line transform=\"translate(0,55)\" x2=\"1200\" y2=\"0\" stroke=\"#ddd\" stroke-width=\"1\" opacity=\"1\"/><line transform=\"translate(0,0)\" x2=\"1200\" y2=\"0\" stroke=\"#ddd\" stroke-width=\"1\" opacity=\"1\"/></g></g><path class=\"foreground\" aria-hidden=\"true\" d=\"\" pointer-events=\"none\" display=\"none\"/></g></g><g class=\"mark-group role-axis\" role=\"graphics-symbol\" aria-roledescription=\"axis\" aria-label=\"X-axis titled 'n' for a linear scale with values from −1 to 8\"><g transform=\"translate(0.5,600.5)\"><path class=\"background\" aria-hidden=\"true\" d=\"M0,0h0v0h0Z\" pointer-events=\"none\"/><g><g class=\"mark-rule role-axis-tick\" pointer-events=\"none\"><line transform=\"translate(0,0)\" x2=\"0\" y2=\"5\" stroke=\"#888\" stroke-width=\"1\" opacity=\"1\"/><line transform=\"translate(27,0)\" x2=\"0\" y2=\"5\" stroke=\"#888\" stroke-width=\"1\" opacity=\"1\"/><line transform=\"translate(53,0)\" x2=\"0\" y2=\"5\" stroke=\"#888\" stroke-width=\"1\" opacity=\"1\"/><line transform=\"translate(80,0)\" x2=\"0\" y2=\"5\" stroke=\"#888\" stroke-width=\"1\" opacity=\"1\"/><line transform=\"translate(107,0)\" x2=\"0\" y2=\"5\" stroke=\"#888\" stroke-width=\"1\" opacity=\"1\"/><line transform=\"translate(133,0)\" x2=\"0\" y2=\"5\" stroke=\"#888\" stroke-width=\"1\" opacity=\"1\"/><line transform=\"translate(160,0)\" x2=\"0\" y2=\"5\" stroke=\"#888\" stroke-width=\"1\" opacity=\"1\"/><line transform=\"translate(187,0)\" x2=\"0\" y2=\"5\" stroke=\"#888\" stroke-width=\"1\" opacity=\"1\"/><line transform=\"translate(213,0)\" x2=\"0\" y2=\"5\" stroke=\"#888\" stroke-width=\"1\" opacity=\"1\"/><line transform=\"translate(240,0)\" x2=\"0\" y2=\"5\" stroke=\"#888\" stroke-width=\"1\" opacity=\"1\"/><line transform=\"translate(267,0)\" x2=\"0\" y2=\"5\" stroke=\"#888\" stroke-width=\"1\" opacity=\"1\"/><line transform=\"translate(293,0)\" x2=\"0\" y2=\"5\" stroke=\"#888\" stroke-width=\"1\" opacity=\"1\"/><line transform=\"translate(320,0)\" x2=\"0\" y2=\"5\" stroke=\"#888\" stroke-width=\"1\" opacity=\"1\"/><line transform=\"translate(347,0)\" x2=\"0\" y2=\"5\" stroke=\"#888\" stroke-width=\"1\" opacity=\"1\"/><line transform=\"translate(373,0)\" x2=\"0\" y2=\"5\" stroke=\"#888\" stroke-width=\"1\" opacity=\"1\"/><line transform=\"translate(400,0)\" x2=\"0\" y2=\"5\" stroke=\"#888\" stroke-width=\"1\" opacity=\"1\"/><line transform=\"translate(427,0)\" x2=\"0\" y2=\"5\" stroke=\"#888\" stroke-width=\"1\" opacity=\"1\"/><line transform=\"translate(453,0)\" x2=\"0\" y2=\"5\" stroke=\"#888\" stroke-width=\"1\" opacity=\"1\"/><line transform=\"translate(480,0)\" x2=\"0\" y2=\"5\" stroke=\"#888\" stroke-width=\"1\" opacity=\"1\"/><line transform=\"translate(507,0)\" x2=\"0\" y2=\"5\" stroke=\"#888\" stroke-width=\"1\" opacity=\"1\"/><line transform=\"translate(533,0)\" x2=\"0\" y2=\"5\" stroke=\"#888\" stroke-width=\"1\" opacity=\"1\"/><line transform=\"translate(560,0)\" x2=\"0\" y2=\"5\" stroke=\"#888\" stroke-width=\"1\" opacity=\"1\"/><line transform=\"translate(587,0)\" x2=\"0\" y2=\"5\" stroke=\"#888\" stroke-width=\"1\" opacity=\"1\"/><line transform=\"translate(613,0)\" x2=\"0\" y2=\"5\" stroke=\"#888\" stroke-width=\"1\" opacity=\"1\"/><line transform=\"translate(640,0)\" x2=\"0\" y2=\"5\" stroke=\"#888\" stroke-width=\"1\" opacity=\"1\"/><line transform=\"translate(667,0)\" x2=\"0\" y2=\"5\" stroke=\"#888\" stroke-width=\"1\" opacity=\"1\"/><line transform=\"translate(693,0)\" x2=\"0\" y2=\"5\" stroke=\"#888\" stroke-width=\"1\" opacity=\"1\"/><line transform=\"translate(720,0)\" x2=\"0\" y2=\"5\" stroke=\"#888\" stroke-width=\"1\" opacity=\"1\"/><line transform=\"translate(747,0)\" x2=\"0\" y2=\"5\" stroke=\"#888\" stroke-width=\"1\" opacity=\"1\"/><line transform=\"translate(773,0)\" x2=\"0\" y2=\"5\" stroke=\"#888\" stroke-width=\"1\" opacity=\"1\"/><line transform=\"translate(800,0)\" x2=\"0\" y2=\"5\" stroke=\"#888\" stroke-width=\"1\" opacity=\"1\"/><line transform=\"translate(827,0)\" x2=\"0\" y2=\"5\" stroke=\"#888\" stroke-width=\"1\" opacity=\"1\"/><line transform=\"translate(853,0)\" x2=\"0\" y2=\"5\" stroke=\"#888\" stroke-width=\"1\" opacity=\"1\"/><line transform=\"translate(880,0)\" x2=\"0\" y2=\"5\" stroke=\"#888\" stroke-width=\"1\" opacity=\"1\"/><line transform=\"translate(907,0)\" x2=\"0\" y2=\"5\" stroke=\"#888\" stroke-width=\"1\" opacity=\"1\"/><line transform=\"translate(933,0)\" x2=\"0\" y2=\"5\" stroke=\"#888\" stroke-width=\"1\" opacity=\"1\"/><line transform=\"translate(960,0)\" x2=\"0\" y2=\"5\" stroke=\"#888\" stroke-width=\"1\" opacity=\"1\"/><line transform=\"translate(987,0)\" x2=\"0\" y2=\"5\" stroke=\"#888\" stroke-width=\"1\" opacity=\"1\"/><line transform=\"translate(1013,0)\" x2=\"0\" y2=\"5\" stroke=\"#888\" stroke-width=\"1\" opacity=\"1\"/><line transform=\"translate(1040,0)\" x2=\"0\" y2=\"5\" stroke=\"#888\" stroke-width=\"1\" opacity=\"1\"/><line transform=\"translate(1067,0)\" x2=\"0\" y2=\"5\" stroke=\"#888\" stroke-width=\"1\" opacity=\"1\"/><line transform=\"translate(1093,0)\" x2=\"0\" y2=\"5\" stroke=\"#888\" stroke-width=\"1\" opacity=\"1\"/><line transform=\"translate(1120,0)\" x2=\"0\" y2=\"5\" stroke=\"#888\" stroke-width=\"1\" opacity=\"1\"/><line transform=\"translate(1147,0)\" x2=\"0\" y2=\"5\" stroke=\"#888\" stroke-width=\"1\" opacity=\"1\"/><line transform=\"translate(1173,0)\" x2=\"0\" y2=\"5\" stroke=\"#888\" stroke-width=\"1\" opacity=\"1\"/><line transform=\"translate(1200,0)\" x2=\"0\" y2=\"5\" stroke=\"#888\" stroke-width=\"1\" opacity=\"1\"/></g><g class=\"mark-text role-axis-label\" pointer-events=\"none\"><text text-anchor=\"start\" transform=\"translate(0,15)\" font-family=\"sans-serif\" font-size=\"10px\" fill=\"#000\" opacity=\"1\">−1.0</text><text text-anchor=\"middle\" transform=\"translate(26.66666666666666,15)\" font-family=\"sans-serif\" font-size=\"10px\" fill=\"#000\" opacity=\"0\">−0.8</text><text text-anchor=\"middle\" transform=\"translate(53.333333333333336,15)\" font-family=\"sans-serif\" font-size=\"10px\" fill=\"#000\" opacity=\"1\">−0.6</text><text text-anchor=\"middle\" transform=\"translate(80,15)\" font-family=\"sans-serif\" font-size=\"10px\" fill=\"#000\" opacity=\"0\">−0.4</text><text text-anchor=\"middle\" transform=\"translate(106.66666666666667,15)\" font-family=\"sans-serif\" font-size=\"10px\" fill=\"#000\" opacity=\"1\">−0.2</text><text text-anchor=\"middle\" transform=\"translate(133.33333333333331,15)\" font-family=\"sans-serif\" font-size=\"10px\" fill=\"#000\" opacity=\"0\">0.0</text><text text-anchor=\"middle\" transform=\"translate(160,15)\" font-family=\"sans-serif\" font-size=\"10px\" fill=\"#000\" opacity=\"1\">0.2</text><text text-anchor=\"middle\" transform=\"translate(186.66666666666666,15)\" font-family=\"sans-serif\" font-size=\"10px\" fill=\"#000\" opacity=\"0\">0.4</text><text text-anchor=\"middle\" transform=\"translate(213.33333333333334,15)\" font-family=\"sans-serif\" font-size=\"10px\" fill=\"#000\" opacity=\"1\">0.6</text><text text-anchor=\"middle\" transform=\"translate(240,15)\" font-family=\"sans-serif\" font-size=\"10px\" fill=\"#000\" opacity=\"0\">0.8</text><text text-anchor=\"middle\" transform=\"translate(266.66666666666663,15)\" font-family=\"sans-serif\" font-size=\"10px\" fill=\"#000\" opacity=\"1\">1.0</text><text text-anchor=\"middle\" transform=\"translate(293.33333333333337,15)\" font-family=\"sans-serif\" font-size=\"10px\" fill=\"#000\" opacity=\"0\">1.2</text><text text-anchor=\"middle\" transform=\"translate(320,15)\" font-family=\"sans-serif\" font-size=\"10px\" fill=\"#000\" opacity=\"1\">1.4</text><text text-anchor=\"middle\" transform=\"translate(346.6666666666667,15)\" font-family=\"sans-serif\" font-size=\"10px\" fill=\"#000\" opacity=\"0\">1.6</text><text text-anchor=\"middle\" transform=\"translate(373.3333333333333,15)\" font-family=\"sans-serif\" font-size=\"10px\" fill=\"#000\" opacity=\"1\">1.8</text><text text-anchor=\"middle\" transform=\"translate(400,15)\" font-family=\"sans-serif\" font-size=\"10px\" fill=\"#000\" opacity=\"0\">2.0</text><text text-anchor=\"middle\" transform=\"translate(426.6666666666667,15)\" font-family=\"sans-serif\" font-size=\"10px\" fill=\"#000\" opacity=\"1\">2.2</text><text text-anchor=\"middle\" transform=\"translate(453.3333333333333,15)\" font-family=\"sans-serif\" font-size=\"10px\" fill=\"#000\" opacity=\"0\">2.4</text><text text-anchor=\"middle\" transform=\"translate(480,15)\" font-family=\"sans-serif\" font-size=\"10px\" fill=\"#000\" opacity=\"1\">2.6</text><text text-anchor=\"middle\" transform=\"translate(506.6666666666667,15)\" font-family=\"sans-serif\" font-size=\"10px\" fill=\"#000\" opacity=\"0\">2.8</text><text text-anchor=\"middle\" transform=\"translate(533.3333333333333,15)\" font-family=\"sans-serif\" font-size=\"10px\" fill=\"#000\" opacity=\"1\">3.0</text><text text-anchor=\"middle\" transform=\"translate(560,15)\" font-family=\"sans-serif\" font-size=\"10px\" fill=\"#000\" opacity=\"0\">3.2</text><text text-anchor=\"middle\" transform=\"translate(586.6666666666667,15)\" font-family=\"sans-serif\" font-size=\"10px\" fill=\"#000\" opacity=\"1\">3.4</text><text text-anchor=\"middle\" transform=\"translate(613.3333333333333,15)\" font-family=\"sans-serif\" font-size=\"10px\" fill=\"#000\" opacity=\"0\">3.6</text><text text-anchor=\"middle\" transform=\"translate(640,15)\" font-family=\"sans-serif\" font-size=\"10px\" fill=\"#000\" opacity=\"1\">3.8</text><text text-anchor=\"middle\" transform=\"translate(666.6666666666667,15)\" font-family=\"sans-serif\" font-size=\"10px\" fill=\"#000\" opacity=\"0\">4.0</text><text text-anchor=\"middle\" transform=\"translate(693.3333333333334,15)\" font-family=\"sans-serif\" font-size=\"10px\" fill=\"#000\" opacity=\"1\">4.2</text><text text-anchor=\"middle\" transform=\"translate(720.0000000000001,15)\" font-family=\"sans-serif\" font-size=\"10px\" fill=\"#000\" opacity=\"0\">4.4</text><text text-anchor=\"middle\" transform=\"translate(746.6666666666666,15)\" font-family=\"sans-serif\" font-size=\"10px\" fill=\"#000\" opacity=\"1\">4.6</text><text text-anchor=\"middle\" transform=\"translate(773.3333333333333,15)\" font-family=\"sans-serif\" font-size=\"10px\" fill=\"#000\" opacity=\"0\">4.8</text><text text-anchor=\"middle\" transform=\"translate(800,15)\" font-family=\"sans-serif\" font-size=\"10px\" fill=\"#000\" opacity=\"1\">5.0</text><text text-anchor=\"middle\" transform=\"translate(826.6666666666666,15)\" font-family=\"sans-serif\" font-size=\"10px\" fill=\"#000\" opacity=\"0\">5.2</text><text text-anchor=\"middle\" transform=\"translate(853.3333333333334,15)\" font-family=\"sans-serif\" font-size=\"10px\" fill=\"#000\" opacity=\"1\">5.4</text><text text-anchor=\"middle\" transform=\"translate(879.9999999999999,15)\" font-family=\"sans-serif\" font-size=\"10px\" fill=\"#000\" opacity=\"0\">5.6</text><text text-anchor=\"middle\" transform=\"translate(906.6666666666666,15)\" font-family=\"sans-serif\" font-size=\"10px\" fill=\"#000\" opacity=\"1\">5.8</text><text text-anchor=\"middle\" transform=\"translate(933.3333333333334,15)\" font-family=\"sans-serif\" font-size=\"10px\" fill=\"#000\" opacity=\"0\">6.0</text><text text-anchor=\"middle\" transform=\"translate(960,15)\" font-family=\"sans-serif\" font-size=\"10px\" fill=\"#000\" opacity=\"1\">6.2</text><text text-anchor=\"middle\" transform=\"translate(986.6666666666667,15)\" font-family=\"sans-serif\" font-size=\"10px\" fill=\"#000\" opacity=\"0\">6.4</text><text text-anchor=\"middle\" transform=\"translate(1013.3333333333334,15)\" font-family=\"sans-serif\" font-size=\"10px\" fill=\"#000\" opacity=\"1\">6.6</text><text text-anchor=\"middle\" transform=\"translate(1040,15)\" font-family=\"sans-serif\" font-size=\"10px\" fill=\"#000\" opacity=\"0\">6.8</text><text text-anchor=\"middle\" transform=\"translate(1066.6666666666665,15)\" font-family=\"sans-serif\" font-size=\"10px\" fill=\"#000\" opacity=\"1\">7.0</text><text text-anchor=\"middle\" transform=\"translate(1093.3333333333333,15)\" font-family=\"sans-serif\" font-size=\"10px\" fill=\"#000\" opacity=\"0\">7.2</text><text text-anchor=\"middle\" transform=\"translate(1120,15)\" font-family=\"sans-serif\" font-size=\"10px\" fill=\"#000\" opacity=\"1\">7.4</text><text text-anchor=\"middle\" transform=\"translate(1146.6666666666665,15)\" font-family=\"sans-serif\" font-size=\"10px\" fill=\"#000\" opacity=\"0\">7.6</text><text text-anchor=\"middle\" transform=\"translate(1173.3333333333335,15)\" font-family=\"sans-serif\" font-size=\"10px\" fill=\"#000\" opacity=\"1\">7.8</text><text text-anchor=\"end\" transform=\"translate(1200,15)\" font-family=\"sans-serif\" font-size=\"10px\" fill=\"#000\" opacity=\"0\">8.0</text></g><g class=\"mark-rule role-axis-domain\" pointer-events=\"none\"><line transform=\"translate(0,0)\" x2=\"1200\" y2=\"0\" stroke=\"#888\" stroke-width=\"1\" opacity=\"1\"/></g><g class=\"mark-text role-axis-title\" pointer-events=\"none\"><text text-anchor=\"middle\" transform=\"translate(600,30)\" font-family=\"sans-serif\" font-size=\"11px\" font-weight=\"bold\" fill=\"#000\" opacity=\"1\">n</text></g></g><path class=\"foreground\" aria-hidden=\"true\" d=\"\" pointer-events=\"none\" display=\"none\"/></g></g><g class=\"mark-group role-axis\" role=\"graphics-symbol\" aria-roledescription=\"axis\" aria-label=\"Y-axis titled 'nrow' for a linear scale with values from 0.0 to 0.6\"><g transform=\"translate(0.5,0.5)\"><path class=\"background\" aria-hidden=\"true\" d=\"M0,0h0v0h0Z\" pointer-events=\"none\"/><g><g class=\"mark-rule role-axis-tick\" pointer-events=\"none\"><line transform=\"translate(0,600)\" x2=\"-5\" y2=\"0\" stroke=\"#888\" stroke-width=\"1\" opacity=\"1\"/><line transform=\"translate(0,545)\" x2=\"-5\" y2=\"0\" stroke=\"#888\" stroke-width=\"1\" opacity=\"1\"/><line transform=\"translate(0,491)\" x2=\"-5\" y2=\"0\" stroke=\"#888\" stroke-width=\"1\" opacity=\"1\"/><line transform=\"translate(0,436)\" x2=\"-5\" y2=\"0\" stroke=\"#888\" stroke-width=\"1\" opacity=\"1\"/><line transform=\"translate(0,382)\" x2=\"-5\" y2=\"0\" stroke=\"#888\" stroke-width=\"1\" opacity=\"1\"/><line transform=\"translate(0,327)\" x2=\"-5\" y2=\"0\" stroke=\"#888\" stroke-width=\"1\" opacity=\"1\"/><line transform=\"translate(0,273)\" x2=\"-5\" y2=\"0\" stroke=\"#888\" stroke-width=\"1\" opacity=\"1\"/><line transform=\"translate(0,218)\" x2=\"-5\" y2=\"0\" stroke=\"#888\" stroke-width=\"1\" opacity=\"1\"/><line transform=\"translate(0,164)\" x2=\"-5\" y2=\"0\" stroke=\"#888\" stroke-width=\"1\" opacity=\"1\"/><line transform=\"translate(0,109)\" x2=\"-5\" y2=\"0\" stroke=\"#888\" stroke-width=\"1\" opacity=\"1\"/><line transform=\"translate(0,55)\" x2=\"-5\" y2=\"0\" stroke=\"#888\" stroke-width=\"1\" opacity=\"1\"/><line transform=\"translate(0,0)\" x2=\"-5\" y2=\"0\" stroke=\"#888\" stroke-width=\"1\" opacity=\"1\"/></g><g class=\"mark-text role-axis-label\" pointer-events=\"none\"><text text-anchor=\"end\" transform=\"translate(-7,603)\" font-family=\"sans-serif\" font-size=\"10px\" fill=\"#000\" opacity=\"1\">0.00</text><text text-anchor=\"end\" transform=\"translate(-7,548.4545454545454)\" font-family=\"sans-serif\" font-size=\"10px\" fill=\"#000\" opacity=\"1\">0.05</text><text text-anchor=\"end\" transform=\"translate(-7,493.9090909090909)\" font-family=\"sans-serif\" font-size=\"10px\" fill=\"#000\" opacity=\"1\">0.10</text><text text-anchor=\"end\" transform=\"translate(-7,439.3636363636364)\" font-family=\"sans-serif\" font-size=\"10px\" fill=\"#000\" opacity=\"1\">0.15</text><text text-anchor=\"end\" transform=\"translate(-7,384.8181818181818)\" font-family=\"sans-serif\" font-size=\"10px\" fill=\"#000\" opacity=\"1\">0.20</text><text text-anchor=\"end\" transform=\"translate(-7,330.27272727272725)\" font-family=\"sans-serif\" font-size=\"10px\" fill=\"#000\" opacity=\"1\">0.25</text><text text-anchor=\"end\" transform=\"translate(-7,275.72727272727275)\" font-family=\"sans-serif\" font-size=\"10px\" fill=\"#000\" opacity=\"1\">0.30</text><text text-anchor=\"end\" transform=\"translate(-7,221.18181818181824)\" font-family=\"sans-serif\" font-size=\"10px\" fill=\"#000\" opacity=\"1\">0.35</text><text text-anchor=\"end\" transform=\"translate(-7,166.63636363636363)\" font-family=\"sans-serif\" font-size=\"10px\" fill=\"#000\" opacity=\"1\">0.40</text><text text-anchor=\"end\" transform=\"translate(-7,112.09090909090912)\" font-family=\"sans-serif\" font-size=\"10px\" fill=\"#000\" opacity=\"1\">0.45</text><text text-anchor=\"end\" transform=\"translate(-7,57.54545454545456)\" font-family=\"sans-serif\" font-size=\"10px\" fill=\"#000\" opacity=\"1\">0.50</text><text text-anchor=\"end\" transform=\"translate(-7,3)\" font-family=\"sans-serif\" font-size=\"10px\" fill=\"#000\" opacity=\"1\">0.55</text></g><g class=\"mark-rule role-axis-domain\" pointer-events=\"none\"><line transform=\"translate(0,600)\" x2=\"0\" y2=\"-600\" stroke=\"#888\" stroke-width=\"1\" opacity=\"1\"/></g><g class=\"mark-text role-axis-title\" pointer-events=\"none\"><text text-anchor=\"middle\" transform=\"translate(-29,300) rotate(-90) translate(0,-2)\" font-family=\"sans-serif\" font-size=\"11px\" font-weight=\"bold\" fill=\"#000\" opacity=\"1\">nrow</text></g></g><path class=\"foreground\" aria-hidden=\"true\" d=\"\" pointer-events=\"none\" display=\"none\"/></g></g><g class=\"mark-rect role-mark marks\" role=\"graphics-object\" aria-roledescription=\"rect mark container\"><path aria-label=\"n: 0; nrow: 0.501369863014\" role=\"graphics-symbol\" aria-roledescription=\"bar\" d=\"M130.83333333333331,53.051058530510595h5v546.9489414694895h-5Z\" fill=\"#4c78a8\"/><path aria-label=\"n: 1; nrow: 0.282191780822\" role=\"graphics-symbol\" aria-roledescription=\"bar\" d=\"M264.16666666666663,292.1544209215443h5v307.8455790784557h-5Z\" fill=\"#4c78a8\"/><path aria-label=\"n: 2; nrow: 0.145205479452\" role=\"graphics-symbol\" aria-roledescription=\"bar\" d=\"M397.5,441.59402241594023h5v158.40597758405977h-5Z\" fill=\"#4c78a8\"/><path aria-label=\"n: 3; nrow: 0.0493150684932\" role=\"graphics-symbol\" aria-roledescription=\"bar\" d=\"M530.8333333333333,546.2017434620175h5v53.798256537982525h-5Z\" fill=\"#4c78a8\"/><path aria-label=\"n: 4; nrow: 0.0109589041096\" role=\"graphics-symbol\" aria-roledescription=\"bar\" d=\"M664.1666666666667,588.0448318804483h5v11.955168119551672h-5Z\" fill=\"#4c78a8\"/><path aria-label=\"n: 5; nrow: 0.0027397260274\" role=\"graphics-symbol\" aria-roledescription=\"bar\" d=\"M797.5,597.0112079701121h5v2.988792029887918h-5Z\" fill=\"#4c78a8\"/><path aria-label=\"n: 6; nrow: 0.00547945205479\" role=\"graphics-symbol\" aria-roledescription=\"bar\" d=\"M930.8333333333334,594.0224159402242h5v5.977584059775836h-5Z\" fill=\"#4c78a8\"/><path aria-label=\"n: 7; nrow: 0.0027397260274\" role=\"graphics-symbol\" aria-roledescription=\"bar\" d=\"M1064.1666666666665,597.0112079701121h5v2.988792029887918h-5Z\" fill=\"#4c78a8\"/></g><g class=\"mark-group role-title\"><g transform=\"translate(600,-22)\"><path class=\"background\" aria-hidden=\"true\" d=\"M0,0h0v0h0Z\" pointer-events=\"none\"/><g><g class=\"mark-text role-title-text\" role=\"graphics-symbol\" aria-roledescription=\"title\" aria-label=\"Title text 'Poisson-styled reprezentation of data'\" pointer-events=\"none\"><text text-anchor=\"middle\" transform=\"translate(0,10)\" font-family=\"sans-serif\" font-size=\"13px\" font-weight=\"bold\" fill=\"#000\" opacity=\"1\">Poisson-styled reprezentation of data</text></g></g><path class=\"foreground\" aria-hidden=\"true\" d=\"\" pointer-events=\"none\" display=\"none\"/></g></g></g><path class=\"foreground\" aria-hidden=\"true\" d=\"\" display=\"none\"/></g></g></g></svg>\n"
      ],
      "text/plain": [
       "@vlplot(\n",
       "    height=600,\n",
       "    width=1200,\n",
       "    title=\"Poisson-styled reprezentation of data\",\n",
       "    mark=\"bar\",\n",
       "    encoding={\n",
       "        x={\n",
       "            field=\"n\"\n",
       "        },\n",
       "        y={\n",
       "            field=\"nrow\"\n",
       "        }\n",
       "    },\n",
       "    data={\n",
       "        values=...\n",
       "    }\n",
       ")"
      ]
     },
     "execution_count": 11,
     "metadata": {},
     "output_type": "execute_result"
    }
   ],
   "source": [
    "mod |> @vlplot(\n",
    "    height=600,\n",
    "    width=1200,\n",
    "    :bar,\n",
    "    x=:n,\n",
    "    y=:nrow,\n",
    "    title = \"Poisson-styled reprezentation of data\"\n",
    ")"
   ]
  },
  {
   "cell_type": "markdown",
   "id": "57df78c7-1934-46b2-ad01-e9fccdfafdcd",
   "metadata": {},
   "source": [
    "> Tu pojawi się dopasowanie rozkładu Poissona i model predykcji"
   ]
  },
  {
   "cell_type": "code",
   "execution_count": null,
   "id": "7eabef55-1a09-4c94-99cd-4f4401e20b02",
   "metadata": {},
   "outputs": [],
   "source": []
  }
 ],
 "metadata": {
  "kernelspec": {
   "display_name": "Julia 1.7.2",
   "language": "julia",
   "name": "julia-1.7"
  },
  "language_info": {
   "file_extension": ".jl",
   "mimetype": "application/julia",
   "name": "julia",
   "version": "1.7.2"
  }
 },
 "nbformat": 4,
 "nbformat_minor": 5
}
