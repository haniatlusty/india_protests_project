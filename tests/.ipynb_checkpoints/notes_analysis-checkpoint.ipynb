{
 "cells": [
  {
   "cell_type": "code",
   "execution_count": 29,
   "id": "0c931510-44a1-46c2-90bc-e4296c130c14",
   "metadata": {},
   "outputs": [],
   "source": [
    "using StatsKit, Query, Dates, VegaLite, TextAnalysis;"
   ]
  },
  {
   "cell_type": "code",
   "execution_count": 30,
   "id": "672adcae-435c-4796-a5ef-46743711b7f9",
   "metadata": {},
   "outputs": [],
   "source": [
    "df = CSV.read(\"../data/2016-2022.csv\", DataFrame);"
   ]
  },
  {
   "cell_type": "code",
   "execution_count": 31,
   "id": "2811989a-54c8-408d-a91d-05f08302d4ce",
   "metadata": {},
   "outputs": [],
   "source": [
    "function the_day(data, date)\n",
    "    df = @from i in data begin\n",
    "        @where i.event_date == date\n",
    "        @select {i.event_date, i.event_type, i.sub_event_type, i.location, i.fatalities,i.notes}\n",
    "        @collect DataFrame\n",
    "    end\n",
    "    return (Set(df.event_type), Set(df.sub_event_type), Set(df.location), Set(df.fatalities), df)\n",
    "end;"
   ]
  },
  {
   "cell_type": "code",
   "execution_count": 32,
   "id": "0c593cb1-cb27-4abc-bbc0-c5383454c5b7",
   "metadata": {
    "jupyter": {
     "source_hidden": true
    },
    "tags": []
   },
   "outputs": [
    {
     "ename": "LoadError",
     "evalue": "UndefVarError: SentimentAnalyzer not defined",
     "output_type": "error",
     "traceback": [
      "UndefVarError: SentimentAnalyzer not defined",
      "",
      "Stacktrace:",
      " [1] getproperty(x::Module, f::Symbol)",
      "   @ Base ./Base.jl:35",
      " [2] top-level scope",
      "   @ In[32]:1",
      " [3] eval",
      "   @ ./boot.jl:373 [inlined]",
      " [4] include_string(mapexpr::typeof(REPL.softscope), mod::Module, code::String, filename::String)",
      "   @ Base ./loading.jl:1196"
     ]
    }
   ],
   "source": [
    "model = TextAnalysis.SentimentAnalyzer()"
   ]
  },
  {
   "cell_type": "code",
   "execution_count": 22,
   "id": "205aabcb-1d39-4e7c-a41f-007c04daeae9",
   "metadata": {},
   "outputs": [],
   "source": [
    "event_type, sub_et, cities, fatals, mystring = the_day(df, \"20 April 2019\");"
   ]
  },
  {
   "cell_type": "code",
   "execution_count": 26,
   "id": "5820cc6b-fea8-4096-b403-0ca256705c01",
   "metadata": {},
   "outputs": [],
   "source": [
    "my_notes = mystring.notes;"
   ]
  },
  {
   "cell_type": "code",
   "execution_count": 27,
   "id": "7c0734fd-3c54-49e1-9436-c2ecc8892020",
   "metadata": {},
   "outputs": [
    {
     "data": {
      "text/plain": [
       "\"On 20 April, hundreds of farmers blocked the Malout-Bathinda national highway in Gidderbaha town (Mukstar, Punjab) to oppose the blockage of their produce by the police and market officials due to alleged high moisture content. [size=hundreds]\""
      ]
     },
     "execution_count": 27,
     "metadata": {},
     "output_type": "execute_result"
    }
   ],
   "source": [
    "my_notes[1]"
   ]
  },
  {
   "cell_type": "code",
   "execution_count": null,
   "id": "bb74e427-fbb7-4901-824c-de3a5413670a",
   "metadata": {},
   "outputs": [],
   "source": []
  }
 ],
 "metadata": {
  "kernelspec": {
   "display_name": "Julia 1.7.2",
   "language": "julia",
   "name": "julia-1.7"
  },
  "language_info": {
   "file_extension": ".jl",
   "mimetype": "application/julia",
   "name": "julia",
   "version": "1.7.2"
  }
 },
 "nbformat": 4,
 "nbformat_minor": 5
}
