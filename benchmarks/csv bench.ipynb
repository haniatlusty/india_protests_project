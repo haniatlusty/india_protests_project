{
 "cells": [
  {
   "cell_type": "code",
   "execution_count": 1,
   "id": "c9e1153e-7c8d-4c7a-a43a-79217127df4f",
   "metadata": {},
   "outputs": [],
   "source": [
    "using BenchmarkTools, CSV;"
   ]
  },
  {
   "cell_type": "code",
   "execution_count": 10,
   "id": "a1e3b6c6-4571-4533-ba11-49405b0530b7",
   "metadata": {},
   "outputs": [
    {
     "name": "stdout",
     "output_type": "stream",
     "text": [
      "  286.199 ms (859 allocations: 7.59 MiB)\n"
     ]
    }
   ],
   "source": [
    "@btime CSV.File(\"../data/2016-2022.csv\",buffer_in_memory=false, select=[\"location\"]).location;"
   ]
  },
  {
   "cell_type": "code",
   "execution_count": 11,
   "id": "a1229da1-d7f7-4fb5-9caa-04eb9821f3c0",
   "metadata": {},
   "outputs": [
    {
     "name": "stdout",
     "output_type": "stream",
     "text": [
      "  295.777 ms (859 allocations: 7.59 MiB)\n"
     ]
    }
   ],
   "source": [
    "@btime CSV.File(\"../data/2016-2022.csv\",buffer_in_memory=true, select=[\"location\"]).location;"
   ]
  },
  {
   "cell_type": "code",
   "execution_count": 12,
   "id": "77926251-2e4f-461e-aa13-099f59fdeec8",
   "metadata": {},
   "outputs": [
    {
     "name": "stdout",
     "output_type": "stream",
     "text": [
      "  393.848 ms (431188 allocations: 46.23 MiB)\n"
     ]
    }
   ],
   "source": [
    "@btime map(x->x.location,CSV.Rows(\"../data/2016-2022.csv\",select=[\"location\"], reusebuffer=false));"
   ]
  },
  {
   "cell_type": "code",
   "execution_count": 13,
   "id": "6e9d7d33-a6e0-4d18-9f1d-86efad2016ea",
   "metadata": {},
   "outputs": [
    {
     "name": "stdout",
     "output_type": "stream",
     "text": [
      "  374.312 ms (323498 allocations: 15.01 MiB)\n"
     ]
    }
   ],
   "source": [
    "@btime map(x->x.location,CSV.Rows(\"../data/2016-2022.csv\",select=[\"location\"], reusebuffer=true));         # potencjalnie niebezpieczne!"
   ]
  },
  {
   "cell_type": "code",
   "execution_count": 14,
   "id": "f74bf27a-bc74-4f25-97fb-2e350b6db6a1",
   "metadata": {},
   "outputs": [
    {
     "name": "stdout",
     "output_type": "stream",
     "text": [
      "  411.073 ms (431187 allocations: 46.23 MiB)\n"
     ]
    }
   ],
   "source": [
    "@btime [x.location for x in CSV.Rows(\"../data/2016-2022.csv\",select=[\"location\"], reusebuffer=false)];"
   ]
  },
  {
   "cell_type": "code",
   "execution_count": 15,
   "id": "306b588f-443d-4fc1-b43b-88255483d4d9",
   "metadata": {},
   "outputs": [
    {
     "name": "stdout",
     "output_type": "stream",
     "text": [
      "  370.735 ms (323497 allocations: 15.01 MiB)\n"
     ]
    }
   ],
   "source": [
    "@btime [x.location for x in CSV.Rows(\"../data/2016-2022.csv\",select=[\"location\"], reusebuffer=true)];"
   ]
  },
  {
   "cell_type": "code",
   "execution_count": 16,
   "id": "cdf59e7e-16c1-4eb1-96d3-1fa82e966a79",
   "metadata": {},
   "outputs": [
    {
     "name": "stdout",
     "output_type": "stream",
     "text": [
      "  402.141 ms (646063 allocations: 55.26 MiB)\n"
     ]
    }
   ],
   "source": [
    "@btime CSV.Rows(\"../data/2016-2022.csv\",select=[\"location\"], reusebuffer=false) .|> x->x.location;"
   ]
  },
  {
   "cell_type": "code",
   "execution_count": 17,
   "id": "5df4e009-c64a-47f0-bc9a-35b2361de041",
   "metadata": {},
   "outputs": [
    {
     "name": "stdout",
     "output_type": "stream",
     "text": [
      "  386.577 ms (538373 allocations: 24.03 MiB)\n"
     ]
    }
   ],
   "source": [
    "@btime CSV.Rows(\"../data/2016-2022.csv\",select=[\"location\"], reusebuffer=true) .|> x->x.location;"
   ]
  }
 ],
 "metadata": {
  "kernelspec": {
   "display_name": "Julia 1.7.2",
   "language": "julia",
   "name": "julia-1.7"
  },
  "language_info": {
   "file_extension": ".jl",
   "mimetype": "application/julia",
   "name": "julia",
   "version": "1.7.2"
  }
 },
 "nbformat": 4,
 "nbformat_minor": 5
}
