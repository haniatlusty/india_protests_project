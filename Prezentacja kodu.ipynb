{
 "cells": [
  {
   "cell_type": "markdown",
   "id": "49c29d74-b9eb-4920-9cbf-7090a2c85642",
   "metadata": {
    "tags": []
   },
   "source": [
    "# Analiza protestów i zamieszek w Indiach w latach 2016-2022 na podstawie bazy danych"
   ]
  },
  {
   "cell_type": "markdown",
   "id": "94b68cb8-545b-44be-960f-729097dfde15",
   "metadata": {
    "tags": []
   },
   "source": [
    "### Import potrzebnych bibliotek i modułów"
   ]
  },
  {
   "cell_type": "code",
   "execution_count": null,
   "id": "deb328b1-262d-4bc3-b863-532d580a0b16",
   "metadata": {},
   "outputs": [],
   "source": [
    "using Dates"
   ]
  },
  {
   "cell_type": "code",
   "execution_count": null,
   "id": "a774dae2-3794-4b36-ae6f-21e6d8ff0f12",
   "metadata": {
    "tags": []
   },
   "outputs": [],
   "source": [
    "import Pkg"
   ]
  },
  {
   "cell_type": "code",
   "execution_count": null,
   "id": "0baaaf42-46a9-422b-9d36-20fff97d42db",
   "metadata": {
    "tags": []
   },
   "outputs": [],
   "source": [
    "function import_missing_libraries(lib_names::Vector{String})\n",
    "    status_buffer = IOBuffer()\n",
    "    for lib in lib_names\n",
    "        Pkg.status(lib, io=status_buffer)\n",
    "        if (occursin(\"No Matches\",String(take!(status_buffer))))\n",
    "            println(\"Nie znaleziono pakietu: \"*lib)\n",
    "            println(\"Próba dodania brakującego pakietu\")\n",
    "            Pkg.add(lib)\n",
    "        end\n",
    "        @eval using $(Symbol(lib))\n",
    "    end\n",
    "end;"
   ]
  },
  {
   "cell_type": "code",
   "execution_count": null,
   "id": "94702078-ae15-47a4-8bef-e89e59d5aafa",
   "metadata": {},
   "outputs": [],
   "source": [
    "import_missing_libraries([\"Plots\", \"StatsPlots\",\"StatsKit\",\"VegaLite\",\"PlotlyJS\",\"StateSpaceModels\"]);"
   ]
  },
  {
   "cell_type": "markdown",
   "id": "385a82e1-2f9b-4e0b-b85b-422f8f67e4c0",
   "metadata": {
    "tags": []
   },
   "source": [
    "## Pierwsza prezentacja"
   ]
  },
  {
   "cell_type": "markdown",
   "id": "0630ae30-3b16-4d73-a60e-30206ace1fb4",
   "metadata": {},
   "source": [
    "Zbiór świąt"
   ]
  },
  {
   "cell_type": "code",
   "execution_count": null,
   "id": "9038e1a1-a2fa-4304-87b1-1f88a9050d94",
   "metadata": {},
   "outputs": [],
   "source": [
    "holidays_set = [\"26 January 2016\",\"26 January 2017\",\"26 January 2018\",\"26 January 2019\",\"26 January 2020\",\"26 January 2021\",\n",
    "        \"26 January 2022\",\"15 August 2016\",\"15 August 2017\",\"15 August 2018\",\"15 August 2019\",\"15 August 2020\",\"15 August 2021\",\n",
    "        \"02 October 2019\",\"02 October 2016\",\"02 October 2017\",\"02 October 2018\",\"02 October 2020\",\"02 October 2021\",\n",
    "        \"11 March 2021\",\"29 March 2021\",\"21 April 2021\",\"25 April 2021\",\"26 May 2021\",\"19 July 2021\",\"12 August 2021\",\n",
    "        \"30 August 2021\",\"15 October 2021\",\"18 November 2021\",\"04 November 2021\",\"21 February 2020\",\"10 March 2020\",\n",
    "        \"02 April 2020\",\"06 April 2020\",\"07 May 2020\",\"30 July 2020\",\"18 September 2020\",\"30 August 2020\",\"25 October 2020\",\n",
    "        \"14 November 2020\",\"30 November 2020\",\"04 March 2019\", \"21 March 2019\",\"14 April 2019\",\"17 April 2019\",\"18 May 2019\",\n",
    "        \"11 August 2019\",\"24 August 2019\",\"31 August 2019\",\"08 October 2019\",\"27 October 2019\",\"12 November 2019\",\n",
    "        \"13 February 2018\",\"02 March 2018\",\"25 March 2018\",\"29 March 2018\",\"30 April 2018\",\"22 August 2018\",\"21 September 2018\",\n",
    "        \"03 August 2018\",\"19 October 2018\", \"07 November 2018\",\"23 November 2018\",\"24 February 2017\",\"13 March 2017\",\n",
    "        \"04 April 2017\",\"09 April 2017\",\"10 May 2017\",\"02 September 2017\",\"21 September 2017\",\"14 August 2017\",\"30 August 2017\",\n",
    "        \"19 October 2017\",\"04 November 2017\",\"07 March 2016\", \"24 March 2016\",\"15 April 2016\",\"19 April 2016\",\"21 May 2016\",\n",
    "        \"13 September 2016\",\"12 October 2016\",\"25 August 2016\",\"11 October 2016\",\"30 October 2016\",\"14 November 2016\"];"
   ]
  },
  {
   "cell_type": "markdown",
   "id": "3a7836f9-5b8c-41dd-ac6b-031ba30000c5",
   "metadata": {},
   "source": [
    "Odczyt bazy danych i wstępne filtrowanie"
   ]
  },
  {
   "cell_type": "code",
   "execution_count": null,
   "id": "c956f099-3668-4ef8-98ba-f590c8d75a8f",
   "metadata": {},
   "outputs": [],
   "source": [
    "df = CSV.read(\n",
    "        \"./data/2016-2022.csv\", \n",
    "        select = [\"year\", \"event_type\", \"sub_event_type\", \"longitude\", \"latitude\", \"fatalities\", \"location\", \"event_date\", \"admin1\", \"admin2\", \"time_precision\",\"notes\", \"interaction\"], \n",
    "        DataFrame\n",
    "    )"
   ]
  },
  {
   "cell_type": "code",
   "execution_count": null,
   "id": "ecd2ba3e-912e-49c7-9f58-aa7f39141722",
   "metadata": {},
   "outputs": [],
   "source": [
    "function date_conversion!(df::DataFrame, kind::String)\n",
    "    dates = df.event_date\n",
    "    dates = Dates.Date.(dates, dateformat\"d U y\")\n",
    "    if kind == \"month\"\n",
    "        months = Dates.monthname.(dates)\n",
    "        df[!,\"month\"] = months\n",
    "    elseif kind == \"day_of_week\"\n",
    "        days_of_week = Dates.dayname.(dates)\n",
    "        df[!,\"DayOfWeek\"] = days_of_week\n",
    "    elseif kind == \"day\"\n",
    "        days = Dates.day.(dates)\n",
    "        df[!,\"day\"] = days\n",
    "    else\n",
    "        throw(ArgumentError(kind, \"kind must be either \\\"month\\\", \\\"day_of_week\\\", or \\\"dat\\\". \"))\n",
    "    end\n",
    "    return df \n",
    "end;"
   ]
  },
  {
   "cell_type": "code",
   "execution_count": null,
   "id": "a342fc96-dda8-4858-8087-3401a5da9052",
   "metadata": {},
   "outputs": [],
   "source": [
    "[\"month\",\"day_of_week\",\"day\"] .|> kind -> date_conversion!(df,kind);"
   ]
  },
  {
   "cell_type": "code",
   "execution_count": null,
   "id": "5dab6603-a431-40dd-9ee9-c3460d17e228",
   "metadata": {
    "tags": []
   },
   "outputs": [],
   "source": [
    "function filter_data(data::DataFrame, param::Symbol, value)\n",
    "    df = subset(data, param => x -> x .== value)\n",
    "    return df\n",
    "end;"
   ]
  },
  {
   "cell_type": "code",
   "execution_count": null,
   "id": "65a62ad1-054d-4a90-be4a-a3ec9ec2aed2",
   "metadata": {},
   "outputs": [],
   "source": [
    "select(df,[:DayOfWeek]) |> @vlplot(\n",
    "    :bar,  \n",
    "    x = {:DayOfWeek, title = \"Day of Week\",\"sort\" = [\"Monday\", \"Tuesday\", \"Wednesday\", \"Thursday\", \"Friday\", \"Saturday\", \"Sunday\"]},\n",
    "    y = {\"count()\", axis = {title = \"Number of protests\"}},\n",
    "    color = {:DayOfWeek, legend = false},\n",
    "    title = \"By Day of Week\"\n",
    "    )"
   ]
  },
  {
   "cell_type": "code",
   "execution_count": null,
   "id": "63b2b936-05e8-413d-af6e-a7d5fb4cbaab",
   "metadata": {},
   "outputs": [],
   "source": [
    "select(df,[:month]) |> @vlplot(\n",
    "    :bar,  \n",
    "    x = {:month, title = \"Months\", \"sort\" = [\"January\",\"February\",\"March\",\"April\",\"May\",\"June\",\"July\", \"August\",\"September\",\"October\", \"November\",\"December\" ]},\n",
    "    y = {\"count()\",title = \"Number of protests\"},\n",
    "     color = {:month, legend = false},\n",
    "    title = \"By Month\"\n",
    "    )"
   ]
  },
  {
   "cell_type": "code",
   "execution_count": null,
   "id": "578b7880-df3e-4586-9cc6-0947f0c81517",
   "metadata": {},
   "outputs": [],
   "source": [
    "function add_seasons!(data::DataFrame)\n",
    "    season = []\n",
    "    for month in data.month\n",
    "        if month in [\"December\",\"January\", \"February\"]\n",
    "            push!(season, \"Winter\")\n",
    "        elseif month in [\"March\",\"April\", \"May\"]\n",
    "            push!(season, \"Spring\")\n",
    "        elseif month in [\"June\",\"July\", \"August\"]\n",
    "            push!(season, \"Summer\")\n",
    "        elseif month in [\"September\",\"October\", \"November\"]\n",
    "            push!(season, \"Autumn\")\n",
    "        end\n",
    "    end\n",
    "    data[!,\"Seasons\"] = season\n",
    "    data\n",
    "end;"
   ]
  },
  {
   "cell_type": "code",
   "execution_count": null,
   "id": "20e42b1f-c7cd-4c6a-9d51-81df28d8eee4",
   "metadata": {},
   "outputs": [],
   "source": [
    "add_seasons!(df)"
   ]
  },
  {
   "cell_type": "code",
   "execution_count": null,
   "id": "bcd09aa4-a553-4db0-af89-265240738cd6",
   "metadata": {},
   "outputs": [],
   "source": [
    "@vlplot(\n",
    "    :bar,  \n",
    "    data = select(df,[:Seasons]),\n",
    "    x = {:Seasons, title = \"Seasons\", sort = [\"Winter\", \"Spring\", \"Summer\", \"Autumn\" ]},\n",
    "    y = {\"count()\",title = \"Number of protests\"},\n",
    "     color = {:Seasons, legend = false},\n",
    "    title = \"By Season\",\n",
    "    width=600,\n",
    "    height=600\n",
    "    )"
   ]
  },
  {
   "cell_type": "code",
   "execution_count": null,
   "id": "279b53ac-aaec-41f8-b752-b00b0528b26c",
   "metadata": {},
   "outputs": [],
   "source": [
    "function holiday!(df::DataFrame, dates::Vector{String})\n",
    "    holy = in.(df.event_date, [dates])\n",
    "    df[!,\"Holiday\"] = holy\n",
    "end;"
   ]
  },
  {
   "cell_type": "code",
   "execution_count": null,
   "id": "30e2f2bb-a230-4f00-bc0d-56be7d929d58",
   "metadata": {},
   "outputs": [],
   "source": [
    "data_2019 = filter_data(df,:year,2019);\n",
    "holiday!(data_2019, holidays_set);"
   ]
  },
  {
   "cell_type": "code",
   "execution_count": null,
   "id": "8c5d385f-97e9-4f28-bd9e-171ea567eb9e",
   "metadata": {},
   "outputs": [],
   "source": [
    "function my_month(df, month)\n",
    "    df = filter_data(df, :month, month)\n",
    "    plot = @vlplot(\n",
    "    :bar,  \n",
    "    x = {df.day, title = \"Days\"},\n",
    "    y = {\"count()\",title = \"Number of Protests\"},\n",
    "    title = month*\" in \"*string(df.year[1]),\n",
    "    color = {df.Holiday, legend = false},\n",
    "    )\n",
    "    return plot\n",
    "end;"
   ]
  },
  {
   "cell_type": "code",
   "execution_count": null,
   "id": "ee7cd593-bc91-4a49-ae6b-6899c87f9bdd",
   "metadata": {},
   "outputs": [],
   "source": [
    "my_month(data_2019,\"April\")"
   ]
  },
  {
   "cell_type": "code",
   "execution_count": null,
   "id": "ad228a4b-bbef-4151-b358-3a97694de3ac",
   "metadata": {},
   "outputs": [],
   "source": [
    "function df_(data,year)\n",
    "    select(data, \"month\" in names(data) ? [:event_type,:latitude,:longitude,:year,:month] : [:event_type,:latitude,:longitude,:year]) |> d -> subset(d, :year => y -> y .== year)\n",
    "end;"
   ]
  },
  {
   "cell_type": "code",
   "execution_count": null,
   "id": "370d3cfc",
   "metadata": {},
   "outputs": [],
   "source": [
    "function getIDs_(input::String)\n",
    "\ttranslation = Dict([\n",
    "\t\t(\"Andaman and Nicobar Islands\"               , \"AN\"),\n",
    "\t\t(\"Andhra Pradesh\"                            , \"AP\"),\n",
    "\t\t(\"Arunachal Pradesh\"                         , \"AR\"),\n",
    "\t\t(\"Assam\"                                     , \"AS\"),\n",
    "\t\t(\"Bihar\"                                     , \"BR\"),\n",
    "\t\t(\"Chandigarh\"                                , \"CH\"),\n",
    "\t\t(\"Chhattisgarh\"                              , \"CG\"),\n",
    "\t\t(\"Dadra and Nagar Haveli and Daman and Diu\"  , \"DH\"),\n",
    "\t\t(\"Delhi\"                                     , \"DL\"),\n",
    "\t\t(\"Goa\"                                       , \"GA\"),\n",
    "\t\t(\"Gujarat\"                                   , \"GJ\"),\n",
    "\t\t(\"Haryana\"                                   , \"HR\"),\n",
    "\t\t(\"Himachal Pradesh\"                          , \"HP\"),\n",
    "\t\t(\"Jammu and Kashmir\"                         , \"JK\"),\n",
    "\t\t(\"Jharkhand\"                                 , \"JH\"),\n",
    "\t\t(\"Karnataka\"                                 , \"KA\"),\n",
    "\t\t(\"Kerala\"                                    , \"KL\"),\n",
    "\t\t(\"Ladakh\"                                    , \"LA\"),\n",
    "\t\t(\"Lakshadweep\"                               , \"LD\"),\n",
    "\t\t(\"Madhya Pradesh\"                            , \"MP\"),\n",
    "\t\t(\"Maharashtra\"                               , \"MH\"),\n",
    "\t\t(\"Manipur\"                                   , \"MN\"),\n",
    "\t\t(\"Meghalaya\"                                 , \"ML\"),\n",
    "\t\t(\"Mizoram\"                                   , \"MZ\"),\n",
    "\t\t(\"Nagaland\"                                  , \"NL\"),\n",
    "\t\t(\"Odisha\"                                    , \"OR\"),\n",
    "\t\t(\"Puducherry\"                                , \"PY\"),\n",
    "\t\t(\"Punjab\"                                    , \"PB\"),\n",
    "\t\t(\"Rajasthan\"                                 , \"RJ\"),\n",
    "\t\t(\"Sikkim\"                                    , \"SK\"),\n",
    "\t\t(\"Tamil Nadu\"                                , \"TN\"),\n",
    "\t\t(\"Telangana\"                                 , \"TG\"),\n",
    "\t\t(\"Tripura\"                                   , \"TR\"),\n",
    "\t\t(\"Uttar Pradesh\"                             , \"UP\"),\n",
    "\t\t(\"Uttarakhand\"                               , \"UL\"),                        \n",
    "\t\t(\"West Bengal\"                               , \"WB\")\n",
    "\t])\n",
    "\ttranslation[input]\n",
    "end"
   ]
  },
  {
   "cell_type": "code",
   "execution_count": null,
   "id": "b87e9c8a",
   "metadata": {},
   "outputs": [],
   "source": [
    "function getIDs_(input::Vector{String})\n",
    "\ttranslation = Dict([\n",
    "\t\t(\"Andaman and Nicobar Islands\"               , \"AN\"),\n",
    "\t\t(\"Andhra Pradesh\"                            , \"AP\"),\n",
    "\t\t(\"Arunachal Pradesh\"                         , \"AR\"),\n",
    "\t\t(\"Assam\"                                     , \"AS\"),\n",
    "\t\t(\"Bihar\"                                     , \"BR\"),\n",
    "\t\t(\"Chandigarh\"                                , \"CH\"),\n",
    "\t\t(\"Chhattisgarh\"                              , \"CT\"),\n",
    "\t\t(\"Dadra and Nagar Haveli and Daman and Diu\"  , \"DH\"),\n",
    "\t\t(\"Delhi\"                                     , \"DL\"),\n",
    "\t\t(\"Goa\"                                       , \"GA\"),\n",
    "\t\t(\"Gujarat\"                                   , \"GJ\"),\n",
    "\t\t(\"Haryana\"                                   , \"HR\"),\n",
    "\t\t(\"Himachal Pradesh\"                          , \"HP\"),\n",
    "\t\t(\"Jammu and Kashmir\"                         , \"JK\"),\n",
    "\t\t(\"Jharkhand\"                                 , \"JH\"),\n",
    "\t\t(\"Karnataka\"                                 , \"KA\"),\n",
    "\t\t(\"Kerala\"                                    , \"KL\"),\n",
    "\t\t(\"Ladakh\"                                    , \"LA\"),\n",
    "\t\t(\"Lakshadweep\"                               , \"LD\"),\n",
    "\t\t(\"Madhya Pradesh\"                            , \"MP\"),\n",
    "\t\t(\"Maharashtra\"                               , \"MH\"),\n",
    "\t\t(\"Manipur\"                                   , \"MN\"),\n",
    "\t\t(\"Meghalaya\"                                 , \"ML\"),\n",
    "\t\t(\"Mizoram\"                                   , \"MZ\"),\n",
    "\t\t(\"Nagaland\"                                  , \"NL\"),\n",
    "\t\t(\"Odisha\"                                    , \"OR\"),\n",
    "\t\t(\"Puducherry\"                                , \"PY\"),\n",
    "\t\t(\"Punjab\"                                    , \"PB\"),\n",
    "\t\t(\"Rajasthan\"                                 , \"RJ\"),\n",
    "\t\t(\"Sikkim\"                                    , \"SK\"),\n",
    "\t\t(\"Tamil Nadu\"                                , \"TN\"),\n",
    "\t\t(\"Telangana\"                                 , \"TG\"),\n",
    "\t\t(\"Tripura\"                                   , \"TR\"),\n",
    "\t\t(\"Uttar Pradesh\"                             , \"UP\"),\n",
    "\t\t(\"Uttarakhand\"                               , \"UL\"),                        \n",
    "\t\t(\"West Bengal\"                               , \"WB\")\n",
    "\t])\n",
    "\tinput .|> k -> translation[k]\n",
    "end"
   ]
  },
  {
   "cell_type": "code",
   "execution_count": null,
   "id": "5a3f54f4",
   "metadata": {},
   "outputs": [],
   "source": [
    "function Counter_of_protests(df::DataFrame)\n",
    "\tcounter = countmap(df.admin1)\n",
    "\tDataFrame(ID_admin1 = getIDs_([keys(counter)...]), n = [values(counter)...], state = [keys(counter)...])\n",
    "end"
   ]
  },
  {
   "cell_type": "markdown",
   "id": "3a3d596f",
   "metadata": {},
   "source": [
    "Tworzenie różnych wykresów słupkowych"
   ]
  },
  {
   "cell_type": "code",
   "execution_count": null,
   "id": "c36e8ff9",
   "metadata": {},
   "outputs": [],
   "source": [
    "@vlplot(                                      # wykres ilość protestów w danym roku; wykres słupkowy\n",
    "\theigh = 500,\n",
    "\twidth = 300,\n",
    "    :bar,\n",
    "\tdata=select(df,[:year,:event_type]),\n",
    "    x={\n",
    "\t\t:year,\n",
    "\t    title = \"Lata\" },\n",
    "    y= { \n",
    "\t\t\"count()\",\n",
    "\t     title = \"Ilość występowania protestów\" },  \n",
    "    color= { \n",
    "\t\t:event_type,\n",
    "        legend={\n",
    "            title=\"Rodzaj konfilktu\"\n",
    "        }\n",
    "   }\n",
    ")"
   ]
  },
  {
   "cell_type": "code",
   "execution_count": null,
   "id": "53b7be66",
   "metadata": {},
   "outputs": [],
   "source": [
    "@vlplot(\n",
    "\theigh = 500,\n",
    "\twidth = 300,\n",
    "    :bar,\n",
    "\tdata=select(df_(df, 2016), [:month, :event_type]),\n",
    "    x={\n",
    "\t\t:month,\n",
    "\t    title = \"Miesiące\" },\n",
    "    y= { \n",
    "\t\t\"count()\",\n",
    "\t     title = \"Ilość występowania protestów\" },  \n",
    "    color= { \n",
    "\t\t:event_type,\n",
    "        legend={\n",
    "            title=\"Rodzaj konfilktu\"\n",
    "        }\n",
    "   },\n",
    "   title = \"Badanie występowania protestów w roku 2016\"\n",
    "    \n",
    ")"
   ]
  },
  {
   "cell_type": "markdown",
   "id": "5d455b6f",
   "metadata": {},
   "source": [
    "Tworzenie map Indii, przedstawianie na nich danych"
   ]
  },
  {
   "cell_type": "markdown",
   "id": "b9142f3b",
   "metadata": {},
   "source": [
    "a) punktowe rozmieszczenie konfliktów na mapie"
   ]
  },
  {
   "cell_type": "code",
   "execution_count": null,
   "id": "dd6365f8",
   "metadata": {},
   "outputs": [],
   "source": [
    "topo_json = read(\"./data/mapsindia1.json\", String);"
   ]
  },
  {
   "cell_type": "code",
   "execution_count": null,
   "id": "d2ee9824",
   "metadata": {},
   "outputs": [],
   "source": [
    "@vlplot(width=500, height=400) +\n",
    "@vlplot(\n",
    "    data={\n",
    "        values=topo_json,\n",
    "        format={\n",
    "            type=:topojson,\n",
    "            feature=:states\n",
    "        }\n",
    "    },\n",
    "    mark={\n",
    "        :geoshape,\n",
    "        stroke=:white,\n",
    "        strokeWidth=2\n",
    "    },\n",
    "    color={value=\"#bebebe\"}\n",
    ") +\n",
    "@vlplot(\n",
    "\t:circle,\n",
    "    data       = select(df,[:longitude,:latitude,:event_type]),\n",
    "    projection = {type=:equalEarth},\n",
    "    longitude  = :longitude,\n",
    "    latitude   = :latitude,\n",
    "    color      = { \n",
    "\t\tfield  = :event_type,            # w opcji color możemy zmienić to co chcemy pokazać na mapie\n",
    "\t    title  = \"Rodzaje konfliktów\",\n",
    "\t},\n",
    "    title      = \"Mapa występowania konfliktów\",\n",
    ")"
   ]
  },
  {
   "cell_type": "code",
   "execution_count": null,
   "id": "7a37b62a",
   "metadata": {},
   "outputs": [],
   "source": [
    "@vlplot(width=500, height=400) +\n",
    "@vlplot(\n",
    "    data={\n",
    "        values=topo_json,\n",
    "        format={\n",
    "            type=:topojson,\n",
    "            feature=:states\n",
    "        }\n",
    "    },\n",
    "    mark={\n",
    "        :geoshape,\n",
    "        stroke=:white,\n",
    "        strokeWidth=2\n",
    "    },\n",
    "    color={value=\"#bebebe\"}\n",
    ") +\n",
    "@vlplot(\n",
    "\t:circle,\n",
    "    data       = select(df_(df, 2017),[:longitude,:latitude,:event_type]), # korzystanie z funkcji df_ jeśli chcemy wyodrębnić dany rok\n",
    "    projection = {type=:equalEarth},\n",
    "    longitude  = \"longitude\",\n",
    "    latitude   = \"latitude\",\n",
    "    color      = { \n",
    "\t\tfield  = \"event_type\",            # w opcji color możemy zmienić to co chcemy pokazać na mapie\n",
    "\t    title  = \"Rodzaje konfliktów\",\n",
    "\t},\n",
    "    title      = \"Mapa występowania konfliktów\",\n",
    ")"
   ]
  },
  {
   "cell_type": "markdown",
   "id": "3e4ba081",
   "metadata": {},
   "source": [
    "b) Tworzenie heatmapy, rozmieszczenia konfliktow"
   ]
  },
  {
   "cell_type": "code",
   "execution_count": null,
   "id": "c436b345-6665-47bc-9bd8-623662d04ab9",
   "metadata": {},
   "outputs": [],
   "source": [
    "function Count_of_protests(df::DataFrame)\n",
    "\tcounter = countmap(df.admin1)\n",
    "\td = DataFrame(ID_admin1 = getIDs_([keys(counter)...]), n = [values(counter)...], state = [keys(counter)...])\n",
    "end;"
   ]
  },
  {
   "cell_type": "code",
   "execution_count": null,
   "id": "7944c9aa",
   "metadata": {},
   "outputs": [],
   "source": [
    "@vlplot(\n",
    "\theight = 700,\n",
    "\twidth = 900 ) +\n",
    "@vlplot(\n",
    "\tdata = {\n",
    "\t    values = topo_json,\n",
    "        format = {\n",
    "\t\t    type=:topojson,\n",
    "            feature=:states\n",
    "\t\t}\n",
    "    },\n",
    "    mark = {\n",
    "\t    :geoshape,\n",
    "\t\tstroke=:white,\n",
    "\t\tstrokeWidth=2\n",
    "    },\n",
    "    transform=[{\n",
    "        lookup=:id,\n",
    "        from={\n",
    "            data=sort!(Count_of_protests(df), :state),\n",
    "            key=:ID_admin1,\n",
    "            fields=[\"n\"]\n",
    "\t\t},\n",
    "\tas=:admin\n",
    "    }],\n",
    "    projection = {type=:equalEarth},\n",
    "\tcolor = {\n",
    "\t   :admin,\n",
    "\t   type=:quantitative,\n",
    "       title = \"Natężenie zdarzeń\"\n",
    "\t\t},\n",
    "    title = \"Mapa przedstawiająca ilość konfliktów w danym rejonie\"\n",
    ") "
   ]
  },
  {
   "cell_type": "code",
   "execution_count": null,
   "id": "6d980e18-5612-4a72-9662-c78e8dc309a5",
   "metadata": {},
   "outputs": [],
   "source": [
    "df_cv = select(df, [:year, :event_date,:interaction, :sub_event_type, :latitude, :longitude]) |> d -> subset(d, :interaction => i -> in.(i,[[15 16 17 35 36 37]]));"
   ]
  },
  {
   "cell_type": "code",
   "execution_count": null,
   "id": "6ccfcc69-7550-48ac-8766-9f1aa9c8852b",
   "metadata": {},
   "outputs": [],
   "source": [
    "dom = sort(unique(df.sub_event_type));"
   ]
  },
  {
   "cell_type": "code",
   "execution_count": null,
   "id": "d4e2f94a-83b4-415f-81b2-d33e359055d9",
   "metadata": {},
   "outputs": [],
   "source": [
    "colors = [\"#069668\", \"#f90da0\", \"#35e0a9\", \"#c6523e\", \"#75d5e1\", \"#eb1138\", \"#347383\", \"#ccb0cb\", \"#476af9\", \"#e1c637\", \"#803ef3\", \"#f6a679\", \"#6e6494\", \"#fd95e8\", \"#926026\"];"
   ]
  },
  {
   "cell_type": "code",
   "execution_count": null,
   "id": "4eecc0ae-51c7-40b2-ab3a-17f970a7460c",
   "metadata": {},
   "outputs": [],
   "source": [
    "@vlplot(\n",
    "    width = 900, \n",
    "    height= 700\n",
    ") +\n",
    "@vlplot(\n",
    "    data = {\n",
    "        values = topo_json,\n",
    "        format = {\n",
    "            type=:topojson,\n",
    "            feature=:states\n",
    "        }\n",
    "    },\n",
    "    mark = {\n",
    "        :geoshape,\n",
    "        stroke=:white,\n",
    "        strokeWidth=2\n",
    "    },\n",
    "    color = { value=\"#bebebe\" },\n",
    ") +\n",
    "@vlplot(\n",
    "    mark = {\n",
    "\t\t:circle,\n",
    "\t\tsize = 12,\n",
    "\t},\n",
    "    data=df_cv,\n",
    "    projection = { type=:equalEarth },\n",
    "    longitude  = :longitude,\n",
    "    latitude   = :latitude,\n",
    "    color      = { \n",
    "\t\t:sub_event_type,\n",
    "\t\tscale={\n",
    "            domain=dom,\n",
    "            range=colors\n",
    "\t\t}, \n",
    "\t\ttitle  = \"Subevent type\",\n",
    "\t\tlegend = false,\n",
    "\t},\n",
    "\ttitle      = \"Mapa konfliktów z udziałem organów rządowych\",\n",
    ")"
   ]
  },
  {
   "cell_type": "code",
   "execution_count": null,
   "id": "1c7e818f-0efa-44b8-ae62-db5de98128fb",
   "metadata": {},
   "outputs": [],
   "source": [
    "@vlplot(\n",
    "\twidth = 900, \n",
    "\theight= 700\n",
    ") +\n",
    "@vlplot(\n",
    "\t:bar,\n",
    "\tdata  = filter(:year => yr -> yr<2022  , df),\n",
    "\tx  = {\n",
    "\t\t:year,\n",
    "\t\ttitle = \"Rok\"\n",
    "\t},\n",
    "\ty  = {\n",
    "\t\t\"count()\",\n",
    "\t\ttitle = \"Ilość zdarzeń\"\n",
    "\t},\n",
    "\tcolor = {\n",
    "\t\t:sub_event_type,\n",
    "\t\tscale={\n",
    "            domain=dom,\n",
    "            range=colors\n",
    "\t\t}, \n",
    "\t\ttitle=\"Rodzaj konfilktu\"\n",
    "\t},\n",
    "\ttitle = \"Ilość konfliktów z udziałem organów rządowych\",\n",
    ")"
   ]
  },
  {
   "cell_type": "markdown",
   "id": "4d78d076-ddab-485d-abfe-f708fab1e92b",
   "metadata": {},
   "source": [
    "## Druga prezentacja"
   ]
  },
  {
   "cell_type": "code",
   "execution_count": null,
   "id": "2259b169-a50b-44c6-ba8e-a7d4e37b13ee",
   "metadata": {},
   "outputs": [],
   "source": [
    "function by_day(data::DataFrame, day::Int, month::String)\n",
    "    data = filter_data(data,:day,day)\n",
    "    data = filter_data(data,:month,month)\n",
    "    plot = @vlplot(\n",
    "    :bar,\n",
    "    title =  string(data.day[1])*\" \"*string(data.month[1]),\n",
    "    x = {data.year, type = :ordinal, title = \"Years\"},\n",
    "    y = {\"count()\", title = \"Protests' amount\"}\n",
    ")\n",
    "    return plot\n",
    "end;"
   ]
  },
  {
   "cell_type": "code",
   "execution_count": null,
   "id": "e510290d-93f8-4071-ae69-060c75b8dab3",
   "metadata": {},
   "outputs": [],
   "source": [
    "by_day(df, 02, \"October\")"
   ]
  },
  {
   "cell_type": "code",
   "execution_count": null,
   "id": "bcfe1bc4-cd54-485a-9ffd-d8d893e9d278",
   "metadata": {},
   "outputs": [],
   "source": [
    "function by_month(data::DataFrame, month::String)\n",
    "    data_2 = filter_data(data,:month,month)\n",
    "    plot = @vlplot(\n",
    "    :bar,\n",
    "    title =  string(data_2.month[1]),\n",
    "    x = {data_2.year, type = :ordinal, title = \"Years\"},\n",
    "    y = {\"count()\", title = \"Protests' amount\"}\n",
    ")\n",
    "    return plot\n",
    "end;"
   ]
  },
  {
   "cell_type": "code",
   "execution_count": null,
   "id": "2b68cbd3-de94-445a-9f27-e58fea68b28f",
   "metadata": {},
   "outputs": [],
   "source": [
    "by_month(df,\"April\")"
   ]
  },
  {
   "cell_type": "code",
   "execution_count": null,
   "id": "672deb5c-d27b-44b6-b845-7ef59f92e858",
   "metadata": {},
   "outputs": [],
   "source": [
    "function radius_of_days(df::DataFrame, date::String, R::Int)\n",
    "    dates = df.event_date\n",
    "    dates = Dates.Date.(dates, dateformat\"d U y\")\n",
    "    df[!,\"formal_date\"] = dates\n",
    "    my_date = Dates.Date.(date, dateformat\"d U y\")\n",
    "    radiuses = []\n",
    "    max = 0\n",
    "    this_r = 0\n",
    "    for r in range(-R,R)\n",
    "        the_day = my_date + Dates.Day(r)\n",
    "        df_f = filter_data(df,:formal_date, the_day)\n",
    "        n = nrow(df_f)\n",
    "        push!(radiuses, (n,r))\n",
    "        if n > max\n",
    "            max = n\n",
    "            this_r = r\n",
    "        end\n",
    "    end\n",
    "    return this_r\n",
    "end\n"
   ]
  },
  {
   "cell_type": "code",
   "execution_count": null,
   "id": "0ca4b73e-f352-4290-a246-f6385fbe690f",
   "metadata": {},
   "outputs": [],
   "source": [
    "r_average_list = []\n",
    "for holiday in holidays_set\n",
    "    r_of_all = radius_of_days(df, holiday, 2)\n",
    "    push!(r_average_list,r_of_all)\n",
    "end\n",
    "print(r_average_list)\n",
    "mean(r_average_list)"
   ]
  },
  {
   "cell_type": "code",
   "execution_count": null,
   "id": "d5970c91-8e44-4ee3-ba7b-a26fd03eb0ec",
   "metadata": {},
   "outputs": [],
   "source": [
    "countmap(r_average_list)"
   ]
  },
  {
   "cell_type": "code",
   "execution_count": null,
   "id": "570eb4b9-a7b1-4df3-86c2-bac9f2064439",
   "metadata": {},
   "outputs": [],
   "source": [
    "countmap(df.time_precision)"
   ]
  },
  {
   "cell_type": "code",
   "execution_count": null,
   "id": "fffff5e8-c368-4380-ae0a-1699ebc71cc0",
   "metadata": {
    "tags": []
   },
   "outputs": [],
   "source": [
    "function srednia_tp(data, month)\n",
    "    data = filter_data(data,:month,month)\n",
    "    data = groupby(data, :day)\n",
    "    data = combine(data, nrow, :time_precision .=> mean, :month)\n",
    "    return data\n",
    "end"
   ]
  },
  {
   "cell_type": "code",
   "execution_count": null,
   "id": "96ec826a-edc6-4204-b2b5-97a57495707c",
   "metadata": {},
   "outputs": [],
   "source": [
    "data_2019_tp = srednia_tp(data_2019,\"October\")"
   ]
  },
  {
   "cell_type": "code",
   "execution_count": null,
   "id": "2594402a-9723-4b6f-9eac-28a3cc01800b",
   "metadata": {},
   "outputs": [],
   "source": [
    "select(data_2019_tp,[:day, :time_precision_mean]) |> @vlplot(\n",
    "    :bar, \n",
    "    width = 600,\n",
    "    x = {:day, title = \"Days\"},\n",
    "    y = {:time_precision_mean, title = \"Time Precision\"},\n",
    "    title = \"Level of time precision during \" *(data_2019_tp.month[1])*\" \"*string(data_2019.year[1]),\n",
    ")"
   ]
  },
  {
   "cell_type": "markdown",
   "id": "b388c3ec",
   "metadata": {},
   "source": [
    "Próba korelacji poparcia procentowego z ilością protestów w danym stanie"
   ]
  },
  {
   "cell_type": "code",
   "execution_count": null,
   "id": "954418ae",
   "metadata": {},
   "outputs": [],
   "source": [
    "datas = select(df,[:admin1, :admin2, :year,:notes,:event_type])\n",
    "\n",
    "df_percent = datas[(datas.year .== 2019) .| (datas.year .== 2019) .| (datas.year .==2019),:];"
   ]
  },
  {
   "cell_type": "code",
   "execution_count": null,
   "id": "7d63ffad",
   "metadata": {},
   "outputs": [],
   "source": [
    "df_per_col = groupby(df_percent, :admin1);\n",
    "df_per_col = combine(df_per_col, nrow .=> :num_of_protests) \n",
    "df_per_col[!, \"admin1\"]"
   ]
  },
  {
   "cell_type": "code",
   "execution_count": null,
   "id": "b740812e",
   "metadata": {},
   "outputs": [],
   "source": [
    "percentage_votes = [45, 50, 54, 68, 2, 28, 25, 37, 55, 2, 55, 30, 52, 50, 70, 20, 50, 38, 65, 45, 58, 54, 46, 57, 5, 52, 33, 20, 64, missing, 54, 4, missing, missing, missing]"
   ]
  },
  {
   "cell_type": "code",
   "execution_count": null,
   "id": "d17c52b6",
   "metadata": {},
   "outputs": [],
   "source": [
    "df_per_col[!, \"percentage_votes\"] = percentage_votes"
   ]
  },
  {
   "cell_type": "code",
   "execution_count": null,
   "id": "cd8c2245",
   "metadata": {},
   "outputs": [],
   "source": [
    "df_per_col_1 = dropmissing(df_per_col)\n",
    "x = df_per_col_1[!, \"percentage_votes\"]\n",
    "y = df_per_col_1[!, \"num_of_protests\"]"
   ]
  },
  {
   "cell_type": "code",
   "execution_count": null,
   "id": "0735cc4b",
   "metadata": {},
   "outputs": [],
   "source": [
    "trace = PlotlyJS.scatter(df_per_col, x=:percentage_votes, y=:num_of_protests, mode=\"markers\")\n",
    "layout = Layout(xaxis_title=\"Procentowe poparcie partii rządzącej w wyborach\", yaxis_title=\"Ilość protestów\", title=attr(text=\"Ilość protestów w zależności od procentowego poparcia partii rządzącej\", y=0.95,\n",
    "x=0.5, xanchor=\"center\", yanchor=\"top\"))\n",
    "PlotlyJS.plot(trace, layout)"
   ]
  },
  {
   "cell_type": "code",
   "execution_count": null,
   "id": "3e5f5ad4",
   "metadata": {},
   "outputs": [],
   "source": [
    "PlotlyJS.plot(crosscor(x,y), Layout(yaxis_title=\"współczynnik korelacji\", xaxis_title=\"lags\", title_text =\"Oscylacje współczynnika korelacji\"))"
   ]
  },
  {
   "cell_type": "markdown",
   "id": "f89da22a",
   "metadata": {},
   "source": [
    "Korelacja procentowego udziału pierwiastka w składzie chemicznym gleby a ilością protestów"
   ]
  },
  {
   "cell_type": "code",
   "execution_count": null,
   "id": "c7d92d71",
   "metadata": {},
   "outputs": [],
   "source": [
    "##funkcja wyodrębniająca protesty, które w notaktach były opisane przy użyciu słów związanych z rolnictwem##\n",
    "function farmers_filter(data::String)\n",
    "\tkeywords = [\n",
    "\t\t\"farm\",\n",
    "\t\t\"agricult\",\n",
    "\t\t\"plantat\",\n",
    "\t\t\"dairy\",\n",
    "\t\t\"harvest\",\n",
    "\t\t#\"cultiv\",\n",
    "\t\t#\"crop\"\n",
    "\t]\n",
    "\tany(occursin.(keywords,lowercase(data)))\n",
    "end\n",
    "\n",
    "\n",
    "##funkcja wykorzystująca powyższą do filtrowania protestów względem kolumny \"notes\"##\n",
    "function refilter(df::DataFrame)\n",
    "\tout = filter(:notes => farmers_filter, df) |> d -> filter(:year => yr -> yr in [2020, 2021], d) |> d -> filter(:event_type => event -> event == \"Protests\", d)\n",
    "end\n"
   ]
  },
  {
   "cell_type": "code",
   "execution_count": null,
   "id": "5ac6550b",
   "metadata": {},
   "outputs": [],
   "source": [
    "df_agri = datas[(datas.year .== 2020) .| (datas.year .==2021),:];\n",
    "df_agri_filtered = refilter(df_agri)\n",
    "df_agri_col = groupby(df_agri_filtered, :admin1);\n",
    "df_agri_col = combine(df_agri_col, nrow .=> :num_of_protests) "
   ]
  },
  {
   "cell_type": "code",
   "execution_count": null,
   "id": "1c26cb05",
   "metadata": {},
   "outputs": [],
   "source": [
    "##te stany trzeba usunąc z df, nie było informacji o procentowym składzie pierwiastków w znalezionej bazie danych##\n",
    "\n",
    "wrong_cities = [\"Telangana\", \"Jammu and Kashmir\", \"Delhi\", \"Goa\", \"Arunachal Pradesh\",\"Jharkhand\",\"Chandigarh\", \"Chhattisgarh\", \"Puducherry\", \"Arunachal\",\"Pradesh\", \"Mizoram\", \"Manipur\", \"Meghalaya\", \"Uttarakhand\" ,\"Ladakh\",\"Nagaland\", \"Sikkim\", \"Lakshadweep\", \"Andaman and Nicobar Islands\"];"
   ]
  },
  {
   "cell_type": "code",
   "execution_count": null,
   "id": "77c14c11",
   "metadata": {},
   "outputs": [],
   "source": [
    "for city in wrong_cities\n",
    "    df_agri_col = df_agri_col[df_agri_col.admin1 .!= city,:]\n",
    "end"
   ]
  },
  {
   "cell_type": "code",
   "execution_count": null,
   "id": "26af243a",
   "metadata": {},
   "outputs": [],
   "source": [
    "df_agri_col = sort(df_agri_col, :admin1)"
   ]
  },
  {
   "cell_type": "code",
   "execution_count": null,
   "id": "f1a8d203",
   "metadata": {},
   "outputs": [],
   "source": [
    "Nitrogen = [1.55,1.76, missing, 1.71, 1.04, 2.34, 2.05, 1.66, 1.27, 1.40, 1.57, 1.67, missing, 1.34, 1.76, 1.25, 1.67];\n",
    "df_agri_col[!,\"Nitrogen\"] = Nitrogen;\n",
    "agri_col_cleansed = dropmissing(df_agri_col)\n",
    "x1 = agri_col_cleansed[!,\"Nitrogen\"]\n",
    "y1 = agri_col_cleansed[!,\"num_of_protests\"]"
   ]
  },
  {
   "cell_type": "code",
   "execution_count": null,
   "id": "fb3ad737",
   "metadata": {},
   "outputs": [],
   "source": [
    "PlotlyJS.plot(crosscor(x1,y1), Layout(yaxis_title=\"współczynnik korelacji\", xaxis_title=\"lags\", title_text =\"Oscylacje współczynnika korelacji\"))"
   ]
  },
  {
   "cell_type": "markdown",
   "id": "77d4efd1",
   "metadata": {},
   "source": [
    "Stworzenie heatmapy protesty per ludność"
   ]
  },
  {
   "cell_type": "code",
   "execution_count": null,
   "id": "ed862f97",
   "metadata": {},
   "outputs": [],
   "source": [
    "population_data = CSV.read(\"./data/populationCSV.csv\", \n",
    "   select = [\"India / State/ Union Territory\", \"Population2011\" ], DataFrame)"
   ]
  },
  {
   "cell_type": "code",
   "execution_count": null,
   "id": "f1b79e7b",
   "metadata": {},
   "outputs": [],
   "source": [
    "d = sort!(Count_of_protests(df), :state)"
   ]
  },
  {
   "cell_type": "code",
   "execution_count": null,
   "id": "d24da93c",
   "metadata": {},
   "outputs": [],
   "source": [
    "population_state = @view population_data[2:37, :]"
   ]
  },
  {
   "cell_type": "code",
   "execution_count": null,
   "id": "82b5bbc4",
   "metadata": {},
   "outputs": [],
   "source": [
    "d[!, \"Population\"] = population_state.Population2011"
   ]
  },
  {
   "cell_type": "code",
   "execution_count": null,
   "id": "8f8b887b",
   "metadata": {},
   "outputs": [],
   "source": [
    "d[!, \"n/Population\"] = d.n ./ d.Population"
   ]
  },
  {
   "cell_type": "code",
   "execution_count": null,
   "id": "fcbeed58",
   "metadata": {},
   "outputs": [],
   "source": [
    "@vlplot(\n",
    "\theight = 700,\n",
    "\twidth = 900 ) +\n",
    "@vlplot(\n",
    "\tdata = {\n",
    "\t    values = topo_json,\n",
    "        format = {\n",
    "\t\t    type=:topojson,\n",
    "            feature=:states\n",
    "\t\t}\n",
    "    },\n",
    "    mark = {\n",
    "\t    :geoshape,\n",
    "\t\tstroke=:white,\n",
    "\t\tstrokeWidth=2\n",
    "    },\n",
    "    transform=[{\n",
    "        lookup=:id,\n",
    "        from={\n",
    "            data=d,\n",
    "            key=:ID_admin1,\n",
    "            fields=[\"n/Population\"]\n",
    "\t\t},\n",
    "\tas=:admin\n",
    "    }],\n",
    "    projection = {type=:equalEarth},\n",
    "\tcolor = {\n",
    "\t   :admin,\n",
    "\t   type=:quantitative,\n",
    "       title = \"Natężenie zdarzeń\"\n",
    "\t\t},\n",
    "    title = \"Mapa przedstawiająca ilość konfliktów na osobę w danym rejonie\"\n",
    ") "
   ]
  },
  {
   "cell_type": "markdown",
   "id": "982c9532-9174-44d4-a691-127c89f6ef56",
   "metadata": {},
   "source": [
    "### Predykcja"
   ]
  },
  {
   "cell_type": "code",
   "execution_count": null,
   "id": "76f8042c-5290-43a2-a748-3176bb0b57f9",
   "metadata": {},
   "outputs": [],
   "source": [
    "function timeseries_gen(df::DataFrame, region::String, years::Tuple{Int,Int}, event_type::String = \"any\", fill::Bool=true)\n",
    "\tdata = select(df, [:year, :event_date, :admin1, :event_type])\n",
    "\tdata = subset(data, :year => y -> y .> years[1]-1 .&& y .< years[2]+1, :admin1 => a -> a .== region)\n",
    "\tif event_type != \"any\"\n",
    "\t\tdata = subset(data, :event_type => e -> e .== event_type)\n",
    "\tend\n",
    "\tdata[!, :time_stamp] = Date.(data.event_date, \"d U y\")\n",
    "\tcount = sort(countmap(data[!,:time_stamp]))\n",
    "\tt = Dates.value.([keys(count)...].-Date(years[1],1,1))\n",
    "\tn = [values(count)...]\n",
    "\tif fill\n",
    "\t\tl = Int(Dates.value(Date(years[2]+1,1,1)-Day(1)-Date(years[1],1,1)))\n",
    "\t\tfor i in 1:l+1\n",
    "\t\t\ttry\n",
    "\t\t\t\tif t[i] != i-1\n",
    "\t\t\t\t\tinsert!(t,i,i-1)\n",
    "\t\t\t\t\tinsert!(n,i,0)\n",
    "\t\t\t\t\t\n",
    "\t\t\t\tend\n",
    "\t\t\tcatch e\n",
    "\t\t\t\tif isa(e, BoundsError)\n",
    "\t\t\t\t\tinsert!(t,i,i-1)\n",
    "\t\t\t\t\tinsert!(n,i,0)\n",
    "\t\t\t\telse\n",
    "\t\t\t\t\tthrow(e)\n",
    "\t\t\t\tend\n",
    "\t\t\tend\n",
    "\t\tend\n",
    "\tend\n",
    "\tts    = DataFrame(t = t, n = n)\n",
    "end"
   ]
  },
  {
   "cell_type": "code",
   "execution_count": null,
   "id": "9896d036-920a-4426-9bd2-f66645ff3d55",
   "metadata": {},
   "outputs": [],
   "source": [
    "years = 2016,2018\n",
    "city = \"Jammu and Kashmir\"\n",
    "flog = false\n",
    "ts = timeseries_gen(df, city, years, \"Protests\", true)"
   ]
  },
  {
   "cell_type": "code",
   "execution_count": null,
   "id": "587a5898-f6b7-4ed8-a1b9-be47f61c6dc7",
   "metadata": {},
   "outputs": [],
   "source": [
    "ts |> @df StatsPlots.plot(:t,:n,dpi=600,title=city*\" in $(years[1])-$(years[end])\",xlabel=\"t [day]\",ylabel=\"number of events\",legend=false)"
   ]
  },
  {
   "cell_type": "code",
   "execution_count": null,
   "id": "38d90d3c-90b0-4b37-8735-8648f69c1cb8",
   "metadata": {},
   "outputs": [],
   "source": [
    "d = ts |> @df StatsPlots.plot(:t,:n,xlabel=\"t [day]\",ylabel=\"number of events\",label=\"\",dpi=600)\n",
    "loenp = []\n",
    "tp = range(extrema(ts.t)...; step = .1);\n",
    "for i in [0.02,0.1,0.15,0.25]\n",
    "\tmodel = loess(ts.t, ts.n, span=i);\n",
    "\tnp = Loess.predict(model, tp);\n",
    "\tpush!(loenp,np)\n",
    "\tplot!(tp,np,palette=cgrad(:buda, 4, categorical = true),label=\"span=$(i)\")\n",
    "end\n",
    "np = loenp[3]\n",
    "display(d)"
   ]
  },
  {
   "cell_type": "code",
   "execution_count": null,
   "id": "ba1a9a69-d810-449a-a52d-01ebcd52aefc",
   "metadata": {},
   "outputs": [],
   "source": [
    "dif = ts.n .- [np[1:10:end]...]\n",
    "Plots.plot(ts.t, dif, dpi=600)"
   ]
  },
  {
   "cell_type": "code",
   "execution_count": null,
   "id": "7435b584-bb98-4e46-b7ab-035b0e166a71",
   "metadata": {},
   "outputs": [],
   "source": [
    "Plots.histogram(dif, dpi=600, xlabel=\"number of events\",ylabel=\"number of occurrences\", legend=false)"
   ]
  },
  {
   "cell_type": "code",
   "execution_count": null,
   "id": "a83aacea-ab5b-4f56-b8d8-f4ad87a7888e",
   "metadata": {},
   "outputs": [],
   "source": [
    "timedata_fit = DataFrame(t = ts.t, n = np[1:10:end])\n",
    "timedata_fit |> @df StatsPlots.plot(:t,:n,dpi=600)"
   ]
  },
  {
   "cell_type": "code",
   "execution_count": null,
   "id": "4d71de0c-9262-4fb5-b661-7800c1d86c6a",
   "metadata": {},
   "outputs": [],
   "source": [
    "fi = fit_mle(Normal, dif)\n",
    "StatsPlots.plot(fi, dpi=600)"
   ]
  },
  {
   "cell_type": "code",
   "execution_count": null,
   "id": "79535003-ac41-4776-bbcb-9d939bae402e",
   "metadata": {},
   "outputs": [],
   "source": [
    "fi2 = fit_mle(LogNormal, dif.+15)\n",
    "StatsPlots.plot(fi2.-15, dpi=600)"
   ]
  },
  {
   "cell_type": "code",
   "execution_count": null,
   "id": "b65439da-e7b9-4884-93c3-48a7ff6d5838",
   "metadata": {},
   "outputs": [],
   "source": [
    "r = rand(fi,length(timedata_fit.t))\n",
    "first(timeseries_gen(df, city, years.+2, \"Protests\", true), 200) |> @df StatsPlots.plot(:t,:n,dpi=600, label=\"Original data\",title=\"Forecast for $(years[end]+1)\",xlabel=\"t [day]\",ylabel=\"number of events\")\n",
    "StatsPlots.plot!((r+np[1:10:end])[1:200], linestyle=:dot, label=\"Normal distribution\")\n",
    "r = rand(fi2,length(timedata_fit.t))\n",
    "StatsPlots.plot!((r.-15+np[1:10:end])[1:200], linestyle=:dash, label=\"Log-normal distribution\")"
   ]
  },
  {
   "cell_type": "code",
   "execution_count": null,
   "id": "e6cb863d-d017-4bc8-a02a-32b9f20aa5da",
   "metadata": {},
   "outputs": [],
   "source": [
    "y = Vector{Float64}(ts.n);"
   ]
  },
  {
   "cell_type": "code",
   "execution_count": null,
   "id": "8b3fc24f-462c-4982-b63e-de649f261be6",
   "metadata": {},
   "outputs": [],
   "source": [
    "model = auto_ets(y)"
   ]
  },
  {
   "cell_type": "code",
   "execution_count": null,
   "id": "a23c34b8-b2dc-4d11-bb51-f941bf8551b5",
   "metadata": {},
   "outputs": [],
   "source": [
    "StateSpaceModels.fit!(model)"
   ]
  },
  {
   "cell_type": "code",
   "execution_count": null,
   "id": "eb65d39c-9d4a-4922-9807-d87de172307f",
   "metadata": {},
   "outputs": [],
   "source": [
    "forec = StateSpaceModels.forecast(model, 100)"
   ]
  },
  {
   "cell_type": "code",
   "execution_count": null,
   "id": "d408f9eb-3f97-4c0b-9b9a-6c6a6fce1ace",
   "metadata": {},
   "outputs": [],
   "source": [
    "plot(model, forec,dpi=600,title=\"Auto ETS\", xlabel=\"time [day]\", ylabel=\"number of events\",labels=[\"original data\" \"prediction\"])"
   ]
  }
 ],
 "metadata": {
  "@webio": {
   "lastCommId": "deff8547-c4f5-4dd4-b614-028e32f92c18",
   "lastKernelId": "0140ac74-3d67-44cf-8c72-847decbf78c7"
  },
  "kernelspec": {
   "display_name": "Julia 1.7.2",
   "language": "julia",
   "name": "julia-1.7"
  },
  "language_info": {
   "file_extension": ".jl",
   "mimetype": "application/julia",
   "name": "julia",
   "version": "1.7.2"
  }
 },
 "nbformat": 4,
 "nbformat_minor": 5
}
