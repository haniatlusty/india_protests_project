{
 "cells": [
  {
   "cell_type": "code",
   "execution_count": 1,
   "metadata": {},
   "outputs": [
    {
     "data": {
      "application/vnd.webio.node+json": {
       "children": [],
       "instanceArgs": {
        "namespace": "html",
        "tag": "div"
       },
       "nodeType": "DOM",
       "props": {},
       "type": "node"
      },
      "text/html": [
       "<div style=\"padding: 1em; background-color: #f8d6da; border: 1px solid #f5c6cb; font-weight: bold;\">\n",
       "<p>The WebIO Jupyter extension was not detected. See the\n",
       "<a href=\"https://juliagizmos.github.io/WebIO.jl/latest/providers/ijulia/\" target=\"_blank\">\n",
       "    WebIO Jupyter integration documentation\n",
       "</a>\n",
       "for more information.\n",
       "</div>\n"
      ],
      "text/plain": [
       "WebIO._IJuliaInit()"
      ]
     },
     "metadata": {},
     "output_type": "display_data"
    }
   ],
   "source": [
    "using StatsKit, Dates, Statistics, PlotlyJS, CSV;"
   ]
  },
  {
   "cell_type": "code",
   "execution_count": 2,
   "metadata": {},
   "outputs": [
    {
     "ename": "LoadError",
     "evalue": "ArgumentError: \"../data/2016-2022.csv\" is not a valid file or doesn't exist",
     "output_type": "error",
     "traceback": [
      "ArgumentError: \"../data/2016-2022.csv\" is not a valid file or doesn't exist",
      "",
      "Stacktrace:",
      " [1] CSV.Context(source::CSV.Arg, header::CSV.Arg, normalizenames::CSV.Arg, datarow::CSV.Arg, skipto::CSV.Arg, footerskip::CSV.Arg, transpose::CSV.Arg, comment::CSV.Arg, ignoreemptyrows::CSV.Arg, ignoreemptylines::CSV.Arg, select::CSV.Arg, drop::CSV.Arg, limit::CSV.Arg, buffer_in_memory::CSV.Arg, threaded::CSV.Arg, ntasks::CSV.Arg, tasks::CSV.Arg, rows_to_check::CSV.Arg, lines_to_check::CSV.Arg, missingstrings::CSV.Arg, missingstring::CSV.Arg, delim::CSV.Arg, ignorerepeated::CSV.Arg, quoted::CSV.Arg, quotechar::CSV.Arg, openquotechar::CSV.Arg, closequotechar::CSV.Arg, escapechar::CSV.Arg, dateformat::CSV.Arg, dateformats::CSV.Arg, decimal::CSV.Arg, truestrings::CSV.Arg, falsestrings::CSV.Arg, stripwhitespace::CSV.Arg, type::CSV.Arg, types::CSV.Arg, typemap::CSV.Arg, pool::CSV.Arg, downcast::CSV.Arg, lazystrings::CSV.Arg, stringtype::CSV.Arg, strict::CSV.Arg, silencewarnings::CSV.Arg, maxwarnings::CSV.Arg, debug::CSV.Arg, parsingdebug::CSV.Arg, validate::CSV.Arg, streaming::CSV.Arg)",
      "   @ CSV C:\\Users\\macie\\.julia\\packages\\CSV\\jFiCn\\src\\context.jl:236",
      " [2] #File#25",
      "   @ C:\\Users\\macie\\.julia\\packages\\CSV\\jFiCn\\src\\file.jl:221 [inlined]",
      " [3] read(source::String, sink::Type; copycols::Bool, kwargs::Base.Pairs{Symbol, Vector{String}, Tuple{Symbol}, NamedTuple{(:select,), Tuple{Vector{String}}}})",
      "   @ CSV C:\\Users\\macie\\.julia\\packages\\CSV\\jFiCn\\src\\CSV.jl:91",
      " [4] top-level scope",
      "   @ In[2]:1",
      " [5] eval",
      "   @ .\\boot.jl:373 [inlined]",
      " [6] include_string(mapexpr::typeof(REPL.softscope), mod::Module, code::String, filename::String)",
      "   @ Base .\\loading.jl:1196"
     ]
    }
   ],
   "source": [
    "dataset = CSV.read(\n",
    "\t\t\"../data/2016-2022.csv\", \n",
    "\t\tselect = [\"year\", \"event_type\", \"sub_event_type\", \"longitude\", \"latitude\", \"fatalities\", \"location\", \"event_date\", \"admin1\", \"time_precision\", \"notes\"], \n",
    "\t\tDataFrame\n",
    "    )"
   ]
  },
  {
   "cell_type": "code",
   "execution_count": null,
   "metadata": {},
   "outputs": [],
   "source": [
    "df_agri = dataset[(dataset.year .== 2020) .| (dataset.year .==2021),:];\n",
    "df_agri_filtered = refilter(df_agri)"
   ]
  },
  {
   "cell_type": "code",
   "execution_count": null,
   "metadata": {},
   "outputs": [],
   "source": [
    "df_agri_col = groupby(df_agri_filtered, :admin1);\n",
    "df_agri_col = combine(df_agri_col, nrow .=> :num_of_protests) "
   ]
  },
  {
   "cell_type": "code",
   "execution_count": null,
   "metadata": {},
   "outputs": [],
   "source": [
    "##te stany trzeba usunąc z df, nie było informacji o procentowym składzie pierwiastków w znalezionej bazie danych##\n",
    "\n",
    "wrong_cities = [\"Telangana\", \"Jammu and Kashmir\", \"Delhi\", \"Goa\", \"Arunachal Pradesh\",\"Jharkhand\",\"Chandigarh\", \"Chhattisgarh\", \"Puducherry\", \"Arunachal\",\"Pradesh\", \"Mizoram\", \"Manipur\", \"Meghalaya\", \"Uttarakhand\" ,\"Ladakh\",\"Nagaland\", \"Sikkim\", \"Lakshadweep\", \"Andaman and Nicobar Islands\"];"
   ]
  },
  {
   "cell_type": "code",
   "execution_count": null,
   "metadata": {},
   "outputs": [],
   "source": [
    "for city in wrong_cities\n",
    "    df_agri_col = df_agri_col[df_agri_col.admin1 .!= city,:]\n",
    "end"
   ]
  },
  {
   "cell_type": "code",
   "execution_count": null,
   "metadata": {},
   "outputs": [],
   "source": [
    "df_agri_col = sort(df_agri_col, :admin1)"
   ]
  },
  {
   "cell_type": "code",
   "execution_count": null,
   "metadata": {},
   "outputs": [],
   "source": [
    "Potassium = [2.52,2.14,missing, 2.60,2.05,1.63,2.54,1.98,2.48, 2.66,1.93,2.40,missing, 2.40,1.70, 2.21,2.04];\n",
    "df_agri_col[!,\"Potassium\"] = Potassium"
   ]
  },
  {
   "cell_type": "code",
   "execution_count": null,
   "metadata": {},
   "outputs": [],
   "source": [
    "agri_col_cleansed = dropmissing(df_agri_col)"
   ]
  },
  {
   "cell_type": "code",
   "execution_count": null,
   "metadata": {},
   "outputs": [],
   "source": [
    "trace = scatter(agri_col_cleansed, x=:Nitrogen, y=:num_of_protests, mode=\"markers\")\n",
    "layout = Layout(xaxis_title=\"Procentowy udział Potasu w składzie chemicznym próbki gleby\", yaxis_title=\"Ilość protestów\", title=attr(text=\"Ilość protestów w zależności od procentowego udziału Azotu w składzie gleby\", y=0.95,\n",
    "x=0.5, xanchor=\"center\", yanchor=\"top\"))\n",
    "plot(trace, layout)"
   ]
  },
  {
   "cell_type": "code",
   "execution_count": null,
   "metadata": {},
   "outputs": [],
   "source": []
  }
 ],
 "metadata": {
  "kernelspec": {
   "display_name": "Julia (multiple threads) 1.7.2",
   "language": "julia",
   "name": "julia-(multiple-threads)-1.7"
  },
  "language_info": {
   "file_extension": ".jl",
   "mimetype": "application/julia",
   "name": "julia",
   "version": "1.7.2"
  },
  "orig_nbformat": 4
 },
 "nbformat": 4,
 "nbformat_minor": 2
}
