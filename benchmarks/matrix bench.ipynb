{
 "cells": [
  {
   "cell_type": "code",
   "execution_count": 1,
   "id": "96bd8c39-1e96-44c0-886a-fb19eb71ddb8",
   "metadata": {},
   "outputs": [],
   "source": [
    "using BenchmarkTools;"
   ]
  },
  {
   "cell_type": "code",
   "execution_count": 2,
   "id": "a74e0f87-dee8-4d65-93e1-cf4245856854",
   "metadata": {},
   "outputs": [],
   "source": [
    "A = rand(1000, 1000);"
   ]
  },
  {
   "cell_type": "code",
   "execution_count": 3,
   "id": "75c38f4c-1dff-4973-b7fb-a1594cdae8d3",
   "metadata": {},
   "outputs": [
    {
     "name": "stdout",
     "output_type": "stream",
     "text": [
      "  1.544 ms (2 allocations: 7.63 MiB)\n",
      "  3.017 ms (2 allocations: 7.63 MiB)\n",
      "  1.386 ms (2 allocations: 7.63 MiB)\n"
     ]
    }
   ],
   "source": [
    "@btime [2*$A[i,j] for i=1:1000, j=1:1000];\n",
    "@btime [2*$A[j,i] for i=1:1000, j=1:1000];\n",
    "@btime 2*$A;"
   ]
  },
  {
   "cell_type": "code",
   "execution_count": 4,
   "id": "b885f50c-57f2-43d3-a135-cd51e867e1e9",
   "metadata": {},
   "outputs": [
    {
     "data": {
      "text/plain": [
       "3×3 Matrix{Int64}:\n",
       " 1  2  3\n",
       " 4  5  6\n",
       " 7  8  9"
      ]
     },
     "execution_count": 4,
     "metadata": {},
     "output_type": "execute_result"
    }
   ],
   "source": [
    "B = [1 2 3; 4 5 6; 7 8 9]"
   ]
  },
  {
   "cell_type": "code",
   "execution_count": 5,
   "id": "d135d988-037b-4566-af07-8af34a05468d",
   "metadata": {},
   "outputs": [
    {
     "data": {
      "text/plain": [
       "9-element Vector{Int64}:\n",
       " 1\n",
       " 4\n",
       " 7\n",
       " 2\n",
       " 5\n",
       " 8\n",
       " 3\n",
       " 6\n",
       " 9"
      ]
     },
     "execution_count": 5,
     "metadata": {},
     "output_type": "execute_result"
    }
   ],
   "source": [
    "B[:]"
   ]
  }
 ],
 "metadata": {
  "kernelspec": {
   "display_name": "Julia 1.7.2",
   "language": "julia",
   "name": "julia-1.7"
  },
  "language_info": {
   "file_extension": ".jl",
   "mimetype": "application/julia",
   "name": "julia",
   "version": "1.7.2"
  }
 },
 "nbformat": 4,
 "nbformat_minor": 5
}
