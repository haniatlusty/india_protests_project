{
 "cells": [
  {
   "cell_type": "code",
   "execution_count": 1,
   "id": "ecec78c7-7f97-4316-9aaa-86c8532b1f61",
   "metadata": {},
   "outputs": [],
   "source": [
    "using StatsKit, Dates,VegaLite,Statistics"
   ]
  },
  {
   "cell_type": "code",
   "execution_count": 2,
   "id": "0c01f219-6c1e-4f39-9787-9aafa4c6c67f",
   "metadata": {},
   "outputs": [
    {
     "data": {
      "text/html": [
       "<div class=\"data-frame\"><p>107,690 rows × 9 columns (omitted printing of 4 columns)</p><table class=\"data-frame\"><thead><tr><th></th><th>event_date</th><th>year</th><th>event_type</th><th>sub_event_type</th><th>admin1</th></tr><tr><th></th><th title=\"String31\">String31</th><th title=\"Int64\">Int64</th><th title=\"String31\">String31</th><th title=\"String63\">String63</th><th title=\"String63\">String63</th></tr></thead><tbody><tr><th>1</th><td>18 March 2022</td><td>2022</td><td>Riots</td><td>Mob violence</td><td>Uttar Pradesh</td></tr><tr><th>2</th><td>18 March 2022</td><td>2022</td><td>Protests</td><td>Peaceful protest</td><td>Maharashtra</td></tr><tr><th>3</th><td>18 March 2022</td><td>2022</td><td>Protests</td><td>Peaceful protest</td><td>Punjab</td></tr><tr><th>4</th><td>18 March 2022</td><td>2022</td><td>Protests</td><td>Peaceful protest</td><td>Madhya Pradesh</td></tr><tr><th>5</th><td>18 March 2022</td><td>2022</td><td>Riots</td><td>Mob violence</td><td>Madhya Pradesh</td></tr><tr><th>6</th><td>18 March 2022</td><td>2022</td><td>Riots</td><td>Mob violence</td><td>Madhya Pradesh</td></tr><tr><th>7</th><td>18 March 2022</td><td>2022</td><td>Protests</td><td>Peaceful protest</td><td>Telangana</td></tr><tr><th>8</th><td>18 March 2022</td><td>2022</td><td>Protests</td><td>Peaceful protest</td><td>Telangana</td></tr><tr><th>9</th><td>18 March 2022</td><td>2022</td><td>Protests</td><td>Peaceful protest</td><td>Telangana</td></tr><tr><th>10</th><td>18 March 2022</td><td>2022</td><td>Protests</td><td>Peaceful protest</td><td>Telangana</td></tr><tr><th>11</th><td>18 March 2022</td><td>2022</td><td>Protests</td><td>Peaceful protest</td><td>Telangana</td></tr><tr><th>12</th><td>18 March 2022</td><td>2022</td><td>Riots</td><td>Violent demonstration</td><td>Kerala</td></tr><tr><th>13</th><td>18 March 2022</td><td>2022</td><td>Protests</td><td>Peaceful protest</td><td>Karnataka</td></tr><tr><th>14</th><td>18 March 2022</td><td>2022</td><td>Protests</td><td>Peaceful protest</td><td>Kerala</td></tr><tr><th>15</th><td>18 March 2022</td><td>2022</td><td>Protests</td><td>Peaceful protest</td><td>Tamil Nadu</td></tr><tr><th>16</th><td>18 March 2022</td><td>2022</td><td>Riots</td><td>Mob violence</td><td>West Bengal</td></tr><tr><th>17</th><td>18 March 2022</td><td>2022</td><td>Riots</td><td>Mob violence</td><td>West Bengal</td></tr><tr><th>18</th><td>17 March 2022</td><td>2022</td><td>Protests</td><td>Peaceful protest</td><td>Jammu and Kashmir</td></tr><tr><th>19</th><td>17 March 2022</td><td>2022</td><td>Protests</td><td>Peaceful protest</td><td>Jammu and Kashmir</td></tr><tr><th>20</th><td>17 March 2022</td><td>2022</td><td>Riots</td><td>Mob violence</td><td>Madhya Pradesh</td></tr><tr><th>21</th><td>17 March 2022</td><td>2022</td><td>Riots</td><td>Mob violence</td><td>Jammu and Kashmir</td></tr><tr><th>22</th><td>17 March 2022</td><td>2022</td><td>Protests</td><td>Peaceful protest</td><td>Jammu and Kashmir</td></tr><tr><th>23</th><td>17 March 2022</td><td>2022</td><td>Protests</td><td>Peaceful protest</td><td>Jammu and Kashmir</td></tr><tr><th>24</th><td>17 March 2022</td><td>2022</td><td>Protests</td><td>Protest with intervention</td><td>Jammu and Kashmir</td></tr><tr><th>25</th><td>17 March 2022</td><td>2022</td><td>Protests</td><td>Peaceful protest</td><td>Telangana</td></tr><tr><th>26</th><td>17 March 2022</td><td>2022</td><td>Protests</td><td>Peaceful protest</td><td>Andhra Pradesh</td></tr><tr><th>27</th><td>17 March 2022</td><td>2022</td><td>Riots</td><td>Mob violence</td><td>Punjab</td></tr><tr><th>28</th><td>17 March 2022</td><td>2022</td><td>Protests</td><td>Peaceful protest</td><td>Delhi</td></tr><tr><th>29</th><td>17 March 2022</td><td>2022</td><td>Protests</td><td>Peaceful protest</td><td>Jammu and Kashmir</td></tr><tr><th>30</th><td>17 March 2022</td><td>2022</td><td>Protests</td><td>Protest with intervention</td><td>Kerala</td></tr><tr><th>&vellip;</th><td>&vellip;</td><td>&vellip;</td><td>&vellip;</td><td>&vellip;</td><td>&vellip;</td></tr></tbody></table></div>"
      ],
      "text/latex": [
       "\\begin{tabular}{r|cccccc}\n",
       "\t& event\\_date & year & event\\_type & sub\\_event\\_type & admin1 & \\\\\n",
       "\t\\hline\n",
       "\t& String31 & Int64 & String31 & String63 & String63 & \\\\\n",
       "\t\\hline\n",
       "\t1 & 18 March 2022 & 2022 & Riots & Mob violence & Uttar Pradesh & $\\dots$ \\\\\n",
       "\t2 & 18 March 2022 & 2022 & Protests & Peaceful protest & Maharashtra & $\\dots$ \\\\\n",
       "\t3 & 18 March 2022 & 2022 & Protests & Peaceful protest & Punjab & $\\dots$ \\\\\n",
       "\t4 & 18 March 2022 & 2022 & Protests & Peaceful protest & Madhya Pradesh & $\\dots$ \\\\\n",
       "\t5 & 18 March 2022 & 2022 & Riots & Mob violence & Madhya Pradesh & $\\dots$ \\\\\n",
       "\t6 & 18 March 2022 & 2022 & Riots & Mob violence & Madhya Pradesh & $\\dots$ \\\\\n",
       "\t7 & 18 March 2022 & 2022 & Protests & Peaceful protest & Telangana & $\\dots$ \\\\\n",
       "\t8 & 18 March 2022 & 2022 & Protests & Peaceful protest & Telangana & $\\dots$ \\\\\n",
       "\t9 & 18 March 2022 & 2022 & Protests & Peaceful protest & Telangana & $\\dots$ \\\\\n",
       "\t10 & 18 March 2022 & 2022 & Protests & Peaceful protest & Telangana & $\\dots$ \\\\\n",
       "\t11 & 18 March 2022 & 2022 & Protests & Peaceful protest & Telangana & $\\dots$ \\\\\n",
       "\t12 & 18 March 2022 & 2022 & Riots & Violent demonstration & Kerala & $\\dots$ \\\\\n",
       "\t13 & 18 March 2022 & 2022 & Protests & Peaceful protest & Karnataka & $\\dots$ \\\\\n",
       "\t14 & 18 March 2022 & 2022 & Protests & Peaceful protest & Kerala & $\\dots$ \\\\\n",
       "\t15 & 18 March 2022 & 2022 & Protests & Peaceful protest & Tamil Nadu & $\\dots$ \\\\\n",
       "\t16 & 18 March 2022 & 2022 & Riots & Mob violence & West Bengal & $\\dots$ \\\\\n",
       "\t17 & 18 March 2022 & 2022 & Riots & Mob violence & West Bengal & $\\dots$ \\\\\n",
       "\t18 & 17 March 2022 & 2022 & Protests & Peaceful protest & Jammu and Kashmir & $\\dots$ \\\\\n",
       "\t19 & 17 March 2022 & 2022 & Protests & Peaceful protest & Jammu and Kashmir & $\\dots$ \\\\\n",
       "\t20 & 17 March 2022 & 2022 & Riots & Mob violence & Madhya Pradesh & $\\dots$ \\\\\n",
       "\t21 & 17 March 2022 & 2022 & Riots & Mob violence & Jammu and Kashmir & $\\dots$ \\\\\n",
       "\t22 & 17 March 2022 & 2022 & Protests & Peaceful protest & Jammu and Kashmir & $\\dots$ \\\\\n",
       "\t23 & 17 March 2022 & 2022 & Protests & Peaceful protest & Jammu and Kashmir & $\\dots$ \\\\\n",
       "\t24 & 17 March 2022 & 2022 & Protests & Protest with intervention & Jammu and Kashmir & $\\dots$ \\\\\n",
       "\t25 & 17 March 2022 & 2022 & Protests & Peaceful protest & Telangana & $\\dots$ \\\\\n",
       "\t26 & 17 March 2022 & 2022 & Protests & Peaceful protest & Andhra Pradesh & $\\dots$ \\\\\n",
       "\t27 & 17 March 2022 & 2022 & Riots & Mob violence & Punjab & $\\dots$ \\\\\n",
       "\t28 & 17 March 2022 & 2022 & Protests & Peaceful protest & Delhi & $\\dots$ \\\\\n",
       "\t29 & 17 March 2022 & 2022 & Protests & Peaceful protest & Jammu and Kashmir & $\\dots$ \\\\\n",
       "\t30 & 17 March 2022 & 2022 & Protests & Protest with intervention & Kerala & $\\dots$ \\\\\n",
       "\t$\\dots$ & $\\dots$ & $\\dots$ & $\\dots$ & $\\dots$ & $\\dots$ &  \\\\\n",
       "\\end{tabular}\n"
      ],
      "text/plain": [
       "\u001b[1m107690×9 DataFrame\u001b[0m\n",
       "\u001b[1m    Row \u001b[0m│\u001b[1m event_date      \u001b[0m\u001b[1m year  \u001b[0m\u001b[1m event_type \u001b[0m\u001b[1m sub_event_type        \u001b[0m\u001b[1m admin1   \u001b[0m ⋯\n",
       "\u001b[1m        \u001b[0m│\u001b[90m String31        \u001b[0m\u001b[90m Int64 \u001b[0m\u001b[90m String31   \u001b[0m\u001b[90m String63              \u001b[0m\u001b[90m String63 \u001b[0m ⋯\n",
       "────────┼───────────────────────────────────────────────────────────────────────\n",
       "      1 │ 18 March 2022     2022  Riots       Mob violence           Uttar Pra ⋯\n",
       "      2 │ 18 March 2022     2022  Protests    Peaceful protest       Maharasht\n",
       "      3 │ 18 March 2022     2022  Protests    Peaceful protest       Punjab\n",
       "      4 │ 18 March 2022     2022  Protests    Peaceful protest       Madhya Pr\n",
       "      5 │ 18 March 2022     2022  Riots       Mob violence           Madhya Pr ⋯\n",
       "      6 │ 18 March 2022     2022  Riots       Mob violence           Madhya Pr\n",
       "      7 │ 18 March 2022     2022  Protests    Peaceful protest       Telangana\n",
       "      8 │ 18 March 2022     2022  Protests    Peaceful protest       Telangana\n",
       "      9 │ 18 March 2022     2022  Protests    Peaceful protest       Telangana ⋯\n",
       "     10 │ 18 March 2022     2022  Protests    Peaceful protest       Telangana\n",
       "     11 │ 18 March 2022     2022  Protests    Peaceful protest       Telangana\n",
       "   ⋮    │        ⋮           ⋮        ⋮                 ⋮                    ⋮ ⋱\n",
       " 107681 │ 01 January 2016   2016  Protests    Peaceful protest       Karnataka\n",
       " 107682 │ 01 January 2016   2016  Riots       Mob violence           Uttar Pra ⋯\n",
       " 107683 │ 01 January 2016   2016  Protests    Peaceful protest       Punjab\n",
       " 107684 │ 01 January 2016   2016  Protests    Peaceful protest       Punjab\n",
       " 107685 │ 01 January 2016   2016  Protests    Peaceful protest       Haryana\n",
       " 107686 │ 01 January 2016   2016  Protests    Peaceful protest       Punjab    ⋯\n",
       " 107687 │ 01 January 2016   2016  Battles     Armed clash            Assam\n",
       " 107688 │ 01 January 2016   2016  Protests    Peaceful protest       Jammu and\n",
       " 107689 │ 01 January 2016   2016  Battles     Armed clash            Chhattisg\n",
       " 107690 │ 01 January 2016   2016  Protests    Peaceful protest       Jammu and ⋯\n",
       "\u001b[36m                                               5 columns and 107669 rows omitted\u001b[0m"
      ]
     },
     "execution_count": 2,
     "metadata": {},
     "output_type": "execute_result"
    }
   ],
   "source": [
    "df = CSV.read(\n",
    "\t\t\"../data/2016-2022.csv\", \n",
    "\t\tselect = [\"year\", \"event_type\", \"sub_event_type\", \"longitude\", \"latitude\", \"fatalities\", \"location\", \"event_date\", \"admin1\"], \n",
    "\t\tDataFrame\n",
    "    )"
   ]
  },
  {
   "cell_type": "code",
   "execution_count": 3,
   "id": "840c842b-d5a1-470e-a60e-7b87ee74cd79",
   "metadata": {},
   "outputs": [
    {
     "data": {
      "text/plain": [
       "date_conversion! (generic function with 1 method)"
      ]
     },
     "execution_count": 3,
     "metadata": {},
     "output_type": "execute_result"
    }
   ],
   "source": [
    "function date_conversion!(df::DataFrame, kind::String)\n",
    "\tdates = df.event_date\n",
    "    dates = Dates.Date.(dates, dateformat\"d U y\")\n",
    "\tif kind == \"month\"\n",
    "\t\tmonths = Dates.monthname.(dates)\n",
    "    \tdf[!,\"month\"] = months\n",
    "\telseif kind == \"day_of_week\"\n",
    "\t\tdays_of_week = Dates.dayname.(dates)\n",
    "    \tdf[!,\"DayOfWeek\"] = days_of_week\n",
    "\telseif kind == \"day\"\n",
    "\t\tdays = Dates.day.(dates)\n",
    "    \tdf[!,\"day\"] = days\n",
    "\telse\n",
    "\t\tthrow(ArgumentError(kind, \"kind must be either \\\"month\\\", \\\"day_of_week\\\", or \\\"dat\\\". \"))\n",
    "\tend\n",
    "\treturn df \n",
    "end\n"
   ]
  },
  {
   "cell_type": "code",
   "execution_count": 4,
   "id": "5c8d256f-3bda-4963-b039-6e61c3b116f7",
   "metadata": {},
   "outputs": [],
   "source": [
    "date_conversion!(df,\"month\");"
   ]
  },
  {
   "cell_type": "code",
   "execution_count": 5,
   "id": "f22393f9-739f-4530-9a10-dcdb251ae403",
   "metadata": {},
   "outputs": [],
   "source": [
    "date_conversion!(df,\"day_of_week\");\n"
   ]
  },
  {
   "cell_type": "code",
   "execution_count": 6,
   "id": "e4f569ba-9e68-4af9-86c8-12b2cb56c66b",
   "metadata": {},
   "outputs": [],
   "source": [
    "date_conversion!(df,\"day\");"
   ]
  },
  {
   "cell_type": "code",
   "execution_count": 7,
   "id": "40329bf2-5d06-4b28-b44f-86c9ff784e3a",
   "metadata": {},
   "outputs": [
    {
     "data": {
      "text/plain": [
       "filter_data (generic function with 1 method)"
      ]
     },
     "execution_count": 7,
     "metadata": {},
     "output_type": "execute_result"
    }
   ],
   "source": [
    "function filter_data(data::DataFrame, param::Symbol, value)\n",
    "\tdf = subset(data, param => x -> x .== value)\n",
    "\treturn df\n",
    "end"
   ]
  },
  {
   "cell_type": "code",
   "execution_count": 8,
   "id": "603f7cac-8165-4e72-ab4c-f11ed065ce4e",
   "metadata": {},
   "outputs": [],
   "source": [
    "function by_day(data, day, month)\n",
    "    data_1 = filter_data(data,:day,day)\n",
    "\tdata_2 = filter_data(data_1,:month,month)\n",
    "    plot = @vlplot(\n",
    "\t:bar,\n",
    "    title =  string(data_2.day[1])*\" \"*string(data_2.month[1]),\n",
    "\tx = {data_2.year, type = :ordinal, title = \"Years\"},\n",
    "\ty = {\"count()\", title = \"Protests' amount\"}\n",
    ")\n",
    "    return data_2, plot\n",
    "end;"
   ]
  },
  {
   "cell_type": "code",
   "execution_count": 9,
   "id": "b9dcf609-f61e-435f-9f96-72501171dff0",
   "metadata": {},
   "outputs": [],
   "source": [
    "#Dzień republiki\n",
    "df_26_01, plot_26_01 = by_day(df, 26, \"January\");"
   ]
  },
  {
   "cell_type": "code",
   "execution_count": 10,
   "id": "d6f4fbcc-d885-4b2c-b62a-8b1a90b05b36",
   "metadata": {},
   "outputs": [
    {
     "data": {
      "application/vnd.vegalite.v4+json": {
       "data": {
        "values": [
         {
          "x": 2022
         },
         {
          "x": 2022
         },
         {
          "x": 2022
         },
         {
          "x": 2022
         },
         {
          "x": 2022
         },
         {
          "x": 2022
         },
         {
          "x": 2022
         },
         {
          "x": 2022
         },
         {
          "x": 2022
         },
         {
          "x": 2022
         },
         {
          "x": 2022
         },
         {
          "x": 2022
         },
         {
          "x": 2022
         },
         {
          "x": 2022
         },
         {
          "x": 2022
         },
         {
          "x": 2022
         },
         {
          "x": 2022
         },
         {
          "x": 2022
         },
         {
          "x": 2022
         },
         {
          "x": 2022
         },
         {
          "x": 2022
         },
         {
          "x": 2022
         },
         {
          "x": 2022
         },
         {
          "x": 2022
         },
         {
          "x": 2022
         },
         {
          "x": 2022
         },
         {
          "x": 2022
         },
         {
          "x": 2022
         },
         {
          "x": 2022
         },
         {
          "x": 2022
         },
         {
          "x": 2022
         },
         {
          "x": 2022
         },
         {
          "x": 2022
         },
         {
          "x": 2022
         },
         {
          "x": 2022
         },
         {
          "x": 2022
         },
         {
          "x": 2022
         },
         {
          "x": 2022
         },
         {
          "x": 2022
         },
         {
          "x": 2022
         },
         {
          "x": 2022
         },
         {
          "x": 2022
         },
         {
          "x": 2021
         },
         {
          "x": 2021
         },
         {
          "x": 2021
         },
         {
          "x": 2021
         },
         {
          "x": 2021
         },
         {
          "x": 2021
         },
         {
          "x": 2021
         },
         {
          "x": 2021
         },
         {
          "x": 2021
         },
         {
          "x": 2021
         },
         {
          "x": 2021
         },
         {
          "x": 2021
         },
         {
          "x": 2021
         },
         {
          "x": 2021
         },
         {
          "x": 2021
         },
         {
          "x": 2021
         },
         {
          "x": 2021
         },
         {
          "x": 2021
         },
         {
          "x": 2021
         },
         {
          "x": 2021
         },
         {
          "x": 2021
         },
         {
          "x": 2021
         },
         {
          "x": 2021
         },
         {
          "x": 2021
         },
         {
          "x": 2021
         },
         {
          "x": 2021
         },
         {
          "x": 2021
         },
         {
          "x": 2021
         },
         {
          "x": 2021
         },
         {
          "x": 2021
         },
         {
          "x": 2021
         },
         {
          "x": 2021
         },
         {
          "x": 2021
         },
         {
          "x": 2021
         },
         {
          "x": 2021
         },
         {
          "x": 2021
         },
         {
          "x": 2021
         },
         {
          "x": 2021
         },
         {
          "x": 2021
         },
         {
          "x": 2021
         },
         {
          "x": 2021
         },
         {
          "x": 2021
         },
         {
          "x": 2021
         },
         {
          "x": 2021
         },
         {
          "x": 2021
         },
         {
          "x": 2021
         },
         {
          "x": 2021
         },
         {
          "x": 2021
         },
         {
          "x": 2021
         },
         {
          "x": 2021
         },
         {
          "x": 2021
         },
         {
          "x": 2021
         },
         {
          "x": 2021
         },
         {
          "x": 2021
         },
         {
          "x": 2021
         },
         {
          "x": 2021
         },
         {
          "x": 2021
         },
         {
          "x": 2021
         },
         {
          "x": 2021
         },
         {
          "x": 2021
         },
         {
          "x": 2021
         },
         {
          "x": 2021
         },
         {
          "x": 2021
         },
         {
          "x": 2021
         },
         {
          "x": 2021
         },
         {
          "x": 2021
         },
         {
          "x": 2021
         },
         {
          "x": 2021
         },
         {
          "x": 2021
         },
         {
          "x": 2021
         },
         {
          "x": 2021
         },
         {
          "x": 2021
         },
         {
          "x": 2021
         },
         {
          "x": 2021
         },
         {
          "x": 2021
         },
         {
          "x": 2021
         },
         {
          "x": 2021
         },
         {
          "x": 2021
         },
         {
          "x": 2021
         },
         {
          "x": 2021
         },
         {
          "x": 2021
         },
         {
          "x": 2021
         },
         {
          "x": 2021
         },
         {
          "x": 2021
         },
         {
          "x": 2021
         },
         {
          "x": 2021
         },
         {
          "x": 2021
         },
         {
          "x": 2021
         },
         {
          "x": 2021
         },
         {
          "x": 2021
         },
         {
          "x": 2021
         },
         {
          "x": 2021
         },
         {
          "x": 2021
         },
         {
          "x": 2021
         },
         {
          "x": 2021
         },
         {
          "x": 2021
         },
         {
          "x": 2021
         },
         {
          "x": 2020
         },
         {
          "x": 2020
         },
         {
          "x": 2020
         },
         {
          "x": 2020
         },
         {
          "x": 2020
         },
         {
          "x": 2020
         },
         {
          "x": 2020
         },
         {
          "x": 2020
         },
         {
          "x": 2020
         },
         {
          "x": 2020
         },
         {
          "x": 2020
         },
         {
          "x": 2020
         },
         {
          "x": 2020
         },
         {
          "x": 2020
         },
         {
          "x": 2020
         },
         {
          "x": 2020
         },
         {
          "x": 2020
         },
         {
          "x": 2020
         },
         {
          "x": 2020
         },
         {
          "x": 2020
         },
         {
          "x": 2020
         },
         {
          "x": 2020
         },
         {
          "x": 2020
         },
         {
          "x": 2020
         },
         {
          "x": 2020
         },
         {
          "x": 2020
         },
         {
          "x": 2020
         },
         {
          "x": 2020
         },
         {
          "x": 2020
         },
         {
          "x": 2020
         },
         {
          "x": 2020
         },
         {
          "x": 2020
         },
         {
          "x": 2020
         },
         {
          "x": 2020
         },
         {
          "x": 2020
         },
         {
          "x": 2020
         },
         {
          "x": 2020
         },
         {
          "x": 2020
         },
         {
          "x": 2020
         },
         {
          "x": 2020
         },
         {
          "x": 2020
         },
         {
          "x": 2020
         },
         {
          "x": 2020
         },
         {
          "x": 2020
         },
         {
          "x": 2020
         },
         {
          "x": 2019
         },
         {
          "x": 2019
         },
         {
          "x": 2019
         },
         {
          "x": 2019
         },
         {
          "x": 2019
         },
         {
          "x": 2019
         },
         {
          "x": 2019
         },
         {
          "x": 2019
         },
         {
          "x": 2019
         },
         {
          "x": 2019
         },
         {
          "x": 2019
         },
         {
          "x": 2019
         },
         {
          "x": 2019
         },
         {
          "x": 2019
         },
         {
          "x": 2019
         },
         {
          "x": 2019
         },
         {
          "x": 2019
         },
         {
          "x": 2019
         },
         {
          "x": 2019
         },
         {
          "x": 2019
         },
         {
          "x": 2019
         },
         {
          "x": 2019
         },
         {
          "x": 2019
         },
         {
          "x": 2019
         },
         {
          "x": 2019
         },
         {
          "x": 2019
         },
         {
          "x": 2019
         },
         {
          "x": 2019
         },
         {
          "x": 2019
         },
         {
          "x": 2019
         },
         {
          "x": 2019
         },
         {
          "x": 2019
         },
         {
          "x": 2019
         },
         {
          "x": 2018
         },
         {
          "x": 2018
         },
         {
          "x": 2018
         },
         {
          "x": 2018
         },
         {
          "x": 2018
         },
         {
          "x": 2018
         },
         {
          "x": 2018
         },
         {
          "x": 2018
         },
         {
          "x": 2018
         },
         {
          "x": 2018
         },
         {
          "x": 2018
         },
         {
          "x": 2018
         },
         {
          "x": 2018
         },
         {
          "x": 2018
         },
         {
          "x": 2018
         },
         {
          "x": 2018
         },
         {
          "x": 2018
         },
         {
          "x": 2018
         },
         {
          "x": 2018
         },
         {
          "x": 2018
         },
         {
          "x": 2018
         },
         {
          "x": 2018
         },
         {
          "x": 2018
         },
         {
          "x": 2018
         },
         {
          "x": 2018
         },
         {
          "x": 2017
         },
         {
          "x": 2017
         },
         {
          "x": 2017
         },
         {
          "x": 2017
         },
         {
          "x": 2017
         },
         {
          "x": 2017
         },
         {
          "x": 2017
         },
         {
          "x": 2017
         },
         {
          "x": 2017
         },
         {
          "x": 2017
         },
         {
          "x": 2017
         },
         {
          "x": 2017
         },
         {
          "x": 2017
         },
         {
          "x": 2017
         },
         {
          "x": 2017
         },
         {
          "x": 2017
         },
         {
          "x": 2017
         },
         {
          "x": 2017
         },
         {
          "x": 2017
         },
         {
          "x": 2017
         },
         {
          "x": 2017
         },
         {
          "x": 2017
         },
         {
          "x": 2017
         },
         {
          "x": 2017
         },
         {
          "x": 2017
         },
         {
          "x": 2017
         },
         {
          "x": 2017
         },
         {
          "x": 2017
         },
         {
          "x": 2017
         },
         {
          "x": 2017
         },
         {
          "x": 2017
         },
         {
          "x": 2016
         },
         {
          "x": 2016
         },
         {
          "x": 2016
         },
         {
          "x": 2016
         },
         {
          "x": 2016
         },
         {
          "x": 2016
         },
         {
          "x": 2016
         },
         {
          "x": 2016
         },
         {
          "x": 2016
         },
         {
          "x": 2016
         },
         {
          "x": 2016
         },
         {
          "x": 2016
         },
         {
          "x": 2016
         },
         {
          "x": 2016
         },
         {
          "x": 2016
         },
         {
          "x": 2016
         }
        ]
       },
       "encoding": {
        "x": {
         "field": "x",
         "title": "Years",
         "type": "ordinal"
        },
        "y": {
         "aggregate": "count",
         "title": "Protests' amount",
         "type": "quantitative"
        }
       },
       "mark": "bar",
       "title": "26 January"
      },
      "image/png": "[encoded data removed]",
      "image/svg+xml": [
       "<?xml version=\"1.0\" encoding=\"utf-8\"?>\n",
       "<!DOCTYPE svg PUBLIC \"-//W3C//DTD SVG 1.1//EN\" \"http://www.w3.org/Graphics/SVG/1.1/DTD/svg11.dtd\">\n",
       "<svg xmlns=\"http://www.w3.org/2000/svg\" xmlns:xlink=\"http://www.w3.org/1999/xlink\" version=\"1.1\" class=\"marks\" width=\"190\" height=\"278\" viewBox=\"0 0 190 278\"><rect width=\"190\" height=\"278\" fill=\"white\"/><g fill=\"none\" stroke-miterlimit=\"10\" transform=\"translate(45,27)\"><g class=\"mark-group role-frame root\" role=\"graphics-object\" aria-roledescription=\"group mark container\"><g transform=\"translate(0,0)\"><path class=\"background\" aria-hidden=\"true\" d=\"M0.5,0.5h140v200h-140Z\" stroke=\"#ddd\"/><g><g class=\"mark-group role-axis\" aria-hidden=\"true\"><g transform=\"translate(0.5,0.5)\"><path class=\"background\" aria-hidden=\"true\" d=\"M0,0h0v0h0Z\" pointer-events=\"none\"/><g><g class=\"mark-rule role-axis-grid\" pointer-events=\"none\"><line transform=\"translate(0,200)\" x2=\"140\" y2=\"0\" stroke=\"#ddd\" stroke-width=\"1\" opacity=\"1\"/><line transform=\"translate(0,160)\" x2=\"140\" y2=\"0\" stroke=\"#ddd\" stroke-width=\"1\" opacity=\"1\"/><line transform=\"translate(0,120)\" x2=\"140\" y2=\"0\" stroke=\"#ddd\" stroke-width=\"1\" opacity=\"1\"/><line transform=\"translate(0,80)\" x2=\"140\" y2=\"0\" stroke=\"#ddd\" stroke-width=\"1\" opacity=\"1\"/><line transform=\"translate(0,40)\" x2=\"140\" y2=\"0\" stroke=\"#ddd\" stroke-width=\"1\" opacity=\"1\"/><line transform=\"translate(0,0)\" x2=\"140\" y2=\"0\" stroke=\"#ddd\" stroke-width=\"1\" opacity=\"1\"/></g></g><path class=\"foreground\" aria-hidden=\"true\" d=\"\" pointer-events=\"none\" display=\"none\"/></g></g><g class=\"mark-group role-axis\" role=\"graphics-symbol\" aria-roledescription=\"axis\" aria-label=\"X-axis titled 'Years' for a discrete scale with 7 values: 2016, 2017, 2018, 2019, 2020, 2021, 2022\"><g transform=\"translate(0.5,200.5)\"><path class=\"background\" aria-hidden=\"true\" d=\"M0,0h0v0h0Z\" pointer-events=\"none\"/><g><g class=\"mark-rule role-axis-tick\" pointer-events=\"none\"><line transform=\"translate(10,0)\" x2=\"0\" y2=\"5\" stroke=\"#888\" stroke-width=\"1\" opacity=\"1\"/><line transform=\"translate(30,0)\" x2=\"0\" y2=\"5\" stroke=\"#888\" stroke-width=\"1\" opacity=\"1\"/><line transform=\"translate(50,0)\" x2=\"0\" y2=\"5\" stroke=\"#888\" stroke-width=\"1\" opacity=\"1\"/><line transform=\"translate(70,0)\" x2=\"0\" y2=\"5\" stroke=\"#888\" stroke-width=\"1\" opacity=\"1\"/><line transform=\"translate(90,0)\" x2=\"0\" y2=\"5\" stroke=\"#888\" stroke-width=\"1\" opacity=\"1\"/><line transform=\"translate(110,0)\" x2=\"0\" y2=\"5\" stroke=\"#888\" stroke-width=\"1\" opacity=\"1\"/><line transform=\"translate(130,0)\" x2=\"0\" y2=\"5\" stroke=\"#888\" stroke-width=\"1\" opacity=\"1\"/></g><g class=\"mark-text role-axis-label\" pointer-events=\"none\"><text text-anchor=\"end\" transform=\"translate(9.5,7) rotate(270) translate(0,3)\" font-family=\"sans-serif\" font-size=\"10px\" fill=\"#000\" opacity=\"1\">2016</text><text text-anchor=\"end\" transform=\"translate(29.5,7) rotate(270) translate(0,3)\" font-family=\"sans-serif\" font-size=\"10px\" fill=\"#000\" opacity=\"1\">2017</text><text text-anchor=\"end\" transform=\"translate(49.5,7) rotate(270) translate(0,3)\" font-family=\"sans-serif\" font-size=\"10px\" fill=\"#000\" opacity=\"1\">2018</text><text text-anchor=\"end\" transform=\"translate(69.5,7) rotate(270) translate(0,3)\" font-family=\"sans-serif\" font-size=\"10px\" fill=\"#000\" opacity=\"1\">2019</text><text text-anchor=\"end\" transform=\"translate(89.5,7) rotate(270) translate(0,3)\" font-family=\"sans-serif\" font-size=\"10px\" fill=\"#000\" opacity=\"1\">2020</text><text text-anchor=\"end\" transform=\"translate(109.5,7) rotate(270) translate(0,3)\" font-family=\"sans-serif\" font-size=\"10px\" fill=\"#000\" opacity=\"1\">2021</text><text text-anchor=\"end\" transform=\"translate(129.5,7) rotate(270) translate(0,3)\" font-family=\"sans-serif\" font-size=\"10px\" fill=\"#000\" opacity=\"1\">2022</text></g><g class=\"mark-rule role-axis-domain\" pointer-events=\"none\"><line transform=\"translate(0,0)\" x2=\"140\" y2=\"0\" stroke=\"#888\" stroke-width=\"1\" opacity=\"1\"/></g><g class=\"mark-text role-axis-title\" pointer-events=\"none\"><text text-anchor=\"middle\" transform=\"translate(70,44)\" font-family=\"sans-serif\" font-size=\"11px\" font-weight=\"bold\" fill=\"#000\" opacity=\"1\">Years</text></g></g><path class=\"foreground\" aria-hidden=\"true\" d=\"\" pointer-events=\"none\" display=\"none\"/></g></g><g class=\"mark-group role-axis\" role=\"graphics-symbol\" aria-roledescription=\"axis\" aria-label=\"Y-axis titled 'Protests' amount' for a linear scale with values from 0 to 100\"><g transform=\"translate(0.5,0.5)\"><path class=\"background\" aria-hidden=\"true\" d=\"M0,0h0v0h0Z\" pointer-events=\"none\"/><g><g class=\"mark-rule role-axis-tick\" pointer-events=\"none\"><line transform=\"translate(0,200)\" x2=\"-5\" y2=\"0\" stroke=\"#888\" stroke-width=\"1\" opacity=\"1\"/><line transform=\"translate(0,160)\" x2=\"-5\" y2=\"0\" stroke=\"#888\" stroke-width=\"1\" opacity=\"1\"/><line transform=\"translate(0,120)\" x2=\"-5\" y2=\"0\" stroke=\"#888\" stroke-width=\"1\" opacity=\"1\"/><line transform=\"translate(0,80)\" x2=\"-5\" y2=\"0\" stroke=\"#888\" stroke-width=\"1\" opacity=\"1\"/><line transform=\"translate(0,40)\" x2=\"-5\" y2=\"0\" stroke=\"#888\" stroke-width=\"1\" opacity=\"1\"/><line transform=\"translate(0,0)\" x2=\"-5\" y2=\"0\" stroke=\"#888\" stroke-width=\"1\" opacity=\"1\"/></g><g class=\"mark-text role-axis-label\" pointer-events=\"none\"><text text-anchor=\"end\" transform=\"translate(-7,203)\" font-family=\"sans-serif\" font-size=\"10px\" fill=\"#000\" opacity=\"1\">0</text><text text-anchor=\"end\" transform=\"translate(-7,163)\" font-family=\"sans-serif\" font-size=\"10px\" fill=\"#000\" opacity=\"1\">20</text><text text-anchor=\"end\" transform=\"translate(-7,123)\" font-family=\"sans-serif\" font-size=\"10px\" fill=\"#000\" opacity=\"1\">40</text><text text-anchor=\"end\" transform=\"translate(-7,83)\" font-family=\"sans-serif\" font-size=\"10px\" fill=\"#000\" opacity=\"1\">60</text><text text-anchor=\"end\" transform=\"translate(-7,42.99999999999999)\" font-family=\"sans-serif\" font-size=\"10px\" fill=\"#000\" opacity=\"1\">80</text><text text-anchor=\"end\" transform=\"translate(-7,3)\" font-family=\"sans-serif\" font-size=\"10px\" fill=\"#000\" opacity=\"1\">100</text></g><g class=\"mark-rule role-axis-domain\" pointer-events=\"none\"><line transform=\"translate(0,200)\" x2=\"0\" y2=\"-200\" stroke=\"#888\" stroke-width=\"1\" opacity=\"1\"/></g><g class=\"mark-text role-axis-title\" pointer-events=\"none\"><text text-anchor=\"middle\" transform=\"translate(-29,100) rotate(-90) translate(0,-2)\" font-family=\"sans-serif\" font-size=\"11px\" font-weight=\"bold\" fill=\"#000\" opacity=\"1\">Protests' amount</text></g></g><path class=\"foreground\" aria-hidden=\"true\" d=\"\" pointer-events=\"none\" display=\"none\"/></g></g><g class=\"mark-rect role-mark marks\" role=\"graphics-object\" aria-roledescription=\"rect mark container\"><path aria-label=\"Years: 2022; Protests' amount: 42\" role=\"graphics-symbol\" aria-roledescription=\"bar\" d=\"M121,116.00000000000001h18v83.99999999999999h-18Z\" fill=\"#4c78a8\"/><path aria-label=\"Years: 2021; Protests' amount: 97\" role=\"graphics-symbol\" aria-roledescription=\"bar\" d=\"M101,6.000000000000005h18v194h-18Z\" fill=\"#4c78a8\"/><path aria-label=\"Years: 2020; Protests' amount: 45\" role=\"graphics-symbol\" aria-roledescription=\"bar\" d=\"M81,110.00000000000001h18v89.99999999999999h-18Z\" fill=\"#4c78a8\"/><path aria-label=\"Years: 2019; Protests' amount: 33\" role=\"graphics-symbol\" aria-roledescription=\"bar\" d=\"M61,134h18v66h-18Z\" fill=\"#4c78a8\"/><path aria-label=\"Years: 2018; Protests' amount: 25\" role=\"graphics-symbol\" aria-roledescription=\"bar\" d=\"M41,150h18v50h-18Z\" fill=\"#4c78a8\"/><path aria-label=\"Years: 2017; Protests' amount: 31\" role=\"graphics-symbol\" aria-roledescription=\"bar\" d=\"M21,138h18v62h-18Z\" fill=\"#4c78a8\"/><path aria-label=\"Years: 2016; Protests' amount: 16\" role=\"graphics-symbol\" aria-roledescription=\"bar\" d=\"M1,168h18v32h-18Z\" fill=\"#4c78a8\"/></g><g class=\"mark-group role-title\"><g transform=\"translate(70,-22)\"><path class=\"background\" aria-hidden=\"true\" d=\"M0,0h0v0h0Z\" pointer-events=\"none\"/><g><g class=\"mark-text role-title-text\" role=\"graphics-symbol\" aria-roledescription=\"title\" aria-label=\"Title text '26 January'\" pointer-events=\"none\"><text text-anchor=\"middle\" transform=\"translate(0,10)\" font-family=\"sans-serif\" font-size=\"13px\" font-weight=\"bold\" fill=\"#000\" opacity=\"1\">26 January</text></g></g><path class=\"foreground\" aria-hidden=\"true\" d=\"\" pointer-events=\"none\" display=\"none\"/></g></g></g><path class=\"foreground\" aria-hidden=\"true\" d=\"\" display=\"none\"/></g></g></g></svg>\n"
      ],
      "text/plain": [
       "@vlplot(\n",
       "    title=\"26 January\",\n",
       "    mark=\"bar\",\n",
       "    encoding={\n",
       "        x={\n",
       "            type=\"ordinal\",\n",
       "            title=\"Years\",\n",
       "            field=\"x\"\n",
       "        },\n",
       "        y={\n",
       "            title=\"Protests' amount\",\n",
       "            aggregate=\"count\",\n",
       "            type=\"quantitative\"\n",
       "        }\n",
       "    },\n",
       "    data={\n",
       "        values=...\n",
       "    }\n",
       ")"
      ]
     },
     "execution_count": 10,
     "metadata": {},
     "output_type": "execute_result"
    }
   ],
   "source": [
    "plot_26_01"
   ]
  },
  {
   "cell_type": "code",
   "execution_count": 11,
   "id": "a4e737f2-41e0-49c0-a5f8-5915c032882f",
   "metadata": {},
   "outputs": [],
   "source": [
    "df_15_08, plot_15_08 = by_day(df,15, \"August\");"
   ]
  },
  {
   "cell_type": "code",
   "execution_count": 12,
   "id": "250f4516-bfbd-466d-ae8a-a76ea29a3615",
   "metadata": {},
   "outputs": [
    {
     "data": {
      "application/vnd.vegalite.v4+json": {
       "data": {
        "values": [
         {
          "x": 2021
         },
         {
          "x": 2021
         },
         {
          "x": 2021
         },
         {
          "x": 2021
         },
         {
          "x": 2021
         },
         {
          "x": 2021
         },
         {
          "x": 2021
         },
         {
          "x": 2021
         },
         {
          "x": 2021
         },
         {
          "x": 2021
         },
         {
          "x": 2021
         },
         {
          "x": 2021
         },
         {
          "x": 2021
         },
         {
          "x": 2021
         },
         {
          "x": 2021
         },
         {
          "x": 2021
         },
         {
          "x": 2021
         },
         {
          "x": 2021
         },
         {
          "x": 2021
         },
         {
          "x": 2021
         },
         {
          "x": 2021
         },
         {
          "x": 2021
         },
         {
          "x": 2021
         },
         {
          "x": 2021
         },
         {
          "x": 2021
         },
         {
          "x": 2021
         },
         {
          "x": 2021
         },
         {
          "x": 2021
         },
         {
          "x": 2021
         },
         {
          "x": 2021
         },
         {
          "x": 2021
         },
         {
          "x": 2021
         },
         {
          "x": 2021
         },
         {
          "x": 2021
         },
         {
          "x": 2021
         },
         {
          "x": 2021
         },
         {
          "x": 2021
         },
         {
          "x": 2021
         },
         {
          "x": 2021
         },
         {
          "x": 2020
         },
         {
          "x": 2020
         },
         {
          "x": 2020
         },
         {
          "x": 2020
         },
         {
          "x": 2020
         },
         {
          "x": 2020
         },
         {
          "x": 2020
         },
         {
          "x": 2020
         },
         {
          "x": 2020
         },
         {
          "x": 2020
         },
         {
          "x": 2020
         },
         {
          "x": 2020
         },
         {
          "x": 2020
         },
         {
          "x": 2020
         },
         {
          "x": 2020
         },
         {
          "x": 2020
         },
         {
          "x": 2020
         },
         {
          "x": 2020
         },
         {
          "x": 2020
         },
         {
          "x": 2020
         },
         {
          "x": 2020
         },
         {
          "x": 2020
         },
         {
          "x": 2020
         },
         {
          "x": 2020
         },
         {
          "x": 2020
         },
         {
          "x": 2020
         },
         {
          "x": 2020
         },
         {
          "x": 2020
         },
         {
          "x": 2020
         },
         {
          "x": 2020
         },
         {
          "x": 2020
         },
         {
          "x": 2020
         },
         {
          "x": 2020
         },
         {
          "x": 2020
         },
         {
          "x": 2020
         },
         {
          "x": 2020
         },
         {
          "x": 2019
         },
         {
          "x": 2019
         },
         {
          "x": 2019
         },
         {
          "x": 2019
         },
         {
          "x": 2019
         },
         {
          "x": 2019
         },
         {
          "x": 2019
         },
         {
          "x": 2019
         },
         {
          "x": 2019
         },
         {
          "x": 2019
         },
         {
          "x": 2019
         },
         {
          "x": 2019
         },
         {
          "x": 2019
         },
         {
          "x": 2019
         },
         {
          "x": 2019
         },
         {
          "x": 2019
         },
         {
          "x": 2019
         },
         {
          "x": 2019
         },
         {
          "x": 2019
         },
         {
          "x": 2019
         },
         {
          "x": 2019
         },
         {
          "x": 2019
         },
         {
          "x": 2019
         },
         {
          "x": 2019
         },
         {
          "x": 2019
         },
         {
          "x": 2019
         },
         {
          "x": 2018
         },
         {
          "x": 2018
         },
         {
          "x": 2018
         },
         {
          "x": 2018
         },
         {
          "x": 2018
         },
         {
          "x": 2018
         },
         {
          "x": 2018
         },
         {
          "x": 2018
         },
         {
          "x": 2018
         },
         {
          "x": 2018
         },
         {
          "x": 2018
         },
         {
          "x": 2018
         },
         {
          "x": 2018
         },
         {
          "x": 2018
         },
         {
          "x": 2018
         },
         {
          "x": 2018
         },
         {
          "x": 2018
         },
         {
          "x": 2018
         },
         {
          "x": 2018
         },
         {
          "x": 2018
         },
         {
          "x": 2018
         },
         {
          "x": 2018
         },
         {
          "x": 2018
         },
         {
          "x": 2018
         },
         {
          "x": 2018
         },
         {
          "x": 2018
         },
         {
          "x": 2018
         },
         {
          "x": 2018
         },
         {
          "x": 2017
         },
         {
          "x": 2017
         },
         {
          "x": 2017
         },
         {
          "x": 2017
         },
         {
          "x": 2017
         },
         {
          "x": 2017
         },
         {
          "x": 2017
         },
         {
          "x": 2017
         },
         {
          "x": 2017
         },
         {
          "x": 2017
         },
         {
          "x": 2017
         },
         {
          "x": 2017
         },
         {
          "x": 2017
         },
         {
          "x": 2017
         },
         {
          "x": 2017
         },
         {
          "x": 2017
         },
         {
          "x": 2016
         },
         {
          "x": 2016
         },
         {
          "x": 2016
         },
         {
          "x": 2016
         },
         {
          "x": 2016
         },
         {
          "x": 2016
         },
         {
          "x": 2016
         },
         {
          "x": 2016
         },
         {
          "x": 2016
         },
         {
          "x": 2016
         },
         {
          "x": 2016
         },
         {
          "x": 2016
         },
         {
          "x": 2016
         },
         {
          "x": 2016
         },
         {
          "x": 2016
         },
         {
          "x": 2016
         },
         {
          "x": 2016
         },
         {
          "x": 2016
         },
         {
          "x": 2016
         },
         {
          "x": 2016
         },
         {
          "x": 2016
         },
         {
          "x": 2016
         },
         {
          "x": 2016
         },
         {
          "x": 2016
         },
         {
          "x": 2016
         },
         {
          "x": 2016
         },
         {
          "x": 2016
         },
         {
          "x": 2016
         },
         {
          "x": 2016
         },
         {
          "x": 2016
         },
         {
          "x": 2016
         }
        ]
       },
       "encoding": {
        "x": {
         "field": "x",
         "title": "Years",
         "type": "ordinal"
        },
        "y": {
         "aggregate": "count",
         "title": "Protests' amount",
         "type": "quantitative"
        }
       },
       "mark": "bar",
       "title": "15 August"
      },
      "image/png": "[encoded data removed]",
      "image/svg+xml": [
       "<?xml version=\"1.0\" encoding=\"utf-8\"?>\n",
       "<!DOCTYPE svg PUBLIC \"-//W3C//DTD SVG 1.1//EN\" \"http://www.w3.org/Graphics/SVG/1.1/DTD/svg11.dtd\">\n",
       "<svg xmlns=\"http://www.w3.org/2000/svg\" xmlns:xlink=\"http://www.w3.org/1999/xlink\" version=\"1.1\" class=\"marks\" width=\"164\" height=\"278\" viewBox=\"0 0 164 278\"><rect width=\"164\" height=\"278\" fill=\"white\"/><g fill=\"none\" stroke-miterlimit=\"10\" transform=\"translate(39,27)\"><g class=\"mark-group role-frame root\" role=\"graphics-object\" aria-roledescription=\"group mark container\"><g transform=\"translate(0,0)\"><path class=\"background\" aria-hidden=\"true\" d=\"M0.5,0.5h120v200h-120Z\" stroke=\"#ddd\"/><g><g class=\"mark-group role-axis\" aria-hidden=\"true\"><g transform=\"translate(0.5,0.5)\"><path class=\"background\" aria-hidden=\"true\" d=\"M0,0h0v0h0Z\" pointer-events=\"none\"/><g><g class=\"mark-rule role-axis-grid\" pointer-events=\"none\"><line transform=\"translate(0,200)\" x2=\"120\" y2=\"0\" stroke=\"#ddd\" stroke-width=\"1\" opacity=\"1\"/><line transform=\"translate(0,150)\" x2=\"120\" y2=\"0\" stroke=\"#ddd\" stroke-width=\"1\" opacity=\"1\"/><line transform=\"translate(0,100)\" x2=\"120\" y2=\"0\" stroke=\"#ddd\" stroke-width=\"1\" opacity=\"1\"/><line transform=\"translate(0,50)\" x2=\"120\" y2=\"0\" stroke=\"#ddd\" stroke-width=\"1\" opacity=\"1\"/><line transform=\"translate(0,0)\" x2=\"120\" y2=\"0\" stroke=\"#ddd\" stroke-width=\"1\" opacity=\"1\"/></g></g><path class=\"foreground\" aria-hidden=\"true\" d=\"\" pointer-events=\"none\" display=\"none\"/></g></g><g class=\"mark-group role-axis\" role=\"graphics-symbol\" aria-roledescription=\"axis\" aria-label=\"X-axis titled 'Years' for a discrete scale with 6 values: 2016, 2017, 2018, 2019, 2020, 2021\"><g transform=\"translate(0.5,200.5)\"><path class=\"background\" aria-hidden=\"true\" d=\"M0,0h0v0h0Z\" pointer-events=\"none\"/><g><g class=\"mark-rule role-axis-tick\" pointer-events=\"none\"><line transform=\"translate(10,0)\" x2=\"0\" y2=\"5\" stroke=\"#888\" stroke-width=\"1\" opacity=\"1\"/><line transform=\"translate(30,0)\" x2=\"0\" y2=\"5\" stroke=\"#888\" stroke-width=\"1\" opacity=\"1\"/><line transform=\"translate(50,0)\" x2=\"0\" y2=\"5\" stroke=\"#888\" stroke-width=\"1\" opacity=\"1\"/><line transform=\"translate(70,0)\" x2=\"0\" y2=\"5\" stroke=\"#888\" stroke-width=\"1\" opacity=\"1\"/><line transform=\"translate(90,0)\" x2=\"0\" y2=\"5\" stroke=\"#888\" stroke-width=\"1\" opacity=\"1\"/><line transform=\"translate(110,0)\" x2=\"0\" y2=\"5\" stroke=\"#888\" stroke-width=\"1\" opacity=\"1\"/></g><g class=\"mark-text role-axis-label\" pointer-events=\"none\"><text text-anchor=\"end\" transform=\"translate(9.5,7) rotate(270) translate(0,3)\" font-family=\"sans-serif\" font-size=\"10px\" fill=\"#000\" opacity=\"1\">2016</text><text text-anchor=\"end\" transform=\"translate(29.5,7) rotate(270) translate(0,3)\" font-family=\"sans-serif\" font-size=\"10px\" fill=\"#000\" opacity=\"1\">2017</text><text text-anchor=\"end\" transform=\"translate(49.5,7) rotate(270) translate(0,3)\" font-family=\"sans-serif\" font-size=\"10px\" fill=\"#000\" opacity=\"1\">2018</text><text text-anchor=\"end\" transform=\"translate(69.5,7) rotate(270) translate(0,3)\" font-family=\"sans-serif\" font-size=\"10px\" fill=\"#000\" opacity=\"1\">2019</text><text text-anchor=\"end\" transform=\"translate(89.5,7) rotate(270) translate(0,3)\" font-family=\"sans-serif\" font-size=\"10px\" fill=\"#000\" opacity=\"1\">2020</text><text text-anchor=\"end\" transform=\"translate(109.5,7) rotate(270) translate(0,3)\" font-family=\"sans-serif\" font-size=\"10px\" fill=\"#000\" opacity=\"1\">2021</text></g><g class=\"mark-rule role-axis-domain\" pointer-events=\"none\"><line transform=\"translate(0,0)\" x2=\"120\" y2=\"0\" stroke=\"#888\" stroke-width=\"1\" opacity=\"1\"/></g><g class=\"mark-text role-axis-title\" pointer-events=\"none\"><text text-anchor=\"middle\" transform=\"translate(60,44)\" font-family=\"sans-serif\" font-size=\"11px\" font-weight=\"bold\" fill=\"#000\" opacity=\"1\">Years</text></g></g><path class=\"foreground\" aria-hidden=\"true\" d=\"\" pointer-events=\"none\" display=\"none\"/></g></g><g class=\"mark-group role-axis\" role=\"graphics-symbol\" aria-roledescription=\"axis\" aria-label=\"Y-axis titled 'Protests' amount' for a linear scale with values from 0 to 40\"><g transform=\"translate(0.5,0.5)\"><path class=\"background\" aria-hidden=\"true\" d=\"M0,0h0v0h0Z\" pointer-events=\"none\"/><g><g class=\"mark-rule role-axis-tick\" pointer-events=\"none\"><line transform=\"translate(0,200)\" x2=\"-5\" y2=\"0\" stroke=\"#888\" stroke-width=\"1\" opacity=\"1\"/><line transform=\"translate(0,150)\" x2=\"-5\" y2=\"0\" stroke=\"#888\" stroke-width=\"1\" opacity=\"1\"/><line transform=\"translate(0,100)\" x2=\"-5\" y2=\"0\" stroke=\"#888\" stroke-width=\"1\" opacity=\"1\"/><line transform=\"translate(0,50)\" x2=\"-5\" y2=\"0\" stroke=\"#888\" stroke-width=\"1\" opacity=\"1\"/><line transform=\"translate(0,0)\" x2=\"-5\" y2=\"0\" stroke=\"#888\" stroke-width=\"1\" opacity=\"1\"/></g><g class=\"mark-text role-axis-label\" pointer-events=\"none\"><text text-anchor=\"end\" transform=\"translate(-7,203)\" font-family=\"sans-serif\" font-size=\"10px\" fill=\"#000\" opacity=\"1\">0</text><text text-anchor=\"end\" transform=\"translate(-7,153)\" font-family=\"sans-serif\" font-size=\"10px\" fill=\"#000\" opacity=\"1\">10</text><text text-anchor=\"end\" transform=\"translate(-7,103)\" font-family=\"sans-serif\" font-size=\"10px\" fill=\"#000\" opacity=\"1\">20</text><text text-anchor=\"end\" transform=\"translate(-7,53)\" font-family=\"sans-serif\" font-size=\"10px\" fill=\"#000\" opacity=\"1\">30</text><text text-anchor=\"end\" transform=\"translate(-7,3)\" font-family=\"sans-serif\" font-size=\"10px\" fill=\"#000\" opacity=\"1\">40</text></g><g class=\"mark-rule role-axis-domain\" pointer-events=\"none\"><line transform=\"translate(0,200)\" x2=\"0\" y2=\"-200\" stroke=\"#888\" stroke-width=\"1\" opacity=\"1\"/></g><g class=\"mark-text role-axis-title\" pointer-events=\"none\"><text text-anchor=\"middle\" transform=\"translate(-23,100) rotate(-90) translate(0,-2)\" font-family=\"sans-serif\" font-size=\"11px\" font-weight=\"bold\" fill=\"#000\" opacity=\"1\">Protests' amount</text></g></g><path class=\"foreground\" aria-hidden=\"true\" d=\"\" pointer-events=\"none\" display=\"none\"/></g></g><g class=\"mark-rect role-mark marks\" role=\"graphics-object\" aria-roledescription=\"rect mark container\"><path aria-label=\"Years: 2021; Protests' amount: 39\" role=\"graphics-symbol\" aria-roledescription=\"bar\" d=\"M101,5.000000000000004h18v195h-18Z\" fill=\"#4c78a8\"/><path aria-label=\"Years: 2020; Protests' amount: 36\" role=\"graphics-symbol\" aria-roledescription=\"bar\" d=\"M81,19.999999999999996h18v180h-18Z\" fill=\"#4c78a8\"/><path aria-label=\"Years: 2019; Protests' amount: 26\" role=\"graphics-symbol\" aria-roledescription=\"bar\" d=\"M61,70h18v130h-18Z\" fill=\"#4c78a8\"/><path aria-label=\"Years: 2018; Protests' amount: 28\" role=\"graphics-symbol\" aria-roledescription=\"bar\" d=\"M41,60.00000000000001h18v140h-18Z\" fill=\"#4c78a8\"/><path aria-label=\"Years: 2017; Protests' amount: 16\" role=\"graphics-symbol\" aria-roledescription=\"bar\" d=\"M21,120h18v80h-18Z\" fill=\"#4c78a8\"/><path aria-label=\"Years: 2016; Protests' amount: 31\" role=\"graphics-symbol\" aria-roledescription=\"bar\" d=\"M1,44.99999999999999h18v155h-18Z\" fill=\"#4c78a8\"/></g><g class=\"mark-group role-title\"><g transform=\"translate(60,-22)\"><path class=\"background\" aria-hidden=\"true\" d=\"M0,0h0v0h0Z\" pointer-events=\"none\"/><g><g class=\"mark-text role-title-text\" role=\"graphics-symbol\" aria-roledescription=\"title\" aria-label=\"Title text '15 August'\" pointer-events=\"none\"><text text-anchor=\"middle\" transform=\"translate(0,10)\" font-family=\"sans-serif\" font-size=\"13px\" font-weight=\"bold\" fill=\"#000\" opacity=\"1\">15 August</text></g></g><path class=\"foreground\" aria-hidden=\"true\" d=\"\" pointer-events=\"none\" display=\"none\"/></g></g></g><path class=\"foreground\" aria-hidden=\"true\" d=\"\" display=\"none\"/></g></g></g></svg>\n"
      ],
      "text/plain": [
       "@vlplot(\n",
       "    title=\"15 August\",\n",
       "    mark=\"bar\",\n",
       "    encoding={\n",
       "        x={\n",
       "            type=\"ordinal\",\n",
       "            title=\"Years\",\n",
       "            field=\"x\"\n",
       "        },\n",
       "        y={\n",
       "            title=\"Protests' amount\",\n",
       "            aggregate=\"count\",\n",
       "            type=\"quantitative\"\n",
       "        }\n",
       "    },\n",
       "    data={\n",
       "        values=...\n",
       "    }\n",
       ")"
      ]
     },
     "execution_count": 12,
     "metadata": {},
     "output_type": "execute_result"
    }
   ],
   "source": [
    "plot_15_08"
   ]
  },
  {
   "cell_type": "code",
   "execution_count": 13,
   "id": "34fb0598-d5f1-4b2d-9423-fa00e990bab8",
   "metadata": {},
   "outputs": [],
   "source": [
    "df_02_10, plot_02_10 = by_day(df,2, \"October\");"
   ]
  },
  {
   "cell_type": "code",
   "execution_count": 14,
   "id": "70ffe021-8f02-4244-b648-9bd91aeb680f",
   "metadata": {},
   "outputs": [
    {
     "data": {
      "application/vnd.vegalite.v4+json": {
       "data": {
        "values": [
         {
          "x": 2021
         },
         {
          "x": 2021
         },
         {
          "x": 2021
         },
         {
          "x": 2021
         },
         {
          "x": 2021
         },
         {
          "x": 2021
         },
         {
          "x": 2021
         },
         {
          "x": 2021
         },
         {
          "x": 2021
         },
         {
          "x": 2021
         },
         {
          "x": 2021
         },
         {
          "x": 2021
         },
         {
          "x": 2021
         },
         {
          "x": 2021
         },
         {
          "x": 2021
         },
         {
          "x": 2021
         },
         {
          "x": 2021
         },
         {
          "x": 2021
         },
         {
          "x": 2021
         },
         {
          "x": 2021
         },
         {
          "x": 2021
         },
         {
          "x": 2021
         },
         {
          "x": 2021
         },
         {
          "x": 2021
         },
         {
          "x": 2021
         },
         {
          "x": 2021
         },
         {
          "x": 2021
         },
         {
          "x": 2021
         },
         {
          "x": 2021
         },
         {
          "x": 2021
         },
         {
          "x": 2021
         },
         {
          "x": 2021
         },
         {
          "x": 2021
         },
         {
          "x": 2021
         },
         {
          "x": 2021
         },
         {
          "x": 2021
         },
         {
          "x": 2021
         },
         {
          "x": 2021
         },
         {
          "x": 2021
         },
         {
          "x": 2021
         },
         {
          "x": 2021
         },
         {
          "x": 2021
         },
         {
          "x": 2020
         },
         {
          "x": 2020
         },
         {
          "x": 2020
         },
         {
          "x": 2020
         },
         {
          "x": 2020
         },
         {
          "x": 2020
         },
         {
          "x": 2020
         },
         {
          "x": 2020
         },
         {
          "x": 2020
         },
         {
          "x": 2020
         },
         {
          "x": 2020
         },
         {
          "x": 2020
         },
         {
          "x": 2020
         },
         {
          "x": 2020
         },
         {
          "x": 2020
         },
         {
          "x": 2020
         },
         {
          "x": 2020
         },
         {
          "x": 2020
         },
         {
          "x": 2020
         },
         {
          "x": 2020
         },
         {
          "x": 2020
         },
         {
          "x": 2020
         },
         {
          "x": 2020
         },
         {
          "x": 2020
         },
         {
          "x": 2020
         },
         {
          "x": 2020
         },
         {
          "x": 2020
         },
         {
          "x": 2020
         },
         {
          "x": 2020
         },
         {
          "x": 2020
         },
         {
          "x": 2020
         },
         {
          "x": 2020
         },
         {
          "x": 2020
         },
         {
          "x": 2020
         },
         {
          "x": 2020
         },
         {
          "x": 2020
         },
         {
          "x": 2020
         },
         {
          "x": 2020
         },
         {
          "x": 2020
         },
         {
          "x": 2020
         },
         {
          "x": 2020
         },
         {
          "x": 2020
         },
         {
          "x": 2020
         },
         {
          "x": 2020
         },
         {
          "x": 2020
         },
         {
          "x": 2020
         },
         {
          "x": 2020
         },
         {
          "x": 2020
         },
         {
          "x": 2020
         },
         {
          "x": 2020
         },
         {
          "x": 2020
         },
         {
          "x": 2020
         },
         {
          "x": 2020
         },
         {
          "x": 2020
         },
         {
          "x": 2020
         },
         {
          "x": 2020
         },
         {
          "x": 2020
         },
         {
          "x": 2020
         },
         {
          "x": 2020
         },
         {
          "x": 2020
         },
         {
          "x": 2020
         },
         {
          "x": 2020
         },
         {
          "x": 2020
         },
         {
          "x": 2020
         },
         {
          "x": 2020
         },
         {
          "x": 2020
         },
         {
          "x": 2020
         },
         {
          "x": 2020
         },
         {
          "x": 2020
         },
         {
          "x": 2020
         },
         {
          "x": 2020
         },
         {
          "x": 2020
         },
         {
          "x": 2020
         },
         {
          "x": 2020
         },
         {
          "x": 2020
         },
         {
          "x": 2020
         },
         {
          "x": 2020
         },
         {
          "x": 2020
         },
         {
          "x": 2020
         },
         {
          "x": 2020
         },
         {
          "x": 2020
         },
         {
          "x": 2020
         },
         {
          "x": 2020
         },
         {
          "x": 2020
         },
         {
          "x": 2020
         },
         {
          "x": 2020
         },
         {
          "x": 2020
         },
         {
          "x": 2020
         },
         {
          "x": 2020
         },
         {
          "x": 2020
         },
         {
          "x": 2020
         },
         {
          "x": 2020
         },
         {
          "x": 2020
         },
         {
          "x": 2020
         },
         {
          "x": 2020
         },
         {
          "x": 2020
         },
         {
          "x": 2020
         },
         {
          "x": 2020
         },
         {
          "x": 2020
         },
         {
          "x": 2020
         },
         {
          "x": 2020
         },
         {
          "x": 2020
         },
         {
          "x": 2020
         },
         {
          "x": 2020
         },
         {
          "x": 2020
         },
         {
          "x": 2020
         },
         {
          "x": 2020
         },
         {
          "x": 2020
         },
         {
          "x": 2020
         },
         {
          "x": 2020
         },
         {
          "x": 2020
         },
         {
          "x": 2020
         },
         {
          "x": 2020
         },
         {
          "x": 2020
         },
         {
          "x": 2020
         },
         {
          "x": 2020
         },
         {
          "x": 2020
         },
         {
          "x": 2020
         },
         {
          "x": 2020
         },
         {
          "x": 2020
         },
         {
          "x": 2020
         },
         {
          "x": 2020
         },
         {
          "x": 2020
         },
         {
          "x": 2020
         },
         {
          "x": 2020
         },
         {
          "x": 2020
         },
         {
          "x": 2020
         },
         {
          "x": 2020
         },
         {
          "x": 2020
         },
         {
          "x": 2020
         },
         {
          "x": 2020
         },
         {
          "x": 2020
         },
         {
          "x": 2020
         },
         {
          "x": 2020
         },
         {
          "x": 2020
         },
         {
          "x": 2020
         },
         {
          "x": 2020
         },
         {
          "x": 2020
         },
         {
          "x": 2020
         },
         {
          "x": 2020
         },
         {
          "x": 2020
         },
         {
          "x": 2020
         },
         {
          "x": 2020
         },
         {
          "x": 2020
         },
         {
          "x": 2020
         },
         {
          "x": 2020
         },
         {
          "x": 2020
         },
         {
          "x": 2020
         },
         {
          "x": 2020
         },
         {
          "x": 2020
         },
         {
          "x": 2020
         },
         {
          "x": 2019
         },
         {
          "x": 2019
         },
         {
          "x": 2019
         },
         {
          "x": 2019
         },
         {
          "x": 2019
         },
         {
          "x": 2019
         },
         {
          "x": 2019
         },
         {
          "x": 2019
         },
         {
          "x": 2019
         },
         {
          "x": 2019
         },
         {
          "x": 2019
         },
         {
          "x": 2019
         },
         {
          "x": 2019
         },
         {
          "x": 2019
         },
         {
          "x": 2019
         },
         {
          "x": 2019
         },
         {
          "x": 2019
         },
         {
          "x": 2019
         },
         {
          "x": 2019
         },
         {
          "x": 2019
         },
         {
          "x": 2019
         },
         {
          "x": 2019
         },
         {
          "x": 2019
         },
         {
          "x": 2019
         },
         {
          "x": 2019
         },
         {
          "x": 2019
         },
         {
          "x": 2019
         },
         {
          "x": 2019
         },
         {
          "x": 2019
         },
         {
          "x": 2019
         },
         {
          "x": 2019
         },
         {
          "x": 2019
         },
         {
          "x": 2019
         },
         {
          "x": 2019
         },
         {
          "x": 2019
         },
         {
          "x": 2019
         },
         {
          "x": 2019
         },
         {
          "x": 2019
         },
         {
          "x": 2019
         },
         {
          "x": 2019
         },
         {
          "x": 2019
         },
         {
          "x": 2019
         },
         {
          "x": 2019
         },
         {
          "x": 2019
         },
         {
          "x": 2019
         },
         {
          "x": 2018
         },
         {
          "x": 2018
         },
         {
          "x": 2018
         },
         {
          "x": 2018
         },
         {
          "x": 2018
         },
         {
          "x": 2018
         },
         {
          "x": 2018
         },
         {
          "x": 2018
         },
         {
          "x": 2018
         },
         {
          "x": 2018
         },
         {
          "x": 2018
         },
         {
          "x": 2018
         },
         {
          "x": 2018
         },
         {
          "x": 2018
         },
         {
          "x": 2018
         },
         {
          "x": 2018
         },
         {
          "x": 2018
         },
         {
          "x": 2018
         },
         {
          "x": 2018
         },
         {
          "x": 2018
         },
         {
          "x": 2018
         },
         {
          "x": 2018
         },
         {
          "x": 2018
         },
         {
          "x": 2018
         },
         {
          "x": 2018
         },
         {
          "x": 2018
         },
         {
          "x": 2018
         },
         {
          "x": 2018
         },
         {
          "x": 2018
         },
         {
          "x": 2018
         },
         {
          "x": 2018
         },
         {
          "x": 2018
         },
         {
          "x": 2018
         },
         {
          "x": 2018
         },
         {
          "x": 2018
         },
         {
          "x": 2018
         },
         {
          "x": 2018
         },
         {
          "x": 2018
         },
         {
          "x": 2018
         },
         {
          "x": 2018
         },
         {
          "x": 2018
         },
         {
          "x": 2018
         },
         {
          "x": 2018
         },
         {
          "x": 2018
         },
         {
          "x": 2018
         },
         {
          "x": 2018
         },
         {
          "x": 2017
         },
         {
          "x": 2017
         },
         {
          "x": 2017
         },
         {
          "x": 2017
         },
         {
          "x": 2017
         },
         {
          "x": 2017
         },
         {
          "x": 2017
         },
         {
          "x": 2017
         },
         {
          "x": 2017
         },
         {
          "x": 2017
         },
         {
          "x": 2017
         },
         {
          "x": 2017
         },
         {
          "x": 2017
         },
         {
          "x": 2017
         },
         {
          "x": 2017
         },
         {
          "x": 2017
         },
         {
          "x": 2017
         },
         {
          "x": 2017
         },
         {
          "x": 2017
         },
         {
          "x": 2017
         },
         {
          "x": 2017
         },
         {
          "x": 2017
         },
         {
          "x": 2017
         },
         {
          "x": 2017
         },
         {
          "x": 2017
         },
         {
          "x": 2017
         },
         {
          "x": 2017
         },
         {
          "x": 2017
         },
         {
          "x": 2017
         },
         {
          "x": 2017
         },
         {
          "x": 2016
         },
         {
          "x": 2016
         },
         {
          "x": 2016
         },
         {
          "x": 2016
         },
         {
          "x": 2016
         },
         {
          "x": 2016
         },
         {
          "x": 2016
         },
         {
          "x": 2016
         },
         {
          "x": 2016
         },
         {
          "x": 2016
         },
         {
          "x": 2016
         },
         {
          "x": 2016
         },
         {
          "x": 2016
         },
         {
          "x": 2016
         },
         {
          "x": 2016
         },
         {
          "x": 2016
         },
         {
          "x": 2016
         },
         {
          "x": 2016
         },
         {
          "x": 2016
         },
         {
          "x": 2016
         },
         {
          "x": 2016
         },
         {
          "x": 2016
         },
         {
          "x": 2016
         },
         {
          "x": 2016
         },
         {
          "x": 2016
         },
         {
          "x": 2016
         },
         {
          "x": 2016
         },
         {
          "x": 2016
         },
         {
          "x": 2016
         },
         {
          "x": 2016
         },
         {
          "x": 2016
         },
         {
          "x": 2016
         }
        ]
       },
       "encoding": {
        "x": {
         "field": "x",
         "title": "Years",
         "type": "ordinal"
        },
        "y": {
         "aggregate": "count",
         "title": "Protests' amount",
         "type": "quantitative"
        }
       },
       "mark": "bar",
       "title": "2 October"
      },
      "image/png": "[encoded data removed]",
      "image/svg+xml": [
       "<?xml version=\"1.0\" encoding=\"utf-8\"?>\n",
       "<!DOCTYPE svg PUBLIC \"-//W3C//DTD SVG 1.1//EN\" \"http://www.w3.org/Graphics/SVG/1.1/DTD/svg11.dtd\">\n",
       "<svg xmlns=\"http://www.w3.org/2000/svg\" xmlns:xlink=\"http://www.w3.org/1999/xlink\" version=\"1.1\" class=\"marks\" width=\"170\" height=\"273\" viewBox=\"0 0 170 273\"><rect width=\"170\" height=\"273\" fill=\"white\"/><g fill=\"none\" stroke-miterlimit=\"10\" transform=\"translate(45,22)\"><g class=\"mark-group role-frame root\" role=\"graphics-object\" aria-roledescription=\"group mark container\"><g transform=\"translate(0,0)\"><path class=\"background\" aria-hidden=\"true\" d=\"M0.5,0.5h120v200h-120Z\" stroke=\"#ddd\"/><g><g class=\"mark-group role-axis\" aria-hidden=\"true\"><g transform=\"translate(0.5,0.5)\"><path class=\"background\" aria-hidden=\"true\" d=\"M0,0h0v0h0Z\" pointer-events=\"none\"/><g><g class=\"mark-rule role-axis-grid\" pointer-events=\"none\"><line transform=\"translate(0,200)\" x2=\"120\" y2=\"0\" stroke=\"#ddd\" stroke-width=\"1\" opacity=\"1\"/><line transform=\"translate(0,138)\" x2=\"120\" y2=\"0\" stroke=\"#ddd\" stroke-width=\"1\" opacity=\"1\"/><line transform=\"translate(0,75)\" x2=\"120\" y2=\"0\" stroke=\"#ddd\" stroke-width=\"1\" opacity=\"1\"/><line transform=\"translate(0,13)\" x2=\"120\" y2=\"0\" stroke=\"#ddd\" stroke-width=\"1\" opacity=\"1\"/></g></g><path class=\"foreground\" aria-hidden=\"true\" d=\"\" pointer-events=\"none\" display=\"none\"/></g></g><g class=\"mark-group role-axis\" role=\"graphics-symbol\" aria-roledescription=\"axis\" aria-label=\"X-axis titled 'Years' for a discrete scale with 6 values: 2016, 2017, 2018, 2019, 2020, 2021\"><g transform=\"translate(0.5,200.5)\"><path class=\"background\" aria-hidden=\"true\" d=\"M0,0h0v0h0Z\" pointer-events=\"none\"/><g><g class=\"mark-rule role-axis-tick\" pointer-events=\"none\"><line transform=\"translate(10,0)\" x2=\"0\" y2=\"5\" stroke=\"#888\" stroke-width=\"1\" opacity=\"1\"/><line transform=\"translate(30,0)\" x2=\"0\" y2=\"5\" stroke=\"#888\" stroke-width=\"1\" opacity=\"1\"/><line transform=\"translate(50,0)\" x2=\"0\" y2=\"5\" stroke=\"#888\" stroke-width=\"1\" opacity=\"1\"/><line transform=\"translate(70,0)\" x2=\"0\" y2=\"5\" stroke=\"#888\" stroke-width=\"1\" opacity=\"1\"/><line transform=\"translate(90,0)\" x2=\"0\" y2=\"5\" stroke=\"#888\" stroke-width=\"1\" opacity=\"1\"/><line transform=\"translate(110,0)\" x2=\"0\" y2=\"5\" stroke=\"#888\" stroke-width=\"1\" opacity=\"1\"/></g><g class=\"mark-text role-axis-label\" pointer-events=\"none\"><text text-anchor=\"end\" transform=\"translate(9.5,7) rotate(270) translate(0,3)\" font-family=\"sans-serif\" font-size=\"10px\" fill=\"#000\" opacity=\"1\">2016</text><text text-anchor=\"end\" transform=\"translate(29.5,7) rotate(270) translate(0,3)\" font-family=\"sans-serif\" font-size=\"10px\" fill=\"#000\" opacity=\"1\">2017</text><text text-anchor=\"end\" transform=\"translate(49.5,7) rotate(270) translate(0,3)\" font-family=\"sans-serif\" font-size=\"10px\" fill=\"#000\" opacity=\"1\">2018</text><text text-anchor=\"end\" transform=\"translate(69.5,7) rotate(270) translate(0,3)\" font-family=\"sans-serif\" font-size=\"10px\" fill=\"#000\" opacity=\"1\">2019</text><text text-anchor=\"end\" transform=\"translate(89.5,7) rotate(270) translate(0,3)\" font-family=\"sans-serif\" font-size=\"10px\" fill=\"#000\" opacity=\"1\">2020</text><text text-anchor=\"end\" transform=\"translate(109.5,7) rotate(270) translate(0,3)\" font-family=\"sans-serif\" font-size=\"10px\" fill=\"#000\" opacity=\"1\">2021</text></g><g class=\"mark-rule role-axis-domain\" pointer-events=\"none\"><line transform=\"translate(0,0)\" x2=\"120\" y2=\"0\" stroke=\"#888\" stroke-width=\"1\" opacity=\"1\"/></g><g class=\"mark-text role-axis-title\" pointer-events=\"none\"><text text-anchor=\"middle\" transform=\"translate(60,44)\" font-family=\"sans-serif\" font-size=\"11px\" font-weight=\"bold\" fill=\"#000\" opacity=\"1\">Years</text></g></g><path class=\"foreground\" aria-hidden=\"true\" d=\"\" pointer-events=\"none\" display=\"none\"/></g></g><g class=\"mark-group role-axis\" role=\"graphics-symbol\" aria-roledescription=\"axis\" aria-label=\"Y-axis titled 'Protests' amount' for a linear scale with values from 0 to 160\"><g transform=\"translate(0.5,0.5)\"><path class=\"background\" aria-hidden=\"true\" d=\"M0,0h0v0h0Z\" pointer-events=\"none\"/><g><g class=\"mark-rule role-axis-tick\" pointer-events=\"none\"><line transform=\"translate(0,200)\" x2=\"-5\" y2=\"0\" stroke=\"#888\" stroke-width=\"1\" opacity=\"1\"/><line transform=\"translate(0,138)\" x2=\"-5\" y2=\"0\" stroke=\"#888\" stroke-width=\"1\" opacity=\"1\"/><line transform=\"translate(0,75)\" x2=\"-5\" y2=\"0\" stroke=\"#888\" stroke-width=\"1\" opacity=\"1\"/><line transform=\"translate(0,13)\" x2=\"-5\" y2=\"0\" stroke=\"#888\" stroke-width=\"1\" opacity=\"1\"/></g><g class=\"mark-text role-axis-label\" pointer-events=\"none\"><text text-anchor=\"end\" transform=\"translate(-7,203)\" font-family=\"sans-serif\" font-size=\"10px\" fill=\"#000\" opacity=\"1\">0</text><text text-anchor=\"end\" transform=\"translate(-7,140.5)\" font-family=\"sans-serif\" font-size=\"10px\" fill=\"#000\" opacity=\"1\">50</text><text text-anchor=\"end\" transform=\"translate(-7,78)\" font-family=\"sans-serif\" font-size=\"10px\" fill=\"#000\" opacity=\"1\">100</text><text text-anchor=\"end\" transform=\"translate(-7,15.5)\" font-family=\"sans-serif\" font-size=\"10px\" fill=\"#000\" opacity=\"1\">150</text></g><g class=\"mark-rule role-axis-domain\" pointer-events=\"none\"><line transform=\"translate(0,200)\" x2=\"0\" y2=\"-200\" stroke=\"#888\" stroke-width=\"1\" opacity=\"1\"/></g><g class=\"mark-text role-axis-title\" pointer-events=\"none\"><text text-anchor=\"middle\" transform=\"translate(-29,100) rotate(-90) translate(0,-2)\" font-family=\"sans-serif\" font-size=\"11px\" font-weight=\"bold\" fill=\"#000\" opacity=\"1\">Protests' amount</text></g></g><path class=\"foreground\" aria-hidden=\"true\" d=\"\" pointer-events=\"none\" display=\"none\"/></g></g><g class=\"mark-rect role-mark marks\" role=\"graphics-object\" aria-roledescription=\"rect mark container\"><path aria-label=\"Years: 2021; Protests' amount: 42\" role=\"graphics-symbol\" aria-roledescription=\"bar\" d=\"M101,147.5h18v52.5h-18Z\" fill=\"#4c78a8\"/><path aria-label=\"Years: 2020; Protests' amount: 151\" role=\"graphics-symbol\" aria-roledescription=\"bar\" d=\"M81,11.250000000000004h18v188.75h-18Z\" fill=\"#4c78a8\"/><path aria-label=\"Years: 2019; Protests' amount: 45\" role=\"graphics-symbol\" aria-roledescription=\"bar\" d=\"M61,143.75h18v56.25h-18Z\" fill=\"#4c78a8\"/><path aria-label=\"Years: 2018; Protests' amount: 46\" role=\"graphics-symbol\" aria-roledescription=\"bar\" d=\"M41,142.5h18v57.5h-18Z\" fill=\"#4c78a8\"/><path aria-label=\"Years: 2017; Protests' amount: 30\" role=\"graphics-symbol\" aria-roledescription=\"bar\" d=\"M21,162.5h18v37.5h-18Z\" fill=\"#4c78a8\"/><path aria-label=\"Years: 2016; Protests' amount: 32\" role=\"graphics-symbol\" aria-roledescription=\"bar\" d=\"M1,160h18v40h-18Z\" fill=\"#4c78a8\"/></g><g class=\"mark-group role-title\"><g transform=\"translate(60,-17)\"><path class=\"background\" aria-hidden=\"true\" d=\"M0,0h0v0h0Z\" pointer-events=\"none\"/><g><g class=\"mark-text role-title-text\" role=\"graphics-symbol\" aria-roledescription=\"title\" aria-label=\"Title text '2 October'\" pointer-events=\"none\"><text text-anchor=\"middle\" transform=\"translate(0,10)\" font-family=\"sans-serif\" font-size=\"13px\" font-weight=\"bold\" fill=\"#000\" opacity=\"1\">2 October</text></g></g><path class=\"foreground\" aria-hidden=\"true\" d=\"\" pointer-events=\"none\" display=\"none\"/></g></g></g><path class=\"foreground\" aria-hidden=\"true\" d=\"\" display=\"none\"/></g></g></g></svg>\n"
      ],
      "text/plain": [
       "@vlplot(\n",
       "    title=\"2 October\",\n",
       "    mark=\"bar\",\n",
       "    encoding={\n",
       "        x={\n",
       "            type=\"ordinal\",\n",
       "            title=\"Years\",\n",
       "            field=\"x\"\n",
       "        },\n",
       "        y={\n",
       "            title=\"Protests' amount\",\n",
       "            aggregate=\"count\",\n",
       "            type=\"quantitative\"\n",
       "        }\n",
       "    },\n",
       "    data={\n",
       "        values=...\n",
       "    }\n",
       ")"
      ]
     },
     "execution_count": 14,
     "metadata": {},
     "output_type": "execute_result"
    }
   ],
   "source": [
    "plot_02_10"
   ]
  },
  {
   "cell_type": "code",
   "execution_count": 106,
   "id": "60002439-efc3-40af-9ab8-a98b60974623",
   "metadata": {},
   "outputs": [],
   "source": [
    "holidays_set = [\"26 January 2016\",\"26 January 2017\",\"26 January 2018\",\"26 January 2019\",\"26 January 2020\",\"26 January 2021\",\n",
    "        \"26 January 2022\",\"15 August 2016\",\"15 August 2017\",\"15 August 2018\",\"15 August 2019\",\"15 August 2020\",\"15 August 2021\",\n",
    "        \"02 October 2019\",\"02 October 2016\",\"02 October 2017\",\"02 October 2018\",\"02 October 2020\",\"02 October 2021\",\n",
    "        \"11 March 2021\",\"29 March 2021\",\"21 April 2021\",\"25 April 2021\",\"26 May 2021\",\"19 July 2021\",\"12 August 2021\",\n",
    "        \"30 August 2021\",\"15 October 2021\",\"18 November 2021\",\"04 November 2021\",\"21 February 2020\",\"10 March 2020\",\n",
    "        \"02 April 2020\",\"06 April 2020\",\"07 May 2020\",\"30 July 2020\",\"18 September 2020\",\"30 August 2020\",\"25 October 2020\",\n",
    "        \"14 November 2020\",\"30 November 2020\",\"04 March 2019\", \"21 March 2019\",\"14 April 2019\",\"17 April 2019\",\"18 May 2019\",\n",
    "        \"11 August 2019\",\"24 August 2019\",\"31 August 2019\",\"08 October 2019\",\"27 October 2019\",\"12 November 2019\",\n",
    "        \"13 February 2018\",\"02 March 2018\",\"25 March 2018\",\"29 March 2018\",\"30 April 2018\",\"22 August 2018\",\"21 September 2018\",\n",
    "        \"03 August 2018\",\"19 October 2018\", \"07 November 2018\",\"23 November 2018\",\"24 February 2017\",\"13 March 2017\",\n",
    "        \"04 April 2017\",\"09 April 2017\",\"10 May 2017\",\"02 September 2017\",\"21 September 2017\",\"14 August 2017\",\"30 August 2017\",\n",
    "        \"19 October 2017\",\"04 November 2017\",\"07 March 2016\", \"24 March 2016\",\"15 April 2016\",\"19 April 2016\",\"21 May 2016\",\n",
    "        \"13 September 2016\",\"12 October 2016\",\"25 August 2016\",\"11 October 2016\",\"30 October 2016\",\"14 November 2016\"];"
   ]
  },
  {
   "cell_type": "code",
   "execution_count": 107,
   "id": "ecdea1dd-750e-4424-b0c8-b63a8971aad1",
   "metadata": {},
   "outputs": [
    {
     "data": {
      "text/plain": [
       "holiday (generic function with 1 method)"
      ]
     },
     "execution_count": 107,
     "metadata": {},
     "output_type": "execute_result"
    }
   ],
   "source": [
    "function holiday(df, dates)\n",
    "    holy = []\n",
    "    for i in df.event_date\n",
    "        if i in dates\n",
    "            push!(holy, true)\n",
    "        else\n",
    "            push!(holy, false)\n",
    "        end\n",
    "    end\n",
    "    df[!,\"Holiday\"] = holy\n",
    "    return df\n",
    "end"
   ]
  },
  {
   "cell_type": "code",
   "execution_count": 109,
   "id": "fdc1d4ae-e0c8-4d39-ac25-8b42cba11ebb",
   "metadata": {},
   "outputs": [],
   "source": [
    "df = holiday(df, holidays_set);"
   ]
  },
  {
   "cell_type": "code",
   "execution_count": 110,
   "id": "8382858f-44c1-4a77-8514-fa915d01b7e9",
   "metadata": {},
   "outputs": [
    {
     "data": {
      "text/plain": [
       "Dict{Any, Int64} with 2 entries:\n",
       "  false => 104353\n",
       "  true  => 3337"
      ]
     },
     "execution_count": 110,
     "metadata": {},
     "output_type": "execute_result"
    }
   ],
   "source": [
    "countmap(df.Holiday)"
   ]
  },
  {
   "cell_type": "code",
   "execution_count": null,
   "id": "acb43097-41cd-421b-a58f-c42129463007",
   "metadata": {},
   "outputs": [],
   "source": []
  },
  {
   "cell_type": "code",
   "execution_count": null,
   "id": "cd864f29-e207-4e93-9315-d91433b9ccd0",
   "metadata": {},
   "outputs": [],
   "source": [
    "\n"
   ]
  },
  {
   "cell_type": "code",
   "execution_count": 111,
   "id": "9b0c291a-a95a-4177-aed3-4d220b3fb942",
   "metadata": {},
   "outputs": [
    {
     "data": {
      "text/plain": [
       "month_celebrations (generic function with 1 method)"
      ]
     },
     "execution_count": 111,
     "metadata": {},
     "output_type": "execute_result"
    }
   ],
   "source": [
    "function month_celebrations(df, year, month)\n",
    "    df_1 = filter_data(df, :year, year)\n",
    "    df_2 = filter_data(df_1, :month, month)\n",
    "    plot = @vlplot(\n",
    "    :bar, \n",
    "    x = {df_2.day, title = \"Days\"},\n",
    "    y = {\"count()\", title = \"Number of protests\"},\n",
    "    color = {df_2.Holiday, legend = false},\n",
    "    title = month*\" in \"*string(year),\n",
    "    )\n",
    "    return plot\n",
    "end\n"
   ]
  },
  {
   "cell_type": "code",
   "execution_count": 133,
   "id": "7af7c850-dcf3-4eaa-916b-4e2fee41f4c0",
   "metadata": {},
   "outputs": [
    {
     "data": {
      "application/vnd.vegalite.v4+json": {
       "data": {
        "values": [
         {
          "color": false,
          "x": 31
         },
         {
          "color": false,
          "x": 31
         },
         {
          "color": false,
          "x": 31
         },
         {
          "color": false,
          "x": 31
         },
         {
          "color": false,
          "x": 31
         },
         {
          "color": false,
          "x": 31
         },
         {
          "color": false,
          "x": 31
         },
         {
          "color": false,
          "x": 31
         },
         {
          "color": false,
          "x": 31
         },
         {
          "color": false,
          "x": 31
         },
         {
          "color": false,
          "x": 31
         },
         {
          "color": false,
          "x": 31
         },
         {
          "color": false,
          "x": 31
         },
         {
          "color": false,
          "x": 31
         },
         {
          "color": false,
          "x": 31
         },
         {
          "color": false,
          "x": 31
         },
         {
          "color": false,
          "x": 31
         },
         {
          "color": false,
          "x": 31
         },
         {
          "color": false,
          "x": 31
         },
         {
          "color": false,
          "x": 31
         },
         {
          "color": false,
          "x": 31
         },
         {
          "color": false,
          "x": 31
         },
         {
          "color": false,
          "x": 31
         },
         {
          "color": false,
          "x": 31
         },
         {
          "color": false,
          "x": 31
         },
         {
          "color": false,
          "x": 31
         },
         {
          "color": false,
          "x": 31
         },
         {
          "color": false,
          "x": 31
         },
         {
          "color": false,
          "x": 31
         },
         {
          "color": false,
          "x": 31
         },
         {
          "color": false,
          "x": 31
         },
         {
          "color": false,
          "x": 31
         },
         {
          "color": false,
          "x": 31
         },
         {
          "color": false,
          "x": 31
         },
         {
          "color": false,
          "x": 31
         },
         {
          "color": false,
          "x": 31
         },
         {
          "color": false,
          "x": 31
         },
         {
          "color": false,
          "x": 31
         },
         {
          "color": false,
          "x": 31
         },
         {
          "color": false,
          "x": 31
         },
         {
          "color": false,
          "x": 31
         },
         {
          "color": false,
          "x": 31
         },
         {
          "color": false,
          "x": 31
         },
         {
          "color": false,
          "x": 31
         },
         {
          "color": false,
          "x": 31
         },
         {
          "color": false,
          "x": 31
         },
         {
          "color": false,
          "x": 31
         },
         {
          "color": false,
          "x": 31
         },
         {
          "color": false,
          "x": 31
         },
         {
          "color": false,
          "x": 31
         },
         {
          "color": false,
          "x": 31
         },
         {
          "color": false,
          "x": 31
         },
         {
          "color": false,
          "x": 31
         },
         {
          "color": false,
          "x": 31
         },
         {
          "color": false,
          "x": 31
         },
         {
          "color": false,
          "x": 31
         },
         {
          "color": false,
          "x": 31
         },
         {
          "color": false,
          "x": 31
         },
         {
          "color": false,
          "x": 31
         },
         {
          "color": false,
          "x": 31
         },
         {
          "color": false,
          "x": 31
         },
         {
          "color": false,
          "x": 31
         },
         {
          "color": false,
          "x": 31
         },
         {
          "color": false,
          "x": 31
         },
         {
          "color": false,
          "x": 31
         },
         {
          "color": false,
          "x": 31
         },
         {
          "color": false,
          "x": 31
         },
         {
          "color": false,
          "x": 31
         },
         {
          "color": false,
          "x": 31
         },
         {
          "color": false,
          "x": 31
         },
         {
          "color": false,
          "x": 31
         },
         {
          "color": false,
          "x": 31
         },
         {
          "color": false,
          "x": 31
         },
         {
          "color": false,
          "x": 31
         },
         {
          "color": false,
          "x": 31
         },
         {
          "color": false,
          "x": 31
         },
         {
          "color": false,
          "x": 31
         },
         {
          "color": false,
          "x": 30
         },
         {
          "color": false,
          "x": 30
         },
         {
          "color": false,
          "x": 30
         },
         {
          "color": false,
          "x": 30
         },
         {
          "color": false,
          "x": 30
         },
         {
          "color": false,
          "x": 30
         },
         {
          "color": false,
          "x": 30
         },
         {
          "color": false,
          "x": 30
         },
         {
          "color": false,
          "x": 30
         },
         {
          "color": false,
          "x": 30
         },
         {
          "color": false,
          "x": 30
         },
         {
          "color": false,
          "x": 30
         },
         {
          "color": false,
          "x": 30
         },
         {
          "color": false,
          "x": 30
         },
         {
          "color": false,
          "x": 30
         },
         {
          "color": false,
          "x": 30
         },
         {
          "color": false,
          "x": 30
         },
         {
          "color": false,
          "x": 30
         },
         {
          "color": false,
          "x": 30
         },
         {
          "color": false,
          "x": 30
         },
         {
          "color": false,
          "x": 30
         },
         {
          "color": false,
          "x": 30
         },
         {
          "color": false,
          "x": 30
         },
         {
          "color": false,
          "x": 30
         },
         {
          "color": false,
          "x": 30
         },
         {
          "color": false,
          "x": 30
         },
         {
          "color": false,
          "x": 30
         },
         {
          "color": false,
          "x": 30
         },
         {
          "color": false,
          "x": 30
         },
         {
          "color": false,
          "x": 30
         },
         {
          "color": false,
          "x": 30
         },
         {
          "color": false,
          "x": 30
         },
         {
          "color": false,
          "x": 30
         },
         {
          "color": false,
          "x": 30
         },
         {
          "color": false,
          "x": 30
         },
         {
          "color": false,
          "x": 30
         },
         {
          "color": false,
          "x": 30
         },
         {
          "color": false,
          "x": 30
         },
         {
          "color": false,
          "x": 30
         },
         {
          "color": false,
          "x": 30
         },
         {
          "color": false,
          "x": 30
         },
         {
          "color": false,
          "x": 30
         },
         {
          "color": false,
          "x": 30
         },
         {
          "color": false,
          "x": 30
         },
         {
          "color": false,
          "x": 30
         },
         {
          "color": false,
          "x": 30
         },
         {
          "color": false,
          "x": 30
         },
         {
          "color": false,
          "x": 30
         },
         {
          "color": false,
          "x": 30
         },
         {
          "color": false,
          "x": 30
         },
         {
          "color": false,
          "x": 30
         },
         {
          "color": false,
          "x": 30
         },
         {
          "color": false,
          "x": 30
         },
         {
          "color": false,
          "x": 30
         },
         {
          "color": false,
          "x": 30
         },
         {
          "color": false,
          "x": 30
         },
         {
          "color": false,
          "x": 30
         },
         {
          "color": false,
          "x": 30
         },
         {
          "color": false,
          "x": 29
         },
         {
          "color": false,
          "x": 29
         },
         {
          "color": false,
          "x": 29
         },
         {
          "color": false,
          "x": 29
         },
         {
          "color": false,
          "x": 29
         },
         {
          "color": false,
          "x": 29
         },
         {
          "color": false,
          "x": 29
         },
         {
          "color": false,
          "x": 29
         },
         {
          "color": false,
          "x": 29
         },
         {
          "color": false,
          "x": 29
         },
         {
          "color": false,
          "x": 29
         },
         {
          "color": false,
          "x": 29
         },
         {
          "color": false,
          "x": 29
         },
         {
          "color": false,
          "x": 29
         },
         {
          "color": false,
          "x": 29
         },
         {
          "color": false,
          "x": 29
         },
         {
          "color": false,
          "x": 29
         },
         {
          "color": false,
          "x": 29
         },
         {
          "color": false,
          "x": 29
         },
         {
          "color": false,
          "x": 29
         },
         {
          "color": false,
          "x": 29
         },
         {
          "color": false,
          "x": 29
         },
         {
          "color": false,
          "x": 29
         },
         {
          "color": false,
          "x": 29
         },
         {
          "color": false,
          "x": 29
         },
         {
          "color": false,
          "x": 29
         },
         {
          "color": false,
          "x": 29
         },
         {
          "color": false,
          "x": 29
         },
         {
          "color": false,
          "x": 29
         },
         {
          "color": false,
          "x": 29
         },
         {
          "color": false,
          "x": 29
         },
         {
          "color": false,
          "x": 29
         },
         {
          "color": false,
          "x": 29
         },
         {
          "color": false,
          "x": 29
         },
         {
          "color": false,
          "x": 29
         },
         {
          "color": false,
          "x": 29
         },
         {
          "color": false,
          "x": 29
         },
         {
          "color": false,
          "x": 29
         },
         {
          "color": false,
          "x": 29
         },
         {
          "color": false,
          "x": 29
         },
         {
          "color": false,
          "x": 29
         },
         {
          "color": false,
          "x": 29
         },
         {
          "color": false,
          "x": 29
         },
         {
          "color": false,
          "x": 29
         },
         {
          "color": false,
          "x": 29
         },
         {
          "color": false,
          "x": 29
         },
         {
          "color": false,
          "x": 29
         },
         {
          "color": false,
          "x": 29
         },
         {
          "color": false,
          "x": 29
         },
         {
          "color": false,
          "x": 29
         },
         {
          "color": false,
          "x": 29
         },
         {
          "color": false,
          "x": 29
         },
         {
          "color": false,
          "x": 29
         },
         {
          "color": false,
          "x": 29
         },
         {
          "color": false,
          "x": 28
         },
         {
          "color": false,
          "x": 28
         },
         {
          "color": false,
          "x": 28
         },
         {
          "color": false,
          "x": 28
         },
         {
          "color": false,
          "x": 28
         },
         {
          "color": false,
          "x": 28
         },
         {
          "color": false,
          "x": 28
         },
         {
          "color": false,
          "x": 28
         },
         {
          "color": false,
          "x": 28
         },
         {
          "color": false,
          "x": 28
         },
         {
          "color": false,
          "x": 28
         },
         {
          "color": false,
          "x": 28
         },
         {
          "color": false,
          "x": 28
         },
         {
          "color": false,
          "x": 28
         },
         {
          "color": false,
          "x": 28
         },
         {
          "color": false,
          "x": 28
         },
         {
          "color": false,
          "x": 28
         },
         {
          "color": false,
          "x": 28
         },
         {
          "color": false,
          "x": 28
         },
         {
          "color": false,
          "x": 28
         },
         {
          "color": false,
          "x": 28
         },
         {
          "color": false,
          "x": 28
         },
         {
          "color": false,
          "x": 28
         },
         {
          "color": false,
          "x": 28
         },
         {
          "color": false,
          "x": 28
         },
         {
          "color": false,
          "x": 28
         },
         {
          "color": false,
          "x": 28
         },
         {
          "color": false,
          "x": 28
         },
         {
          "color": false,
          "x": 28
         },
         {
          "color": false,
          "x": 28
         },
         {
          "color": false,
          "x": 28
         },
         {
          "color": false,
          "x": 28
         },
         {
          "color": false,
          "x": 28
         },
         {
          "color": false,
          "x": 28
         },
         {
          "color": false,
          "x": 28
         },
         {
          "color": false,
          "x": 28
         },
         {
          "color": false,
          "x": 28
         },
         {
          "color": false,
          "x": 28
         },
         {
          "color": false,
          "x": 28
         },
         {
          "color": false,
          "x": 28
         },
         {
          "color": false,
          "x": 28
         },
         {
          "color": false,
          "x": 28
         },
         {
          "color": false,
          "x": 28
         },
         {
          "color": false,
          "x": 28
         },
         {
          "color": false,
          "x": 28
         },
         {
          "color": false,
          "x": 28
         },
         {
          "color": false,
          "x": 28
         },
         {
          "color": false,
          "x": 28
         },
         {
          "color": false,
          "x": 28
         },
         {
          "color": false,
          "x": 28
         },
         {
          "color": false,
          "x": 28
         },
         {
          "color": false,
          "x": 28
         },
         {
          "color": false,
          "x": 28
         },
         {
          "color": false,
          "x": 28
         },
         {
          "color": false,
          "x": 28
         },
         {
          "color": false,
          "x": 28
         },
         {
          "color": false,
          "x": 28
         },
         {
          "color": false,
          "x": 28
         },
         {
          "color": false,
          "x": 28
         },
         {
          "color": false,
          "x": 28
         },
         {
          "color": false,
          "x": 28
         },
         {
          "color": false,
          "x": 28
         },
         {
          "color": false,
          "x": 28
         },
         {
          "color": false,
          "x": 28
         },
         {
          "color": false,
          "x": 28
         },
         {
          "color": false,
          "x": 28
         },
         {
          "color": false,
          "x": 28
         },
         {
          "color": false,
          "x": 28
         },
         {
          "color": false,
          "x": 28
         },
         {
          "color": false,
          "x": 28
         },
         {
          "color": false,
          "x": 28
         },
         {
          "color": false,
          "x": 28
         },
         {
          "color": false,
          "x": 28
         },
         {
          "color": false,
          "x": 28
         },
         {
          "color": false,
          "x": 27
         },
         {
          "color": false,
          "x": 27
         },
         {
          "color": false,
          "x": 27
         },
         {
          "color": false,
          "x": 27
         },
         {
          "color": false,
          "x": 27
         },
         {
          "color": false,
          "x": 27
         },
         {
          "color": false,
          "x": 27
         },
         {
          "color": false,
          "x": 27
         },
         {
          "color": false,
          "x": 27
         },
         {
          "color": false,
          "x": 27
         },
         {
          "color": false,
          "x": 27
         },
         {
          "color": false,
          "x": 27
         },
         {
          "color": false,
          "x": 27
         },
         {
          "color": false,
          "x": 27
         },
         {
          "color": false,
          "x": 27
         },
         {
          "color": false,
          "x": 27
         },
         {
          "color": false,
          "x": 27
         },
         {
          "color": false,
          "x": 27
         },
         {
          "color": false,
          "x": 27
         },
         {
          "color": false,
          "x": 27
         },
         {
          "color": false,
          "x": 27
         },
         {
          "color": false,
          "x": 27
         },
         {
          "color": false,
          "x": 27
         },
         {
          "color": false,
          "x": 27
         },
         {
          "color": false,
          "x": 27
         },
         {
          "color": false,
          "x": 27
         },
         {
          "color": false,
          "x": 27
         },
         {
          "color": false,
          "x": 27
         },
         {
          "color": false,
          "x": 27
         },
         {
          "color": false,
          "x": 27
         },
         {
          "color": false,
          "x": 27
         },
         {
          "color": false,
          "x": 27
         },
         {
          "color": false,
          "x": 27
         },
         {
          "color": false,
          "x": 27
         },
         {
          "color": false,
          "x": 27
         },
         {
          "color": false,
          "x": 27
         },
         {
          "color": false,
          "x": 27
         },
         {
          "color": false,
          "x": 27
         },
         {
          "color": false,
          "x": 27
         },
         {
          "color": false,
          "x": 27
         },
         {
          "color": false,
          "x": 27
         },
         {
          "color": false,
          "x": 27
         },
         {
          "color": false,
          "x": 27
         },
         {
          "color": false,
          "x": 27
         },
         {
          "color": false,
          "x": 27
         },
         {
          "color": false,
          "x": 27
         },
         {
          "color": false,
          "x": 27
         },
         {
          "color": false,
          "x": 27
         },
         {
          "color": false,
          "x": 27
         },
         {
          "color": false,
          "x": 27
         },
         {
          "color": false,
          "x": 27
         },
         {
          "color": false,
          "x": 27
         },
         {
          "color": false,
          "x": 27
         },
         {
          "color": false,
          "x": 27
         },
         {
          "color": false,
          "x": 27
         },
         {
          "color": false,
          "x": 27
         },
         {
          "color": false,
          "x": 27
         },
         {
          "color": false,
          "x": 26
         },
         {
          "color": false,
          "x": 26
         },
         {
          "color": false,
          "x": 26
         },
         {
          "color": false,
          "x": 26
         },
         {
          "color": false,
          "x": 26
         },
         {
          "color": false,
          "x": 26
         },
         {
          "color": false,
          "x": 26
         },
         {
          "color": false,
          "x": 26
         },
         {
          "color": false,
          "x": 26
         },
         {
          "color": false,
          "x": 26
         },
         {
          "color": false,
          "x": 26
         },
         {
          "color": false,
          "x": 26
         },
         {
          "color": false,
          "x": 26
         },
         {
          "color": false,
          "x": 26
         },
         {
          "color": false,
          "x": 26
         },
         {
          "color": false,
          "x": 26
         },
         {
          "color": false,
          "x": 26
         },
         {
          "color": false,
          "x": 26
         },
         {
          "color": false,
          "x": 26
         },
         {
          "color": false,
          "x": 26
         },
         {
          "color": false,
          "x": 26
         },
         {
          "color": false,
          "x": 26
         },
         {
          "color": false,
          "x": 26
         },
         {
          "color": false,
          "x": 26
         },
         {
          "color": false,
          "x": 26
         },
         {
          "color": false,
          "x": 26
         },
         {
          "color": false,
          "x": 26
         },
         {
          "color": false,
          "x": 26
         },
         {
          "color": false,
          "x": 26
         },
         {
          "color": false,
          "x": 26
         },
         {
          "color": false,
          "x": 26
         },
         {
          "color": false,
          "x": 26
         },
         {
          "color": false,
          "x": 26
         },
         {
          "color": false,
          "x": 26
         },
         {
          "color": false,
          "x": 26
         },
         {
          "color": false,
          "x": 26
         },
         {
          "color": false,
          "x": 26
         },
         {
          "color": false,
          "x": 26
         },
         {
          "color": false,
          "x": 26
         },
         {
          "color": false,
          "x": 26
         },
         {
          "color": false,
          "x": 26
         },
         {
          "color": false,
          "x": 26
         },
         {
          "color": false,
          "x": 26
         },
         {
          "color": false,
          "x": 26
         },
         {
          "color": false,
          "x": 26
         },
         {
          "color": false,
          "x": 26
         },
         {
          "color": false,
          "x": 26
         },
         {
          "color": false,
          "x": 26
         },
         {
          "color": false,
          "x": 26
         },
         {
          "color": false,
          "x": 26
         },
         {
          "color": false,
          "x": 26
         },
         {
          "color": false,
          "x": 26
         },
         {
          "color": false,
          "x": 26
         },
         {
          "color": false,
          "x": 26
         },
         {
          "color": false,
          "x": 26
         },
         {
          "color": false,
          "x": 26
         },
         {
          "color": false,
          "x": 26
         },
         {
          "color": false,
          "x": 26
         },
         {
          "color": false,
          "x": 26
         },
         {
          "color": false,
          "x": 25
         },
         {
          "color": false,
          "x": 25
         },
         {
          "color": false,
          "x": 25
         },
         {
          "color": false,
          "x": 25
         },
         {
          "color": false,
          "x": 25
         },
         {
          "color": false,
          "x": 25
         },
         {
          "color": false,
          "x": 25
         },
         {
          "color": false,
          "x": 25
         },
         {
          "color": false,
          "x": 25
         },
         {
          "color": false,
          "x": 25
         },
         {
          "color": false,
          "x": 25
         },
         {
          "color": false,
          "x": 25
         },
         {
          "color": false,
          "x": 25
         },
         {
          "color": false,
          "x": 25
         },
         {
          "color": false,
          "x": 25
         },
         {
          "color": false,
          "x": 25
         },
         {
          "color": false,
          "x": 25
         },
         {
          "color": false,
          "x": 25
         },
         {
          "color": false,
          "x": 25
         },
         {
          "color": false,
          "x": 25
         },
         {
          "color": false,
          "x": 25
         },
         {
          "color": false,
          "x": 25
         },
         {
          "color": false,
          "x": 25
         },
         {
          "color": false,
          "x": 25
         },
         {
          "color": false,
          "x": 25
         },
         {
          "color": false,
          "x": 25
         },
         {
          "color": false,
          "x": 25
         },
         {
          "color": false,
          "x": 25
         },
         {
          "color": false,
          "x": 25
         },
         {
          "color": false,
          "x": 25
         },
         {
          "color": false,
          "x": 25
         },
         {
          "color": false,
          "x": 25
         },
         {
          "color": false,
          "x": 25
         },
         {
          "color": false,
          "x": 25
         },
         {
          "color": false,
          "x": 25
         },
         {
          "color": false,
          "x": 25
         },
         {
          "color": false,
          "x": 25
         },
         {
          "color": false,
          "x": 25
         },
         {
          "color": false,
          "x": 25
         },
         {
          "color": false,
          "x": 25
         },
         {
          "color": false,
          "x": 25
         },
         {
          "color": false,
          "x": 25
         },
         {
          "color": false,
          "x": 25
         },
         {
          "color": false,
          "x": 25
         },
         {
          "color": false,
          "x": 25
         },
         {
          "color": false,
          "x": 25
         },
         {
          "color": false,
          "x": 25
         },
         {
          "color": false,
          "x": 25
         },
         {
          "color": false,
          "x": 25
         },
         {
          "color": false,
          "x": 25
         },
         {
          "color": false,
          "x": 25
         },
         {
          "color": false,
          "x": 25
         },
         {
          "color": false,
          "x": 25
         },
         {
          "color": false,
          "x": 25
         },
         {
          "color": false,
          "x": 25
         },
         {
          "color": false,
          "x": 25
         },
         {
          "color": false,
          "x": 25
         },
         {
          "color": false,
          "x": 25
         },
         {
          "color": false,
          "x": 25
         },
         {
          "color": false,
          "x": 25
         },
         {
          "color": false,
          "x": 25
         },
         {
          "color": false,
          "x": 25
         },
         {
          "color": false,
          "x": 25
         },
         {
          "color": false,
          "x": 25
         },
         {
          "color": false,
          "x": 25
         },
         {
          "color": false,
          "x": 25
         },
         {
          "color": false,
          "x": 25
         },
         {
          "color": false,
          "x": 25
         },
         {
          "color": false,
          "x": 25
         },
         {
          "color": false,
          "x": 25
         },
         {
          "color": false,
          "x": 25
         },
         {
          "color": false,
          "x": 25
         },
         {
          "color": false,
          "x": 25
         },
         {
          "color": false,
          "x": 25
         },
         {
          "color": false,
          "x": 25
         },
         {
          "color": false,
          "x": 25
         },
         {
          "color": false,
          "x": 25
         },
         {
          "color": false,
          "x": 25
         },
         {
          "color": false,
          "x": 25
         },
         {
          "color": false,
          "x": 25
         },
         {
          "color": false,
          "x": 25
         },
         {
          "color": false,
          "x": 25
         },
         {
          "color": false,
          "x": 25
         },
         {
          "color": false,
          "x": 25
         },
         {
          "color": false,
          "x": 25
         },
         {
          "color": false,
          "x": 25
         },
         {
          "color": false,
          "x": 25
         },
         {
          "color": false,
          "x": 25
         },
         {
          "color": false,
          "x": 25
         },
         {
          "color": false,
          "x": 25
         },
         {
          "color": false,
          "x": 24
         },
         {
          "color": false,
          "x": 24
         },
         {
          "color": false,
          "x": 24
         },
         {
          "color": false,
          "x": 24
         },
         {
          "color": false,
          "x": 24
         },
         {
          "color": false,
          "x": 24
         },
         {
          "color": false,
          "x": 24
         },
         {
          "color": false,
          "x": 24
         },
         {
          "color": false,
          "x": 24
         },
         {
          "color": false,
          "x": 24
         },
         {
          "color": false,
          "x": 24
         },
         {
          "color": false,
          "x": 24
         },
         {
          "color": false,
          "x": 24
         },
         {
          "color": false,
          "x": 24
         },
         {
          "color": false,
          "x": 24
         },
         {
          "color": false,
          "x": 24
         },
         {
          "color": false,
          "x": 24
         },
         {
          "color": false,
          "x": 24
         },
         {
          "color": false,
          "x": 24
         },
         {
          "color": false,
          "x": 24
         },
         {
          "color": false,
          "x": 24
         },
         {
          "color": false,
          "x": 24
         },
         {
          "color": false,
          "x": 24
         },
         {
          "color": false,
          "x": 24
         },
         {
          "color": false,
          "x": 24
         },
         {
          "color": false,
          "x": 24
         },
         {
          "color": false,
          "x": 24
         },
         {
          "color": false,
          "x": 24
         },
         {
          "color": false,
          "x": 24
         },
         {
          "color": false,
          "x": 24
         },
         {
          "color": false,
          "x": 24
         },
         {
          "color": false,
          "x": 24
         },
         {
          "color": false,
          "x": 24
         },
         {
          "color": false,
          "x": 24
         },
         {
          "color": false,
          "x": 24
         },
         {
          "color": false,
          "x": 24
         },
         {
          "color": false,
          "x": 24
         },
         {
          "color": false,
          "x": 24
         },
         {
          "color": false,
          "x": 24
         },
         {
          "color": false,
          "x": 24
         },
         {
          "color": false,
          "x": 24
         },
         {
          "color": false,
          "x": 24
         },
         {
          "color": false,
          "x": 24
         },
         {
          "color": false,
          "x": 24
         },
         {
          "color": false,
          "x": 24
         },
         {
          "color": false,
          "x": 24
         },
         {
          "color": false,
          "x": 24
         },
         {
          "color": false,
          "x": 24
         },
         {
          "color": false,
          "x": 24
         },
         {
          "color": false,
          "x": 24
         },
         {
          "color": false,
          "x": 24
         },
         {
          "color": false,
          "x": 24
         },
         {
          "color": false,
          "x": 24
         },
         {
          "color": false,
          "x": 24
         },
         {
          "color": false,
          "x": 24
         },
         {
          "color": false,
          "x": 24
         },
         {
          "color": false,
          "x": 24
         },
         {
          "color": false,
          "x": 24
         },
         {
          "color": false,
          "x": 24
         },
         {
          "color": false,
          "x": 24
         },
         {
          "color": false,
          "x": 24
         },
         {
          "color": false,
          "x": 24
         },
         {
          "color": false,
          "x": 24
         },
         {
          "color": false,
          "x": 24
         },
         {
          "color": false,
          "x": 24
         },
         {
          "color": false,
          "x": 24
         },
         {
          "color": false,
          "x": 24
         },
         {
          "color": false,
          "x": 24
         },
         {
          "color": false,
          "x": 24
         },
         {
          "color": false,
          "x": 24
         },
         {
          "color": false,
          "x": 24
         },
         {
          "color": false,
          "x": 24
         },
         {
          "color": false,
          "x": 24
         },
         {
          "color": false,
          "x": 24
         },
         {
          "color": false,
          "x": 24
         },
         {
          "color": false,
          "x": 24
         },
         {
          "color": false,
          "x": 24
         },
         {
          "color": false,
          "x": 24
         },
         {
          "color": false,
          "x": 24
         },
         {
          "color": false,
          "x": 24
         },
         {
          "color": false,
          "x": 24
         },
         {
          "color": false,
          "x": 24
         },
         {
          "color": false,
          "x": 24
         },
         {
          "color": false,
          "x": 24
         },
         {
          "color": false,
          "x": 24
         },
         {
          "color": false,
          "x": 24
         },
         {
          "color": false,
          "x": 24
         },
         {
          "color": false,
          "x": 23
         },
         {
          "color": false,
          "x": 23
         },
         {
          "color": false,
          "x": 23
         },
         {
          "color": false,
          "x": 23
         },
         {
          "color": false,
          "x": 23
         },
         {
          "color": false,
          "x": 23
         },
         {
          "color": false,
          "x": 23
         },
         {
          "color": false,
          "x": 23
         },
         {
          "color": false,
          "x": 23
         },
         {
          "color": false,
          "x": 23
         },
         {
          "color": false,
          "x": 23
         },
         {
          "color": false,
          "x": 23
         },
         {
          "color": false,
          "x": 23
         },
         {
          "color": false,
          "x": 23
         },
         {
          "color": false,
          "x": 23
         },
         {
          "color": false,
          "x": 23
         },
         {
          "color": false,
          "x": 23
         },
         {
          "color": false,
          "x": 23
         },
         {
          "color": false,
          "x": 23
         },
         {
          "color": false,
          "x": 23
         },
         {
          "color": false,
          "x": 23
         },
         {
          "color": false,
          "x": 23
         },
         {
          "color": false,
          "x": 23
         },
         {
          "color": false,
          "x": 23
         },
         {
          "color": false,
          "x": 23
         },
         {
          "color": false,
          "x": 23
         },
         {
          "color": false,
          "x": 23
         },
         {
          "color": false,
          "x": 23
         },
         {
          "color": false,
          "x": 23
         },
         {
          "color": false,
          "x": 23
         },
         {
          "color": false,
          "x": 23
         },
         {
          "color": false,
          "x": 23
         },
         {
          "color": false,
          "x": 23
         },
         {
          "color": false,
          "x": 23
         },
         {
          "color": false,
          "x": 23
         },
         {
          "color": false,
          "x": 23
         },
         {
          "color": false,
          "x": 23
         },
         {
          "color": false,
          "x": 23
         },
         {
          "color": false,
          "x": 23
         },
         {
          "color": false,
          "x": 23
         },
         {
          "color": false,
          "x": 23
         },
         {
          "color": false,
          "x": 23
         },
         {
          "color": false,
          "x": 23
         },
         {
          "color": false,
          "x": 23
         },
         {
          "color": false,
          "x": 23
         },
         {
          "color": false,
          "x": 23
         },
         {
          "color": false,
          "x": 23
         },
         {
          "color": false,
          "x": 23
         },
         {
          "color": false,
          "x": 23
         },
         {
          "color": false,
          "x": 23
         },
         {
          "color": false,
          "x": 23
         },
         {
          "color": false,
          "x": 23
         },
         {
          "color": false,
          "x": 23
         },
         {
          "color": false,
          "x": 23
         },
         {
          "color": false,
          "x": 23
         },
         {
          "color": false,
          "x": 23
         },
         {
          "color": false,
          "x": 23
         },
         {
          "color": false,
          "x": 23
         },
         {
          "color": false,
          "x": 23
         },
         {
          "color": false,
          "x": 23
         },
         {
          "color": false,
          "x": 23
         },
         {
          "color": false,
          "x": 23
         },
         {
          "color": false,
          "x": 23
         },
         {
          "color": false,
          "x": 23
         },
         {
          "color": false,
          "x": 23
         },
         {
          "color": false,
          "x": 23
         },
         {
          "color": false,
          "x": 23
         },
         {
          "color": false,
          "x": 23
         },
         {
          "color": false,
          "x": 23
         },
         {
          "color": false,
          "x": 23
         },
         {
          "color": false,
          "x": 23
         },
         {
          "color": false,
          "x": 23
         },
         {
          "color": false,
          "x": 23
         },
         {
          "color": false,
          "x": 23
         },
         {
          "color": false,
          "x": 23
         },
         {
          "color": false,
          "x": 23
         },
         {
          "color": false,
          "x": 23
         },
         {
          "color": false,
          "x": 23
         },
         {
          "color": false,
          "x": 23
         },
         {
          "color": false,
          "x": 23
         },
         {
          "color": false,
          "x": 23
         },
         {
          "color": false,
          "x": 23
         },
         {
          "color": false,
          "x": 22
         },
         {
          "color": false,
          "x": 22
         },
         {
          "color": false,
          "x": 22
         },
         {
          "color": false,
          "x": 22
         },
         {
          "color": false,
          "x": 22
         },
         {
          "color": false,
          "x": 22
         },
         {
          "color": false,
          "x": 22
         },
         {
          "color": false,
          "x": 22
         },
         {
          "color": false,
          "x": 22
         },
         {
          "color": false,
          "x": 22
         },
         {
          "color": false,
          "x": 22
         },
         {
          "color": false,
          "x": 22
         },
         {
          "color": false,
          "x": 22
         },
         {
          "color": false,
          "x": 22
         },
         {
          "color": false,
          "x": 22
         },
         {
          "color": false,
          "x": 22
         },
         {
          "color": false,
          "x": 22
         },
         {
          "color": false,
          "x": 22
         },
         {
          "color": false,
          "x": 22
         },
         {
          "color": false,
          "x": 22
         },
         {
          "color": false,
          "x": 22
         },
         {
          "color": false,
          "x": 22
         },
         {
          "color": false,
          "x": 22
         },
         {
          "color": false,
          "x": 22
         },
         {
          "color": false,
          "x": 22
         },
         {
          "color": false,
          "x": 22
         },
         {
          "color": false,
          "x": 22
         },
         {
          "color": false,
          "x": 22
         },
         {
          "color": false,
          "x": 22
         },
         {
          "color": false,
          "x": 22
         },
         {
          "color": false,
          "x": 22
         },
         {
          "color": false,
          "x": 22
         },
         {
          "color": false,
          "x": 21
         },
         {
          "color": false,
          "x": 21
         },
         {
          "color": false,
          "x": 21
         },
         {
          "color": false,
          "x": 21
         },
         {
          "color": false,
          "x": 21
         },
         {
          "color": false,
          "x": 21
         },
         {
          "color": false,
          "x": 21
         },
         {
          "color": false,
          "x": 21
         },
         {
          "color": false,
          "x": 21
         },
         {
          "color": false,
          "x": 21
         },
         {
          "color": false,
          "x": 21
         },
         {
          "color": false,
          "x": 21
         },
         {
          "color": false,
          "x": 21
         },
         {
          "color": false,
          "x": 21
         },
         {
          "color": false,
          "x": 21
         },
         {
          "color": false,
          "x": 21
         },
         {
          "color": false,
          "x": 21
         },
         {
          "color": false,
          "x": 21
         },
         {
          "color": false,
          "x": 21
         },
         {
          "color": false,
          "x": 21
         },
         {
          "color": false,
          "x": 21
         },
         {
          "color": false,
          "x": 21
         },
         {
          "color": false,
          "x": 21
         },
         {
          "color": false,
          "x": 21
         },
         {
          "color": false,
          "x": 21
         },
         {
          "color": false,
          "x": 21
         },
         {
          "color": false,
          "x": 21
         },
         {
          "color": false,
          "x": 21
         },
         {
          "color": false,
          "x": 21
         },
         {
          "color": false,
          "x": 21
         },
         {
          "color": false,
          "x": 21
         },
         {
          "color": false,
          "x": 21
         },
         {
          "color": false,
          "x": 21
         },
         {
          "color": false,
          "x": 21
         },
         {
          "color": false,
          "x": 21
         },
         {
          "color": false,
          "x": 21
         },
         {
          "color": false,
          "x": 21
         },
         {
          "color": false,
          "x": 21
         },
         {
          "color": false,
          "x": 21
         },
         {
          "color": false,
          "x": 21
         },
         {
          "color": false,
          "x": 21
         },
         {
          "color": false,
          "x": 21
         },
         {
          "color": false,
          "x": 21
         },
         {
          "color": false,
          "x": 21
         },
         {
          "color": false,
          "x": 21
         },
         {
          "color": false,
          "x": 21
         },
         {
          "color": false,
          "x": 21
         },
         {
          "color": false,
          "x": 21
         },
         {
          "color": false,
          "x": 21
         },
         {
          "color": false,
          "x": 21
         },
         {
          "color": false,
          "x": 21
         },
         {
          "color": false,
          "x": 21
         },
         {
          "color": false,
          "x": 21
         },
         {
          "color": false,
          "x": 21
         },
         {
          "color": false,
          "x": 21
         },
         {
          "color": false,
          "x": 21
         },
         {
          "color": false,
          "x": 20
         },
         {
          "color": false,
          "x": 20
         },
         {
          "color": false,
          "x": 20
         },
         {
          "color": false,
          "x": 20
         },
         {
          "color": false,
          "x": 20
         },
         {
          "color": false,
          "x": 20
         },
         {
          "color": false,
          "x": 20
         },
         {
          "color": false,
          "x": 20
         },
         {
          "color": false,
          "x": 20
         },
         {
          "color": false,
          "x": 20
         },
         {
          "color": false,
          "x": 20
         },
         {
          "color": false,
          "x": 20
         },
         {
          "color": false,
          "x": 20
         },
         {
          "color": false,
          "x": 20
         },
         {
          "color": false,
          "x": 20
         },
         {
          "color": false,
          "x": 20
         },
         {
          "color": false,
          "x": 20
         },
         {
          "color": false,
          "x": 20
         },
         {
          "color": false,
          "x": 20
         },
         {
          "color": false,
          "x": 20
         },
         {
          "color": false,
          "x": 20
         },
         {
          "color": false,
          "x": 20
         },
         {
          "color": false,
          "x": 20
         },
         {
          "color": false,
          "x": 20
         },
         {
          "color": false,
          "x": 20
         },
         {
          "color": false,
          "x": 20
         },
         {
          "color": false,
          "x": 20
         },
         {
          "color": false,
          "x": 20
         },
         {
          "color": false,
          "x": 20
         },
         {
          "color": false,
          "x": 20
         },
         {
          "color": false,
          "x": 20
         },
         {
          "color": false,
          "x": 20
         },
         {
          "color": false,
          "x": 20
         },
         {
          "color": false,
          "x": 20
         },
         {
          "color": false,
          "x": 20
         },
         {
          "color": false,
          "x": 20
         },
         {
          "color": false,
          "x": 20
         },
         {
          "color": false,
          "x": 20
         },
         {
          "color": false,
          "x": 20
         },
         {
          "color": false,
          "x": 20
         },
         {
          "color": false,
          "x": 20
         },
         {
          "color": false,
          "x": 20
         },
         {
          "color": false,
          "x": 20
         },
         {
          "color": false,
          "x": 20
         },
         {
          "color": false,
          "x": 20
         },
         {
          "color": false,
          "x": 20
         },
         {
          "color": false,
          "x": 20
         },
         {
          "color": false,
          "x": 20
         },
         {
          "color": false,
          "x": 20
         },
         {
          "color": false,
          "x": 20
         },
         {
          "color": false,
          "x": 20
         },
         {
          "color": false,
          "x": 20
         },
         {
          "color": false,
          "x": 20
         },
         {
          "color": false,
          "x": 20
         },
         {
          "color": false,
          "x": 20
         },
         {
          "color": false,
          "x": 20
         },
         {
          "color": false,
          "x": 20
         },
         {
          "color": false,
          "x": 20
         },
         {
          "color": false,
          "x": 20
         },
         {
          "color": false,
          "x": 20
         },
         {
          "color": false,
          "x": 20
         },
         {
          "color": false,
          "x": 20
         },
         {
          "color": false,
          "x": 20
         },
         {
          "color": false,
          "x": 20
         },
         {
          "color": false,
          "x": 20
         },
         {
          "color": false,
          "x": 20
         },
         {
          "color": false,
          "x": 20
         },
         {
          "color": false,
          "x": 20
         },
         {
          "color": false,
          "x": 20
         },
         {
          "color": false,
          "x": 20
         },
         {
          "color": false,
          "x": 20
         },
         {
          "color": false,
          "x": 20
         },
         {
          "color": false,
          "x": 20
         },
         {
          "color": false,
          "x": 20
         },
         {
          "color": false,
          "x": 20
         },
         {
          "color": false,
          "x": 20
         },
         {
          "color": false,
          "x": 19
         },
         {
          "color": false,
          "x": 19
         },
         {
          "color": false,
          "x": 19
         },
         {
          "color": false,
          "x": 19
         },
         {
          "color": false,
          "x": 19
         },
         {
          "color": false,
          "x": 19
         },
         {
          "color": false,
          "x": 19
         },
         {
          "color": false,
          "x": 19
         },
         {
          "color": false,
          "x": 19
         },
         {
          "color": false,
          "x": 19
         },
         {
          "color": false,
          "x": 19
         },
         {
          "color": false,
          "x": 19
         },
         {
          "color": false,
          "x": 19
         },
         {
          "color": false,
          "x": 19
         },
         {
          "color": false,
          "x": 19
         },
         {
          "color": false,
          "x": 19
         },
         {
          "color": false,
          "x": 19
         },
         {
          "color": false,
          "x": 19
         },
         {
          "color": false,
          "x": 19
         },
         {
          "color": false,
          "x": 19
         },
         {
          "color": false,
          "x": 19
         },
         {
          "color": false,
          "x": 19
         },
         {
          "color": false,
          "x": 19
         },
         {
          "color": false,
          "x": 19
         },
         {
          "color": false,
          "x": 19
         },
         {
          "color": false,
          "x": 19
         },
         {
          "color": false,
          "x": 19
         },
         {
          "color": false,
          "x": 19
         },
         {
          "color": false,
          "x": 19
         },
         {
          "color": false,
          "x": 19
         },
         {
          "color": false,
          "x": 19
         },
         {
          "color": false,
          "x": 19
         },
         {
          "color": false,
          "x": 19
         },
         {
          "color": false,
          "x": 19
         },
         {
          "color": false,
          "x": 19
         },
         {
          "color": false,
          "x": 19
         },
         {
          "color": false,
          "x": 19
         },
         {
          "color": false,
          "x": 19
         },
         {
          "color": false,
          "x": 19
         },
         {
          "color": false,
          "x": 19
         },
         {
          "color": false,
          "x": 19
         },
         {
          "color": false,
          "x": 19
         },
         {
          "color": false,
          "x": 19
         },
         {
          "color": false,
          "x": 19
         },
         {
          "color": false,
          "x": 19
         },
         {
          "color": false,
          "x": 19
         },
         {
          "color": false,
          "x": 19
         },
         {
          "color": false,
          "x": 19
         },
         {
          "color": false,
          "x": 19
         },
         {
          "color": false,
          "x": 19
         },
         {
          "color": false,
          "x": 19
         },
         {
          "color": false,
          "x": 19
         },
         {
          "color": false,
          "x": 19
         },
         {
          "color": false,
          "x": 19
         },
         {
          "color": false,
          "x": 19
         },
         {
          "color": false,
          "x": 19
         },
         {
          "color": false,
          "x": 19
         },
         {
          "color": false,
          "x": 19
         },
         {
          "color": false,
          "x": 19
         },
         {
          "color": false,
          "x": 19
         },
         {
          "color": false,
          "x": 19
         },
         {
          "color": false,
          "x": 19
         },
         {
          "color": false,
          "x": 19
         },
         {
          "color": false,
          "x": 19
         },
         {
          "color": false,
          "x": 19
         },
         {
          "color": false,
          "x": 19
         },
         {
          "color": false,
          "x": 19
         },
         {
          "color": false,
          "x": 19
         },
         {
          "color": false,
          "x": 19
         },
         {
          "color": false,
          "x": 19
         },
         {
          "color": false,
          "x": 19
         },
         {
          "color": false,
          "x": 19
         },
         {
          "color": false,
          "x": 19
         },
         {
          "color": false,
          "x": 19
         },
         {
          "color": false,
          "x": 19
         },
         {
          "color": false,
          "x": 19
         },
         {
          "color": false,
          "x": 19
         },
         {
          "color": false,
          "x": 19
         },
         {
          "color": false,
          "x": 19
         },
         {
          "color": false,
          "x": 19
         },
         {
          "color": false,
          "x": 19
         },
         {
          "color": false,
          "x": 19
         },
         {
          "color": false,
          "x": 19
         },
         {
          "color": false,
          "x": 19
         },
         {
          "color": false,
          "x": 19
         },
         {
          "color": false,
          "x": 19
         },
         {
          "color": false,
          "x": 19
         },
         {
          "color": false,
          "x": 19
         },
         {
          "color": false,
          "x": 19
         },
         {
          "color": false,
          "x": 19
         },
         {
          "color": false,
          "x": 19
         },
         {
          "color": false,
          "x": 19
         },
         {
          "color": false,
          "x": 19
         },
         {
          "color": false,
          "x": 19
         },
         {
          "color": false,
          "x": 19
         },
         {
          "color": false,
          "x": 19
         },
         {
          "color": false,
          "x": 19
         },
         {
          "color": false,
          "x": 19
         },
         {
          "color": false,
          "x": 19
         },
         {
          "color": false,
          "x": 19
         },
         {
          "color": false,
          "x": 19
         },
         {
          "color": false,
          "x": 19
         },
         {
          "color": false,
          "x": 19
         },
         {
          "color": false,
          "x": 19
         },
         {
          "color": false,
          "x": 19
         },
         {
          "color": false,
          "x": 19
         },
         {
          "color": false,
          "x": 19
         },
         {
          "color": false,
          "x": 19
         },
         {
          "color": false,
          "x": 19
         },
         {
          "color": false,
          "x": 19
         },
         {
          "color": false,
          "x": 19
         },
         {
          "color": false,
          "x": 19
         },
         {
          "color": true,
          "x": 18
         },
         {
          "color": true,
          "x": 18
         },
         {
          "color": true,
          "x": 18
         },
         {
          "color": true,
          "x": 18
         },
         {
          "color": true,
          "x": 18
         },
         {
          "color": true,
          "x": 18
         },
         {
          "color": true,
          "x": 18
         },
         {
          "color": true,
          "x": 18
         },
         {
          "color": true,
          "x": 18
         },
         {
          "color": true,
          "x": 18
         },
         {
          "color": true,
          "x": 18
         },
         {
          "color": true,
          "x": 18
         },
         {
          "color": true,
          "x": 18
         },
         {
          "color": true,
          "x": 18
         },
         {
          "color": true,
          "x": 18
         },
         {
          "color": true,
          "x": 18
         },
         {
          "color": true,
          "x": 18
         },
         {
          "color": true,
          "x": 18
         },
         {
          "color": true,
          "x": 18
         },
         {
          "color": true,
          "x": 18
         },
         {
          "color": true,
          "x": 18
         },
         {
          "color": true,
          "x": 18
         },
         {
          "color": true,
          "x": 18
         },
         {
          "color": true,
          "x": 18
         },
         {
          "color": true,
          "x": 18
         },
         {
          "color": true,
          "x": 18
         },
         {
          "color": true,
          "x": 18
         },
         {
          "color": true,
          "x": 18
         },
         {
          "color": true,
          "x": 18
         },
         {
          "color": true,
          "x": 18
         },
         {
          "color": true,
          "x": 18
         },
         {
          "color": true,
          "x": 18
         },
         {
          "color": true,
          "x": 18
         },
         {
          "color": true,
          "x": 18
         },
         {
          "color": true,
          "x": 18
         },
         {
          "color": true,
          "x": 18
         },
         {
          "color": true,
          "x": 18
         },
         {
          "color": true,
          "x": 18
         },
         {
          "color": false,
          "x": 17
         },
         {
          "color": false,
          "x": 17
         },
         {
          "color": false,
          "x": 17
         },
         {
          "color": false,
          "x": 17
         },
         {
          "color": false,
          "x": 17
         },
         {
          "color": false,
          "x": 17
         },
         {
          "color": false,
          "x": 17
         },
         {
          "color": false,
          "x": 17
         },
         {
          "color": false,
          "x": 17
         },
         {
          "color": false,
          "x": 17
         },
         {
          "color": false,
          "x": 17
         },
         {
          "color": false,
          "x": 17
         },
         {
          "color": false,
          "x": 17
         },
         {
          "color": false,
          "x": 17
         },
         {
          "color": false,
          "x": 17
         },
         {
          "color": false,
          "x": 17
         },
         {
          "color": false,
          "x": 17
         },
         {
          "color": false,
          "x": 17
         },
         {
          "color": false,
          "x": 17
         },
         {
          "color": false,
          "x": 17
         },
         {
          "color": false,
          "x": 17
         },
         {
          "color": false,
          "x": 17
         },
         {
          "color": false,
          "x": 17
         },
         {
          "color": false,
          "x": 17
         },
         {
          "color": false,
          "x": 17
         },
         {
          "color": false,
          "x": 17
         },
         {
          "color": false,
          "x": 17
         },
         {
          "color": false,
          "x": 17
         },
         {
          "color": false,
          "x": 17
         },
         {
          "color": false,
          "x": 17
         },
         {
          "color": false,
          "x": 17
         },
         {
          "color": false,
          "x": 17
         },
         {
          "color": false,
          "x": 17
         },
         {
          "color": false,
          "x": 17
         },
         {
          "color": false,
          "x": 17
         },
         {
          "color": false,
          "x": 17
         },
         {
          "color": false,
          "x": 17
         },
         {
          "color": false,
          "x": 17
         },
         {
          "color": false,
          "x": 17
         },
         {
          "color": false,
          "x": 17
         },
         {
          "color": false,
          "x": 17
         },
         {
          "color": false,
          "x": 17
         },
         {
          "color": false,
          "x": 16
         },
         {
          "color": false,
          "x": 16
         },
         {
          "color": false,
          "x": 16
         },
         {
          "color": false,
          "x": 16
         },
         {
          "color": false,
          "x": 16
         },
         {
          "color": false,
          "x": 16
         },
         {
          "color": false,
          "x": 16
         },
         {
          "color": false,
          "x": 16
         },
         {
          "color": false,
          "x": 16
         },
         {
          "color": false,
          "x": 16
         },
         {
          "color": false,
          "x": 16
         },
         {
          "color": false,
          "x": 16
         },
         {
          "color": false,
          "x": 16
         },
         {
          "color": false,
          "x": 16
         },
         {
          "color": false,
          "x": 16
         },
         {
          "color": false,
          "x": 16
         },
         {
          "color": false,
          "x": 16
         },
         {
          "color": false,
          "x": 16
         },
         {
          "color": false,
          "x": 16
         },
         {
          "color": false,
          "x": 16
         },
         {
          "color": false,
          "x": 16
         },
         {
          "color": false,
          "x": 16
         },
         {
          "color": false,
          "x": 16
         },
         {
          "color": false,
          "x": 16
         },
         {
          "color": false,
          "x": 16
         },
         {
          "color": false,
          "x": 16
         },
         {
          "color": false,
          "x": 16
         },
         {
          "color": false,
          "x": 16
         },
         {
          "color": false,
          "x": 16
         },
         {
          "color": false,
          "x": 16
         },
         {
          "color": false,
          "x": 16
         },
         {
          "color": false,
          "x": 16
         },
         {
          "color": false,
          "x": 16
         },
         {
          "color": false,
          "x": 16
         },
         {
          "color": false,
          "x": 16
         },
         {
          "color": false,
          "x": 16
         },
         {
          "color": false,
          "x": 16
         },
         {
          "color": false,
          "x": 16
         },
         {
          "color": false,
          "x": 16
         },
         {
          "color": false,
          "x": 16
         },
         {
          "color": false,
          "x": 16
         },
         {
          "color": false,
          "x": 16
         },
         {
          "color": false,
          "x": 16
         },
         {
          "color": false,
          "x": 16
         },
         {
          "color": false,
          "x": 16
         },
         {
          "color": false,
          "x": 16
         },
         {
          "color": false,
          "x": 16
         },
         {
          "color": false,
          "x": 16
         },
         {
          "color": false,
          "x": 16
         },
         {
          "color": false,
          "x": 16
         },
         {
          "color": false,
          "x": 16
         },
         {
          "color": false,
          "x": 15
         },
         {
          "color": false,
          "x": 15
         },
         {
          "color": false,
          "x": 15
         },
         {
          "color": false,
          "x": 15
         },
         {
          "color": false,
          "x": 15
         },
         {
          "color": false,
          "x": 15
         },
         {
          "color": false,
          "x": 15
         },
         {
          "color": false,
          "x": 15
         },
         {
          "color": false,
          "x": 15
         },
         {
          "color": false,
          "x": 15
         },
         {
          "color": false,
          "x": 15
         },
         {
          "color": false,
          "x": 15
         },
         {
          "color": false,
          "x": 15
         },
         {
          "color": false,
          "x": 15
         },
         {
          "color": false,
          "x": 15
         },
         {
          "color": false,
          "x": 15
         },
         {
          "color": false,
          "x": 15
         },
         {
          "color": false,
          "x": 15
         },
         {
          "color": false,
          "x": 15
         },
         {
          "color": false,
          "x": 15
         },
         {
          "color": false,
          "x": 15
         },
         {
          "color": false,
          "x": 15
         },
         {
          "color": false,
          "x": 15
         },
         {
          "color": false,
          "x": 15
         },
         {
          "color": false,
          "x": 15
         },
         {
          "color": false,
          "x": 15
         },
         {
          "color": false,
          "x": 15
         },
         {
          "color": false,
          "x": 15
         },
         {
          "color": false,
          "x": 15
         },
         {
          "color": false,
          "x": 15
         },
         {
          "color": false,
          "x": 15
         },
         {
          "color": false,
          "x": 15
         },
         {
          "color": false,
          "x": 15
         },
         {
          "color": false,
          "x": 15
         },
         {
          "color": false,
          "x": 15
         },
         {
          "color": false,
          "x": 15
         },
         {
          "color": false,
          "x": 15
         },
         {
          "color": false,
          "x": 15
         },
         {
          "color": false,
          "x": 15
         },
         {
          "color": false,
          "x": 15
         },
         {
          "color": false,
          "x": 15
         },
         {
          "color": false,
          "x": 15
         },
         {
          "color": false,
          "x": 15
         },
         {
          "color": false,
          "x": 15
         },
         {
          "color": false,
          "x": 15
         },
         {
          "color": false,
          "x": 15
         },
         {
          "color": false,
          "x": 15
         },
         {
          "color": false,
          "x": 15
         },
         {
          "color": false,
          "x": 15
         },
         {
          "color": false,
          "x": 15
         },
         {
          "color": false,
          "x": 15
         },
         {
          "color": false,
          "x": 15
         },
         {
          "color": false,
          "x": 15
         },
         {
          "color": false,
          "x": 15
         },
         {
          "color": false,
          "x": 15
         },
         {
          "color": false,
          "x": 15
         },
         {
          "color": false,
          "x": 15
         },
         {
          "color": false,
          "x": 15
         },
         {
          "color": false,
          "x": 15
         },
         {
          "color": false,
          "x": 15
         },
         {
          "color": false,
          "x": 15
         },
         {
          "color": false,
          "x": 15
         },
         {
          "color": false,
          "x": 15
         },
         {
          "color": false,
          "x": 15
         },
         {
          "color": false,
          "x": 15
         },
         {
          "color": false,
          "x": 15
         },
         {
          "color": false,
          "x": 15
         },
         {
          "color": false,
          "x": 15
         },
         {
          "color": false,
          "x": 15
         },
         {
          "color": false,
          "x": 15
         },
         {
          "color": false,
          "x": 15
         },
         {
          "color": false,
          "x": 15
         },
         {
          "color": false,
          "x": 14
         },
         {
          "color": false,
          "x": 14
         },
         {
          "color": false,
          "x": 14
         },
         {
          "color": false,
          "x": 14
         },
         {
          "color": false,
          "x": 14
         },
         {
          "color": false,
          "x": 14
         },
         {
          "color": false,
          "x": 14
         },
         {
          "color": false,
          "x": 14
         },
         {
          "color": false,
          "x": 14
         },
         {
          "color": false,
          "x": 14
         },
         {
          "color": false,
          "x": 14
         },
         {
          "color": false,
          "x": 14
         },
         {
          "color": false,
          "x": 14
         },
         {
          "color": false,
          "x": 14
         },
         {
          "color": false,
          "x": 14
         },
         {
          "color": false,
          "x": 14
         },
         {
          "color": false,
          "x": 14
         },
         {
          "color": false,
          "x": 14
         },
         {
          "color": false,
          "x": 14
         },
         {
          "color": false,
          "x": 14
         },
         {
          "color": false,
          "x": 14
         },
         {
          "color": false,
          "x": 14
         },
         {
          "color": false,
          "x": 14
         },
         {
          "color": false,
          "x": 14
         },
         {
          "color": false,
          "x": 14
         },
         {
          "color": false,
          "x": 14
         },
         {
          "color": false,
          "x": 14
         },
         {
          "color": false,
          "x": 14
         },
         {
          "color": false,
          "x": 14
         },
         {
          "color": false,
          "x": 14
         },
         {
          "color": false,
          "x": 14
         },
         {
          "color": false,
          "x": 14
         },
         {
          "color": false,
          "x": 14
         },
         {
          "color": false,
          "x": 14
         },
         {
          "color": false,
          "x": 14
         },
         {
          "color": false,
          "x": 14
         },
         {
          "color": false,
          "x": 14
         },
         {
          "color": false,
          "x": 14
         },
         {
          "color": false,
          "x": 14
         },
         {
          "color": false,
          "x": 14
         },
         {
          "color": false,
          "x": 14
         },
         {
          "color": false,
          "x": 14
         },
         {
          "color": false,
          "x": 14
         },
         {
          "color": false,
          "x": 14
         },
         {
          "color": false,
          "x": 14
         },
         {
          "color": false,
          "x": 14
         },
         {
          "color": false,
          "x": 14
         },
         {
          "color": false,
          "x": 14
         },
         {
          "color": false,
          "x": 14
         },
         {
          "color": false,
          "x": 14
         },
         {
          "color": false,
          "x": 14
         },
         {
          "color": false,
          "x": 14
         },
         {
          "color": false,
          "x": 14
         },
         {
          "color": false,
          "x": 14
         },
         {
          "color": false,
          "x": 14
         },
         {
          "color": false,
          "x": 14
         },
         {
          "color": false,
          "x": 14
         },
         {
          "color": false,
          "x": 14
         },
         {
          "color": false,
          "x": 14
         },
         {
          "color": false,
          "x": 14
         },
         {
          "color": false,
          "x": 14
         },
         {
          "color": false,
          "x": 13
         },
         {
          "color": false,
          "x": 13
         },
         {
          "color": false,
          "x": 13
         },
         {
          "color": false,
          "x": 13
         },
         {
          "color": false,
          "x": 13
         },
         {
          "color": false,
          "x": 13
         },
         {
          "color": false,
          "x": 13
         },
         {
          "color": false,
          "x": 13
         },
         {
          "color": false,
          "x": 13
         },
         {
          "color": false,
          "x": 13
         },
         {
          "color": false,
          "x": 13
         },
         {
          "color": false,
          "x": 13
         },
         {
          "color": false,
          "x": 13
         },
         {
          "color": false,
          "x": 13
         },
         {
          "color": false,
          "x": 13
         },
         {
          "color": false,
          "x": 13
         },
         {
          "color": false,
          "x": 13
         },
         {
          "color": false,
          "x": 13
         },
         {
          "color": false,
          "x": 13
         },
         {
          "color": false,
          "x": 13
         },
         {
          "color": false,
          "x": 13
         },
         {
          "color": false,
          "x": 13
         },
         {
          "color": false,
          "x": 13
         },
         {
          "color": false,
          "x": 13
         },
         {
          "color": false,
          "x": 13
         },
         {
          "color": false,
          "x": 13
         },
         {
          "color": false,
          "x": 13
         },
         {
          "color": false,
          "x": 13
         },
         {
          "color": false,
          "x": 13
         },
         {
          "color": false,
          "x": 13
         },
         {
          "color": false,
          "x": 13
         },
         {
          "color": false,
          "x": 13
         },
         {
          "color": false,
          "x": 13
         },
         {
          "color": false,
          "x": 13
         },
         {
          "color": false,
          "x": 13
         },
         {
          "color": false,
          "x": 13
         },
         {
          "color": false,
          "x": 13
         },
         {
          "color": false,
          "x": 13
         },
         {
          "color": false,
          "x": 13
         },
         {
          "color": false,
          "x": 13
         },
         {
          "color": false,
          "x": 13
         },
         {
          "color": false,
          "x": 13
         },
         {
          "color": false,
          "x": 13
         },
         {
          "color": false,
          "x": 13
         },
         {
          "color": false,
          "x": 13
         },
         {
          "color": false,
          "x": 13
         },
         {
          "color": false,
          "x": 13
         },
         {
          "color": false,
          "x": 13
         },
         {
          "color": false,
          "x": 13
         },
         {
          "color": false,
          "x": 13
         },
         {
          "color": false,
          "x": 13
         },
         {
          "color": false,
          "x": 13
         },
         {
          "color": false,
          "x": 13
         },
         {
          "color": false,
          "x": 13
         },
         {
          "color": false,
          "x": 13
         },
         {
          "color": false,
          "x": 13
         },
         {
          "color": false,
          "x": 13
         },
         {
          "color": false,
          "x": 13
         },
         {
          "color": false,
          "x": 13
         },
         {
          "color": false,
          "x": 13
         },
         {
          "color": false,
          "x": 13
         },
         {
          "color": false,
          "x": 13
         },
         {
          "color": false,
          "x": 13
         },
         {
          "color": false,
          "x": 13
         },
         {
          "color": false,
          "x": 13
         },
         {
          "color": false,
          "x": 13
         },
         {
          "color": false,
          "x": 13
         },
         {
          "color": false,
          "x": 13
         },
         {
          "color": false,
          "x": 13
         },
         {
          "color": false,
          "x": 13
         },
         {
          "color": false,
          "x": 13
         },
         {
          "color": false,
          "x": 13
         },
         {
          "color": false,
          "x": 13
         },
         {
          "color": false,
          "x": 13
         },
         {
          "color": false,
          "x": 13
         },
         {
          "color": false,
          "x": 13
         },
         {
          "color": false,
          "x": 13
         },
         {
          "color": false,
          "x": 13
         },
         {
          "color": false,
          "x": 13
         },
         {
          "color": false,
          "x": 13
         },
         {
          "color": false,
          "x": 13
         },
         {
          "color": false,
          "x": 13
         },
         {
          "color": false,
          "x": 13
         },
         {
          "color": false,
          "x": 13
         },
         {
          "color": false,
          "x": 13
         },
         {
          "color": false,
          "x": 13
         },
         {
          "color": false,
          "x": 13
         },
         {
          "color": false,
          "x": 13
         },
         {
          "color": false,
          "x": 13
         },
         {
          "color": false,
          "x": 13
         },
         {
          "color": false,
          "x": 13
         },
         {
          "color": false,
          "x": 13
         },
         {
          "color": false,
          "x": 13
         },
         {
          "color": false,
          "x": 13
         },
         {
          "color": false,
          "x": 13
         },
         {
          "color": false,
          "x": 13
         },
         {
          "color": false,
          "x": 13
         },
         {
          "color": false,
          "x": 13
         },
         {
          "color": false,
          "x": 13
         },
         {
          "color": false,
          "x": 13
         },
         {
          "color": false,
          "x": 13
         },
         {
          "color": false,
          "x": 13
         },
         {
          "color": false,
          "x": 13
         },
         {
          "color": false,
          "x": 13
         },
         {
          "color": false,
          "x": 13
         },
         {
          "color": false,
          "x": 13
         },
         {
          "color": false,
          "x": 13
         },
         {
          "color": false,
          "x": 13
         },
         {
          "color": false,
          "x": 13
         },
         {
          "color": false,
          "x": 13
         },
         {
          "color": false,
          "x": 12
         },
         {
          "color": false,
          "x": 12
         },
         {
          "color": false,
          "x": 12
         },
         {
          "color": false,
          "x": 12
         },
         {
          "color": false,
          "x": 12
         },
         {
          "color": false,
          "x": 12
         },
         {
          "color": false,
          "x": 12
         },
         {
          "color": false,
          "x": 12
         },
         {
          "color": false,
          "x": 12
         },
         {
          "color": false,
          "x": 12
         },
         {
          "color": false,
          "x": 12
         },
         {
          "color": false,
          "x": 12
         },
         {
          "color": false,
          "x": 12
         },
         {
          "color": false,
          "x": 12
         },
         {
          "color": false,
          "x": 12
         },
         {
          "color": false,
          "x": 12
         },
         {
          "color": false,
          "x": 12
         },
         {
          "color": false,
          "x": 12
         },
         {
          "color": false,
          "x": 12
         },
         {
          "color": false,
          "x": 12
         },
         {
          "color": false,
          "x": 12
         },
         {
          "color": false,
          "x": 12
         },
         {
          "color": false,
          "x": 12
         },
         {
          "color": false,
          "x": 12
         },
         {
          "color": false,
          "x": 12
         },
         {
          "color": false,
          "x": 12
         },
         {
          "color": false,
          "x": 12
         },
         {
          "color": false,
          "x": 12
         },
         {
          "color": false,
          "x": 12
         },
         {
          "color": false,
          "x": 12
         },
         {
          "color": false,
          "x": 12
         },
         {
          "color": false,
          "x": 12
         },
         {
          "color": false,
          "x": 12
         },
         {
          "color": false,
          "x": 12
         },
         {
          "color": false,
          "x": 12
         },
         {
          "color": false,
          "x": 12
         },
         {
          "color": false,
          "x": 12
         },
         {
          "color": false,
          "x": 12
         },
         {
          "color": false,
          "x": 12
         },
         {
          "color": false,
          "x": 12
         },
         {
          "color": false,
          "x": 12
         },
         {
          "color": false,
          "x": 12
         },
         {
          "color": false,
          "x": 12
         },
         {
          "color": false,
          "x": 12
         },
         {
          "color": false,
          "x": 12
         },
         {
          "color": false,
          "x": 12
         },
         {
          "color": false,
          "x": 12
         },
         {
          "color": false,
          "x": 12
         },
         {
          "color": false,
          "x": 12
         },
         {
          "color": false,
          "x": 12
         },
         {
          "color": false,
          "x": 12
         },
         {
          "color": false,
          "x": 12
         },
         {
          "color": false,
          "x": 12
         },
         {
          "color": false,
          "x": 12
         },
         {
          "color": false,
          "x": 12
         },
         {
          "color": false,
          "x": 12
         },
         {
          "color": false,
          "x": 12
         },
         {
          "color": false,
          "x": 12
         },
         {
          "color": false,
          "x": 12
         },
         {
          "color": false,
          "x": 12
         },
         {
          "color": false,
          "x": 12
         },
         {
          "color": false,
          "x": 12
         },
         {
          "color": false,
          "x": 12
         },
         {
          "color": false,
          "x": 12
         },
         {
          "color": false,
          "x": 12
         },
         {
          "color": false,
          "x": 12
         },
         {
          "color": false,
          "x": 12
         },
         {
          "color": false,
          "x": 12
         },
         {
          "color": false,
          "x": 12
         },
         {
          "color": false,
          "x": 12
         },
         {
          "color": false,
          "x": 12
         },
         {
          "color": false,
          "x": 12
         },
         {
          "color": false,
          "x": 12
         },
         {
          "color": false,
          "x": 12
         },
         {
          "color": false,
          "x": 12
         },
         {
          "color": false,
          "x": 12
         },
         {
          "color": false,
          "x": 12
         },
         {
          "color": false,
          "x": 12
         },
         {
          "color": false,
          "x": 12
         },
         {
          "color": false,
          "x": 12
         },
         {
          "color": false,
          "x": 12
         },
         {
          "color": false,
          "x": 12
         },
         {
          "color": false,
          "x": 12
         },
         {
          "color": false,
          "x": 12
         },
         {
          "color": false,
          "x": 12
         },
         {
          "color": false,
          "x": 12
         },
         {
          "color": false,
          "x": 12
         },
         {
          "color": false,
          "x": 12
         },
         {
          "color": false,
          "x": 12
         },
         {
          "color": false,
          "x": 12
         },
         {
          "color": false,
          "x": 12
         },
         {
          "color": false,
          "x": 12
         },
         {
          "color": false,
          "x": 12
         },
         {
          "color": false,
          "x": 12
         },
         {
          "color": false,
          "x": 12
         },
         {
          "color": false,
          "x": 12
         },
         {
          "color": false,
          "x": 12
         },
         {
          "color": false,
          "x": 12
         },
         {
          "color": false,
          "x": 12
         },
         {
          "color": false,
          "x": 12
         },
         {
          "color": false,
          "x": 12
         },
         {
          "color": false,
          "x": 12
         },
         {
          "color": false,
          "x": 12
         },
         {
          "color": false,
          "x": 12
         },
         {
          "color": false,
          "x": 12
         },
         {
          "color": false,
          "x": 12
         },
         {
          "color": false,
          "x": 12
         },
         {
          "color": false,
          "x": 12
         },
         {
          "color": false,
          "x": 12
         },
         {
          "color": false,
          "x": 12
         },
         {
          "color": false,
          "x": 12
         },
         {
          "color": false,
          "x": 12
         },
         {
          "color": false,
          "x": 12
         },
         {
          "color": false,
          "x": 12
         },
         {
          "color": false,
          "x": 12
         },
         {
          "color": false,
          "x": 12
         },
         {
          "color": false,
          "x": 12
         },
         {
          "color": false,
          "x": 12
         },
         {
          "color": false,
          "x": 12
         },
         {
          "color": false,
          "x": 12
         },
         {
          "color": false,
          "x": 12
         },
         {
          "color": false,
          "x": 12
         },
         {
          "color": false,
          "x": 12
         },
         {
          "color": false,
          "x": 11
         },
         {
          "color": false,
          "x": 11
         },
         {
          "color": false,
          "x": 11
         },
         {
          "color": false,
          "x": 11
         },
         {
          "color": false,
          "x": 11
         },
         {
          "color": false,
          "x": 11
         },
         {
          "color": false,
          "x": 11
         },
         {
          "color": false,
          "x": 11
         },
         {
          "color": false,
          "x": 11
         },
         {
          "color": false,
          "x": 11
         },
         {
          "color": false,
          "x": 11
         },
         {
          "color": false,
          "x": 11
         },
         {
          "color": false,
          "x": 11
         },
         {
          "color": false,
          "x": 11
         },
         {
          "color": false,
          "x": 11
         },
         {
          "color": false,
          "x": 11
         },
         {
          "color": false,
          "x": 11
         },
         {
          "color": false,
          "x": 11
         },
         {
          "color": false,
          "x": 11
         },
         {
          "color": false,
          "x": 11
         },
         {
          "color": false,
          "x": 11
         },
         {
          "color": false,
          "x": 11
         },
         {
          "color": false,
          "x": 11
         },
         {
          "color": false,
          "x": 11
         },
         {
          "color": false,
          "x": 11
         },
         {
          "color": false,
          "x": 11
         },
         {
          "color": false,
          "x": 11
         },
         {
          "color": false,
          "x": 11
         },
         {
          "color": false,
          "x": 11
         },
         {
          "color": false,
          "x": 11
         },
         {
          "color": false,
          "x": 11
         },
         {
          "color": false,
          "x": 11
         },
         {
          "color": false,
          "x": 11
         },
         {
          "color": false,
          "x": 11
         },
         {
          "color": false,
          "x": 11
         },
         {
          "color": false,
          "x": 11
         },
         {
          "color": false,
          "x": 11
         },
         {
          "color": false,
          "x": 11
         },
         {
          "color": false,
          "x": 11
         },
         {
          "color": false,
          "x": 11
         },
         {
          "color": false,
          "x": 11
         },
         {
          "color": false,
          "x": 11
         },
         {
          "color": false,
          "x": 11
         },
         {
          "color": false,
          "x": 11
         },
         {
          "color": false,
          "x": 11
         },
         {
          "color": false,
          "x": 11
         },
         {
          "color": false,
          "x": 11
         },
         {
          "color": false,
          "x": 11
         },
         {
          "color": false,
          "x": 11
         },
         {
          "color": false,
          "x": 11
         },
         {
          "color": false,
          "x": 11
         },
         {
          "color": false,
          "x": 11
         },
         {
          "color": false,
          "x": 11
         },
         {
          "color": false,
          "x": 11
         },
         {
          "color": false,
          "x": 11
         },
         {
          "color": false,
          "x": 11
         },
         {
          "color": false,
          "x": 11
         },
         {
          "color": false,
          "x": 11
         },
         {
          "color": false,
          "x": 11
         },
         {
          "color": false,
          "x": 11
         },
         {
          "color": false,
          "x": 11
         },
         {
          "color": false,
          "x": 11
         },
         {
          "color": false,
          "x": 11
         },
         {
          "color": false,
          "x": 11
         },
         {
          "color": false,
          "x": 11
         },
         {
          "color": false,
          "x": 11
         },
         {
          "color": false,
          "x": 11
         },
         {
          "color": false,
          "x": 11
         },
         {
          "color": false,
          "x": 11
         },
         {
          "color": false,
          "x": 11
         },
         {
          "color": false,
          "x": 11
         },
         {
          "color": false,
          "x": 11
         },
         {
          "color": false,
          "x": 11
         },
         {
          "color": false,
          "x": 11
         },
         {
          "color": false,
          "x": 11
         },
         {
          "color": false,
          "x": 11
         },
         {
          "color": false,
          "x": 11
         },
         {
          "color": false,
          "x": 11
         },
         {
          "color": false,
          "x": 11
         },
         {
          "color": false,
          "x": 11
         },
         {
          "color": false,
          "x": 11
         },
         {
          "color": false,
          "x": 10
         },
         {
          "color": false,
          "x": 10
         },
         {
          "color": false,
          "x": 10
         },
         {
          "color": false,
          "x": 10
         },
         {
          "color": false,
          "x": 10
         },
         {
          "color": false,
          "x": 10
         },
         {
          "color": false,
          "x": 10
         },
         {
          "color": false,
          "x": 10
         },
         {
          "color": false,
          "x": 10
         },
         {
          "color": false,
          "x": 10
         },
         {
          "color": false,
          "x": 10
         },
         {
          "color": false,
          "x": 10
         },
         {
          "color": false,
          "x": 10
         },
         {
          "color": false,
          "x": 10
         },
         {
          "color": false,
          "x": 10
         },
         {
          "color": false,
          "x": 10
         },
         {
          "color": false,
          "x": 10
         },
         {
          "color": false,
          "x": 10
         },
         {
          "color": false,
          "x": 10
         },
         {
          "color": false,
          "x": 10
         },
         {
          "color": false,
          "x": 10
         },
         {
          "color": false,
          "x": 10
         },
         {
          "color": false,
          "x": 10
         },
         {
          "color": false,
          "x": 10
         },
         {
          "color": false,
          "x": 10
         },
         {
          "color": false,
          "x": 10
         },
         {
          "color": false,
          "x": 10
         },
         {
          "color": false,
          "x": 10
         },
         {
          "color": false,
          "x": 10
         },
         {
          "color": false,
          "x": 10
         },
         {
          "color": false,
          "x": 10
         },
         {
          "color": false,
          "x": 10
         },
         {
          "color": false,
          "x": 10
         },
         {
          "color": false,
          "x": 10
         },
         {
          "color": false,
          "x": 10
         },
         {
          "color": false,
          "x": 10
         },
         {
          "color": false,
          "x": 10
         },
         {
          "color": false,
          "x": 10
         },
         {
          "color": false,
          "x": 10
         },
         {
          "color": false,
          "x": 10
         },
         {
          "color": false,
          "x": 10
         },
         {
          "color": false,
          "x": 10
         },
         {
          "color": false,
          "x": 10
         },
         {
          "color": false,
          "x": 10
         },
         {
          "color": false,
          "x": 10
         },
         {
          "color": false,
          "x": 10
         },
         {
          "color": false,
          "x": 10
         },
         {
          "color": false,
          "x": 10
         },
         {
          "color": false,
          "x": 10
         },
         {
          "color": false,
          "x": 10
         },
         {
          "color": false,
          "x": 10
         },
         {
          "color": false,
          "x": 10
         },
         {
          "color": false,
          "x": 10
         },
         {
          "color": false,
          "x": 10
         },
         {
          "color": false,
          "x": 10
         },
         {
          "color": false,
          "x": 10
         },
         {
          "color": false,
          "x": 10
         },
         {
          "color": false,
          "x": 10
         },
         {
          "color": false,
          "x": 10
         },
         {
          "color": false,
          "x": 10
         },
         {
          "color": false,
          "x": 10
         },
         {
          "color": false,
          "x": 10
         },
         {
          "color": false,
          "x": 10
         },
         {
          "color": false,
          "x": 10
         },
         {
          "color": false,
          "x": 10
         },
         {
          "color": false,
          "x": 10
         },
         {
          "color": false,
          "x": 10
         },
         {
          "color": false,
          "x": 10
         },
         {
          "color": false,
          "x": 10
         },
         {
          "color": false,
          "x": 9
         },
         {
          "color": false,
          "x": 9
         },
         {
          "color": false,
          "x": 9
         },
         {
          "color": false,
          "x": 9
         },
         {
          "color": false,
          "x": 9
         },
         {
          "color": false,
          "x": 9
         },
         {
          "color": false,
          "x": 9
         },
         {
          "color": false,
          "x": 9
         },
         {
          "color": false,
          "x": 9
         },
         {
          "color": false,
          "x": 9
         },
         {
          "color": false,
          "x": 9
         },
         {
          "color": false,
          "x": 9
         },
         {
          "color": false,
          "x": 9
         },
         {
          "color": false,
          "x": 9
         },
         {
          "color": false,
          "x": 9
         },
         {
          "color": false,
          "x": 9
         },
         {
          "color": false,
          "x": 9
         },
         {
          "color": false,
          "x": 9
         },
         {
          "color": false,
          "x": 9
         },
         {
          "color": false,
          "x": 9
         },
         {
          "color": false,
          "x": 9
         },
         {
          "color": false,
          "x": 9
         },
         {
          "color": false,
          "x": 9
         },
         {
          "color": false,
          "x": 9
         },
         {
          "color": false,
          "x": 9
         },
         {
          "color": false,
          "x": 9
         },
         {
          "color": false,
          "x": 9
         },
         {
          "color": false,
          "x": 9
         },
         {
          "color": false,
          "x": 9
         },
         {
          "color": false,
          "x": 9
         },
         {
          "color": false,
          "x": 9
         },
         {
          "color": false,
          "x": 9
         },
         {
          "color": false,
          "x": 9
         },
         {
          "color": false,
          "x": 9
         },
         {
          "color": false,
          "x": 9
         },
         {
          "color": false,
          "x": 9
         },
         {
          "color": false,
          "x": 9
         },
         {
          "color": false,
          "x": 9
         },
         {
          "color": false,
          "x": 9
         },
         {
          "color": false,
          "x": 9
         },
         {
          "color": false,
          "x": 9
         },
         {
          "color": false,
          "x": 9
         },
         {
          "color": false,
          "x": 9
         },
         {
          "color": false,
          "x": 9
         },
         {
          "color": false,
          "x": 9
         },
         {
          "color": false,
          "x": 8
         },
         {
          "color": false,
          "x": 8
         },
         {
          "color": false,
          "x": 8
         },
         {
          "color": false,
          "x": 8
         },
         {
          "color": false,
          "x": 8
         },
         {
          "color": false,
          "x": 8
         },
         {
          "color": false,
          "x": 8
         },
         {
          "color": false,
          "x": 8
         },
         {
          "color": false,
          "x": 8
         },
         {
          "color": false,
          "x": 8
         },
         {
          "color": false,
          "x": 8
         },
         {
          "color": false,
          "x": 8
         },
         {
          "color": false,
          "x": 8
         },
         {
          "color": false,
          "x": 8
         },
         {
          "color": false,
          "x": 8
         },
         {
          "color": false,
          "x": 8
         },
         {
          "color": false,
          "x": 8
         },
         {
          "color": false,
          "x": 8
         },
         {
          "color": false,
          "x": 8
         },
         {
          "color": false,
          "x": 8
         },
         {
          "color": false,
          "x": 8
         },
         {
          "color": false,
          "x": 8
         },
         {
          "color": false,
          "x": 8
         },
         {
          "color": false,
          "x": 8
         },
         {
          "color": false,
          "x": 8
         },
         {
          "color": false,
          "x": 8
         },
         {
          "color": false,
          "x": 8
         },
         {
          "color": false,
          "x": 8
         },
         {
          "color": false,
          "x": 8
         },
         {
          "color": false,
          "x": 8
         },
         {
          "color": false,
          "x": 8
         },
         {
          "color": false,
          "x": 8
         },
         {
          "color": false,
          "x": 8
         },
         {
          "color": false,
          "x": 8
         },
         {
          "color": false,
          "x": 8
         },
         {
          "color": false,
          "x": 8
         },
         {
          "color": false,
          "x": 8
         },
         {
          "color": false,
          "x": 8
         },
         {
          "color": false,
          "x": 8
         },
         {
          "color": false,
          "x": 8
         },
         {
          "color": false,
          "x": 8
         },
         {
          "color": false,
          "x": 8
         },
         {
          "color": false,
          "x": 8
         },
         {
          "color": false,
          "x": 8
         },
         {
          "color": false,
          "x": 7
         },
         {
          "color": false,
          "x": 7
         },
         {
          "color": false,
          "x": 7
         },
         {
          "color": false,
          "x": 7
         },
         {
          "color": false,
          "x": 7
         },
         {
          "color": false,
          "x": 7
         },
         {
          "color": false,
          "x": 7
         },
         {
          "color": false,
          "x": 7
         },
         {
          "color": false,
          "x": 7
         },
         {
          "color": false,
          "x": 7
         },
         {
          "color": false,
          "x": 7
         },
         {
          "color": false,
          "x": 7
         },
         {
          "color": false,
          "x": 7
         },
         {
          "color": false,
          "x": 7
         },
         {
          "color": false,
          "x": 7
         },
         {
          "color": false,
          "x": 7
         },
         {
          "color": false,
          "x": 7
         },
         {
          "color": false,
          "x": 7
         },
         {
          "color": false,
          "x": 7
         },
         {
          "color": false,
          "x": 7
         },
         {
          "color": false,
          "x": 7
         },
         {
          "color": false,
          "x": 7
         },
         {
          "color": false,
          "x": 7
         },
         {
          "color": false,
          "x": 7
         },
         {
          "color": false,
          "x": 7
         },
         {
          "color": false,
          "x": 7
         },
         {
          "color": false,
          "x": 7
         },
         {
          "color": false,
          "x": 7
         },
         {
          "color": false,
          "x": 7
         },
         {
          "color": false,
          "x": 7
         },
         {
          "color": false,
          "x": 7
         },
         {
          "color": false,
          "x": 7
         },
         {
          "color": false,
          "x": 7
         },
         {
          "color": false,
          "x": 7
         },
         {
          "color": false,
          "x": 7
         },
         {
          "color": false,
          "x": 7
         },
         {
          "color": false,
          "x": 7
         },
         {
          "color": false,
          "x": 7
         },
         {
          "color": false,
          "x": 7
         },
         {
          "color": false,
          "x": 7
         },
         {
          "color": false,
          "x": 7
         },
         {
          "color": false,
          "x": 7
         },
         {
          "color": false,
          "x": 7
         },
         {
          "color": false,
          "x": 7
         },
         {
          "color": false,
          "x": 7
         },
         {
          "color": false,
          "x": 7
         },
         {
          "color": false,
          "x": 7
         },
         {
          "color": false,
          "x": 7
         },
         {
          "color": false,
          "x": 7
         },
         {
          "color": false,
          "x": 7
         },
         {
          "color": false,
          "x": 7
         },
         {
          "color": false,
          "x": 7
         },
         {
          "color": false,
          "x": 7
         },
         {
          "color": false,
          "x": 7
         },
         {
          "color": false,
          "x": 7
         },
         {
          "color": false,
          "x": 7
         },
         {
          "color": false,
          "x": 7
         },
         {
          "color": false,
          "x": 6
         },
         {
          "color": false,
          "x": 6
         },
         {
          "color": false,
          "x": 6
         },
         {
          "color": false,
          "x": 6
         },
         {
          "color": false,
          "x": 6
         },
         {
          "color": false,
          "x": 6
         },
         {
          "color": false,
          "x": 6
         },
         {
          "color": false,
          "x": 6
         },
         {
          "color": false,
          "x": 6
         },
         {
          "color": false,
          "x": 6
         },
         {
          "color": false,
          "x": 6
         },
         {
          "color": false,
          "x": 6
         },
         {
          "color": false,
          "x": 6
         },
         {
          "color": false,
          "x": 6
         },
         {
          "color": false,
          "x": 6
         },
         {
          "color": false,
          "x": 6
         },
         {
          "color": false,
          "x": 6
         },
         {
          "color": false,
          "x": 6
         },
         {
          "color": false,
          "x": 6
         },
         {
          "color": false,
          "x": 6
         },
         {
          "color": false,
          "x": 6
         },
         {
          "color": false,
          "x": 6
         },
         {
          "color": false,
          "x": 6
         },
         {
          "color": false,
          "x": 6
         },
         {
          "color": false,
          "x": 6
         },
         {
          "color": false,
          "x": 6
         },
         {
          "color": false,
          "x": 6
         },
         {
          "color": false,
          "x": 6
         },
         {
          "color": false,
          "x": 6
         },
         {
          "color": false,
          "x": 6
         },
         {
          "color": false,
          "x": 6
         },
         {
          "color": false,
          "x": 6
         },
         {
          "color": false,
          "x": 6
         },
         {
          "color": false,
          "x": 6
         },
         {
          "color": false,
          "x": 6
         },
         {
          "color": false,
          "x": 6
         },
         {
          "color": false,
          "x": 6
         },
         {
          "color": false,
          "x": 6
         },
         {
          "color": false,
          "x": 6
         },
         {
          "color": false,
          "x": 6
         },
         {
          "color": false,
          "x": 6
         },
         {
          "color": false,
          "x": 6
         },
         {
          "color": false,
          "x": 6
         },
         {
          "color": false,
          "x": 6
         },
         {
          "color": false,
          "x": 6
         },
         {
          "color": false,
          "x": 6
         },
         {
          "color": false,
          "x": 6
         },
         {
          "color": false,
          "x": 6
         },
         {
          "color": false,
          "x": 6
         },
         {
          "color": false,
          "x": 6
         },
         {
          "color": false,
          "x": 6
         },
         {
          "color": false,
          "x": 6
         },
         {
          "color": false,
          "x": 6
         },
         {
          "color": false,
          "x": 6
         },
         {
          "color": false,
          "x": 6
         },
         {
          "color": false,
          "x": 6
         },
         {
          "color": false,
          "x": 6
         },
         {
          "color": false,
          "x": 6
         },
         {
          "color": false,
          "x": 6
         },
         {
          "color": false,
          "x": 6
         },
         {
          "color": false,
          "x": 6
         },
         {
          "color": false,
          "x": 6
         },
         {
          "color": false,
          "x": 6
         },
         {
          "color": false,
          "x": 6
         },
         {
          "color": false,
          "x": 6
         },
         {
          "color": false,
          "x": 6
         },
         {
          "color": false,
          "x": 6
         },
         {
          "color": false,
          "x": 6
         },
         {
          "color": false,
          "x": 6
         },
         {
          "color": false,
          "x": 6
         },
         {
          "color": false,
          "x": 6
         },
         {
          "color": false,
          "x": 6
         },
         {
          "color": false,
          "x": 6
         },
         {
          "color": false,
          "x": 6
         },
         {
          "color": false,
          "x": 6
         },
         {
          "color": false,
          "x": 6
         },
         {
          "color": false,
          "x": 6
         },
         {
          "color": false,
          "x": 6
         },
         {
          "color": false,
          "x": 6
         },
         {
          "color": false,
          "x": 6
         },
         {
          "color": false,
          "x": 6
         },
         {
          "color": false,
          "x": 6
         },
         {
          "color": false,
          "x": 6
         },
         {
          "color": false,
          "x": 6
         },
         {
          "color": false,
          "x": 6
         },
         {
          "color": false,
          "x": 6
         },
         {
          "color": false,
          "x": 6
         },
         {
          "color": false,
          "x": 6
         },
         {
          "color": false,
          "x": 6
         },
         {
          "color": false,
          "x": 6
         },
         {
          "color": false,
          "x": 6
         },
         {
          "color": false,
          "x": 6
         },
         {
          "color": false,
          "x": 6
         },
         {
          "color": false,
          "x": 6
         },
         {
          "color": false,
          "x": 6
         },
         {
          "color": false,
          "x": 6
         },
         {
          "color": false,
          "x": 6
         },
         {
          "color": false,
          "x": 6
         },
         {
          "color": false,
          "x": 6
         },
         {
          "color": false,
          "x": 6
         },
         {
          "color": false,
          "x": 6
         },
         {
          "color": false,
          "x": 6
         },
         {
          "color": false,
          "x": 6
         },
         {
          "color": false,
          "x": 5
         },
         {
          "color": false,
          "x": 5
         },
         {
          "color": false,
          "x": 5
         },
         {
          "color": false,
          "x": 5
         },
         {
          "color": false,
          "x": 5
         },
         {
          "color": false,
          "x": 5
         },
         {
          "color": false,
          "x": 5
         },
         {
          "color": false,
          "x": 5
         },
         {
          "color": false,
          "x": 5
         },
         {
          "color": false,
          "x": 5
         },
         {
          "color": false,
          "x": 5
         },
         {
          "color": false,
          "x": 5
         },
         {
          "color": false,
          "x": 5
         },
         {
          "color": false,
          "x": 5
         },
         {
          "color": false,
          "x": 5
         },
         {
          "color": false,
          "x": 5
         },
         {
          "color": false,
          "x": 5
         },
         {
          "color": false,
          "x": 5
         },
         {
          "color": false,
          "x": 5
         },
         {
          "color": false,
          "x": 5
         },
         {
          "color": false,
          "x": 5
         },
         {
          "color": false,
          "x": 5
         },
         {
          "color": false,
          "x": 5
         },
         {
          "color": false,
          "x": 5
         },
         {
          "color": false,
          "x": 5
         },
         {
          "color": false,
          "x": 5
         },
         {
          "color": false,
          "x": 5
         },
         {
          "color": false,
          "x": 5
         },
         {
          "color": false,
          "x": 5
         },
         {
          "color": false,
          "x": 5
         },
         {
          "color": false,
          "x": 5
         },
         {
          "color": false,
          "x": 5
         },
         {
          "color": false,
          "x": 5
         },
         {
          "color": false,
          "x": 5
         },
         {
          "color": false,
          "x": 5
         },
         {
          "color": false,
          "x": 5
         },
         {
          "color": false,
          "x": 5
         },
         {
          "color": false,
          "x": 5
         },
         {
          "color": false,
          "x": 5
         },
         {
          "color": false,
          "x": 5
         },
         {
          "color": false,
          "x": 5
         },
         {
          "color": false,
          "x": 5
         },
         {
          "color": false,
          "x": 5
         },
         {
          "color": false,
          "x": 5
         },
         {
          "color": false,
          "x": 5
         },
         {
          "color": false,
          "x": 5
         },
         {
          "color": false,
          "x": 5
         },
         {
          "color": false,
          "x": 5
         },
         {
          "color": false,
          "x": 5
         },
         {
          "color": false,
          "x": 5
         },
         {
          "color": false,
          "x": 5
         },
         {
          "color": false,
          "x": 5
         },
         {
          "color": false,
          "x": 5
         },
         {
          "color": false,
          "x": 5
         },
         {
          "color": false,
          "x": 5
         },
         {
          "color": false,
          "x": 5
         },
         {
          "color": false,
          "x": 5
         },
         {
          "color": false,
          "x": 5
         },
         {
          "color": false,
          "x": 5
         },
         {
          "color": false,
          "x": 5
         },
         {
          "color": false,
          "x": 5
         },
         {
          "color": false,
          "x": 5
         },
         {
          "color": false,
          "x": 5
         },
         {
          "color": false,
          "x": 5
         },
         {
          "color": false,
          "x": 5
         },
         {
          "color": false,
          "x": 4
         },
         {
          "color": false,
          "x": 4
         },
         {
          "color": false,
          "x": 4
         },
         {
          "color": false,
          "x": 4
         },
         {
          "color": false,
          "x": 4
         },
         {
          "color": false,
          "x": 4
         },
         {
          "color": false,
          "x": 4
         },
         {
          "color": false,
          "x": 4
         },
         {
          "color": false,
          "x": 4
         },
         {
          "color": false,
          "x": 4
         },
         {
          "color": false,
          "x": 4
         },
         {
          "color": false,
          "x": 4
         },
         {
          "color": false,
          "x": 4
         },
         {
          "color": false,
          "x": 4
         },
         {
          "color": false,
          "x": 4
         },
         {
          "color": false,
          "x": 4
         },
         {
          "color": false,
          "x": 4
         },
         {
          "color": false,
          "x": 4
         },
         {
          "color": false,
          "x": 4
         },
         {
          "color": false,
          "x": 4
         },
         {
          "color": false,
          "x": 4
         },
         {
          "color": false,
          "x": 4
         },
         {
          "color": false,
          "x": 4
         },
         {
          "color": false,
          "x": 4
         },
         {
          "color": false,
          "x": 4
         },
         {
          "color": false,
          "x": 4
         },
         {
          "color": false,
          "x": 4
         },
         {
          "color": false,
          "x": 4
         },
         {
          "color": false,
          "x": 3
         },
         {
          "color": false,
          "x": 3
         },
         {
          "color": false,
          "x": 3
         },
         {
          "color": false,
          "x": 3
         },
         {
          "color": false,
          "x": 3
         },
         {
          "color": false,
          "x": 3
         },
         {
          "color": false,
          "x": 3
         },
         {
          "color": false,
          "x": 3
         },
         {
          "color": false,
          "x": 3
         },
         {
          "color": false,
          "x": 3
         },
         {
          "color": false,
          "x": 3
         },
         {
          "color": false,
          "x": 3
         },
         {
          "color": false,
          "x": 3
         },
         {
          "color": false,
          "x": 3
         },
         {
          "color": false,
          "x": 3
         },
         {
          "color": false,
          "x": 3
         },
         {
          "color": false,
          "x": 3
         },
         {
          "color": false,
          "x": 3
         },
         {
          "color": false,
          "x": 3
         },
         {
          "color": false,
          "x": 3
         },
         {
          "color": false,
          "x": 3
         },
         {
          "color": false,
          "x": 3
         },
         {
          "color": false,
          "x": 3
         },
         {
          "color": false,
          "x": 3
         },
         {
          "color": false,
          "x": 3
         },
         {
          "color": false,
          "x": 3
         },
         {
          "color": false,
          "x": 3
         },
         {
          "color": false,
          "x": 3
         },
         {
          "color": false,
          "x": 3
         },
         {
          "color": false,
          "x": 3
         },
         {
          "color": false,
          "x": 3
         },
         {
          "color": false,
          "x": 3
         },
         {
          "color": false,
          "x": 3
         },
         {
          "color": false,
          "x": 3
         },
         {
          "color": false,
          "x": 3
         },
         {
          "color": false,
          "x": 3
         },
         {
          "color": false,
          "x": 3
         },
         {
          "color": false,
          "x": 3
         },
         {
          "color": false,
          "x": 3
         },
         {
          "color": false,
          "x": 3
         },
         {
          "color": false,
          "x": 3
         },
         {
          "color": false,
          "x": 3
         },
         {
          "color": false,
          "x": 3
         },
         {
          "color": false,
          "x": 3
         },
         {
          "color": false,
          "x": 3
         },
         {
          "color": false,
          "x": 3
         },
         {
          "color": false,
          "x": 3
         },
         {
          "color": false,
          "x": 3
         },
         {
          "color": false,
          "x": 3
         },
         {
          "color": false,
          "x": 3
         },
         {
          "color": false,
          "x": 3
         },
         {
          "color": false,
          "x": 3
         },
         {
          "color": false,
          "x": 3
         },
         {
          "color": false,
          "x": 3
         },
         {
          "color": false,
          "x": 3
         },
         {
          "color": false,
          "x": 2
         },
         {
          "color": false,
          "x": 2
         },
         {
          "color": false,
          "x": 2
         },
         {
          "color": false,
          "x": 2
         },
         {
          "color": false,
          "x": 2
         },
         {
          "color": false,
          "x": 2
         },
         {
          "color": false,
          "x": 2
         },
         {
          "color": false,
          "x": 2
         },
         {
          "color": false,
          "x": 2
         },
         {
          "color": false,
          "x": 2
         },
         {
          "color": false,
          "x": 2
         },
         {
          "color": false,
          "x": 2
         },
         {
          "color": false,
          "x": 2
         },
         {
          "color": false,
          "x": 2
         },
         {
          "color": false,
          "x": 2
         },
         {
          "color": false,
          "x": 2
         },
         {
          "color": false,
          "x": 2
         },
         {
          "color": false,
          "x": 2
         },
         {
          "color": false,
          "x": 2
         },
         {
          "color": false,
          "x": 2
         },
         {
          "color": false,
          "x": 2
         },
         {
          "color": false,
          "x": 2
         },
         {
          "color": false,
          "x": 2
         },
         {
          "color": false,
          "x": 2
         },
         {
          "color": false,
          "x": 2
         },
         {
          "color": false,
          "x": 2
         },
         {
          "color": false,
          "x": 2
         },
         {
          "color": false,
          "x": 2
         },
         {
          "color": false,
          "x": 2
         },
         {
          "color": false,
          "x": 2
         },
         {
          "color": false,
          "x": 2
         },
         {
          "color": false,
          "x": 2
         },
         {
          "color": false,
          "x": 2
         },
         {
          "color": false,
          "x": 2
         },
         {
          "color": false,
          "x": 2
         },
         {
          "color": false,
          "x": 2
         },
         {
          "color": false,
          "x": 2
         },
         {
          "color": false,
          "x": 2
         },
         {
          "color": false,
          "x": 2
         },
         {
          "color": false,
          "x": 2
         },
         {
          "color": false,
          "x": 2
         },
         {
          "color": false,
          "x": 2
         },
         {
          "color": false,
          "x": 2
         },
         {
          "color": false,
          "x": 2
         },
         {
          "color": false,
          "x": 2
         },
         {
          "color": false,
          "x": 2
         },
         {
          "color": false,
          "x": 2
         },
         {
          "color": false,
          "x": 2
         },
         {
          "color": false,
          "x": 2
         },
         {
          "color": false,
          "x": 1
         },
         {
          "color": false,
          "x": 1
         },
         {
          "color": false,
          "x": 1
         },
         {
          "color": false,
          "x": 1
         },
         {
          "color": false,
          "x": 1
         },
         {
          "color": false,
          "x": 1
         },
         {
          "color": false,
          "x": 1
         },
         {
          "color": false,
          "x": 1
         },
         {
          "color": false,
          "x": 1
         },
         {
          "color": false,
          "x": 1
         },
         {
          "color": false,
          "x": 1
         },
         {
          "color": false,
          "x": 1
         },
         {
          "color": false,
          "x": 1
         },
         {
          "color": false,
          "x": 1
         },
         {
          "color": false,
          "x": 1
         },
         {
          "color": false,
          "x": 1
         },
         {
          "color": false,
          "x": 1
         },
         {
          "color": false,
          "x": 1
         },
         {
          "color": false,
          "x": 1
         },
         {
          "color": false,
          "x": 1
         },
         {
          "color": false,
          "x": 1
         },
         {
          "color": false,
          "x": 1
         },
         {
          "color": false,
          "x": 1
         },
         {
          "color": false,
          "x": 1
         },
         {
          "color": false,
          "x": 1
         },
         {
          "color": false,
          "x": 1
         },
         {
          "color": false,
          "x": 1
         },
         {
          "color": false,
          "x": 1
         },
         {
          "color": false,
          "x": 1
         },
         {
          "color": false,
          "x": 1
         },
         {
          "color": false,
          "x": 1
         },
         {
          "color": false,
          "x": 1
         },
         {
          "color": false,
          "x": 1
         },
         {
          "color": false,
          "x": 1
         },
         {
          "color": false,
          "x": 1
         },
         {
          "color": false,
          "x": 1
         },
         {
          "color": false,
          "x": 1
         },
         {
          "color": false,
          "x": 1
         },
         {
          "color": false,
          "x": 1
         },
         {
          "color": false,
          "x": 1
         },
         {
          "color": false,
          "x": 1
         },
         {
          "color": false,
          "x": 1
         },
         {
          "color": false,
          "x": 1
         },
         {
          "color": false,
          "x": 1
         }
        ]
       },
       "encoding": {
        "color": {
         "field": "color",
         "legend": false,
         "title": null
        },
        "x": {
         "field": "x",
         "title": "Days",
         "type": "quantitative"
        },
        "y": {
         "aggregate": "count",
         "title": "Number of protests",
         "type": "quantitative"
        }
       },
       "mark": "bar",
       "title": "May in 2019"
      },
      "image/png": "[encoded data removed]",
      "image/svg+xml": [
       "<?xml version=\"1.0\" encoding=\"utf-8\"?>\n",
       "<!DOCTYPE svg PUBLIC \"-//W3C//DTD SVG 1.1//EN\" \"http://www.w3.org/Graphics/SVG/1.1/DTD/svg11.dtd\">\n",
       "<svg xmlns=\"http://www.w3.org/2000/svg\" xmlns:xlink=\"http://www.w3.org/1999/xlink\" version=\"1.1\" class=\"marks\" width=\"251\" height=\"259\" viewBox=\"0 0 251 259\"><rect width=\"251\" height=\"259\" fill=\"white\"/><g fill=\"none\" stroke-miterlimit=\"10\" transform=\"translate(45,22)\"><g class=\"mark-group role-frame root\" role=\"graphics-object\" aria-roledescription=\"group mark container\"><g transform=\"translate(0,0)\"><path class=\"background\" aria-hidden=\"true\" d=\"M0.5,0.5h200v200h-200Z\" stroke=\"#ddd\"/><g><g class=\"mark-group role-axis\" aria-hidden=\"true\"><g transform=\"translate(0.5,200.5)\"><path class=\"background\" aria-hidden=\"true\" d=\"M0,0h0v0h0Z\" pointer-events=\"none\"/><g><g class=\"mark-rule role-axis-grid\" pointer-events=\"none\"><line transform=\"translate(0,-200)\" x2=\"0\" y2=\"200\" stroke=\"#ddd\" stroke-width=\"1\" opacity=\"1\"/><line transform=\"translate(29,-200)\" x2=\"0\" y2=\"200\" stroke=\"#ddd\" stroke-width=\"1\" opacity=\"1\"/><line transform=\"translate(57,-200)\" x2=\"0\" y2=\"200\" stroke=\"#ddd\" stroke-width=\"1\" opacity=\"1\"/><line transform=\"translate(86,-200)\" x2=\"0\" y2=\"200\" stroke=\"#ddd\" stroke-width=\"1\" opacity=\"1\"/><line transform=\"translate(114,-200)\" x2=\"0\" y2=\"200\" stroke=\"#ddd\" stroke-width=\"1\" opacity=\"1\"/><line transform=\"translate(143,-200)\" x2=\"0\" y2=\"200\" stroke=\"#ddd\" stroke-width=\"1\" opacity=\"1\"/><line transform=\"translate(171,-200)\" x2=\"0\" y2=\"200\" stroke=\"#ddd\" stroke-width=\"1\" opacity=\"1\"/><line transform=\"translate(200,-200)\" x2=\"0\" y2=\"200\" stroke=\"#ddd\" stroke-width=\"1\" opacity=\"1\"/></g></g><path class=\"foreground\" aria-hidden=\"true\" d=\"\" pointer-events=\"none\" display=\"none\"/></g></g><g class=\"mark-group role-axis\" aria-hidden=\"true\"><g transform=\"translate(0.5,0.5)\"><path class=\"background\" aria-hidden=\"true\" d=\"M0,0h0v0h0Z\" pointer-events=\"none\"/><g><g class=\"mark-rule role-axis-grid\" pointer-events=\"none\"><line transform=\"translate(0,200)\" x2=\"200\" y2=\"0\" stroke=\"#ddd\" stroke-width=\"1\" opacity=\"1\"/><line transform=\"translate(0,169)\" x2=\"200\" y2=\"0\" stroke=\"#ddd\" stroke-width=\"1\" opacity=\"1\"/><line transform=\"translate(0,138)\" x2=\"200\" y2=\"0\" stroke=\"#ddd\" stroke-width=\"1\" opacity=\"1\"/><line transform=\"translate(0,108)\" x2=\"200\" y2=\"0\" stroke=\"#ddd\" stroke-width=\"1\" opacity=\"1\"/><line transform=\"translate(0,77)\" x2=\"200\" y2=\"0\" stroke=\"#ddd\" stroke-width=\"1\" opacity=\"1\"/><line transform=\"translate(0,46)\" x2=\"200\" y2=\"0\" stroke=\"#ddd\" stroke-width=\"1\" opacity=\"1\"/><line transform=\"translate(0,15)\" x2=\"200\" y2=\"0\" stroke=\"#ddd\" stroke-width=\"1\" opacity=\"1\"/></g></g><path class=\"foreground\" aria-hidden=\"true\" d=\"\" pointer-events=\"none\" display=\"none\"/></g></g><g class=\"mark-group role-axis\" role=\"graphics-symbol\" aria-roledescription=\"axis\" aria-label=\"X-axis titled 'Days' for a linear scale with values from 0 to 35\"><g transform=\"translate(0.5,200.5)\"><path class=\"background\" aria-hidden=\"true\" d=\"M0,0h0v0h0Z\" pointer-events=\"none\"/><g><g class=\"mark-rule role-axis-tick\" pointer-events=\"none\"><line transform=\"translate(0,0)\" x2=\"0\" y2=\"5\" stroke=\"#888\" stroke-width=\"1\" opacity=\"1\"/><line transform=\"translate(29,0)\" x2=\"0\" y2=\"5\" stroke=\"#888\" stroke-width=\"1\" opacity=\"1\"/><line transform=\"translate(57,0)\" x2=\"0\" y2=\"5\" stroke=\"#888\" stroke-width=\"1\" opacity=\"1\"/><line transform=\"translate(86,0)\" x2=\"0\" y2=\"5\" stroke=\"#888\" stroke-width=\"1\" opacity=\"1\"/><line transform=\"translate(114,0)\" x2=\"0\" y2=\"5\" stroke=\"#888\" stroke-width=\"1\" opacity=\"1\"/><line transform=\"translate(143,0)\" x2=\"0\" y2=\"5\" stroke=\"#888\" stroke-width=\"1\" opacity=\"1\"/><line transform=\"translate(171,0)\" x2=\"0\" y2=\"5\" stroke=\"#888\" stroke-width=\"1\" opacity=\"1\"/><line transform=\"translate(200,0)\" x2=\"0\" y2=\"5\" stroke=\"#888\" stroke-width=\"1\" opacity=\"1\"/></g><g class=\"mark-text role-axis-label\" pointer-events=\"none\"><text text-anchor=\"start\" transform=\"translate(0,15)\" font-family=\"sans-serif\" font-size=\"10px\" fill=\"#000\" opacity=\"1\">0</text><text text-anchor=\"middle\" transform=\"translate(28.57142857142857,15)\" font-family=\"sans-serif\" font-size=\"10px\" fill=\"#000\" opacity=\"1\">5</text><text text-anchor=\"middle\" transform=\"translate(57.14285714285714,15)\" font-family=\"sans-serif\" font-size=\"10px\" fill=\"#000\" opacity=\"1\">10</text><text text-anchor=\"middle\" transform=\"translate(85.71428571428571,15)\" font-family=\"sans-serif\" font-size=\"10px\" fill=\"#000\" opacity=\"1\">15</text><text text-anchor=\"middle\" transform=\"translate(114.28571428571428,15)\" font-family=\"sans-serif\" font-size=\"10px\" fill=\"#000\" opacity=\"1\">20</text><text text-anchor=\"middle\" transform=\"translate(142.85714285714286,15)\" font-family=\"sans-serif\" font-size=\"10px\" fill=\"#000\" opacity=\"1\">25</text><text text-anchor=\"middle\" transform=\"translate(171.42857142857142,15)\" font-family=\"sans-serif\" font-size=\"10px\" fill=\"#000\" opacity=\"1\">30</text><text text-anchor=\"end\" transform=\"translate(200,15)\" font-family=\"sans-serif\" font-size=\"10px\" fill=\"#000\" opacity=\"1\">35</text></g><g class=\"mark-rule role-axis-domain\" pointer-events=\"none\"><line transform=\"translate(0,0)\" x2=\"200\" y2=\"0\" stroke=\"#888\" stroke-width=\"1\" opacity=\"1\"/></g><g class=\"mark-text role-axis-title\" pointer-events=\"none\"><text text-anchor=\"middle\" transform=\"translate(100,30)\" font-family=\"sans-serif\" font-size=\"11px\" font-weight=\"bold\" fill=\"#000\" opacity=\"1\">Days</text></g></g><path class=\"foreground\" aria-hidden=\"true\" d=\"\" pointer-events=\"none\" display=\"none\"/></g></g><g class=\"mark-group role-axis\" role=\"graphics-symbol\" aria-roledescription=\"axis\" aria-label=\"Y-axis titled 'Number of protests' for a linear scale with values from 0 to 130\"><g transform=\"translate(0.5,0.5)\"><path class=\"background\" aria-hidden=\"true\" d=\"M0,0h0v0h0Z\" pointer-events=\"none\"/><g><g class=\"mark-rule role-axis-tick\" pointer-events=\"none\"><line transform=\"translate(0,200)\" x2=\"-5\" y2=\"0\" stroke=\"#888\" stroke-width=\"1\" opacity=\"1\"/><line transform=\"translate(0,169)\" x2=\"-5\" y2=\"0\" stroke=\"#888\" stroke-width=\"1\" opacity=\"1\"/><line transform=\"translate(0,138)\" x2=\"-5\" y2=\"0\" stroke=\"#888\" stroke-width=\"1\" opacity=\"1\"/><line transform=\"translate(0,108)\" x2=\"-5\" y2=\"0\" stroke=\"#888\" stroke-width=\"1\" opacity=\"1\"/><line transform=\"translate(0,77)\" x2=\"-5\" y2=\"0\" stroke=\"#888\" stroke-width=\"1\" opacity=\"1\"/><line transform=\"translate(0,46)\" x2=\"-5\" y2=\"0\" stroke=\"#888\" stroke-width=\"1\" opacity=\"1\"/><line transform=\"translate(0,15)\" x2=\"-5\" y2=\"0\" stroke=\"#888\" stroke-width=\"1\" opacity=\"1\"/></g><g class=\"mark-text role-axis-label\" pointer-events=\"none\"><text text-anchor=\"end\" transform=\"translate(-7,203)\" font-family=\"sans-serif\" font-size=\"10px\" fill=\"#000\" opacity=\"1\">0</text><text text-anchor=\"end\" transform=\"translate(-7,172.23076923076923)\" font-family=\"sans-serif\" font-size=\"10px\" fill=\"#000\" opacity=\"1\">20</text><text text-anchor=\"end\" transform=\"translate(-7,141.46153846153845)\" font-family=\"sans-serif\" font-size=\"10px\" fill=\"#000\" opacity=\"1\">40</text><text text-anchor=\"end\" transform=\"translate(-7,110.6923076923077)\" font-family=\"sans-serif\" font-size=\"10px\" fill=\"#000\" opacity=\"1\">60</text><text text-anchor=\"end\" transform=\"translate(-7,79.92307692307692)\" font-family=\"sans-serif\" font-size=\"10px\" fill=\"#000\" opacity=\"1\">80</text><text text-anchor=\"end\" transform=\"translate(-7,49.153846153846146)\" font-family=\"sans-serif\" font-size=\"10px\" fill=\"#000\" opacity=\"1\">100</text><text text-anchor=\"end\" transform=\"translate(-7,18.384615384615373)\" font-family=\"sans-serif\" font-size=\"10px\" fill=\"#000\" opacity=\"1\">120</text></g><g class=\"mark-rule role-axis-domain\" pointer-events=\"none\"><line transform=\"translate(0,200)\" x2=\"0\" y2=\"-200\" stroke=\"#888\" stroke-width=\"1\" opacity=\"1\"/></g><g class=\"mark-text role-axis-title\" pointer-events=\"none\"><text text-anchor=\"middle\" transform=\"translate(-29,100) rotate(-90) translate(0,-2)\" font-family=\"sans-serif\" font-size=\"11px\" font-weight=\"bold\" fill=\"#000\" opacity=\"1\">Number of protests</text></g></g><path class=\"foreground\" aria-hidden=\"true\" d=\"\" pointer-events=\"none\" display=\"none\"/></g></g><g class=\"mark-rect role-mark marks\" role=\"graphics-object\" aria-roledescription=\"rect mark container\"><path aria-label=\"Days: 31; Number of protests: 77; color: false\" role=\"graphics-symbol\" aria-roledescription=\"bar\" d=\"M174.64285714285714,81.53846153846153h5v118.46153846153847h-5Z\" fill=\"#4c78a8\"/><path aria-label=\"Days: 30; Number of protests: 58; color: false\" role=\"graphics-symbol\" aria-roledescription=\"bar\" d=\"M168.92857142857142,110.76923076923077h5v89.23076923076923h-5Z\" fill=\"#4c78a8\"/><path aria-label=\"Days: 29; Number of protests: 54; color: false\" role=\"graphics-symbol\" aria-roledescription=\"bar\" d=\"M163.21428571428572,116.9230769230769h5v83.0769230769231h-5Z\" fill=\"#4c78a8\"/><path aria-label=\"Days: 28; Number of protests: 74; color: false\" role=\"graphics-symbol\" aria-roledescription=\"bar\" d=\"M157.5,86.15384615384616h5v113.84615384615384h-5Z\" fill=\"#4c78a8\"/><path aria-label=\"Days: 27; Number of protests: 57; color: false\" role=\"graphics-symbol\" aria-roledescription=\"bar\" d=\"M151.7857142857143,112.3076923076923h5v87.6923076923077h-5Z\" fill=\"#4c78a8\"/><path aria-label=\"Days: 26; Number of protests: 59; color: false\" role=\"graphics-symbol\" aria-roledescription=\"bar\" d=\"M146.07142857142858,109.23076923076924h5v90.76923076923076h-5Z\" fill=\"#4c78a8\"/><path aria-label=\"Days: 25; Number of protests: 90; color: false\" role=\"graphics-symbol\" aria-roledescription=\"bar\" d=\"M140.35714285714286,61.53846153846154h5v138.46153846153845h-5Z\" fill=\"#4c78a8\"/><path aria-label=\"Days: 24; Number of protests: 87; color: false\" role=\"graphics-symbol\" aria-roledescription=\"bar\" d=\"M134.64285714285714,66.15384615384616h5v133.84615384615384h-5Z\" fill=\"#4c78a8\"/><path aria-label=\"Days: 23; Number of protests: 82; color: false\" role=\"graphics-symbol\" aria-roledescription=\"bar\" d=\"M128.92857142857142,73.84615384615385h5v126.15384615384615h-5Z\" fill=\"#4c78a8\"/><path aria-label=\"Days: 22; Number of protests: 32; color: false\" role=\"graphics-symbol\" aria-roledescription=\"bar\" d=\"M123.21428571428571,150.76923076923077h5v49.230769230769226h-5Z\" fill=\"#4c78a8\"/><path aria-label=\"Days: 21; Number of protests: 56; color: false\" role=\"graphics-symbol\" aria-roledescription=\"bar\" d=\"M117.5,113.84615384615384h5v86.15384615384616h-5Z\" fill=\"#4c78a8\"/><path aria-label=\"Days: 20; Number of protests: 76; color: false\" role=\"graphics-symbol\" aria-roledescription=\"bar\" d=\"M111.78571428571428,83.07692307692307h5v116.92307692307693h-5Z\" fill=\"#4c78a8\"/><path aria-label=\"Days: 19; Number of protests: 112; color: false\" role=\"graphics-symbol\" aria-roledescription=\"bar\" d=\"M106.07142857142857,27.692307692307683h5v172.30769230769232h-5Z\" fill=\"#4c78a8\"/><path aria-label=\"Days: 18; Number of protests: 38; color: true\" role=\"graphics-symbol\" aria-roledescription=\"bar\" d=\"M100.35714285714285,141.53846153846152h5v58.46153846153848h-5Z\" fill=\"#f58518\"/><path aria-label=\"Days: 17; Number of protests: 42; color: false\" role=\"graphics-symbol\" aria-roledescription=\"bar\" d=\"M94.64285714285714,135.3846153846154h5v64.61538461538461h-5Z\" fill=\"#4c78a8\"/><path aria-label=\"Days: 16; Number of protests: 51; color: false\" role=\"graphics-symbol\" aria-roledescription=\"bar\" d=\"M88.92857142857143,121.53846153846155h5v78.46153846153845h-5Z\" fill=\"#4c78a8\"/><path aria-label=\"Days: 15; Number of protests: 72; color: false\" role=\"graphics-symbol\" aria-roledescription=\"bar\" d=\"M83.21428571428571,89.23076923076923h5v110.76923076923077h-5Z\" fill=\"#4c78a8\"/><path aria-label=\"Days: 14; Number of protests: 61; color: false\" role=\"graphics-symbol\" aria-roledescription=\"bar\" d=\"M77.5,106.15384615384616h5v93.84615384615384h-5Z\" fill=\"#4c78a8\"/><path aria-label=\"Days: 13; Number of protests: 110; color: false\" role=\"graphics-symbol\" aria-roledescription=\"bar\" d=\"M71.78571428571429,30.76923076923077h5v169.23076923076923h-5Z\" fill=\"#4c78a8\"/><path aria-label=\"Days: 12; Number of protests: 123; color: false\" role=\"graphics-symbol\" aria-roledescription=\"bar\" d=\"M66.07142857142857,10.769230769230775h5v189.23076923076923h-5Z\" fill=\"#4c78a8\"/><path aria-label=\"Days: 11; Number of protests: 81; color: false\" role=\"graphics-symbol\" aria-roledescription=\"bar\" d=\"M60.357142857142854,75.38461538461539h5v124.61538461538461h-5Z\" fill=\"#4c78a8\"/><path aria-label=\"Days: 10; Number of protests: 69; color: false\" role=\"graphics-symbol\" aria-roledescription=\"bar\" d=\"M54.64285714285714,93.84615384615384h5v106.15384615384616h-5Z\" fill=\"#4c78a8\"/><path aria-label=\"Days: 9; Number of protests: 45; color: false\" role=\"graphics-symbol\" aria-roledescription=\"bar\" d=\"M48.92857142857142,130.76923076923077h5v69.23076923076923h-5Z\" fill=\"#4c78a8\"/><path aria-label=\"Days: 8; Number of protests: 44; color: false\" role=\"graphics-symbol\" aria-roledescription=\"bar\" d=\"M43.214285714285715,132.3076923076923h5v67.69230769230771h-5Z\" fill=\"#4c78a8\"/><path aria-label=\"Days: 7; Number of protests: 57; color: false\" role=\"graphics-symbol\" aria-roledescription=\"bar\" d=\"M37.5,112.3076923076923h5v87.6923076923077h-5Z\" fill=\"#4c78a8\"/><path aria-label=\"Days: 6; Number of protests: 103; color: false\" role=\"graphics-symbol\" aria-roledescription=\"bar\" d=\"M31.785714285714285,41.53846153846155h5v158.46153846153845h-5Z\" fill=\"#4c78a8\"/><path aria-label=\"Days: 5; Number of protests: 65; color: false\" role=\"graphics-symbol\" aria-roledescription=\"bar\" d=\"M26.07142857142857,100h5v100h-5Z\" fill=\"#4c78a8\"/><path aria-label=\"Days: 4; Number of protests: 28; color: false\" role=\"graphics-symbol\" aria-roledescription=\"bar\" d=\"M20.357142857142858,156.92307692307693h5v43.076923076923066h-5Z\" fill=\"#4c78a8\"/><path aria-label=\"Days: 3; Number of protests: 55; color: false\" role=\"graphics-symbol\" aria-roledescription=\"bar\" d=\"M14.642857142857142,115.38461538461537h5v84.61538461538463h-5Z\" fill=\"#4c78a8\"/><path aria-label=\"Days: 2; Number of protests: 49; color: false\" role=\"graphics-symbol\" aria-roledescription=\"bar\" d=\"M8.928571428571429,124.61538461538461h5v75.38461538461539h-5Z\" fill=\"#4c78a8\"/><path aria-label=\"Days: 1; Number of protests: 44; color: false\" role=\"graphics-symbol\" aria-roledescription=\"bar\" d=\"M3.2142857142857144,132.3076923076923h5v67.69230769230771h-5Z\" fill=\"#4c78a8\"/></g><g class=\"mark-group role-title\"><g transform=\"translate(100,-17)\"><path class=\"background\" aria-hidden=\"true\" d=\"M0,0h0v0h0Z\" pointer-events=\"none\"/><g><g class=\"mark-text role-title-text\" role=\"graphics-symbol\" aria-roledescription=\"title\" aria-label=\"Title text 'May in 2019'\" pointer-events=\"none\"><text text-anchor=\"middle\" transform=\"translate(0,10)\" font-family=\"sans-serif\" font-size=\"13px\" font-weight=\"bold\" fill=\"#000\" opacity=\"1\">May in 2019</text></g></g><path class=\"foreground\" aria-hidden=\"true\" d=\"\" pointer-events=\"none\" display=\"none\"/></g></g></g><path class=\"foreground\" aria-hidden=\"true\" d=\"\" display=\"none\"/></g></g></g></svg>\n"
      ],
      "text/plain": [
       "@vlplot(\n",
       "    title=\"May in 2019\",\n",
       "    mark=\"bar\",\n",
       "    encoding={\n",
       "        x={\n",
       "            title=\"Days\",\n",
       "            field=\"x\"\n",
       "        },\n",
       "        y={\n",
       "            title=\"Number of protests\",\n",
       "            aggregate=\"count\",\n",
       "            type=\"quantitative\"\n",
       "        },\n",
       "        color={\n",
       "            legend=false,\n",
       "            field=\"color\",\n",
       "            title=nothing\n",
       "        }\n",
       "    },\n",
       "    data={\n",
       "        values=...\n",
       "    }\n",
       ")"
      ]
     },
     "execution_count": 133,
     "metadata": {},
     "output_type": "execute_result"
    }
   ],
   "source": [
    "month_celebrations(df, 2019, \"May\")"
   ]
  },
  {
   "cell_type": "code",
   "execution_count": 120,
   "id": "5e171bc4-709e-40d6-b13a-a14a12da0c8f",
   "metadata": {},
   "outputs": [
    {
     "data": {
      "text/plain": [
       "radius_of_days (generic function with 1 method)"
      ]
     },
     "execution_count": 120,
     "metadata": {},
     "output_type": "execute_result"
    }
   ],
   "source": [
    "function radius_of_days(df, date, R)\n",
    "    dates = df.event_date\n",
    "    dates = Dates.Date.(dates, dateformat\"d U y\")\n",
    "    df[!,\"formal_date\"] = dates\n",
    "    my_date = Dates.Date.(date, dateformat\"d U y\")\n",
    "    radiuses = []\n",
    "    max = 0\n",
    "    this_r = 0\n",
    "    for r in range(-R,R)\n",
    "        the_day = my_date + Dates.Day(r)\n",
    "        df_f = filter_data(df,:formal_date, the_day)\n",
    "        n = nrow(df_f)\n",
    "        push!(radiuses, (n,r))\n",
    "        if n > max\n",
    "            max = n\n",
    "            this_r = r\n",
    "        end\n",
    "    end\n",
    "    # print(radiuses)\n",
    "    # print((max, this_r))\n",
    "    return this_r\n",
    "end\n"
   ]
  },
  {
   "cell_type": "code",
   "execution_count": 135,
   "id": "c55804da-0ce0-4d48-9bf0-10e2843731e3",
   "metadata": {},
   "outputs": [
    {
     "data": {
      "text/plain": [
       "2"
      ]
     },
     "execution_count": 135,
     "metadata": {},
     "output_type": "execute_result"
    }
   ],
   "source": [
    "r_of_29_03_2021 = radius_of_days(df, \"23 May 2019\", 2)"
   ]
  },
  {
   "cell_type": "code",
   "execution_count": 128,
   "id": "31d68127-2169-4ff6-af13-1c0181ae848a",
   "metadata": {},
   "outputs": [
    {
     "name": "stdout",
     "output_type": "stream",
     "text": [
      "Any[5, -4, -2, 4, 2, 0, 5, -4, 2, -2, -2, -5, -5, -5, 3, -5, 2, 3, -5, -1, -3, -2, -5, 0, 4, -3, -2, -4, 5, 5, -3, 1, -2, -5, 4, -2, 3, 1, 2, 4, -4, 2, -1, -3, 1, 1, -2, -3, -4, 2, -5, 4, -5, 3, -5, 4, 0, 5, -2, 3, 4, -5, 3, 5, -5, -1, -4, -2, 4, -3, 3, -5, -3, 4, 4, 2, -4, -1, 4, 3, 5, 5, 2, 4, 2]"
     ]
    }
   ],
   "source": [
    "r_average_list = []\n",
    "for holiday in holidays_set\n",
    "    r_of_all = radius_of_days(df, holiday, 5)\n",
    "    push!(r_average_list,r_of_all)\n",
    "end\n",
    "print(r_average_list)\n"
   ]
  },
  {
   "cell_type": "code",
   "execution_count": 126,
   "id": "4a193f9d-e97d-4fee-a21d-08c792ea5885",
   "metadata": {},
   "outputs": [
    {
     "data": {
      "text/plain": [
       "Dict{Any, Int64} with 11 entries:\n",
       "  5  => 8\n",
       "  -3 => 7\n",
       "  1  => 4\n",
       "  0  => 3\n",
       "  -5 => 13\n",
       "  -1 => 4\n",
       "  -2 => 10\n",
       "  3  => 8\n",
       "  4  => 12\n",
       "  2  => 9\n",
       "  -4 => 7"
      ]
     },
     "execution_count": 126,
     "metadata": {},
     "output_type": "execute_result"
    }
   ],
   "source": [
    "countmap(r_average_list)"
   ]
  },
  {
   "cell_type": "code",
   "execution_count": null,
   "id": "2a7dfb6d-7d10-4829-992d-30895b457d6d",
   "metadata": {},
   "outputs": [],
   "source": []
  }
 ],
 "metadata": {
  "kernelspec": {
   "display_name": "Julia 1.7.2",
   "language": "julia",
   "name": "julia-1.7"
  },
  "language_info": {
   "file_extension": ".jl",
   "mimetype": "application/julia",
   "name": "julia",
   "version": "1.7.2"
  }
 },
 "nbformat": 4,
 "nbformat_minor": 5
}
