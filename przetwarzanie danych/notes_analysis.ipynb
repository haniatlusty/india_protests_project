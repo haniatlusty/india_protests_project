{
 "cells": [
  {
   "cell_type": "code",
   "execution_count": 49,
   "id": "0c931510-44a1-46c2-90bc-e4296c130c14",
   "metadata": {},
   "outputs": [],
   "source": [
    "using StatsKit, Query, Dates, VegaLite, TextAnalysis, TextModels, DataFrames;"
   ]
  },
  {
   "cell_type": "code",
   "execution_count": 24,
   "id": "672adcae-435c-4796-a5ef-46743711b7f9",
   "metadata": {},
   "outputs": [],
   "source": [
    "df = CSV.read(\"../data/2016-2022.csv\", DataFrame);"
   ]
  },
  {
   "cell_type": "code",
   "execution_count": 25,
   "id": "2811989a-54c8-408d-a91d-05f08302d4ce",
   "metadata": {},
   "outputs": [],
   "source": [
    "function the_day(data, date)\n",
    "    df = @from i in data begin\n",
    "        @where i.event_date == date\n",
    "        @select {i.event_date, i.event_type, i.sub_event_type, i.location, i.fatalities,i.notes}\n",
    "        @collect DataFrame\n",
    "    end\n",
    "    return (Set(df.event_type), Set(df.sub_event_type), Set(df.location), Set(df.fatalities), df)\n",
    "end;"
   ]
  },
  {
   "cell_type": "code",
   "execution_count": 26,
   "id": "0c593cb1-cb27-4abc-bbc0-c5383454c5b7",
   "metadata": {
    "tags": []
   },
   "outputs": [
    {
     "data": {
      "text/plain": [
       "Sentiment Analysis Model Trained on IMDB with a 88587 word corpus"
      ]
     },
     "execution_count": 26,
     "metadata": {},
     "output_type": "execute_result"
    }
   ],
   "source": [
    "using TextAnalysis\n",
    "model = TextModels.SentimentAnalyzer()"
   ]
  },
  {
   "cell_type": "code",
   "execution_count": 37,
   "id": "205aabcb-1d39-4e7c-a41f-007c04daeae9",
   "metadata": {},
   "outputs": [],
   "source": [
    "event_type, sub_et, cities, fatals, data_per_day = the_day(df, \"20 April 2019\");"
   ]
  },
  {
   "cell_type": "code",
   "execution_count": 38,
   "id": "f937a704-16c1-4e27-ad94-2ae93198f211",
   "metadata": {},
   "outputs": [
    {
     "data": {
      "text/html": [
       "<div class=\"data-frame\"><p>43 rows × 6 columns (omitted printing of 1 columns)</p><table class=\"data-frame\"><thead><tr><th></th><th>event_date</th><th>event_type</th><th>sub_event_type</th><th>location</th><th>fatalities</th></tr><tr><th></th><th title=\"String31\">String31</th><th title=\"String31\">String31</th><th title=\"String63\">String63</th><th title=\"String31\">String31</th><th title=\"Int64\">Int64</th></tr></thead><tbody><tr><th>1</th><td>20 April 2019</td><td>Protests</td><td>Peaceful protest</td><td>Gidderbaha</td><td>0</td></tr><tr><th>2</th><td>20 April 2019</td><td>Protests</td><td>Peaceful protest</td><td>Ludhiana</td><td>0</td></tr><tr><th>3</th><td>20 April 2019</td><td>Protests</td><td>Peaceful protest</td><td>Nakodar</td><td>0</td></tr><tr><th>4</th><td>20 April 2019</td><td>Protests</td><td>Peaceful protest</td><td>Pathankot</td><td>0</td></tr><tr><th>5</th><td>20 April 2019</td><td>Protests</td><td>Peaceful protest</td><td>Hyderabad</td><td>0</td></tr><tr><th>6</th><td>20 April 2019</td><td>Protests</td><td>Peaceful protest</td><td>Vijaypur</td><td>0</td></tr><tr><th>7</th><td>20 April 2019</td><td>Violence against civilians</td><td>Attack</td><td>Bijbehara</td><td>0</td></tr><tr><th>8</th><td>20 April 2019</td><td>Protests</td><td>Peaceful protest</td><td>Kishtwar</td><td>0</td></tr><tr><th>9</th><td>20 April 2019</td><td>Protests</td><td>Peaceful protest</td><td>Madurai</td><td>0</td></tr><tr><th>10</th><td>20 April 2019</td><td>Protests</td><td>Peaceful protest</td><td>Aranthangi</td><td>0</td></tr><tr><th>11</th><td>20 April 2019</td><td>Protests</td><td>Peaceful protest</td><td>Gandarvakottai</td><td>0</td></tr><tr><th>12</th><td>20 April 2019</td><td>Protests</td><td>Peaceful protest</td><td>Annavasal</td><td>0</td></tr><tr><th>13</th><td>20 April 2019</td><td>Protests</td><td>Peaceful protest</td><td>Illuppur</td><td>0</td></tr><tr><th>14</th><td>20 April 2019</td><td>Protests</td><td>Peaceful protest</td><td>Pudukkottai</td><td>0</td></tr><tr><th>15</th><td>20 April 2019</td><td>Protests</td><td>Peaceful protest</td><td>Sivaganga</td><td>0</td></tr><tr><th>16</th><td>20 April 2019</td><td>Protests</td><td>Peaceful protest</td><td>Pudukkottai</td><td>0</td></tr><tr><th>17</th><td>20 April 2019</td><td>Protests</td><td>Peaceful protest</td><td>Singampunari</td><td>0</td></tr><tr><th>18</th><td>20 April 2019</td><td>Protests</td><td>Peaceful protest</td><td>Secunderabad</td><td>0</td></tr><tr><th>19</th><td>20 April 2019</td><td>Battles</td><td>Armed clash</td><td>Pamed</td><td>2</td></tr><tr><th>20</th><td>20 April 2019</td><td>Violence against civilians</td><td>Attack</td><td>Sitamai</td><td>3</td></tr><tr><th>21</th><td>20 April 2019</td><td>Protests</td><td>Peaceful protest</td><td>Gurgaon</td><td>0</td></tr><tr><th>22</th><td>20 April 2019</td><td>Protests</td><td>Peaceful protest</td><td>Budhal</td><td>0</td></tr><tr><th>23</th><td>20 April 2019</td><td>Protests</td><td>Peaceful protest</td><td>Jammu</td><td>0</td></tr><tr><th>24</th><td>20 April 2019</td><td>Protests</td><td>Peaceful protest</td><td>Barakar</td><td>0</td></tr><tr><th>25</th><td>20 April 2019</td><td>Riots</td><td>Mob violence</td><td>Rajganj</td><td>0</td></tr><tr><th>26</th><td>20 April 2019</td><td>Riots</td><td>Mob violence</td><td>Sualkuchi</td><td>0</td></tr><tr><th>27</th><td>20 April 2019</td><td>Riots</td><td>Mob violence</td><td>Litan</td><td>0</td></tr><tr><th>28</th><td>20 April 2019</td><td>Riots</td><td>Mob violence</td><td>Ahmadpur</td><td>0</td></tr><tr><th>29</th><td>20 April 2019</td><td>Riots</td><td>Mob violence</td><td>Kailashahar</td><td>0</td></tr><tr><th>30</th><td>20 April 2019</td><td>Riots</td><td>Mob violence</td><td>Kalimpong</td><td>0</td></tr><tr><th>&vellip;</th><td>&vellip;</td><td>&vellip;</td><td>&vellip;</td><td>&vellip;</td><td>&vellip;</td></tr></tbody></table></div>"
      ],
      "text/latex": [
       "\\begin{tabular}{r|cccccc}\n",
       "\t& event\\_date & event\\_type & sub\\_event\\_type & location & fatalities & \\\\\n",
       "\t\\hline\n",
       "\t& String31 & String31 & String63 & String31 & Int64 & \\\\\n",
       "\t\\hline\n",
       "\t1 & 20 April 2019 & Protests & Peaceful protest & Gidderbaha & 0 & $\\dots$ \\\\\n",
       "\t2 & 20 April 2019 & Protests & Peaceful protest & Ludhiana & 0 & $\\dots$ \\\\\n",
       "\t3 & 20 April 2019 & Protests & Peaceful protest & Nakodar & 0 & $\\dots$ \\\\\n",
       "\t4 & 20 April 2019 & Protests & Peaceful protest & Pathankot & 0 & $\\dots$ \\\\\n",
       "\t5 & 20 April 2019 & Protests & Peaceful protest & Hyderabad & 0 & $\\dots$ \\\\\n",
       "\t6 & 20 April 2019 & Protests & Peaceful protest & Vijaypur & 0 & $\\dots$ \\\\\n",
       "\t7 & 20 April 2019 & Violence against civilians & Attack & Bijbehara & 0 & $\\dots$ \\\\\n",
       "\t8 & 20 April 2019 & Protests & Peaceful protest & Kishtwar & 0 & $\\dots$ \\\\\n",
       "\t9 & 20 April 2019 & Protests & Peaceful protest & Madurai & 0 & $\\dots$ \\\\\n",
       "\t10 & 20 April 2019 & Protests & Peaceful protest & Aranthangi & 0 & $\\dots$ \\\\\n",
       "\t11 & 20 April 2019 & Protests & Peaceful protest & Gandarvakottai & 0 & $\\dots$ \\\\\n",
       "\t12 & 20 April 2019 & Protests & Peaceful protest & Annavasal & 0 & $\\dots$ \\\\\n",
       "\t13 & 20 April 2019 & Protests & Peaceful protest & Illuppur & 0 & $\\dots$ \\\\\n",
       "\t14 & 20 April 2019 & Protests & Peaceful protest & Pudukkottai & 0 & $\\dots$ \\\\\n",
       "\t15 & 20 April 2019 & Protests & Peaceful protest & Sivaganga & 0 & $\\dots$ \\\\\n",
       "\t16 & 20 April 2019 & Protests & Peaceful protest & Pudukkottai & 0 & $\\dots$ \\\\\n",
       "\t17 & 20 April 2019 & Protests & Peaceful protest & Singampunari & 0 & $\\dots$ \\\\\n",
       "\t18 & 20 April 2019 & Protests & Peaceful protest & Secunderabad & 0 & $\\dots$ \\\\\n",
       "\t19 & 20 April 2019 & Battles & Armed clash & Pamed & 2 & $\\dots$ \\\\\n",
       "\t20 & 20 April 2019 & Violence against civilians & Attack & Sitamai & 3 & $\\dots$ \\\\\n",
       "\t21 & 20 April 2019 & Protests & Peaceful protest & Gurgaon & 0 & $\\dots$ \\\\\n",
       "\t22 & 20 April 2019 & Protests & Peaceful protest & Budhal & 0 & $\\dots$ \\\\\n",
       "\t23 & 20 April 2019 & Protests & Peaceful protest & Jammu & 0 & $\\dots$ \\\\\n",
       "\t24 & 20 April 2019 & Protests & Peaceful protest & Barakar & 0 & $\\dots$ \\\\\n",
       "\t25 & 20 April 2019 & Riots & Mob violence & Rajganj & 0 & $\\dots$ \\\\\n",
       "\t26 & 20 April 2019 & Riots & Mob violence & Sualkuchi & 0 & $\\dots$ \\\\\n",
       "\t27 & 20 April 2019 & Riots & Mob violence & Litan & 0 & $\\dots$ \\\\\n",
       "\t28 & 20 April 2019 & Riots & Mob violence & Ahmadpur & 0 & $\\dots$ \\\\\n",
       "\t29 & 20 April 2019 & Riots & Mob violence & Kailashahar & 0 & $\\dots$ \\\\\n",
       "\t30 & 20 April 2019 & Riots & Mob violence & Kalimpong & 0 & $\\dots$ \\\\\n",
       "\t$\\dots$ & $\\dots$ & $\\dots$ & $\\dots$ & $\\dots$ & $\\dots$ &  \\\\\n",
       "\\end{tabular}\n"
      ],
      "text/plain": [
       "\u001b[1m43×6 DataFrame\u001b[0m\n",
       "\u001b[1m Row \u001b[0m│\u001b[1m event_date    \u001b[0m\u001b[1m event_type                 \u001b[0m\u001b[1m sub_event_type   \u001b[0m\u001b[1m location  \u001b[0m ⋯\n",
       "\u001b[1m     \u001b[0m│\u001b[90m String31      \u001b[0m\u001b[90m String31                   \u001b[0m\u001b[90m String63         \u001b[0m\u001b[90m String31  \u001b[0m ⋯\n",
       "─────┼──────────────────────────────────────────────────────────────────────────\n",
       "   1 │ 20 April 2019  Protests                    Peaceful protest  Gidderbaha ⋯\n",
       "   2 │ 20 April 2019  Protests                    Peaceful protest  Ludhiana\n",
       "   3 │ 20 April 2019  Protests                    Peaceful protest  Nakodar\n",
       "   4 │ 20 April 2019  Protests                    Peaceful protest  Pathankot\n",
       "   5 │ 20 April 2019  Protests                    Peaceful protest  Hyderabad  ⋯\n",
       "   6 │ 20 April 2019  Protests                    Peaceful protest  Vijaypur\n",
       "   7 │ 20 April 2019  Violence against civilians  Attack            Bijbehara\n",
       "   8 │ 20 April 2019  Protests                    Peaceful protest  Kishtwar\n",
       "   9 │ 20 April 2019  Protests                    Peaceful protest  Madurai    ⋯\n",
       "  10 │ 20 April 2019  Protests                    Peaceful protest  Aranthangi\n",
       "  11 │ 20 April 2019  Protests                    Peaceful protest  Gandarvako\n",
       "  ⋮  │       ⋮                    ⋮                      ⋮                  ⋮  ⋱\n",
       "  34 │ 20 April 2019  Protests                    Peaceful protest  Madurai\n",
       "  35 │ 20 April 2019  Violence against civilians  Attack            Bahanaga   ⋯\n",
       "  36 │ 20 April 2019  Protests                    Peaceful protest  Chandigarh\n",
       "  37 │ 20 April 2019  Protests                    Peaceful protest  Delhi - Ne\n",
       "  38 │ 20 April 2019  Protests                    Peaceful protest  Bengaluru\n",
       "  39 │ 20 April 2019  Protests                    Peaceful protest  Srinagar   ⋯\n",
       "  40 │ 20 April 2019  Protests                    Peaceful protest  Bhadarwah\n",
       "  41 │ 20 April 2019  Violence against civilians  Sexual violence   Barakar\n",
       "  42 │ 20 April 2019  Protests                    Peaceful protest  Ponparappi\n",
       "  43 │ 20 April 2019  Violence against civilians  Attack            Trehgam    ⋯\n",
       "\u001b[36m                                                   3 columns and 22 rows omitted\u001b[0m"
      ]
     },
     "execution_count": 38,
     "metadata": {},
     "output_type": "execute_result"
    }
   ],
   "source": [
    "data_per_day"
   ]
  },
  {
   "cell_type": "code",
   "execution_count": 28,
   "id": "5820cc6b-fea8-4096-b403-0ca256705c01",
   "metadata": {},
   "outputs": [],
   "source": [
    "my_notes = mystring.notes;"
   ]
  },
  {
   "cell_type": "code",
   "execution_count": 29,
   "id": "7c0734fd-3c54-49e1-9436-c2ecc8892020",
   "metadata": {},
   "outputs": [
    {
     "data": {
      "text/plain": [
       "\"On 20 April, three persons were killed and several others injured in Sitamai village (Karnal, Haryana) after they were attacked with sharp-edged weapons by a group of their relatives. The relatives have been engaged in an ongoing land dispute and had a case pending in court.\""
      ]
     },
     "execution_count": 29,
     "metadata": {},
     "output_type": "execute_result"
    }
   ],
   "source": [
    "my_notes[20]"
   ]
  },
  {
   "cell_type": "code",
   "execution_count": null,
   "id": "3e552fdc-de41-439d-afe0-68fd1877ad25",
   "metadata": {},
   "outputs": [],
   "source": [
    "my_notes[]"
   ]
  },
  {
   "cell_type": "code",
   "execution_count": 44,
   "id": "bb74e427-fbb7-4901-824c-de3a5413670a",
   "metadata": {},
   "outputs": [
    {
     "data": {
      "text/plain": [
       "43-element Vector{Any}:\n",
       " 0.598379f0\n",
       " 0.598005f0\n",
       " 0.54982466f0\n",
       " 0.46619257f0\n",
       " 0.62176836f0\n",
       " 0.56541336f0\n",
       " 0.5839902f0\n",
       " 0.5541909f0\n",
       " 0.5295768f0\n",
       " 0.5505185f0\n",
       " 0.5505185f0\n",
       " 0.54395425f0\n",
       " 0.5505185f0\n",
       " ⋮\n",
       " 0.5023677f0\n",
       " 0.5927981f0\n",
       " 0.5191281f0\n",
       " 0.5393847f0\n",
       " 0.48650756f0\n",
       " 0.5782204f0\n",
       " 0.6090978f0\n",
       " 0.62419933f0\n",
       " 0.38094088f0\n",
       " 0.42672527f0\n",
       " 0.59504867f0\n",
       " 0.49890354f0"
      ]
     },
     "execution_count": 44,
     "metadata": {},
     "output_type": "execute_result"
    }
   ],
   "source": [
    "model_results = []\n",
    "for note in my_notes\n",
    "    result = model(StringDocument(note))\n",
    "    push!(model_results, result)\n",
    "end\n",
    "model_results"
   ]
  },
  {
   "cell_type": "code",
   "execution_count": 54,
   "id": "48553237-b311-43d3-a94c-41d4d9c896ca",
   "metadata": {},
   "outputs": [
    {
     "data": {
      "text/plain": [
       "43-element Vector{Any}:\n",
       " 0.598379f0\n",
       " 0.598005f0\n",
       " 0.54982466f0\n",
       " 0.46619257f0\n",
       " 0.62176836f0\n",
       " 0.56541336f0\n",
       " 0.5839902f0\n",
       " 0.5541909f0\n",
       " 0.5295768f0\n",
       " 0.5505185f0\n",
       " 0.5505185f0\n",
       " 0.54395425f0\n",
       " 0.5505185f0\n",
       " ⋮\n",
       " 0.5023677f0\n",
       " 0.5927981f0\n",
       " 0.5191281f0\n",
       " 0.5393847f0\n",
       " 0.48650756f0\n",
       " 0.5782204f0\n",
       " 0.6090978f0\n",
       " 0.62419933f0\n",
       " 0.38094088f0\n",
       " 0.42672527f0\n",
       " 0.59504867f0\n",
       " 0.49890354f0"
      ]
     },
     "execution_count": 54,
     "metadata": {},
     "output_type": "execute_result"
    }
   ],
   "source": [
    "data_per_day[!,:result] = model_results"
   ]
  },
  {
   "cell_type": "code",
   "execution_count": 55,
   "id": "e12eb74a-9a6c-4783-a9f7-c725188c59cf",
   "metadata": {},
   "outputs": [
    {
     "data": {
      "text/html": [
       "<div class=\"data-frame\"><p>43 rows × 7 columns (omitted printing of 2 columns)</p><table class=\"data-frame\"><thead><tr><th></th><th>event_date</th><th>event_type</th><th>sub_event_type</th><th>location</th><th>fatalities</th></tr><tr><th></th><th title=\"String31\">String31</th><th title=\"String31\">String31</th><th title=\"String63\">String63</th><th title=\"String31\">String31</th><th title=\"Int64\">Int64</th></tr></thead><tbody><tr><th>1</th><td>20 April 2019</td><td>Protests</td><td>Peaceful protest</td><td>Gidderbaha</td><td>0</td></tr><tr><th>2</th><td>20 April 2019</td><td>Protests</td><td>Peaceful protest</td><td>Ludhiana</td><td>0</td></tr><tr><th>3</th><td>20 April 2019</td><td>Protests</td><td>Peaceful protest</td><td>Nakodar</td><td>0</td></tr><tr><th>4</th><td>20 April 2019</td><td>Protests</td><td>Peaceful protest</td><td>Pathankot</td><td>0</td></tr><tr><th>5</th><td>20 April 2019</td><td>Protests</td><td>Peaceful protest</td><td>Hyderabad</td><td>0</td></tr><tr><th>6</th><td>20 April 2019</td><td>Protests</td><td>Peaceful protest</td><td>Vijaypur</td><td>0</td></tr><tr><th>7</th><td>20 April 2019</td><td>Violence against civilians</td><td>Attack</td><td>Bijbehara</td><td>0</td></tr><tr><th>8</th><td>20 April 2019</td><td>Protests</td><td>Peaceful protest</td><td>Kishtwar</td><td>0</td></tr><tr><th>9</th><td>20 April 2019</td><td>Protests</td><td>Peaceful protest</td><td>Madurai</td><td>0</td></tr><tr><th>10</th><td>20 April 2019</td><td>Protests</td><td>Peaceful protest</td><td>Aranthangi</td><td>0</td></tr><tr><th>11</th><td>20 April 2019</td><td>Protests</td><td>Peaceful protest</td><td>Gandarvakottai</td><td>0</td></tr><tr><th>12</th><td>20 April 2019</td><td>Protests</td><td>Peaceful protest</td><td>Annavasal</td><td>0</td></tr><tr><th>13</th><td>20 April 2019</td><td>Protests</td><td>Peaceful protest</td><td>Illuppur</td><td>0</td></tr><tr><th>14</th><td>20 April 2019</td><td>Protests</td><td>Peaceful protest</td><td>Pudukkottai</td><td>0</td></tr><tr><th>15</th><td>20 April 2019</td><td>Protests</td><td>Peaceful protest</td><td>Sivaganga</td><td>0</td></tr><tr><th>16</th><td>20 April 2019</td><td>Protests</td><td>Peaceful protest</td><td>Pudukkottai</td><td>0</td></tr><tr><th>17</th><td>20 April 2019</td><td>Protests</td><td>Peaceful protest</td><td>Singampunari</td><td>0</td></tr><tr><th>18</th><td>20 April 2019</td><td>Protests</td><td>Peaceful protest</td><td>Secunderabad</td><td>0</td></tr><tr><th>19</th><td>20 April 2019</td><td>Battles</td><td>Armed clash</td><td>Pamed</td><td>2</td></tr><tr><th>20</th><td>20 April 2019</td><td>Violence against civilians</td><td>Attack</td><td>Sitamai</td><td>3</td></tr><tr><th>21</th><td>20 April 2019</td><td>Protests</td><td>Peaceful protest</td><td>Gurgaon</td><td>0</td></tr><tr><th>22</th><td>20 April 2019</td><td>Protests</td><td>Peaceful protest</td><td>Budhal</td><td>0</td></tr><tr><th>23</th><td>20 April 2019</td><td>Protests</td><td>Peaceful protest</td><td>Jammu</td><td>0</td></tr><tr><th>24</th><td>20 April 2019</td><td>Protests</td><td>Peaceful protest</td><td>Barakar</td><td>0</td></tr><tr><th>25</th><td>20 April 2019</td><td>Riots</td><td>Mob violence</td><td>Rajganj</td><td>0</td></tr><tr><th>26</th><td>20 April 2019</td><td>Riots</td><td>Mob violence</td><td>Sualkuchi</td><td>0</td></tr><tr><th>27</th><td>20 April 2019</td><td>Riots</td><td>Mob violence</td><td>Litan</td><td>0</td></tr><tr><th>28</th><td>20 April 2019</td><td>Riots</td><td>Mob violence</td><td>Ahmadpur</td><td>0</td></tr><tr><th>29</th><td>20 April 2019</td><td>Riots</td><td>Mob violence</td><td>Kailashahar</td><td>0</td></tr><tr><th>30</th><td>20 April 2019</td><td>Riots</td><td>Mob violence</td><td>Kalimpong</td><td>0</td></tr><tr><th>&vellip;</th><td>&vellip;</td><td>&vellip;</td><td>&vellip;</td><td>&vellip;</td><td>&vellip;</td></tr></tbody></table></div>"
      ],
      "text/latex": [
       "\\begin{tabular}{r|cccccc}\n",
       "\t& event\\_date & event\\_type & sub\\_event\\_type & location & fatalities & \\\\\n",
       "\t\\hline\n",
       "\t& String31 & String31 & String63 & String31 & Int64 & \\\\\n",
       "\t\\hline\n",
       "\t1 & 20 April 2019 & Protests & Peaceful protest & Gidderbaha & 0 & $\\dots$ \\\\\n",
       "\t2 & 20 April 2019 & Protests & Peaceful protest & Ludhiana & 0 & $\\dots$ \\\\\n",
       "\t3 & 20 April 2019 & Protests & Peaceful protest & Nakodar & 0 & $\\dots$ \\\\\n",
       "\t4 & 20 April 2019 & Protests & Peaceful protest & Pathankot & 0 & $\\dots$ \\\\\n",
       "\t5 & 20 April 2019 & Protests & Peaceful protest & Hyderabad & 0 & $\\dots$ \\\\\n",
       "\t6 & 20 April 2019 & Protests & Peaceful protest & Vijaypur & 0 & $\\dots$ \\\\\n",
       "\t7 & 20 April 2019 & Violence against civilians & Attack & Bijbehara & 0 & $\\dots$ \\\\\n",
       "\t8 & 20 April 2019 & Protests & Peaceful protest & Kishtwar & 0 & $\\dots$ \\\\\n",
       "\t9 & 20 April 2019 & Protests & Peaceful protest & Madurai & 0 & $\\dots$ \\\\\n",
       "\t10 & 20 April 2019 & Protests & Peaceful protest & Aranthangi & 0 & $\\dots$ \\\\\n",
       "\t11 & 20 April 2019 & Protests & Peaceful protest & Gandarvakottai & 0 & $\\dots$ \\\\\n",
       "\t12 & 20 April 2019 & Protests & Peaceful protest & Annavasal & 0 & $\\dots$ \\\\\n",
       "\t13 & 20 April 2019 & Protests & Peaceful protest & Illuppur & 0 & $\\dots$ \\\\\n",
       "\t14 & 20 April 2019 & Protests & Peaceful protest & Pudukkottai & 0 & $\\dots$ \\\\\n",
       "\t15 & 20 April 2019 & Protests & Peaceful protest & Sivaganga & 0 & $\\dots$ \\\\\n",
       "\t16 & 20 April 2019 & Protests & Peaceful protest & Pudukkottai & 0 & $\\dots$ \\\\\n",
       "\t17 & 20 April 2019 & Protests & Peaceful protest & Singampunari & 0 & $\\dots$ \\\\\n",
       "\t18 & 20 April 2019 & Protests & Peaceful protest & Secunderabad & 0 & $\\dots$ \\\\\n",
       "\t19 & 20 April 2019 & Battles & Armed clash & Pamed & 2 & $\\dots$ \\\\\n",
       "\t20 & 20 April 2019 & Violence against civilians & Attack & Sitamai & 3 & $\\dots$ \\\\\n",
       "\t21 & 20 April 2019 & Protests & Peaceful protest & Gurgaon & 0 & $\\dots$ \\\\\n",
       "\t22 & 20 April 2019 & Protests & Peaceful protest & Budhal & 0 & $\\dots$ \\\\\n",
       "\t23 & 20 April 2019 & Protests & Peaceful protest & Jammu & 0 & $\\dots$ \\\\\n",
       "\t24 & 20 April 2019 & Protests & Peaceful protest & Barakar & 0 & $\\dots$ \\\\\n",
       "\t25 & 20 April 2019 & Riots & Mob violence & Rajganj & 0 & $\\dots$ \\\\\n",
       "\t26 & 20 April 2019 & Riots & Mob violence & Sualkuchi & 0 & $\\dots$ \\\\\n",
       "\t27 & 20 April 2019 & Riots & Mob violence & Litan & 0 & $\\dots$ \\\\\n",
       "\t28 & 20 April 2019 & Riots & Mob violence & Ahmadpur & 0 & $\\dots$ \\\\\n",
       "\t29 & 20 April 2019 & Riots & Mob violence & Kailashahar & 0 & $\\dots$ \\\\\n",
       "\t30 & 20 April 2019 & Riots & Mob violence & Kalimpong & 0 & $\\dots$ \\\\\n",
       "\t$\\dots$ & $\\dots$ & $\\dots$ & $\\dots$ & $\\dots$ & $\\dots$ &  \\\\\n",
       "\\end{tabular}\n"
      ],
      "text/plain": [
       "\u001b[1m43×7 DataFrame\u001b[0m\n",
       "\u001b[1m Row \u001b[0m│\u001b[1m event_date    \u001b[0m\u001b[1m event_type                 \u001b[0m\u001b[1m sub_event_type   \u001b[0m\u001b[1m location  \u001b[0m ⋯\n",
       "\u001b[1m     \u001b[0m│\u001b[90m String31      \u001b[0m\u001b[90m String31                   \u001b[0m\u001b[90m String63         \u001b[0m\u001b[90m String31  \u001b[0m ⋯\n",
       "─────┼──────────────────────────────────────────────────────────────────────────\n",
       "   1 │ 20 April 2019  Protests                    Peaceful protest  Gidderbaha ⋯\n",
       "   2 │ 20 April 2019  Protests                    Peaceful protest  Ludhiana\n",
       "   3 │ 20 April 2019  Protests                    Peaceful protest  Nakodar\n",
       "   4 │ 20 April 2019  Protests                    Peaceful protest  Pathankot\n",
       "   5 │ 20 April 2019  Protests                    Peaceful protest  Hyderabad  ⋯\n",
       "   6 │ 20 April 2019  Protests                    Peaceful protest  Vijaypur\n",
       "   7 │ 20 April 2019  Violence against civilians  Attack            Bijbehara\n",
       "   8 │ 20 April 2019  Protests                    Peaceful protest  Kishtwar\n",
       "   9 │ 20 April 2019  Protests                    Peaceful protest  Madurai    ⋯\n",
       "  10 │ 20 April 2019  Protests                    Peaceful protest  Aranthangi\n",
       "  11 │ 20 April 2019  Protests                    Peaceful protest  Gandarvako\n",
       "  ⋮  │       ⋮                    ⋮                      ⋮                  ⋮  ⋱\n",
       "  34 │ 20 April 2019  Protests                    Peaceful protest  Madurai\n",
       "  35 │ 20 April 2019  Violence against civilians  Attack            Bahanaga   ⋯\n",
       "  36 │ 20 April 2019  Protests                    Peaceful protest  Chandigarh\n",
       "  37 │ 20 April 2019  Protests                    Peaceful protest  Delhi - Ne\n",
       "  38 │ 20 April 2019  Protests                    Peaceful protest  Bengaluru\n",
       "  39 │ 20 April 2019  Protests                    Peaceful protest  Srinagar   ⋯\n",
       "  40 │ 20 April 2019  Protests                    Peaceful protest  Bhadarwah\n",
       "  41 │ 20 April 2019  Violence against civilians  Sexual violence   Barakar\n",
       "  42 │ 20 April 2019  Protests                    Peaceful protest  Ponparappi\n",
       "  43 │ 20 April 2019  Violence against civilians  Attack            Trehgam    ⋯\n",
       "\u001b[36m                                                   4 columns and 22 rows omitted\u001b[0m"
      ]
     },
     "execution_count": 55,
     "metadata": {},
     "output_type": "execute_result"
    }
   ],
   "source": [
    "data_per_day"
   ]
  },
  {
   "cell_type": "code",
   "execution_count": null,
   "id": "7582c417-4aab-482d-8d4c-0c93a2c65c29",
   "metadata": {},
   "outputs": [],
   "source": []
  }
 ],
 "metadata": {
  "kernelspec": {
   "display_name": "Julia 1.7.2",
   "language": "julia",
   "name": "julia-1.7"
  },
  "language_info": {
   "file_extension": ".jl",
   "mimetype": "application/julia",
   "name": "julia",
   "version": "1.7.2"
  }
 },
 "nbformat": 4,
 "nbformat_minor": 5
}
