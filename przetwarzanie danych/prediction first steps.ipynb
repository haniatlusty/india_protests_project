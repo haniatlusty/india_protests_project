{
 "cells": [
  {
   "cell_type": "code",
   "execution_count": 6,
   "id": "3c71165c-8942-4a4f-98f4-0502fd38e1ad",
   "metadata": {},
   "outputs": [],
   "source": [
    "using StatsKit, Query, Dates, VegaLite;"
   ]
  },
  {
   "cell_type": "code",
   "execution_count": 7,
   "id": "c29e7d3a-3d57-497e-be46-179fc0ec9528",
   "metadata": {},
   "outputs": [],
   "source": [
    "df = CSV.read(\"../data/2016-2022.csv\", DataFrame);"
   ]
  },
  {
   "cell_type": "code",
   "execution_count": 8,
   "id": "f81f04c5",
   "metadata": {},
   "outputs": [],
   "source": [
    "#Przepraszam, ale muszę dodać kolumnę miesiące, aby potem było mi łatwiej z podziałem\n",
    "function add_months(data)\n",
    "    months = []\n",
    "    dates = data.event_date\n",
    "    dateformat = Dates.DateFormat(\"d U yyyy\")\n",
    "    dates = Dates.Date.(dates, dateformat)\n",
    "    for date in dates\n",
    "        push!(months, Dates.monthname(date))\n",
    "    end\n",
    "    data[!,\"month\"] = months\n",
    "end;"
   ]
  },
  {
   "cell_type": "code",
   "execution_count": 9,
   "id": "1f143528",
   "metadata": {},
   "outputs": [
    {
     "data": {
      "text/plain": [
       "107690-element Vector{Any}:\n",
       " \"March\"\n",
       " \"March\"\n",
       " \"March\"\n",
       " \"March\"\n",
       " \"March\"\n",
       " \"March\"\n",
       " \"March\"\n",
       " \"March\"\n",
       " \"March\"\n",
       " \"March\"\n",
       " \"March\"\n",
       " \"March\"\n",
       " \"March\"\n",
       " ⋮\n",
       " \"January\"\n",
       " \"January\"\n",
       " \"January\"\n",
       " \"January\"\n",
       " \"January\"\n",
       " \"January\"\n",
       " \"January\"\n",
       " \"January\"\n",
       " \"January\"\n",
       " \"January\"\n",
       " \"January\"\n",
       " \"January\""
      ]
     },
     "execution_count": 9,
     "metadata": {},
     "output_type": "execute_result"
    }
   ],
   "source": [
    "add_months(df)"
   ]
  },
  {
   "cell_type": "code",
   "execution_count": 10,
   "id": "48b3fd39",
   "metadata": {},
   "outputs": [
    {
     "data": {
      "text/html": [
       "<div class=\"data-frame\"><p>107,690 rows × 32 columns (omitted printing of 25 columns)</p><table class=\"data-frame\"><thead><tr><th></th><th>data_id</th><th>iso</th><th>event_id_cnty</th><th>event_id_no_cnty</th><th>event_date</th><th>year</th><th>time_precision</th></tr><tr><th></th><th title=\"Int64\">Int64</th><th title=\"Int64\">Int64</th><th title=\"String15\">String15</th><th title=\"Float64\">Float64</th><th title=\"String31\">String31</th><th title=\"Int64\">Int64</th><th title=\"Int64\">Int64</th></tr></thead><tbody><tr><th>1</th><td>8912977</td><td>356</td><td>IND107923</td><td>107923.0</td><td>18 March 2022</td><td>2022</td><td>1</td></tr><tr><th>2</th><td>8912990</td><td>356</td><td>IND107846</td><td>107846.0</td><td>18 March 2022</td><td>2022</td><td>1</td></tr><tr><th>3</th><td>8913012</td><td>356</td><td>IND107941</td><td>107941.0</td><td>18 March 2022</td><td>2022</td><td>1</td></tr><tr><th>4</th><td>8913089</td><td>356</td><td>IND107842</td><td>107842.0</td><td>18 March 2022</td><td>2022</td><td>1</td></tr><tr><th>5</th><td>8913091</td><td>356</td><td>IND107850</td><td>107850.0</td><td>18 March 2022</td><td>2022</td><td>1</td></tr><tr><th>6</th><td>8913095</td><td>356</td><td>IND107873</td><td>107873.0</td><td>18 March 2022</td><td>2022</td><td>1</td></tr><tr><th>7</th><td>8913119</td><td>356</td><td>IND107754</td><td>107754.0</td><td>18 March 2022</td><td>2022</td><td>2</td></tr><tr><th>8</th><td>8913123</td><td>356</td><td>IND107752</td><td>107752.0</td><td>18 March 2022</td><td>2022</td><td>2</td></tr><tr><th>9</th><td>8913124</td><td>356</td><td>IND107723</td><td>107723.0</td><td>18 March 2022</td><td>2022</td><td>2</td></tr><tr><th>10</th><td>8913127</td><td>356</td><td>IND107724</td><td>107724.0</td><td>18 March 2022</td><td>2022</td><td>2</td></tr><tr><th>11</th><td>8913129</td><td>356</td><td>IND107722</td><td>107722.0</td><td>18 March 2022</td><td>2022</td><td>2</td></tr><tr><th>12</th><td>8913272</td><td>356</td><td>IND107739</td><td>107739.0</td><td>18 March 2022</td><td>2022</td><td>1</td></tr><tr><th>13</th><td>8913276</td><td>356</td><td>IND107733</td><td>107733.0</td><td>18 March 2022</td><td>2022</td><td>1</td></tr><tr><th>14</th><td>8913277</td><td>356</td><td>IND107757</td><td>107757.0</td><td>18 March 2022</td><td>2022</td><td>1</td></tr><tr><th>15</th><td>8913280</td><td>356</td><td>IND107735</td><td>107735.0</td><td>18 March 2022</td><td>2022</td><td>1</td></tr><tr><th>16</th><td>8913297</td><td>356</td><td>IND107822</td><td>107822.0</td><td>18 March 2022</td><td>2022</td><td>1</td></tr><tr><th>17</th><td>8913300</td><td>356</td><td>IND107823</td><td>107823.0</td><td>18 March 2022</td><td>2022</td><td>1</td></tr><tr><th>18</th><td>8912924</td><td>356</td><td>IND107784</td><td>107784.0</td><td>17 March 2022</td><td>2022</td><td>1</td></tr><tr><th>19</th><td>8912926</td><td>356</td><td>IND107795</td><td>107795.0</td><td>17 March 2022</td><td>2022</td><td>1</td></tr><tr><th>20</th><td>8912938</td><td>356</td><td>IND107864</td><td>107864.0</td><td>17 March 2022</td><td>2022</td><td>1</td></tr><tr><th>21</th><td>8912973</td><td>356</td><td>IND107814</td><td>107814.0</td><td>17 March 2022</td><td>2022</td><td>1</td></tr><tr><th>22</th><td>8913028</td><td>356</td><td>IND107810</td><td>107810.0</td><td>17 March 2022</td><td>2022</td><td>1</td></tr><tr><th>23</th><td>8913031</td><td>356</td><td>IND107811</td><td>107811.0</td><td>17 March 2022</td><td>2022</td><td>1</td></tr><tr><th>24</th><td>8913084</td><td>356</td><td>IND107782</td><td>107782.0</td><td>17 March 2022</td><td>2022</td><td>1</td></tr><tr><th>25</th><td>8913096</td><td>356</td><td>IND107726</td><td>107726.0</td><td>17 March 2022</td><td>2022</td><td>1</td></tr><tr><th>26</th><td>8913108</td><td>356</td><td>IND107734</td><td>107734.0</td><td>17 March 2022</td><td>2022</td><td>1</td></tr><tr><th>27</th><td>8913118</td><td>356</td><td>IND107925</td><td>107925.0</td><td>17 March 2022</td><td>2022</td><td>1</td></tr><tr><th>28</th><td>8913133</td><td>356</td><td>IND107913</td><td>107913.0</td><td>17 March 2022</td><td>2022</td><td>1</td></tr><tr><th>29</th><td>8913143</td><td>356</td><td>IND107796</td><td>107796.0</td><td>17 March 2022</td><td>2022</td><td>1</td></tr><tr><th>30</th><td>8913159</td><td>356</td><td>IND107771</td><td>107771.0</td><td>17 March 2022</td><td>2022</td><td>1</td></tr><tr><th>&vellip;</th><td>&vellip;</td><td>&vellip;</td><td>&vellip;</td><td>&vellip;</td><td>&vellip;</td><td>&vellip;</td><td>&vellip;</td></tr></tbody></table></div>"
      ],
      "text/latex": [
       "\\begin{tabular}{r|cccccccc}\n",
       "\t& data\\_id & iso & event\\_id\\_cnty & event\\_id\\_no\\_cnty & event\\_date & year & time\\_precision & \\\\\n",
       "\t\\hline\n",
       "\t& Int64 & Int64 & String15 & Float64 & String31 & Int64 & Int64 & \\\\\n",
       "\t\\hline\n",
       "\t1 & 8912977 & 356 & IND107923 & 107923.0 & 18 March 2022 & 2022 & 1 & $\\dots$ \\\\\n",
       "\t2 & 8912990 & 356 & IND107846 & 107846.0 & 18 March 2022 & 2022 & 1 & $\\dots$ \\\\\n",
       "\t3 & 8913012 & 356 & IND107941 & 107941.0 & 18 March 2022 & 2022 & 1 & $\\dots$ \\\\\n",
       "\t4 & 8913089 & 356 & IND107842 & 107842.0 & 18 March 2022 & 2022 & 1 & $\\dots$ \\\\\n",
       "\t5 & 8913091 & 356 & IND107850 & 107850.0 & 18 March 2022 & 2022 & 1 & $\\dots$ \\\\\n",
       "\t6 & 8913095 & 356 & IND107873 & 107873.0 & 18 March 2022 & 2022 & 1 & $\\dots$ \\\\\n",
       "\t7 & 8913119 & 356 & IND107754 & 107754.0 & 18 March 2022 & 2022 & 2 & $\\dots$ \\\\\n",
       "\t8 & 8913123 & 356 & IND107752 & 107752.0 & 18 March 2022 & 2022 & 2 & $\\dots$ \\\\\n",
       "\t9 & 8913124 & 356 & IND107723 & 107723.0 & 18 March 2022 & 2022 & 2 & $\\dots$ \\\\\n",
       "\t10 & 8913127 & 356 & IND107724 & 107724.0 & 18 March 2022 & 2022 & 2 & $\\dots$ \\\\\n",
       "\t11 & 8913129 & 356 & IND107722 & 107722.0 & 18 March 2022 & 2022 & 2 & $\\dots$ \\\\\n",
       "\t12 & 8913272 & 356 & IND107739 & 107739.0 & 18 March 2022 & 2022 & 1 & $\\dots$ \\\\\n",
       "\t13 & 8913276 & 356 & IND107733 & 107733.0 & 18 March 2022 & 2022 & 1 & $\\dots$ \\\\\n",
       "\t14 & 8913277 & 356 & IND107757 & 107757.0 & 18 March 2022 & 2022 & 1 & $\\dots$ \\\\\n",
       "\t15 & 8913280 & 356 & IND107735 & 107735.0 & 18 March 2022 & 2022 & 1 & $\\dots$ \\\\\n",
       "\t16 & 8913297 & 356 & IND107822 & 107822.0 & 18 March 2022 & 2022 & 1 & $\\dots$ \\\\\n",
       "\t17 & 8913300 & 356 & IND107823 & 107823.0 & 18 March 2022 & 2022 & 1 & $\\dots$ \\\\\n",
       "\t18 & 8912924 & 356 & IND107784 & 107784.0 & 17 March 2022 & 2022 & 1 & $\\dots$ \\\\\n",
       "\t19 & 8912926 & 356 & IND107795 & 107795.0 & 17 March 2022 & 2022 & 1 & $\\dots$ \\\\\n",
       "\t20 & 8912938 & 356 & IND107864 & 107864.0 & 17 March 2022 & 2022 & 1 & $\\dots$ \\\\\n",
       "\t21 & 8912973 & 356 & IND107814 & 107814.0 & 17 March 2022 & 2022 & 1 & $\\dots$ \\\\\n",
       "\t22 & 8913028 & 356 & IND107810 & 107810.0 & 17 March 2022 & 2022 & 1 & $\\dots$ \\\\\n",
       "\t23 & 8913031 & 356 & IND107811 & 107811.0 & 17 March 2022 & 2022 & 1 & $\\dots$ \\\\\n",
       "\t24 & 8913084 & 356 & IND107782 & 107782.0 & 17 March 2022 & 2022 & 1 & $\\dots$ \\\\\n",
       "\t25 & 8913096 & 356 & IND107726 & 107726.0 & 17 March 2022 & 2022 & 1 & $\\dots$ \\\\\n",
       "\t26 & 8913108 & 356 & IND107734 & 107734.0 & 17 March 2022 & 2022 & 1 & $\\dots$ \\\\\n",
       "\t27 & 8913118 & 356 & IND107925 & 107925.0 & 17 March 2022 & 2022 & 1 & $\\dots$ \\\\\n",
       "\t28 & 8913133 & 356 & IND107913 & 107913.0 & 17 March 2022 & 2022 & 1 & $\\dots$ \\\\\n",
       "\t29 & 8913143 & 356 & IND107796 & 107796.0 & 17 March 2022 & 2022 & 1 & $\\dots$ \\\\\n",
       "\t30 & 8913159 & 356 & IND107771 & 107771.0 & 17 March 2022 & 2022 & 1 & $\\dots$ \\\\\n",
       "\t$\\dots$ & $\\dots$ & $\\dots$ & $\\dots$ & $\\dots$ & $\\dots$ & $\\dots$ & $\\dots$ &  \\\\\n",
       "\\end{tabular}\n"
      ],
      "text/plain": [
       "\u001b[1m107690×32 DataFrame\u001b[0m\n",
       "\u001b[1m    Row \u001b[0m│\u001b[1m data_id \u001b[0m\u001b[1m iso   \u001b[0m\u001b[1m event_id_cnty \u001b[0m\u001b[1m event_id_no_cnty \u001b[0m\u001b[1m event_date      \u001b[0m\u001b[1m ye\u001b[0m ⋯\n",
       "\u001b[1m        \u001b[0m│\u001b[90m Int64   \u001b[0m\u001b[90m Int64 \u001b[0m\u001b[90m String15      \u001b[0m\u001b[90m Float64          \u001b[0m\u001b[90m String31        \u001b[0m\u001b[90m In\u001b[0m ⋯\n",
       "────────┼───────────────────────────────────────────────────────────────────────\n",
       "      1 │ 8912977    356  IND107923              107923.0  18 March 2022     2 ⋯\n",
       "      2 │ 8912990    356  IND107846              107846.0  18 March 2022     2\n",
       "      3 │ 8913012    356  IND107941              107941.0  18 March 2022     2\n",
       "      4 │ 8913089    356  IND107842              107842.0  18 March 2022     2\n",
       "      5 │ 8913091    356  IND107850              107850.0  18 March 2022     2 ⋯\n",
       "      6 │ 8913095    356  IND107873              107873.0  18 March 2022     2\n",
       "      7 │ 8913119    356  IND107754              107754.0  18 March 2022     2\n",
       "      8 │ 8913123    356  IND107752              107752.0  18 March 2022     2\n",
       "      9 │ 8913124    356  IND107723              107723.0  18 March 2022     2 ⋯\n",
       "     10 │ 8913127    356  IND107724              107724.0  18 March 2022     2\n",
       "     11 │ 8913129    356  IND107722              107722.0  18 March 2022     2\n",
       "   ⋮    │    ⋮       ⋮          ⋮               ⋮                 ⋮            ⋱\n",
       " 107681 │ 5488453    356  IND4                        4.0  01 January 2016   2\n",
       " 107682 │ 5491245    356  IND5                        5.0  01 January 2016   2 ⋯\n",
       " 107683 │ 5492174    356  IND6                        6.0  01 January 2016   2\n",
       " 107684 │ 5492810    356  IND7                        7.0  01 January 2016   2\n",
       " 107685 │ 5493466    356  IND8                        8.0  01 January 2016   2\n",
       " 107686 │ 5494159    356  IND9                        9.0  01 January 2016   2 ⋯\n",
       " 107687 │ 5603486    356  IND51303                51303.0  01 January 2016   2\n",
       " 107688 │ 6072644    356  IND49232                49232.0  01 January 2016   2\n",
       " 107689 │ 6257234    356  IND10                      10.0  01 January 2016   2\n",
       " 107690 │ 8543376    356  IND49233                49233.0  01 January 2016   2 ⋯\n",
       "\u001b[36m                                              27 columns and 107669 rows omitted\u001b[0m"
      ]
     },
     "execution_count": 10,
     "metadata": {},
     "output_type": "execute_result"
    }
   ],
   "source": [
    "df"
   ]
  },
  {
   "cell_type": "markdown",
   "id": "1e4e86e2-8ba0-40e7-9c81-1f0be512b015",
   "metadata": {},
   "source": [
    "---"
   ]
  },
  {
   "cell_type": "markdown",
   "id": "528ad4e9-d5cf-4677-b8e8-019172552f70",
   "metadata": {},
   "source": [
    "## Segregowanie danych"
   ]
  },
  {
   "cell_type": "markdown",
   "id": "d7b68cb3-67c9-4110-9418-3b977327cb1c",
   "metadata": {},
   "source": [
    "---"
   ]
  },
  {
   "cell_type": "code",
   "execution_count": 82,
   "id": "1b4ee940-6ef2-4248-858c-18e0bff12d7d",
   "metadata": {},
   "outputs": [],
   "source": [
    "function year_data(data, year, location)\n",
    "    df = @from i in data begin\n",
    "        @where i.year == year\n",
    "        @where i.location == location\n",
    "        @select {i.event_date, i.event_type, i.sub_event_type, i.month}\n",
    "        @collect DataFrame\n",
    "    end\n",
    "    return df\n",
    "end;"
   ]
  },
  {
   "cell_type": "code",
   "execution_count": 44,
   "id": "4a5f49e3",
   "metadata": {},
   "outputs": [],
   "source": [
    "function only_year_data(data, year)\n",
    "    df = @from i in data begin\n",
    "        @where i.year == year\n",
    "        @select {i.event_date, i.event_type, i.sub_event_type, i.location}\n",
    "        @collect DataFrame\n",
    "    end\n",
    "    return df\n",
    "end;"
   ]
  },
  {
   "cell_type": "code",
   "execution_count": null,
   "id": "e5d76e1e",
   "metadata": {},
   "outputs": [],
   "source": []
  },
  {
   "cell_type": "code",
   "execution_count": 29,
   "id": "da2e9ea0-36d9-45fa-aa94-4b257924b989",
   "metadata": {},
   "outputs": [],
   "source": [
    "function plot_year_city(data, year, location, sub=false)\n",
    "    dt = year_data(data, year, location)                                                # wczytanie danych dla danego miasta i danego roku\n",
    "    dates = Dates.value.(Date.(dt.event_date, dateformat\"d U y\").-Date(year,1,1))       # przekształcenie dat na dni konkretnego roku\n",
    "    select!(dt, Not(:event_date)); insertcols!(dt, 1, :time => dates);                  # podmienie kolumny dat w df\n",
    "    sort!(dt)                                                                           # sortowanie df\n",
    "    n = [length(sub ? d.sub_event_type : d.event_type) for d in groupby(dt, :time)];    # ilość wydarzeń danego dnia\n",
    "    t = unique(dt.time);                                                                # odpowiadająca lista dni (w kolejności)\n",
    "    plot = @vlplot(\n",
    "        height=600,\n",
    "        width=1200,\n",
    "        :bar,\n",
    "        x=t,\n",
    "        y=n,\n",
    "        title = location*\" in \"*string(year)\n",
    "    )\n",
    "    return ((t, n), plot, isleapyear(year))\n",
    "end;"
   ]
  },
  {
   "cell_type": "code",
   "execution_count": 30,
   "id": "404f99c1-e7df-4c02-8876-67e2511f3181",
   "metadata": {},
   "outputs": [],
   "source": [
    "dat, plot, leap = plot_year_city(df, 2018, \"Imphal\");"
   ]
  },
  {
   "cell_type": "code",
   "execution_count": 31,
   "id": "919f3188-ee88-4302-9515-168202b5091a",
   "metadata": {},
   "outputs": [
    {
     "data": {
      "application/vnd.vegalite.v4+json": {
       "data": {
        "values": [
         {
          "x": 8,
          "y": 1
         },
         {
          "x": 10,
          "y": 1
         },
         {
          "x": 14,
          "y": 1
         },
         {
          "x": 15,
          "y": 2
         },
         {
          "x": 16,
          "y": 1
         },
         {
          "x": 18,
          "y": 1
         },
         {
          "x": 20,
          "y": 2
         },
         {
          "x": 22,
          "y": 1
         },
         {
          "x": 26,
          "y": 2
         },
         {
          "x": 27,
          "y": 2
         },
         {
          "x": 29,
          "y": 1
         },
         {
          "x": 30,
          "y": 2
         },
         {
          "x": 31,
          "y": 1
         },
         {
          "x": 35,
          "y": 3
         },
         {
          "x": 36,
          "y": 3
         },
         {
          "x": 37,
          "y": 1
         },
         {
          "x": 57,
          "y": 1
         },
         {
          "x": 58,
          "y": 1
         },
         {
          "x": 64,
          "y": 2
         },
         {
          "x": 65,
          "y": 1
         },
         {
          "x": 66,
          "y": 2
         },
         {
          "x": 70,
          "y": 2
         },
         {
          "x": 72,
          "y": 1
         },
         {
          "x": 78,
          "y": 1
         },
         {
          "x": 80,
          "y": 1
         },
         {
          "x": 81,
          "y": 1
         },
         {
          "x": 91,
          "y": 1
         },
         {
          "x": 94,
          "y": 1
         },
         {
          "x": 96,
          "y": 1
         },
         {
          "x": 97,
          "y": 2
         },
         {
          "x": 98,
          "y": 2
         },
         {
          "x": 99,
          "y": 2
         },
         {
          "x": 101,
          "y": 2
         },
         {
          "x": 102,
          "y": 3
         },
         {
          "x": 104,
          "y": 1
         },
         {
          "x": 105,
          "y": 2
         },
         {
          "x": 106,
          "y": 1
         },
         {
          "x": 108,
          "y": 1
         },
         {
          "x": 109,
          "y": 1
         },
         {
          "x": 110,
          "y": 2
         },
         {
          "x": 112,
          "y": 1
         },
         {
          "x": 113,
          "y": 2
         },
         {
          "x": 114,
          "y": 1
         },
         {
          "x": 115,
          "y": 2
         },
         {
          "x": 116,
          "y": 2
         },
         {
          "x": 117,
          "y": 1
         },
         {
          "x": 119,
          "y": 2
         },
         {
          "x": 121,
          "y": 3
         },
         {
          "x": 123,
          "y": 1
         },
         {
          "x": 124,
          "y": 1
         },
         {
          "x": 126,
          "y": 2
         },
         {
          "x": 127,
          "y": 1
         },
         {
          "x": 128,
          "y": 4
         },
         {
          "x": 129,
          "y": 3
         },
         {
          "x": 130,
          "y": 1
         },
         {
          "x": 131,
          "y": 1
         },
         {
          "x": 132,
          "y": 1
         },
         {
          "x": 133,
          "y": 2
         },
         {
          "x": 134,
          "y": 1
         },
         {
          "x": 136,
          "y": 2
         },
         {
          "x": 140,
          "y": 2
         },
         {
          "x": 141,
          "y": 1
         },
         {
          "x": 142,
          "y": 2
         },
         {
          "x": 144,
          "y": 1
         },
         {
          "x": 145,
          "y": 2
         },
         {
          "x": 149,
          "y": 2
         },
         {
          "x": 154,
          "y": 2
         },
         {
          "x": 155,
          "y": 2
         },
         {
          "x": 156,
          "y": 4
         },
         {
          "x": 158,
          "y": 1
         },
         {
          "x": 159,
          "y": 1
         },
         {
          "x": 160,
          "y": 2
         },
         {
          "x": 161,
          "y": 1
         },
         {
          "x": 162,
          "y": 1
         },
         {
          "x": 170,
          "y": 1
         },
         {
          "x": 171,
          "y": 1
         },
         {
          "x": 172,
          "y": 1
         },
         {
          "x": 173,
          "y": 2
         },
         {
          "x": 176,
          "y": 1
         },
         {
          "x": 179,
          "y": 1
         },
         {
          "x": 180,
          "y": 1
         },
         {
          "x": 181,
          "y": 1
         },
         {
          "x": 182,
          "y": 2
         },
         {
          "x": 184,
          "y": 3
         },
         {
          "x": 185,
          "y": 2
         },
         {
          "x": 186,
          "y": 1
         },
         {
          "x": 187,
          "y": 3
         },
         {
          "x": 188,
          "y": 1
         },
         {
          "x": 189,
          "y": 3
         },
         {
          "x": 191,
          "y": 1
         },
         {
          "x": 193,
          "y": 1
         },
         {
          "x": 194,
          "y": 1
         },
         {
          "x": 195,
          "y": 1
         },
         {
          "x": 196,
          "y": 3
         },
         {
          "x": 197,
          "y": 6
         },
         {
          "x": 198,
          "y": 2
         },
         {
          "x": 199,
          "y": 1
         },
         {
          "x": 200,
          "y": 1
         },
         {
          "x": 201,
          "y": 2
         },
         {
          "x": 203,
          "y": 3
         },
         {
          "x": 204,
          "y": 1
         },
         {
          "x": 207,
          "y": 2
         },
         {
          "x": 208,
          "y": 5
         },
         {
          "x": 209,
          "y": 2
         },
         {
          "x": 210,
          "y": 3
         },
         {
          "x": 211,
          "y": 3
         },
         {
          "x": 212,
          "y": 2
         },
         {
          "x": 213,
          "y": 1
         },
         {
          "x": 214,
          "y": 3
         },
         {
          "x": 215,
          "y": 1
         },
         {
          "x": 216,
          "y": 1
         },
         {
          "x": 217,
          "y": 2
         },
         {
          "x": 218,
          "y": 2
         },
         {
          "x": 219,
          "y": 3
         },
         {
          "x": 220,
          "y": 6
         },
         {
          "x": 221,
          "y": 2
         },
         {
          "x": 222,
          "y": 4
         },
         {
          "x": 223,
          "y": 1
         },
         {
          "x": 225,
          "y": 1
         },
         {
          "x": 227,
          "y": 1
         },
         {
          "x": 230,
          "y": 2
         },
         {
          "x": 232,
          "y": 7
         },
         {
          "x": 234,
          "y": 3
         },
         {
          "x": 235,
          "y": 3
         },
         {
          "x": 236,
          "y": 1
         },
         {
          "x": 237,
          "y": 3
         },
         {
          "x": 238,
          "y": 1
         },
         {
          "x": 241,
          "y": 2
         },
         {
          "x": 244,
          "y": 1
         },
         {
          "x": 245,
          "y": 1
         },
         {
          "x": 248,
          "y": 1
         },
         {
          "x": 249,
          "y": 2
         },
         {
          "x": 250,
          "y": 3
         },
         {
          "x": 252,
          "y": 1
         },
         {
          "x": 254,
          "y": 1
         },
         {
          "x": 259,
          "y": 1
         },
         {
          "x": 260,
          "y": 1
         },
         {
          "x": 262,
          "y": 2
         },
         {
          "x": 263,
          "y": 1
         },
         {
          "x": 266,
          "y": 4
         },
         {
          "x": 268,
          "y": 1
         },
         {
          "x": 269,
          "y": 2
         },
         {
          "x": 270,
          "y": 1
         },
         {
          "x": 271,
          "y": 1
         },
         {
          "x": 275,
          "y": 1
         },
         {
          "x": 276,
          "y": 1
         },
         {
          "x": 278,
          "y": 1
         },
         {
          "x": 279,
          "y": 1
         },
         {
          "x": 282,
          "y": 2
         },
         {
          "x": 291,
          "y": 1
         },
         {
          "x": 292,
          "y": 1
         },
         {
          "x": 296,
          "y": 1
         },
         {
          "x": 300,
          "y": 1
         },
         {
          "x": 303,
          "y": 1
         },
         {
          "x": 305,
          "y": 1
         },
         {
          "x": 306,
          "y": 1
         },
         {
          "x": 307,
          "y": 1
         },
         {
          "x": 310,
          "y": 1
         },
         {
          "x": 311,
          "y": 1
         },
         {
          "x": 314,
          "y": 1
         },
         {
          "x": 316,
          "y": 1
         },
         {
          "x": 319,
          "y": 1
         },
         {
          "x": 320,
          "y": 2
         },
         {
          "x": 331,
          "y": 1
         },
         {
          "x": 333,
          "y": 2
         },
         {
          "x": 335,
          "y": 1
         },
         {
          "x": 336,
          "y": 1
         },
         {
          "x": 337,
          "y": 1
         },
         {
          "x": 339,
          "y": 2
         },
         {
          "x": 341,
          "y": 2
         },
         {
          "x": 342,
          "y": 1
         },
         {
          "x": 345,
          "y": 2
         },
         {
          "x": 346,
          "y": 2
         },
         {
          "x": 348,
          "y": 1
         },
         {
          "x": 350,
          "y": 1
         },
         {
          "x": 354,
          "y": 1
         },
         {
          "x": 355,
          "y": 1
         },
         {
          "x": 356,
          "y": 1
         },
         {
          "x": 357,
          "y": 1
         },
         {
          "x": 359,
          "y": 1
         },
         {
          "x": 360,
          "y": 2
         },
         {
          "x": 362,
          "y": 2
         }
        ]
       },
       "encoding": {
        "x": {
         "field": "x",
         "title": null,
         "type": "quantitative"
        },
        "y": {
         "field": "y",
         "title": null,
         "type": "quantitative"
        }
       },
       "height": 600,
       "mark": "bar",
       "title": "Imphal in 2018",
       "width": 1200
      },
      "image/png": "[encoded data removed]",
      "image/svg+xml": [
       "<?xml version=\"1.0\" encoding=\"utf-8\"?>\n",
       "<!DOCTYPE svg PUBLIC \"-//W3C//DTD SVG 1.1//EN\" \"http://www.w3.org/Graphics/SVG/1.1/DTD/svg11.dtd\">\n",
       "<svg xmlns=\"http://www.w3.org/2000/svg\" xmlns:xlink=\"http://www.w3.org/1999/xlink\" version=\"1.1\" class=\"marks\" width=\"1233\" height=\"649\" viewBox=\"0 0 1233 649\"><rect width=\"1233\" height=\"649\" fill=\"white\"/><g fill=\"none\" stroke-miterlimit=\"10\" transform=\"translate(27,27)\"><g class=\"mark-group role-frame root\" role=\"graphics-object\" aria-roledescription=\"group mark container\"><g transform=\"translate(0,0)\"><path class=\"background\" aria-hidden=\"true\" d=\"M0.5,0.5h1200v600h-1200Z\" stroke=\"#ddd\"/><g><g class=\"mark-group role-axis\" aria-hidden=\"true\"><g transform=\"translate(0.5,600.5)\"><path class=\"background\" aria-hidden=\"true\" d=\"M0,0h0v0h0Z\" pointer-events=\"none\"/><g><g class=\"mark-rule role-axis-grid\" pointer-events=\"none\"><line transform=\"translate(0,-600)\" x2=\"0\" y2=\"600\" stroke=\"#ddd\" stroke-width=\"1\" opacity=\"1\"/><line transform=\"translate(30,-600)\" x2=\"0\" y2=\"600\" stroke=\"#ddd\" stroke-width=\"1\" opacity=\"1\"/><line transform=\"translate(60,-600)\" x2=\"0\" y2=\"600\" stroke=\"#ddd\" stroke-width=\"1\" opacity=\"1\"/><line transform=\"translate(90,-600)\" x2=\"0\" y2=\"600\" stroke=\"#ddd\" stroke-width=\"1\" opacity=\"1\"/><line transform=\"translate(120,-600)\" x2=\"0\" y2=\"600\" stroke=\"#ddd\" stroke-width=\"1\" opacity=\"1\"/><line transform=\"translate(150,-600)\" x2=\"0\" y2=\"600\" stroke=\"#ddd\" stroke-width=\"1\" opacity=\"1\"/><line transform=\"translate(180,-600)\" x2=\"0\" y2=\"600\" stroke=\"#ddd\" stroke-width=\"1\" opacity=\"1\"/><line transform=\"translate(210,-600)\" x2=\"0\" y2=\"600\" stroke=\"#ddd\" stroke-width=\"1\" opacity=\"1\"/><line transform=\"translate(240,-600)\" x2=\"0\" y2=\"600\" stroke=\"#ddd\" stroke-width=\"1\" opacity=\"1\"/><line transform=\"translate(270,-600)\" x2=\"0\" y2=\"600\" stroke=\"#ddd\" stroke-width=\"1\" opacity=\"1\"/><line transform=\"translate(300,-600)\" x2=\"0\" y2=\"600\" stroke=\"#ddd\" stroke-width=\"1\" opacity=\"1\"/><line transform=\"translate(330,-600)\" x2=\"0\" y2=\"600\" stroke=\"#ddd\" stroke-width=\"1\" opacity=\"1\"/><line transform=\"translate(360,-600)\" x2=\"0\" y2=\"600\" stroke=\"#ddd\" stroke-width=\"1\" opacity=\"1\"/><line transform=\"translate(390,-600)\" x2=\"0\" y2=\"600\" stroke=\"#ddd\" stroke-width=\"1\" opacity=\"1\"/><line transform=\"translate(420,-600)\" x2=\"0\" y2=\"600\" stroke=\"#ddd\" stroke-width=\"1\" opacity=\"1\"/><line transform=\"translate(450,-600)\" x2=\"0\" y2=\"600\" stroke=\"#ddd\" stroke-width=\"1\" opacity=\"1\"/><line transform=\"translate(480,-600)\" x2=\"0\" y2=\"600\" stroke=\"#ddd\" stroke-width=\"1\" opacity=\"1\"/><line transform=\"translate(510,-600)\" x2=\"0\" y2=\"600\" stroke=\"#ddd\" stroke-width=\"1\" opacity=\"1\"/><line transform=\"translate(540,-600)\" x2=\"0\" y2=\"600\" stroke=\"#ddd\" stroke-width=\"1\" opacity=\"1\"/><line transform=\"translate(570,-600)\" x2=\"0\" y2=\"600\" stroke=\"#ddd\" stroke-width=\"1\" opacity=\"1\"/><line transform=\"translate(600,-600)\" x2=\"0\" y2=\"600\" stroke=\"#ddd\" stroke-width=\"1\" opacity=\"1\"/><line transform=\"translate(630,-600)\" x2=\"0\" y2=\"600\" stroke=\"#ddd\" stroke-width=\"1\" opacity=\"1\"/><line transform=\"translate(660,-600)\" x2=\"0\" y2=\"600\" stroke=\"#ddd\" stroke-width=\"1\" opacity=\"1\"/><line transform=\"translate(690,-600)\" x2=\"0\" y2=\"600\" stroke=\"#ddd\" stroke-width=\"1\" opacity=\"1\"/><line transform=\"translate(720,-600)\" x2=\"0\" y2=\"600\" stroke=\"#ddd\" stroke-width=\"1\" opacity=\"1\"/><line transform=\"translate(750,-600)\" x2=\"0\" y2=\"600\" stroke=\"#ddd\" stroke-width=\"1\" opacity=\"1\"/><line transform=\"translate(780,-600)\" x2=\"0\" y2=\"600\" stroke=\"#ddd\" stroke-width=\"1\" opacity=\"1\"/><line transform=\"translate(810,-600)\" x2=\"0\" y2=\"600\" stroke=\"#ddd\" stroke-width=\"1\" opacity=\"1\"/><line transform=\"translate(840,-600)\" x2=\"0\" y2=\"600\" stroke=\"#ddd\" stroke-width=\"1\" opacity=\"1\"/><line transform=\"translate(870,-600)\" x2=\"0\" y2=\"600\" stroke=\"#ddd\" stroke-width=\"1\" opacity=\"1\"/><line transform=\"translate(900,-600)\" x2=\"0\" y2=\"600\" stroke=\"#ddd\" stroke-width=\"1\" opacity=\"1\"/><line transform=\"translate(930,-600)\" x2=\"0\" y2=\"600\" stroke=\"#ddd\" stroke-width=\"1\" opacity=\"1\"/><line transform=\"translate(960,-600)\" x2=\"0\" y2=\"600\" stroke=\"#ddd\" stroke-width=\"1\" opacity=\"1\"/><line transform=\"translate(990,-600)\" x2=\"0\" y2=\"600\" stroke=\"#ddd\" stroke-width=\"1\" opacity=\"1\"/><line transform=\"translate(1020,-600)\" x2=\"0\" y2=\"600\" stroke=\"#ddd\" stroke-width=\"1\" opacity=\"1\"/><line transform=\"translate(1050,-600)\" x2=\"0\" y2=\"600\" stroke=\"#ddd\" stroke-width=\"1\" opacity=\"1\"/><line transform=\"translate(1080,-600)\" x2=\"0\" y2=\"600\" stroke=\"#ddd\" stroke-width=\"1\" opacity=\"1\"/><line transform=\"translate(1110,-600)\" x2=\"0\" y2=\"600\" stroke=\"#ddd\" stroke-width=\"1\" opacity=\"1\"/><line transform=\"translate(1140,-600)\" x2=\"0\" y2=\"600\" stroke=\"#ddd\" stroke-width=\"1\" opacity=\"1\"/><line transform=\"translate(1170,-600)\" x2=\"0\" y2=\"600\" stroke=\"#ddd\" stroke-width=\"1\" opacity=\"1\"/><line transform=\"translate(1200,-600)\" x2=\"0\" y2=\"600\" stroke=\"#ddd\" stroke-width=\"1\" opacity=\"1\"/></g></g><path class=\"foreground\" aria-hidden=\"true\" d=\"\" pointer-events=\"none\" display=\"none\"/></g></g><g class=\"mark-group role-axis\" aria-hidden=\"true\"><g transform=\"translate(0.5,0.5)\"><path class=\"background\" aria-hidden=\"true\" d=\"M0,0h0v0h0Z\" pointer-events=\"none\"/><g><g class=\"mark-rule role-axis-grid\" pointer-events=\"none\"><line transform=\"translate(0,600)\" x2=\"1200\" y2=\"0\" stroke=\"#ddd\" stroke-width=\"1\" opacity=\"1\"/><line transform=\"translate(0,557)\" x2=\"1200\" y2=\"0\" stroke=\"#ddd\" stroke-width=\"1\" opacity=\"1\"/><line transform=\"translate(0,514)\" x2=\"1200\" y2=\"0\" stroke=\"#ddd\" stroke-width=\"1\" opacity=\"1\"/><line transform=\"translate(0,471)\" x2=\"1200\" y2=\"0\" stroke=\"#ddd\" stroke-width=\"1\" opacity=\"1\"/><line transform=\"translate(0,429)\" x2=\"1200\" y2=\"0\" stroke=\"#ddd\" stroke-width=\"1\" opacity=\"1\"/><line transform=\"translate(0,386)\" x2=\"1200\" y2=\"0\" stroke=\"#ddd\" stroke-width=\"1\" opacity=\"1\"/><line transform=\"translate(0,343)\" x2=\"1200\" y2=\"0\" stroke=\"#ddd\" stroke-width=\"1\" opacity=\"1\"/><line transform=\"translate(0,300)\" x2=\"1200\" y2=\"0\" stroke=\"#ddd\" stroke-width=\"1\" opacity=\"1\"/><line transform=\"translate(0,257)\" x2=\"1200\" y2=\"0\" stroke=\"#ddd\" stroke-width=\"1\" opacity=\"1\"/><line transform=\"translate(0,214)\" x2=\"1200\" y2=\"0\" stroke=\"#ddd\" stroke-width=\"1\" opacity=\"1\"/><line transform=\"translate(0,171)\" x2=\"1200\" y2=\"0\" stroke=\"#ddd\" stroke-width=\"1\" opacity=\"1\"/><line transform=\"translate(0,129)\" x2=\"1200\" y2=\"0\" stroke=\"#ddd\" stroke-width=\"1\" opacity=\"1\"/><line transform=\"translate(0,86)\" x2=\"1200\" y2=\"0\" stroke=\"#ddd\" stroke-width=\"1\" opacity=\"1\"/><line transform=\"translate(0,43)\" x2=\"1200\" y2=\"0\" stroke=\"#ddd\" stroke-width=\"1\" opacity=\"1\"/><line transform=\"translate(0,0)\" x2=\"1200\" y2=\"0\" stroke=\"#ddd\" stroke-width=\"1\" opacity=\"1\"/></g></g><path class=\"foreground\" aria-hidden=\"true\" d=\"\" pointer-events=\"none\" display=\"none\"/></g></g><g class=\"mark-group role-axis\" role=\"graphics-symbol\" aria-roledescription=\"axis\" aria-label=\"X-axis for a linear scale with values from 0 to 400\"><g transform=\"translate(0.5,600.5)\"><path class=\"background\" aria-hidden=\"true\" d=\"M0,0h0v0h0Z\" pointer-events=\"none\"/><g><g class=\"mark-rule role-axis-tick\" pointer-events=\"none\"><line transform=\"translate(0,0)\" x2=\"0\" y2=\"5\" stroke=\"#888\" stroke-width=\"1\" opacity=\"1\"/><line transform=\"translate(30,0)\" x2=\"0\" y2=\"5\" stroke=\"#888\" stroke-width=\"1\" opacity=\"1\"/><line transform=\"translate(60,0)\" x2=\"0\" y2=\"5\" stroke=\"#888\" stroke-width=\"1\" opacity=\"1\"/><line transform=\"translate(90,0)\" x2=\"0\" y2=\"5\" stroke=\"#888\" stroke-width=\"1\" opacity=\"1\"/><line transform=\"translate(120,0)\" x2=\"0\" y2=\"5\" stroke=\"#888\" stroke-width=\"1\" opacity=\"1\"/><line transform=\"translate(150,0)\" x2=\"0\" y2=\"5\" stroke=\"#888\" stroke-width=\"1\" opacity=\"1\"/><line transform=\"translate(180,0)\" x2=\"0\" y2=\"5\" stroke=\"#888\" stroke-width=\"1\" opacity=\"1\"/><line transform=\"translate(210,0)\" x2=\"0\" y2=\"5\" stroke=\"#888\" stroke-width=\"1\" opacity=\"1\"/><line transform=\"translate(240,0)\" x2=\"0\" y2=\"5\" stroke=\"#888\" stroke-width=\"1\" opacity=\"1\"/><line transform=\"translate(270,0)\" x2=\"0\" y2=\"5\" stroke=\"#888\" stroke-width=\"1\" opacity=\"1\"/><line transform=\"translate(300,0)\" x2=\"0\" y2=\"5\" stroke=\"#888\" stroke-width=\"1\" opacity=\"1\"/><line transform=\"translate(330,0)\" x2=\"0\" y2=\"5\" stroke=\"#888\" stroke-width=\"1\" opacity=\"1\"/><line transform=\"translate(360,0)\" x2=\"0\" y2=\"5\" stroke=\"#888\" stroke-width=\"1\" opacity=\"1\"/><line transform=\"translate(390,0)\" x2=\"0\" y2=\"5\" stroke=\"#888\" stroke-width=\"1\" opacity=\"1\"/><line transform=\"translate(420,0)\" x2=\"0\" y2=\"5\" stroke=\"#888\" stroke-width=\"1\" opacity=\"1\"/><line transform=\"translate(450,0)\" x2=\"0\" y2=\"5\" stroke=\"#888\" stroke-width=\"1\" opacity=\"1\"/><line transform=\"translate(480,0)\" x2=\"0\" y2=\"5\" stroke=\"#888\" stroke-width=\"1\" opacity=\"1\"/><line transform=\"translate(510,0)\" x2=\"0\" y2=\"5\" stroke=\"#888\" stroke-width=\"1\" opacity=\"1\"/><line transform=\"translate(540,0)\" x2=\"0\" y2=\"5\" stroke=\"#888\" stroke-width=\"1\" opacity=\"1\"/><line transform=\"translate(570,0)\" x2=\"0\" y2=\"5\" stroke=\"#888\" stroke-width=\"1\" opacity=\"1\"/><line transform=\"translate(600,0)\" x2=\"0\" y2=\"5\" stroke=\"#888\" stroke-width=\"1\" opacity=\"1\"/><line transform=\"translate(630,0)\" x2=\"0\" y2=\"5\" stroke=\"#888\" stroke-width=\"1\" opacity=\"1\"/><line transform=\"translate(660,0)\" x2=\"0\" y2=\"5\" stroke=\"#888\" stroke-width=\"1\" opacity=\"1\"/><line transform=\"translate(690,0)\" x2=\"0\" y2=\"5\" stroke=\"#888\" stroke-width=\"1\" opacity=\"1\"/><line transform=\"translate(720,0)\" x2=\"0\" y2=\"5\" stroke=\"#888\" stroke-width=\"1\" opacity=\"1\"/><line transform=\"translate(750,0)\" x2=\"0\" y2=\"5\" stroke=\"#888\" stroke-width=\"1\" opacity=\"1\"/><line transform=\"translate(780,0)\" x2=\"0\" y2=\"5\" stroke=\"#888\" stroke-width=\"1\" opacity=\"1\"/><line transform=\"translate(810,0)\" x2=\"0\" y2=\"5\" stroke=\"#888\" stroke-width=\"1\" opacity=\"1\"/><line transform=\"translate(840,0)\" x2=\"0\" y2=\"5\" stroke=\"#888\" stroke-width=\"1\" opacity=\"1\"/><line transform=\"translate(870,0)\" x2=\"0\" y2=\"5\" stroke=\"#888\" stroke-width=\"1\" opacity=\"1\"/><line transform=\"translate(900,0)\" x2=\"0\" y2=\"5\" stroke=\"#888\" stroke-width=\"1\" opacity=\"1\"/><line transform=\"translate(930,0)\" x2=\"0\" y2=\"5\" stroke=\"#888\" stroke-width=\"1\" opacity=\"1\"/><line transform=\"translate(960,0)\" x2=\"0\" y2=\"5\" stroke=\"#888\" stroke-width=\"1\" opacity=\"1\"/><line transform=\"translate(990,0)\" x2=\"0\" y2=\"5\" stroke=\"#888\" stroke-width=\"1\" opacity=\"1\"/><line transform=\"translate(1020,0)\" x2=\"0\" y2=\"5\" stroke=\"#888\" stroke-width=\"1\" opacity=\"1\"/><line transform=\"translate(1050,0)\" x2=\"0\" y2=\"5\" stroke=\"#888\" stroke-width=\"1\" opacity=\"1\"/><line transform=\"translate(1080,0)\" x2=\"0\" y2=\"5\" stroke=\"#888\" stroke-width=\"1\" opacity=\"1\"/><line transform=\"translate(1110,0)\" x2=\"0\" y2=\"5\" stroke=\"#888\" stroke-width=\"1\" opacity=\"1\"/><line transform=\"translate(1140,0)\" x2=\"0\" y2=\"5\" stroke=\"#888\" stroke-width=\"1\" opacity=\"1\"/><line transform=\"translate(1170,0)\" x2=\"0\" y2=\"5\" stroke=\"#888\" stroke-width=\"1\" opacity=\"1\"/><line transform=\"translate(1200,0)\" x2=\"0\" y2=\"5\" stroke=\"#888\" stroke-width=\"1\" opacity=\"1\"/></g><g class=\"mark-text role-axis-label\" pointer-events=\"none\"><text text-anchor=\"start\" transform=\"translate(0,15)\" font-family=\"sans-serif\" font-size=\"10px\" fill=\"#000\" opacity=\"1\">0</text><text text-anchor=\"middle\" transform=\"translate(30,15)\" font-family=\"sans-serif\" font-size=\"10px\" fill=\"#000\" opacity=\"1\">10</text><text text-anchor=\"middle\" transform=\"translate(60,15)\" font-family=\"sans-serif\" font-size=\"10px\" fill=\"#000\" opacity=\"1\">20</text><text text-anchor=\"middle\" transform=\"translate(90,15)\" font-family=\"sans-serif\" font-size=\"10px\" fill=\"#000\" opacity=\"1\">30</text><text text-anchor=\"middle\" transform=\"translate(120,15)\" font-family=\"sans-serif\" font-size=\"10px\" fill=\"#000\" opacity=\"1\">40</text><text text-anchor=\"middle\" transform=\"translate(150,15)\" font-family=\"sans-serif\" font-size=\"10px\" fill=\"#000\" opacity=\"1\">50</text><text text-anchor=\"middle\" transform=\"translate(180,15)\" font-family=\"sans-serif\" font-size=\"10px\" fill=\"#000\" opacity=\"1\">60</text><text text-anchor=\"middle\" transform=\"translate(210,15)\" font-family=\"sans-serif\" font-size=\"10px\" fill=\"#000\" opacity=\"1\">70</text><text text-anchor=\"middle\" transform=\"translate(240,15)\" font-family=\"sans-serif\" font-size=\"10px\" fill=\"#000\" opacity=\"1\">80</text><text text-anchor=\"middle\" transform=\"translate(270,15)\" font-family=\"sans-serif\" font-size=\"10px\" fill=\"#000\" opacity=\"1\">90</text><text text-anchor=\"middle\" transform=\"translate(300,15)\" font-family=\"sans-serif\" font-size=\"10px\" fill=\"#000\" opacity=\"1\">100</text><text text-anchor=\"middle\" transform=\"translate(330,15)\" font-family=\"sans-serif\" font-size=\"10px\" fill=\"#000\" opacity=\"1\">110</text><text text-anchor=\"middle\" transform=\"translate(360,15)\" font-family=\"sans-serif\" font-size=\"10px\" fill=\"#000\" opacity=\"1\">120</text><text text-anchor=\"middle\" transform=\"translate(390,15)\" font-family=\"sans-serif\" font-size=\"10px\" fill=\"#000\" opacity=\"1\">130</text><text text-anchor=\"middle\" transform=\"translate(420,15)\" font-family=\"sans-serif\" font-size=\"10px\" fill=\"#000\" opacity=\"1\">140</text><text text-anchor=\"middle\" transform=\"translate(450,15)\" font-family=\"sans-serif\" font-size=\"10px\" fill=\"#000\" opacity=\"1\">150</text><text text-anchor=\"middle\" transform=\"translate(480,15)\" font-family=\"sans-serif\" font-size=\"10px\" fill=\"#000\" opacity=\"1\">160</text><text text-anchor=\"middle\" transform=\"translate(510,15)\" font-family=\"sans-serif\" font-size=\"10px\" fill=\"#000\" opacity=\"1\">170</text><text text-anchor=\"middle\" transform=\"translate(540,15)\" font-family=\"sans-serif\" font-size=\"10px\" fill=\"#000\" opacity=\"1\">180</text><text text-anchor=\"middle\" transform=\"translate(570,15)\" font-family=\"sans-serif\" font-size=\"10px\" fill=\"#000\" opacity=\"1\">190</text><text text-anchor=\"middle\" transform=\"translate(600,15)\" font-family=\"sans-serif\" font-size=\"10px\" fill=\"#000\" opacity=\"1\">200</text><text text-anchor=\"middle\" transform=\"translate(630,15)\" font-family=\"sans-serif\" font-size=\"10px\" fill=\"#000\" opacity=\"1\">210</text><text text-anchor=\"middle\" transform=\"translate(660,15)\" font-family=\"sans-serif\" font-size=\"10px\" fill=\"#000\" opacity=\"1\">220</text><text text-anchor=\"middle\" transform=\"translate(690,15)\" font-family=\"sans-serif\" font-size=\"10px\" fill=\"#000\" opacity=\"1\">230</text><text text-anchor=\"middle\" transform=\"translate(720,15)\" font-family=\"sans-serif\" font-size=\"10px\" fill=\"#000\" opacity=\"1\">240</text><text text-anchor=\"middle\" transform=\"translate(750,15)\" font-family=\"sans-serif\" font-size=\"10px\" fill=\"#000\" opacity=\"1\">250</text><text text-anchor=\"middle\" transform=\"translate(780,15)\" font-family=\"sans-serif\" font-size=\"10px\" fill=\"#000\" opacity=\"1\">260</text><text text-anchor=\"middle\" transform=\"translate(810,15)\" font-family=\"sans-serif\" font-size=\"10px\" fill=\"#000\" opacity=\"1\">270</text><text text-anchor=\"middle\" transform=\"translate(840,15)\" font-family=\"sans-serif\" font-size=\"10px\" fill=\"#000\" opacity=\"1\">280</text><text text-anchor=\"middle\" transform=\"translate(870,15)\" font-family=\"sans-serif\" font-size=\"10px\" fill=\"#000\" opacity=\"1\">290</text><text text-anchor=\"middle\" transform=\"translate(900,15)\" font-family=\"sans-serif\" font-size=\"10px\" fill=\"#000\" opacity=\"1\">300</text><text text-anchor=\"middle\" transform=\"translate(930,15)\" font-family=\"sans-serif\" font-size=\"10px\" fill=\"#000\" opacity=\"1\">310</text><text text-anchor=\"middle\" transform=\"translate(960,15)\" font-family=\"sans-serif\" font-size=\"10px\" fill=\"#000\" opacity=\"1\">320</text><text text-anchor=\"middle\" transform=\"translate(990,15)\" font-family=\"sans-serif\" font-size=\"10px\" fill=\"#000\" opacity=\"1\">330</text><text text-anchor=\"middle\" transform=\"translate(1020,15)\" font-family=\"sans-serif\" font-size=\"10px\" fill=\"#000\" opacity=\"1\">340</text><text text-anchor=\"middle\" transform=\"translate(1050,15)\" font-family=\"sans-serif\" font-size=\"10px\" fill=\"#000\" opacity=\"1\">350</text><text text-anchor=\"middle\" transform=\"translate(1080,15)\" font-family=\"sans-serif\" font-size=\"10px\" fill=\"#000\" opacity=\"1\">360</text><text text-anchor=\"middle\" transform=\"translate(1110,15)\" font-family=\"sans-serif\" font-size=\"10px\" fill=\"#000\" opacity=\"1\">370</text><text text-anchor=\"middle\" transform=\"translate(1140,15)\" font-family=\"sans-serif\" font-size=\"10px\" fill=\"#000\" opacity=\"1\">380</text><text text-anchor=\"middle\" transform=\"translate(1170,15)\" font-family=\"sans-serif\" font-size=\"10px\" fill=\"#000\" opacity=\"1\">390</text><text text-anchor=\"end\" transform=\"translate(1200,15)\" font-family=\"sans-serif\" font-size=\"10px\" fill=\"#000\" opacity=\"1\">400</text></g><g class=\"mark-rule role-axis-domain\" pointer-events=\"none\"><line transform=\"translate(0,0)\" x2=\"1200\" y2=\"0\" stroke=\"#888\" stroke-width=\"1\" opacity=\"1\"/></g></g><path class=\"foreground\" aria-hidden=\"true\" d=\"\" pointer-events=\"none\" display=\"none\"/></g></g><g class=\"mark-group role-axis\" role=\"graphics-symbol\" aria-roledescription=\"axis\" aria-label=\"Y-axis for a linear scale with values from 0 to 7\"><g transform=\"translate(0.5,0.5)\"><path class=\"background\" aria-hidden=\"true\" d=\"M0,0h0v0h0Z\" pointer-events=\"none\"/><g><g class=\"mark-rule role-axis-tick\" pointer-events=\"none\"><line transform=\"translate(0,600)\" x2=\"-5\" y2=\"0\" stroke=\"#888\" stroke-width=\"1\" opacity=\"1\"/><line transform=\"translate(0,557)\" x2=\"-5\" y2=\"0\" stroke=\"#888\" stroke-width=\"1\" opacity=\"1\"/><line transform=\"translate(0,514)\" x2=\"-5\" y2=\"0\" stroke=\"#888\" stroke-width=\"1\" opacity=\"1\"/><line transform=\"translate(0,471)\" x2=\"-5\" y2=\"0\" stroke=\"#888\" stroke-width=\"1\" opacity=\"1\"/><line transform=\"translate(0,429)\" x2=\"-5\" y2=\"0\" stroke=\"#888\" stroke-width=\"1\" opacity=\"1\"/><line transform=\"translate(0,386)\" x2=\"-5\" y2=\"0\" stroke=\"#888\" stroke-width=\"1\" opacity=\"1\"/><line transform=\"translate(0,343)\" x2=\"-5\" y2=\"0\" stroke=\"#888\" stroke-width=\"1\" opacity=\"1\"/><line transform=\"translate(0,300)\" x2=\"-5\" y2=\"0\" stroke=\"#888\" stroke-width=\"1\" opacity=\"1\"/><line transform=\"translate(0,257)\" x2=\"-5\" y2=\"0\" stroke=\"#888\" stroke-width=\"1\" opacity=\"1\"/><line transform=\"translate(0,214)\" x2=\"-5\" y2=\"0\" stroke=\"#888\" stroke-width=\"1\" opacity=\"1\"/><line transform=\"translate(0,171)\" x2=\"-5\" y2=\"0\" stroke=\"#888\" stroke-width=\"1\" opacity=\"1\"/><line transform=\"translate(0,129)\" x2=\"-5\" y2=\"0\" stroke=\"#888\" stroke-width=\"1\" opacity=\"1\"/><line transform=\"translate(0,86)\" x2=\"-5\" y2=\"0\" stroke=\"#888\" stroke-width=\"1\" opacity=\"1\"/><line transform=\"translate(0,43)\" x2=\"-5\" y2=\"0\" stroke=\"#888\" stroke-width=\"1\" opacity=\"1\"/><line transform=\"translate(0,0)\" x2=\"-5\" y2=\"0\" stroke=\"#888\" stroke-width=\"1\" opacity=\"1\"/></g><g class=\"mark-text role-axis-label\" pointer-events=\"none\"><text text-anchor=\"end\" transform=\"translate(-7,603)\" font-family=\"sans-serif\" font-size=\"10px\" fill=\"#000\" opacity=\"1\">0.0</text><text text-anchor=\"end\" transform=\"translate(-7,560.1428571428571)\" font-family=\"sans-serif\" font-size=\"10px\" fill=\"#000\" opacity=\"1\">0.5</text><text text-anchor=\"end\" transform=\"translate(-7,517.2857142857143)\" font-family=\"sans-serif\" font-size=\"10px\" fill=\"#000\" opacity=\"1\">1.0</text><text text-anchor=\"end\" transform=\"translate(-7,474.42857142857144)\" font-family=\"sans-serif\" font-size=\"10px\" fill=\"#000\" opacity=\"1\">1.5</text><text text-anchor=\"end\" transform=\"translate(-7,431.57142857142856)\" font-family=\"sans-serif\" font-size=\"10px\" fill=\"#000\" opacity=\"1\">2.0</text><text text-anchor=\"end\" transform=\"translate(-7,388.71428571428567)\" font-family=\"sans-serif\" font-size=\"10px\" fill=\"#000\" opacity=\"1\">2.5</text><text text-anchor=\"end\" transform=\"translate(-7,345.85714285714283)\" font-family=\"sans-serif\" font-size=\"10px\" fill=\"#000\" opacity=\"1\">3.0</text><text text-anchor=\"end\" transform=\"translate(-7,303)\" font-family=\"sans-serif\" font-size=\"10px\" fill=\"#000\" opacity=\"1\">3.5</text><text text-anchor=\"end\" transform=\"translate(-7,260.14285714285717)\" font-family=\"sans-serif\" font-size=\"10px\" fill=\"#000\" opacity=\"1\">4.0</text><text text-anchor=\"end\" transform=\"translate(-7,217.28571428571425)\" font-family=\"sans-serif\" font-size=\"10px\" fill=\"#000\" opacity=\"1\">4.5</text><text text-anchor=\"end\" transform=\"translate(-7,174.42857142857142)\" font-family=\"sans-serif\" font-size=\"10px\" fill=\"#000\" opacity=\"1\">5.0</text><text text-anchor=\"end\" transform=\"translate(-7,131.57142857142858)\" font-family=\"sans-serif\" font-size=\"10px\" fill=\"#000\" opacity=\"1\">5.5</text><text text-anchor=\"end\" transform=\"translate(-7,88.71428571428574)\" font-family=\"sans-serif\" font-size=\"10px\" fill=\"#000\" opacity=\"1\">6.0</text><text text-anchor=\"end\" transform=\"translate(-7,45.85714285714284)\" font-family=\"sans-serif\" font-size=\"10px\" fill=\"#000\" opacity=\"1\">6.5</text><text text-anchor=\"end\" transform=\"translate(-7,3)\" font-family=\"sans-serif\" font-size=\"10px\" fill=\"#000\" opacity=\"1\">7.0</text></g><g class=\"mark-rule role-axis-domain\" pointer-events=\"none\"><line transform=\"translate(0,600)\" x2=\"0\" y2=\"-600\" stroke=\"#888\" stroke-width=\"1\" opacity=\"1\"/></g></g><path class=\"foreground\" aria-hidden=\"true\" d=\"\" pointer-events=\"none\" display=\"none\"/></g></g><g class=\"mark-rect role-mark marks\" role=\"graphics-object\" aria-roledescription=\"rect mark container\"><path aria-label=\"x: 8; y: 1\" role=\"graphics-symbol\" aria-roledescription=\"bar\" d=\"M21.5,514.2857142857143h5v85.71428571428567h-5Z\" fill=\"#4c78a8\"/><path aria-label=\"x: 10; y: 1\" role=\"graphics-symbol\" aria-roledescription=\"bar\" d=\"M27.5,514.2857142857143h5v85.71428571428567h-5Z\" fill=\"#4c78a8\"/><path aria-label=\"x: 14; y: 1\" role=\"graphics-symbol\" aria-roledescription=\"bar\" d=\"M39.50000000000001,514.2857142857143h5v85.71428571428567h-5Z\" fill=\"#4c78a8\"/><path aria-label=\"x: 15; y: 2\" role=\"graphics-symbol\" aria-roledescription=\"bar\" d=\"M42.5,428.57142857142856h5v171.42857142857144h-5Z\" fill=\"#4c78a8\"/><path aria-label=\"x: 16; y: 1\" role=\"graphics-symbol\" aria-roledescription=\"bar\" d=\"M45.5,514.2857142857143h5v85.71428571428567h-5Z\" fill=\"#4c78a8\"/><path aria-label=\"x: 18; y: 1\" role=\"graphics-symbol\" aria-roledescription=\"bar\" d=\"M51.5,514.2857142857143h5v85.71428571428567h-5Z\" fill=\"#4c78a8\"/><path aria-label=\"x: 20; y: 2\" role=\"graphics-symbol\" aria-roledescription=\"bar\" d=\"M57.5,428.57142857142856h5v171.42857142857144h-5Z\" fill=\"#4c78a8\"/><path aria-label=\"x: 22; y: 1\" role=\"graphics-symbol\" aria-roledescription=\"bar\" d=\"M63.5,514.2857142857143h5v85.71428571428567h-5Z\" fill=\"#4c78a8\"/><path aria-label=\"x: 26; y: 2\" role=\"graphics-symbol\" aria-roledescription=\"bar\" d=\"M75.5,428.57142857142856h5v171.42857142857144h-5Z\" fill=\"#4c78a8\"/><path aria-label=\"x: 27; y: 2\" role=\"graphics-symbol\" aria-roledescription=\"bar\" d=\"M78.5,428.57142857142856h5v171.42857142857144h-5Z\" fill=\"#4c78a8\"/><path aria-label=\"x: 29; y: 1\" role=\"graphics-symbol\" aria-roledescription=\"bar\" d=\"M84.5,514.2857142857143h5v85.71428571428567h-5Z\" fill=\"#4c78a8\"/><path aria-label=\"x: 30; y: 2\" role=\"graphics-symbol\" aria-roledescription=\"bar\" d=\"M87.5,428.57142857142856h5v171.42857142857144h-5Z\" fill=\"#4c78a8\"/><path aria-label=\"x: 31; y: 1\" role=\"graphics-symbol\" aria-roledescription=\"bar\" d=\"M90.5,514.2857142857143h5v85.71428571428567h-5Z\" fill=\"#4c78a8\"/><path aria-label=\"x: 35; y: 3\" role=\"graphics-symbol\" aria-roledescription=\"bar\" d=\"M102.5,342.85714285714283h5v257.14285714285717h-5Z\" fill=\"#4c78a8\"/><path aria-label=\"x: 36; y: 3\" role=\"graphics-symbol\" aria-roledescription=\"bar\" d=\"M105.5,342.85714285714283h5v257.14285714285717h-5Z\" fill=\"#4c78a8\"/><path aria-label=\"x: 37; y: 1\" role=\"graphics-symbol\" aria-roledescription=\"bar\" d=\"M108.5,514.2857142857143h5v85.71428571428567h-5Z\" fill=\"#4c78a8\"/><path aria-label=\"x: 57; y: 1\" role=\"graphics-symbol\" aria-roledescription=\"bar\" d=\"M168.49999999999997,514.2857142857143h5v85.71428571428567h-5Z\" fill=\"#4c78a8\"/><path aria-label=\"x: 58; y: 1\" role=\"graphics-symbol\" aria-roledescription=\"bar\" d=\"M171.5,514.2857142857143h5v85.71428571428567h-5Z\" fill=\"#4c78a8\"/><path aria-label=\"x: 64; y: 2\" role=\"graphics-symbol\" aria-roledescription=\"bar\" d=\"M189.5,428.57142857142856h5v171.42857142857144h-5Z\" fill=\"#4c78a8\"/><path aria-label=\"x: 65; y: 1\" role=\"graphics-symbol\" aria-roledescription=\"bar\" d=\"M192.5,514.2857142857143h5v85.71428571428567h-5Z\" fill=\"#4c78a8\"/><path aria-label=\"x: 66; y: 2\" role=\"graphics-symbol\" aria-roledescription=\"bar\" d=\"M195.5,428.57142857142856h5v171.42857142857144h-5Z\" fill=\"#4c78a8\"/><path aria-label=\"x: 70; y: 2\" role=\"graphics-symbol\" aria-roledescription=\"bar\" d=\"M207.5,428.57142857142856h5v171.42857142857144h-5Z\" fill=\"#4c78a8\"/><path aria-label=\"x: 72; y: 1\" role=\"graphics-symbol\" aria-roledescription=\"bar\" d=\"M213.5,514.2857142857143h5v85.71428571428567h-5Z\" fill=\"#4c78a8\"/><path aria-label=\"x: 78; y: 1\" role=\"graphics-symbol\" aria-roledescription=\"bar\" d=\"M231.5,514.2857142857143h5v85.71428571428567h-5Z\" fill=\"#4c78a8\"/><path aria-label=\"x: 80; y: 1\" role=\"graphics-symbol\" aria-roledescription=\"bar\" d=\"M237.5,514.2857142857143h5v85.71428571428567h-5Z\" fill=\"#4c78a8\"/><path aria-label=\"x: 81; y: 1\" role=\"graphics-symbol\" aria-roledescription=\"bar\" d=\"M240.50000000000003,514.2857142857143h5v85.71428571428567h-5Z\" fill=\"#4c78a8\"/><path aria-label=\"x: 91; y: 1\" role=\"graphics-symbol\" aria-roledescription=\"bar\" d=\"M270.5,514.2857142857143h5v85.71428571428567h-5Z\" fill=\"#4c78a8\"/><path aria-label=\"x: 94; y: 1\" role=\"graphics-symbol\" aria-roledescription=\"bar\" d=\"M279.5,514.2857142857143h5v85.71428571428567h-5Z\" fill=\"#4c78a8\"/><path aria-label=\"x: 96; y: 1\" role=\"graphics-symbol\" aria-roledescription=\"bar\" d=\"M285.5,514.2857142857143h5v85.71428571428567h-5Z\" fill=\"#4c78a8\"/><path aria-label=\"x: 97; y: 2\" role=\"graphics-symbol\" aria-roledescription=\"bar\" d=\"M288.5,428.57142857142856h5v171.42857142857144h-5Z\" fill=\"#4c78a8\"/><path aria-label=\"x: 98; y: 2\" role=\"graphics-symbol\" aria-roledescription=\"bar\" d=\"M291.5,428.57142857142856h5v171.42857142857144h-5Z\" fill=\"#4c78a8\"/><path aria-label=\"x: 99; y: 2\" role=\"graphics-symbol\" aria-roledescription=\"bar\" d=\"M294.5,428.57142857142856h5v171.42857142857144h-5Z\" fill=\"#4c78a8\"/><path aria-label=\"x: 101; y: 2\" role=\"graphics-symbol\" aria-roledescription=\"bar\" d=\"M300.5,428.57142857142856h5v171.42857142857144h-5Z\" fill=\"#4c78a8\"/><path aria-label=\"x: 102; y: 3\" role=\"graphics-symbol\" aria-roledescription=\"bar\" d=\"M303.5,342.85714285714283h5v257.14285714285717h-5Z\" fill=\"#4c78a8\"/><path aria-label=\"x: 104; y: 1\" role=\"graphics-symbol\" aria-roledescription=\"bar\" d=\"M309.5,514.2857142857143h5v85.71428571428567h-5Z\" fill=\"#4c78a8\"/><path aria-label=\"x: 105; y: 2\" role=\"graphics-symbol\" aria-roledescription=\"bar\" d=\"M312.5,428.57142857142856h5v171.42857142857144h-5Z\" fill=\"#4c78a8\"/><path aria-label=\"x: 106; y: 1\" role=\"graphics-symbol\" aria-roledescription=\"bar\" d=\"M315.5,514.2857142857143h5v85.71428571428567h-5Z\" fill=\"#4c78a8\"/><path aria-label=\"x: 108; y: 1\" role=\"graphics-symbol\" aria-roledescription=\"bar\" d=\"M321.5,514.2857142857143h5v85.71428571428567h-5Z\" fill=\"#4c78a8\"/><path aria-label=\"x: 109; y: 1\" role=\"graphics-symbol\" aria-roledescription=\"bar\" d=\"M324.5,514.2857142857143h5v85.71428571428567h-5Z\" fill=\"#4c78a8\"/><path aria-label=\"x: 110; y: 2\" role=\"graphics-symbol\" aria-roledescription=\"bar\" d=\"M327.5,428.57142857142856h5v171.42857142857144h-5Z\" fill=\"#4c78a8\"/><path aria-label=\"x: 112; y: 1\" role=\"graphics-symbol\" aria-roledescription=\"bar\" d=\"M333.50000000000006,514.2857142857143h5v85.71428571428567h-5Z\" fill=\"#4c78a8\"/><path aria-label=\"x: 113; y: 2\" role=\"graphics-symbol\" aria-roledescription=\"bar\" d=\"M336.49999999999994,428.57142857142856h5v171.42857142857144h-5Z\" fill=\"#4c78a8\"/><path aria-label=\"x: 114; y: 1\" role=\"graphics-symbol\" aria-roledescription=\"bar\" d=\"M339.49999999999994,514.2857142857143h5v85.71428571428567h-5Z\" fill=\"#4c78a8\"/><path aria-label=\"x: 115; y: 2\" role=\"graphics-symbol\" aria-roledescription=\"bar\" d=\"M342.5,428.57142857142856h5v171.42857142857144h-5Z\" fill=\"#4c78a8\"/><path aria-label=\"x: 116; y: 2\" role=\"graphics-symbol\" aria-roledescription=\"bar\" d=\"M345.5,428.57142857142856h5v171.42857142857144h-5Z\" fill=\"#4c78a8\"/><path aria-label=\"x: 117; y: 1\" role=\"graphics-symbol\" aria-roledescription=\"bar\" d=\"M348.5,514.2857142857143h5v85.71428571428567h-5Z\" fill=\"#4c78a8\"/><path aria-label=\"x: 119; y: 2\" role=\"graphics-symbol\" aria-roledescription=\"bar\" d=\"M354.5,428.57142857142856h5v171.42857142857144h-5Z\" fill=\"#4c78a8\"/><path aria-label=\"x: 121; y: 3\" role=\"graphics-symbol\" aria-roledescription=\"bar\" d=\"M360.5,342.85714285714283h5v257.14285714285717h-5Z\" fill=\"#4c78a8\"/><path aria-label=\"x: 123; y: 1\" role=\"graphics-symbol\" aria-roledescription=\"bar\" d=\"M366.5,514.2857142857143h5v85.71428571428567h-5Z\" fill=\"#4c78a8\"/><path aria-label=\"x: 124; y: 1\" role=\"graphics-symbol\" aria-roledescription=\"bar\" d=\"M369.5,514.2857142857143h5v85.71428571428567h-5Z\" fill=\"#4c78a8\"/><path aria-label=\"x: 126; y: 2\" role=\"graphics-symbol\" aria-roledescription=\"bar\" d=\"M375.5,428.57142857142856h5v171.42857142857144h-5Z\" fill=\"#4c78a8\"/><path aria-label=\"x: 127; y: 1\" role=\"graphics-symbol\" aria-roledescription=\"bar\" d=\"M378.5,514.2857142857143h5v85.71428571428567h-5Z\" fill=\"#4c78a8\"/><path aria-label=\"x: 128; y: 4\" role=\"graphics-symbol\" aria-roledescription=\"bar\" d=\"M381.5,257.14285714285717h5v342.85714285714283h-5Z\" fill=\"#4c78a8\"/><path aria-label=\"x: 129; y: 3\" role=\"graphics-symbol\" aria-roledescription=\"bar\" d=\"M384.5,342.85714285714283h5v257.14285714285717h-5Z\" fill=\"#4c78a8\"/><path aria-label=\"x: 130; y: 1\" role=\"graphics-symbol\" aria-roledescription=\"bar\" d=\"M387.5,514.2857142857143h5v85.71428571428567h-5Z\" fill=\"#4c78a8\"/><path aria-label=\"x: 131; y: 1\" role=\"graphics-symbol\" aria-roledescription=\"bar\" d=\"M390.5,514.2857142857143h5v85.71428571428567h-5Z\" fill=\"#4c78a8\"/><path aria-label=\"x: 132; y: 1\" role=\"graphics-symbol\" aria-roledescription=\"bar\" d=\"M393.5,514.2857142857143h5v85.71428571428567h-5Z\" fill=\"#4c78a8\"/><path aria-label=\"x: 133; y: 2\" role=\"graphics-symbol\" aria-roledescription=\"bar\" d=\"M396.5,428.57142857142856h5v171.42857142857144h-5Z\" fill=\"#4c78a8\"/><path aria-label=\"x: 134; y: 1\" role=\"graphics-symbol\" aria-roledescription=\"bar\" d=\"M399.5,514.2857142857143h5v85.71428571428567h-5Z\" fill=\"#4c78a8\"/><path aria-label=\"x: 136; y: 2\" role=\"graphics-symbol\" aria-roledescription=\"bar\" d=\"M405.50000000000006,428.57142857142856h5v171.42857142857144h-5Z\" fill=\"#4c78a8\"/><path aria-label=\"x: 140; y: 2\" role=\"graphics-symbol\" aria-roledescription=\"bar\" d=\"M417.5,428.57142857142856h5v171.42857142857144h-5Z\" fill=\"#4c78a8\"/><path aria-label=\"x: 141; y: 1\" role=\"graphics-symbol\" aria-roledescription=\"bar\" d=\"M420.5,514.2857142857143h5v85.71428571428567h-5Z\" fill=\"#4c78a8\"/><path aria-label=\"x: 142; y: 2\" role=\"graphics-symbol\" aria-roledescription=\"bar\" d=\"M423.5,428.57142857142856h5v171.42857142857144h-5Z\" fill=\"#4c78a8\"/><path aria-label=\"x: 144; y: 1\" role=\"graphics-symbol\" aria-roledescription=\"bar\" d=\"M429.5,514.2857142857143h5v85.71428571428567h-5Z\" fill=\"#4c78a8\"/><path aria-label=\"x: 145; y: 2\" role=\"graphics-symbol\" aria-roledescription=\"bar\" d=\"M432.5,428.57142857142856h5v171.42857142857144h-5Z\" fill=\"#4c78a8\"/><path aria-label=\"x: 149; y: 2\" role=\"graphics-symbol\" aria-roledescription=\"bar\" d=\"M444.5,428.57142857142856h5v171.42857142857144h-5Z\" fill=\"#4c78a8\"/><path aria-label=\"x: 154; y: 2\" role=\"graphics-symbol\" aria-roledescription=\"bar\" d=\"M459.5,428.57142857142856h5v171.42857142857144h-5Z\" fill=\"#4c78a8\"/><path aria-label=\"x: 155; y: 2\" role=\"graphics-symbol\" aria-roledescription=\"bar\" d=\"M462.5,428.57142857142856h5v171.42857142857144h-5Z\" fill=\"#4c78a8\"/><path aria-label=\"x: 156; y: 4\" role=\"graphics-symbol\" aria-roledescription=\"bar\" d=\"M465.5,257.14285714285717h5v342.85714285714283h-5Z\" fill=\"#4c78a8\"/><path aria-label=\"x: 158; y: 1\" role=\"graphics-symbol\" aria-roledescription=\"bar\" d=\"M471.5,514.2857142857143h5v85.71428571428567h-5Z\" fill=\"#4c78a8\"/><path aria-label=\"x: 159; y: 1\" role=\"graphics-symbol\" aria-roledescription=\"bar\" d=\"M474.5,514.2857142857143h5v85.71428571428567h-5Z\" fill=\"#4c78a8\"/><path aria-label=\"x: 160; y: 2\" role=\"graphics-symbol\" aria-roledescription=\"bar\" d=\"M477.5,428.57142857142856h5v171.42857142857144h-5Z\" fill=\"#4c78a8\"/><path aria-label=\"x: 161; y: 1\" role=\"graphics-symbol\" aria-roledescription=\"bar\" d=\"M480.50000000000006,514.2857142857143h5v85.71428571428567h-5Z\" fill=\"#4c78a8\"/><path aria-label=\"x: 162; y: 1\" role=\"graphics-symbol\" aria-roledescription=\"bar\" d=\"M483.50000000000006,514.2857142857143h5v85.71428571428567h-5Z\" fill=\"#4c78a8\"/><path aria-label=\"x: 170; y: 1\" role=\"graphics-symbol\" aria-roledescription=\"bar\" d=\"M507.5,514.2857142857143h5v85.71428571428567h-5Z\" fill=\"#4c78a8\"/><path aria-label=\"x: 171; y: 1\" role=\"graphics-symbol\" aria-roledescription=\"bar\" d=\"M510.5,514.2857142857143h5v85.71428571428567h-5Z\" fill=\"#4c78a8\"/><path aria-label=\"x: 172; y: 1\" role=\"graphics-symbol\" aria-roledescription=\"bar\" d=\"M513.5,514.2857142857143h5v85.71428571428567h-5Z\" fill=\"#4c78a8\"/><path aria-label=\"x: 173; y: 2\" role=\"graphics-symbol\" aria-roledescription=\"bar\" d=\"M516.5,428.57142857142856h5v171.42857142857144h-5Z\" fill=\"#4c78a8\"/><path aria-label=\"x: 176; y: 1\" role=\"graphics-symbol\" aria-roledescription=\"bar\" d=\"M525.5,514.2857142857143h5v85.71428571428567h-5Z\" fill=\"#4c78a8\"/><path aria-label=\"x: 179; y: 1\" role=\"graphics-symbol\" aria-roledescription=\"bar\" d=\"M534.5,514.2857142857143h5v85.71428571428567h-5Z\" fill=\"#4c78a8\"/><path aria-label=\"x: 180; y: 1\" role=\"graphics-symbol\" aria-roledescription=\"bar\" d=\"M537.5,514.2857142857143h5v85.71428571428567h-5Z\" fill=\"#4c78a8\"/><path aria-label=\"x: 181; y: 1\" role=\"graphics-symbol\" aria-roledescription=\"bar\" d=\"M540.5,514.2857142857143h5v85.71428571428567h-5Z\" fill=\"#4c78a8\"/><path aria-label=\"x: 182; y: 2\" role=\"graphics-symbol\" aria-roledescription=\"bar\" d=\"M543.5,428.57142857142856h5v171.42857142857144h-5Z\" fill=\"#4c78a8\"/><path aria-label=\"x: 184; y: 3\" role=\"graphics-symbol\" aria-roledescription=\"bar\" d=\"M549.5,342.85714285714283h5v257.14285714285717h-5Z\" fill=\"#4c78a8\"/><path aria-label=\"x: 185; y: 2\" role=\"graphics-symbol\" aria-roledescription=\"bar\" d=\"M552.5,428.57142857142856h5v171.42857142857144h-5Z\" fill=\"#4c78a8\"/><path aria-label=\"x: 186; y: 1\" role=\"graphics-symbol\" aria-roledescription=\"bar\" d=\"M555.5,514.2857142857143h5v85.71428571428567h-5Z\" fill=\"#4c78a8\"/><path aria-label=\"x: 187; y: 3\" role=\"graphics-symbol\" aria-roledescription=\"bar\" d=\"M558.5,342.85714285714283h5v257.14285714285717h-5Z\" fill=\"#4c78a8\"/><path aria-label=\"x: 188; y: 1\" role=\"graphics-symbol\" aria-roledescription=\"bar\" d=\"M561.5,514.2857142857143h5v85.71428571428567h-5Z\" fill=\"#4c78a8\"/><path aria-label=\"x: 189; y: 3\" role=\"graphics-symbol\" aria-roledescription=\"bar\" d=\"M564.5,342.85714285714283h5v257.14285714285717h-5Z\" fill=\"#4c78a8\"/><path aria-label=\"x: 191; y: 1\" role=\"graphics-symbol\" aria-roledescription=\"bar\" d=\"M570.5,514.2857142857143h5v85.71428571428567h-5Z\" fill=\"#4c78a8\"/><path aria-label=\"x: 193; y: 1\" role=\"graphics-symbol\" aria-roledescription=\"bar\" d=\"M576.5,514.2857142857143h5v85.71428571428567h-5Z\" fill=\"#4c78a8\"/><path aria-label=\"x: 194; y: 1\" role=\"graphics-symbol\" aria-roledescription=\"bar\" d=\"M579.5,514.2857142857143h5v85.71428571428567h-5Z\" fill=\"#4c78a8\"/><path aria-label=\"x: 195; y: 1\" role=\"graphics-symbol\" aria-roledescription=\"bar\" d=\"M582.5,514.2857142857143h5v85.71428571428567h-5Z\" fill=\"#4c78a8\"/><path aria-label=\"x: 196; y: 3\" role=\"graphics-symbol\" aria-roledescription=\"bar\" d=\"M585.5,342.85714285714283h5v257.14285714285717h-5Z\" fill=\"#4c78a8\"/><path aria-label=\"x: 197; y: 6\" role=\"graphics-symbol\" aria-roledescription=\"bar\" d=\"M588.5,85.71428571428574h5v514.2857142857142h-5Z\" fill=\"#4c78a8\"/><path aria-label=\"x: 198; y: 2\" role=\"graphics-symbol\" aria-roledescription=\"bar\" d=\"M591.5,428.57142857142856h5v171.42857142857144h-5Z\" fill=\"#4c78a8\"/><path aria-label=\"x: 199; y: 1\" role=\"graphics-symbol\" aria-roledescription=\"bar\" d=\"M594.5,514.2857142857143h5v85.71428571428567h-5Z\" fill=\"#4c78a8\"/><path aria-label=\"x: 200; y: 1\" role=\"graphics-symbol\" aria-roledescription=\"bar\" d=\"M597.5,514.2857142857143h5v85.71428571428567h-5Z\" fill=\"#4c78a8\"/><path aria-label=\"x: 201; y: 2\" role=\"graphics-symbol\" aria-roledescription=\"bar\" d=\"M600.4999999999999,428.57142857142856h5v171.42857142857144h-5Z\" fill=\"#4c78a8\"/><path aria-label=\"x: 203; y: 3\" role=\"graphics-symbol\" aria-roledescription=\"bar\" d=\"M606.4999999999999,342.85714285714283h5v257.14285714285717h-5Z\" fill=\"#4c78a8\"/><path aria-label=\"x: 204; y: 1\" role=\"graphics-symbol\" aria-roledescription=\"bar\" d=\"M609.5,514.2857142857143h5v85.71428571428567h-5Z\" fill=\"#4c78a8\"/><path aria-label=\"x: 207; y: 2\" role=\"graphics-symbol\" aria-roledescription=\"bar\" d=\"M618.5,428.57142857142856h5v171.42857142857144h-5Z\" fill=\"#4c78a8\"/><path aria-label=\"x: 208; y: 5\" role=\"graphics-symbol\" aria-roledescription=\"bar\" d=\"M621.5,171.42857142857142h5v428.57142857142856h-5Z\" fill=\"#4c78a8\"/><path aria-label=\"x: 209; y: 2\" role=\"graphics-symbol\" aria-roledescription=\"bar\" d=\"M624.5,428.57142857142856h5v171.42857142857144h-5Z\" fill=\"#4c78a8\"/><path aria-label=\"x: 210; y: 3\" role=\"graphics-symbol\" aria-roledescription=\"bar\" d=\"M627.5,342.85714285714283h5v257.14285714285717h-5Z\" fill=\"#4c78a8\"/><path aria-label=\"x: 211; y: 3\" role=\"graphics-symbol\" aria-roledescription=\"bar\" d=\"M630.5,342.85714285714283h5v257.14285714285717h-5Z\" fill=\"#4c78a8\"/><path aria-label=\"x: 212; y: 2\" role=\"graphics-symbol\" aria-roledescription=\"bar\" d=\"M633.5,428.57142857142856h5v171.42857142857144h-5Z\" fill=\"#4c78a8\"/><path aria-label=\"x: 213; y: 1\" role=\"graphics-symbol\" aria-roledescription=\"bar\" d=\"M636.5,514.2857142857143h5v85.71428571428567h-5Z\" fill=\"#4c78a8\"/><path aria-label=\"x: 214; y: 3\" role=\"graphics-symbol\" aria-roledescription=\"bar\" d=\"M639.5,342.85714285714283h5v257.14285714285717h-5Z\" fill=\"#4c78a8\"/><path aria-label=\"x: 215; y: 1\" role=\"graphics-symbol\" aria-roledescription=\"bar\" d=\"M642.5,514.2857142857143h5v85.71428571428567h-5Z\" fill=\"#4c78a8\"/><path aria-label=\"x: 216; y: 1\" role=\"graphics-symbol\" aria-roledescription=\"bar\" d=\"M645.5,514.2857142857143h5v85.71428571428567h-5Z\" fill=\"#4c78a8\"/><path aria-label=\"x: 217; y: 2\" role=\"graphics-symbol\" aria-roledescription=\"bar\" d=\"M648.5,428.57142857142856h5v171.42857142857144h-5Z\" fill=\"#4c78a8\"/><path aria-label=\"x: 218; y: 2\" role=\"graphics-symbol\" aria-roledescription=\"bar\" d=\"M651.5,428.57142857142856h5v171.42857142857144h-5Z\" fill=\"#4c78a8\"/><path aria-label=\"x: 219; y: 3\" role=\"graphics-symbol\" aria-roledescription=\"bar\" d=\"M654.5,342.85714285714283h5v257.14285714285717h-5Z\" fill=\"#4c78a8\"/><path aria-label=\"x: 220; y: 6\" role=\"graphics-symbol\" aria-roledescription=\"bar\" d=\"M657.5,85.71428571428574h5v514.2857142857142h-5Z\" fill=\"#4c78a8\"/><path aria-label=\"x: 221; y: 2\" role=\"graphics-symbol\" aria-roledescription=\"bar\" d=\"M660.5,428.57142857142856h5v171.42857142857144h-5Z\" fill=\"#4c78a8\"/><path aria-label=\"x: 222; y: 4\" role=\"graphics-symbol\" aria-roledescription=\"bar\" d=\"M663.5000000000001,257.14285714285717h5v342.85714285714283h-5Z\" fill=\"#4c78a8\"/><path aria-label=\"x: 223; y: 1\" role=\"graphics-symbol\" aria-roledescription=\"bar\" d=\"M666.5,514.2857142857143h5v85.71428571428567h-5Z\" fill=\"#4c78a8\"/><path aria-label=\"x: 225; y: 1\" role=\"graphics-symbol\" aria-roledescription=\"bar\" d=\"M672.5,514.2857142857143h5v85.71428571428567h-5Z\" fill=\"#4c78a8\"/><path aria-label=\"x: 227; y: 1\" role=\"graphics-symbol\" aria-roledescription=\"bar\" d=\"M678.5,514.2857142857143h5v85.71428571428567h-5Z\" fill=\"#4c78a8\"/><path aria-label=\"x: 230; y: 2\" role=\"graphics-symbol\" aria-roledescription=\"bar\" d=\"M687.5,428.57142857142856h5v171.42857142857144h-5Z\" fill=\"#4c78a8\"/><path aria-label=\"x: 232; y: 7\" role=\"graphics-symbol\" aria-roledescription=\"bar\" d=\"M693.5,0h5v600h-5Z\" fill=\"#4c78a8\"/><path aria-label=\"x: 234; y: 3\" role=\"graphics-symbol\" aria-roledescription=\"bar\" d=\"M699.5,342.85714285714283h5v257.14285714285717h-5Z\" fill=\"#4c78a8\"/><path aria-label=\"x: 235; y: 3\" role=\"graphics-symbol\" aria-roledescription=\"bar\" d=\"M702.5,342.85714285714283h5v257.14285714285717h-5Z\" fill=\"#4c78a8\"/><path aria-label=\"x: 236; y: 1\" role=\"graphics-symbol\" aria-roledescription=\"bar\" d=\"M705.5,514.2857142857143h5v85.71428571428567h-5Z\" fill=\"#4c78a8\"/><path aria-label=\"x: 237; y: 3\" role=\"graphics-symbol\" aria-roledescription=\"bar\" d=\"M708.5,342.85714285714283h5v257.14285714285717h-5Z\" fill=\"#4c78a8\"/><path aria-label=\"x: 238; y: 1\" role=\"graphics-symbol\" aria-roledescription=\"bar\" d=\"M711.5,514.2857142857143h5v85.71428571428567h-5Z\" fill=\"#4c78a8\"/><path aria-label=\"x: 241; y: 2\" role=\"graphics-symbol\" aria-roledescription=\"bar\" d=\"M720.5,428.57142857142856h5v171.42857142857144h-5Z\" fill=\"#4c78a8\"/><path aria-label=\"x: 244; y: 1\" role=\"graphics-symbol\" aria-roledescription=\"bar\" d=\"M729.5,514.2857142857143h5v85.71428571428567h-5Z\" fill=\"#4c78a8\"/><path aria-label=\"x: 245; y: 1\" role=\"graphics-symbol\" aria-roledescription=\"bar\" d=\"M732.5,514.2857142857143h5v85.71428571428567h-5Z\" fill=\"#4c78a8\"/><path aria-label=\"x: 248; y: 1\" role=\"graphics-symbol\" aria-roledescription=\"bar\" d=\"M741.5,514.2857142857143h5v85.71428571428567h-5Z\" fill=\"#4c78a8\"/><path aria-label=\"x: 249; y: 2\" role=\"graphics-symbol\" aria-roledescription=\"bar\" d=\"M744.5000000000001,428.57142857142856h5v171.42857142857144h-5Z\" fill=\"#4c78a8\"/><path aria-label=\"x: 250; y: 3\" role=\"graphics-symbol\" aria-roledescription=\"bar\" d=\"M747.5,342.85714285714283h5v257.14285714285717h-5Z\" fill=\"#4c78a8\"/><path aria-label=\"x: 252; y: 1\" role=\"graphics-symbol\" aria-roledescription=\"bar\" d=\"M753.5,514.2857142857143h5v85.71428571428567h-5Z\" fill=\"#4c78a8\"/><path aria-label=\"x: 254; y: 1\" role=\"graphics-symbol\" aria-roledescription=\"bar\" d=\"M759.5,514.2857142857143h5v85.71428571428567h-5Z\" fill=\"#4c78a8\"/><path aria-label=\"x: 259; y: 1\" role=\"graphics-symbol\" aria-roledescription=\"bar\" d=\"M774.5,514.2857142857143h5v85.71428571428567h-5Z\" fill=\"#4c78a8\"/><path aria-label=\"x: 260; y: 1\" role=\"graphics-symbol\" aria-roledescription=\"bar\" d=\"M777.5,514.2857142857143h5v85.71428571428567h-5Z\" fill=\"#4c78a8\"/><path aria-label=\"x: 262; y: 2\" role=\"graphics-symbol\" aria-roledescription=\"bar\" d=\"M783.5,428.57142857142856h5v171.42857142857144h-5Z\" fill=\"#4c78a8\"/><path aria-label=\"x: 263; y: 1\" role=\"graphics-symbol\" aria-roledescription=\"bar\" d=\"M786.5,514.2857142857143h5v85.71428571428567h-5Z\" fill=\"#4c78a8\"/><path aria-label=\"x: 266; y: 4\" role=\"graphics-symbol\" aria-roledescription=\"bar\" d=\"M795.5,257.14285714285717h5v342.85714285714283h-5Z\" fill=\"#4c78a8\"/><path aria-label=\"x: 268; y: 1\" role=\"graphics-symbol\" aria-roledescription=\"bar\" d=\"M801.5,514.2857142857143h5v85.71428571428567h-5Z\" fill=\"#4c78a8\"/><path aria-label=\"x: 269; y: 2\" role=\"graphics-symbol\" aria-roledescription=\"bar\" d=\"M804.5,428.57142857142856h5v171.42857142857144h-5Z\" fill=\"#4c78a8\"/><path aria-label=\"x: 270; y: 1\" role=\"graphics-symbol\" aria-roledescription=\"bar\" d=\"M807.5,514.2857142857143h5v85.71428571428567h-5Z\" fill=\"#4c78a8\"/><path aria-label=\"x: 271; y: 1\" role=\"graphics-symbol\" aria-roledescription=\"bar\" d=\"M810.5,514.2857142857143h5v85.71428571428567h-5Z\" fill=\"#4c78a8\"/><path aria-label=\"x: 275; y: 1\" role=\"graphics-symbol\" aria-roledescription=\"bar\" d=\"M822.5,514.2857142857143h5v85.71428571428567h-5Z\" fill=\"#4c78a8\"/><path aria-label=\"x: 276; y: 1\" role=\"graphics-symbol\" aria-roledescription=\"bar\" d=\"M825.4999999999999,514.2857142857143h5v85.71428571428567h-5Z\" fill=\"#4c78a8\"/><path aria-label=\"x: 278; y: 1\" role=\"graphics-symbol\" aria-roledescription=\"bar\" d=\"M831.4999999999999,514.2857142857143h5v85.71428571428567h-5Z\" fill=\"#4c78a8\"/><path aria-label=\"x: 279; y: 1\" role=\"graphics-symbol\" aria-roledescription=\"bar\" d=\"M834.5,514.2857142857143h5v85.71428571428567h-5Z\" fill=\"#4c78a8\"/><path aria-label=\"x: 282; y: 2\" role=\"graphics-symbol\" aria-roledescription=\"bar\" d=\"M843.5,428.57142857142856h5v171.42857142857144h-5Z\" fill=\"#4c78a8\"/><path aria-label=\"x: 291; y: 1\" role=\"graphics-symbol\" aria-roledescription=\"bar\" d=\"M870.5,514.2857142857143h5v85.71428571428567h-5Z\" fill=\"#4c78a8\"/><path aria-label=\"x: 292; y: 1\" role=\"graphics-symbol\" aria-roledescription=\"bar\" d=\"M873.5,514.2857142857143h5v85.71428571428567h-5Z\" fill=\"#4c78a8\"/><path aria-label=\"x: 296; y: 1\" role=\"graphics-symbol\" aria-roledescription=\"bar\" d=\"M885.5,514.2857142857143h5v85.71428571428567h-5Z\" fill=\"#4c78a8\"/><path aria-label=\"x: 300; y: 1\" role=\"graphics-symbol\" aria-roledescription=\"bar\" d=\"M897.5,514.2857142857143h5v85.71428571428567h-5Z\" fill=\"#4c78a8\"/><path aria-label=\"x: 303; y: 1\" role=\"graphics-symbol\" aria-roledescription=\"bar\" d=\"M906.4999999999999,514.2857142857143h5v85.71428571428567h-5Z\" fill=\"#4c78a8\"/><path aria-label=\"x: 305; y: 1\" role=\"graphics-symbol\" aria-roledescription=\"bar\" d=\"M912.5,514.2857142857143h5v85.71428571428567h-5Z\" fill=\"#4c78a8\"/><path aria-label=\"x: 306; y: 1\" role=\"graphics-symbol\" aria-roledescription=\"bar\" d=\"M915.5,514.2857142857143h5v85.71428571428567h-5Z\" fill=\"#4c78a8\"/><path aria-label=\"x: 307; y: 1\" role=\"graphics-symbol\" aria-roledescription=\"bar\" d=\"M918.5,514.2857142857143h5v85.71428571428567h-5Z\" fill=\"#4c78a8\"/><path aria-label=\"x: 310; y: 1\" role=\"graphics-symbol\" aria-roledescription=\"bar\" d=\"M927.5,514.2857142857143h5v85.71428571428567h-5Z\" fill=\"#4c78a8\"/><path aria-label=\"x: 311; y: 1\" role=\"graphics-symbol\" aria-roledescription=\"bar\" d=\"M930.5,514.2857142857143h5v85.71428571428567h-5Z\" fill=\"#4c78a8\"/><path aria-label=\"x: 314; y: 1\" role=\"graphics-symbol\" aria-roledescription=\"bar\" d=\"M939.5,514.2857142857143h5v85.71428571428567h-5Z\" fill=\"#4c78a8\"/><path aria-label=\"x: 316; y: 1\" role=\"graphics-symbol\" aria-roledescription=\"bar\" d=\"M945.5,514.2857142857143h5v85.71428571428567h-5Z\" fill=\"#4c78a8\"/><path aria-label=\"x: 319; y: 1\" role=\"graphics-symbol\" aria-roledescription=\"bar\" d=\"M954.5,514.2857142857143h5v85.71428571428567h-5Z\" fill=\"#4c78a8\"/><path aria-label=\"x: 320; y: 2\" role=\"graphics-symbol\" aria-roledescription=\"bar\" d=\"M957.5,428.57142857142856h5v171.42857142857144h-5Z\" fill=\"#4c78a8\"/><path aria-label=\"x: 331; y: 1\" role=\"graphics-symbol\" aria-roledescription=\"bar\" d=\"M990.5,514.2857142857143h5v85.71428571428567h-5Z\" fill=\"#4c78a8\"/><path aria-label=\"x: 333; y: 2\" role=\"graphics-symbol\" aria-roledescription=\"bar\" d=\"M996.5,428.57142857142856h5v171.42857142857144h-5Z\" fill=\"#4c78a8\"/><path aria-label=\"x: 335; y: 1\" role=\"graphics-symbol\" aria-roledescription=\"bar\" d=\"M1002.5,514.2857142857143h5v85.71428571428567h-5Z\" fill=\"#4c78a8\"/><path aria-label=\"x: 336; y: 1\" role=\"graphics-symbol\" aria-roledescription=\"bar\" d=\"M1005.5,514.2857142857143h5v85.71428571428567h-5Z\" fill=\"#4c78a8\"/><path aria-label=\"x: 337; y: 1\" role=\"graphics-symbol\" aria-roledescription=\"bar\" d=\"M1008.5,514.2857142857143h5v85.71428571428567h-5Z\" fill=\"#4c78a8\"/><path aria-label=\"x: 339; y: 2\" role=\"graphics-symbol\" aria-roledescription=\"bar\" d=\"M1014.5,428.57142857142856h5v171.42857142857144h-5Z\" fill=\"#4c78a8\"/><path aria-label=\"x: 341; y: 2\" role=\"graphics-symbol\" aria-roledescription=\"bar\" d=\"M1020.5,428.57142857142856h5v171.42857142857144h-5Z\" fill=\"#4c78a8\"/><path aria-label=\"x: 342; y: 1\" role=\"graphics-symbol\" aria-roledescription=\"bar\" d=\"M1023.5,514.2857142857143h5v85.71428571428567h-5Z\" fill=\"#4c78a8\"/><path aria-label=\"x: 345; y: 2\" role=\"graphics-symbol\" aria-roledescription=\"bar\" d=\"M1032.5,428.57142857142856h5v171.42857142857144h-5Z\" fill=\"#4c78a8\"/><path aria-label=\"x: 346; y: 2\" role=\"graphics-symbol\" aria-roledescription=\"bar\" d=\"M1035.5,428.57142857142856h5v171.42857142857144h-5Z\" fill=\"#4c78a8\"/><path aria-label=\"x: 348; y: 1\" role=\"graphics-symbol\" aria-roledescription=\"bar\" d=\"M1041.5,514.2857142857143h5v85.71428571428567h-5Z\" fill=\"#4c78a8\"/><path aria-label=\"x: 350; y: 1\" role=\"graphics-symbol\" aria-roledescription=\"bar\" d=\"M1047.5,514.2857142857143h5v85.71428571428567h-5Z\" fill=\"#4c78a8\"/><path aria-label=\"x: 354; y: 1\" role=\"graphics-symbol\" aria-roledescription=\"bar\" d=\"M1059.5,514.2857142857143h5v85.71428571428567h-5Z\" fill=\"#4c78a8\"/><path aria-label=\"x: 355; y: 1\" role=\"graphics-symbol\" aria-roledescription=\"bar\" d=\"M1062.5,514.2857142857143h5v85.71428571428567h-5Z\" fill=\"#4c78a8\"/><path aria-label=\"x: 356; y: 1\" role=\"graphics-symbol\" aria-roledescription=\"bar\" d=\"M1065.5,514.2857142857143h5v85.71428571428567h-5Z\" fill=\"#4c78a8\"/><path aria-label=\"x: 357; y: 1\" role=\"graphics-symbol\" aria-roledescription=\"bar\" d=\"M1068.5,514.2857142857143h5v85.71428571428567h-5Z\" fill=\"#4c78a8\"/><path aria-label=\"x: 359; y: 1\" role=\"graphics-symbol\" aria-roledescription=\"bar\" d=\"M1074.5,514.2857142857143h5v85.71428571428567h-5Z\" fill=\"#4c78a8\"/><path aria-label=\"x: 360; y: 2\" role=\"graphics-symbol\" aria-roledescription=\"bar\" d=\"M1077.5,428.57142857142856h5v171.42857142857144h-5Z\" fill=\"#4c78a8\"/><path aria-label=\"x: 362; y: 2\" role=\"graphics-symbol\" aria-roledescription=\"bar\" d=\"M1083.5,428.57142857142856h5v171.42857142857144h-5Z\" fill=\"#4c78a8\"/></g><g class=\"mark-group role-title\"><g transform=\"translate(600,-22)\"><path class=\"background\" aria-hidden=\"true\" d=\"M0,0h0v0h0Z\" pointer-events=\"none\"/><g><g class=\"mark-text role-title-text\" role=\"graphics-symbol\" aria-roledescription=\"title\" aria-label=\"Title text 'Imphal in 2018'\" pointer-events=\"none\"><text text-anchor=\"middle\" transform=\"translate(0,10)\" font-family=\"sans-serif\" font-size=\"13px\" font-weight=\"bold\" fill=\"#000\" opacity=\"1\">Imphal in 2018</text></g></g><path class=\"foreground\" aria-hidden=\"true\" d=\"\" pointer-events=\"none\" display=\"none\"/></g></g></g><path class=\"foreground\" aria-hidden=\"true\" d=\"\" display=\"none\"/></g></g></g></svg>\n"
      ],
      "text/plain": [
       "@vlplot(\n",
       "    height=600,\n",
       "    width=1200,\n",
       "    title=\"Imphal in 2018\",\n",
       "    mark=\"bar\",\n",
       "    encoding={\n",
       "        x={\n",
       "            field=\"x\",\n",
       "            title=nothing\n",
       "        },\n",
       "        y={\n",
       "            field=\"y\",\n",
       "            title=nothing\n",
       "        }\n",
       "    },\n",
       "    data={\n",
       "        values=...\n",
       "    }\n",
       ")"
      ]
     },
     "metadata": {},
     "output_type": "display_data"
    }
   ],
   "source": [
    "display(plot)"
   ]
  },
  {
   "cell_type": "code",
   "execution_count": 32,
   "id": "dea9dc50",
   "metadata": {},
   "outputs": [],
   "source": [
    "#Funkcja wybierajaca n miast, w ktorych bylo najwiecej protestow w danym ROKU\n",
    "function most_popular_cities_months(data, year, ranking)\n",
    "   \n",
    "    data_year = only_year_data(data, year)\n",
    "    most_loc = countmap(data_year.location)\n",
    "    most_loc = sort(collect(most_loc), by=x->x[2], rev=true)\n",
    "    most_loc_list=[]\n",
    "    for i in 1:ranking\n",
    "        push!(most_loc_list, most_loc[i][1])\n",
    "    end \n",
    "   \n",
    "    df_most_cities = @from i in data begin\n",
    "        @where i.year == year\n",
    "        @where i.location in most_loc_list\n",
    "        @select {i.event_date, i.location, i.month}\n",
    "        @collect DataFrame\n",
    "    end\n",
    "\n",
    "    plot = @vlplot(\n",
    "    \n",
    "        :bar, \n",
    "        column = df_most_cities.month, \n",
    "        x = df_most_cities.location, \n",
    "        y = \"count()\",\n",
    "        title = \"\"*string(year)\n",
    "    )\n",
    "    return (most_loc_list, plot)\n",
    "end;"
   ]
  },
  {
   "cell_type": "code",
   "execution_count": 33,
   "id": "e1affb39",
   "metadata": {},
   "outputs": [],
   "source": [
    "list_of_popular_cities, plot_cities = most_popular_cities_months(df, 2020, 8);"
   ]
  },
  {
   "cell_type": "code",
   "execution_count": 34,
   "id": "e70f1b0a",
   "metadata": {},
   "outputs": [
    {
     "data": {
      "application/vnd.vegalite.v4+json": {
       "data": {
        "values": [
         {
          "column": 12,
          "x": "Srinagar"
         },
         {
          "column": 12,
          "x": "Amritsar"
         },
         {
          "column": 12,
          "x": "Srinagar"
         },
         {
          "column": 12,
          "x": "Hyderabad"
         },
         {
          "column": 12,
          "x": "Delhi - New Delhi"
         },
         {
          "column": 12,
          "x": "Chandigarh"
         },
         {
          "column": 12,
          "x": "Delhi - New Delhi"
         },
         {
          "column": 12,
          "x": "Amritsar"
         },
         {
          "column": 12,
          "x": "Hyderabad"
         },
         {
          "column": 12,
          "x": "Kolkata"
         },
         {
          "column": 12,
          "x": "Delhi - New Delhi"
         },
         {
          "column": 12,
          "x": "Chandigarh"
         },
         {
          "column": 12,
          "x": "Amritsar"
         },
         {
          "column": 12,
          "x": "Jammu"
         },
         {
          "column": 12,
          "x": "Jammu"
         },
         {
          "column": 12,
          "x": "Srinagar"
         },
         {
          "column": 12,
          "x": "Delhi - New Delhi"
         },
         {
          "column": 12,
          "x": "Chandigarh"
         },
         {
          "column": 12,
          "x": "Amritsar"
         },
         {
          "column": 12,
          "x": "Srinagar"
         },
         {
          "column": 12,
          "x": "Jammu"
         },
         {
          "column": 12,
          "x": "Hyderabad"
         },
         {
          "column": 12,
          "x": "Hyderabad"
         },
         {
          "column": 12,
          "x": "Hyderabad"
         },
         {
          "column": 12,
          "x": "Delhi - New Delhi"
         },
         {
          "column": 12,
          "x": "Chandigarh"
         },
         {
          "column": 12,
          "x": "Amritsar"
         },
         {
          "column": 12,
          "x": "Jammu"
         },
         {
          "column": 12,
          "x": "Ludhiana"
         },
         {
          "column": 12,
          "x": "Delhi - New Delhi"
         },
         {
          "column": 12,
          "x": "Chandigarh"
         },
         {
          "column": 12,
          "x": "Delhi - New Delhi"
         },
         {
          "column": 12,
          "x": "Chandigarh"
         },
         {
          "column": 12,
          "x": "Delhi - New Delhi"
         },
         {
          "column": 12,
          "x": "Kolkata"
         },
         {
          "column": 12,
          "x": "Amritsar"
         },
         {
          "column": 12,
          "x": "Kolkata"
         },
         {
          "column": 12,
          "x": "Srinagar"
         },
         {
          "column": 12,
          "x": "Jammu"
         },
         {
          "column": 12,
          "x": "Srinagar"
         },
         {
          "column": 12,
          "x": "Kolkata"
         },
         {
          "column": 12,
          "x": "Delhi - New Delhi"
         },
         {
          "column": 12,
          "x": "Chandigarh"
         },
         {
          "column": 12,
          "x": "Chandigarh"
         },
         {
          "column": 12,
          "x": "Amritsar"
         },
         {
          "column": 12,
          "x": "Delhi - New Delhi"
         },
         {
          "column": 12,
          "x": "Chandigarh"
         },
         {
          "column": 12,
          "x": "Chandigarh"
         },
         {
          "column": 12,
          "x": "Amritsar"
         },
         {
          "column": 12,
          "x": "Jammu"
         },
         {
          "column": 12,
          "x": "Delhi - New Delhi"
         },
         {
          "column": 12,
          "x": "Chandigarh"
         },
         {
          "column": 12,
          "x": "Delhi - New Delhi"
         },
         {
          "column": 12,
          "x": "Delhi - New Delhi"
         },
         {
          "column": 12,
          "x": "Amritsar"
         },
         {
          "column": 12,
          "x": "Amritsar"
         },
         {
          "column": 12,
          "x": "Jammu"
         },
         {
          "column": 12,
          "x": "Srinagar"
         },
         {
          "column": 12,
          "x": "Delhi - New Delhi"
         },
         {
          "column": 12,
          "x": "Chandigarh"
         },
         {
          "column": 12,
          "x": "Amritsar"
         },
         {
          "column": 12,
          "x": "Amritsar"
         },
         {
          "column": 12,
          "x": "Ludhiana"
         },
         {
          "column": 12,
          "x": "Amritsar"
         },
         {
          "column": 12,
          "x": "Delhi - New Delhi"
         },
         {
          "column": 12,
          "x": "Chandigarh"
         },
         {
          "column": 12,
          "x": "Chandigarh"
         },
         {
          "column": 12,
          "x": "Delhi - New Delhi"
         },
         {
          "column": 12,
          "x": "Amritsar"
         },
         {
          "column": 12,
          "x": "Jammu"
         },
         {
          "column": 12,
          "x": "Srinagar"
         },
         {
          "column": 12,
          "x": "Hyderabad"
         },
         {
          "column": 12,
          "x": "Delhi - New Delhi"
         },
         {
          "column": 12,
          "x": "Chandigarh"
         },
         {
          "column": 12,
          "x": "Delhi - New Delhi"
         },
         {
          "column": 12,
          "x": "Amritsar"
         },
         {
          "column": 12,
          "x": "Jammu"
         },
         {
          "column": 12,
          "x": "Delhi - New Delhi"
         },
         {
          "column": 12,
          "x": "Chandigarh"
         },
         {
          "column": 12,
          "x": "Chandigarh"
         },
         {
          "column": 12,
          "x": "Amritsar"
         },
         {
          "column": 12,
          "x": "Jammu"
         },
         {
          "column": 12,
          "x": "Hyderabad"
         },
         {
          "column": 12,
          "x": "Delhi - New Delhi"
         },
         {
          "column": 12,
          "x": "Delhi - New Delhi"
         },
         {
          "column": 12,
          "x": "Chandigarh"
         },
         {
          "column": 12,
          "x": "Chandigarh"
         },
         {
          "column": 12,
          "x": "Amritsar"
         },
         {
          "column": 12,
          "x": "Jammu"
         },
         {
          "column": 12,
          "x": "Srinagar"
         },
         {
          "column": 12,
          "x": "Srinagar"
         },
         {
          "column": 12,
          "x": "Srinagar"
         },
         {
          "column": 12,
          "x": "Kolkata"
         },
         {
          "column": 12,
          "x": "Delhi - New Delhi"
         },
         {
          "column": 12,
          "x": "Delhi - New Delhi"
         },
         {
          "column": 12,
          "x": "Chandigarh"
         },
         {
          "column": 12,
          "x": "Amritsar"
         },
         {
          "column": 12,
          "x": "Kolkata"
         },
         {
          "column": 12,
          "x": "Delhi - New Delhi"
         },
         {
          "column": 12,
          "x": "Delhi - New Delhi"
         },
         {
          "column": 12,
          "x": "Chandigarh"
         },
         {
          "column": 12,
          "x": "Delhi - New Delhi"
         },
         {
          "column": 12,
          "x": "Delhi - New Delhi"
         },
         {
          "column": 12,
          "x": "Amritsar"
         },
         {
          "column": 12,
          "x": "Srinagar"
         },
         {
          "column": 12,
          "x": "Jammu"
         },
         {
          "column": 12,
          "x": "Jammu"
         },
         {
          "column": 12,
          "x": "Kolkata"
         },
         {
          "column": 12,
          "x": "Hyderabad"
         },
         {
          "column": 12,
          "x": "Delhi - New Delhi"
         },
         {
          "column": 12,
          "x": "Delhi - New Delhi"
         },
         {
          "column": 12,
          "x": "Chandigarh"
         },
         {
          "column": 12,
          "x": "Amritsar"
         },
         {
          "column": 12,
          "x": "Jammu"
         },
         {
          "column": 12,
          "x": "Srinagar"
         },
         {
          "column": 12,
          "x": "Srinagar"
         },
         {
          "column": 12,
          "x": "Srinagar"
         },
         {
          "column": 12,
          "x": "Jammu"
         },
         {
          "column": 12,
          "x": "Jammu"
         },
         {
          "column": 12,
          "x": "Srinagar"
         },
         {
          "column": 12,
          "x": "Jammu"
         },
         {
          "column": 12,
          "x": "Delhi - New Delhi"
         },
         {
          "column": 12,
          "x": "Delhi - New Delhi"
         },
         {
          "column": 12,
          "x": "Chandigarh"
         },
         {
          "column": 12,
          "x": "Delhi - New Delhi"
         },
         {
          "column": 12,
          "x": "Jammu"
         },
         {
          "column": 12,
          "x": "Amritsar"
         },
         {
          "column": 12,
          "x": "Jammu"
         },
         {
          "column": 12,
          "x": "Ludhiana"
         },
         {
          "column": 12,
          "x": "Amritsar"
         },
         {
          "column": 12,
          "x": "Srinagar"
         },
         {
          "column": 12,
          "x": "Srinagar"
         },
         {
          "column": 12,
          "x": "Hyderabad"
         },
         {
          "column": 12,
          "x": "Hyderabad"
         },
         {
          "column": 12,
          "x": "Chandigarh"
         },
         {
          "column": 12,
          "x": "Delhi - New Delhi"
         },
         {
          "column": 12,
          "x": "Delhi - New Delhi"
         },
         {
          "column": 12,
          "x": "Chandigarh"
         },
         {
          "column": 12,
          "x": "Chandigarh"
         },
         {
          "column": 12,
          "x": "Delhi - New Delhi"
         },
         {
          "column": 12,
          "x": "Kolkata"
         },
         {
          "column": 12,
          "x": "Srinagar"
         },
         {
          "column": 12,
          "x": "Amritsar"
         },
         {
          "column": 12,
          "x": "Amritsar"
         },
         {
          "column": 12,
          "x": "Jammu"
         },
         {
          "column": 12,
          "x": "Delhi - New Delhi"
         },
         {
          "column": 12,
          "x": "Delhi - New Delhi"
         },
         {
          "column": 12,
          "x": "Chandigarh"
         },
         {
          "column": 12,
          "x": "Delhi - New Delhi"
         },
         {
          "column": 12,
          "x": "Jammu"
         },
         {
          "column": 12,
          "x": "Jammu"
         },
         {
          "column": 12,
          "x": "Amritsar"
         },
         {
          "column": 12,
          "x": "Jammu"
         },
         {
          "column": 12,
          "x": "Chandigarh"
         },
         {
          "column": 12,
          "x": "Delhi - New Delhi"
         },
         {
          "column": 12,
          "x": "Delhi - New Delhi"
         },
         {
          "column": 12,
          "x": "Chandigarh"
         },
         {
          "column": 12,
          "x": "Delhi - New Delhi"
         },
         {
          "column": 12,
          "x": "Srinagar"
         },
         {
          "column": 12,
          "x": "Jammu"
         },
         {
          "column": 12,
          "x": "Hyderabad"
         },
         {
          "column": 12,
          "x": "Kolkata"
         },
         {
          "column": 12,
          "x": "Amritsar"
         },
         {
          "column": 12,
          "x": "Srinagar"
         },
         {
          "column": 12,
          "x": "Chandigarh"
         },
         {
          "column": 12,
          "x": "Delhi - New Delhi"
         },
         {
          "column": 12,
          "x": "Delhi - New Delhi"
         },
         {
          "column": 12,
          "x": "Kolkata"
         },
         {
          "column": 12,
          "x": "Srinagar"
         },
         {
          "column": 12,
          "x": "Jammu"
         },
         {
          "column": 12,
          "x": "Srinagar"
         },
         {
          "column": 12,
          "x": "Jammu"
         },
         {
          "column": 12,
          "x": "Srinagar"
         },
         {
          "column": 12,
          "x": "Amritsar"
         },
         {
          "column": 12,
          "x": "Delhi - New Delhi"
         },
         {
          "column": 12,
          "x": "Delhi - New Delhi"
         },
         {
          "column": 12,
          "x": "Chandigarh"
         },
         {
          "column": 12,
          "x": "Jammu"
         },
         {
          "column": 12,
          "x": "Srinagar"
         },
         {
          "column": 12,
          "x": "Hyderabad"
         },
         {
          "column": 12,
          "x": "Amritsar"
         },
         {
          "column": 12,
          "x": "Delhi - New Delhi"
         },
         {
          "column": 12,
          "x": "Delhi - New Delhi"
         },
         {
          "column": 12,
          "x": "Chandigarh"
         },
         {
          "column": 12,
          "x": "Delhi - New Delhi"
         },
         {
          "column": 12,
          "x": "Jammu"
         },
         {
          "column": 12,
          "x": "Srinagar"
         },
         {
          "column": 12,
          "x": "Hyderabad"
         },
         {
          "column": 12,
          "x": "Amritsar"
         },
         {
          "column": 12,
          "x": "Ludhiana"
         },
         {
          "column": 12,
          "x": "Jammu"
         },
         {
          "column": 12,
          "x": "Jammu"
         },
         {
          "column": 12,
          "x": "Jammu"
         },
         {
          "column": 12,
          "x": "Srinagar"
         },
         {
          "column": 12,
          "x": "Srinagar"
         },
         {
          "column": 12,
          "x": "Kolkata"
         },
         {
          "column": 12,
          "x": "Chandigarh"
         },
         {
          "column": 12,
          "x": "Delhi - New Delhi"
         },
         {
          "column": 12,
          "x": "Chandigarh"
         },
         {
          "column": 12,
          "x": "Chandigarh"
         },
         {
          "column": 12,
          "x": "Delhi - New Delhi"
         },
         {
          "column": 12,
          "x": "Delhi - New Delhi"
         },
         {
          "column": 12,
          "x": "Delhi - New Delhi"
         },
         {
          "column": 12,
          "x": "Chandigarh"
         },
         {
          "column": 12,
          "x": "Chandigarh"
         },
         {
          "column": 12,
          "x": "Delhi - New Delhi"
         },
         {
          "column": 12,
          "x": "Kolkata"
         },
         {
          "column": 12,
          "x": "Srinagar"
         },
         {
          "column": 12,
          "x": "Srinagar"
         },
         {
          "column": 12,
          "x": "Hyderabad"
         },
         {
          "column": 12,
          "x": "Srinagar"
         },
         {
          "column": 12,
          "x": "Ludhiana"
         },
         {
          "column": 12,
          "x": "Hyderabad"
         },
         {
          "column": 12,
          "x": "Amritsar"
         },
         {
          "column": 12,
          "x": "Chandigarh"
         },
         {
          "column": 12,
          "x": "Delhi - New Delhi"
         },
         {
          "column": 12,
          "x": "Delhi - New Delhi"
         },
         {
          "column": 12,
          "x": "Amritsar"
         },
         {
          "column": 12,
          "x": "Chandigarh"
         },
         {
          "column": 12,
          "x": "Srinagar"
         },
         {
          "column": 12,
          "x": "Jammu"
         },
         {
          "column": 12,
          "x": "Kolkata"
         },
         {
          "column": 12,
          "x": "Kolkata"
         },
         {
          "column": 12,
          "x": "Amritsar"
         },
         {
          "column": 12,
          "x": "Chandigarh"
         },
         {
          "column": 12,
          "x": "Jammu"
         },
         {
          "column": 12,
          "x": "Srinagar"
         },
         {
          "column": 12,
          "x": "Srinagar"
         },
         {
          "column": 12,
          "x": "Jammu"
         },
         {
          "column": 12,
          "x": "Hyderabad"
         },
         {
          "column": 12,
          "x": "Amritsar"
         },
         {
          "column": 12,
          "x": "Chandigarh"
         },
         {
          "column": 12,
          "x": "Delhi - New Delhi"
         },
         {
          "column": 12,
          "x": "Srinagar"
         },
         {
          "column": 12,
          "x": "Jammu"
         },
         {
          "column": 12,
          "x": "Jammu"
         },
         {
          "column": 12,
          "x": "Jammu"
         },
         {
          "column": 12,
          "x": "Srinagar"
         },
         {
          "column": 12,
          "x": "Amritsar"
         },
         {
          "column": 12,
          "x": "Chandigarh"
         },
         {
          "column": 12,
          "x": "Chandigarh"
         },
         {
          "column": 12,
          "x": "Amritsar"
         },
         {
          "column": 12,
          "x": "Jammu"
         },
         {
          "column": 12,
          "x": "Jammu"
         },
         {
          "column": 12,
          "x": "Jammu"
         },
         {
          "column": 12,
          "x": "Jammu"
         },
         {
          "column": 12,
          "x": "Srinagar"
         },
         {
          "column": 12,
          "x": "Chandigarh"
         },
         {
          "column": 12,
          "x": "Chandigarh"
         },
         {
          "column": 12,
          "x": "Delhi - New Delhi"
         },
         {
          "column": 12,
          "x": "Jammu"
         },
         {
          "column": 12,
          "x": "Amritsar"
         },
         {
          "column": 12,
          "x": "Hyderabad"
         },
         {
          "column": 12,
          "x": "Srinagar"
         },
         {
          "column": 12,
          "x": "Hyderabad"
         },
         {
          "column": 12,
          "x": "Hyderabad"
         },
         {
          "column": 12,
          "x": "Hyderabad"
         },
         {
          "column": 12,
          "x": "Chandigarh"
         },
         {
          "column": 11,
          "x": "Amritsar"
         },
         {
          "column": 11,
          "x": "Jammu"
         },
         {
          "column": 11,
          "x": "Srinagar"
         },
         {
          "column": 11,
          "x": "Chandigarh"
         },
         {
          "column": 11,
          "x": "Amritsar"
         },
         {
          "column": 11,
          "x": "Srinagar"
         },
         {
          "column": 11,
          "x": "Chandigarh"
         },
         {
          "column": 11,
          "x": "Srinagar"
         },
         {
          "column": 11,
          "x": "Amritsar"
         },
         {
          "column": 11,
          "x": "Srinagar"
         },
         {
          "column": 11,
          "x": "Jammu"
         },
         {
          "column": 11,
          "x": "Chandigarh"
         },
         {
          "column": 11,
          "x": "Jammu"
         },
         {
          "column": 11,
          "x": "Jammu"
         },
         {
          "column": 11,
          "x": "Ludhiana"
         },
         {
          "column": 11,
          "x": "Jammu"
         },
         {
          "column": 11,
          "x": "Srinagar"
         },
         {
          "column": 11,
          "x": "Srinagar"
         },
         {
          "column": 11,
          "x": "Jammu"
         },
         {
          "column": 11,
          "x": "Hyderabad"
         },
         {
          "column": 11,
          "x": "Amritsar"
         },
         {
          "column": 11,
          "x": "Srinagar"
         },
         {
          "column": 11,
          "x": "Chandigarh"
         },
         {
          "column": 11,
          "x": "Delhi - New Delhi"
         },
         {
          "column": 11,
          "x": "Kolkata"
         },
         {
          "column": 11,
          "x": "Srinagar"
         },
         {
          "column": 11,
          "x": "Srinagar"
         },
         {
          "column": 11,
          "x": "Ludhiana"
         },
         {
          "column": 11,
          "x": "Jammu"
         },
         {
          "column": 11,
          "x": "Jammu"
         },
         {
          "column": 11,
          "x": "Srinagar"
         },
         {
          "column": 11,
          "x": "Srinagar"
         },
         {
          "column": 11,
          "x": "Srinagar"
         },
         {
          "column": 11,
          "x": "Jammu"
         },
         {
          "column": 11,
          "x": "Ludhiana"
         },
         {
          "column": 11,
          "x": "Ludhiana"
         },
         {
          "column": 11,
          "x": "Kolkata"
         },
         {
          "column": 11,
          "x": "Amritsar"
         },
         {
          "column": 11,
          "x": "Chandigarh"
         },
         {
          "column": 11,
          "x": "Chandigarh"
         },
         {
          "column": 11,
          "x": "Chandigarh"
         },
         {
          "column": 11,
          "x": "Delhi - New Delhi"
         },
         {
          "column": 11,
          "x": "Chandigarh"
         },
         {
          "column": 11,
          "x": "Kolkata"
         },
         {
          "column": 11,
          "x": "Kolkata"
         },
         {
          "column": 11,
          "x": "Jammu"
         },
         {
          "column": 11,
          "x": "Srinagar"
         },
         {
          "column": 11,
          "x": "Kolkata"
         },
         {
          "column": 11,
          "x": "Amritsar"
         },
         {
          "column": 11,
          "x": "Chandigarh"
         },
         {
          "column": 11,
          "x": "Chandigarh"
         },
         {
          "column": 11,
          "x": "Jammu"
         },
         {
          "column": 11,
          "x": "Jammu"
         },
         {
          "column": 11,
          "x": "Jammu"
         },
         {
          "column": 11,
          "x": "Amritsar"
         },
         {
          "column": 11,
          "x": "Hyderabad"
         },
         {
          "column": 11,
          "x": "Jammu"
         },
         {
          "column": 11,
          "x": "Ludhiana"
         },
         {
          "column": 11,
          "x": "Chandigarh"
         },
         {
          "column": 11,
          "x": "Amritsar"
         },
         {
          "column": 11,
          "x": "Hyderabad"
         },
         {
          "column": 11,
          "x": "Hyderabad"
         },
         {
          "column": 11,
          "x": "Chandigarh"
         },
         {
          "column": 11,
          "x": "Amritsar"
         },
         {
          "column": 11,
          "x": "Hyderabad"
         },
         {
          "column": 11,
          "x": "Chandigarh"
         },
         {
          "column": 11,
          "x": "Hyderabad"
         },
         {
          "column": 11,
          "x": "Jammu"
         },
         {
          "column": 11,
          "x": "Hyderabad"
         },
         {
          "column": 11,
          "x": "Srinagar"
         },
         {
          "column": 11,
          "x": "Amritsar"
         },
         {
          "column": 11,
          "x": "Chandigarh"
         },
         {
          "column": 11,
          "x": "Amritsar"
         },
         {
          "column": 11,
          "x": "Jammu"
         },
         {
          "column": 11,
          "x": "Hyderabad"
         },
         {
          "column": 11,
          "x": "Ludhiana"
         },
         {
          "column": 11,
          "x": "Chandigarh"
         },
         {
          "column": 11,
          "x": "Chandigarh"
         },
         {
          "column": 11,
          "x": "Amritsar"
         },
         {
          "column": 11,
          "x": "Jammu"
         },
         {
          "column": 11,
          "x": "Srinagar"
         },
         {
          "column": 11,
          "x": "Jammu"
         },
         {
          "column": 11,
          "x": "Ludhiana"
         },
         {
          "column": 11,
          "x": "Jammu"
         },
         {
          "column": 11,
          "x": "Chandigarh"
         },
         {
          "column": 11,
          "x": "Chandigarh"
         },
         {
          "column": 11,
          "x": "Delhi - New Delhi"
         },
         {
          "column": 11,
          "x": "Amritsar"
         },
         {
          "column": 11,
          "x": "Jammu"
         },
         {
          "column": 11,
          "x": "Jammu"
         },
         {
          "column": 11,
          "x": "Ludhiana"
         },
         {
          "column": 11,
          "x": "Hyderabad"
         },
         {
          "column": 11,
          "x": "Hyderabad"
         },
         {
          "column": 11,
          "x": "Chandigarh"
         },
         {
          "column": 11,
          "x": "Chandigarh"
         },
         {
          "column": 11,
          "x": "Amritsar"
         },
         {
          "column": 11,
          "x": "Hyderabad"
         },
         {
          "column": 11,
          "x": "Jammu"
         },
         {
          "column": 11,
          "x": "Kolkata"
         },
         {
          "column": 11,
          "x": "Chandigarh"
         },
         {
          "column": 11,
          "x": "Chandigarh"
         },
         {
          "column": 11,
          "x": "Amritsar"
         },
         {
          "column": 11,
          "x": "Chandigarh"
         },
         {
          "column": 11,
          "x": "Chandigarh"
         },
         {
          "column": 11,
          "x": "Amritsar"
         },
         {
          "column": 11,
          "x": "Chandigarh"
         },
         {
          "column": 11,
          "x": "Delhi - New Delhi"
         },
         {
          "column": 11,
          "x": "Amritsar"
         },
         {
          "column": 11,
          "x": "Chandigarh"
         },
         {
          "column": 11,
          "x": "Amritsar"
         },
         {
          "column": 11,
          "x": "Amritsar"
         },
         {
          "column": 11,
          "x": "Chandigarh"
         },
         {
          "column": 11,
          "x": "Srinagar"
         },
         {
          "column": 11,
          "x": "Jammu"
         },
         {
          "column": 11,
          "x": "Jammu"
         },
         {
          "column": 11,
          "x": "Jammu"
         },
         {
          "column": 11,
          "x": "Jammu"
         },
         {
          "column": 11,
          "x": "Srinagar"
         },
         {
          "column": 11,
          "x": "Amritsar"
         },
         {
          "column": 11,
          "x": "Chandigarh"
         },
         {
          "column": 11,
          "x": "Amritsar"
         },
         {
          "column": 11,
          "x": "Srinagar"
         },
         {
          "column": 11,
          "x": "Hyderabad"
         },
         {
          "column": 11,
          "x": "Chandigarh"
         },
         {
          "column": 11,
          "x": "Amritsar"
         },
         {
          "column": 11,
          "x": "Kolkata"
         },
         {
          "column": 11,
          "x": "Jammu"
         },
         {
          "column": 11,
          "x": "Ludhiana"
         },
         {
          "column": 11,
          "x": "Chandigarh"
         },
         {
          "column": 11,
          "x": "Delhi - New Delhi"
         },
         {
          "column": 11,
          "x": "Chandigarh"
         },
         {
          "column": 11,
          "x": "Amritsar"
         },
         {
          "column": 11,
          "x": "Ludhiana"
         },
         {
          "column": 11,
          "x": "Jammu"
         },
         {
          "column": 11,
          "x": "Jammu"
         },
         {
          "column": 11,
          "x": "Srinagar"
         },
         {
          "column": 11,
          "x": "Jammu"
         },
         {
          "column": 11,
          "x": "Srinagar"
         },
         {
          "column": 11,
          "x": "Ludhiana"
         },
         {
          "column": 11,
          "x": "Ludhiana"
         },
         {
          "column": 11,
          "x": "Hyderabad"
         },
         {
          "column": 11,
          "x": "Hyderabad"
         },
         {
          "column": 11,
          "x": "Chandigarh"
         },
         {
          "column": 11,
          "x": "Delhi - New Delhi"
         },
         {
          "column": 11,
          "x": "Amritsar"
         },
         {
          "column": 11,
          "x": "Ludhiana"
         },
         {
          "column": 11,
          "x": "Chandigarh"
         },
         {
          "column": 11,
          "x": "Delhi - New Delhi"
         },
         {
          "column": 11,
          "x": "Delhi - New Delhi"
         },
         {
          "column": 11,
          "x": "Amritsar"
         },
         {
          "column": 11,
          "x": "Srinagar"
         },
         {
          "column": 11,
          "x": "Hyderabad"
         },
         {
          "column": 11,
          "x": "Amritsar"
         },
         {
          "column": 11,
          "x": "Jammu"
         },
         {
          "column": 11,
          "x": "Jammu"
         },
         {
          "column": 11,
          "x": "Jammu"
         },
         {
          "column": 11,
          "x": "Chandigarh"
         },
         {
          "column": 11,
          "x": "Chandigarh"
         },
         {
          "column": 11,
          "x": "Jammu"
         },
         {
          "column": 11,
          "x": "Jammu"
         },
         {
          "column": 11,
          "x": "Jammu"
         },
         {
          "column": 11,
          "x": "Jammu"
         },
         {
          "column": 11,
          "x": "Srinagar"
         },
         {
          "column": 11,
          "x": "Kolkata"
         },
         {
          "column": 11,
          "x": "Amritsar"
         },
         {
          "column": 11,
          "x": "Chandigarh"
         },
         {
          "column": 11,
          "x": "Chandigarh"
         },
         {
          "column": 11,
          "x": "Amritsar"
         },
         {
          "column": 11,
          "x": "Amritsar"
         },
         {
          "column": 11,
          "x": "Jammu"
         },
         {
          "column": 11,
          "x": "Ludhiana"
         },
         {
          "column": 11,
          "x": "Chandigarh"
         },
         {
          "column": 11,
          "x": "Chandigarh"
         },
         {
          "column": 11,
          "x": "Chandigarh"
         },
         {
          "column": 11,
          "x": "Delhi - New Delhi"
         },
         {
          "column": 11,
          "x": "Delhi - New Delhi"
         },
         {
          "column": 11,
          "x": "Amritsar"
         },
         {
          "column": 11,
          "x": "Srinagar"
         },
         {
          "column": 11,
          "x": "Hyderabad"
         },
         {
          "column": 11,
          "x": "Kolkata"
         },
         {
          "column": 11,
          "x": "Ludhiana"
         },
         {
          "column": 11,
          "x": "Jammu"
         },
         {
          "column": 11,
          "x": "Srinagar"
         },
         {
          "column": 11,
          "x": "Jammu"
         },
         {
          "column": 11,
          "x": "Hyderabad"
         },
         {
          "column": 11,
          "x": "Kolkata"
         },
         {
          "column": 11,
          "x": "Kolkata"
         },
         {
          "column": 11,
          "x": "Kolkata"
         },
         {
          "column": 11,
          "x": "Hyderabad"
         },
         {
          "column": 11,
          "x": "Ludhiana"
         },
         {
          "column": 11,
          "x": "Kolkata"
         },
         {
          "column": 11,
          "x": "Kolkata"
         },
         {
          "column": 11,
          "x": "Kolkata"
         },
         {
          "column": 11,
          "x": "Chandigarh"
         },
         {
          "column": 11,
          "x": "Chandigarh"
         },
         {
          "column": 11,
          "x": "Delhi - New Delhi"
         },
         {
          "column": 11,
          "x": "Delhi - New Delhi"
         },
         {
          "column": 11,
          "x": "Amritsar"
         },
         {
          "column": 11,
          "x": "Jammu"
         },
         {
          "column": 11,
          "x": "Jammu"
         },
         {
          "column": 11,
          "x": "Jammu"
         },
         {
          "column": 11,
          "x": "Jammu"
         },
         {
          "column": 11,
          "x": "Chandigarh"
         },
         {
          "column": 11,
          "x": "Chandigarh"
         },
         {
          "column": 11,
          "x": "Kolkata"
         },
         {
          "column": 11,
          "x": "Srinagar"
         },
         {
          "column": 11,
          "x": "Ludhiana"
         },
         {
          "column": 11,
          "x": "Kolkata"
         },
         {
          "column": 11,
          "x": "Jammu"
         },
         {
          "column": 11,
          "x": "Chandigarh"
         },
         {
          "column": 11,
          "x": "Delhi - New Delhi"
         },
         {
          "column": 11,
          "x": "Delhi - New Delhi"
         },
         {
          "column": 11,
          "x": "Amritsar"
         },
         {
          "column": 11,
          "x": "Jammu"
         },
         {
          "column": 11,
          "x": "Amritsar"
         },
         {
          "column": 11,
          "x": "Jammu"
         },
         {
          "column": 11,
          "x": "Jammu"
         },
         {
          "column": 11,
          "x": "Hyderabad"
         },
         {
          "column": 11,
          "x": "Chandigarh"
         },
         {
          "column": 10,
          "x": "Hyderabad"
         },
         {
          "column": 10,
          "x": "Jammu"
         },
         {
          "column": 10,
          "x": "Amritsar"
         },
         {
          "column": 10,
          "x": "Jammu"
         },
         {
          "column": 10,
          "x": "Kolkata"
         },
         {
          "column": 10,
          "x": "Hyderabad"
         },
         {
          "column": 10,
          "x": "Chandigarh"
         },
         {
          "column": 10,
          "x": "Amritsar"
         },
         {
          "column": 10,
          "x": "Jammu"
         },
         {
          "column": 10,
          "x": "Jammu"
         },
         {
          "column": 10,
          "x": "Jammu"
         },
         {
          "column": 10,
          "x": "Hyderabad"
         },
         {
          "column": 10,
          "x": "Amritsar"
         },
         {
          "column": 10,
          "x": "Chandigarh"
         },
         {
          "column": 10,
          "x": "Chandigarh"
         },
         {
          "column": 10,
          "x": "Amritsar"
         },
         {
          "column": 10,
          "x": "Jammu"
         },
         {
          "column": 10,
          "x": "Jammu"
         },
         {
          "column": 10,
          "x": "Jammu"
         },
         {
          "column": 10,
          "x": "Srinagar"
         },
         {
          "column": 10,
          "x": "Jammu"
         },
         {
          "column": 10,
          "x": "Jammu"
         },
         {
          "column": 10,
          "x": "Chandigarh"
         },
         {
          "column": 10,
          "x": "Amritsar"
         },
         {
          "column": 10,
          "x": "Jammu"
         },
         {
          "column": 10,
          "x": "Jammu"
         },
         {
          "column": 10,
          "x": "Jammu"
         },
         {
          "column": 10,
          "x": "Srinagar"
         },
         {
          "column": 10,
          "x": "Chandigarh"
         },
         {
          "column": 10,
          "x": "Chandigarh"
         },
         {
          "column": 10,
          "x": "Delhi - New Delhi"
         },
         {
          "column": 10,
          "x": "Delhi - New Delhi"
         },
         {
          "column": 10,
          "x": "Amritsar"
         },
         {
          "column": 10,
          "x": "Ludhiana"
         },
         {
          "column": 10,
          "x": "Jammu"
         },
         {
          "column": 10,
          "x": "Hyderabad"
         },
         {
          "column": 10,
          "x": "Ludhiana"
         },
         {
          "column": 10,
          "x": "Hyderabad"
         },
         {
          "column": 10,
          "x": "Chandigarh"
         },
         {
          "column": 10,
          "x": "Chandigarh"
         },
         {
          "column": 10,
          "x": "Delhi - New Delhi"
         },
         {
          "column": 10,
          "x": "Amritsar"
         },
         {
          "column": 10,
          "x": "Ludhiana"
         },
         {
          "column": 10,
          "x": "Srinagar"
         },
         {
          "column": 10,
          "x": "Jammu"
         },
         {
          "column": 10,
          "x": "Hyderabad"
         },
         {
          "column": 10,
          "x": "Delhi - New Delhi"
         },
         {
          "column": 10,
          "x": "Chandigarh"
         },
         {
          "column": 10,
          "x": "Srinagar"
         },
         {
          "column": 10,
          "x": "Amritsar"
         },
         {
          "column": 10,
          "x": "Ludhiana"
         },
         {
          "column": 10,
          "x": "Ludhiana"
         },
         {
          "column": 10,
          "x": "Jammu"
         },
         {
          "column": 10,
          "x": "Jammu"
         },
         {
          "column": 10,
          "x": "Jammu"
         },
         {
          "column": 10,
          "x": "Jammu"
         },
         {
          "column": 10,
          "x": "Ludhiana"
         },
         {
          "column": 10,
          "x": "Jammu"
         },
         {
          "column": 10,
          "x": "Amritsar"
         },
         {
          "column": 10,
          "x": "Chandigarh"
         },
         {
          "column": 10,
          "x": "Chandigarh"
         },
         {
          "column": 10,
          "x": "Delhi - New Delhi"
         },
         {
          "column": 10,
          "x": "Jammu"
         },
         {
          "column": 10,
          "x": "Ludhiana"
         },
         {
          "column": 10,
          "x": "Amritsar"
         },
         {
          "column": 10,
          "x": "Ludhiana"
         },
         {
          "column": 10,
          "x": "Amritsar"
         },
         {
          "column": 10,
          "x": "Chandigarh"
         },
         {
          "column": 10,
          "x": "Delhi - New Delhi"
         },
         {
          "column": 10,
          "x": "Chandigarh"
         },
         {
          "column": 10,
          "x": "Chandigarh"
         },
         {
          "column": 10,
          "x": "Amritsar"
         },
         {
          "column": 10,
          "x": "Amritsar"
         },
         {
          "column": 10,
          "x": "Jammu"
         },
         {
          "column": 10,
          "x": "Jammu"
         },
         {
          "column": 10,
          "x": "Jammu"
         },
         {
          "column": 10,
          "x": "Jammu"
         },
         {
          "column": 10,
          "x": "Ludhiana"
         },
         {
          "column": 10,
          "x": "Chandigarh"
         },
         {
          "column": 10,
          "x": "Delhi - New Delhi"
         },
         {
          "column": 10,
          "x": "Chandigarh"
         },
         {
          "column": 10,
          "x": "Amritsar"
         },
         {
          "column": 10,
          "x": "Srinagar"
         },
         {
          "column": 10,
          "x": "Jammu"
         },
         {
          "column": 10,
          "x": "Jammu"
         },
         {
          "column": 10,
          "x": "Srinagar"
         },
         {
          "column": 10,
          "x": "Srinagar"
         },
         {
          "column": 10,
          "x": "Jammu"
         },
         {
          "column": 10,
          "x": "Ludhiana"
         },
         {
          "column": 10,
          "x": "Chandigarh"
         },
         {
          "column": 10,
          "x": "Delhi - New Delhi"
         },
         {
          "column": 10,
          "x": "Amritsar"
         },
         {
          "column": 10,
          "x": "Jammu"
         },
         {
          "column": 10,
          "x": "Srinagar"
         },
         {
          "column": 10,
          "x": "Jammu"
         },
         {
          "column": 10,
          "x": "Jammu"
         },
         {
          "column": 10,
          "x": "Srinagar"
         },
         {
          "column": 10,
          "x": "Srinagar"
         },
         {
          "column": 10,
          "x": "Hyderabad"
         },
         {
          "column": 10,
          "x": "Ludhiana"
         },
         {
          "column": 10,
          "x": "Chandigarh"
         },
         {
          "column": 10,
          "x": "Chandigarh"
         },
         {
          "column": 10,
          "x": "Amritsar"
         },
         {
          "column": 10,
          "x": "Jammu"
         },
         {
          "column": 10,
          "x": "Jammu"
         },
         {
          "column": 10,
          "x": "Jammu"
         },
         {
          "column": 10,
          "x": "Jammu"
         },
         {
          "column": 10,
          "x": "Ludhiana"
         },
         {
          "column": 10,
          "x": "Srinagar"
         },
         {
          "column": 10,
          "x": "Chandigarh"
         },
         {
          "column": 10,
          "x": "Chandigarh"
         },
         {
          "column": 10,
          "x": "Amritsar"
         },
         {
          "column": 10,
          "x": "Jammu"
         },
         {
          "column": 10,
          "x": "Jammu"
         },
         {
          "column": 10,
          "x": "Jammu"
         },
         {
          "column": 10,
          "x": "Jammu"
         },
         {
          "column": 10,
          "x": "Ludhiana"
         },
         {
          "column": 10,
          "x": "Chandigarh"
         },
         {
          "column": 10,
          "x": "Chandigarh"
         },
         {
          "column": 10,
          "x": "Amritsar"
         },
         {
          "column": 10,
          "x": "Ludhiana"
         },
         {
          "column": 10,
          "x": "Jammu"
         },
         {
          "column": 10,
          "x": "Ludhiana"
         },
         {
          "column": 10,
          "x": "Chandigarh"
         },
         {
          "column": 10,
          "x": "Amritsar"
         },
         {
          "column": 10,
          "x": "Jammu"
         },
         {
          "column": 10,
          "x": "Jammu"
         },
         {
          "column": 10,
          "x": "Hyderabad"
         },
         {
          "column": 10,
          "x": "Srinagar"
         },
         {
          "column": 10,
          "x": "Srinagar"
         },
         {
          "column": 10,
          "x": "Jammu"
         },
         {
          "column": 10,
          "x": "Jammu"
         },
         {
          "column": 10,
          "x": "Jammu"
         },
         {
          "column": 10,
          "x": "Ludhiana"
         },
         {
          "column": 10,
          "x": "Amritsar"
         },
         {
          "column": 10,
          "x": "Ludhiana"
         },
         {
          "column": 10,
          "x": "Hyderabad"
         },
         {
          "column": 10,
          "x": "Chandigarh"
         },
         {
          "column": 10,
          "x": "Delhi - New Delhi"
         },
         {
          "column": 10,
          "x": "Chandigarh"
         },
         {
          "column": 10,
          "x": "Amritsar"
         },
         {
          "column": 10,
          "x": "Ludhiana"
         },
         {
          "column": 10,
          "x": "Jammu"
         },
         {
          "column": 10,
          "x": "Jammu"
         },
         {
          "column": 10,
          "x": "Jammu"
         },
         {
          "column": 10,
          "x": "Srinagar"
         },
         {
          "column": 10,
          "x": "Hyderabad"
         },
         {
          "column": 10,
          "x": "Srinagar"
         },
         {
          "column": 10,
          "x": "Hyderabad"
         },
         {
          "column": 10,
          "x": "Kolkata"
         },
         {
          "column": 10,
          "x": "Jammu"
         },
         {
          "column": 10,
          "x": "Ludhiana"
         },
         {
          "column": 10,
          "x": "Chandigarh"
         },
         {
          "column": 10,
          "x": "Delhi - New Delhi"
         },
         {
          "column": 10,
          "x": "Delhi - New Delhi"
         },
         {
          "column": 10,
          "x": "Amritsar"
         },
         {
          "column": 10,
          "x": "Ludhiana"
         },
         {
          "column": 10,
          "x": "Jammu"
         },
         {
          "column": 10,
          "x": "Jammu"
         },
         {
          "column": 10,
          "x": "Jammu"
         },
         {
          "column": 10,
          "x": "Jammu"
         },
         {
          "column": 10,
          "x": "Srinagar"
         },
         {
          "column": 10,
          "x": "Srinagar"
         },
         {
          "column": 10,
          "x": "Hyderabad"
         },
         {
          "column": 10,
          "x": "Jammu"
         },
         {
          "column": 10,
          "x": "Chandigarh"
         },
         {
          "column": 10,
          "x": "Delhi - New Delhi"
         },
         {
          "column": 10,
          "x": "Amritsar"
         },
         {
          "column": 10,
          "x": "Jammu"
         },
         {
          "column": 10,
          "x": "Jammu"
         },
         {
          "column": 10,
          "x": "Srinagar"
         },
         {
          "column": 10,
          "x": "Jammu"
         },
         {
          "column": 10,
          "x": "Chandigarh"
         },
         {
          "column": 10,
          "x": "Chandigarh"
         },
         {
          "column": 10,
          "x": "Delhi - New Delhi"
         },
         {
          "column": 10,
          "x": "Delhi - New Delhi"
         },
         {
          "column": 10,
          "x": "Amritsar"
         },
         {
          "column": 10,
          "x": "Hyderabad"
         },
         {
          "column": 10,
          "x": "Jammu"
         },
         {
          "column": 10,
          "x": "Srinagar"
         },
         {
          "column": 10,
          "x": "Ludhiana"
         },
         {
          "column": 10,
          "x": "Jammu"
         },
         {
          "column": 10,
          "x": "Jammu"
         },
         {
          "column": 10,
          "x": "Srinagar"
         },
         {
          "column": 10,
          "x": "Jammu"
         },
         {
          "column": 10,
          "x": "Ludhiana"
         },
         {
          "column": 10,
          "x": "Srinagar"
         },
         {
          "column": 10,
          "x": "Kolkata"
         },
         {
          "column": 10,
          "x": "Chandigarh"
         },
         {
          "column": 10,
          "x": "Amritsar"
         },
         {
          "column": 10,
          "x": "Ludhiana"
         },
         {
          "column": 10,
          "x": "Srinagar"
         },
         {
          "column": 10,
          "x": "Jammu"
         },
         {
          "column": 10,
          "x": "Srinagar"
         },
         {
          "column": 10,
          "x": "Jammu"
         },
         {
          "column": 10,
          "x": "Jammu"
         },
         {
          "column": 10,
          "x": "Jammu"
         },
         {
          "column": 10,
          "x": "Srinagar"
         },
         {
          "column": 10,
          "x": "Srinagar"
         },
         {
          "column": 10,
          "x": "Srinagar"
         },
         {
          "column": 10,
          "x": "Ludhiana"
         },
         {
          "column": 10,
          "x": "Ludhiana"
         },
         {
          "column": 10,
          "x": "Hyderabad"
         },
         {
          "column": 10,
          "x": "Chandigarh"
         },
         {
          "column": 10,
          "x": "Delhi - New Delhi"
         },
         {
          "column": 10,
          "x": "Chandigarh"
         },
         {
          "column": 10,
          "x": "Delhi - New Delhi"
         },
         {
          "column": 10,
          "x": "Delhi - New Delhi"
         },
         {
          "column": 10,
          "x": "Amritsar"
         },
         {
          "column": 10,
          "x": "Jammu"
         },
         {
          "column": 10,
          "x": "Ludhiana"
         },
         {
          "column": 10,
          "x": "Hyderabad"
         },
         {
          "column": 10,
          "x": "Srinagar"
         },
         {
          "column": 10,
          "x": "Chandigarh"
         },
         {
          "column": 10,
          "x": "Chandigarh"
         },
         {
          "column": 10,
          "x": "Jammu"
         },
         {
          "column": 10,
          "x": "Hyderabad"
         },
         {
          "column": 10,
          "x": "Kolkata"
         },
         {
          "column": 10,
          "x": "Amritsar"
         },
         {
          "column": 10,
          "x": "Jammu"
         },
         {
          "column": 10,
          "x": "Ludhiana"
         },
         {
          "column": 10,
          "x": "Chandigarh"
         },
         {
          "column": 10,
          "x": "Delhi - New Delhi"
         },
         {
          "column": 10,
          "x": "Amritsar"
         },
         {
          "column": 10,
          "x": "Amritsar"
         },
         {
          "column": 10,
          "x": "Jammu"
         },
         {
          "column": 10,
          "x": "Srinagar"
         },
         {
          "column": 10,
          "x": "Jammu"
         },
         {
          "column": 10,
          "x": "Jammu"
         },
         {
          "column": 10,
          "x": "Jammu"
         },
         {
          "column": 10,
          "x": "Hyderabad"
         },
         {
          "column": 10,
          "x": "Jammu"
         },
         {
          "column": 10,
          "x": "Jammu"
         },
         {
          "column": 10,
          "x": "Hyderabad"
         },
         {
          "column": 10,
          "x": "Chandigarh"
         },
         {
          "column": 10,
          "x": "Chandigarh"
         },
         {
          "column": 10,
          "x": "Amritsar"
         },
         {
          "column": 10,
          "x": "Hyderabad"
         },
         {
          "column": 10,
          "x": "Kolkata"
         },
         {
          "column": 10,
          "x": "Kolkata"
         },
         {
          "column": 10,
          "x": "Jammu"
         },
         {
          "column": 10,
          "x": "Jammu"
         },
         {
          "column": 10,
          "x": "Srinagar"
         },
         {
          "column": 10,
          "x": "Kolkata"
         },
         {
          "column": 10,
          "x": "Kolkata"
         },
         {
          "column": 10,
          "x": "Chandigarh"
         },
         {
          "column": 10,
          "x": "Amritsar"
         },
         {
          "column": 10,
          "x": "Jammu"
         },
         {
          "column": 10,
          "x": "Jammu"
         },
         {
          "column": 10,
          "x": "Jammu"
         },
         {
          "column": 10,
          "x": "Ludhiana"
         },
         {
          "column": 10,
          "x": "Chandigarh"
         },
         {
          "column": 10,
          "x": "Delhi - New Delhi"
         },
         {
          "column": 10,
          "x": "Chandigarh"
         },
         {
          "column": 10,
          "x": "Kolkata"
         },
         {
          "column": 10,
          "x": "Amritsar"
         },
         {
          "column": 10,
          "x": "Ludhiana"
         },
         {
          "column": 10,
          "x": "Jammu"
         },
         {
          "column": 10,
          "x": "Jammu"
         },
         {
          "column": 10,
          "x": "Jammu"
         },
         {
          "column": 10,
          "x": "Jammu"
         },
         {
          "column": 10,
          "x": "Jammu"
         },
         {
          "column": 10,
          "x": "Kolkata"
         },
         {
          "column": 10,
          "x": "Kolkata"
         },
         {
          "column": 10,
          "x": "Chandigarh"
         },
         {
          "column": 10,
          "x": "Delhi - New Delhi"
         },
         {
          "column": 10,
          "x": "Amritsar"
         },
         {
          "column": 10,
          "x": "Srinagar"
         },
         {
          "column": 10,
          "x": "Srinagar"
         },
         {
          "column": 10,
          "x": "Jammu"
         },
         {
          "column": 10,
          "x": "Srinagar"
         },
         {
          "column": 10,
          "x": "Jammu"
         },
         {
          "column": 10,
          "x": "Jammu"
         },
         {
          "column": 10,
          "x": "Jammu"
         },
         {
          "column": 10,
          "x": "Jammu"
         },
         {
          "column": 10,
          "x": "Jammu"
         },
         {
          "column": 10,
          "x": "Kolkata"
         },
         {
          "column": 10,
          "x": "Kolkata"
         },
         {
          "column": 10,
          "x": "Kolkata"
         },
         {
          "column": 10,
          "x": "Hyderabad"
         },
         {
          "column": 10,
          "x": "Hyderabad"
         },
         {
          "column": 10,
          "x": "Chandigarh"
         },
         {
          "column": 10,
          "x": "Amritsar"
         },
         {
          "column": 10,
          "x": "Jammu"
         },
         {
          "column": 10,
          "x": "Jammu"
         },
         {
          "column": 10,
          "x": "Srinagar"
         },
         {
          "column": 10,
          "x": "Jammu"
         },
         {
          "column": 10,
          "x": "Chandigarh"
         },
         {
          "column": 10,
          "x": "Delhi - New Delhi"
         },
         {
          "column": 10,
          "x": "Kolkata"
         },
         {
          "column": 10,
          "x": "Hyderabad"
         },
         {
          "column": 10,
          "x": "Hyderabad"
         },
         {
          "column": 10,
          "x": "Jammu"
         },
         {
          "column": 10,
          "x": "Jammu"
         },
         {
          "column": 10,
          "x": "Amritsar"
         },
         {
          "column": 10,
          "x": "Chandigarh"
         },
         {
          "column": 10,
          "x": "Delhi - New Delhi"
         },
         {
          "column": 10,
          "x": "Jammu"
         },
         {
          "column": 10,
          "x": "Jammu"
         },
         {
          "column": 10,
          "x": "Amritsar"
         },
         {
          "column": 10,
          "x": "Ludhiana"
         },
         {
          "column": 10,
          "x": "Kolkata"
         },
         {
          "column": 10,
          "x": "Hyderabad"
         },
         {
          "column": 10,
          "x": "Amritsar"
         },
         {
          "column": 10,
          "x": "Jammu"
         },
         {
          "column": 10,
          "x": "Chandigarh"
         },
         {
          "column": 10,
          "x": "Delhi - New Delhi"
         },
         {
          "column": 10,
          "x": "Delhi - New Delhi"
         },
         {
          "column": 10,
          "x": "Chandigarh"
         },
         {
          "column": 10,
          "x": "Chandigarh"
         },
         {
          "column": 10,
          "x": "Delhi - New Delhi"
         },
         {
          "column": 10,
          "x": "Delhi - New Delhi"
         },
         {
          "column": 10,
          "x": "Jammu"
         },
         {
          "column": 10,
          "x": "Jammu"
         },
         {
          "column": 10,
          "x": "Jammu"
         },
         {
          "column": 10,
          "x": "Amritsar"
         },
         {
          "column": 10,
          "x": "Ludhiana"
         },
         {
          "column": 10,
          "x": "Kolkata"
         },
         {
          "column": 10,
          "x": "Amritsar"
         },
         {
          "column": 10,
          "x": "Ludhiana"
         },
         {
          "column": 10,
          "x": "Chandigarh"
         },
         {
          "column": 10,
          "x": "Chandigarh"
         },
         {
          "column": 10,
          "x": "Chandigarh"
         },
         {
          "column": 10,
          "x": "Delhi - New Delhi"
         },
         {
          "column": 10,
          "x": "Delhi - New Delhi"
         },
         {
          "column": 10,
          "x": "Chandigarh"
         },
         {
          "column": 10,
          "x": "Chandigarh"
         },
         {
          "column": 10,
          "x": "Chandigarh"
         },
         {
          "column": 9,
          "x": "Kolkata"
         },
         {
          "column": 9,
          "x": "Ludhiana"
         },
         {
          "column": 9,
          "x": "Amritsar"
         },
         {
          "column": 9,
          "x": "Jammu"
         },
         {
          "column": 9,
          "x": "Hyderabad"
         },
         {
          "column": 9,
          "x": "Ludhiana"
         },
         {
          "column": 9,
          "x": "Ludhiana"
         },
         {
          "column": 9,
          "x": "Hyderabad"
         },
         {
          "column": 9,
          "x": "Chandigarh"
         },
         {
          "column": 9,
          "x": "Delhi - New Delhi"
         },
         {
          "column": 9,
          "x": "Delhi - New Delhi"
         },
         {
          "column": 9,
          "x": "Delhi - New Delhi"
         },
         {
          "column": 9,
          "x": "Delhi - New Delhi"
         },
         {
          "column": 9,
          "x": "Delhi - New Delhi"
         },
         {
          "column": 9,
          "x": "Delhi - New Delhi"
         },
         {
          "column": 9,
          "x": "Delhi - New Delhi"
         },
         {
          "column": 9,
          "x": "Chandigarh"
         },
         {
          "column": 9,
          "x": "Delhi - New Delhi"
         },
         {
          "column": 9,
          "x": "Chandigarh"
         },
         {
          "column": 9,
          "x": "Delhi - New Delhi"
         },
         {
          "column": 9,
          "x": "Kolkata"
         },
         {
          "column": 9,
          "x": "Jammu"
         },
         {
          "column": 9,
          "x": "Amritsar"
         },
         {
          "column": 9,
          "x": "Ludhiana"
         },
         {
          "column": 9,
          "x": "Jammu"
         },
         {
          "column": 9,
          "x": "Jammu"
         },
         {
          "column": 9,
          "x": "Jammu"
         },
         {
          "column": 9,
          "x": "Srinagar"
         },
         {
          "column": 9,
          "x": "Srinagar"
         },
         {
          "column": 9,
          "x": "Chandigarh"
         },
         {
          "column": 9,
          "x": "Delhi - New Delhi"
         },
         {
          "column": 9,
          "x": "Hyderabad"
         },
         {
          "column": 9,
          "x": "Srinagar"
         },
         {
          "column": 9,
          "x": "Jammu"
         },
         {
          "column": 9,
          "x": "Srinagar"
         },
         {
          "column": 9,
          "x": "Srinagar"
         },
         {
          "column": 9,
          "x": "Kolkata"
         },
         {
          "column": 9,
          "x": "Hyderabad"
         },
         {
          "column": 9,
          "x": "Chandigarh"
         },
         {
          "column": 9,
          "x": "Delhi - New Delhi"
         },
         {
          "column": 9,
          "x": "Delhi - New Delhi"
         },
         {
          "column": 9,
          "x": "Chandigarh"
         },
         {
          "column": 9,
          "x": "Chandigarh"
         },
         {
          "column": 9,
          "x": "Chandigarh"
         },
         {
          "column": 9,
          "x": "Chandigarh"
         },
         {
          "column": 9,
          "x": "Delhi - New Delhi"
         },
         {
          "column": 9,
          "x": "Chandigarh"
         },
         {
          "column": 9,
          "x": "Jammu"
         },
         {
          "column": 9,
          "x": "Jammu"
         },
         {
          "column": 9,
          "x": "Kolkata"
         },
         {
          "column": 9,
          "x": "Kolkata"
         },
         {
          "column": 9,
          "x": "Chandigarh"
         },
         {
          "column": 9,
          "x": "Chandigarh"
         },
         {
          "column": 9,
          "x": "Amritsar"
         },
         {
          "column": 9,
          "x": "Srinagar"
         },
         {
          "column": 9,
          "x": "Srinagar"
         },
         {
          "column": 9,
          "x": "Srinagar"
         },
         {
          "column": 9,
          "x": "Jammu"
         },
         {
          "column": 9,
          "x": "Chandigarh"
         },
         {
          "column": 9,
          "x": "Jammu"
         },
         {
          "column": 9,
          "x": "Srinagar"
         },
         {
          "column": 9,
          "x": "Srinagar"
         },
         {
          "column": 9,
          "x": "Jammu"
         },
         {
          "column": 9,
          "x": "Hyderabad"
         },
         {
          "column": 9,
          "x": "Kolkata"
         },
         {
          "column": 9,
          "x": "Kolkata"
         },
         {
          "column": 9,
          "x": "Kolkata"
         },
         {
          "column": 9,
          "x": "Amritsar"
         },
         {
          "column": 9,
          "x": "Ludhiana"
         },
         {
          "column": 9,
          "x": "Jammu"
         },
         {
          "column": 9,
          "x": "Chandigarh"
         },
         {
          "column": 9,
          "x": "Chandigarh"
         },
         {
          "column": 9,
          "x": "Chandigarh"
         },
         {
          "column": 9,
          "x": "Hyderabad"
         },
         {
          "column": 9,
          "x": "Hyderabad"
         },
         {
          "column": 9,
          "x": "Jammu"
         },
         {
          "column": 9,
          "x": "Hyderabad"
         },
         {
          "column": 9,
          "x": "Hyderabad"
         },
         {
          "column": 9,
          "x": "Hyderabad"
         },
         {
          "column": 9,
          "x": "Kolkata"
         },
         {
          "column": 9,
          "x": "Amritsar"
         },
         {
          "column": 9,
          "x": "Chandigarh"
         },
         {
          "column": 9,
          "x": "Chandigarh"
         },
         {
          "column": 9,
          "x": "Amritsar"
         },
         {
          "column": 9,
          "x": "Ludhiana"
         },
         {
          "column": 9,
          "x": "Jammu"
         },
         {
          "column": 9,
          "x": "Srinagar"
         },
         {
          "column": 9,
          "x": "Jammu"
         },
         {
          "column": 9,
          "x": "Srinagar"
         },
         {
          "column": 9,
          "x": "Hyderabad"
         },
         {
          "column": 9,
          "x": "Hyderabad"
         },
         {
          "column": 9,
          "x": "Delhi - New Delhi"
         },
         {
          "column": 9,
          "x": "Chandigarh"
         },
         {
          "column": 9,
          "x": "Kolkata"
         },
         {
          "column": 9,
          "x": "Kolkata"
         },
         {
          "column": 9,
          "x": "Amritsar"
         },
         {
          "column": 9,
          "x": "Jammu"
         },
         {
          "column": 9,
          "x": "Jammu"
         },
         {
          "column": 9,
          "x": "Jammu"
         },
         {
          "column": 9,
          "x": "Srinagar"
         },
         {
          "column": 9,
          "x": "Hyderabad"
         },
         {
          "column": 9,
          "x": "Jammu"
         },
         {
          "column": 9,
          "x": "Srinagar"
         },
         {
          "column": 9,
          "x": "Delhi - New Delhi"
         },
         {
          "column": 9,
          "x": "Chandigarh"
         },
         {
          "column": 9,
          "x": "Jammu"
         },
         {
          "column": 9,
          "x": "Srinagar"
         },
         {
          "column": 9,
          "x": "Jammu"
         },
         {
          "column": 9,
          "x": "Ludhiana"
         },
         {
          "column": 9,
          "x": "Hyderabad"
         },
         {
          "column": 9,
          "x": "Hyderabad"
         },
         {
          "column": 9,
          "x": "Chandigarh"
         },
         {
          "column": 9,
          "x": "Chandigarh"
         },
         {
          "column": 9,
          "x": "Delhi - New Delhi"
         },
         {
          "column": 9,
          "x": "Delhi - New Delhi"
         },
         {
          "column": 9,
          "x": "Chandigarh"
         },
         {
          "column": 9,
          "x": "Amritsar"
         },
         {
          "column": 9,
          "x": "Ludhiana"
         },
         {
          "column": 9,
          "x": "Srinagar"
         },
         {
          "column": 9,
          "x": "Jammu"
         },
         {
          "column": 9,
          "x": "Jammu"
         },
         {
          "column": 9,
          "x": "Srinagar"
         },
         {
          "column": 9,
          "x": "Hyderabad"
         },
         {
          "column": 9,
          "x": "Hyderabad"
         },
         {
          "column": 9,
          "x": "Delhi - New Delhi"
         },
         {
          "column": 9,
          "x": "Chandigarh"
         },
         {
          "column": 9,
          "x": "Chandigarh"
         },
         {
          "column": 9,
          "x": "Srinagar"
         },
         {
          "column": 9,
          "x": "Srinagar"
         },
         {
          "column": 9,
          "x": "Chandigarh"
         },
         {
          "column": 9,
          "x": "Ludhiana"
         },
         {
          "column": 9,
          "x": "Jammu"
         },
         {
          "column": 9,
          "x": "Jammu"
         },
         {
          "column": 9,
          "x": "Kolkata"
         },
         {
          "column": 9,
          "x": "Delhi - New Delhi"
         },
         {
          "column": 9,
          "x": "Jammu"
         },
         {
          "column": 9,
          "x": "Ludhiana"
         },
         {
          "column": 9,
          "x": "Ludhiana"
         },
         {
          "column": 9,
          "x": "Amritsar"
         },
         {
          "column": 9,
          "x": "Jammu"
         },
         {
          "column": 9,
          "x": "Jammu"
         },
         {
          "column": 9,
          "x": "Jammu"
         },
         {
          "column": 9,
          "x": "Srinagar"
         },
         {
          "column": 9,
          "x": "Srinagar"
         },
         {
          "column": 9,
          "x": "Srinagar"
         },
         {
          "column": 9,
          "x": "Srinagar"
         },
         {
          "column": 9,
          "x": "Delhi - New Delhi"
         },
         {
          "column": 9,
          "x": "Ludhiana"
         },
         {
          "column": 9,
          "x": "Amritsar"
         },
         {
          "column": 9,
          "x": "Amritsar"
         },
         {
          "column": 9,
          "x": "Amritsar"
         },
         {
          "column": 9,
          "x": "Jammu"
         },
         {
          "column": 9,
          "x": "Kolkata"
         },
         {
          "column": 9,
          "x": "Ludhiana"
         },
         {
          "column": 9,
          "x": "Delhi - New Delhi"
         },
         {
          "column": 9,
          "x": "Chandigarh"
         },
         {
          "column": 9,
          "x": "Chandigarh"
         },
         {
          "column": 9,
          "x": "Chandigarh"
         },
         {
          "column": 9,
          "x": "Ludhiana"
         },
         {
          "column": 9,
          "x": "Jammu"
         },
         {
          "column": 9,
          "x": "Jammu"
         },
         {
          "column": 9,
          "x": "Jammu"
         },
         {
          "column": 9,
          "x": "Jammu"
         },
         {
          "column": 9,
          "x": "Amritsar"
         },
         {
          "column": 9,
          "x": "Ludhiana"
         },
         {
          "column": 9,
          "x": "Srinagar"
         },
         {
          "column": 9,
          "x": "Srinagar"
         },
         {
          "column": 9,
          "x": "Delhi - New Delhi"
         },
         {
          "column": 9,
          "x": "Delhi - New Delhi"
         },
         {
          "column": 9,
          "x": "Chandigarh"
         },
         {
          "column": 9,
          "x": "Amritsar"
         },
         {
          "column": 9,
          "x": "Hyderabad"
         },
         {
          "column": 9,
          "x": "Jammu"
         },
         {
          "column": 9,
          "x": "Jammu"
         },
         {
          "column": 9,
          "x": "Jammu"
         },
         {
          "column": 9,
          "x": "Ludhiana"
         },
         {
          "column": 9,
          "x": "Kolkata"
         },
         {
          "column": 9,
          "x": "Hyderabad"
         },
         {
          "column": 9,
          "x": "Srinagar"
         },
         {
          "column": 9,
          "x": "Srinagar"
         },
         {
          "column": 9,
          "x": "Delhi - New Delhi"
         },
         {
          "column": 9,
          "x": "Delhi - New Delhi"
         },
         {
          "column": 9,
          "x": "Delhi - New Delhi"
         },
         {
          "column": 9,
          "x": "Delhi - New Delhi"
         },
         {
          "column": 9,
          "x": "Hyderabad"
         },
         {
          "column": 9,
          "x": "Jammu"
         },
         {
          "column": 9,
          "x": "Jammu"
         },
         {
          "column": 9,
          "x": "Ludhiana"
         },
         {
          "column": 9,
          "x": "Jammu"
         },
         {
          "column": 9,
          "x": "Kolkata"
         },
         {
          "column": 9,
          "x": "Srinagar"
         },
         {
          "column": 9,
          "x": "Kolkata"
         },
         {
          "column": 9,
          "x": "Jammu"
         },
         {
          "column": 9,
          "x": "Kolkata"
         },
         {
          "column": 9,
          "x": "Jammu"
         },
         {
          "column": 9,
          "x": "Jammu"
         },
         {
          "column": 9,
          "x": "Kolkata"
         },
         {
          "column": 9,
          "x": "Amritsar"
         },
         {
          "column": 9,
          "x": "Ludhiana"
         },
         {
          "column": 9,
          "x": "Jammu"
         },
         {
          "column": 9,
          "x": "Jammu"
         },
         {
          "column": 9,
          "x": "Hyderabad"
         },
         {
          "column": 9,
          "x": "Srinagar"
         },
         {
          "column": 9,
          "x": "Chandigarh"
         },
         {
          "column": 9,
          "x": "Srinagar"
         },
         {
          "column": 9,
          "x": "Jammu"
         },
         {
          "column": 9,
          "x": "Jammu"
         },
         {
          "column": 9,
          "x": "Jammu"
         },
         {
          "column": 9,
          "x": "Delhi - New Delhi"
         },
         {
          "column": 9,
          "x": "Ludhiana"
         },
         {
          "column": 9,
          "x": "Jammu"
         },
         {
          "column": 9,
          "x": "Hyderabad"
         },
         {
          "column": 9,
          "x": "Delhi - New Delhi"
         },
         {
          "column": 9,
          "x": "Chandigarh"
         },
         {
          "column": 9,
          "x": "Delhi - New Delhi"
         },
         {
          "column": 9,
          "x": "Ludhiana"
         },
         {
          "column": 9,
          "x": "Jammu"
         },
         {
          "column": 9,
          "x": "Srinagar"
         },
         {
          "column": 9,
          "x": "Jammu"
         },
         {
          "column": 9,
          "x": "Jammu"
         },
         {
          "column": 9,
          "x": "Jammu"
         },
         {
          "column": 9,
          "x": "Hyderabad"
         },
         {
          "column": 9,
          "x": "Jammu"
         },
         {
          "column": 9,
          "x": "Amritsar"
         },
         {
          "column": 9,
          "x": "Amritsar"
         },
         {
          "column": 9,
          "x": "Ludhiana"
         },
         {
          "column": 9,
          "x": "Jammu"
         },
         {
          "column": 9,
          "x": "Jammu"
         },
         {
          "column": 9,
          "x": "Srinagar"
         },
         {
          "column": 9,
          "x": "Ludhiana"
         },
         {
          "column": 9,
          "x": "Jammu"
         },
         {
          "column": 9,
          "x": "Jammu"
         },
         {
          "column": 9,
          "x": "Delhi - New Delhi"
         },
         {
          "column": 9,
          "x": "Delhi - New Delhi"
         },
         {
          "column": 9,
          "x": "Delhi - New Delhi"
         },
         {
          "column": 9,
          "x": "Jammu"
         },
         {
          "column": 9,
          "x": "Jammu"
         },
         {
          "column": 9,
          "x": "Jammu"
         },
         {
          "column": 9,
          "x": "Jammu"
         },
         {
          "column": 9,
          "x": "Kolkata"
         },
         {
          "column": 9,
          "x": "Ludhiana"
         },
         {
          "column": 9,
          "x": "Jammu"
         },
         {
          "column": 9,
          "x": "Hyderabad"
         },
         {
          "column": 9,
          "x": "Jammu"
         },
         {
          "column": 9,
          "x": "Delhi - New Delhi"
         },
         {
          "column": 9,
          "x": "Amritsar"
         },
         {
          "column": 9,
          "x": "Delhi - New Delhi"
         },
         {
          "column": 9,
          "x": "Jammu"
         },
         {
          "column": 9,
          "x": "Srinagar"
         },
         {
          "column": 9,
          "x": "Delhi - New Delhi"
         },
         {
          "column": 9,
          "x": "Ludhiana"
         },
         {
          "column": 9,
          "x": "Jammu"
         },
         {
          "column": 9,
          "x": "Srinagar"
         },
         {
          "column": 9,
          "x": "Jammu"
         },
         {
          "column": 9,
          "x": "Jammu"
         },
         {
          "column": 9,
          "x": "Hyderabad"
         },
         {
          "column": 9,
          "x": "Ludhiana"
         },
         {
          "column": 9,
          "x": "Chandigarh"
         },
         {
          "column": 9,
          "x": "Chandigarh"
         },
         {
          "column": 9,
          "x": "Amritsar"
         },
         {
          "column": 9,
          "x": "Srinagar"
         },
         {
          "column": 9,
          "x": "Jammu"
         },
         {
          "column": 9,
          "x": "Jammu"
         },
         {
          "column": 9,
          "x": "Kolkata"
         },
         {
          "column": 9,
          "x": "Hyderabad"
         },
         {
          "column": 9,
          "x": "Delhi - New Delhi"
         },
         {
          "column": 8,
          "x": "Ludhiana"
         },
         {
          "column": 8,
          "x": "Jammu"
         },
         {
          "column": 8,
          "x": "Jammu"
         },
         {
          "column": 8,
          "x": "Jammu"
         },
         {
          "column": 8,
          "x": "Chandigarh"
         },
         {
          "column": 8,
          "x": "Chandigarh"
         },
         {
          "column": 8,
          "x": "Srinagar"
         },
         {
          "column": 8,
          "x": "Srinagar"
         },
         {
          "column": 8,
          "x": "Ludhiana"
         },
         {
          "column": 8,
          "x": "Delhi - New Delhi"
         },
         {
          "column": 8,
          "x": "Chandigarh"
         },
         {
          "column": 8,
          "x": "Chandigarh"
         },
         {
          "column": 8,
          "x": "Srinagar"
         },
         {
          "column": 8,
          "x": "Amritsar"
         },
         {
          "column": 8,
          "x": "Jammu"
         },
         {
          "column": 8,
          "x": "Srinagar"
         },
         {
          "column": 8,
          "x": "Srinagar"
         },
         {
          "column": 8,
          "x": "Amritsar"
         },
         {
          "column": 8,
          "x": "Srinagar"
         },
         {
          "column": 8,
          "x": "Jammu"
         },
         {
          "column": 8,
          "x": "Jammu"
         },
         {
          "column": 8,
          "x": "Hyderabad"
         },
         {
          "column": 8,
          "x": "Kolkata"
         },
         {
          "column": 8,
          "x": "Chandigarh"
         },
         {
          "column": 8,
          "x": "Delhi - New Delhi"
         },
         {
          "column": 8,
          "x": "Delhi - New Delhi"
         },
         {
          "column": 8,
          "x": "Chandigarh"
         },
         {
          "column": 8,
          "x": "Srinagar"
         },
         {
          "column": 8,
          "x": "Jammu"
         },
         {
          "column": 8,
          "x": "Jammu"
         },
         {
          "column": 8,
          "x": "Jammu"
         },
         {
          "column": 8,
          "x": "Hyderabad"
         },
         {
          "column": 8,
          "x": "Chandigarh"
         },
         {
          "column": 8,
          "x": "Hyderabad"
         },
         {
          "column": 8,
          "x": "Jammu"
         },
         {
          "column": 8,
          "x": "Jammu"
         },
         {
          "column": 8,
          "x": "Jammu"
         },
         {
          "column": 8,
          "x": "Jammu"
         },
         {
          "column": 8,
          "x": "Jammu"
         },
         {
          "column": 8,
          "x": "Srinagar"
         },
         {
          "column": 8,
          "x": "Hyderabad"
         },
         {
          "column": 8,
          "x": "Ludhiana"
         },
         {
          "column": 8,
          "x": "Amritsar"
         },
         {
          "column": 8,
          "x": "Jammu"
         },
         {
          "column": 8,
          "x": "Srinagar"
         },
         {
          "column": 8,
          "x": "Jammu"
         },
         {
          "column": 8,
          "x": "Hyderabad"
         },
         {
          "column": 8,
          "x": "Chandigarh"
         },
         {
          "column": 8,
          "x": "Hyderabad"
         },
         {
          "column": 8,
          "x": "Srinagar"
         },
         {
          "column": 8,
          "x": "Delhi - New Delhi"
         },
         {
          "column": 8,
          "x": "Chandigarh"
         },
         {
          "column": 8,
          "x": "Ludhiana"
         },
         {
          "column": 8,
          "x": "Ludhiana"
         },
         {
          "column": 8,
          "x": "Ludhiana"
         },
         {
          "column": 8,
          "x": "Srinagar"
         },
         {
          "column": 8,
          "x": "Srinagar"
         },
         {
          "column": 8,
          "x": "Chandigarh"
         },
         {
          "column": 8,
          "x": "Delhi - New Delhi"
         },
         {
          "column": 8,
          "x": "Delhi - New Delhi"
         },
         {
          "column": 8,
          "x": "Chandigarh"
         },
         {
          "column": 8,
          "x": "Ludhiana"
         },
         {
          "column": 8,
          "x": "Jammu"
         },
         {
          "column": 8,
          "x": "Srinagar"
         },
         {
          "column": 8,
          "x": "Jammu"
         },
         {
          "column": 8,
          "x": "Hyderabad"
         },
         {
          "column": 8,
          "x": "Hyderabad"
         },
         {
          "column": 8,
          "x": "Srinagar"
         },
         {
          "column": 8,
          "x": "Srinagar"
         },
         {
          "column": 8,
          "x": "Srinagar"
         },
         {
          "column": 8,
          "x": "Hyderabad"
         },
         {
          "column": 8,
          "x": "Hyderabad"
         },
         {
          "column": 8,
          "x": "Hyderabad"
         },
         {
          "column": 8,
          "x": "Hyderabad"
         },
         {
          "column": 8,
          "x": "Jammu"
         },
         {
          "column": 8,
          "x": "Jammu"
         },
         {
          "column": 8,
          "x": "Hyderabad"
         },
         {
          "column": 8,
          "x": "Jammu"
         },
         {
          "column": 8,
          "x": "Srinagar"
         },
         {
          "column": 8,
          "x": "Jammu"
         },
         {
          "column": 8,
          "x": "Jammu"
         },
         {
          "column": 8,
          "x": "Hyderabad"
         },
         {
          "column": 8,
          "x": "Hyderabad"
         },
         {
          "column": 8,
          "x": "Chandigarh"
         },
         {
          "column": 8,
          "x": "Amritsar"
         },
         {
          "column": 8,
          "x": "Amritsar"
         },
         {
          "column": 8,
          "x": "Amritsar"
         },
         {
          "column": 8,
          "x": "Jammu"
         },
         {
          "column": 8,
          "x": "Jammu"
         },
         {
          "column": 8,
          "x": "Ludhiana"
         },
         {
          "column": 8,
          "x": "Chandigarh"
         },
         {
          "column": 8,
          "x": "Amritsar"
         },
         {
          "column": 8,
          "x": "Delhi - New Delhi"
         },
         {
          "column": 8,
          "x": "Srinagar"
         },
         {
          "column": 8,
          "x": "Srinagar"
         },
         {
          "column": 8,
          "x": "Ludhiana"
         },
         {
          "column": 8,
          "x": "Chandigarh"
         },
         {
          "column": 8,
          "x": "Delhi - New Delhi"
         },
         {
          "column": 8,
          "x": "Ludhiana"
         },
         {
          "column": 8,
          "x": "Hyderabad"
         },
         {
          "column": 8,
          "x": "Jammu"
         },
         {
          "column": 8,
          "x": "Ludhiana"
         },
         {
          "column": 8,
          "x": "Delhi - New Delhi"
         },
         {
          "column": 8,
          "x": "Ludhiana"
         },
         {
          "column": 8,
          "x": "Hyderabad"
         },
         {
          "column": 8,
          "x": "Jammu"
         },
         {
          "column": 8,
          "x": "Kolkata"
         },
         {
          "column": 8,
          "x": "Ludhiana"
         },
         {
          "column": 8,
          "x": "Srinagar"
         },
         {
          "column": 8,
          "x": "Jammu"
         },
         {
          "column": 8,
          "x": "Jammu"
         },
         {
          "column": 8,
          "x": "Jammu"
         },
         {
          "column": 8,
          "x": "Ludhiana"
         },
         {
          "column": 8,
          "x": "Hyderabad"
         },
         {
          "column": 8,
          "x": "Hyderabad"
         },
         {
          "column": 8,
          "x": "Chandigarh"
         },
         {
          "column": 8,
          "x": "Chandigarh"
         },
         {
          "column": 8,
          "x": "Amritsar"
         },
         {
          "column": 8,
          "x": "Amritsar"
         },
         {
          "column": 8,
          "x": "Jammu"
         },
         {
          "column": 8,
          "x": "Ludhiana"
         },
         {
          "column": 8,
          "x": "Hyderabad"
         },
         {
          "column": 8,
          "x": "Delhi - New Delhi"
         },
         {
          "column": 8,
          "x": "Kolkata"
         },
         {
          "column": 8,
          "x": "Delhi - New Delhi"
         },
         {
          "column": 8,
          "x": "Chandigarh"
         },
         {
          "column": 8,
          "x": "Chandigarh"
         },
         {
          "column": 8,
          "x": "Amritsar"
         },
         {
          "column": 8,
          "x": "Ludhiana"
         },
         {
          "column": 8,
          "x": "Amritsar"
         },
         {
          "column": 8,
          "x": "Jammu"
         },
         {
          "column": 8,
          "x": "Srinagar"
         },
         {
          "column": 8,
          "x": "Chandigarh"
         },
         {
          "column": 8,
          "x": "Chandigarh"
         },
         {
          "column": 8,
          "x": "Delhi - New Delhi"
         },
         {
          "column": 8,
          "x": "Chandigarh"
         },
         {
          "column": 8,
          "x": "Delhi - New Delhi"
         },
         {
          "column": 8,
          "x": "Delhi - New Delhi"
         },
         {
          "column": 8,
          "x": "Delhi - New Delhi"
         },
         {
          "column": 8,
          "x": "Amritsar"
         },
         {
          "column": 8,
          "x": "Ludhiana"
         },
         {
          "column": 8,
          "x": "Jammu"
         },
         {
          "column": 8,
          "x": "Jammu"
         },
         {
          "column": 8,
          "x": "Hyderabad"
         },
         {
          "column": 8,
          "x": "Hyderabad"
         },
         {
          "column": 8,
          "x": "Jammu"
         },
         {
          "column": 8,
          "x": "Amritsar"
         },
         {
          "column": 8,
          "x": "Jammu"
         },
         {
          "column": 8,
          "x": "Jammu"
         },
         {
          "column": 8,
          "x": "Srinagar"
         },
         {
          "column": 8,
          "x": "Hyderabad"
         },
         {
          "column": 8,
          "x": "Srinagar"
         },
         {
          "column": 8,
          "x": "Amritsar"
         },
         {
          "column": 8,
          "x": "Amritsar"
         },
         {
          "column": 8,
          "x": "Jammu"
         },
         {
          "column": 8,
          "x": "Jammu"
         },
         {
          "column": 8,
          "x": "Chandigarh"
         },
         {
          "column": 8,
          "x": "Amritsar"
         },
         {
          "column": 8,
          "x": "Kolkata"
         },
         {
          "column": 8,
          "x": "Delhi - New Delhi"
         },
         {
          "column": 7,
          "x": "Ludhiana"
         },
         {
          "column": 7,
          "x": "Srinagar"
         },
         {
          "column": 7,
          "x": "Jammu"
         },
         {
          "column": 7,
          "x": "Delhi - New Delhi"
         },
         {
          "column": 7,
          "x": "Delhi - New Delhi"
         },
         {
          "column": 7,
          "x": "Delhi - New Delhi"
         },
         {
          "column": 7,
          "x": "Amritsar"
         },
         {
          "column": 7,
          "x": "Ludhiana"
         },
         {
          "column": 7,
          "x": "Hyderabad"
         },
         {
          "column": 7,
          "x": "Ludhiana"
         },
         {
          "column": 7,
          "x": "Hyderabad"
         },
         {
          "column": 7,
          "x": "Delhi - New Delhi"
         },
         {
          "column": 7,
          "x": "Delhi - New Delhi"
         },
         {
          "column": 7,
          "x": "Ludhiana"
         },
         {
          "column": 7,
          "x": "Amritsar"
         },
         {
          "column": 7,
          "x": "Ludhiana"
         },
         {
          "column": 7,
          "x": "Jammu"
         },
         {
          "column": 7,
          "x": "Srinagar"
         },
         {
          "column": 7,
          "x": "Jammu"
         },
         {
          "column": 7,
          "x": "Jammu"
         },
         {
          "column": 7,
          "x": "Hyderabad"
         },
         {
          "column": 7,
          "x": "Ludhiana"
         },
         {
          "column": 7,
          "x": "Delhi - New Delhi"
         },
         {
          "column": 7,
          "x": "Delhi - New Delhi"
         },
         {
          "column": 7,
          "x": "Delhi - New Delhi"
         },
         {
          "column": 7,
          "x": "Hyderabad"
         },
         {
          "column": 7,
          "x": "Chandigarh"
         },
         {
          "column": 7,
          "x": "Chandigarh"
         },
         {
          "column": 7,
          "x": "Jammu"
         },
         {
          "column": 7,
          "x": "Hyderabad"
         },
         {
          "column": 7,
          "x": "Ludhiana"
         },
         {
          "column": 7,
          "x": "Delhi - New Delhi"
         },
         {
          "column": 7,
          "x": "Jammu"
         },
         {
          "column": 7,
          "x": "Jammu"
         },
         {
          "column": 7,
          "x": "Jammu"
         },
         {
          "column": 7,
          "x": "Kolkata"
         },
         {
          "column": 7,
          "x": "Amritsar"
         },
         {
          "column": 7,
          "x": "Kolkata"
         },
         {
          "column": 7,
          "x": "Hyderabad"
         },
         {
          "column": 7,
          "x": "Jammu"
         },
         {
          "column": 7,
          "x": "Kolkata"
         },
         {
          "column": 7,
          "x": "Delhi - New Delhi"
         },
         {
          "column": 7,
          "x": "Kolkata"
         },
         {
          "column": 7,
          "x": "Ludhiana"
         },
         {
          "column": 7,
          "x": "Amritsar"
         },
         {
          "column": 7,
          "x": "Jammu"
         },
         {
          "column": 7,
          "x": "Jammu"
         },
         {
          "column": 7,
          "x": "Jammu"
         },
         {
          "column": 7,
          "x": "Hyderabad"
         },
         {
          "column": 7,
          "x": "Chandigarh"
         },
         {
          "column": 7,
          "x": "Srinagar"
         },
         {
          "column": 7,
          "x": "Srinagar"
         },
         {
          "column": 7,
          "x": "Jammu"
         },
         {
          "column": 7,
          "x": "Jammu"
         },
         {
          "column": 7,
          "x": "Hyderabad"
         },
         {
          "column": 7,
          "x": "Ludhiana"
         },
         {
          "column": 7,
          "x": "Jammu"
         },
         {
          "column": 7,
          "x": "Jammu"
         },
         {
          "column": 7,
          "x": "Srinagar"
         },
         {
          "column": 7,
          "x": "Delhi - New Delhi"
         },
         {
          "column": 7,
          "x": "Chandigarh"
         },
         {
          "column": 7,
          "x": "Ludhiana"
         },
         {
          "column": 7,
          "x": "Jammu"
         },
         {
          "column": 7,
          "x": "Jammu"
         },
         {
          "column": 7,
          "x": "Jammu"
         },
         {
          "column": 7,
          "x": "Srinagar"
         },
         {
          "column": 7,
          "x": "Hyderabad"
         },
         {
          "column": 7,
          "x": "Delhi - New Delhi"
         },
         {
          "column": 7,
          "x": "Kolkata"
         },
         {
          "column": 7,
          "x": "Kolkata"
         },
         {
          "column": 7,
          "x": "Jammu"
         },
         {
          "column": 7,
          "x": "Amritsar"
         },
         {
          "column": 7,
          "x": "Jammu"
         },
         {
          "column": 7,
          "x": "Jammu"
         },
         {
          "column": 7,
          "x": "Jammu"
         },
         {
          "column": 7,
          "x": "Jammu"
         },
         {
          "column": 7,
          "x": "Jammu"
         },
         {
          "column": 7,
          "x": "Jammu"
         },
         {
          "column": 7,
          "x": "Hyderabad"
         },
         {
          "column": 7,
          "x": "Hyderabad"
         },
         {
          "column": 7,
          "x": "Srinagar"
         },
         {
          "column": 7,
          "x": "Amritsar"
         },
         {
          "column": 7,
          "x": "Kolkata"
         },
         {
          "column": 7,
          "x": "Hyderabad"
         },
         {
          "column": 7,
          "x": "Kolkata"
         },
         {
          "column": 7,
          "x": "Kolkata"
         },
         {
          "column": 7,
          "x": "Jammu"
         },
         {
          "column": 7,
          "x": "Jammu"
         },
         {
          "column": 7,
          "x": "Kolkata"
         },
         {
          "column": 7,
          "x": "Jammu"
         },
         {
          "column": 7,
          "x": "Jammu"
         },
         {
          "column": 7,
          "x": "Kolkata"
         },
         {
          "column": 7,
          "x": "Kolkata"
         },
         {
          "column": 7,
          "x": "Jammu"
         },
         {
          "column": 7,
          "x": "Jammu"
         },
         {
          "column": 7,
          "x": "Hyderabad"
         },
         {
          "column": 7,
          "x": "Jammu"
         },
         {
          "column": 7,
          "x": "Srinagar"
         },
         {
          "column": 7,
          "x": "Hyderabad"
         },
         {
          "column": 7,
          "x": "Ludhiana"
         },
         {
          "column": 7,
          "x": "Jammu"
         },
         {
          "column": 7,
          "x": "Jammu"
         },
         {
          "column": 7,
          "x": "Jammu"
         },
         {
          "column": 7,
          "x": "Jammu"
         },
         {
          "column": 7,
          "x": "Kolkata"
         },
         {
          "column": 7,
          "x": "Kolkata"
         },
         {
          "column": 7,
          "x": "Jammu"
         },
         {
          "column": 7,
          "x": "Jammu"
         },
         {
          "column": 7,
          "x": "Amritsar"
         },
         {
          "column": 7,
          "x": "Amritsar"
         },
         {
          "column": 7,
          "x": "Amritsar"
         },
         {
          "column": 7,
          "x": "Ludhiana"
         },
         {
          "column": 7,
          "x": "Kolkata"
         },
         {
          "column": 7,
          "x": "Delhi - New Delhi"
         },
         {
          "column": 7,
          "x": "Amritsar"
         },
         {
          "column": 7,
          "x": "Ludhiana"
         },
         {
          "column": 7,
          "x": "Hyderabad"
         },
         {
          "column": 7,
          "x": "Srinagar"
         },
         {
          "column": 7,
          "x": "Kolkata"
         },
         {
          "column": 7,
          "x": "Kolkata"
         },
         {
          "column": 7,
          "x": "Kolkata"
         },
         {
          "column": 7,
          "x": "Kolkata"
         },
         {
          "column": 7,
          "x": "Kolkata"
         },
         {
          "column": 7,
          "x": "Delhi - New Delhi"
         },
         {
          "column": 7,
          "x": "Chandigarh"
         },
         {
          "column": 7,
          "x": "Hyderabad"
         },
         {
          "column": 7,
          "x": "Ludhiana"
         },
         {
          "column": 7,
          "x": "Amritsar"
         },
         {
          "column": 7,
          "x": "Jammu"
         },
         {
          "column": 7,
          "x": "Srinagar"
         },
         {
          "column": 7,
          "x": "Jammu"
         },
         {
          "column": 7,
          "x": "Hyderabad"
         },
         {
          "column": 7,
          "x": "Hyderabad"
         },
         {
          "column": 7,
          "x": "Hyderabad"
         },
         {
          "column": 7,
          "x": "Jammu"
         },
         {
          "column": 7,
          "x": "Jammu"
         },
         {
          "column": 7,
          "x": "Jammu"
         },
         {
          "column": 7,
          "x": "Delhi - New Delhi"
         },
         {
          "column": 7,
          "x": "Chandigarh"
         },
         {
          "column": 7,
          "x": "Srinagar"
         },
         {
          "column": 7,
          "x": "Hyderabad"
         },
         {
          "column": 7,
          "x": "Jammu"
         },
         {
          "column": 7,
          "x": "Srinagar"
         },
         {
          "column": 7,
          "x": "Srinagar"
         },
         {
          "column": 7,
          "x": "Amritsar"
         },
         {
          "column": 7,
          "x": "Ludhiana"
         },
         {
          "column": 7,
          "x": "Jammu"
         },
         {
          "column": 7,
          "x": "Amritsar"
         },
         {
          "column": 7,
          "x": "Jammu"
         },
         {
          "column": 7,
          "x": "Srinagar"
         },
         {
          "column": 7,
          "x": "Amritsar"
         },
         {
          "column": 7,
          "x": "Srinagar"
         },
         {
          "column": 7,
          "x": "Srinagar"
         },
         {
          "column": 7,
          "x": "Jammu"
         },
         {
          "column": 7,
          "x": "Ludhiana"
         },
         {
          "column": 7,
          "x": "Delhi - New Delhi"
         },
         {
          "column": 7,
          "x": "Chandigarh"
         },
         {
          "column": 7,
          "x": "Hyderabad"
         },
         {
          "column": 7,
          "x": "Hyderabad"
         },
         {
          "column": 7,
          "x": "Ludhiana"
         },
         {
          "column": 7,
          "x": "Srinagar"
         },
         {
          "column": 7,
          "x": "Srinagar"
         },
         {
          "column": 7,
          "x": "Jammu"
         },
         {
          "column": 7,
          "x": "Jammu"
         },
         {
          "column": 7,
          "x": "Jammu"
         },
         {
          "column": 7,
          "x": "Chandigarh"
         },
         {
          "column": 7,
          "x": "Ludhiana"
         },
         {
          "column": 7,
          "x": "Amritsar"
         },
         {
          "column": 7,
          "x": "Ludhiana"
         },
         {
          "column": 7,
          "x": "Jammu"
         },
         {
          "column": 7,
          "x": "Jammu"
         },
         {
          "column": 7,
          "x": "Srinagar"
         },
         {
          "column": 7,
          "x": "Srinagar"
         },
         {
          "column": 7,
          "x": "Srinagar"
         },
         {
          "column": 7,
          "x": "Jammu"
         },
         {
          "column": 7,
          "x": "Delhi - New Delhi"
         },
         {
          "column": 7,
          "x": "Chandigarh"
         },
         {
          "column": 7,
          "x": "Delhi - New Delhi"
         },
         {
          "column": 6,
          "x": "Kolkata"
         },
         {
          "column": 6,
          "x": "Kolkata"
         },
         {
          "column": 6,
          "x": "Kolkata"
         },
         {
          "column": 6,
          "x": "Amritsar"
         },
         {
          "column": 6,
          "x": "Ludhiana"
         },
         {
          "column": 6,
          "x": "Ludhiana"
         },
         {
          "column": 6,
          "x": "Jammu"
         },
         {
          "column": 6,
          "x": "Hyderabad"
         },
         {
          "column": 6,
          "x": "Srinagar"
         },
         {
          "column": 6,
          "x": "Srinagar"
         },
         {
          "column": 6,
          "x": "Chandigarh"
         },
         {
          "column": 6,
          "x": "Hyderabad"
         },
         {
          "column": 6,
          "x": "Kolkata"
         },
         {
          "column": 6,
          "x": "Amritsar"
         },
         {
          "column": 6,
          "x": "Ludhiana"
         },
         {
          "column": 6,
          "x": "Ludhiana"
         },
         {
          "column": 6,
          "x": "Jammu"
         },
         {
          "column": 6,
          "x": "Amritsar"
         },
         {
          "column": 6,
          "x": "Ludhiana"
         },
         {
          "column": 6,
          "x": "Kolkata"
         },
         {
          "column": 6,
          "x": "Hyderabad"
         },
         {
          "column": 6,
          "x": "Delhi - New Delhi"
         },
         {
          "column": 6,
          "x": "Chandigarh"
         },
         {
          "column": 6,
          "x": "Chandigarh"
         },
         {
          "column": 6,
          "x": "Delhi - New Delhi"
         },
         {
          "column": 6,
          "x": "Srinagar"
         },
         {
          "column": 6,
          "x": "Kolkata"
         },
         {
          "column": 6,
          "x": "Chandigarh"
         },
         {
          "column": 6,
          "x": "Ludhiana"
         },
         {
          "column": 6,
          "x": "Srinagar"
         },
         {
          "column": 6,
          "x": "Kolkata"
         },
         {
          "column": 6,
          "x": "Amritsar"
         },
         {
          "column": 6,
          "x": "Hyderabad"
         },
         {
          "column": 6,
          "x": "Amritsar"
         },
         {
          "column": 6,
          "x": "Jammu"
         },
         {
          "column": 6,
          "x": "Jammu"
         },
         {
          "column": 6,
          "x": "Kolkata"
         },
         {
          "column": 6,
          "x": "Kolkata"
         },
         {
          "column": 6,
          "x": "Hyderabad"
         },
         {
          "column": 6,
          "x": "Delhi - New Delhi"
         },
         {
          "column": 6,
          "x": "Delhi - New Delhi"
         },
         {
          "column": 6,
          "x": "Kolkata"
         },
         {
          "column": 6,
          "x": "Ludhiana"
         },
         {
          "column": 6,
          "x": "Jammu"
         },
         {
          "column": 6,
          "x": "Srinagar"
         },
         {
          "column": 6,
          "x": "Jammu"
         },
         {
          "column": 6,
          "x": "Jammu"
         },
         {
          "column": 6,
          "x": "Kolkata"
         },
         {
          "column": 6,
          "x": "Ludhiana"
         },
         {
          "column": 6,
          "x": "Hyderabad"
         },
         {
          "column": 6,
          "x": "Amritsar"
         },
         {
          "column": 6,
          "x": "Jammu"
         },
         {
          "column": 6,
          "x": "Jammu"
         },
         {
          "column": 6,
          "x": "Kolkata"
         },
         {
          "column": 6,
          "x": "Kolkata"
         },
         {
          "column": 6,
          "x": "Chandigarh"
         },
         {
          "column": 6,
          "x": "Delhi - New Delhi"
         },
         {
          "column": 6,
          "x": "Amritsar"
         },
         {
          "column": 6,
          "x": "Amritsar"
         },
         {
          "column": 6,
          "x": "Amritsar"
         },
         {
          "column": 6,
          "x": "Ludhiana"
         },
         {
          "column": 6,
          "x": "Jammu"
         },
         {
          "column": 6,
          "x": "Jammu"
         },
         {
          "column": 6,
          "x": "Srinagar"
         },
         {
          "column": 6,
          "x": "Srinagar"
         },
         {
          "column": 6,
          "x": "Srinagar"
         },
         {
          "column": 6,
          "x": "Ludhiana"
         },
         {
          "column": 6,
          "x": "Ludhiana"
         },
         {
          "column": 6,
          "x": "Hyderabad"
         },
         {
          "column": 6,
          "x": "Hyderabad"
         },
         {
          "column": 6,
          "x": "Ludhiana"
         },
         {
          "column": 6,
          "x": "Jammu"
         },
         {
          "column": 6,
          "x": "Jammu"
         },
         {
          "column": 6,
          "x": "Srinagar"
         },
         {
          "column": 6,
          "x": "Ludhiana"
         },
         {
          "column": 6,
          "x": "Chandigarh"
         },
         {
          "column": 6,
          "x": "Delhi - New Delhi"
         },
         {
          "column": 6,
          "x": "Jammu"
         },
         {
          "column": 6,
          "x": "Amritsar"
         },
         {
          "column": 6,
          "x": "Delhi - New Delhi"
         },
         {
          "column": 6,
          "x": "Amritsar"
         },
         {
          "column": 6,
          "x": "Jammu"
         },
         {
          "column": 6,
          "x": "Hyderabad"
         },
         {
          "column": 6,
          "x": "Kolkata"
         },
         {
          "column": 6,
          "x": "Kolkata"
         },
         {
          "column": 6,
          "x": "Hyderabad"
         },
         {
          "column": 6,
          "x": "Delhi - New Delhi"
         },
         {
          "column": 6,
          "x": "Amritsar"
         },
         {
          "column": 6,
          "x": "Srinagar"
         },
         {
          "column": 6,
          "x": "Srinagar"
         },
         {
          "column": 6,
          "x": "Srinagar"
         },
         {
          "column": 6,
          "x": "Chandigarh"
         },
         {
          "column": 6,
          "x": "Delhi - New Delhi"
         },
         {
          "column": 6,
          "x": "Ludhiana"
         },
         {
          "column": 6,
          "x": "Ludhiana"
         },
         {
          "column": 6,
          "x": "Hyderabad"
         },
         {
          "column": 6,
          "x": "Kolkata"
         },
         {
          "column": 6,
          "x": "Srinagar"
         },
         {
          "column": 6,
          "x": "Srinagar"
         },
         {
          "column": 6,
          "x": "Srinagar"
         },
         {
          "column": 6,
          "x": "Jammu"
         },
         {
          "column": 6,
          "x": "Kolkata"
         },
         {
          "column": 6,
          "x": "Amritsar"
         },
         {
          "column": 6,
          "x": "Chandigarh"
         },
         {
          "column": 6,
          "x": "Srinagar"
         },
         {
          "column": 6,
          "x": "Jammu"
         },
         {
          "column": 6,
          "x": "Jammu"
         },
         {
          "column": 6,
          "x": "Kolkata"
         },
         {
          "column": 6,
          "x": "Ludhiana"
         },
         {
          "column": 6,
          "x": "Delhi - New Delhi"
         },
         {
          "column": 6,
          "x": "Delhi - New Delhi"
         },
         {
          "column": 6,
          "x": "Ludhiana"
         },
         {
          "column": 6,
          "x": "Amritsar"
         },
         {
          "column": 6,
          "x": "Amritsar"
         },
         {
          "column": 6,
          "x": "Srinagar"
         },
         {
          "column": 6,
          "x": "Jammu"
         },
         {
          "column": 6,
          "x": "Amritsar"
         },
         {
          "column": 6,
          "x": "Srinagar"
         },
         {
          "column": 6,
          "x": "Jammu"
         },
         {
          "column": 6,
          "x": "Ludhiana"
         },
         {
          "column": 6,
          "x": "Delhi - New Delhi"
         },
         {
          "column": 6,
          "x": "Chandigarh"
         },
         {
          "column": 6,
          "x": "Ludhiana"
         },
         {
          "column": 6,
          "x": "Jammu"
         },
         {
          "column": 6,
          "x": "Jammu"
         },
         {
          "column": 6,
          "x": "Chandigarh"
         },
         {
          "column": 6,
          "x": "Jammu"
         },
         {
          "column": 6,
          "x": "Ludhiana"
         },
         {
          "column": 6,
          "x": "Amritsar"
         },
         {
          "column": 6,
          "x": "Jammu"
         },
         {
          "column": 6,
          "x": "Jammu"
         },
         {
          "column": 6,
          "x": "Ludhiana"
         },
         {
          "column": 6,
          "x": "Chandigarh"
         },
         {
          "column": 6,
          "x": "Amritsar"
         },
         {
          "column": 6,
          "x": "Ludhiana"
         },
         {
          "column": 6,
          "x": "Jammu"
         },
         {
          "column": 6,
          "x": "Jammu"
         },
         {
          "column": 6,
          "x": "Jammu"
         },
         {
          "column": 6,
          "x": "Ludhiana"
         },
         {
          "column": 6,
          "x": "Jammu"
         },
         {
          "column": 6,
          "x": "Jammu"
         },
         {
          "column": 6,
          "x": "Jammu"
         },
         {
          "column": 6,
          "x": "Jammu"
         },
         {
          "column": 6,
          "x": "Srinagar"
         },
         {
          "column": 6,
          "x": "Jammu"
         },
         {
          "column": 6,
          "x": "Delhi - New Delhi"
         },
         {
          "column": 6,
          "x": "Chandigarh"
         },
         {
          "column": 6,
          "x": "Chandigarh"
         },
         {
          "column": 6,
          "x": "Hyderabad"
         },
         {
          "column": 6,
          "x": "Hyderabad"
         },
         {
          "column": 6,
          "x": "Jammu"
         },
         {
          "column": 6,
          "x": "Srinagar"
         },
         {
          "column": 6,
          "x": "Srinagar"
         },
         {
          "column": 6,
          "x": "Jammu"
         },
         {
          "column": 6,
          "x": "Hyderabad"
         },
         {
          "column": 6,
          "x": "Ludhiana"
         },
         {
          "column": 6,
          "x": "Chandigarh"
         },
         {
          "column": 6,
          "x": "Delhi - New Delhi"
         },
         {
          "column": 6,
          "x": "Ludhiana"
         },
         {
          "column": 6,
          "x": "Ludhiana"
         },
         {
          "column": 6,
          "x": "Jammu"
         },
         {
          "column": 6,
          "x": "Amritsar"
         },
         {
          "column": 6,
          "x": "Kolkata"
         },
         {
          "column": 6,
          "x": "Hyderabad"
         },
         {
          "column": 6,
          "x": "Delhi - New Delhi"
         },
         {
          "column": 6,
          "x": "Chandigarh"
         },
         {
          "column": 6,
          "x": "Jammu"
         },
         {
          "column": 6,
          "x": "Hyderabad"
         },
         {
          "column": 6,
          "x": "Delhi - New Delhi"
         },
         {
          "column": 6,
          "x": "Chandigarh"
         },
         {
          "column": 6,
          "x": "Chandigarh"
         },
         {
          "column": 6,
          "x": "Jammu"
         },
         {
          "column": 6,
          "x": "Delhi - New Delhi"
         },
         {
          "column": 6,
          "x": "Jammu"
         },
         {
          "column": 6,
          "x": "Srinagar"
         },
         {
          "column": 6,
          "x": "Jammu"
         },
         {
          "column": 6,
          "x": "Amritsar"
         },
         {
          "column": 6,
          "x": "Amritsar"
         },
         {
          "column": 6,
          "x": "Ludhiana"
         },
         {
          "column": 6,
          "x": "Ludhiana"
         },
         {
          "column": 6,
          "x": "Ludhiana"
         },
         {
          "column": 6,
          "x": "Jammu"
         },
         {
          "column": 6,
          "x": "Chandigarh"
         },
         {
          "column": 6,
          "x": "Chandigarh"
         },
         {
          "column": 6,
          "x": "Delhi - New Delhi"
         },
         {
          "column": 6,
          "x": "Chandigarh"
         },
         {
          "column": 6,
          "x": "Delhi - New Delhi"
         },
         {
          "column": 6,
          "x": "Amritsar"
         },
         {
          "column": 6,
          "x": "Jammu"
         },
         {
          "column": 6,
          "x": "Jammu"
         },
         {
          "column": 6,
          "x": "Kolkata"
         },
         {
          "column": 6,
          "x": "Amritsar"
         },
         {
          "column": 6,
          "x": "Ludhiana"
         },
         {
          "column": 6,
          "x": "Jammu"
         },
         {
          "column": 6,
          "x": "Hyderabad"
         },
         {
          "column": 6,
          "x": "Hyderabad"
         },
         {
          "column": 6,
          "x": "Delhi - New Delhi"
         },
         {
          "column": 6,
          "x": "Chandigarh"
         },
         {
          "column": 5,
          "x": "Jammu"
         },
         {
          "column": 5,
          "x": "Jammu"
         },
         {
          "column": 5,
          "x": "Jammu"
         },
         {
          "column": 5,
          "x": "Ludhiana"
         },
         {
          "column": 5,
          "x": "Jammu"
         },
         {
          "column": 5,
          "x": "Chandigarh"
         },
         {
          "column": 5,
          "x": "Chandigarh"
         },
         {
          "column": 5,
          "x": "Amritsar"
         },
         {
          "column": 5,
          "x": "Ludhiana"
         },
         {
          "column": 5,
          "x": "Ludhiana"
         },
         {
          "column": 5,
          "x": "Chandigarh"
         },
         {
          "column": 5,
          "x": "Amritsar"
         },
         {
          "column": 5,
          "x": "Amritsar"
         },
         {
          "column": 5,
          "x": "Ludhiana"
         },
         {
          "column": 5,
          "x": "Amritsar"
         },
         {
          "column": 5,
          "x": "Jammu"
         },
         {
          "column": 5,
          "x": "Srinagar"
         },
         {
          "column": 5,
          "x": "Chandigarh"
         },
         {
          "column": 5,
          "x": "Kolkata"
         },
         {
          "column": 5,
          "x": "Jammu"
         },
         {
          "column": 5,
          "x": "Srinagar"
         },
         {
          "column": 5,
          "x": "Jammu"
         },
         {
          "column": 5,
          "x": "Jammu"
         },
         {
          "column": 5,
          "x": "Jammu"
         },
         {
          "column": 5,
          "x": "Kolkata"
         },
         {
          "column": 5,
          "x": "Chandigarh"
         },
         {
          "column": 5,
          "x": "Kolkata"
         },
         {
          "column": 5,
          "x": "Jammu"
         },
         {
          "column": 5,
          "x": "Kolkata"
         },
         {
          "column": 5,
          "x": "Hyderabad"
         },
         {
          "column": 5,
          "x": "Kolkata"
         },
         {
          "column": 5,
          "x": "Kolkata"
         },
         {
          "column": 5,
          "x": "Kolkata"
         },
         {
          "column": 5,
          "x": "Kolkata"
         },
         {
          "column": 5,
          "x": "Ludhiana"
         },
         {
          "column": 5,
          "x": "Srinagar"
         },
         {
          "column": 5,
          "x": "Kolkata"
         },
         {
          "column": 5,
          "x": "Chandigarh"
         },
         {
          "column": 5,
          "x": "Kolkata"
         },
         {
          "column": 5,
          "x": "Srinagar"
         },
         {
          "column": 5,
          "x": "Ludhiana"
         },
         {
          "column": 5,
          "x": "Jammu"
         },
         {
          "column": 5,
          "x": "Srinagar"
         },
         {
          "column": 5,
          "x": "Srinagar"
         },
         {
          "column": 5,
          "x": "Jammu"
         },
         {
          "column": 5,
          "x": "Jammu"
         },
         {
          "column": 5,
          "x": "Kolkata"
         },
         {
          "column": 5,
          "x": "Hyderabad"
         },
         {
          "column": 5,
          "x": "Delhi - New Delhi"
         },
         {
          "column": 5,
          "x": "Chandigarh"
         },
         {
          "column": 5,
          "x": "Chandigarh"
         },
         {
          "column": 5,
          "x": "Amritsar"
         },
         {
          "column": 5,
          "x": "Srinagar"
         },
         {
          "column": 5,
          "x": "Ludhiana"
         },
         {
          "column": 5,
          "x": "Jammu"
         },
         {
          "column": 5,
          "x": "Srinagar"
         },
         {
          "column": 5,
          "x": "Delhi - New Delhi"
         },
         {
          "column": 5,
          "x": "Kolkata"
         },
         {
          "column": 5,
          "x": "Ludhiana"
         },
         {
          "column": 5,
          "x": "Srinagar"
         },
         {
          "column": 5,
          "x": "Jammu"
         },
         {
          "column": 5,
          "x": "Hyderabad"
         },
         {
          "column": 5,
          "x": "Srinagar"
         },
         {
          "column": 5,
          "x": "Jammu"
         },
         {
          "column": 5,
          "x": "Delhi - New Delhi"
         },
         {
          "column": 5,
          "x": "Srinagar"
         },
         {
          "column": 5,
          "x": "Jammu"
         },
         {
          "column": 5,
          "x": "Jammu"
         },
         {
          "column": 5,
          "x": "Ludhiana"
         },
         {
          "column": 5,
          "x": "Ludhiana"
         },
         {
          "column": 5,
          "x": "Hyderabad"
         },
         {
          "column": 5,
          "x": "Kolkata"
         },
         {
          "column": 5,
          "x": "Ludhiana"
         },
         {
          "column": 5,
          "x": "Jammu"
         },
         {
          "column": 5,
          "x": "Jammu"
         },
         {
          "column": 5,
          "x": "Ludhiana"
         },
         {
          "column": 5,
          "x": "Ludhiana"
         },
         {
          "column": 5,
          "x": "Jammu"
         },
         {
          "column": 5,
          "x": "Hyderabad"
         },
         {
          "column": 5,
          "x": "Kolkata"
         },
         {
          "column": 5,
          "x": "Jammu"
         },
         {
          "column": 5,
          "x": "Ludhiana"
         },
         {
          "column": 5,
          "x": "Ludhiana"
         },
         {
          "column": 5,
          "x": "Amritsar"
         },
         {
          "column": 5,
          "x": "Jammu"
         },
         {
          "column": 5,
          "x": "Srinagar"
         },
         {
          "column": 5,
          "x": "Jammu"
         },
         {
          "column": 5,
          "x": "Srinagar"
         },
         {
          "column": 5,
          "x": "Chandigarh"
         },
         {
          "column": 5,
          "x": "Ludhiana"
         },
         {
          "column": 5,
          "x": "Jammu"
         },
         {
          "column": 5,
          "x": "Ludhiana"
         },
         {
          "column": 5,
          "x": "Jammu"
         },
         {
          "column": 5,
          "x": "Hyderabad"
         },
         {
          "column": 5,
          "x": "Jammu"
         },
         {
          "column": 5,
          "x": "Jammu"
         },
         {
          "column": 5,
          "x": "Hyderabad"
         },
         {
          "column": 5,
          "x": "Amritsar"
         },
         {
          "column": 5,
          "x": "Ludhiana"
         },
         {
          "column": 5,
          "x": "Chandigarh"
         },
         {
          "column": 5,
          "x": "Hyderabad"
         },
         {
          "column": 5,
          "x": "Srinagar"
         },
         {
          "column": 5,
          "x": "Jammu"
         },
         {
          "column": 5,
          "x": "Kolkata"
         },
         {
          "column": 5,
          "x": "Ludhiana"
         },
         {
          "column": 5,
          "x": "Ludhiana"
         },
         {
          "column": 5,
          "x": "Amritsar"
         },
         {
          "column": 5,
          "x": "Chandigarh"
         },
         {
          "column": 4,
          "x": "Amritsar"
         },
         {
          "column": 4,
          "x": "Jammu"
         },
         {
          "column": 4,
          "x": "Hyderabad"
         },
         {
          "column": 4,
          "x": "Ludhiana"
         },
         {
          "column": 4,
          "x": "Srinagar"
         },
         {
          "column": 4,
          "x": "Amritsar"
         },
         {
          "column": 4,
          "x": "Delhi - New Delhi"
         },
         {
          "column": 4,
          "x": "Amritsar"
         },
         {
          "column": 4,
          "x": "Kolkata"
         },
         {
          "column": 4,
          "x": "Kolkata"
         },
         {
          "column": 4,
          "x": "Chandigarh"
         },
         {
          "column": 4,
          "x": "Srinagar"
         },
         {
          "column": 4,
          "x": "Srinagar"
         },
         {
          "column": 4,
          "x": "Srinagar"
         },
         {
          "column": 4,
          "x": "Delhi - New Delhi"
         },
         {
          "column": 4,
          "x": "Ludhiana"
         },
         {
          "column": 4,
          "x": "Jammu"
         },
         {
          "column": 4,
          "x": "Chandigarh"
         },
         {
          "column": 4,
          "x": "Amritsar"
         },
         {
          "column": 4,
          "x": "Srinagar"
         },
         {
          "column": 4,
          "x": "Kolkata"
         },
         {
          "column": 4,
          "x": "Ludhiana"
         },
         {
          "column": 4,
          "x": "Ludhiana"
         },
         {
          "column": 4,
          "x": "Ludhiana"
         },
         {
          "column": 4,
          "x": "Chandigarh"
         },
         {
          "column": 4,
          "x": "Kolkata"
         },
         {
          "column": 4,
          "x": "Amritsar"
         },
         {
          "column": 4,
          "x": "Srinagar"
         },
         {
          "column": 4,
          "x": "Delhi - New Delhi"
         },
         {
          "column": 4,
          "x": "Srinagar"
         },
         {
          "column": 4,
          "x": "Srinagar"
         },
         {
          "column": 4,
          "x": "Amritsar"
         },
         {
          "column": 4,
          "x": "Ludhiana"
         },
         {
          "column": 4,
          "x": "Hyderabad"
         },
         {
          "column": 4,
          "x": "Kolkata"
         },
         {
          "column": 4,
          "x": "Ludhiana"
         },
         {
          "column": 4,
          "x": "Kolkata"
         },
         {
          "column": 4,
          "x": "Amritsar"
         },
         {
          "column": 4,
          "x": "Kolkata"
         },
         {
          "column": 4,
          "x": "Kolkata"
         },
         {
          "column": 4,
          "x": "Hyderabad"
         },
         {
          "column": 4,
          "x": "Srinagar"
         },
         {
          "column": 4,
          "x": "Kolkata"
         },
         {
          "column": 4,
          "x": "Chandigarh"
         },
         {
          "column": 3,
          "x": "Kolkata"
         },
         {
          "column": 3,
          "x": "Srinagar"
         },
         {
          "column": 3,
          "x": "Kolkata"
         },
         {
          "column": 3,
          "x": "Hyderabad"
         },
         {
          "column": 3,
          "x": "Kolkata"
         },
         {
          "column": 3,
          "x": "Srinagar"
         },
         {
          "column": 3,
          "x": "Jammu"
         },
         {
          "column": 3,
          "x": "Srinagar"
         },
         {
          "column": 3,
          "x": "Chandigarh"
         },
         {
          "column": 3,
          "x": "Srinagar"
         },
         {
          "column": 3,
          "x": "Kolkata"
         },
         {
          "column": 3,
          "x": "Srinagar"
         },
         {
          "column": 3,
          "x": "Srinagar"
         },
         {
          "column": 3,
          "x": "Hyderabad"
         },
         {
          "column": 3,
          "x": "Hyderabad"
         },
         {
          "column": 3,
          "x": "Jammu"
         },
         {
          "column": 3,
          "x": "Hyderabad"
         },
         {
          "column": 3,
          "x": "Chandigarh"
         },
         {
          "column": 3,
          "x": "Ludhiana"
         },
         {
          "column": 3,
          "x": "Ludhiana"
         },
         {
          "column": 3,
          "x": "Srinagar"
         },
         {
          "column": 3,
          "x": "Delhi - New Delhi"
         },
         {
          "column": 3,
          "x": "Amritsar"
         },
         {
          "column": 3,
          "x": "Kolkata"
         },
         {
          "column": 3,
          "x": "Hyderabad"
         },
         {
          "column": 3,
          "x": "Jammu"
         },
         {
          "column": 3,
          "x": "Srinagar"
         },
         {
          "column": 3,
          "x": "Hyderabad"
         },
         {
          "column": 3,
          "x": "Chandigarh"
         },
         {
          "column": 3,
          "x": "Chandigarh"
         },
         {
          "column": 3,
          "x": "Amritsar"
         },
         {
          "column": 3,
          "x": "Ludhiana"
         },
         {
          "column": 3,
          "x": "Hyderabad"
         },
         {
          "column": 3,
          "x": "Hyderabad"
         },
         {
          "column": 3,
          "x": "Kolkata"
         },
         {
          "column": 3,
          "x": "Delhi - New Delhi"
         },
         {
          "column": 3,
          "x": "Chandigarh"
         },
         {
          "column": 3,
          "x": "Delhi - New Delhi"
         },
         {
          "column": 3,
          "x": "Amritsar"
         },
         {
          "column": 3,
          "x": "Hyderabad"
         },
         {
          "column": 3,
          "x": "Hyderabad"
         },
         {
          "column": 3,
          "x": "Amritsar"
         },
         {
          "column": 3,
          "x": "Ludhiana"
         },
         {
          "column": 3,
          "x": "Hyderabad"
         },
         {
          "column": 3,
          "x": "Hyderabad"
         },
         {
          "column": 3,
          "x": "Kolkata"
         },
         {
          "column": 3,
          "x": "Jammu"
         },
         {
          "column": 3,
          "x": "Kolkata"
         },
         {
          "column": 3,
          "x": "Ludhiana"
         },
         {
          "column": 3,
          "x": "Ludhiana"
         },
         {
          "column": 3,
          "x": "Amritsar"
         },
         {
          "column": 3,
          "x": "Jammu"
         },
         {
          "column": 3,
          "x": "Srinagar"
         },
         {
          "column": 3,
          "x": "Hyderabad"
         },
         {
          "column": 3,
          "x": "Kolkata"
         },
         {
          "column": 3,
          "x": "Chandigarh"
         },
         {
          "column": 3,
          "x": "Jammu"
         },
         {
          "column": 3,
          "x": "Ludhiana"
         },
         {
          "column": 3,
          "x": "Hyderabad"
         },
         {
          "column": 3,
          "x": "Hyderabad"
         },
         {
          "column": 3,
          "x": "Srinagar"
         },
         {
          "column": 3,
          "x": "Jammu"
         },
         {
          "column": 3,
          "x": "Kolkata"
         },
         {
          "column": 3,
          "x": "Ludhiana"
         },
         {
          "column": 3,
          "x": "Srinagar"
         },
         {
          "column": 3,
          "x": "Jammu"
         },
         {
          "column": 3,
          "x": "Hyderabad"
         },
         {
          "column": 3,
          "x": "Hyderabad"
         },
         {
          "column": 3,
          "x": "Jammu"
         },
         {
          "column": 3,
          "x": "Kolkata"
         },
         {
          "column": 3,
          "x": "Hyderabad"
         },
         {
          "column": 3,
          "x": "Delhi - New Delhi"
         },
         {
          "column": 3,
          "x": "Delhi - New Delhi"
         },
         {
          "column": 3,
          "x": "Delhi - New Delhi"
         },
         {
          "column": 3,
          "x": "Ludhiana"
         },
         {
          "column": 3,
          "x": "Hyderabad"
         },
         {
          "column": 3,
          "x": "Ludhiana"
         },
         {
          "column": 3,
          "x": "Amritsar"
         },
         {
          "column": 3,
          "x": "Srinagar"
         },
         {
          "column": 3,
          "x": "Jammu"
         },
         {
          "column": 3,
          "x": "Kolkata"
         },
         {
          "column": 3,
          "x": "Kolkata"
         },
         {
          "column": 3,
          "x": "Chandigarh"
         },
         {
          "column": 3,
          "x": "Chandigarh"
         },
         {
          "column": 3,
          "x": "Ludhiana"
         },
         {
          "column": 3,
          "x": "Ludhiana"
         },
         {
          "column": 3,
          "x": "Jammu"
         },
         {
          "column": 3,
          "x": "Hyderabad"
         },
         {
          "column": 3,
          "x": "Jammu"
         },
         {
          "column": 3,
          "x": "Hyderabad"
         },
         {
          "column": 3,
          "x": "Delhi - New Delhi"
         },
         {
          "column": 3,
          "x": "Chandigarh"
         },
         {
          "column": 3,
          "x": "Ludhiana"
         },
         {
          "column": 3,
          "x": "Jammu"
         },
         {
          "column": 3,
          "x": "Srinagar"
         },
         {
          "column": 3,
          "x": "Jammu"
         },
         {
          "column": 3,
          "x": "Hyderabad"
         },
         {
          "column": 3,
          "x": "Jammu"
         },
         {
          "column": 3,
          "x": "Srinagar"
         },
         {
          "column": 3,
          "x": "Srinagar"
         },
         {
          "column": 3,
          "x": "Jammu"
         },
         {
          "column": 3,
          "x": "Kolkata"
         },
         {
          "column": 3,
          "x": "Srinagar"
         },
         {
          "column": 3,
          "x": "Delhi - New Delhi"
         },
         {
          "column": 3,
          "x": "Delhi - New Delhi"
         },
         {
          "column": 3,
          "x": "Ludhiana"
         },
         {
          "column": 3,
          "x": "Ludhiana"
         },
         {
          "column": 3,
          "x": "Jammu"
         },
         {
          "column": 3,
          "x": "Hyderabad"
         },
         {
          "column": 3,
          "x": "Kolkata"
         },
         {
          "column": 3,
          "x": "Kolkata"
         },
         {
          "column": 2,
          "x": "Amritsar"
         },
         {
          "column": 2,
          "x": "Ludhiana"
         },
         {
          "column": 2,
          "x": "Jammu"
         },
         {
          "column": 2,
          "x": "Jammu"
         },
         {
          "column": 2,
          "x": "Hyderabad"
         },
         {
          "column": 2,
          "x": "Kolkata"
         },
         {
          "column": 2,
          "x": "Delhi - New Delhi"
         },
         {
          "column": 2,
          "x": "Srinagar"
         },
         {
          "column": 2,
          "x": "Kolkata"
         },
         {
          "column": 2,
          "x": "Chandigarh"
         },
         {
          "column": 2,
          "x": "Delhi - New Delhi"
         },
         {
          "column": 2,
          "x": "Delhi - New Delhi"
         },
         {
          "column": 2,
          "x": "Chandigarh"
         },
         {
          "column": 2,
          "x": "Delhi - New Delhi"
         },
         {
          "column": 2,
          "x": "Hyderabad"
         },
         {
          "column": 2,
          "x": "Jammu"
         },
         {
          "column": 2,
          "x": "Hyderabad"
         },
         {
          "column": 2,
          "x": "Delhi - New Delhi"
         },
         {
          "column": 2,
          "x": "Ludhiana"
         },
         {
          "column": 2,
          "x": "Amritsar"
         },
         {
          "column": 2,
          "x": "Hyderabad"
         },
         {
          "column": 2,
          "x": "Kolkata"
         },
         {
          "column": 2,
          "x": "Kolkata"
         },
         {
          "column": 2,
          "x": "Ludhiana"
         },
         {
          "column": 2,
          "x": "Delhi - New Delhi"
         },
         {
          "column": 2,
          "x": "Delhi - New Delhi"
         },
         {
          "column": 2,
          "x": "Delhi - New Delhi"
         },
         {
          "column": 2,
          "x": "Chandigarh"
         },
         {
          "column": 2,
          "x": "Ludhiana"
         },
         {
          "column": 2,
          "x": "Srinagar"
         },
         {
          "column": 2,
          "x": "Jammu"
         },
         {
          "column": 2,
          "x": "Hyderabad"
         },
         {
          "column": 2,
          "x": "Hyderabad"
         },
         {
          "column": 2,
          "x": "Hyderabad"
         },
         {
          "column": 2,
          "x": "Jammu"
         },
         {
          "column": 2,
          "x": "Kolkata"
         },
         {
          "column": 2,
          "x": "Delhi - New Delhi"
         },
         {
          "column": 2,
          "x": "Delhi - New Delhi"
         },
         {
          "column": 2,
          "x": "Chandigarh"
         },
         {
          "column": 2,
          "x": "Chandigarh"
         },
         {
          "column": 2,
          "x": "Delhi - New Delhi"
         },
         {
          "column": 2,
          "x": "Amritsar"
         },
         {
          "column": 2,
          "x": "Amritsar"
         },
         {
          "column": 2,
          "x": "Amritsar"
         },
         {
          "column": 2,
          "x": "Jammu"
         },
         {
          "column": 2,
          "x": "Hyderabad"
         },
         {
          "column": 2,
          "x": "Jammu"
         },
         {
          "column": 2,
          "x": "Hyderabad"
         },
         {
          "column": 2,
          "x": "Kolkata"
         },
         {
          "column": 2,
          "x": "Ludhiana"
         },
         {
          "column": 2,
          "x": "Delhi - New Delhi"
         },
         {
          "column": 2,
          "x": "Chandigarh"
         },
         {
          "column": 2,
          "x": "Chandigarh"
         },
         {
          "column": 2,
          "x": "Delhi - New Delhi"
         },
         {
          "column": 2,
          "x": "Delhi - New Delhi"
         },
         {
          "column": 2,
          "x": "Ludhiana"
         },
         {
          "column": 2,
          "x": "Amritsar"
         },
         {
          "column": 2,
          "x": "Amritsar"
         },
         {
          "column": 2,
          "x": "Delhi - New Delhi"
         },
         {
          "column": 2,
          "x": "Jammu"
         },
         {
          "column": 2,
          "x": "Jammu"
         },
         {
          "column": 2,
          "x": "Jammu"
         },
         {
          "column": 2,
          "x": "Ludhiana"
         },
         {
          "column": 2,
          "x": "Jammu"
         },
         {
          "column": 2,
          "x": "Chandigarh"
         },
         {
          "column": 2,
          "x": "Delhi - New Delhi"
         },
         {
          "column": 2,
          "x": "Hyderabad"
         },
         {
          "column": 2,
          "x": "Delhi - New Delhi"
         },
         {
          "column": 2,
          "x": "Delhi - New Delhi"
         },
         {
          "column": 2,
          "x": "Ludhiana"
         },
         {
          "column": 2,
          "x": "Ludhiana"
         },
         {
          "column": 2,
          "x": "Hyderabad"
         },
         {
          "column": 2,
          "x": "Delhi - New Delhi"
         },
         {
          "column": 2,
          "x": "Chandigarh"
         },
         {
          "column": 2,
          "x": "Chandigarh"
         },
         {
          "column": 2,
          "x": "Delhi - New Delhi"
         },
         {
          "column": 2,
          "x": "Delhi - New Delhi"
         },
         {
          "column": 2,
          "x": "Ludhiana"
         },
         {
          "column": 2,
          "x": "Jammu"
         },
         {
          "column": 2,
          "x": "Hyderabad"
         },
         {
          "column": 2,
          "x": "Ludhiana"
         },
         {
          "column": 2,
          "x": "Ludhiana"
         },
         {
          "column": 2,
          "x": "Chandigarh"
         },
         {
          "column": 2,
          "x": "Hyderabad"
         },
         {
          "column": 2,
          "x": "Jammu"
         },
         {
          "column": 2,
          "x": "Srinagar"
         },
         {
          "column": 2,
          "x": "Srinagar"
         },
         {
          "column": 2,
          "x": "Hyderabad"
         },
         {
          "column": 2,
          "x": "Hyderabad"
         },
         {
          "column": 2,
          "x": "Kolkata"
         },
         {
          "column": 2,
          "x": "Delhi - New Delhi"
         },
         {
          "column": 2,
          "x": "Jammu"
         },
         {
          "column": 2,
          "x": "Srinagar"
         },
         {
          "column": 2,
          "x": "Jammu"
         },
         {
          "column": 2,
          "x": "Hyderabad"
         },
         {
          "column": 2,
          "x": "Jammu"
         },
         {
          "column": 2,
          "x": "Kolkata"
         },
         {
          "column": 2,
          "x": "Chandigarh"
         },
         {
          "column": 2,
          "x": "Delhi - New Delhi"
         },
         {
          "column": 2,
          "x": "Delhi - New Delhi"
         },
         {
          "column": 2,
          "x": "Jammu"
         },
         {
          "column": 2,
          "x": "Srinagar"
         },
         {
          "column": 2,
          "x": "Jammu"
         },
         {
          "column": 2,
          "x": "Jammu"
         },
         {
          "column": 2,
          "x": "Jammu"
         },
         {
          "column": 2,
          "x": "Hyderabad"
         },
         {
          "column": 2,
          "x": "Delhi - New Delhi"
         },
         {
          "column": 2,
          "x": "Ludhiana"
         },
         {
          "column": 2,
          "x": "Ludhiana"
         },
         {
          "column": 2,
          "x": "Jammu"
         },
         {
          "column": 2,
          "x": "Srinagar"
         },
         {
          "column": 2,
          "x": "Jammu"
         },
         {
          "column": 2,
          "x": "Kolkata"
         },
         {
          "column": 2,
          "x": "Ludhiana"
         },
         {
          "column": 2,
          "x": "Delhi - New Delhi"
         },
         {
          "column": 2,
          "x": "Delhi - New Delhi"
         },
         {
          "column": 2,
          "x": "Srinagar"
         },
         {
          "column": 2,
          "x": "Amritsar"
         },
         {
          "column": 2,
          "x": "Jammu"
         },
         {
          "column": 2,
          "x": "Hyderabad"
         },
         {
          "column": 2,
          "x": "Kolkata"
         },
         {
          "column": 2,
          "x": "Delhi - New Delhi"
         },
         {
          "column": 2,
          "x": "Delhi - New Delhi"
         },
         {
          "column": 2,
          "x": "Delhi - New Delhi"
         },
         {
          "column": 2,
          "x": "Chandigarh"
         },
         {
          "column": 2,
          "x": "Srinagar"
         },
         {
          "column": 2,
          "x": "Ludhiana"
         },
         {
          "column": 2,
          "x": "Srinagar"
         },
         {
          "column": 2,
          "x": "Jammu"
         },
         {
          "column": 2,
          "x": "Jammu"
         },
         {
          "column": 2,
          "x": "Hyderabad"
         },
         {
          "column": 2,
          "x": "Hyderabad"
         },
         {
          "column": 2,
          "x": "Kolkata"
         },
         {
          "column": 2,
          "x": "Kolkata"
         },
         {
          "column": 2,
          "x": "Chandigarh"
         },
         {
          "column": 2,
          "x": "Chandigarh"
         },
         {
          "column": 2,
          "x": "Delhi - New Delhi"
         },
         {
          "column": 2,
          "x": "Amritsar"
         },
         {
          "column": 2,
          "x": "Kolkata"
         },
         {
          "column": 2,
          "x": "Ludhiana"
         },
         {
          "column": 2,
          "x": "Srinagar"
         },
         {
          "column": 2,
          "x": "Jammu"
         },
         {
          "column": 2,
          "x": "Srinagar"
         },
         {
          "column": 2,
          "x": "Hyderabad"
         },
         {
          "column": 2,
          "x": "Hyderabad"
         },
         {
          "column": 2,
          "x": "Delhi - New Delhi"
         },
         {
          "column": 2,
          "x": "Chandigarh"
         },
         {
          "column": 2,
          "x": "Jammu"
         },
         {
          "column": 2,
          "x": "Amritsar"
         },
         {
          "column": 2,
          "x": "Srinagar"
         },
         {
          "column": 2,
          "x": "Srinagar"
         },
         {
          "column": 2,
          "x": "Srinagar"
         },
         {
          "column": 2,
          "x": "Jammu"
         },
         {
          "column": 2,
          "x": "Hyderabad"
         },
         {
          "column": 2,
          "x": "Chandigarh"
         },
         {
          "column": 2,
          "x": "Delhi - New Delhi"
         },
         {
          "column": 2,
          "x": "Kolkata"
         },
         {
          "column": 2,
          "x": "Jammu"
         },
         {
          "column": 2,
          "x": "Hyderabad"
         },
         {
          "column": 2,
          "x": "Ludhiana"
         },
         {
          "column": 2,
          "x": "Kolkata"
         },
         {
          "column": 2,
          "x": "Delhi - New Delhi"
         },
         {
          "column": 2,
          "x": "Delhi - New Delhi"
         },
         {
          "column": 2,
          "x": "Srinagar"
         },
         {
          "column": 2,
          "x": "Amritsar"
         },
         {
          "column": 2,
          "x": "Amritsar"
         },
         {
          "column": 2,
          "x": "Jammu"
         },
         {
          "column": 2,
          "x": "Jammu"
         },
         {
          "column": 2,
          "x": "Srinagar"
         },
         {
          "column": 2,
          "x": "Kolkata"
         },
         {
          "column": 2,
          "x": "Ludhiana"
         },
         {
          "column": 2,
          "x": "Delhi - New Delhi"
         },
         {
          "column": 2,
          "x": "Delhi - New Delhi"
         },
         {
          "column": 2,
          "x": "Ludhiana"
         },
         {
          "column": 2,
          "x": "Ludhiana"
         },
         {
          "column": 2,
          "x": "Jammu"
         },
         {
          "column": 2,
          "x": "Jammu"
         },
         {
          "column": 2,
          "x": "Kolkata"
         },
         {
          "column": 2,
          "x": "Kolkata"
         },
         {
          "column": 2,
          "x": "Chandigarh"
         },
         {
          "column": 2,
          "x": "Delhi - New Delhi"
         },
         {
          "column": 2,
          "x": "Amritsar"
         },
         {
          "column": 2,
          "x": "Jammu"
         },
         {
          "column": 2,
          "x": "Hyderabad"
         },
         {
          "column": 2,
          "x": "Jammu"
         },
         {
          "column": 2,
          "x": "Jammu"
         },
         {
          "column": 2,
          "x": "Kolkata"
         },
         {
          "column": 2,
          "x": "Kolkata"
         },
         {
          "column": 2,
          "x": "Delhi - New Delhi"
         },
         {
          "column": 2,
          "x": "Chandigarh"
         },
         {
          "column": 2,
          "x": "Delhi - New Delhi"
         },
         {
          "column": 2,
          "x": "Chandigarh"
         },
         {
          "column": 2,
          "x": "Amritsar"
         },
         {
          "column": 2,
          "x": "Ludhiana"
         },
         {
          "column": 2,
          "x": "Amritsar"
         },
         {
          "column": 2,
          "x": "Jammu"
         },
         {
          "column": 2,
          "x": "Srinagar"
         },
         {
          "column": 2,
          "x": "Ludhiana"
         },
         {
          "column": 2,
          "x": "Kolkata"
         },
         {
          "column": 2,
          "x": "Ludhiana"
         },
         {
          "column": 2,
          "x": "Ludhiana"
         },
         {
          "column": 2,
          "x": "Amritsar"
         },
         {
          "column": 2,
          "x": "Jammu"
         },
         {
          "column": 2,
          "x": "Delhi - New Delhi"
         },
         {
          "column": 2,
          "x": "Chandigarh"
         },
         {
          "column": 2,
          "x": "Chandigarh"
         },
         {
          "column": 2,
          "x": "Chandigarh"
         },
         {
          "column": 2,
          "x": "Kolkata"
         },
         {
          "column": 1,
          "x": "Ludhiana"
         },
         {
          "column": 1,
          "x": "Jammu"
         },
         {
          "column": 1,
          "x": "Ludhiana"
         },
         {
          "column": 1,
          "x": "Amritsar"
         },
         {
          "column": 1,
          "x": "Jammu"
         },
         {
          "column": 1,
          "x": "Kolkata"
         },
         {
          "column": 1,
          "x": "Kolkata"
         },
         {
          "column": 1,
          "x": "Hyderabad"
         },
         {
          "column": 1,
          "x": "Ludhiana"
         },
         {
          "column": 1,
          "x": "Delhi - New Delhi"
         },
         {
          "column": 1,
          "x": "Delhi - New Delhi"
         },
         {
          "column": 1,
          "x": "Chandigarh"
         },
         {
          "column": 1,
          "x": "Chandigarh"
         },
         {
          "column": 1,
          "x": "Delhi - New Delhi"
         },
         {
          "column": 1,
          "x": "Chandigarh"
         },
         {
          "column": 1,
          "x": "Ludhiana"
         },
         {
          "column": 1,
          "x": "Amritsar"
         },
         {
          "column": 1,
          "x": "Srinagar"
         },
         {
          "column": 1,
          "x": "Jammu"
         },
         {
          "column": 1,
          "x": "Jammu"
         },
         {
          "column": 1,
          "x": "Hyderabad"
         },
         {
          "column": 1,
          "x": "Hyderabad"
         },
         {
          "column": 1,
          "x": "Srinagar"
         },
         {
          "column": 1,
          "x": "Kolkata"
         },
         {
          "column": 1,
          "x": "Kolkata"
         },
         {
          "column": 1,
          "x": "Kolkata"
         },
         {
          "column": 1,
          "x": "Kolkata"
         },
         {
          "column": 1,
          "x": "Kolkata"
         },
         {
          "column": 1,
          "x": "Delhi - New Delhi"
         },
         {
          "column": 1,
          "x": "Delhi - New Delhi"
         },
         {
          "column": 1,
          "x": "Chandigarh"
         },
         {
          "column": 1,
          "x": "Amritsar"
         },
         {
          "column": 1,
          "x": "Jammu"
         },
         {
          "column": 1,
          "x": "Chandigarh"
         },
         {
          "column": 1,
          "x": "Chandigarh"
         },
         {
          "column": 1,
          "x": "Delhi - New Delhi"
         },
         {
          "column": 1,
          "x": "Delhi - New Delhi"
         },
         {
          "column": 1,
          "x": "Jammu"
         },
         {
          "column": 1,
          "x": "Srinagar"
         },
         {
          "column": 1,
          "x": "Jammu"
         },
         {
          "column": 1,
          "x": "Jammu"
         },
         {
          "column": 1,
          "x": "Jammu"
         },
         {
          "column": 1,
          "x": "Kolkata"
         },
         {
          "column": 1,
          "x": "Jammu"
         },
         {
          "column": 1,
          "x": "Kolkata"
         },
         {
          "column": 1,
          "x": "Chandigarh"
         },
         {
          "column": 1,
          "x": "Ludhiana"
         },
         {
          "column": 1,
          "x": "Ludhiana"
         },
         {
          "column": 1,
          "x": "Jammu"
         },
         {
          "column": 1,
          "x": "Kolkata"
         },
         {
          "column": 1,
          "x": "Delhi - New Delhi"
         },
         {
          "column": 1,
          "x": "Kolkata"
         },
         {
          "column": 1,
          "x": "Kolkata"
         },
         {
          "column": 1,
          "x": "Kolkata"
         },
         {
          "column": 1,
          "x": "Hyderabad"
         },
         {
          "column": 1,
          "x": "Hyderabad"
         },
         {
          "column": 1,
          "x": "Delhi - New Delhi"
         },
         {
          "column": 1,
          "x": "Amritsar"
         },
         {
          "column": 1,
          "x": "Jammu"
         },
         {
          "column": 1,
          "x": "Kolkata"
         },
         {
          "column": 1,
          "x": "Hyderabad"
         },
         {
          "column": 1,
          "x": "Srinagar"
         },
         {
          "column": 1,
          "x": "Ludhiana"
         },
         {
          "column": 1,
          "x": "Amritsar"
         },
         {
          "column": 1,
          "x": "Ludhiana"
         },
         {
          "column": 1,
          "x": "Jammu"
         },
         {
          "column": 1,
          "x": "Delhi - New Delhi"
         },
         {
          "column": 1,
          "x": "Hyderabad"
         },
         {
          "column": 1,
          "x": "Hyderabad"
         },
         {
          "column": 1,
          "x": "Jammu"
         },
         {
          "column": 1,
          "x": "Jammu"
         },
         {
          "column": 1,
          "x": "Kolkata"
         },
         {
          "column": 1,
          "x": "Hyderabad"
         },
         {
          "column": 1,
          "x": "Chandigarh"
         },
         {
          "column": 1,
          "x": "Ludhiana"
         },
         {
          "column": 1,
          "x": "Hyderabad"
         },
         {
          "column": 1,
          "x": "Jammu"
         },
         {
          "column": 1,
          "x": "Delhi - New Delhi"
         },
         {
          "column": 1,
          "x": "Amritsar"
         },
         {
          "column": 1,
          "x": "Hyderabad"
         },
         {
          "column": 1,
          "x": "Hyderabad"
         },
         {
          "column": 1,
          "x": "Kolkata"
         },
         {
          "column": 1,
          "x": "Kolkata"
         },
         {
          "column": 1,
          "x": "Chandigarh"
         },
         {
          "column": 1,
          "x": "Delhi - New Delhi"
         },
         {
          "column": 1,
          "x": "Kolkata"
         },
         {
          "column": 1,
          "x": "Ludhiana"
         },
         {
          "column": 1,
          "x": "Amritsar"
         },
         {
          "column": 1,
          "x": "Ludhiana"
         },
         {
          "column": 1,
          "x": "Jammu"
         },
         {
          "column": 1,
          "x": "Jammu"
         },
         {
          "column": 1,
          "x": "Hyderabad"
         },
         {
          "column": 1,
          "x": "Hyderabad"
         },
         {
          "column": 1,
          "x": "Ludhiana"
         },
         {
          "column": 1,
          "x": "Delhi - New Delhi"
         },
         {
          "column": 1,
          "x": "Chandigarh"
         },
         {
          "column": 1,
          "x": "Delhi - New Delhi"
         },
         {
          "column": 1,
          "x": "Ludhiana"
         },
         {
          "column": 1,
          "x": "Amritsar"
         },
         {
          "column": 1,
          "x": "Ludhiana"
         },
         {
          "column": 1,
          "x": "Ludhiana"
         },
         {
          "column": 1,
          "x": "Jammu"
         },
         {
          "column": 1,
          "x": "Jammu"
         },
         {
          "column": 1,
          "x": "Hyderabad"
         },
         {
          "column": 1,
          "x": "Kolkata"
         },
         {
          "column": 1,
          "x": "Chandigarh"
         },
         {
          "column": 1,
          "x": "Delhi - New Delhi"
         },
         {
          "column": 1,
          "x": "Chandigarh"
         },
         {
          "column": 1,
          "x": "Delhi - New Delhi"
         },
         {
          "column": 1,
          "x": "Hyderabad"
         },
         {
          "column": 1,
          "x": "Amritsar"
         },
         {
          "column": 1,
          "x": "Hyderabad"
         },
         {
          "column": 1,
          "x": "Hyderabad"
         },
         {
          "column": 1,
          "x": "Chandigarh"
         },
         {
          "column": 1,
          "x": "Delhi - New Delhi"
         },
         {
          "column": 1,
          "x": "Delhi - New Delhi"
         },
         {
          "column": 1,
          "x": "Delhi - New Delhi"
         },
         {
          "column": 1,
          "x": "Kolkata"
         },
         {
          "column": 1,
          "x": "Ludhiana"
         },
         {
          "column": 1,
          "x": "Ludhiana"
         },
         {
          "column": 1,
          "x": "Jammu"
         },
         {
          "column": 1,
          "x": "Amritsar"
         },
         {
          "column": 1,
          "x": "Delhi - New Delhi"
         },
         {
          "column": 1,
          "x": "Chandigarh"
         },
         {
          "column": 1,
          "x": "Chandigarh"
         },
         {
          "column": 1,
          "x": "Chandigarh"
         },
         {
          "column": 1,
          "x": "Hyderabad"
         },
         {
          "column": 1,
          "x": "Amritsar"
         },
         {
          "column": 1,
          "x": "Jammu"
         },
         {
          "column": 1,
          "x": "Jammu"
         },
         {
          "column": 1,
          "x": "Srinagar"
         },
         {
          "column": 1,
          "x": "Kolkata"
         },
         {
          "column": 1,
          "x": "Amritsar"
         },
         {
          "column": 1,
          "x": "Chandigarh"
         },
         {
          "column": 1,
          "x": "Delhi - New Delhi"
         },
         {
          "column": 1,
          "x": "Chandigarh"
         },
         {
          "column": 1,
          "x": "Chandigarh"
         },
         {
          "column": 1,
          "x": "Delhi - New Delhi"
         },
         {
          "column": 1,
          "x": "Delhi - New Delhi"
         },
         {
          "column": 1,
          "x": "Delhi - New Delhi"
         },
         {
          "column": 1,
          "x": "Jammu"
         },
         {
          "column": 1,
          "x": "Jammu"
         },
         {
          "column": 1,
          "x": "Jammu"
         },
         {
          "column": 1,
          "x": "Srinagar"
         },
         {
          "column": 1,
          "x": "Jammu"
         },
         {
          "column": 1,
          "x": "Kolkata"
         },
         {
          "column": 1,
          "x": "Amritsar"
         },
         {
          "column": 1,
          "x": "Delhi - New Delhi"
         },
         {
          "column": 1,
          "x": "Delhi - New Delhi"
         },
         {
          "column": 1,
          "x": "Delhi - New Delhi"
         },
         {
          "column": 1,
          "x": "Delhi - New Delhi"
         },
         {
          "column": 1,
          "x": "Ludhiana"
         },
         {
          "column": 1,
          "x": "Kolkata"
         },
         {
          "column": 1,
          "x": "Delhi - New Delhi"
         },
         {
          "column": 1,
          "x": "Delhi - New Delhi"
         },
         {
          "column": 1,
          "x": "Delhi - New Delhi"
         },
         {
          "column": 1,
          "x": "Hyderabad"
         },
         {
          "column": 1,
          "x": "Kolkata"
         },
         {
          "column": 1,
          "x": "Kolkata"
         },
         {
          "column": 1,
          "x": "Delhi - New Delhi"
         },
         {
          "column": 1,
          "x": "Delhi - New Delhi"
         },
         {
          "column": 1,
          "x": "Chandigarh"
         },
         {
          "column": 1,
          "x": "Delhi - New Delhi"
         },
         {
          "column": 1,
          "x": "Amritsar"
         },
         {
          "column": 1,
          "x": "Jammu"
         },
         {
          "column": 1,
          "x": "Jammu"
         },
         {
          "column": 1,
          "x": "Hyderabad"
         },
         {
          "column": 1,
          "x": "Kolkata"
         },
         {
          "column": 1,
          "x": "Hyderabad"
         },
         {
          "column": 1,
          "x": "Kolkata"
         },
         {
          "column": 1,
          "x": "Delhi - New Delhi"
         },
         {
          "column": 1,
          "x": "Delhi - New Delhi"
         },
         {
          "column": 1,
          "x": "Delhi - New Delhi"
         },
         {
          "column": 1,
          "x": "Delhi - New Delhi"
         },
         {
          "column": 1,
          "x": "Delhi - New Delhi"
         },
         {
          "column": 1,
          "x": "Delhi - New Delhi"
         },
         {
          "column": 1,
          "x": "Chandigarh"
         },
         {
          "column": 1,
          "x": "Kolkata"
         },
         {
          "column": 1,
          "x": "Kolkata"
         },
         {
          "column": 1,
          "x": "Chandigarh"
         },
         {
          "column": 1,
          "x": "Chandigarh"
         },
         {
          "column": 1,
          "x": "Delhi - New Delhi"
         },
         {
          "column": 1,
          "x": "Ludhiana"
         },
         {
          "column": 1,
          "x": "Ludhiana"
         },
         {
          "column": 1,
          "x": "Ludhiana"
         },
         {
          "column": 1,
          "x": "Jammu"
         },
         {
          "column": 1,
          "x": "Hyderabad"
         },
         {
          "column": 1,
          "x": "Kolkata"
         },
         {
          "column": 1,
          "x": "Kolkata"
         },
         {
          "column": 1,
          "x": "Kolkata"
         },
         {
          "column": 1,
          "x": "Hyderabad"
         },
         {
          "column": 1,
          "x": "Chandigarh"
         },
         {
          "column": 1,
          "x": "Amritsar"
         },
         {
          "column": 1,
          "x": "Jammu"
         },
         {
          "column": 1,
          "x": "Jammu"
         },
         {
          "column": 1,
          "x": "Amritsar"
         },
         {
          "column": 1,
          "x": "Kolkata"
         },
         {
          "column": 1,
          "x": "Ludhiana"
         },
         {
          "column": 1,
          "x": "Delhi - New Delhi"
         },
         {
          "column": 1,
          "x": "Delhi - New Delhi"
         },
         {
          "column": 1,
          "x": "Delhi - New Delhi"
         },
         {
          "column": 1,
          "x": "Amritsar"
         },
         {
          "column": 1,
          "x": "Ludhiana"
         },
         {
          "column": 1,
          "x": "Amritsar"
         },
         {
          "column": 1,
          "x": "Ludhiana"
         },
         {
          "column": 1,
          "x": "Srinagar"
         },
         {
          "column": 1,
          "x": "Jammu"
         },
         {
          "column": 1,
          "x": "Srinagar"
         },
         {
          "column": 1,
          "x": "Jammu"
         },
         {
          "column": 1,
          "x": "Jammu"
         },
         {
          "column": 1,
          "x": "Jammu"
         },
         {
          "column": 1,
          "x": "Kolkata"
         },
         {
          "column": 1,
          "x": "Kolkata"
         },
         {
          "column": 1,
          "x": "Kolkata"
         },
         {
          "column": 1,
          "x": "Hyderabad"
         },
         {
          "column": 1,
          "x": "Chandigarh"
         },
         {
          "column": 1,
          "x": "Delhi - New Delhi"
         },
         {
          "column": 1,
          "x": "Chandigarh"
         },
         {
          "column": 1,
          "x": "Delhi - New Delhi"
         },
         {
          "column": 1,
          "x": "Delhi - New Delhi"
         },
         {
          "column": 1,
          "x": "Kolkata"
         },
         {
          "column": 1,
          "x": "Srinagar"
         },
         {
          "column": 1,
          "x": "Amritsar"
         },
         {
          "column": 1,
          "x": "Jammu"
         },
         {
          "column": 1,
          "x": "Srinagar"
         },
         {
          "column": 1,
          "x": "Jammu"
         },
         {
          "column": 1,
          "x": "Jammu"
         },
         {
          "column": 1,
          "x": "Srinagar"
         },
         {
          "column": 1,
          "x": "Kolkata"
         },
         {
          "column": 1,
          "x": "Delhi - New Delhi"
         },
         {
          "column": 1,
          "x": "Delhi - New Delhi"
         },
         {
          "column": 1,
          "x": "Delhi - New Delhi"
         },
         {
          "column": 1,
          "x": "Amritsar"
         },
         {
          "column": 1,
          "x": "Hyderabad"
         },
         {
          "column": 1,
          "x": "Ludhiana"
         },
         {
          "column": 1,
          "x": "Ludhiana"
         },
         {
          "column": 1,
          "x": "Amritsar"
         },
         {
          "column": 1,
          "x": "Jammu"
         },
         {
          "column": 1,
          "x": "Jammu"
         },
         {
          "column": 1,
          "x": "Jammu"
         },
         {
          "column": 1,
          "x": "Jammu"
         },
         {
          "column": 1,
          "x": "Kolkata"
         },
         {
          "column": 1,
          "x": "Hyderabad"
         },
         {
          "column": 1,
          "x": "Delhi - New Delhi"
         },
         {
          "column": 1,
          "x": "Delhi - New Delhi"
         },
         {
          "column": 1,
          "x": "Chandigarh"
         },
         {
          "column": 1,
          "x": "Chandigarh"
         },
         {
          "column": 1,
          "x": "Chandigarh"
         },
         {
          "column": 1,
          "x": "Delhi - New Delhi"
         },
         {
          "column": 1,
          "x": "Kolkata"
         },
         {
          "column": 1,
          "x": "Hyderabad"
         },
         {
          "column": 1,
          "x": "Jammu"
         },
         {
          "column": 1,
          "x": "Jammu"
         },
         {
          "column": 1,
          "x": "Delhi - New Delhi"
         },
         {
          "column": 1,
          "x": "Delhi - New Delhi"
         },
         {
          "column": 1,
          "x": "Chandigarh"
         },
         {
          "column": 1,
          "x": "Delhi - New Delhi"
         },
         {
          "column": 1,
          "x": "Delhi - New Delhi"
         },
         {
          "column": 1,
          "x": "Srinagar"
         },
         {
          "column": 1,
          "x": "Jammu"
         },
         {
          "column": 1,
          "x": "Jammu"
         },
         {
          "column": 1,
          "x": "Jammu"
         },
         {
          "column": 1,
          "x": "Jammu"
         },
         {
          "column": 1,
          "x": "Hyderabad"
         },
         {
          "column": 1,
          "x": "Ludhiana"
         },
         {
          "column": 1,
          "x": "Kolkata"
         },
         {
          "column": 1,
          "x": "Amritsar"
         },
         {
          "column": 1,
          "x": "Delhi - New Delhi"
         },
         {
          "column": 1,
          "x": "Delhi - New Delhi"
         },
         {
          "column": 1,
          "x": "Chandigarh"
         },
         {
          "column": 1,
          "x": "Srinagar"
         },
         {
          "column": 1,
          "x": "Ludhiana"
         },
         {
          "column": 1,
          "x": "Amritsar"
         },
         {
          "column": 1,
          "x": "Jammu"
         },
         {
          "column": 1,
          "x": "Jammu"
         },
         {
          "column": 1,
          "x": "Jammu"
         },
         {
          "column": 1,
          "x": "Kolkata"
         },
         {
          "column": 1,
          "x": "Delhi - New Delhi"
         },
         {
          "column": 1,
          "x": "Delhi - New Delhi"
         },
         {
          "column": 1,
          "x": "Jammu"
         },
         {
          "column": 1,
          "x": "Jammu"
         },
         {
          "column": 1,
          "x": "Chandigarh"
         },
         {
          "column": 1,
          "x": "Delhi - New Delhi"
         },
         {
          "column": 1,
          "x": "Kolkata"
         },
         {
          "column": 1,
          "x": "Srinagar"
         },
         {
          "column": 1,
          "x": "Srinagar"
         },
         {
          "column": 1,
          "x": "Amritsar"
         },
         {
          "column": 1,
          "x": "Delhi - New Delhi"
         },
         {
          "column": 1,
          "x": "Delhi - New Delhi"
         },
         {
          "column": 1,
          "x": "Chandigarh"
         }
        ]
       },
       "encoding": {
        "column": {
         "field": "column",
         "title": null
        },
        "x": {
         "field": "x",
         "title": null,
         "type": "nominal"
        },
        "y": {
         "aggregate": "count",
         "type": "quantitative"
        }
       },
       "mark": "bar",
       "title": "2020"
      },
      "image/png": "[encoded data removed]",
      "image/svg+xml": [
       "<?xml version=\"1.0\" encoding=\"utf-8\"?>\n",
       "<!DOCTYPE svg PUBLIC \"-//W3C//DTD SVG 1.1//EN\" \"http://www.w3.org/Graphics/SVG/1.1/DTD/svg11.dtd\">\n",
       "<svg xmlns=\"http://www.w3.org/2000/svg\" xmlns:xlink=\"http://www.w3.org/1999/xlink\" version=\"1.1\" class=\"marks\" width=\"2214\" height=\"342\" viewBox=\"0 0 2214 342\"><rect width=\"2214\" height=\"342\" fill=\"white\"/><g fill=\"none\" stroke-miterlimit=\"10\" transform=\"translate(46,43)\"><g class=\"mark-group role-frame root\" role=\"graphics-object\" aria-roledescription=\"group mark container\"><g transform=\"translate(0,0)\"><path class=\"background\" aria-hidden=\"true\" d=\"M0,0h0v0h0Z\"/><g><g class=\"mark-group role-row-header row_header\" role=\"graphics-object\" aria-roledescription=\"group mark container\"><g transform=\"translate(-1,0)\"><path class=\"background\" aria-hidden=\"true\" d=\"M0,0h0v200h0Z\"/><g><g class=\"mark-group role-axis\" role=\"graphics-symbol\" aria-roledescription=\"axis\" aria-label=\"Y-axis titled 'Count of Records' for a linear scale with values from 0 to 110\"><g transform=\"translate(0.5,0.5)\"><path class=\"background\" aria-hidden=\"true\" d=\"M0,0h0v0h0Z\" pointer-events=\"none\"/><g><g class=\"mark-rule role-axis-tick\" pointer-events=\"none\"><line transform=\"translate(0,200)\" x2=\"-5\" y2=\"0\" stroke=\"#888\" stroke-width=\"1\" opacity=\"1\"/><line transform=\"translate(0,164)\" x2=\"-5\" y2=\"0\" stroke=\"#888\" stroke-width=\"1\" opacity=\"1\"/><line transform=\"translate(0,127)\" x2=\"-5\" y2=\"0\" stroke=\"#888\" stroke-width=\"1\" opacity=\"1\"/><line transform=\"translate(0,91)\" x2=\"-5\" y2=\"0\" stroke=\"#888\" stroke-width=\"1\" opacity=\"1\"/><line transform=\"translate(0,55)\" x2=\"-5\" y2=\"0\" stroke=\"#888\" stroke-width=\"1\" opacity=\"1\"/><line transform=\"translate(0,18)\" x2=\"-5\" y2=\"0\" stroke=\"#888\" stroke-width=\"1\" opacity=\"1\"/></g><g class=\"mark-text role-axis-label\" pointer-events=\"none\"><text text-anchor=\"end\" transform=\"translate(-7,203)\" font-family=\"sans-serif\" font-size=\"10px\" fill=\"#000\" opacity=\"1\">0</text><text text-anchor=\"end\" transform=\"translate(-7,166.63636363636363)\" font-family=\"sans-serif\" font-size=\"10px\" fill=\"#000\" opacity=\"1\">20</text><text text-anchor=\"end\" transform=\"translate(-7,130.27272727272725)\" font-family=\"sans-serif\" font-size=\"10px\" fill=\"#000\" opacity=\"1\">40</text><text text-anchor=\"end\" transform=\"translate(-7,93.90909090909092)\" font-family=\"sans-serif\" font-size=\"10px\" fill=\"#000\" opacity=\"1\">60</text><text text-anchor=\"end\" transform=\"translate(-7,57.54545454545454)\" font-family=\"sans-serif\" font-size=\"10px\" fill=\"#000\" opacity=\"1\">80</text><text text-anchor=\"end\" transform=\"translate(-7,21.181818181818187)\" font-family=\"sans-serif\" font-size=\"10px\" fill=\"#000\" opacity=\"1\">100</text></g><g class=\"mark-rule role-axis-domain\" pointer-events=\"none\"><line transform=\"translate(0,200)\" x2=\"0\" y2=\"-200\" stroke=\"#888\" stroke-width=\"1\" opacity=\"1\"/></g><g class=\"mark-text role-axis-title\" pointer-events=\"none\"><text text-anchor=\"middle\" transform=\"translate(-29,100) rotate(-90) translate(0,-2)\" font-family=\"sans-serif\" font-size=\"11px\" font-weight=\"bold\" fill=\"#000\" opacity=\"1\">Count of Records</text></g></g><path class=\"foreground\" aria-hidden=\"true\" d=\"\" pointer-events=\"none\" display=\"none\"/></g></g></g><path class=\"foreground\" aria-hidden=\"true\" d=\"\" display=\"none\"/></g></g><g class=\"mark-group role-column-header column_header\" role=\"graphics-object\" aria-roledescription=\"group mark container\"><g transform=\"translate(0,-1)\"><path class=\"background\" aria-hidden=\"true\" d=\"M0,0h160v0h-160Z\"/><g><g class=\"mark-group role-title\"><g transform=\"translate(80,-20)\"><path class=\"background\" aria-hidden=\"true\" d=\"M0,0h0v0h0Z\" pointer-events=\"none\"/><g><g class=\"mark-text role-title-text\" role=\"graphics-symbol\" aria-roledescription=\"title\" aria-label=\"Title text '1'\" pointer-events=\"none\"><text text-anchor=\"middle\" transform=\"translate(0,8)\" font-family=\"sans-serif\" font-size=\"10px\" fill=\"#000\" opacity=\"1\">1</text></g></g><path class=\"foreground\" aria-hidden=\"true\" d=\"\" pointer-events=\"none\" display=\"none\"/></g></g></g><path class=\"foreground\" aria-hidden=\"true\" d=\"\" display=\"none\"/></g><g transform=\"translate(182,-1)\"><path class=\"background\" aria-hidden=\"true\" d=\"M0,0h160v0h-160Z\"/><g><g class=\"mark-group role-title\"><g transform=\"translate(80,-20)\"><path class=\"background\" aria-hidden=\"true\" d=\"M0,0h0v0h0Z\" pointer-events=\"none\"/><g><g class=\"mark-text role-title-text\" role=\"graphics-symbol\" aria-roledescription=\"title\" aria-label=\"Title text '2'\" pointer-events=\"none\"><text text-anchor=\"middle\" transform=\"translate(0,8)\" font-family=\"sans-serif\" font-size=\"10px\" fill=\"#000\" opacity=\"1\">2</text></g></g><path class=\"foreground\" aria-hidden=\"true\" d=\"\" pointer-events=\"none\" display=\"none\"/></g></g></g><path class=\"foreground\" aria-hidden=\"true\" d=\"\" display=\"none\"/></g><g transform=\"translate(364,-1)\"><path class=\"background\" aria-hidden=\"true\" d=\"M0,0h160v0h-160Z\"/><g><g class=\"mark-group role-title\"><g transform=\"translate(80,-20)\"><path class=\"background\" aria-hidden=\"true\" d=\"M0,0h0v0h0Z\" pointer-events=\"none\"/><g><g class=\"mark-text role-title-text\" role=\"graphics-symbol\" aria-roledescription=\"title\" aria-label=\"Title text '3'\" pointer-events=\"none\"><text text-anchor=\"middle\" transform=\"translate(0,8)\" font-family=\"sans-serif\" font-size=\"10px\" fill=\"#000\" opacity=\"1\">3</text></g></g><path class=\"foreground\" aria-hidden=\"true\" d=\"\" pointer-events=\"none\" display=\"none\"/></g></g></g><path class=\"foreground\" aria-hidden=\"true\" d=\"\" display=\"none\"/></g><g transform=\"translate(546,-1)\"><path class=\"background\" aria-hidden=\"true\" d=\"M0,0h160v0h-160Z\"/><g><g class=\"mark-group role-title\"><g transform=\"translate(80,-20)\"><path class=\"background\" aria-hidden=\"true\" d=\"M0,0h0v0h0Z\" pointer-events=\"none\"/><g><g class=\"mark-text role-title-text\" role=\"graphics-symbol\" aria-roledescription=\"title\" aria-label=\"Title text '4'\" pointer-events=\"none\"><text text-anchor=\"middle\" transform=\"translate(0,8)\" font-family=\"sans-serif\" font-size=\"10px\" fill=\"#000\" opacity=\"1\">4</text></g></g><path class=\"foreground\" aria-hidden=\"true\" d=\"\" pointer-events=\"none\" display=\"none\"/></g></g></g><path class=\"foreground\" aria-hidden=\"true\" d=\"\" display=\"none\"/></g><g transform=\"translate(728,-1)\"><path class=\"background\" aria-hidden=\"true\" d=\"M0,0h160v0h-160Z\"/><g><g class=\"mark-group role-title\"><g transform=\"translate(80,-20)\"><path class=\"background\" aria-hidden=\"true\" d=\"M0,0h0v0h0Z\" pointer-events=\"none\"/><g><g class=\"mark-text role-title-text\" role=\"graphics-symbol\" aria-roledescription=\"title\" aria-label=\"Title text '5'\" pointer-events=\"none\"><text text-anchor=\"middle\" transform=\"translate(0,8)\" font-family=\"sans-serif\" font-size=\"10px\" fill=\"#000\" opacity=\"1\">5</text></g></g><path class=\"foreground\" aria-hidden=\"true\" d=\"\" pointer-events=\"none\" display=\"none\"/></g></g></g><path class=\"foreground\" aria-hidden=\"true\" d=\"\" display=\"none\"/></g><g transform=\"translate(910,-1)\"><path class=\"background\" aria-hidden=\"true\" d=\"M0,0h160v0h-160Z\"/><g><g class=\"mark-group role-title\"><g transform=\"translate(80,-20)\"><path class=\"background\" aria-hidden=\"true\" d=\"M0,0h0v0h0Z\" pointer-events=\"none\"/><g><g class=\"mark-text role-title-text\" role=\"graphics-symbol\" aria-roledescription=\"title\" aria-label=\"Title text '6'\" pointer-events=\"none\"><text text-anchor=\"middle\" transform=\"translate(0,8)\" font-family=\"sans-serif\" font-size=\"10px\" fill=\"#000\" opacity=\"1\">6</text></g></g><path class=\"foreground\" aria-hidden=\"true\" d=\"\" pointer-events=\"none\" display=\"none\"/></g></g></g><path class=\"foreground\" aria-hidden=\"true\" d=\"\" display=\"none\"/></g><g transform=\"translate(1092,-1)\"><path class=\"background\" aria-hidden=\"true\" d=\"M0,0h160v0h-160Z\"/><g><g class=\"mark-group role-title\"><g transform=\"translate(80,-20)\"><path class=\"background\" aria-hidden=\"true\" d=\"M0,0h0v0h0Z\" pointer-events=\"none\"/><g><g class=\"mark-text role-title-text\" role=\"graphics-symbol\" aria-roledescription=\"title\" aria-label=\"Title text '7'\" pointer-events=\"none\"><text text-anchor=\"middle\" transform=\"translate(0,8)\" font-family=\"sans-serif\" font-size=\"10px\" fill=\"#000\" opacity=\"1\">7</text></g></g><path class=\"foreground\" aria-hidden=\"true\" d=\"\" pointer-events=\"none\" display=\"none\"/></g></g></g><path class=\"foreground\" aria-hidden=\"true\" d=\"\" display=\"none\"/></g><g transform=\"translate(1274,-1)\"><path class=\"background\" aria-hidden=\"true\" d=\"M0,0h160v0h-160Z\"/><g><g class=\"mark-group role-title\"><g transform=\"translate(80,-20)\"><path class=\"background\" aria-hidden=\"true\" d=\"M0,0h0v0h0Z\" pointer-events=\"none\"/><g><g class=\"mark-text role-title-text\" role=\"graphics-symbol\" aria-roledescription=\"title\" aria-label=\"Title text '8'\" pointer-events=\"none\"><text text-anchor=\"middle\" transform=\"translate(0,8)\" font-family=\"sans-serif\" font-size=\"10px\" fill=\"#000\" opacity=\"1\">8</text></g></g><path class=\"foreground\" aria-hidden=\"true\" d=\"\" pointer-events=\"none\" display=\"none\"/></g></g></g><path class=\"foreground\" aria-hidden=\"true\" d=\"\" display=\"none\"/></g><g transform=\"translate(1456,-1)\"><path class=\"background\" aria-hidden=\"true\" d=\"M0,0h160v0h-160Z\"/><g><g class=\"mark-group role-title\"><g transform=\"translate(80,-20)\"><path class=\"background\" aria-hidden=\"true\" d=\"M0,0h0v0h0Z\" pointer-events=\"none\"/><g><g class=\"mark-text role-title-text\" role=\"graphics-symbol\" aria-roledescription=\"title\" aria-label=\"Title text '9'\" pointer-events=\"none\"><text text-anchor=\"middle\" transform=\"translate(0,8)\" font-family=\"sans-serif\" font-size=\"10px\" fill=\"#000\" opacity=\"1\">9</text></g></g><path class=\"foreground\" aria-hidden=\"true\" d=\"\" pointer-events=\"none\" display=\"none\"/></g></g></g><path class=\"foreground\" aria-hidden=\"true\" d=\"\" display=\"none\"/></g><g transform=\"translate(1638,-1)\"><path class=\"background\" aria-hidden=\"true\" d=\"M0,0h160v0h-160Z\"/><g><g class=\"mark-group role-title\"><g transform=\"translate(80,-20)\"><path class=\"background\" aria-hidden=\"true\" d=\"M0,0h0v0h0Z\" pointer-events=\"none\"/><g><g class=\"mark-text role-title-text\" role=\"graphics-symbol\" aria-roledescription=\"title\" aria-label=\"Title text '10'\" pointer-events=\"none\"><text text-anchor=\"middle\" transform=\"translate(0,8)\" font-family=\"sans-serif\" font-size=\"10px\" fill=\"#000\" opacity=\"1\">10</text></g></g><path class=\"foreground\" aria-hidden=\"true\" d=\"\" pointer-events=\"none\" display=\"none\"/></g></g></g><path class=\"foreground\" aria-hidden=\"true\" d=\"\" display=\"none\"/></g><g transform=\"translate(1820,-1)\"><path class=\"background\" aria-hidden=\"true\" d=\"M0,0h160v0h-160Z\"/><g><g class=\"mark-group role-title\"><g transform=\"translate(80,-20)\"><path class=\"background\" aria-hidden=\"true\" d=\"M0,0h0v0h0Z\" pointer-events=\"none\"/><g><g class=\"mark-text role-title-text\" role=\"graphics-symbol\" aria-roledescription=\"title\" aria-label=\"Title text '11'\" pointer-events=\"none\"><text text-anchor=\"middle\" transform=\"translate(0,8)\" font-family=\"sans-serif\" font-size=\"10px\" fill=\"#000\" opacity=\"1\">11</text></g></g><path class=\"foreground\" aria-hidden=\"true\" d=\"\" pointer-events=\"none\" display=\"none\"/></g></g></g><path class=\"foreground\" aria-hidden=\"true\" d=\"\" display=\"none\"/></g><g transform=\"translate(2002,-1)\"><path class=\"background\" aria-hidden=\"true\" d=\"M0,0h160v0h-160Z\"/><g><g class=\"mark-group role-title\"><g transform=\"translate(80,-20)\"><path class=\"background\" aria-hidden=\"true\" d=\"M0,0h0v0h0Z\" pointer-events=\"none\"/><g><g class=\"mark-text role-title-text\" role=\"graphics-symbol\" aria-roledescription=\"title\" aria-label=\"Title text '12'\" pointer-events=\"none\"><text text-anchor=\"middle\" transform=\"translate(0,8)\" font-family=\"sans-serif\" font-size=\"10px\" fill=\"#000\" opacity=\"1\">12</text></g></g><path class=\"foreground\" aria-hidden=\"true\" d=\"\" pointer-events=\"none\" display=\"none\"/></g></g></g><path class=\"foreground\" aria-hidden=\"true\" d=\"\" display=\"none\"/></g></g><g class=\"mark-group role-column-footer column_footer\" role=\"graphics-object\" aria-roledescription=\"group mark container\"><g transform=\"translate(0,201)\"><path class=\"background\" aria-hidden=\"true\" d=\"M0,0h160v0h-160Z\"/><g><g class=\"mark-group role-axis\" role=\"graphics-symbol\" aria-roledescription=\"axis\" aria-label=\"X-axis for a discrete scale with 8 values: Amritsar, Chandigarh, Delhi - New Delhi, Hyderabad, Jammu, ending with Srinagar\"><g transform=\"translate(0.5,0.5)\"><path class=\"background\" aria-hidden=\"true\" d=\"M0,0h0v0h0Z\" pointer-events=\"none\"/><g><g class=\"mark-rule role-axis-tick\" pointer-events=\"none\"><line transform=\"translate(10,0)\" x2=\"0\" y2=\"5\" stroke=\"#888\" stroke-width=\"1\" opacity=\"1\"/><line transform=\"translate(30,0)\" x2=\"0\" y2=\"5\" stroke=\"#888\" stroke-width=\"1\" opacity=\"1\"/><line transform=\"translate(50,0)\" x2=\"0\" y2=\"5\" stroke=\"#888\" stroke-width=\"1\" opacity=\"1\"/><line transform=\"translate(70,0)\" x2=\"0\" y2=\"5\" stroke=\"#888\" stroke-width=\"1\" opacity=\"1\"/><line transform=\"translate(90,0)\" x2=\"0\" y2=\"5\" stroke=\"#888\" stroke-width=\"1\" opacity=\"1\"/><line transform=\"translate(110,0)\" x2=\"0\" y2=\"5\" stroke=\"#888\" stroke-width=\"1\" opacity=\"1\"/><line transform=\"translate(130,0)\" x2=\"0\" y2=\"5\" stroke=\"#888\" stroke-width=\"1\" opacity=\"1\"/><line transform=\"translate(150,0)\" x2=\"0\" y2=\"5\" stroke=\"#888\" stroke-width=\"1\" opacity=\"1\"/></g><g class=\"mark-text role-axis-label\" pointer-events=\"none\"><text text-anchor=\"end\" transform=\"translate(9.5,7) rotate(270) translate(0,3)\" font-family=\"sans-serif\" font-size=\"10px\" fill=\"#000\" opacity=\"1\">Amritsar</text><text text-anchor=\"end\" transform=\"translate(29.5,7) rotate(270) translate(0,3)\" font-family=\"sans-serif\" font-size=\"10px\" fill=\"#000\" opacity=\"1\">Chandigarh</text><text text-anchor=\"end\" transform=\"translate(49.5,7) rotate(270) translate(0,3)\" font-family=\"sans-serif\" font-size=\"10px\" fill=\"#000\" opacity=\"1\">Delhi - New Delhi</text><text text-anchor=\"end\" transform=\"translate(69.5,7) rotate(270) translate(0,3)\" font-family=\"sans-serif\" font-size=\"10px\" fill=\"#000\" opacity=\"1\">Hyderabad</text><text text-anchor=\"end\" transform=\"translate(89.5,7) rotate(270) translate(0,3)\" font-family=\"sans-serif\" font-size=\"10px\" fill=\"#000\" opacity=\"1\">Jammu</text><text text-anchor=\"end\" transform=\"translate(109.5,7) rotate(270) translate(0,3)\" font-family=\"sans-serif\" font-size=\"10px\" fill=\"#000\" opacity=\"1\">Kolkata</text><text text-anchor=\"end\" transform=\"translate(129.5,7) rotate(270) translate(0,3)\" font-family=\"sans-serif\" font-size=\"10px\" fill=\"#000\" opacity=\"1\">Ludhiana</text><text text-anchor=\"end\" transform=\"translate(149.5,7) rotate(270) translate(0,3)\" font-family=\"sans-serif\" font-size=\"10px\" fill=\"#000\" opacity=\"1\">Srinagar</text></g><g class=\"mark-rule role-axis-domain\" pointer-events=\"none\"><line transform=\"translate(0,0)\" x2=\"160\" y2=\"0\" stroke=\"#888\" stroke-width=\"1\" opacity=\"1\"/></g></g><path class=\"foreground\" aria-hidden=\"true\" d=\"\" pointer-events=\"none\" display=\"none\"/></g></g></g><path class=\"foreground\" aria-hidden=\"true\" d=\"\" display=\"none\"/></g><g transform=\"translate(182,201)\"><path class=\"background\" aria-hidden=\"true\" d=\"M0,0h160v0h-160Z\"/><g><g class=\"mark-group role-axis\" role=\"graphics-symbol\" aria-roledescription=\"axis\" aria-label=\"X-axis for a discrete scale with 8 values: Amritsar, Chandigarh, Delhi - New Delhi, Hyderabad, Jammu, ending with Srinagar\"><g transform=\"translate(0.5,0.5)\"><path class=\"background\" aria-hidden=\"true\" d=\"M0,0h0v0h0Z\" pointer-events=\"none\"/><g><g class=\"mark-rule role-axis-tick\" pointer-events=\"none\"><line transform=\"translate(10,0)\" x2=\"0\" y2=\"5\" stroke=\"#888\" stroke-width=\"1\" opacity=\"1\"/><line transform=\"translate(30,0)\" x2=\"0\" y2=\"5\" stroke=\"#888\" stroke-width=\"1\" opacity=\"1\"/><line transform=\"translate(50,0)\" x2=\"0\" y2=\"5\" stroke=\"#888\" stroke-width=\"1\" opacity=\"1\"/><line transform=\"translate(70,0)\" x2=\"0\" y2=\"5\" stroke=\"#888\" stroke-width=\"1\" opacity=\"1\"/><line transform=\"translate(90,0)\" x2=\"0\" y2=\"5\" stroke=\"#888\" stroke-width=\"1\" opacity=\"1\"/><line transform=\"translate(110,0)\" x2=\"0\" y2=\"5\" stroke=\"#888\" stroke-width=\"1\" opacity=\"1\"/><line transform=\"translate(130,0)\" x2=\"0\" y2=\"5\" stroke=\"#888\" stroke-width=\"1\" opacity=\"1\"/><line transform=\"translate(150,0)\" x2=\"0\" y2=\"5\" stroke=\"#888\" stroke-width=\"1\" opacity=\"1\"/></g><g class=\"mark-text role-axis-label\" pointer-events=\"none\"><text text-anchor=\"end\" transform=\"translate(9.5,7) rotate(270) translate(0,3)\" font-family=\"sans-serif\" font-size=\"10px\" fill=\"#000\" opacity=\"1\">Amritsar</text><text text-anchor=\"end\" transform=\"translate(29.5,7) rotate(270) translate(0,3)\" font-family=\"sans-serif\" font-size=\"10px\" fill=\"#000\" opacity=\"1\">Chandigarh</text><text text-anchor=\"end\" transform=\"translate(49.5,7) rotate(270) translate(0,3)\" font-family=\"sans-serif\" font-size=\"10px\" fill=\"#000\" opacity=\"1\">Delhi - New Delhi</text><text text-anchor=\"end\" transform=\"translate(69.5,7) rotate(270) translate(0,3)\" font-family=\"sans-serif\" font-size=\"10px\" fill=\"#000\" opacity=\"1\">Hyderabad</text><text text-anchor=\"end\" transform=\"translate(89.5,7) rotate(270) translate(0,3)\" font-family=\"sans-serif\" font-size=\"10px\" fill=\"#000\" opacity=\"1\">Jammu</text><text text-anchor=\"end\" transform=\"translate(109.5,7) rotate(270) translate(0,3)\" font-family=\"sans-serif\" font-size=\"10px\" fill=\"#000\" opacity=\"1\">Kolkata</text><text text-anchor=\"end\" transform=\"translate(129.5,7) rotate(270) translate(0,3)\" font-family=\"sans-serif\" font-size=\"10px\" fill=\"#000\" opacity=\"1\">Ludhiana</text><text text-anchor=\"end\" transform=\"translate(149.5,7) rotate(270) translate(0,3)\" font-family=\"sans-serif\" font-size=\"10px\" fill=\"#000\" opacity=\"1\">Srinagar</text></g><g class=\"mark-rule role-axis-domain\" pointer-events=\"none\"><line transform=\"translate(0,0)\" x2=\"160\" y2=\"0\" stroke=\"#888\" stroke-width=\"1\" opacity=\"1\"/></g></g><path class=\"foreground\" aria-hidden=\"true\" d=\"\" pointer-events=\"none\" display=\"none\"/></g></g></g><path class=\"foreground\" aria-hidden=\"true\" d=\"\" display=\"none\"/></g><g transform=\"translate(364,201)\"><path class=\"background\" aria-hidden=\"true\" d=\"M0,0h160v0h-160Z\"/><g><g class=\"mark-group role-axis\" role=\"graphics-symbol\" aria-roledescription=\"axis\" aria-label=\"X-axis for a discrete scale with 8 values: Amritsar, Chandigarh, Delhi - New Delhi, Hyderabad, Jammu, ending with Srinagar\"><g transform=\"translate(0.5,0.5)\"><path class=\"background\" aria-hidden=\"true\" d=\"M0,0h0v0h0Z\" pointer-events=\"none\"/><g><g class=\"mark-rule role-axis-tick\" pointer-events=\"none\"><line transform=\"translate(10,0)\" x2=\"0\" y2=\"5\" stroke=\"#888\" stroke-width=\"1\" opacity=\"1\"/><line transform=\"translate(30,0)\" x2=\"0\" y2=\"5\" stroke=\"#888\" stroke-width=\"1\" opacity=\"1\"/><line transform=\"translate(50,0)\" x2=\"0\" y2=\"5\" stroke=\"#888\" stroke-width=\"1\" opacity=\"1\"/><line transform=\"translate(70,0)\" x2=\"0\" y2=\"5\" stroke=\"#888\" stroke-width=\"1\" opacity=\"1\"/><line transform=\"translate(90,0)\" x2=\"0\" y2=\"5\" stroke=\"#888\" stroke-width=\"1\" opacity=\"1\"/><line transform=\"translate(110,0)\" x2=\"0\" y2=\"5\" stroke=\"#888\" stroke-width=\"1\" opacity=\"1\"/><line transform=\"translate(130,0)\" x2=\"0\" y2=\"5\" stroke=\"#888\" stroke-width=\"1\" opacity=\"1\"/><line transform=\"translate(150,0)\" x2=\"0\" y2=\"5\" stroke=\"#888\" stroke-width=\"1\" opacity=\"1\"/></g><g class=\"mark-text role-axis-label\" pointer-events=\"none\"><text text-anchor=\"end\" transform=\"translate(9.5,7) rotate(270) translate(0,3)\" font-family=\"sans-serif\" font-size=\"10px\" fill=\"#000\" opacity=\"1\">Amritsar</text><text text-anchor=\"end\" transform=\"translate(29.5,7) rotate(270) translate(0,3)\" font-family=\"sans-serif\" font-size=\"10px\" fill=\"#000\" opacity=\"1\">Chandigarh</text><text text-anchor=\"end\" transform=\"translate(49.5,7) rotate(270) translate(0,3)\" font-family=\"sans-serif\" font-size=\"10px\" fill=\"#000\" opacity=\"1\">Delhi - New Delhi</text><text text-anchor=\"end\" transform=\"translate(69.5,7) rotate(270) translate(0,3)\" font-family=\"sans-serif\" font-size=\"10px\" fill=\"#000\" opacity=\"1\">Hyderabad</text><text text-anchor=\"end\" transform=\"translate(89.5,7) rotate(270) translate(0,3)\" font-family=\"sans-serif\" font-size=\"10px\" fill=\"#000\" opacity=\"1\">Jammu</text><text text-anchor=\"end\" transform=\"translate(109.5,7) rotate(270) translate(0,3)\" font-family=\"sans-serif\" font-size=\"10px\" fill=\"#000\" opacity=\"1\">Kolkata</text><text text-anchor=\"end\" transform=\"translate(129.5,7) rotate(270) translate(0,3)\" font-family=\"sans-serif\" font-size=\"10px\" fill=\"#000\" opacity=\"1\">Ludhiana</text><text text-anchor=\"end\" transform=\"translate(149.5,7) rotate(270) translate(0,3)\" font-family=\"sans-serif\" font-size=\"10px\" fill=\"#000\" opacity=\"1\">Srinagar</text></g><g class=\"mark-rule role-axis-domain\" pointer-events=\"none\"><line transform=\"translate(0,0)\" x2=\"160\" y2=\"0\" stroke=\"#888\" stroke-width=\"1\" opacity=\"1\"/></g></g><path class=\"foreground\" aria-hidden=\"true\" d=\"\" pointer-events=\"none\" display=\"none\"/></g></g></g><path class=\"foreground\" aria-hidden=\"true\" d=\"\" display=\"none\"/></g><g transform=\"translate(546,201)\"><path class=\"background\" aria-hidden=\"true\" d=\"M0,0h160v0h-160Z\"/><g><g class=\"mark-group role-axis\" role=\"graphics-symbol\" aria-roledescription=\"axis\" aria-label=\"X-axis for a discrete scale with 8 values: Amritsar, Chandigarh, Delhi - New Delhi, Hyderabad, Jammu, ending with Srinagar\"><g transform=\"translate(0.5,0.5)\"><path class=\"background\" aria-hidden=\"true\" d=\"M0,0h0v0h0Z\" pointer-events=\"none\"/><g><g class=\"mark-rule role-axis-tick\" pointer-events=\"none\"><line transform=\"translate(10,0)\" x2=\"0\" y2=\"5\" stroke=\"#888\" stroke-width=\"1\" opacity=\"1\"/><line transform=\"translate(30,0)\" x2=\"0\" y2=\"5\" stroke=\"#888\" stroke-width=\"1\" opacity=\"1\"/><line transform=\"translate(50,0)\" x2=\"0\" y2=\"5\" stroke=\"#888\" stroke-width=\"1\" opacity=\"1\"/><line transform=\"translate(70,0)\" x2=\"0\" y2=\"5\" stroke=\"#888\" stroke-width=\"1\" opacity=\"1\"/><line transform=\"translate(90,0)\" x2=\"0\" y2=\"5\" stroke=\"#888\" stroke-width=\"1\" opacity=\"1\"/><line transform=\"translate(110,0)\" x2=\"0\" y2=\"5\" stroke=\"#888\" stroke-width=\"1\" opacity=\"1\"/><line transform=\"translate(130,0)\" x2=\"0\" y2=\"5\" stroke=\"#888\" stroke-width=\"1\" opacity=\"1\"/><line transform=\"translate(150,0)\" x2=\"0\" y2=\"5\" stroke=\"#888\" stroke-width=\"1\" opacity=\"1\"/></g><g class=\"mark-text role-axis-label\" pointer-events=\"none\"><text text-anchor=\"end\" transform=\"translate(9.5,7) rotate(270) translate(0,3)\" font-family=\"sans-serif\" font-size=\"10px\" fill=\"#000\" opacity=\"1\">Amritsar</text><text text-anchor=\"end\" transform=\"translate(29.5,7) rotate(270) translate(0,3)\" font-family=\"sans-serif\" font-size=\"10px\" fill=\"#000\" opacity=\"1\">Chandigarh</text><text text-anchor=\"end\" transform=\"translate(49.5,7) rotate(270) translate(0,3)\" font-family=\"sans-serif\" font-size=\"10px\" fill=\"#000\" opacity=\"1\">Delhi - New Delhi</text><text text-anchor=\"end\" transform=\"translate(69.5,7) rotate(270) translate(0,3)\" font-family=\"sans-serif\" font-size=\"10px\" fill=\"#000\" opacity=\"1\">Hyderabad</text><text text-anchor=\"end\" transform=\"translate(89.5,7) rotate(270) translate(0,3)\" font-family=\"sans-serif\" font-size=\"10px\" fill=\"#000\" opacity=\"1\">Jammu</text><text text-anchor=\"end\" transform=\"translate(109.5,7) rotate(270) translate(0,3)\" font-family=\"sans-serif\" font-size=\"10px\" fill=\"#000\" opacity=\"1\">Kolkata</text><text text-anchor=\"end\" transform=\"translate(129.5,7) rotate(270) translate(0,3)\" font-family=\"sans-serif\" font-size=\"10px\" fill=\"#000\" opacity=\"1\">Ludhiana</text><text text-anchor=\"end\" transform=\"translate(149.5,7) rotate(270) translate(0,3)\" font-family=\"sans-serif\" font-size=\"10px\" fill=\"#000\" opacity=\"1\">Srinagar</text></g><g class=\"mark-rule role-axis-domain\" pointer-events=\"none\"><line transform=\"translate(0,0)\" x2=\"160\" y2=\"0\" stroke=\"#888\" stroke-width=\"1\" opacity=\"1\"/></g></g><path class=\"foreground\" aria-hidden=\"true\" d=\"\" pointer-events=\"none\" display=\"none\"/></g></g></g><path class=\"foreground\" aria-hidden=\"true\" d=\"\" display=\"none\"/></g><g transform=\"translate(728,201)\"><path class=\"background\" aria-hidden=\"true\" d=\"M0,0h160v0h-160Z\"/><g><g class=\"mark-group role-axis\" role=\"graphics-symbol\" aria-roledescription=\"axis\" aria-label=\"X-axis for a discrete scale with 8 values: Amritsar, Chandigarh, Delhi - New Delhi, Hyderabad, Jammu, ending with Srinagar\"><g transform=\"translate(0.5,0.5)\"><path class=\"background\" aria-hidden=\"true\" d=\"M0,0h0v0h0Z\" pointer-events=\"none\"/><g><g class=\"mark-rule role-axis-tick\" pointer-events=\"none\"><line transform=\"translate(10,0)\" x2=\"0\" y2=\"5\" stroke=\"#888\" stroke-width=\"1\" opacity=\"1\"/><line transform=\"translate(30,0)\" x2=\"0\" y2=\"5\" stroke=\"#888\" stroke-width=\"1\" opacity=\"1\"/><line transform=\"translate(50,0)\" x2=\"0\" y2=\"5\" stroke=\"#888\" stroke-width=\"1\" opacity=\"1\"/><line transform=\"translate(70,0)\" x2=\"0\" y2=\"5\" stroke=\"#888\" stroke-width=\"1\" opacity=\"1\"/><line transform=\"translate(90,0)\" x2=\"0\" y2=\"5\" stroke=\"#888\" stroke-width=\"1\" opacity=\"1\"/><line transform=\"translate(110,0)\" x2=\"0\" y2=\"5\" stroke=\"#888\" stroke-width=\"1\" opacity=\"1\"/><line transform=\"translate(130,0)\" x2=\"0\" y2=\"5\" stroke=\"#888\" stroke-width=\"1\" opacity=\"1\"/><line transform=\"translate(150,0)\" x2=\"0\" y2=\"5\" stroke=\"#888\" stroke-width=\"1\" opacity=\"1\"/></g><g class=\"mark-text role-axis-label\" pointer-events=\"none\"><text text-anchor=\"end\" transform=\"translate(9.5,7) rotate(270) translate(0,3)\" font-family=\"sans-serif\" font-size=\"10px\" fill=\"#000\" opacity=\"1\">Amritsar</text><text text-anchor=\"end\" transform=\"translate(29.5,7) rotate(270) translate(0,3)\" font-family=\"sans-serif\" font-size=\"10px\" fill=\"#000\" opacity=\"1\">Chandigarh</text><text text-anchor=\"end\" transform=\"translate(49.5,7) rotate(270) translate(0,3)\" font-family=\"sans-serif\" font-size=\"10px\" fill=\"#000\" opacity=\"1\">Delhi - New Delhi</text><text text-anchor=\"end\" transform=\"translate(69.5,7) rotate(270) translate(0,3)\" font-family=\"sans-serif\" font-size=\"10px\" fill=\"#000\" opacity=\"1\">Hyderabad</text><text text-anchor=\"end\" transform=\"translate(89.5,7) rotate(270) translate(0,3)\" font-family=\"sans-serif\" font-size=\"10px\" fill=\"#000\" opacity=\"1\">Jammu</text><text text-anchor=\"end\" transform=\"translate(109.5,7) rotate(270) translate(0,3)\" font-family=\"sans-serif\" font-size=\"10px\" fill=\"#000\" opacity=\"1\">Kolkata</text><text text-anchor=\"end\" transform=\"translate(129.5,7) rotate(270) translate(0,3)\" font-family=\"sans-serif\" font-size=\"10px\" fill=\"#000\" opacity=\"1\">Ludhiana</text><text text-anchor=\"end\" transform=\"translate(149.5,7) rotate(270) translate(0,3)\" font-family=\"sans-serif\" font-size=\"10px\" fill=\"#000\" opacity=\"1\">Srinagar</text></g><g class=\"mark-rule role-axis-domain\" pointer-events=\"none\"><line transform=\"translate(0,0)\" x2=\"160\" y2=\"0\" stroke=\"#888\" stroke-width=\"1\" opacity=\"1\"/></g></g><path class=\"foreground\" aria-hidden=\"true\" d=\"\" pointer-events=\"none\" display=\"none\"/></g></g></g><path class=\"foreground\" aria-hidden=\"true\" d=\"\" display=\"none\"/></g><g transform=\"translate(910,201)\"><path class=\"background\" aria-hidden=\"true\" d=\"M0,0h160v0h-160Z\"/><g><g class=\"mark-group role-axis\" role=\"graphics-symbol\" aria-roledescription=\"axis\" aria-label=\"X-axis for a discrete scale with 8 values: Amritsar, Chandigarh, Delhi - New Delhi, Hyderabad, Jammu, ending with Srinagar\"><g transform=\"translate(0.5,0.5)\"><path class=\"background\" aria-hidden=\"true\" d=\"M0,0h0v0h0Z\" pointer-events=\"none\"/><g><g class=\"mark-rule role-axis-tick\" pointer-events=\"none\"><line transform=\"translate(10,0)\" x2=\"0\" y2=\"5\" stroke=\"#888\" stroke-width=\"1\" opacity=\"1\"/><line transform=\"translate(30,0)\" x2=\"0\" y2=\"5\" stroke=\"#888\" stroke-width=\"1\" opacity=\"1\"/><line transform=\"translate(50,0)\" x2=\"0\" y2=\"5\" stroke=\"#888\" stroke-width=\"1\" opacity=\"1\"/><line transform=\"translate(70,0)\" x2=\"0\" y2=\"5\" stroke=\"#888\" stroke-width=\"1\" opacity=\"1\"/><line transform=\"translate(90,0)\" x2=\"0\" y2=\"5\" stroke=\"#888\" stroke-width=\"1\" opacity=\"1\"/><line transform=\"translate(110,0)\" x2=\"0\" y2=\"5\" stroke=\"#888\" stroke-width=\"1\" opacity=\"1\"/><line transform=\"translate(130,0)\" x2=\"0\" y2=\"5\" stroke=\"#888\" stroke-width=\"1\" opacity=\"1\"/><line transform=\"translate(150,0)\" x2=\"0\" y2=\"5\" stroke=\"#888\" stroke-width=\"1\" opacity=\"1\"/></g><g class=\"mark-text role-axis-label\" pointer-events=\"none\"><text text-anchor=\"end\" transform=\"translate(9.5,7) rotate(270) translate(0,3)\" font-family=\"sans-serif\" font-size=\"10px\" fill=\"#000\" opacity=\"1\">Amritsar</text><text text-anchor=\"end\" transform=\"translate(29.5,7) rotate(270) translate(0,3)\" font-family=\"sans-serif\" font-size=\"10px\" fill=\"#000\" opacity=\"1\">Chandigarh</text><text text-anchor=\"end\" transform=\"translate(49.5,7) rotate(270) translate(0,3)\" font-family=\"sans-serif\" font-size=\"10px\" fill=\"#000\" opacity=\"1\">Delhi - New Delhi</text><text text-anchor=\"end\" transform=\"translate(69.5,7) rotate(270) translate(0,3)\" font-family=\"sans-serif\" font-size=\"10px\" fill=\"#000\" opacity=\"1\">Hyderabad</text><text text-anchor=\"end\" transform=\"translate(89.5,7) rotate(270) translate(0,3)\" font-family=\"sans-serif\" font-size=\"10px\" fill=\"#000\" opacity=\"1\">Jammu</text><text text-anchor=\"end\" transform=\"translate(109.5,7) rotate(270) translate(0,3)\" font-family=\"sans-serif\" font-size=\"10px\" fill=\"#000\" opacity=\"1\">Kolkata</text><text text-anchor=\"end\" transform=\"translate(129.5,7) rotate(270) translate(0,3)\" font-family=\"sans-serif\" font-size=\"10px\" fill=\"#000\" opacity=\"1\">Ludhiana</text><text text-anchor=\"end\" transform=\"translate(149.5,7) rotate(270) translate(0,3)\" font-family=\"sans-serif\" font-size=\"10px\" fill=\"#000\" opacity=\"1\">Srinagar</text></g><g class=\"mark-rule role-axis-domain\" pointer-events=\"none\"><line transform=\"translate(0,0)\" x2=\"160\" y2=\"0\" stroke=\"#888\" stroke-width=\"1\" opacity=\"1\"/></g></g><path class=\"foreground\" aria-hidden=\"true\" d=\"\" pointer-events=\"none\" display=\"none\"/></g></g></g><path class=\"foreground\" aria-hidden=\"true\" d=\"\" display=\"none\"/></g><g transform=\"translate(1092,201)\"><path class=\"background\" aria-hidden=\"true\" d=\"M0,0h160v0h-160Z\"/><g><g class=\"mark-group role-axis\" role=\"graphics-symbol\" aria-roledescription=\"axis\" aria-label=\"X-axis for a discrete scale with 8 values: Amritsar, Chandigarh, Delhi - New Delhi, Hyderabad, Jammu, ending with Srinagar\"><g transform=\"translate(0.5,0.5)\"><path class=\"background\" aria-hidden=\"true\" d=\"M0,0h0v0h0Z\" pointer-events=\"none\"/><g><g class=\"mark-rule role-axis-tick\" pointer-events=\"none\"><line transform=\"translate(10,0)\" x2=\"0\" y2=\"5\" stroke=\"#888\" stroke-width=\"1\" opacity=\"1\"/><line transform=\"translate(30,0)\" x2=\"0\" y2=\"5\" stroke=\"#888\" stroke-width=\"1\" opacity=\"1\"/><line transform=\"translate(50,0)\" x2=\"0\" y2=\"5\" stroke=\"#888\" stroke-width=\"1\" opacity=\"1\"/><line transform=\"translate(70,0)\" x2=\"0\" y2=\"5\" stroke=\"#888\" stroke-width=\"1\" opacity=\"1\"/><line transform=\"translate(90,0)\" x2=\"0\" y2=\"5\" stroke=\"#888\" stroke-width=\"1\" opacity=\"1\"/><line transform=\"translate(110,0)\" x2=\"0\" y2=\"5\" stroke=\"#888\" stroke-width=\"1\" opacity=\"1\"/><line transform=\"translate(130,0)\" x2=\"0\" y2=\"5\" stroke=\"#888\" stroke-width=\"1\" opacity=\"1\"/><line transform=\"translate(150,0)\" x2=\"0\" y2=\"5\" stroke=\"#888\" stroke-width=\"1\" opacity=\"1\"/></g><g class=\"mark-text role-axis-label\" pointer-events=\"none\"><text text-anchor=\"end\" transform=\"translate(9.5,7) rotate(270) translate(0,3)\" font-family=\"sans-serif\" font-size=\"10px\" fill=\"#000\" opacity=\"1\">Amritsar</text><text text-anchor=\"end\" transform=\"translate(29.5,7) rotate(270) translate(0,3)\" font-family=\"sans-serif\" font-size=\"10px\" fill=\"#000\" opacity=\"1\">Chandigarh</text><text text-anchor=\"end\" transform=\"translate(49.5,7) rotate(270) translate(0,3)\" font-family=\"sans-serif\" font-size=\"10px\" fill=\"#000\" opacity=\"1\">Delhi - New Delhi</text><text text-anchor=\"end\" transform=\"translate(69.5,7) rotate(270) translate(0,3)\" font-family=\"sans-serif\" font-size=\"10px\" fill=\"#000\" opacity=\"1\">Hyderabad</text><text text-anchor=\"end\" transform=\"translate(89.5,7) rotate(270) translate(0,3)\" font-family=\"sans-serif\" font-size=\"10px\" fill=\"#000\" opacity=\"1\">Jammu</text><text text-anchor=\"end\" transform=\"translate(109.5,7) rotate(270) translate(0,3)\" font-family=\"sans-serif\" font-size=\"10px\" fill=\"#000\" opacity=\"1\">Kolkata</text><text text-anchor=\"end\" transform=\"translate(129.5,7) rotate(270) translate(0,3)\" font-family=\"sans-serif\" font-size=\"10px\" fill=\"#000\" opacity=\"1\">Ludhiana</text><text text-anchor=\"end\" transform=\"translate(149.5,7) rotate(270) translate(0,3)\" font-family=\"sans-serif\" font-size=\"10px\" fill=\"#000\" opacity=\"1\">Srinagar</text></g><g class=\"mark-rule role-axis-domain\" pointer-events=\"none\"><line transform=\"translate(0,0)\" x2=\"160\" y2=\"0\" stroke=\"#888\" stroke-width=\"1\" opacity=\"1\"/></g></g><path class=\"foreground\" aria-hidden=\"true\" d=\"\" pointer-events=\"none\" display=\"none\"/></g></g></g><path class=\"foreground\" aria-hidden=\"true\" d=\"\" display=\"none\"/></g><g transform=\"translate(1274,201)\"><path class=\"background\" aria-hidden=\"true\" d=\"M0,0h160v0h-160Z\"/><g><g class=\"mark-group role-axis\" role=\"graphics-symbol\" aria-roledescription=\"axis\" aria-label=\"X-axis for a discrete scale with 8 values: Amritsar, Chandigarh, Delhi - New Delhi, Hyderabad, Jammu, ending with Srinagar\"><g transform=\"translate(0.5,0.5)\"><path class=\"background\" aria-hidden=\"true\" d=\"M0,0h0v0h0Z\" pointer-events=\"none\"/><g><g class=\"mark-rule role-axis-tick\" pointer-events=\"none\"><line transform=\"translate(10,0)\" x2=\"0\" y2=\"5\" stroke=\"#888\" stroke-width=\"1\" opacity=\"1\"/><line transform=\"translate(30,0)\" x2=\"0\" y2=\"5\" stroke=\"#888\" stroke-width=\"1\" opacity=\"1\"/><line transform=\"translate(50,0)\" x2=\"0\" y2=\"5\" stroke=\"#888\" stroke-width=\"1\" opacity=\"1\"/><line transform=\"translate(70,0)\" x2=\"0\" y2=\"5\" stroke=\"#888\" stroke-width=\"1\" opacity=\"1\"/><line transform=\"translate(90,0)\" x2=\"0\" y2=\"5\" stroke=\"#888\" stroke-width=\"1\" opacity=\"1\"/><line transform=\"translate(110,0)\" x2=\"0\" y2=\"5\" stroke=\"#888\" stroke-width=\"1\" opacity=\"1\"/><line transform=\"translate(130,0)\" x2=\"0\" y2=\"5\" stroke=\"#888\" stroke-width=\"1\" opacity=\"1\"/><line transform=\"translate(150,0)\" x2=\"0\" y2=\"5\" stroke=\"#888\" stroke-width=\"1\" opacity=\"1\"/></g><g class=\"mark-text role-axis-label\" pointer-events=\"none\"><text text-anchor=\"end\" transform=\"translate(9.5,7) rotate(270) translate(0,3)\" font-family=\"sans-serif\" font-size=\"10px\" fill=\"#000\" opacity=\"1\">Amritsar</text><text text-anchor=\"end\" transform=\"translate(29.5,7) rotate(270) translate(0,3)\" font-family=\"sans-serif\" font-size=\"10px\" fill=\"#000\" opacity=\"1\">Chandigarh</text><text text-anchor=\"end\" transform=\"translate(49.5,7) rotate(270) translate(0,3)\" font-family=\"sans-serif\" font-size=\"10px\" fill=\"#000\" opacity=\"1\">Delhi - New Delhi</text><text text-anchor=\"end\" transform=\"translate(69.5,7) rotate(270) translate(0,3)\" font-family=\"sans-serif\" font-size=\"10px\" fill=\"#000\" opacity=\"1\">Hyderabad</text><text text-anchor=\"end\" transform=\"translate(89.5,7) rotate(270) translate(0,3)\" font-family=\"sans-serif\" font-size=\"10px\" fill=\"#000\" opacity=\"1\">Jammu</text><text text-anchor=\"end\" transform=\"translate(109.5,7) rotate(270) translate(0,3)\" font-family=\"sans-serif\" font-size=\"10px\" fill=\"#000\" opacity=\"1\">Kolkata</text><text text-anchor=\"end\" transform=\"translate(129.5,7) rotate(270) translate(0,3)\" font-family=\"sans-serif\" font-size=\"10px\" fill=\"#000\" opacity=\"1\">Ludhiana</text><text text-anchor=\"end\" transform=\"translate(149.5,7) rotate(270) translate(0,3)\" font-family=\"sans-serif\" font-size=\"10px\" fill=\"#000\" opacity=\"1\">Srinagar</text></g><g class=\"mark-rule role-axis-domain\" pointer-events=\"none\"><line transform=\"translate(0,0)\" x2=\"160\" y2=\"0\" stroke=\"#888\" stroke-width=\"1\" opacity=\"1\"/></g></g><path class=\"foreground\" aria-hidden=\"true\" d=\"\" pointer-events=\"none\" display=\"none\"/></g></g></g><path class=\"foreground\" aria-hidden=\"true\" d=\"\" display=\"none\"/></g><g transform=\"translate(1456,201)\"><path class=\"background\" aria-hidden=\"true\" d=\"M0,0h160v0h-160Z\"/><g><g class=\"mark-group role-axis\" role=\"graphics-symbol\" aria-roledescription=\"axis\" aria-label=\"X-axis for a discrete scale with 8 values: Amritsar, Chandigarh, Delhi - New Delhi, Hyderabad, Jammu, ending with Srinagar\"><g transform=\"translate(0.5,0.5)\"><path class=\"background\" aria-hidden=\"true\" d=\"M0,0h0v0h0Z\" pointer-events=\"none\"/><g><g class=\"mark-rule role-axis-tick\" pointer-events=\"none\"><line transform=\"translate(10,0)\" x2=\"0\" y2=\"5\" stroke=\"#888\" stroke-width=\"1\" opacity=\"1\"/><line transform=\"translate(30,0)\" x2=\"0\" y2=\"5\" stroke=\"#888\" stroke-width=\"1\" opacity=\"1\"/><line transform=\"translate(50,0)\" x2=\"0\" y2=\"5\" stroke=\"#888\" stroke-width=\"1\" opacity=\"1\"/><line transform=\"translate(70,0)\" x2=\"0\" y2=\"5\" stroke=\"#888\" stroke-width=\"1\" opacity=\"1\"/><line transform=\"translate(90,0)\" x2=\"0\" y2=\"5\" stroke=\"#888\" stroke-width=\"1\" opacity=\"1\"/><line transform=\"translate(110,0)\" x2=\"0\" y2=\"5\" stroke=\"#888\" stroke-width=\"1\" opacity=\"1\"/><line transform=\"translate(130,0)\" x2=\"0\" y2=\"5\" stroke=\"#888\" stroke-width=\"1\" opacity=\"1\"/><line transform=\"translate(150,0)\" x2=\"0\" y2=\"5\" stroke=\"#888\" stroke-width=\"1\" opacity=\"1\"/></g><g class=\"mark-text role-axis-label\" pointer-events=\"none\"><text text-anchor=\"end\" transform=\"translate(9.5,7) rotate(270) translate(0,3)\" font-family=\"sans-serif\" font-size=\"10px\" fill=\"#000\" opacity=\"1\">Amritsar</text><text text-anchor=\"end\" transform=\"translate(29.5,7) rotate(270) translate(0,3)\" font-family=\"sans-serif\" font-size=\"10px\" fill=\"#000\" opacity=\"1\">Chandigarh</text><text text-anchor=\"end\" transform=\"translate(49.5,7) rotate(270) translate(0,3)\" font-family=\"sans-serif\" font-size=\"10px\" fill=\"#000\" opacity=\"1\">Delhi - New Delhi</text><text text-anchor=\"end\" transform=\"translate(69.5,7) rotate(270) translate(0,3)\" font-family=\"sans-serif\" font-size=\"10px\" fill=\"#000\" opacity=\"1\">Hyderabad</text><text text-anchor=\"end\" transform=\"translate(89.5,7) rotate(270) translate(0,3)\" font-family=\"sans-serif\" font-size=\"10px\" fill=\"#000\" opacity=\"1\">Jammu</text><text text-anchor=\"end\" transform=\"translate(109.5,7) rotate(270) translate(0,3)\" font-family=\"sans-serif\" font-size=\"10px\" fill=\"#000\" opacity=\"1\">Kolkata</text><text text-anchor=\"end\" transform=\"translate(129.5,7) rotate(270) translate(0,3)\" font-family=\"sans-serif\" font-size=\"10px\" fill=\"#000\" opacity=\"1\">Ludhiana</text><text text-anchor=\"end\" transform=\"translate(149.5,7) rotate(270) translate(0,3)\" font-family=\"sans-serif\" font-size=\"10px\" fill=\"#000\" opacity=\"1\">Srinagar</text></g><g class=\"mark-rule role-axis-domain\" pointer-events=\"none\"><line transform=\"translate(0,0)\" x2=\"160\" y2=\"0\" stroke=\"#888\" stroke-width=\"1\" opacity=\"1\"/></g></g><path class=\"foreground\" aria-hidden=\"true\" d=\"\" pointer-events=\"none\" display=\"none\"/></g></g></g><path class=\"foreground\" aria-hidden=\"true\" d=\"\" display=\"none\"/></g><g transform=\"translate(1638,201)\"><path class=\"background\" aria-hidden=\"true\" d=\"M0,0h160v0h-160Z\"/><g><g class=\"mark-group role-axis\" role=\"graphics-symbol\" aria-roledescription=\"axis\" aria-label=\"X-axis for a discrete scale with 8 values: Amritsar, Chandigarh, Delhi - New Delhi, Hyderabad, Jammu, ending with Srinagar\"><g transform=\"translate(0.5,0.5)\"><path class=\"background\" aria-hidden=\"true\" d=\"M0,0h0v0h0Z\" pointer-events=\"none\"/><g><g class=\"mark-rule role-axis-tick\" pointer-events=\"none\"><line transform=\"translate(10,0)\" x2=\"0\" y2=\"5\" stroke=\"#888\" stroke-width=\"1\" opacity=\"1\"/><line transform=\"translate(30,0)\" x2=\"0\" y2=\"5\" stroke=\"#888\" stroke-width=\"1\" opacity=\"1\"/><line transform=\"translate(50,0)\" x2=\"0\" y2=\"5\" stroke=\"#888\" stroke-width=\"1\" opacity=\"1\"/><line transform=\"translate(70,0)\" x2=\"0\" y2=\"5\" stroke=\"#888\" stroke-width=\"1\" opacity=\"1\"/><line transform=\"translate(90,0)\" x2=\"0\" y2=\"5\" stroke=\"#888\" stroke-width=\"1\" opacity=\"1\"/><line transform=\"translate(110,0)\" x2=\"0\" y2=\"5\" stroke=\"#888\" stroke-width=\"1\" opacity=\"1\"/><line transform=\"translate(130,0)\" x2=\"0\" y2=\"5\" stroke=\"#888\" stroke-width=\"1\" opacity=\"1\"/><line transform=\"translate(150,0)\" x2=\"0\" y2=\"5\" stroke=\"#888\" stroke-width=\"1\" opacity=\"1\"/></g><g class=\"mark-text role-axis-label\" pointer-events=\"none\"><text text-anchor=\"end\" transform=\"translate(9.5,7) rotate(270) translate(0,3)\" font-family=\"sans-serif\" font-size=\"10px\" fill=\"#000\" opacity=\"1\">Amritsar</text><text text-anchor=\"end\" transform=\"translate(29.5,7) rotate(270) translate(0,3)\" font-family=\"sans-serif\" font-size=\"10px\" fill=\"#000\" opacity=\"1\">Chandigarh</text><text text-anchor=\"end\" transform=\"translate(49.5,7) rotate(270) translate(0,3)\" font-family=\"sans-serif\" font-size=\"10px\" fill=\"#000\" opacity=\"1\">Delhi - New Delhi</text><text text-anchor=\"end\" transform=\"translate(69.5,7) rotate(270) translate(0,3)\" font-family=\"sans-serif\" font-size=\"10px\" fill=\"#000\" opacity=\"1\">Hyderabad</text><text text-anchor=\"end\" transform=\"translate(89.5,7) rotate(270) translate(0,3)\" font-family=\"sans-serif\" font-size=\"10px\" fill=\"#000\" opacity=\"1\">Jammu</text><text text-anchor=\"end\" transform=\"translate(109.5,7) rotate(270) translate(0,3)\" font-family=\"sans-serif\" font-size=\"10px\" fill=\"#000\" opacity=\"1\">Kolkata</text><text text-anchor=\"end\" transform=\"translate(129.5,7) rotate(270) translate(0,3)\" font-family=\"sans-serif\" font-size=\"10px\" fill=\"#000\" opacity=\"1\">Ludhiana</text><text text-anchor=\"end\" transform=\"translate(149.5,7) rotate(270) translate(0,3)\" font-family=\"sans-serif\" font-size=\"10px\" fill=\"#000\" opacity=\"1\">Srinagar</text></g><g class=\"mark-rule role-axis-domain\" pointer-events=\"none\"><line transform=\"translate(0,0)\" x2=\"160\" y2=\"0\" stroke=\"#888\" stroke-width=\"1\" opacity=\"1\"/></g></g><path class=\"foreground\" aria-hidden=\"true\" d=\"\" pointer-events=\"none\" display=\"none\"/></g></g></g><path class=\"foreground\" aria-hidden=\"true\" d=\"\" display=\"none\"/></g><g transform=\"translate(1820,201)\"><path class=\"background\" aria-hidden=\"true\" d=\"M0,0h160v0h-160Z\"/><g><g class=\"mark-group role-axis\" role=\"graphics-symbol\" aria-roledescription=\"axis\" aria-label=\"X-axis for a discrete scale with 8 values: Amritsar, Chandigarh, Delhi - New Delhi, Hyderabad, Jammu, ending with Srinagar\"><g transform=\"translate(0.5,0.5)\"><path class=\"background\" aria-hidden=\"true\" d=\"M0,0h0v0h0Z\" pointer-events=\"none\"/><g><g class=\"mark-rule role-axis-tick\" pointer-events=\"none\"><line transform=\"translate(10,0)\" x2=\"0\" y2=\"5\" stroke=\"#888\" stroke-width=\"1\" opacity=\"1\"/><line transform=\"translate(30,0)\" x2=\"0\" y2=\"5\" stroke=\"#888\" stroke-width=\"1\" opacity=\"1\"/><line transform=\"translate(50,0)\" x2=\"0\" y2=\"5\" stroke=\"#888\" stroke-width=\"1\" opacity=\"1\"/><line transform=\"translate(70,0)\" x2=\"0\" y2=\"5\" stroke=\"#888\" stroke-width=\"1\" opacity=\"1\"/><line transform=\"translate(90,0)\" x2=\"0\" y2=\"5\" stroke=\"#888\" stroke-width=\"1\" opacity=\"1\"/><line transform=\"translate(110,0)\" x2=\"0\" y2=\"5\" stroke=\"#888\" stroke-width=\"1\" opacity=\"1\"/><line transform=\"translate(130,0)\" x2=\"0\" y2=\"5\" stroke=\"#888\" stroke-width=\"1\" opacity=\"1\"/><line transform=\"translate(150,0)\" x2=\"0\" y2=\"5\" stroke=\"#888\" stroke-width=\"1\" opacity=\"1\"/></g><g class=\"mark-text role-axis-label\" pointer-events=\"none\"><text text-anchor=\"end\" transform=\"translate(9.5,7) rotate(270) translate(0,3)\" font-family=\"sans-serif\" font-size=\"10px\" fill=\"#000\" opacity=\"1\">Amritsar</text><text text-anchor=\"end\" transform=\"translate(29.5,7) rotate(270) translate(0,3)\" font-family=\"sans-serif\" font-size=\"10px\" fill=\"#000\" opacity=\"1\">Chandigarh</text><text text-anchor=\"end\" transform=\"translate(49.5,7) rotate(270) translate(0,3)\" font-family=\"sans-serif\" font-size=\"10px\" fill=\"#000\" opacity=\"1\">Delhi - New Delhi</text><text text-anchor=\"end\" transform=\"translate(69.5,7) rotate(270) translate(0,3)\" font-family=\"sans-serif\" font-size=\"10px\" fill=\"#000\" opacity=\"1\">Hyderabad</text><text text-anchor=\"end\" transform=\"translate(89.5,7) rotate(270) translate(0,3)\" font-family=\"sans-serif\" font-size=\"10px\" fill=\"#000\" opacity=\"1\">Jammu</text><text text-anchor=\"end\" transform=\"translate(109.5,7) rotate(270) translate(0,3)\" font-family=\"sans-serif\" font-size=\"10px\" fill=\"#000\" opacity=\"1\">Kolkata</text><text text-anchor=\"end\" transform=\"translate(129.5,7) rotate(270) translate(0,3)\" font-family=\"sans-serif\" font-size=\"10px\" fill=\"#000\" opacity=\"1\">Ludhiana</text><text text-anchor=\"end\" transform=\"translate(149.5,7) rotate(270) translate(0,3)\" font-family=\"sans-serif\" font-size=\"10px\" fill=\"#000\" opacity=\"1\">Srinagar</text></g><g class=\"mark-rule role-axis-domain\" pointer-events=\"none\"><line transform=\"translate(0,0)\" x2=\"160\" y2=\"0\" stroke=\"#888\" stroke-width=\"1\" opacity=\"1\"/></g></g><path class=\"foreground\" aria-hidden=\"true\" d=\"\" pointer-events=\"none\" display=\"none\"/></g></g></g><path class=\"foreground\" aria-hidden=\"true\" d=\"\" display=\"none\"/></g><g transform=\"translate(2002,201)\"><path class=\"background\" aria-hidden=\"true\" d=\"M0,0h160v0h-160Z\"/><g><g class=\"mark-group role-axis\" role=\"graphics-symbol\" aria-roledescription=\"axis\" aria-label=\"X-axis for a discrete scale with 8 values: Amritsar, Chandigarh, Delhi - New Delhi, Hyderabad, Jammu, ending with Srinagar\"><g transform=\"translate(0.5,0.5)\"><path class=\"background\" aria-hidden=\"true\" d=\"M0,0h0v0h0Z\" pointer-events=\"none\"/><g><g class=\"mark-rule role-axis-tick\" pointer-events=\"none\"><line transform=\"translate(10,0)\" x2=\"0\" y2=\"5\" stroke=\"#888\" stroke-width=\"1\" opacity=\"1\"/><line transform=\"translate(30,0)\" x2=\"0\" y2=\"5\" stroke=\"#888\" stroke-width=\"1\" opacity=\"1\"/><line transform=\"translate(50,0)\" x2=\"0\" y2=\"5\" stroke=\"#888\" stroke-width=\"1\" opacity=\"1\"/><line transform=\"translate(70,0)\" x2=\"0\" y2=\"5\" stroke=\"#888\" stroke-width=\"1\" opacity=\"1\"/><line transform=\"translate(90,0)\" x2=\"0\" y2=\"5\" stroke=\"#888\" stroke-width=\"1\" opacity=\"1\"/><line transform=\"translate(110,0)\" x2=\"0\" y2=\"5\" stroke=\"#888\" stroke-width=\"1\" opacity=\"1\"/><line transform=\"translate(130,0)\" x2=\"0\" y2=\"5\" stroke=\"#888\" stroke-width=\"1\" opacity=\"1\"/><line transform=\"translate(150,0)\" x2=\"0\" y2=\"5\" stroke=\"#888\" stroke-width=\"1\" opacity=\"1\"/></g><g class=\"mark-text role-axis-label\" pointer-events=\"none\"><text text-anchor=\"end\" transform=\"translate(9.5,7) rotate(270) translate(0,3)\" font-family=\"sans-serif\" font-size=\"10px\" fill=\"#000\" opacity=\"1\">Amritsar</text><text text-anchor=\"end\" transform=\"translate(29.5,7) rotate(270) translate(0,3)\" font-family=\"sans-serif\" font-size=\"10px\" fill=\"#000\" opacity=\"1\">Chandigarh</text><text text-anchor=\"end\" transform=\"translate(49.5,7) rotate(270) translate(0,3)\" font-family=\"sans-serif\" font-size=\"10px\" fill=\"#000\" opacity=\"1\">Delhi - New Delhi</text><text text-anchor=\"end\" transform=\"translate(69.5,7) rotate(270) translate(0,3)\" font-family=\"sans-serif\" font-size=\"10px\" fill=\"#000\" opacity=\"1\">Hyderabad</text><text text-anchor=\"end\" transform=\"translate(89.5,7) rotate(270) translate(0,3)\" font-family=\"sans-serif\" font-size=\"10px\" fill=\"#000\" opacity=\"1\">Jammu</text><text text-anchor=\"end\" transform=\"translate(109.5,7) rotate(270) translate(0,3)\" font-family=\"sans-serif\" font-size=\"10px\" fill=\"#000\" opacity=\"1\">Kolkata</text><text text-anchor=\"end\" transform=\"translate(129.5,7) rotate(270) translate(0,3)\" font-family=\"sans-serif\" font-size=\"10px\" fill=\"#000\" opacity=\"1\">Ludhiana</text><text text-anchor=\"end\" transform=\"translate(149.5,7) rotate(270) translate(0,3)\" font-family=\"sans-serif\" font-size=\"10px\" fill=\"#000\" opacity=\"1\">Srinagar</text></g><g class=\"mark-rule role-axis-domain\" pointer-events=\"none\"><line transform=\"translate(0,0)\" x2=\"160\" y2=\"0\" stroke=\"#888\" stroke-width=\"1\" opacity=\"1\"/></g></g><path class=\"foreground\" aria-hidden=\"true\" d=\"\" pointer-events=\"none\" display=\"none\"/></g></g></g><path class=\"foreground\" aria-hidden=\"true\" d=\"\" display=\"none\"/></g></g><g class=\"mark-group role-scope cell\" role=\"graphics-object\" aria-roledescription=\"group mark container\"><g transform=\"translate(0,0)\"><path class=\"background\" aria-hidden=\"true\" d=\"M0.5,0.5h160v200h-160Z\" stroke=\"#ddd\"/><g><g class=\"mark-group role-axis\" aria-hidden=\"true\"><g transform=\"translate(0.5,0.5)\"><path class=\"background\" aria-hidden=\"true\" d=\"M0,0h0v0h0Z\" pointer-events=\"none\"/><g><g class=\"mark-rule role-axis-grid\" pointer-events=\"none\"><line transform=\"translate(0,200)\" x2=\"160\" y2=\"0\" stroke=\"#ddd\" stroke-width=\"1\" opacity=\"1\"/><line transform=\"translate(0,164)\" x2=\"160\" y2=\"0\" stroke=\"#ddd\" stroke-width=\"1\" opacity=\"1\"/><line transform=\"translate(0,127)\" x2=\"160\" y2=\"0\" stroke=\"#ddd\" stroke-width=\"1\" opacity=\"1\"/><line transform=\"translate(0,91)\" x2=\"160\" y2=\"0\" stroke=\"#ddd\" stroke-width=\"1\" opacity=\"1\"/><line transform=\"translate(0,55)\" x2=\"160\" y2=\"0\" stroke=\"#ddd\" stroke-width=\"1\" opacity=\"1\"/><line transform=\"translate(0,18)\" x2=\"160\" y2=\"0\" stroke=\"#ddd\" stroke-width=\"1\" opacity=\"1\"/></g></g><path class=\"foreground\" aria-hidden=\"true\" d=\"\" pointer-events=\"none\" display=\"none\"/></g></g><g class=\"mark-rect role-mark child_marks\" role=\"graphics-object\" aria-roledescription=\"rect mark container\"><path aria-label=\"x: Ludhiana; Count of Records: 28\" role=\"graphics-symbol\" aria-roledescription=\"bar\" d=\"M121,149.0909090909091h18v50.90909090909091h-18Z\" fill=\"#4c78a8\"/><path aria-label=\"x: Jammu; Count of Records: 54\" role=\"graphics-symbol\" aria-roledescription=\"bar\" d=\"M81,101.81818181818181h18v98.18181818181819h-18Z\" fill=\"#4c78a8\"/><path aria-label=\"x: Amritsar; Count of Records: 24\" role=\"graphics-symbol\" aria-roledescription=\"bar\" d=\"M1,156.36363636363637h18v43.636363636363626h-18Z\" fill=\"#4c78a8\"/><path aria-label=\"x: Kolkata; Count of Records: 43\" role=\"graphics-symbol\" aria-roledescription=\"bar\" d=\"M101,121.81818181818183h18v78.18181818181817h-18Z\" fill=\"#4c78a8\"/><path aria-label=\"x: Hyderabad; Count of Records: 29\" role=\"graphics-symbol\" aria-roledescription=\"bar\" d=\"M61,147.27272727272725h18v52.72727272727275h-18Z\" fill=\"#4c78a8\"/><path aria-label=\"x: Delhi - New Delhi; Count of Records: 64\" role=\"graphics-symbol\" aria-roledescription=\"bar\" d=\"M41,83.63636363636364h18v116.36363636363636h-18Z\" fill=\"#4c78a8\"/><path aria-label=\"x: Chandigarh; Count of Records: 33\" role=\"graphics-symbol\" aria-roledescription=\"bar\" d=\"M21,140h18v60h-18Z\" fill=\"#4c78a8\"/><path aria-label=\"x: Srinagar; Count of Records: 15\" role=\"graphics-symbol\" aria-roledescription=\"bar\" d=\"M141,172.72727272727272h18v27.27272727272728h-18Z\" fill=\"#4c78a8\"/></g></g><path class=\"foreground\" aria-hidden=\"true\" d=\"\" display=\"none\"/></g><g transform=\"translate(182,0)\"><path class=\"background\" aria-hidden=\"true\" d=\"M0.5,0.5h160v200h-160Z\" stroke=\"#ddd\"/><g><g class=\"mark-group role-axis\" aria-hidden=\"true\"><g transform=\"translate(0.5,0.5)\"><path class=\"background\" aria-hidden=\"true\" d=\"M0,0h0v0h0Z\" pointer-events=\"none\"/><g><g class=\"mark-rule role-axis-grid\" pointer-events=\"none\"><line transform=\"translate(0,200)\" x2=\"160\" y2=\"0\" stroke=\"#ddd\" stroke-width=\"1\" opacity=\"1\"/><line transform=\"translate(0,164)\" x2=\"160\" y2=\"0\" stroke=\"#ddd\" stroke-width=\"1\" opacity=\"1\"/><line transform=\"translate(0,127)\" x2=\"160\" y2=\"0\" stroke=\"#ddd\" stroke-width=\"1\" opacity=\"1\"/><line transform=\"translate(0,91)\" x2=\"160\" y2=\"0\" stroke=\"#ddd\" stroke-width=\"1\" opacity=\"1\"/><line transform=\"translate(0,55)\" x2=\"160\" y2=\"0\" stroke=\"#ddd\" stroke-width=\"1\" opacity=\"1\"/><line transform=\"translate(0,18)\" x2=\"160\" y2=\"0\" stroke=\"#ddd\" stroke-width=\"1\" opacity=\"1\"/></g></g><path class=\"foreground\" aria-hidden=\"true\" d=\"\" pointer-events=\"none\" display=\"none\"/></g></g><g class=\"mark-rect role-mark child_marks\" role=\"graphics-object\" aria-roledescription=\"rect mark container\"><path aria-label=\"x: Amritsar; Count of Records: 16\" role=\"graphics-symbol\" aria-roledescription=\"bar\" d=\"M1,170.9090909090909h18v29.090909090909093h-18Z\" fill=\"#4c78a8\"/><path aria-label=\"x: Ludhiana; Count of Records: 25\" role=\"graphics-symbol\" aria-roledescription=\"bar\" d=\"M121,154.54545454545453h18v45.45454545454547h-18Z\" fill=\"#4c78a8\"/><path aria-label=\"x: Jammu; Count of Records: 38\" role=\"graphics-symbol\" aria-roledescription=\"bar\" d=\"M81,130.9090909090909h18v69.0909090909091h-18Z\" fill=\"#4c78a8\"/><path aria-label=\"x: Hyderabad; Count of Records: 25\" role=\"graphics-symbol\" aria-roledescription=\"bar\" d=\"M61,154.54545454545453h18v45.45454545454547h-18Z\" fill=\"#4c78a8\"/><path aria-label=\"x: Kolkata; Count of Records: 22\" role=\"graphics-symbol\" aria-roledescription=\"bar\" d=\"M101,160h18v40h-18Z\" fill=\"#4c78a8\"/><path aria-label=\"x: Delhi - New Delhi; Count of Records: 41\" role=\"graphics-symbol\" aria-roledescription=\"bar\" d=\"M41,125.45454545454544h18v74.54545454545456h-18Z\" fill=\"#4c78a8\"/><path aria-label=\"x: Srinagar; Count of Records: 18\" role=\"graphics-symbol\" aria-roledescription=\"bar\" d=\"M141,167.27272727272728h18v32.72727272727272h-18Z\" fill=\"#4c78a8\"/><path aria-label=\"x: Chandigarh; Count of Records: 23\" role=\"graphics-symbol\" aria-roledescription=\"bar\" d=\"M21,158.1818181818182h18v41.81818181818181h-18Z\" fill=\"#4c78a8\"/></g></g><path class=\"foreground\" aria-hidden=\"true\" d=\"\" display=\"none\"/></g><g transform=\"translate(364,0)\"><path class=\"background\" aria-hidden=\"true\" d=\"M0.5,0.5h160v200h-160Z\" stroke=\"#ddd\"/><g><g class=\"mark-group role-axis\" aria-hidden=\"true\"><g transform=\"translate(0.5,0.5)\"><path class=\"background\" aria-hidden=\"true\" d=\"M0,0h0v0h0Z\" pointer-events=\"none\"/><g><g class=\"mark-rule role-axis-grid\" pointer-events=\"none\"><line transform=\"translate(0,200)\" x2=\"160\" y2=\"0\" stroke=\"#ddd\" stroke-width=\"1\" opacity=\"1\"/><line transform=\"translate(0,164)\" x2=\"160\" y2=\"0\" stroke=\"#ddd\" stroke-width=\"1\" opacity=\"1\"/><line transform=\"translate(0,127)\" x2=\"160\" y2=\"0\" stroke=\"#ddd\" stroke-width=\"1\" opacity=\"1\"/><line transform=\"translate(0,91)\" x2=\"160\" y2=\"0\" stroke=\"#ddd\" stroke-width=\"1\" opacity=\"1\"/><line transform=\"translate(0,55)\" x2=\"160\" y2=\"0\" stroke=\"#ddd\" stroke-width=\"1\" opacity=\"1\"/><line transform=\"translate(0,18)\" x2=\"160\" y2=\"0\" stroke=\"#ddd\" stroke-width=\"1\" opacity=\"1\"/></g></g><path class=\"foreground\" aria-hidden=\"true\" d=\"\" pointer-events=\"none\" display=\"none\"/></g></g><g class=\"mark-rect role-mark child_marks\" role=\"graphics-object\" aria-roledescription=\"rect mark container\"><path aria-label=\"x: Kolkata; Count of Records: 16\" role=\"graphics-symbol\" aria-roledescription=\"bar\" d=\"M101,170.9090909090909h18v29.090909090909093h-18Z\" fill=\"#4c78a8\"/><path aria-label=\"x: Srinagar; Count of Records: 16\" role=\"graphics-symbol\" aria-roledescription=\"bar\" d=\"M141,170.9090909090909h18v29.090909090909093h-18Z\" fill=\"#4c78a8\"/><path aria-label=\"x: Hyderabad; Count of Records: 23\" role=\"graphics-symbol\" aria-roledescription=\"bar\" d=\"M61,158.1818181818182h18v41.81818181818181h-18Z\" fill=\"#4c78a8\"/><path aria-label=\"x: Jammu; Count of Records: 17\" role=\"graphics-symbol\" aria-roledescription=\"bar\" d=\"M81,169.0909090909091h18v30.909090909090907h-18Z\" fill=\"#4c78a8\"/><path aria-label=\"x: Chandigarh; Count of Records: 9\" role=\"graphics-symbol\" aria-roledescription=\"bar\" d=\"M21,183.63636363636365h18v16.363636363636346h-18Z\" fill=\"#4c78a8\"/><path aria-label=\"x: Ludhiana; Count of Records: 15\" role=\"graphics-symbol\" aria-roledescription=\"bar\" d=\"M121,172.72727272727272h18v27.27272727272728h-18Z\" fill=\"#4c78a8\"/><path aria-label=\"x: Delhi - New Delhi; Count of Records: 9\" role=\"graphics-symbol\" aria-roledescription=\"bar\" d=\"M41,183.63636363636365h18v16.363636363636346h-18Z\" fill=\"#4c78a8\"/><path aria-label=\"x: Amritsar; Count of Records: 6\" role=\"graphics-symbol\" aria-roledescription=\"bar\" d=\"M1,189.0909090909091h18v10.909090909090907h-18Z\" fill=\"#4c78a8\"/></g></g><path class=\"foreground\" aria-hidden=\"true\" d=\"\" display=\"none\"/></g><g transform=\"translate(546,0)\"><path class=\"background\" aria-hidden=\"true\" d=\"M0.5,0.5h160v200h-160Z\" stroke=\"#ddd\"/><g><g class=\"mark-group role-axis\" aria-hidden=\"true\"><g transform=\"translate(0.5,0.5)\"><path class=\"background\" aria-hidden=\"true\" d=\"M0,0h0v0h0Z\" pointer-events=\"none\"/><g><g class=\"mark-rule role-axis-grid\" pointer-events=\"none\"><line transform=\"translate(0,200)\" x2=\"160\" y2=\"0\" stroke=\"#ddd\" stroke-width=\"1\" opacity=\"1\"/><line transform=\"translate(0,164)\" x2=\"160\" y2=\"0\" stroke=\"#ddd\" stroke-width=\"1\" opacity=\"1\"/><line transform=\"translate(0,127)\" x2=\"160\" y2=\"0\" stroke=\"#ddd\" stroke-width=\"1\" opacity=\"1\"/><line transform=\"translate(0,91)\" x2=\"160\" y2=\"0\" stroke=\"#ddd\" stroke-width=\"1\" opacity=\"1\"/><line transform=\"translate(0,55)\" x2=\"160\" y2=\"0\" stroke=\"#ddd\" stroke-width=\"1\" opacity=\"1\"/><line transform=\"translate(0,18)\" x2=\"160\" y2=\"0\" stroke=\"#ddd\" stroke-width=\"1\" opacity=\"1\"/></g></g><path class=\"foreground\" aria-hidden=\"true\" d=\"\" pointer-events=\"none\" display=\"none\"/></g></g><g class=\"mark-rect role-mark child_marks\" role=\"graphics-object\" aria-roledescription=\"rect mark container\"><path aria-label=\"x: Amritsar; Count of Records: 7\" role=\"graphics-symbol\" aria-roledescription=\"bar\" d=\"M1,187.27272727272728h18v12.72727272727272h-18Z\" fill=\"#4c78a8\"/><path aria-label=\"x: Jammu; Count of Records: 2\" role=\"graphics-symbol\" aria-roledescription=\"bar\" d=\"M81,196.36363636363637h18v3.636363636363626h-18Z\" fill=\"#4c78a8\"/><path aria-label=\"x: Hyderabad; Count of Records: 3\" role=\"graphics-symbol\" aria-roledescription=\"bar\" d=\"M61,194.54545454545456h18v5.454545454545439h-18Z\" fill=\"#4c78a8\"/><path aria-label=\"x: Ludhiana; Count of Records: 7\" role=\"graphics-symbol\" aria-roledescription=\"bar\" d=\"M121,187.27272727272728h18v12.72727272727272h-18Z\" fill=\"#4c78a8\"/><path aria-label=\"x: Srinagar; Count of Records: 9\" role=\"graphics-symbol\" aria-roledescription=\"bar\" d=\"M141,183.63636363636365h18v16.363636363636346h-18Z\" fill=\"#4c78a8\"/><path aria-label=\"x: Delhi - New Delhi; Count of Records: 3\" role=\"graphics-symbol\" aria-roledescription=\"bar\" d=\"M41,194.54545454545456h18v5.454545454545439h-18Z\" fill=\"#4c78a8\"/><path aria-label=\"x: Kolkata; Count of Records: 9\" role=\"graphics-symbol\" aria-roledescription=\"bar\" d=\"M101,183.63636363636365h18v16.363636363636346h-18Z\" fill=\"#4c78a8\"/><path aria-label=\"x: Chandigarh; Count of Records: 4\" role=\"graphics-symbol\" aria-roledescription=\"bar\" d=\"M21,192.72727272727272h18v7.2727272727272805h-18Z\" fill=\"#4c78a8\"/></g></g><path class=\"foreground\" aria-hidden=\"true\" d=\"\" display=\"none\"/></g><g transform=\"translate(728,0)\"><path class=\"background\" aria-hidden=\"true\" d=\"M0.5,0.5h160v200h-160Z\" stroke=\"#ddd\"/><g><g class=\"mark-group role-axis\" aria-hidden=\"true\"><g transform=\"translate(0.5,0.5)\"><path class=\"background\" aria-hidden=\"true\" d=\"M0,0h0v0h0Z\" pointer-events=\"none\"/><g><g class=\"mark-rule role-axis-grid\" pointer-events=\"none\"><line transform=\"translate(0,200)\" x2=\"160\" y2=\"0\" stroke=\"#ddd\" stroke-width=\"1\" opacity=\"1\"/><line transform=\"translate(0,164)\" x2=\"160\" y2=\"0\" stroke=\"#ddd\" stroke-width=\"1\" opacity=\"1\"/><line transform=\"translate(0,127)\" x2=\"160\" y2=\"0\" stroke=\"#ddd\" stroke-width=\"1\" opacity=\"1\"/><line transform=\"translate(0,91)\" x2=\"160\" y2=\"0\" stroke=\"#ddd\" stroke-width=\"1\" opacity=\"1\"/><line transform=\"translate(0,55)\" x2=\"160\" y2=\"0\" stroke=\"#ddd\" stroke-width=\"1\" opacity=\"1\"/><line transform=\"translate(0,18)\" x2=\"160\" y2=\"0\" stroke=\"#ddd\" stroke-width=\"1\" opacity=\"1\"/></g></g><path class=\"foreground\" aria-hidden=\"true\" d=\"\" pointer-events=\"none\" display=\"none\"/></g></g><g class=\"mark-rect role-mark child_marks\" role=\"graphics-object\" aria-roledescription=\"rect mark container\"><path aria-label=\"x: Jammu; Count of Records: 29\" role=\"graphics-symbol\" aria-roledescription=\"bar\" d=\"M81,147.27272727272725h18v52.72727272727275h-18Z\" fill=\"#4c78a8\"/><path aria-label=\"x: Ludhiana; Count of Records: 20\" role=\"graphics-symbol\" aria-roledescription=\"bar\" d=\"M121,163.63636363636363h18v36.363636363636374h-18Z\" fill=\"#4c78a8\"/><path aria-label=\"x: Chandigarh; Count of Records: 11\" role=\"graphics-symbol\" aria-roledescription=\"bar\" d=\"M21,180h18v20h-18Z\" fill=\"#4c78a8\"/><path aria-label=\"x: Amritsar; Count of Records: 8\" role=\"graphics-symbol\" aria-roledescription=\"bar\" d=\"M1,185.45454545454544h18v14.545454545454561h-18Z\" fill=\"#4c78a8\"/><path aria-label=\"x: Srinagar; Count of Records: 14\" role=\"graphics-symbol\" aria-roledescription=\"bar\" d=\"M141,174.54545454545456h18v25.45454545454544h-18Z\" fill=\"#4c78a8\"/><path aria-label=\"x: Kolkata; Count of Records: 15\" role=\"graphics-symbol\" aria-roledescription=\"bar\" d=\"M101,172.72727272727272h18v27.27272727272728h-18Z\" fill=\"#4c78a8\"/><path aria-label=\"x: Hyderabad; Count of Records: 8\" role=\"graphics-symbol\" aria-roledescription=\"bar\" d=\"M61,185.45454545454544h18v14.545454545454561h-18Z\" fill=\"#4c78a8\"/><path aria-label=\"x: Delhi - New Delhi; Count of Records: 3\" role=\"graphics-symbol\" aria-roledescription=\"bar\" d=\"M41,194.54545454545456h18v5.454545454545439h-18Z\" fill=\"#4c78a8\"/></g></g><path class=\"foreground\" aria-hidden=\"true\" d=\"\" display=\"none\"/></g><g transform=\"translate(910,0)\"><path class=\"background\" aria-hidden=\"true\" d=\"M0.5,0.5h160v200h-160Z\" stroke=\"#ddd\"/><g><g class=\"mark-group role-axis\" aria-hidden=\"true\"><g transform=\"translate(0.5,0.5)\"><path class=\"background\" aria-hidden=\"true\" d=\"M0,0h0v0h0Z\" pointer-events=\"none\"/><g><g class=\"mark-rule role-axis-grid\" pointer-events=\"none\"><line transform=\"translate(0,200)\" x2=\"160\" y2=\"0\" stroke=\"#ddd\" stroke-width=\"1\" opacity=\"1\"/><line transform=\"translate(0,164)\" x2=\"160\" y2=\"0\" stroke=\"#ddd\" stroke-width=\"1\" opacity=\"1\"/><line transform=\"translate(0,127)\" x2=\"160\" y2=\"0\" stroke=\"#ddd\" stroke-width=\"1\" opacity=\"1\"/><line transform=\"translate(0,91)\" x2=\"160\" y2=\"0\" stroke=\"#ddd\" stroke-width=\"1\" opacity=\"1\"/><line transform=\"translate(0,55)\" x2=\"160\" y2=\"0\" stroke=\"#ddd\" stroke-width=\"1\" opacity=\"1\"/><line transform=\"translate(0,18)\" x2=\"160\" y2=\"0\" stroke=\"#ddd\" stroke-width=\"1\" opacity=\"1\"/></g></g><path class=\"foreground\" aria-hidden=\"true\" d=\"\" pointer-events=\"none\" display=\"none\"/></g></g><g class=\"mark-rect role-mark child_marks\" role=\"graphics-object\" aria-roledescription=\"rect mark container\"><path aria-label=\"x: Kolkata; Count of Records: 20\" role=\"graphics-symbol\" aria-roledescription=\"bar\" d=\"M101,163.63636363636363h18v36.363636363636374h-18Z\" fill=\"#4c78a8\"/><path aria-label=\"x: Amritsar; Count of Records: 23\" role=\"graphics-symbol\" aria-roledescription=\"bar\" d=\"M1,158.1818181818182h18v41.81818181818181h-18Z\" fill=\"#4c78a8\"/><path aria-label=\"x: Ludhiana; Count of Records: 30\" role=\"graphics-symbol\" aria-roledescription=\"bar\" d=\"M121,145.45454545454547h18v54.54545454545453h-18Z\" fill=\"#4c78a8\"/><path aria-label=\"x: Jammu; Count of Records: 44\" role=\"graphics-symbol\" aria-roledescription=\"bar\" d=\"M81,120h18v80h-18Z\" fill=\"#4c78a8\"/><path aria-label=\"x: Hyderabad; Count of Records: 18\" role=\"graphics-symbol\" aria-roledescription=\"bar\" d=\"M61,167.27272727272728h18v32.72727272727272h-18Z\" fill=\"#4c78a8\"/><path aria-label=\"x: Srinagar; Count of Records: 22\" role=\"graphics-symbol\" aria-roledescription=\"bar\" d=\"M141,160h18v40h-18Z\" fill=\"#4c78a8\"/><path aria-label=\"x: Chandigarh; Count of Records: 21\" role=\"graphics-symbol\" aria-roledescription=\"bar\" d=\"M21,161.8181818181818h18v38.18181818181819h-18Z\" fill=\"#4c78a8\"/><path aria-label=\"x: Delhi - New Delhi; Count of Records: 20\" role=\"graphics-symbol\" aria-roledescription=\"bar\" d=\"M41,163.63636363636363h18v36.363636363636374h-18Z\" fill=\"#4c78a8\"/></g></g><path class=\"foreground\" aria-hidden=\"true\" d=\"\" display=\"none\"/></g><g transform=\"translate(1092,0)\"><path class=\"background\" aria-hidden=\"true\" d=\"M0.5,0.5h160v200h-160Z\" stroke=\"#ddd\"/><g><g class=\"mark-group role-axis\" aria-hidden=\"true\"><g transform=\"translate(0.5,0.5)\"><path class=\"background\" aria-hidden=\"true\" d=\"M0,0h0v0h0Z\" pointer-events=\"none\"/><g><g class=\"mark-rule role-axis-grid\" pointer-events=\"none\"><line transform=\"translate(0,200)\" x2=\"160\" y2=\"0\" stroke=\"#ddd\" stroke-width=\"1\" opacity=\"1\"/><line transform=\"translate(0,164)\" x2=\"160\" y2=\"0\" stroke=\"#ddd\" stroke-width=\"1\" opacity=\"1\"/><line transform=\"translate(0,127)\" x2=\"160\" y2=\"0\" stroke=\"#ddd\" stroke-width=\"1\" opacity=\"1\"/><line transform=\"translate(0,91)\" x2=\"160\" y2=\"0\" stroke=\"#ddd\" stroke-width=\"1\" opacity=\"1\"/><line transform=\"translate(0,55)\" x2=\"160\" y2=\"0\" stroke=\"#ddd\" stroke-width=\"1\" opacity=\"1\"/><line transform=\"translate(0,18)\" x2=\"160\" y2=\"0\" stroke=\"#ddd\" stroke-width=\"1\" opacity=\"1\"/></g></g><path class=\"foreground\" aria-hidden=\"true\" d=\"\" pointer-events=\"none\" display=\"none\"/></g></g><g class=\"mark-rect role-mark child_marks\" role=\"graphics-object\" aria-roledescription=\"rect mark container\"><path aria-label=\"x: Ludhiana; Count of Records: 19\" role=\"graphics-symbol\" aria-roledescription=\"bar\" d=\"M121,165.45454545454547h18v34.54545454545453h-18Z\" fill=\"#4c78a8\"/><path aria-label=\"x: Srinagar; Count of Records: 21\" role=\"graphics-symbol\" aria-roledescription=\"bar\" d=\"M141,161.8181818181818h18v38.18181818181819h-18Z\" fill=\"#4c78a8\"/><path aria-label=\"x: Jammu; Count of Records: 54\" role=\"graphics-symbol\" aria-roledescription=\"bar\" d=\"M81,101.81818181818181h18v98.18181818181819h-18Z\" fill=\"#4c78a8\"/><path aria-label=\"x: Delhi - New Delhi; Count of Records: 18\" role=\"graphics-symbol\" aria-roledescription=\"bar\" d=\"M41,167.27272727272728h18v32.72727272727272h-18Z\" fill=\"#4c78a8\"/><path aria-label=\"x: Amritsar; Count of Records: 15\" role=\"graphics-symbol\" aria-roledescription=\"bar\" d=\"M1,172.72727272727272h18v27.27272727272728h-18Z\" fill=\"#4c78a8\"/><path aria-label=\"x: Hyderabad; Count of Records: 22\" role=\"graphics-symbol\" aria-roledescription=\"bar\" d=\"M61,160h18v40h-18Z\" fill=\"#4c78a8\"/><path aria-label=\"x: Chandigarh; Count of Records: 9\" role=\"graphics-symbol\" aria-roledescription=\"bar\" d=\"M21,183.63636363636365h18v16.363636363636346h-18Z\" fill=\"#4c78a8\"/><path aria-label=\"x: Kolkata; Count of Records: 20\" role=\"graphics-symbol\" aria-roledescription=\"bar\" d=\"M101,163.63636363636363h18v36.363636363636374h-18Z\" fill=\"#4c78a8\"/></g></g><path class=\"foreground\" aria-hidden=\"true\" d=\"\" display=\"none\"/></g><g transform=\"translate(1274,0)\"><path class=\"background\" aria-hidden=\"true\" d=\"M0.5,0.5h160v200h-160Z\" stroke=\"#ddd\"/><g><g class=\"mark-group role-axis\" aria-hidden=\"true\"><g transform=\"translate(0.5,0.5)\"><path class=\"background\" aria-hidden=\"true\" d=\"M0,0h0v0h0Z\" pointer-events=\"none\"/><g><g class=\"mark-rule role-axis-grid\" pointer-events=\"none\"><line transform=\"translate(0,200)\" x2=\"160\" y2=\"0\" stroke=\"#ddd\" stroke-width=\"1\" opacity=\"1\"/><line transform=\"translate(0,164)\" x2=\"160\" y2=\"0\" stroke=\"#ddd\" stroke-width=\"1\" opacity=\"1\"/><line transform=\"translate(0,127)\" x2=\"160\" y2=\"0\" stroke=\"#ddd\" stroke-width=\"1\" opacity=\"1\"/><line transform=\"translate(0,91)\" x2=\"160\" y2=\"0\" stroke=\"#ddd\" stroke-width=\"1\" opacity=\"1\"/><line transform=\"translate(0,55)\" x2=\"160\" y2=\"0\" stroke=\"#ddd\" stroke-width=\"1\" opacity=\"1\"/><line transform=\"translate(0,18)\" x2=\"160\" y2=\"0\" stroke=\"#ddd\" stroke-width=\"1\" opacity=\"1\"/></g></g><path class=\"foreground\" aria-hidden=\"true\" d=\"\" pointer-events=\"none\" display=\"none\"/></g></g><g class=\"mark-rect role-mark child_marks\" role=\"graphics-object\" aria-roledescription=\"rect mark container\"><path aria-label=\"x: Ludhiana; Count of Records: 17\" role=\"graphics-symbol\" aria-roledescription=\"bar\" d=\"M121,169.0909090909091h18v30.909090909090907h-18Z\" fill=\"#4c78a8\"/><path aria-label=\"x: Jammu; Count of Records: 39\" role=\"graphics-symbol\" aria-roledescription=\"bar\" d=\"M81,129.0909090909091h18v70.9090909090909h-18Z\" fill=\"#4c78a8\"/><path aria-label=\"x: Chandigarh; Count of Records: 22\" role=\"graphics-symbol\" aria-roledescription=\"bar\" d=\"M21,160h18v40h-18Z\" fill=\"#4c78a8\"/><path aria-label=\"x: Srinagar; Count of Records: 23\" role=\"graphics-symbol\" aria-roledescription=\"bar\" d=\"M141,158.1818181818182h18v41.81818181818181h-18Z\" fill=\"#4c78a8\"/><path aria-label=\"x: Delhi - New Delhi; Count of Records: 16\" role=\"graphics-symbol\" aria-roledescription=\"bar\" d=\"M41,170.9090909090909h18v29.090909090909093h-18Z\" fill=\"#4c78a8\"/><path aria-label=\"x: Amritsar; Count of Records: 16\" role=\"graphics-symbol\" aria-roledescription=\"bar\" d=\"M1,170.9090909090909h18v29.090909090909093h-18Z\" fill=\"#4c78a8\"/><path aria-label=\"x: Hyderabad; Count of Records: 23\" role=\"graphics-symbol\" aria-roledescription=\"bar\" d=\"M61,158.1818181818182h18v41.81818181818181h-18Z\" fill=\"#4c78a8\"/><path aria-label=\"x: Kolkata; Count of Records: 4\" role=\"graphics-symbol\" aria-roledescription=\"bar\" d=\"M101,192.72727272727272h18v7.2727272727272805h-18Z\" fill=\"#4c78a8\"/></g></g><path class=\"foreground\" aria-hidden=\"true\" d=\"\" display=\"none\"/></g><g transform=\"translate(1456,0)\"><path class=\"background\" aria-hidden=\"true\" d=\"M0.5,0.5h160v200h-160Z\" stroke=\"#ddd\"/><g><g class=\"mark-group role-axis\" aria-hidden=\"true\"><g transform=\"translate(0.5,0.5)\"><path class=\"background\" aria-hidden=\"true\" d=\"M0,0h0v0h0Z\" pointer-events=\"none\"/><g><g class=\"mark-rule role-axis-grid\" pointer-events=\"none\"><line transform=\"translate(0,200)\" x2=\"160\" y2=\"0\" stroke=\"#ddd\" stroke-width=\"1\" opacity=\"1\"/><line transform=\"translate(0,164)\" x2=\"160\" y2=\"0\" stroke=\"#ddd\" stroke-width=\"1\" opacity=\"1\"/><line transform=\"translate(0,127)\" x2=\"160\" y2=\"0\" stroke=\"#ddd\" stroke-width=\"1\" opacity=\"1\"/><line transform=\"translate(0,91)\" x2=\"160\" y2=\"0\" stroke=\"#ddd\" stroke-width=\"1\" opacity=\"1\"/><line transform=\"translate(0,55)\" x2=\"160\" y2=\"0\" stroke=\"#ddd\" stroke-width=\"1\" opacity=\"1\"/><line transform=\"translate(0,18)\" x2=\"160\" y2=\"0\" stroke=\"#ddd\" stroke-width=\"1\" opacity=\"1\"/></g></g><path class=\"foreground\" aria-hidden=\"true\" d=\"\" pointer-events=\"none\" display=\"none\"/></g></g><g class=\"mark-rect role-mark child_marks\" role=\"graphics-object\" aria-roledescription=\"rect mark container\"><path aria-label=\"x: Kolkata; Count of Records: 20\" role=\"graphics-symbol\" aria-roledescription=\"bar\" d=\"M101,163.63636363636363h18v36.363636363636374h-18Z\" fill=\"#4c78a8\"/><path aria-label=\"x: Ludhiana; Count of Records: 25\" role=\"graphics-symbol\" aria-roledescription=\"bar\" d=\"M121,154.54545454545453h18v45.45454545454547h-18Z\" fill=\"#4c78a8\"/><path aria-label=\"x: Amritsar; Count of Records: 19\" role=\"graphics-symbol\" aria-roledescription=\"bar\" d=\"M1,165.45454545454547h18v34.54545454545453h-18Z\" fill=\"#4c78a8\"/><path aria-label=\"x: Jammu; Count of Records: 70\" role=\"graphics-symbol\" aria-roledescription=\"bar\" d=\"M81,72.72727272727273h18v127.27272727272727h-18Z\" fill=\"#4c78a8\"/><path aria-label=\"x: Hyderabad; Count of Records: 26\" role=\"graphics-symbol\" aria-roledescription=\"bar\" d=\"M61,152.72727272727275h18v47.27272727272725h-18Z\" fill=\"#4c78a8\"/><path aria-label=\"x: Chandigarh; Count of Records: 34\" role=\"graphics-symbol\" aria-roledescription=\"bar\" d=\"M21,138.1818181818182h18v61.81818181818181h-18Z\" fill=\"#4c78a8\"/><path aria-label=\"x: Delhi - New Delhi; Count of Records: 37\" role=\"graphics-symbol\" aria-roledescription=\"bar\" d=\"M41,132.72727272727272h18v67.27272727272728h-18Z\" fill=\"#4c78a8\"/><path aria-label=\"x: Srinagar; Count of Records: 35\" role=\"graphics-symbol\" aria-roledescription=\"bar\" d=\"M141,136.36363636363637h18v63.636363636363626h-18Z\" fill=\"#4c78a8\"/></g></g><path class=\"foreground\" aria-hidden=\"true\" d=\"\" display=\"none\"/></g><g transform=\"translate(1638,0)\"><path class=\"background\" aria-hidden=\"true\" d=\"M0.5,0.5h160v200h-160Z\" stroke=\"#ddd\"/><g><g class=\"mark-group role-axis\" aria-hidden=\"true\"><g transform=\"translate(0.5,0.5)\"><path class=\"background\" aria-hidden=\"true\" d=\"M0,0h0v0h0Z\" pointer-events=\"none\"/><g><g class=\"mark-rule role-axis-grid\" pointer-events=\"none\"><line transform=\"translate(0,200)\" x2=\"160\" y2=\"0\" stroke=\"#ddd\" stroke-width=\"1\" opacity=\"1\"/><line transform=\"translate(0,164)\" x2=\"160\" y2=\"0\" stroke=\"#ddd\" stroke-width=\"1\" opacity=\"1\"/><line transform=\"translate(0,127)\" x2=\"160\" y2=\"0\" stroke=\"#ddd\" stroke-width=\"1\" opacity=\"1\"/><line transform=\"translate(0,91)\" x2=\"160\" y2=\"0\" stroke=\"#ddd\" stroke-width=\"1\" opacity=\"1\"/><line transform=\"translate(0,55)\" x2=\"160\" y2=\"0\" stroke=\"#ddd\" stroke-width=\"1\" opacity=\"1\"/><line transform=\"translate(0,18)\" x2=\"160\" y2=\"0\" stroke=\"#ddd\" stroke-width=\"1\" opacity=\"1\"/></g></g><path class=\"foreground\" aria-hidden=\"true\" d=\"\" pointer-events=\"none\" display=\"none\"/></g></g><g class=\"mark-rect role-mark child_marks\" role=\"graphics-object\" aria-roledescription=\"rect mark container\"><path aria-label=\"x: Hyderabad; Count of Records: 24\" role=\"graphics-symbol\" aria-roledescription=\"bar\" d=\"M61,156.36363636363637h18v43.636363636363626h-18Z\" fill=\"#4c78a8\"/><path aria-label=\"x: Jammu; Count of Records: 101\" role=\"graphics-symbol\" aria-roledescription=\"bar\" d=\"M81,16.36363636363636h18v183.63636363636363h-18Z\" fill=\"#4c78a8\"/><path aria-label=\"x: Amritsar; Count of Records: 39\" role=\"graphics-symbol\" aria-roledescription=\"bar\" d=\"M1,129.0909090909091h18v70.9090909090909h-18Z\" fill=\"#4c78a8\"/><path aria-label=\"x: Kolkata; Count of Records: 17\" role=\"graphics-symbol\" aria-roledescription=\"bar\" d=\"M101,169.0909090909091h18v30.909090909090907h-18Z\" fill=\"#4c78a8\"/><path aria-label=\"x: Chandigarh; Count of Records: 54\" role=\"graphics-symbol\" aria-roledescription=\"bar\" d=\"M21,101.81818181818181h18v98.18181818181819h-18Z\" fill=\"#4c78a8\"/><path aria-label=\"x: Srinagar; Count of Records: 33\" role=\"graphics-symbol\" aria-roledescription=\"bar\" d=\"M141,140h18v60h-18Z\" fill=\"#4c78a8\"/><path aria-label=\"x: Delhi - New Delhi; Count of Records: 28\" role=\"graphics-symbol\" aria-roledescription=\"bar\" d=\"M41,149.0909090909091h18v50.90909090909091h-18Z\" fill=\"#4c78a8\"/><path aria-label=\"x: Ludhiana; Count of Records: 32\" role=\"graphics-symbol\" aria-roledescription=\"bar\" d=\"M121,141.8181818181818h18v58.18181818181819h-18Z\" fill=\"#4c78a8\"/></g></g><path class=\"foreground\" aria-hidden=\"true\" d=\"\" display=\"none\"/></g><g transform=\"translate(1820,0)\"><path class=\"background\" aria-hidden=\"true\" d=\"M0.5,0.5h160v200h-160Z\" stroke=\"#ddd\"/><g><g class=\"mark-group role-axis\" aria-hidden=\"true\"><g transform=\"translate(0.5,0.5)\"><path class=\"background\" aria-hidden=\"true\" d=\"M0,0h0v0h0Z\" pointer-events=\"none\"/><g><g class=\"mark-rule role-axis-grid\" pointer-events=\"none\"><line transform=\"translate(0,200)\" x2=\"160\" y2=\"0\" stroke=\"#ddd\" stroke-width=\"1\" opacity=\"1\"/><line transform=\"translate(0,164)\" x2=\"160\" y2=\"0\" stroke=\"#ddd\" stroke-width=\"1\" opacity=\"1\"/><line transform=\"translate(0,127)\" x2=\"160\" y2=\"0\" stroke=\"#ddd\" stroke-width=\"1\" opacity=\"1\"/><line transform=\"translate(0,91)\" x2=\"160\" y2=\"0\" stroke=\"#ddd\" stroke-width=\"1\" opacity=\"1\"/><line transform=\"translate(0,55)\" x2=\"160\" y2=\"0\" stroke=\"#ddd\" stroke-width=\"1\" opacity=\"1\"/><line transform=\"translate(0,18)\" x2=\"160\" y2=\"0\" stroke=\"#ddd\" stroke-width=\"1\" opacity=\"1\"/></g></g><path class=\"foreground\" aria-hidden=\"true\" d=\"\" pointer-events=\"none\" display=\"none\"/></g></g><g class=\"mark-rect role-mark child_marks\" role=\"graphics-object\" aria-roledescription=\"rect mark container\"><path aria-label=\"x: Amritsar; Count of Records: 33\" role=\"graphics-symbol\" aria-roledescription=\"bar\" d=\"M1,140h18v60h-18Z\" fill=\"#4c78a8\"/><path aria-label=\"x: Jammu; Count of Records: 48\" role=\"graphics-symbol\" aria-roledescription=\"bar\" d=\"M81,112.72727272727275h18v87.27272727272725h-18Z\" fill=\"#4c78a8\"/><path aria-label=\"x: Srinagar; Count of Records: 25\" role=\"graphics-symbol\" aria-roledescription=\"bar\" d=\"M141,154.54545454545453h18v45.45454545454547h-18Z\" fill=\"#4c78a8\"/><path aria-label=\"x: Chandigarh; Count of Records: 46\" role=\"graphics-symbol\" aria-roledescription=\"bar\" d=\"M21,116.36363636363636h18v83.63636363636364h-18Z\" fill=\"#4c78a8\"/><path aria-label=\"x: Ludhiana; Count of Records: 17\" role=\"graphics-symbol\" aria-roledescription=\"bar\" d=\"M121,169.0909090909091h18v30.909090909090907h-18Z\" fill=\"#4c78a8\"/><path aria-label=\"x: Hyderabad; Count of Records: 19\" role=\"graphics-symbol\" aria-roledescription=\"bar\" d=\"M61,165.45454545454547h18v34.54545454545453h-18Z\" fill=\"#4c78a8\"/><path aria-label=\"x: Delhi - New Delhi; Count of Records: 14\" role=\"graphics-symbol\" aria-roledescription=\"bar\" d=\"M41,174.54545454545456h18v25.45454545454544h-18Z\" fill=\"#4c78a8\"/><path aria-label=\"x: Kolkata; Count of Records: 17\" role=\"graphics-symbol\" aria-roledescription=\"bar\" d=\"M101,169.0909090909091h18v30.909090909090907h-18Z\" fill=\"#4c78a8\"/></g></g><path class=\"foreground\" aria-hidden=\"true\" d=\"\" display=\"none\"/></g><g transform=\"translate(2002,0)\"><path class=\"background\" aria-hidden=\"true\" d=\"M0.5,0.5h160v200h-160Z\" stroke=\"#ddd\"/><g><g class=\"mark-group role-axis\" aria-hidden=\"true\"><g transform=\"translate(0.5,0.5)\"><path class=\"background\" aria-hidden=\"true\" d=\"M0,0h0v0h0Z\" pointer-events=\"none\"/><g><g class=\"mark-rule role-axis-grid\" pointer-events=\"none\"><line transform=\"translate(0,200)\" x2=\"160\" y2=\"0\" stroke=\"#ddd\" stroke-width=\"1\" opacity=\"1\"/><line transform=\"translate(0,164)\" x2=\"160\" y2=\"0\" stroke=\"#ddd\" stroke-width=\"1\" opacity=\"1\"/><line transform=\"translate(0,127)\" x2=\"160\" y2=\"0\" stroke=\"#ddd\" stroke-width=\"1\" opacity=\"1\"/><line transform=\"translate(0,91)\" x2=\"160\" y2=\"0\" stroke=\"#ddd\" stroke-width=\"1\" opacity=\"1\"/><line transform=\"translate(0,55)\" x2=\"160\" y2=\"0\" stroke=\"#ddd\" stroke-width=\"1\" opacity=\"1\"/><line transform=\"translate(0,18)\" x2=\"160\" y2=\"0\" stroke=\"#ddd\" stroke-width=\"1\" opacity=\"1\"/></g></g><path class=\"foreground\" aria-hidden=\"true\" d=\"\" pointer-events=\"none\" display=\"none\"/></g></g><g class=\"mark-rect role-mark child_marks\" role=\"graphics-object\" aria-roledescription=\"rect mark container\"><path aria-label=\"x: Srinagar; Count of Records: 38\" role=\"graphics-symbol\" aria-roledescription=\"bar\" d=\"M141,130.9090909090909h18v69.0909090909091h-18Z\" fill=\"#4c78a8\"/><path aria-label=\"x: Amritsar; Count of Records: 36\" role=\"graphics-symbol\" aria-roledescription=\"bar\" d=\"M1,134.54545454545453h18v65.45454545454547h-18Z\" fill=\"#4c78a8\"/><path aria-label=\"x: Hyderabad; Count of Records: 20\" role=\"graphics-symbol\" aria-roledescription=\"bar\" d=\"M61,163.63636363636363h18v36.363636363636374h-18Z\" fill=\"#4c78a8\"/><path aria-label=\"x: Delhi - New Delhi; Count of Records: 57\" role=\"graphics-symbol\" aria-roledescription=\"bar\" d=\"M41,96.36363636363636h18v103.63636363636364h-18Z\" fill=\"#4c78a8\"/><path aria-label=\"x: Chandigarh; Count of Records: 46\" role=\"graphics-symbol\" aria-roledescription=\"bar\" d=\"M21,116.36363636363636h18v83.63636363636364h-18Z\" fill=\"#4c78a8\"/><path aria-label=\"x: Kolkata; Count of Records: 14\" role=\"graphics-symbol\" aria-roledescription=\"bar\" d=\"M101,174.54545454545456h18v25.45454545454544h-18Z\" fill=\"#4c78a8\"/><path aria-label=\"x: Jammu; Count of Records: 42\" role=\"graphics-symbol\" aria-roledescription=\"bar\" d=\"M81,123.63636363636363h18v76.36363636363637h-18Z\" fill=\"#4c78a8\"/><path aria-label=\"x: Ludhiana; Count of Records: 5\" role=\"graphics-symbol\" aria-roledescription=\"bar\" d=\"M121,190.9090909090909h18v9.090909090909093h-18Z\" fill=\"#4c78a8\"/></g></g><path class=\"foreground\" aria-hidden=\"true\" d=\"\" display=\"none\"/></g></g><g class=\"mark-group role-title\"><g transform=\"translate(-41,-38)\"><path class=\"background\" aria-hidden=\"true\" d=\"M0,0h0v0h0Z\" pointer-events=\"none\"/><g><g class=\"mark-text role-title-text\" role=\"graphics-symbol\" aria-roledescription=\"title\" aria-label=\"Title text '2020'\" pointer-events=\"none\"><text text-anchor=\"start\" transform=\"translate(0,10)\" font-family=\"sans-serif\" font-size=\"13px\" font-weight=\"bold\" fill=\"#000\" opacity=\"1\">2020</text></g></g><path class=\"foreground\" aria-hidden=\"true\" d=\"\" pointer-events=\"none\" display=\"none\"/></g></g></g><path class=\"foreground\" aria-hidden=\"true\" d=\"\" display=\"none\"/></g></g></g></svg>\n"
      ],
      "text/plain": [
       "@vlplot(\n",
       "    title=\"2020\",\n",
       "    mark=\"bar\",\n",
       "    encoding={\n",
       "        column={\n",
       "            field=\"column\",\n",
       "            title=nothing\n",
       "        },\n",
       "        x={\n",
       "            field=\"x\",\n",
       "            title=nothing\n",
       "        },\n",
       "        y={\n",
       "            aggregate=\"count\",\n",
       "            type=\"quantitative\"\n",
       "        }\n",
       "    },\n",
       "    data={\n",
       "        values=...\n",
       "    }\n",
       ")"
      ]
     },
     "execution_count": 34,
     "metadata": {},
     "output_type": "execute_result"
    }
   ],
   "source": [
    "plot_cities"
   ]
  },
  {
   "cell_type": "code",
   "execution_count": 35,
   "id": "36efe0d7",
   "metadata": {},
   "outputs": [],
   "source": [
    "#Funkcja robiąca ranking miast w skali lat 2016-2022. Opcjonalnie - z wybranymi protestami\n",
    "function most_popular_cities_ever(data, ranking, event = \"default\", sub_event_type = \"default\")\n",
    "    most_loc = countmap(data.location)\n",
    "    most_loc = sort(collect(most_loc), by=x->x[2], rev=true)\n",
    "    most_loc_list=[]\n",
    "    for i in 1:ranking\n",
    "        push!(most_loc_list, most_loc[i][1])\n",
    "    end \n",
    "  \n",
    "    if event != \"default\" && sub_event_type != \"default\"\n",
    "        df_most_cities = @from i in data begin\n",
    "            @where i.location in most_loc_list\n",
    "            @where i.event_type == event \n",
    "            @where i.sub_event_type == sub_event_type\n",
    "            @select {i.year, i.location, i.event_type, i.sub_event_type}\n",
    "            @collect DataFrame\n",
    "        end\n",
    "    elseif event != \"default\" && sub_event_type == \"default\"\n",
    "        df_most_cities = @from i in data begin\n",
    "            @where i.location in most_loc_list\n",
    "            @where i.event_type == event\n",
    "            @select {i.year, i.location, i.event_type}\n",
    "            @collect DataFrame\n",
    "        end\n",
    "        \n",
    "    elseif event == \"default\" && sub_event_type != \"default\"\n",
    "        df_most_cities = @from i in data begin\n",
    "            @where i.location in most_loc_list\n",
    "            @where i.sub_event_type == sub_event_type\n",
    "            @select {i.year, i.location, i.sub_event_type}\n",
    "            @collect DataFrame\n",
    "        end\n",
    "        \n",
    "    else \n",
    "        df_most_cities = @from i in data begin\n",
    "            @where i.location in most_loc_list\n",
    "            @select {i.year, i.location}\n",
    "            @collect DataFrame\n",
    "        end\n",
    "    end\n",
    "        \n",
    "    plot = @vlplot(\n",
    "        :bar, \n",
    "        column = df_most_cities.year, \n",
    "        x = df_most_cities.location, \n",
    "        y = \"count()\",\n",
    "        title = string(event)*\" - \"*string(sub_event_type)\n",
    "    )\n",
    "    return (most_loc_list, plot, df_most_cities)\n",
    "    \n",
    "    \n",
    "end;"
   ]
  },
  {
   "cell_type": "code",
   "execution_count": 36,
   "id": "8a29510f",
   "metadata": {},
   "outputs": [],
   "source": [
    "list_of_popular_cities, plot_cities_all, dates = most_popular_cities_ever(df, 8, \"Riots\", \"Violent demonstration\");"
   ]
  },
  {
   "cell_type": "code",
   "execution_count": 37,
   "id": "039c52d3",
   "metadata": {},
   "outputs": [
    {
     "data": {
      "application/vnd.vegalite.v4+json": {
       "data": {
        "values": [
         {
          "column": 2022,
          "x": "Imphal"
         },
         {
          "column": 2022,
          "x": "Delhi - New Delhi"
         },
         {
          "column": 2022,
          "x": "Imphal"
         },
         {
          "column": 2022,
          "x": "Imphal"
         },
         {
          "column": 2022,
          "x": "Imphal"
         },
         {
          "column": 2022,
          "x": "Imphal"
         },
         {
          "column": 2021,
          "x": "Chandigarh"
         },
         {
          "column": 2021,
          "x": "Bathinda"
         },
         {
          "column": 2021,
          "x": "Imphal"
         },
         {
          "column": 2021,
          "x": "Jammu"
         },
         {
          "column": 2021,
          "x": "Jammu"
         },
         {
          "column": 2021,
          "x": "Chandigarh"
         },
         {
          "column": 2021,
          "x": "Ludhiana"
         },
         {
          "column": 2021,
          "x": "Chandigarh"
         },
         {
          "column": 2021,
          "x": "Jammu"
         },
         {
          "column": 2021,
          "x": "Jammu"
         },
         {
          "column": 2021,
          "x": "Delhi - New Delhi"
         },
         {
          "column": 2021,
          "x": "Jammu"
         },
         {
          "column": 2021,
          "x": "Ludhiana"
         },
         {
          "column": 2021,
          "x": "Ludhiana"
         },
         {
          "column": 2021,
          "x": "Jammu"
         },
         {
          "column": 2021,
          "x": "Srinagar"
         },
         {
          "column": 2021,
          "x": "Jammu"
         },
         {
          "column": 2021,
          "x": "Chandigarh"
         },
         {
          "column": 2021,
          "x": "Jammu"
         },
         {
          "column": 2021,
          "x": "Ludhiana"
         },
         {
          "column": 2021,
          "x": "Chandigarh"
         },
         {
          "column": 2021,
          "x": "Amritsar"
         },
         {
          "column": 2021,
          "x": "Bathinda"
         },
         {
          "column": 2021,
          "x": "Jammu"
         },
         {
          "column": 2021,
          "x": "Delhi - New Delhi"
         },
         {
          "column": 2021,
          "x": "Bathinda"
         },
         {
          "column": 2021,
          "x": "Jammu"
         },
         {
          "column": 2021,
          "x": "Jammu"
         },
         {
          "column": 2021,
          "x": "Amritsar"
         },
         {
          "column": 2021,
          "x": "Chandigarh"
         },
         {
          "column": 2021,
          "x": "Ludhiana"
         },
         {
          "column": 2021,
          "x": "Chandigarh"
         },
         {
          "column": 2021,
          "x": "Chandigarh"
         },
         {
          "column": 2021,
          "x": "Chandigarh"
         },
         {
          "column": 2021,
          "x": "Jammu"
         },
         {
          "column": 2021,
          "x": "Jammu"
         },
         {
          "column": 2021,
          "x": "Jammu"
         },
         {
          "column": 2021,
          "x": "Delhi - New Delhi"
         },
         {
          "column": 2021,
          "x": "Jammu"
         },
         {
          "column": 2021,
          "x": "Ludhiana"
         },
         {
          "column": 2021,
          "x": "Amritsar"
         },
         {
          "column": 2021,
          "x": "Delhi - New Delhi"
         },
         {
          "column": 2021,
          "x": "Delhi - New Delhi"
         },
         {
          "column": 2021,
          "x": "Bathinda"
         },
         {
          "column": 2021,
          "x": "Jammu"
         },
         {
          "column": 2021,
          "x": "Jammu"
         },
         {
          "column": 2020,
          "x": "Bathinda"
         },
         {
          "column": 2020,
          "x": "Jammu"
         },
         {
          "column": 2020,
          "x": "Jammu"
         },
         {
          "column": 2020,
          "x": "Chandigarh"
         },
         {
          "column": 2020,
          "x": "Bathinda"
         },
         {
          "column": 2020,
          "x": "Jammu"
         },
         {
          "column": 2020,
          "x": "Imphal"
         },
         {
          "column": 2020,
          "x": "Delhi - New Delhi"
         },
         {
          "column": 2020,
          "x": "Jammu"
         },
         {
          "column": 2020,
          "x": "Jammu"
         },
         {
          "column": 2020,
          "x": "Srinagar"
         },
         {
          "column": 2020,
          "x": "Jammu"
         },
         {
          "column": 2020,
          "x": "Srinagar"
         },
         {
          "column": 2020,
          "x": "Jammu"
         },
         {
          "column": 2020,
          "x": "Ludhiana"
         },
         {
          "column": 2020,
          "x": "Delhi - New Delhi"
         },
         {
          "column": 2020,
          "x": "Srinagar"
         },
         {
          "column": 2020,
          "x": "Srinagar"
         },
         {
          "column": 2020,
          "x": "Srinagar"
         },
         {
          "column": 2020,
          "x": "Srinagar"
         },
         {
          "column": 2020,
          "x": "Bathinda"
         },
         {
          "column": 2020,
          "x": "Amritsar"
         },
         {
          "column": 2020,
          "x": "Srinagar"
         },
         {
          "column": 2020,
          "x": "Delhi - New Delhi"
         },
         {
          "column": 2020,
          "x": "Delhi - New Delhi"
         },
         {
          "column": 2020,
          "x": "Delhi - New Delhi"
         },
         {
          "column": 2020,
          "x": "Ludhiana"
         },
         {
          "column": 2020,
          "x": "Delhi - New Delhi"
         },
         {
          "column": 2020,
          "x": "Amritsar"
         },
         {
          "column": 2020,
          "x": "Delhi - New Delhi"
         },
         {
          "column": 2020,
          "x": "Jammu"
         },
         {
          "column": 2020,
          "x": "Delhi - New Delhi"
         },
         {
          "column": 2020,
          "x": "Delhi - New Delhi"
         },
         {
          "column": 2020,
          "x": "Imphal"
         },
         {
          "column": 2020,
          "x": "Jammu"
         },
         {
          "column": 2020,
          "x": "Amritsar"
         },
         {
          "column": 2020,
          "x": "Delhi - New Delhi"
         },
         {
          "column": 2020,
          "x": "Chandigarh"
         },
         {
          "column": 2019,
          "x": "Delhi - New Delhi"
         },
         {
          "column": 2019,
          "x": "Chandigarh"
         },
         {
          "column": 2019,
          "x": "Delhi - New Delhi"
         },
         {
          "column": 2019,
          "x": "Delhi - New Delhi"
         },
         {
          "column": 2019,
          "x": "Delhi - New Delhi"
         },
         {
          "column": 2019,
          "x": "Delhi - New Delhi"
         },
         {
          "column": 2019,
          "x": "Delhi - New Delhi"
         },
         {
          "column": 2019,
          "x": "Jammu"
         },
         {
          "column": 2019,
          "x": "Delhi - New Delhi"
         },
         {
          "column": 2019,
          "x": "Srinagar"
         },
         {
          "column": 2019,
          "x": "Srinagar"
         },
         {
          "column": 2019,
          "x": "Srinagar"
         },
         {
          "column": 2019,
          "x": "Delhi - New Delhi"
         },
         {
          "column": 2019,
          "x": "Jammu"
         },
         {
          "column": 2019,
          "x": "Delhi - New Delhi"
         },
         {
          "column": 2019,
          "x": "Srinagar"
         },
         {
          "column": 2019,
          "x": "Srinagar"
         },
         {
          "column": 2019,
          "x": "Delhi - New Delhi"
         },
         {
          "column": 2019,
          "x": "Srinagar"
         },
         {
          "column": 2019,
          "x": "Srinagar"
         },
         {
          "column": 2019,
          "x": "Srinagar"
         },
         {
          "column": 2019,
          "x": "Srinagar"
         },
         {
          "column": 2019,
          "x": "Jammu"
         },
         {
          "column": 2019,
          "x": "Ludhiana"
         },
         {
          "column": 2019,
          "x": "Srinagar"
         },
         {
          "column": 2019,
          "x": "Imphal"
         },
         {
          "column": 2019,
          "x": "Imphal"
         },
         {
          "column": 2019,
          "x": "Srinagar"
         },
         {
          "column": 2019,
          "x": "Srinagar"
         },
         {
          "column": 2019,
          "x": "Srinagar"
         },
         {
          "column": 2019,
          "x": "Srinagar"
         },
         {
          "column": 2019,
          "x": "Imphal"
         },
         {
          "column": 2019,
          "x": "Srinagar"
         },
         {
          "column": 2019,
          "x": "Srinagar"
         },
         {
          "column": 2019,
          "x": "Srinagar"
         },
         {
          "column": 2019,
          "x": "Srinagar"
         },
         {
          "column": 2019,
          "x": "Srinagar"
         },
         {
          "column": 2019,
          "x": "Srinagar"
         },
         {
          "column": 2019,
          "x": "Srinagar"
         },
         {
          "column": 2019,
          "x": "Srinagar"
         },
         {
          "column": 2019,
          "x": "Srinagar"
         },
         {
          "column": 2019,
          "x": "Srinagar"
         },
         {
          "column": 2019,
          "x": "Srinagar"
         },
         {
          "column": 2019,
          "x": "Srinagar"
         },
         {
          "column": 2019,
          "x": "Srinagar"
         },
         {
          "column": 2019,
          "x": "Delhi - New Delhi"
         },
         {
          "column": 2019,
          "x": "Srinagar"
         },
         {
          "column": 2019,
          "x": "Srinagar"
         },
         {
          "column": 2019,
          "x": "Srinagar"
         },
         {
          "column": 2019,
          "x": "Srinagar"
         },
         {
          "column": 2019,
          "x": "Srinagar"
         },
         {
          "column": 2019,
          "x": "Srinagar"
         },
         {
          "column": 2019,
          "x": "Ludhiana"
         },
         {
          "column": 2019,
          "x": "Ludhiana"
         },
         {
          "column": 2019,
          "x": "Delhi - New Delhi"
         },
         {
          "column": 2019,
          "x": "Srinagar"
         },
         {
          "column": 2019,
          "x": "Srinagar"
         },
         {
          "column": 2019,
          "x": "Srinagar"
         },
         {
          "column": 2019,
          "x": "Srinagar"
         },
         {
          "column": 2019,
          "x": "Imphal"
         },
         {
          "column": 2019,
          "x": "Delhi - New Delhi"
         },
         {
          "column": 2019,
          "x": "Srinagar"
         },
         {
          "column": 2019,
          "x": "Srinagar"
         },
         {
          "column": 2019,
          "x": "Srinagar"
         },
         {
          "column": 2019,
          "x": "Srinagar"
         },
         {
          "column": 2019,
          "x": "Srinagar"
         },
         {
          "column": 2019,
          "x": "Srinagar"
         },
         {
          "column": 2019,
          "x": "Srinagar"
         },
         {
          "column": 2019,
          "x": "Imphal"
         },
         {
          "column": 2019,
          "x": "Srinagar"
         },
         {
          "column": 2019,
          "x": "Srinagar"
         },
         {
          "column": 2019,
          "x": "Delhi - New Delhi"
         },
         {
          "column": 2019,
          "x": "Srinagar"
         },
         {
          "column": 2019,
          "x": "Srinagar"
         },
         {
          "column": 2019,
          "x": "Srinagar"
         },
         {
          "column": 2019,
          "x": "Srinagar"
         },
         {
          "column": 2019,
          "x": "Srinagar"
         },
         {
          "column": 2019,
          "x": "Srinagar"
         },
         {
          "column": 2019,
          "x": "Srinagar"
         },
         {
          "column": 2019,
          "x": "Srinagar"
         },
         {
          "column": 2019,
          "x": "Imphal"
         },
         {
          "column": 2019,
          "x": "Imphal"
         },
         {
          "column": 2019,
          "x": "Srinagar"
         },
         {
          "column": 2019,
          "x": "Srinagar"
         },
         {
          "column": 2019,
          "x": "Srinagar"
         },
         {
          "column": 2019,
          "x": "Srinagar"
         },
         {
          "column": 2019,
          "x": "Srinagar"
         },
         {
          "column": 2019,
          "x": "Srinagar"
         },
         {
          "column": 2019,
          "x": "Srinagar"
         },
         {
          "column": 2019,
          "x": "Ludhiana"
         },
         {
          "column": 2019,
          "x": "Srinagar"
         },
         {
          "column": 2019,
          "x": "Srinagar"
         },
         {
          "column": 2019,
          "x": "Srinagar"
         },
         {
          "column": 2019,
          "x": "Imphal"
         },
         {
          "column": 2019,
          "x": "Srinagar"
         },
         {
          "column": 2019,
          "x": "Srinagar"
         },
         {
          "column": 2019,
          "x": "Jammu"
         },
         {
          "column": 2019,
          "x": "Imphal"
         },
         {
          "column": 2019,
          "x": "Chandigarh"
         },
         {
          "column": 2019,
          "x": "Srinagar"
         },
         {
          "column": 2019,
          "x": "Srinagar"
         },
         {
          "column": 2019,
          "x": "Amritsar"
         },
         {
          "column": 2019,
          "x": "Srinagar"
         },
         {
          "column": 2019,
          "x": "Srinagar"
         },
         {
          "column": 2019,
          "x": "Chandigarh"
         },
         {
          "column": 2019,
          "x": "Srinagar"
         },
         {
          "column": 2019,
          "x": "Srinagar"
         },
         {
          "column": 2019,
          "x": "Imphal"
         },
         {
          "column": 2019,
          "x": "Delhi - New Delhi"
         },
         {
          "column": 2019,
          "x": "Bathinda"
         },
         {
          "column": 2019,
          "x": "Jammu"
         },
         {
          "column": 2019,
          "x": "Jammu"
         },
         {
          "column": 2019,
          "x": "Amritsar"
         },
         {
          "column": 2019,
          "x": "Jammu"
         },
         {
          "column": 2019,
          "x": "Srinagar"
         },
         {
          "column": 2019,
          "x": "Srinagar"
         },
         {
          "column": 2019,
          "x": "Srinagar"
         },
         {
          "column": 2019,
          "x": "Srinagar"
         },
         {
          "column": 2019,
          "x": "Bathinda"
         },
         {
          "column": 2019,
          "x": "Srinagar"
         },
         {
          "column": 2019,
          "x": "Bathinda"
         },
         {
          "column": 2019,
          "x": "Srinagar"
         },
         {
          "column": 2019,
          "x": "Ludhiana"
         },
         {
          "column": 2019,
          "x": "Srinagar"
         },
         {
          "column": 2019,
          "x": "Jammu"
         },
         {
          "column": 2019,
          "x": "Chandigarh"
         },
         {
          "column": 2019,
          "x": "Chandigarh"
         },
         {
          "column": 2019,
          "x": "Imphal"
         },
         {
          "column": 2019,
          "x": "Amritsar"
         },
         {
          "column": 2019,
          "x": "Srinagar"
         },
         {
          "column": 2019,
          "x": "Srinagar"
         },
         {
          "column": 2019,
          "x": "Jammu"
         },
         {
          "column": 2019,
          "x": "Srinagar"
         },
         {
          "column": 2019,
          "x": "Srinagar"
         },
         {
          "column": 2019,
          "x": "Delhi - New Delhi"
         },
         {
          "column": 2019,
          "x": "Srinagar"
         },
         {
          "column": 2019,
          "x": "Srinagar"
         },
         {
          "column": 2019,
          "x": "Bathinda"
         },
         {
          "column": 2019,
          "x": "Bathinda"
         },
         {
          "column": 2019,
          "x": "Delhi - New Delhi"
         },
         {
          "column": 2019,
          "x": "Ludhiana"
         },
         {
          "column": 2019,
          "x": "Ludhiana"
         },
         {
          "column": 2019,
          "x": "Srinagar"
         },
         {
          "column": 2019,
          "x": "Srinagar"
         },
         {
          "column": 2019,
          "x": "Jammu"
         },
         {
          "column": 2019,
          "x": "Srinagar"
         },
         {
          "column": 2019,
          "x": "Jammu"
         },
         {
          "column": 2019,
          "x": "Srinagar"
         },
         {
          "column": 2019,
          "x": "Imphal"
         },
         {
          "column": 2019,
          "x": "Imphal"
         },
         {
          "column": 2019,
          "x": "Jammu"
         },
         {
          "column": 2019,
          "x": "Srinagar"
         },
         {
          "column": 2019,
          "x": "Imphal"
         },
         {
          "column": 2019,
          "x": "Imphal"
         },
         {
          "column": 2019,
          "x": "Imphal"
         },
         {
          "column": 2019,
          "x": "Imphal"
         },
         {
          "column": 2019,
          "x": "Jammu"
         },
         {
          "column": 2019,
          "x": "Amritsar"
         },
         {
          "column": 2019,
          "x": "Delhi - New Delhi"
         },
         {
          "column": 2019,
          "x": "Imphal"
         },
         {
          "column": 2019,
          "x": "Imphal"
         },
         {
          "column": 2019,
          "x": "Imphal"
         },
         {
          "column": 2019,
          "x": "Imphal"
         },
         {
          "column": 2018,
          "x": "Delhi - New Delhi"
         },
         {
          "column": 2018,
          "x": "Jammu"
         },
         {
          "column": 2018,
          "x": "Jammu"
         },
         {
          "column": 2018,
          "x": "Imphal"
         },
         {
          "column": 2018,
          "x": "Srinagar"
         },
         {
          "column": 2018,
          "x": "Srinagar"
         },
         {
          "column": 2018,
          "x": "Srinagar"
         },
         {
          "column": 2018,
          "x": "Jammu"
         },
         {
          "column": 2018,
          "x": "Amritsar"
         },
         {
          "column": 2018,
          "x": "Srinagar"
         },
         {
          "column": 2018,
          "x": "Srinagar"
         },
         {
          "column": 2018,
          "x": "Chandigarh"
         },
         {
          "column": 2018,
          "x": "Amritsar"
         },
         {
          "column": 2018,
          "x": "Srinagar"
         },
         {
          "column": 2018,
          "x": "Chandigarh"
         },
         {
          "column": 2018,
          "x": "Chandigarh"
         },
         {
          "column": 2018,
          "x": "Delhi - New Delhi"
         },
         {
          "column": 2018,
          "x": "Jammu"
         },
         {
          "column": 2018,
          "x": "Srinagar"
         },
         {
          "column": 2018,
          "x": "Srinagar"
         },
         {
          "column": 2018,
          "x": "Amritsar"
         },
         {
          "column": 2018,
          "x": "Amritsar"
         },
         {
          "column": 2018,
          "x": "Srinagar"
         },
         {
          "column": 2018,
          "x": "Ludhiana"
         },
         {
          "column": 2018,
          "x": "Srinagar"
         },
         {
          "column": 2018,
          "x": "Srinagar"
         },
         {
          "column": 2018,
          "x": "Srinagar"
         },
         {
          "column": 2018,
          "x": "Imphal"
         },
         {
          "column": 2018,
          "x": "Srinagar"
         },
         {
          "column": 2018,
          "x": "Delhi - New Delhi"
         },
         {
          "column": 2018,
          "x": "Srinagar"
         },
         {
          "column": 2018,
          "x": "Srinagar"
         },
         {
          "column": 2018,
          "x": "Imphal"
         },
         {
          "column": 2018,
          "x": "Jammu"
         },
         {
          "column": 2018,
          "x": "Imphal"
         },
         {
          "column": 2018,
          "x": "Srinagar"
         },
         {
          "column": 2018,
          "x": "Imphal"
         },
         {
          "column": 2018,
          "x": "Srinagar"
         },
         {
          "column": 2018,
          "x": "Chandigarh"
         },
         {
          "column": 2018,
          "x": "Imphal"
         },
         {
          "column": 2018,
          "x": "Chandigarh"
         },
         {
          "column": 2018,
          "x": "Imphal"
         },
         {
          "column": 2018,
          "x": "Srinagar"
         },
         {
          "column": 2018,
          "x": "Imphal"
         },
         {
          "column": 2018,
          "x": "Delhi - New Delhi"
         },
         {
          "column": 2018,
          "x": "Delhi - New Delhi"
         },
         {
          "column": 2018,
          "x": "Srinagar"
         },
         {
          "column": 2018,
          "x": "Imphal"
         },
         {
          "column": 2018,
          "x": "Srinagar"
         },
         {
          "column": 2018,
          "x": "Jammu"
         },
         {
          "column": 2018,
          "x": "Srinagar"
         },
         {
          "column": 2018,
          "x": "Srinagar"
         },
         {
          "column": 2018,
          "x": "Imphal"
         },
         {
          "column": 2018,
          "x": "Amritsar"
         },
         {
          "column": 2018,
          "x": "Imphal"
         },
         {
          "column": 2018,
          "x": "Imphal"
         },
         {
          "column": 2018,
          "x": "Chandigarh"
         },
         {
          "column": 2018,
          "x": "Imphal"
         },
         {
          "column": 2018,
          "x": "Imphal"
         },
         {
          "column": 2018,
          "x": "Imphal"
         },
         {
          "column": 2018,
          "x": "Imphal"
         },
         {
          "column": 2018,
          "x": "Imphal"
         },
         {
          "column": 2018,
          "x": "Chandigarh"
         },
         {
          "column": 2018,
          "x": "Imphal"
         },
         {
          "column": 2018,
          "x": "Srinagar"
         },
         {
          "column": 2018,
          "x": "Srinagar"
         },
         {
          "column": 2018,
          "x": "Bathinda"
         },
         {
          "column": 2018,
          "x": "Srinagar"
         },
         {
          "column": 2018,
          "x": "Imphal"
         },
         {
          "column": 2018,
          "x": "Imphal"
         },
         {
          "column": 2018,
          "x": "Imphal"
         },
         {
          "column": 2018,
          "x": "Delhi - New Delhi"
         },
         {
          "column": 2018,
          "x": "Srinagar"
         },
         {
          "column": 2018,
          "x": "Imphal"
         },
         {
          "column": 2018,
          "x": "Imphal"
         },
         {
          "column": 2018,
          "x": "Srinagar"
         },
         {
          "column": 2018,
          "x": "Srinagar"
         },
         {
          "column": 2018,
          "x": "Srinagar"
         },
         {
          "column": 2018,
          "x": "Ludhiana"
         },
         {
          "column": 2018,
          "x": "Amritsar"
         },
         {
          "column": 2018,
          "x": "Imphal"
         },
         {
          "column": 2018,
          "x": "Bathinda"
         },
         {
          "column": 2018,
          "x": "Delhi - New Delhi"
         },
         {
          "column": 2018,
          "x": "Chandigarh"
         },
         {
          "column": 2018,
          "x": "Chandigarh"
         },
         {
          "column": 2018,
          "x": "Imphal"
         },
         {
          "column": 2018,
          "x": "Srinagar"
         },
         {
          "column": 2018,
          "x": "Srinagar"
         },
         {
          "column": 2018,
          "x": "Srinagar"
         },
         {
          "column": 2018,
          "x": "Imphal"
         },
         {
          "column": 2018,
          "x": "Srinagar"
         },
         {
          "column": 2018,
          "x": "Bathinda"
         },
         {
          "column": 2018,
          "x": "Delhi - New Delhi"
         },
         {
          "column": 2018,
          "x": "Srinagar"
         },
         {
          "column": 2018,
          "x": "Jammu"
         },
         {
          "column": 2018,
          "x": "Chandigarh"
         },
         {
          "column": 2018,
          "x": "Srinagar"
         },
         {
          "column": 2018,
          "x": "Srinagar"
         },
         {
          "column": 2018,
          "x": "Srinagar"
         },
         {
          "column": 2018,
          "x": "Srinagar"
         },
         {
          "column": 2018,
          "x": "Chandigarh"
         },
         {
          "column": 2018,
          "x": "Delhi - New Delhi"
         },
         {
          "column": 2018,
          "x": "Imphal"
         },
         {
          "column": 2018,
          "x": "Imphal"
         },
         {
          "column": 2018,
          "x": "Bathinda"
         },
         {
          "column": 2017,
          "x": "Srinagar"
         },
         {
          "column": 2017,
          "x": "Srinagar"
         },
         {
          "column": 2017,
          "x": "Ludhiana"
         },
         {
          "column": 2017,
          "x": "Jammu"
         },
         {
          "column": 2017,
          "x": "Srinagar"
         },
         {
          "column": 2017,
          "x": "Srinagar"
         },
         {
          "column": 2017,
          "x": "Srinagar"
         },
         {
          "column": 2017,
          "x": "Srinagar"
         },
         {
          "column": 2017,
          "x": "Srinagar"
         },
         {
          "column": 2017,
          "x": "Srinagar"
         },
         {
          "column": 2017,
          "x": "Srinagar"
         },
         {
          "column": 2017,
          "x": "Chandigarh"
         },
         {
          "column": 2017,
          "x": "Srinagar"
         },
         {
          "column": 2017,
          "x": "Srinagar"
         },
         {
          "column": 2017,
          "x": "Srinagar"
         },
         {
          "column": 2017,
          "x": "Srinagar"
         },
         {
          "column": 2017,
          "x": "Srinagar"
         },
         {
          "column": 2017,
          "x": "Srinagar"
         },
         {
          "column": 2017,
          "x": "Srinagar"
         },
         {
          "column": 2017,
          "x": "Chandigarh"
         },
         {
          "column": 2017,
          "x": "Srinagar"
         },
         {
          "column": 2017,
          "x": "Srinagar"
         },
         {
          "column": 2017,
          "x": "Srinagar"
         },
         {
          "column": 2017,
          "x": "Delhi - New Delhi"
         },
         {
          "column": 2017,
          "x": "Imphal"
         },
         {
          "column": 2017,
          "x": "Imphal"
         },
         {
          "column": 2017,
          "x": "Ludhiana"
         },
         {
          "column": 2017,
          "x": "Chandigarh"
         },
         {
          "column": 2017,
          "x": "Imphal"
         },
         {
          "column": 2017,
          "x": "Srinagar"
         },
         {
          "column": 2017,
          "x": "Srinagar"
         },
         {
          "column": 2017,
          "x": "Srinagar"
         },
         {
          "column": 2017,
          "x": "Srinagar"
         },
         {
          "column": 2017,
          "x": "Imphal"
         },
         {
          "column": 2017,
          "x": "Srinagar"
         },
         {
          "column": 2017,
          "x": "Srinagar"
         },
         {
          "column": 2017,
          "x": "Srinagar"
         },
         {
          "column": 2017,
          "x": "Srinagar"
         },
         {
          "column": 2017,
          "x": "Srinagar"
         },
         {
          "column": 2017,
          "x": "Srinagar"
         },
         {
          "column": 2017,
          "x": "Srinagar"
         },
         {
          "column": 2017,
          "x": "Srinagar"
         },
         {
          "column": 2017,
          "x": "Srinagar"
         },
         {
          "column": 2017,
          "x": "Srinagar"
         },
         {
          "column": 2017,
          "x": "Srinagar"
         },
         {
          "column": 2017,
          "x": "Srinagar"
         },
         {
          "column": 2017,
          "x": "Srinagar"
         },
         {
          "column": 2017,
          "x": "Srinagar"
         },
         {
          "column": 2017,
          "x": "Ludhiana"
         },
         {
          "column": 2017,
          "x": "Srinagar"
         },
         {
          "column": 2017,
          "x": "Ludhiana"
         },
         {
          "column": 2017,
          "x": "Srinagar"
         },
         {
          "column": 2017,
          "x": "Imphal"
         },
         {
          "column": 2017,
          "x": "Srinagar"
         },
         {
          "column": 2017,
          "x": "Srinagar"
         },
         {
          "column": 2017,
          "x": "Chandigarh"
         },
         {
          "column": 2017,
          "x": "Chandigarh"
         },
         {
          "column": 2017,
          "x": "Srinagar"
         },
         {
          "column": 2017,
          "x": "Chandigarh"
         },
         {
          "column": 2017,
          "x": "Srinagar"
         },
         {
          "column": 2017,
          "x": "Srinagar"
         },
         {
          "column": 2017,
          "x": "Srinagar"
         },
         {
          "column": 2017,
          "x": "Delhi - New Delhi"
         },
         {
          "column": 2017,
          "x": "Delhi - New Delhi"
         },
         {
          "column": 2017,
          "x": "Srinagar"
         },
         {
          "column": 2017,
          "x": "Delhi - New Delhi"
         },
         {
          "column": 2017,
          "x": "Amritsar"
         },
         {
          "column": 2017,
          "x": "Srinagar"
         },
         {
          "column": 2017,
          "x": "Srinagar"
         },
         {
          "column": 2017,
          "x": "Ludhiana"
         },
         {
          "column": 2017,
          "x": "Delhi - New Delhi"
         },
         {
          "column": 2017,
          "x": "Ludhiana"
         },
         {
          "column": 2017,
          "x": "Srinagar"
         },
         {
          "column": 2017,
          "x": "Delhi - New Delhi"
         },
         {
          "column": 2017,
          "x": "Srinagar"
         },
         {
          "column": 2017,
          "x": "Srinagar"
         },
         {
          "column": 2017,
          "x": "Srinagar"
         },
         {
          "column": 2017,
          "x": "Jammu"
         },
         {
          "column": 2017,
          "x": "Jammu"
         },
         {
          "column": 2017,
          "x": "Srinagar"
         },
         {
          "column": 2017,
          "x": "Srinagar"
         },
         {
          "column": 2017,
          "x": "Amritsar"
         },
         {
          "column": 2017,
          "x": "Imphal"
         },
         {
          "column": 2016,
          "x": "Srinagar"
         },
         {
          "column": 2016,
          "x": "Srinagar"
         },
         {
          "column": 2016,
          "x": "Srinagar"
         },
         {
          "column": 2016,
          "x": "Imphal"
         },
         {
          "column": 2016,
          "x": "Imphal"
         },
         {
          "column": 2016,
          "x": "Imphal"
         },
         {
          "column": 2016,
          "x": "Delhi - New Delhi"
         },
         {
          "column": 2016,
          "x": "Imphal"
         },
         {
          "column": 2016,
          "x": "Bathinda"
         },
         {
          "column": 2016,
          "x": "Bathinda"
         },
         {
          "column": 2016,
          "x": "Srinagar"
         },
         {
          "column": 2016,
          "x": "Bathinda"
         },
         {
          "column": 2016,
          "x": "Imphal"
         },
         {
          "column": 2016,
          "x": "Srinagar"
         },
         {
          "column": 2016,
          "x": "Imphal"
         },
         {
          "column": 2016,
          "x": "Srinagar"
         },
         {
          "column": 2016,
          "x": "Srinagar"
         },
         {
          "column": 2016,
          "x": "Srinagar"
         },
         {
          "column": 2016,
          "x": "Srinagar"
         },
         {
          "column": 2016,
          "x": "Srinagar"
         },
         {
          "column": 2016,
          "x": "Srinagar"
         },
         {
          "column": 2016,
          "x": "Imphal"
         },
         {
          "column": 2016,
          "x": "Srinagar"
         },
         {
          "column": 2016,
          "x": "Srinagar"
         },
         {
          "column": 2016,
          "x": "Srinagar"
         },
         {
          "column": 2016,
          "x": "Srinagar"
         },
         {
          "column": 2016,
          "x": "Srinagar"
         },
         {
          "column": 2016,
          "x": "Srinagar"
         },
         {
          "column": 2016,
          "x": "Srinagar"
         },
         {
          "column": 2016,
          "x": "Srinagar"
         },
         {
          "column": 2016,
          "x": "Srinagar"
         },
         {
          "column": 2016,
          "x": "Bathinda"
         },
         {
          "column": 2016,
          "x": "Srinagar"
         },
         {
          "column": 2016,
          "x": "Srinagar"
         },
         {
          "column": 2016,
          "x": "Amritsar"
         },
         {
          "column": 2016,
          "x": "Srinagar"
         },
         {
          "column": 2016,
          "x": "Srinagar"
         },
         {
          "column": 2016,
          "x": "Srinagar"
         },
         {
          "column": 2016,
          "x": "Srinagar"
         },
         {
          "column": 2016,
          "x": "Srinagar"
         },
         {
          "column": 2016,
          "x": "Imphal"
         },
         {
          "column": 2016,
          "x": "Srinagar"
         },
         {
          "column": 2016,
          "x": "Srinagar"
         },
         {
          "column": 2016,
          "x": "Srinagar"
         },
         {
          "column": 2016,
          "x": "Srinagar"
         },
         {
          "column": 2016,
          "x": "Imphal"
         },
         {
          "column": 2016,
          "x": "Ludhiana"
         },
         {
          "column": 2016,
          "x": "Imphal"
         },
         {
          "column": 2016,
          "x": "Imphal"
         },
         {
          "column": 2016,
          "x": "Srinagar"
         },
         {
          "column": 2016,
          "x": "Delhi - New Delhi"
         },
         {
          "column": 2016,
          "x": "Imphal"
         },
         {
          "column": 2016,
          "x": "Imphal"
         },
         {
          "column": 2016,
          "x": "Srinagar"
         },
         {
          "column": 2016,
          "x": "Amritsar"
         },
         {
          "column": 2016,
          "x": "Srinagar"
         },
         {
          "column": 2016,
          "x": "Srinagar"
         },
         {
          "column": 2016,
          "x": "Srinagar"
         },
         {
          "column": 2016,
          "x": "Imphal"
         },
         {
          "column": 2016,
          "x": "Jammu"
         },
         {
          "column": 2016,
          "x": "Imphal"
         },
         {
          "column": 2016,
          "x": "Delhi - New Delhi"
         },
         {
          "column": 2016,
          "x": "Amritsar"
         },
         {
          "column": 2016,
          "x": "Srinagar"
         },
         {
          "column": 2016,
          "x": "Srinagar"
         },
         {
          "column": 2016,
          "x": "Srinagar"
         },
         {
          "column": 2016,
          "x": "Amritsar"
         },
         {
          "column": 2016,
          "x": "Srinagar"
         },
         {
          "column": 2016,
          "x": "Imphal"
         },
         {
          "column": 2016,
          "x": "Delhi - New Delhi"
         },
         {
          "column": 2016,
          "x": "Delhi - New Delhi"
         },
         {
          "column": 2016,
          "x": "Imphal"
         },
         {
          "column": 2016,
          "x": "Imphal"
         },
         {
          "column": 2016,
          "x": "Ludhiana"
         },
         {
          "column": 2016,
          "x": "Srinagar"
         },
         {
          "column": 2016,
          "x": "Srinagar"
         },
         {
          "column": 2016,
          "x": "Srinagar"
         },
         {
          "column": 2016,
          "x": "Srinagar"
         },
         {
          "column": 2016,
          "x": "Srinagar"
         },
         {
          "column": 2016,
          "x": "Srinagar"
         },
         {
          "column": 2016,
          "x": "Srinagar"
         },
         {
          "column": 2016,
          "x": "Ludhiana"
         },
         {
          "column": 2016,
          "x": "Srinagar"
         },
         {
          "column": 2016,
          "x": "Srinagar"
         },
         {
          "column": 2016,
          "x": "Srinagar"
         },
         {
          "column": 2016,
          "x": "Srinagar"
         },
         {
          "column": 2016,
          "x": "Jammu"
         },
         {
          "column": 2016,
          "x": "Srinagar"
         },
         {
          "column": 2016,
          "x": "Jammu"
         },
         {
          "column": 2016,
          "x": "Srinagar"
         },
         {
          "column": 2016,
          "x": "Srinagar"
         },
         {
          "column": 2016,
          "x": "Srinagar"
         },
         {
          "column": 2016,
          "x": "Delhi - New Delhi"
         },
         {
          "column": 2016,
          "x": "Srinagar"
         },
         {
          "column": 2016,
          "x": "Srinagar"
         },
         {
          "column": 2016,
          "x": "Imphal"
         },
         {
          "column": 2016,
          "x": "Imphal"
         },
         {
          "column": 2016,
          "x": "Imphal"
         },
         {
          "column": 2016,
          "x": "Imphal"
         },
         {
          "column": 2016,
          "x": "Bathinda"
         },
         {
          "column": 2016,
          "x": "Delhi - New Delhi"
         },
         {
          "column": 2016,
          "x": "Imphal"
         },
         {
          "column": 2016,
          "x": "Imphal"
         },
         {
          "column": 2016,
          "x": "Amritsar"
         },
         {
          "column": 2016,
          "x": "Srinagar"
         },
         {
          "column": 2016,
          "x": "Delhi - New Delhi"
         },
         {
          "column": 2016,
          "x": "Delhi - New Delhi"
         },
         {
          "column": 2016,
          "x": "Srinagar"
         },
         {
          "column": 2016,
          "x": "Srinagar"
         },
         {
          "column": 2016,
          "x": "Ludhiana"
         },
         {
          "column": 2016,
          "x": "Imphal"
         },
         {
          "column": 2016,
          "x": "Delhi - New Delhi"
         },
         {
          "column": 2016,
          "x": "Srinagar"
         },
         {
          "column": 2016,
          "x": "Delhi - New Delhi"
         },
         {
          "column": 2016,
          "x": "Delhi - New Delhi"
         },
         {
          "column": 2016,
          "x": "Bathinda"
         },
         {
          "column": 2016,
          "x": "Chandigarh"
         },
         {
          "column": 2016,
          "x": "Bathinda"
         },
         {
          "column": 2016,
          "x": "Chandigarh"
         },
         {
          "column": 2016,
          "x": "Chandigarh"
         },
         {
          "column": 2016,
          "x": "Jammu"
         },
         {
          "column": 2016,
          "x": "Delhi - New Delhi"
         },
         {
          "column": 2016,
          "x": "Srinagar"
         },
         {
          "column": 2016,
          "x": "Imphal"
         },
         {
          "column": 2016,
          "x": "Srinagar"
         },
         {
          "column": 2016,
          "x": "Srinagar"
         },
         {
          "column": 2016,
          "x": "Srinagar"
         },
         {
          "column": 2016,
          "x": "Chandigarh"
         },
         {
          "column": 2016,
          "x": "Srinagar"
         },
         {
          "column": 2016,
          "x": "Delhi - New Delhi"
         },
         {
          "column": 2016,
          "x": "Srinagar"
         }
        ]
       },
       "encoding": {
        "column": {
         "field": "column",
         "title": null,
         "type": "quantitative"
        },
        "x": {
         "field": "x",
         "title": null,
         "type": "nominal"
        },
        "y": {
         "aggregate": "count",
         "type": "quantitative"
        }
       },
       "mark": "bar",
       "title": "Riots - Violent demonstration"
      },
      "image/png": "[encoded data removed]",
      "image/svg+xml": [
       "<?xml version=\"1.0\" encoding=\"utf-8\"?>\n",
       "<!DOCTYPE svg PUBLIC \"-//W3C//DTD SVG 1.1//EN\" \"http://www.w3.org/Graphics/SVG/1.1/DTD/svg11.dtd\">\n",
       "<svg xmlns=\"http://www.w3.org/2000/svg\" xmlns:xlink=\"http://www.w3.org/1999/xlink\" version=\"1.1\" class=\"marks\" width=\"1298\" height=\"342\" viewBox=\"0 0 1298 342\"><rect width=\"1298\" height=\"342\" fill=\"white\"/><g fill=\"none\" stroke-miterlimit=\"10\" transform=\"translate(40,43)\"><g class=\"mark-group role-frame root\" role=\"graphics-object\" aria-roledescription=\"group mark container\"><g transform=\"translate(0,0)\"><path class=\"background\" aria-hidden=\"true\" d=\"M0,0h0v0h0Z\"/><g><g class=\"mark-group role-row-header row_header\" role=\"graphics-object\" aria-roledescription=\"group mark container\"><g transform=\"translate(-1,0)\"><path class=\"background\" aria-hidden=\"true\" d=\"M0,0h0v200h0Z\"/><g><g class=\"mark-group role-axis\" role=\"graphics-symbol\" aria-roledescription=\"axis\" aria-label=\"Y-axis titled 'Count of Records' for a linear scale with values from 0 to 90\"><g transform=\"translate(0.5,0.5)\"><path class=\"background\" aria-hidden=\"true\" d=\"M0,0h0v0h0Z\" pointer-events=\"none\"/><g><g class=\"mark-rule role-axis-tick\" pointer-events=\"none\"><line transform=\"translate(0,200)\" x2=\"-5\" y2=\"0\" stroke=\"#888\" stroke-width=\"1\" opacity=\"1\"/><line transform=\"translate(0,156)\" x2=\"-5\" y2=\"0\" stroke=\"#888\" stroke-width=\"1\" opacity=\"1\"/><line transform=\"translate(0,111)\" x2=\"-5\" y2=\"0\" stroke=\"#888\" stroke-width=\"1\" opacity=\"1\"/><line transform=\"translate(0,67)\" x2=\"-5\" y2=\"0\" stroke=\"#888\" stroke-width=\"1\" opacity=\"1\"/><line transform=\"translate(0,22)\" x2=\"-5\" y2=\"0\" stroke=\"#888\" stroke-width=\"1\" opacity=\"1\"/></g><g class=\"mark-text role-axis-label\" pointer-events=\"none\"><text text-anchor=\"end\" transform=\"translate(-7,203)\" font-family=\"sans-serif\" font-size=\"10px\" fill=\"#000\" opacity=\"1\">0</text><text text-anchor=\"end\" transform=\"translate(-7,158.55555555555557)\" font-family=\"sans-serif\" font-size=\"10px\" fill=\"#000\" opacity=\"1\">20</text><text text-anchor=\"end\" transform=\"translate(-7,114.11111111111111)\" font-family=\"sans-serif\" font-size=\"10px\" fill=\"#000\" opacity=\"1\">40</text><text text-anchor=\"end\" transform=\"translate(-7,69.66666666666667)\" font-family=\"sans-serif\" font-size=\"10px\" fill=\"#000\" opacity=\"1\">60</text><text text-anchor=\"end\" transform=\"translate(-7,25.222222222222232)\" font-family=\"sans-serif\" font-size=\"10px\" fill=\"#000\" opacity=\"1\">80</text></g><g class=\"mark-rule role-axis-domain\" pointer-events=\"none\"><line transform=\"translate(0,200)\" x2=\"0\" y2=\"-200\" stroke=\"#888\" stroke-width=\"1\" opacity=\"1\"/></g><g class=\"mark-text role-axis-title\" pointer-events=\"none\"><text text-anchor=\"middle\" transform=\"translate(-23,100) rotate(-90) translate(0,-2)\" font-family=\"sans-serif\" font-size=\"11px\" font-weight=\"bold\" fill=\"#000\" opacity=\"1\">Count of Records</text></g></g><path class=\"foreground\" aria-hidden=\"true\" d=\"\" pointer-events=\"none\" display=\"none\"/></g></g></g><path class=\"foreground\" aria-hidden=\"true\" d=\"\" display=\"none\"/></g></g><g class=\"mark-group role-column-header column_header\" role=\"graphics-object\" aria-roledescription=\"group mark container\"><g transform=\"translate(0,-1)\"><path class=\"background\" aria-hidden=\"true\" d=\"M0,0h160v0h-160Z\"/><g><g class=\"mark-group role-title\"><g transform=\"translate(80,-20)\"><path class=\"background\" aria-hidden=\"true\" d=\"M0,0h0v0h0Z\" pointer-events=\"none\"/><g><g class=\"mark-text role-title-text\" role=\"graphics-symbol\" aria-roledescription=\"title\" aria-label=\"Title text '2016'\" pointer-events=\"none\"><text text-anchor=\"middle\" transform=\"translate(0,8)\" font-family=\"sans-serif\" font-size=\"10px\" fill=\"#000\" opacity=\"1\">2016</text></g></g><path class=\"foreground\" aria-hidden=\"true\" d=\"\" pointer-events=\"none\" display=\"none\"/></g></g></g><path class=\"foreground\" aria-hidden=\"true\" d=\"\" display=\"none\"/></g><g transform=\"translate(182,-1)\"><path class=\"background\" aria-hidden=\"true\" d=\"M0,0h160v0h-160Z\"/><g><g class=\"mark-group role-title\"><g transform=\"translate(80,-20)\"><path class=\"background\" aria-hidden=\"true\" d=\"M0,0h0v0h0Z\" pointer-events=\"none\"/><g><g class=\"mark-text role-title-text\" role=\"graphics-symbol\" aria-roledescription=\"title\" aria-label=\"Title text '2017'\" pointer-events=\"none\"><text text-anchor=\"middle\" transform=\"translate(0,8)\" font-family=\"sans-serif\" font-size=\"10px\" fill=\"#000\" opacity=\"1\">2017</text></g></g><path class=\"foreground\" aria-hidden=\"true\" d=\"\" pointer-events=\"none\" display=\"none\"/></g></g></g><path class=\"foreground\" aria-hidden=\"true\" d=\"\" display=\"none\"/></g><g transform=\"translate(364,-1)\"><path class=\"background\" aria-hidden=\"true\" d=\"M0,0h160v0h-160Z\"/><g><g class=\"mark-group role-title\"><g transform=\"translate(80,-20)\"><path class=\"background\" aria-hidden=\"true\" d=\"M0,0h0v0h0Z\" pointer-events=\"none\"/><g><g class=\"mark-text role-title-text\" role=\"graphics-symbol\" aria-roledescription=\"title\" aria-label=\"Title text '2018'\" pointer-events=\"none\"><text text-anchor=\"middle\" transform=\"translate(0,8)\" font-family=\"sans-serif\" font-size=\"10px\" fill=\"#000\" opacity=\"1\">2018</text></g></g><path class=\"foreground\" aria-hidden=\"true\" d=\"\" pointer-events=\"none\" display=\"none\"/></g></g></g><path class=\"foreground\" aria-hidden=\"true\" d=\"\" display=\"none\"/></g><g transform=\"translate(546,-1)\"><path class=\"background\" aria-hidden=\"true\" d=\"M0,0h160v0h-160Z\"/><g><g class=\"mark-group role-title\"><g transform=\"translate(80,-20)\"><path class=\"background\" aria-hidden=\"true\" d=\"M0,0h0v0h0Z\" pointer-events=\"none\"/><g><g class=\"mark-text role-title-text\" role=\"graphics-symbol\" aria-roledescription=\"title\" aria-label=\"Title text '2019'\" pointer-events=\"none\"><text text-anchor=\"middle\" transform=\"translate(0,8)\" font-family=\"sans-serif\" font-size=\"10px\" fill=\"#000\" opacity=\"1\">2019</text></g></g><path class=\"foreground\" aria-hidden=\"true\" d=\"\" pointer-events=\"none\" display=\"none\"/></g></g></g><path class=\"foreground\" aria-hidden=\"true\" d=\"\" display=\"none\"/></g><g transform=\"translate(728,-1)\"><path class=\"background\" aria-hidden=\"true\" d=\"M0,0h160v0h-160Z\"/><g><g class=\"mark-group role-title\"><g transform=\"translate(80,-20)\"><path class=\"background\" aria-hidden=\"true\" d=\"M0,0h0v0h0Z\" pointer-events=\"none\"/><g><g class=\"mark-text role-title-text\" role=\"graphics-symbol\" aria-roledescription=\"title\" aria-label=\"Title text '2020'\" pointer-events=\"none\"><text text-anchor=\"middle\" transform=\"translate(0,8)\" font-family=\"sans-serif\" font-size=\"10px\" fill=\"#000\" opacity=\"1\">2020</text></g></g><path class=\"foreground\" aria-hidden=\"true\" d=\"\" pointer-events=\"none\" display=\"none\"/></g></g></g><path class=\"foreground\" aria-hidden=\"true\" d=\"\" display=\"none\"/></g><g transform=\"translate(910,-1)\"><path class=\"background\" aria-hidden=\"true\" d=\"M0,0h160v0h-160Z\"/><g><g class=\"mark-group role-title\"><g transform=\"translate(80,-20)\"><path class=\"background\" aria-hidden=\"true\" d=\"M0,0h0v0h0Z\" pointer-events=\"none\"/><g><g class=\"mark-text role-title-text\" role=\"graphics-symbol\" aria-roledescription=\"title\" aria-label=\"Title text '2021'\" pointer-events=\"none\"><text text-anchor=\"middle\" transform=\"translate(0,8)\" font-family=\"sans-serif\" font-size=\"10px\" fill=\"#000\" opacity=\"1\">2021</text></g></g><path class=\"foreground\" aria-hidden=\"true\" d=\"\" pointer-events=\"none\" display=\"none\"/></g></g></g><path class=\"foreground\" aria-hidden=\"true\" d=\"\" display=\"none\"/></g><g transform=\"translate(1092,-1)\"><path class=\"background\" aria-hidden=\"true\" d=\"M0,0h160v0h-160Z\"/><g><g class=\"mark-group role-title\"><g transform=\"translate(80,-20)\"><path class=\"background\" aria-hidden=\"true\" d=\"M0,0h0v0h0Z\" pointer-events=\"none\"/><g><g class=\"mark-text role-title-text\" role=\"graphics-symbol\" aria-roledescription=\"title\" aria-label=\"Title text '2022'\" pointer-events=\"none\"><text text-anchor=\"middle\" transform=\"translate(0,8)\" font-family=\"sans-serif\" font-size=\"10px\" fill=\"#000\" opacity=\"1\">2022</text></g></g><path class=\"foreground\" aria-hidden=\"true\" d=\"\" pointer-events=\"none\" display=\"none\"/></g></g></g><path class=\"foreground\" aria-hidden=\"true\" d=\"\" display=\"none\"/></g></g><g class=\"mark-group role-column-footer column_footer\" role=\"graphics-object\" aria-roledescription=\"group mark container\"><g transform=\"translate(0,201)\"><path class=\"background\" aria-hidden=\"true\" d=\"M0,0h160v0h-160Z\"/><g><g class=\"mark-group role-axis\" role=\"graphics-symbol\" aria-roledescription=\"axis\" aria-label=\"X-axis for a discrete scale with 8 values: Amritsar, Bathinda, Chandigarh, Delhi - New Delhi, Imphal, ending with Srinagar\"><g transform=\"translate(0.5,0.5)\"><path class=\"background\" aria-hidden=\"true\" d=\"M0,0h0v0h0Z\" pointer-events=\"none\"/><g><g class=\"mark-rule role-axis-tick\" pointer-events=\"none\"><line transform=\"translate(10,0)\" x2=\"0\" y2=\"5\" stroke=\"#888\" stroke-width=\"1\" opacity=\"1\"/><line transform=\"translate(30,0)\" x2=\"0\" y2=\"5\" stroke=\"#888\" stroke-width=\"1\" opacity=\"1\"/><line transform=\"translate(50,0)\" x2=\"0\" y2=\"5\" stroke=\"#888\" stroke-width=\"1\" opacity=\"1\"/><line transform=\"translate(70,0)\" x2=\"0\" y2=\"5\" stroke=\"#888\" stroke-width=\"1\" opacity=\"1\"/><line transform=\"translate(90,0)\" x2=\"0\" y2=\"5\" stroke=\"#888\" stroke-width=\"1\" opacity=\"1\"/><line transform=\"translate(110,0)\" x2=\"0\" y2=\"5\" stroke=\"#888\" stroke-width=\"1\" opacity=\"1\"/><line transform=\"translate(130,0)\" x2=\"0\" y2=\"5\" stroke=\"#888\" stroke-width=\"1\" opacity=\"1\"/><line transform=\"translate(150,0)\" x2=\"0\" y2=\"5\" stroke=\"#888\" stroke-width=\"1\" opacity=\"1\"/></g><g class=\"mark-text role-axis-label\" pointer-events=\"none\"><text text-anchor=\"end\" transform=\"translate(9.5,7) rotate(270) translate(0,3)\" font-family=\"sans-serif\" font-size=\"10px\" fill=\"#000\" opacity=\"1\">Amritsar</text><text text-anchor=\"end\" transform=\"translate(29.5,7) rotate(270) translate(0,3)\" font-family=\"sans-serif\" font-size=\"10px\" fill=\"#000\" opacity=\"1\">Bathinda</text><text text-anchor=\"end\" transform=\"translate(49.5,7) rotate(270) translate(0,3)\" font-family=\"sans-serif\" font-size=\"10px\" fill=\"#000\" opacity=\"1\">Chandigarh</text><text text-anchor=\"end\" transform=\"translate(69.5,7) rotate(270) translate(0,3)\" font-family=\"sans-serif\" font-size=\"10px\" fill=\"#000\" opacity=\"1\">Delhi - New Delhi</text><text text-anchor=\"end\" transform=\"translate(89.5,7) rotate(270) translate(0,3)\" font-family=\"sans-serif\" font-size=\"10px\" fill=\"#000\" opacity=\"1\">Imphal</text><text text-anchor=\"end\" transform=\"translate(109.5,7) rotate(270) translate(0,3)\" font-family=\"sans-serif\" font-size=\"10px\" fill=\"#000\" opacity=\"1\">Jammu</text><text text-anchor=\"end\" transform=\"translate(129.5,7) rotate(270) translate(0,3)\" font-family=\"sans-serif\" font-size=\"10px\" fill=\"#000\" opacity=\"1\">Ludhiana</text><text text-anchor=\"end\" transform=\"translate(149.5,7) rotate(270) translate(0,3)\" font-family=\"sans-serif\" font-size=\"10px\" fill=\"#000\" opacity=\"1\">Srinagar</text></g><g class=\"mark-rule role-axis-domain\" pointer-events=\"none\"><line transform=\"translate(0,0)\" x2=\"160\" y2=\"0\" stroke=\"#888\" stroke-width=\"1\" opacity=\"1\"/></g></g><path class=\"foreground\" aria-hidden=\"true\" d=\"\" pointer-events=\"none\" display=\"none\"/></g></g></g><path class=\"foreground\" aria-hidden=\"true\" d=\"\" display=\"none\"/></g><g transform=\"translate(182,201)\"><path class=\"background\" aria-hidden=\"true\" d=\"M0,0h160v0h-160Z\"/><g><g class=\"mark-group role-axis\" role=\"graphics-symbol\" aria-roledescription=\"axis\" aria-label=\"X-axis for a discrete scale with 8 values: Amritsar, Bathinda, Chandigarh, Delhi - New Delhi, Imphal, ending with Srinagar\"><g transform=\"translate(0.5,0.5)\"><path class=\"background\" aria-hidden=\"true\" d=\"M0,0h0v0h0Z\" pointer-events=\"none\"/><g><g class=\"mark-rule role-axis-tick\" pointer-events=\"none\"><line transform=\"translate(10,0)\" x2=\"0\" y2=\"5\" stroke=\"#888\" stroke-width=\"1\" opacity=\"1\"/><line transform=\"translate(30,0)\" x2=\"0\" y2=\"5\" stroke=\"#888\" stroke-width=\"1\" opacity=\"1\"/><line transform=\"translate(50,0)\" x2=\"0\" y2=\"5\" stroke=\"#888\" stroke-width=\"1\" opacity=\"1\"/><line transform=\"translate(70,0)\" x2=\"0\" y2=\"5\" stroke=\"#888\" stroke-width=\"1\" opacity=\"1\"/><line transform=\"translate(90,0)\" x2=\"0\" y2=\"5\" stroke=\"#888\" stroke-width=\"1\" opacity=\"1\"/><line transform=\"translate(110,0)\" x2=\"0\" y2=\"5\" stroke=\"#888\" stroke-width=\"1\" opacity=\"1\"/><line transform=\"translate(130,0)\" x2=\"0\" y2=\"5\" stroke=\"#888\" stroke-width=\"1\" opacity=\"1\"/><line transform=\"translate(150,0)\" x2=\"0\" y2=\"5\" stroke=\"#888\" stroke-width=\"1\" opacity=\"1\"/></g><g class=\"mark-text role-axis-label\" pointer-events=\"none\"><text text-anchor=\"end\" transform=\"translate(9.5,7) rotate(270) translate(0,3)\" font-family=\"sans-serif\" font-size=\"10px\" fill=\"#000\" opacity=\"1\">Amritsar</text><text text-anchor=\"end\" transform=\"translate(29.5,7) rotate(270) translate(0,3)\" font-family=\"sans-serif\" font-size=\"10px\" fill=\"#000\" opacity=\"1\">Bathinda</text><text text-anchor=\"end\" transform=\"translate(49.5,7) rotate(270) translate(0,3)\" font-family=\"sans-serif\" font-size=\"10px\" fill=\"#000\" opacity=\"1\">Chandigarh</text><text text-anchor=\"end\" transform=\"translate(69.5,7) rotate(270) translate(0,3)\" font-family=\"sans-serif\" font-size=\"10px\" fill=\"#000\" opacity=\"1\">Delhi - New Delhi</text><text text-anchor=\"end\" transform=\"translate(89.5,7) rotate(270) translate(0,3)\" font-family=\"sans-serif\" font-size=\"10px\" fill=\"#000\" opacity=\"1\">Imphal</text><text text-anchor=\"end\" transform=\"translate(109.5,7) rotate(270) translate(0,3)\" font-family=\"sans-serif\" font-size=\"10px\" fill=\"#000\" opacity=\"1\">Jammu</text><text text-anchor=\"end\" transform=\"translate(129.5,7) rotate(270) translate(0,3)\" font-family=\"sans-serif\" font-size=\"10px\" fill=\"#000\" opacity=\"1\">Ludhiana</text><text text-anchor=\"end\" transform=\"translate(149.5,7) rotate(270) translate(0,3)\" font-family=\"sans-serif\" font-size=\"10px\" fill=\"#000\" opacity=\"1\">Srinagar</text></g><g class=\"mark-rule role-axis-domain\" pointer-events=\"none\"><line transform=\"translate(0,0)\" x2=\"160\" y2=\"0\" stroke=\"#888\" stroke-width=\"1\" opacity=\"1\"/></g></g><path class=\"foreground\" aria-hidden=\"true\" d=\"\" pointer-events=\"none\" display=\"none\"/></g></g></g><path class=\"foreground\" aria-hidden=\"true\" d=\"\" display=\"none\"/></g><g transform=\"translate(364,201)\"><path class=\"background\" aria-hidden=\"true\" d=\"M0,0h160v0h-160Z\"/><g><g class=\"mark-group role-axis\" role=\"graphics-symbol\" aria-roledescription=\"axis\" aria-label=\"X-axis for a discrete scale with 8 values: Amritsar, Bathinda, Chandigarh, Delhi - New Delhi, Imphal, ending with Srinagar\"><g transform=\"translate(0.5,0.5)\"><path class=\"background\" aria-hidden=\"true\" d=\"M0,0h0v0h0Z\" pointer-events=\"none\"/><g><g class=\"mark-rule role-axis-tick\" pointer-events=\"none\"><line transform=\"translate(10,0)\" x2=\"0\" y2=\"5\" stroke=\"#888\" stroke-width=\"1\" opacity=\"1\"/><line transform=\"translate(30,0)\" x2=\"0\" y2=\"5\" stroke=\"#888\" stroke-width=\"1\" opacity=\"1\"/><line transform=\"translate(50,0)\" x2=\"0\" y2=\"5\" stroke=\"#888\" stroke-width=\"1\" opacity=\"1\"/><line transform=\"translate(70,0)\" x2=\"0\" y2=\"5\" stroke=\"#888\" stroke-width=\"1\" opacity=\"1\"/><line transform=\"translate(90,0)\" x2=\"0\" y2=\"5\" stroke=\"#888\" stroke-width=\"1\" opacity=\"1\"/><line transform=\"translate(110,0)\" x2=\"0\" y2=\"5\" stroke=\"#888\" stroke-width=\"1\" opacity=\"1\"/><line transform=\"translate(130,0)\" x2=\"0\" y2=\"5\" stroke=\"#888\" stroke-width=\"1\" opacity=\"1\"/><line transform=\"translate(150,0)\" x2=\"0\" y2=\"5\" stroke=\"#888\" stroke-width=\"1\" opacity=\"1\"/></g><g class=\"mark-text role-axis-label\" pointer-events=\"none\"><text text-anchor=\"end\" transform=\"translate(9.5,7) rotate(270) translate(0,3)\" font-family=\"sans-serif\" font-size=\"10px\" fill=\"#000\" opacity=\"1\">Amritsar</text><text text-anchor=\"end\" transform=\"translate(29.5,7) rotate(270) translate(0,3)\" font-family=\"sans-serif\" font-size=\"10px\" fill=\"#000\" opacity=\"1\">Bathinda</text><text text-anchor=\"end\" transform=\"translate(49.5,7) rotate(270) translate(0,3)\" font-family=\"sans-serif\" font-size=\"10px\" fill=\"#000\" opacity=\"1\">Chandigarh</text><text text-anchor=\"end\" transform=\"translate(69.5,7) rotate(270) translate(0,3)\" font-family=\"sans-serif\" font-size=\"10px\" fill=\"#000\" opacity=\"1\">Delhi - New Delhi</text><text text-anchor=\"end\" transform=\"translate(89.5,7) rotate(270) translate(0,3)\" font-family=\"sans-serif\" font-size=\"10px\" fill=\"#000\" opacity=\"1\">Imphal</text><text text-anchor=\"end\" transform=\"translate(109.5,7) rotate(270) translate(0,3)\" font-family=\"sans-serif\" font-size=\"10px\" fill=\"#000\" opacity=\"1\">Jammu</text><text text-anchor=\"end\" transform=\"translate(129.5,7) rotate(270) translate(0,3)\" font-family=\"sans-serif\" font-size=\"10px\" fill=\"#000\" opacity=\"1\">Ludhiana</text><text text-anchor=\"end\" transform=\"translate(149.5,7) rotate(270) translate(0,3)\" font-family=\"sans-serif\" font-size=\"10px\" fill=\"#000\" opacity=\"1\">Srinagar</text></g><g class=\"mark-rule role-axis-domain\" pointer-events=\"none\"><line transform=\"translate(0,0)\" x2=\"160\" y2=\"0\" stroke=\"#888\" stroke-width=\"1\" opacity=\"1\"/></g></g><path class=\"foreground\" aria-hidden=\"true\" d=\"\" pointer-events=\"none\" display=\"none\"/></g></g></g><path class=\"foreground\" aria-hidden=\"true\" d=\"\" display=\"none\"/></g><g transform=\"translate(546,201)\"><path class=\"background\" aria-hidden=\"true\" d=\"M0,0h160v0h-160Z\"/><g><g class=\"mark-group role-axis\" role=\"graphics-symbol\" aria-roledescription=\"axis\" aria-label=\"X-axis for a discrete scale with 8 values: Amritsar, Bathinda, Chandigarh, Delhi - New Delhi, Imphal, ending with Srinagar\"><g transform=\"translate(0.5,0.5)\"><path class=\"background\" aria-hidden=\"true\" d=\"M0,0h0v0h0Z\" pointer-events=\"none\"/><g><g class=\"mark-rule role-axis-tick\" pointer-events=\"none\"><line transform=\"translate(10,0)\" x2=\"0\" y2=\"5\" stroke=\"#888\" stroke-width=\"1\" opacity=\"1\"/><line transform=\"translate(30,0)\" x2=\"0\" y2=\"5\" stroke=\"#888\" stroke-width=\"1\" opacity=\"1\"/><line transform=\"translate(50,0)\" x2=\"0\" y2=\"5\" stroke=\"#888\" stroke-width=\"1\" opacity=\"1\"/><line transform=\"translate(70,0)\" x2=\"0\" y2=\"5\" stroke=\"#888\" stroke-width=\"1\" opacity=\"1\"/><line transform=\"translate(90,0)\" x2=\"0\" y2=\"5\" stroke=\"#888\" stroke-width=\"1\" opacity=\"1\"/><line transform=\"translate(110,0)\" x2=\"0\" y2=\"5\" stroke=\"#888\" stroke-width=\"1\" opacity=\"1\"/><line transform=\"translate(130,0)\" x2=\"0\" y2=\"5\" stroke=\"#888\" stroke-width=\"1\" opacity=\"1\"/><line transform=\"translate(150,0)\" x2=\"0\" y2=\"5\" stroke=\"#888\" stroke-width=\"1\" opacity=\"1\"/></g><g class=\"mark-text role-axis-label\" pointer-events=\"none\"><text text-anchor=\"end\" transform=\"translate(9.5,7) rotate(270) translate(0,3)\" font-family=\"sans-serif\" font-size=\"10px\" fill=\"#000\" opacity=\"1\">Amritsar</text><text text-anchor=\"end\" transform=\"translate(29.5,7) rotate(270) translate(0,3)\" font-family=\"sans-serif\" font-size=\"10px\" fill=\"#000\" opacity=\"1\">Bathinda</text><text text-anchor=\"end\" transform=\"translate(49.5,7) rotate(270) translate(0,3)\" font-family=\"sans-serif\" font-size=\"10px\" fill=\"#000\" opacity=\"1\">Chandigarh</text><text text-anchor=\"end\" transform=\"translate(69.5,7) rotate(270) translate(0,3)\" font-family=\"sans-serif\" font-size=\"10px\" fill=\"#000\" opacity=\"1\">Delhi - New Delhi</text><text text-anchor=\"end\" transform=\"translate(89.5,7) rotate(270) translate(0,3)\" font-family=\"sans-serif\" font-size=\"10px\" fill=\"#000\" opacity=\"1\">Imphal</text><text text-anchor=\"end\" transform=\"translate(109.5,7) rotate(270) translate(0,3)\" font-family=\"sans-serif\" font-size=\"10px\" fill=\"#000\" opacity=\"1\">Jammu</text><text text-anchor=\"end\" transform=\"translate(129.5,7) rotate(270) translate(0,3)\" font-family=\"sans-serif\" font-size=\"10px\" fill=\"#000\" opacity=\"1\">Ludhiana</text><text text-anchor=\"end\" transform=\"translate(149.5,7) rotate(270) translate(0,3)\" font-family=\"sans-serif\" font-size=\"10px\" fill=\"#000\" opacity=\"1\">Srinagar</text></g><g class=\"mark-rule role-axis-domain\" pointer-events=\"none\"><line transform=\"translate(0,0)\" x2=\"160\" y2=\"0\" stroke=\"#888\" stroke-width=\"1\" opacity=\"1\"/></g></g><path class=\"foreground\" aria-hidden=\"true\" d=\"\" pointer-events=\"none\" display=\"none\"/></g></g></g><path class=\"foreground\" aria-hidden=\"true\" d=\"\" display=\"none\"/></g><g transform=\"translate(728,201)\"><path class=\"background\" aria-hidden=\"true\" d=\"M0,0h160v0h-160Z\"/><g><g class=\"mark-group role-axis\" role=\"graphics-symbol\" aria-roledescription=\"axis\" aria-label=\"X-axis for a discrete scale with 8 values: Amritsar, Bathinda, Chandigarh, Delhi - New Delhi, Imphal, ending with Srinagar\"><g transform=\"translate(0.5,0.5)\"><path class=\"background\" aria-hidden=\"true\" d=\"M0,0h0v0h0Z\" pointer-events=\"none\"/><g><g class=\"mark-rule role-axis-tick\" pointer-events=\"none\"><line transform=\"translate(10,0)\" x2=\"0\" y2=\"5\" stroke=\"#888\" stroke-width=\"1\" opacity=\"1\"/><line transform=\"translate(30,0)\" x2=\"0\" y2=\"5\" stroke=\"#888\" stroke-width=\"1\" opacity=\"1\"/><line transform=\"translate(50,0)\" x2=\"0\" y2=\"5\" stroke=\"#888\" stroke-width=\"1\" opacity=\"1\"/><line transform=\"translate(70,0)\" x2=\"0\" y2=\"5\" stroke=\"#888\" stroke-width=\"1\" opacity=\"1\"/><line transform=\"translate(90,0)\" x2=\"0\" y2=\"5\" stroke=\"#888\" stroke-width=\"1\" opacity=\"1\"/><line transform=\"translate(110,0)\" x2=\"0\" y2=\"5\" stroke=\"#888\" stroke-width=\"1\" opacity=\"1\"/><line transform=\"translate(130,0)\" x2=\"0\" y2=\"5\" stroke=\"#888\" stroke-width=\"1\" opacity=\"1\"/><line transform=\"translate(150,0)\" x2=\"0\" y2=\"5\" stroke=\"#888\" stroke-width=\"1\" opacity=\"1\"/></g><g class=\"mark-text role-axis-label\" pointer-events=\"none\"><text text-anchor=\"end\" transform=\"translate(9.5,7) rotate(270) translate(0,3)\" font-family=\"sans-serif\" font-size=\"10px\" fill=\"#000\" opacity=\"1\">Amritsar</text><text text-anchor=\"end\" transform=\"translate(29.5,7) rotate(270) translate(0,3)\" font-family=\"sans-serif\" font-size=\"10px\" fill=\"#000\" opacity=\"1\">Bathinda</text><text text-anchor=\"end\" transform=\"translate(49.5,7) rotate(270) translate(0,3)\" font-family=\"sans-serif\" font-size=\"10px\" fill=\"#000\" opacity=\"1\">Chandigarh</text><text text-anchor=\"end\" transform=\"translate(69.5,7) rotate(270) translate(0,3)\" font-family=\"sans-serif\" font-size=\"10px\" fill=\"#000\" opacity=\"1\">Delhi - New Delhi</text><text text-anchor=\"end\" transform=\"translate(89.5,7) rotate(270) translate(0,3)\" font-family=\"sans-serif\" font-size=\"10px\" fill=\"#000\" opacity=\"1\">Imphal</text><text text-anchor=\"end\" transform=\"translate(109.5,7) rotate(270) translate(0,3)\" font-family=\"sans-serif\" font-size=\"10px\" fill=\"#000\" opacity=\"1\">Jammu</text><text text-anchor=\"end\" transform=\"translate(129.5,7) rotate(270) translate(0,3)\" font-family=\"sans-serif\" font-size=\"10px\" fill=\"#000\" opacity=\"1\">Ludhiana</text><text text-anchor=\"end\" transform=\"translate(149.5,7) rotate(270) translate(0,3)\" font-family=\"sans-serif\" font-size=\"10px\" fill=\"#000\" opacity=\"1\">Srinagar</text></g><g class=\"mark-rule role-axis-domain\" pointer-events=\"none\"><line transform=\"translate(0,0)\" x2=\"160\" y2=\"0\" stroke=\"#888\" stroke-width=\"1\" opacity=\"1\"/></g></g><path class=\"foreground\" aria-hidden=\"true\" d=\"\" pointer-events=\"none\" display=\"none\"/></g></g></g><path class=\"foreground\" aria-hidden=\"true\" d=\"\" display=\"none\"/></g><g transform=\"translate(910,201)\"><path class=\"background\" aria-hidden=\"true\" d=\"M0,0h160v0h-160Z\"/><g><g class=\"mark-group role-axis\" role=\"graphics-symbol\" aria-roledescription=\"axis\" aria-label=\"X-axis for a discrete scale with 8 values: Amritsar, Bathinda, Chandigarh, Delhi - New Delhi, Imphal, ending with Srinagar\"><g transform=\"translate(0.5,0.5)\"><path class=\"background\" aria-hidden=\"true\" d=\"M0,0h0v0h0Z\" pointer-events=\"none\"/><g><g class=\"mark-rule role-axis-tick\" pointer-events=\"none\"><line transform=\"translate(10,0)\" x2=\"0\" y2=\"5\" stroke=\"#888\" stroke-width=\"1\" opacity=\"1\"/><line transform=\"translate(30,0)\" x2=\"0\" y2=\"5\" stroke=\"#888\" stroke-width=\"1\" opacity=\"1\"/><line transform=\"translate(50,0)\" x2=\"0\" y2=\"5\" stroke=\"#888\" stroke-width=\"1\" opacity=\"1\"/><line transform=\"translate(70,0)\" x2=\"0\" y2=\"5\" stroke=\"#888\" stroke-width=\"1\" opacity=\"1\"/><line transform=\"translate(90,0)\" x2=\"0\" y2=\"5\" stroke=\"#888\" stroke-width=\"1\" opacity=\"1\"/><line transform=\"translate(110,0)\" x2=\"0\" y2=\"5\" stroke=\"#888\" stroke-width=\"1\" opacity=\"1\"/><line transform=\"translate(130,0)\" x2=\"0\" y2=\"5\" stroke=\"#888\" stroke-width=\"1\" opacity=\"1\"/><line transform=\"translate(150,0)\" x2=\"0\" y2=\"5\" stroke=\"#888\" stroke-width=\"1\" opacity=\"1\"/></g><g class=\"mark-text role-axis-label\" pointer-events=\"none\"><text text-anchor=\"end\" transform=\"translate(9.5,7) rotate(270) translate(0,3)\" font-family=\"sans-serif\" font-size=\"10px\" fill=\"#000\" opacity=\"1\">Amritsar</text><text text-anchor=\"end\" transform=\"translate(29.5,7) rotate(270) translate(0,3)\" font-family=\"sans-serif\" font-size=\"10px\" fill=\"#000\" opacity=\"1\">Bathinda</text><text text-anchor=\"end\" transform=\"translate(49.5,7) rotate(270) translate(0,3)\" font-family=\"sans-serif\" font-size=\"10px\" fill=\"#000\" opacity=\"1\">Chandigarh</text><text text-anchor=\"end\" transform=\"translate(69.5,7) rotate(270) translate(0,3)\" font-family=\"sans-serif\" font-size=\"10px\" fill=\"#000\" opacity=\"1\">Delhi - New Delhi</text><text text-anchor=\"end\" transform=\"translate(89.5,7) rotate(270) translate(0,3)\" font-family=\"sans-serif\" font-size=\"10px\" fill=\"#000\" opacity=\"1\">Imphal</text><text text-anchor=\"end\" transform=\"translate(109.5,7) rotate(270) translate(0,3)\" font-family=\"sans-serif\" font-size=\"10px\" fill=\"#000\" opacity=\"1\">Jammu</text><text text-anchor=\"end\" transform=\"translate(129.5,7) rotate(270) translate(0,3)\" font-family=\"sans-serif\" font-size=\"10px\" fill=\"#000\" opacity=\"1\">Ludhiana</text><text text-anchor=\"end\" transform=\"translate(149.5,7) rotate(270) translate(0,3)\" font-family=\"sans-serif\" font-size=\"10px\" fill=\"#000\" opacity=\"1\">Srinagar</text></g><g class=\"mark-rule role-axis-domain\" pointer-events=\"none\"><line transform=\"translate(0,0)\" x2=\"160\" y2=\"0\" stroke=\"#888\" stroke-width=\"1\" opacity=\"1\"/></g></g><path class=\"foreground\" aria-hidden=\"true\" d=\"\" pointer-events=\"none\" display=\"none\"/></g></g></g><path class=\"foreground\" aria-hidden=\"true\" d=\"\" display=\"none\"/></g><g transform=\"translate(1092,201)\"><path class=\"background\" aria-hidden=\"true\" d=\"M0,0h160v0h-160Z\"/><g><g class=\"mark-group role-axis\" role=\"graphics-symbol\" aria-roledescription=\"axis\" aria-label=\"X-axis for a discrete scale with 8 values: Amritsar, Bathinda, Chandigarh, Delhi - New Delhi, Imphal, ending with Srinagar\"><g transform=\"translate(0.5,0.5)\"><path class=\"background\" aria-hidden=\"true\" d=\"M0,0h0v0h0Z\" pointer-events=\"none\"/><g><g class=\"mark-rule role-axis-tick\" pointer-events=\"none\"><line transform=\"translate(10,0)\" x2=\"0\" y2=\"5\" stroke=\"#888\" stroke-width=\"1\" opacity=\"1\"/><line transform=\"translate(30,0)\" x2=\"0\" y2=\"5\" stroke=\"#888\" stroke-width=\"1\" opacity=\"1\"/><line transform=\"translate(50,0)\" x2=\"0\" y2=\"5\" stroke=\"#888\" stroke-width=\"1\" opacity=\"1\"/><line transform=\"translate(70,0)\" x2=\"0\" y2=\"5\" stroke=\"#888\" stroke-width=\"1\" opacity=\"1\"/><line transform=\"translate(90,0)\" x2=\"0\" y2=\"5\" stroke=\"#888\" stroke-width=\"1\" opacity=\"1\"/><line transform=\"translate(110,0)\" x2=\"0\" y2=\"5\" stroke=\"#888\" stroke-width=\"1\" opacity=\"1\"/><line transform=\"translate(130,0)\" x2=\"0\" y2=\"5\" stroke=\"#888\" stroke-width=\"1\" opacity=\"1\"/><line transform=\"translate(150,0)\" x2=\"0\" y2=\"5\" stroke=\"#888\" stroke-width=\"1\" opacity=\"1\"/></g><g class=\"mark-text role-axis-label\" pointer-events=\"none\"><text text-anchor=\"end\" transform=\"translate(9.5,7) rotate(270) translate(0,3)\" font-family=\"sans-serif\" font-size=\"10px\" fill=\"#000\" opacity=\"1\">Amritsar</text><text text-anchor=\"end\" transform=\"translate(29.5,7) rotate(270) translate(0,3)\" font-family=\"sans-serif\" font-size=\"10px\" fill=\"#000\" opacity=\"1\">Bathinda</text><text text-anchor=\"end\" transform=\"translate(49.5,7) rotate(270) translate(0,3)\" font-family=\"sans-serif\" font-size=\"10px\" fill=\"#000\" opacity=\"1\">Chandigarh</text><text text-anchor=\"end\" transform=\"translate(69.5,7) rotate(270) translate(0,3)\" font-family=\"sans-serif\" font-size=\"10px\" fill=\"#000\" opacity=\"1\">Delhi - New Delhi</text><text text-anchor=\"end\" transform=\"translate(89.5,7) rotate(270) translate(0,3)\" font-family=\"sans-serif\" font-size=\"10px\" fill=\"#000\" opacity=\"1\">Imphal</text><text text-anchor=\"end\" transform=\"translate(109.5,7) rotate(270) translate(0,3)\" font-family=\"sans-serif\" font-size=\"10px\" fill=\"#000\" opacity=\"1\">Jammu</text><text text-anchor=\"end\" transform=\"translate(129.5,7) rotate(270) translate(0,3)\" font-family=\"sans-serif\" font-size=\"10px\" fill=\"#000\" opacity=\"1\">Ludhiana</text><text text-anchor=\"end\" transform=\"translate(149.5,7) rotate(270) translate(0,3)\" font-family=\"sans-serif\" font-size=\"10px\" fill=\"#000\" opacity=\"1\">Srinagar</text></g><g class=\"mark-rule role-axis-domain\" pointer-events=\"none\"><line transform=\"translate(0,0)\" x2=\"160\" y2=\"0\" stroke=\"#888\" stroke-width=\"1\" opacity=\"1\"/></g></g><path class=\"foreground\" aria-hidden=\"true\" d=\"\" pointer-events=\"none\" display=\"none\"/></g></g></g><path class=\"foreground\" aria-hidden=\"true\" d=\"\" display=\"none\"/></g></g><g class=\"mark-group role-scope cell\" role=\"graphics-object\" aria-roledescription=\"group mark container\"><g transform=\"translate(0,0)\"><path class=\"background\" aria-hidden=\"true\" d=\"M0.5,0.5h160v200h-160Z\" stroke=\"#ddd\"/><g><g class=\"mark-group role-axis\" aria-hidden=\"true\"><g transform=\"translate(0.5,0.5)\"><path class=\"background\" aria-hidden=\"true\" d=\"M0,0h0v0h0Z\" pointer-events=\"none\"/><g><g class=\"mark-rule role-axis-grid\" pointer-events=\"none\"><line transform=\"translate(0,200)\" x2=\"160\" y2=\"0\" stroke=\"#ddd\" stroke-width=\"1\" opacity=\"1\"/><line transform=\"translate(0,156)\" x2=\"160\" y2=\"0\" stroke=\"#ddd\" stroke-width=\"1\" opacity=\"1\"/><line transform=\"translate(0,111)\" x2=\"160\" y2=\"0\" stroke=\"#ddd\" stroke-width=\"1\" opacity=\"1\"/><line transform=\"translate(0,67)\" x2=\"160\" y2=\"0\" stroke=\"#ddd\" stroke-width=\"1\" opacity=\"1\"/><line transform=\"translate(0,22)\" x2=\"160\" y2=\"0\" stroke=\"#ddd\" stroke-width=\"1\" opacity=\"1\"/></g></g><path class=\"foreground\" aria-hidden=\"true\" d=\"\" pointer-events=\"none\" display=\"none\"/></g></g><g class=\"mark-rect role-mark child_marks\" role=\"graphics-object\" aria-roledescription=\"rect mark container\"><path aria-label=\"x: Srinagar; Count of Records: 67\" role=\"graphics-symbol\" aria-roledescription=\"bar\" d=\"M141,51.11111111111111h18v148.88888888888889h-18Z\" fill=\"#4c78a8\"/><path aria-label=\"x: Imphal; Count of Records: 26\" role=\"graphics-symbol\" aria-roledescription=\"bar\" d=\"M81,142.22222222222223h18v57.77777777777777h-18Z\" fill=\"#4c78a8\"/><path aria-label=\"x: Delhi - New Delhi; Count of Records: 14\" role=\"graphics-symbol\" aria-roledescription=\"bar\" d=\"M61,168.88888888888889h18v31.111111111111114h-18Z\" fill=\"#4c78a8\"/><path aria-label=\"x: Bathinda; Count of Records: 7\" role=\"graphics-symbol\" aria-roledescription=\"bar\" d=\"M21,184.44444444444446h18v15.555555555555543h-18Z\" fill=\"#4c78a8\"/><path aria-label=\"x: Amritsar; Count of Records: 5\" role=\"graphics-symbol\" aria-roledescription=\"bar\" d=\"M1,188.88888888888889h18v11.111111111111114h-18Z\" fill=\"#4c78a8\"/><path aria-label=\"x: Ludhiana; Count of Records: 4\" role=\"graphics-symbol\" aria-roledescription=\"bar\" d=\"M121,191.11111111111111h18v8.888888888888886h-18Z\" fill=\"#4c78a8\"/><path aria-label=\"x: Jammu; Count of Records: 4\" role=\"graphics-symbol\" aria-roledescription=\"bar\" d=\"M101,191.11111111111111h18v8.888888888888886h-18Z\" fill=\"#4c78a8\"/><path aria-label=\"x: Chandigarh; Count of Records: 4\" role=\"graphics-symbol\" aria-roledescription=\"bar\" d=\"M41,191.11111111111111h18v8.888888888888886h-18Z\" fill=\"#4c78a8\"/></g></g><path class=\"foreground\" aria-hidden=\"true\" d=\"\" display=\"none\"/></g><g transform=\"translate(182,0)\"><path class=\"background\" aria-hidden=\"true\" d=\"M0.5,0.5h160v200h-160Z\" stroke=\"#ddd\"/><g><g class=\"mark-group role-axis\" aria-hidden=\"true\"><g transform=\"translate(0.5,0.5)\"><path class=\"background\" aria-hidden=\"true\" d=\"M0,0h0v0h0Z\" pointer-events=\"none\"/><g><g class=\"mark-rule role-axis-grid\" pointer-events=\"none\"><line transform=\"translate(0,200)\" x2=\"160\" y2=\"0\" stroke=\"#ddd\" stroke-width=\"1\" opacity=\"1\"/><line transform=\"translate(0,156)\" x2=\"160\" y2=\"0\" stroke=\"#ddd\" stroke-width=\"1\" opacity=\"1\"/><line transform=\"translate(0,111)\" x2=\"160\" y2=\"0\" stroke=\"#ddd\" stroke-width=\"1\" opacity=\"1\"/><line transform=\"translate(0,67)\" x2=\"160\" y2=\"0\" stroke=\"#ddd\" stroke-width=\"1\" opacity=\"1\"/><line transform=\"translate(0,22)\" x2=\"160\" y2=\"0\" stroke=\"#ddd\" stroke-width=\"1\" opacity=\"1\"/></g></g><path class=\"foreground\" aria-hidden=\"true\" d=\"\" pointer-events=\"none\" display=\"none\"/></g></g><g class=\"mark-rect role-mark child_marks\" role=\"graphics-object\" aria-roledescription=\"rect mark container\"><path aria-label=\"x: Srinagar; Count of Records: 54\" role=\"graphics-symbol\" aria-roledescription=\"bar\" d=\"M141,80h18v120h-18Z\" fill=\"#4c78a8\"/><path aria-label=\"x: Ludhiana; Count of Records: 6\" role=\"graphics-symbol\" aria-roledescription=\"bar\" d=\"M121,186.66666666666666h18v13.333333333333343h-18Z\" fill=\"#4c78a8\"/><path aria-label=\"x: Jammu; Count of Records: 3\" role=\"graphics-symbol\" aria-roledescription=\"bar\" d=\"M101,193.33333333333334h18v6.666666666666657h-18Z\" fill=\"#4c78a8\"/><path aria-label=\"x: Chandigarh; Count of Records: 6\" role=\"graphics-symbol\" aria-roledescription=\"bar\" d=\"M41,186.66666666666666h18v13.333333333333343h-18Z\" fill=\"#4c78a8\"/><path aria-label=\"x: Delhi - New Delhi; Count of Records: 6\" role=\"graphics-symbol\" aria-roledescription=\"bar\" d=\"M61,186.66666666666666h18v13.333333333333343h-18Z\" fill=\"#4c78a8\"/><path aria-label=\"x: Imphal; Count of Records: 6\" role=\"graphics-symbol\" aria-roledescription=\"bar\" d=\"M81,186.66666666666666h18v13.333333333333343h-18Z\" fill=\"#4c78a8\"/><path aria-label=\"x: Amritsar; Count of Records: 2\" role=\"graphics-symbol\" aria-roledescription=\"bar\" d=\"M1,195.55555555555554h18v4.444444444444457h-18Z\" fill=\"#4c78a8\"/></g></g><path class=\"foreground\" aria-hidden=\"true\" d=\"\" display=\"none\"/></g><g transform=\"translate(364,0)\"><path class=\"background\" aria-hidden=\"true\" d=\"M0.5,0.5h160v200h-160Z\" stroke=\"#ddd\"/><g><g class=\"mark-group role-axis\" aria-hidden=\"true\"><g transform=\"translate(0.5,0.5)\"><path class=\"background\" aria-hidden=\"true\" d=\"M0,0h0v0h0Z\" pointer-events=\"none\"/><g><g class=\"mark-rule role-axis-grid\" pointer-events=\"none\"><line transform=\"translate(0,200)\" x2=\"160\" y2=\"0\" stroke=\"#ddd\" stroke-width=\"1\" opacity=\"1\"/><line transform=\"translate(0,156)\" x2=\"160\" y2=\"0\" stroke=\"#ddd\" stroke-width=\"1\" opacity=\"1\"/><line transform=\"translate(0,111)\" x2=\"160\" y2=\"0\" stroke=\"#ddd\" stroke-width=\"1\" opacity=\"1\"/><line transform=\"translate(0,67)\" x2=\"160\" y2=\"0\" stroke=\"#ddd\" stroke-width=\"1\" opacity=\"1\"/><line transform=\"translate(0,22)\" x2=\"160\" y2=\"0\" stroke=\"#ddd\" stroke-width=\"1\" opacity=\"1\"/></g></g><path class=\"foreground\" aria-hidden=\"true\" d=\"\" pointer-events=\"none\" display=\"none\"/></g></g><g class=\"mark-rect role-mark child_marks\" role=\"graphics-object\" aria-roledescription=\"rect mark container\"><path aria-label=\"x: Delhi - New Delhi; Count of Records: 9\" role=\"graphics-symbol\" aria-roledescription=\"bar\" d=\"M61,180h18v20h-18Z\" fill=\"#4c78a8\"/><path aria-label=\"x: Jammu; Count of Records: 7\" role=\"graphics-symbol\" aria-roledescription=\"bar\" d=\"M101,184.44444444444446h18v15.555555555555543h-18Z\" fill=\"#4c78a8\"/><path aria-label=\"x: Imphal; Count of Records: 28\" role=\"graphics-symbol\" aria-roledescription=\"bar\" d=\"M81,137.77777777777777h18v62.22222222222223h-18Z\" fill=\"#4c78a8\"/><path aria-label=\"x: Srinagar; Count of Records: 38\" role=\"graphics-symbol\" aria-roledescription=\"bar\" d=\"M141,115.55555555555554h18v84.44444444444446h-18Z\" fill=\"#4c78a8\"/><path aria-label=\"x: Amritsar; Count of Records: 6\" role=\"graphics-symbol\" aria-roledescription=\"bar\" d=\"M1,186.66666666666666h18v13.333333333333343h-18Z\" fill=\"#4c78a8\"/><path aria-label=\"x: Chandigarh; Count of Records: 11\" role=\"graphics-symbol\" aria-roledescription=\"bar\" d=\"M41,175.55555555555554h18v24.444444444444457h-18Z\" fill=\"#4c78a8\"/><path aria-label=\"x: Ludhiana; Count of Records: 2\" role=\"graphics-symbol\" aria-roledescription=\"bar\" d=\"M121,195.55555555555554h18v4.444444444444457h-18Z\" fill=\"#4c78a8\"/><path aria-label=\"x: Bathinda; Count of Records: 4\" role=\"graphics-symbol\" aria-roledescription=\"bar\" d=\"M21,191.11111111111111h18v8.888888888888886h-18Z\" fill=\"#4c78a8\"/></g></g><path class=\"foreground\" aria-hidden=\"true\" d=\"\" display=\"none\"/></g><g transform=\"translate(546,0)\"><path class=\"background\" aria-hidden=\"true\" d=\"M0.5,0.5h160v200h-160Z\" stroke=\"#ddd\"/><g><g class=\"mark-group role-axis\" aria-hidden=\"true\"><g transform=\"translate(0.5,0.5)\"><path class=\"background\" aria-hidden=\"true\" d=\"M0,0h0v0h0Z\" pointer-events=\"none\"/><g><g class=\"mark-rule role-axis-grid\" pointer-events=\"none\"><line transform=\"translate(0,200)\" x2=\"160\" y2=\"0\" stroke=\"#ddd\" stroke-width=\"1\" opacity=\"1\"/><line transform=\"translate(0,156)\" x2=\"160\" y2=\"0\" stroke=\"#ddd\" stroke-width=\"1\" opacity=\"1\"/><line transform=\"translate(0,111)\" x2=\"160\" y2=\"0\" stroke=\"#ddd\" stroke-width=\"1\" opacity=\"1\"/><line transform=\"translate(0,67)\" x2=\"160\" y2=\"0\" stroke=\"#ddd\" stroke-width=\"1\" opacity=\"1\"/><line transform=\"translate(0,22)\" x2=\"160\" y2=\"0\" stroke=\"#ddd\" stroke-width=\"1\" opacity=\"1\"/></g></g><path class=\"foreground\" aria-hidden=\"true\" d=\"\" pointer-events=\"none\" display=\"none\"/></g></g><g class=\"mark-rect role-mark child_marks\" role=\"graphics-object\" aria-roledescription=\"rect mark container\"><path aria-label=\"x: Delhi - New Delhi; Count of Records: 18\" role=\"graphics-symbol\" aria-roledescription=\"bar\" d=\"M61,160h18v40h-18Z\" fill=\"#4c78a8\"/><path aria-label=\"x: Chandigarh; Count of Records: 5\" role=\"graphics-symbol\" aria-roledescription=\"bar\" d=\"M41,188.88888888888889h18v11.111111111111114h-18Z\" fill=\"#4c78a8\"/><path aria-label=\"x: Jammu; Count of Records: 13\" role=\"graphics-symbol\" aria-roledescription=\"bar\" d=\"M101,171.11111111111111h18v28.888888888888886h-18Z\" fill=\"#4c78a8\"/><path aria-label=\"x: Srinagar; Count of Records: 90\" role=\"graphics-symbol\" aria-roledescription=\"bar\" d=\"M141,0h18v200h-18Z\" fill=\"#4c78a8\"/><path aria-label=\"x: Ludhiana; Count of Records: 7\" role=\"graphics-symbol\" aria-roledescription=\"bar\" d=\"M121,184.44444444444446h18v15.555555555555543h-18Z\" fill=\"#4c78a8\"/><path aria-label=\"x: Imphal; Count of Records: 21\" role=\"graphics-symbol\" aria-roledescription=\"bar\" d=\"M81,153.33333333333331h18v46.666666666666686h-18Z\" fill=\"#4c78a8\"/><path aria-label=\"x: Amritsar; Count of Records: 4\" role=\"graphics-symbol\" aria-roledescription=\"bar\" d=\"M1,191.11111111111111h18v8.888888888888886h-18Z\" fill=\"#4c78a8\"/><path aria-label=\"x: Bathinda; Count of Records: 5\" role=\"graphics-symbol\" aria-roledescription=\"bar\" d=\"M21,188.88888888888889h18v11.111111111111114h-18Z\" fill=\"#4c78a8\"/></g></g><path class=\"foreground\" aria-hidden=\"true\" d=\"\" display=\"none\"/></g><g transform=\"translate(728,0)\"><path class=\"background\" aria-hidden=\"true\" d=\"M0.5,0.5h160v200h-160Z\" stroke=\"#ddd\"/><g><g class=\"mark-group role-axis\" aria-hidden=\"true\"><g transform=\"translate(0.5,0.5)\"><path class=\"background\" aria-hidden=\"true\" d=\"M0,0h0v0h0Z\" pointer-events=\"none\"/><g><g class=\"mark-rule role-axis-grid\" pointer-events=\"none\"><line transform=\"translate(0,200)\" x2=\"160\" y2=\"0\" stroke=\"#ddd\" stroke-width=\"1\" opacity=\"1\"/><line transform=\"translate(0,156)\" x2=\"160\" y2=\"0\" stroke=\"#ddd\" stroke-width=\"1\" opacity=\"1\"/><line transform=\"translate(0,111)\" x2=\"160\" y2=\"0\" stroke=\"#ddd\" stroke-width=\"1\" opacity=\"1\"/><line transform=\"translate(0,67)\" x2=\"160\" y2=\"0\" stroke=\"#ddd\" stroke-width=\"1\" opacity=\"1\"/><line transform=\"translate(0,22)\" x2=\"160\" y2=\"0\" stroke=\"#ddd\" stroke-width=\"1\" opacity=\"1\"/></g></g><path class=\"foreground\" aria-hidden=\"true\" d=\"\" pointer-events=\"none\" display=\"none\"/></g></g><g class=\"mark-rect role-mark child_marks\" role=\"graphics-object\" aria-roledescription=\"rect mark container\"><path aria-label=\"x: Bathinda; Count of Records: 3\" role=\"graphics-symbol\" aria-roledescription=\"bar\" d=\"M21,193.33333333333334h18v6.666666666666657h-18Z\" fill=\"#4c78a8\"/><path aria-label=\"x: Jammu; Count of Records: 9\" role=\"graphics-symbol\" aria-roledescription=\"bar\" d=\"M101,180h18v20h-18Z\" fill=\"#4c78a8\"/><path aria-label=\"x: Chandigarh; Count of Records: 2\" role=\"graphics-symbol\" aria-roledescription=\"bar\" d=\"M41,195.55555555555554h18v4.444444444444457h-18Z\" fill=\"#4c78a8\"/><path aria-label=\"x: Imphal; Count of Records: 2\" role=\"graphics-symbol\" aria-roledescription=\"bar\" d=\"M81,195.55555555555554h18v4.444444444444457h-18Z\" fill=\"#4c78a8\"/><path aria-label=\"x: Delhi - New Delhi; Count of Records: 10\" role=\"graphics-symbol\" aria-roledescription=\"bar\" d=\"M61,177.77777777777777h18v22.22222222222223h-18Z\" fill=\"#4c78a8\"/><path aria-label=\"x: Srinagar; Count of Records: 7\" role=\"graphics-symbol\" aria-roledescription=\"bar\" d=\"M141,184.44444444444446h18v15.555555555555543h-18Z\" fill=\"#4c78a8\"/><path aria-label=\"x: Ludhiana; Count of Records: 2\" role=\"graphics-symbol\" aria-roledescription=\"bar\" d=\"M121,195.55555555555554h18v4.444444444444457h-18Z\" fill=\"#4c78a8\"/><path aria-label=\"x: Amritsar; Count of Records: 3\" role=\"graphics-symbol\" aria-roledescription=\"bar\" d=\"M1,193.33333333333334h18v6.666666666666657h-18Z\" fill=\"#4c78a8\"/></g></g><path class=\"foreground\" aria-hidden=\"true\" d=\"\" display=\"none\"/></g><g transform=\"translate(910,0)\"><path class=\"background\" aria-hidden=\"true\" d=\"M0.5,0.5h160v200h-160Z\" stroke=\"#ddd\"/><g><g class=\"mark-group role-axis\" aria-hidden=\"true\"><g transform=\"translate(0.5,0.5)\"><path class=\"background\" aria-hidden=\"true\" d=\"M0,0h0v0h0Z\" pointer-events=\"none\"/><g><g class=\"mark-rule role-axis-grid\" pointer-events=\"none\"><line transform=\"translate(0,200)\" x2=\"160\" y2=\"0\" stroke=\"#ddd\" stroke-width=\"1\" opacity=\"1\"/><line transform=\"translate(0,156)\" x2=\"160\" y2=\"0\" stroke=\"#ddd\" stroke-width=\"1\" opacity=\"1\"/><line transform=\"translate(0,111)\" x2=\"160\" y2=\"0\" stroke=\"#ddd\" stroke-width=\"1\" opacity=\"1\"/><line transform=\"translate(0,67)\" x2=\"160\" y2=\"0\" stroke=\"#ddd\" stroke-width=\"1\" opacity=\"1\"/><line transform=\"translate(0,22)\" x2=\"160\" y2=\"0\" stroke=\"#ddd\" stroke-width=\"1\" opacity=\"1\"/></g></g><path class=\"foreground\" aria-hidden=\"true\" d=\"\" pointer-events=\"none\" display=\"none\"/></g></g><g class=\"mark-rect role-mark child_marks\" role=\"graphics-object\" aria-roledescription=\"rect mark container\"><path aria-label=\"x: Chandigarh; Count of Records: 9\" role=\"graphics-symbol\" aria-roledescription=\"bar\" d=\"M41,180h18v20h-18Z\" fill=\"#4c78a8\"/><path aria-label=\"x: Bathinda; Count of Records: 4\" role=\"graphics-symbol\" aria-roledescription=\"bar\" d=\"M21,191.11111111111111h18v8.888888888888886h-18Z\" fill=\"#4c78a8\"/><path aria-label=\"x: Imphal; Count of Records: 1\" role=\"graphics-symbol\" aria-roledescription=\"bar\" d=\"M81,197.77777777777777h18v2.2222222222222285h-18Z\" fill=\"#4c78a8\"/><path aria-label=\"x: Jammu; Count of Records: 17\" role=\"graphics-symbol\" aria-roledescription=\"bar\" d=\"M101,162.22222222222223h18v37.77777777777777h-18Z\" fill=\"#4c78a8\"/><path aria-label=\"x: Ludhiana; Count of Records: 6\" role=\"graphics-symbol\" aria-roledescription=\"bar\" d=\"M121,186.66666666666666h18v13.333333333333343h-18Z\" fill=\"#4c78a8\"/><path aria-label=\"x: Delhi - New Delhi; Count of Records: 5\" role=\"graphics-symbol\" aria-roledescription=\"bar\" d=\"M61,188.88888888888889h18v11.111111111111114h-18Z\" fill=\"#4c78a8\"/><path aria-label=\"x: Srinagar; Count of Records: 1\" role=\"graphics-symbol\" aria-roledescription=\"bar\" d=\"M141,197.77777777777777h18v2.2222222222222285h-18Z\" fill=\"#4c78a8\"/><path aria-label=\"x: Amritsar; Count of Records: 3\" role=\"graphics-symbol\" aria-roledescription=\"bar\" d=\"M1,193.33333333333334h18v6.666666666666657h-18Z\" fill=\"#4c78a8\"/></g></g><path class=\"foreground\" aria-hidden=\"true\" d=\"\" display=\"none\"/></g><g transform=\"translate(1092,0)\"><path class=\"background\" aria-hidden=\"true\" d=\"M0.5,0.5h160v200h-160Z\" stroke=\"#ddd\"/><g><g class=\"mark-group role-axis\" aria-hidden=\"true\"><g transform=\"translate(0.5,0.5)\"><path class=\"background\" aria-hidden=\"true\" d=\"M0,0h0v0h0Z\" pointer-events=\"none\"/><g><g class=\"mark-rule role-axis-grid\" pointer-events=\"none\"><line transform=\"translate(0,200)\" x2=\"160\" y2=\"0\" stroke=\"#ddd\" stroke-width=\"1\" opacity=\"1\"/><line transform=\"translate(0,156)\" x2=\"160\" y2=\"0\" stroke=\"#ddd\" stroke-width=\"1\" opacity=\"1\"/><line transform=\"translate(0,111)\" x2=\"160\" y2=\"0\" stroke=\"#ddd\" stroke-width=\"1\" opacity=\"1\"/><line transform=\"translate(0,67)\" x2=\"160\" y2=\"0\" stroke=\"#ddd\" stroke-width=\"1\" opacity=\"1\"/><line transform=\"translate(0,22)\" x2=\"160\" y2=\"0\" stroke=\"#ddd\" stroke-width=\"1\" opacity=\"1\"/></g></g><path class=\"foreground\" aria-hidden=\"true\" d=\"\" pointer-events=\"none\" display=\"none\"/></g></g><g class=\"mark-rect role-mark child_marks\" role=\"graphics-object\" aria-roledescription=\"rect mark container\"><path aria-label=\"x: Imphal; Count of Records: 5\" role=\"graphics-symbol\" aria-roledescription=\"bar\" d=\"M81,188.88888888888889h18v11.111111111111114h-18Z\" fill=\"#4c78a8\"/><path aria-label=\"x: Delhi - New Delhi; Count of Records: 1\" role=\"graphics-symbol\" aria-roledescription=\"bar\" d=\"M61,197.77777777777777h18v2.2222222222222285h-18Z\" fill=\"#4c78a8\"/></g></g><path class=\"foreground\" aria-hidden=\"true\" d=\"\" display=\"none\"/></g></g><g class=\"mark-group role-title\"><g transform=\"translate(-35,-38)\"><path class=\"background\" aria-hidden=\"true\" d=\"M0,0h0v0h0Z\" pointer-events=\"none\"/><g><g class=\"mark-text role-title-text\" role=\"graphics-symbol\" aria-roledescription=\"title\" aria-label=\"Title text 'Riots - Violent demonstration'\" pointer-events=\"none\"><text text-anchor=\"start\" transform=\"translate(0,10)\" font-family=\"sans-serif\" font-size=\"13px\" font-weight=\"bold\" fill=\"#000\" opacity=\"1\">Riots - Violent demonstration</text></g></g><path class=\"foreground\" aria-hidden=\"true\" d=\"\" pointer-events=\"none\" display=\"none\"/></g></g></g><path class=\"foreground\" aria-hidden=\"true\" d=\"\" display=\"none\"/></g></g></g></svg>\n"
      ],
      "text/plain": [
       "@vlplot(\n",
       "    title=\"Riots - Violent demonstration\",\n",
       "    mark=\"bar\",\n",
       "    encoding={\n",
       "        column={\n",
       "            field=\"column\",\n",
       "            title=nothing\n",
       "        },\n",
       "        x={\n",
       "            field=\"x\",\n",
       "            title=nothing\n",
       "        },\n",
       "        y={\n",
       "            aggregate=\"count\",\n",
       "            type=\"quantitative\"\n",
       "        }\n",
       "    },\n",
       "    data={\n",
       "        values=...\n",
       "    }\n",
       ")"
      ]
     },
     "execution_count": 37,
     "metadata": {},
     "output_type": "execute_result"
    },
    {
     "name": "stderr",
     "output_type": "stream",
     "text": [
      "WARN column encoding should be discrete (ordinal / nominal / binned).\n",
      "WARN column encoding should be discrete (ordinal / nominal / binned).\n"
     ]
    }
   ],
   "source": [
    "plot_cities_all"
   ]
  },
  {
   "cell_type": "code",
   "execution_count": 38,
   "id": "e7b3a908",
   "metadata": {},
   "outputs": [],
   "source": [
    "#myslę, że się przyda...\n",
    "#Funkcja wyswietlajaca wszystkie zdarzenia w zadanym dniu\n",
    "function the_day(data, date)\n",
    "    df = @from i in data begin\n",
    "        @where i.event_date == date\n",
    "        @select {i.event_date, i.event_type, i.sub_event_type, i.location, i.fatalities,i.notes}\n",
    "        @collect DataFrame\n",
    "    end\n",
    "    return (Set(df.event_type), Set(df.sub_event_type), Set(df.location), Set(df.fatalities), df)\n",
    "end;"
   ]
  },
  {
   "cell_type": "code",
   "execution_count": 39,
   "id": "6ab7cb88",
   "metadata": {},
   "outputs": [],
   "source": [
    "event_t, sub_event_t, cities, fatalities, df_day = the_day(df, \"17 June 2017\");"
   ]
  },
  {
   "cell_type": "code",
   "execution_count": 40,
   "id": "8ffdf35d-f65d-4280-b0a9-d2be26bfff97",
   "metadata": {},
   "outputs": [
    {
     "data": {
      "text/html": [
       "<div class=\"data-frame\"><p>40 rows × 6 columns</p><table class=\"data-frame\"><thead><tr><th></th><th>event_date</th><th>event_type</th><th>sub_event_type</th><th>location</th><th>fatalities</th><th>notes</th></tr><tr><th></th><th title=\"String31\">String31</th><th title=\"String31\">String31</th><th title=\"String63\">String63</th><th title=\"String31\">String31</th><th title=\"Int64\">Int64</th><th title=\"String\">String</th></tr></thead><tbody><tr><th>1</th><td>17 June 2017</td><td>Protests</td><td>Peaceful protest</td><td>Dehradun</td><td>0</td><td>Illegal squatters protested their forced removal by authorities on June 17 in Dehradun.</td></tr><tr><th>2</th><td>17 June 2017</td><td>Protests</td><td>Peaceful protest</td><td>Bengaluru</td><td>0</td><td>Members of Child Rights and Shared Parenting staged a protest in Bengaluru on 17 June 2017 demanding mandatory shared parenting and speedy child custody trials.</td></tr><tr><th>3</th><td>17 June 2017</td><td>Protests</td><td>Peaceful protest</td><td>Pakala</td><td>0</td><td>Residents of Krishnapuram staged a protest in Pakala on 17 June 2017 against irregular power supply in the area.</td></tr><tr><th>4</th><td>17 June 2017</td><td>Protests</td><td>Peaceful protest</td><td>Chitradurga</td><td>0</td><td>Members of the District Congress Committee staged a protest in Chitradurga on 17 June 2017 demanding the waiver of farm loans and compensation for the families of protesting farmers killed by police.</td></tr><tr><th>5</th><td>17 June 2017</td><td>Protests</td><td>Peaceful protest</td><td>Coimbatore</td><td>0</td><td>CPI(M) staged a protest in Coimbatore on 17 June 2017 against an attack on their office.</td></tr><tr><th>6</th><td>17 June 2017</td><td>Protests</td><td>Peaceful protest</td><td>Gandoh</td><td>0</td><td>In Gandoh, Rehber-e-Taleem (ReT) teachers of mountains Zone Bhatyas and Gandoh of Doda district carried out a protest march against the government for failing to release their monthly salaries.</td></tr><tr><th>7</th><td>17 June 2017</td><td>Protests</td><td>Peaceful protest</td><td>Jammu</td><td>0</td><td>The workers of Dogra Front &amp; Shiv Sena took out a protest in Jammu city against the killing of 6 police personnel in southern Anantnag by allegedly Pakistan sponsored militants.</td></tr><tr><th>8</th><td>17 June 2017</td><td>Protests</td><td>Peaceful protest</td><td>Jammu</td><td>0</td><td>JKNPP staged a protest at Exhibition Ground in Jammu in support of the Polytechnic lecturers&apos; agitation for regularization.</td></tr><tr><th>9</th><td>17 June 2017</td><td>Protests</td><td>Peaceful protest</td><td>Jammu</td><td>0</td><td>Protests erupted in Jammy following a militant attack on police in Anantnag in which 6 were killed.</td></tr><tr><th>10</th><td>17 June 2017</td><td>Protests</td><td>Peaceful protest</td><td>Jammu</td><td>0</td><td>All J&amp;K Polytechnics Academic Arrangements Association continued their dharna for regularization at Exhibition Ground Jammu.</td></tr><tr><th>11</th><td>17 June 2017</td><td>Protests</td><td>Peaceful protest</td><td>Kiramchi</td><td>0</td><td>The locals of Kiramchi today staged a protest against the district administration over the dilapidated condition of Krimchi-Panchari road.</td></tr><tr><th>12</th><td>17 June 2017</td><td>Riots</td><td>Mob violence</td><td>Coimbatore</td><td>0</td><td>A petrol bomb was hurled at the office of the Communist Party of India (Marxist) (CPI (M)) in Tamil Nadu&apos;s Coimbatore. The culprits are hitherto unidentified. The incident occurred in the early hours of Saturday morning. There were no casualties.</td></tr><tr><th>13</th><td>17 June 2017</td><td>Protests</td><td>Peaceful protest</td><td>Ahmedabad</td><td>0</td><td>Nearly 80 volunteers of Harijan Ashram Bachao Samiti were detained on June 17 from outside Gandhi Ashram where they were protesting exclusion from centenary celebrations organized by the ashram authorities.</td></tr><tr><th>14</th><td>17 June 2017</td><td>Protests</td><td>Peaceful protest</td><td>Dehradun</td><td>0</td><td>Suicide by a farmer in Berinag tehsil of Pithoragarh has caused a protest at several places in Uttarakhand.</td></tr><tr><th>15</th><td>17 June 2017</td><td>Protests</td><td>Peaceful protest</td><td>Dehradun</td><td>0</td><td>Suicide by a farmer in Berinag tehsil of Pithoragarh led to the Congress staging a demonstration in Dehradun and burnt the effigies of the Central and state governments on June 17.</td></tr><tr><th>16</th><td>17 June 2017</td><td>Protests</td><td>Peaceful protest</td><td>Jodhpur</td><td>0</td><td>In Jodhpur, as part of their state wide protests farmers blocked Paota intersection and Vagad area farmers have warned that they would also block road when chief minister Vasundhara Raje would come to Tripura Sundari Temple ON June 17.</td></tr><tr><th>17</th><td>17 June 2017</td><td>Protests</td><td>Peaceful protest</td><td>Keorak</td><td>0</td><td>Farmers and activists of the Aam Aadmi Party (AAP) today took out a procession in Keorak village on June 17, adopted by Chief Minister Manohar Lal Khattar, to protest killing of six farmers in police firing in Madhya Pradesh.</td></tr><tr><th>18</th><td>17 June 2017</td><td>Protests</td><td>Peaceful protest</td><td>Kilorad</td><td>0</td><td>Farmers blocked National Highway-709 at Kilorad village in Rohtak district, also on the highway between Rohtak and Gohana to press their demands on farm loan waivers.</td></tr><tr><th>19</th><td>17 June 2017</td><td>Riots</td><td>Violent demonstration</td><td>Singamari</td><td>3</td><td>1 police officer and 2 GJM activists were killed when huge clashes took place between the two in the Singamari area north of Darjeeling. The riot was part of a larger agitation for statehood by the group, which saw thousands in the street rioting.</td></tr><tr><th>20</th><td>17 June 2017</td><td>Protests</td><td>Peaceful protest</td><td>Sri Ganganagar</td><td>0</td><td>Protesting farmers in Rajasthan blocked National Highway 62 in Sriganganagar for three hours in order to agitate for their demands related to resolution of various problems on June 17.</td></tr><tr><th>21</th><td>17 June 2017</td><td>Protests</td><td>Peaceful protest</td><td>Visakhapatnam</td><td>0</td><td>The district unit of YSRCP staged a protest against rowdy TDP MP JC Diwakar Reddy in front of the Visakhapatnam airport on Saturday evening.</td></tr><tr><th>22</th><td>17 June 2017</td><td>Protests</td><td>Peaceful protest</td><td>Dehradun</td><td>0</td><td>Over 500 cloth merchants held demonstrations in Dehradun on June 17 against the Goods and Services Tax (GST).</td></tr><tr><th>23</th><td>17 June 2017</td><td>Protests</td><td>Peaceful protest</td><td>Kashipur</td><td>0</td><td>Shopkeepers held a day-long protest in Kashipur on June 17 against the Goods and Services Tax (GST).</td></tr><tr><th>24</th><td>17 June 2017</td><td>Protests</td><td>Peaceful protest</td><td>Kotdwara</td><td>0</td><td>Shopkeepers held a day-long protest in Kotdwar on June 17 against the Goods and Services Tax (GST).</td></tr><tr><th>25</th><td>17 June 2017</td><td>Protests</td><td>Peaceful protest</td><td>Nainital</td><td>0</td><td>Shopkeepers held a day-long protest in Nainital on June 17 against the Goods and Services Tax (GST).</td></tr><tr><th>26</th><td>17 June 2017</td><td>Protests</td><td>Peaceful protest</td><td>Roorkee</td><td>0</td><td>Shopkeepers held a day-long protest in Roorkee on June 17 against the Goods and Services Tax (GST).</td></tr><tr><th>27</th><td>17 June 2017</td><td>Protests</td><td>Peaceful protest</td><td>Barpeta</td><td>0</td><td>Youths and students in Barpeta took out a rally against the town committee, alleging its inaction in repairing a road in the ward.</td></tr><tr><th>28</th><td>17 June 2017</td><td>Riots</td><td>Violent demonstration</td><td>Ghoom</td><td>1</td><td>On June 17, in Ghoom, 1 GJM supporter was killed in clashes with police when pro-independence riots broke out in Ghoom. Thousands of supporters felled trees to block police vehicles while they rioted in the streets.</td></tr><tr><th>29</th><td>17 June 2017</td><td>Protests</td><td>Peaceful protest</td><td>Kaithal</td><td>0</td><td>Farmers and member of AAP they marched to Hisar-Chandigarh Highway where they burnt an effigy of MP Chief Minister Shivraj Singh Chouhan to protest the killing of farmers in MP.</td></tr><tr><th>30</th><td>17 June 2017</td><td>Riots</td><td>Violent demonstration</td><td>Kurseong</td><td>0</td><td>On June 17, in Kurseong, thousands of GJM supporters in Kurseong felled trees to block police vehicles while they rioted in the streets and clashed with police.</td></tr><tr><th>&vellip;</th><td>&vellip;</td><td>&vellip;</td><td>&vellip;</td><td>&vellip;</td><td>&vellip;</td><td>&vellip;</td></tr></tbody></table></div>"
      ],
      "text/latex": [
       "\\begin{tabular}{r|cccccc}\n",
       "\t& event\\_date & event\\_type & sub\\_event\\_type & location & fatalities & notes\\\\\n",
       "\t\\hline\n",
       "\t& String31 & String31 & String63 & String31 & Int64 & String\\\\\n",
       "\t\\hline\n",
       "\t1 & 17 June 2017 & Protests & Peaceful protest & Dehradun & 0 & Illegal squatters protested their forced removal by authorities on June 17 in Dehradun. \\\\\n",
       "\t2 & 17 June 2017 & Protests & Peaceful protest & Bengaluru & 0 & Members of Child Rights and Shared Parenting staged a protest in Bengaluru on 17 June 2017 demanding mandatory shared parenting and speedy child custody trials. \\\\\n",
       "\t3 & 17 June 2017 & Protests & Peaceful protest & Pakala & 0 & Residents of Krishnapuram staged a protest in Pakala on 17 June 2017 against irregular power supply in the area. \\\\\n",
       "\t4 & 17 June 2017 & Protests & Peaceful protest & Chitradurga & 0 & Members of the District Congress Committee staged a protest in Chitradurga on 17 June 2017 demanding the waiver of farm loans and compensation for the families of protesting farmers killed by police. \\\\\n",
       "\t5 & 17 June 2017 & Protests & Peaceful protest & Coimbatore & 0 & CPI(M) staged a protest in Coimbatore on 17 June 2017 against an attack on their office. \\\\\n",
       "\t6 & 17 June 2017 & Protests & Peaceful protest & Gandoh & 0 & In Gandoh, Rehber-e-Taleem (ReT) teachers of mountains Zone Bhatyas and Gandoh of Doda district carried out a protest march against the government for failing to release their monthly salaries. \\\\\n",
       "\t7 & 17 June 2017 & Protests & Peaceful protest & Jammu & 0 & The workers of Dogra Front \\& Shiv Sena took out a protest in Jammu city against the killing of 6 police personnel in southern Anantnag by allegedly Pakistan sponsored militants. \\\\\n",
       "\t8 & 17 June 2017 & Protests & Peaceful protest & Jammu & 0 & JKNPP staged a protest at Exhibition Ground in Jammu in support of the Polytechnic lecturers' agitation for regularization. \\\\\n",
       "\t9 & 17 June 2017 & Protests & Peaceful protest & Jammu & 0 & Protests erupted in Jammy following a militant attack on police in Anantnag in which 6 were killed. \\\\\n",
       "\t10 & 17 June 2017 & Protests & Peaceful protest & Jammu & 0 & All J\\&K Polytechnics Academic Arrangements Association continued their dharna for regularization at Exhibition Ground Jammu. \\\\\n",
       "\t11 & 17 June 2017 & Protests & Peaceful protest & Kiramchi & 0 & The locals of Kiramchi today staged a protest against the district administration over the dilapidated condition of Krimchi-Panchari road. \\\\\n",
       "\t12 & 17 June 2017 & Riots & Mob violence & Coimbatore & 0 & A petrol bomb was hurled at the office of the Communist Party of India (Marxist) (CPI (M)) in Tamil Nadu's Coimbatore. The culprits are hitherto unidentified. The incident occurred in the early hours of Saturday morning. There were no casualties. \\\\\n",
       "\t13 & 17 June 2017 & Protests & Peaceful protest & Ahmedabad & 0 & Nearly 80 volunteers of Harijan Ashram Bachao Samiti were detained on June 17 from outside Gandhi Ashram where they were protesting exclusion from centenary celebrations organized by the ashram authorities. \\\\\n",
       "\t14 & 17 June 2017 & Protests & Peaceful protest & Dehradun & 0 & Suicide by a farmer in Berinag tehsil of Pithoragarh has caused a protest at several places in Uttarakhand. \\\\\n",
       "\t15 & 17 June 2017 & Protests & Peaceful protest & Dehradun & 0 & Suicide by a farmer in Berinag tehsil of Pithoragarh led to the Congress staging a demonstration in Dehradun and burnt the effigies of the Central and state governments on June 17. \\\\\n",
       "\t16 & 17 June 2017 & Protests & Peaceful protest & Jodhpur & 0 & In Jodhpur, as part of their state wide protests farmers blocked Paota intersection and Vagad area farmers have warned that they would also block road when chief minister Vasundhara Raje would come to Tripura Sundari Temple ON June 17. \\\\\n",
       "\t17 & 17 June 2017 & Protests & Peaceful protest & Keorak & 0 & Farmers and activists of the Aam Aadmi Party (AAP) today took out a procession in Keorak village on June 17, adopted by Chief Minister Manohar Lal Khattar, to protest killing of six farmers in police firing in Madhya Pradesh. \\\\\n",
       "\t18 & 17 June 2017 & Protests & Peaceful protest & Kilorad & 0 & Farmers blocked National Highway-709 at Kilorad village in Rohtak district, also on the highway between Rohtak and Gohana to press their demands on farm loan waivers. \\\\\n",
       "\t19 & 17 June 2017 & Riots & Violent demonstration & Singamari & 3 & 1 police officer and 2 GJM activists were killed when huge clashes took place between the two in the Singamari area north of Darjeeling. The riot was part of a larger agitation for statehood by the group, which saw thousands in the street rioting. \\\\\n",
       "\t20 & 17 June 2017 & Protests & Peaceful protest & Sri Ganganagar & 0 & Protesting farmers in Rajasthan blocked National Highway 62 in Sriganganagar for three hours in order to agitate for their demands related to resolution of various problems on June 17. \\\\\n",
       "\t21 & 17 June 2017 & Protests & Peaceful protest & Visakhapatnam & 0 & The district unit of YSRCP staged a protest against rowdy TDP MP JC Diwakar Reddy in front of the Visakhapatnam airport on Saturday evening. \\\\\n",
       "\t22 & 17 June 2017 & Protests & Peaceful protest & Dehradun & 0 & Over 500 cloth merchants held demonstrations in Dehradun on June 17 against the Goods and Services Tax (GST). \\\\\n",
       "\t23 & 17 June 2017 & Protests & Peaceful protest & Kashipur & 0 & Shopkeepers held a day-long protest in Kashipur on June 17 against the Goods and Services Tax (GST). \\\\\n",
       "\t24 & 17 June 2017 & Protests & Peaceful protest & Kotdwara & 0 & Shopkeepers held a day-long protest in Kotdwar on June 17 against the Goods and Services Tax (GST). \\\\\n",
       "\t25 & 17 June 2017 & Protests & Peaceful protest & Nainital & 0 & Shopkeepers held a day-long protest in Nainital on June 17 against the Goods and Services Tax (GST). \\\\\n",
       "\t26 & 17 June 2017 & Protests & Peaceful protest & Roorkee & 0 & Shopkeepers held a day-long protest in Roorkee on June 17 against the Goods and Services Tax (GST). \\\\\n",
       "\t27 & 17 June 2017 & Protests & Peaceful protest & Barpeta & 0 & Youths and students in Barpeta took out a rally against the town committee, alleging its inaction in repairing a road in the ward. \\\\\n",
       "\t28 & 17 June 2017 & Riots & Violent demonstration & Ghoom & 1 & On June 17, in Ghoom, 1 GJM supporter was killed in clashes with police when pro-independence riots broke out in Ghoom. Thousands of supporters felled trees to block police vehicles while they rioted in the streets. \\\\\n",
       "\t29 & 17 June 2017 & Protests & Peaceful protest & Kaithal & 0 & Farmers and member of AAP they marched to Hisar-Chandigarh Highway where they burnt an effigy of MP Chief Minister Shivraj Singh Chouhan to protest the killing of farmers in MP. \\\\\n",
       "\t30 & 17 June 2017 & Riots & Violent demonstration & Kurseong & 0 & On June 17, in Kurseong, thousands of GJM supporters in Kurseong felled trees to block police vehicles while they rioted in the streets and clashed with police. \\\\\n",
       "\t$\\dots$ & $\\dots$ & $\\dots$ & $\\dots$ & $\\dots$ & $\\dots$ & $\\dots$ \\\\\n",
       "\\end{tabular}\n"
      ],
      "text/plain": [
       "\u001b[1m40×6 DataFrame\u001b[0m\n",
       "\u001b[1m Row \u001b[0m│\u001b[1m event_date   \u001b[0m\u001b[1m event_type                 \u001b[0m\u001b[1m sub_event_type        \u001b[0m\u001b[1m locati\u001b[0m ⋯\n",
       "\u001b[1m     \u001b[0m│\u001b[90m String31     \u001b[0m\u001b[90m String31                   \u001b[0m\u001b[90m String63              \u001b[0m\u001b[90m String\u001b[0m ⋯\n",
       "─────┼──────────────────────────────────────────────────────────────────────────\n",
       "   1 │ 17 June 2017  Protests                    Peaceful protest       Dehrad ⋯\n",
       "   2 │ 17 June 2017  Protests                    Peaceful protest       Bengal\n",
       "   3 │ 17 June 2017  Protests                    Peaceful protest       Pakala\n",
       "   4 │ 17 June 2017  Protests                    Peaceful protest       Chitra\n",
       "   5 │ 17 June 2017  Protests                    Peaceful protest       Coimba ⋯\n",
       "   6 │ 17 June 2017  Protests                    Peaceful protest       Gandoh\n",
       "   7 │ 17 June 2017  Protests                    Peaceful protest       Jammu\n",
       "   8 │ 17 June 2017  Protests                    Peaceful protest       Jammu\n",
       "   9 │ 17 June 2017  Protests                    Peaceful protest       Jammu  ⋯\n",
       "  10 │ 17 June 2017  Protests                    Peaceful protest       Jammu\n",
       "  11 │ 17 June 2017  Protests                    Peaceful protest       Kiramc\n",
       "  ⋮  │      ⋮                    ⋮                         ⋮                 ⋮ ⋱\n",
       "  31 │ 17 June 2017  Battles                     Armed clash            Bijbeh\n",
       "  32 │ 17 June 2017  Violence against civilians  Attack                 Pulwam ⋯\n",
       "  33 │ 17 June 2017  Violence against civilians  Attack                 Jamui\n",
       "  34 │ 17 June 2017  Riots                       Violent demonstration  Kanpur\n",
       "  35 │ 17 June 2017  Battles                     Armed clash            Darjee\n",
       "  36 │ 17 June 2017  Protests                    Peaceful protest       Srinag ⋯\n",
       "  37 │ 17 June 2017  Protests                    Peaceful protest       Srinag\n",
       "  38 │ 17 June 2017  Riots                       Mob violence           Budgam\n",
       "  39 │ 17 June 2017  Battles                     Armed clash            Doniwa\n",
       "  40 │ 17 June 2017  Battles                     Armed clash            Chatar ⋯\n",
       "\u001b[36m                                                   3 columns and 19 rows omitted\u001b[0m"
      ]
     },
     "execution_count": 40,
     "metadata": {},
     "output_type": "execute_result"
    }
   ],
   "source": [
    "df_day"
   ]
  },
  {
   "cell_type": "code",
   "execution_count": 60,
   "id": "368297a5",
   "metadata": {},
   "outputs": [],
   "source": [
    "#Funkcja zliczająca średnią skalę ofiar w danym roku w zależności od miast\n",
    "function count_fatalities(data, year = \"default\", kind = mean)\n",
    "    if year != \"default\"\n",
    "        df = @from i in data begin\n",
    "            @where i.year == year\n",
    "            @select {i.location, i.year, i.latitude, i.longitude, i.fatalities}\n",
    "            @collect DataFrame\n",
    "        end\n",
    "    else\n",
    "        df = @from i in data begin\n",
    "                @select {i.location, i.year, i.latitude, i.longitude, i.fatalities}\n",
    "                @collect DataFrame\n",
    "            end\n",
    "    end\n",
    "    group = groupby(df, [:location, :year, :latitude, :longitude])\n",
    "    groupped = combine(group, :fatalities .=> kind)\n",
    "    return groupped\n",
    "end;"
   ]
  },
  {
   "cell_type": "code",
   "execution_count": 62,
   "id": "b10fe7c2",
   "metadata": {},
   "outputs": [
    {
     "data": {
      "text/html": [
       "<div class=\"data-frame\"><p>3,616 rows × 5 columns</p><table class=\"data-frame\"><thead><tr><th></th><th>location</th><th>year</th><th>latitude</th><th>longitude</th><th>fatalities_sum</th></tr><tr><th></th><th title=\"String31\">String31</th><th title=\"Int64\">Int64</th><th title=\"Float64\">Float64</th><th title=\"Float64\">Float64</th><th title=\"Int64\">Int64</th></tr></thead><tbody><tr><th>1</th><td>Srinagar</td><td>2020</td><td>34.0857</td><td>74.8056</td><td>23</td></tr><tr><th>2</th><td>Amritsar</td><td>2020</td><td>31.6344</td><td>74.8728</td><td>2</td></tr><tr><th>3</th><td>Allahabad</td><td>2020</td><td>25.4447</td><td>81.8432</td><td>3</td></tr><tr><th>4</th><td>Sagam</td><td>2020</td><td>33.6115</td><td>75.2623</td><td>0</td></tr><tr><th>5</th><td>Guwahati</td><td>2020</td><td>26.1892</td><td>91.7722</td><td>0</td></tr><tr><th>6</th><td>Kurnool</td><td>2020</td><td>15.8276</td><td>78.0338</td><td>0</td></tr><tr><th>7</th><td>Shahjahanpur</td><td>2020</td><td>28.0033</td><td>76.4551</td><td>0</td></tr><tr><th>8</th><td>Dadri</td><td>2020</td><td>28.5525</td><td>77.554</td><td>0</td></tr><tr><th>9</th><td>Baraut</td><td>2020</td><td>29.1019</td><td>77.2633</td><td>0</td></tr><tr><th>10</th><td>Agra</td><td>2020</td><td>27.1833</td><td>78.0166</td><td>0</td></tr><tr><th>11</th><td>Siddipet</td><td>2020</td><td>18.1025</td><td>78.8516</td><td>0</td></tr><tr><th>12</th><td>Baishnabnagar</td><td>2020</td><td>24.8368</td><td>87.9777</td><td>0</td></tr><tr><th>13</th><td>Raiganj</td><td>2020</td><td>25.6128</td><td>88.1244</td><td>2</td></tr><tr><th>14</th><td>Nandigram</td><td>2020</td><td>22.0003</td><td>88.0034</td><td>0</td></tr><tr><th>15</th><td>Theni</td><td>2020</td><td>10.0153</td><td>77.482</td><td>0</td></tr><tr><th>16</th><td>Hyderabad</td><td>2020</td><td>17.384</td><td>78.4563</td><td>0</td></tr><tr><th>17</th><td>Aurangabad</td><td>2020</td><td>24.745</td><td>84.3788</td><td>1</td></tr><tr><th>18</th><td>Delhi - Mundka</td><td>2020</td><td>28.6831</td><td>77.0354</td><td>0</td></tr><tr><th>19</th><td>Narela</td><td>2020</td><td>28.8575</td><td>77.0939</td><td>0</td></tr><tr><th>20</th><td>Delhi - Patparganj</td><td>2020</td><td>28.6331</td><td>77.3067</td><td>0</td></tr><tr><th>21</th><td>Delhi - Shalimar Bagh</td><td>2020</td><td>28.7176</td><td>77.1563</td><td>0</td></tr><tr><th>22</th><td>Delhi - Trilokpuri</td><td>2020</td><td>28.6033</td><td>77.3079</td><td>0</td></tr><tr><th>23</th><td>Delhi - New Delhi</td><td>2020</td><td>28.6321</td><td>77.2244</td><td>56</td></tr><tr><th>24</th><td>Chandigarh</td><td>2020</td><td>30.7362</td><td>76.7884</td><td>0</td></tr><tr><th>25</th><td>Jaisinghpur Khera</td><td>2020</td><td>28.0563</td><td>76.5021</td><td>0</td></tr><tr><th>26</th><td>Sangrur</td><td>2020</td><td>30.245</td><td>75.8448</td><td>0</td></tr><tr><th>27</th><td>Dhani</td><td>2020</td><td>34.3449</td><td>73.8208</td><td>0</td></tr><tr><th>28</th><td>Hajitra</td><td>2020</td><td>34.3451</td><td>73.8276</td><td>0</td></tr><tr><th>29</th><td>Kirni</td><td>2020</td><td>33.7907</td><td>74.1579</td><td>7</td></tr><tr><th>30</th><td>Lawaypora</td><td>2020</td><td>34.119</td><td>74.6996</td><td>6</td></tr><tr><th>&vellip;</th><td>&vellip;</td><td>&vellip;</td><td>&vellip;</td><td>&vellip;</td><td>&vellip;</td></tr></tbody></table></div>"
      ],
      "text/latex": [
       "\\begin{tabular}{r|ccccc}\n",
       "\t& location & year & latitude & longitude & fatalities\\_sum\\\\\n",
       "\t\\hline\n",
       "\t& String31 & Int64 & Float64 & Float64 & Int64\\\\\n",
       "\t\\hline\n",
       "\t1 & Srinagar & 2020 & 34.0857 & 74.8056 & 23 \\\\\n",
       "\t2 & Amritsar & 2020 & 31.6344 & 74.8728 & 2 \\\\\n",
       "\t3 & Allahabad & 2020 & 25.4447 & 81.8432 & 3 \\\\\n",
       "\t4 & Sagam & 2020 & 33.6115 & 75.2623 & 0 \\\\\n",
       "\t5 & Guwahati & 2020 & 26.1892 & 91.7722 & 0 \\\\\n",
       "\t6 & Kurnool & 2020 & 15.8276 & 78.0338 & 0 \\\\\n",
       "\t7 & Shahjahanpur & 2020 & 28.0033 & 76.4551 & 0 \\\\\n",
       "\t8 & Dadri & 2020 & 28.5525 & 77.554 & 0 \\\\\n",
       "\t9 & Baraut & 2020 & 29.1019 & 77.2633 & 0 \\\\\n",
       "\t10 & Agra & 2020 & 27.1833 & 78.0166 & 0 \\\\\n",
       "\t11 & Siddipet & 2020 & 18.1025 & 78.8516 & 0 \\\\\n",
       "\t12 & Baishnabnagar & 2020 & 24.8368 & 87.9777 & 0 \\\\\n",
       "\t13 & Raiganj & 2020 & 25.6128 & 88.1244 & 2 \\\\\n",
       "\t14 & Nandigram & 2020 & 22.0003 & 88.0034 & 0 \\\\\n",
       "\t15 & Theni & 2020 & 10.0153 & 77.482 & 0 \\\\\n",
       "\t16 & Hyderabad & 2020 & 17.384 & 78.4563 & 0 \\\\\n",
       "\t17 & Aurangabad & 2020 & 24.745 & 84.3788 & 1 \\\\\n",
       "\t18 & Delhi - Mundka & 2020 & 28.6831 & 77.0354 & 0 \\\\\n",
       "\t19 & Narela & 2020 & 28.8575 & 77.0939 & 0 \\\\\n",
       "\t20 & Delhi - Patparganj & 2020 & 28.6331 & 77.3067 & 0 \\\\\n",
       "\t21 & Delhi - Shalimar Bagh & 2020 & 28.7176 & 77.1563 & 0 \\\\\n",
       "\t22 & Delhi - Trilokpuri & 2020 & 28.6033 & 77.3079 & 0 \\\\\n",
       "\t23 & Delhi - New Delhi & 2020 & 28.6321 & 77.2244 & 56 \\\\\n",
       "\t24 & Chandigarh & 2020 & 30.7362 & 76.7884 & 0 \\\\\n",
       "\t25 & Jaisinghpur Khera & 2020 & 28.0563 & 76.5021 & 0 \\\\\n",
       "\t26 & Sangrur & 2020 & 30.245 & 75.8448 & 0 \\\\\n",
       "\t27 & Dhani & 2020 & 34.3449 & 73.8208 & 0 \\\\\n",
       "\t28 & Hajitra & 2020 & 34.3451 & 73.8276 & 0 \\\\\n",
       "\t29 & Kirni & 2020 & 33.7907 & 74.1579 & 7 \\\\\n",
       "\t30 & Lawaypora & 2020 & 34.119 & 74.6996 & 6 \\\\\n",
       "\t$\\dots$ & $\\dots$ & $\\dots$ & $\\dots$ & $\\dots$ & $\\dots$ \\\\\n",
       "\\end{tabular}\n"
      ],
      "text/plain": [
       "\u001b[1m3616×5 DataFrame\u001b[0m\n",
       "\u001b[1m  Row \u001b[0m│\u001b[1m location      \u001b[0m\u001b[1m year  \u001b[0m\u001b[1m latitude \u001b[0m\u001b[1m longitude \u001b[0m\u001b[1m fatalities_sum \u001b[0m\n",
       "\u001b[1m      \u001b[0m│\u001b[90m String31      \u001b[0m\u001b[90m Int64 \u001b[0m\u001b[90m Float64  \u001b[0m\u001b[90m Float64   \u001b[0m\u001b[90m Int64          \u001b[0m\n",
       "──────┼───────────────────────────────────────────────────────────\n",
       "    1 │ Srinagar        2020   34.0857    74.8056              23\n",
       "    2 │ Amritsar        2020   31.6344    74.8728               2\n",
       "    3 │ Allahabad       2020   25.4447    81.8432               3\n",
       "    4 │ Sagam           2020   33.6115    75.2623               0\n",
       "    5 │ Guwahati        2020   26.1892    91.7722               0\n",
       "    6 │ Kurnool         2020   15.8276    78.0338               0\n",
       "    7 │ Shahjahanpur    2020   28.0033    76.4551               0\n",
       "    8 │ Dadri           2020   28.5525    77.554                0\n",
       "    9 │ Baraut          2020   29.1019    77.2633               0\n",
       "   10 │ Agra            2020   27.1833    78.0166               0\n",
       "   11 │ Siddipet        2020   18.1025    78.8516               0\n",
       "  ⋮   │       ⋮          ⋮       ⋮          ⋮            ⋮\n",
       " 3607 │ Chamata         2020   26.4066    91.3261               0\n",
       " 3608 │ Bahjani         2020   26.0413    91.2469               0\n",
       " 3609 │ Kaithalkuchi    2020   26.4555    91.326                0\n",
       " 3610 │ Tihu            2020   26.4758    91.2668               0\n",
       " 3611 │ Barbhag         2020   26.5341    91.5238               0\n",
       " 3612 │ Ghograpar       2020   26.4542    91.5269               0\n",
       " 3613 │ Gulmarg         2020   34.0482    74.3806               0\n",
       " 3614 │ Habial          2020   26.6404    93.9759               0\n",
       " 3615 │ Hire Bagewadi   2020   15.7767    74.6366               0\n",
       " 3616 │ Sarthebari      2020   26.3641    91.2226               0\n",
       "\u001b[36m                                                 3595 rows omitted\u001b[0m"
      ]
     },
     "execution_count": 62,
     "metadata": {},
     "output_type": "execute_result"
    }
   ],
   "source": [
    "count_fatalities(df, 2020, sum)"
   ]
  },
  {
   "cell_type": "code",
   "execution_count": 43,
   "id": "4e2c8480-31dc-47dd-8d35-ffa6da96c71d",
   "metadata": {},
   "outputs": [],
   "source": [
    "#Funkcja zliczająca ilość protestów w wybranym mieście, miesiącu i roku"
   ]
  },
  {
   "cell_type": "code",
   "execution_count": 124,
   "id": "12f20e3f",
   "metadata": {},
   "outputs": [
    {
     "data": {
      "text/plain": [
       "counter_protests (generic function with 2 methods)"
      ]
     },
     "execution_count": 124,
     "metadata": {},
     "output_type": "execute_result"
    }
   ],
   "source": [
    "function counter_protests(data, year, city)\n",
    "    dat = year_data(data, year, city)\n",
    "    group = groupby(dat, [:event_date, :sub_event_type])\n",
    "    groupped = combine(group, :event_type .=> sum)\n",
    "    return dat\n",
    "end\n",
    "    "
   ]
  },
  {
   "cell_type": "code",
   "execution_count": 125,
   "id": "339fe939",
   "metadata": {},
   "outputs": [
    {
     "ename": "LoadError",
     "evalue": "MethodError: no method matching +(::String31, ::String31)\n\u001b[0mClosest candidates are:\n\u001b[0m  +(::Any, ::Any, \u001b[91m::Any\u001b[39m, \u001b[91m::Any...\u001b[39m) at /opt/julia-1.7.2/share/julia/base/operators.jl:655\n\u001b[0m  +(\u001b[91m::Union{MathOptInterface.ScalarAffineFunction{T}, MathOptInterface.ScalarQuadraticFunction{T}}\u001b[39m, ::T) where T at ~/.julia/packages/MathOptInterface/ajp5T/src/Utilities/functions.jl:1764\n\u001b[0m  +(\u001b[91m::ChainRulesCore.Tangent{P}\u001b[39m, ::P) where P at ~/.julia/packages/ChainRulesCore/RbX5a/src/tangent_arithmetic.jl:146\n\u001b[0m  ...",
     "output_type": "error",
     "traceback": [
      "MethodError: no method matching +(::String31, ::String31)\n\u001b[0mClosest candidates are:\n\u001b[0m  +(::Any, ::Any, \u001b[91m::Any\u001b[39m, \u001b[91m::Any...\u001b[39m) at /opt/julia-1.7.2/share/julia/base/operators.jl:655\n\u001b[0m  +(\u001b[91m::Union{MathOptInterface.ScalarAffineFunction{T}, MathOptInterface.ScalarQuadraticFunction{T}}\u001b[39m, ::T) where T at ~/.julia/packages/MathOptInterface/ajp5T/src/Utilities/functions.jl:1764\n\u001b[0m  +(\u001b[91m::ChainRulesCore.Tangent{P}\u001b[39m, ::P) where P at ~/.julia/packages/ChainRulesCore/RbX5a/src/tangent_arithmetic.jl:146\n\u001b[0m  ...",
      "",
      "Stacktrace:",
      " [1] _combine(gd::GroupedDataFrame{DataFrame}, cs_norm::Vector{Any}, optional_transform::Vector{Bool}, copycols::Bool, keeprows::Bool, renamecols::Bool)",
      "   @ DataFrames ~/.julia/packages/DataFrames/zqFGs/src/groupeddataframe/splitapplycombine.jl:604",
      " [2] _combine_prepare_norm(gd::GroupedDataFrame{DataFrame}, cs_vec::Vector{Any}, keepkeys::Bool, ungroup::Bool, copycols::Bool, keeprows::Bool, renamecols::Bool)",
      "   @ DataFrames ~/.julia/packages/DataFrames/zqFGs/src/groupeddataframe/splitapplycombine.jl:84",
      " [3] _combine_prepare(gd::GroupedDataFrame{DataFrame}, ::Base.RefValue{Any}; keepkeys::Bool, ungroup::Bool, copycols::Bool, keeprows::Bool, renamecols::Bool)",
      "   @ DataFrames ~/.julia/packages/DataFrames/zqFGs/src/groupeddataframe/splitapplycombine.jl:50",
      " [4] #combine#671",
      "   @ ~/.julia/packages/DataFrames/zqFGs/src/groupeddataframe/splitapplycombine.jl:710 [inlined]",
      " [5] combine",
      "   @ ~/.julia/packages/DataFrames/zqFGs/src/groupeddataframe/splitapplycombine.jl:710 [inlined]",
      " [6] counter_protests(data::DataFrame, year::Int64, city::String)",
      "   @ Main ./In[124]:4",
      " [7] top-level scope",
      "   @ In[125]:1",
      " [8] eval",
      "   @ ./boot.jl:373 [inlined]",
      " [9] include_string(mapexpr::typeof(REPL.softscope), mod::Module, code::String, filename::String)",
      "   @ Base ./loading.jl:1196"
     ]
    }
   ],
   "source": [
    "counter_protests(df, 2020, \"Imphal\")"
   ]
  },
  {
   "cell_type": "code",
   "execution_count": null,
   "id": "8959f1d2",
   "metadata": {},
   "outputs": [],
   "source": []
  },
  {
   "cell_type": "code",
   "execution_count": null,
   "id": "0bd196fe",
   "metadata": {},
   "outputs": [],
   "source": []
  },
  {
   "cell_type": "markdown",
   "id": "027d8056-10a2-44b3-94d0-5c0daa55180e",
   "metadata": {},
   "source": [
    "---"
   ]
  },
  {
   "cell_type": "markdown",
   "id": "210f2d79-516c-423f-820d-8c347649c2e7",
   "metadata": {},
   "source": [
    "## Wstępne modelowanie predykcyjne"
   ]
  },
  {
   "cell_type": "markdown",
   "id": "3af3c616-a686-4a2a-876f-b6934b9dce68",
   "metadata": {},
   "source": [
    "---"
   ]
  },
  {
   "cell_type": "code",
   "execution_count": 7,
   "id": "b839da96-de24-4066-8f4a-a7527711a30a",
   "metadata": {},
   "outputs": [],
   "source": [
    "model_data = DataFrame(t=dat[1], n=dat[2]);"
   ]
  },
  {
   "cell_type": "code",
   "execution_count": 8,
   "id": "7429ee21-549e-4963-ab61-f21188bf56df",
   "metadata": {},
   "outputs": [],
   "source": [
    "md = DataFrame(t=Int64[], n=Int64[])\n",
    "for day in 1:(leap ? 366 : 365)\n",
    "    push!(md, day in model_data.t ? Matrix(model_data[in(day).(model_data.t), :]) : [day, 0])\n",
    "end;"
   ]
  },
  {
   "cell_type": "code",
   "execution_count": 9,
   "id": "6cad00a2-06a4-4136-a606-ad9344862bed",
   "metadata": {},
   "outputs": [
    {
     "data": {
      "text/html": [
       "<div class=\"data-frame\"><p>8 rows × 2 columns</p><table class=\"data-frame\"><thead><tr><th></th><th>n</th><th>nrow</th></tr><tr><th></th><th title=\"Int64\">Int64</th><th title=\"Int64\">Int64</th></tr></thead><tbody><tr><th>1</th><td>0</td><td>183</td></tr><tr><th>2</th><td>1</td><td>103</td></tr><tr><th>3</th><td>2</td><td>53</td></tr><tr><th>4</th><td>3</td><td>18</td></tr><tr><th>5</th><td>4</td><td>4</td></tr><tr><th>6</th><td>5</td><td>1</td></tr><tr><th>7</th><td>6</td><td>2</td></tr><tr><th>8</th><td>7</td><td>1</td></tr></tbody></table></div>"
      ],
      "text/latex": [
       "\\begin{tabular}{r|cc}\n",
       "\t& n & nrow\\\\\n",
       "\t\\hline\n",
       "\t& Int64 & Int64\\\\\n",
       "\t\\hline\n",
       "\t1 & 0 & 183 \\\\\n",
       "\t2 & 1 & 103 \\\\\n",
       "\t3 & 2 & 53 \\\\\n",
       "\t4 & 3 & 18 \\\\\n",
       "\t5 & 4 & 4 \\\\\n",
       "\t6 & 5 & 1 \\\\\n",
       "\t7 & 6 & 2 \\\\\n",
       "\t8 & 7 & 1 \\\\\n",
       "\\end{tabular}\n"
      ],
      "text/plain": [
       "\u001b[1m8×2 DataFrame\u001b[0m\n",
       "\u001b[1m Row \u001b[0m│\u001b[1m n     \u001b[0m\u001b[1m nrow  \u001b[0m\n",
       "\u001b[1m     \u001b[0m│\u001b[90m Int64 \u001b[0m\u001b[90m Int64 \u001b[0m\n",
       "─────┼──────────────\n",
       "   1 │     0    183\n",
       "   2 │     1    103\n",
       "   3 │     2     53\n",
       "   4 │     3     18\n",
       "   5 │     4      4\n",
       "   6 │     5      1\n",
       "   7 │     6      2\n",
       "   8 │     7      1"
      ]
     },
     "execution_count": 9,
     "metadata": {},
     "output_type": "execute_result"
    }
   ],
   "source": [
    "mod = combine(groupby(md, :n), nrow)"
   ]
  },
  {
   "cell_type": "code",
   "execution_count": 10,
   "id": "18794b69-ada5-45d7-b6e0-2dcf5fad808a",
   "metadata": {},
   "outputs": [],
   "source": [
    "sum(mod[!,2]) |> sum -> mod[!,2] ./= sum;"
   ]
  },
  {
   "cell_type": "code",
   "execution_count": 11,
   "id": "f679c8da-c0fa-402c-98d7-90b1e1506854",
   "metadata": {},
   "outputs": [
    {
     "data": {
      "application/vnd.vegalite.v4+json": {
       "data": {
        "values": [
         {
          "n": 0,
          "nrow": 0.5013698630136987
         },
         {
          "n": 1,
          "nrow": 0.2821917808219178
         },
         {
          "n": 2,
          "nrow": 0.14520547945205478
         },
         {
          "n": 3,
          "nrow": 0.049315068493150684
         },
         {
          "n": 4,
          "nrow": 0.010958904109589041
         },
         {
          "n": 5,
          "nrow": 0.0027397260273972603
         },
         {
          "n": 6,
          "nrow": 0.005479452054794521
         },
         {
          "n": 7,
          "nrow": 0.0027397260273972603
         }
        ]
       },
       "encoding": {
        "x": {
         "field": "n",
         "type": "quantitative"
        },
        "y": {
         "field": "nrow",
         "type": "quantitative"
        }
       },
       "height": 600,
       "mark": "bar",
       "title": "Poisson-styled reprezentation of data",
       "width": 1200
      },
      "image/png": "[encoded data removed]",
      "image/svg+xml": [
       "<?xml version=\"1.0\" encoding=\"utf-8\"?>\n",
       "<!DOCTYPE svg PUBLIC \"-//W3C//DTD SVG 1.1//EN\" \"http://www.w3.org/Graphics/SVG/1.1/DTD/svg11.dtd\">\n",
       "<svg xmlns=\"http://www.w3.org/2000/svg\" xmlns:xlink=\"http://www.w3.org/1999/xlink\" version=\"1.1\" class=\"marks\" width=\"1251\" height=\"664\" viewBox=\"0 0 1251 664\"><rect width=\"1251\" height=\"664\" fill=\"white\"/><g fill=\"none\" stroke-miterlimit=\"10\" transform=\"translate(45,27)\"><g class=\"mark-group role-frame root\" role=\"graphics-object\" aria-roledescription=\"group mark container\"><g transform=\"translate(0,0)\"><path class=\"background\" aria-hidden=\"true\" d=\"M0.5,0.5h1200v600h-1200Z\" stroke=\"#ddd\"/><g><g class=\"mark-group role-axis\" aria-hidden=\"true\"><g transform=\"translate(0.5,600.5)\"><path class=\"background\" aria-hidden=\"true\" d=\"M0,0h0v0h0Z\" pointer-events=\"none\"/><g><g class=\"mark-rule role-axis-grid\" pointer-events=\"none\"><line transform=\"translate(0,-600)\" x2=\"0\" y2=\"600\" stroke=\"#ddd\" stroke-width=\"1\" opacity=\"1\"/><line transform=\"translate(27,-600)\" x2=\"0\" y2=\"600\" stroke=\"#ddd\" stroke-width=\"1\" opacity=\"1\"/><line transform=\"translate(53,-600)\" x2=\"0\" y2=\"600\" stroke=\"#ddd\" stroke-width=\"1\" opacity=\"1\"/><line transform=\"translate(80,-600)\" x2=\"0\" y2=\"600\" stroke=\"#ddd\" stroke-width=\"1\" opacity=\"1\"/><line transform=\"translate(107,-600)\" x2=\"0\" y2=\"600\" stroke=\"#ddd\" stroke-width=\"1\" opacity=\"1\"/><line transform=\"translate(133,-600)\" x2=\"0\" y2=\"600\" stroke=\"#ddd\" stroke-width=\"1\" opacity=\"1\"/><line transform=\"translate(160,-600)\" x2=\"0\" y2=\"600\" stroke=\"#ddd\" stroke-width=\"1\" opacity=\"1\"/><line transform=\"translate(187,-600)\" x2=\"0\" y2=\"600\" stroke=\"#ddd\" stroke-width=\"1\" opacity=\"1\"/><line transform=\"translate(213,-600)\" x2=\"0\" y2=\"600\" stroke=\"#ddd\" stroke-width=\"1\" opacity=\"1\"/><line transform=\"translate(240,-600)\" x2=\"0\" y2=\"600\" stroke=\"#ddd\" stroke-width=\"1\" opacity=\"1\"/><line transform=\"translate(267,-600)\" x2=\"0\" y2=\"600\" stroke=\"#ddd\" stroke-width=\"1\" opacity=\"1\"/><line transform=\"translate(293,-600)\" x2=\"0\" y2=\"600\" stroke=\"#ddd\" stroke-width=\"1\" opacity=\"1\"/><line transform=\"translate(320,-600)\" x2=\"0\" y2=\"600\" stroke=\"#ddd\" stroke-width=\"1\" opacity=\"1\"/><line transform=\"translate(347,-600)\" x2=\"0\" y2=\"600\" stroke=\"#ddd\" stroke-width=\"1\" opacity=\"1\"/><line transform=\"translate(373,-600)\" x2=\"0\" y2=\"600\" stroke=\"#ddd\" stroke-width=\"1\" opacity=\"1\"/><line transform=\"translate(400,-600)\" x2=\"0\" y2=\"600\" stroke=\"#ddd\" stroke-width=\"1\" opacity=\"1\"/><line transform=\"translate(427,-600)\" x2=\"0\" y2=\"600\" stroke=\"#ddd\" stroke-width=\"1\" opacity=\"1\"/><line transform=\"translate(453,-600)\" x2=\"0\" y2=\"600\" stroke=\"#ddd\" stroke-width=\"1\" opacity=\"1\"/><line transform=\"translate(480,-600)\" x2=\"0\" y2=\"600\" stroke=\"#ddd\" stroke-width=\"1\" opacity=\"1\"/><line transform=\"translate(507,-600)\" x2=\"0\" y2=\"600\" stroke=\"#ddd\" stroke-width=\"1\" opacity=\"1\"/><line transform=\"translate(533,-600)\" x2=\"0\" y2=\"600\" stroke=\"#ddd\" stroke-width=\"1\" opacity=\"1\"/><line transform=\"translate(560,-600)\" x2=\"0\" y2=\"600\" stroke=\"#ddd\" stroke-width=\"1\" opacity=\"1\"/><line transform=\"translate(587,-600)\" x2=\"0\" y2=\"600\" stroke=\"#ddd\" stroke-width=\"1\" opacity=\"1\"/><line transform=\"translate(613,-600)\" x2=\"0\" y2=\"600\" stroke=\"#ddd\" stroke-width=\"1\" opacity=\"1\"/><line transform=\"translate(640,-600)\" x2=\"0\" y2=\"600\" stroke=\"#ddd\" stroke-width=\"1\" opacity=\"1\"/><line transform=\"translate(667,-600)\" x2=\"0\" y2=\"600\" stroke=\"#ddd\" stroke-width=\"1\" opacity=\"1\"/><line transform=\"translate(693,-600)\" x2=\"0\" y2=\"600\" stroke=\"#ddd\" stroke-width=\"1\" opacity=\"1\"/><line transform=\"translate(720,-600)\" x2=\"0\" y2=\"600\" stroke=\"#ddd\" stroke-width=\"1\" opacity=\"1\"/><line transform=\"translate(747,-600)\" x2=\"0\" y2=\"600\" stroke=\"#ddd\" stroke-width=\"1\" opacity=\"1\"/><line transform=\"translate(773,-600)\" x2=\"0\" y2=\"600\" stroke=\"#ddd\" stroke-width=\"1\" opacity=\"1\"/><line transform=\"translate(800,-600)\" x2=\"0\" y2=\"600\" stroke=\"#ddd\" stroke-width=\"1\" opacity=\"1\"/><line transform=\"translate(827,-600)\" x2=\"0\" y2=\"600\" stroke=\"#ddd\" stroke-width=\"1\" opacity=\"1\"/><line transform=\"translate(853,-600)\" x2=\"0\" y2=\"600\" stroke=\"#ddd\" stroke-width=\"1\" opacity=\"1\"/><line transform=\"translate(880,-600)\" x2=\"0\" y2=\"600\" stroke=\"#ddd\" stroke-width=\"1\" opacity=\"1\"/><line transform=\"translate(907,-600)\" x2=\"0\" y2=\"600\" stroke=\"#ddd\" stroke-width=\"1\" opacity=\"1\"/><line transform=\"translate(933,-600)\" x2=\"0\" y2=\"600\" stroke=\"#ddd\" stroke-width=\"1\" opacity=\"1\"/><line transform=\"translate(960,-600)\" x2=\"0\" y2=\"600\" stroke=\"#ddd\" stroke-width=\"1\" opacity=\"1\"/><line transform=\"translate(987,-600)\" x2=\"0\" y2=\"600\" stroke=\"#ddd\" stroke-width=\"1\" opacity=\"1\"/><line transform=\"translate(1013,-600)\" x2=\"0\" y2=\"600\" stroke=\"#ddd\" stroke-width=\"1\" opacity=\"1\"/><line transform=\"translate(1040,-600)\" x2=\"0\" y2=\"600\" stroke=\"#ddd\" stroke-width=\"1\" opacity=\"1\"/><line transform=\"translate(1067,-600)\" x2=\"0\" y2=\"600\" stroke=\"#ddd\" stroke-width=\"1\" opacity=\"1\"/><line transform=\"translate(1093,-600)\" x2=\"0\" y2=\"600\" stroke=\"#ddd\" stroke-width=\"1\" opacity=\"1\"/><line transform=\"translate(1120,-600)\" x2=\"0\" y2=\"600\" stroke=\"#ddd\" stroke-width=\"1\" opacity=\"1\"/><line transform=\"translate(1147,-600)\" x2=\"0\" y2=\"600\" stroke=\"#ddd\" stroke-width=\"1\" opacity=\"1\"/><line transform=\"translate(1173,-600)\" x2=\"0\" y2=\"600\" stroke=\"#ddd\" stroke-width=\"1\" opacity=\"1\"/><line transform=\"translate(1200,-600)\" x2=\"0\" y2=\"600\" stroke=\"#ddd\" stroke-width=\"1\" opacity=\"1\"/></g></g><path class=\"foreground\" aria-hidden=\"true\" d=\"\" pointer-events=\"none\" display=\"none\"/></g></g><g class=\"mark-group role-axis\" aria-hidden=\"true\"><g transform=\"translate(0.5,0.5)\"><path class=\"background\" aria-hidden=\"true\" d=\"M0,0h0v0h0Z\" pointer-events=\"none\"/><g><g class=\"mark-rule role-axis-grid\" pointer-events=\"none\"><line transform=\"translate(0,600)\" x2=\"1200\" y2=\"0\" stroke=\"#ddd\" stroke-width=\"1\" opacity=\"1\"/><line transform=\"translate(0,545)\" x2=\"1200\" y2=\"0\" stroke=\"#ddd\" stroke-width=\"1\" opacity=\"1\"/><line transform=\"translate(0,491)\" x2=\"1200\" y2=\"0\" stroke=\"#ddd\" stroke-width=\"1\" opacity=\"1\"/><line transform=\"translate(0,436)\" x2=\"1200\" y2=\"0\" stroke=\"#ddd\" stroke-width=\"1\" opacity=\"1\"/><line transform=\"translate(0,382)\" x2=\"1200\" y2=\"0\" stroke=\"#ddd\" stroke-width=\"1\" opacity=\"1\"/><line transform=\"translate(0,327)\" x2=\"1200\" y2=\"0\" stroke=\"#ddd\" stroke-width=\"1\" opacity=\"1\"/><line transform=\"translate(0,273)\" x2=\"1200\" y2=\"0\" stroke=\"#ddd\" stroke-width=\"1\" opacity=\"1\"/><line transform=\"translate(0,218)\" x2=\"1200\" y2=\"0\" stroke=\"#ddd\" stroke-width=\"1\" opacity=\"1\"/><line transform=\"translate(0,164)\" x2=\"1200\" y2=\"0\" stroke=\"#ddd\" stroke-width=\"1\" opacity=\"1\"/><line transform=\"translate(0,109)\" x2=\"1200\" y2=\"0\" stroke=\"#ddd\" stroke-width=\"1\" opacity=\"1\"/><line transform=\"translate(0,55)\" x2=\"1200\" y2=\"0\" stroke=\"#ddd\" stroke-width=\"1\" opacity=\"1\"/><line transform=\"translate(0,0)\" x2=\"1200\" y2=\"0\" stroke=\"#ddd\" stroke-width=\"1\" opacity=\"1\"/></g></g><path class=\"foreground\" aria-hidden=\"true\" d=\"\" pointer-events=\"none\" display=\"none\"/></g></g><g class=\"mark-group role-axis\" role=\"graphics-symbol\" aria-roledescription=\"axis\" aria-label=\"X-axis titled 'n' for a linear scale with values from −1 to 8\"><g transform=\"translate(0.5,600.5)\"><path class=\"background\" aria-hidden=\"true\" d=\"M0,0h0v0h0Z\" pointer-events=\"none\"/><g><g class=\"mark-rule role-axis-tick\" pointer-events=\"none\"><line transform=\"translate(0,0)\" x2=\"0\" y2=\"5\" stroke=\"#888\" stroke-width=\"1\" opacity=\"1\"/><line transform=\"translate(27,0)\" x2=\"0\" y2=\"5\" stroke=\"#888\" stroke-width=\"1\" opacity=\"1\"/><line transform=\"translate(53,0)\" x2=\"0\" y2=\"5\" stroke=\"#888\" stroke-width=\"1\" opacity=\"1\"/><line transform=\"translate(80,0)\" x2=\"0\" y2=\"5\" stroke=\"#888\" stroke-width=\"1\" opacity=\"1\"/><line transform=\"translate(107,0)\" x2=\"0\" y2=\"5\" stroke=\"#888\" stroke-width=\"1\" opacity=\"1\"/><line transform=\"translate(133,0)\" x2=\"0\" y2=\"5\" stroke=\"#888\" stroke-width=\"1\" opacity=\"1\"/><line transform=\"translate(160,0)\" x2=\"0\" y2=\"5\" stroke=\"#888\" stroke-width=\"1\" opacity=\"1\"/><line transform=\"translate(187,0)\" x2=\"0\" y2=\"5\" stroke=\"#888\" stroke-width=\"1\" opacity=\"1\"/><line transform=\"translate(213,0)\" x2=\"0\" y2=\"5\" stroke=\"#888\" stroke-width=\"1\" opacity=\"1\"/><line transform=\"translate(240,0)\" x2=\"0\" y2=\"5\" stroke=\"#888\" stroke-width=\"1\" opacity=\"1\"/><line transform=\"translate(267,0)\" x2=\"0\" y2=\"5\" stroke=\"#888\" stroke-width=\"1\" opacity=\"1\"/><line transform=\"translate(293,0)\" x2=\"0\" y2=\"5\" stroke=\"#888\" stroke-width=\"1\" opacity=\"1\"/><line transform=\"translate(320,0)\" x2=\"0\" y2=\"5\" stroke=\"#888\" stroke-width=\"1\" opacity=\"1\"/><line transform=\"translate(347,0)\" x2=\"0\" y2=\"5\" stroke=\"#888\" stroke-width=\"1\" opacity=\"1\"/><line transform=\"translate(373,0)\" x2=\"0\" y2=\"5\" stroke=\"#888\" stroke-width=\"1\" opacity=\"1\"/><line transform=\"translate(400,0)\" x2=\"0\" y2=\"5\" stroke=\"#888\" stroke-width=\"1\" opacity=\"1\"/><line transform=\"translate(427,0)\" x2=\"0\" y2=\"5\" stroke=\"#888\" stroke-width=\"1\" opacity=\"1\"/><line transform=\"translate(453,0)\" x2=\"0\" y2=\"5\" stroke=\"#888\" stroke-width=\"1\" opacity=\"1\"/><line transform=\"translate(480,0)\" x2=\"0\" y2=\"5\" stroke=\"#888\" stroke-width=\"1\" opacity=\"1\"/><line transform=\"translate(507,0)\" x2=\"0\" y2=\"5\" stroke=\"#888\" stroke-width=\"1\" opacity=\"1\"/><line transform=\"translate(533,0)\" x2=\"0\" y2=\"5\" stroke=\"#888\" stroke-width=\"1\" opacity=\"1\"/><line transform=\"translate(560,0)\" x2=\"0\" y2=\"5\" stroke=\"#888\" stroke-width=\"1\" opacity=\"1\"/><line transform=\"translate(587,0)\" x2=\"0\" y2=\"5\" stroke=\"#888\" stroke-width=\"1\" opacity=\"1\"/><line transform=\"translate(613,0)\" x2=\"0\" y2=\"5\" stroke=\"#888\" stroke-width=\"1\" opacity=\"1\"/><line transform=\"translate(640,0)\" x2=\"0\" y2=\"5\" stroke=\"#888\" stroke-width=\"1\" opacity=\"1\"/><line transform=\"translate(667,0)\" x2=\"0\" y2=\"5\" stroke=\"#888\" stroke-width=\"1\" opacity=\"1\"/><line transform=\"translate(693,0)\" x2=\"0\" y2=\"5\" stroke=\"#888\" stroke-width=\"1\" opacity=\"1\"/><line transform=\"translate(720,0)\" x2=\"0\" y2=\"5\" stroke=\"#888\" stroke-width=\"1\" opacity=\"1\"/><line transform=\"translate(747,0)\" x2=\"0\" y2=\"5\" stroke=\"#888\" stroke-width=\"1\" opacity=\"1\"/><line transform=\"translate(773,0)\" x2=\"0\" y2=\"5\" stroke=\"#888\" stroke-width=\"1\" opacity=\"1\"/><line transform=\"translate(800,0)\" x2=\"0\" y2=\"5\" stroke=\"#888\" stroke-width=\"1\" opacity=\"1\"/><line transform=\"translate(827,0)\" x2=\"0\" y2=\"5\" stroke=\"#888\" stroke-width=\"1\" opacity=\"1\"/><line transform=\"translate(853,0)\" x2=\"0\" y2=\"5\" stroke=\"#888\" stroke-width=\"1\" opacity=\"1\"/><line transform=\"translate(880,0)\" x2=\"0\" y2=\"5\" stroke=\"#888\" stroke-width=\"1\" opacity=\"1\"/><line transform=\"translate(907,0)\" x2=\"0\" y2=\"5\" stroke=\"#888\" stroke-width=\"1\" opacity=\"1\"/><line transform=\"translate(933,0)\" x2=\"0\" y2=\"5\" stroke=\"#888\" stroke-width=\"1\" opacity=\"1\"/><line transform=\"translate(960,0)\" x2=\"0\" y2=\"5\" stroke=\"#888\" stroke-width=\"1\" opacity=\"1\"/><line transform=\"translate(987,0)\" x2=\"0\" y2=\"5\" stroke=\"#888\" stroke-width=\"1\" opacity=\"1\"/><line transform=\"translate(1013,0)\" x2=\"0\" y2=\"5\" stroke=\"#888\" stroke-width=\"1\" opacity=\"1\"/><line transform=\"translate(1040,0)\" x2=\"0\" y2=\"5\" stroke=\"#888\" stroke-width=\"1\" opacity=\"1\"/><line transform=\"translate(1067,0)\" x2=\"0\" y2=\"5\" stroke=\"#888\" stroke-width=\"1\" opacity=\"1\"/><line transform=\"translate(1093,0)\" x2=\"0\" y2=\"5\" stroke=\"#888\" stroke-width=\"1\" opacity=\"1\"/><line transform=\"translate(1120,0)\" x2=\"0\" y2=\"5\" stroke=\"#888\" stroke-width=\"1\" opacity=\"1\"/><line transform=\"translate(1147,0)\" x2=\"0\" y2=\"5\" stroke=\"#888\" stroke-width=\"1\" opacity=\"1\"/><line transform=\"translate(1173,0)\" x2=\"0\" y2=\"5\" stroke=\"#888\" stroke-width=\"1\" opacity=\"1\"/><line transform=\"translate(1200,0)\" x2=\"0\" y2=\"5\" stroke=\"#888\" stroke-width=\"1\" opacity=\"1\"/></g><g class=\"mark-text role-axis-label\" pointer-events=\"none\"><text text-anchor=\"start\" transform=\"translate(0,15)\" font-family=\"sans-serif\" font-size=\"10px\" fill=\"#000\" opacity=\"1\">−1.0</text><text text-anchor=\"middle\" transform=\"translate(26.66666666666666,15)\" font-family=\"sans-serif\" font-size=\"10px\" fill=\"#000\" opacity=\"0\">−0.8</text><text text-anchor=\"middle\" transform=\"translate(53.333333333333336,15)\" font-family=\"sans-serif\" font-size=\"10px\" fill=\"#000\" opacity=\"1\">−0.6</text><text text-anchor=\"middle\" transform=\"translate(80,15)\" font-family=\"sans-serif\" font-size=\"10px\" fill=\"#000\" opacity=\"0\">−0.4</text><text text-anchor=\"middle\" transform=\"translate(106.66666666666667,15)\" font-family=\"sans-serif\" font-size=\"10px\" fill=\"#000\" opacity=\"1\">−0.2</text><text text-anchor=\"middle\" transform=\"translate(133.33333333333331,15)\" font-family=\"sans-serif\" font-size=\"10px\" fill=\"#000\" opacity=\"0\">0.0</text><text text-anchor=\"middle\" transform=\"translate(160,15)\" font-family=\"sans-serif\" font-size=\"10px\" fill=\"#000\" opacity=\"1\">0.2</text><text text-anchor=\"middle\" transform=\"translate(186.66666666666666,15)\" font-family=\"sans-serif\" font-size=\"10px\" fill=\"#000\" opacity=\"0\">0.4</text><text text-anchor=\"middle\" transform=\"translate(213.33333333333334,15)\" font-family=\"sans-serif\" font-size=\"10px\" fill=\"#000\" opacity=\"1\">0.6</text><text text-anchor=\"middle\" transform=\"translate(240,15)\" font-family=\"sans-serif\" font-size=\"10px\" fill=\"#000\" opacity=\"0\">0.8</text><text text-anchor=\"middle\" transform=\"translate(266.66666666666663,15)\" font-family=\"sans-serif\" font-size=\"10px\" fill=\"#000\" opacity=\"1\">1.0</text><text text-anchor=\"middle\" transform=\"translate(293.33333333333337,15)\" font-family=\"sans-serif\" font-size=\"10px\" fill=\"#000\" opacity=\"0\">1.2</text><text text-anchor=\"middle\" transform=\"translate(320,15)\" font-family=\"sans-serif\" font-size=\"10px\" fill=\"#000\" opacity=\"1\">1.4</text><text text-anchor=\"middle\" transform=\"translate(346.6666666666667,15)\" font-family=\"sans-serif\" font-size=\"10px\" fill=\"#000\" opacity=\"0\">1.6</text><text text-anchor=\"middle\" transform=\"translate(373.3333333333333,15)\" font-family=\"sans-serif\" font-size=\"10px\" fill=\"#000\" opacity=\"1\">1.8</text><text text-anchor=\"middle\" transform=\"translate(400,15)\" font-family=\"sans-serif\" font-size=\"10px\" fill=\"#000\" opacity=\"0\">2.0</text><text text-anchor=\"middle\" transform=\"translate(426.6666666666667,15)\" font-family=\"sans-serif\" font-size=\"10px\" fill=\"#000\" opacity=\"1\">2.2</text><text text-anchor=\"middle\" transform=\"translate(453.3333333333333,15)\" font-family=\"sans-serif\" font-size=\"10px\" fill=\"#000\" opacity=\"0\">2.4</text><text text-anchor=\"middle\" transform=\"translate(480,15)\" font-family=\"sans-serif\" font-size=\"10px\" fill=\"#000\" opacity=\"1\">2.6</text><text text-anchor=\"middle\" transform=\"translate(506.6666666666667,15)\" font-family=\"sans-serif\" font-size=\"10px\" fill=\"#000\" opacity=\"0\">2.8</text><text text-anchor=\"middle\" transform=\"translate(533.3333333333333,15)\" font-family=\"sans-serif\" font-size=\"10px\" fill=\"#000\" opacity=\"1\">3.0</text><text text-anchor=\"middle\" transform=\"translate(560,15)\" font-family=\"sans-serif\" font-size=\"10px\" fill=\"#000\" opacity=\"0\">3.2</text><text text-anchor=\"middle\" transform=\"translate(586.6666666666667,15)\" font-family=\"sans-serif\" font-size=\"10px\" fill=\"#000\" opacity=\"1\">3.4</text><text text-anchor=\"middle\" transform=\"translate(613.3333333333333,15)\" font-family=\"sans-serif\" font-size=\"10px\" fill=\"#000\" opacity=\"0\">3.6</text><text text-anchor=\"middle\" transform=\"translate(640,15)\" font-family=\"sans-serif\" font-size=\"10px\" fill=\"#000\" opacity=\"1\">3.8</text><text text-anchor=\"middle\" transform=\"translate(666.6666666666667,15)\" font-family=\"sans-serif\" font-size=\"10px\" fill=\"#000\" opacity=\"0\">4.0</text><text text-anchor=\"middle\" transform=\"translate(693.3333333333334,15)\" font-family=\"sans-serif\" font-size=\"10px\" fill=\"#000\" opacity=\"1\">4.2</text><text text-anchor=\"middle\" transform=\"translate(720.0000000000001,15)\" font-family=\"sans-serif\" font-size=\"10px\" fill=\"#000\" opacity=\"0\">4.4</text><text text-anchor=\"middle\" transform=\"translate(746.6666666666666,15)\" font-family=\"sans-serif\" font-size=\"10px\" fill=\"#000\" opacity=\"1\">4.6</text><text text-anchor=\"middle\" transform=\"translate(773.3333333333333,15)\" font-family=\"sans-serif\" font-size=\"10px\" fill=\"#000\" opacity=\"0\">4.8</text><text text-anchor=\"middle\" transform=\"translate(800,15)\" font-family=\"sans-serif\" font-size=\"10px\" fill=\"#000\" opacity=\"1\">5.0</text><text text-anchor=\"middle\" transform=\"translate(826.6666666666666,15)\" font-family=\"sans-serif\" font-size=\"10px\" fill=\"#000\" opacity=\"0\">5.2</text><text text-anchor=\"middle\" transform=\"translate(853.3333333333334,15)\" font-family=\"sans-serif\" font-size=\"10px\" fill=\"#000\" opacity=\"1\">5.4</text><text text-anchor=\"middle\" transform=\"translate(879.9999999999999,15)\" font-family=\"sans-serif\" font-size=\"10px\" fill=\"#000\" opacity=\"0\">5.6</text><text text-anchor=\"middle\" transform=\"translate(906.6666666666666,15)\" font-family=\"sans-serif\" font-size=\"10px\" fill=\"#000\" opacity=\"1\">5.8</text><text text-anchor=\"middle\" transform=\"translate(933.3333333333334,15)\" font-family=\"sans-serif\" font-size=\"10px\" fill=\"#000\" opacity=\"0\">6.0</text><text text-anchor=\"middle\" transform=\"translate(960,15)\" font-family=\"sans-serif\" font-size=\"10px\" fill=\"#000\" opacity=\"1\">6.2</text><text text-anchor=\"middle\" transform=\"translate(986.6666666666667,15)\" font-family=\"sans-serif\" font-size=\"10px\" fill=\"#000\" opacity=\"0\">6.4</text><text text-anchor=\"middle\" transform=\"translate(1013.3333333333334,15)\" font-family=\"sans-serif\" font-size=\"10px\" fill=\"#000\" opacity=\"1\">6.6</text><text text-anchor=\"middle\" transform=\"translate(1040,15)\" font-family=\"sans-serif\" font-size=\"10px\" fill=\"#000\" opacity=\"0\">6.8</text><text text-anchor=\"middle\" transform=\"translate(1066.6666666666665,15)\" font-family=\"sans-serif\" font-size=\"10px\" fill=\"#000\" opacity=\"1\">7.0</text><text text-anchor=\"middle\" transform=\"translate(1093.3333333333333,15)\" font-family=\"sans-serif\" font-size=\"10px\" fill=\"#000\" opacity=\"0\">7.2</text><text text-anchor=\"middle\" transform=\"translate(1120,15)\" font-family=\"sans-serif\" font-size=\"10px\" fill=\"#000\" opacity=\"1\">7.4</text><text text-anchor=\"middle\" transform=\"translate(1146.6666666666665,15)\" font-family=\"sans-serif\" font-size=\"10px\" fill=\"#000\" opacity=\"0\">7.6</text><text text-anchor=\"middle\" transform=\"translate(1173.3333333333335,15)\" font-family=\"sans-serif\" font-size=\"10px\" fill=\"#000\" opacity=\"1\">7.8</text><text text-anchor=\"end\" transform=\"translate(1200,15)\" font-family=\"sans-serif\" font-size=\"10px\" fill=\"#000\" opacity=\"0\">8.0</text></g><g class=\"mark-rule role-axis-domain\" pointer-events=\"none\"><line transform=\"translate(0,0)\" x2=\"1200\" y2=\"0\" stroke=\"#888\" stroke-width=\"1\" opacity=\"1\"/></g><g class=\"mark-text role-axis-title\" pointer-events=\"none\"><text text-anchor=\"middle\" transform=\"translate(600,30)\" font-family=\"sans-serif\" font-size=\"11px\" font-weight=\"bold\" fill=\"#000\" opacity=\"1\">n</text></g></g><path class=\"foreground\" aria-hidden=\"true\" d=\"\" pointer-events=\"none\" display=\"none\"/></g></g><g class=\"mark-group role-axis\" role=\"graphics-symbol\" aria-roledescription=\"axis\" aria-label=\"Y-axis titled 'nrow' for a linear scale with values from 0.0 to 0.6\"><g transform=\"translate(0.5,0.5)\"><path class=\"background\" aria-hidden=\"true\" d=\"M0,0h0v0h0Z\" pointer-events=\"none\"/><g><g class=\"mark-rule role-axis-tick\" pointer-events=\"none\"><line transform=\"translate(0,600)\" x2=\"-5\" y2=\"0\" stroke=\"#888\" stroke-width=\"1\" opacity=\"1\"/><line transform=\"translate(0,545)\" x2=\"-5\" y2=\"0\" stroke=\"#888\" stroke-width=\"1\" opacity=\"1\"/><line transform=\"translate(0,491)\" x2=\"-5\" y2=\"0\" stroke=\"#888\" stroke-width=\"1\" opacity=\"1\"/><line transform=\"translate(0,436)\" x2=\"-5\" y2=\"0\" stroke=\"#888\" stroke-width=\"1\" opacity=\"1\"/><line transform=\"translate(0,382)\" x2=\"-5\" y2=\"0\" stroke=\"#888\" stroke-width=\"1\" opacity=\"1\"/><line transform=\"translate(0,327)\" x2=\"-5\" y2=\"0\" stroke=\"#888\" stroke-width=\"1\" opacity=\"1\"/><line transform=\"translate(0,273)\" x2=\"-5\" y2=\"0\" stroke=\"#888\" stroke-width=\"1\" opacity=\"1\"/><line transform=\"translate(0,218)\" x2=\"-5\" y2=\"0\" stroke=\"#888\" stroke-width=\"1\" opacity=\"1\"/><line transform=\"translate(0,164)\" x2=\"-5\" y2=\"0\" stroke=\"#888\" stroke-width=\"1\" opacity=\"1\"/><line transform=\"translate(0,109)\" x2=\"-5\" y2=\"0\" stroke=\"#888\" stroke-width=\"1\" opacity=\"1\"/><line transform=\"translate(0,55)\" x2=\"-5\" y2=\"0\" stroke=\"#888\" stroke-width=\"1\" opacity=\"1\"/><line transform=\"translate(0,0)\" x2=\"-5\" y2=\"0\" stroke=\"#888\" stroke-width=\"1\" opacity=\"1\"/></g><g class=\"mark-text role-axis-label\" pointer-events=\"none\"><text text-anchor=\"end\" transform=\"translate(-7,603)\" font-family=\"sans-serif\" font-size=\"10px\" fill=\"#000\" opacity=\"1\">0.00</text><text text-anchor=\"end\" transform=\"translate(-7,548.4545454545454)\" font-family=\"sans-serif\" font-size=\"10px\" fill=\"#000\" opacity=\"1\">0.05</text><text text-anchor=\"end\" transform=\"translate(-7,493.9090909090909)\" font-family=\"sans-serif\" font-size=\"10px\" fill=\"#000\" opacity=\"1\">0.10</text><text text-anchor=\"end\" transform=\"translate(-7,439.3636363636364)\" font-family=\"sans-serif\" font-size=\"10px\" fill=\"#000\" opacity=\"1\">0.15</text><text text-anchor=\"end\" transform=\"translate(-7,384.8181818181818)\" font-family=\"sans-serif\" font-size=\"10px\" fill=\"#000\" opacity=\"1\">0.20</text><text text-anchor=\"end\" transform=\"translate(-7,330.27272727272725)\" font-family=\"sans-serif\" font-size=\"10px\" fill=\"#000\" opacity=\"1\">0.25</text><text text-anchor=\"end\" transform=\"translate(-7,275.72727272727275)\" font-family=\"sans-serif\" font-size=\"10px\" fill=\"#000\" opacity=\"1\">0.30</text><text text-anchor=\"end\" transform=\"translate(-7,221.18181818181824)\" font-family=\"sans-serif\" font-size=\"10px\" fill=\"#000\" opacity=\"1\">0.35</text><text text-anchor=\"end\" transform=\"translate(-7,166.63636363636363)\" font-family=\"sans-serif\" font-size=\"10px\" fill=\"#000\" opacity=\"1\">0.40</text><text text-anchor=\"end\" transform=\"translate(-7,112.09090909090912)\" font-family=\"sans-serif\" font-size=\"10px\" fill=\"#000\" opacity=\"1\">0.45</text><text text-anchor=\"end\" transform=\"translate(-7,57.54545454545456)\" font-family=\"sans-serif\" font-size=\"10px\" fill=\"#000\" opacity=\"1\">0.50</text><text text-anchor=\"end\" transform=\"translate(-7,3)\" font-family=\"sans-serif\" font-size=\"10px\" fill=\"#000\" opacity=\"1\">0.55</text></g><g class=\"mark-rule role-axis-domain\" pointer-events=\"none\"><line transform=\"translate(0,600)\" x2=\"0\" y2=\"-600\" stroke=\"#888\" stroke-width=\"1\" opacity=\"1\"/></g><g class=\"mark-text role-axis-title\" pointer-events=\"none\"><text text-anchor=\"middle\" transform=\"translate(-29,300) rotate(-90) translate(0,-2)\" font-family=\"sans-serif\" font-size=\"11px\" font-weight=\"bold\" fill=\"#000\" opacity=\"1\">nrow</text></g></g><path class=\"foreground\" aria-hidden=\"true\" d=\"\" pointer-events=\"none\" display=\"none\"/></g></g><g class=\"mark-rect role-mark marks\" role=\"graphics-object\" aria-roledescription=\"rect mark container\"><path aria-label=\"n: 0; nrow: 0.501369863014\" role=\"graphics-symbol\" aria-roledescription=\"bar\" d=\"M130.83333333333331,53.051058530510595h5v546.9489414694895h-5Z\" fill=\"#4c78a8\"/><path aria-label=\"n: 1; nrow: 0.282191780822\" role=\"graphics-symbol\" aria-roledescription=\"bar\" d=\"M264.16666666666663,292.1544209215443h5v307.8455790784557h-5Z\" fill=\"#4c78a8\"/><path aria-label=\"n: 2; nrow: 0.145205479452\" role=\"graphics-symbol\" aria-roledescription=\"bar\" d=\"M397.5,441.59402241594023h5v158.40597758405977h-5Z\" fill=\"#4c78a8\"/><path aria-label=\"n: 3; nrow: 0.0493150684932\" role=\"graphics-symbol\" aria-roledescription=\"bar\" d=\"M530.8333333333333,546.2017434620175h5v53.798256537982525h-5Z\" fill=\"#4c78a8\"/><path aria-label=\"n: 4; nrow: 0.0109589041096\" role=\"graphics-symbol\" aria-roledescription=\"bar\" d=\"M664.1666666666667,588.0448318804483h5v11.955168119551672h-5Z\" fill=\"#4c78a8\"/><path aria-label=\"n: 5; nrow: 0.0027397260274\" role=\"graphics-symbol\" aria-roledescription=\"bar\" d=\"M797.5,597.0112079701121h5v2.988792029887918h-5Z\" fill=\"#4c78a8\"/><path aria-label=\"n: 6; nrow: 0.00547945205479\" role=\"graphics-symbol\" aria-roledescription=\"bar\" d=\"M930.8333333333334,594.0224159402242h5v5.977584059775836h-5Z\" fill=\"#4c78a8\"/><path aria-label=\"n: 7; nrow: 0.0027397260274\" role=\"graphics-symbol\" aria-roledescription=\"bar\" d=\"M1064.1666666666665,597.0112079701121h5v2.988792029887918h-5Z\" fill=\"#4c78a8\"/></g><g class=\"mark-group role-title\"><g transform=\"translate(600,-22)\"><path class=\"background\" aria-hidden=\"true\" d=\"M0,0h0v0h0Z\" pointer-events=\"none\"/><g><g class=\"mark-text role-title-text\" role=\"graphics-symbol\" aria-roledescription=\"title\" aria-label=\"Title text 'Poisson-styled reprezentation of data'\" pointer-events=\"none\"><text text-anchor=\"middle\" transform=\"translate(0,10)\" font-family=\"sans-serif\" font-size=\"13px\" font-weight=\"bold\" fill=\"#000\" opacity=\"1\">Poisson-styled reprezentation of data</text></g></g><path class=\"foreground\" aria-hidden=\"true\" d=\"\" pointer-events=\"none\" display=\"none\"/></g></g></g><path class=\"foreground\" aria-hidden=\"true\" d=\"\" display=\"none\"/></g></g></g></svg>\n"
      ],
      "text/plain": [
       "@vlplot(\n",
       "    height=600,\n",
       "    width=1200,\n",
       "    title=\"Poisson-styled reprezentation of data\",\n",
       "    mark=\"bar\",\n",
       "    encoding={\n",
       "        x={\n",
       "            field=\"n\"\n",
       "        },\n",
       "        y={\n",
       "            field=\"nrow\"\n",
       "        }\n",
       "    },\n",
       "    data={\n",
       "        values=...\n",
       "    }\n",
       ")"
      ]
     },
     "execution_count": 11,
     "metadata": {},
     "output_type": "execute_result"
    }
   ],
   "source": [
    "mod |> @vlplot(\n",
    "    height=600,\n",
    "    width=1200,\n",
    "    :bar,\n",
    "    x=:n,\n",
    "    y=:nrow,\n",
    "    title = \"Poisson-styled reprezentation of data\"\n",
    ")"
   ]
  },
  {
   "cell_type": "markdown",
   "id": "57df78c7-1934-46b2-ad01-e9fccdfafdcd",
   "metadata": {},
   "source": [
    "> Tu pojawi się dopasowanie rozkładu Poissona i model predykcji"
   ]
  },
  {
   "cell_type": "code",
   "execution_count": null,
   "id": "7eabef55-1a09-4c94-99cd-4f4401e20b02",
   "metadata": {},
   "outputs": [],
   "source": []
  }
 ],
 "metadata": {
  "kernelspec": {
   "display_name": "Julia 1.7.2",
   "language": "julia",
   "name": "julia-1.7"
  },
  "language_info": {
   "file_extension": ".jl",
   "mimetype": "application/julia",
   "name": "julia",
   "version": "1.7.2"
  }
 },
 "nbformat": 4,
 "nbformat_minor": 5
}
