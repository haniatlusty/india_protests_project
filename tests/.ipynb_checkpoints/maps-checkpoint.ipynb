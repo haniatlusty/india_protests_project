{
 "cells": [
  {
   "cell_type": "code",
   "execution_count": null,
   "metadata": {},
   "outputs": [],
   "source": [
    "using FilePaths\n",
    "using VegaLite\n",
    "using CSV\n",
    "using DataFrames\n",
    "\n",
    "path = p\"C:\\\\Users\\\\kkarb\\\\OneDrive\\\\Pulpit\\\\2016-2022.csv\"\n",
    "df = DataFrame(CSV.File(path))"
   ]
  },
  {
   "cell_type": "code",
   "execution_count": null,
   "metadata": {},
   "outputs": [],
   "source": [
    "@vlplot(width=900, height=700) +\n",
    "@vlplot(\n",
    "    :circle,\n",
    "    data=df,\n",
    "    projection={type=:equalEarth},\n",
    "    longitude=\"longitude\",\n",
    "    latitude=\"latitude\",\n",
    "    color=:event_type\n",
    ")"
   ]
  },
  {
   "cell_type": "code",
   "execution_count": null,
   "metadata": {},
   "outputs": [],
   "source": [
    "@vlplot(width=900, height=700) +\n",
    "@vlplot(\n",
    "    :circle,\n",
    "    data=df,\n",
    "    projection={type=:equalEarth},\n",
    "    longitude=\"longitude\",\n",
    "    latitude=\"latitude\",\n",
    "    color=:sub_event_type\n",
    ")"
   ]
  }
 ],
 "metadata": {
  "kernelspec": {
   "display_name": "Julia 1.7.2",
   "language": "julia",
   "name": "julia-1.7"
  },
  "language_info": {
   "file_extension": ".jl",
   "mimetype": "application/julia",
   "name": "julia",
   "version": "1.7.2"
  },
  "orig_nbformat": 4
 },
 "nbformat": 4,
 "nbformat_minor": 2
}
