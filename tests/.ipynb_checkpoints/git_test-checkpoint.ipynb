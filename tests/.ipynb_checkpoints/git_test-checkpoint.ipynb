{
 "cells": [
  {
   "cell_type": "code",
   "execution_count": 1,
   "id": "cbf135da-9bd5-4250-9367-b75a9e12aa62",
   "metadata": {},
   "outputs": [],
   "source": [
    "using BenchmarkTools;\n",
    "using LinearAlgebra"
   ]
  },
  {
   "cell_type": "code",
   "execution_count": 2,
   "id": "55bd3c6d-6405-46e7-a5e3-a5632c06edf8",
   "metadata": {},
   "outputs": [],
   "source": [
    "f(x)  = 7x.^6 .+2x.^3+3x.+1;\n",
    "fh(x) = 7x ^6  +2x ^3+3x +1;"
   ]
  },
  {
   "cell_type": "code",
   "execution_count": 3,
   "id": "431a1b9c-9499-4f8d-a178-a7657ac6e1aa",
   "metadata": {},
   "outputs": [],
   "source": [
    "#warmup \n",
    "f(10); fh(10);"
   ]
  },
  {
   "cell_type": "code",
   "execution_count": 4,
   "id": "2ca9ace0-a274-48a2-b379-f947e43bcd4b",
   "metadata": {},
   "outputs": [],
   "source": [
    "x = rand(1:100,1,10000);"
   ]
  },
  {
   "cell_type": "code",
   "execution_count": 5,
   "id": "510bd04f",
   "metadata": {},
   "outputs": [
    {
     "name": "stdout",
     "output_type": "stream",
     "text": [
      "  381.685 μs (16 allocations: 625.38 KiB)\n",
      "  96.905 μs (2 allocations: 78.17 KiB)\n",
      "  91.123 μs (2 allocations: 78.17 KiB)\n"
     ]
    }
   ],
   "source": [
    "@btime f($x);\n",
    "@btime f.($x);\n",
    "@btime fh.($x);"
   ]
  },
  {
   "cell_type": "code",
   "execution_count": 6,
   "id": "3e67dfcc",
   "metadata": {},
   "outputs": [
    {
     "data": {
      "text/plain": [
       "0.0"
      ]
     },
     "execution_count": 6,
     "metadata": {},
     "output_type": "execute_result"
    }
   ],
   "source": [
    "A = [1 2 3;\n",
    "     4 5 6;\n",
    "     7 8 9]\n",
    "det(A)"
   ]
  }
 ],
 "metadata": {
  "kernelspec": {
   "display_name": "Julia 1.7.2",
   "language": "julia",
   "name": "julia-1.7"
  },
  "language_info": {
   "file_extension": ".jl",
   "mimetype": "application/julia",
   "name": "julia",
   "version": "1.7.2"
  }
 },
 "nbformat": 4,
 "nbformat_minor": 5
}
