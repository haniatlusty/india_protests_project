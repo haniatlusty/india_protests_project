         {
                "cells": [
                 {
                  "cell_type": "code",
                  "execution_count": 2,
                  "metadata": {},
                  "outputs": [
                   {
                    "data": {
                     "text/html": [
                      "<div class=\"data-frame\"><p>107,690 rows × 11 columns (omitted printing of 5 columns)</p><table class=\"data-frame\"><thead><tr><th></th><th>event_date</th><th>year</th><th>event_type</th><th>sub_event_type</th><th>interaction</th><th>admin1</th></tr><tr><th></th><th title=\"String31\">String31</th><th title=\"Int64\">Int64</th><th title=\"String31\">String31</th><th title=\"String\">String</th><th title=\"Int64\">Int64</th><th title=\"String\">String</th></tr></thead><tbody><tr><th>1</th><td>18 March 2022</td><td>2022</td><td>Riots</td><td>Mob violence</td><td>55</td><td>Uttar Pradesh</td></tr><tr><th>2</th><td>18 March 2022</td><td>2022</td><td>Protests</td><td>Peaceful protest</td><td>60</td><td>Maharashtra</td></tr><tr><th>3</th><td>18 March 2022</td><td>2022</td><td>Protests</td><td>Peaceful protest</td><td>60</td><td>Punjab</td></tr><tr><th>4</th><td>18 March 2022</td><td>2022</td><td>Protests</td><td>Peaceful protest</td><td>60</td><td>Madhya Pradesh</td></tr><tr><th>5</th><td>18 March 2022</td><td>2022</td><td>Riots</td><td>Mob violence</td><td>57</td><td>Madhya Pradesh</td></tr><tr><th>6</th><td>18 March 2022</td><td>2022</td><td>Riots</td><td>Mob violence</td><td>57</td><td>Madhya Pradesh</td></tr><tr><th>7</th><td>18 March 2022</td><td>2022</td><td>Protests</td><td>Peaceful protest</td><td>60</td><td>Telangana</td></tr><tr><th>8</th><td>18 March 2022</td><td>2022</td><td>Protests</td><td>Peaceful protest</td><td>60</td><td>Telangana</td></tr><tr><th>9</th><td>18 March 2022</td><td>2022</td><td>Protests</td><td>Peaceful protest</td><td>60</td><td>Telangana</td></tr><tr><th>10</th><td>18 March 2022</td><td>2022</td><td>Protests</td><td>Peaceful protest</td><td>60</td><td>Telangana</td></tr><tr><th>11</th><td>18 March 2022</td><td>2022</td><td>Protests</td><td>Peaceful protest</td><td>60</td><td>Telangana</td></tr><tr><th>12</th><td>18 March 2022</td><td>2022</td><td>Riots</td><td>Violent demonstration</td><td>15</td><td>Kerala</td></tr><tr><th>13</th><td>18 March 2022</td><td>2022</td><td>Protests</td><td>Peaceful protest</td><td>60</td><td>Karnataka</td></tr><tr><th>14</th><td>18 March 2022</td><td>2022</td><td>Protests</td><td>Peaceful protest</td><td>60</td><td>Kerala</td></tr><tr><th>15</th><td>18 March 2022</td><td>2022</td><td>Protests</td><td>Peaceful protest</td><td>60</td><td>Tamil Nadu</td></tr><tr><th>16</th><td>18 March 2022</td><td>2022</td><td>Riots</td><td>Mob violence</td><td>15</td><td>West Bengal</td></tr><tr><th>17</th><td>18 March 2022</td><td>2022</td><td>Riots</td><td>Mob violence</td><td>50</td><td>West Bengal</td></tr><tr><th>18</th><td>17 March 2022</td><td>2022</td><td>Protests</td><td>Peaceful protest</td><td>60</td><td>Jammu and Kashmir</td></tr><tr><th>19</th><td>17 March 2022</td><td>2022</td><td>Protests</td><td>Peaceful protest</td><td>60</td><td>Jammu and Kashmir</td></tr><tr><th>20</th><td>17 March 2022</td><td>2022</td><td>Riots</td><td>Mob violence</td><td>55</td><td>Madhya Pradesh</td></tr><tr><th>21</th><td>17 March 2022</td><td>2022</td><td>Riots</td><td>Mob violence</td><td>57</td><td>Jammu and Kashmir</td></tr><tr><th>22</th><td>17 March 2022</td><td>2022</td><td>Protests</td><td>Peaceful protest</td><td>60</td><td>Jammu and Kashmir</td></tr><tr><th>23</th><td>17 March 2022</td><td>2022</td><td>Protests</td><td>Peaceful protest</td><td>60</td><td>Jammu and Kashmir</td></tr><tr><th>24</th><td>17 March 2022</td><td>2022</td><td>Protests</td><td>Protest with intervention</td><td>16</td><td>Jammu and Kashmir</td></tr><tr><th>25</th><td>17 March 2022</td><td>2022</td><td>Protests</td><td>Peaceful protest</td><td>60</td><td>Telangana</td></tr><tr><th>26</th><td>17 March 2022</td><td>2022</td><td>Protests</td><td>Peaceful protest</td><td>60</td><td>Andhra Pradesh</td></tr><tr><th>27</th><td>17 March 2022</td><td>2022</td><td>Riots</td><td>Mob violence</td><td>55</td><td>Punjab</td></tr><tr><th>28</th><td>17 March 2022</td><td>2022</td><td>Protests</td><td>Peaceful protest</td><td>60</td><td>Delhi</td></tr><tr><th>29</th><td>17 March 2022</td><td>2022</td><td>Protests</td><td>Peaceful protest</td><td>60</td><td>Jammu and Kashmir</td></tr><tr><th>30</th><td>17 March 2022</td><td>2022</td><td>Protests</td><td>Protest with intervention</td><td>16</td><td>Kerala</td></tr><tr><th>&vellip;</th><td>&vellip;</td><td>&vellip;</td><td>&vellip;</td><td>&vellip;</td><td>&vellip;</td><td>&vellip;</td></tr></tbody></table></div>"
                     ],
                     "text/latex": [
                      "\\begin{tabular}{r|ccccccc}\n",
                      "\t& event\\_date & year & event\\_type & sub\\_event\\_type & interaction & admin1 & \\\\\n",
                      "\t\\hline\n",
                      "\t& String31 & Int64 & String31 & String & Int64 & String & \\\\\n",
                      "\t\\hline\n",
                      "\t1 & 18 March 2022 & 2022 & Riots & Mob violence & 55 & Uttar Pradesh & $\\dots$ \\\\\n",
                      "\t2 & 18 March 2022 & 2022 & Protests & Peaceful protest & 60 & Maharashtra & $\\dots$ \\\\\n",
                      "\t3 & 18 March 2022 & 2022 & Protests & Peaceful protest & 60 & Punjab & $\\dots$ \\\\\n",
                      "\t4 & 18 March 2022 & 2022 & Protests & Peaceful protest & 60 & Madhya Pradesh & $\\dots$ \\\\\n",
                      "\t5 & 18 March 2022 & 2022 & Riots & Mob violence & 57 & Madhya Pradesh & $\\dots$ \\\\\n",
                      "\t6 & 18 March 2022 & 2022 & Riots & Mob violence & 57 & Madhya Pradesh & $\\dots$ \\\\\n",
                      "\t7 & 18 March 2022 & 2022 & Protests & Peaceful protest & 60 & Telangana & $\\dots$ \\\\\n",
                      "\t8 & 18 March 2022 & 2022 & Protests & Peaceful protest & 60 & Telangana & $\\dots$ \\\\\n",
                      "\t9 & 18 March 2022 & 2022 & Protests & Peaceful protest & 60 & Telangana & $\\dots$ \\\\\n",
                      "\t10 & 18 March 2022 & 2022 & Protests & Peaceful protest & 60 & Telangana & $\\dots$ \\\\\n",
                      "\t11 & 18 March 2022 & 2022 & Protests & Peaceful protest & 60 & Telangana & $\\dots$ \\\\\n",
                      "\t12 & 18 March 2022 & 2022 & Riots & Violent demonstration & 15 & Kerala & $\\dots$ \\\\\n",
                      "\t13 & 18 March 2022 & 2022 & Protests & Peaceful protest & 60 & Karnataka & $\\dots$ \\\\\n",
                      "\t14 & 18 March 2022 & 2022 & Protests & Peaceful protest & 60 & Kerala & $\\dots$ \\\\\n",
                      "\t15 & 18 March 2022 & 2022 & Protests & Peaceful protest & 60 & Tamil Nadu & $\\dots$ \\\\\n",
                      "\t16 & 18 March 2022 & 2022 & Riots & Mob violence & 15 & West Bengal & $\\dots$ \\\\\n",
                      "\t17 & 18 March 2022 & 2022 & Riots & Mob violence & 50 & West Bengal & $\\dots$ \\\\\n",
                      "\t18 & 17 March 2022 & 2022 & Protests & Peaceful protest & 60 & Jammu and Kashmir & $\\dots$ \\\\\n",
                      "\t19 & 17 March 2022 & 2022 & Protests & Peaceful protest & 60 & Jammu and Kashmir & $\\dots$ \\\\\n",
                      "\t20 & 17 March 2022 & 2022 & Riots & Mob violence & 55 & Madhya Pradesh & $\\dots$ \\\\\n",
                      "\t21 & 17 March 2022 & 2022 & Riots & Mob violence & 57 & Jammu and Kashmir & $\\dots$ \\\\\n",
                      "\t22 & 17 March 2022 & 2022 & Protests & Peaceful protest & 60 & Jammu and Kashmir & $\\dots$ \\\\\n",
                      "\t23 & 17 March 2022 & 2022 & Protests & Peaceful protest & 60 & Jammu and Kashmir & $\\dots$ \\\\\n",
                      "\t24 & 17 March 2022 & 2022 & Protests & Protest with intervention & 16 & Jammu and Kashmir & $\\dots$ \\\\\n",
                      "\t25 & 17 March 2022 & 2022 & Protests & Peaceful protest & 60 & Telangana & $\\dots$ \\\\\n",
                      "\t26 & 17 March 2022 & 2022 & Protests & Peaceful protest & 60 & Andhra Pradesh & $\\dots$ \\\\\n",
                      "\t27 & 17 March 2022 & 2022 & Riots & Mob violence & 55 & Punjab & $\\dots$ \\\\\n",
                      "\t28 & 17 March 2022 & 2022 & Protests & Peaceful protest & 60 & Delhi & $\\dots$ \\\\\n",
                      "\t29 & 17 March 2022 & 2022 & Protests & Peaceful protest & 60 & Jammu and Kashmir & $\\dots$ \\\\\n",
                      "\t30 & 17 March 2022 & 2022 & Protests & Protest with intervention & 16 & Kerala & $\\dots$ \\\\\n",
                      "\t$\\dots$ & $\\dots$ & $\\dots$ & $\\dots$ & $\\dots$ & $\\dots$ & $\\dots$ &  \\\\\n",
                      "\\end{tabular}\n"
                     ],
                     "text/plain": [
                      "\u001b[1m107690×11 DataFrame\u001b[0m\n",
                      "\u001b[1m    Row \u001b[0m│\u001b[1m event_date      \u001b[0m\u001b[1m year  \u001b[0m\u001b[1m event_type \u001b[0m\u001b[1m sub_event_type        \u001b[0m\u001b[1m interacti\u001b[0m ⋯\n",
                      "\u001b[1m        \u001b[0m│\u001b[90m String31        \u001b[0m\u001b[90m Int64 \u001b[0m\u001b[90m String31   \u001b[0m\u001b[90m String                \u001b[0m\u001b[90m Int64    \u001b[0m ⋯\n",
                      "────────┼───────────────────────────────────────────────────────────────────────\n",
                      "      1 │ 18 March 2022     2022  Riots       Mob violence                     ⋯\n",
                      "      2 │ 18 March 2022     2022  Protests    Peaceful protest\n",
                      "      3 │ 18 March 2022     2022  Protests    Peaceful protest\n",
                      "      4 │ 18 March 2022     2022  Protests    Peaceful protest\n",
                      "      5 │ 18 March 2022     2022  Riots       Mob violence                     ⋯\n",
                      "      6 │ 18 March 2022     2022  Riots       Mob violence\n",
                      "      7 │ 18 March 2022     2022  Protests    Peaceful protest\n",
                      "      8 │ 18 March 2022     2022  Protests    Peaceful protest\n",
                      "      9 │ 18 March 2022     2022  Protests    Peaceful protest                 ⋯\n",
                      "     10 │ 18 March 2022     2022  Protests    Peaceful protest\n",
                      "     11 │ 18 March 2022     2022  Protests    Peaceful protest\n",
                      "   ⋮    │        ⋮           ⋮        ⋮                 ⋮                 ⋮    ⋱\n",
                      " 107681 │ 01 January 2016   2016  Protests    Peaceful protest\n",
                      " 107682 │ 01 January 2016   2016  Riots       Mob violence                     ⋯\n",
                      " 107683 │ 01 January 2016   2016  Protests    Peaceful protest\n",
                      " 107684 │ 01 January 2016   2016  Protests    Peaceful protest\n",
                      " 107685 │ 01 January 2016   2016  Protests    Peaceful protest\n",
                      " 107686 │ 01 January 2016   2016  Protests    Peaceful protest                 ⋯\n",
                      " 107687 │ 01 January 2016   2016  Battles     Armed clash\n",
                      " 107688 │ 01 January 2016   2016  Protests    Peaceful protest\n",
                      " 107689 │ 01 January 2016   2016  Battles     Armed clash\n",
                      " 107690 │ 01 January 2016   2016  Protests    Peaceful protest                 ⋯\n",
                      "\u001b[36m                                               7 columns and 107669 rows omitted\u001b[0m"
                     ]
                    },
                    "execution_count": 2,
                    "metadata": {},
                    "output_type": "execute_result"
                   }
                  ],
                  "source": [
                   "dataset = CSV.read(\"../data/2016-2022.csv\", select = [:year,:event_date,:event_type, :sub_event_type, :interaction, :admin1, :location, :latitude, :longitude, :fatalities, :notes], DataFrame)"
                  ]
                 },
                 {
                  "cell_type": "code",
                  "execution_count": 3,
                  "metadata": {},
                  "outputs": [],
                  "source": [
                   "df = select(dataset, [:event_date, :year, :event_type, :interaction, :admin1, :notes]);"
                  ]
                 },
                 {
                  "cell_type": "code",
                  "execution_count": 4,
                  "metadata": {},
                  "outputs": [
                   {
                    "data": {
                     "text/plain": [
                      "farmers_filter (generic function with 1 method)"
                     ]
                    },
                    "execution_count": 4,
                    "metadata": {},
                    "output_type": "execute_result"
                   }
                  ],
                  "source": [
                   "function farmers_filter(data::String)\n",
                   "\tkeywords = [\n",
                   "\t\t\"farm\",\n",
                   "\t\t\"agricult\",\n",
                   "\t\t\"plantat\",\n",
                   "\t\t\"dairy\",\n",
                   "\t\t\"harvest\",\n",
                   "\t\t#\"cultiv\",\n",
                   "\t\t#\"crop\"\n",
                   "\t]\n",
                   "\tany(occursin.(keywords,lowercase(data)))\n",
                   "end"
                  ]
                 },
                 {
                  "cell_type": "code",
                  "execution_count": 5,
                  "metadata": {},
                  "outputs": [
                   {
                    "data": {
                     "text/plain": [
                      "refilter (generic function with 1 method)"
                     ]
                    },
                    "execution_count": 5,
                    "metadata": {},
                    "output_type": "execute_result"
                   }
                  ],
                  "source": [
                   "function refilter(df::DataFrame)\n",
                   "\tout = filter(:notes => farmers_filter, df) |> d -> filter(:year => yr -> yr in [2020, 2021], d) |> d -> filter(:event_type => event -> event == \"Protests\", d)\n",
                   "end"
                  ]
                 },
                 {
                  "cell_type": "code",
                  "execution_count": 6,
                  "metadata": {},
                  "outputs": [],
                  "source": [
                   "df_farmers = refilter(df)\n",
                   "\n",
                   "df_agri = groupby(df_farmers, :admin1)\n",
                   "df_agri_col = combine(df_farmers, nrow .=> :num_of_protests);"
                  ]
                 },
                 {
                  "cell_type": "code",
                  "execution_count": 7,
                  "metadata": {},
                  "outputs": [
                   {
                    "ename": "LoadError",
                    "evalue": "MethodError: no method matching groupby(::GroupedDataFrame{DataFrame}, ::Symbol)\n\u001b[0mClosest candidates are:\n\u001b[0m  groupby(\u001b[91m::AbstractDataFrame\u001b[39m, ::Any; sort, skipmissing) at C:\\Users\\macie\\.julia\\packages\\DataFrames\\MA4YO\\src\\groupeddataframe\\groupeddataframe.jl:211",
                    "output_type": "error",
                    "traceback": [
                     "MethodError: no method matching groupby(::GroupedDataFrame{DataFrame}, ::Symbol)\n\u001b[0mClosest candidates are:\n\u001b[0m  groupby(\u001b[91m::AbstractDataFrame\u001b[39m, ::Any; sort, skipmissing) at C:\\Users\\macie\\.julia\\packages\\DataFrames\\MA4YO\\src\\groupeddataframe\\groupeddataframe.jl:211",
                     "",
                     "Stacktrace:",
                     " [1] top-level scope",
                     "   @ In[7]:1",
                     " [2] eval",
                     "   @ .\\boot.jl:373 [inlined]",
                     " [3] include_string(mapexpr::typeof(REPL.softscope), mod::Module, code::String, filename::String)",
                     "   @ Base .\\loading.jl:1196"
                    ]
                   }
                  ],
                  "source": [
                   "df_agri_col = groupby(df_agri, :admin1);"
                  ]
                 },
                 {
                  "cell_type": "code",
                  "execution_count": 8,
                  "metadata": {},
                  "outputs": [
                   {
                    "data": {
                     "text/html": [
                      "<div class=\"data-frame\"><p>6,716 rows × 6 columns</p><table class=\"data-frame\"><thead><tr><th></th><th>event_date</th><th>year</th><th>event_type</th><th>interaction</th><th>admin1</th><th>notes</th></tr><tr><th></th><th title=\"String31\">String31</th><th title=\"Int64\">Int64</th><th title=\"String31\">String31</th><th title=\"Int64\">Int64</th><th title=\"String\">String</th><th title=\"String\">String</th></tr></thead><tbody><tr><th>1</th><td>31 December 2021</td><td>2021</td><td>Protests</td><td>60</td><td>Punjab</td><td>On 31 December 2021, BKU farmers staged a protest, in Bathinda (Bathinda district, Punjab), demanding compensation for the cotton crop damage and debt waiver for marginal and small farmers. [size=no report]</td></tr><tr><th>2</th><td>31 December 2021</td><td>2021</td><td>Protests</td><td>60</td><td>Punjab</td><td>On 31 December 2021, BKU farmers staged a protest, in Mansa (Mansa district, Punjab), demanding compensation for the cotton crop damage and debt waiver for marginal and small farmers. [size=no report]</td></tr><tr><th>3</th><td>31 December 2021</td><td>2021</td><td>Protests</td><td>60</td><td>Andhra Pradesh</td><td>On 31 December 2021, farmers staged a protest outside the police station in Komarada (Vizianagaram district, Andhra Pradesh) demanding steps by authorities to drive away wild elephants from their areas. [size=no report]</td></tr><tr><th>4</th><td>30 December 2021</td><td>2021</td><td>Protests</td><td>60</td><td>Karnataka</td><td>On 30 December 2021, farmers held a protest near the DC office in Mysuru (Mysuru district, Karnataka) demanding a CPI probe into Nandini ghee adulteration racket. [size=no report]</td></tr><tr><th>5</th><td>29 December 2021</td><td>2021</td><td>Protests</td><td>60</td><td>Punjab</td><td>On 29 December 2021, BKU farmers staged a protest, at the Deputy Commissioner office, in Ludhiana (Ludhiana East, Ludhiana district, Punjab), demanding crop damage compensation and loan waivers. [size=no report]</td></tr><tr><th>6</th><td>29 December 2021</td><td>2021</td><td>Protests</td><td>60</td><td>Punjab</td><td>On 29 December 2021, BKU farmers supported teachers and members of the Government Colleges Guest Faculty Assistant Professors&apos; Association, in Jalandhar (Jalandhar-I, Jalandhar district, Punjab), demanding regularisation of services. [size=no report]</td></tr><tr><th>7</th><td>29 December 2021</td><td>2021</td><td>Protests</td><td>60</td><td>Punjab</td><td>On 29 December 2021, BKU farmers staged a protest, at the Deputy Commissioner office, in Barnala (Barnala district, Punjab), demanding crop damage compensation and loan waivers. [size=no report]</td></tr><tr><th>8</th><td>29 December 2021</td><td>2021</td><td>Protests</td><td>60</td><td>Punjab</td><td>On 29 December 2021, BKU farmers staged a protest, at the Deputy Commissioner office, in Sangrur (Sangrur district, Punjab), demanding crop damage compensation and loan waivers. [size=no report]</td></tr><tr><th>9</th><td>29 December 2021</td><td>2021</td><td>Protests</td><td>16</td><td>Uttar Pradesh</td><td>On 29 December 2021, farmers staged a protest and locked up stray cattle in a village in Shahjahanpur district (Shahjahanpur district, UP), over crop damage. Police arrested around 10 protesters. [size=no report]</td></tr><tr><th>10</th><td>28 December 2021</td><td>2021</td><td>Protests</td><td>60</td><td>Jammu and Kashmir</td><td>On 28 December 2021, farmers along with an INC leader held a protest at Ranbir Singh Pura town (Jammu district, J&amp;K) against the irrigation department over lack of cleaning of a canal leading to overflow of water on the road. [size=no report]</td></tr><tr><th>11</th><td>28 December 2021</td><td>2021</td><td>Protests</td><td>60</td><td>Punjab</td><td>On 28 December 2021, KMSC and BKU farmers staged a protest in Jalandhar (Jalandhar-I, Jalandhar district, Punjab), demanding loan waivers for farmers as promised by the INC in their 2017 electoral manifesto, compensation for crop damage and aid for kin of those who lost their lives in the farmers agitation. [size=no report]</td></tr><tr><th>12</th><td>28 December 2021</td><td>2021</td><td>Protests</td><td>60</td><td>Punjab</td><td>On 28 December 2021, farmers and farm labourers staged a protest, in Maur Mandi (Talwandi Sabo, Bathinda district, Punjab), demanding compensation for cotton crop damage due to pink bollworm attack. [size=no report]</td></tr><tr><th>13</th><td>27 December 2021</td><td>2021</td><td>Protests</td><td>60</td><td>Punjab</td><td>On 27 December 2021, SKM farmers supported around 200 teachers of various colleges and staged a protest, in Jalandhar (Jalandhar-I, Jalandhar district, Punjab), demanding better wages, implementation of new pay commission and regularisation of services. [size=around 200]</td></tr><tr><th>14</th><td>27 December 2021</td><td>2021</td><td>Protests</td><td>60</td><td>Uttar Pradesh</td><td>On 27 December 2021, around 500 farmers staged a protest and held a Mahapanchayat, at Ranhera village (Gautam Buddha Nagar district, UP), demanding better compensation of land for building an airport. [size=around 500]</td></tr><tr><th>15</th><td>27 December 2021</td><td>2021</td><td>Protests</td><td>60</td><td>Jammu and Kashmir</td><td>On 27 December 2021, mission statehood members held a protest at Jammu city (J&amp;K) to demand restoration of statehood to J&amp;K and against the conversion of agricultural land into commercial land. [size=no report]</td></tr><tr><th>16</th><td>27 December 2021</td><td>2021</td><td>Protests</td><td>60</td><td>Uttar Pradesh</td><td>On 27 December 2021, farmers staged a protest, in Noida (Gautam Buddha Nagar district, UP), demanding regularisation of development work, and allotment of reserved Abadi land. [size=no report]</td></tr><tr><th>17</th><td>24 December 2021</td><td>2021</td><td>Protests</td><td>60</td><td>Punjab</td><td>On 24 December 2021, BKU farmers staged a protest, at the Feroz Gandhi Market in Ludhiana (Ludhiana East, Ludhiana district, Punjab), demanding subsidies for farmers. [size=no report]</td></tr><tr><th>18</th><td>24 December 2021</td><td>2021</td><td>Protests</td><td>60</td><td>Tamil Nadu</td><td>On 24 December 2021, members of Tamil Nadu Vivasaya Sangam led by farmers held a protest march in Dharmapuri (Dharmapuri district, Tamil Nadu) against the government to acquire additional lands for the establishment of SIPCOT industrial estate. [size=no report]</td></tr><tr><th>19</th><td>24 December 2021</td><td>2021</td><td>Protests</td><td>60</td><td>Tripura</td><td>On 24 December 2021, thousands of people under the aegis of CPI(M) and Kisan Morcha (SKM) took out a protest rally in Agartala city (Mohanpur, West Tripura district, Tripura), against various difficulties faced by farmers in the state. [size=thousands]</td></tr><tr><th>20</th><td>23 December 2021</td><td>2021</td><td>Protests</td><td>60</td><td>Jammu and Kashmir</td><td>On 23 December 2021, farmers held a protest at Chak Avtara village in Bishnah tehsil (Kathua district, J&amp;K) against the authorities over not being compensated for road construction over their land. [size=no report]</td></tr><tr><th>21</th><td>23 December 2021</td><td>2021</td><td>Protests</td><td>60</td><td>Punjab</td><td>On 23 December 2021, SKM farmers staged a protest and blocked the railway track, in Jalandhar (Jalandhar-I, Jalandhar district, Punjab), demanding loan waivers for farmers as promised by the INC in their 2017 electoral manifesto, compensation for crop damage and aid for kin of those who lost their lives in the farmers agitation. [size=no report]</td></tr><tr><th>22</th><td>23 December 2021</td><td>2021</td><td>Protests</td><td>60</td><td>Punjab</td><td>On 23 December 2021, BKU farmers staged a protest, at the DC office, in Ludhiana (Ludhiana East, Ludhiana district, Punjab), demanding loan waivers for farmers as promised by the INC in their 2017 electoral manifesto. [size=no report]</td></tr><tr><th>23</th><td>23 December 2021</td><td>2021</td><td>Protests</td><td>60</td><td>Punjab</td><td>On 23 December 2021, BKU and KMSC farmers staged protests and blocked railroads across Punjab, coded as Chandigarh, demanding loan waivers for farmers as promised by the INC in their 2017 electoral manifesto, compensation for crop damage and aid for kin of those who lost their lives in the farmers agitation. [size=no report]</td></tr><tr><th>24</th><td>22 December 2021</td><td>2021</td><td>Protests</td><td>60</td><td>Punjab</td><td>On 22 December 2021, scores of BKU farmers staged a protest, at the DC office in Mansa (Mansa district, Punjab), demanding loan waivers for farmers as promised by the INC in their 2017 electoral manifesto and compensation for damaged cotton crop. [size=scores]</td></tr><tr><th>25</th><td>22 December 2021</td><td>2021</td><td>Protests</td><td>60</td><td>Tamil Nadu</td><td>On 22 December 2021, around 100 members of the Tamil Nadu Sugarcane Farmers Association held a &apos;waiting&apos; protest on the National Cooperative Sugar Mills premises at Alanganallur (Madurai district, Tamil Nadu) demanding for immediate start of cane crushing. [size=around 100]</td></tr><tr><th>26</th><td>22 December 2021</td><td>2021</td><td>Protests</td><td>60</td><td>Haryana</td><td>On 22 December 2021, farmers associated with BKU staged a protest and started a sit-in at the Ramayan toll plaza (Hansi, Hisar district, Haryana), demanding toll waiver for farmers. [size=no report]</td></tr><tr><th>27</th><td>21 December 2021</td><td>2021</td><td>Protests</td><td>60</td><td>Punjab</td><td>On 21 December 2021, BKU farmers staged a protest, at the DC office, in Ludhiana (Ludhiana East, Ludhiana district, Punjab), demanding loan waivers for farmers as promised by the INC in their 2017 electoral manifesto. [size=no report]</td></tr><tr><th>28</th><td>21 December 2021</td><td>2021</td><td>Protests</td><td>60</td><td>Punjab</td><td>On 21 December 2021, BKU farmers staged a protest, at the DC office, in Moga (Moga district, Punjab), demanding loan waivers for farmers as promised by the INC in their 2017 electoral manifesto. [size=no report]</td></tr><tr><th>29</th><td>21 December 2021</td><td>2021</td><td>Protests</td><td>60</td><td>Punjab</td><td>On 21 December 2021, BKU farmers staged a protest, at the DC office in Mansa (Mansa district, Punjab), demanding loan waivers for farmers as promised by the INC in their 2017 electoral manifesto. [size=no report]</td></tr><tr><th>30</th><td>21 December 2021</td><td>2021</td><td>Protests</td><td>60</td><td>Punjab</td><td>On 21 December 2021, BKU farmers staged a protest, at the DC office in Patiala (Patiala district, Punjab), demanding loan waivers for farmers as promised by the INC in their 2017 electoral manifesto. [size=no report]</td></tr><tr><th>&vellip;</th><td>&vellip;</td><td>&vellip;</td><td>&vellip;</td><td>&vellip;</td><td>&vellip;</td><td>&vellip;</td></tr></tbody></table></div>"
                     ],
                     "text/latex": [
                      "\\begin{tabular}{r|cccccc}\n",
                      "\t& event\\_date & year & event\\_type & interaction & admin1 & notes\\\\\n",
                      "\t\\hline\n",
                      "\t& String31 & Int64 & String31 & Int64 & String & String\\\\\n",
                      "\t\\hline\n",
                      "\t1 & 31 December 2021 & 2021 & Protests & 60 & Punjab & On 31 December 2021, BKU farmers staged a protest, in Bathinda (Bathinda district, Punjab), demanding compensation for the cotton crop damage and debt waiver for marginal and small farmers. [size=no report] \\\\\n",
                      "\t2 & 31 December 2021 & 2021 & Protests & 60 & Punjab & On 31 December 2021, BKU farmers staged a protest, in Mansa (Mansa district, Punjab), demanding compensation for the cotton crop damage and debt waiver for marginal and small farmers. [size=no report] \\\\\n",
                      "\t3 & 31 December 2021 & 2021 & Protests & 60 & Andhra Pradesh & On 31 December 2021, farmers staged a protest outside the police station in Komarada (Vizianagaram district, Andhra Pradesh) demanding steps by authorities to drive away wild elephants from their areas. [size=no report] \\\\\n",
                      "\t4 & 30 December 2021 & 2021 & Protests & 60 & Karnataka & On 30 December 2021, farmers held a protest near the DC office in Mysuru (Mysuru district, Karnataka) demanding a CPI probe into Nandini ghee adulteration racket. [size=no report] \\\\\n",
                      "\t5 & 29 December 2021 & 2021 & Protests & 60 & Punjab & On 29 December 2021, BKU farmers staged a protest, at the Deputy Commissioner office, in Ludhiana (Ludhiana East, Ludhiana district, Punjab), demanding crop damage compensation and loan waivers. [size=no report] \\\\\n",
                      "\t6 & 29 December 2021 & 2021 & Protests & 60 & Punjab & On 29 December 2021, BKU farmers supported teachers and members of the Government Colleges Guest Faculty Assistant Professors' Association, in Jalandhar (Jalandhar-I, Jalandhar district, Punjab), demanding regularisation of services. [size=no report] \\\\\n",
                      "\t7 & 29 December 2021 & 2021 & Protests & 60 & Punjab & On 29 December 2021, BKU farmers staged a protest, at the Deputy Commissioner office, in Barnala (Barnala district, Punjab), demanding crop damage compensation and loan waivers. [size=no report] \\\\\n",
                      "\t8 & 29 December 2021 & 2021 & Protests & 60 & Punjab & On 29 December 2021, BKU farmers staged a protest, at the Deputy Commissioner office, in Sangrur (Sangrur district, Punjab), demanding crop damage compensation and loan waivers. [size=no report] \\\\\n",
                      "\t9 & 29 December 2021 & 2021 & Protests & 16 & Uttar Pradesh & On 29 December 2021, farmers staged a protest and locked up stray cattle in a village in Shahjahanpur district (Shahjahanpur district, UP), over crop damage. Police arrested around 10 protesters. [size=no report] \\\\\n",
                      "\t10 & 28 December 2021 & 2021 & Protests & 60 & Jammu and Kashmir & On 28 December 2021, farmers along with an INC leader held a protest at Ranbir Singh Pura town (Jammu district, J\\&K) against the irrigation department over lack of cleaning of a canal leading to overflow of water on the road. [size=no report] \\\\\n",
                      "\t11 & 28 December 2021 & 2021 & Protests & 60 & Punjab & On 28 December 2021, KMSC and BKU farmers staged a protest in Jalandhar (Jalandhar-I, Jalandhar district, Punjab), demanding loan waivers for farmers as promised by the INC in their 2017 electoral manifesto, compensation for crop damage and aid for kin of those who lost their lives in the farmers agitation. [size=no report] \\\\\n",
                      "\t12 & 28 December 2021 & 2021 & Protests & 60 & Punjab & On 28 December 2021, farmers and farm labourers staged a protest, in Maur Mandi (Talwandi Sabo, Bathinda district, Punjab), demanding compensation for cotton crop damage due to pink bollworm attack. [size=no report] \\\\\n",
                      "\t13 & 27 December 2021 & 2021 & Protests & 60 & Punjab & On 27 December 2021, SKM farmers supported around 200 teachers of various colleges and staged a protest, in Jalandhar (Jalandhar-I, Jalandhar district, Punjab), demanding better wages, implementation of new pay commission and regularisation of services. [size=around 200] \\\\\n",
                      "\t14 & 27 December 2021 & 2021 & Protests & 60 & Uttar Pradesh & On 27 December 2021, around 500 farmers staged a protest and held a Mahapanchayat, at Ranhera village (Gautam Buddha Nagar district, UP), demanding better compensation of land for building an airport. [size=around 500] \\\\\n",
                      "\t15 & 27 December 2021 & 2021 & Protests & 60 & Jammu and Kashmir & On 27 December 2021, mission statehood members held a protest at Jammu city (J\\&K) to demand restoration of statehood to J\\&K and against the conversion of agricultural land into commercial land. [size=no report] \\\\\n",
                      "\t16 & 27 December 2021 & 2021 & Protests & 60 & Uttar Pradesh & On 27 December 2021, farmers staged a protest, in Noida (Gautam Buddha Nagar district, UP), demanding regularisation of development work, and allotment of reserved Abadi land. [size=no report] \\\\\n",
                      "\t17 & 24 December 2021 & 2021 & Protests & 60 & Punjab & On 24 December 2021, BKU farmers staged a protest, at the Feroz Gandhi Market in Ludhiana (Ludhiana East, Ludhiana district, Punjab), demanding subsidies for farmers. [size=no report] \\\\\n",
                      "\t18 & 24 December 2021 & 2021 & Protests & 60 & Tamil Nadu & On 24 December 2021, members of Tamil Nadu Vivasaya Sangam led by farmers held a protest march in Dharmapuri (Dharmapuri district, Tamil Nadu) against the government to acquire additional lands for the establishment of SIPCOT industrial estate. [size=no report] \\\\\n",
                      "\t19 & 24 December 2021 & 2021 & Protests & 60 & Tripura & On 24 December 2021, thousands of people under the aegis of CPI(M) and Kisan Morcha (SKM) took out a protest rally in Agartala city (Mohanpur, West Tripura district, Tripura), against various difficulties faced by farmers in the state. [size=thousands] \\\\\n",
                      "\t20 & 23 December 2021 & 2021 & Protests & 60 & Jammu and Kashmir & On 23 December 2021, farmers held a protest at Chak Avtara village in Bishnah tehsil (Kathua district, J\\&K) against the authorities over not being compensated for road construction over their land. [size=no report] \\\\\n",
                      "\t21 & 23 December 2021 & 2021 & Protests & 60 & Punjab & On 23 December 2021, SKM farmers staged a protest and blocked the railway track, in Jalandhar (Jalandhar-I, Jalandhar district, Punjab), demanding loan waivers for farmers as promised by the INC in their 2017 electoral manifesto, compensation for crop damage and aid for kin of those who lost their lives in the farmers agitation. [size=no report] \\\\\n",
                      "\t22 & 23 December 2021 & 2021 & Protests & 60 & Punjab & On 23 December 2021, BKU farmers staged a protest, at the DC office, in Ludhiana (Ludhiana East, Ludhiana district, Punjab), demanding loan waivers for farmers as promised by the INC in their 2017 electoral manifesto. [size=no report] \\\\\n",
                      "\t23 & 23 December 2021 & 2021 & Protests & 60 & Punjab & On 23 December 2021, BKU and KMSC farmers staged protests and blocked railroads across Punjab, coded as Chandigarh, demanding loan waivers for farmers as promised by the INC in their 2017 electoral manifesto, compensation for crop damage and aid for kin of those who lost their lives in the farmers agitation. [size=no report] \\\\\n",
                      "\t24 & 22 December 2021 & 2021 & Protests & 60 & Punjab & On 22 December 2021, scores of BKU farmers staged a protest, at the DC office in Mansa (Mansa district, Punjab), demanding loan waivers for farmers as promised by the INC in their 2017 electoral manifesto and compensation for damaged cotton crop. [size=scores] \\\\\n",
                      "\t25 & 22 December 2021 & 2021 & Protests & 60 & Tamil Nadu & On 22 December 2021, around 100 members of the Tamil Nadu Sugarcane Farmers Association held a 'waiting' protest on the National Cooperative Sugar Mills premises at Alanganallur (Madurai district, Tamil Nadu) demanding for immediate start of cane crushing. [size=around 100] \\\\\n",
                      "\t26 & 22 December 2021 & 2021 & Protests & 60 & Haryana & On 22 December 2021, farmers associated with BKU staged a protest and started a sit-in at the Ramayan toll plaza (Hansi, Hisar district, Haryana), demanding toll waiver for farmers. [size=no report] \\\\\n",
                      "\t27 & 21 December 2021 & 2021 & Protests & 60 & Punjab & On 21 December 2021, BKU farmers staged a protest, at the DC office, in Ludhiana (Ludhiana East, Ludhiana district, Punjab), demanding loan waivers for farmers as promised by the INC in their 2017 electoral manifesto. [size=no report] \\\\\n",
                      "\t28 & 21 December 2021 & 2021 & Protests & 60 & Punjab & On 21 December 2021, BKU farmers staged a protest, at the DC office, in Moga (Moga district, Punjab), demanding loan waivers for farmers as promised by the INC in their 2017 electoral manifesto. [size=no report] \\\\\n",
                      "\t29 & 21 December 2021 & 2021 & Protests & 60 & Punjab & On 21 December 2021, BKU farmers staged a protest, at the DC office in Mansa (Mansa district, Punjab), demanding loan waivers for farmers as promised by the INC in their 2017 electoral manifesto. [size=no report] \\\\\n",
                      "\t30 & 21 December 2021 & 2021 & Protests & 60 & Punjab & On 21 December 2021, BKU farmers staged a protest, at the DC office in Patiala (Patiala district, Punjab), demanding loan waivers for farmers as promised by the INC in their 2017 electoral manifesto. [size=no report] \\\\\n",
                      "\t$\\dots$ & $\\dots$ & $\\dots$ & $\\dots$ & $\\dots$ & $\\dots$ & $\\dots$ \\\\\n",
                      "\\end{tabular}\n"
                     ],
                     "text/plain": [
                      "\u001b[1m6716×6 DataFrame\u001b[0m\n",
                      "\u001b[1m  Row \u001b[0m│\u001b[1m event_date       \u001b[0m\u001b[1m year  \u001b[0m\u001b[1m event_type \u001b[0m\u001b[1m interaction \u001b[0m\u001b[1m admin1            \u001b[0m\u001b[1m n\u001b[0m ⋯\n",
                      "\u001b[1m      \u001b[0m│\u001b[90m String31         \u001b[0m\u001b[90m Int64 \u001b[0m\u001b[90m String31   \u001b[0m\u001b[90m Int64       \u001b[0m\u001b[90m String            \u001b[0m\u001b[90m S\u001b[0m ⋯\n",
                      "──────┼─────────────────────────────────────────────────────────────────────────\n",
                      "    1 │ 31 December 2021   2021  Protests             60  Punjab             O ⋯\n",
                      "    2 │ 31 December 2021   2021  Protests             60  Punjab             O\n",
                      "    3 │ 31 December 2021   2021  Protests             60  Andhra Pradesh     O\n",
                      "    4 │ 30 December 2021   2021  Protests             60  Karnataka          O\n",
                      "    5 │ 29 December 2021   2021  Protests             60  Punjab             O ⋯\n",
                      "    6 │ 29 December 2021   2021  Protests             60  Punjab             O\n",
                      "    7 │ 29 December 2021   2021  Protests             60  Punjab             O\n",
                      "    8 │ 29 December 2021   2021  Protests             60  Punjab             O\n",
                      "    9 │ 29 December 2021   2021  Protests             16  Uttar Pradesh      O ⋯\n",
                      "   10 │ 28 December 2021   2021  Protests             60  Jammu and Kashmir  O\n",
                      "   11 │ 28 December 2021   2021  Protests             60  Punjab             O\n",
                      "  ⋮   │        ⋮            ⋮        ⋮            ⋮               ⋮            ⋱\n",
                      " 6707 │ 06 January 2020    2020  Protests             60  Punjab             O\n",
                      " 6708 │ 06 January 2020    2020  Protests             60  Punjab             O ⋯\n",
                      " 6709 │ 06 January 2020    2020  Protests             60  Andhra Pradesh     O\n",
                      " 6710 │ 05 January 2020    2020  Protests             60  Karnataka          O\n",
                      " 6711 │ 04 January 2020    2020  Protests             60  Andhra Pradesh     O\n",
                      " 6712 │ 04 January 2020    2020  Protests             60  Andhra Pradesh     O ⋯\n",
                      " 6713 │ 03 January 2020    2020  Protests             60  Punjab             O\n",
                      " 6714 │ 02 January 2020    2020  Protests             16  Karnataka          O\n",
                      " 6715 │ 02 January 2020    2020  Protests             60  Karnataka          O\n",
                      " 6716 │ 01 January 2020    2020  Protests             60  Andhra Pradesh     O ⋯\n",
                      "\u001b[36m                                                  1 column and 6695 rows omitted\u001b[0m"
                     ]
                    },
                    "execution_count": 8,
                    "metadata": {},
                    "output_type": "execute_result"
                   }
                  ],
                  "source": [
                   "df_agri = df[(df.year .== 2020) .| (df.year .==2021),:];\n",
                   "df_farmers = refilter(df_agri)"
                  ]
                 },
                 {
                  "cell_type": "code",
                  "execution_count": 9,
                  "metadata": {},
                  "outputs": [
                   {
                    "data": {
                     "text/html": [
                      "<div class=\"data-frame\"><p>33 rows × 2 columns</p><table class=\"data-frame\"><thead><tr><th></th><th>admin1</th><th>num_of_protests</th></tr><tr><th></th><th title=\"String\">String</th><th title=\"Int64\">Int64</th></tr></thead><tbody><tr><th>1</th><td>Uttar Pradesh</td><td>362</td></tr><tr><th>2</th><td>Maharashtra</td><td>312</td></tr><tr><th>3</th><td>Punjab</td><td>1904</td></tr><tr><th>4</th><td>Madhya Pradesh</td><td>87</td></tr><tr><th>5</th><td>Telangana</td><td>248</td></tr><tr><th>6</th><td>Kerala</td><td>50</td></tr><tr><th>7</th><td>Karnataka</td><td>296</td></tr><tr><th>8</th><td>Tamil Nadu</td><td>470</td></tr><tr><th>9</th><td>West Bengal</td><td>104</td></tr><tr><th>10</th><td>Jammu and Kashmir</td><td>237</td></tr><tr><th>11</th><td>Andhra Pradesh</td><td>176</td></tr><tr><th>12</th><td>Delhi</td><td>337</td></tr><tr><th>13</th><td>Assam</td><td>102</td></tr><tr><th>14</th><td>Goa</td><td>15</td></tr><tr><th>15</th><td>Jharkhand</td><td>235</td></tr><tr><th>16</th><td>Himachal Pradesh</td><td>96</td></tr><tr><th>17</th><td>Chandigarh</td><td>63</td></tr><tr><th>18</th><td>Chhattisgarh</td><td>58</td></tr><tr><th>19</th><td>Odisha</td><td>175</td></tr><tr><th>20</th><td>Rajasthan</td><td>100</td></tr><tr><th>21</th><td>Puducherry</td><td>18</td></tr><tr><th>22</th><td>Gujarat</td><td>42</td></tr><tr><th>23</th><td>Bihar</td><td>159</td></tr><tr><th>24</th><td>Tripura</td><td>41</td></tr><tr><th>25</th><td>Arunachal Pradesh</td><td>6</td></tr><tr><th>26</th><td>Mizoram</td><td>1</td></tr><tr><th>27</th><td>Haryana</td><td>867</td></tr><tr><th>28</th><td>Manipur</td><td>17</td></tr><tr><th>29</th><td>Meghalaya</td><td>4</td></tr><tr><th>30</th><td>Uttarakhand</td><td>128</td></tr><tr><th>&vellip;</th><td>&vellip;</td><td>&vellip;</td></tr></tbody></table></div>"
                     ],
                     "text/latex": [
                      "\\begin{tabular}{r|cc}\n",
                      "\t& admin1 & num\\_of\\_protests\\\\\n",
                      "\t\\hline\n",
                      "\t& String & Int64\\\\\n",
                      "\t\\hline\n",
                      "\t1 & Uttar Pradesh & 362 \\\\\n",
                      "\t2 & Maharashtra & 312 \\\\\n",
                      "\t3 & Punjab & 1904 \\\\\n",
                      "\t4 & Madhya Pradesh & 87 \\\\\n",
                      "\t5 & Telangana & 248 \\\\\n",
                      "\t6 & Kerala & 50 \\\\\n",
                      "\t7 & Karnataka & 296 \\\\\n",
                      "\t8 & Tamil Nadu & 470 \\\\\n",
                      "\t9 & West Bengal & 104 \\\\\n",
                      "\t10 & Jammu and Kashmir & 237 \\\\\n",
                      "\t11 & Andhra Pradesh & 176 \\\\\n",
                      "\t12 & Delhi & 337 \\\\\n",
                      "\t13 & Assam & 102 \\\\\n",
                      "\t14 & Goa & 15 \\\\\n",
                      "\t15 & Jharkhand & 235 \\\\\n",
                      "\t16 & Himachal Pradesh & 96 \\\\\n",
                      "\t17 & Chandigarh & 63 \\\\\n",
                      "\t18 & Chhattisgarh & 58 \\\\\n",
                      "\t19 & Odisha & 175 \\\\\n",
                      "\t20 & Rajasthan & 100 \\\\\n",
                      "\t21 & Puducherry & 18 \\\\\n",
                      "\t22 & Gujarat & 42 \\\\\n",
                      "\t23 & Bihar & 159 \\\\\n",
                      "\t24 & Tripura & 41 \\\\\n",
                      "\t25 & Arunachal Pradesh & 6 \\\\\n",
                      "\t26 & Mizoram & 1 \\\\\n",
                      "\t27 & Haryana & 867 \\\\\n",
                      "\t28 & Manipur & 17 \\\\\n",
                      "\t29 & Meghalaya & 4 \\\\\n",
                      "\t30 & Uttarakhand & 128 \\\\\n",
                      "\t$\\dots$ & $\\dots$ & $\\dots$ \\\\\n",
                      "\\end{tabular}\n"
                     ],
                     "text/plain": [
                      "\u001b[1m33×2 DataFrame\u001b[0m\n",
                      "\u001b[1m Row \u001b[0m│\u001b[1m admin1                      \u001b[0m\u001b[1m num_of_protests \u001b[0m\n",
                      "\u001b[1m     \u001b[0m│\u001b[90m String                      \u001b[0m\u001b[90m Int64           \u001b[0m\n",
                      "─────┼──────────────────────────────────────────────\n",
                      "   1 │ Uttar Pradesh                            362\n",
                      "   2 │ Maharashtra                              312\n",
                      "   3 │ Punjab                                  1904\n",
                      "   4 │ Madhya Pradesh                            87\n",
                      "   5 │ Telangana                                248\n",
                      "   6 │ Kerala                                    50\n",
                      "   7 │ Karnataka                                296\n",
                      "   8 │ Tamil Nadu                               470\n",
                      "   9 │ West Bengal                              104\n",
                      "  10 │ Jammu and Kashmir                        237\n",
                      "  11 │ Andhra Pradesh                           176\n",
                      "  ⋮  │              ⋮                      ⋮\n",
                      "  24 │ Tripura                                   41\n",
                      "  25 │ Arunachal Pradesh                          6\n",
                      "  26 │ Mizoram                                    1\n",
                      "  27 │ Haryana                                  867\n",
                      "  28 │ Manipur                                   17\n",
                      "  29 │ Meghalaya                                  4\n",
                      "  30 │ Uttarakhand                              128\n",
                      "  31 │ Nagaland                                   2\n",
                      "  32 │ Sikkim                                     1\n",
                      "  33 │ Andaman and Nicobar Islands                3\n",
                      "\u001b[36m                                     12 rows omitted\u001b[0m"
                     ]
                    },
                    "execution_count": 9,
                    "metadata": {},
                    "output_type": "execute_result"
                   }
                  ],
                  "source": [
                   "\n",
                   "df_agri_col = groupby(df_farmers, :admin1);\n",
                   "\n",
                   "df_agri_col = combine(df_agri_col, nrow .=> :num_of_protests) \n"
                  ]
                 },
                 {
                  "cell_type": "code",
                  "execution_count": 10,
                  "metadata": {},
                  "outputs": [],
                  "source": [
                   "wrong_cities = [\"Telangana\", \"Jammu and Kashmir\", \"Delhi\", \"Goa\", \"Arunachal Pradesh\",\"Jharkhand\",\"Chandigarh\", \"Chhattisgarh\", \"Puducherry\", \"Arunachal\",\"Pradesh\", \"Mizoram\", \"Manipur\", \"Meghalaya\", \"Uttarakhand\" ,\"Ladakh\",\"Nagaland\", \"Sikkim\", \"Lakshadweep\", \"Andaman and Nicobar Islands\"];"
                  ]
                 },
                 {
                  "cell_type": "code",
                  "execution_count": 11,
                  "metadata": {},
                  "outputs": [],
                  "source": [
                   "for city in wrong_cities\n",
                   "    df_agri_col = df_agri_col[df_agri_col.admin1 .!= city,:]\n",
                   "end"
                  ]
                 },
                 {
                  "cell_type": "code",
                  "execution_count": 12,
                  "metadata": {},
                  "outputs": [
                   {
                    "data": {
                     "text/html": [
                      "<div class=\"data-frame\"><p>17 rows × 2 columns</p><table class=\"data-frame\"><thead><tr><th></th><th>admin1</th><th>num_of_protests</th></tr><tr><th></th><th title=\"String\">String</th><th title=\"Int64\">Int64</th></tr></thead><tbody><tr><th>1</th><td>Uttar Pradesh</td><td>362</td></tr><tr><th>2</th><td>Maharashtra</td><td>312</td></tr><tr><th>3</th><td>Punjab</td><td>1904</td></tr><tr><th>4</th><td>Madhya Pradesh</td><td>87</td></tr><tr><th>5</th><td>Kerala</td><td>50</td></tr><tr><th>6</th><td>Karnataka</td><td>296</td></tr><tr><th>7</th><td>Tamil Nadu</td><td>470</td></tr><tr><th>8</th><td>West Bengal</td><td>104</td></tr><tr><th>9</th><td>Andhra Pradesh</td><td>176</td></tr><tr><th>10</th><td>Assam</td><td>102</td></tr><tr><th>11</th><td>Himachal Pradesh</td><td>96</td></tr><tr><th>12</th><td>Odisha</td><td>175</td></tr><tr><th>13</th><td>Rajasthan</td><td>100</td></tr><tr><th>14</th><td>Gujarat</td><td>42</td></tr><tr><th>15</th><td>Bihar</td><td>159</td></tr><tr><th>16</th><td>Tripura</td><td>41</td></tr><tr><th>17</th><td>Haryana</td><td>867</td></tr></tbody></table></div>"
                     ],
                     "text/latex": [
                      "\\begin{tabular}{r|cc}\n",
                      "\t& admin1 & num\\_of\\_protests\\\\\n",
                      "\t\\hline\n",
                      "\t& String & Int64\\\\\n",
                      "\t\\hline\n",
                      "\t1 & Uttar Pradesh & 362 \\\\\n",
                      "\t2 & Maharashtra & 312 \\\\\n",
                      "\t3 & Punjab & 1904 \\\\\n",
                      "\t4 & Madhya Pradesh & 87 \\\\\n",
                      "\t5 & Kerala & 50 \\\\\n",
                      "\t6 & Karnataka & 296 \\\\\n",
                      "\t7 & Tamil Nadu & 470 \\\\\n",
                      "\t8 & West Bengal & 104 \\\\\n",
                      "\t9 & Andhra Pradesh & 176 \\\\\n",
                      "\t10 & Assam & 102 \\\\\n",
                      "\t11 & Himachal Pradesh & 96 \\\\\n",
                      "\t12 & Odisha & 175 \\\\\n",
                      "\t13 & Rajasthan & 100 \\\\\n",
                      "\t14 & Gujarat & 42 \\\\\n",
                      "\t15 & Bihar & 159 \\\\\n",
                      "\t16 & Tripura & 41 \\\\\n",
                      "\t17 & Haryana & 867 \\\\\n",
                      "\\end{tabular}\n"
                     ],
                     "text/plain": [
                      "\u001b[1m17×2 DataFrame\u001b[0m\n",
                      "\u001b[1m Row \u001b[0m│\u001b[1m admin1           \u001b[0m\u001b[1m num_of_protests \u001b[0m\n",
                      "\u001b[1m     \u001b[0m│\u001b[90m String           \u001b[0m\u001b[90m Int64           \u001b[0m\n",
                      "─────┼───────────────────────────────────\n",
                      "   1 │ Uttar Pradesh                 362\n",
                      "   2 │ Maharashtra                   312\n",
                      "   3 │ Punjab                       1904\n",
                      "   4 │ Madhya Pradesh                 87\n",
                      "   5 │ Kerala                         50\n",
                      "   6 │ Karnataka                     296\n",
                      "   7 │ Tamil Nadu                    470\n",
                      "   8 │ West Bengal                   104\n",
                      "   9 │ Andhra Pradesh                176\n",
                      "  10 │ Assam                         102\n",
                      "  11 │ Himachal Pradesh               96\n",
                      "  12 │ Odisha                        175\n",
                      "  13 │ Rajasthan                     100\n",
                      "  14 │ Gujarat                        42\n",
                      "  15 │ Bihar                         159\n",
                      "  16 │ Tripura                        41\n",
                      "  17 │ Haryana                       867"
                     ]
                    },
                    "execution_count": 12,
                    "metadata": {},
                    "output_type": "execute_result"
                   }
                  ],
                  "source": [
                   "df_agri_col"
                  ]
                 },
                 {
                  "cell_type": "code",
                  "execution_count": 13,
                  "metadata": {},
                  "outputs": [
                   {
                    "data": {
                     "text/html": [
                      "<div class=\"data-frame\"><p>17 rows × 2 columns</p><table class=\"data-frame\"><thead><tr><th></th><th>admin1</th><th>num_of_protests</th></tr><tr><th></th><th title=\"String\">String</th><th title=\"Int64\">Int64</th></tr></thead><tbody><tr><th>1</th><td>Andhra Pradesh</td><td>176</td></tr><tr><th>2</th><td>Assam</td><td>102</td></tr><tr><th>3</th><td>Bihar</td><td>159</td></tr><tr><th>4</th><td>Gujarat</td><td>42</td></tr><tr><th>5</th><td>Haryana</td><td>867</td></tr><tr><th>6</th><td>Himachal Pradesh</td><td>96</td></tr><tr><th>7</th><td>Karnataka</td><td>296</td></tr><tr><th>8</th><td>Kerala</td><td>50</td></tr><tr><th>9</th><td>Madhya Pradesh</td><td>87</td></tr><tr><th>10</th><td>Maharashtra</td><td>312</td></tr><tr><th>11</th><td>Odisha</td><td>175</td></tr><tr><th>12</th><td>Punjab</td><td>1904</td></tr><tr><th>13</th><td>Rajasthan</td><td>100</td></tr><tr><th>14</th><td>Tamil Nadu</td><td>470</td></tr><tr><th>15</th><td>Tripura</td><td>41</td></tr><tr><th>16</th><td>Uttar Pradesh</td><td>362</td></tr><tr><th>17</th><td>West Bengal</td><td>104</td></tr></tbody></table></div>"
                     ],
                     "text/latex": [
                      "\\begin{tabular}{r|cc}\n",
                      "\t& admin1 & num\\_of\\_protests\\\\\n",
                      "\t\\hline\n",
                      "\t& String & Int64\\\\\n",
                      "\t\\hline\n",
                      "\t1 & Andhra Pradesh & 176 \\\\\n",
                      "\t2 & Assam & 102 \\\\\n",
                      "\t3 & Bihar & 159 \\\\\n",
                      "\t4 & Gujarat & 42 \\\\\n",
                      "\t5 & Haryana & 867 \\\\\n",
                      "\t6 & Himachal Pradesh & 96 \\\\\n",
                      "\t7 & Karnataka & 296 \\\\\n",
                      "\t8 & Kerala & 50 \\\\\n",
                      "\t9 & Madhya Pradesh & 87 \\\\\n",
                      "\t10 & Maharashtra & 312 \\\\\n",
                      "\t11 & Odisha & 175 \\\\\n",
                      "\t12 & Punjab & 1904 \\\\\n",
                      "\t13 & Rajasthan & 100 \\\\\n",
                      "\t14 & Tamil Nadu & 470 \\\\\n",
                      "\t15 & Tripura & 41 \\\\\n",
                      "\t16 & Uttar Pradesh & 362 \\\\\n",
                      "\t17 & West Bengal & 104 \\\\\n",
                      "\\end{tabular}\n"
                     ],
                     "text/plain": [
                      "\u001b[1m17×2 DataFrame\u001b[0m\n",
                      "\u001b[1m Row \u001b[0m│\u001b[1m admin1           \u001b[0m\u001b[1m num_of_protests \u001b[0m\n",
                      "\u001b[1m     \u001b[0m│\u001b[90m String           \u001b[0m\u001b[90m Int64           \u001b[0m\n",
                      "─────┼───────────────────────────────────\n",
                      "   1 │ Andhra Pradesh                176\n",
                      "   2 │ Assam                         102\n",
                      "   3 │ Bihar                         159\n",
                      "   4 │ Gujarat                        42\n",
                      "   5 │ Haryana                       867\n",
                      "   6 │ Himachal Pradesh               96\n",
                      "   7 │ Karnataka                     296\n",
                      "   8 │ Kerala                         50\n",
                      "   9 │ Madhya Pradesh                 87\n",
                      "  10 │ Maharashtra                   312\n",
                      "  11 │ Odisha                        175\n",
                      "  12 │ Punjab                       1904\n",
                      "  13 │ Rajasthan                     100\n",
                      "  14 │ Tamil Nadu                    470\n",
                      "  15 │ Tripura                        41\n",
                      "  16 │ Uttar Pradesh                 362\n",
                      "  17 │ West Bengal                   104"
                     ]
                    },
                    "execution_count": 13,
                    "metadata": {},
                    "output_type": "execute_result"
                   }
                  ],
                  "source": [
                   "df_agri_col = sort(df_agri_col, :admin1)"
                  ]
                 },
                 {
                  "cell_type": "code",
                  "execution_count": 14,
                  "metadata": {},
                  "outputs": [],
                  "source": [
                   "df_agri_col[!,\"Nitrogen\"] = [1.55,1.76, missing, 1.71, 1.04, 2.34, 2.05, 1.66, 1.27, 1.40, 1.57, 1.67, missing, 1.34, 1.76, 1.25, 1.67];"
                  ]
                 },
                 {
                  "cell_type": "code",
                  "execution_count": 15,
                  "metadata": {},
                  "outputs": [],
                  "source": [
                   "df_agri_col[!,\"Phosphorus\"] = [1.57,2.13,missing, 1.64,1.20,1.93,1.90,2.35,1.84,1.16,1.54,1.93,missing, 2.11,1.69,1.32,2.05];"
                  ]
                 },
                 {
                  "cell_type": "code",
                  "execution_count": 16,
                  "metadata": {},
                  "outputs": [],
                  "source": [
                   "df_agri_col[!,\"Potassium\"] = [2.52,2.14,missing, 2.60,2.05,1.63,2.54,1.98,2.48, 2.66,1.93,2.40,missing, 2.40,1.70, 2.21,2.04];"
                  ]
                 },
                 {
                  "cell_type": "code",
                  "execution_count": 17,
                  "metadata": {},
                  "outputs": [
                   {
                    "data": {
                     "text/html": [
                      "<div class=\"data-frame\"><p>17 rows × 5 columns</p><table class=\"data-frame\"><thead><tr><th></th><th>admin1</th><th>num_of_protests</th><th>Nitrogen</th><th>Phosphorus</th><th>Potassium</th></tr><tr><th></th><th title=\"String\">String</th><th title=\"Int64\">Int64</th><th title=\"Union{Missing, Float64}\">Float64?</th><th title=\"Union{Missing, Float64}\">Float64?</th><th title=\"Union{Missing, Float64}\">Float64?</th></tr></thead><tbody><tr><th>1</th><td>Andhra Pradesh</td><td>176</td><td>1.55</td><td>1.57</td><td>2.52</td></tr><tr><th>2</th><td>Assam</td><td>102</td><td>1.76</td><td>2.13</td><td>2.14</td></tr><tr><th>3</th><td>Bihar</td><td>159</td><td><em>missing</em></td><td><em>missing</em></td><td><em>missing</em></td></tr><tr><th>4</th><td>Gujarat</td><td>42</td><td>1.71</td><td>1.64</td><td>2.6</td></tr><tr><th>5</th><td>Haryana</td><td>867</td><td>1.04</td><td>1.2</td><td>2.05</td></tr><tr><th>6</th><td>Himachal Pradesh</td><td>96</td><td>2.34</td><td>1.93</td><td>1.63</td></tr><tr><th>7</th><td>Karnataka</td><td>296</td><td>2.05</td><td>1.9</td><td>2.54</td></tr><tr><th>8</th><td>Kerala</td><td>50</td><td>1.66</td><td>2.35</td><td>1.98</td></tr><tr><th>9</th><td>Madhya Pradesh</td><td>87</td><td>1.27</td><td>1.84</td><td>2.48</td></tr><tr><th>10</th><td>Maharashtra</td><td>312</td><td>1.4</td><td>1.16</td><td>2.66</td></tr><tr><th>11</th><td>Odisha</td><td>175</td><td>1.57</td><td>1.54</td><td>1.93</td></tr><tr><th>12</th><td>Punjab</td><td>1904</td><td>1.67</td><td>1.93</td><td>2.4</td></tr><tr><th>13</th><td>Rajasthan</td><td>100</td><td><em>missing</em></td><td><em>missing</em></td><td><em>missing</em></td></tr><tr><th>14</th><td>Tamil Nadu</td><td>470</td><td>1.34</td><td>2.11</td><td>2.4</td></tr><tr><th>15</th><td>Tripura</td><td>41</td><td>1.76</td><td>1.69</td><td>1.7</td></tr><tr><th>16</th><td>Uttar Pradesh</td><td>362</td><td>1.25</td><td>1.32</td><td>2.21</td></tr><tr><th>17</th><td>West Bengal</td><td>104</td><td>1.67</td><td>2.05</td><td>2.04</td></tr></tbody></table></div>"
                     ],
                     "text/latex": [
                      "\\begin{tabular}{r|ccccc}\n",
                      "\t& admin1 & num\\_of\\_protests & Nitrogen & Phosphorus & Potassium\\\\\n",
                      "\t\\hline\n",
                      "\t& String & Int64 & Float64? & Float64? & Float64?\\\\\n",
                      "\t\\hline\n",
                      "\t1 & Andhra Pradesh & 176 & 1.55 & 1.57 & 2.52 \\\\\n",
                      "\t2 & Assam & 102 & 1.76 & 2.13 & 2.14 \\\\\n",
                      "\t3 & Bihar & 159 & \\emph{missing} & \\emph{missing} & \\emph{missing} \\\\\n",
                      "\t4 & Gujarat & 42 & 1.71 & 1.64 & 2.6 \\\\\n",
                      "\t5 & Haryana & 867 & 1.04 & 1.2 & 2.05 \\\\\n",
                      "\t6 & Himachal Pradesh & 96 & 2.34 & 1.93 & 1.63 \\\\\n",
                      "\t7 & Karnataka & 296 & 2.05 & 1.9 & 2.54 \\\\\n",
                      "\t8 & Kerala & 50 & 1.66 & 2.35 & 1.98 \\\\\n",
                      "\t9 & Madhya Pradesh & 87 & 1.27 & 1.84 & 2.48 \\\\\n",
                      "\t10 & Maharashtra & 312 & 1.4 & 1.16 & 2.66 \\\\\n",
                      "\t11 & Odisha & 175 & 1.57 & 1.54 & 1.93 \\\\\n",
                      "\t12 & Punjab & 1904 & 1.67 & 1.93 & 2.4 \\\\\n",
                      "\t13 & Rajasthan & 100 & \\emph{missing} & \\emph{missing} & \\emph{missing} \\\\\n",
                      "\t14 & Tamil Nadu & 470 & 1.34 & 2.11 & 2.4 \\\\\n",
                      "\t15 & Tripura & 41 & 1.76 & 1.69 & 1.7 \\\\\n",
                      "\t16 & Uttar Pradesh & 362 & 1.25 & 1.32 & 2.21 \\\\\n",
                      "\t17 & West Bengal & 104 & 1.67 & 2.05 & 2.04 \\\\\n",
                      "\\end{tabular}\n"
                     ],
                     "text/plain": [
                      "\u001b[1m17×5 DataFrame\u001b[0m\n",
                      "\u001b[1m Row \u001b[0m│\u001b[1m admin1           \u001b[0m\u001b[1m num_of_protests \u001b[0m\u001b[1m Nitrogen   \u001b[0m\u001b[1m Phosphorus \u001b[0m\u001b[1m Potassium  \u001b[0m\n",
                      "\u001b[1m     \u001b[0m│\u001b[90m String           \u001b[0m\u001b[90m Int64           \u001b[0m\u001b[90m Float64?   \u001b[0m\u001b[90m Float64?   \u001b[0m\u001b[90m Float64?   \u001b[0m\n",
                      "─────┼───────────────────────────────────────────────────────────────────────\n",
                      "   1 │ Andhra Pradesh                176        1.55        1.57        2.52\n",
                      "   2 │ Assam                         102        1.76        2.13        2.14\n",
                      "   3 │ Bihar                         159 \u001b[90m missing    \u001b[0m\u001b[90m missing    \u001b[0m\u001b[90m missing    \u001b[0m\n",
                      "   4 │ Gujarat                        42        1.71        1.64        2.6\n",
                      "   5 │ Haryana                       867        1.04        1.2         2.05\n",
                      "   6 │ Himachal Pradesh               96        2.34        1.93        1.63\n",
                      "   7 │ Karnataka                     296        2.05        1.9         2.54\n",
                      "   8 │ Kerala                         50        1.66        2.35        1.98\n",
                      "   9 │ Madhya Pradesh                 87        1.27        1.84        2.48\n",
                      "  10 │ Maharashtra                   312        1.4         1.16        2.66\n",
                      "  11 │ Odisha                        175        1.57        1.54        1.93\n",
                      "  12 │ Punjab                       1904        1.67        1.93        2.4\n",
                      "  13 │ Rajasthan                     100 \u001b[90m missing    \u001b[0m\u001b[90m missing    \u001b[0m\u001b[90m missing    \u001b[0m\n",
                      "  14 │ Tamil Nadu                    470        1.34        2.11        2.4\n",
                      "  15 │ Tripura                        41        1.76        1.69        1.7\n",
                      "  16 │ Uttar Pradesh                 362        1.25        1.32        2.21\n",
                      "  17 │ West Bengal                   104        1.67        2.05        2.04"
                     ]
                    },
                    "execution_count": 17,
                    "metadata": {},
                    "output_type": "execute_result"
                   }
                  ],
                  "source": [
                   "df_agri_col"
                  ]
                 },
                 {
                  "cell_type": "code",
                  "execution_count": 18,
                  "metadata": {},
                  "outputs": [
                   {
                    "data": {
                     "text/html": [
                      "<div class=\"data-frame\"><p>15 rows × 5 columns</p><table class=\"data-frame\"><thead><tr><th></th><th>admin1</th><th>num_of_protests</th><th>Nitrogen</th><th>Phosphorus</th><th>Potassium</th></tr><tr><th></th><th title=\"String\">String</th><th title=\"Int64\">Int64</th><th title=\"Float64\">Float64</th><th title=\"Float64\">Float64</th><th title=\"Float64\">Float64</th></tr></thead><tbody><tr><th>1</th><td>Andhra Pradesh</td><td>176</td><td>1.55</td><td>1.57</td><td>2.52</td></tr><tr><th>2</th><td>Assam</td><td>102</td><td>1.76</td><td>2.13</td><td>2.14</td></tr><tr><th>3</th><td>Gujarat</td><td>42</td><td>1.71</td><td>1.64</td><td>2.6</td></tr><tr><th>4</th><td>Haryana</td><td>867</td><td>1.04</td><td>1.2</td><td>2.05</td></tr><tr><th>5</th><td>Himachal Pradesh</td><td>96</td><td>2.34</td><td>1.93</td><td>1.63</td></tr><tr><th>6</th><td>Karnataka</td><td>296</td><td>2.05</td><td>1.9</td><td>2.54</td></tr><tr><th>7</th><td>Kerala</td><td>50</td><td>1.66</td><td>2.35</td><td>1.98</td></tr><tr><th>8</th><td>Madhya Pradesh</td><td>87</td><td>1.27</td><td>1.84</td><td>2.48</td></tr><tr><th>9</th><td>Maharashtra</td><td>312</td><td>1.4</td><td>1.16</td><td>2.66</td></tr><tr><th>10</th><td>Odisha</td><td>175</td><td>1.57</td><td>1.54</td><td>1.93</td></tr><tr><th>11</th><td>Punjab</td><td>1904</td><td>1.67</td><td>1.93</td><td>2.4</td></tr><tr><th>12</th><td>Tamil Nadu</td><td>470</td><td>1.34</td><td>2.11</td><td>2.4</td></tr><tr><th>13</th><td>Tripura</td><td>41</td><td>1.76</td><td>1.69</td><td>1.7</td></tr><tr><th>14</th><td>Uttar Pradesh</td><td>362</td><td>1.25</td><td>1.32</td><td>2.21</td></tr><tr><th>15</th><td>West Bengal</td><td>104</td><td>1.67</td><td>2.05</td><td>2.04</td></tr></tbody></table></div>"
                     ],
                     "text/latex": [
                      "\\begin{tabular}{r|ccccc}\n",
                      "\t& admin1 & num\\_of\\_protests & Nitrogen & Phosphorus & Potassium\\\\\n",
                      "\t\\hline\n",
                      "\t& String & Int64 & Float64 & Float64 & Float64\\\\\n",
                      "\t\\hline\n",
                      "\t1 & Andhra Pradesh & 176 & 1.55 & 1.57 & 2.52 \\\\\n",
                      "\t2 & Assam & 102 & 1.76 & 2.13 & 2.14 \\\\\n",
                      "\t3 & Gujarat & 42 & 1.71 & 1.64 & 2.6 \\\\\n",
                      "\t4 & Haryana & 867 & 1.04 & 1.2 & 2.05 \\\\\n",
                      "\t5 & Himachal Pradesh & 96 & 2.34 & 1.93 & 1.63 \\\\\n",
                      "\t6 & Karnataka & 296 & 2.05 & 1.9 & 2.54 \\\\\n",
                      "\t7 & Kerala & 50 & 1.66 & 2.35 & 1.98 \\\\\n",
                      "\t8 & Madhya Pradesh & 87 & 1.27 & 1.84 & 2.48 \\\\\n",
                      "\t9 & Maharashtra & 312 & 1.4 & 1.16 & 2.66 \\\\\n",
                      "\t10 & Odisha & 175 & 1.57 & 1.54 & 1.93 \\\\\n",
                      "\t11 & Punjab & 1904 & 1.67 & 1.93 & 2.4 \\\\\n",
                      "\t12 & Tamil Nadu & 470 & 1.34 & 2.11 & 2.4 \\\\\n",
                      "\t13 & Tripura & 41 & 1.76 & 1.69 & 1.7 \\\\\n",
                      "\t14 & Uttar Pradesh & 362 & 1.25 & 1.32 & 2.21 \\\\\n",
                      "\t15 & West Bengal & 104 & 1.67 & 2.05 & 2.04 \\\\\n",
                      "\\end{tabular}\n"
                     ],
                     "text/plain": [
                      "\u001b[1m15×5 DataFrame\u001b[0m\n",
                      "\u001b[1m Row \u001b[0m│\u001b[1m admin1           \u001b[0m\u001b[1m num_of_protests \u001b[0m\u001b[1m Nitrogen \u001b[0m\u001b[1m Phosphorus \u001b[0m\u001b[1m Potassium \u001b[0m\n",
                      "\u001b[1m     \u001b[0m│\u001b[90m String           \u001b[0m\u001b[90m Int64           \u001b[0m\u001b[90m Float64  \u001b[0m\u001b[90m Float64    \u001b[0m\u001b[90m Float64   \u001b[0m\n",
                      "─────┼────────────────────────────────────────────────────────────────────\n",
                      "   1 │ Andhra Pradesh                176      1.55        1.57       2.52\n",
                      "   2 │ Assam                         102      1.76        2.13       2.14\n",
                      "   3 │ Gujarat                        42      1.71        1.64       2.6\n",
                      "   4 │ Haryana                       867      1.04        1.2        2.05\n",
                      "   5 │ Himachal Pradesh               96      2.34        1.93       1.63\n",
                      "   6 │ Karnataka                     296      2.05        1.9        2.54\n",
                      "   7 │ Kerala                         50      1.66        2.35       1.98\n",
                      "   8 │ Madhya Pradesh                 87      1.27        1.84       2.48\n",
                      "   9 │ Maharashtra                   312      1.4         1.16       2.66\n",
                      "  10 │ Odisha                        175      1.57        1.54       1.93\n",
                      "  11 │ Punjab                       1904      1.67        1.93       2.4\n",
                      "  12 │ Tamil Nadu                    470      1.34        2.11       2.4\n",
                      "  13 │ Tripura                        41      1.76        1.69       1.7\n",
                      "  14 │ Uttar Pradesh                 362      1.25        1.32       2.21\n",
                      "  15 │ West Bengal                   104      1.67        2.05       2.04"
                     ]
                    },
                    "execution_count": 18,
                    "metadata": {},
                    "output_type": "execute_result"
                   }
                  ],
                  "source": [
                   "agri_col_cleansed = dropmissing(df_agri_col)"
                  ]
                 },
                 {
                  "cell_type": "code",
                  "execution_count": 19,
                  "metadata": {},
                  "outputs": [
                   {
                    "data": {
                     "application/vnd.plotly.v1+json": {
                      "config": {
                       "editable": false,
                       "responsive": true,
                       "scrollZoom": true,
                       "showLink": false,
                       "staticPlot": false
                      },
                      "data": [
                       {
                        "mode": "markers",
                        "type": "scatter",
                        "x": [
                         1.55,
                         1.76,
                         1.71,
                         1.04,
                         2.34,
                         2.05,
                         1.66,
                         1.27,
                         1.4,
                         1.57,
                         1.67,
                         1.34,
                         1.76,
                         1.25,
                         1.67
                        ],
                        "y": [
                         176,
                         102,
                         42,
                         867,
                         96,
                         296,
                         50,
                         87,
                         312,
                         175,
                         1904,
                         470,
                         41,
                         362,
                         104
                        ]
                       }
                      ],
                      "frames": [],
                      "layout": {
                       "autosize": true,
                       "margin": {
                        "b": 50,
                        "l": 50,
                        "r": 50,
                        "t": 60
                       },
                       "template": {
                        "data": {
                         "bar": [
                          {
                           "error_x": {
                            "color": "#2a3f5f"
                           },
                           "error_y": {
                            "color": "#2a3f5f"
                           },
                           "marker": {
                            "line": {
                             "color": "#E5ECF6",
                             "width": 0.5
                            }
                           },
                           "type": "bar"
                          }
                         ],
                         "barpolar": [
                          {
                           "marker": {
                            "line": {
                             "color": "#E5ECF6",
                             "width": 0.5
                            }
                           },
                           "type": "barpolar"
                          }
                         ],
                         "carpet": [
                          {
                           "aaxis": {
                            "endlinecolor": "#2a3f5f",
                            "gridcolor": "white",
                            "linecolor": "white",
                            "minorgridcolor": "white",
                            "startlinecolor": "#2a3f5f"
                           },
                           "baxis": {
                            "endlinecolor": "#2a3f5f",
                            "gridcolor": "white",
                            "linecolor": "white",
                            "minorgridcolor": "white",
                            "startlinecolor": "#2a3f5f"
                           },
                           "type": "carpet"
                          }
                         ],
                         "choropleth": [
                          {
                           "colorbar": {
                            "outlinewidth": 0,
                            "ticks": ""
                           },
                           "type": "choropleth"
                          }
                         ],
                         "contour": [
                          {
                           "colorbar": {
                            "outlinewidth": 0,
                            "ticks": ""
                           },
                           "colorscale": [
                            [
                             0,
                             "#0d0887"
                            ],
                            [
                             0.1111111111111111,
                             "#46039f"
                            ],
                            [
                             0.2222222222222222,
                             "#7201a8"
                            ],
                            [
                             0.3333333333333333,
                             "#9c179e"
                            ],
                            [
                             0.4444444444444444,
                             "#bd3786"
                            ],
                            [
                             0.5555555555555556,
                             "#d8576b"
                            ],
                            [
                             0.6666666666666666,
                             "#ed7953"
                            ],
                            [
                             0.7777777777777778,
                             "#fb9f3a"
                            ],
                            [
                             0.8888888888888888,
                             "#fdca26"
                            ],
                            [
                             1,
                             "#f0f921"
                            ]
                           ],
                           "type": "contour"
                          }
                         ],
                         "contourcarpet": [
                          {
                           "colorbar": {
                            "outlinewidth": 0,
                            "ticks": ""
                           },
                           "type": "contourcarpet"
                          }
                         ],
                         "heatmap": [
                          {
                           "colorbar": {
                            "outlinewidth": 0,
                            "ticks": ""
                           },
                           "colorscale": [
                            [
                             0,
                             "#0d0887"
                            ],
                            [
                             0.1111111111111111,
                             "#46039f"
                            ],
                            [
                             0.2222222222222222,
                             "#7201a8"
                            ],
                            [
                             0.3333333333333333,
                             "#9c179e"
                            ],
                            [
                             0.4444444444444444,
                             "#bd3786"
                            ],
                            [
                             0.5555555555555556,
                             "#d8576b"
                            ],
                            [
                             0.6666666666666666,
                             "#ed7953"
                            ],
                            [
                             0.7777777777777778,
                             "#fb9f3a"
                            ],
                            [
                             0.8888888888888888,
                             "#fdca26"
                            ],
                            [
                             1,
                             "#f0f921"
                            ]
                           ],
                           "type": "heatmap"
                          }
                         ],
                         "heatmapgl": [
                          {
                           "colorbar": {
                            "outlinewidth": 0,
                            "ticks": ""
                           },
                           "colorscale": [
                            [
                             0,
                             "#0d0887"
                            ],
                            [
                             0.1111111111111111,
                             "#46039f"
                            ],
                            [
                             0.2222222222222222,
                             "#7201a8"
                            ],
                            [
                             0.3333333333333333,
                             "#9c179e"
                            ],
                            [
                             0.4444444444444444,
                             "#bd3786"
                            ],
                            [
                             0.5555555555555556,
                             "#d8576b"
                            ],
                            [
                             0.6666666666666666,
                             "#ed7953"
                            ],
                            [
                             0.7777777777777778,
                             "#fb9f3a"
                            ],
                            [
                             0.8888888888888888,
                             "#fdca26"
                            ],
                            [
                             1,
                             "#f0f921"
                            ]
                           ],
                           "type": "heatmapgl"
                          }
                         ],
                         "histogram": [
                          {
                           "marker": {
                            "colorbar": {
                             "outlinewidth": 0,
                             "ticks": ""
                            }
                           },
                           "type": "histogram"
                          }
                         ],
                         "histogram2d": [
                          {
                           "colorbar": {
                            "outlinewidth": 0,
                            "ticks": ""
                           },
                           "colorscale": [
                            [
                             0,
                             "#0d0887"
                            ],
                            [
                             0.1111111111111111,
                             "#46039f"
                            ],
                            [
                             0.2222222222222222,
                             "#7201a8"
                            ],
                            [
                             0.3333333333333333,
                             "#9c179e"
                            ],
                            [
                             0.4444444444444444,
                             "#bd3786"
                            ],
                            [
                             0.5555555555555556,
                             "#d8576b"
                            ],
                            [
                             0.6666666666666666,
                             "#ed7953"
                            ],
                            [
                             0.7777777777777778,
                             "#fb9f3a"
                            ],
                            [
                             0.8888888888888888,
                             "#fdca26"
                            ],
                            [
                             1,
                             "#f0f921"
                            ]
                           ],
                           "type": "histogram2d"
                          }
                         ],
                         "histogram2dcontour": [
                          {
                           "colorbar": {
                            "outlinewidth": 0,
                            "ticks": ""
                           },
                           "colorscale": [
                            [
                             0,
                             "#0d0887"
                            ],
                            [
                             0.1111111111111111,
                             "#46039f"
                            ],
                            [
                             0.2222222222222222,
                             "#7201a8"
                            ],
                            [
                             0.3333333333333333,
                             "#9c179e"
                            ],
                            [
                             0.4444444444444444,
                             "#bd3786"
                            ],
                            [
                             0.5555555555555556,
                             "#d8576b"
                            ],
                            [
                             0.6666666666666666,
                             "#ed7953"
                            ],
                            [
                             0.7777777777777778,
                             "#fb9f3a"
                            ],
                            [
                             0.8888888888888888,
                             "#fdca26"
                            ],
                            [
                             1,
                             "#f0f921"
                            ]
                           ],
                           "type": "histogram2dcontour"
                          }
                         ],
                         "mesh3d": [
                          {
                           "colorbar": {
                            "outlinewidth": 0,
                            "ticks": ""
                           },
                           "type": "mesh3d"
                          }
                         ],
                         "parcoords": [
                          {
                           "line": {
                            "colorbar": {
                             "outlinewidth": 0,
                             "ticks": ""
                            }
                           },
                           "type": "parcoords"
                          }
                         ],
                         "pie": [
                          {
                           "automargin": true,
                           "type": "pie"
                          }
                         ],
                         "scatter": [
                          {
                           "marker": {
                            "colorbar": {
                             "outlinewidth": 0,
                             "ticks": ""
                            }
                           },
                           "type": "scatter"
                          }
                         ],
                         "scatter3d": [
                          {
                           "line": {
                            "colorbar": {
                             "outlinewidth": 0,
                             "ticks": ""
                            }
                           },
                           "marker": {
                            "colorbar": {
                             "outlinewidth": 0,
                             "ticks": ""
                            }
                           },
                           "type": "scatter3d"
                          }
                         ],
                         "scattercarpet": [
                          {
                           "marker": {
                            "colorbar": {
                             "outlinewidth": 0,
                             "ticks": ""
                            }
                           },
                           "type": "scattercarpet"
                          }
                         ],
                         "scattergeo": [
                          {
                           "marker": {
                            "colorbar": {
                             "outlinewidth": 0,
                             "ticks": ""
                            }
                           },
                           "type": "scattergeo"
                          }
                         ],
                         "scattergl": [
                          {
                           "marker": {
                            "colorbar": {
                             "outlinewidth": 0,
                             "ticks": ""
                            }
                           },
                           "type": "scattergl"
                          }
                         ],
                         "scattermapbox": [
                          {
                           "marker": {
                            "colorbar": {
                             "outlinewidth": 0,
                             "ticks": ""
                            }
                           },
                           "type": "scattermapbox"
                          }
                         ],
                         "scatterpolar": [
                          {
                           "marker": {
                            "colorbar": {
                             "outlinewidth": 0,
                             "ticks": ""
                            }
                           },
                           "type": "scatterpolar"
                          }
                         ],
                         "scatterpolargl": [
                          {
                           "marker": {
                            "colorbar": {
                             "outlinewidth": 0,
                             "ticks": ""
                            }
                           },
                           "type": "scatterpolargl"
                          }
                         ],
                         "scatterternary": [
                          {
                           "marker": {
                            "colorbar": {
                             "outlinewidth": 0,
                             "ticks": ""
                            }
                           },
                           "type": "scatterternary"
                          }
                         ],
                         "surface": [
                          {
                           "colorbar": {
                            "outlinewidth": 0,
                            "ticks": ""
                           },
                           "colorscale": [
                            [
                             0,
                             "#0d0887"
                            ],
                            [
                             0.1111111111111111,
                             "#46039f"
                            ],
                            [
                             0.2222222222222222,
                             "#7201a8"
                            ],
                            [
                             0.3333333333333333,
                             "#9c179e"
                            ],
                            [
                             0.4444444444444444,
                             "#bd3786"
                            ],
                            [
                             0.5555555555555556,
                             "#d8576b"
                            ],
                            [
                             0.6666666666666666,
                             "#ed7953"
                            ],
                            [
                             0.7777777777777778,
                             "#fb9f3a"
                            ],
                            [
                             0.8888888888888888,
                             "#fdca26"
                            ],
                            [
                             1,
                             "#f0f921"
                            ]
                           ],
                           "type": "surface"
                          }
                         ],
                         "table": [
                          {
                           "cells": {
                            "fill": {
                             "color": "#EBF0F8"
                            },
                            "line": {
                             "color": "white"
                            }
                           },
                           "header": {
                            "fill": {
                             "color": "#C8D4E3"
                            },
                            "line": {
                             "color": "white"
                            }
                           },
                           "type": "table"
                          }
                         ]
                        },
                        "layout": {
                         "annotationdefaults": {
                          "arrowcolor": "#2a3f5f",
                          "arrowhead": 0,
                          "arrowwidth": 1
                         },
                         "autotypenumbers": "strict",
                         "coloraxis": {
                          "colorbar": {
                           "outlinewidth": 0,
                           "ticks": ""
                          }
                         },
                         "colorscale": {
                          "diverging": [
                           [
                            0,
                            "#8e0152"
                           ],
                           [
                            0.1,
                            "#c51b7d"
                           ],
                           [
                            0.2,
                            "#de77ae"
                           ],
                           [
                            0.3,
                            "#f1b6da"
                           ],
                           [
                            0.4,
                            "#fde0ef"
                           ],
                           [
                            0.5,
                            "#f7f7f7"
                           ],
                           [
                            0.6,
                            "#e6f5d0"
                           ],
                           [
                            0.7,
                            "#b8e186"
                           ],
                           [
                            0.8,
                            "#7fbc41"
                           ],
                           [
                            0.9,
                            "#4d9221"
                           ],
                           [
                            1,
                            "#276419"
                           ]
                          ],
                          "sequential": [
                           [
                            0,
                            "#0d0887"
                           ],
                           [
                            0.1111111111111111,
                            "#46039f"
                           ],
                           [
                            0.2222222222222222,
                            "#7201a8"
                           ],
                           [
                            0.3333333333333333,
                            "#9c179e"
                           ],
                           [
                            0.4444444444444444,
                            "#bd3786"
                           ],
                           [
                            0.5555555555555556,
                            "#d8576b"
                           ],
                           [
                            0.6666666666666666,
                            "#ed7953"
                           ],
                           [
                            0.7777777777777778,
                            "#fb9f3a"
                           ],
                           [
                            0.8888888888888888,
                            "#fdca26"
                           ],
                           [
                            1,
                            "#f0f921"
                           ]
                          ],
                          "sequentialminus": [
                           [
                            0,
                            "#0d0887"
                           ],
                           [
                            0.1111111111111111,
                            "#46039f"
                           ],
                           [
                            0.2222222222222222,
                            "#7201a8"
                           ],
                           [
                            0.3333333333333333,
                            "#9c179e"
                           ],
                           [
                            0.4444444444444444,
                            "#bd3786"
                           ],
                           [
                            0.5555555555555556,
                            "#d8576b"
                           ],
                           [
                            0.6666666666666666,
                            "#ed7953"
                           ],
                           [
                            0.7777777777777778,
                            "#fb9f3a"
                           ],
                           [
                            0.8888888888888888,
                            "#fdca26"
                           ],
                           [
                            1,
                            "#f0f921"
                           ]
                          ]
                         },
                         "colorway": [
                          "#636efa",
                          "#EF553B",
                          "#00cc96",
                          "#ab63fa",
                          "#FFA15A",
                          "#19d3f3",
                          "#FF6692",
                          "#B6E880",
                          "#FF97FF",
                          "#FECB52"
                         ],
                         "font": {
                          "color": "#2a3f5f"
                         },
                         "geo": {
                          "bgcolor": "white",
                          "lakecolor": "white",
                          "landcolor": "#E5ECF6",
                          "showlakes": true,
                          "showland": true,
                          "subunitcolor": "white"
                         },
                         "hoverlabel": {
                          "align": "left"
                         },
                         "hovermode": "closest",
                         "mapbox": {
                          "style": "light"
                         },
                         "paper_bgcolor": "white",
                         "plot_bgcolor": "#E5ECF6",
                         "polar": {
                          "angularaxis": {
                           "gridcolor": "white",
                           "linecolor": "white",
                           "ticks": ""
                          },
                          "bgcolor": "#E5ECF6",
                          "radialaxis": {
                           "gridcolor": "white",
                           "linecolor": "white",
                           "ticks": ""
                          }
                         },
                         "scene": {
                          "xaxis": {
                           "backgroundcolor": "#E5ECF6",
                           "gridcolor": "white",
                           "gridwidth": 2,
                           "linecolor": "white",
                           "showbackground": true,
                           "ticks": "",
                           "zerolinecolor": "white"
                          },
                          "yaxis": {
                           "backgroundcolor": "#E5ECF6",
                           "gridcolor": "white",
                           "gridwidth": 2,
                           "linecolor": "white",
                           "showbackground": true,
                           "ticks": "",
                           "zerolinecolor": "white"
                          },
                          "zaxis": {
                           "backgroundcolor": "#E5ECF6",
                           "gridcolor": "white",
                           "gridwidth": 2,
                           "linecolor": "white",
                           "showbackground": true,
                           "ticks": "",
                           "zerolinecolor": "white"
                          }
                         },
                         "shapedefaults": {
                          "line": {
                           "color": "#2a3f5f"
                          }
                         },
                         "ternary": {
                          "aaxis": {
                           "gridcolor": "white",
                           "linecolor": "white",
                           "ticks": ""
                          },
                          "baxis": {
                           "gridcolor": "white",
                           "linecolor": "white",
                           "ticks": ""
                          },
                          "bgcolor": "#E5ECF6",
                          "caxis": {
                           "gridcolor": "white",
                           "linecolor": "white",
                           "ticks": ""
                          }
                         },
                         "title": {
                          "x": 0.05
                         },
                         "xaxis": {
                          "automargin": true,
                          "gridcolor": "white",
                          "linecolor": "white",
                          "ticks": "",
                          "title": {
                           "standoff": 15
                          },
                          "zerolinecolor": "white",
                          "zerolinewidth": 2
                         },
                         "yaxis": {
                          "automargin": true,
                          "gridcolor": "white",
                          "linecolor": "white",
                          "ticks": "",
                          "title": {
                           "standoff": 15
                          },
                          "zerolinecolor": "white",
                          "zerolinewidth": 2
                         }
                        }
                       },
                       "xaxis": {
                        "autorange": true,
                        "range": [
                         0.9616593245227607,
                         2.418340675477239
                        ],
                        "type": "linear"
                       },
                       "yaxis": {
                        "autorange": true,
                        "range": [
                         -98.18965517241381,
                         2043.1896551724137
                        ],
                        "type": "linear"
                       }
                      }
                     },
                     "image/png": "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",
                     "text/html": [
                      "<div\n",
                      "    class=\"webio-mountpoint\"\n",
                      "    data-webio-mountpoint=\"17915985621374444568\"\n",
                      ">\n",
                      "    <script>\n",
                      "    (function(){\n",
                      "    // Some integrations (namely, IJulia/Jupyter) use an alternate render pathway than\n",
                      "    // just putting the html on the page. If WebIO isn't defined, then it's pretty likely\n",
                      "    // that we're in one of those situations and the integration just isn't installed\n",
                      "    // correctly.\n",
                      "    if (typeof window.WebIO === \"undefined\") {\n",
                      "        document\n",
                      "            .querySelector('[data-webio-mountpoint=\"17915985621374444568\"]')\n",
                      "            .innerHTML = (\n",
                      "                '<div style=\"padding: 1em; background-color: #f8d6da; border: 1px solid #f5c6cb; font-weight: bold;\">' +\n",
                      "                '<p><strong>WebIO not detected.</strong></p>' +\n",
                      "                '<p>Please read ' +\n",
                      "                '<a href=\"https://juliagizmos.github.io/WebIO.jl/latest/troubleshooting/not-detected/\" target=\"_blank\">the troubleshooting guide</a> ' +\n",
                      "                'for more information on how to resolve this issue.</p>' +\n",
                      "                '<p><a href=\"https://juliagizmos.github.io/WebIO.jl/latest/troubleshooting/not-detected/\" target=\"_blank\">https://juliagizmos.github.io/WebIO.jl/latest/troubleshooting/not-detected/</a></p>' +\n",
                      "                '</div>'\n",
                      "            );\n",
                      "        return;\n",
                      "    }\n",
                      "    WebIO.mount(\n",
                      "        document.querySelector('[data-webio-mountpoint=\"17915985621374444568\"]'),\n",
                      "        {\"props\":{},\"nodeType\":\"Scope\",\"type\":\"node\",\"instanceArgs\":{\"imports\":{\"data\":[{\"name\":\"Plotly\",\"type\":\"js\",\"url\":\"\\/assetserver\\/3e2d063fcbfbf8797e7181829eb6f798910493eb-plotly.min.js\"},{\"name\":null,\"type\":\"js\",\"url\":\"\\/assetserver\\/588989ae0bd9d28bf0e53faaf41e2532b763e757-plotly_webio.bundle.js\"}],\"type\":\"async_block\"},\"id\":\"6447378251192488940\",\"handlers\":{\"_toImage\":[\"(function (options){return this.Plotly.toImage(this.plotElem,options).then((function (data){return WebIO.setval({\\\"name\\\":\\\"image\\\",\\\"scope\\\":\\\"6447378251192488940\\\",\\\"id\\\":\\\"11098788714944657743\\\",\\\"type\\\":\\\"observable\\\"},data)}))})\"],\"__get_gd_contents\":[\"(function (prop){prop==\\\"data\\\" ? (WebIO.setval({\\\"name\\\":\\\"__gd_contents\\\",\\\"scope\\\":\\\"6447378251192488940\\\",\\\"id\\\":\\\"17987792937376458864\\\",\\\"type\\\":\\\"observable\\\"},this.plotElem.data)) : undefined; return prop==\\\"layout\\\" ? (WebIO.setval({\\\"name\\\":\\\"__gd_contents\\\",\\\"scope\\\":\\\"6447378251192488940\\\",\\\"id\\\":\\\"17987792937376458864\\\",\\\"type\\\":\\\"observable\\\"},this.plotElem.layout)) : undefined})\"],\"_downloadImage\":[\"(function (options){return this.Plotly.downloadImage(this.plotElem,options)})\"],\"_commands\":[\"(function (args){var fn=args.shift(); var elem=this.plotElem; var Plotly=this.Plotly; args.unshift(elem); return Plotly[fn].apply(this,args)})\"]},\"systemjs_options\":null,\"mount_callbacks\":[\"function () {\\n    var handler = ((function (Plotly,PlotlyWebIO){PlotlyWebIO.init(WebIO); var gd=this.dom.querySelector(\\\"#plot-a267a381-d9f0-4fed-93c6-3c6dee68d90e\\\"); this.plotElem=gd; this.Plotly=Plotly; (window.Blink!==undefined) ? (gd.style.width=\\\"100%\\\", gd.style.height=\\\"100vh\\\", gd.style.marginLeft=\\\"0%\\\", gd.style.marginTop=\\\"0vh\\\") : undefined; window.onresize=(function (){return Plotly.Plots.resize(gd)}); Plotly.newPlot(gd,[{\\\"mode\\\":\\\"markers\\\",\\\"y\\\":[176,102,42,867,96,296,50,87,312,175,1904,470,41,362,104],\\\"type\\\":\\\"scatter\\\",\\\"x\\\":[1.55,1.76,1.71,1.04,2.34,2.05,1.66,1.27,1.4,1.57,1.67,1.34,1.76,1.25,1.67]}],{\\\"template\\\":{\\\"layout\\\":{\\\"coloraxis\\\":{\\\"colorbar\\\":{\\\"ticks\\\":\\\"\\\",\\\"outlinewidth\\\":0}},\\\"xaxis\\\":{\\\"gridcolor\\\":\\\"white\\\",\\\"zerolinewidth\\\":2,\\\"title\\\":{\\\"standoff\\\":15},\\\"ticks\\\":\\\"\\\",\\\"zerolinecolor\\\":\\\"white\\\",\\\"automargin\\\":true,\\\"linecolor\\\":\\\"white\\\"},\\\"hovermode\\\":\\\"closest\\\",\\\"paper_bgcolor\\\":\\\"white\\\",\\\"geo\\\":{\\\"showlakes\\\":true,\\\"showland\\\":true,\\\"landcolor\\\":\\\"#E5ECF6\\\",\\\"bgcolor\\\":\\\"white\\\",\\\"subunitcolor\\\":\\\"white\\\",\\\"lakecolor\\\":\\\"white\\\"},\\\"colorscale\\\":{\\\"sequential\\\":[[0.0,\\\"#0d0887\\\"],[0.1111111111111111,\\\"#46039f\\\"],[0.2222222222222222,\\\"#7201a8\\\"],[0.3333333333333333,\\\"#9c179e\\\"],[0.4444444444444444,\\\"#bd3786\\\"],[0.5555555555555556,\\\"#d8576b\\\"],[0.6666666666666666,\\\"#ed7953\\\"],[0.7777777777777778,\\\"#fb9f3a\\\"],[0.8888888888888888,\\\"#fdca26\\\"],[1.0,\\\"#f0f921\\\"]],\\\"diverging\\\":[[0,\\\"#8e0152\\\"],[0.1,\\\"#c51b7d\\\"],[0.2,\\\"#de77ae\\\"],[0.3,\\\"#f1b6da\\\"],[0.4,\\\"#fde0ef\\\"],[0.5,\\\"#f7f7f7\\\"],[0.6,\\\"#e6f5d0\\\"],[0.7,\\\"#b8e186\\\"],[0.8,\\\"#7fbc41\\\"],[0.9,\\\"#4d9221\\\"],[1,\\\"#276419\\\"]],\\\"sequentialminus\\\":[[0.0,\\\"#0d0887\\\"],[0.1111111111111111,\\\"#46039f\\\"],[0.2222222222222222,\\\"#7201a8\\\"],[0.3333333333333333,\\\"#9c179e\\\"],[0.4444444444444444,\\\"#bd3786\\\"],[0.5555555555555556,\\\"#d8576b\\\"],[0.6666666666666666,\\\"#ed7953\\\"],[0.7777777777777778,\\\"#fb9f3a\\\"],[0.8888888888888888,\\\"#fdca26\\\"],[1.0,\\\"#f0f921\\\"]]},\\\"yaxis\\\":{\\\"gridcolor\\\":\\\"white\\\",\\\"zerolinewidth\\\":2,\\\"title\\\":{\\\"standoff\\\":15},\\\"ticks\\\":\\\"\\\",\\\"zerolinecolor\\\":\\\"white\\\",\\\"automargin\\\":true,\\\"linecolor\\\":\\\"white\\\"},\\\"shapedefaults\\\":{\\\"line\\\":{\\\"color\\\":\\\"#2a3f5f\\\"}},\\\"hoverlabel\\\":{\\\"align\\\":\\\"left\\\"},\\\"mapbox\\\":{\\\"style\\\":\\\"light\\\"},\\\"polar\\\":{\\\"angularaxis\\\":{\\\"gridcolor\\\":\\\"white\\\",\\\"ticks\\\":\\\"\\\",\\\"linecolor\\\":\\\"white\\\"},\\\"bgcolor\\\":\\\"#E5ECF6\\\",\\\"radialaxis\\\":{\\\"gridcolor\\\":\\\"white\\\",\\\"ticks\\\":\\\"\\\",\\\"linecolor\\\":\\\"white\\\"}},\\\"autotypenumbers\\\":\\\"strict\\\",\\\"font\\\":{\\\"color\\\":\\\"#2a3f5f\\\"},\\\"ternary\\\":{\\\"baxis\\\":{\\\"gridcolor\\\":\\\"white\\\",\\\"ticks\\\":\\\"\\\",\\\"linecolor\\\":\\\"white\\\"},\\\"bgcolor\\\":\\\"#E5ECF6\\\",\\\"caxis\\\":{\\\"gridcolor\\\":\\\"white\\\",\\\"ticks\\\":\\\"\\\",\\\"linecolor\\\":\\\"white\\\"},\\\"aaxis\\\":{\\\"gridcolor\\\":\\\"white\\\",\\\"ticks\\\":\\\"\\\",\\\"linecolor\\\":\\\"white\\\"}},\\\"annotationdefaults\\\":{\\\"arrowhead\\\":0,\\\"arrowwidth\\\":1,\\\"arrowcolor\\\":\\\"#2a3f5f\\\"},\\\"plot_bgcolor\\\":\\\"#E5ECF6\\\",\\\"title\\\":{\\\"x\\\":0.05},\\\"scene\\\":{\\\"xaxis\\\":{\\\"gridcolor\\\":\\\"white\\\",\\\"gridwidth\\\":2,\\\"backgroundcolor\\\":\\\"#E5ECF6\\\",\\\"ticks\\\":\\\"\\\",\\\"showbackground\\\":true,\\\"zerolinecolor\\\":\\\"white\\\",\\\"linecolor\\\":\\\"white\\\"},\\\"zaxis\\\":{\\\"gridcolor\\\":\\\"white\\\",\\\"gridwidth\\\":2,\\\"backgroundcolor\\\":\\\"#E5ECF6\\\",\\\"ticks\\\":\\\"\\\",\\\"showbackground\\\":true,\\\"zerolinecolor\\\":\\\"white\\\",\\\"linecolor\\\":\\\"white\\\"},\\\"yaxis\\\":{\\\"gridcolor\\\":\\\"white\\\",\\\"gridwidth\\\":2,\\\"backgroundcolor\\\":\\\"#E5ECF6\\\",\\\"ticks\\\":\\\"\\\",\\\"showbackground\\\":true,\\\"zerolinecolor\\\":\\\"white\\\",\\\"linecolor\\\":\\\"white\\\"}},\\\"colorway\\\":[\\\"#636efa\\\",\\\"#EF553B\\\",\\\"#00cc96\\\",\\\"#ab63fa\\\",\\\"#FFA15A\\\",\\\"#19d3f3\\\",\\\"#FF6692\\\",\\\"#B6E880\\\",\\\"#FF97FF\\\",\\\"#FECB52\\\"]},\\\"data\\\":{\\\"barpolar\\\":[{\\\"type\\\":\\\"barpolar\\\",\\\"marker\\\":{\\\"line\\\":{\\\"color\\\":\\\"#E5ECF6\\\",\\\"width\\\":0.5}}}],\\\"carpet\\\":[{\\\"aaxis\\\":{\\\"gridcolor\\\":\\\"white\\\",\\\"endlinecolor\\\":\\\"#2a3f5f\\\",\\\"minorgridcolor\\\":\\\"white\\\",\\\"startlinecolor\\\":\\\"#2a3f5f\\\",\\\"linecolor\\\":\\\"white\\\"},\\\"type\\\":\\\"carpet\\\",\\\"baxis\\\":{\\\"gridcolor\\\":\\\"white\\\",\\\"endlinecolor\\\":\\\"#2a3f5f\\\",\\\"minorgridcolor\\\":\\\"white\\\",\\\"startlinecolor\\\":\\\"#2a3f5f\\\",\\\"linecolor\\\":\\\"white\\\"}}],\\\"scatterpolar\\\":[{\\\"type\\\":\\\"scatterpolar\\\",\\\"marker\\\":{\\\"colorbar\\\":{\\\"ticks\\\":\\\"\\\",\\\"outlinewidth\\\":0}}}],\\\"parcoords\\\":[{\\\"line\\\":{\\\"colorbar\\\":{\\\"ticks\\\":\\\"\\\",\\\"outlinewidth\\\":0}},\\\"type\\\":\\\"parcoords\\\"}],\\\"scatter\\\":[{\\\"type\\\":\\\"scatter\\\",\\\"marker\\\":{\\\"colorbar\\\":{\\\"ticks\\\":\\\"\\\",\\\"outlinewidth\\\":0}}}],\\\"histogram2dcontour\\\":[{\\\"colorbar\\\":{\\\"ticks\\\":\\\"\\\",\\\"outlinewidth\\\":0},\\\"type\\\":\\\"histogram2dcontour\\\",\\\"colorscale\\\":[[0.0,\\\"#0d0887\\\"],[0.1111111111111111,\\\"#46039f\\\"],[0.2222222222222222,\\\"#7201a8\\\"],[0.3333333333333333,\\\"#9c179e\\\"],[0.4444444444444444,\\\"#bd3786\\\"],[0.5555555555555556,\\\"#d8576b\\\"],[0.6666666666666666,\\\"#ed7953\\\"],[0.7777777777777778,\\\"#fb9f3a\\\"],[0.8888888888888888,\\\"#fdca26\\\"],[1.0,\\\"#f0f921\\\"]]}],\\\"contour\\\":[{\\\"colorbar\\\":{\\\"ticks\\\":\\\"\\\",\\\"outlinewidth\\\":0},\\\"type\\\":\\\"contour\\\",\\\"colorscale\\\":[[0.0,\\\"#0d0887\\\"],[0.1111111111111111,\\\"#46039f\\\"],[0.2222222222222222,\\\"#7201a8\\\"],[0.3333333333333333,\\\"#9c179e\\\"],[0.4444444444444444,\\\"#bd3786\\\"],[0.5555555555555556,\\\"#d8576b\\\"],[0.6666666666666666,\\\"#ed7953\\\"],[0.7777777777777778,\\\"#fb9f3a\\\"],[0.8888888888888888,\\\"#fdca26\\\"],[1.0,\\\"#f0f921\\\"]]}],\\\"scattercarpet\\\":[{\\\"type\\\":\\\"scattercarpet\\\",\\\"marker\\\":{\\\"colorbar\\\":{\\\"ticks\\\":\\\"\\\",\\\"outlinewidth\\\":0}}}],\\\"mesh3d\\\":[{\\\"colorbar\\\":{\\\"ticks\\\":\\\"\\\",\\\"outlinewidth\\\":0},\\\"type\\\":\\\"mesh3d\\\"}],\\\"surface\\\":[{\\\"colorbar\\\":{\\\"ticks\\\":\\\"\\\",\\\"outlinewidth\\\":0},\\\"type\\\":\\\"surface\\\",\\\"colorscale\\\":[[0.0,\\\"#0d0887\\\"],[0.1111111111111111,\\\"#46039f\\\"],[0.2222222222222222,\\\"#7201a8\\\"],[0.3333333333333333,\\\"#9c179e\\\"],[0.4444444444444444,\\\"#bd3786\\\"],[0.5555555555555556,\\\"#d8576b\\\"],[0.6666666666666666,\\\"#ed7953\\\"],[0.7777777777777778,\\\"#fb9f3a\\\"],[0.8888888888888888,\\\"#fdca26\\\"],[1.0,\\\"#f0f921\\\"]]}],\\\"scattermapbox\\\":[{\\\"type\\\":\\\"scattermapbox\\\",\\\"marker\\\":{\\\"colorbar\\\":{\\\"ticks\\\":\\\"\\\",\\\"outlinewidth\\\":0}}}],\\\"scattergeo\\\":[{\\\"type\\\":\\\"scattergeo\\\",\\\"marker\\\":{\\\"colorbar\\\":{\\\"ticks\\\":\\\"\\\",\\\"outlinewidth\\\":0}}}],\\\"histogram\\\":[{\\\"type\\\":\\\"histogram\\\",\\\"marker\\\":{\\\"colorbar\\\":{\\\"ticks\\\":\\\"\\\",\\\"outlinewidth\\\":0}}}],\\\"pie\\\":[{\\\"type\\\":\\\"pie\\\",\\\"automargin\\\":true}],\\\"choropleth\\\":[{\\\"colorbar\\\":{\\\"ticks\\\":\\\"\\\",\\\"outlinewidth\\\":0},\\\"type\\\":\\\"choropleth\\\"}],\\\"heatmapgl\\\":[{\\\"colorbar\\\":{\\\"ticks\\\":\\\"\\\",\\\"outlinewidth\\\":0},\\\"type\\\":\\\"heatmapgl\\\",\\\"colorscale\\\":[[0.0,\\\"#0d0887\\\"],[0.1111111111111111,\\\"#46039f\\\"],[0.2222222222222222,\\\"#7201a8\\\"],[0.3333333333333333,\\\"#9c179e\\\"],[0.4444444444444444,\\\"#bd3786\\\"],[0.5555555555555556,\\\"#d8576b\\\"],[0.6666666666666666,\\\"#ed7953\\\"],[0.7777777777777778,\\\"#fb9f3a\\\"],[0.8888888888888888,\\\"#fdca26\\\"],[1.0,\\\"#f0f921\\\"]]}],\\\"bar\\\":[{\\\"type\\\":\\\"bar\\\",\\\"error_y\\\":{\\\"color\\\":\\\"#2a3f5f\\\"},\\\"error_x\\\":{\\\"color\\\":\\\"#2a3f5f\\\"},\\\"marker\\\":{\\\"line\\\":{\\\"color\\\":\\\"#E5ECF6\\\",\\\"width\\\":0.5}}}],\\\"heatmap\\\":[{\\\"colorbar\\\":{\\\"ticks\\\":\\\"\\\",\\\"outlinewidth\\\":0},\\\"type\\\":\\\"heatmap\\\",\\\"colorscale\\\":[[0.0,\\\"#0d0887\\\"],[0.1111111111111111,\\\"#46039f\\\"],[0.2222222222222222,\\\"#7201a8\\\"],[0.3333333333333333,\\\"#9c179e\\\"],[0.4444444444444444,\\\"#bd3786\\\"],[0.5555555555555556,\\\"#d8576b\\\"],[0.6666666666666666,\\\"#ed7953\\\"],[0.7777777777777778,\\\"#fb9f3a\\\"],[0.8888888888888888,\\\"#fdca26\\\"],[1.0,\\\"#f0f921\\\"]]}],\\\"contourcarpet\\\":[{\\\"colorbar\\\":{\\\"ticks\\\":\\\"\\\",\\\"outlinewidth\\\":0},\\\"type\\\":\\\"contourcarpet\\\"}],\\\"table\\\":[{\\\"type\\\":\\\"table\\\",\\\"header\\\":{\\\"line\\\":{\\\"color\\\":\\\"white\\\"},\\\"fill\\\":{\\\"color\\\":\\\"#C8D4E3\\\"}},\\\"cells\\\":{\\\"line\\\":{\\\"color\\\":\\\"white\\\"},\\\"fill\\\":{\\\"color\\\":\\\"#EBF0F8\\\"}}}],\\\"scatter3d\\\":[{\\\"line\\\":{\\\"colorbar\\\":{\\\"ticks\\\":\\\"\\\",\\\"outlinewidth\\\":0}},\\\"type\\\":\\\"scatter3d\\\",\\\"marker\\\":{\\\"colorbar\\\":{\\\"ticks\\\":\\\"\\\",\\\"outlinewidth\\\":0}}}],\\\"scattergl\\\":[{\\\"type\\\":\\\"scattergl\\\",\\\"marker\\\":{\\\"colorbar\\\":{\\\"ticks\\\":\\\"\\\",\\\"outlinewidth\\\":0}}}],\\\"histogram2d\\\":[{\\\"colorbar\\\":{\\\"ticks\\\":\\\"\\\",\\\"outlinewidth\\\":0},\\\"type\\\":\\\"histogram2d\\\",\\\"colorscale\\\":[[0.0,\\\"#0d0887\\\"],[0.1111111111111111,\\\"#46039f\\\"],[0.2222222222222222,\\\"#7201a8\\\"],[0.3333333333333333,\\\"#9c179e\\\"],[0.4444444444444444,\\\"#bd3786\\\"],[0.5555555555555556,\\\"#d8576b\\\"],[0.6666666666666666,\\\"#ed7953\\\"],[0.7777777777777778,\\\"#fb9f3a\\\"],[0.8888888888888888,\\\"#fdca26\\\"],[1.0,\\\"#f0f921\\\"]]}],\\\"scatterternary\\\":[{\\\"type\\\":\\\"scatterternary\\\",\\\"marker\\\":{\\\"colorbar\\\":{\\\"ticks\\\":\\\"\\\",\\\"outlinewidth\\\":0}}}],\\\"scatterpolargl\\\":[{\\\"type\\\":\\\"scatterpolargl\\\",\\\"marker\\\":{\\\"colorbar\\\":{\\\"ticks\\\":\\\"\\\",\\\"outlinewidth\\\":0}}}]}},\\\"margin\\\":{\\\"l\\\":50,\\\"b\\\":50,\\\"r\\\":50,\\\"t\\\":60}},{\\\"showLink\\\":false,\\\"editable\\\":false,\\\"responsive\\\":true,\\\"staticPlot\\\":false,\\\"scrollZoom\\\":true}); gd.on(\\\"plotly_hover\\\",(function (data){var filtered_data=WebIO.PlotlyCommands.filterEventData(gd,data,\\\"hover\\\"); return !(filtered_data.isnil) ? (WebIO.setval({\\\"name\\\":\\\"hover\\\",\\\"scope\\\":\\\"6447378251192488940\\\",\\\"id\\\":\\\"7696422806673477775\\\",\\\"type\\\":\\\"observable\\\"},filtered_data.out)) : undefined})); gd.on(\\\"plotly_unhover\\\",(function (){return WebIO.setval({\\\"name\\\":\\\"hover\\\",\\\"scope\\\":\\\"6447378251192488940\\\",\\\"id\\\":\\\"7696422806673477775\\\",\\\"type\\\":\\\"observable\\\"},{})})); gd.on(\\\"plotly_selected\\\",(function (data){var filtered_data=WebIO.PlotlyCommands.filterEventData(gd,data,\\\"selected\\\"); return !(filtered_data.isnil) ? (WebIO.setval({\\\"name\\\":\\\"selected\\\",\\\"scope\\\":\\\"6447378251192488940\\\",\\\"id\\\":\\\"11741666231927432039\\\",\\\"type\\\":\\\"observable\\\"},filtered_data.out)) : undefined})); gd.on(\\\"plotly_deselect\\\",(function (){return WebIO.setval({\\\"name\\\":\\\"selected\\\",\\\"scope\\\":\\\"6447378251192488940\\\",\\\"id\\\":\\\"11741666231927432039\\\",\\\"type\\\":\\\"observable\\\"},{})})); gd.on(\\\"plotly_relayout\\\",(function (data){var filtered_data=WebIO.PlotlyCommands.filterEventData(gd,data,\\\"relayout\\\"); return !(filtered_data.isnil) ? (WebIO.setval({\\\"name\\\":\\\"relayout\\\",\\\"scope\\\":\\\"6447378251192488940\\\",\\\"id\\\":\\\"9358696359271063853\\\",\\\"type\\\":\\\"observable\\\"},filtered_data.out)) : undefined})); return gd.on(\\\"plotly_click\\\",(function (data){var filtered_data=WebIO.PlotlyCommands.filterEventData(gd,data,\\\"click\\\"); return !(filtered_data.isnil) ? (WebIO.setval({\\\"name\\\":\\\"click\\\",\\\"scope\\\":\\\"6447378251192488940\\\",\\\"id\\\":\\\"1505130704615044922\\\",\\\"type\\\":\\\"observable\\\"},filtered_data.out)) : undefined}))}));\\n    (WebIO.importBlock({\\\"data\\\":[{\\\"name\\\":\\\"Plotly\\\",\\\"type\\\":\\\"js\\\",\\\"url\\\":\\\"\\/assetserver\\/3e2d063fcbfbf8797e7181829eb6f798910493eb-plotly.min.js\\\"},{\\\"name\\\":null,\\\"type\\\":\\\"js\\\",\\\"url\\\":\\\"\\/assetserver\\/588989ae0bd9d28bf0e53faaf41e2532b763e757-plotly_webio.bundle.js\\\"}],\\\"type\\\":\\\"async_block\\\"})).then((imports) => handler.apply(this, imports));\\n}\\n\"],\"observables\":{\"_toImage\":{\"sync\":false,\"id\":\"15688729670407870284\",\"value\":{}},\"hover\":{\"sync\":false,\"id\":\"7696422806673477775\",\"value\":{}},\"selected\":{\"sync\":false,\"id\":\"11741666231927432039\",\"value\":{}},\"__gd_contents\":{\"sync\":false,\"id\":\"17987792937376458864\",\"value\":{}},\"click\":{\"sync\":false,\"id\":\"1505130704615044922\",\"value\":{}},\"image\":{\"sync\":true,\"id\":\"11098788714944657743\",\"value\":\"\"},\"__get_gd_contents\":{\"sync\":false,\"id\":\"12464750908103253712\",\"value\":\"\"},\"_downloadImage\":{\"sync\":false,\"id\":\"2728591550053581162\",\"value\":{}},\"relayout\":{\"sync\":false,\"id\":\"9358696359271063853\",\"value\":{}},\"_commands\":{\"sync\":false,\"id\":\"3003920920465626163\",\"value\":[]}}},\"children\":[{\"props\":{\"id\":\"plot-a267a381-d9f0-4fed-93c6-3c6dee68d90e\"},\"nodeType\":\"DOM\",\"type\":\"node\",\"instanceArgs\":{\"namespace\":\"html\",\"tag\":\"div\"},\"children\":[]}]},\n",
                      "        window,\n",
                      "    );\n",
                      "    })()\n",
                      "    </script>\n",
                      "</div>\n"
                     ],
                     "text/plain": [
                      "data: [\n",
                      "  \"scatter with fields mode, type, x, and y\"\n",
                      "]\n",
                      "\n",
                      "layout: \"layout with fields margin and template\"\n",
                      "\n"
                     ]
                    },
                    "execution_count": 19,
                    "metadata": {},
                    "output_type": "execute_result"
                   }
                  ],
                  "source": [
                   "plot(scatter(agri_col_cleansed, x=:Nitrogen, y=:num_of_protests, mode=\"markers\"))"
                  ]
                 },
                 {
                  "cell_type": "code",
                  "execution_count": 20,
                  "metadata": {},
                  "outputs": [
                   {
                    "data": {
                     "application/vnd.plotly.v1+json": {
                      "config": {
                       "editable": false,
                       "responsive": true,
                       "scrollZoom": true,
                       "showLink": false,
                       "staticPlot": false
                      },
                      "data": [
                       {
                        "mode": "markers",
                        "type": "scatter",
                        "x": [
                         1.57,
                         2.13,
                         1.64,
                         1.2,
                         1.93,
                         1.9,
                         2.35,
                         1.84,
                         1.16,
                         1.54,
                         1.93,
                         2.11,
                         1.69,
                         1.32,
                         2.05
                        ],
                        "y": [
                         176,
                         102,
                         42,
                         867,
                         96,
                         296,
                         50,
                         87,
                         312,
                         175,
                         1904,
                         470,
                         41,
                         362,
                         104
                        ]
                       }
                      ],
                      "frames": [],
                      "layout": {
                       "autosize": true,
                       "margin": {
                        "b": 50,
                        "l": 50,
                        "r": 50,
                        "t": 60
                       },
                       "template": {
                        "data": {
                         "bar": [
                          {
                           "error_x": {
                            "color": "#2a3f5f"
                           },
                           "error_y": {
                            "color": "#2a3f5f"
                           },
                           "marker": {
                            "line": {
                             "color": "#E5ECF6",
                             "width": 0.5
                            }
                           },
                           "type": "bar"
                          }
                         ],
                         "barpolar": [
                          {
                           "marker": {
                            "line": {
                             "color": "#E5ECF6",
                             "width": 0.5
                            }
                           },
                           "type": "barpolar"
                          }
                         ],
                         "carpet": [
                          {
                           "aaxis": {
                            "endlinecolor": "#2a3f5f",
                            "gridcolor": "white",
                            "linecolor": "white",
                            "minorgridcolor": "white",
                            "startlinecolor": "#2a3f5f"
                           },
                           "baxis": {
                            "endlinecolor": "#2a3f5f",
                            "gridcolor": "white",
                            "linecolor": "white",
                            "minorgridcolor": "white",
                            "startlinecolor": "#2a3f5f"
                           },
                           "type": "carpet"
                          }
                         ],
                         "choropleth": [
                          {
                           "colorbar": {
                            "outlinewidth": 0,
                            "ticks": ""
                           },
                           "type": "choropleth"
                          }
                         ],
                         "contour": [
                          {
                           "colorbar": {
                            "outlinewidth": 0,
                            "ticks": ""
                           },
                           "colorscale": [
                            [
                             0,
                             "#0d0887"
                            ],
                            [
                             0.1111111111111111,
                             "#46039f"
                            ],
                            [
                             0.2222222222222222,
                             "#7201a8"
                            ],
                            [
                             0.3333333333333333,
                             "#9c179e"
                            ],
                            [
                             0.4444444444444444,
                             "#bd3786"
                            ],
                            [
                             0.5555555555555556,
                             "#d8576b"
                            ],
                            [
                             0.6666666666666666,
                             "#ed7953"
                            ],
                            [
                             0.7777777777777778,
                             "#fb9f3a"
                            ],
                            [
                             0.8888888888888888,
                             "#fdca26"
                            ],
                            [
                             1,
                             "#f0f921"
                            ]
                           ],
                           "type": "contour"
                          }
                         ],
                         "contourcarpet": [
                          {
                           "colorbar": {
                            "outlinewidth": 0,
                            "ticks": ""
                           },
                           "type": "contourcarpet"
                          }
                         ],
                         "heatmap": [
                          {
                           "colorbar": {
                            "outlinewidth": 0,
                            "ticks": ""
                           },
                           "colorscale": [
                            [
                             0,
                             "#0d0887"
                            ],
                            [
                             0.1111111111111111,
                             "#46039f"
                            ],
                            [
                             0.2222222222222222,
                             "#7201a8"
                            ],
                            [
                             0.3333333333333333,
                             "#9c179e"
                            ],
                            [
                             0.4444444444444444,
                             "#bd3786"
                            ],
                            [
                             0.5555555555555556,
                             "#d8576b"
                            ],
                            [
                             0.6666666666666666,
                             "#ed7953"
                            ],
                            [
                             0.7777777777777778,
                             "#fb9f3a"
                            ],
                            [
                             0.8888888888888888,
                             "#fdca26"
                            ],
                            [
                             1,
                             "#f0f921"
                            ]
                           ],
                           "type": "heatmap"
                          }
                         ],
                         "heatmapgl": [
                          {
                           "colorbar": {
                            "outlinewidth": 0,
                            "ticks": ""
                           },
                           "colorscale": [
                            [
                             0,
                             "#0d0887"
                            ],
                            [
                             0.1111111111111111,
                             "#46039f"
                            ],
                            [
                             0.2222222222222222,
                             "#7201a8"
                            ],
                            [
                             0.3333333333333333,
                             "#9c179e"
                            ],
                            [
                             0.4444444444444444,
                             "#bd3786"
                            ],
                            [
                             0.5555555555555556,
                             "#d8576b"
                            ],
                            [
                             0.6666666666666666,
                             "#ed7953"
                            ],
                            [
                             0.7777777777777778,
                             "#fb9f3a"
                            ],
                            [
                             0.8888888888888888,
                             "#fdca26"
                            ],
                            [
                             1,
                             "#f0f921"
                            ]
                           ],
                           "type": "heatmapgl"
                          }
                         ],
                         "histogram": [
                          {
                           "marker": {
                            "colorbar": {
                             "outlinewidth": 0,
                             "ticks": ""
                            }
                           },
                           "type": "histogram"
                          }
                         ],
                         "histogram2d": [
                          {
                           "colorbar": {
                            "outlinewidth": 0,
                            "ticks": ""
                           },
                           "colorscale": [
                            [
                             0,
                             "#0d0887"
                            ],
                            [
                             0.1111111111111111,
                             "#46039f"
                            ],
                            [
                             0.2222222222222222,
                             "#7201a8"
                            ],
                            [
                             0.3333333333333333,
                             "#9c179e"
                            ],
                            [
                             0.4444444444444444,
                             "#bd3786"
                            ],
                            [
                             0.5555555555555556,
                             "#d8576b"
                            ],
                            [
                             0.6666666666666666,
                             "#ed7953"
                            ],
                            [
                             0.7777777777777778,
                             "#fb9f3a"
                            ],
                            [
                             0.8888888888888888,
                             "#fdca26"
                            ],
                            [
                             1,
                             "#f0f921"
                            ]
                           ],
                           "type": "histogram2d"
                          }
                         ],
                         "histogram2dcontour": [
                          {
                           "colorbar": {
                            "outlinewidth": 0,
                            "ticks": ""
                           },
                           "colorscale": [
                            [
                             0,
                             "#0d0887"
                            ],
                            [
                             0.1111111111111111,
                             "#46039f"
                            ],
                            [
                             0.2222222222222222,
                             "#7201a8"
                            ],
                            [
                             0.3333333333333333,
                             "#9c179e"
                            ],
                            [
                             0.4444444444444444,
                             "#bd3786"
                            ],
                            [
                             0.5555555555555556,
                             "#d8576b"
                            ],
                            [
                             0.6666666666666666,
                             "#ed7953"
                            ],
                            [
                             0.7777777777777778,
                             "#fb9f3a"
                            ],
                            [
                             0.8888888888888888,
                             "#fdca26"
                            ],
                            [
                             1,
                             "#f0f921"
                            ]
                           ],
                           "type": "histogram2dcontour"
                          }
                         ],
                         "mesh3d": [
                          {
                           "colorbar": {
                            "outlinewidth": 0,
                            "ticks": ""
                           },
                           "type": "mesh3d"
                          }
                         ],
                         "parcoords": [
                          {
                           "line": {
                            "colorbar": {
                             "outlinewidth": 0,
                             "ticks": ""
                            }
                           },
                           "type": "parcoords"
                          }
                         ],
                         "pie": [
                          {
                           "automargin": true,
                           "type": "pie"
                          }
                         ],
                         "scatter": [
                          {
                           "marker": {
                            "colorbar": {
                             "outlinewidth": 0,
                             "ticks": ""
                            }
                           },
                           "type": "scatter"
                          }
                         ],
                         "scatter3d": [
                          {
                           "line": {
                            "colorbar": {
                             "outlinewidth": 0,
                             "ticks": ""
                            }
                           },
                           "marker": {
                            "colorbar": {
                             "outlinewidth": 0,
                             "ticks": ""
                            }
                           },
                           "type": "scatter3d"
                          }
                         ],
                         "scattercarpet": [
                          {
                           "marker": {
                            "colorbar": {
                             "outlinewidth": 0,
                             "ticks": ""
                            }
                           },
                           "type": "scattercarpet"
                          }
                         ],
                         "scattergeo": [
                          {
                           "marker": {
                            "colorbar": {
                             "outlinewidth": 0,
                             "ticks": ""
                            }
                           },
                           "type": "scattergeo"
                          }
                         ],
                         "scattergl": [
                          {
                           "marker": {
                            "colorbar": {
                             "outlinewidth": 0,
                             "ticks": ""
                            }
                           },
                           "type": "scattergl"
                          }
                         ],
                         "scattermapbox": [
                          {
                           "marker": {
                            "colorbar": {
                             "outlinewidth": 0,
                             "ticks": ""
                            }
                           },
                           "type": "scattermapbox"
                          }
                         ],
                         "scatterpolar": [
                          {
                           "marker": {
                            "colorbar": {
                             "outlinewidth": 0,
                             "ticks": ""
                            }
                           },
                           "type": "scatterpolar"
                          }
                         ],
                         "scatterpolargl": [
                          {
                           "marker": {
                            "colorbar": {
                             "outlinewidth": 0,
                             "ticks": ""
                            }
                           },
                           "type": "scatterpolargl"
                          }
                         ],
                         "scatterternary": [
                          {
                           "marker": {
                            "colorbar": {
                             "outlinewidth": 0,
                             "ticks": ""
                            }
                           },
                           "type": "scatterternary"
                          }
                         ],
                         "surface": [
                          {
                           "colorbar": {
                            "outlinewidth": 0,
                            "ticks": ""
                           },
                           "colorscale": [
                            [
                             0,
                             "#0d0887"
                            ],
                            [
                             0.1111111111111111,
                             "#46039f"
                            ],
                            [
                             0.2222222222222222,
                             "#7201a8"
                            ],
                            [
                             0.3333333333333333,
                             "#9c179e"
                            ],
                            [
                             0.4444444444444444,
                             "#bd3786"
                            ],
                            [
                             0.5555555555555556,
                             "#d8576b"
                            ],
                            [
                             0.6666666666666666,
                             "#ed7953"
                            ],
                            [
                             0.7777777777777778,
                             "#fb9f3a"
                            ],
                            [
                             0.8888888888888888,
                             "#fdca26"
                            ],
                            [
                             1,
                             "#f0f921"
                            ]
                           ],
                           "type": "surface"
                          }
                         ],
                         "table": [
                          {
                           "cells": {
                            "fill": {
                             "color": "#EBF0F8"
                            },
                            "line": {
                             "color": "white"
                            }
                           },
                           "header": {
                            "fill": {
                             "color": "#C8D4E3"
                            },
                            "line": {
                             "color": "white"
                            }
                           },
                           "type": "table"
                          }
                         ]
                        },
                        "layout": {
                         "annotationdefaults": {
                          "arrowcolor": "#2a3f5f",
                          "arrowhead": 0,
                          "arrowwidth": 1
                         },
                         "autotypenumbers": "strict",
                         "coloraxis": {
                          "colorbar": {
                           "outlinewidth": 0,
                           "ticks": ""
                          }
                         },
                         "colorscale": {
                          "diverging": [
                           [
                            0,
                            "#8e0152"
                           ],
                           [
                            0.1,
                            "#c51b7d"
                           ],
                           [
                            0.2,
                            "#de77ae"
                           ],
                           [
                            0.3,
                            "#f1b6da"
                           ],
                           [
                            0.4,
                            "#fde0ef"
                           ],
                           [
                            0.5,
                            "#f7f7f7"
                           ],
                           [
                            0.6,
                            "#e6f5d0"
                           ],
                           [
                            0.7,
                            "#b8e186"
                           ],
                           [
                            0.8,
                            "#7fbc41"
                           ],
                           [
                            0.9,
                            "#4d9221"
                           ],
                           [
                            1,
                            "#276419"
                           ]
                          ],
                          "sequential": [
                           [
                            0,
                            "#0d0887"
                           ],
                           [
                            0.1111111111111111,
                            "#46039f"
                           ],
                           [
                            0.2222222222222222,
                            "#7201a8"
                           ],
                           [
                            0.3333333333333333,
                            "#9c179e"
                           ],
                           [
                            0.4444444444444444,
                            "#bd3786"
                           ],
                           [
                            0.5555555555555556,
                            "#d8576b"
                           ],
                           [
                            0.6666666666666666,
                            "#ed7953"
                           ],
                           [
                            0.7777777777777778,
                            "#fb9f3a"
                           ],
                           [
                            0.8888888888888888,
                            "#fdca26"
                           ],
                           [
                            1,
                            "#f0f921"
                           ]
                          ],
                          "sequentialminus": [
                           [
                            0,
                            "#0d0887"
                           ],
                           [
                            0.1111111111111111,
                            "#46039f"
                           ],
                           [
                            0.2222222222222222,
                            "#7201a8"
                           ],
                           [
                            0.3333333333333333,
                            "#9c179e"
                           ],
                           [
                            0.4444444444444444,
                            "#bd3786"
                           ],
                           [
                            0.5555555555555556,
                            "#d8576b"
                           ],
                           [
                            0.6666666666666666,
                            "#ed7953"
                           ],
                           [
                            0.7777777777777778,
                            "#fb9f3a"
                           ],
                           [
                            0.8888888888888888,
                            "#fdca26"
                           ],
                           [
                            1,
                            "#f0f921"
                           ]
                          ]
                         },
                         "colorway": [
                          "#636efa",
                          "#EF553B",
                          "#00cc96",
                          "#ab63fa",
                          "#FFA15A",
                          "#19d3f3",
                          "#FF6692",
                          "#B6E880",
                          "#FF97FF",
                          "#FECB52"
                         ],
                         "font": {
                          "color": "#2a3f5f"
                         },
                         "geo": {
                          "bgcolor": "white",
                          "lakecolor": "white",
                          "landcolor": "#E5ECF6",
                          "showlakes": true,
                          "showland": true,
                          "subunitcolor": "white"
                         },
                         "hoverlabel": {
                          "align": "left"
                         },
                         "hovermode": "closest",
                         "mapbox": {
                          "style": "light"
                         },
                         "paper_bgcolor": "white",
                         "plot_bgcolor": "#E5ECF6",
                         "polar": {
                          "angularaxis": {
                           "gridcolor": "white",
                           "linecolor": "white",
                           "ticks": ""
                          },
                          "bgcolor": "#E5ECF6",
                          "radialaxis": {
                           "gridcolor": "white",
                           "linecolor": "white",
                           "ticks": ""
                          }
                         },
                         "scene": {
                          "xaxis": {
                           "backgroundcolor": "#E5ECF6",
                           "gridcolor": "white",
                           "gridwidth": 2,
                           "linecolor": "white",
                           "showbackground": true,
                           "ticks": "",
                           "zerolinecolor": "white"
                          },
                          "yaxis": {
                           "backgroundcolor": "#E5ECF6",
                           "gridcolor": "white",
                           "gridwidth": 2,
                           "linecolor": "white",
                           "showbackground": true,
                           "ticks": "",
                           "zerolinecolor": "white"
                          },
                          "zaxis": {
                           "backgroundcolor": "#E5ECF6",
                           "gridcolor": "white",
                           "gridwidth": 2,
                           "linecolor": "white",
                           "showbackground": true,
                           "ticks": "",
                           "zerolinecolor": "white"
                          }
                         },
                         "shapedefaults": {
                          "line": {
                           "color": "#2a3f5f"
                          }
                         },
                         "ternary": {
                          "aaxis": {
                           "gridcolor": "white",
                           "linecolor": "white",
                           "ticks": ""
                          },
                          "baxis": {
                           "gridcolor": "white",
                           "linecolor": "white",
                           "ticks": ""
                          },
                          "bgcolor": "#E5ECF6",
                          "caxis": {
                           "gridcolor": "white",
                           "linecolor": "white",
                           "ticks": ""
                          }
                         },
                         "title": {
                          "x": 0.05
                         },
                         "xaxis": {
                          "automargin": true,
                          "gridcolor": "white",
                          "linecolor": "white",
                          "ticks": "",
                          "title": {
                           "standoff": 15
                          },
                          "zerolinecolor": "white",
                          "zerolinewidth": 2
                         },
                         "yaxis": {
                          "automargin": true,
                          "gridcolor": "white",
                          "linecolor": "white",
                          "ticks": "",
                          "title": {
                           "standoff": 15
                          },
                          "zerolinecolor": "white",
                          "zerolinewidth": 2
                         }
                        }
                       },
                       "xaxis": {
                        "autorange": true,
                        "range": [
                         1.088288150909296,
                         2.4217118490907037
                        ],
                        "type": "linear"
                       },
                       "yaxis": {
                        "autorange": true,
                        "range": [
                         -98.18965517241381,
                         2043.1896551724137
                        ],
                        "type": "linear"
                       }
                      }
                     },
                     "image/png": "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",
                     "text/html": [
                      "<div\n",
                      "    class=\"webio-mountpoint\"\n",
                      "    data-webio-mountpoint=\"7599669827660047247\"\n",
                      ">\n",
                      "    <script>\n",
                      "    (function(){\n",
                      "    // Some integrations (namely, IJulia/Jupyter) use an alternate render pathway than\n",
                      "    // just putting the html on the page. If WebIO isn't defined, then it's pretty likely\n",
                      "    // that we're in one of those situations and the integration just isn't installed\n",
                      "    // correctly.\n",
                      "    if (typeof window.WebIO === \"undefined\") {\n",
                      "        document\n",
                      "            .querySelector('[data-webio-mountpoint=\"7599669827660047247\"]')\n",
                      "            .innerHTML = (\n",
                      "                '<div style=\"padding: 1em; background-color: #f8d6da; border: 1px solid #f5c6cb; font-weight: bold;\">' +\n",
                      "                '<p><strong>WebIO not detected.</strong></p>' +\n",
                      "                '<p>Please read ' +\n",
                      "                '<a href=\"https://juliagizmos.github.io/WebIO.jl/latest/troubleshooting/not-detected/\" target=\"_blank\">the troubleshooting guide</a> ' +\n",
                      "                'for more information on how to resolve this issue.</p>' +\n",
                      "                '<p><a href=\"https://juliagizmos.github.io/WebIO.jl/latest/troubleshooting/not-detected/\" target=\"_blank\">https://juliagizmos.github.io/WebIO.jl/latest/troubleshooting/not-detected/</a></p>' +\n",
                      "                '</div>'\n",
                      "            );\n",
                      "        return;\n",
                      "    }\n",
                      "    WebIO.mount(\n",
                      "        document.querySelector('[data-webio-mountpoint=\"7599669827660047247\"]'),\n",
                      "        {\"props\":{},\"nodeType\":\"Scope\",\"type\":\"node\",\"instanceArgs\":{\"imports\":{\"data\":[{\"name\":\"Plotly\",\"type\":\"js\",\"url\":\"\\/assetserver\\/3e2d063fcbfbf8797e7181829eb6f798910493eb-plotly.min.js\"},{\"name\":null,\"type\":\"js\",\"url\":\"\\/assetserver\\/588989ae0bd9d28bf0e53faaf41e2532b763e757-plotly_webio.bundle.js\"}],\"type\":\"async_block\"},\"id\":\"12101271885865629791\",\"handlers\":{\"_toImage\":[\"(function (options){return this.Plotly.toImage(this.plotElem,options).then((function (data){return WebIO.setval({\\\"name\\\":\\\"image\\\",\\\"scope\\\":\\\"12101271885865629791\\\",\\\"id\\\":\\\"8710762153420963445\\\",\\\"type\\\":\\\"observable\\\"},data)}))})\"],\"__get_gd_contents\":[\"(function (prop){prop==\\\"data\\\" ? (WebIO.setval({\\\"name\\\":\\\"__gd_contents\\\",\\\"scope\\\":\\\"12101271885865629791\\\",\\\"id\\\":\\\"3490838304510766403\\\",\\\"type\\\":\\\"observable\\\"},this.plotElem.data)) : undefined; return prop==\\\"layout\\\" ? (WebIO.setval({\\\"name\\\":\\\"__gd_contents\\\",\\\"scope\\\":\\\"12101271885865629791\\\",\\\"id\\\":\\\"3490838304510766403\\\",\\\"type\\\":\\\"observable\\\"},this.plotElem.layout)) : undefined})\"],\"_downloadImage\":[\"(function (options){return this.Plotly.downloadImage(this.plotElem,options)})\"],\"_commands\":[\"(function (args){var fn=args.shift(); var elem=this.plotElem; var Plotly=this.Plotly; args.unshift(elem); return Plotly[fn].apply(this,args)})\"]},\"systemjs_options\":null,\"mount_callbacks\":[\"function () {\\n    var handler = ((function (Plotly,PlotlyWebIO){PlotlyWebIO.init(WebIO); var gd=this.dom.querySelector(\\\"#plot-d5a1b3f7-7045-4ad1-9c5d-922da383844c\\\"); this.plotElem=gd; this.Plotly=Plotly; (window.Blink!==undefined) ? (gd.style.width=\\\"100%\\\", gd.style.height=\\\"100vh\\\", gd.style.marginLeft=\\\"0%\\\", gd.style.marginTop=\\\"0vh\\\") : undefined; window.onresize=(function (){return Plotly.Plots.resize(gd)}); Plotly.newPlot(gd,[{\\\"mode\\\":\\\"markers\\\",\\\"y\\\":[176,102,42,867,96,296,50,87,312,175,1904,470,41,362,104],\\\"type\\\":\\\"scatter\\\",\\\"x\\\":[1.57,2.13,1.64,1.2,1.93,1.9,2.35,1.84,1.16,1.54,1.93,2.11,1.69,1.32,2.05]}],{\\\"template\\\":{\\\"layout\\\":{\\\"coloraxis\\\":{\\\"colorbar\\\":{\\\"ticks\\\":\\\"\\\",\\\"outlinewidth\\\":0}},\\\"xaxis\\\":{\\\"gridcolor\\\":\\\"white\\\",\\\"zerolinewidth\\\":2,\\\"title\\\":{\\\"standoff\\\":15},\\\"ticks\\\":\\\"\\\",\\\"zerolinecolor\\\":\\\"white\\\",\\\"automargin\\\":true,\\\"linecolor\\\":\\\"white\\\"},\\\"hovermode\\\":\\\"closest\\\",\\\"paper_bgcolor\\\":\\\"white\\\",\\\"geo\\\":{\\\"showlakes\\\":true,\\\"showland\\\":true,\\\"landcolor\\\":\\\"#E5ECF6\\\",\\\"bgcolor\\\":\\\"white\\\",\\\"subunitcolor\\\":\\\"white\\\",\\\"lakecolor\\\":\\\"white\\\"},\\\"colorscale\\\":{\\\"sequential\\\":[[0.0,\\\"#0d0887\\\"],[0.1111111111111111,\\\"#46039f\\\"],[0.2222222222222222,\\\"#7201a8\\\"],[0.3333333333333333,\\\"#9c179e\\\"],[0.4444444444444444,\\\"#bd3786\\\"],[0.5555555555555556,\\\"#d8576b\\\"],[0.6666666666666666,\\\"#ed7953\\\"],[0.7777777777777778,\\\"#fb9f3a\\\"],[0.8888888888888888,\\\"#fdca26\\\"],[1.0,\\\"#f0f921\\\"]],\\\"diverging\\\":[[0,\\\"#8e0152\\\"],[0.1,\\\"#c51b7d\\\"],[0.2,\\\"#de77ae\\\"],[0.3,\\\"#f1b6da\\\"],[0.4,\\\"#fde0ef\\\"],[0.5,\\\"#f7f7f7\\\"],[0.6,\\\"#e6f5d0\\\"],[0.7,\\\"#b8e186\\\"],[0.8,\\\"#7fbc41\\\"],[0.9,\\\"#4d9221\\\"],[1,\\\"#276419\\\"]],\\\"sequentialminus\\\":[[0.0,\\\"#0d0887\\\"],[0.1111111111111111,\\\"#46039f\\\"],[0.2222222222222222,\\\"#7201a8\\\"],[0.3333333333333333,\\\"#9c179e\\\"],[0.4444444444444444,\\\"#bd3786\\\"],[0.5555555555555556,\\\"#d8576b\\\"],[0.6666666666666666,\\\"#ed7953\\\"],[0.7777777777777778,\\\"#fb9f3a\\\"],[0.8888888888888888,\\\"#fdca26\\\"],[1.0,\\\"#f0f921\\\"]]},\\\"yaxis\\\":{\\\"gridcolor\\\":\\\"white\\\",\\\"zerolinewidth\\\":2,\\\"title\\\":{\\\"standoff\\\":15},\\\"ticks\\\":\\\"\\\",\\\"zerolinecolor\\\":\\\"white\\\",\\\"automargin\\\":true,\\\"linecolor\\\":\\\"white\\\"},\\\"shapedefaults\\\":{\\\"line\\\":{\\\"color\\\":\\\"#2a3f5f\\\"}},\\\"hoverlabel\\\":{\\\"align\\\":\\\"left\\\"},\\\"mapbox\\\":{\\\"style\\\":\\\"light\\\"},\\\"polar\\\":{\\\"angularaxis\\\":{\\\"gridcolor\\\":\\\"white\\\",\\\"ticks\\\":\\\"\\\",\\\"linecolor\\\":\\\"white\\\"},\\\"bgcolor\\\":\\\"#E5ECF6\\\",\\\"radialaxis\\\":{\\\"gridcolor\\\":\\\"white\\\",\\\"ticks\\\":\\\"\\\",\\\"linecolor\\\":\\\"white\\\"}},\\\"autotypenumbers\\\":\\\"strict\\\",\\\"font\\\":{\\\"color\\\":\\\"#2a3f5f\\\"},\\\"ternary\\\":{\\\"baxis\\\":{\\\"gridcolor\\\":\\\"white\\\",\\\"ticks\\\":\\\"\\\",\\\"linecolor\\\":\\\"white\\\"},\\\"bgcolor\\\":\\\"#E5ECF6\\\",\\\"caxis\\\":{\\\"gridcolor\\\":\\\"white\\\",\\\"ticks\\\":\\\"\\\",\\\"linecolor\\\":\\\"white\\\"},\\\"aaxis\\\":{\\\"gridcolor\\\":\\\"white\\\",\\\"ticks\\\":\\\"\\\",\\\"linecolor\\\":\\\"white\\\"}},\\\"annotationdefaults\\\":{\\\"arrowhead\\\":0,\\\"arrowwidth\\\":1,\\\"arrowcolor\\\":\\\"#2a3f5f\\\"},\\\"plot_bgcolor\\\":\\\"#E5ECF6\\\",\\\"title\\\":{\\\"x\\\":0.05},\\\"scene\\\":{\\\"xaxis\\\":{\\\"gridcolor\\\":\\\"white\\\",\\\"gridwidth\\\":2,\\\"backgroundcolor\\\":\\\"#E5ECF6\\\",\\\"ticks\\\":\\\"\\\",\\\"showbackground\\\":true,\\\"zerolinecolor\\\":\\\"white\\\",\\\"linecolor\\\":\\\"white\\\"},\\\"zaxis\\\":{\\\"gridcolor\\\":\\\"white\\\",\\\"gridwidth\\\":2,\\\"backgroundcolor\\\":\\\"#E5ECF6\\\",\\\"ticks\\\":\\\"\\\",\\\"showbackground\\\":true,\\\"zerolinecolor\\\":\\\"white\\\",\\\"linecolor\\\":\\\"white\\\"},\\\"yaxis\\\":{\\\"gridcolor\\\":\\\"white\\\",\\\"gridwidth\\\":2,\\\"backgroundcolor\\\":\\\"#E5ECF6\\\",\\\"ticks\\\":\\\"\\\",\\\"showbackground\\\":true,\\\"zerolinecolor\\\":\\\"white\\\",\\\"linecolor\\\":\\\"white\\\"}},\\\"colorway\\\":[\\\"#636efa\\\",\\\"#EF553B\\\",\\\"#00cc96\\\",\\\"#ab63fa\\\",\\\"#FFA15A\\\",\\\"#19d3f3\\\",\\\"#FF6692\\\",\\\"#B6E880\\\",\\\"#FF97FF\\\",\\\"#FECB52\\\"]},\\\"data\\\":{\\\"barpolar\\\":[{\\\"type\\\":\\\"barpolar\\\",\\\"marker\\\":{\\\"line\\\":{\\\"color\\\":\\\"#E5ECF6\\\",\\\"width\\\":0.5}}}],\\\"carpet\\\":[{\\\"aaxis\\\":{\\\"gridcolor\\\":\\\"white\\\",\\\"endlinecolor\\\":\\\"#2a3f5f\\\",\\\"minorgridcolor\\\":\\\"white\\\",\\\"startlinecolor\\\":\\\"#2a3f5f\\\",\\\"linecolor\\\":\\\"white\\\"},\\\"type\\\":\\\"carpet\\\",\\\"baxis\\\":{\\\"gridcolor\\\":\\\"white\\\",\\\"endlinecolor\\\":\\\"#2a3f5f\\\",\\\"minorgridcolor\\\":\\\"white\\\",\\\"startlinecolor\\\":\\\"#2a3f5f\\\",\\\"linecolor\\\":\\\"white\\\"}}],\\\"scatterpolar\\\":[{\\\"type\\\":\\\"scatterpolar\\\",\\\"marker\\\":{\\\"colorbar\\\":{\\\"ticks\\\":\\\"\\\",\\\"outlinewidth\\\":0}}}],\\\"parcoords\\\":[{\\\"line\\\":{\\\"colorbar\\\":{\\\"ticks\\\":\\\"\\\",\\\"outlinewidth\\\":0}},\\\"type\\\":\\\"parcoords\\\"}],\\\"scatter\\\":[{\\\"type\\\":\\\"scatter\\\",\\\"marker\\\":{\\\"colorbar\\\":{\\\"ticks\\\":\\\"\\\",\\\"outlinewidth\\\":0}}}],\\\"histogram2dcontour\\\":[{\\\"colorbar\\\":{\\\"ticks\\\":\\\"\\\",\\\"outlinewidth\\\":0},\\\"type\\\":\\\"histogram2dcontour\\\",\\\"colorscale\\\":[[0.0,\\\"#0d0887\\\"],[0.1111111111111111,\\\"#46039f\\\"],[0.2222222222222222,\\\"#7201a8\\\"],[0.3333333333333333,\\\"#9c179e\\\"],[0.4444444444444444,\\\"#bd3786\\\"],[0.5555555555555556,\\\"#d8576b\\\"],[0.6666666666666666,\\\"#ed7953\\\"],[0.7777777777777778,\\\"#fb9f3a\\\"],[0.8888888888888888,\\\"#fdca26\\\"],[1.0,\\\"#f0f921\\\"]]}],\\\"contour\\\":[{\\\"colorbar\\\":{\\\"ticks\\\":\\\"\\\",\\\"outlinewidth\\\":0},\\\"type\\\":\\\"contour\\\",\\\"colorscale\\\":[[0.0,\\\"#0d0887\\\"],[0.1111111111111111,\\\"#46039f\\\"],[0.2222222222222222,\\\"#7201a8\\\"],[0.3333333333333333,\\\"#9c179e\\\"],[0.4444444444444444,\\\"#bd3786\\\"],[0.5555555555555556,\\\"#d8576b\\\"],[0.6666666666666666,\\\"#ed7953\\\"],[0.7777777777777778,\\\"#fb9f3a\\\"],[0.8888888888888888,\\\"#fdca26\\\"],[1.0,\\\"#f0f921\\\"]]}],\\\"scattercarpet\\\":[{\\\"type\\\":\\\"scattercarpet\\\",\\\"marker\\\":{\\\"colorbar\\\":{\\\"ticks\\\":\\\"\\\",\\\"outlinewidth\\\":0}}}],\\\"mesh3d\\\":[{\\\"colorbar\\\":{\\\"ticks\\\":\\\"\\\",\\\"outlinewidth\\\":0},\\\"type\\\":\\\"mesh3d\\\"}],\\\"surface\\\":[{\\\"colorbar\\\":{\\\"ticks\\\":\\\"\\\",\\\"outlinewidth\\\":0},\\\"type\\\":\\\"surface\\\",\\\"colorscale\\\":[[0.0,\\\"#0d0887\\\"],[0.1111111111111111,\\\"#46039f\\\"],[0.2222222222222222,\\\"#7201a8\\\"],[0.3333333333333333,\\\"#9c179e\\\"],[0.4444444444444444,\\\"#bd3786\\\"],[0.5555555555555556,\\\"#d8576b\\\"],[0.6666666666666666,\\\"#ed7953\\\"],[0.7777777777777778,\\\"#fb9f3a\\\"],[0.8888888888888888,\\\"#fdca26\\\"],[1.0,\\\"#f0f921\\\"]]}],\\\"scattermapbox\\\":[{\\\"type\\\":\\\"scattermapbox\\\",\\\"marker\\\":{\\\"colorbar\\\":{\\\"ticks\\\":\\\"\\\",\\\"outlinewidth\\\":0}}}],\\\"scattergeo\\\":[{\\\"type\\\":\\\"scattergeo\\\",\\\"marker\\\":{\\\"colorbar\\\":{\\\"ticks\\\":\\\"\\\",\\\"outlinewidth\\\":0}}}],\\\"histogram\\\":[{\\\"type\\\":\\\"histogram\\\",\\\"marker\\\":{\\\"colorbar\\\":{\\\"ticks\\\":\\\"\\\",\\\"outlinewidth\\\":0}}}],\\\"pie\\\":[{\\\"type\\\":\\\"pie\\\",\\\"automargin\\\":true}],\\\"choropleth\\\":[{\\\"colorbar\\\":{\\\"ticks\\\":\\\"\\\",\\\"outlinewidth\\\":0},\\\"type\\\":\\\"choropleth\\\"}],\\\"heatmapgl\\\":[{\\\"colorbar\\\":{\\\"ticks\\\":\\\"\\\",\\\"outlinewidth\\\":0},\\\"type\\\":\\\"heatmapgl\\\",\\\"colorscale\\\":[[0.0,\\\"#0d0887\\\"],[0.1111111111111111,\\\"#46039f\\\"],[0.2222222222222222,\\\"#7201a8\\\"],[0.3333333333333333,\\\"#9c179e\\\"],[0.4444444444444444,\\\"#bd3786\\\"],[0.5555555555555556,\\\"#d8576b\\\"],[0.6666666666666666,\\\"#ed7953\\\"],[0.7777777777777778,\\\"#fb9f3a\\\"],[0.8888888888888888,\\\"#fdca26\\\"],[1.0,\\\"#f0f921\\\"]]}],\\\"bar\\\":[{\\\"type\\\":\\\"bar\\\",\\\"error_y\\\":{\\\"color\\\":\\\"#2a3f5f\\\"},\\\"error_x\\\":{\\\"color\\\":\\\"#2a3f5f\\\"},\\\"marker\\\":{\\\"line\\\":{\\\"color\\\":\\\"#E5ECF6\\\",\\\"width\\\":0.5}}}],\\\"heatmap\\\":[{\\\"colorbar\\\":{\\\"ticks\\\":\\\"\\\",\\\"outlinewidth\\\":0},\\\"type\\\":\\\"heatmap\\\",\\\"colorscale\\\":[[0.0,\\\"#0d0887\\\"],[0.1111111111111111,\\\"#46039f\\\"],[0.2222222222222222,\\\"#7201a8\\\"],[0.3333333333333333,\\\"#9c179e\\\"],[0.4444444444444444,\\\"#bd3786\\\"],[0.5555555555555556,\\\"#d8576b\\\"],[0.6666666666666666,\\\"#ed7953\\\"],[0.7777777777777778,\\\"#fb9f3a\\\"],[0.8888888888888888,\\\"#fdca26\\\"],[1.0,\\\"#f0f921\\\"]]}],\\\"contourcarpet\\\":[{\\\"colorbar\\\":{\\\"ticks\\\":\\\"\\\",\\\"outlinewidth\\\":0},\\\"type\\\":\\\"contourcarpet\\\"}],\\\"table\\\":[{\\\"type\\\":\\\"table\\\",\\\"header\\\":{\\\"line\\\":{\\\"color\\\":\\\"white\\\"},\\\"fill\\\":{\\\"color\\\":\\\"#C8D4E3\\\"}},\\\"cells\\\":{\\\"line\\\":{\\\"color\\\":\\\"white\\\"},\\\"fill\\\":{\\\"color\\\":\\\"#EBF0F8\\\"}}}],\\\"scatter3d\\\":[{\\\"line\\\":{\\\"colorbar\\\":{\\\"ticks\\\":\\\"\\\",\\\"outlinewidth\\\":0}},\\\"type\\\":\\\"scatter3d\\\",\\\"marker\\\":{\\\"colorbar\\\":{\\\"ticks\\\":\\\"\\\",\\\"outlinewidth\\\":0}}}],\\\"scattergl\\\":[{\\\"type\\\":\\\"scattergl\\\",\\\"marker\\\":{\\\"colorbar\\\":{\\\"ticks\\\":\\\"\\\",\\\"outlinewidth\\\":0}}}],\\\"histogram2d\\\":[{\\\"colorbar\\\":{\\\"ticks\\\":\\\"\\\",\\\"outlinewidth\\\":0},\\\"type\\\":\\\"histogram2d\\\",\\\"colorscale\\\":[[0.0,\\\"#0d0887\\\"],[0.1111111111111111,\\\"#46039f\\\"],[0.2222222222222222,\\\"#7201a8\\\"],[0.3333333333333333,\\\"#9c179e\\\"],[0.4444444444444444,\\\"#bd3786\\\"],[0.5555555555555556,\\\"#d8576b\\\"],[0.6666666666666666,\\\"#ed7953\\\"],[0.7777777777777778,\\\"#fb9f3a\\\"],[0.8888888888888888,\\\"#fdca26\\\"],[1.0,\\\"#f0f921\\\"]]}],\\\"scatterternary\\\":[{\\\"type\\\":\\\"scatterternary\\\",\\\"marker\\\":{\\\"colorbar\\\":{\\\"ticks\\\":\\\"\\\",\\\"outlinewidth\\\":0}}}],\\\"scatterpolargl\\\":[{\\\"type\\\":\\\"scatterpolargl\\\",\\\"marker\\\":{\\\"colorbar\\\":{\\\"ticks\\\":\\\"\\\",\\\"outlinewidth\\\":0}}}]}},\\\"margin\\\":{\\\"l\\\":50,\\\"b\\\":50,\\\"r\\\":50,\\\"t\\\":60}},{\\\"showLink\\\":false,\\\"editable\\\":false,\\\"responsive\\\":true,\\\"staticPlot\\\":false,\\\"scrollZoom\\\":true}); gd.on(\\\"plotly_hover\\\",(function (data){var filtered_data=WebIO.PlotlyCommands.filterEventData(gd,data,\\\"hover\\\"); return !(filtered_data.isnil) ? (WebIO.setval({\\\"name\\\":\\\"hover\\\",\\\"scope\\\":\\\"12101271885865629791\\\",\\\"id\\\":\\\"1179290710068174155\\\",\\\"type\\\":\\\"observable\\\"},filtered_data.out)) : undefined})); gd.on(\\\"plotly_unhover\\\",(function (){return WebIO.setval({\\\"name\\\":\\\"hover\\\",\\\"scope\\\":\\\"12101271885865629791\\\",\\\"id\\\":\\\"1179290710068174155\\\",\\\"type\\\":\\\"observable\\\"},{})})); gd.on(\\\"plotly_selected\\\",(function (data){var filtered_data=WebIO.PlotlyCommands.filterEventData(gd,data,\\\"selected\\\"); return !(filtered_data.isnil) ? (WebIO.setval({\\\"name\\\":\\\"selected\\\",\\\"scope\\\":\\\"12101271885865629791\\\",\\\"id\\\":\\\"14245826182690094077\\\",\\\"type\\\":\\\"observable\\\"},filtered_data.out)) : undefined})); gd.on(\\\"plotly_deselect\\\",(function (){return WebIO.setval({\\\"name\\\":\\\"selected\\\",\\\"scope\\\":\\\"12101271885865629791\\\",\\\"id\\\":\\\"14245826182690094077\\\",\\\"type\\\":\\\"observable\\\"},{})})); gd.on(\\\"plotly_relayout\\\",(function (data){var filtered_data=WebIO.PlotlyCommands.filterEventData(gd,data,\\\"relayout\\\"); return !(filtered_data.isnil) ? (WebIO.setval({\\\"name\\\":\\\"relayout\\\",\\\"scope\\\":\\\"12101271885865629791\\\",\\\"id\\\":\\\"14577326445390407576\\\",\\\"type\\\":\\\"observable\\\"},filtered_data.out)) : undefined})); return gd.on(\\\"plotly_click\\\",(function (data){var filtered_data=WebIO.PlotlyCommands.filterEventData(gd,data,\\\"click\\\"); return !(filtered_data.isnil) ? (WebIO.setval({\\\"name\\\":\\\"click\\\",\\\"scope\\\":\\\"12101271885865629791\\\",\\\"id\\\":\\\"17478960713596700680\\\",\\\"type\\\":\\\"observable\\\"},filtered_data.out)) : undefined}))}));\\n    (WebIO.importBlock({\\\"data\\\":[{\\\"name\\\":\\\"Plotly\\\",\\\"type\\\":\\\"js\\\",\\\"url\\\":\\\"\\/assetserver\\/3e2d063fcbfbf8797e7181829eb6f798910493eb-plotly.min.js\\\"},{\\\"name\\\":null,\\\"type\\\":\\\"js\\\",\\\"url\\\":\\\"\\/assetserver\\/588989ae0bd9d28bf0e53faaf41e2532b763e757-plotly_webio.bundle.js\\\"}],\\\"type\\\":\\\"async_block\\\"})).then((imports) => handler.apply(this, imports));\\n}\\n\"],\"observables\":{\"_toImage\":{\"sync\":false,\"id\":\"15235514698302601753\",\"value\":{}},\"hover\":{\"sync\":false,\"id\":\"1179290710068174155\",\"value\":{}},\"selected\":{\"sync\":false,\"id\":\"14245826182690094077\",\"value\":{}},\"__gd_contents\":{\"sync\":false,\"id\":\"3490838304510766403\",\"value\":{}},\"click\":{\"sync\":false,\"id\":\"17478960713596700680\",\"value\":{}},\"image\":{\"sync\":true,\"id\":\"8710762153420963445\",\"value\":\"\"},\"__get_gd_contents\":{\"sync\":false,\"id\":\"15879783662283358332\",\"value\":\"\"},\"_downloadImage\":{\"sync\":false,\"id\":\"8892447237288985647\",\"value\":{}},\"relayout\":{\"sync\":false,\"id\":\"14577326445390407576\",\"value\":{}},\"_commands\":{\"sync\":false,\"id\":\"3381369206662298478\",\"value\":[]}}},\"children\":[{\"props\":{\"id\":\"plot-d5a1b3f7-7045-4ad1-9c5d-922da383844c\"},\"nodeType\":\"DOM\",\"type\":\"node\",\"instanceArgs\":{\"namespace\":\"html\",\"tag\":\"div\"},\"children\":[]}]},\n",
                      "        window,\n",
                      "    );\n",
                      "    })()\n",
                      "    </script>\n",
                      "</div>\n"
                     ],
                     "text/plain": [
                      "data: [\n",
                      "  \"scatter with fields mode, type, x, and y\"\n",
                      "]\n",
                      "\n",
                      "layout: \"layout with fields margin and template\"\n",
                      "\n"
                     ]
                    },
                    "execution_count": 20,
                    "metadata": {},
                    "output_type": "execute_result"
                   }
                  ],
                  "source": [
                   "plot(scatter(agri_col_cleansed, x=:Phosphorus, y=:num_of_protests, mode=\"markers\"))"
                  ]
                 },
                 {
                  "cell_type": "code",
                  "execution_count": 21,
                  "metadata": {},
                  "outputs": [
                   {
                    "data": {
                     "application/vnd.plotly.v1+json": {
                      "config": {
                       "editable": false,
                       "responsive": true,
                       "scrollZoom": true,
                       "showLink": false,
                       "staticPlot": false
                      },
                      "data": [
                       {
                        "mode": "markers",
                        "type": "scatter",
                        "x": [
                         2.52,
                         2.14,
                         2.6,
                         2.05,
                         1.63,
                         2.54,
                         1.98,
                         2.48,
                         2.66,
                         1.93,
                         2.4,
                         2.4,
                         1.7,
                         2.21,
                         2.04
                        ],
                        "y": [
                         176,
                         102,
                         42,
                         867,
                         96,
                         296,
                         50,
                         87,
                         312,
                         175,
                         1904,
                         470,
                         41,
                         362,
                         104
                        ]
                       }
                      ],
                      "frames": [],
                      "layout": {
                       "autosize": true,
                       "margin": {
                        "b": 50,
                        "l": 50,
                        "r": 50,
                        "t": 60
                       },
                       "template": {
                        "data": {
                         "bar": [
                          {
                           "error_x": {
                            "color": "#2a3f5f"
                           },
                           "error_y": {
                            "color": "#2a3f5f"
                           },
                           "marker": {
                            "line": {
                             "color": "#E5ECF6",
                             "width": 0.5
                            }
                           },
                           "type": "bar"
                          }
                         ],
                         "barpolar": [
                          {
                           "marker": {
                            "line": {
                             "color": "#E5ECF6",
                             "width": 0.5
                            }
                           },
                           "type": "barpolar"
                          }
                         ],
                         "carpet": [
                          {
                           "aaxis": {
                            "endlinecolor": "#2a3f5f",
                            "gridcolor": "white",
                            "linecolor": "white",
                            "minorgridcolor": "white",
                            "startlinecolor": "#2a3f5f"
                           },
                           "baxis": {
                            "endlinecolor": "#2a3f5f",
                            "gridcolor": "white",
                            "linecolor": "white",
                            "minorgridcolor": "white",
                            "startlinecolor": "#2a3f5f"
                           },
                           "type": "carpet"
                          }
                         ],
                         "choropleth": [
                          {
                           "colorbar": {
                            "outlinewidth": 0,
                            "ticks": ""
                           },
                           "type": "choropleth"
                          }
                         ],
                         "contour": [
                          {
                           "colorbar": {
                            "outlinewidth": 0,
                            "ticks": ""
                           },
                           "colorscale": [
                            [
                             0,
                             "#0d0887"
                            ],
                            [
                             0.1111111111111111,
                             "#46039f"
                            ],
                            [
                             0.2222222222222222,
                             "#7201a8"
                            ],
                            [
                             0.3333333333333333,
                             "#9c179e"
                            ],
                            [
                             0.4444444444444444,
                             "#bd3786"
                            ],
                            [
                             0.5555555555555556,
                             "#d8576b"
                            ],
                            [
                             0.6666666666666666,
                             "#ed7953"
                            ],
                            [
                             0.7777777777777778,
                             "#fb9f3a"
                            ],
                            [
                             0.8888888888888888,
                             "#fdca26"
                            ],
                            [
                             1,
                             "#f0f921"
                            ]
                           ],
                           "type": "contour"
                          }
                         ],
                         "contourcarpet": [
                          {
                           "colorbar": {
                            "outlinewidth": 0,
                            "ticks": ""
                           },
                           "type": "contourcarpet"
                          }
                         ],
                         "heatmap": [
                          {
                           "colorbar": {
                            "outlinewidth": 0,
                            "ticks": ""
                           },
                           "colorscale": [
                            [
                             0,
                             "#0d0887"
                            ],
                            [
                             0.1111111111111111,
                             "#46039f"
                            ],
                            [
                             0.2222222222222222,
                             "#7201a8"
                            ],
                            [
                             0.3333333333333333,
                             "#9c179e"
                            ],
                            [
                             0.4444444444444444,
                             "#bd3786"
                            ],
                            [
                             0.5555555555555556,
                             "#d8576b"
                            ],
                            [
                             0.6666666666666666,
                             "#ed7953"
                            ],
                            [
                             0.7777777777777778,
                             "#fb9f3a"
                            ],
                            [
                             0.8888888888888888,
                             "#fdca26"
                            ],
                            [
                             1,
                             "#f0f921"
                            ]
                           ],
                           "type": "heatmap"
                          }
                         ],
                         "heatmapgl": [
                          {
                           "colorbar": {
                            "outlinewidth": 0,
                            "ticks": ""
                           },
                           "colorscale": [
                            [
                             0,
                             "#0d0887"
                            ],
                            [
                             0.1111111111111111,
                             "#46039f"
                            ],
                            [
                             0.2222222222222222,
                             "#7201a8"
                            ],
                            [
                             0.3333333333333333,
                             "#9c179e"
                            ],
                            [
                             0.4444444444444444,
                             "#bd3786"
                            ],
                            [
                             0.5555555555555556,
                             "#d8576b"
                            ],
                            [
                             0.6666666666666666,
                             "#ed7953"
                            ],
                            [
                             0.7777777777777778,
                             "#fb9f3a"
                            ],
                            [
                             0.8888888888888888,
                             "#fdca26"
                            ],
                            [
                             1,
                             "#f0f921"
                            ]
                           ],
                           "type": "heatmapgl"
                          }
                         ],
                         "histogram": [
                          {
                           "marker": {
                            "colorbar": {
                             "outlinewidth": 0,
                             "ticks": ""
                            }
                           },
                           "type": "histogram"
                          }
                         ],
                         "histogram2d": [
                          {
                           "colorbar": {
                            "outlinewidth": 0,
                            "ticks": ""
                           },
                           "colorscale": [
                            [
                             0,
                             "#0d0887"
                            ],
                            [
                             0.1111111111111111,
                             "#46039f"
                            ],
                            [
                             0.2222222222222222,
                             "#7201a8"
                            ],
                            [
                             0.3333333333333333,
                             "#9c179e"
                            ],
                            [
                             0.4444444444444444,
                             "#bd3786"
                            ],
                            [
                             0.5555555555555556,
                             "#d8576b"
                            ],
                            [
                             0.6666666666666666,
                             "#ed7953"
                            ],
                            [
                             0.7777777777777778,
                             "#fb9f3a"
                            ],
                            [
                             0.8888888888888888,
                             "#fdca26"
                            ],
                            [
                             1,
                             "#f0f921"
                            ]
                           ],
                           "type": "histogram2d"
                          }
                         ],
                         "histogram2dcontour": [
                          {
                           "colorbar": {
                            "outlinewidth": 0,
                            "ticks": ""
                           },
                           "colorscale": [
                            [
                             0,
                             "#0d0887"
                            ],
                            [
                             0.1111111111111111,
                             "#46039f"
                            ],
                            [
                             0.2222222222222222,
                             "#7201a8"
                            ],
                            [
                             0.3333333333333333,
                             "#9c179e"
                            ],
                            [
                             0.4444444444444444,
                             "#bd3786"
                            ],
                            [
                             0.5555555555555556,
                             "#d8576b"
                            ],
                            [
                             0.6666666666666666,
                             "#ed7953"
                            ],
                            [
                             0.7777777777777778,
                             "#fb9f3a"
                            ],
                            [
                             0.8888888888888888,
                             "#fdca26"
                            ],
                            [
                             1,
                             "#f0f921"
                            ]
                           ],
                           "type": "histogram2dcontour"
                          }
                         ],
                         "mesh3d": [
                          {
                           "colorbar": {
                            "outlinewidth": 0,
                            "ticks": ""
                           },
                           "type": "mesh3d"
                          }
                         ],
                         "parcoords": [
                          {
                           "line": {
                            "colorbar": {
                             "outlinewidth": 0,
                             "ticks": ""
                            }
                           },
                           "type": "parcoords"
                          }
                         ],
                         "pie": [
                          {
                           "automargin": true,
                           "type": "pie"
                          }
                         ],
                         "scatter": [
                          {
                           "marker": {
                            "colorbar": {
                             "outlinewidth": 0,
                             "ticks": ""
                            }
                           },
                           "type": "scatter"
                          }
                         ],
                         "scatter3d": [
                          {
                           "line": {
                            "colorbar": {
                             "outlinewidth": 0,
                             "ticks": ""
                            }
                           },
                           "marker": {
                            "colorbar": {
                             "outlinewidth": 0,
                             "ticks": ""
                            }
                           },
                           "type": "scatter3d"
                          }
                         ],
                         "scattercarpet": [
                          {
                           "marker": {
                            "colorbar": {
                             "outlinewidth": 0,
                             "ticks": ""
                            }
                           },
                           "type": "scattercarpet"
                          }
                         ],
                         "scattergeo": [
                          {
                           "marker": {
                            "colorbar": {
                             "outlinewidth": 0,
                             "ticks": ""
                            }
                           },
                           "type": "scattergeo"
                          }
                         ],
                         "scattergl": [
                          {
                           "marker": {
                            "colorbar": {
                             "outlinewidth": 0,
                             "ticks": ""
                            }
                           },
                           "type": "scattergl"
                          }
                         ],
                         "scattermapbox": [
                          {
                           "marker": {
                            "colorbar": {
                             "outlinewidth": 0,
                             "ticks": ""
                            }
                           },
                           "type": "scattermapbox"
                          }
                         ],
                         "scatterpolar": [
                          {
                           "marker": {
                            "colorbar": {
                             "outlinewidth": 0,
                             "ticks": ""
                            }
                           },
                           "type": "scatterpolar"
                          }
                         ],
                         "scatterpolargl": [
                          {
                           "marker": {
                            "colorbar": {
                             "outlinewidth": 0,
                             "ticks": ""
                            }
                           },
                           "type": "scatterpolargl"
                          }
                         ],
                         "scatterternary": [
                          {
                           "marker": {
                            "colorbar": {
                             "outlinewidth": 0,
                             "ticks": ""
                            }
                           },
                           "type": "scatterternary"
                          }
                         ],
                         "surface": [
                          {
                           "colorbar": {
                            "outlinewidth": 0,
                            "ticks": ""
                           },
                           "colorscale": [
                            [
                             0,
                             "#0d0887"
                            ],
                            [
                             0.1111111111111111,
                             "#46039f"
                            ],
                            [
                             0.2222222222222222,
                             "#7201a8"
                            ],
                            [
                             0.3333333333333333,
                             "#9c179e"
                            ],
                            [
                             0.4444444444444444,
                             "#bd3786"
                            ],
                            [
                             0.5555555555555556,
                             "#d8576b"
                            ],
                            [
                             0.6666666666666666,
                             "#ed7953"
                            ],
                            [
                             0.7777777777777778,
                             "#fb9f3a"
                            ],
                            [
                             0.8888888888888888,
                             "#fdca26"
                            ],
                            [
                             1,
                             "#f0f921"
                            ]
                           ],
                           "type": "surface"
                          }
                         ],
                         "table": [
                          {
                           "cells": {
                            "fill": {
                             "color": "#EBF0F8"
                            },
                            "line": {
                             "color": "white"
                            }
                           },
                           "header": {
                            "fill": {
                             "color": "#C8D4E3"
                            },
                            "line": {
                             "color": "white"
                            }
                           },
                           "type": "table"
                          }
                         ]
                        },
                        "layout": {
                         "annotationdefaults": {
                          "arrowcolor": "#2a3f5f",
                          "arrowhead": 0,
                          "arrowwidth": 1
                         },
                         "autotypenumbers": "strict",
                         "coloraxis": {
                          "colorbar": {
                           "outlinewidth": 0,
                           "ticks": ""
                          }
                         },
                         "colorscale": {
                          "diverging": [
                           [
                            0,
                            "#8e0152"
                           ],
                           [
                            0.1,
                            "#c51b7d"
                           ],
                           [
                            0.2,
                            "#de77ae"
                           ],
                           [
                            0.3,
                            "#f1b6da"
                           ],
                           [
                            0.4,
                            "#fde0ef"
                           ],
                           [
                            0.5,
                            "#f7f7f7"
                           ],
                           [
                            0.6,
                            "#e6f5d0"
                           ],
                           [
                            0.7,
                            "#b8e186"
                           ],
                           [
                            0.8,
                            "#7fbc41"
                           ],
                           [
                            0.9,
                            "#4d9221"
                           ],
                           [
                            1,
                            "#276419"
                           ]
                          ],
                          "sequential": [
                           [
                            0,
                            "#0d0887"
                           ],
                           [
                            0.1111111111111111,
                            "#46039f"
                           ],
                           [
                            0.2222222222222222,
                            "#7201a8"
                           ],
                           [
                            0.3333333333333333,
                            "#9c179e"
                           ],
                           [
                            0.4444444444444444,
                            "#bd3786"
                           ],
                           [
                            0.5555555555555556,
                            "#d8576b"
                           ],
                           [
                            0.6666666666666666,
                            "#ed7953"
                           ],
                           [
                            0.7777777777777778,
                            "#fb9f3a"
                           ],
                           [
                            0.8888888888888888,
                            "#fdca26"
                           ],
                           [
                            1,
                            "#f0f921"
                           ]
                          ],
                          "sequentialminus": [
                           [
                            0,
                            "#0d0887"
                           ],
                           [
                            0.1111111111111111,
                            "#46039f"
                           ],
                           [
                            0.2222222222222222,
                            "#7201a8"
                           ],
                           [
                            0.3333333333333333,
                            "#9c179e"
                           ],
                           [
                            0.4444444444444444,
                            "#bd3786"
                           ],
                           [
                            0.5555555555555556,
                            "#d8576b"
                           ],
                           [
                            0.6666666666666666,
                            "#ed7953"
                           ],
                           [
                            0.7777777777777778,
                            "#fb9f3a"
                           ],
                           [
                            0.8888888888888888,
                            "#fdca26"
                           ],
                           [
                            1,
                            "#f0f921"
                           ]
                          ]
                         },
                         "colorway": [
                          "#636efa",
                          "#EF553B",
                          "#00cc96",
                          "#ab63fa",
                          "#FFA15A",
                          "#19d3f3",
                          "#FF6692",
                          "#B6E880",
                          "#FF97FF",
                          "#FECB52"
                         ],
                         "font": {
                          "color": "#2a3f5f"
                         },
                         "geo": {
                          "bgcolor": "white",
                          "lakecolor": "white",
                          "landcolor": "#E5ECF6",
                          "showlakes": true,
                          "showland": true,
                          "subunitcolor": "white"
                         },
                         "hoverlabel": {
                          "align": "left"
                         },
                         "hovermode": "closest",
                         "mapbox": {
                          "style": "light"
                         },
                         "paper_bgcolor": "white",
                         "plot_bgcolor": "#E5ECF6",
                         "polar": {
                          "angularaxis": {
                           "gridcolor": "white",
                           "linecolor": "white",
                           "ticks": ""
                          },
                          "bgcolor": "#E5ECF6",
                          "radialaxis": {
                           "gridcolor": "white",
                           "linecolor": "white",
                           "ticks": ""
                          }
                         },
                         "scene": {
                          "xaxis": {
                           "backgroundcolor": "#E5ECF6",
                           "gridcolor": "white",
                           "gridwidth": 2,
                           "linecolor": "white",
                           "showbackground": true,
                           "ticks": "",
                           "zerolinecolor": "white"
                          },
                          "yaxis": {
                           "backgroundcolor": "#E5ECF6",
                           "gridcolor": "white",
                           "gridwidth": 2,
                           "linecolor": "white",
                           "showbackground": true,
                           "ticks": "",
                           "zerolinecolor": "white"
                          },
                          "zaxis": {
                           "backgroundcolor": "#E5ECF6",
                           "gridcolor": "white",
                           "gridwidth": 2,
                           "linecolor": "white",
                           "showbackground": true,
                           "ticks": "",
                           "zerolinecolor": "white"
                          }
                         },
                         "shapedefaults": {
                          "line": {
                           "color": "#2a3f5f"
                          }
                         },
                         "ternary": {
                          "aaxis": {
                           "gridcolor": "white",
                           "linecolor": "white",
                           "ticks": ""
                          },
                          "baxis": {
                           "gridcolor": "white",
                           "linecolor": "white",
                           "ticks": ""
                          },
                          "bgcolor": "#E5ECF6",
                          "caxis": {
                           "gridcolor": "white",
                           "linecolor": "white",
                           "ticks": ""
                          }
                         },
                         "title": {
                          "x": 0.05
                         },
                         "xaxis": {
                          "automargin": true,
                          "gridcolor": "white",
                          "linecolor": "white",
                          "ticks": "",
                          "title": {
                           "standoff": 15
                          },
                          "zerolinecolor": "white",
                          "zerolinewidth": 2
                         },
                         "yaxis": {
                          "automargin": true,
                          "gridcolor": "white",
                          "linecolor": "white",
                          "ticks": "",
                          "title": {
                           "standoff": 15
                          },
                          "zerolinecolor": "white",
                          "zerolinewidth": 2
                         }
                        }
                       },
                       "xaxis": {
                        "autorange": true,
                        "range": [
                         1.5679300801988025,
                         2.7220699198011973
                        ],
                        "type": "linear"
                       },
                       "yaxis": {
                        "autorange": true,
                        "range": [
                         -98.18965517241381,
                         2043.1896551724137
                        ],
                        "type": "linear",
                       "title": {
                        "text": "Ilość protestów w zależności od procentowego udziału Potasu w składzie próbki gleby w danym stanie",
                        "x": 0.5,
                        "xanchor": "center",
                        "y": 0.95,
                        "yanchor": "top"
                       },
                       "xaxis": {
                        "title": {
                         "text": "Procentowy udział Potasu w próbce gleby w danym stanie"
                        }
                       },
                       "yaxis": {
                        "title": {
                         "text": "Ilość protestów"
                        }
                       }
                      }
                     },
                     "image/png": "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",
                     "text/html": [
                      "<div\n",
                      "    class=\"webio-mountpoint\"\n",
                      "    data-webio-mountpoint=\"6202641525662243485\"\n",
                      ">\n",
                      "    <script>\n",
                      "    (function(){\n",
                      "    // Some integrations (namely, IJulia/Jupyter) use an alternate render pathway than\n",
                      "    // just putting the html on the page. If WebIO isn't defined, then it's pretty likely\n",
                      "    // that we're in one of those situations and the integration just isn't installed\n",
                      "    // correctly.\n",
                      "    if (typeof window.WebIO === \"undefined\") {\n",
                      "        document\n",
                      "            .querySelector('[data-webio-mountpoint=\"6202641525662243485\"]')\n",
                      "            .innerHTML = (\n",
                      "                '<div style=\"padding: 1em; background-color: #f8d6da; border: 1px solid #f5c6cb; font-weight: bold;\">' +\n",
                      "                '<p><strong>WebIO not detected.</strong></p>' +\n",
                      "                '<p>Please read ' +\n",
                      "                '<a href=\"https://juliagizmos.github.io/WebIO.jl/latest/troubleshooting/not-detected/\" target=\"_blank\">the troubleshooting guide</a> ' +\n",
                      "                'for more information on how to resolve this issue.</p>' +\n",
                      "                '<p><a href=\"https://juliagizmos.github.io/WebIO.jl/latest/troubleshooting/not-detected/\" target=\"_blank\">https://juliagizmos.github.io/WebIO.jl/latest/troubleshooting/not-detected/</a></p>' +\n",
                      "                '</div>'\n",
                      "            );\n",
                      "        return;\n",
                      "    }\n",
                      "    WebIO.mount(\n",
                      "        document.querySelector('[data-webio-mountpoint=\"6202641525662243485\"]'),\n",
                      "        {\"props\":{},\"nodeType\":\"Scope\",\"type\":\"node\",\"instanceArgs\":{\"imports\":{\"data\":[{\"name\":\"Plotly\",\"type\":\"js\",\"url\":\"\\/assetserver\\/3e2d063fcbfbf8797e7181829eb6f798910493eb-plotly.min.js\"},{\"name\":null,\"type\":\"js\",\"url\":\"\\/assetserver\\/588989ae0bd9d28bf0e53faaf41e2532b763e757-plotly_webio.bundle.js\"}],\"type\":\"async_block\"},\"id\":\"2419556442903631828\",\"handlers\":{\"_toImage\":[\"(function (options){return this.Plotly.toImage(this.plotElem,options).then((function (data){return WebIO.setval({\\\"name\\\":\\\"image\\\",\\\"scope\\\":\\\"2419556442903631828\\\",\\\"id\\\":\\\"9322806286034844159\\\",\\\"type\\\":\\\"observable\\\"},data)}))})\"],\"__get_gd_contents\":[\"(function (prop){prop==\\\"data\\\" ? (WebIO.setval({\\\"name\\\":\\\"__gd_contents\\\",\\\"scope\\\":\\\"2419556442903631828\\\",\\\"id\\\":\\\"5483440028708397586\\\",\\\"type\\\":\\\"observable\\\"},this.plotElem.data)) : undefined; return prop==\\\"layout\\\" ? (WebIO.setval({\\\"name\\\":\\\"__gd_contents\\\",\\\"scope\\\":\\\"2419556442903631828\\\",\\\"id\\\":\\\"5483440028708397586\\\",\\\"type\\\":\\\"observable\\\"},this.plotElem.layout)) : undefined})\"],\"_downloadImage\":[\"(function (options){return this.Plotly.downloadImage(this.plotElem,options)})\"],\"_commands\":[\"(function (args){var fn=args.shift(); var elem=this.plotElem; var Plotly=this.Plotly; args.unshift(elem); return Plotly[fn].apply(this,args)})\"]},\"systemjs_options\":null,\"mount_callbacks\":[\"function () {\\n    var handler = ((function (Plotly,PlotlyWebIO){PlotlyWebIO.init(WebIO); var gd=this.dom.querySelector(\\\"#plot-a36d08b1-e566-45d0-85d4-72723538688a\\\"); this.plotElem=gd; this.Plotly=Plotly; (window.Blink!==undefined) ? (gd.style.width=\\\"100%\\\", gd.style.height=\\\"100vh\\\", gd.style.marginLeft=\\\"0%\\\", gd.style.marginTop=\\\"0vh\\\") : undefined; window.onresize=(function (){return Plotly.Plots.resize(gd)}); Plotly.newPlot(gd,[{\\\"mode\\\":\\\"markers\\\",\\\"y\\\":[176,102,42,867,96,296,50,87,312,175,1904,470,41,362,104],\\\"type\\\":\\\"scatter\\\",\\\"x\\\":[2.52,2.14,2.6,2.05,1.63,2.54,1.98,2.48,2.66,1.93,2.4,2.4,1.7,2.21,2.04]}],{\\\"xaxis\\\":{\\\"title\\\":{\\\"text\\\":\\\"Procentowy udział Potasu w próbce gleby w danym stanie\\\"}},\\\"template\\\":{\\\"layout\\\":{\\\"coloraxis\\\":{\\\"colorbar\\\":{\\\"ticks\\\":\\\"\\\",\\\"outlinewidth\\\":0}},\\\"xaxis\\\":{\\\"gridcolor\\\":\\\"white\\\",\\\"zerolinewidth\\\":2,\\\"title\\\":{\\\"standoff\\\":15},\\\"ticks\\\":\\\"\\\",\\\"zerolinecolor\\\":\\\"white\\\",\\\"automargin\\\":true,\\\"linecolor\\\":\\\"white\\\"},\\\"hovermode\\\":\\\"closest\\\",\\\"paper_bgcolor\\\":\\\"white\\\",\\\"geo\\\":{\\\"showlakes\\\":true,\\\"showland\\\":true,\\\"landcolor\\\":\\\"#E5ECF6\\\",\\\"bgcolor\\\":\\\"white\\\",\\\"subunitcolor\\\":\\\"white\\\",\\\"lakecolor\\\":\\\"white\\\"},\\\"colorscale\\\":{\\\"sequential\\\":[[0.0,\\\"#0d0887\\\"],[0.1111111111111111,\\\"#46039f\\\"],[0.2222222222222222,\\\"#7201a8\\\"],[0.3333333333333333,\\\"#9c179e\\\"],[0.4444444444444444,\\\"#bd3786\\\"],[0.5555555555555556,\\\"#d8576b\\\"],[0.6666666666666666,\\\"#ed7953\\\"],[0.7777777777777778,\\\"#fb9f3a\\\"],[0.8888888888888888,\\\"#fdca26\\\"],[1.0,\\\"#f0f921\\\"]],\\\"diverging\\\":[[0,\\\"#8e0152\\\"],[0.1,\\\"#c51b7d\\\"],[0.2,\\\"#de77ae\\\"],[0.3,\\\"#f1b6da\\\"],[0.4,\\\"#fde0ef\\\"],[0.5,\\\"#f7f7f7\\\"],[0.6,\\\"#e6f5d0\\\"],[0.7,\\\"#b8e186\\\"],[0.8,\\\"#7fbc41\\\"],[0.9,\\\"#4d9221\\\"],[1,\\\"#276419\\\"]],\\\"sequentialminus\\\":[[0.0,\\\"#0d0887\\\"],[0.1111111111111111,\\\"#46039f\\\"],[0.2222222222222222,\\\"#7201a8\\\"],[0.3333333333333333,\\\"#9c179e\\\"],[0.4444444444444444,\\\"#bd3786\\\"],[0.5555555555555556,\\\"#d8576b\\\"],[0.6666666666666666,\\\"#ed7953\\\"],[0.7777777777777778,\\\"#fb9f3a\\\"],[0.8888888888888888,\\\"#fdca26\\\"],[1.0,\\\"#f0f921\\\"]]},\\\"yaxis\\\":{\\\"gridcolor\\\":\\\"white\\\",\\\"zerolinewidth\\\":2,\\\"title\\\":{\\\"standoff\\\":15},\\\"ticks\\\":\\\"\\\",\\\"zerolinecolor\\\":\\\"white\\\",\\\"automargin\\\":true,\\\"linecolor\\\":\\\"white\\\"},\\\"shapedefaults\\\":{\\\"line\\\":{\\\"color\\\":\\\"#2a3f5f\\\"}},\\\"hoverlabel\\\":{\\\"align\\\":\\\"left\\\"},\\\"mapbox\\\":{\\\"style\\\":\\\"light\\\"},\\\"polar\\\":{\\\"angularaxis\\\":{\\\"gridcolor\\\":\\\"white\\\",\\\"ticks\\\":\\\"\\\",\\\"linecolor\\\":\\\"white\\\"},\\\"bgcolor\\\":\\\"#E5ECF6\\\",\\\"radialaxis\\\":{\\\"gridcolor\\\":\\\"white\\\",\\\"ticks\\\":\\\"\\\",\\\"linecolor\\\":\\\"white\\\"}},\\\"autotypenumbers\\\":\\\"strict\\\",\\\"font\\\":{\\\"color\\\":\\\"#2a3f5f\\\"},\\\"ternary\\\":{\\\"baxis\\\":{\\\"gridcolor\\\":\\\"white\\\",\\\"ticks\\\":\\\"\\\",\\\"linecolor\\\":\\\"white\\\"},\\\"bgcolor\\\":\\\"#E5ECF6\\\",\\\"caxis\\\":{\\\"gridcolor\\\":\\\"white\\\",\\\"ticks\\\":\\\"\\\",\\\"linecolor\\\":\\\"white\\\"},\\\"aaxis\\\":{\\\"gridcolor\\\":\\\"white\\\",\\\"ticks\\\":\\\"\\\",\\\"linecolor\\\":\\\"white\\\"}},\\\"annotationdefaults\\\":{\\\"arrowhead\\\":0,\\\"arrowwidth\\\":1,\\\"arrowcolor\\\":\\\"#2a3f5f\\\"},\\\"plot_bgcolor\\\":\\\"#E5ECF6\\\",\\\"title\\\":{\\\"x\\\":0.05},\\\"scene\\\":{\\\"xaxis\\\":{\\\"gridcolor\\\":\\\"white\\\",\\\"gridwidth\\\":2,\\\"backgroundcolor\\\":\\\"#E5ECF6\\\",\\\"ticks\\\":\\\"\\\",\\\"showbackground\\\":true,\\\"zerolinecolor\\\":\\\"white\\\",\\\"linecolor\\\":\\\"white\\\"},\\\"zaxis\\\":{\\\"gridcolor\\\":\\\"white\\\",\\\"gridwidth\\\":2,\\\"backgroundcolor\\\":\\\"#E5ECF6\\\",\\\"ticks\\\":\\\"\\\",\\\"showbackground\\\":true,\\\"zerolinecolor\\\":\\\"white\\\",\\\"linecolor\\\":\\\"white\\\"},\\\"yaxis\\\":{\\\"gridcolor\\\":\\\"white\\\",\\\"gridwidth\\\":2,\\\"backgroundcolor\\\":\\\"#E5ECF6\\\",\\\"ticks\\\":\\\"\\\",\\\"showbackground\\\":true,\\\"zerolinecolor\\\":\\\"white\\\",\\\"linecolor\\\":\\\"white\\\"}},\\\"colorway\\\":[\\\"#636efa\\\",\\\"#EF553B\\\",\\\"#00cc96\\\",\\\"#ab63fa\\\",\\\"#FFA15A\\\",\\\"#19d3f3\\\",\\\"#FF6692\\\",\\\"#B6E880\\\",\\\"#FF97FF\\\",\\\"#FECB52\\\"]},\\\"data\\\":{\\\"barpolar\\\":[{\\\"type\\\":\\\"barpolar\\\",\\\"marker\\\":{\\\"line\\\":{\\\"color\\\":\\\"#E5ECF6\\\",\\\"width\\\":0.5}}}],\\\"carpet\\\":[{\\\"aaxis\\\":{\\\"gridcolor\\\":\\\"white\\\",\\\"endlinecolor\\\":\\\"#2a3f5f\\\",\\\"minorgridcolor\\\":\\\"white\\\",\\\"startlinecolor\\\":\\\"#2a3f5f\\\",\\\"linecolor\\\":\\\"white\\\"},\\\"type\\\":\\\"carpet\\\",\\\"baxis\\\":{\\\"gridcolor\\\":\\\"white\\\",\\\"endlinecolor\\\":\\\"#2a3f5f\\\",\\\"minorgridcolor\\\":\\\"white\\\",\\\"startlinecolor\\\":\\\"#2a3f5f\\\",\\\"linecolor\\\":\\\"white\\\"}}],\\\"scatterpolar\\\":[{\\\"type\\\":\\\"scatterpolar\\\",\\\"marker\\\":{\\\"colorbar\\\":{\\\"ticks\\\":\\\"\\\",\\\"outlinewidth\\\":0}}}],\\\"parcoords\\\":[{\\\"line\\\":{\\\"colorbar\\\":{\\\"ticks\\\":\\\"\\\",\\\"outlinewidth\\\":0}},\\\"type\\\":\\\"parcoords\\\"}],\\\"scatter\\\":[{\\\"type\\\":\\\"scatter\\\",\\\"marker\\\":{\\\"colorbar\\\":{\\\"ticks\\\":\\\"\\\",\\\"outlinewidth\\\":0}}}],\\\"histogram2dcontour\\\":[{\\\"colorbar\\\":{\\\"ticks\\\":\\\"\\\",\\\"outlinewidth\\\":0},\\\"type\\\":\\\"histogram2dcontour\\\",\\\"colorscale\\\":[[0.0,\\\"#0d0887\\\"],[0.1111111111111111,\\\"#46039f\\\"],[0.2222222222222222,\\\"#7201a8\\\"],[0.3333333333333333,\\\"#9c179e\\\"],[0.4444444444444444,\\\"#bd3786\\\"],[0.5555555555555556,\\\"#d8576b\\\"],[0.6666666666666666,\\\"#ed7953\\\"],[0.7777777777777778,\\\"#fb9f3a\\\"],[0.8888888888888888,\\\"#fdca26\\\"],[1.0,\\\"#f0f921\\\"]]}],\\\"contour\\\":[{\\\"colorbar\\\":{\\\"ticks\\\":\\\"\\\",\\\"outlinewidth\\\":0},\\\"type\\\":\\\"contour\\\",\\\"colorscale\\\":[[0.0,\\\"#0d0887\\\"],[0.1111111111111111,\\\"#46039f\\\"],[0.2222222222222222,\\\"#7201a8\\\"],[0.3333333333333333,\\\"#9c179e\\\"],[0.4444444444444444,\\\"#bd3786\\\"],[0.5555555555555556,\\\"#d8576b\\\"],[0.6666666666666666,\\\"#ed7953\\\"],[0.7777777777777778,\\\"#fb9f3a\\\"],[0.8888888888888888,\\\"#fdca26\\\"],[1.0,\\\"#f0f921\\\"]]}],\\\"scattercarpet\\\":[{\\\"type\\\":\\\"scattercarpet\\\",\\\"marker\\\":{\\\"colorbar\\\":{\\\"ticks\\\":\\\"\\\",\\\"outlinewidth\\\":0}}}],\\\"mesh3d\\\":[{\\\"colorbar\\\":{\\\"ticks\\\":\\\"\\\",\\\"outlinewidth\\\":0},\\\"type\\\":\\\"mesh3d\\\"}],\\\"surface\\\":[{\\\"colorbar\\\":{\\\"ticks\\\":\\\"\\\",\\\"outlinewidth\\\":0},\\\"type\\\":\\\"surface\\\",\\\"colorscale\\\":[[0.0,\\\"#0d0887\\\"],[0.1111111111111111,\\\"#46039f\\\"],[0.2222222222222222,\\\"#7201a8\\\"],[0.3333333333333333,\\\"#9c179e\\\"],[0.4444444444444444,\\\"#bd3786\\\"],[0.5555555555555556,\\\"#d8576b\\\"],[0.6666666666666666,\\\"#ed7953\\\"],[0.7777777777777778,\\\"#fb9f3a\\\"],[0.8888888888888888,\\\"#fdca26\\\"],[1.0,\\\"#f0f921\\\"]]}],\\\"scattermapbox\\\":[{\\\"type\\\":\\\"scattermapbox\\\",\\\"marker\\\":{\\\"colorbar\\\":{\\\"ticks\\\":\\\"\\\",\\\"outlinewidth\\\":0}}}],\\\"scattergeo\\\":[{\\\"type\\\":\\\"scattergeo\\\",\\\"marker\\\":{\\\"colorbar\\\":{\\\"ticks\\\":\\\"\\\",\\\"outlinewidth\\\":0}}}],\\\"histogram\\\":[{\\\"type\\\":\\\"histogram\\\",\\\"marker\\\":{\\\"colorbar\\\":{\\\"ticks\\\":\\\"\\\",\\\"outlinewidth\\\":0}}}],\\\"pie\\\":[{\\\"type\\\":\\\"pie\\\",\\\"automargin\\\":true}],\\\"choropleth\\\":[{\\\"colorbar\\\":{\\\"ticks\\\":\\\"\\\",\\\"outlinewidth\\\":0},\\\"type\\\":\\\"choropleth\\\"}],\\\"heatmapgl\\\":[{\\\"colorbar\\\":{\\\"ticks\\\":\\\"\\\",\\\"outlinewidth\\\":0},\\\"type\\\":\\\"heatmapgl\\\",\\\"colorscale\\\":[[0.0,\\\"#0d0887\\\"],[0.1111111111111111,\\\"#46039f\\\"],[0.2222222222222222,\\\"#7201a8\\\"],[0.3333333333333333,\\\"#9c179e\\\"],[0.4444444444444444,\\\"#bd3786\\\"],[0.5555555555555556,\\\"#d8576b\\\"],[0.6666666666666666,\\\"#ed7953\\\"],[0.7777777777777778,\\\"#fb9f3a\\\"],[0.8888888888888888,\\\"#fdca26\\\"],[1.0,\\\"#f0f921\\\"]]}],\\\"bar\\\":[{\\\"type\\\":\\\"bar\\\",\\\"error_y\\\":{\\\"color\\\":\\\"#2a3f5f\\\"},\\\"error_x\\\":{\\\"color\\\":\\\"#2a3f5f\\\"},\\\"marker\\\":{\\\"line\\\":{\\\"color\\\":\\\"#E5ECF6\\\",\\\"width\\\":0.5}}}],\\\"heatmap\\\":[{\\\"colorbar\\\":{\\\"ticks\\\":\\\"\\\",\\\"outlinewidth\\\":0},\\\"type\\\":\\\"heatmap\\\",\\\"colorscale\\\":[[0.0,\\\"#0d0887\\\"],[0.1111111111111111,\\\"#46039f\\\"],[0.2222222222222222,\\\"#7201a8\\\"],[0.3333333333333333,\\\"#9c179e\\\"],[0.4444444444444444,\\\"#bd3786\\\"],[0.5555555555555556,\\\"#d8576b\\\"],[0.6666666666666666,\\\"#ed7953\\\"],[0.7777777777777778,\\\"#fb9f3a\\\"],[0.8888888888888888,\\\"#fdca26\\\"],[1.0,\\\"#f0f921\\\"]]}],\\\"contourcarpet\\\":[{\\\"colorbar\\\":{\\\"ticks\\\":\\\"\\\",\\\"outlinewidth\\\":0},\\\"type\\\":\\\"contourcarpet\\\"}],\\\"table\\\":[{\\\"type\\\":\\\"table\\\",\\\"header\\\":{\\\"line\\\":{\\\"color\\\":\\\"white\\\"},\\\"fill\\\":{\\\"color\\\":\\\"#C8D4E3\\\"}},\\\"cells\\\":{\\\"line\\\":{\\\"color\\\":\\\"white\\\"},\\\"fill\\\":{\\\"color\\\":\\\"#EBF0F8\\\"}}}],\\\"scatter3d\\\":[{\\\"line\\\":{\\\"colorbar\\\":{\\\"ticks\\\":\\\"\\\",\\\"outlinewidth\\\":0}},\\\"type\\\":\\\"scatter3d\\\",\\\"marker\\\":{\\\"colorbar\\\":{\\\"ticks\\\":\\\"\\\",\\\"outlinewidth\\\":0}}}],\\\"scattergl\\\":[{\\\"type\\\":\\\"scattergl\\\",\\\"marker\\\":{\\\"colorbar\\\":{\\\"ticks\\\":\\\"\\\",\\\"outlinewidth\\\":0}}}],\\\"histogram2d\\\":[{\\\"colorbar\\\":{\\\"ticks\\\":\\\"\\\",\\\"outlinewidth\\\":0},\\\"type\\\":\\\"histogram2d\\\",\\\"colorscale\\\":[[0.0,\\\"#0d0887\\\"],[0.1111111111111111,\\\"#46039f\\\"],[0.2222222222222222,\\\"#7201a8\\\"],[0.3333333333333333,\\\"#9c179e\\\"],[0.4444444444444444,\\\"#bd3786\\\"],[0.5555555555555556,\\\"#d8576b\\\"],[0.6666666666666666,\\\"#ed7953\\\"],[0.7777777777777778,\\\"#fb9f3a\\\"],[0.8888888888888888,\\\"#fdca26\\\"],[1.0,\\\"#f0f921\\\"]]}],\\\"scatterternary\\\":[{\\\"type\\\":\\\"scatterternary\\\",\\\"marker\\\":{\\\"colorbar\\\":{\\\"ticks\\\":\\\"\\\",\\\"outlinewidth\\\":0}}}],\\\"scatterpolargl\\\":[{\\\"type\\\":\\\"scatterpolargl\\\",\\\"marker\\\":{\\\"colorbar\\\":{\\\"ticks\\\":\\\"\\\",\\\"outlinewidth\\\":0}}}]}},\\\"margin\\\":{\\\"l\\\":50,\\\"b\\\":50,\\\"r\\\":50,\\\"t\\\":60},\\\"yaxis\\\":{\\\"title\\\":{\\\"text\\\":\\\"Ilość protestów\\\"}},\\\"title\\\":{\\\"yanchor\\\":\\\"top\\\",\\\"xanchor\\\":\\\"center\\\",\\\"y\\\":0.95,\\\"text\\\":\\\"Ilość protestów w zależności od procentowego udziału Potasu w składzie próbki gleby w danym stanie\\\",\\\"x\\\":0.5}},{\\\"showLink\\\":false,\\\"editable\\\":false,\\\"responsive\\\":true,\\\"staticPlot\\\":false,\\\"scrollZoom\\\":true}); gd.on(\\\"plotly_hover\\\",(function (data){var filtered_data=WebIO.PlotlyCommands.filterEventData(gd,data,\\\"hover\\\"); return !(filtered_data.isnil) ? (WebIO.setval({\\\"name\\\":\\\"hover\\\",\\\"scope\\\":\\\"2419556442903631828\\\",\\\"id\\\":\\\"11704686055188795298\\\",\\\"type\\\":\\\"observable\\\"},filtered_data.out)) : undefined})); gd.on(\\\"plotly_unhover\\\",(function (){return WebIO.setval({\\\"name\\\":\\\"hover\\\",\\\"scope\\\":\\\"2419556442903631828\\\",\\\"id\\\":\\\"11704686055188795298\\\",\\\"type\\\":\\\"observable\\\"},{})})); gd.on(\\\"plotly_selected\\\",(function (data){var filtered_data=WebIO.PlotlyCommands.filterEventData(gd,data,\\\"selected\\\"); return !(filtered_data.isnil) ? (WebIO.setval({\\\"name\\\":\\\"selected\\\",\\\"scope\\\":\\\"2419556442903631828\\\",\\\"id\\\":\\\"7848467935322897001\\\",\\\"type\\\":\\\"observable\\\"},filtered_data.out)) : undefined})); gd.on(\\\"plotly_deselect\\\",(function (){return WebIO.setval({\\\"name\\\":\\\"selected\\\",\\\"scope\\\":\\\"2419556442903631828\\\",\\\"id\\\":\\\"7848467935322897001\\\",\\\"type\\\":\\\"observable\\\"},{})})); gd.on(\\\"plotly_relayout\\\",(function (data){var filtered_data=WebIO.PlotlyCommands.filterEventData(gd,data,\\\"relayout\\\"); return !(filtered_data.isnil) ? (WebIO.setval({\\\"name\\\":\\\"relayout\\\",\\\"scope\\\":\\\"2419556442903631828\\\",\\\"id\\\":\\\"178665437219110490\\\",\\\"type\\\":\\\"observable\\\"},filtered_data.out)) : undefined})); return gd.on(\\\"plotly_click\\\",(function (data){var filtered_data=WebIO.PlotlyCommands.filterEventData(gd,data,\\\"click\\\"); return !(filtered_data.isnil) ? (WebIO.setval({\\\"name\\\":\\\"click\\\",\\\"scope\\\":\\\"2419556442903631828\\\",\\\"id\\\":\\\"16684695532651160981\\\",\\\"type\\\":\\\"observable\\\"},filtered_data.out)) : undefined}))}));\\n    (WebIO.importBlock({\\\"data\\\":[{\\\"name\\\":\\\"Plotly\\\",\\\"type\\\":\\\"js\\\",\\\"url\\\":\\\"\\/assetserver\\/3e2d063fcbfbf8797e7181829eb6f798910493eb-plotly.min.js\\\"},{\\\"name\\\":null,\\\"type\\\":\\\"js\\\",\\\"url\\\":\\\"\\/assetserver\\/588989ae0bd9d28bf0e53faaf41e2532b763e757-plotly_webio.bundle.js\\\"}],\\\"type\\\":\\\"async_block\\\"})).then((imports) => handler.apply(this, imports));\\n}\\n\"],\"observables\":{\"_toImage\":{\"sync\":false,\"id\":\"3231592116783288345\",\"value\":{}},\"hover\":{\"sync\":false,\"id\":\"11704686055188795298\",\"value\":{}},\"selected\":{\"sync\":false,\"id\":\"7848467935322897001\",\"value\":{}},\"__gd_contents\":{\"sync\":false,\"id\":\"5483440028708397586\",\"value\":{}},\"click\":{\"sync\":false,\"id\":\"16684695532651160981\",\"value\":{}},\"image\":{\"sync\":true,\"id\":\"9322806286034844159\",\"value\":\"\"},\"__get_gd_contents\":{\"sync\":false,\"id\":\"13907114615241716688\",\"value\":\"\"},\"_downloadImage\":{\"sync\":false,\"id\":\"2853047181039916411\",\"value\":{}},\"relayout\":{\"sync\":false,\"id\":\"178665437219110490\",\"value\":{}},\"_commands\":{\"sync\":false,\"id\":\"14400672770861244606\",\"value\":[]}}},\"children\":[{\"props\":{\"id\":\"plot-a36d08b1-e566-45d0-85d4-72723538688a\"},\"nodeType\":\"DOM\",\"type\":\"node\",\"instanceArgs\":{\"namespace\":\"html\",\"tag\":\"div\"},\"children\":[]}]},\n",
                      "        window,\n",
                      "    );\n",
                      "    })()\n",
                      "    </script>\n",
                      "</div>\n"
                     ],
                     "text/plain": [
                      "data: [\n",
                      "  \"scatter with fields mode, type, x, and y\"\n",
                      "]\n",
                      "\n",
                      "layout: \"layout with fields margin, template, title, xaxis, and yaxis\"\n",
                      "\n"
                     ]
                    },
                    "execution_count": 21,
                    "metadata": {},
                    "output_type": "execute_result"
                   }}
                  ],
                  "source": [
                   "trace = scatter(agri_col_cleansed, x=:Potassium, y=:num_of_protests, mode=\"markers\")\n",
                   "layout = Layout(xaxis_title=\"Procentowy udział Potasu w próbce gleby w danym stanie\", yaxis_title=\"Ilość protestów\", title=attr(text=\"Ilość protestów w zależności od procentowego udziału Potasu w składzie próbki gleby w danym stanie\", y=0.95,\n",
                   "x=0.5, xanchor=\"center\", yanchor=\"top\"))\n",
                   "plot(trace, layout)"
                  ]
                 },
                 {
                  "cell_type": "code",
                  "execution_count": 22,
                  "metadata": {},
                  "outputs": [
                   {
                    "data": {
                     "text/plain": [
                      "15-element Vector{Float64}:\n",
                      " 2.52\n",
                      " 2.14\n",
                      " 2.6\n",
                      " 2.05\n",
                      " 1.63\n",
                      " 2.54\n",
                      " 1.98\n",
                      " 2.48\n",
                      " 2.66\n",
                      " 1.93\n",
                      " 2.4\n",
                      " 2.4\n",
                      " 1.7\n",
                      " 2.21\n",
                      " 2.04"
                     ]
                    },
                    "execution_count": 22,
                    "metadata": {},
                    "output_type": "execute_result"
                   }
                  ],
                  "source": [
                   "x1 =agri_col_cleansed[!, \"Nitrogen\"]\n",
                   "x2 =agri_col_cleansed[!, \"Phosphorus\"]\n",
                   "x3 =agri_col_cleansed[!, \"Potassium\"]"
                  ]
                 },
                 {
                  "cell_type": "code",
                  "execution_count": 23,
                  "metadata": {},
                  "outputs": [
                   {
                    "data": {
                     "text/plain": [
                      "15-element Vector{Int64}:\n",
                      "  176\n",
                      "  102\n",
                      "   42\n",
                      "  867\n",
                      "   96\n",
                      "  296\n",
                      "   50\n",
                      "   87\n",
                      "  312\n",
                      "  175\n",
                      " 1904\n",
                      "  470\n",
                      "   41\n",
                      "  362\n",
                      "  104"
                     ]
                    },
                    "execution_count": 23,
                    "metadata": {},
                    "output_type": "execute_result"
                   }
                  ],
                  "source": [
                   "y = agri_col_cleansed[!, \"num_of_protests\"]"
                  ]
                 },
                 {
                  "cell_type": "code",
                  "execution_count": 24,
                  "metadata": {},
                  "outputs": [
                   {
                    "data": {
                     "text/plain": [
                      "-0.21614546221855174"
                     ]
                    },
                    "execution_count": 24,
                    "metadata": {},
                    "output_type": "execute_result"
                   }
                  ],
                  "source": [
                   "cor(x1,y) ##niewielka tendencja do spadku protesstów wraz z natężeniem procentowego udziału azotu w glebie "
                  ]
                 },
                 {
                  "cell_type": "code",
                  "execution_count": 25,
                  "metadata": {},
                  "outputs": [
                   {
                    "data": {
                     "text/plain": [
                      "-0.10336462949164442"
                     ]
                    },
                    "execution_count": 25,
                    "metadata": {},
                    "output_type": "execute_result"
                   }
                  ],
                  "source": [
                   "cor(x2, y) ##bardzo mała tendencja spadkowa"
                  ]
                 },
                 {
                  "cell_type": "code",
                  "execution_count": 26,
                  "metadata": {},
                  "outputs": [
                   {
                    "data": {
                     "text/plain": [
                      "0.19798412783079936"
                     ]
                    },
                    "execution_count": 26,
                    "metadata": {},
                    "output_type": "execute_result"
                   }
                  ],
                  "source": [
                   "cor(x3,y)##niewielka tendencja wzrostowa"
                  ]
                 },
                 {
                  "cell_type": "code",
                  "execution_count": 27,
                  "metadata": {},
                  "outputs": [
                   {
                    "data": {
                     "text/plain": [
                      "25-element Vector{Float64}:\n",
                      "  0.01715735801586168\n",
                      "  0.06594889894720382\n",
                      " -0.08958293706223491\n",
                      "  0.10549933246819267\n",
                      " -0.0725886429848269\n",
                      "  0.1309376285317461\n",
                      "  0.06735467454779248\n",
                      " -0.024856344167804575\n",
                      " -0.07350751863159852\n",
                      " -0.3009974743486206\n",
                      "  0.1906393149908655\n",
                      "  0.11191348897611675\n",
                      " -0.21614546221855171\n",
                      "  0.06712900660189892\n",
                      " -0.25353491155209307\n",
                      " -0.2666494057002169\n",
                      "  0.05135339984851061\n",
                      "  0.2866827282890723\n",
                      "  0.5882212226904272\n",
                      " -0.38283168784259725\n",
                      " -0.0691918629279739\n",
                      "  0.15763646854857097\n",
                      " -0.12664957568689308\n",
                      "  0.03658864476438512\n",
                      " -0.0026669427793676323"
                     ]
                    },
                    "execution_count": 27,
                    "metadata": {},
                    "output_type": "execute_result"
                   }
                  ],
                  "source": [
                   " a = crosscor(x1, y)"
                  ]
                 },
                 {
                  "cell_type": "code",
                  "execution_count": 29,
                  "metadata": {},
                  "outputs": [
                   {
                    "data": {
                     "application/vnd.plotly.v1+json": {
                      "config": {
                       "editable": false,
                       "responsive": true,
                       "scrollZoom": true,
                       "showLink": false,
                       "staticPlot": false
                      },
                      "data": [
                       {
                        "type": "scatter",
                        "x": [
                         1,
                         2,
                         3,
                         4,
                         5,
                         6,
                         7,
                         8,
                         9,
                         10,
                         11,
                         12,
                         13,
                         14,
                         15,
                         16,
                         17,
                         18,
                         19,
                         20,
                         21,
                         22,
                         23,
                         24,
                         25
                        ],
                        "y": [
                         0.0629815913342443,
                         0.0007081079788924745,
                         0.05428149497010156,
                         -0.14159950123767603,
                         0.09761885411919573,
                         0.02709239813369716,
                         -0.0908972216332212,
                         0.14877164582189278,
                         -0.1030726970409455,
                         -0.025281126974142733,
                         -0.21652708148758987,
                         -0.18066561673527917,
                         0.19798412783079936,
                         -0.17344960386130004,
                         0.2531624566534366,
                         0.4077187419751343,
                         -0.3132356886437155,
                         0.21948069253630534,
                         -0.4310852827544646,
                         -0.28874725845765437,
                         0.36916968284164176,
                         -0.07278994345016397,
                         0.21747784847516208,
                         0.050233161577099845,
                         -0.08173263867450886
                        ]
                       }
                      ],
                      "frames": [],
                      "layout": {
                       "autosize": true,
                       "margin": {
                        "b": 50,
                        "l": 50,
                        "r": 50,
                        "t": 60
                       },
                       "template": {
                        "data": {
                         "bar": [
                          {
                           "error_x": {
                            "color": "#2a3f5f"
                           },
                           "error_y": {
                            "color": "#2a3f5f"
                           },
                           "marker": {
                            "line": {
                             "color": "#E5ECF6",
                             "width": 0.5
                            }
                           },
                           "type": "bar"
                          }
                         ],
                         "barpolar": [
                          {
                           "marker": {
                            "line": {
                             "color": "#E5ECF6",
                             "width": 0.5
                            }
                           },
                           "type": "barpolar"
                          }
                         ],
                         "carpet": [
                          {
                           "aaxis": {
                            "endlinecolor": "#2a3f5f",
                            "gridcolor": "white",
                            "linecolor": "white",
                            "minorgridcolor": "white",
                            "startlinecolor": "#2a3f5f"
                           },
                           "baxis": {
                            "endlinecolor": "#2a3f5f",
                            "gridcolor": "white",
                            "linecolor": "white",
                            "minorgridcolor": "white",
                            "startlinecolor": "#2a3f5f"
                           },
                           "type": "carpet"
                          }
                         ],
                         "choropleth": [
                          {
                           "colorbar": {
                            "outlinewidth": 0,
                            "ticks": ""
                           },
                           "type": "choropleth"
                          }
                         ],
                         "contour": [
                          {
                           "colorbar": {
                            "outlinewidth": 0,
                            "ticks": ""
                           },
                           "colorscale": [
                            [
                             0,
                             "#0d0887"
                            ],
                            [
                             0.1111111111111111,
                             "#46039f"
                            ],
                            [
                             0.2222222222222222,
                             "#7201a8"
                            ],
                            [
                             0.3333333333333333,
                             "#9c179e"
                            ],
                            [
                             0.4444444444444444,
                             "#bd3786"
                            ],
                            [
                             0.5555555555555556,
                             "#d8576b"
                            ],
                            [
                             0.6666666666666666,
                             "#ed7953"
                            ],
                            [
                             0.7777777777777778,
                             "#fb9f3a"
                            ],
                            [
                             0.8888888888888888,
                             "#fdca26"
                            ],
                            [
                             1,
                             "#f0f921"
                            ]
                           ],
                           "type": "contour"
                          }
                         ],
                         "contourcarpet": [
                          {
                           "colorbar": {
                            "outlinewidth": 0,
                            "ticks": ""
                           },
                           "type": "contourcarpet"
                          }
                         ],
                         "heatmap": [
                          {
                           "colorbar": {
                            "outlinewidth": 0,
                            "ticks": ""
                           },
                           "colorscale": [
                            [
                             0,
                             "#0d0887"
                            ],
                            [
                             0.1111111111111111,
                             "#46039f"
                            ],
                            [
                             0.2222222222222222,
                             "#7201a8"
                            ],
                            [
                             0.3333333333333333,
                             "#9c179e"
                            ],
                            [
                             0.4444444444444444,
                             "#bd3786"
                            ],
                            [
                             0.5555555555555556,
                             "#d8576b"
                            ],
                            [
                             0.6666666666666666,
                             "#ed7953"
                            ],
                            [
                             0.7777777777777778,
                             "#fb9f3a"
                            ],
                            [
                             0.8888888888888888,
                             "#fdca26"
                            ],
                            [
                             1,
                             "#f0f921"
                            ]
                           ],
                           "type": "heatmap"
                          }
                         ],
                         "heatmapgl": [
                          {
                           "colorbar": {
                            "outlinewidth": 0,
                            "ticks": ""
                           },
                           "colorscale": [
                            [
                             0,
                             "#0d0887"
                            ],
                            [
                             0.1111111111111111,
                             "#46039f"
                            ],
                            [
                             0.2222222222222222,
                             "#7201a8"
                            ],
                            [
                             0.3333333333333333,
                             "#9c179e"
                            ],
                            [
                             0.4444444444444444,
                             "#bd3786"
                            ],
                            [
                             0.5555555555555556,
                             "#d8576b"
                            ],
                            [
                             0.6666666666666666,
                             "#ed7953"
                            ],
                            [
                             0.7777777777777778,
                             "#fb9f3a"
                            ],
                            [
                             0.8888888888888888,
                             "#fdca26"
                            ],
                            [
                             1,
                             "#f0f921"
                            ]
                           ],
                           "type": "heatmapgl"
                          }
                         ],
                         "histogram": [
                          {
                           "marker": {
                            "colorbar": {
                             "outlinewidth": 0,
                             "ticks": ""
                            }
                           },
                           "type": "histogram"
                          }
                         ],
                         "histogram2d": [
                          {
                           "colorbar": {
                            "outlinewidth": 0,
                            "ticks": ""
                           },
                           "colorscale": [
                            [
                             0,
                             "#0d0887"
                            ],
                            [
                             0.1111111111111111,
                             "#46039f"
                            ],
                            [
                             0.2222222222222222,
                             "#7201a8"
                            ],
                            [
                             0.3333333333333333,
                             "#9c179e"
                            ],
                            [
                             0.4444444444444444,
                             "#bd3786"
                            ],
                            [
                             0.5555555555555556,
                             "#d8576b"
                            ],
                            [
                             0.6666666666666666,
                             "#ed7953"
                            ],
                            [
                             0.7777777777777778,
                             "#fb9f3a"
                            ],
                            [
                             0.8888888888888888,
                             "#fdca26"
                            ],
                            [
                             1,
                             "#f0f921"
                            ]
                           ],
                           "type": "histogram2d"
                          }
                         ],
                         "histogram2dcontour": [
                          {
                           "colorbar": {
                            "outlinewidth": 0,
                            "ticks": ""
                           },
                           "colorscale": [
                            [
                             0,
                             "#0d0887"
                            ],
                            [
                             0.1111111111111111,
                             "#46039f"
                            ],
                            [
                             0.2222222222222222,
                             "#7201a8"
                            ],
                            [
                             0.3333333333333333,
                             "#9c179e"
                            ],
                            [
                             0.4444444444444444,
                             "#bd3786"
                            ],
                            [
                             0.5555555555555556,
                             "#d8576b"
                            ],
                            [
                             0.6666666666666666,
                             "#ed7953"
                            ],
                            [
                             0.7777777777777778,
                             "#fb9f3a"
                            ],
                            [
                             0.8888888888888888,
                             "#fdca26"
                            ],
                            [
                             1,
                             "#f0f921"
                            ]
                           ],
                           "type": "histogram2dcontour"
                          }
                         ],
                         "mesh3d": [
                          {
                           "colorbar": {
                            "outlinewidth": 0,
                            "ticks": ""
                           },
                           "type": "mesh3d"
                          }
                         ],
                         "parcoords": [
                          {
                           "line": {
                            "colorbar": {
                             "outlinewidth": 0,
                             "ticks": ""
                            }
                           },
                           "type": "parcoords"
                          }
                         ],
                         "pie": [
                          {
                           "automargin": true,
                           "type": "pie"
                          }
                         ],
                         "scatter": [
                          {
                           "marker": {
                            "colorbar": {
                             "outlinewidth": 0,
                             "ticks": ""
                            }
                           },
                           "type": "scatter"
                          }
                         ],
                         "scatter3d": [
                          {
                           "line": {
                            "colorbar": {
                             "outlinewidth": 0,
                             "ticks": ""
                            }
                           },
                           "marker": {
                            "colorbar": {
                             "outlinewidth": 0,
                             "ticks": ""
                            }
                           },
                           "type": "scatter3d"
                          }
                         ],
                         "scattercarpet": [
                          {
                           "marker": {
                            "colorbar": {
                             "outlinewidth": 0,
                             "ticks": ""
                            }
                           },
                           "type": "scattercarpet"
                          }
                         ],
                         "scattergeo": [
                          {
                           "marker": {
                            "colorbar": {
                             "outlinewidth": 0,
                             "ticks": ""
                            }
                           },
                           "type": "scattergeo"
                          }
                         ],
                         "scattergl": [
                          {
                           "marker": {
                            "colorbar": {
                             "outlinewidth": 0,
                             "ticks": ""
                            }
                           },
                           "type": "scattergl"
                          }
                         ],
                         "scattermapbox": [
                          {
                           "marker": {
                            "colorbar": {
                             "outlinewidth": 0,
                             "ticks": ""
                            }
                           },
                           "type": "scattermapbox"
                          }
                         ],
                         "scatterpolar": [
                          {
                           "marker": {
                            "colorbar": {
                             "outlinewidth": 0,
                             "ticks": ""
                            }
                           },
                           "type": "scatterpolar"
                          }
                         ],
                         "scatterpolargl": [
                          {
                           "marker": {
                            "colorbar": {
                             "outlinewidth": 0,
                             "ticks": ""
                            }
                           },
                           "type": "scatterpolargl"
                          }
                         ],
                         "scatterternary": [
                          {
                           "marker": {
                            "colorbar": {
                             "outlinewidth": 0,
                             "ticks": ""
                            }
                           },
                           "type": "scatterternary"
                          }
                         ],
                         "surface": [
                          {
                           "colorbar": {
                            "outlinewidth": 0,
                            "ticks": ""
                           },
                           "colorscale": [
                            [
                             0,
                             "#0d0887"
                            ],
                            [
                             0.1111111111111111,
                             "#46039f"
                            ],
                            [
                             0.2222222222222222,
                             "#7201a8"
                            ],
                            [
                             0.3333333333333333,
                             "#9c179e"
                            ],
                            [
                             0.4444444444444444,
                             "#bd3786"
                            ],
                            [
                             0.5555555555555556,
                             "#d8576b"
                            ],
                            [
                             0.6666666666666666,
                             "#ed7953"
                            ],
                            [
                             0.7777777777777778,
                             "#fb9f3a"
                            ],
                            [
                             0.8888888888888888,
                             "#fdca26"
                            ],
                            [
                             1,
                             "#f0f921"
                            ]
                           ],
                           "type": "surface"
                          }
                         ],
                         "table": [
                          {
                           "cells": {
                            "fill": {
                             "color": "#EBF0F8"
                            },
                            "line": {
                             "color": "white"
                            }
                           },
                           "header": {
                            "fill": {
                             "color": "#C8D4E3"
                            },
                            "line": {
                             "color": "white"
                            }
                           },
                           "type": "table"
                          }
                         ]
                        },
                        "layout": {
                         "annotationdefaults": {
                          "arrowcolor": "#2a3f5f",
                          "arrowhead": 0,
                          "arrowwidth": 1
                         },
                         "autotypenumbers": "strict",
                         "coloraxis": {
                          "colorbar": {
                           "outlinewidth": 0,
                           "ticks": ""
                          }
                         },
                         "colorscale": {
                          "diverging": [
                           [
                            0,
                            "#8e0152"
                           ],
                           [
                            0.1,
                            "#c51b7d"
                           ],
                           [
                            0.2,
                            "#de77ae"
                           ],
                           [
                            0.3,
                            "#f1b6da"
                           ],
                           [
                            0.4,
                            "#fde0ef"
                           ],
                           [
                            0.5,
                            "#f7f7f7"
                           ],
                           [
                            0.6,
                            "#e6f5d0"
                           ],
                           [
                            0.7,
                            "#b8e186"
                           ],
                           [
                            0.8,
                            "#7fbc41"
                           ],
                           [
                            0.9,
                            "#4d9221"
                           ],
                           [
                            1,
                            "#276419"
                           ]
                          ],
                          "sequential": [
                           [
                            0,
                            "#0d0887"
                           ],
                           [
                            0.1111111111111111,
                            "#46039f"
                           ],
                           [
                            0.2222222222222222,
                            "#7201a8"
                           ],
                           [
                            0.3333333333333333,
                            "#9c179e"
                           ],
                           [
                            0.4444444444444444,
                            "#bd3786"
                           ],
                           [
                            0.5555555555555556,
                            "#d8576b"
                           ],
                           [
                            0.6666666666666666,
                            "#ed7953"
                           ],
                           [
                            0.7777777777777778,
                            "#fb9f3a"
                           ],
                           [
                            0.8888888888888888,
                            "#fdca26"
                           ],
                           [
                            1,
                            "#f0f921"
                           ]
                          ],
                          "sequentialminus": [
                           [
                            0,
                            "#0d0887"
                           ],
                           [
                            0.1111111111111111,
                            "#46039f"
                           ],
                           [
                            0.2222222222222222,
                            "#7201a8"
                           ],
                           [
                            0.3333333333333333,
                            "#9c179e"
                           ],
                           [
                            0.4444444444444444,
                            "#bd3786"
                           ],
                           [
                            0.5555555555555556,
                            "#d8576b"
                           ],
                           [
                            0.6666666666666666,
                            "#ed7953"
                           ],
                           [
                            0.7777777777777778,
                            "#fb9f3a"
                           ],
                           [
                            0.8888888888888888,
                            "#fdca26"
                           ],
                           [
                            1,
                            "#f0f921"
                           ]
                          ]
                         },
                         "colorway": [
                          "#636efa",
                          "#EF553B",
                          "#00cc96",
                          "#ab63fa",
                          "#FFA15A",
                          "#19d3f3",
                          "#FF6692",
                          "#B6E880",
                          "#FF97FF",
                          "#FECB52"
                         ],
                         "font": {
                          "color": "#2a3f5f"
                         },
                         "geo": {
                          "bgcolor": "white",
                          "lakecolor": "white",
                          "landcolor": "#E5ECF6",
                          "showlakes": true,
                          "showland": true,
                          "subunitcolor": "white"
                         },
                         "hoverlabel": {
                          "align": "left"
                         },
                         "hovermode": "closest",
                         "mapbox": {
                          "style": "light"
                         },
                         "paper_bgcolor": "white",
                         "plot_bgcolor": "#E5ECF6",
                         "polar": {
                          "angularaxis": {
                           "gridcolor": "white",
                           "linecolor": "white",
                           "ticks": ""
                          },
                          "bgcolor": "#E5ECF6",
                          "radialaxis": {
                           "gridcolor": "white",
                           "linecolor": "white",
                           "ticks": ""
                          }
                         },
                         "scene": {
                          "xaxis": {
                           "backgroundcolor": "#E5ECF6",
                           "gridcolor": "white",
                           "gridwidth": 2,
                           "linecolor": "white",
                           "showbackground": true,
                           "ticks": "",
                           "zerolinecolor": "white"
                          },
                          "yaxis": {
                           "backgroundcolor": "#E5ECF6",
                           "gridcolor": "white",
                           "gridwidth": 2,
                           "linecolor": "white",
                           "showbackground": true,
                           "ticks": "",
                           "zerolinecolor": "white"
                          },
                          "zaxis": {
                           "backgroundcolor": "#E5ECF6",
                           "gridcolor": "white",
                           "gridwidth": 2,
                           "linecolor": "white",
                           "showbackground": true,
                           "ticks": "",
                           "zerolinecolor": "white"
                          }
                         },
                         "shapedefaults": {
                          "line": {
                           "color": "#2a3f5f"
                          }
                         },
                         "ternary": {
                          "aaxis": {
                           "gridcolor": "white",
                           "linecolor": "white",
                           "ticks": ""
                          },
                          "baxis": {
                           "gridcolor": "white",
                           "linecolor": "white",
                           "ticks": ""
                          },
                          "bgcolor": "#E5ECF6",
                          "caxis": {
                           "gridcolor": "white",
                           "linecolor": "white",
                           "ticks": ""
                          }
                         },
                         "title": {
                          "x": 0.05
                         },
                         "xaxis": {
                          "automargin": true,
                          "gridcolor": "white",
                          "linecolor": "white",
                          "ticks": "",
                          "title": {
                           "standoff": 15
                          },
                          "zerolinecolor": "white",
                          "zerolinewidth": 2
                         },
                         "yaxis": {
                          "automargin": true,
                          "gridcolor": "white",
                          "linecolor": "white",
                          "ticks": "",
                          "title": {
                           "standoff": 15
                          },
                          "zerolinecolor": "white",
                          "zerolinewidth": 2
                         }
                        }
                       },
                       "title": {
                        "text": "Oscylacje współczynnika korelacji"
                       },
                       "xaxis": {
                        "title": {
                         "text": "lags"
                        }
                       },
                       "yaxis": {
                        "title": {
                         "text": "współczynnik korelacji"
                        },
                       "xaxis": {
                        "autorange": true,
                        "range": [
                         1,
                         25
                        ],
                        "type": "linear"
                       },
                       "yaxis": {
                        "autorange": true,
                        "range": [
                         -0.4367790717610986,
                         0.6421686066089286
                        ],
                        "type": "linear"
                       }
                      }
                     },
                     "image/png": "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",
                     "text/html": [
                      "<div\n",
                      "    class=\"webio-mountpoint\"\n",
                      "    data-webio-mountpoint=\"12527384727090147105\"\n",
                      ">\n",
                      "    <script>\n",
                      "    (function(){\n",
                      "    // Some integrations (namely, IJulia/Jupyter) use an alternate render pathway than\n",
                      "    // just putting the html on the page. If WebIO isn't defined, then it's pretty likely\n",
                      "    // that we're in one of those situations and the integration just isn't installed\n",
                      "    // correctly.\n",
                      "    if (typeof window.WebIO === \"undefined\") {\n",
                      "        document\n",
                      "            .querySelector('[data-webio-mountpoint=\"12527384727090147105\"]')\n",
                      "            .innerHTML = (\n",
                      "                '<div style=\"padding: 1em; background-color: #f8d6da; border: 1px solid #f5c6cb; font-weight: bold;\">' +\n",
                      "                '<p><strong>WebIO not detected.</strong></p>' +\n",
                      "                '<p>Please read ' +\n",
                      "                '<a href=\"https://juliagizmos.github.io/WebIO.jl/latest/troubleshooting/not-detected/\" target=\"_blank\">the troubleshooting guide</a> ' +\n",
                      "                'for more information on how to resolve this issue.</p>' +\n",
                      "                '<p><a href=\"https://juliagizmos.github.io/WebIO.jl/latest/troubleshooting/not-detected/\" target=\"_blank\">https://juliagizmos.github.io/WebIO.jl/latest/troubleshooting/not-detected/</a></p>' +\n",
                      "                '</div>'\n",
                      "            );\n",
                      "        return;\n",
                      "    }\n",
                      "    WebIO.mount(\n",
                      "        document.querySelector('[data-webio-mountpoint=\"12527384727090147105\"]'),\n",
                      "        {\"props\":{},\"nodeType\":\"Scope\",\"type\":\"node\",\"instanceArgs\":{\"imports\":{\"data\":[{\"name\":\"Plotly\",\"type\":\"js\",\"url\":\"\\/assetserver\\/3e2d063fcbfbf8797e7181829eb6f798910493eb-plotly.min.js\"},{\"name\":null,\"type\":\"js\",\"url\":\"\\/assetserver\\/588989ae0bd9d28bf0e53faaf41e2532b763e757-plotly_webio.bundle.js\"}],\"type\":\"async_block\"},\"id\":\"10493613120871778609\",\"handlers\":{\"_toImage\":[\"(function (options){return this.Plotly.toImage(this.plotElem,options).then((function (data){return WebIO.setval({\\\"name\\\":\\\"image\\\",\\\"scope\\\":\\\"10493613120871778609\\\",\\\"id\\\":\\\"13410999314973122663\\\",\\\"type\\\":\\\"observable\\\"},data)}))})\"],\"__get_gd_contents\":[\"(function (prop){prop==\\\"data\\\" ? (WebIO.setval({\\\"name\\\":\\\"__gd_contents\\\",\\\"scope\\\":\\\"10493613120871778609\\\",\\\"id\\\":\\\"6594362212004381472\\\",\\\"type\\\":\\\"observable\\\"},this.plotElem.data)) : undefined; return prop==\\\"layout\\\" ? (WebIO.setval({\\\"name\\\":\\\"__gd_contents\\\",\\\"scope\\\":\\\"10493613120871778609\\\",\\\"id\\\":\\\"6594362212004381472\\\",\\\"type\\\":\\\"observable\\\"},this.plotElem.layout)) : undefined})\"],\"_downloadImage\":[\"(function (options){return this.Plotly.downloadImage(this.plotElem,options)})\"],\"_commands\":[\"(function (args){var fn=args.shift(); var elem=this.plotElem; var Plotly=this.Plotly; args.unshift(elem); return Plotly[fn].apply(this,args)})\"]},\"systemjs_options\":null,\"mount_callbacks\":[\"function () {\\n    var handler = ((function (Plotly,PlotlyWebIO){PlotlyWebIO.init(WebIO); var gd=this.dom.querySelector(\\\"#plot-302af029-6fd5-471f-9a87-69f1994a6932\\\"); this.plotElem=gd; this.Plotly=Plotly; (window.Blink!==undefined) ? (gd.style.width=\\\"100%\\\", gd.style.height=\\\"100vh\\\", gd.style.marginLeft=\\\"0%\\\", gd.style.marginTop=\\\"0vh\\\") : undefined; window.onresize=(function (){return Plotly.Plots.resize(gd)}); Plotly.newPlot(gd,[{\\\"y\\\":[0.0629815913342443,0.0007081079788924745,0.05428149497010156,-0.14159950123767603,0.09761885411919573,0.02709239813369716,-0.0908972216332212,0.14877164582189278,-0.1030726970409455,-0.025281126974142733,-0.21652708148758987,-0.18066561673527917,0.19798412783079936,-0.17344960386130004,0.2531624566534366,0.4077187419751343,-0.3132356886437155,0.21948069253630534,-0.4310852827544646,-0.28874725845765437,0.36916968284164176,-0.07278994345016397,0.21747784847516208,0.050233161577099845,-0.08173263867450886],\\\"type\\\":\\\"scatter\\\",\\\"x\\\":[1,2,3,4,5,6,7,8,9,10,11,12,13,14,15,16,17,18,19,20,21,22,23,24,25]}],{\\\"xaxis\\\":{\\\"title\\\":{\\\"text\\\":\\\"lags\\\"}},\\\"template\\\":{\\\"layout\\\":{\\\"coloraxis\\\":{\\\"colorbar\\\":{\\\"ticks\\\":\\\"\\\",\\\"outlinewidth\\\":0}},\\\"xaxis\\\":{\\\"gridcolor\\\":\\\"white\\\",\\\"zerolinewidth\\\":2,\\\"title\\\":{\\\"standoff\\\":15},\\\"ticks\\\":\\\"\\\",\\\"zerolinecolor\\\":\\\"white\\\",\\\"automargin\\\":true,\\\"linecolor\\\":\\\"white\\\"},\\\"hovermode\\\":\\\"closest\\\",\\\"paper_bgcolor\\\":\\\"white\\\",\\\"geo\\\":{\\\"showlakes\\\":true,\\\"showland\\\":true,\\\"landcolor\\\":\\\"#E5ECF6\\\",\\\"bgcolor\\\":\\\"white\\\",\\\"subunitcolor\\\":\\\"white\\\",\\\"lakecolor\\\":\\\"white\\\"},\\\"colorscale\\\":{\\\"sequential\\\":[[0.0,\\\"#0d0887\\\"],[0.1111111111111111,\\\"#46039f\\\"],[0.2222222222222222,\\\"#7201a8\\\"],[0.3333333333333333,\\\"#9c179e\\\"],[0.4444444444444444,\\\"#bd3786\\\"],[0.5555555555555556,\\\"#d8576b\\\"],[0.6666666666666666,\\\"#ed7953\\\"],[0.7777777777777778,\\\"#fb9f3a\\\"],[0.8888888888888888,\\\"#fdca26\\\"],[1.0,\\\"#f0f921\\\"]],\\\"diverging\\\":[[0,\\\"#8e0152\\\"],[0.1,\\\"#c51b7d\\\"],[0.2,\\\"#de77ae\\\"],[0.3,\\\"#f1b6da\\\"],[0.4,\\\"#fde0ef\\\"],[0.5,\\\"#f7f7f7\\\"],[0.6,\\\"#e6f5d0\\\"],[0.7,\\\"#b8e186\\\"],[0.8,\\\"#7fbc41\\\"],[0.9,\\\"#4d9221\\\"],[1,\\\"#276419\\\"]],\\\"sequentialminus\\\":[[0.0,\\\"#0d0887\\\"],[0.1111111111111111,\\\"#46039f\\\"],[0.2222222222222222,\\\"#7201a8\\\"],[0.3333333333333333,\\\"#9c179e\\\"],[0.4444444444444444,\\\"#bd3786\\\"],[0.5555555555555556,\\\"#d8576b\\\"],[0.6666666666666666,\\\"#ed7953\\\"],[0.7777777777777778,\\\"#fb9f3a\\\"],[0.8888888888888888,\\\"#fdca26\\\"],[1.0,\\\"#f0f921\\\"]]},\\\"yaxis\\\":{\\\"gridcolor\\\":\\\"white\\\",\\\"zerolinewidth\\\":2,\\\"title\\\":{\\\"standoff\\\":15},\\\"ticks\\\":\\\"\\\",\\\"zerolinecolor\\\":\\\"white\\\",\\\"automargin\\\":true,\\\"linecolor\\\":\\\"white\\\"},\\\"shapedefaults\\\":{\\\"line\\\":{\\\"color\\\":\\\"#2a3f5f\\\"}},\\\"hoverlabel\\\":{\\\"align\\\":\\\"left\\\"},\\\"mapbox\\\":{\\\"style\\\":\\\"light\\\"},\\\"polar\\\":{\\\"angularaxis\\\":{\\\"gridcolor\\\":\\\"white\\\",\\\"ticks\\\":\\\"\\\",\\\"linecolor\\\":\\\"white\\\"},\\\"bgcolor\\\":\\\"#E5ECF6\\\",\\\"radialaxis\\\":{\\\"gridcolor\\\":\\\"white\\\",\\\"ticks\\\":\\\"\\\",\\\"linecolor\\\":\\\"white\\\"}},\\\"autotypenumbers\\\":\\\"strict\\\",\\\"font\\\":{\\\"color\\\":\\\"#2a3f5f\\\"},\\\"ternary\\\":{\\\"baxis\\\":{\\\"gridcolor\\\":\\\"white\\\",\\\"ticks\\\":\\\"\\\",\\\"linecolor\\\":\\\"white\\\"},\\\"bgcolor\\\":\\\"#E5ECF6\\\",\\\"caxis\\\":{\\\"gridcolor\\\":\\\"white\\\",\\\"ticks\\\":\\\"\\\",\\\"linecolor\\\":\\\"white\\\"},\\\"aaxis\\\":{\\\"gridcolor\\\":\\\"white\\\",\\\"ticks\\\":\\\"\\\",\\\"linecolor\\\":\\\"white\\\"}},\\\"annotationdefaults\\\":{\\\"arrowhead\\\":0,\\\"arrowwidth\\\":1,\\\"arrowcolor\\\":\\\"#2a3f5f\\\"},\\\"plot_bgcolor\\\":\\\"#E5ECF6\\\",\\\"title\\\":{\\\"x\\\":0.05},\\\"scene\\\":{\\\"xaxis\\\":{\\\"gridcolor\\\":\\\"white\\\",\\\"gridwidth\\\":2,\\\"backgroundcolor\\\":\\\"#E5ECF6\\\",\\\"ticks\\\":\\\"\\\",\\\"showbackground\\\":true,\\\"zerolinecolor\\\":\\\"white\\\",\\\"linecolor\\\":\\\"white\\\"},\\\"zaxis\\\":{\\\"gridcolor\\\":\\\"white\\\",\\\"gridwidth\\\":2,\\\"backgroundcolor\\\":\\\"#E5ECF6\\\",\\\"ticks\\\":\\\"\\\",\\\"showbackground\\\":true,\\\"zerolinecolor\\\":\\\"white\\\",\\\"linecolor\\\":\\\"white\\\"},\\\"yaxis\\\":{\\\"gridcolor\\\":\\\"white\\\",\\\"gridwidth\\\":2,\\\"backgroundcolor\\\":\\\"#E5ECF6\\\",\\\"ticks\\\":\\\"\\\",\\\"showbackground\\\":true,\\\"zerolinecolor\\\":\\\"white\\\",\\\"linecolor\\\":\\\"white\\\"}},\\\"colorway\\\":[\\\"#636efa\\\",\\\"#EF553B\\\",\\\"#00cc96\\\",\\\"#ab63fa\\\",\\\"#FFA15A\\\",\\\"#19d3f3\\\",\\\"#FF6692\\\",\\\"#B6E880\\\",\\\"#FF97FF\\\",\\\"#FECB52\\\"]},\\\"data\\\":{\\\"barpolar\\\":[{\\\"type\\\":\\\"barpolar\\\",\\\"marker\\\":{\\\"line\\\":{\\\"color\\\":\\\"#E5ECF6\\\",\\\"width\\\":0.5}}}],\\\"carpet\\\":[{\\\"aaxis\\\":{\\\"gridcolor\\\":\\\"white\\\",\\\"endlinecolor\\\":\\\"#2a3f5f\\\",\\\"minorgridcolor\\\":\\\"white\\\",\\\"startlinecolor\\\":\\\"#2a3f5f\\\",\\\"linecolor\\\":\\\"white\\\"},\\\"type\\\":\\\"carpet\\\",\\\"baxis\\\":{\\\"gridcolor\\\":\\\"white\\\",\\\"endlinecolor\\\":\\\"#2a3f5f\\\",\\\"minorgridcolor\\\":\\\"white\\\",\\\"startlinecolor\\\":\\\"#2a3f5f\\\",\\\"linecolor\\\":\\\"white\\\"}}],\\\"scatterpolar\\\":[{\\\"type\\\":\\\"scatterpolar\\\",\\\"marker\\\":{\\\"colorbar\\\":{\\\"ticks\\\":\\\"\\\",\\\"outlinewidth\\\":0}}}],\\\"parcoords\\\":[{\\\"line\\\":{\\\"colorbar\\\":{\\\"ticks\\\":\\\"\\\",\\\"outlinewidth\\\":0}},\\\"type\\\":\\\"parcoords\\\"}],\\\"scatter\\\":[{\\\"type\\\":\\\"scatter\\\",\\\"marker\\\":{\\\"colorbar\\\":{\\\"ticks\\\":\\\"\\\",\\\"outlinewidth\\\":0}}}],\\\"histogram2dcontour\\\":[{\\\"colorbar\\\":{\\\"ticks\\\":\\\"\\\",\\\"outlinewidth\\\":0},\\\"type\\\":\\\"histogram2dcontour\\\",\\\"colorscale\\\":[[0.0,\\\"#0d0887\\\"],[0.1111111111111111,\\\"#46039f\\\"],[0.2222222222222222,\\\"#7201a8\\\"],[0.3333333333333333,\\\"#9c179e\\\"],[0.4444444444444444,\\\"#bd3786\\\"],[0.5555555555555556,\\\"#d8576b\\\"],[0.6666666666666666,\\\"#ed7953\\\"],[0.7777777777777778,\\\"#fb9f3a\\\"],[0.8888888888888888,\\\"#fdca26\\\"],[1.0,\\\"#f0f921\\\"]]}],\\\"contour\\\":[{\\\"colorbar\\\":{\\\"ticks\\\":\\\"\\\",\\\"outlinewidth\\\":0},\\\"type\\\":\\\"contour\\\",\\\"colorscale\\\":[[0.0,\\\"#0d0887\\\"],[0.1111111111111111,\\\"#46039f\\\"],[0.2222222222222222,\\\"#7201a8\\\"],[0.3333333333333333,\\\"#9c179e\\\"],[0.4444444444444444,\\\"#bd3786\\\"],[0.5555555555555556,\\\"#d8576b\\\"],[0.6666666666666666,\\\"#ed7953\\\"],[0.7777777777777778,\\\"#fb9f3a\\\"],[0.8888888888888888,\\\"#fdca26\\\"],[1.0,\\\"#f0f921\\\"]]}],\\\"scattercarpet\\\":[{\\\"type\\\":\\\"scattercarpet\\\",\\\"marker\\\":{\\\"colorbar\\\":{\\\"ticks\\\":\\\"\\\",\\\"outlinewidth\\\":0}}}],\\\"mesh3d\\\":[{\\\"colorbar\\\":{\\\"ticks\\\":\\\"\\\",\\\"outlinewidth\\\":0},\\\"type\\\":\\\"mesh3d\\\"}],\\\"surface\\\":[{\\\"colorbar\\\":{\\\"ticks\\\":\\\"\\\",\\\"outlinewidth\\\":0},\\\"type\\\":\\\"surface\\\",\\\"colorscale\\\":[[0.0,\\\"#0d0887\\\"],[0.1111111111111111,\\\"#46039f\\\"],[0.2222222222222222,\\\"#7201a8\\\"],[0.3333333333333333,\\\"#9c179e\\\"],[0.4444444444444444,\\\"#bd3786\\\"],[0.5555555555555556,\\\"#d8576b\\\"],[0.6666666666666666,\\\"#ed7953\\\"],[0.7777777777777778,\\\"#fb9f3a\\\"],[0.8888888888888888,\\\"#fdca26\\\"],[1.0,\\\"#f0f921\\\"]]}],\\\"scattermapbox\\\":[{\\\"type\\\":\\\"scattermapbox\\\",\\\"marker\\\":{\\\"colorbar\\\":{\\\"ticks\\\":\\\"\\\",\\\"outlinewidth\\\":0}}}],\\\"scattergeo\\\":[{\\\"type\\\":\\\"scattergeo\\\",\\\"marker\\\":{\\\"colorbar\\\":{\\\"ticks\\\":\\\"\\\",\\\"outlinewidth\\\":0}}}],\\\"histogram\\\":[{\\\"type\\\":\\\"histogram\\\",\\\"marker\\\":{\\\"colorbar\\\":{\\\"ticks\\\":\\\"\\\",\\\"outlinewidth\\\":0}}}],\\\"pie\\\":[{\\\"type\\\":\\\"pie\\\",\\\"automargin\\\":true}],\\\"choropleth\\\":[{\\\"colorbar\\\":{\\\"ticks\\\":\\\"\\\",\\\"outlinewidth\\\":0},\\\"type\\\":\\\"choropleth\\\"}],\\\"heatmapgl\\\":[{\\\"colorbar\\\":{\\\"ticks\\\":\\\"\\\",\\\"outlinewidth\\\":0},\\\"type\\\":\\\"heatmapgl\\\",\\\"colorscale\\\":[[0.0,\\\"#0d0887\\\"],[0.1111111111111111,\\\"#46039f\\\"],[0.2222222222222222,\\\"#7201a8\\\"],[0.3333333333333333,\\\"#9c179e\\\"],[0.4444444444444444,\\\"#bd3786\\\"],[0.5555555555555556,\\\"#d8576b\\\"],[0.6666666666666666,\\\"#ed7953\\\"],[0.7777777777777778,\\\"#fb9f3a\\\"],[0.8888888888888888,\\\"#fdca26\\\"],[1.0,\\\"#f0f921\\\"]]}],\\\"bar\\\":[{\\\"type\\\":\\\"bar\\\",\\\"error_y\\\":{\\\"color\\\":\\\"#2a3f5f\\\"},\\\"error_x\\\":{\\\"color\\\":\\\"#2a3f5f\\\"},\\\"marker\\\":{\\\"line\\\":{\\\"color\\\":\\\"#E5ECF6\\\",\\\"width\\\":0.5}}}],\\\"heatmap\\\":[{\\\"colorbar\\\":{\\\"ticks\\\":\\\"\\\",\\\"outlinewidth\\\":0},\\\"type\\\":\\\"heatmap\\\",\\\"colorscale\\\":[[0.0,\\\"#0d0887\\\"],[0.1111111111111111,\\\"#46039f\\\"],[0.2222222222222222,\\\"#7201a8\\\"],[0.3333333333333333,\\\"#9c179e\\\"],[0.4444444444444444,\\\"#bd3786\\\"],[0.5555555555555556,\\\"#d8576b\\\"],[0.6666666666666666,\\\"#ed7953\\\"],[0.7777777777777778,\\\"#fb9f3a\\\"],[0.8888888888888888,\\\"#fdca26\\\"],[1.0,\\\"#f0f921\\\"]]}],\\\"contourcarpet\\\":[{\\\"colorbar\\\":{\\\"ticks\\\":\\\"\\\",\\\"outlinewidth\\\":0},\\\"type\\\":\\\"contourcarpet\\\"}],\\\"table\\\":[{\\\"type\\\":\\\"table\\\",\\\"header\\\":{\\\"line\\\":{\\\"color\\\":\\\"white\\\"},\\\"fill\\\":{\\\"color\\\":\\\"#C8D4E3\\\"}},\\\"cells\\\":{\\\"line\\\":{\\\"color\\\":\\\"white\\\"},\\\"fill\\\":{\\\"color\\\":\\\"#EBF0F8\\\"}}}],\\\"scatter3d\\\":[{\\\"line\\\":{\\\"colorbar\\\":{\\\"ticks\\\":\\\"\\\",\\\"outlinewidth\\\":0}},\\\"type\\\":\\\"scatter3d\\\",\\\"marker\\\":{\\\"colorbar\\\":{\\\"ticks\\\":\\\"\\\",\\\"outlinewidth\\\":0}}}],\\\"scattergl\\\":[{\\\"type\\\":\\\"scattergl\\\",\\\"marker\\\":{\\\"colorbar\\\":{\\\"ticks\\\":\\\"\\\",\\\"outlinewidth\\\":0}}}],\\\"histogram2d\\\":[{\\\"colorbar\\\":{\\\"ticks\\\":\\\"\\\",\\\"outlinewidth\\\":0},\\\"type\\\":\\\"histogram2d\\\",\\\"colorscale\\\":[[0.0,\\\"#0d0887\\\"],[0.1111111111111111,\\\"#46039f\\\"],[0.2222222222222222,\\\"#7201a8\\\"],[0.3333333333333333,\\\"#9c179e\\\"],[0.4444444444444444,\\\"#bd3786\\\"],[0.5555555555555556,\\\"#d8576b\\\"],[0.6666666666666666,\\\"#ed7953\\\"],[0.7777777777777778,\\\"#fb9f3a\\\"],[0.8888888888888888,\\\"#fdca26\\\"],[1.0,\\\"#f0f921\\\"]]}],\\\"scatterternary\\\":[{\\\"type\\\":\\\"scatterternary\\\",\\\"marker\\\":{\\\"colorbar\\\":{\\\"ticks\\\":\\\"\\\",\\\"outlinewidth\\\":0}}}],\\\"scatterpolargl\\\":[{\\\"type\\\":\\\"scatterpolargl\\\",\\\"marker\\\":{\\\"colorbar\\\":{\\\"ticks\\\":\\\"\\\",\\\"outlinewidth\\\":0}}}]}},\\\"margin\\\":{\\\"l\\\":50,\\\"b\\\":50,\\\"r\\\":50,\\\"t\\\":60},\\\"yaxis\\\":{\\\"title\\\":{\\\"text\\\":\\\"współczynnik korelacji\\\"}},\\\"title\\\":{\\\"text\\\":\\\"Oscylacje współczynnika korelacji\\\"}},{\\\"showLink\\\":false,\\\"editable\\\":false,\\\"responsive\\\":true,\\\"staticPlot\\\":false,\\\"scrollZoom\\\":true}); gd.on(\\\"plotly_hover\\\",(function (data){var filtered_data=WebIO.PlotlyCommands.filterEventData(gd,data,\\\"hover\\\"); return !(filtered_data.isnil) ? (WebIO.setval({\\\"name\\\":\\\"hover\\\",\\\"scope\\\":\\\"10493613120871778609\\\",\\\"id\\\":\\\"5719460659536539677\\\",\\\"type\\\":\\\"observable\\\"},filtered_data.out)) : undefined})); gd.on(\\\"plotly_unhover\\\",(function (){return WebIO.setval({\\\"name\\\":\\\"hover\\\",\\\"scope\\\":\\\"10493613120871778609\\\",\\\"id\\\":\\\"5719460659536539677\\\",\\\"type\\\":\\\"observable\\\"},{})})); gd.on(\\\"plotly_selected\\\",(function (data){var filtered_data=WebIO.PlotlyCommands.filterEventData(gd,data,\\\"selected\\\"); return !(filtered_data.isnil) ? (WebIO.setval({\\\"name\\\":\\\"selected\\\",\\\"scope\\\":\\\"10493613120871778609\\\",\\\"id\\\":\\\"17433287911693807892\\\",\\\"type\\\":\\\"observable\\\"},filtered_data.out)) : undefined})); gd.on(\\\"plotly_deselect\\\",(function (){return WebIO.setval({\\\"name\\\":\\\"selected\\\",\\\"scope\\\":\\\"10493613120871778609\\\",\\\"id\\\":\\\"17433287911693807892\\\",\\\"type\\\":\\\"observable\\\"},{})})); gd.on(\\\"plotly_relayout\\\",(function (data){var filtered_data=WebIO.PlotlyCommands.filterEventData(gd,data,\\\"relayout\\\"); return !(filtered_data.isnil) ? (WebIO.setval({\\\"name\\\":\\\"relayout\\\",\\\"scope\\\":\\\"10493613120871778609\\\",\\\"id\\\":\\\"10497494528101788926\\\",\\\"type\\\":\\\"observable\\\"},filtered_data.out)) : undefined})); return gd.on(\\\"plotly_click\\\",(function (data){var filtered_data=WebIO.PlotlyCommands.filterEventData(gd,data,\\\"click\\\"); return !(filtered_data.isnil) ? (WebIO.setval({\\\"name\\\":\\\"click\\\",\\\"scope\\\":\\\"10493613120871778609\\\",\\\"id\\\":\\\"14778979152806736563\\\",\\\"type\\\":\\\"observable\\\"},filtered_data.out)) : undefined}))}));\\n    (WebIO.importBlock({\\\"data\\\":[{\\\"name\\\":\\\"Plotly\\\",\\\"type\\\":\\\"js\\\",\\\"url\\\":\\\"\\/assetserver\\/3e2d063fcbfbf8797e7181829eb6f798910493eb-plotly.min.js\\\"},{\\\"name\\\":null,\\\"type\\\":\\\"js\\\",\\\"url\\\":\\\"\\/assetserver\\/588989ae0bd9d28bf0e53faaf41e2532b763e757-plotly_webio.bundle.js\\\"}],\\\"type\\\":\\\"async_block\\\"})).then((imports) => handler.apply(this, imports));\\n}\\n\"],\"observables\":{\"_toImage\":{\"sync\":false,\"id\":\"1188969123124623845\",\"value\":{}},\"hover\":{\"sync\":false,\"id\":\"5719460659536539677\",\"value\":{}},\"selected\":{\"sync\":false,\"id\":\"17433287911693807892\",\"value\":{}},\"__gd_contents\":{\"sync\":false,\"id\":\"6594362212004381472\",\"value\":{}},\"click\":{\"sync\":false,\"id\":\"14778979152806736563\",\"value\":{}},\"image\":{\"sync\":true,\"id\":\"13410999314973122663\",\"value\":\"\"},\"__get_gd_contents\":{\"sync\":false,\"id\":\"11212977739260303863\",\"value\":\"\"},\"_downloadImage\":{\"sync\":false,\"id\":\"17893975610987409643\",\"value\":{}},\"relayout\":{\"sync\":false,\"id\":\"10497494528101788926\",\"value\":{}},\"_commands\":{\"sync\":false,\"id\":\"953102045390588130\",\"value\":[]}}},\"children\":[{\"props\":{\"id\":\"plot-302af029-6fd5-471f-9a87-69f1994a6932\"},\"nodeType\":\"DOM\",\"type\":\"node\",\"instanceArgs\":{\"namespace\":\"html\",\"tag\":\"div\"},\"children\":[]}]},\n",
                      "        window,\n",
                      "    );\n",
                      "    })()\n",
                      "    </script>\n",
                      "</div>\n"
                     ],
                     "text/plain": [
                      "data: [\n",
                      "  \"scatter with fields type, x, and y\"\n",
                      "]\n",
                      "\n",
                      "layout: \"layout with fields margin, template, title, xaxis, and yaxis\"\n",
                      "\n"
                     ]
                    },
                    "execution_count": 29,
                    "metadata": {},
                    "output_type": "execute_result"
                   }}
                  ],
                  "source": [
                   "\n",
                   "plot(crosscor(x3, y), Layout(yaxis_title=\"współczynnik korelacji\", xaxis_title=\"lags\", title_text =\"Oscylacje współczynnika korelacji\"))"
                  ]
                 },
                 {
                  "cell_type": "code",
                  "execution_count": 42,
                  "metadata": {},
                  "outputs": [
                   {
                    "ename": "LoadError",
                    "evalue": "UndefVarError: x1 not defined",
                    "output_type": "error",
                    "traceback": [
                     "UndefVarError: x1 not defined",
                     "",
                     "Stacktrace:",
                     " [1] top-level scope",
                     "   @ In[42]:1",
                     " [2] eval",
                     "   @ .\\boot.jl:373 [inlined]",
                     " [3] include_string(mapexpr::typeof(REPL.softscope), mod::Module, code::String, filename::String)",
                     "   @ Base .\\loading.jl:1196"
                    ]
                   }
                  ],
                  "source": [
                   "corspearman(x1,y)\n",
                   "corspearman(x2, y)\n",
                   "corspearman(x3, y)"
                  ]
                 },
                 {
                  "cell_type": "code",
                  "execution_count": null,
                  "metadata": {},
                  "outputs": [],
                  "source": []
                 }
                ]}
                