{
 "cells": [
  {
   "cell_type": "code",
   "execution_count": 1,
   "metadata": {},
   "outputs": [
    {
     "data": {
      "text/html": [
       "<div class=\"data-frame\"><p>107,690 rows × 31 columns (omitted printing of 24 columns)</p><table class=\"data-frame\"><thead><tr><th></th><th>data_id</th><th>iso</th><th>event_id_cnty</th><th>event_id_no_cnty</th><th>event_date</th><th>year</th><th>time_precision</th></tr><tr><th></th><th title=\"Int64\">Int64</th><th title=\"Int64\">Int64</th><th title=\"String15\">String15</th><th title=\"Float64\">Float64</th><th title=\"String31\">String31</th><th title=\"Int64\">Int64</th><th title=\"Int64\">Int64</th></tr></thead><tbody><tr><th>1</th><td>8912977</td><td>356</td><td>IND107923</td><td>107923.0</td><td>18 March 2022</td><td>2022</td><td>1</td></tr><tr><th>2</th><td>8912990</td><td>356</td><td>IND107846</td><td>107846.0</td><td>18 March 2022</td><td>2022</td><td>1</td></tr><tr><th>3</th><td>8913012</td><td>356</td><td>IND107941</td><td>107941.0</td><td>18 March 2022</td><td>2022</td><td>1</td></tr><tr><th>4</th><td>8913089</td><td>356</td><td>IND107842</td><td>107842.0</td><td>18 March 2022</td><td>2022</td><td>1</td></tr><tr><th>5</th><td>8913091</td><td>356</td><td>IND107850</td><td>107850.0</td><td>18 March 2022</td><td>2022</td><td>1</td></tr><tr><th>6</th><td>8913095</td><td>356</td><td>IND107873</td><td>107873.0</td><td>18 March 2022</td><td>2022</td><td>1</td></tr><tr><th>7</th><td>8913119</td><td>356</td><td>IND107754</td><td>107754.0</td><td>18 March 2022</td><td>2022</td><td>2</td></tr><tr><th>8</th><td>8913123</td><td>356</td><td>IND107752</td><td>107752.0</td><td>18 March 2022</td><td>2022</td><td>2</td></tr><tr><th>9</th><td>8913124</td><td>356</td><td>IND107723</td><td>107723.0</td><td>18 March 2022</td><td>2022</td><td>2</td></tr><tr><th>10</th><td>8913127</td><td>356</td><td>IND107724</td><td>107724.0</td><td>18 March 2022</td><td>2022</td><td>2</td></tr><tr><th>11</th><td>8913129</td><td>356</td><td>IND107722</td><td>107722.0</td><td>18 March 2022</td><td>2022</td><td>2</td></tr><tr><th>12</th><td>8913272</td><td>356</td><td>IND107739</td><td>107739.0</td><td>18 March 2022</td><td>2022</td><td>1</td></tr><tr><th>13</th><td>8913276</td><td>356</td><td>IND107733</td><td>107733.0</td><td>18 March 2022</td><td>2022</td><td>1</td></tr><tr><th>14</th><td>8913277</td><td>356</td><td>IND107757</td><td>107757.0</td><td>18 March 2022</td><td>2022</td><td>1</td></tr><tr><th>15</th><td>8913280</td><td>356</td><td>IND107735</td><td>107735.0</td><td>18 March 2022</td><td>2022</td><td>1</td></tr><tr><th>16</th><td>8913297</td><td>356</td><td>IND107822</td><td>107822.0</td><td>18 March 2022</td><td>2022</td><td>1</td></tr><tr><th>17</th><td>8913300</td><td>356</td><td>IND107823</td><td>107823.0</td><td>18 March 2022</td><td>2022</td><td>1</td></tr><tr><th>18</th><td>8912924</td><td>356</td><td>IND107784</td><td>107784.0</td><td>17 March 2022</td><td>2022</td><td>1</td></tr><tr><th>19</th><td>8912926</td><td>356</td><td>IND107795</td><td>107795.0</td><td>17 March 2022</td><td>2022</td><td>1</td></tr><tr><th>20</th><td>8912938</td><td>356</td><td>IND107864</td><td>107864.0</td><td>17 March 2022</td><td>2022</td><td>1</td></tr><tr><th>21</th><td>8912973</td><td>356</td><td>IND107814</td><td>107814.0</td><td>17 March 2022</td><td>2022</td><td>1</td></tr><tr><th>22</th><td>8913028</td><td>356</td><td>IND107810</td><td>107810.0</td><td>17 March 2022</td><td>2022</td><td>1</td></tr><tr><th>23</th><td>8913031</td><td>356</td><td>IND107811</td><td>107811.0</td><td>17 March 2022</td><td>2022</td><td>1</td></tr><tr><th>24</th><td>8913084</td><td>356</td><td>IND107782</td><td>107782.0</td><td>17 March 2022</td><td>2022</td><td>1</td></tr><tr><th>25</th><td>8913096</td><td>356</td><td>IND107726</td><td>107726.0</td><td>17 March 2022</td><td>2022</td><td>1</td></tr><tr><th>26</th><td>8913108</td><td>356</td><td>IND107734</td><td>107734.0</td><td>17 March 2022</td><td>2022</td><td>1</td></tr><tr><th>27</th><td>8913118</td><td>356</td><td>IND107925</td><td>107925.0</td><td>17 March 2022</td><td>2022</td><td>1</td></tr><tr><th>28</th><td>8913133</td><td>356</td><td>IND107913</td><td>107913.0</td><td>17 March 2022</td><td>2022</td><td>1</td></tr><tr><th>29</th><td>8913143</td><td>356</td><td>IND107796</td><td>107796.0</td><td>17 March 2022</td><td>2022</td><td>1</td></tr><tr><th>30</th><td>8913159</td><td>356</td><td>IND107771</td><td>107771.0</td><td>17 March 2022</td><td>2022</td><td>1</td></tr><tr><th>&vellip;</th><td>&vellip;</td><td>&vellip;</td><td>&vellip;</td><td>&vellip;</td><td>&vellip;</td><td>&vellip;</td><td>&vellip;</td></tr></tbody></table></div>"
      ],
      "text/latex": [
       "\\begin{tabular}{r|cccccccc}\n",
       "\t& data\\_id & iso & event\\_id\\_cnty & event\\_id\\_no\\_cnty & event\\_date & year & time\\_precision & \\\\\n",
       "\t\\hline\n",
       "\t& Int64 & Int64 & String15 & Float64 & String31 & Int64 & Int64 & \\\\\n",
       "\t\\hline\n",
       "\t1 & 8912977 & 356 & IND107923 & 107923.0 & 18 March 2022 & 2022 & 1 & $\\dots$ \\\\\n",
       "\t2 & 8912990 & 356 & IND107846 & 107846.0 & 18 March 2022 & 2022 & 1 & $\\dots$ \\\\\n",
       "\t3 & 8913012 & 356 & IND107941 & 107941.0 & 18 March 2022 & 2022 & 1 & $\\dots$ \\\\\n",
       "\t4 & 8913089 & 356 & IND107842 & 107842.0 & 18 March 2022 & 2022 & 1 & $\\dots$ \\\\\n",
       "\t5 & 8913091 & 356 & IND107850 & 107850.0 & 18 March 2022 & 2022 & 1 & $\\dots$ \\\\\n",
       "\t6 & 8913095 & 356 & IND107873 & 107873.0 & 18 March 2022 & 2022 & 1 & $\\dots$ \\\\\n",
       "\t7 & 8913119 & 356 & IND107754 & 107754.0 & 18 March 2022 & 2022 & 2 & $\\dots$ \\\\\n",
       "\t8 & 8913123 & 356 & IND107752 & 107752.0 & 18 March 2022 & 2022 & 2 & $\\dots$ \\\\\n",
       "\t9 & 8913124 & 356 & IND107723 & 107723.0 & 18 March 2022 & 2022 & 2 & $\\dots$ \\\\\n",
       "\t10 & 8913127 & 356 & IND107724 & 107724.0 & 18 March 2022 & 2022 & 2 & $\\dots$ \\\\\n",
       "\t11 & 8913129 & 356 & IND107722 & 107722.0 & 18 March 2022 & 2022 & 2 & $\\dots$ \\\\\n",
       "\t12 & 8913272 & 356 & IND107739 & 107739.0 & 18 March 2022 & 2022 & 1 & $\\dots$ \\\\\n",
       "\t13 & 8913276 & 356 & IND107733 & 107733.0 & 18 March 2022 & 2022 & 1 & $\\dots$ \\\\\n",
       "\t14 & 8913277 & 356 & IND107757 & 107757.0 & 18 March 2022 & 2022 & 1 & $\\dots$ \\\\\n",
       "\t15 & 8913280 & 356 & IND107735 & 107735.0 & 18 March 2022 & 2022 & 1 & $\\dots$ \\\\\n",
       "\t16 & 8913297 & 356 & IND107822 & 107822.0 & 18 March 2022 & 2022 & 1 & $\\dots$ \\\\\n",
       "\t17 & 8913300 & 356 & IND107823 & 107823.0 & 18 March 2022 & 2022 & 1 & $\\dots$ \\\\\n",
       "\t18 & 8912924 & 356 & IND107784 & 107784.0 & 17 March 2022 & 2022 & 1 & $\\dots$ \\\\\n",
       "\t19 & 8912926 & 356 & IND107795 & 107795.0 & 17 March 2022 & 2022 & 1 & $\\dots$ \\\\\n",
       "\t20 & 8912938 & 356 & IND107864 & 107864.0 & 17 March 2022 & 2022 & 1 & $\\dots$ \\\\\n",
       "\t21 & 8912973 & 356 & IND107814 & 107814.0 & 17 March 2022 & 2022 & 1 & $\\dots$ \\\\\n",
       "\t22 & 8913028 & 356 & IND107810 & 107810.0 & 17 March 2022 & 2022 & 1 & $\\dots$ \\\\\n",
       "\t23 & 8913031 & 356 & IND107811 & 107811.0 & 17 March 2022 & 2022 & 1 & $\\dots$ \\\\\n",
       "\t24 & 8913084 & 356 & IND107782 & 107782.0 & 17 March 2022 & 2022 & 1 & $\\dots$ \\\\\n",
       "\t25 & 8913096 & 356 & IND107726 & 107726.0 & 17 March 2022 & 2022 & 1 & $\\dots$ \\\\\n",
       "\t26 & 8913108 & 356 & IND107734 & 107734.0 & 17 March 2022 & 2022 & 1 & $\\dots$ \\\\\n",
       "\t27 & 8913118 & 356 & IND107925 & 107925.0 & 17 March 2022 & 2022 & 1 & $\\dots$ \\\\\n",
       "\t28 & 8913133 & 356 & IND107913 & 107913.0 & 17 March 2022 & 2022 & 1 & $\\dots$ \\\\\n",
       "\t29 & 8913143 & 356 & IND107796 & 107796.0 & 17 March 2022 & 2022 & 1 & $\\dots$ \\\\\n",
       "\t30 & 8913159 & 356 & IND107771 & 107771.0 & 17 March 2022 & 2022 & 1 & $\\dots$ \\\\\n",
       "\t$\\dots$ & $\\dots$ & $\\dots$ & $\\dots$ & $\\dots$ & $\\dots$ & $\\dots$ & $\\dots$ &  \\\\\n",
       "\\end{tabular}\n"
      ],
      "text/plain": [
       "\u001b[1m107690×31 DataFrame\u001b[0m\n",
       "\u001b[1m    Row \u001b[0m│\u001b[1m data_id \u001b[0m\u001b[1m iso   \u001b[0m\u001b[1m event_id_cnty \u001b[0m\u001b[1m event_id_no_cnty \u001b[0m\u001b[1m event_date      \u001b[0m\u001b[1m ye\u001b[0m ⋯\n",
       "\u001b[1m        \u001b[0m│\u001b[90m Int64   \u001b[0m\u001b[90m Int64 \u001b[0m\u001b[90m String15      \u001b[0m\u001b[90m Float64          \u001b[0m\u001b[90m String31        \u001b[0m\u001b[90m In\u001b[0m ⋯\n",
       "────────┼───────────────────────────────────────────────────────────────────────\n",
       "      1 │ 8912977    356  IND107923              107923.0  18 March 2022     2 ⋯\n",
       "      2 │ 8912990    356  IND107846              107846.0  18 March 2022     2\n",
       "      3 │ 8913012    356  IND107941              107941.0  18 March 2022     2\n",
       "      4 │ 8913089    356  IND107842              107842.0  18 March 2022     2\n",
       "      5 │ 8913091    356  IND107850              107850.0  18 March 2022     2 ⋯\n",
       "      6 │ 8913095    356  IND107873              107873.0  18 March 2022     2\n",
       "      7 │ 8913119    356  IND107754              107754.0  18 March 2022     2\n",
       "      8 │ 8913123    356  IND107752              107752.0  18 March 2022     2\n",
       "      9 │ 8913124    356  IND107723              107723.0  18 March 2022     2 ⋯\n",
       "     10 │ 8913127    356  IND107724              107724.0  18 March 2022     2\n",
       "     11 │ 8913129    356  IND107722              107722.0  18 March 2022     2\n",
       "   ⋮    │    ⋮       ⋮          ⋮               ⋮                 ⋮            ⋱\n",
       " 107681 │ 5488453    356  IND4                        4.0  01 January 2016   2\n",
       " 107682 │ 5491245    356  IND5                        5.0  01 January 2016   2 ⋯\n",
       " 107683 │ 5492174    356  IND6                        6.0  01 January 2016   2\n",
       " 107684 │ 5492810    356  IND7                        7.0  01 January 2016   2\n",
       " 107685 │ 5493466    356  IND8                        8.0  01 January 2016   2\n",
       " 107686 │ 5494159    356  IND9                        9.0  01 January 2016   2 ⋯\n",
       " 107687 │ 5603486    356  IND51303                51303.0  01 January 2016   2\n",
       " 107688 │ 6072644    356  IND49232                49232.0  01 January 2016   2\n",
       " 107689 │ 6257234    356  IND10                      10.0  01 January 2016   2\n",
       " 107690 │ 8543376    356  IND49233                49233.0  01 January 2016   2 ⋯\n",
       "\u001b[36m                                              26 columns and 107669 rows omitted\u001b[0m"
      ]
     },
     "execution_count": 1,
     "metadata": {},
     "output_type": "execute_result"
    }
   ],
   "source": [
    "using FilePaths, VegaLite, CSV, DataFrames, StatsKit, Plots, VegaDatasets, Query; gr();\n",
    "\n",
    "path = \"../data/2016-2022.csv\"\n",
    "df = DataFrame(CSV.File(path))"
   ]
  },
  {
   "cell_type": "code",
   "execution_count": 2,
   "metadata": {},
   "outputs": [
    {
     "data": {
      "text/html": [
       "<div class=\"data-frame\"><p>16,890 rows × 6 columns (omitted printing of 2 columns)</p><table class=\"data-frame\"><thead><tr><th></th><th>event_date</th><th>event_type</th><th>sub_event_type</th><th>location</th></tr><tr><th></th><th title=\"String31\">String31</th><th title=\"String31\">String31</th><th title=\"String\">String</th><th title=\"String31\">String31</th></tr></thead><tbody><tr><th>1</th><td>31 December 2021</td><td>Protests</td><td>Peaceful protest</td><td>Khour</td></tr><tr><th>2</th><td>31 December 2021</td><td>Riots</td><td>Mob violence</td><td>Delhi - Rajendra Nagar</td></tr><tr><th>3</th><td>31 December 2021</td><td>Riots</td><td>Mob violence</td><td>Chuslewar</td></tr><tr><th>4</th><td>31 December 2021</td><td>Protests</td><td>Peaceful protest</td><td>Jalandhar</td></tr><tr><th>5</th><td>31 December 2021</td><td>Protests</td><td>Peaceful protest</td><td>Bathinda</td></tr><tr><th>6</th><td>31 December 2021</td><td>Protests</td><td>Peaceful protest</td><td>Patiala</td></tr><tr><th>7</th><td>31 December 2021</td><td>Protests</td><td>Peaceful protest</td><td>Mansa</td></tr><tr><th>8</th><td>31 December 2021</td><td>Protests</td><td>Peaceful protest</td><td>Sopore</td></tr><tr><th>9</th><td>31 December 2021</td><td>Protests</td><td>Peaceful protest</td><td>Heirok</td></tr><tr><th>10</th><td>31 December 2021</td><td>Protests</td><td>Peaceful protest</td><td>Jammu</td></tr><tr><th>11</th><td>31 December 2021</td><td>Violence against civilians</td><td>Attack</td><td>Aizawl</td></tr><tr><th>12</th><td>31 December 2021</td><td>Strategic developments</td><td>Disrupted weapons use</td><td>Saiha</td></tr><tr><th>13</th><td>31 December 2021</td><td>Protests</td><td>Peaceful protest</td><td>Sardarpur</td></tr><tr><th>14</th><td>31 December 2021</td><td>Battles</td><td>Armed clash</td><td>Srinagar</td></tr><tr><th>15</th><td>31 December 2021</td><td>Protests</td><td>Peaceful protest</td><td>Komarada</td></tr><tr><th>16</th><td>31 December 2021</td><td>Protests</td><td>Peaceful protest</td><td>Tarn Taran</td></tr><tr><th>17</th><td>31 December 2021</td><td>Protests</td><td>Peaceful protest</td><td>Nawanshahr</td></tr><tr><th>18</th><td>31 December 2021</td><td>Protests</td><td>Peaceful protest</td><td>Muktsar</td></tr><tr><th>19</th><td>31 December 2021</td><td>Protests</td><td>Peaceful protest</td><td>Jalandhar</td></tr><tr><th>20</th><td>31 December 2021</td><td>Protests</td><td>Peaceful protest</td><td>Bathinda</td></tr><tr><th>21</th><td>31 December 2021</td><td>Protests</td><td>Peaceful protest</td><td>Patiala</td></tr><tr><th>22</th><td>31 December 2021</td><td>Protests</td><td>Peaceful protest</td><td>Chandigarh</td></tr><tr><th>23</th><td>31 December 2021</td><td>Protests</td><td>Peaceful protest</td><td>Amritsar</td></tr><tr><th>24</th><td>31 December 2021</td><td>Protests</td><td>Peaceful protest</td><td>Mansa</td></tr><tr><th>&vellip;</th><td>&vellip;</td><td>&vellip;</td><td>&vellip;</td><td>&vellip;</td></tr></tbody></table></div>"
      ],
      "text/latex": [
       "\\begin{tabular}{r|ccccc}\n",
       "\t& event\\_date & event\\_type & sub\\_event\\_type & location & \\\\\n",
       "\t\\hline\n",
       "\t& String31 & String31 & String & String31 & \\\\\n",
       "\t\\hline\n",
       "\t1 & 31 December 2021 & Protests & Peaceful protest & Khour & $\\dots$ \\\\\n",
       "\t2 & 31 December 2021 & Riots & Mob violence & Delhi - Rajendra Nagar & $\\dots$ \\\\\n",
       "\t3 & 31 December 2021 & Riots & Mob violence & Chuslewar & $\\dots$ \\\\\n",
       "\t4 & 31 December 2021 & Protests & Peaceful protest & Jalandhar & $\\dots$ \\\\\n",
       "\t5 & 31 December 2021 & Protests & Peaceful protest & Bathinda & $\\dots$ \\\\\n",
       "\t6 & 31 December 2021 & Protests & Peaceful protest & Patiala & $\\dots$ \\\\\n",
       "\t7 & 31 December 2021 & Protests & Peaceful protest & Mansa & $\\dots$ \\\\\n",
       "\t8 & 31 December 2021 & Protests & Peaceful protest & Sopore & $\\dots$ \\\\\n",
       "\t9 & 31 December 2021 & Protests & Peaceful protest & Heirok & $\\dots$ \\\\\n",
       "\t10 & 31 December 2021 & Protests & Peaceful protest & Jammu & $\\dots$ \\\\\n",
       "\t11 & 31 December 2021 & Violence against civilians & Attack & Aizawl & $\\dots$ \\\\\n",
       "\t12 & 31 December 2021 & Strategic developments & Disrupted weapons use & Saiha & $\\dots$ \\\\\n",
       "\t13 & 31 December 2021 & Protests & Peaceful protest & Sardarpur & $\\dots$ \\\\\n",
       "\t14 & 31 December 2021 & Battles & Armed clash & Srinagar & $\\dots$ \\\\\n",
       "\t15 & 31 December 2021 & Protests & Peaceful protest & Komarada & $\\dots$ \\\\\n",
       "\t16 & 31 December 2021 & Protests & Peaceful protest & Tarn Taran & $\\dots$ \\\\\n",
       "\t17 & 31 December 2021 & Protests & Peaceful protest & Nawanshahr & $\\dots$ \\\\\n",
       "\t18 & 31 December 2021 & Protests & Peaceful protest & Muktsar & $\\dots$ \\\\\n",
       "\t19 & 31 December 2021 & Protests & Peaceful protest & Jalandhar & $\\dots$ \\\\\n",
       "\t20 & 31 December 2021 & Protests & Peaceful protest & Bathinda & $\\dots$ \\\\\n",
       "\t21 & 31 December 2021 & Protests & Peaceful protest & Patiala & $\\dots$ \\\\\n",
       "\t22 & 31 December 2021 & Protests & Peaceful protest & Chandigarh & $\\dots$ \\\\\n",
       "\t23 & 31 December 2021 & Protests & Peaceful protest & Amritsar & $\\dots$ \\\\\n",
       "\t24 & 31 December 2021 & Protests & Peaceful protest & Mansa & $\\dots$ \\\\\n",
       "\t$\\dots$ & $\\dots$ & $\\dots$ & $\\dots$ & $\\dots$ &  \\\\\n",
       "\\end{tabular}\n"
      ],
      "text/plain": [
       "\u001b[1m16890×6 DataFrame\u001b[0m\n",
       "\u001b[1m   Row \u001b[0m│\u001b[1m event_date       \u001b[0m\u001b[1m event_type                 \u001b[0m\u001b[1m sub_event_type   \u001b[0m\u001b[1m locat\u001b[0m ⋯\n",
       "\u001b[1m       \u001b[0m│\u001b[90m String31         \u001b[0m\u001b[90m String31                   \u001b[0m\u001b[90m String           \u001b[0m\u001b[90m Strin\u001b[0m ⋯\n",
       "───────┼────────────────────────────────────────────────────────────────────────\n",
       "     1 │ 31 December 2021  Protests                    Peaceful protest  Khour ⋯\n",
       "     2 │ 31 December 2021  Riots                       Mob violence      Delhi\n",
       "     3 │ 31 December 2021  Riots                       Mob violence      Chusl\n",
       "     4 │ 31 December 2021  Protests                    Peaceful protest  Jalan\n",
       "     5 │ 31 December 2021  Protests                    Peaceful protest  Bathi ⋯\n",
       "     6 │ 31 December 2021  Protests                    Peaceful protest  Patia\n",
       "     7 │ 31 December 2021  Protests                    Peaceful protest  Mansa\n",
       "     8 │ 31 December 2021  Protests                    Peaceful protest  Sopor\n",
       "   ⋮   │        ⋮                      ⋮                      ⋮                ⋱\n",
       " 16884 │ 01 January 2021   Protests                    Peaceful protest  Delhi ⋯\n",
       " 16885 │ 01 January 2021   Protests                    Peaceful protest  Delhi\n",
       " 16886 │ 01 January 2021   Protests                    Peaceful protest  Delhi\n",
       " 16887 │ 01 January 2021   Protests                    Peaceful protest  Delhi\n",
       " 16888 │ 01 January 2021   Protests                    Peaceful protest  Chand ⋯\n",
       " 16889 │ 01 January 2021   Protests                    Peaceful protest  Jaisi\n",
       " 16890 │ 01 January 2021   Violence against civilians  Attack            Khair\n",
       "\u001b[36m                                                3 columns and 16875 rows omitted\u001b[0m"
      ]
     },
     "metadata": {},
     "output_type": "display_data"
    }
   ],
   "source": [
    "#wykorzystałam element kodu Hani by stworzyć mapki roczne\n",
    "df_2021 = @from i in df begin\n",
    "    @where i.year == 2021\n",
    "    @select {i.event_date, i.event_type, i.sub_event_type, i.location, i.latitude, i.longitude}\n",
    "    @collect DataFrame\n",
    "end\n",
    "df_2021"
   ]
  },
  {
   "cell_type": "code",
   "execution_count": 5,
   "metadata": {},
   "outputs": [
    {
     "ename": "ErrorException",
     "evalue": "type Symbol has no field json",
     "output_type": "error",
     "traceback": [
      "type Symbol has no field json\n",
      "\n",
      "Stacktrace:\n",
      "  [1] getproperty(x::Symbol, f::Symbol)\n",
      "    @ Base .\\Base.jl:42\n",
      "  [2] top-level scope\n",
      "    @ c:\\Users\\kkarb\\OneDrive\\Pulpit\\projektpm\\mapa2021.ipynb:1\n",
      "  [3] eval\n",
      "    @ .\\boot.jl:373 [inlined]\n",
      "  [4] include_string(mapexpr::typeof(REPL.softscope), mod::Module, code::String, filename::String)\n",
      "    @ Base .\\loading.jl:1196\n",
      "  [5] #invokelatest#2\n",
      "    @ .\\essentials.jl:716 [inlined]\n",
      "  [6] invokelatest\n",
      "    @ .\\essentials.jl:714 [inlined]\n",
      "  [7] (::VSCodeServer.var\"#164#165\"{VSCodeServer.NotebookRunCellArguments, String})()\n",
      "    @ VSCodeServer c:\\Users\\kkarb\\.vscode\\extensions\\julialang.language-julia-insider-1.6.17\\scripts\\packages\\VSCodeServer\\src\\serve_notebook.jl:19\n",
      "  [8] withpath(f::VSCodeServer.var\"#164#165\"{VSCodeServer.NotebookRunCellArguments, String}, path::String)\n",
      "    @ VSCodeServer c:\\Users\\kkarb\\.vscode\\extensions\\julialang.language-julia-insider-1.6.17\\scripts\\packages\\VSCodeServer\\src\\repl.jl:184\n",
      "  [9] notebook_runcell_request(conn::VSCodeServer.JSONRPC.JSONRPCEndpoint{Base.PipeEndpoint, Base.PipeEndpoint}, params::VSCodeServer.NotebookRunCellArguments)\n",
      "    @ VSCodeServer c:\\Users\\kkarb\\.vscode\\extensions\\julialang.language-julia-insider-1.6.17\\scripts\\packages\\VSCodeServer\\src\\serve_notebook.jl:13\n",
      " [10] dispatch_msg(x::VSCodeServer.JSONRPC.JSONRPCEndpoint{Base.PipeEndpoint, Base.PipeEndpoint}, dispatcher::VSCodeServer.JSONRPC.MsgDispatcher, msg::Dict{String, Any})\n",
      "    @ VSCodeServer.JSONRPC c:\\Users\\kkarb\\.vscode\\extensions\\julialang.language-julia-insider-1.6.17\\scripts\\packages\\JSONRPC\\src\\typed.jl:67\n",
      " [11] serve_notebook(pipename::String, outputchannel_logger::Base.CoreLogging.SimpleLogger; crashreporting_pipename::String)\n",
      "    @ VSCodeServer c:\\Users\\kkarb\\.vscode\\extensions\\julialang.language-julia-insider-1.6.17\\scripts\\packages\\VSCodeServer\\src\\serve_notebook.jl:136\n",
      " [12] top-level scope\n",
      "    @ c:\\Users\\kkarb\\.vscode\\extensions\\julialang.language-julia-insider-1.6.17\\scripts\\notebook\\notebook.jl:32\n",
      " [13] include(mod::Module, _path::String)\n",
      "    @ Base .\\Base.jl:418\n",
      " [14] exec_options(opts::Base.JLOptions)\n",
      "    @ Base .\\client.jl:292\n",
      " [15] _start()\n",
      "    @ Base .\\client.jl:495"
     ]
    }
   ],
   "source": [
    "@vlplot(width=900, height=700) +\n",
    "@vlplot(\n",
    "    :circle,\n",
    "    data=df_2021,\n",
    "    projection={type=:equalEarth},\n",
    "    longitude=\"longitude\",\n",
    "    latitude=\"latitude\",\n",
    "    color=:event_type\n",
    ")"
   ]
  }
 ],
 "metadata": {
  "kernelspec": {
   "display_name": "Julia 1.7.2",
   "language": "julia",
   "name": "julia-1.7"
  },
  "language_info": {
   "file_extension": ".jl",
   "mimetype": "application/julia",
   "name": "julia",
   "version": "1.7.2"
  }
 },
 "nbformat": 4,
 "nbformat_minor": 4
}
